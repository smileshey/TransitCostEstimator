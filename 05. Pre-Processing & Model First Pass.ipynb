{
 "cells": [
  {
   "cell_type": "markdown",
   "id": "acea394b",
   "metadata": {},
   "source": [
    "# Pre-Processing & Model First Pass\n",
    "\n",
    "Within this section I'll preprocess and model my data.\n",
    "\n",
    "Before I model the data we finalized in the last section, I'll need to make sure all of the data are ready to be modeled. I'll preprocess the data which includes onehotencoding my categorical features, scale any continuous features, and remove unencessary features to create a model ready dataframe."
   ]
  },
  {
   "cell_type": "markdown",
   "id": "be9dcd24",
   "metadata": {},
   "source": [
    "### Library Imports "
   ]
  },
  {
   "cell_type": "code",
   "execution_count": 45,
   "id": "1cc12d7d",
   "metadata": {},
   "outputs": [],
   "source": [
    "import numpy as np\n",
    "import requests\n",
    "import pickle\n",
    "import time\n",
    "import seaborn as sns\n",
    "\n",
    "import pandas as pd\n",
    "from pandas import json_normalize\n",
    "\n",
    "import matplotlib.pyplot as plt\n",
    "from matplotlib.lines import Line2D\n",
    "\n",
    "import pycaret\n",
    "from pycaret.regression import *\n",
    "from pycaret.regression import RegressionExperiment\n",
    "\n",
    "from sklearn.model_selection import train_test_split, GridSearchCV\n",
    "from sklearn.pipeline import Pipeline\n",
    "from sklearn.naive_bayes import MultinomialNB\n",
    "from sklearn.linear_model import LogisticRegression\n",
    "from sklearn.metrics import confusion_matrix, ConfusionMatrixDisplay\n",
    "from sklearn.feature_extraction.text import CountVectorizer, TfidfVectorizer\n",
    "from sklearn.preprocessing import StandardScaler,OneHotEncoder\n",
    "\n",
    "from scipy.stats import zscore"
   ]
  },
  {
   "cell_type": "markdown",
   "id": "3dc76852",
   "metadata": {},
   "source": [
    "### Data Imports"
   ]
  },
  {
   "cell_type": "code",
   "execution_count": 46,
   "id": "75be0365",
   "metadata": {},
   "outputs": [],
   "source": [
    "with open('pickles/df.pkl', 'rb') as f:\n",
    "    df = pickle.load(f)"
   ]
  },
  {
   "cell_type": "markdown",
   "id": "c96476b6",
   "metadata": {},
   "source": [
    "### Creating Model df\n",
    "\n",
    "Since many of the features in our df are not necessary, or useful, in the modelling process, I'll create a new dataframe that contains all of the features I'm interested as using within the model."
   ]
  },
  {
   "cell_type": "code",
   "execution_count": 47,
   "id": "eadda62e",
   "metadata": {
    "scrolled": true
   },
   "outputs": [
    {
     "data": {
      "text/html": [
       "<div>\n",
       "<style scoped>\n",
       "    .dataframe tbody tr th:only-of-type {\n",
       "        vertical-align: middle;\n",
       "    }\n",
       "\n",
       "    .dataframe tbody tr th {\n",
       "        vertical-align: top;\n",
       "    }\n",
       "\n",
       "    .dataframe thead th {\n",
       "        text-align: right;\n",
       "    }\n",
       "</style>\n",
       "<table border=\"1\" class=\"dataframe\">\n",
       "  <thead>\n",
       "    <tr style=\"text-align: right;\">\n",
       "      <th></th>\n",
       "      <th>country</th>\n",
       "      <th>city</th>\n",
       "      <th>start_year</th>\n",
       "      <th>end_year</th>\n",
       "      <th>rr?</th>\n",
       "      <th>length</th>\n",
       "      <th>tunnel_per</th>\n",
       "      <th>tunnel</th>\n",
       "      <th>elevated</th>\n",
       "      <th>at_grade</th>\n",
       "      <th>...</th>\n",
       "      <th>prcp</th>\n",
       "      <th>land_cost_year</th>\n",
       "      <th>price_income_ratio</th>\n",
       "      <th>mortgage_perc_income</th>\n",
       "      <th>affordability_index</th>\n",
       "      <th>urban?</th>\n",
       "      <th>rental_yield</th>\n",
       "      <th>price_rent_ratio</th>\n",
       "      <th>union_density</th>\n",
       "      <th>stations_per_km</th>\n",
       "    </tr>\n",
       "  </thead>\n",
       "  <tbody>\n",
       "    <tr>\n",
       "      <th>0</th>\n",
       "      <td>HK</td>\n",
       "      <td>Hong Kong</td>\n",
       "      <td>2000</td>\n",
       "      <td>2005</td>\n",
       "      <td>0.0</td>\n",
       "      <td>1.3</td>\n",
       "      <td>0.00</td>\n",
       "      <td>0.000</td>\n",
       "      <td>1.3</td>\n",
       "      <td>0.000</td>\n",
       "      <td>...</td>\n",
       "      <td>202.6</td>\n",
       "      <td>2003</td>\n",
       "      <td>6</td>\n",
       "      <td>40</td>\n",
       "      <td>0</td>\n",
       "      <td>1</td>\n",
       "      <td>4</td>\n",
       "      <td>8</td>\n",
       "      <td>21.69928571</td>\n",
       "      <td>0.769231</td>\n",
       "    </tr>\n",
       "    <tr>\n",
       "      <th>1</th>\n",
       "      <td>HK</td>\n",
       "      <td>Hong Kong</td>\n",
       "      <td>2001</td>\n",
       "      <td>2005</td>\n",
       "      <td>0.0</td>\n",
       "      <td>3.5</td>\n",
       "      <td>0.25</td>\n",
       "      <td>0.875</td>\n",
       "      <td>0.0</td>\n",
       "      <td>2.625</td>\n",
       "      <td>...</td>\n",
       "      <td>202.6</td>\n",
       "      <td>2003</td>\n",
       "      <td>6</td>\n",
       "      <td>40</td>\n",
       "      <td>0</td>\n",
       "      <td>1</td>\n",
       "      <td>4</td>\n",
       "      <td>8</td>\n",
       "      <td>21.69928571</td>\n",
       "      <td>0.571429</td>\n",
       "    </tr>\n",
       "    <tr>\n",
       "      <th>2</th>\n",
       "      <td>HK</td>\n",
       "      <td>Hong Kong</td>\n",
       "      <td>1986</td>\n",
       "      <td>1989</td>\n",
       "      <td>0.0</td>\n",
       "      <td>4.6</td>\n",
       "      <td>1.00</td>\n",
       "      <td>4.600</td>\n",
       "      <td>0.0</td>\n",
       "      <td>0.000</td>\n",
       "      <td>...</td>\n",
       "      <td>202.6</td>\n",
       "      <td>1988</td>\n",
       "      <td>1</td>\n",
       "      <td>13</td>\n",
       "      <td>1</td>\n",
       "      <td>1</td>\n",
       "      <td>6</td>\n",
       "      <td>4</td>\n",
       "      <td>21.69928571</td>\n",
       "      <td>0.217391</td>\n",
       "    </tr>\n",
       "    <tr>\n",
       "      <th>3</th>\n",
       "      <td>HK</td>\n",
       "      <td>Hong Kong</td>\n",
       "      <td>1997</td>\n",
       "      <td>2001</td>\n",
       "      <td>0.0</td>\n",
       "      <td>2.1</td>\n",
       "      <td>1.00</td>\n",
       "      <td>2.100</td>\n",
       "      <td>0.0</td>\n",
       "      <td>0.000</td>\n",
       "      <td>...</td>\n",
       "      <td>202.6</td>\n",
       "      <td>1999</td>\n",
       "      <td>1</td>\n",
       "      <td>13</td>\n",
       "      <td>1</td>\n",
       "      <td>1</td>\n",
       "      <td>4</td>\n",
       "      <td>5</td>\n",
       "      <td>21.69928571</td>\n",
       "      <td>0.000000</td>\n",
       "    </tr>\n",
       "    <tr>\n",
       "      <th>4</th>\n",
       "      <td>HK</td>\n",
       "      <td>Hong Kong</td>\n",
       "      <td>2005</td>\n",
       "      <td>2009</td>\n",
       "      <td>0.0</td>\n",
       "      <td>1.8</td>\n",
       "      <td>1.00</td>\n",
       "      <td>1.800</td>\n",
       "      <td>0.0</td>\n",
       "      <td>0.000</td>\n",
       "      <td>...</td>\n",
       "      <td>202.6</td>\n",
       "      <td>2007</td>\n",
       "      <td>15</td>\n",
       "      <td>96</td>\n",
       "      <td>0</td>\n",
       "      <td>1</td>\n",
       "      <td>3</td>\n",
       "      <td>19</td>\n",
       "      <td>21.69928571</td>\n",
       "      <td>0.555556</td>\n",
       "    </tr>\n",
       "  </tbody>\n",
       "</table>\n",
       "<p>5 rows × 86 columns</p>\n",
       "</div>"
      ],
      "text/plain": [
       "  country       city  start_year  end_year  rr?  length  tunnel_per  tunnel  \\\n",
       "0      HK  Hong Kong        2000      2005  0.0     1.3        0.00   0.000   \n",
       "1      HK  Hong Kong        2001      2005  0.0     3.5        0.25   0.875   \n",
       "2      HK  Hong Kong        1986      1989  0.0     4.6        1.00   4.600   \n",
       "3      HK  Hong Kong        1997      2001  0.0     2.1        1.00   2.100   \n",
       "4      HK  Hong Kong        2005      2009  0.0     1.8        1.00   1.800   \n",
       "\n",
       "   elevated  at_grade  ...   prcp  land_cost_year price_income_ratio  \\\n",
       "0       1.3     0.000  ...  202.6            2003                  6   \n",
       "1       0.0     2.625  ...  202.6            2003                  6   \n",
       "2       0.0     0.000  ...  202.6            1988                  1   \n",
       "3       0.0     0.000  ...  202.6            1999                  1   \n",
       "4       0.0     0.000  ...  202.6            2007                 15   \n",
       "\n",
       "   mortgage_perc_income affordability_index urban?  rental_yield  \\\n",
       "0                    40                   0      1             4   \n",
       "1                    40                   0      1             4   \n",
       "2                    13                   1      1             6   \n",
       "3                    13                   1      1             4   \n",
       "4                    96                   0      1             3   \n",
       "\n",
       "   price_rent_ratio  union_density  stations_per_km  \n",
       "0                 8    21.69928571         0.769231  \n",
       "1                 8    21.69928571         0.571429  \n",
       "2                 4    21.69928571         0.217391  \n",
       "3                 5    21.69928571         0.000000  \n",
       "4                19    21.69928571         0.555556  \n",
       "\n",
       "[5 rows x 86 columns]"
      ]
     },
     "execution_count": 47,
     "metadata": {},
     "output_type": "execute_result"
    }
   ],
   "source": [
    "df.head(5)"
   ]
  },
  {
   "cell_type": "code",
   "execution_count": 48,
   "id": "d1dbda93",
   "metadata": {},
   "outputs": [],
   "source": [
    "drop_cols = ['country','city','start_year','end_year','cost','currency','cost_km','cost_real','cost_km_2023','time_diff','lat','lng','wrb_class_name']\n",
    "df_model = df.drop(columns =drop_cols)"
   ]
  },
  {
   "cell_type": "code",
   "execution_count": 49,
   "id": "36f90c9c",
   "metadata": {},
   "outputs": [],
   "source": [
    "def convert_str_to_float(val):\n",
    "    if isinstance(val, str):\n",
    "        return float(val.replace(',', ''))\n",
    "    return val\n",
    "\n",
    "cols_to_exclude = ['region', 'sub_region','train_type']\n",
    "df_model.loc[:, ~df_model.columns.isin(cols_to_exclude)] = df_model.loc[:, ~df_model.columns.isin(cols_to_exclude)].applymap(convert_str_to_float)"
   ]
  },
  {
   "cell_type": "code",
   "execution_count": 50,
   "id": "4dd6b10e",
   "metadata": {},
   "outputs": [
    {
     "name": "stdout",
     "output_type": "stream",
     "text": [
      "['MRT' 'Light Rail' 'Tram' 'Regional Rail' 'Monorail' 'Streetcar' 'APM']\n"
     ]
    }
   ],
   "source": [
    "print(df_model['train_type'].unique())\n"
   ]
  },
  {
   "cell_type": "markdown",
   "id": "89826806",
   "metadata": {},
   "source": [
    "### Data Type Subsets\n",
    "\n",
    "Our data contains several types of data: continuous, binary, ordinal, and categorical. I'd like to create lists of this data types before proceeding."
   ]
  },
  {
   "cell_type": "code",
   "execution_count": 55,
   "id": "d5898260",
   "metadata": {},
   "outputs": [],
   "source": [
    "cont_feats = df_model.drop(columns=['region', 'sub_region','wrb_class_value','cost_real_2023','train_type']).columns.tolist()\n",
    "cat_feats = ['region', 'sub_region', 'train_type', 'wrb_class_value']"
   ]
  },
  {
   "cell_type": "markdown",
   "id": "fcf4140d",
   "metadata": {},
   "source": [
    "As noted above, there are several binary features in this dataset. I'll include these features within the continuous features as the downside for scaling a binary feature would simply be a loss of interpretability. "
   ]
  },
  {
   "cell_type": "markdown",
   "id": "08f03504",
   "metadata": {},
   "source": [
    "### PyCaret Setup"
   ]
  },
  {
   "cell_type": "markdown",
   "id": "9069a048",
   "metadata": {},
   "source": [
    "#### Modelling with Pycaret"
   ]
  },
  {
   "cell_type": "code",
   "execution_count": 56,
   "id": "f665f7b8",
   "metadata": {},
   "outputs": [
    {
     "name": "stdout",
     "output_type": "stream",
     "text": [
      "True\n"
     ]
    }
   ],
   "source": [
    "print('cost_real_2023' in df_model.columns)"
   ]
  },
  {
   "cell_type": "code",
   "execution_count": 57,
   "id": "f31df04f",
   "metadata": {},
   "outputs": [
    {
     "name": "stdout",
     "output_type": "stream",
     "text": [
      "Data for Modeling: (1414, 73)\n",
      "Unseen Data For Predictions: (250, 73)\n"
     ]
    }
   ],
   "source": [
    "data = df_model.sample(frac=0.85, random_state=786)\n",
    "data_unseen = df_model.drop(data.index)\n",
    "\n",
    "print('Data for Modeling: ' + str(data.shape))\n",
    "print('Unseen Data For Predictions: ' + str(data_unseen.shape))"
   ]
  },
  {
   "cell_type": "code",
   "execution_count": 58,
   "id": "8e0e98ff",
   "metadata": {},
   "outputs": [],
   "source": [
    "s = setup(data,\n",
    "          target='cost_real_2023',\n",
    "          categorical_features=cat_feats,\n",
    "          numeric_features=cont_feats,\n",
    "          normalize=True,\n",
    "          normalize_method='zscore',\n",
    "          verbose=False\n",
    "         )"
   ]
  },
  {
   "cell_type": "code",
   "execution_count": 59,
   "id": "ddc40aa4",
   "metadata": {},
   "outputs": [
    {
     "data": {
      "text/html": [],
      "text/plain": [
       "<IPython.core.display.HTML object>"
      ]
     },
     "metadata": {},
     "output_type": "display_data"
    },
    {
     "data": {
      "text/html": [
       "<style type=\"text/css\">\n",
       "#T_f43d8 th {\n",
       "  text-align: left;\n",
       "}\n",
       "#T_f43d8_row0_col0, #T_f43d8_row0_col1, #T_f43d8_row0_col2, #T_f43d8_row0_col3, #T_f43d8_row0_col5, #T_f43d8_row0_col6, #T_f43d8_row1_col0, #T_f43d8_row1_col1, #T_f43d8_row1_col4, #T_f43d8_row1_col5, #T_f43d8_row1_col6, #T_f43d8_row2_col0, #T_f43d8_row2_col1, #T_f43d8_row2_col2, #T_f43d8_row2_col3, #T_f43d8_row2_col4, #T_f43d8_row2_col5, #T_f43d8_row2_col6, #T_f43d8_row3_col0, #T_f43d8_row3_col1, #T_f43d8_row3_col2, #T_f43d8_row3_col3, #T_f43d8_row3_col4, #T_f43d8_row3_col5, #T_f43d8_row3_col6, #T_f43d8_row4_col0, #T_f43d8_row4_col1, #T_f43d8_row4_col2, #T_f43d8_row4_col3, #T_f43d8_row4_col4, #T_f43d8_row4_col5, #T_f43d8_row4_col6, #T_f43d8_row5_col0, #T_f43d8_row5_col2, #T_f43d8_row5_col3, #T_f43d8_row5_col4, #T_f43d8_row5_col5, #T_f43d8_row5_col6, #T_f43d8_row6_col0, #T_f43d8_row6_col1, #T_f43d8_row6_col2, #T_f43d8_row6_col3, #T_f43d8_row6_col4, #T_f43d8_row6_col5, #T_f43d8_row6_col6, #T_f43d8_row7_col0, #T_f43d8_row7_col1, #T_f43d8_row7_col2, #T_f43d8_row7_col3, #T_f43d8_row7_col4, #T_f43d8_row7_col5, #T_f43d8_row7_col6, #T_f43d8_row8_col0, #T_f43d8_row8_col1, #T_f43d8_row8_col2, #T_f43d8_row8_col3, #T_f43d8_row8_col4, #T_f43d8_row8_col5, #T_f43d8_row8_col6, #T_f43d8_row9_col0, #T_f43d8_row9_col1, #T_f43d8_row9_col2, #T_f43d8_row9_col3, #T_f43d8_row9_col4, #T_f43d8_row9_col6, #T_f43d8_row10_col0, #T_f43d8_row10_col1, #T_f43d8_row10_col2, #T_f43d8_row10_col3, #T_f43d8_row10_col4, #T_f43d8_row10_col5, #T_f43d8_row11_col0, #T_f43d8_row11_col1, #T_f43d8_row11_col2, #T_f43d8_row11_col3, #T_f43d8_row11_col4, #T_f43d8_row11_col5, #T_f43d8_row11_col6, #T_f43d8_row12_col0, #T_f43d8_row12_col1, #T_f43d8_row12_col2, #T_f43d8_row12_col3, #T_f43d8_row12_col4, #T_f43d8_row12_col5, #T_f43d8_row12_col6, #T_f43d8_row13_col0, #T_f43d8_row13_col1, #T_f43d8_row13_col2, #T_f43d8_row13_col3, #T_f43d8_row13_col4, #T_f43d8_row13_col5, #T_f43d8_row13_col6, #T_f43d8_row14_col0, #T_f43d8_row14_col1, #T_f43d8_row14_col2, #T_f43d8_row14_col3, #T_f43d8_row14_col4, #T_f43d8_row14_col5, #T_f43d8_row14_col6, #T_f43d8_row15_col0, #T_f43d8_row15_col1, #T_f43d8_row15_col2, #T_f43d8_row15_col3, #T_f43d8_row15_col4, #T_f43d8_row15_col5, #T_f43d8_row15_col6, #T_f43d8_row16_col0, #T_f43d8_row16_col1, #T_f43d8_row16_col2, #T_f43d8_row16_col3, #T_f43d8_row16_col4, #T_f43d8_row16_col5, #T_f43d8_row16_col6, #T_f43d8_row17_col0, #T_f43d8_row17_col1, #T_f43d8_row17_col2, #T_f43d8_row17_col3, #T_f43d8_row17_col4, #T_f43d8_row17_col5, #T_f43d8_row17_col6 {\n",
       "  text-align: left;\n",
       "}\n",
       "#T_f43d8_row0_col4, #T_f43d8_row1_col2, #T_f43d8_row1_col3, #T_f43d8_row5_col1, #T_f43d8_row9_col5, #T_f43d8_row10_col6 {\n",
       "  text-align: left;\n",
       "  background-color: yellow;\n",
       "}\n",
       "#T_f43d8_row0_col7, #T_f43d8_row1_col7, #T_f43d8_row2_col7, #T_f43d8_row3_col7, #T_f43d8_row4_col7, #T_f43d8_row5_col7, #T_f43d8_row6_col7, #T_f43d8_row7_col7, #T_f43d8_row8_col7, #T_f43d8_row9_col7, #T_f43d8_row10_col7, #T_f43d8_row11_col7, #T_f43d8_row12_col7, #T_f43d8_row14_col7, #T_f43d8_row15_col7, #T_f43d8_row16_col7, #T_f43d8_row17_col7 {\n",
       "  text-align: left;\n",
       "  background-color: lightgrey;\n",
       "}\n",
       "#T_f43d8_row13_col7 {\n",
       "  text-align: left;\n",
       "  background-color: yellow;\n",
       "  background-color: lightgrey;\n",
       "}\n",
       "</style>\n",
       "<table id=\"T_f43d8\">\n",
       "  <thead>\n",
       "    <tr>\n",
       "      <th class=\"blank level0\" >&nbsp;</th>\n",
       "      <th id=\"T_f43d8_level0_col0\" class=\"col_heading level0 col0\" >Model</th>\n",
       "      <th id=\"T_f43d8_level0_col1\" class=\"col_heading level0 col1\" >MAE</th>\n",
       "      <th id=\"T_f43d8_level0_col2\" class=\"col_heading level0 col2\" >MSE</th>\n",
       "      <th id=\"T_f43d8_level0_col3\" class=\"col_heading level0 col3\" >RMSE</th>\n",
       "      <th id=\"T_f43d8_level0_col4\" class=\"col_heading level0 col4\" >R2</th>\n",
       "      <th id=\"T_f43d8_level0_col5\" class=\"col_heading level0 col5\" >RMSLE</th>\n",
       "      <th id=\"T_f43d8_level0_col6\" class=\"col_heading level0 col6\" >MAPE</th>\n",
       "      <th id=\"T_f43d8_level0_col7\" class=\"col_heading level0 col7\" >TT (Sec)</th>\n",
       "    </tr>\n",
       "  </thead>\n",
       "  <tbody>\n",
       "    <tr>\n",
       "      <th id=\"T_f43d8_level0_row0\" class=\"row_heading level0 row0\" >knn</th>\n",
       "      <td id=\"T_f43d8_row0_col0\" class=\"data row0 col0\" >K Neighbors Regressor</td>\n",
       "      <td id=\"T_f43d8_row0_col1\" class=\"data row0 col1\" >2744.6999</td>\n",
       "      <td id=\"T_f43d8_row0_col2\" class=\"data row0 col2\" >149193058.8000</td>\n",
       "      <td id=\"T_f43d8_row0_col3\" class=\"data row0 col3\" >9004.6479</td>\n",
       "      <td id=\"T_f43d8_row0_col4\" class=\"data row0 col4\" >0.0916</td>\n",
       "      <td id=\"T_f43d8_row0_col5\" class=\"data row0 col5\" >1.2029</td>\n",
       "      <td id=\"T_f43d8_row0_col6\" class=\"data row0 col6\" >21.3912</td>\n",
       "      <td id=\"T_f43d8_row0_col7\" class=\"data row0 col7\" >0.1190</td>\n",
       "    </tr>\n",
       "    <tr>\n",
       "      <th id=\"T_f43d8_level0_row1\" class=\"row_heading level0 row1\" >lightgbm</th>\n",
       "      <td id=\"T_f43d8_row1_col0\" class=\"data row1 col0\" >Light Gradient Boosting Machine</td>\n",
       "      <td id=\"T_f43d8_row1_col1\" class=\"data row1 col1\" >2710.3573</td>\n",
       "      <td id=\"T_f43d8_row1_col2\" class=\"data row1 col2\" >143901932.3970</td>\n",
       "      <td id=\"T_f43d8_row1_col3\" class=\"data row1 col3\" >8955.1461</td>\n",
       "      <td id=\"T_f43d8_row1_col4\" class=\"data row1 col4\" >0.0563</td>\n",
       "      <td id=\"T_f43d8_row1_col5\" class=\"data row1 col5\" >1.2651</td>\n",
       "      <td id=\"T_f43d8_row1_col6\" class=\"data row1 col6\" >24.7327</td>\n",
       "      <td id=\"T_f43d8_row1_col7\" class=\"data row1 col7\" >0.5430</td>\n",
       "    </tr>\n",
       "    <tr>\n",
       "      <th id=\"T_f43d8_level0_row2\" class=\"row_heading level0 row2\" >dummy</th>\n",
       "      <td id=\"T_f43d8_row2_col0\" class=\"data row2 col0\" >Dummy Regressor</td>\n",
       "      <td id=\"T_f43d8_row2_col1\" class=\"data row2 col1\" >3847.5274</td>\n",
       "      <td id=\"T_f43d8_row2_col2\" class=\"data row2 col2\" >149987855.6000</td>\n",
       "      <td id=\"T_f43d8_row2_col3\" class=\"data row2 col3\" >9252.8681</td>\n",
       "      <td id=\"T_f43d8_row2_col4\" class=\"data row2 col4\" >-0.0292</td>\n",
       "      <td id=\"T_f43d8_row2_col5\" class=\"data row2 col5\" >1.8550</td>\n",
       "      <td id=\"T_f43d8_row2_col6\" class=\"data row2 col6\" >22.2201</td>\n",
       "      <td id=\"T_f43d8_row2_col7\" class=\"data row2 col7\" >0.1260</td>\n",
       "    </tr>\n",
       "    <tr>\n",
       "      <th id=\"T_f43d8_level0_row3\" class=\"row_heading level0 row3\" >rf</th>\n",
       "      <td id=\"T_f43d8_row3_col0\" class=\"data row3 col0\" >Random Forest Regressor</td>\n",
       "      <td id=\"T_f43d8_row3_col1\" class=\"data row3 col1\" >2513.7942</td>\n",
       "      <td id=\"T_f43d8_row3_col2\" class=\"data row3 col2\" >205003203.6376</td>\n",
       "      <td id=\"T_f43d8_row3_col3\" class=\"data row3 col3\" >10844.2482</td>\n",
       "      <td id=\"T_f43d8_row3_col4\" class=\"data row3 col4\" >-0.7338</td>\n",
       "      <td id=\"T_f43d8_row3_col5\" class=\"data row3 col5\" >1.0270</td>\n",
       "      <td id=\"T_f43d8_row3_col6\" class=\"data row3 col6\" >17.8442</td>\n",
       "      <td id=\"T_f43d8_row3_col7\" class=\"data row3 col7\" >0.3130</td>\n",
       "    </tr>\n",
       "    <tr>\n",
       "      <th id=\"T_f43d8_level0_row4\" class=\"row_heading level0 row4\" >catboost</th>\n",
       "      <td id=\"T_f43d8_row4_col0\" class=\"data row4 col0\" >CatBoost Regressor</td>\n",
       "      <td id=\"T_f43d8_row4_col1\" class=\"data row4 col1\" >2430.1386</td>\n",
       "      <td id=\"T_f43d8_row4_col2\" class=\"data row4 col2\" >214504222.8320</td>\n",
       "      <td id=\"T_f43d8_row4_col3\" class=\"data row4 col3\" >10702.1681</td>\n",
       "      <td id=\"T_f43d8_row4_col4\" class=\"data row4 col4\" >-0.7909</td>\n",
       "      <td id=\"T_f43d8_row4_col5\" class=\"data row4 col5\" >1.0466</td>\n",
       "      <td id=\"T_f43d8_row4_col6\" class=\"data row4 col6\" >16.2913</td>\n",
       "      <td id=\"T_f43d8_row4_col7\" class=\"data row4 col7\" >0.5910</td>\n",
       "    </tr>\n",
       "    <tr>\n",
       "      <th id=\"T_f43d8_level0_row5\" class=\"row_heading level0 row5\" >par</th>\n",
       "      <td id=\"T_f43d8_row5_col0\" class=\"data row5 col0\" >Passive Aggressive Regressor</td>\n",
       "      <td id=\"T_f43d8_row5_col1\" class=\"data row5 col1\" >2219.1904</td>\n",
       "      <td id=\"T_f43d8_row5_col2\" class=\"data row5 col2\" >162007520.1004</td>\n",
       "      <td id=\"T_f43d8_row5_col3\" class=\"data row5 col3\" >9424.7973</td>\n",
       "      <td id=\"T_f43d8_row5_col4\" class=\"data row5 col4\" >-1.0773</td>\n",
       "      <td id=\"T_f43d8_row5_col5\" class=\"data row5 col5\" >1.0729</td>\n",
       "      <td id=\"T_f43d8_row5_col6\" class=\"data row5 col6\" >4.1670</td>\n",
       "      <td id=\"T_f43d8_row5_col7\" class=\"data row5 col7\" >0.1190</td>\n",
       "    </tr>\n",
       "    <tr>\n",
       "      <th id=\"T_f43d8_level0_row6\" class=\"row_heading level0 row6\" >gbr</th>\n",
       "      <td id=\"T_f43d8_row6_col0\" class=\"data row6 col0\" >Gradient Boosting Regressor</td>\n",
       "      <td id=\"T_f43d8_row6_col1\" class=\"data row6 col1\" >2719.2978</td>\n",
       "      <td id=\"T_f43d8_row6_col2\" class=\"data row6 col2\" >254245370.2926</td>\n",
       "      <td id=\"T_f43d8_row6_col3\" class=\"data row6 col3\" >12034.1376</td>\n",
       "      <td id=\"T_f43d8_row6_col4\" class=\"data row6 col4\" >-1.4648</td>\n",
       "      <td id=\"T_f43d8_row6_col5\" class=\"data row6 col5\" >1.1121</td>\n",
       "      <td id=\"T_f43d8_row6_col6\" class=\"data row6 col6\" >17.2265</td>\n",
       "      <td id=\"T_f43d8_row6_col7\" class=\"data row6 col7\" >0.1760</td>\n",
       "    </tr>\n",
       "    <tr>\n",
       "      <th id=\"T_f43d8_level0_row7\" class=\"row_heading level0 row7\" >huber</th>\n",
       "      <td id=\"T_f43d8_row7_col0\" class=\"data row7 col0\" >Huber Regressor</td>\n",
       "      <td id=\"T_f43d8_row7_col1\" class=\"data row7 col1\" >2245.1738</td>\n",
       "      <td id=\"T_f43d8_row7_col2\" class=\"data row7 col2\" >168244694.9050</td>\n",
       "      <td id=\"T_f43d8_row7_col3\" class=\"data row7 col3\" >9581.6458</td>\n",
       "      <td id=\"T_f43d8_row7_col4\" class=\"data row7 col4\" >-1.4755</td>\n",
       "      <td id=\"T_f43d8_row7_col5\" class=\"data row7 col5\" >1.0452</td>\n",
       "      <td id=\"T_f43d8_row7_col6\" class=\"data row7 col6\" >3.5153</td>\n",
       "      <td id=\"T_f43d8_row7_col7\" class=\"data row7 col7\" >0.1190</td>\n",
       "    </tr>\n",
       "    <tr>\n",
       "      <th id=\"T_f43d8_level0_row8\" class=\"row_heading level0 row8\" >ada</th>\n",
       "      <td id=\"T_f43d8_row8_col0\" class=\"data row8 col0\" >AdaBoost Regressor</td>\n",
       "      <td id=\"T_f43d8_row8_col1\" class=\"data row8 col1\" >5628.0376</td>\n",
       "      <td id=\"T_f43d8_row8_col2\" class=\"data row8 col2\" >249396599.0696</td>\n",
       "      <td id=\"T_f43d8_row8_col3\" class=\"data row8 col3\" >11905.0540</td>\n",
       "      <td id=\"T_f43d8_row8_col4\" class=\"data row8 col4\" >-1.4803</td>\n",
       "      <td id=\"T_f43d8_row8_col5\" class=\"data row8 col5\" >2.1198</td>\n",
       "      <td id=\"T_f43d8_row8_col6\" class=\"data row8 col6\" >35.7577</td>\n",
       "      <td id=\"T_f43d8_row8_col7\" class=\"data row8 col7\" >0.1420</td>\n",
       "    </tr>\n",
       "    <tr>\n",
       "      <th id=\"T_f43d8_level0_row9\" class=\"row_heading level0 row9\" >et</th>\n",
       "      <td id=\"T_f43d8_row9_col0\" class=\"data row9 col0\" >Extra Trees Regressor</td>\n",
       "      <td id=\"T_f43d8_row9_col1\" class=\"data row9 col1\" >2506.2626</td>\n",
       "      <td id=\"T_f43d8_row9_col2\" class=\"data row9 col2\" >263496373.9777</td>\n",
       "      <td id=\"T_f43d8_row9_col3\" class=\"data row9 col3\" >12097.5088</td>\n",
       "      <td id=\"T_f43d8_row9_col4\" class=\"data row9 col4\" >-1.6185</td>\n",
       "      <td id=\"T_f43d8_row9_col5\" class=\"data row9 col5\" >0.9732</td>\n",
       "      <td id=\"T_f43d8_row9_col6\" class=\"data row9 col6\" >24.2257</td>\n",
       "      <td id=\"T_f43d8_row9_col7\" class=\"data row9 col7\" >0.2350</td>\n",
       "    </tr>\n",
       "    <tr>\n",
       "      <th id=\"T_f43d8_level0_row10\" class=\"row_heading level0 row10\" >dt</th>\n",
       "      <td id=\"T_f43d8_row10_col0\" class=\"data row10 col0\" >Decision Tree Regressor</td>\n",
       "      <td id=\"T_f43d8_row10_col1\" class=\"data row10 col1\" >3194.9517</td>\n",
       "      <td id=\"T_f43d8_row10_col2\" class=\"data row10 col2\" >270778144.3994</td>\n",
       "      <td id=\"T_f43d8_row10_col3\" class=\"data row10 col3\" >12621.6906</td>\n",
       "      <td id=\"T_f43d8_row10_col4\" class=\"data row10 col4\" >-2.0119</td>\n",
       "      <td id=\"T_f43d8_row10_col5\" class=\"data row10 col5\" >1.1137</td>\n",
       "      <td id=\"T_f43d8_row10_col6\" class=\"data row10 col6\" >2.3781</td>\n",
       "      <td id=\"T_f43d8_row10_col7\" class=\"data row10 col7\" >0.1180</td>\n",
       "    </tr>\n",
       "    <tr>\n",
       "      <th id=\"T_f43d8_level0_row11\" class=\"row_heading level0 row11\" >xgboost</th>\n",
       "      <td id=\"T_f43d8_row11_col0\" class=\"data row11 col0\" >Extreme Gradient Boosting</td>\n",
       "      <td id=\"T_f43d8_row11_col1\" class=\"data row11 col1\" >2781.5883</td>\n",
       "      <td id=\"T_f43d8_row11_col2\" class=\"data row11 col2\" >328449753.0000</td>\n",
       "      <td id=\"T_f43d8_row11_col3\" class=\"data row11 col3\" >13489.2993</td>\n",
       "      <td id=\"T_f43d8_row11_col4\" class=\"data row11 col4\" >-2.6439</td>\n",
       "      <td id=\"T_f43d8_row11_col5\" class=\"data row11 col5\" >1.0901</td>\n",
       "      <td id=\"T_f43d8_row11_col6\" class=\"data row11 col6\" >16.1751</td>\n",
       "      <td id=\"T_f43d8_row11_col7\" class=\"data row11 col7\" >0.1720</td>\n",
       "    </tr>\n",
       "    <tr>\n",
       "      <th id=\"T_f43d8_level0_row12\" class=\"row_heading level0 row12\" >en</th>\n",
       "      <td id=\"T_f43d8_row12_col0\" class=\"data row12 col0\" >Elastic Net</td>\n",
       "      <td id=\"T_f43d8_row12_col1\" class=\"data row12 col1\" >3806.2234</td>\n",
       "      <td id=\"T_f43d8_row12_col2\" class=\"data row12 col2\" >322317333.6522</td>\n",
       "      <td id=\"T_f43d8_row12_col3\" class=\"data row12 col3\" >13029.8237</td>\n",
       "      <td id=\"T_f43d8_row12_col4\" class=\"data row12 col4\" >-9.9805</td>\n",
       "      <td id=\"T_f43d8_row12_col5\" class=\"data row12 col5\" >1.5717</td>\n",
       "      <td id=\"T_f43d8_row12_col6\" class=\"data row12 col6\" >21.8488</td>\n",
       "      <td id=\"T_f43d8_row12_col7\" class=\"data row12 col7\" >0.1190</td>\n",
       "    </tr>\n",
       "    <tr>\n",
       "      <th id=\"T_f43d8_level0_row13\" class=\"row_heading level0 row13\" >omp</th>\n",
       "      <td id=\"T_f43d8_row13_col0\" class=\"data row13 col0\" >Orthogonal Matching Pursuit</td>\n",
       "      <td id=\"T_f43d8_row13_col1\" class=\"data row13 col1\" >4056.5266</td>\n",
       "      <td id=\"T_f43d8_row13_col2\" class=\"data row13 col2\" >368699533.6277</td>\n",
       "      <td id=\"T_f43d8_row13_col3\" class=\"data row13 col3\" >14465.4865</td>\n",
       "      <td id=\"T_f43d8_row13_col4\" class=\"data row13 col4\" >-10.4375</td>\n",
       "      <td id=\"T_f43d8_row13_col5\" class=\"data row13 col5\" >1.6650</td>\n",
       "      <td id=\"T_f43d8_row13_col6\" class=\"data row13 col6\" >36.1224</td>\n",
       "      <td id=\"T_f43d8_row13_col7\" class=\"data row13 col7\" >0.1160</td>\n",
       "    </tr>\n",
       "    <tr>\n",
       "      <th id=\"T_f43d8_level0_row14\" class=\"row_heading level0 row14\" >br</th>\n",
       "      <td id=\"T_f43d8_row14_col0\" class=\"data row14 col0\" >Bayesian Ridge</td>\n",
       "      <td id=\"T_f43d8_row14_col1\" class=\"data row14 col1\" >4286.6044</td>\n",
       "      <td id=\"T_f43d8_row14_col2\" class=\"data row14 col2\" >503214280.5966</td>\n",
       "      <td id=\"T_f43d8_row14_col3\" class=\"data row14 col3\" >15742.7699</td>\n",
       "      <td id=\"T_f43d8_row14_col4\" class=\"data row14 col4\" >-18.7449</td>\n",
       "      <td id=\"T_f43d8_row14_col5\" class=\"data row14 col5\" >1.6606</td>\n",
       "      <td id=\"T_f43d8_row14_col6\" class=\"data row14 col6\" >20.1608</td>\n",
       "      <td id=\"T_f43d8_row14_col7\" class=\"data row14 col7\" >0.1210</td>\n",
       "    </tr>\n",
       "    <tr>\n",
       "      <th id=\"T_f43d8_level0_row15\" class=\"row_heading level0 row15\" >llar</th>\n",
       "      <td id=\"T_f43d8_row15_col0\" class=\"data row15 col0\" >Lasso Least Angle Regression</td>\n",
       "      <td id=\"T_f43d8_row15_col1\" class=\"data row15 col1\" >4914.9219</td>\n",
       "      <td id=\"T_f43d8_row15_col2\" class=\"data row15 col2\" >929822974.0802</td>\n",
       "      <td id=\"T_f43d8_row15_col3\" class=\"data row15 col3\" >19297.7218</td>\n",
       "      <td id=\"T_f43d8_row15_col4\" class=\"data row15 col4\" >-43.3493</td>\n",
       "      <td id=\"T_f43d8_row15_col5\" class=\"data row15 col5\" >1.7163</td>\n",
       "      <td id=\"T_f43d8_row15_col6\" class=\"data row15 col6\" >26.0432</td>\n",
       "      <td id=\"T_f43d8_row15_col7\" class=\"data row15 col7\" >0.1220</td>\n",
       "    </tr>\n",
       "    <tr>\n",
       "      <th id=\"T_f43d8_level0_row16\" class=\"row_heading level0 row16\" >lasso</th>\n",
       "      <td id=\"T_f43d8_row16_col0\" class=\"data row16 col0\" >Lasso Regression</td>\n",
       "      <td id=\"T_f43d8_row16_col1\" class=\"data row16 col1\" >5041.5941</td>\n",
       "      <td id=\"T_f43d8_row16_col2\" class=\"data row16 col2\" >984341366.1386</td>\n",
       "      <td id=\"T_f43d8_row16_col3\" class=\"data row16 col3\" >19715.6338</td>\n",
       "      <td id=\"T_f43d8_row16_col4\" class=\"data row16 col4\" >-46.5086</td>\n",
       "      <td id=\"T_f43d8_row16_col5\" class=\"data row16 col5\" >1.7312</td>\n",
       "      <td id=\"T_f43d8_row16_col6\" class=\"data row16 col6\" >26.6147</td>\n",
       "      <td id=\"T_f43d8_row16_col7\" class=\"data row16 col7\" >0.3200</td>\n",
       "    </tr>\n",
       "    <tr>\n",
       "      <th id=\"T_f43d8_level0_row17\" class=\"row_heading level0 row17\" >ridge</th>\n",
       "      <td id=\"T_f43d8_row17_col0\" class=\"data row17 col0\" >Ridge Regression</td>\n",
       "      <td id=\"T_f43d8_row17_col1\" class=\"data row17 col1\" >5032.4428</td>\n",
       "      <td id=\"T_f43d8_row17_col2\" class=\"data row17 col2\" >986283302.8937</td>\n",
       "      <td id=\"T_f43d8_row17_col3\" class=\"data row17 col3\" >19701.5287</td>\n",
       "      <td id=\"T_f43d8_row17_col4\" class=\"data row17 col4\" >-46.6705</td>\n",
       "      <td id=\"T_f43d8_row17_col5\" class=\"data row17 col5\" >1.7329</td>\n",
       "      <td id=\"T_f43d8_row17_col6\" class=\"data row17 col6\" >26.5082</td>\n",
       "      <td id=\"T_f43d8_row17_col7\" class=\"data row17 col7\" >0.1200</td>\n",
       "    </tr>\n",
       "  </tbody>\n",
       "</table>\n"
      ],
      "text/plain": [
       "<pandas.io.formats.style.Styler at 0x290d78370>"
      ]
     },
     "metadata": {},
     "output_type": "display_data"
    },
    {
     "data": {
      "application/vnd.jupyter.widget-view+json": {
       "model_id": "",
       "version_major": 2,
       "version_minor": 0
      },
      "text/plain": [
       "Processing:   0%|          | 0/77 [00:00<?, ?it/s]"
      ]
     },
     "metadata": {},
     "output_type": "display_data"
    }
   ],
   "source": [
    "best = compare_models(exclude = ['lar','lr'])"
   ]
  },
  {
   "cell_type": "code",
   "execution_count": 60,
   "id": "eddbec80",
   "metadata": {},
   "outputs": [
    {
     "data": {
      "text/html": [],
      "text/plain": [
       "<IPython.core.display.HTML object>"
      ]
     },
     "metadata": {},
     "output_type": "display_data"
    },
    {
     "data": {
      "image/png": "[encoded data removed]",
      "text/plain": [
       "<Figure size 800x550 with 2 Axes>"
      ]
     },
     "metadata": {},
     "output_type": "display_data"
    }
   ],
   "source": [
    "plot_model(best, plot = 'residuals')"
   ]
  },
  {
   "cell_type": "code",
   "execution_count": 61,
   "id": "ef43bff9",
   "metadata": {},
   "outputs": [
    {
     "data": {
      "text/html": [],
      "text/plain": [
       "<IPython.core.display.HTML object>"
      ]
     },
     "metadata": {},
     "output_type": "display_data"
    },
    {
     "data": {
      "text/html": [],
      "text/plain": [
       "<IPython.core.display.HTML object>"
      ]
     },
     "metadata": {},
     "output_type": "display_data"
    },
    {
     "data": {
      "application/vnd.jupyter.widget-view+json": {
       "model_id": "74820f7329bb4203917125455a6cdb7f",
       "version_major": 2,
       "version_minor": 0
      },
      "text/plain": [
       "VBox(children=(HBox(children=(TukeyAnscombeWidget({\n",
       "    'data': [{'hovertemplate': 'Split=train<br>Predictions…"
      ]
     },
     "metadata": {},
     "output_type": "display_data"
    }
   ],
   "source": [
    "plot_model(best, plot = 'residuals_interactive')"
   ]
  },
  {
   "cell_type": "markdown",
   "id": "357a5356",
   "metadata": {},
   "source": [
    "### Model Refinement\n",
    "\n",
    "The above model represents a first pass at modelling the data. This iteration revealed several ways to improve the results of my model, which I will outline below."
   ]
  },
  {
   "cell_type": "code",
   "execution_count": 62,
   "id": "b20b3317",
   "metadata": {},
   "outputs": [
    {
     "data": {
      "text/html": [
       "<style type=\"text/css\">\n",
       "</style>\n",
       "<table id=\"T_51c5e\">\n",
       "  <thead>\n",
       "    <tr>\n",
       "      <th class=\"blank level0\" >&nbsp;</th>\n",
       "      <th id=\"T_51c5e_level0_col0\" class=\"col_heading level0 col0\" >Model</th>\n",
       "      <th id=\"T_51c5e_level0_col1\" class=\"col_heading level0 col1\" >MAE</th>\n",
       "      <th id=\"T_51c5e_level0_col2\" class=\"col_heading level0 col2\" >MSE</th>\n",
       "      <th id=\"T_51c5e_level0_col3\" class=\"col_heading level0 col3\" >RMSE</th>\n",
       "      <th id=\"T_51c5e_level0_col4\" class=\"col_heading level0 col4\" >R2</th>\n",
       "      <th id=\"T_51c5e_level0_col5\" class=\"col_heading level0 col5\" >RMSLE</th>\n",
       "      <th id=\"T_51c5e_level0_col6\" class=\"col_heading level0 col6\" >MAPE</th>\n",
       "    </tr>\n",
       "  </thead>\n",
       "  <tbody>\n",
       "    <tr>\n",
       "      <th id=\"T_51c5e_level0_row0\" class=\"row_heading level0 row0\" >0</th>\n",
       "      <td id=\"T_51c5e_row0_col0\" class=\"data row0 col0\" >K Neighbors Regressor</td>\n",
       "      <td id=\"T_51c5e_row0_col1\" class=\"data row0 col1\" >9985.5498</td>\n",
       "      <td id=\"T_51c5e_row0_col2\" class=\"data row0 col2\" >17429776384.0000</td>\n",
       "      <td id=\"T_51c5e_row0_col3\" class=\"data row0 col3\" >132021.8750</td>\n",
       "      <td id=\"T_51c5e_row0_col4\" class=\"data row0 col4\" >-0.0040</td>\n",
       "      <td id=\"T_51c5e_row0_col5\" class=\"data row0 col5\" >1.2496</td>\n",
       "      <td id=\"T_51c5e_row0_col6\" class=\"data row0 col6\" >6.4486</td>\n",
       "    </tr>\n",
       "  </tbody>\n",
       "</table>\n"
      ],
      "text/plain": [
       "<pandas.io.formats.style.Styler at 0x2b7ad6310>"
      ]
     },
     "metadata": {},
     "output_type": "display_data"
    }
   ],
   "source": [
    "predictions = predict_model(best, data=data_unseen)"
   ]
  },
  {
   "cell_type": "code",
   "execution_count": 63,
   "id": "5534956b",
   "metadata": {},
   "outputs": [],
   "source": [
    "finalized_best = finalize_model(best)"
   ]
  },
  {
   "cell_type": "markdown",
   "id": "387a46e2",
   "metadata": {},
   "source": [
    "#### Generating a table of Residuals"
   ]
  },
  {
   "cell_type": "code",
   "execution_count": 64,
   "id": "facf1567",
   "metadata": {},
   "outputs": [
    {
     "data": {
      "text/html": [
       "<style type=\"text/css\">\n",
       "</style>\n",
       "<table id=\"T_7805d\">\n",
       "  <thead>\n",
       "    <tr>\n",
       "      <th class=\"blank level0\" >&nbsp;</th>\n",
       "      <th id=\"T_7805d_level0_col0\" class=\"col_heading level0 col0\" >Model</th>\n",
       "      <th id=\"T_7805d_level0_col1\" class=\"col_heading level0 col1\" >MAE</th>\n",
       "      <th id=\"T_7805d_level0_col2\" class=\"col_heading level0 col2\" >MSE</th>\n",
       "      <th id=\"T_7805d_level0_col3\" class=\"col_heading level0 col3\" >RMSE</th>\n",
       "      <th id=\"T_7805d_level0_col4\" class=\"col_heading level0 col4\" >R2</th>\n",
       "      <th id=\"T_7805d_level0_col5\" class=\"col_heading level0 col5\" >RMSLE</th>\n",
       "      <th id=\"T_7805d_level0_col6\" class=\"col_heading level0 col6\" >MAPE</th>\n",
       "    </tr>\n",
       "  </thead>\n",
       "  <tbody>\n",
       "    <tr>\n",
       "      <th id=\"T_7805d_level0_row0\" class=\"row_heading level0 row0\" >0</th>\n",
       "      <td id=\"T_7805d_row0_col0\" class=\"data row0 col0\" >K Neighbors Regressor</td>\n",
       "      <td id=\"T_7805d_row0_col1\" class=\"data row0 col1\" >9908.2305</td>\n",
       "      <td id=\"T_7805d_row0_col2\" class=\"data row0 col2\" >17361864704.0000</td>\n",
       "      <td id=\"T_7805d_row0_col3\" class=\"data row0 col3\" >131764.4219</td>\n",
       "      <td id=\"T_7805d_row0_col4\" class=\"data row0 col4\" >-0.0001</td>\n",
       "      <td id=\"T_7805d_row0_col5\" class=\"data row0 col5\" >1.1063</td>\n",
       "      <td id=\"T_7805d_row0_col6\" class=\"data row0 col6\" >2.6418</td>\n",
       "    </tr>\n",
       "  </tbody>\n",
       "</table>\n"
      ],
      "text/plain": [
       "<pandas.io.formats.style.Styler at 0x2b7af8a90>"
      ]
     },
     "metadata": {},
     "output_type": "display_data"
    }
   ],
   "source": [
    "predictions = predict_model(finalized_best, data=data_unseen)"
   ]
  },
  {
   "cell_type": "code",
   "execution_count": 66,
   "id": "b503312c",
   "metadata": {},
   "outputs": [],
   "source": [
    "predictions['Residuals'] = predictions['cost_real_2023'] - predictions['prediction_label']\n",
    "mean_res = np.mean(predictions['Residuals'])\n",
    "std_res = np.std(predictions['Residuals'])\n",
    "predictions['standardized_residuals'] = (predictions['Residuals'] - mean_res) / std_res"
   ]
  },
  {
   "cell_type": "code",
   "execution_count": 67,
   "id": "84f1973f",
   "metadata": {},
   "outputs": [],
   "source": [
    "outliers = predictions.sort_values(by='standardized_residuals', key=abs, ascending=False)"
   ]
  },
  {
   "cell_type": "code",
   "execution_count": 68,
   "id": "ab926ade",
   "metadata": {
    "scrolled": false
   },
   "outputs": [],
   "source": [
    "outliers_list = outliers[abs(outliers['standardized_residuals'])>1].index.tolist()"
   ]
  },
  {
   "cell_type": "code",
   "execution_count": 69,
   "id": "4f9cacf5",
   "metadata": {},
   "outputs": [
    {
     "data": {
      "text/plain": [
       "1"
      ]
     },
     "execution_count": 69,
     "metadata": {},
     "output_type": "execute_result"
    }
   ],
   "source": [
    "len(outliers_list)"
   ]
  },
  {
   "cell_type": "code",
   "execution_count": 70,
   "id": "44f8c92e",
   "metadata": {},
   "outputs": [
    {
     "data": {
      "image/png": "[encoded data removed]",
      "text/plain": [
       "<Figure size 1000x500 with 1 Axes>"
      ]
     },
     "metadata": {},
     "output_type": "display_data"
    }
   ],
   "source": [
    "plt.figure(figsize=(10, 5))\n",
    "plt.bar(outliers.index, outliers['standardized_residuals'], color='blue')\n",
    "plt.xlabel('Index')\n",
    "plt.ylabel('Standardized Residual Value')\n",
    "plt.title('Std. Residuals for Each Observation')\n",
    "plt.show()"
   ]
  },
  {
   "cell_type": "markdown",
   "id": "614ff8df",
   "metadata": {},
   "source": [
    "#### Evaluating Outliers\n",
    "\n",
    "Within the above interactive standardized residuals plot, three values are significant outliers and are labelled by index: r_###,r_###, and r_###. These residuals correspond to the index in my dataframe, however the index has been randomized during the data sampling process.\n",
    "\n",
    "I've created a list of the 10 largest magnitude residuals in my dataset as a list called outliers_list.\n",
    "\n",
    "Let's investigate these outliers."
   ]
  },
  {
   "cell_type": "markdown",
   "id": "3b287422",
   "metadata": {},
   "source": [
    "The above outliers are all relatively short tunneling projects, which is a group of projects that I would expect to be difficult to model given the complexities and costs involved with tunneling."
   ]
  },
  {
   "cell_type": "code",
   "execution_count": 73,
   "id": "4d19df81",
   "metadata": {},
   "outputs": [],
   "source": [
    "outliers_df = df.loc[outliers_list]"
   ]
  },
  {
   "cell_type": "code",
   "execution_count": 74,
   "id": "25080422",
   "metadata": {},
   "outputs": [
    {
     "data": {
      "text/plain": [
       "1644    2088945.639\n",
       "Name: cost_real_2023, dtype: float64"
      ]
     },
     "execution_count": 74,
     "metadata": {},
     "output_type": "execute_result"
    }
   ],
   "source": [
    "outliers_df['cost_real_2023'].sort_values()"
   ]
  },
  {
   "cell_type": "markdown",
   "id": "3ccf1647",
   "metadata": {},
   "source": [
    "By looking at the real cost (target feature) in our outliers list we can see that the largest residual also corresponds to the a real cost that is much higher than the rest of the values. Let's compare this outlier with the whole dataset to see if it's also an outlier."
   ]
  },
  {
   "cell_type": "code",
   "execution_count": 75,
   "id": "3a11fb1b",
   "metadata": {},
   "outputs": [],
   "source": [
    "def convert_str_to_float(val):\n",
    "    if isinstance(val, str):\n",
    "        return float(val.replace(',', ''))\n",
    "    return val\n",
    "\n",
    "df['cost_real_2023'] = df['cost_real_2023'].apply(convert_str_to_float)\n",
    "df['cost'] = df['cost'].apply(convert_str_to_float)\n",
    "df['track_gauge'] = df['track_gauge'].apply(convert_str_to_float)\n",
    "df['union_density'] = df['union_density'].apply(convert_str_to_float)"
   ]
  },
  {
   "cell_type": "code",
   "execution_count": 76,
   "id": "0ef4daa5",
   "metadata": {
    "scrolled": false
   },
   "outputs": [
    {
     "data": {
      "text/html": [
       "<div>\n",
       "<style scoped>\n",
       "    .dataframe tbody tr th:only-of-type {\n",
       "        vertical-align: middle;\n",
       "    }\n",
       "\n",
       "    .dataframe tbody tr th {\n",
       "        vertical-align: top;\n",
       "    }\n",
       "\n",
       "    .dataframe thead th {\n",
       "        text-align: right;\n",
       "    }\n",
       "</style>\n",
       "<table border=\"1\" class=\"dataframe\">\n",
       "  <thead>\n",
       "    <tr style=\"text-align: right;\">\n",
       "      <th></th>\n",
       "      <th>country</th>\n",
       "      <th>city</th>\n",
       "      <th>start_year</th>\n",
       "      <th>end_year</th>\n",
       "      <th>rr?</th>\n",
       "      <th>length</th>\n",
       "      <th>tunnel_per</th>\n",
       "      <th>tunnel</th>\n",
       "      <th>elevated</th>\n",
       "      <th>at_grade</th>\n",
       "      <th>...</th>\n",
       "      <th>prcp</th>\n",
       "      <th>land_cost_year</th>\n",
       "      <th>price_income_ratio</th>\n",
       "      <th>mortgage_perc_income</th>\n",
       "      <th>affordability_index</th>\n",
       "      <th>urban?</th>\n",
       "      <th>rental_yield</th>\n",
       "      <th>price_rent_ratio</th>\n",
       "      <th>union_density</th>\n",
       "      <th>stations_per_km</th>\n",
       "    </tr>\n",
       "  </thead>\n",
       "  <tbody>\n",
       "    <tr>\n",
       "      <th>1644</th>\n",
       "      <td>BY</td>\n",
       "      <td>Minsk</td>\n",
       "      <td>2014</td>\n",
       "      <td>2023</td>\n",
       "      <td>0.0</td>\n",
       "      <td>17.20</td>\n",
       "      <td>1.000000</td>\n",
       "      <td>17.20</td>\n",
       "      <td>0.00</td>\n",
       "      <td>0.00</td>\n",
       "      <td>...</td>\n",
       "      <td>56.416667</td>\n",
       "      <td>2019</td>\n",
       "      <td>14</td>\n",
       "      <td>212</td>\n",
       "      <td>0</td>\n",
       "      <td>1</td>\n",
       "      <td>4</td>\n",
       "      <td>21</td>\n",
       "      <td>10.000000</td>\n",
       "      <td>0.406977</td>\n",
       "    </tr>\n",
       "    <tr>\n",
       "      <th>1131</th>\n",
       "      <td>AR</td>\n",
       "      <td>Buenos Aires</td>\n",
       "      <td>1990</td>\n",
       "      <td>1995</td>\n",
       "      <td>1.0</td>\n",
       "      <td>15.50</td>\n",
       "      <td>0.000000</td>\n",
       "      <td>0.00</td>\n",
       "      <td>0.00</td>\n",
       "      <td>15.50</td>\n",
       "      <td>...</td>\n",
       "      <td>102.916667</td>\n",
       "      <td>1993</td>\n",
       "      <td>9</td>\n",
       "      <td>1669</td>\n",
       "      <td>0</td>\n",
       "      <td>1</td>\n",
       "      <td>1</td>\n",
       "      <td>13</td>\n",
       "      <td>33.477516</td>\n",
       "      <td>0.709677</td>\n",
       "    </tr>\n",
       "    <tr>\n",
       "      <th>1626</th>\n",
       "      <td>VE</td>\n",
       "      <td>Valencia</td>\n",
       "      <td>1994</td>\n",
       "      <td>2006</td>\n",
       "      <td>0.0</td>\n",
       "      <td>4.30</td>\n",
       "      <td>1.000000</td>\n",
       "      <td>4.30</td>\n",
       "      <td>0.00</td>\n",
       "      <td>0.00</td>\n",
       "      <td>...</td>\n",
       "      <td>126.250000</td>\n",
       "      <td>2000</td>\n",
       "      <td>7</td>\n",
       "      <td>239</td>\n",
       "      <td>1</td>\n",
       "      <td>0</td>\n",
       "      <td>19</td>\n",
       "      <td>6</td>\n",
       "      <td>0.200000</td>\n",
       "      <td>1.162791</td>\n",
       "    </tr>\n",
       "    <tr>\n",
       "      <th>551</th>\n",
       "      <td>TW</td>\n",
       "      <td>Taipei</td>\n",
       "      <td>1988</td>\n",
       "      <td>2012</td>\n",
       "      <td>0.0</td>\n",
       "      <td>93.90</td>\n",
       "      <td>0.648562</td>\n",
       "      <td>60.90</td>\n",
       "      <td>33.00</td>\n",
       "      <td>0.00</td>\n",
       "      <td>...</td>\n",
       "      <td>197.500000</td>\n",
       "      <td>2000</td>\n",
       "      <td>13</td>\n",
       "      <td>81</td>\n",
       "      <td>1</td>\n",
       "      <td>1</td>\n",
       "      <td>1</td>\n",
       "      <td>69</td>\n",
       "      <td>39.355000</td>\n",
       "      <td>0.979766</td>\n",
       "    </tr>\n",
       "    <tr>\n",
       "      <th>1003</th>\n",
       "      <td>IR</td>\n",
       "      <td>Tehran</td>\n",
       "      <td>1995</td>\n",
       "      <td>1999</td>\n",
       "      <td>1.0</td>\n",
       "      <td>19.04</td>\n",
       "      <td>0.000000</td>\n",
       "      <td>0.00</td>\n",
       "      <td>0.00</td>\n",
       "      <td>19.04</td>\n",
       "      <td>...</td>\n",
       "      <td>19.166667</td>\n",
       "      <td>1997</td>\n",
       "      <td>4</td>\n",
       "      <td>22</td>\n",
       "      <td>0</td>\n",
       "      <td>1</td>\n",
       "      <td>7</td>\n",
       "      <td>12</td>\n",
       "      <td>0.000000</td>\n",
       "      <td>0.315126</td>\n",
       "    </tr>\n",
       "    <tr>\n",
       "      <th>1225</th>\n",
       "      <td>EG</td>\n",
       "      <td>Alexandria</td>\n",
       "      <td>2016</td>\n",
       "      <td>2023</td>\n",
       "      <td>1.0</td>\n",
       "      <td>280.00</td>\n",
       "      <td>0.000000</td>\n",
       "      <td>0.00</td>\n",
       "      <td>0.00</td>\n",
       "      <td>280.00</td>\n",
       "      <td>...</td>\n",
       "      <td>30.416667</td>\n",
       "      <td>2020</td>\n",
       "      <td>13</td>\n",
       "      <td>193</td>\n",
       "      <td>0</td>\n",
       "      <td>1</td>\n",
       "      <td>5</td>\n",
       "      <td>18</td>\n",
       "      <td>23.800000</td>\n",
       "      <td>0.057143</td>\n",
       "    </tr>\n",
       "    <tr>\n",
       "      <th>230</th>\n",
       "      <td>EG</td>\n",
       "      <td>Cairo</td>\n",
       "      <td>2007</td>\n",
       "      <td>2024</td>\n",
       "      <td>0.0</td>\n",
       "      <td>41.30</td>\n",
       "      <td>0.000000</td>\n",
       "      <td>0.00</td>\n",
       "      <td>0.00</td>\n",
       "      <td>41.30</td>\n",
       "      <td>...</td>\n",
       "      <td>19.680000</td>\n",
       "      <td>2016</td>\n",
       "      <td>10</td>\n",
       "      <td>131</td>\n",
       "      <td>0</td>\n",
       "      <td>1</td>\n",
       "      <td>7</td>\n",
       "      <td>14</td>\n",
       "      <td>23.800000</td>\n",
       "      <td>0.823245</td>\n",
       "    </tr>\n",
       "    <tr>\n",
       "      <th>1216</th>\n",
       "      <td>TW</td>\n",
       "      <td>Kaohsiung</td>\n",
       "      <td>2001</td>\n",
       "      <td>2008</td>\n",
       "      <td>0.0</td>\n",
       "      <td>43.00</td>\n",
       "      <td>0.739535</td>\n",
       "      <td>31.80</td>\n",
       "      <td>11.20</td>\n",
       "      <td>0.00</td>\n",
       "      <td>...</td>\n",
       "      <td>197.500000</td>\n",
       "      <td>2005</td>\n",
       "      <td>15</td>\n",
       "      <td>93</td>\n",
       "      <td>1</td>\n",
       "      <td>1</td>\n",
       "      <td>1</td>\n",
       "      <td>68</td>\n",
       "      <td>39.355000</td>\n",
       "      <td>0.883721</td>\n",
       "    </tr>\n",
       "    <tr>\n",
       "      <th>1242</th>\n",
       "      <td>QA</td>\n",
       "      <td>Doha</td>\n",
       "      <td>2013</td>\n",
       "      <td>2026</td>\n",
       "      <td>0.0</td>\n",
       "      <td>124.00</td>\n",
       "      <td>0.899194</td>\n",
       "      <td>111.50</td>\n",
       "      <td>6.00</td>\n",
       "      <td>6.50</td>\n",
       "      <td>...</td>\n",
       "      <td>9.166667</td>\n",
       "      <td>2020</td>\n",
       "      <td>5</td>\n",
       "      <td>45</td>\n",
       "      <td>2</td>\n",
       "      <td>1</td>\n",
       "      <td>7</td>\n",
       "      <td>13</td>\n",
       "      <td>0.000000</td>\n",
       "      <td>0.435484</td>\n",
       "    </tr>\n",
       "    <tr>\n",
       "      <th>345</th>\n",
       "      <td>KR</td>\n",
       "      <td>Seoul</td>\n",
       "      <td>1978</td>\n",
       "      <td>1982</td>\n",
       "      <td>0.0</td>\n",
       "      <td>50.20</td>\n",
       "      <td>0.800000</td>\n",
       "      <td>40.16</td>\n",
       "      <td>10.04</td>\n",
       "      <td>0.00</td>\n",
       "      <td>...</td>\n",
       "      <td>114.250000</td>\n",
       "      <td>1980</td>\n",
       "      <td>0</td>\n",
       "      <td>29</td>\n",
       "      <td>1</td>\n",
       "      <td>1</td>\n",
       "      <td>6</td>\n",
       "      <td>0</td>\n",
       "      <td>9.769591</td>\n",
       "      <td>1.015936</td>\n",
       "    </tr>\n",
       "  </tbody>\n",
       "</table>\n",
       "<p>10 rows × 86 columns</p>\n",
       "</div>"
      ],
      "text/plain": [
       "     country          city  start_year  end_year  rr?  length  tunnel_per  \\\n",
       "1644      BY         Minsk        2014      2023  0.0   17.20    1.000000   \n",
       "1131      AR  Buenos Aires        1990      1995  1.0   15.50    0.000000   \n",
       "1626      VE      Valencia        1994      2006  0.0    4.30    1.000000   \n",
       "551       TW        Taipei        1988      2012  0.0   93.90    0.648562   \n",
       "1003      IR        Tehran        1995      1999  1.0   19.04    0.000000   \n",
       "1225      EG    Alexandria        2016      2023  1.0  280.00    0.000000   \n",
       "230       EG         Cairo        2007      2024  0.0   41.30    0.000000   \n",
       "1216      TW     Kaohsiung        2001      2008  0.0   43.00    0.739535   \n",
       "1242      QA          Doha        2013      2026  0.0  124.00    0.899194   \n",
       "345       KR         Seoul        1978      1982  0.0   50.20    0.800000   \n",
       "\n",
       "      tunnel  elevated  at_grade  ...        prcp  land_cost_year  \\\n",
       "1644   17.20      0.00      0.00  ...   56.416667            2019   \n",
       "1131    0.00      0.00     15.50  ...  102.916667            1993   \n",
       "1626    4.30      0.00      0.00  ...  126.250000            2000   \n",
       "551    60.90     33.00      0.00  ...  197.500000            2000   \n",
       "1003    0.00      0.00     19.04  ...   19.166667            1997   \n",
       "1225    0.00      0.00    280.00  ...   30.416667            2020   \n",
       "230     0.00      0.00     41.30  ...   19.680000            2016   \n",
       "1216   31.80     11.20      0.00  ...  197.500000            2005   \n",
       "1242  111.50      6.00      6.50  ...    9.166667            2020   \n",
       "345    40.16     10.04      0.00  ...  114.250000            1980   \n",
       "\n",
       "      price_income_ratio  mortgage_perc_income  affordability_index urban?  \\\n",
       "1644                  14                   212                    0      1   \n",
       "1131                   9                  1669                    0      1   \n",
       "1626                   7                   239                    1      0   \n",
       "551                   13                    81                    1      1   \n",
       "1003                   4                    22                    0      1   \n",
       "1225                  13                   193                    0      1   \n",
       "230                   10                   131                    0      1   \n",
       "1216                  15                    93                    1      1   \n",
       "1242                   5                    45                    2      1   \n",
       "345                    0                    29                    1      1   \n",
       "\n",
       "      rental_yield  price_rent_ratio  union_density  stations_per_km  \n",
       "1644             4                21      10.000000         0.406977  \n",
       "1131             1                13      33.477516         0.709677  \n",
       "1626            19                 6       0.200000         1.162791  \n",
       "551              1                69      39.355000         0.979766  \n",
       "1003             7                12       0.000000         0.315126  \n",
       "1225             5                18      23.800000         0.057143  \n",
       "230              7                14      23.800000         0.823245  \n",
       "1216             1                68      39.355000         0.883721  \n",
       "1242             7                13       0.000000         0.435484  \n",
       "345              6                 0       9.769591         1.015936  \n",
       "\n",
       "[10 rows x 86 columns]"
      ]
     },
     "execution_count": 76,
     "metadata": {},
     "output_type": "execute_result"
    }
   ],
   "source": [
    "df.sort_values(by = 'cost_real_2023',ascending = False).head(10)"
   ]
  },
  {
   "cell_type": "markdown",
   "id": "9f8b6ecf",
   "metadata": {},
   "source": [
    "Notably, each of the outliers as shown in the residuals plot are also within the top 50 most expensive projects of the entire dataset. To correct this, I'll need to individually verify the values recorded for each project."
   ]
  },
  {
   "cell_type": "code",
   "execution_count": 77,
   "id": "2ec6d0df",
   "metadata": {},
   "outputs": [
    {
     "data": {
      "text/plain": [
       "[1644]"
      ]
     },
     "execution_count": 77,
     "metadata": {},
     "output_type": "execute_result"
    }
   ],
   "source": [
    "outliers_list"
   ]
  },
  {
   "cell_type": "markdown",
   "id": "65b965a3",
   "metadata": {},
   "source": [
    "### Interpreting Residuals v. Leverage Plot\n",
    "\n",
    "The Residuals vs. Leverage plot provides insight into the influence of individual observations on the model's estimates. Points with high leverage have a large potential to influence the fit of the model, while points with high residuals do not fit the model well. \n",
    "\n",
    "Observations that are situated in the top right or bottom right corners of the plot—meaning they have both high leverage and high residuals—are particularly influential and may be of concern. They might indicate outliers, leverage points, or both and could potentially distort the model's predictions. Monitoring these points can help improve the model's robustness and accuracy."
   ]
  },
  {
   "cell_type": "code",
   "execution_count": 78,
   "id": "dc364579",
   "metadata": {},
   "outputs": [
    {
     "data": {
      "text/html": [],
      "text/plain": [
       "<IPython.core.display.HTML object>"
      ]
     },
     "metadata": {},
     "output_type": "display_data"
    },
    {
     "data": {
      "text/html": [],
      "text/plain": [
       "<IPython.core.display.HTML object>"
      ]
     },
     "metadata": {},
     "output_type": "display_data"
    },
    {
     "data": {
      "application/vnd.jupyter.widget-view+json": {
       "model_id": "3b0203a22fa0435aa1ba074744331bf3",
       "version_major": 2,
       "version_minor": 0
      },
      "text/plain": [
       "VBox(children=(HBox(children=(TukeyAnscombeWidget({\n",
       "    'data': [{'hovertemplate': 'Split=train<br>Predictions…"
      ]
     },
     "metadata": {},
     "output_type": "display_data"
    }
   ],
   "source": [
    "plot_model(best, plot = 'residuals_interactive')"
   ]
  },
  {
   "cell_type": "markdown",
   "id": "9e532725",
   "metadata": {},
   "source": [
    "In the bottom right corner, we have our residuals/leverage plot. This plot shows that several points outside of the cooks line."
   ]
  },
  {
   "cell_type": "code",
   "execution_count": 79,
   "id": "a1af170a",
   "metadata": {},
   "outputs": [
    {
     "data": {
      "text/html": [],
      "text/plain": [
       "<IPython.core.display.HTML object>"
      ]
     },
     "metadata": {},
     "output_type": "display_data"
    },
    {
     "data": {
      "image/png": "[encoded data removed]",
      "text/plain": [
       "<Figure size 800x550 with 1 Axes>"
      ]
     },
     "metadata": {},
     "output_type": "display_data"
    }
   ],
   "source": [
    "plot_model(best, plot='cooks')"
   ]
  },
  {
   "cell_type": "markdown",
   "id": "c4438956",
   "metadata": {},
   "source": [
    "Plotting the influence vs the cooks distance shows that the majority of the points are below the cooks line, but there are several outliers. Specifically the indexes that I discussed above. As we can see, there are approximately 6 points in the dataset that erroneously influence the dataset.\n",
    "\n",
    "With the index on the x-axis, and using the other plots, we can estimate which indexes are causing this error. According to the scale-Location plot and the Tukey-Anscombe plot, indexes 296,611, and 776 appear to be responsible for some influence over the result. Since this result will vary after each model pass, I'd like to use other methods like IQR plots and z-scores to more comprehensively search for outliers."
   ]
  },
  {
   "cell_type": "markdown",
   "id": "507c0ec8",
   "metadata": {},
   "source": [
    "### Z-Scores\n",
    "\n",
    "Z-scores measure how many standard deviations a data point is from the mean of a dataset. They provide a standardized way to compare values from different datasets or units. A Z-score of zero indicates that the data point's score is identical to the mean score. Positive or negative Z-scores represent values above or below the mean, respectively. They are frequently used in statistics to identify outliers and understand data variability.\n",
    "\n",
    "Within my dataset there are three types of data: continuous, categorical, and ordinal data. I'll be calculating the z-scores for only the continuous features (numbers)."
   ]
  },
  {
   "cell_type": "code",
   "execution_count": 80,
   "id": "05497ab0",
   "metadata": {},
   "outputs": [],
   "source": [
    "pd.set_option('display.max_rows', None)"
   ]
  },
  {
   "cell_type": "code",
   "execution_count": 125,
   "id": "6914f04e",
   "metadata": {},
   "outputs": [],
   "source": [
    "cont_feats = df.drop(columns=['country','city','region', 'sub_region','wrb_class_value','cost_real_2023','wrb_class_name','currency','train_type']).columns.tolist()"
   ]
  },
  {
   "cell_type": "code",
   "execution_count": 126,
   "id": "a0d367c9",
   "metadata": {},
   "outputs": [
    {
     "data": {
      "text/html": [
       "<div>\n",
       "<style scoped>\n",
       "    .dataframe tbody tr th:only-of-type {\n",
       "        vertical-align: middle;\n",
       "    }\n",
       "\n",
       "    .dataframe tbody tr th {\n",
       "        vertical-align: top;\n",
       "    }\n",
       "\n",
       "    .dataframe thead th {\n",
       "        text-align: right;\n",
       "    }\n",
       "</style>\n",
       "<table border=\"1\" class=\"dataframe\">\n",
       "  <thead>\n",
       "    <tr style=\"text-align: right;\">\n",
       "      <th></th>\n",
       "      <th>country</th>\n",
       "      <th>city</th>\n",
       "      <th>start_year</th>\n",
       "      <th>end_year</th>\n",
       "      <th>rr?</th>\n",
       "      <th>length</th>\n",
       "      <th>tunnel_per</th>\n",
       "      <th>tunnel</th>\n",
       "      <th>elevated</th>\n",
       "      <th>at_grade</th>\n",
       "      <th>...</th>\n",
       "      <th>prcp</th>\n",
       "      <th>land_cost_year</th>\n",
       "      <th>price_income_ratio</th>\n",
       "      <th>mortgage_perc_income</th>\n",
       "      <th>affordability_index</th>\n",
       "      <th>urban?</th>\n",
       "      <th>rental_yield</th>\n",
       "      <th>price_rent_ratio</th>\n",
       "      <th>union_density</th>\n",
       "      <th>stations_per_km</th>\n",
       "    </tr>\n",
       "  </thead>\n",
       "  <tbody>\n",
       "  </tbody>\n",
       "</table>\n",
       "<p>0 rows × 86 columns</p>\n",
       "</div>"
      ],
      "text/plain": [
       "Empty DataFrame\n",
       "Columns: [country, city, start_year, end_year, rr?, length, tunnel_per, tunnel, elevated, at_grade, stations, max_speed, track_gauge, overhead?, cost, currency, year, ppp_rate, cost_real, cost_km, c_length, c_tunnel, anglo, inflation_index, cost_real_2023, cost_km_2023, train_type, duration, country_pop_den, region, sub_region, area_km, lat, lng, population, time_diff, calculated_population, city_density, per_below_line, reporting_gdp, wrb_class_name, wrb_class_value, prob_Ferralsols, prob_Acrisols, prob_Andosols, prob_Cryosols, prob_Cambisols, prob_Gleysols, prob_Kastanozems, prob_Albeluvisols, prob_Calcisols, prob_Chernozems, prob_Durisols, prob_Gypsisols, prob_Fluvisols, prob_Alisols, prob_Planosols, prob_Arenosols, prob_Plinthosols, prob_Luvisols, prob_Umbrisols, prob_Podzols, prob_Histosols, prob_Vertisols, prob_Lixisols, prob_Phaeozems, prob_Regosols, prob_Solonetz, prob_Solonchaks, prob_Leptosols, prob_Nitisols, prob_Stagnosols, elevation, tavg, tmin, tmax, prcp, land_cost_year, price_income_ratio, mortgage_perc_income, affordability_index, urban?, rental_yield, price_rent_ratio, union_density, stations_per_km]\n",
       "Index: []\n",
       "\n",
       "[0 rows x 86 columns]"
      ]
     },
     "execution_count": 126,
     "metadata": {},
     "output_type": "execute_result"
    }
   ],
   "source": [
    "df[df['cost'].isna()]"
   ]
  },
  {
   "cell_type": "code",
   "execution_count": 127,
   "id": "7b379c50",
   "metadata": {},
   "outputs": [],
   "source": [
    "continuous_data_array = df[cont_feats].to_numpy()"
   ]
  },
  {
   "cell_type": "code",
   "execution_count": 128,
   "id": "df177cd2",
   "metadata": {},
   "outputs": [],
   "source": [
    "df['cost'] = pd.to_numeric(df['cost'])\n",
    "df['track_gauge'] = pd.to_numeric(df['track_gauge'], errors='coerce')"
   ]
  },
  {
   "cell_type": "code",
   "execution_count": 131,
   "id": "500816e5",
   "metadata": {},
   "outputs": [],
   "source": [
    "monitored_features =['cost_km_2023','length']"
   ]
  },
  {
   "cell_type": "code",
   "execution_count": 132,
   "id": "3e6e61e9",
   "metadata": {},
   "outputs": [],
   "source": [
    "z_scores = np.abs(zscore(continuous_data_array))\n",
    "z_scores_monitored = np.abs(zscore(df[monitored_features]))"
   ]
  },
  {
   "cell_type": "code",
   "execution_count": 133,
   "id": "b405f4cf",
   "metadata": {},
   "outputs": [],
   "source": [
    "df_zscores_monitored = df[monitored_features].copy()\n",
    "for i, column in enumerate(monitored_features):\n",
    "    df_zscores_monitored[column + '_zscore'] = z_scores[:, i]"
   ]
  },
  {
   "cell_type": "code",
   "execution_count": 134,
   "id": "66776f97",
   "metadata": {},
   "outputs": [],
   "source": [
    "df_model_zscores = df_model.copy()\n",
    "for i, column in enumerate(cont_feats):\n",
    "    df_model_zscores[column + '_zscore'] = z_scores[:, i]"
   ]
  },
  {
   "cell_type": "code",
   "execution_count": null,
   "id": "d327f674",
   "metadata": {
    "scrolled": true
   },
   "outputs": [],
   "source": [
    "df_model_zscores"
   ]
  },
  {
   "cell_type": "code",
   "execution_count": 136,
   "id": "1ebc5571",
   "metadata": {},
   "outputs": [],
   "source": [
    "threshold = 3\n",
    "outliers = (z_scores_monitored > threshold)"
   ]
  },
  {
   "cell_type": "code",
   "execution_count": 137,
   "id": "3dcab6fd",
   "metadata": {},
   "outputs": [
    {
     "data": {
      "image/png": "[encoded data removed]",
      "text/plain": [
       "<Figure size 1000x500 with 1 Axes>"
      ]
     },
     "metadata": {},
     "output_type": "display_data"
    }
   ],
   "source": [
    "column_to_plot = \"length_zscore\"\n",
    "\n",
    "# Histogram\n",
    "plt.figure(figsize=(10, 5))\n",
    "sns.histplot(df_model_zscores[column_to_plot], kde=True)\n",
    "plt.title(f'Histogram of {column_to_plot}')\n",
    "plt.show()"
   ]
  },
  {
   "cell_type": "code",
   "execution_count": 138,
   "id": "ab6a6a92",
   "metadata": {},
   "outputs": [
    {
     "data": {
      "image/png": "[encoded data removed]",
      "text/plain": [
       "<Figure size 1000x500 with 1 Axes>"
      ]
     },
     "metadata": {},
     "output_type": "display_data"
    }
   ],
   "source": [
    "column_to_plot = \"cost_km_2023_zscore\"\n",
    "\n",
    "# Histogram\n",
    "plt.figure(figsize=(10, 5))\n",
    "sns.histplot(df_model_zscores[column_to_plot], kde=True)\n",
    "plt.title(f'Histogram of {column_to_plot}')\n",
    "plt.show()"
   ]
  },
  {
   "cell_type": "code",
   "execution_count": 139,
   "id": "50c9ac21",
   "metadata": {},
   "outputs": [
    {
     "data": {
      "image/png": "[encoded data removed]",
      "text/plain": [
       "<Figure size 1000x500 with 1 Axes>"
      ]
     },
     "metadata": {},
     "output_type": "display_data"
    }
   ],
   "source": [
    "column_to_plot = \"city_density_zscore\" \n",
    "\n",
    "# Histogram\n",
    "plt.figure(figsize=(10, 5))\n",
    "sns.histplot(df_model_zscores[column_to_plot], kde=True)\n",
    "plt.title(f'Histogram of {column_to_plot}')\n",
    "plt.show()"
   ]
  },
  {
   "cell_type": "code",
   "execution_count": 140,
   "id": "a7705097",
   "metadata": {},
   "outputs": [
    {
     "data": {
      "image/png": "[encoded data removed]",
      "text/plain": [
       "<Figure size 1000x500 with 1 Axes>"
      ]
     },
     "metadata": {},
     "output_type": "display_data"
    }
   ],
   "source": [
    "column_to_plot = \"city_density_zscore\"\n",
    "\n",
    "# Histogram\n",
    "plt.figure(figsize=(10, 5))\n",
    "sns.histplot(df_model_zscores[column_to_plot], kde=True)\n",
    "plt.title(f'Histogram of {column_to_plot}')\n",
    "plt.show()"
   ]
  },
  {
   "cell_type": "markdown",
   "id": "d8315e4e",
   "metadata": {},
   "source": [
    "### Analysis of Z-score Plots\n",
    "\n",
    "There are several things, I'm looking for in the above z-score distributions:\n",
    "\n",
    "- 1. The magnitude of the scores themselves\n",
    "\n",
    "Within each of the above plots, we can see that the majority of the data is within 1 standard deviation of the mean (0). This is good, and healthy, but there is also a smaller minority that is beyond 3 standard deviations of the mean.\n",
    "- 2. Spread of the scores\n",
    "\n",
    "The spread refers to the shape of the distributions. Since we're dealing with features that are incapable of being negative, we can only really look at the right spread of the data. Again, the spread is generally within a standard deviation of the mean. There is a longer tail within some of the distribtions, which tells me there are some outliers that should be removed.\n",
    "\n",
    "- 3. Shape of the scores\n",
    "\n",
    "This is called Kurtosis, but just think of it as the flatness/peakyness. Each curve is relatively peaky in that they aren't flat. This is an indicator that there is a significant grouping around specific values. When these groups occur beyond 2 standard deviations, that's a signal that there are outliers.\n",
    "    "
   ]
  },
  {
   "cell_type": "markdown",
   "id": "0e95bf64",
   "metadata": {},
   "source": [
    "### IQR Plots"
   ]
  },
  {
   "cell_type": "code",
   "execution_count": 141,
   "id": "38f051c1",
   "metadata": {},
   "outputs": [],
   "source": [
    "Q1 = df[cont_feats].quantile(0.25)\n",
    "Q3 = df[cont_feats].quantile(0.75)\n",
    "IQR = Q3 - Q1\n",
    "\n",
    "lower_bound = Q1 - 1.5 * IQR\n",
    "upper_bound = Q3 + 1.5 * IQR\n",
    "\n",
    "outliers_iqr = ((df[cont_feats] < lower_bound) | (df[cont_feats] > upper_bound))"
   ]
  },
  {
   "cell_type": "markdown",
   "id": "f5a463bb",
   "metadata": {},
   "source": [
    "#### Cost 2021"
   ]
  },
  {
   "cell_type": "code",
   "execution_count": 142,
   "id": "180837a1",
   "metadata": {},
   "outputs": [],
   "source": [
    "colors = np.where(outliers_iqr['cost_km_2023'], 'lightblue', 'pink')"
   ]
  },
  {
   "cell_type": "code",
   "execution_count": 143,
   "id": "dd55eb2e",
   "metadata": {},
   "outputs": [
    {
     "data": {
      "image/png": "[encoded data removed]",
      "text/plain": [
       "<Figure size 800x550 with 1 Axes>"
      ]
     },
     "metadata": {},
     "output_type": "display_data"
    }
   ],
   "source": [
    "plt.scatter(df[cont_feats].index, df[cont_feats]['cost_km_2023'], c=colors)\n",
    "plt.title(\"cost_km_2023- IQR\")\n",
    "plt.xlabel(\"Index\")\n",
    "plt.ylabel(\"Value\")\n",
    "\n",
    "legend_elements = [Line2D([0], [0], marker='o', color='w', label='Outlier', markersize=10, markerfacecolor='lightblue'),\n",
    "                   Line2D([0], [0], marker='o', color='w', label='Regular Data', markersize=10, markerfacecolor='pink')]\n",
    "plt.legend(handles=legend_elements, loc='upper right')\n",
    "\n",
    "plt.show()"
   ]
  },
  {
   "cell_type": "code",
   "execution_count": 144,
   "id": "c7f02f52",
   "metadata": {},
   "outputs": [
    {
     "data": {
      "text/plain": [
       "134"
      ]
     },
     "execution_count": 144,
     "metadata": {},
     "output_type": "execute_result"
    }
   ],
   "source": [
    "outliers_iqr['cost_km_2023'].sum()"
   ]
  },
  {
   "cell_type": "markdown",
   "id": "563e4809",
   "metadata": {},
   "source": [
    "#### Length"
   ]
  },
  {
   "cell_type": "code",
   "execution_count": 145,
   "id": "5991632f",
   "metadata": {},
   "outputs": [],
   "source": [
    "colors = np.where(outliers_iqr['length'], 'lightblue', 'pink')"
   ]
  },
  {
   "cell_type": "code",
   "execution_count": 146,
   "id": "ffe13970",
   "metadata": {},
   "outputs": [
    {
     "data": {
      "image/png": "[encoded data removed]",
      "text/plain": [
       "<Figure size 800x550 with 1 Axes>"
      ]
     },
     "metadata": {},
     "output_type": "display_data"
    }
   ],
   "source": [
    "plt.scatter(df[cont_feats].index, df[cont_feats]['length'], c=colors)\n",
    "plt.title(\"Length- IQR\")\n",
    "plt.xlabel(\"Index\")\n",
    "plt.ylabel(\"Value\")\n",
    "\n",
    "legend_elements = [Line2D([0], [0], marker='o', color='w', label='Outlier', markersize=10, markerfacecolor='lightblue'),\n",
    "                   Line2D([0], [0], marker='o', color='w', label='Regular Data', markersize=10, markerfacecolor='pink')]\n",
    "plt.legend(handles=legend_elements, loc='upper right')\n",
    "\n",
    "plt.show()"
   ]
  },
  {
   "cell_type": "code",
   "execution_count": 147,
   "id": "3b042989",
   "metadata": {},
   "outputs": [
    {
     "data": {
      "text/plain": [
       "74"
      ]
     },
     "execution_count": 147,
     "metadata": {},
     "output_type": "execute_result"
    }
   ],
   "source": [
    "outliers_iqr['length'].sum()"
   ]
  },
  {
   "cell_type": "markdown",
   "id": "464b33ad",
   "metadata": {},
   "source": [
    "#### City Density"
   ]
  },
  {
   "cell_type": "code",
   "execution_count": 148,
   "id": "905a9b6c",
   "metadata": {},
   "outputs": [],
   "source": [
    "colors = np.where(outliers_iqr['city_density'], 'lightblue', 'pink')"
   ]
  },
  {
   "cell_type": "code",
   "execution_count": 149,
   "id": "52620a9f",
   "metadata": {},
   "outputs": [
    {
     "data": {
      "image/png": "[encoded data removed]",
      "text/plain": [
       "<Figure size 800x550 with 1 Axes>"
      ]
     },
     "metadata": {},
     "output_type": "display_data"
    }
   ],
   "source": [
    "plt.scatter(df[cont_feats].index, df[cont_feats]['city_density'], c=colors)\n",
    "plt.title(\"city_density- IQR\")\n",
    "plt.xlabel(\"Index\")\n",
    "plt.ylabel(\"Value\")\n",
    "\n",
    "legend_elements = [Line2D([0], [0], marker='o', color='w', label='Outlier', markersize=10, markerfacecolor='lightblue'),\n",
    "                   Line2D([0], [0], marker='o', color='w', label='Regular Data', markersize=10, markerfacecolor='pink')]\n",
    "plt.legend(handles=legend_elements, loc='upper right')\n",
    "\n",
    "plt.show()"
   ]
  },
  {
   "cell_type": "code",
   "execution_count": 150,
   "id": "ccaee1ba",
   "metadata": {},
   "outputs": [
    {
     "data": {
      "text/plain": [
       "123"
      ]
     },
     "execution_count": 150,
     "metadata": {},
     "output_type": "execute_result"
    }
   ],
   "source": [
    "outliers_iqr['city_density'].sum()"
   ]
  },
  {
   "cell_type": "markdown",
   "id": "a4d25751",
   "metadata": {},
   "source": [
    "### Analysis of IQR plots\n",
    "\n",
    "With the above plot, it's difficult to tell which indexes are present in both the Z-score and the IQR plots. However, it's clear there are some outliers that need to be dealt with. Importantly however, it's notable that the dataset appears to be healthy, despite several outliers.\n",
    "\n",
    "Given the context of the data, outliers (and errors) should be expected. It's difficult to organize a dataset over a period of time that accurately captures the minute details of a transit project that is occuring over several years. Even more challenging is that the data being collected is often shared by different cultures who have different unwritten rules about data reporting and how that data is transmitted.\n",
    "\n",
    "Because of this, I'll need to be more permissive when it comes to outliers."
   ]
  },
  {
   "cell_type": "markdown",
   "id": "99cd1357",
   "metadata": {},
   "source": [
    "### Outlier Removal\n",
    "\n",
    "To identify which outliers need to be evaluated, I'll gather the indexes that were flagged by both the z-score calculation and the IQR calculation. By doing this, I'm being relatively conservative in my estimation of these outliers. Rather than removing values that show up in either analysis, I'd like to evaluate only the most eggregious outliers in the dataset.\n",
    "\n",
    "Additionally, I'll only be removing the outliers that are present in the most important features ('length','tunnel','duration','cost_km')."
   ]
  },
  {
   "cell_type": "code",
   "execution_count": 151,
   "id": "0cd0f94f",
   "metadata": {},
   "outputs": [],
   "source": [
    "outliers_iqr = ((df[monitored_features] < lower_bound) | (df[monitored_features] > upper_bound))"
   ]
  },
  {
   "cell_type": "code",
   "execution_count": 152,
   "id": "a3d3b887",
   "metadata": {},
   "outputs": [],
   "source": [
    "outliers_combined = outliers | outliers_iqr"
   ]
  },
  {
   "cell_type": "code",
   "execution_count": 153,
   "id": "1b71f963",
   "metadata": {},
   "outputs": [
    {
     "data": {
      "text/plain": [
       "74"
      ]
     },
     "execution_count": 153,
     "metadata": {},
     "output_type": "execute_result"
    }
   ],
   "source": [
    "outliers_combined['length'].sum()"
   ]
  },
  {
   "cell_type": "code",
   "execution_count": 154,
   "id": "a317c4bb",
   "metadata": {},
   "outputs": [
    {
     "data": {
      "text/plain": [
       "0.0"
      ]
     },
     "execution_count": 154,
     "metadata": {},
     "output_type": "execute_result"
    }
   ],
   "source": [
    "outliers_combined['duration'].sum()"
   ]
  },
  {
   "cell_type": "code",
   "execution_count": 155,
   "id": "a84cff78",
   "metadata": {},
   "outputs": [
    {
     "data": {
      "text/plain": [
       "134"
      ]
     },
     "execution_count": 155,
     "metadata": {},
     "output_type": "execute_result"
    }
   ],
   "source": [
    "outliers_combined['cost_km_2023'].sum()"
   ]
  },
  {
   "cell_type": "code",
   "execution_count": 156,
   "id": "d4e68797",
   "metadata": {},
   "outputs": [],
   "source": [
    "selected_columns = ['cost_km_2023']"
   ]
  },
  {
   "cell_type": "code",
   "execution_count": 157,
   "id": "7ced48f4",
   "metadata": {},
   "outputs": [
    {
     "data": {
      "text/plain": [
       "cost_km_2023    134\n",
       "dtype: int64"
      ]
     },
     "execution_count": 157,
     "metadata": {},
     "output_type": "execute_result"
    }
   ],
   "source": [
    "outliers_combined[selected_columns].sum()"
   ]
  },
  {
   "cell_type": "code",
   "execution_count": 158,
   "id": "8a185f4b",
   "metadata": {},
   "outputs": [],
   "source": [
    "outliers_indices = outliers_combined[selected_columns].any(axis=1)\n",
    "outliers_list = outliers_indices[outliers_indices].index.tolist()"
   ]
  },
  {
   "cell_type": "code",
   "execution_count": 159,
   "id": "707f1b8a",
   "metadata": {},
   "outputs": [
    {
     "data": {
      "text/plain": [
       "134"
      ]
     },
     "execution_count": 159,
     "metadata": {},
     "output_type": "execute_result"
    }
   ],
   "source": [
    "len(outliers_list)"
   ]
  },
  {
   "cell_type": "markdown",
   "id": "d6c827db",
   "metadata": {},
   "source": [
    "### Target Variable Outliers\n",
    "\n",
    "Since the method I used to evaluate the outliers in the non-target variables used the same processed data as the model, the target variable was dropped from the dataset and not included in the previous outlier evaluation."
   ]
  },
  {
   "cell_type": "code",
   "execution_count": 160,
   "id": "6a5aa2ad",
   "metadata": {},
   "outputs": [],
   "source": [
    "Q1 = df['cost_real_2023'].quantile(0.25)\n",
    "Q3 = df['cost_real_2023'].quantile(0.75)\n",
    "IQR = Q3 - Q1\n",
    "\n",
    "lower_bound = Q1 - 1.5 * IQR\n",
    "upper_bound = Q3 + 1.5 * IQR\n",
    "\n",
    "\n",
    "outliers_iqr_target = ((df['cost_real_2023'] < lower_bound) | (df['cost_real_2023'] > upper_bound))"
   ]
  },
  {
   "cell_type": "code",
   "execution_count": 161,
   "id": "74071070",
   "metadata": {},
   "outputs": [
    {
     "data": {
      "image/png": "[encoded data removed]",
      "text/plain": [
       "<Figure size 800x550 with 1 Axes>"
      ]
     },
     "metadata": {},
     "output_type": "display_data"
    }
   ],
   "source": [
    "plt.scatter(df[cont_feats].index, df['cost_real_2023'], c=colors)\n",
    "plt.title(\"cost_real_2023- IQR\")\n",
    "plt.xlabel(\"Index\")\n",
    "plt.ylabel(\"Value\")\n",
    "\n",
    "legend_elements = [Line2D([0], [0], marker='o', color='w', label='Outlier', markersize=10, markerfacecolor='lightblue'),\n",
    "                   Line2D([0], [0], marker='o', color='w', label='Regular Data', markersize=10, markerfacecolor='pink')]\n",
    "plt.legend(handles=legend_elements, loc='upper right')\n",
    "\n",
    "plt.show()"
   ]
  },
  {
   "cell_type": "code",
   "execution_count": 162,
   "id": "1c5abb88",
   "metadata": {},
   "outputs": [],
   "source": [
    "outliers_iqr_target = ((df['cost_real_2023'] < lower_bound) | (df['cost_real_2023'] > upper_bound))"
   ]
  },
  {
   "cell_type": "code",
   "execution_count": 163,
   "id": "ee5392d5",
   "metadata": {},
   "outputs": [],
   "source": [
    "outlier_indices = df[outliers_iqr_target].index.tolist()"
   ]
  },
  {
   "cell_type": "code",
   "execution_count": 164,
   "id": "43c11d82",
   "metadata": {},
   "outputs": [
    {
     "data": {
      "text/plain": [
       "95"
      ]
     },
     "execution_count": 164,
     "metadata": {},
     "output_type": "execute_result"
    }
   ],
   "source": [
    "len(outlier_indices)"
   ]
  },
  {
   "cell_type": "code",
   "execution_count": 165,
   "id": "4279683a",
   "metadata": {},
   "outputs": [],
   "source": [
    "outliers_list.extend(outlier_indices)"
   ]
  },
  {
   "cell_type": "code",
   "execution_count": 166,
   "id": "b3130dcb",
   "metadata": {},
   "outputs": [],
   "source": [
    "outliers_list = list(set(outliers_list))"
   ]
  },
  {
   "cell_type": "code",
   "execution_count": 167,
   "id": "05778d12",
   "metadata": {},
   "outputs": [
    {
     "data": {
      "text/plain": [
       "177"
      ]
     },
     "execution_count": 167,
     "metadata": {},
     "output_type": "execute_result"
    }
   ],
   "source": [
    "len(outliers_list)"
   ]
  },
  {
   "cell_type": "markdown",
   "id": "d5ab4049",
   "metadata": {},
   "source": [
    "### Model Summary"
   ]
  },
  {
   "cell_type": "code",
   "execution_count": 168,
   "id": "4ab35a84",
   "metadata": {},
   "outputs": [],
   "source": [
    "data_summary = {\n",
    "    'Model': [\n",
    "        'Model First Pass'\n",
    "    ],\n",
    "    'Version': ['M_A1'],\n",
    "    'Dataset': ['Base df'],\n",
    "    'MAE': [2036.8804],\n",
    "    'MSE': [32780828.8929],\n",
    "    'RMSE': [5725.4545],\n",
    "    'R2': [0.3923],\n",
    "    'RMSLE': [0.8174],\n",
    "    'MAPE': [0.7291]\n",
    "}\n",
    "\n",
    "combined_metrics = pd.DataFrame(data_summary)"
   ]
  },
  {
   "cell_type": "code",
   "execution_count": 169,
   "id": "96bd3b6f",
   "metadata": {},
   "outputs": [
    {
     "data": {
      "text/html": [
       "<div>\n",
       "<style scoped>\n",
       "    .dataframe tbody tr th:only-of-type {\n",
       "        vertical-align: middle;\n",
       "    }\n",
       "\n",
       "    .dataframe tbody tr th {\n",
       "        vertical-align: top;\n",
       "    }\n",
       "\n",
       "    .dataframe thead th {\n",
       "        text-align: right;\n",
       "    }\n",
       "</style>\n",
       "<table border=\"1\" class=\"dataframe\">\n",
       "  <thead>\n",
       "    <tr style=\"text-align: right;\">\n",
       "      <th></th>\n",
       "      <th>Model</th>\n",
       "      <th>Version</th>\n",
       "      <th>Dataset</th>\n",
       "      <th>MAE</th>\n",
       "      <th>MSE</th>\n",
       "      <th>RMSE</th>\n",
       "      <th>R2</th>\n",
       "      <th>RMSLE</th>\n",
       "      <th>MAPE</th>\n",
       "    </tr>\n",
       "  </thead>\n",
       "  <tbody>\n",
       "    <tr>\n",
       "      <th>0</th>\n",
       "      <td>Model First Pass</td>\n",
       "      <td>M_A1</td>\n",
       "      <td>Base df</td>\n",
       "      <td>2036.8804</td>\n",
       "      <td>3.278083e+07</td>\n",
       "      <td>5725.4545</td>\n",
       "      <td>0.3923</td>\n",
       "      <td>0.8174</td>\n",
       "      <td>0.7291</td>\n",
       "    </tr>\n",
       "  </tbody>\n",
       "</table>\n",
       "</div>"
      ],
      "text/plain": [
       "              Model Version  Dataset        MAE           MSE       RMSE  \\\n",
       "0  Model First Pass    M_A1  Base df  2036.8804  3.278083e+07  5725.4545   \n",
       "\n",
       "       R2   RMSLE    MAPE  \n",
       "0  0.3923  0.8174  0.7291  "
      ]
     },
     "execution_count": 169,
     "metadata": {},
     "output_type": "execute_result"
    }
   ],
   "source": [
    "combined_metrics"
   ]
  },
  {
   "cell_type": "markdown",
   "id": "ec3b5069",
   "metadata": {},
   "source": [
    "### Pickles"
   ]
  },
  {
   "cell_type": "code",
   "execution_count": 123,
   "id": "ae03afac",
   "metadata": {},
   "outputs": [],
   "source": [
    "with open('pickles/outliers_list.pkl', 'wb') as f:\n",
    "    pickle.dump(outliers_list, f)\n",
    "with open('pickles/combined_metrics.pkl', 'wb') as f:\n",
    "    pickle.dump(combined_metrics, f)"
   ]
  },
  {
   "cell_type": "code",
   "execution_count": 124,
   "id": "414e255a",
   "metadata": {},
   "outputs": [
    {
     "data": {
      "text/plain": [
       "(1664, 86)"
      ]
     },
     "execution_count": 124,
     "metadata": {},
     "output_type": "execute_result"
    }
   ],
   "source": [
    "df.shape"
   ]
  }
 ],
 "metadata": {
  "kernelspec": {
   "display_name": "Python 3 (ipykernel)",
   "language": "python",
   "name": "python3"
  },
  "language_info": {
   "codemirror_mode": {
    "name": "ipython",
    "version": 3
   },
   "file_extension": ".py",
   "mimetype": "text/x-python",
   "name": "python",
   "nbconvert_exporter": "python",
   "pygments_lexer": "ipython3",
   "version": "3.9.16"
  }
 },
 "nbformat": 4,
 "nbformat_minor": 5
}
