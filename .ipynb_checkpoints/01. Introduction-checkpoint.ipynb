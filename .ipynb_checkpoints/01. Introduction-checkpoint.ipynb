{
 "cells": [
  {
   "cell_type": "markdown",
   "id": "ad99d95e",
   "metadata": {},
   "source": [
    "# Introduction"
   ]
  },
  {
   "cell_type": "markdown",
   "id": "4e5aa0e7",
   "metadata": {},
   "source": [
    "Efficient public transit systems play a pivotal role in enhancing mobility, reducing carbon footprints, and fostering sustainable city growth. In many American cities, there is an ongoing and concerted effort to improve multi-modal transit and build better transit systems that supplement, or replace, the predominantly car-oriented infrastructure. Often these transit system improvements are subject to scrutiny, as urban rail projects require an extensive up-front investment of public money.\n",
    "Within many transit agencies financial constraints exist and officials are often hesitant to allocate significant public funds for long-term projects. This hesitancy is intensified by the potential for unexpected expenses that could jeopardize an entire project. There's a pressing need for a transparent tool that provides accurate cost assessments for urban rail projects that doesn't rely on the participation of government officials.\n",
    "\n",
    "This analysis aims to provide community members, local officials, and advocates with realistic construction cost estimates for passenger rail projects, tailored to the specific constraints of individual communities. Such a tool could help optimize public fund allocation and bridge the gap between political decision-making and community needs.\n",
    "\n",
    "The objective of this analysis was to examine existing data on the construction costs of train lines to develop a predictive model capable of estimating the total cost of such projects. The endeavor produced two primary outputs:\n",
    "\n",
    "1. A specialized model intended for professionals, such as engineers, familiar with particular locales.\n",
    "2. A general-use model, designed for anyone keen on gauging transit project expenses.\n",
    "\n",
    "By doing so, I hope to contribute to the creation of more efficient, timely, and cost-effective transit projects that better serve the needs of urban populations globally. There are several important metrics to track and within this sheet I will outline the data that will be used in the analysis."
   ]
  },
  {
   "cell_type": "markdown",
   "id": "c3654065",
   "metadata": {},
   "source": [
    "## The Data"
   ]
  },
  {
   "cell_type": "markdown",
   "id": "388881f3",
   "metadata": {},
   "source": [
    "The basis for this analysis will be the data collected and organized by the [Transit Costs Project](https://transitcosts.com/) (TCP) which is affiliated with NYU Marron Institute of Urban Management. The Transit Costs Project has provided their own analysis of the data, which can be found on their [analysis page](https://transitcosts.com/new-data/). I intend to build upon their analysis to build a tool that provide a baseline cost estimate to help estimate the overall cost for a project, given some information about the project area.\n",
    "\n",
    "The final dataset used in this project will be a modified version of the dataset discussed above. Within the TCP's dataset, there were approximately 150 rows with missing values. The original research team, for the purposes of compiling a trustworthy dataset, left several items blank if they could not verify their true values from official sources. I opted to backfill these datapoints by using a variety of techniques that, I feel, provided me with a suitable approximation. It's worth noting that many of these techniques are imperfect and should be viewed as a potential sources of errors. I'll discuss the techniques used in the the data cleaning section of this analysis.\n",
    "\n",
    "The Transit Project data includes several important features that will be used in my analysis, however those features are primarily related to the physical attributes of the railway themselves. In addition to this data, I intend to use the provided location for each project to produce several relevant features that pertain to the specific site conditions. Below, I'll outline the existing features and their purpose."
   ]
  },
  {
   "cell_type": "markdown",
   "id": "57eb78a6",
   "metadata": {},
   "source": [
    "### The Features"
   ]
  },
  {
   "cell_type": "markdown",
   "id": "884a54b9",
   "metadata": {},
   "source": [
    "| Feature                     | Unit            | Description                                                                                   |\n",
    "|-----------------------------|-----------------|-----------------------------------------------------------------------------------------------|\n",
    "| ID                          | -               | A unique identifier for each record in the dataset.                                           |\n",
    "| Country                     | -               | The country where the transit project is located.                                             |\n",
    "| City                        | -               | The city where the transit project is located.                                                |\n",
    "| Line                        | -               | The name or identifier of the transit line within the city.                                   |\n",
    "| Phase                       | -               | The phase of the transit project (e.g., Phase 1, Phase 2, etc.).                              |\n",
    "| Start year                  | Year            | The year in which the transit project construction started.                                   |\n",
    "| End year                    | Year            | The year in which the transit project construction was completed.                             |\n",
    "| RR?                         | -               | A binary indicator (Yes/No) for whether the transit line is a rapid transit or not.           |\n",
    "| Length                      | Kilometers/Miles | The total length of the transit line.                                                         |\n",
    "| TunnelPer                   | Percentage (%)   | The percentage of the transit line that runs underground in tunnels.                          |\n",
    "| Tunnel                      | Kilometers/Miles | The length of the transit line that runs underground in tunnels.                              |\n",
    "| Elevated                    | Kilometers/Miles | The length of the transit line that is elevated above ground level.                           |\n",
    "| Atgrade                     | Kilometers/Miles | The length of the transit line that is at ground level (at-grade).                            |\n",
    "| Stations                    | Count           | The total number of stations on the transit line.                                             |\n",
    "| Platform Length    | Meters          | The average length of platforms at stations.                                                  |\n",
    "| Source1                     | -               | The source or reference from which the data was obtained.                                    |\n",
    "| Cost                        | Currency        | The cost of the transit project in the original currency.                                     |\n",
    "| Currency                    | -               | The currency in which the cost is specified.                                                  |\n",
    "| Year                        | Year            | The year in which the cost value was recorded.                                                |\n",
    "| PPP rate                    | -               | The Purchasing Power Parity (PPP) rate for converting the cost to a common currency.         |\n",
    "| Real cost                   | Currency        | The adjusted cost of the transit project, considering the PPP rate and inflation.            |\n",
    "| Cost/km         | Millions/km        | The cost of the transit project per kilometer.                                               |\n",
    "| Cheap?                      | -               | A binary indicator (Yes/No) for whether the transit project is considered cheap or not.      |\n",
    "| Clength                     | Millions        | The cost of the transit project per kilometer for the length of the transit line.            |\n",
    "| Ctunnel                     | Millions        | The cost of the transit project per kilometer for the tunnel portion.                         |\n",
    "| Anglo?                      | -               | A binary indicator (Yes/No) for whether the transit project is located in an Anglophone country. |\n",
    "| Inflation Index             | -               | The inflation index for adjusting the cost to real value.                                     |\n",
    "| Real cost    | 2021 dollars    | The adjusted cost of the transit project in 2021 dollars.                                    |\n",
    "| Cost/km      | Millions        | The cost of the transit project per kilometer in 2021 dollars.                               |\n",
    "| Source2                     | -               | Additional source or reference for the data.                                                  |\n",
    "| Reference                   | -               | Any additional reference information related to the transit project.                         |"
   ]
  },
  {
   "cell_type": "markdown",
   "id": "235a7ec6",
   "metadata": {},
   "source": [
    "### Visualizing the Data\n",
    "\n",
    "For any model produced by this analysis to be relevant, the underlying data needs to represent a diverse population that encapsulates different approaches to implementating an urban rail project. Below I'll provide some visualizations to help show what the data look like."
   ]
  },
  {
   "cell_type": "code",
   "execution_count": null,
   "id": "00adc48f",
   "metadata": {},
   "outputs": [],
   "source": [
    "import plotly.express as px\n",
    "import pickle\n",
    "import pandas as pd\n",
    "import plotly.offline as pyo\n",
    "pyo.init_notebook_mode(connected=True)\n",
    "import plotly.graph_objects as go\n",
    "with open('pickles/df_engineered.pkl', 'rb') as f:\n",
    "    df_engineered = pickle.load(f)\n",
    "with open('pickles/df_base.pkl', 'rb') as f:\n",
    "    df_base = pickle.load(f)\n",
    "with open('pickles/data.pkl', 'rb') as f:\n",
    "    data = pickle.load(f)"
   ]
  },
  {
   "cell_type": "markdown",
   "id": "1b319107",
   "metadata": {},
   "source": [
    "#### Where are the data?\n",
    "\n",
    "Below is a map of the data showing which countries and regions the projects are from."
   ]
  },
  {
   "cell_type": "code",
   "execution_count": null,
   "id": "5c3db898",
   "metadata": {
    "scrolled": false
   },
   "outputs": [],
   "source": [
    "fig = px.scatter_geo(df_engineered, lat='lat', lon='lng', color=\"country\",\n",
    "                     hover_name=\"country\", size=\"length\",\n",
    "                     projection=\"natural earth\")\n",
    "\n",
    "fig.update_geos(\n",
    "    resolution=50,\n",
    "    showcoastlines=True, coastlinecolor=\"RebeccaPurple\",\n",
    "    showland=True, landcolor=\"LightGreen\",\n",
    "    showocean=True, oceancolor=\"LightBlue\",\n",
    "    showlakes=False, lakecolor=\"Blue\",\n",
    "    showrivers=False, rivercolor=\"Blue\"\n",
    ")\n",
    "fig.update_layout(\n",
    "    plot_bgcolor='rgba(0,0,0,0)',\n",
    "    paper_bgcolor='rgba(0,0,0,0)',\n",
    "\n",
    ")\n",
    "fig.update_layout(margin=dict(t=0, b=0, l=0, r=0))\n",
    "fig.write_html(\"plots/bubble_projects_map.html\")\n",
    "fig.show()"
   ]
  },
  {
   "cell_type": "markdown",
   "id": "30883d78",
   "metadata": {},
   "source": [
    "It's important that the data be well distrubuted globally such that there is sufficient representation of a diverse group of projects. Below is a plot of how the projects are spread around the globe. This provides insight into the potential bias of the data."
   ]
  },
  {
   "cell_type": "markdown",
   "id": "b468e62b",
   "metadata": {},
   "source": [
    "#### When are the data from?\n",
    "\n",
    "The provided dataset includes information from projects spanning between 1965 and 2026. Let's look at a distribution of the project end dats to see what they look like."
   ]
  },
  {
   "cell_type": "markdown",
   "id": "77505999",
   "metadata": {},
   "source": [
    "First, the plot of 'start_year' vs. 'end_year' shows that the duration of a project isn't strictly tied to how long the rail line is going to be. There are clearly other factors that dictate how quickly a project can be built."
   ]
  },
  {
   "cell_type": "code",
   "execution_count": null,
   "id": "736689e5",
   "metadata": {
    "scrolled": false
   },
   "outputs": [],
   "source": [
    "df_base['length'] = pd.to_numeric(df_base['length'], errors='coerce')\n",
    "fig = px.scatter(df_base, x=\"start_year\",y='end_year',color = 'length',color_continuous_scale='Portland')\n",
    "fig.write_html(\"plots/start_end_v_length.html\")\n",
    "fig.show()"
   ]
  },
  {
   "cell_type": "markdown",
   "id": "b0d9c5dd",
   "metadata": {},
   "source": [
    "#### What question are we trying to answer?\n",
    "\n",
    "The premise of this analysis is that transit costs vary widely from project to project and the costs of a project are difficult to predict based only on the length of the proposed line. The cost of each urban rail project varies from country to country and even significantly from city to city, so this analysis will look to identify a set of features that accurately predicts the cost of a transit project. I've generated several plots that illustrate how the price of completed projects correlates with other aspects of the project."
   ]
  },
  {
   "cell_type": "markdown",
   "id": "78c4f19d",
   "metadata": {},
   "source": [
    "The plot below shows how significantly the cost of a project can vary within a country. This distribution implies that there are some underlying features unique to each project site that have a significant impact on the total cost of a project in that area and that the total cost isn't perfectly linear with the total track 'length'."
   ]
  },
  {
   "cell_type": "code",
   "execution_count": null,
   "id": "822165ca",
   "metadata": {},
   "outputs": [],
   "source": [
    "fig = px.scatter(df_engineered.sort_values(by='country'), \n",
    "                 x='country',\n",
    "                 y='cost_km_2023',\n",
    "                 color='length',\n",
    "                 color_continuous_scale='Portland',\n",
    "                )\n",
    "\n",
    "fig.update_layout(width=950, height=400)\n",
    "fig.write_html(\"plots/scatter_country_costkm_length.html\")\n",
    "fig.show()"
   ]
  },
  {
   "cell_type": "markdown",
   "id": "9ae12b08",
   "metadata": {},
   "source": [
    "and then once again, with duration as the 'color'."
   ]
  },
  {
   "cell_type": "code",
   "execution_count": null,
   "id": "62f3ba5c",
   "metadata": {},
   "outputs": [],
   "source": [
    "fig = px.scatter(df_engineered.sort_values(by='country'), \n",
    "                 x='country',\n",
    "                 y='cost_km_2023',\n",
    "                 color='duration',\n",
    "                 color_continuous_scale='Portland',\n",
    "                )\n",
    "\n",
    "fig.update_layout(width=950, height=400)\n",
    "fig.write_html(\"plots/scatter_country_costkm.html\")\n",
    "fig.show()"
   ]
  },
  {
   "cell_type": "markdown",
   "id": "42c37516",
   "metadata": {},
   "source": [
    "This variance in cost also continues when we look at the comparison between the most expensive projects and the most expensive projects per km. Below we plot a sorted list of the projects in the dataset, where the y-axis represents the 'average total cost' of a project and the color represents the 'average per km' cost."
   ]
  },
  {
   "cell_type": "code",
   "execution_count": null,
   "id": "67960210",
   "metadata": {},
   "outputs": [],
   "source": [
    "df_engineered['average_costkm_country'] = df_engineered.groupby('country')['cost_km_2023'].transform('mean')\n",
    "df_engineered['average_cost_country'] = df_engineered.groupby('country')['cost_real_2023'].transform('mean')\n",
    "df_unique_countries = (df_engineered.drop_duplicates(subset='country')).sort_values(by='average_cost_country', ascending=False)\n",
    "overall_avg = df_unique_countries['average_cost_country'].mean()\n",
    "\n",
    "fig = px.bar(df_unique_countries,\n",
    "             x='country',\n",
    "             y='average_cost_country',\n",
    "             color = 'average_costkm_country',\n",
    "             color_continuous_scale='Portland',\n",
    "             height=500)\n",
    "\n",
    "fig.add_shape(\n",
    "    go.layout.Shape(\n",
    "        type='line',\n",
    "        x0=df_unique_countries['country'].iloc[0],\n",
    "        x1=df_unique_countries['country'].iloc[-1],\n",
    "        y0=overall_avg,\n",
    "        y1=overall_avg,\n",
    "        line=dict(color='red')\n",
    "    )\n",
    ")\n",
    "fig.write_html(\"plots/bar_country_avgCost.html\")\n",
    "fig.show()"
   ]
  },
  {
   "cell_type": "code",
   "execution_count": null,
   "id": "6fbb0be0",
   "metadata": {},
   "outputs": [],
   "source": [
    "avg_cost_by_duration = df_engineered.groupby('duration')['cost_km_2023'].mean().reset_index()\n",
    "count_by_duration = df_engineered.groupby('duration').size().reset_index(name='count')\n",
    "merged_df = avg_cost_by_duration.merge(count_by_duration, on='duration')\n",
    "\n",
    "fig = px.bar(merged_df,\n",
    "             x='duration',\n",
    "             y='cost_km_2023',\n",
    "             color='count',\n",
    "             color_continuous_scale='Portland',\n",
    "             labels={'count': 'Number of Projects'} \n",
    "             )\n",
    "\n",
    "fig.update_layout(title='Average Cost per km by Project Duration',\n",
    "                  xaxis_title='Duration',\n",
    "                  yaxis_title='Average Cost per km (2023)')\n",
    "\n",
    "fig.write_html(\"plots/bar_country_cost_duration.html\")\n",
    "fig.show()"
   ]
  },
  {
   "cell_type": "markdown",
   "id": "940147b5",
   "metadata": {},
   "source": [
    "### Insights\n",
    "\n",
    "Since we've established that the price of a project isn't tied to one specific variable, there are several elements that I'd like to explore further. Specifically, I'm interested in the the relationship between tunneling and cost in a given area. I believe the costs associated with tunneling will be dependent on the underlying soil conditions, as well as the density of the area in question. Additionally, the weather conditions and proximity to the water table in a given area would play a role in determining how much dewatering would need to be completed for each kilometer of construction.\n",
    "\n",
    "In the next sheet, I'll evaluate the distributions of each feature and dictate which features can be ignored."
   ]
  }
 ],
 "metadata": {
  "kernelspec": {
   "display_name": "Python 3 (ipykernel)",
   "language": "python",
   "name": "python3"
  },
  "language_info": {
   "codemirror_mode": {
    "name": "ipython",
    "version": 3
   },
   "file_extension": ".py",
   "mimetype": "text/x-python",
   "name": "python",
   "nbconvert_exporter": "python",
   "pygments_lexer": "ipython3",
   "version": "3.9.16"
  }
 },
 "nbformat": 4,
 "nbformat_minor": 5
}
