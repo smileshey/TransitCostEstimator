{
 "cells": [
  {
   "cell_type": "markdown",
   "id": "f15d4447",
   "metadata": {},
   "source": [
    "# Optimizing Best Model\n",
    "\n",
    "The purpose of this sheet is to optimize the best model that was created within the last few sheets. This will entail evaluating the Cooks Distance to address any remaining datapoints that are influential outliers for this specific model."
   ]
  },
  {
   "cell_type": "code",
   "execution_count": 49,
   "id": "f715053a",
   "metadata": {},
   "outputs": [],
   "source": [
    "import numpy as np\n",
    "import pandas as pd\n",
    "import matplotlib.pyplot as plt\n",
    "import requests\n",
    "import pickle\n",
    "import statsmodels.api as sm\n",
    "\n",
    "import time\n",
    "\n",
    "import pycaret\n",
    "from pycaret.regression import *\n",
    "from pycaret.regression import RegressionExperiment\n",
    "\n",
    "from pandas import json_normalize\n",
    "from sklearn.model_selection import train_test_split, GridSearchCV\n",
    "from sklearn.pipeline import Pipeline\n",
    "from sklearn.naive_bayes import MultinomialNB\n",
    "from sklearn.linear_model import LogisticRegression\n",
    "from sklearn.metrics import confusion_matrix, ConfusionMatrixDisplay\n",
    "from sklearn.feature_extraction.text import CountVectorizer, TfidfVectorizer\n",
    "from sklearn.preprocessing import OrdinalEncoder, StandardScaler, OneHotEncoder\n",
    "from sklearn.compose import ColumnTransformer\n",
    "from sklearn.linear_model import PassiveAggressiveRegressor\n",
    "\n",
    "from itertools import combinations\n",
    "from sklearn.inspection import permutation_importance"
   ]
  },
  {
   "cell_type": "code",
   "execution_count": 50,
   "id": "224a6131",
   "metadata": {},
   "outputs": [],
   "source": [
    "pd.set_option('display.max_columns', None)"
   ]
  },
  {
   "cell_type": "markdown",
   "id": "47f7084c",
   "metadata": {},
   "source": [
    "### Data Import"
   ]
  },
  {
   "cell_type": "code",
   "execution_count": 51,
   "id": "c190ecff",
   "metadata": {},
   "outputs": [],
   "source": [
    "with open('pickles/tuned_blended.pkl', 'rb') as f:\n",
    "    tuned_blended = pickle.load(f)\n",
    "    \n",
    "with open('pickles/df_adj.pkl', 'rb') as f:\n",
    "    df_adj = pickle.load(f)\n",
    "    \n",
    "with open('pickles/df_model.pkl', 'rb') as f:\n",
    "    df_model = pickle.load(f)\n",
    "with open('pickles/df.pkl', 'rb') as f:\n",
    "    df = pickle.load(f) \n",
    "with open('pickles/combined_metrics.pkl', 'rb') as f:\n",
    "    combined_metrics = pickle.load(f)"
   ]
  },
  {
   "cell_type": "markdown",
   "id": "3f386318",
   "metadata": {},
   "source": [
    "### Dataframe setup"
   ]
  },
  {
   "cell_type": "code",
   "execution_count": 52,
   "id": "5eab80ff",
   "metadata": {},
   "outputs": [],
   "source": [
    "df_model= df_adj\n",
    "final = tuned_blended"
   ]
  },
  {
   "cell_type": "code",
   "execution_count": 53,
   "id": "e9e9440c",
   "metadata": {},
   "outputs": [],
   "source": [
    "drop_cols = ['country',\n",
    "             'city',\n",
    "             'start_year',\n",
    "             'end_year',\n",
    "             'cost',\n",
    "             'currency',\n",
    "             'cost_km',\n",
    "             'cost_real',\n",
    "             'cost_km_2021',\n",
    "             'time_diff',\n",
    "             'lat',\n",
    "             'lng',\n",
    "             'wrb_class_name',\n",
    "             'c_length',\n",
    "             'c_tunnel',\n",
    "             'inflation_index',\n",
    "             'ppp_rate'\n",
    "            \n",
    "            ]\n",
    "df_model = df_adj.drop(columns =drop_cols)"
   ]
  },
  {
   "cell_type": "code",
   "execution_count": 54,
   "id": "abcd255d",
   "metadata": {},
   "outputs": [],
   "source": [
    "def convert_str_to_float(val):\n",
    "    if isinstance(val, str):\n",
    "        return float(val.replace(',', ''))\n",
    "    return val\n",
    "\n",
    "cols_to_exclude = ['region', 'sub_region']\n",
    "df_model.loc[:, ~df_model.columns.isin(cols_to_exclude)] = df_model.loc[:, ~df_model.columns.isin(cols_to_exclude)].applymap(convert_str_to_float)"
   ]
  },
  {
   "cell_type": "markdown",
   "id": "6b181269",
   "metadata": {},
   "source": [
    "### Model Data"
   ]
  },
  {
   "cell_type": "code",
   "execution_count": 55,
   "id": "37685b1b",
   "metadata": {},
   "outputs": [],
   "source": [
    "cont_feats = df_model.drop(columns=['region', 'sub_region','wrb_class_value','cost_real_2021']).columns.tolist()\n",
    "cat_feats = ['region', 'sub_region']\n",
    "ordinal_feats = ['wrb_class_value']"
   ]
  },
  {
   "cell_type": "code",
   "execution_count": 56,
   "id": "fe7e8ae7",
   "metadata": {},
   "outputs": [
    {
     "name": "stdout",
     "output_type": "stream",
     "text": [
      "Data for Modeling: (743, 68)\n",
      "Unseen Data For Predictions: (186, 68)\n"
     ]
    }
   ],
   "source": [
    "data = df_model.sample(frac=0.8, random_state=786)\n",
    "data_unseen = df_model.drop(data.index)\n",
    "\n",
    "print('Data for Modeling: ' + str(data.shape))\n",
    "print('Unseen Data For Predictions: ' + str(data_unseen.shape))"
   ]
  },
  {
   "cell_type": "markdown",
   "id": "27218b2e",
   "metadata": {},
   "source": [
    "### Model Setup\n",
    "\n",
    "On sheet 7, we identified the best model (by MAE) to be a blended model consisting of a 'Passive Aggressive Regressor', 'Huber Regressor', and a 'Extra Trees Regressor'. Each model was bagged and tuned before being blended with the weights of .45,0.55. \n",
    "\n",
    "I'll replicate this model below."
   ]
  },
  {
   "cell_type": "code",
   "execution_count": 57,
   "id": "67eedfc7",
   "metadata": {},
   "outputs": [],
   "source": [
    "s = setup(data,\n",
    "          target = 'cost_real_2021',\n",
    "          ordinal_features ={'wrb_class_value': list(range(0, 30))},\n",
    "          categorical_features= cat_feats,\n",
    "          numeric_features= cont_feats,\n",
    "          normalize = True,\n",
    "          normalize_method = 'zscore',\n",
    "          verbose = False,\n",
    "          feature_selection = False,\n",
    "          low_variance_threshold = 0.1,\n",
    "          pca = False, \n",
    "          pca_components = 30,\n",
    "          remove_multicollinearity = False,\n",
    "          multicollinearity_threshold = 0.3\n",
    "         )"
   ]
  },
  {
   "cell_type": "code",
   "execution_count": 58,
   "id": "0acf1004",
   "metadata": {
    "scrolled": true
   },
   "outputs": [
    {
     "data": {
      "text/html": [],
      "text/plain": [
       "<IPython.core.display.HTML object>"
      ]
     },
     "metadata": {},
     "output_type": "display_data"
    },
    {
     "data": {
      "text/html": [
       "<style type=\"text/css\">\n",
       "#T_85c7d_row10_col0, #T_85c7d_row10_col1, #T_85c7d_row10_col2, #T_85c7d_row10_col3, #T_85c7d_row10_col4, #T_85c7d_row10_col5 {\n",
       "  background: yellow;\n",
       "}\n",
       "</style>\n",
       "<table id=\"T_85c7d\">\n",
       "  <thead>\n",
       "    <tr>\n",
       "      <th class=\"blank level0\" >&nbsp;</th>\n",
       "      <th id=\"T_85c7d_level0_col0\" class=\"col_heading level0 col0\" >MAE</th>\n",
       "      <th id=\"T_85c7d_level0_col1\" class=\"col_heading level0 col1\" >MSE</th>\n",
       "      <th id=\"T_85c7d_level0_col2\" class=\"col_heading level0 col2\" >RMSE</th>\n",
       "      <th id=\"T_85c7d_level0_col3\" class=\"col_heading level0 col3\" >R2</th>\n",
       "      <th id=\"T_85c7d_level0_col4\" class=\"col_heading level0 col4\" >RMSLE</th>\n",
       "      <th id=\"T_85c7d_level0_col5\" class=\"col_heading level0 col5\" >MAPE</th>\n",
       "    </tr>\n",
       "    <tr>\n",
       "      <th class=\"index_name level0\" >Fold</th>\n",
       "      <th class=\"blank col0\" >&nbsp;</th>\n",
       "      <th class=\"blank col1\" >&nbsp;</th>\n",
       "      <th class=\"blank col2\" >&nbsp;</th>\n",
       "      <th class=\"blank col3\" >&nbsp;</th>\n",
       "      <th class=\"blank col4\" >&nbsp;</th>\n",
       "      <th class=\"blank col5\" >&nbsp;</th>\n",
       "    </tr>\n",
       "  </thead>\n",
       "  <tbody>\n",
       "    <tr>\n",
       "      <th id=\"T_85c7d_level0_row0\" class=\"row_heading level0 row0\" >0</th>\n",
       "      <td id=\"T_85c7d_row0_col0\" class=\"data row0 col0\" >1043.7555</td>\n",
       "      <td id=\"T_85c7d_row0_col1\" class=\"data row0 col1\" >3774741.0662</td>\n",
       "      <td id=\"T_85c7d_row0_col2\" class=\"data row0 col2\" >1942.8693</td>\n",
       "      <td id=\"T_85c7d_row0_col3\" class=\"data row0 col3\" >0.5232</td>\n",
       "      <td id=\"T_85c7d_row0_col4\" class=\"data row0 col4\" >0.4859</td>\n",
       "      <td id=\"T_85c7d_row0_col5\" class=\"data row0 col5\" >0.4346</td>\n",
       "    </tr>\n",
       "    <tr>\n",
       "      <th id=\"T_85c7d_level0_row1\" class=\"row_heading level0 row1\" >1</th>\n",
       "      <td id=\"T_85c7d_row1_col0\" class=\"data row1 col0\" >895.7279</td>\n",
       "      <td id=\"T_85c7d_row1_col1\" class=\"data row1 col1\" >3306724.6326</td>\n",
       "      <td id=\"T_85c7d_row1_col2\" class=\"data row1 col2\" >1818.4402</td>\n",
       "      <td id=\"T_85c7d_row1_col3\" class=\"data row1 col3\" >0.8301</td>\n",
       "      <td id=\"T_85c7d_row1_col4\" class=\"data row1 col4\" >0.8305</td>\n",
       "      <td id=\"T_85c7d_row1_col5\" class=\"data row1 col5\" >0.6867</td>\n",
       "    </tr>\n",
       "    <tr>\n",
       "      <th id=\"T_85c7d_level0_row2\" class=\"row_heading level0 row2\" >2</th>\n",
       "      <td id=\"T_85c7d_row2_col0\" class=\"data row2 col0\" >1706.6804</td>\n",
       "      <td id=\"T_85c7d_row2_col1\" class=\"data row2 col1\" >16982682.1152</td>\n",
       "      <td id=\"T_85c7d_row2_col2\" class=\"data row2 col2\" >4121.0050</td>\n",
       "      <td id=\"T_85c7d_row2_col3\" class=\"data row2 col3\" >0.7452</td>\n",
       "      <td id=\"T_85c7d_row2_col4\" class=\"data row2 col4\" >0.7268</td>\n",
       "      <td id=\"T_85c7d_row2_col5\" class=\"data row2 col5\" >0.4703</td>\n",
       "    </tr>\n",
       "    <tr>\n",
       "      <th id=\"T_85c7d_level0_row3\" class=\"row_heading level0 row3\" >3</th>\n",
       "      <td id=\"T_85c7d_row3_col0\" class=\"data row3 col0\" >1002.4740</td>\n",
       "      <td id=\"T_85c7d_row3_col1\" class=\"data row3 col1\" >3571831.8453</td>\n",
       "      <td id=\"T_85c7d_row3_col2\" class=\"data row3 col2\" >1889.9291</td>\n",
       "      <td id=\"T_85c7d_row3_col3\" class=\"data row3 col3\" >0.7067</td>\n",
       "      <td id=\"T_85c7d_row3_col4\" class=\"data row3 col4\" >0.6516</td>\n",
       "      <td id=\"T_85c7d_row3_col5\" class=\"data row3 col5\" >0.5952</td>\n",
       "    </tr>\n",
       "    <tr>\n",
       "      <th id=\"T_85c7d_level0_row4\" class=\"row_heading level0 row4\" >4</th>\n",
       "      <td id=\"T_85c7d_row4_col0\" class=\"data row4 col0\" >1045.4125</td>\n",
       "      <td id=\"T_85c7d_row4_col1\" class=\"data row4 col1\" >2028905.8804</td>\n",
       "      <td id=\"T_85c7d_row4_col2\" class=\"data row4 col2\" >1424.3967</td>\n",
       "      <td id=\"T_85c7d_row4_col3\" class=\"data row4 col3\" >0.7118</td>\n",
       "      <td id=\"T_85c7d_row4_col4\" class=\"data row4 col4\" >0.8012</td>\n",
       "      <td id=\"T_85c7d_row4_col5\" class=\"data row4 col5\" >1.3544</td>\n",
       "    </tr>\n",
       "    <tr>\n",
       "      <th id=\"T_85c7d_level0_row5\" class=\"row_heading level0 row5\" >5</th>\n",
       "      <td id=\"T_85c7d_row5_col0\" class=\"data row5 col0\" >579.2489</td>\n",
       "      <td id=\"T_85c7d_row5_col1\" class=\"data row5 col1\" >624910.1268</td>\n",
       "      <td id=\"T_85c7d_row5_col2\" class=\"data row5 col2\" >790.5126</td>\n",
       "      <td id=\"T_85c7d_row5_col3\" class=\"data row5 col3\" >0.8932</td>\n",
       "      <td id=\"T_85c7d_row5_col4\" class=\"data row5 col4\" >0.5413</td>\n",
       "      <td id=\"T_85c7d_row5_col5\" class=\"data row5 col5\" >0.3881</td>\n",
       "    </tr>\n",
       "    <tr>\n",
       "      <th id=\"T_85c7d_level0_row6\" class=\"row_heading level0 row6\" >6</th>\n",
       "      <td id=\"T_85c7d_row6_col0\" class=\"data row6 col0\" >960.7669</td>\n",
       "      <td id=\"T_85c7d_row6_col1\" class=\"data row6 col1\" >2340589.3173</td>\n",
       "      <td id=\"T_85c7d_row6_col2\" class=\"data row6 col2\" >1529.8985</td>\n",
       "      <td id=\"T_85c7d_row6_col3\" class=\"data row6 col3\" >0.7838</td>\n",
       "      <td id=\"T_85c7d_row6_col4\" class=\"data row6 col4\" >0.4378</td>\n",
       "      <td id=\"T_85c7d_row6_col5\" class=\"data row6 col5\" >0.4288</td>\n",
       "    </tr>\n",
       "    <tr>\n",
       "      <th id=\"T_85c7d_level0_row7\" class=\"row_heading level0 row7\" >7</th>\n",
       "      <td id=\"T_85c7d_row7_col0\" class=\"data row7 col0\" >1209.9068</td>\n",
       "      <td id=\"T_85c7d_row7_col1\" class=\"data row7 col1\" >2883824.1510</td>\n",
       "      <td id=\"T_85c7d_row7_col2\" class=\"data row7 col2\" >1698.1826</td>\n",
       "      <td id=\"T_85c7d_row7_col3\" class=\"data row7 col3\" >0.5608</td>\n",
       "      <td id=\"T_85c7d_row7_col4\" class=\"data row7 col4\" >0.7146</td>\n",
       "      <td id=\"T_85c7d_row7_col5\" class=\"data row7 col5\" >0.6013</td>\n",
       "    </tr>\n",
       "    <tr>\n",
       "      <th id=\"T_85c7d_level0_row8\" class=\"row_heading level0 row8\" >8</th>\n",
       "      <td id=\"T_85c7d_row8_col0\" class=\"data row8 col0\" >1017.3293</td>\n",
       "      <td id=\"T_85c7d_row8_col1\" class=\"data row8 col1\" >3992769.9026</td>\n",
       "      <td id=\"T_85c7d_row8_col2\" class=\"data row8 col2\" >1998.1917</td>\n",
       "      <td id=\"T_85c7d_row8_col3\" class=\"data row8 col3\" >0.7288</td>\n",
       "      <td id=\"T_85c7d_row8_col4\" class=\"data row8 col4\" >0.6929</td>\n",
       "      <td id=\"T_85c7d_row8_col5\" class=\"data row8 col5\" >0.8791</td>\n",
       "    </tr>\n",
       "    <tr>\n",
       "      <th id=\"T_85c7d_level0_row9\" class=\"row_heading level0 row9\" >9</th>\n",
       "      <td id=\"T_85c7d_row9_col0\" class=\"data row9 col0\" >1633.6125</td>\n",
       "      <td id=\"T_85c7d_row9_col1\" class=\"data row9 col1\" >24443875.9264</td>\n",
       "      <td id=\"T_85c7d_row9_col2\" class=\"data row9 col2\" >4944.0748</td>\n",
       "      <td id=\"T_85c7d_row9_col3\" class=\"data row9 col3\" >0.5037</td>\n",
       "      <td id=\"T_85c7d_row9_col4\" class=\"data row9 col4\" >0.6182</td>\n",
       "      <td id=\"T_85c7d_row9_col5\" class=\"data row9 col5\" >0.4936</td>\n",
       "    </tr>\n",
       "    <tr>\n",
       "      <th id=\"T_85c7d_level0_row10\" class=\"row_heading level0 row10\" >Mean</th>\n",
       "      <td id=\"T_85c7d_row10_col0\" class=\"data row10 col0\" >1109.4915</td>\n",
       "      <td id=\"T_85c7d_row10_col1\" class=\"data row10 col1\" >6395085.4964</td>\n",
       "      <td id=\"T_85c7d_row10_col2\" class=\"data row10 col2\" >2215.7500</td>\n",
       "      <td id=\"T_85c7d_row10_col3\" class=\"data row10 col3\" >0.6987</td>\n",
       "      <td id=\"T_85c7d_row10_col4\" class=\"data row10 col4\" >0.6501</td>\n",
       "      <td id=\"T_85c7d_row10_col5\" class=\"data row10 col5\" >0.6332</td>\n",
       "    </tr>\n",
       "    <tr>\n",
       "      <th id=\"T_85c7d_level0_row11\" class=\"row_heading level0 row11\" >Std</th>\n",
       "      <td id=\"T_85c7d_row11_col0\" class=\"data row11 col0\" >319.1811</td>\n",
       "      <td id=\"T_85c7d_row11_col1\" class=\"data row11 col1\" >7410320.1080</td>\n",
       "      <td id=\"T_85c7d_row11_col2\" class=\"data row11 col2\" >1218.8262</td>\n",
       "      <td id=\"T_85c7d_row11_col3\" class=\"data row11 col3\" >0.1239</td>\n",
       "      <td id=\"T_85c7d_row11_col4\" class=\"data row11 col4\" >0.1233</td>\n",
       "      <td id=\"T_85c7d_row11_col5\" class=\"data row11 col5\" >0.2781</td>\n",
       "    </tr>\n",
       "  </tbody>\n",
       "</table>\n"
      ],
      "text/plain": [
       "<pandas.io.formats.style.Styler at 0x2904cf8b0>"
      ]
     },
     "metadata": {},
     "output_type": "display_data"
    },
    {
     "data": {
      "application/vnd.jupyter.widget-view+json": {
       "model_id": "",
       "version_major": 2,
       "version_minor": 0
      },
      "text/plain": [
       "Processing:   0%|          | 0/4 [00:00<?, ?it/s]"
      ]
     },
     "metadata": {},
     "output_type": "display_data"
    },
    {
     "data": {
      "text/html": [],
      "text/plain": [
       "<IPython.core.display.HTML object>"
      ]
     },
     "metadata": {},
     "output_type": "display_data"
    },
    {
     "data": {
      "text/html": [
       "<style type=\"text/css\">\n",
       "#T_11a1a_row10_col0, #T_11a1a_row10_col1, #T_11a1a_row10_col2, #T_11a1a_row10_col3, #T_11a1a_row10_col4, #T_11a1a_row10_col5 {\n",
       "  background: yellow;\n",
       "}\n",
       "</style>\n",
       "<table id=\"T_11a1a\">\n",
       "  <thead>\n",
       "    <tr>\n",
       "      <th class=\"blank level0\" >&nbsp;</th>\n",
       "      <th id=\"T_11a1a_level0_col0\" class=\"col_heading level0 col0\" >MAE</th>\n",
       "      <th id=\"T_11a1a_level0_col1\" class=\"col_heading level0 col1\" >MSE</th>\n",
       "      <th id=\"T_11a1a_level0_col2\" class=\"col_heading level0 col2\" >RMSE</th>\n",
       "      <th id=\"T_11a1a_level0_col3\" class=\"col_heading level0 col3\" >R2</th>\n",
       "      <th id=\"T_11a1a_level0_col4\" class=\"col_heading level0 col4\" >RMSLE</th>\n",
       "      <th id=\"T_11a1a_level0_col5\" class=\"col_heading level0 col5\" >MAPE</th>\n",
       "    </tr>\n",
       "    <tr>\n",
       "      <th class=\"index_name level0\" >Fold</th>\n",
       "      <th class=\"blank col0\" >&nbsp;</th>\n",
       "      <th class=\"blank col1\" >&nbsp;</th>\n",
       "      <th class=\"blank col2\" >&nbsp;</th>\n",
       "      <th class=\"blank col3\" >&nbsp;</th>\n",
       "      <th class=\"blank col4\" >&nbsp;</th>\n",
       "      <th class=\"blank col5\" >&nbsp;</th>\n",
       "    </tr>\n",
       "  </thead>\n",
       "  <tbody>\n",
       "    <tr>\n",
       "      <th id=\"T_11a1a_level0_row0\" class=\"row_heading level0 row0\" >0</th>\n",
       "      <td id=\"T_11a1a_row0_col0\" class=\"data row0 col0\" >1084.9291</td>\n",
       "      <td id=\"T_11a1a_row0_col1\" class=\"data row0 col1\" >3651403.4179</td>\n",
       "      <td id=\"T_11a1a_row0_col2\" class=\"data row0 col2\" >1910.8646</td>\n",
       "      <td id=\"T_11a1a_row0_col3\" class=\"data row0 col3\" >0.5388</td>\n",
       "      <td id=\"T_11a1a_row0_col4\" class=\"data row0 col4\" >0.5407</td>\n",
       "      <td id=\"T_11a1a_row0_col5\" class=\"data row0 col5\" >0.6065</td>\n",
       "    </tr>\n",
       "    <tr>\n",
       "      <th id=\"T_11a1a_level0_row1\" class=\"row_heading level0 row1\" >1</th>\n",
       "      <td id=\"T_11a1a_row1_col0\" class=\"data row1 col0\" >942.5918</td>\n",
       "      <td id=\"T_11a1a_row1_col1\" class=\"data row1 col1\" >3572299.1891</td>\n",
       "      <td id=\"T_11a1a_row1_col2\" class=\"data row1 col2\" >1890.0527</td>\n",
       "      <td id=\"T_11a1a_row1_col3\" class=\"data row1 col3\" >0.8165</td>\n",
       "      <td id=\"T_11a1a_row1_col4\" class=\"data row1 col4\" >0.5540</td>\n",
       "      <td id=\"T_11a1a_row1_col5\" class=\"data row1 col5\" >0.7533</td>\n",
       "    </tr>\n",
       "    <tr>\n",
       "      <th id=\"T_11a1a_level0_row2\" class=\"row_heading level0 row2\" >2</th>\n",
       "      <td id=\"T_11a1a_row2_col0\" class=\"data row2 col0\" >1657.2430</td>\n",
       "      <td id=\"T_11a1a_row2_col1\" class=\"data row2 col1\" >16389071.3421</td>\n",
       "      <td id=\"T_11a1a_row2_col2\" class=\"data row2 col2\" >4048.3418</td>\n",
       "      <td id=\"T_11a1a_row2_col3\" class=\"data row2 col3\" >0.7541</td>\n",
       "      <td id=\"T_11a1a_row2_col4\" class=\"data row2 col4\" >0.6219</td>\n",
       "      <td id=\"T_11a1a_row2_col5\" class=\"data row2 col5\" >0.4915</td>\n",
       "    </tr>\n",
       "    <tr>\n",
       "      <th id=\"T_11a1a_level0_row3\" class=\"row_heading level0 row3\" >3</th>\n",
       "      <td id=\"T_11a1a_row3_col0\" class=\"data row3 col0\" >1047.2685</td>\n",
       "      <td id=\"T_11a1a_row3_col1\" class=\"data row3 col1\" >3578525.2663</td>\n",
       "      <td id=\"T_11a1a_row3_col2\" class=\"data row3 col2\" >1891.6990</td>\n",
       "      <td id=\"T_11a1a_row3_col3\" class=\"data row3 col3\" >0.7062</td>\n",
       "      <td id=\"T_11a1a_row3_col4\" class=\"data row3 col4\" >0.7886</td>\n",
       "      <td id=\"T_11a1a_row3_col5\" class=\"data row3 col5\" >0.6362</td>\n",
       "    </tr>\n",
       "    <tr>\n",
       "      <th id=\"T_11a1a_level0_row4\" class=\"row_heading level0 row4\" >4</th>\n",
       "      <td id=\"T_11a1a_row4_col0\" class=\"data row4 col0\" >1054.8153</td>\n",
       "      <td id=\"T_11a1a_row4_col1\" class=\"data row4 col1\" >1986471.3239</td>\n",
       "      <td id=\"T_11a1a_row4_col2\" class=\"data row4 col2\" >1409.4223</td>\n",
       "      <td id=\"T_11a1a_row4_col3\" class=\"data row4 col3\" >0.7178</td>\n",
       "      <td id=\"T_11a1a_row4_col4\" class=\"data row4 col4\" >0.6059</td>\n",
       "      <td id=\"T_11a1a_row4_col5\" class=\"data row4 col5\" >0.7399</td>\n",
       "    </tr>\n",
       "    <tr>\n",
       "      <th id=\"T_11a1a_level0_row5\" class=\"row_heading level0 row5\" >5</th>\n",
       "      <td id=\"T_11a1a_row5_col0\" class=\"data row5 col0\" >549.5348</td>\n",
       "      <td id=\"T_11a1a_row5_col1\" class=\"data row5 col1\" >503136.0389</td>\n",
       "      <td id=\"T_11a1a_row5_col2\" class=\"data row5 col2\" >709.3208</td>\n",
       "      <td id=\"T_11a1a_row5_col3\" class=\"data row5 col3\" >0.9140</td>\n",
       "      <td id=\"T_11a1a_row5_col4\" class=\"data row5 col4\" >0.4557</td>\n",
       "      <td id=\"T_11a1a_row5_col5\" class=\"data row5 col5\" >0.4087</td>\n",
       "    </tr>\n",
       "    <tr>\n",
       "      <th id=\"T_11a1a_level0_row6\" class=\"row_heading level0 row6\" >6</th>\n",
       "      <td id=\"T_11a1a_row6_col0\" class=\"data row6 col0\" >928.6060</td>\n",
       "      <td id=\"T_11a1a_row6_col1\" class=\"data row6 col1\" >2174334.6015</td>\n",
       "      <td id=\"T_11a1a_row6_col2\" class=\"data row6 col2\" >1474.5625</td>\n",
       "      <td id=\"T_11a1a_row6_col3\" class=\"data row6 col3\" >0.7991</td>\n",
       "      <td id=\"T_11a1a_row6_col4\" class=\"data row6 col4\" >0.4760</td>\n",
       "      <td id=\"T_11a1a_row6_col5\" class=\"data row6 col5\" >0.4208</td>\n",
       "    </tr>\n",
       "    <tr>\n",
       "      <th id=\"T_11a1a_level0_row7\" class=\"row_heading level0 row7\" >7</th>\n",
       "      <td id=\"T_11a1a_row7_col0\" class=\"data row7 col0\" >1157.4994</td>\n",
       "      <td id=\"T_11a1a_row7_col1\" class=\"data row7 col1\" >2676566.6826</td>\n",
       "      <td id=\"T_11a1a_row7_col2\" class=\"data row7 col2\" >1636.0216</td>\n",
       "      <td id=\"T_11a1a_row7_col3\" class=\"data row7 col3\" >0.5924</td>\n",
       "      <td id=\"T_11a1a_row7_col4\" class=\"data row7 col4\" >0.6952</td>\n",
       "      <td id=\"T_11a1a_row7_col5\" class=\"data row7 col5\" >0.5989</td>\n",
       "    </tr>\n",
       "    <tr>\n",
       "      <th id=\"T_11a1a_level0_row8\" class=\"row_heading level0 row8\" >8</th>\n",
       "      <td id=\"T_11a1a_row8_col0\" class=\"data row8 col0\" >1087.4875</td>\n",
       "      <td id=\"T_11a1a_row8_col1\" class=\"data row8 col1\" >4047386.8983</td>\n",
       "      <td id=\"T_11a1a_row8_col2\" class=\"data row8 col2\" >2011.8118</td>\n",
       "      <td id=\"T_11a1a_row8_col3\" class=\"data row8 col3\" >0.7251</td>\n",
       "      <td id=\"T_11a1a_row8_col4\" class=\"data row8 col4\" >0.8478</td>\n",
       "      <td id=\"T_11a1a_row8_col5\" class=\"data row8 col5\" >0.8910</td>\n",
       "    </tr>\n",
       "    <tr>\n",
       "      <th id=\"T_11a1a_level0_row9\" class=\"row_heading level0 row9\" >9</th>\n",
       "      <td id=\"T_11a1a_row9_col0\" class=\"data row9 col0\" >1573.8247</td>\n",
       "      <td id=\"T_11a1a_row9_col1\" class=\"data row9 col1\" >23283777.7679</td>\n",
       "      <td id=\"T_11a1a_row9_col2\" class=\"data row9 col2\" >4825.3267</td>\n",
       "      <td id=\"T_11a1a_row9_col3\" class=\"data row9 col3\" >0.5273</td>\n",
       "      <td id=\"T_11a1a_row9_col4\" class=\"data row9 col4\" >0.5246</td>\n",
       "      <td id=\"T_11a1a_row9_col5\" class=\"data row9 col5\" >0.3441</td>\n",
       "    </tr>\n",
       "    <tr>\n",
       "      <th id=\"T_11a1a_level0_row10\" class=\"row_heading level0 row10\" >Mean</th>\n",
       "      <td id=\"T_11a1a_row10_col0\" class=\"data row10 col0\" >1108.3800</td>\n",
       "      <td id=\"T_11a1a_row10_col1\" class=\"data row10 col1\" >6186297.2529</td>\n",
       "      <td id=\"T_11a1a_row10_col2\" class=\"data row10 col2\" >2180.7424</td>\n",
       "      <td id=\"T_11a1a_row10_col3\" class=\"data row10 col3\" >0.7091</td>\n",
       "      <td id=\"T_11a1a_row10_col4\" class=\"data row10 col4\" >0.6110</td>\n",
       "      <td id=\"T_11a1a_row10_col5\" class=\"data row10 col5\" >0.5891</td>\n",
       "    </tr>\n",
       "    <tr>\n",
       "      <th id=\"T_11a1a_level0_row11\" class=\"row_heading level0 row11\" >Std</th>\n",
       "      <td id=\"T_11a1a_row11_col0\" class=\"data row11 col0\" >300.0008</td>\n",
       "      <td id=\"T_11a1a_row11_col1\" class=\"data row11 col1\" >7066862.3600</td>\n",
       "      <td id=\"T_11a1a_row11_col2\" class=\"data row11 col2\" >1196.1019</td>\n",
       "      <td id=\"T_11a1a_row11_col3\" class=\"data row11 col3\" >0.1182</td>\n",
       "      <td id=\"T_11a1a_row11_col4\" class=\"data row11 col4\" >0.1236</td>\n",
       "      <td id=\"T_11a1a_row11_col5\" class=\"data row11 col5\" >0.1655</td>\n",
       "    </tr>\n",
       "  </tbody>\n",
       "</table>\n"
      ],
      "text/plain": [
       "<pandas.io.formats.style.Styler at 0x293170e50>"
      ]
     },
     "metadata": {},
     "output_type": "display_data"
    },
    {
     "data": {
      "application/vnd.jupyter.widget-view+json": {
       "model_id": "",
       "version_major": 2,
       "version_minor": 0
      },
      "text/plain": [
       "Processing:   0%|          | 0/4 [00:00<?, ?it/s]"
      ]
     },
     "metadata": {},
     "output_type": "display_data"
    },
    {
     "data": {
      "text/html": [],
      "text/plain": [
       "<IPython.core.display.HTML object>"
      ]
     },
     "metadata": {},
     "output_type": "display_data"
    },
    {
     "data": {
      "text/html": [
       "<style type=\"text/css\">\n",
       "#T_78bae_row10_col0, #T_78bae_row10_col1, #T_78bae_row10_col2, #T_78bae_row10_col3, #T_78bae_row10_col4, #T_78bae_row10_col5 {\n",
       "  background: yellow;\n",
       "}\n",
       "</style>\n",
       "<table id=\"T_78bae\">\n",
       "  <thead>\n",
       "    <tr>\n",
       "      <th class=\"blank level0\" >&nbsp;</th>\n",
       "      <th id=\"T_78bae_level0_col0\" class=\"col_heading level0 col0\" >MAE</th>\n",
       "      <th id=\"T_78bae_level0_col1\" class=\"col_heading level0 col1\" >MSE</th>\n",
       "      <th id=\"T_78bae_level0_col2\" class=\"col_heading level0 col2\" >RMSE</th>\n",
       "      <th id=\"T_78bae_level0_col3\" class=\"col_heading level0 col3\" >R2</th>\n",
       "      <th id=\"T_78bae_level0_col4\" class=\"col_heading level0 col4\" >RMSLE</th>\n",
       "      <th id=\"T_78bae_level0_col5\" class=\"col_heading level0 col5\" >MAPE</th>\n",
       "    </tr>\n",
       "    <tr>\n",
       "      <th class=\"index_name level0\" >Fold</th>\n",
       "      <th class=\"blank col0\" >&nbsp;</th>\n",
       "      <th class=\"blank col1\" >&nbsp;</th>\n",
       "      <th class=\"blank col2\" >&nbsp;</th>\n",
       "      <th class=\"blank col3\" >&nbsp;</th>\n",
       "      <th class=\"blank col4\" >&nbsp;</th>\n",
       "      <th class=\"blank col5\" >&nbsp;</th>\n",
       "    </tr>\n",
       "  </thead>\n",
       "  <tbody>\n",
       "    <tr>\n",
       "      <th id=\"T_78bae_level0_row0\" class=\"row_heading level0 row0\" >0</th>\n",
       "      <td id=\"T_78bae_row0_col0\" class=\"data row0 col0\" >1142.7434</td>\n",
       "      <td id=\"T_78bae_row0_col1\" class=\"data row0 col1\" >4059601.9151</td>\n",
       "      <td id=\"T_78bae_row0_col2\" class=\"data row0 col2\" >2014.8454</td>\n",
       "      <td id=\"T_78bae_row0_col3\" class=\"data row0 col3\" >0.4872</td>\n",
       "      <td id=\"T_78bae_row0_col4\" class=\"data row0 col4\" >0.4918</td>\n",
       "      <td id=\"T_78bae_row0_col5\" class=\"data row0 col5\" >0.4451</td>\n",
       "    </tr>\n",
       "    <tr>\n",
       "      <th id=\"T_78bae_level0_row1\" class=\"row_heading level0 row1\" >1</th>\n",
       "      <td id=\"T_78bae_row1_col0\" class=\"data row1 col0\" >914.9894</td>\n",
       "      <td id=\"T_78bae_row1_col1\" class=\"data row1 col1\" >3116902.8520</td>\n",
       "      <td id=\"T_78bae_row1_col2\" class=\"data row1 col2\" >1765.4752</td>\n",
       "      <td id=\"T_78bae_row1_col3\" class=\"data row1 col3\" >0.8399</td>\n",
       "      <td id=\"T_78bae_row1_col4\" class=\"data row1 col4\" >0.4651</td>\n",
       "      <td id=\"T_78bae_row1_col5\" class=\"data row1 col5\" >0.4693</td>\n",
       "    </tr>\n",
       "    <tr>\n",
       "      <th id=\"T_78bae_level0_row2\" class=\"row_heading level0 row2\" >2</th>\n",
       "      <td id=\"T_78bae_row2_col0\" class=\"data row2 col0\" >1955.5627</td>\n",
       "      <td id=\"T_78bae_row2_col1\" class=\"data row2 col1\" >23246523.5000</td>\n",
       "      <td id=\"T_78bae_row2_col2\" class=\"data row2 col2\" >4821.4649</td>\n",
       "      <td id=\"T_78bae_row2_col3\" class=\"data row2 col3\" >0.6512</td>\n",
       "      <td id=\"T_78bae_row2_col4\" class=\"data row2 col4\" >0.5697</td>\n",
       "      <td id=\"T_78bae_row2_col5\" class=\"data row2 col5\" >0.5917</td>\n",
       "    </tr>\n",
       "    <tr>\n",
       "      <th id=\"T_78bae_level0_row3\" class=\"row_heading level0 row3\" >3</th>\n",
       "      <td id=\"T_78bae_row3_col0\" class=\"data row3 col0\" >902.7288</td>\n",
       "      <td id=\"T_78bae_row3_col1\" class=\"data row3 col1\" >3060693.0749</td>\n",
       "      <td id=\"T_78bae_row3_col2\" class=\"data row3 col2\" >1749.4837</td>\n",
       "      <td id=\"T_78bae_row3_col3\" class=\"data row3 col3\" >0.7487</td>\n",
       "      <td id=\"T_78bae_row3_col4\" class=\"data row3 col4\" >0.4762</td>\n",
       "      <td id=\"T_78bae_row3_col5\" class=\"data row3 col5\" >0.4282</td>\n",
       "    </tr>\n",
       "    <tr>\n",
       "      <th id=\"T_78bae_level0_row4\" class=\"row_heading level0 row4\" >4</th>\n",
       "      <td id=\"T_78bae_row4_col0\" class=\"data row4 col0\" >964.1984</td>\n",
       "      <td id=\"T_78bae_row4_col1\" class=\"data row4 col1\" >1650291.0662</td>\n",
       "      <td id=\"T_78bae_row4_col2\" class=\"data row4 col2\" >1284.6366</td>\n",
       "      <td id=\"T_78bae_row4_col3\" class=\"data row4 col3\" >0.7656</td>\n",
       "      <td id=\"T_78bae_row4_col4\" class=\"data row4 col4\" >0.6247</td>\n",
       "      <td id=\"T_78bae_row4_col5\" class=\"data row4 col5\" >0.9137</td>\n",
       "    </tr>\n",
       "    <tr>\n",
       "      <th id=\"T_78bae_level0_row5\" class=\"row_heading level0 row5\" >5</th>\n",
       "      <td id=\"T_78bae_row5_col0\" class=\"data row5 col0\" >581.2272</td>\n",
       "      <td id=\"T_78bae_row5_col1\" class=\"data row5 col1\" >764670.4558</td>\n",
       "      <td id=\"T_78bae_row5_col2\" class=\"data row5 col2\" >874.4544</td>\n",
       "      <td id=\"T_78bae_row5_col3\" class=\"data row5 col3\" >0.8694</td>\n",
       "      <td id=\"T_78bae_row5_col4\" class=\"data row5 col4\" >0.4220</td>\n",
       "      <td id=\"T_78bae_row5_col5\" class=\"data row5 col5\" >0.3816</td>\n",
       "    </tr>\n",
       "    <tr>\n",
       "      <th id=\"T_78bae_level0_row6\" class=\"row_heading level0 row6\" >6</th>\n",
       "      <td id=\"T_78bae_row6_col0\" class=\"data row6 col0\" >1046.7165</td>\n",
       "      <td id=\"T_78bae_row6_col1\" class=\"data row6 col1\" >2686330.4227</td>\n",
       "      <td id=\"T_78bae_row6_col2\" class=\"data row6 col2\" >1639.0029</td>\n",
       "      <td id=\"T_78bae_row6_col3\" class=\"data row6 col3\" >0.7519</td>\n",
       "      <td id=\"T_78bae_row6_col4\" class=\"data row6 col4\" >0.4081</td>\n",
       "      <td id=\"T_78bae_row6_col5\" class=\"data row6 col5\" >0.3813</td>\n",
       "    </tr>\n",
       "    <tr>\n",
       "      <th id=\"T_78bae_level0_row7\" class=\"row_heading level0 row7\" >7</th>\n",
       "      <td id=\"T_78bae_row7_col0\" class=\"data row7 col0\" >992.0783</td>\n",
       "      <td id=\"T_78bae_row7_col1\" class=\"data row7 col1\" >2250454.1656</td>\n",
       "      <td id=\"T_78bae_row7_col2\" class=\"data row7 col2\" >1500.1514</td>\n",
       "      <td id=\"T_78bae_row7_col3\" class=\"data row7 col3\" >0.6573</td>\n",
       "      <td id=\"T_78bae_row7_col4\" class=\"data row7 col4\" >0.4574</td>\n",
       "      <td id=\"T_78bae_row7_col5\" class=\"data row7 col5\" >0.4571</td>\n",
       "    </tr>\n",
       "    <tr>\n",
       "      <th id=\"T_78bae_level0_row8\" class=\"row_heading level0 row8\" >8</th>\n",
       "      <td id=\"T_78bae_row8_col0\" class=\"data row8 col0\" >1203.2773</td>\n",
       "      <td id=\"T_78bae_row8_col1\" class=\"data row8 col1\" >8086652.0772</td>\n",
       "      <td id=\"T_78bae_row8_col2\" class=\"data row8 col2\" >2843.7039</td>\n",
       "      <td id=\"T_78bae_row8_col3\" class=\"data row8 col3\" >0.4508</td>\n",
       "      <td id=\"T_78bae_row8_col4\" class=\"data row8 col4\" >0.6205</td>\n",
       "      <td id=\"T_78bae_row8_col5\" class=\"data row8 col5\" >0.6718</td>\n",
       "    </tr>\n",
       "    <tr>\n",
       "      <th id=\"T_78bae_level0_row9\" class=\"row_heading level0 row9\" >9</th>\n",
       "      <td id=\"T_78bae_row9_col0\" class=\"data row9 col0\" >1307.0172</td>\n",
       "      <td id=\"T_78bae_row9_col1\" class=\"data row9 col1\" >14458686.1505</td>\n",
       "      <td id=\"T_78bae_row9_col2\" class=\"data row9 col2\" >3802.4579</td>\n",
       "      <td id=\"T_78bae_row9_col3\" class=\"data row9 col3\" >0.7065</td>\n",
       "      <td id=\"T_78bae_row9_col4\" class=\"data row9 col4\" >0.4118</td>\n",
       "      <td id=\"T_78bae_row9_col5\" class=\"data row9 col5\" >0.3434</td>\n",
       "    </tr>\n",
       "    <tr>\n",
       "      <th id=\"T_78bae_level0_row10\" class=\"row_heading level0 row10\" >Mean</th>\n",
       "      <td id=\"T_78bae_row10_col0\" class=\"data row10 col0\" >1101.0539</td>\n",
       "      <td id=\"T_78bae_row10_col1\" class=\"data row10 col1\" >6338080.5680</td>\n",
       "      <td id=\"T_78bae_row10_col2\" class=\"data row10 col2\" >2229.5676</td>\n",
       "      <td id=\"T_78bae_row10_col3\" class=\"data row10 col3\" >0.6928</td>\n",
       "      <td id=\"T_78bae_row10_col4\" class=\"data row10 col4\" >0.4947</td>\n",
       "      <td id=\"T_78bae_row10_col5\" class=\"data row10 col5\" >0.5083</td>\n",
       "    </tr>\n",
       "    <tr>\n",
       "      <th id=\"T_78bae_level0_row11\" class=\"row_heading level0 row11\" >Std</th>\n",
       "      <td id=\"T_78bae_row11_col0\" class=\"data row11 col0\" >340.9581</td>\n",
       "      <td id=\"T_78bae_row11_col1\" class=\"data row11 col1\" >6813869.2296</td>\n",
       "      <td id=\"T_78bae_row11_col2\" class=\"data row11 col2\" >1169.2343</td>\n",
       "      <td id=\"T_78bae_row11_col3\" class=\"data row11 col3\" >0.1299</td>\n",
       "      <td id=\"T_78bae_row11_col4\" class=\"data row11 col4\" >0.0779</td>\n",
       "      <td id=\"T_78bae_row11_col5\" class=\"data row11 col5\" >0.1649</td>\n",
       "    </tr>\n",
       "  </tbody>\n",
       "</table>\n"
      ],
      "text/plain": [
       "<pandas.io.formats.style.Styler at 0x290190c40>"
      ]
     },
     "metadata": {},
     "output_type": "display_data"
    },
    {
     "data": {
      "application/vnd.jupyter.widget-view+json": {
       "model_id": "",
       "version_major": 2,
       "version_minor": 0
      },
      "text/plain": [
       "Processing:   0%|          | 0/4 [00:00<?, ?it/s]"
      ]
     },
     "metadata": {},
     "output_type": "display_data"
    }
   ],
   "source": [
    "par = create_model('par')\n",
    "hub = create_model('huber')\n",
    "et = create_model('et')"
   ]
  },
  {
   "cell_type": "code",
   "execution_count": 59,
   "id": "cb3bc409",
   "metadata": {},
   "outputs": [
    {
     "data": {
      "text/html": [],
      "text/plain": [
       "<IPython.core.display.HTML object>"
      ]
     },
     "metadata": {},
     "output_type": "display_data"
    },
    {
     "data": {
      "text/html": [],
      "text/plain": [
       "<IPython.core.display.HTML object>"
      ]
     },
     "metadata": {},
     "output_type": "display_data"
    },
    {
     "data": {
      "application/vnd.jupyter.widget-view+json": {
       "model_id": "474f5aa9684647db83c0ed67f7ae0046",
       "version_major": 2,
       "version_minor": 0
      },
      "text/plain": [
       "VBox(children=(HBox(children=(TukeyAnscombeWidget({\n",
       "    'data': [{'hovertemplate': 'Split=train<br>Predictions…"
      ]
     },
     "metadata": {},
     "output_type": "display_data"
    }
   ],
   "source": [
    "plot_model(par, plot = 'residuals_interactive')"
   ]
  },
  {
   "cell_type": "markdown",
   "id": "67921253",
   "metadata": {},
   "source": [
    "These model results are similar to the models created previously."
   ]
  },
  {
   "cell_type": "code",
   "execution_count": 60,
   "id": "486e0427",
   "metadata": {},
   "outputs": [
    {
     "data": {
      "text/html": [],
      "text/plain": [
       "<IPython.core.display.HTML object>"
      ]
     },
     "metadata": {},
     "output_type": "display_data"
    },
    {
     "data": {
      "image/png": "[encoded data removed]",
      "text/plain": [
       "<Figure size 800x550 with 1 Axes>"
      ]
     },
     "metadata": {},
     "output_type": "display_data"
    }
   ],
   "source": [
    "plot_model(par, plot = 'cooks')"
   ]
  },
  {
   "cell_type": "markdown",
   "id": "d4aa0045",
   "metadata": {},
   "source": [
    "### Obtaining Influential Outliers Index Using Cooks Distance & Standardized Residuals"
   ]
  },
  {
   "cell_type": "code",
   "execution_count": 61,
   "id": "b5c78f09",
   "metadata": {},
   "outputs": [],
   "source": [
    "cont_feats = df_model.drop(columns=['region', 'sub_region']).columns.tolist()\n",
    "cat_feats = ['region', 'sub_region']"
   ]
  },
  {
   "cell_type": "code",
   "execution_count": 62,
   "id": "b7105514",
   "metadata": {},
   "outputs": [],
   "source": [
    "X = df.drop('cost_real_2021', axis=1) \n",
    "y = df['cost_real_2021']"
   ]
  },
  {
   "cell_type": "code",
   "execution_count": 63,
   "id": "127ca133",
   "metadata": {},
   "outputs": [],
   "source": [
    "transformers = [\n",
    "    ('cat', OneHotEncoder(drop='first'), cat_feats),\n",
    "    ('cont', StandardScaler(), cont_feats)\n",
    "]\n",
    "\n",
    "# Create and apply column transformer\n",
    "ct = ColumnTransformer(transformers)\n",
    "X_transformed = ct.fit_transform(df_model)"
   ]
  },
  {
   "cell_type": "code",
   "execution_count": 64,
   "id": "0dab8b93",
   "metadata": {},
   "outputs": [
    {
     "ename": "ValueError",
     "evalue": "endog and exog matrices are different sizes",
     "output_type": "error",
     "traceback": [
      "\u001b[0;31m---------------------------------------------------------------------------\u001b[0m",
      "\u001b[0;31mValueError\u001b[0m                                Traceback (most recent call last)",
      "\u001b[0;32m/var/folders/fm/_6kg8xkn3jz4slz27zwpqnhc0000gn/T/ipykernel_88438/266208410.py\u001b[0m in \u001b[0;36m<cell line: 4>\u001b[0;34m()\u001b[0m\n\u001b[1;32m      2\u001b[0m \u001b[0mmodel\u001b[0m \u001b[0;34m=\u001b[0m \u001b[0mPassiveAggressiveRegressor\u001b[0m\u001b[0;34m(\u001b[0m\u001b[0mmax_iter\u001b[0m\u001b[0;34m=\u001b[0m\u001b[0;36m1000\u001b[0m\u001b[0;34m,\u001b[0m \u001b[0mtol\u001b[0m\u001b[0;34m=\u001b[0m\u001b[0;36m1e-3\u001b[0m\u001b[0;34m)\u001b[0m\u001b[0;34m\u001b[0m\u001b[0;34m\u001b[0m\u001b[0m\n\u001b[1;32m      3\u001b[0m \u001b[0;34m\u001b[0m\u001b[0m\n\u001b[0;32m----> 4\u001b[0;31m \u001b[0mmodel\u001b[0m \u001b[0;34m=\u001b[0m \u001b[0msm\u001b[0m\u001b[0;34m.\u001b[0m\u001b[0mOLS\u001b[0m\u001b[0;34m(\u001b[0m\u001b[0my\u001b[0m\u001b[0;34m,\u001b[0m \u001b[0mX_transformed\u001b[0m \u001b[0;34m)\u001b[0m\u001b[0;34m.\u001b[0m\u001b[0mfit\u001b[0m\u001b[0;34m(\u001b[0m\u001b[0;34m)\u001b[0m\u001b[0;34m\u001b[0m\u001b[0;34m\u001b[0m\u001b[0m\n\u001b[0m",
      "\u001b[0;32m~/miniconda3/envs/tf/lib/python3.9/site-packages/statsmodels/regression/linear_model.py\u001b[0m in \u001b[0;36m__init__\u001b[0;34m(self, endog, exog, missing, hasconst, **kwargs)\u001b[0m\n\u001b[1;32m    920\u001b[0m                    \"An exception will be raised in the next version.\")\n\u001b[1;32m    921\u001b[0m             \u001b[0mwarnings\u001b[0m\u001b[0;34m.\u001b[0m\u001b[0mwarn\u001b[0m\u001b[0;34m(\u001b[0m\u001b[0mmsg\u001b[0m\u001b[0;34m,\u001b[0m \u001b[0mValueWarning\u001b[0m\u001b[0;34m)\u001b[0m\u001b[0;34m\u001b[0m\u001b[0;34m\u001b[0m\u001b[0m\n\u001b[0;32m--> 922\u001b[0;31m         super(OLS, self).__init__(endog, exog, missing=missing,\n\u001b[0m\u001b[1;32m    923\u001b[0m                                   hasconst=hasconst, **kwargs)\n\u001b[1;32m    924\u001b[0m         \u001b[0;32mif\u001b[0m \u001b[0;34m\"weights\"\u001b[0m \u001b[0;32min\u001b[0m \u001b[0mself\u001b[0m\u001b[0;34m.\u001b[0m\u001b[0m_init_keys\u001b[0m\u001b[0;34m:\u001b[0m\u001b[0;34m\u001b[0m\u001b[0;34m\u001b[0m\u001b[0m\n",
      "\u001b[0;32m~/miniconda3/envs/tf/lib/python3.9/site-packages/statsmodels/regression/linear_model.py\u001b[0m in \u001b[0;36m__init__\u001b[0;34m(self, endog, exog, weights, missing, hasconst, **kwargs)\u001b[0m\n\u001b[1;32m    746\u001b[0m         \u001b[0;32melse\u001b[0m\u001b[0;34m:\u001b[0m\u001b[0;34m\u001b[0m\u001b[0;34m\u001b[0m\u001b[0m\n\u001b[1;32m    747\u001b[0m             \u001b[0mweights\u001b[0m \u001b[0;34m=\u001b[0m \u001b[0mweights\u001b[0m\u001b[0;34m.\u001b[0m\u001b[0msqueeze\u001b[0m\u001b[0;34m(\u001b[0m\u001b[0;34m)\u001b[0m\u001b[0;34m\u001b[0m\u001b[0;34m\u001b[0m\u001b[0m\n\u001b[0;32m--> 748\u001b[0;31m         super(WLS, self).__init__(endog, exog, missing=missing,\n\u001b[0m\u001b[1;32m    749\u001b[0m                                   weights=weights, hasconst=hasconst, **kwargs)\n\u001b[1;32m    750\u001b[0m         \u001b[0mnobs\u001b[0m \u001b[0;34m=\u001b[0m \u001b[0mself\u001b[0m\u001b[0;34m.\u001b[0m\u001b[0mexog\u001b[0m\u001b[0;34m.\u001b[0m\u001b[0mshape\u001b[0m\u001b[0;34m[\u001b[0m\u001b[0;36m0\u001b[0m\u001b[0;34m]\u001b[0m\u001b[0;34m\u001b[0m\u001b[0;34m\u001b[0m\u001b[0m\n",
      "\u001b[0;32m~/miniconda3/envs/tf/lib/python3.9/site-packages/statsmodels/regression/linear_model.py\u001b[0m in \u001b[0;36m__init__\u001b[0;34m(self, endog, exog, **kwargs)\u001b[0m\n\u001b[1;32m    200\u001b[0m     \"\"\"\n\u001b[1;32m    201\u001b[0m     \u001b[0;32mdef\u001b[0m \u001b[0m__init__\u001b[0m\u001b[0;34m(\u001b[0m\u001b[0mself\u001b[0m\u001b[0;34m,\u001b[0m \u001b[0mendog\u001b[0m\u001b[0;34m,\u001b[0m \u001b[0mexog\u001b[0m\u001b[0;34m,\u001b[0m \u001b[0;34m**\u001b[0m\u001b[0mkwargs\u001b[0m\u001b[0;34m)\u001b[0m\u001b[0;34m:\u001b[0m\u001b[0;34m\u001b[0m\u001b[0;34m\u001b[0m\u001b[0m\n\u001b[0;32m--> 202\u001b[0;31m         \u001b[0msuper\u001b[0m\u001b[0;34m(\u001b[0m\u001b[0mRegressionModel\u001b[0m\u001b[0;34m,\u001b[0m \u001b[0mself\u001b[0m\u001b[0;34m)\u001b[0m\u001b[0;34m.\u001b[0m\u001b[0m__init__\u001b[0m\u001b[0;34m(\u001b[0m\u001b[0mendog\u001b[0m\u001b[0;34m,\u001b[0m \u001b[0mexog\u001b[0m\u001b[0;34m,\u001b[0m \u001b[0;34m**\u001b[0m\u001b[0mkwargs\u001b[0m\u001b[0;34m)\u001b[0m\u001b[0;34m\u001b[0m\u001b[0;34m\u001b[0m\u001b[0m\n\u001b[0m\u001b[1;32m    203\u001b[0m         \u001b[0mself\u001b[0m\u001b[0;34m.\u001b[0m\u001b[0mpinv_wexog\u001b[0m\u001b[0;34m:\u001b[0m \u001b[0mFloat64Array\u001b[0m \u001b[0;34m|\u001b[0m \u001b[0;32mNone\u001b[0m \u001b[0;34m=\u001b[0m \u001b[0;32mNone\u001b[0m\u001b[0;34m\u001b[0m\u001b[0;34m\u001b[0m\u001b[0m\n\u001b[1;32m    204\u001b[0m         \u001b[0mself\u001b[0m\u001b[0;34m.\u001b[0m\u001b[0m_data_attr\u001b[0m\u001b[0;34m.\u001b[0m\u001b[0mextend\u001b[0m\u001b[0;34m(\u001b[0m\u001b[0;34m[\u001b[0m\u001b[0;34m'pinv_wexog'\u001b[0m\u001b[0;34m,\u001b[0m \u001b[0;34m'wendog'\u001b[0m\u001b[0;34m,\u001b[0m \u001b[0;34m'wexog'\u001b[0m\u001b[0;34m,\u001b[0m \u001b[0;34m'weights'\u001b[0m\u001b[0;34m]\u001b[0m\u001b[0;34m)\u001b[0m\u001b[0;34m\u001b[0m\u001b[0;34m\u001b[0m\u001b[0m\n",
      "\u001b[0;32m~/miniconda3/envs/tf/lib/python3.9/site-packages/statsmodels/base/model.py\u001b[0m in \u001b[0;36m__init__\u001b[0;34m(self, endog, exog, **kwargs)\u001b[0m\n\u001b[1;32m    268\u001b[0m \u001b[0;34m\u001b[0m\u001b[0m\n\u001b[1;32m    269\u001b[0m     \u001b[0;32mdef\u001b[0m \u001b[0m__init__\u001b[0m\u001b[0;34m(\u001b[0m\u001b[0mself\u001b[0m\u001b[0;34m,\u001b[0m \u001b[0mendog\u001b[0m\u001b[0;34m,\u001b[0m \u001b[0mexog\u001b[0m\u001b[0;34m=\u001b[0m\u001b[0;32mNone\u001b[0m\u001b[0;34m,\u001b[0m \u001b[0;34m**\u001b[0m\u001b[0mkwargs\u001b[0m\u001b[0;34m)\u001b[0m\u001b[0;34m:\u001b[0m\u001b[0;34m\u001b[0m\u001b[0;34m\u001b[0m\u001b[0m\n\u001b[0;32m--> 270\u001b[0;31m         \u001b[0msuper\u001b[0m\u001b[0;34m(\u001b[0m\u001b[0;34m)\u001b[0m\u001b[0;34m.\u001b[0m\u001b[0m__init__\u001b[0m\u001b[0;34m(\u001b[0m\u001b[0mendog\u001b[0m\u001b[0;34m,\u001b[0m \u001b[0mexog\u001b[0m\u001b[0;34m,\u001b[0m \u001b[0;34m**\u001b[0m\u001b[0mkwargs\u001b[0m\u001b[0;34m)\u001b[0m\u001b[0;34m\u001b[0m\u001b[0;34m\u001b[0m\u001b[0m\n\u001b[0m\u001b[1;32m    271\u001b[0m         \u001b[0mself\u001b[0m\u001b[0;34m.\u001b[0m\u001b[0minitialize\u001b[0m\u001b[0;34m(\u001b[0m\u001b[0;34m)\u001b[0m\u001b[0;34m\u001b[0m\u001b[0;34m\u001b[0m\u001b[0m\n\u001b[1;32m    272\u001b[0m \u001b[0;34m\u001b[0m\u001b[0m\n",
      "\u001b[0;32m~/miniconda3/envs/tf/lib/python3.9/site-packages/statsmodels/base/model.py\u001b[0m in \u001b[0;36m__init__\u001b[0;34m(self, endog, exog, **kwargs)\u001b[0m\n\u001b[1;32m     93\u001b[0m         \u001b[0mmissing\u001b[0m \u001b[0;34m=\u001b[0m \u001b[0mkwargs\u001b[0m\u001b[0;34m.\u001b[0m\u001b[0mpop\u001b[0m\u001b[0;34m(\u001b[0m\u001b[0;34m'missing'\u001b[0m\u001b[0;34m,\u001b[0m \u001b[0;34m'none'\u001b[0m\u001b[0;34m)\u001b[0m\u001b[0;34m\u001b[0m\u001b[0;34m\u001b[0m\u001b[0m\n\u001b[1;32m     94\u001b[0m         \u001b[0mhasconst\u001b[0m \u001b[0;34m=\u001b[0m \u001b[0mkwargs\u001b[0m\u001b[0;34m.\u001b[0m\u001b[0mpop\u001b[0m\u001b[0;34m(\u001b[0m\u001b[0;34m'hasconst'\u001b[0m\u001b[0;34m,\u001b[0m \u001b[0;32mNone\u001b[0m\u001b[0;34m)\u001b[0m\u001b[0;34m\u001b[0m\u001b[0;34m\u001b[0m\u001b[0m\n\u001b[0;32m---> 95\u001b[0;31m         self.data = self._handle_data(endog, exog, missing, hasconst,\n\u001b[0m\u001b[1;32m     96\u001b[0m                                       **kwargs)\n\u001b[1;32m     97\u001b[0m         \u001b[0mself\u001b[0m\u001b[0;34m.\u001b[0m\u001b[0mk_constant\u001b[0m \u001b[0;34m=\u001b[0m \u001b[0mself\u001b[0m\u001b[0;34m.\u001b[0m\u001b[0mdata\u001b[0m\u001b[0;34m.\u001b[0m\u001b[0mk_constant\u001b[0m\u001b[0;34m\u001b[0m\u001b[0;34m\u001b[0m\u001b[0m\n",
      "\u001b[0;32m~/miniconda3/envs/tf/lib/python3.9/site-packages/statsmodels/base/model.py\u001b[0m in \u001b[0;36m_handle_data\u001b[0;34m(self, endog, exog, missing, hasconst, **kwargs)\u001b[0m\n\u001b[1;32m    133\u001b[0m \u001b[0;34m\u001b[0m\u001b[0m\n\u001b[1;32m    134\u001b[0m     \u001b[0;32mdef\u001b[0m \u001b[0m_handle_data\u001b[0m\u001b[0;34m(\u001b[0m\u001b[0mself\u001b[0m\u001b[0;34m,\u001b[0m \u001b[0mendog\u001b[0m\u001b[0;34m,\u001b[0m \u001b[0mexog\u001b[0m\u001b[0;34m,\u001b[0m \u001b[0mmissing\u001b[0m\u001b[0;34m,\u001b[0m \u001b[0mhasconst\u001b[0m\u001b[0;34m,\u001b[0m \u001b[0;34m**\u001b[0m\u001b[0mkwargs\u001b[0m\u001b[0;34m)\u001b[0m\u001b[0;34m:\u001b[0m\u001b[0;34m\u001b[0m\u001b[0;34m\u001b[0m\u001b[0m\n\u001b[0;32m--> 135\u001b[0;31m         \u001b[0mdata\u001b[0m \u001b[0;34m=\u001b[0m \u001b[0mhandle_data\u001b[0m\u001b[0;34m(\u001b[0m\u001b[0mendog\u001b[0m\u001b[0;34m,\u001b[0m \u001b[0mexog\u001b[0m\u001b[0;34m,\u001b[0m \u001b[0mmissing\u001b[0m\u001b[0;34m,\u001b[0m \u001b[0mhasconst\u001b[0m\u001b[0;34m,\u001b[0m \u001b[0;34m**\u001b[0m\u001b[0mkwargs\u001b[0m\u001b[0;34m)\u001b[0m\u001b[0;34m\u001b[0m\u001b[0;34m\u001b[0m\u001b[0m\n\u001b[0m\u001b[1;32m    136\u001b[0m         \u001b[0;31m# kwargs arrays could have changed, easier to just attach here\u001b[0m\u001b[0;34m\u001b[0m\u001b[0;34m\u001b[0m\u001b[0m\n\u001b[1;32m    137\u001b[0m         \u001b[0;32mfor\u001b[0m \u001b[0mkey\u001b[0m \u001b[0;32min\u001b[0m \u001b[0mkwargs\u001b[0m\u001b[0;34m:\u001b[0m\u001b[0;34m\u001b[0m\u001b[0;34m\u001b[0m\u001b[0m\n",
      "\u001b[0;32m~/miniconda3/envs/tf/lib/python3.9/site-packages/statsmodels/base/data.py\u001b[0m in \u001b[0;36mhandle_data\u001b[0;34m(endog, exog, missing, hasconst, **kwargs)\u001b[0m\n\u001b[1;32m    673\u001b[0m \u001b[0;34m\u001b[0m\u001b[0m\n\u001b[1;32m    674\u001b[0m     \u001b[0mklass\u001b[0m \u001b[0;34m=\u001b[0m \u001b[0mhandle_data_class_factory\u001b[0m\u001b[0;34m(\u001b[0m\u001b[0mendog\u001b[0m\u001b[0;34m,\u001b[0m \u001b[0mexog\u001b[0m\u001b[0;34m)\u001b[0m\u001b[0;34m\u001b[0m\u001b[0;34m\u001b[0m\u001b[0m\n\u001b[0;32m--> 675\u001b[0;31m     return klass(endog, exog=exog, missing=missing, hasconst=hasconst,\n\u001b[0m\u001b[1;32m    676\u001b[0m                  **kwargs)\n",
      "\u001b[0;32m~/miniconda3/envs/tf/lib/python3.9/site-packages/statsmodels/base/data.py\u001b[0m in \u001b[0;36m__init__\u001b[0;34m(self, endog, exog, missing, hasconst, **kwargs)\u001b[0m\n\u001b[1;32m     87\u001b[0m         \u001b[0mself\u001b[0m\u001b[0;34m.\u001b[0m\u001b[0mk_constant\u001b[0m \u001b[0;34m=\u001b[0m \u001b[0;36m0\u001b[0m\u001b[0;34m\u001b[0m\u001b[0;34m\u001b[0m\u001b[0m\n\u001b[1;32m     88\u001b[0m         \u001b[0mself\u001b[0m\u001b[0;34m.\u001b[0m\u001b[0m_handle_constant\u001b[0m\u001b[0;34m(\u001b[0m\u001b[0mhasconst\u001b[0m\u001b[0;34m)\u001b[0m\u001b[0;34m\u001b[0m\u001b[0;34m\u001b[0m\u001b[0m\n\u001b[0;32m---> 89\u001b[0;31m         \u001b[0mself\u001b[0m\u001b[0;34m.\u001b[0m\u001b[0m_check_integrity\u001b[0m\u001b[0;34m(\u001b[0m\u001b[0;34m)\u001b[0m\u001b[0;34m\u001b[0m\u001b[0;34m\u001b[0m\u001b[0m\n\u001b[0m\u001b[1;32m     90\u001b[0m         \u001b[0mself\u001b[0m\u001b[0;34m.\u001b[0m\u001b[0m_cache\u001b[0m \u001b[0;34m=\u001b[0m \u001b[0;34m{\u001b[0m\u001b[0;34m}\u001b[0m\u001b[0;34m\u001b[0m\u001b[0;34m\u001b[0m\u001b[0m\n\u001b[1;32m     91\u001b[0m \u001b[0;34m\u001b[0m\u001b[0m\n",
      "\u001b[0;32m~/miniconda3/envs/tf/lib/python3.9/site-packages/statsmodels/base/data.py\u001b[0m in \u001b[0;36m_check_integrity\u001b[0;34m(self)\u001b[0m\n\u001b[1;32m    532\u001b[0m                 not self.orig_endog.index.equals(self.orig_exog.index)):\n\u001b[1;32m    533\u001b[0m             \u001b[0;32mraise\u001b[0m \u001b[0mValueError\u001b[0m\u001b[0;34m(\u001b[0m\u001b[0;34m\"The indices for endog and exog are not aligned\"\u001b[0m\u001b[0;34m)\u001b[0m\u001b[0;34m\u001b[0m\u001b[0;34m\u001b[0m\u001b[0m\n\u001b[0;32m--> 534\u001b[0;31m         \u001b[0msuper\u001b[0m\u001b[0;34m(\u001b[0m\u001b[0mPandasData\u001b[0m\u001b[0;34m,\u001b[0m \u001b[0mself\u001b[0m\u001b[0;34m)\u001b[0m\u001b[0;34m.\u001b[0m\u001b[0m_check_integrity\u001b[0m\u001b[0;34m(\u001b[0m\u001b[0;34m)\u001b[0m\u001b[0;34m\u001b[0m\u001b[0;34m\u001b[0m\u001b[0m\n\u001b[0m\u001b[1;32m    535\u001b[0m \u001b[0;34m\u001b[0m\u001b[0m\n\u001b[1;32m    536\u001b[0m     \u001b[0;32mdef\u001b[0m \u001b[0m_get_row_labels\u001b[0m\u001b[0;34m(\u001b[0m\u001b[0mself\u001b[0m\u001b[0;34m,\u001b[0m \u001b[0marr\u001b[0m\u001b[0;34m)\u001b[0m\u001b[0;34m:\u001b[0m\u001b[0;34m\u001b[0m\u001b[0;34m\u001b[0m\u001b[0m\n",
      "\u001b[0;32m~/miniconda3/envs/tf/lib/python3.9/site-packages/statsmodels/base/data.py\u001b[0m in \u001b[0;36m_check_integrity\u001b[0;34m(self)\u001b[0m\n\u001b[1;32m    434\u001b[0m         \u001b[0;32mif\u001b[0m \u001b[0mself\u001b[0m\u001b[0;34m.\u001b[0m\u001b[0mexog\u001b[0m \u001b[0;32mis\u001b[0m \u001b[0;32mnot\u001b[0m \u001b[0;32mNone\u001b[0m\u001b[0;34m:\u001b[0m\u001b[0;34m\u001b[0m\u001b[0;34m\u001b[0m\u001b[0m\n\u001b[1;32m    435\u001b[0m             \u001b[0;32mif\u001b[0m \u001b[0mlen\u001b[0m\u001b[0;34m(\u001b[0m\u001b[0mself\u001b[0m\u001b[0;34m.\u001b[0m\u001b[0mexog\u001b[0m\u001b[0;34m)\u001b[0m \u001b[0;34m!=\u001b[0m \u001b[0mlen\u001b[0m\u001b[0;34m(\u001b[0m\u001b[0mself\u001b[0m\u001b[0;34m.\u001b[0m\u001b[0mendog\u001b[0m\u001b[0;34m)\u001b[0m\u001b[0;34m:\u001b[0m\u001b[0;34m\u001b[0m\u001b[0;34m\u001b[0m\u001b[0m\n\u001b[0;32m--> 436\u001b[0;31m                 \u001b[0;32mraise\u001b[0m \u001b[0mValueError\u001b[0m\u001b[0;34m(\u001b[0m\u001b[0;34m\"endog and exog matrices are different sizes\"\u001b[0m\u001b[0;34m)\u001b[0m\u001b[0;34m\u001b[0m\u001b[0;34m\u001b[0m\u001b[0m\n\u001b[0m\u001b[1;32m    437\u001b[0m \u001b[0;34m\u001b[0m\u001b[0m\n\u001b[1;32m    438\u001b[0m     \u001b[0;32mdef\u001b[0m \u001b[0mwrap_output\u001b[0m\u001b[0;34m(\u001b[0m\u001b[0mself\u001b[0m\u001b[0;34m,\u001b[0m \u001b[0mobj\u001b[0m\u001b[0;34m,\u001b[0m \u001b[0mhow\u001b[0m\u001b[0;34m=\u001b[0m\u001b[0;34m'columns'\u001b[0m\u001b[0;34m,\u001b[0m \u001b[0mnames\u001b[0m\u001b[0;34m=\u001b[0m\u001b[0;32mNone\u001b[0m\u001b[0;34m)\u001b[0m\u001b[0;34m:\u001b[0m\u001b[0;34m\u001b[0m\u001b[0;34m\u001b[0m\u001b[0m\n",
      "\u001b[0;31mValueError\u001b[0m: endog and exog matrices are different sizes"
     ]
    }
   ],
   "source": [
    "X_transformed = sm.add_constant(X_transformed)\n",
    "model = PassiveAggressiveRegressor(max_iter=1000, tol=1e-3)\n",
    "\n",
    "model = sm.OLS(y, X_transformed ).fit()"
   ]
  },
  {
   "cell_type": "code",
   "execution_count": null,
   "id": "8696dfc4",
   "metadata": {},
   "outputs": [],
   "source": [
    "y_pred = model.predict(X_transformed)\n",
    "residuals = y - y_pred"
   ]
  },
  {
   "cell_type": "code",
   "execution_count": null,
   "id": "f4794139",
   "metadata": {},
   "outputs": [],
   "source": [
    "from statsmodels.stats.outliers_influence import OLSInfluence\n",
    "influence = OLSInfluence(model)\n",
    "cooks_d = influence.cooks_distance[0]\n",
    "\n",
    "n = len(X_transformed)\n",
    "k = X_transformed.shape[1]\n",
    "\n",
    "threshold_cooks = 4 / (n - k - 1)\n",
    "threshold_cooks\n",
    "influential_points_cooks = np.where(cooks_d > threshold_cooks)[0]\n",
    "\n",
    "print(influential_points_cooks)\n",
    "threshold_cooks"
   ]
  },
  {
   "cell_type": "code",
   "execution_count": null,
   "id": "458a091e",
   "metadata": {},
   "outputs": [],
   "source": [
    "len(influential_points_cooks)"
   ]
  },
  {
   "cell_type": "code",
   "execution_count": null,
   "id": "9ad42005",
   "metadata": {},
   "outputs": [],
   "source": [
    "df_model = df_model.drop(index=high_residual_indices)"
   ]
  },
  {
   "cell_type": "code",
   "execution_count": null,
   "id": "3fb74031",
   "metadata": {},
   "outputs": [],
   "source": [
    "data = df_model.sample(frac=0.8, random_state=786)\n",
    "data_unseen = df_model.drop(data.index)\n",
    "\n",
    "print('Data for Modeling: ' + str(data.shape))\n",
    "print('Unseen Data For Predictions: ' + str(data_unseen.shape))"
   ]
  },
  {
   "cell_type": "markdown",
   "id": "ff156813",
   "metadata": {},
   "source": [
    "### Remodelling"
   ]
  },
  {
   "cell_type": "code",
   "execution_count": null,
   "id": "0435640d",
   "metadata": {},
   "outputs": [],
   "source": [
    "cont_feats = df_model.drop(columns=['region', 'sub_region','wrb_class_value','cost_real_2021']).columns.tolist()\n",
    "cat_feats = ['region', 'sub_region']\n",
    "ordinal_feats = ['wrb_class_value']"
   ]
  },
  {
   "cell_type": "code",
   "execution_count": null,
   "id": "35d53749",
   "metadata": {},
   "outputs": [],
   "source": [
    "s = setup(data,\n",
    "          target = 'cost_real_2021',\n",
    "          ordinal_features ={'wrb_class_value': list(range(0, 30))},\n",
    "          categorical_features= cat_feats,\n",
    "          numeric_features= cont_feats,\n",
    "          normalize = True,\n",
    "          normalize_method = 'zscore',\n",
    "          verbose = False,\n",
    "          feature_selection = False,\n",
    "          low_variance_threshold = 0.1,\n",
    "          pca = False, \n",
    "          pca_components = 30,\n",
    "          remove_multicollinearity = False,\n",
    "          multicollinearity_threshold = 0.3\n",
    "         )"
   ]
  },
  {
   "cell_type": "code",
   "execution_count": null,
   "id": "185ef20c",
   "metadata": {},
   "outputs": [],
   "source": [
    "par = create_model('par')\n"
   ]
  },
  {
   "cell_type": "code",
   "execution_count": null,
   "id": "471f5ac6",
   "metadata": {},
   "outputs": [],
   "source": [
    "plot_model(par, plot = 'residuals_interactive')"
   ]
  },
  {
   "cell_type": "code",
   "execution_count": null,
   "id": "5cdbede0",
   "metadata": {},
   "outputs": [],
   "source": [
    "Q1 = df_adj[cont_feats].quantile(0.25)\n",
    "Q3 = df_adj[cont_feats].quantile(0.75)\n",
    "IQR = Q3 - Q1\n",
    "\n",
    "lower_bound = Q1 - 1.5 * IQR\n",
    "upper_bound = Q3 + 1.5 * IQR\n",
    "\n",
    "##### Boolean\n",
    "outliers_iqr = ((df_adj[cont_feats] < lower_bound) | (df_adj[cont_feats] > upper_bound))"
   ]
  },
  {
   "cell_type": "code",
   "execution_count": null,
   "id": "017269ee",
   "metadata": {},
   "outputs": [],
   "source": [
    "df_model= df_adj\n",
    "colors = np.where(outliers_iqr['cost_km_2021'], 'lightblue', 'pink')"
   ]
  },
  {
   "cell_type": "code",
   "execution_count": null,
   "id": "ff8df35e",
   "metadata": {},
   "outputs": [],
   "source": [
    "cont_feats = df_model.drop(columns=['region', 'sub_region','wrb_class_value']).columns.tolist()\n",
    "cat_feats = ['region', 'sub_region']\n",
    "ordinal_feats = ['wrb_class_value']"
   ]
  },
  {
   "cell_type": "code",
   "execution_count": null,
   "id": "517b53a6",
   "metadata": {},
   "outputs": [],
   "source": [
    "plt.scatter(df_adj[cont_feats].index, df_model[cont_feats]['cost_km_2021'], c=colors)\n",
    "plt.title(\"Cost_km_2021- IQR\")\n",
    "plt.xlabel(\"Index\")\n",
    "plt.ylabel(\"Value\")\n",
    "\n",
    "# legend\n",
    "from matplotlib.lines import Line2D\n",
    "legend_elements = [Line2D([0], [0], marker='o', color='w', label='Outlier', markersize=10, markerfacecolor='lightblue'),\n",
    "                   Line2D([0], [0], marker='o', color='w', label='Regular Data', markersize=10, markerfacecolor='pink')]\n",
    "plt.legend(handles=legend_elements, loc='upper right')\n",
    "\n",
    "plt.show()"
   ]
  },
  {
   "cell_type": "code",
   "execution_count": null,
   "id": "f7945ecf",
   "metadata": {},
   "outputs": [],
   "source": []
  },
  {
   "cell_type": "code",
   "execution_count": null,
   "id": "55ba3722",
   "metadata": {},
   "outputs": [],
   "source": []
  },
  {
   "cell_type": "code",
   "execution_count": null,
   "id": "c65a087f",
   "metadata": {},
   "outputs": [],
   "source": []
  },
  {
   "cell_type": "code",
   "execution_count": null,
   "id": "ec844869",
   "metadata": {},
   "outputs": [],
   "source": []
  },
  {
   "cell_type": "code",
   "execution_count": null,
   "id": "b187de20",
   "metadata": {},
   "outputs": [],
   "source": []
  },
  {
   "cell_type": "code",
   "execution_count": null,
   "id": "6cc7609d",
   "metadata": {},
   "outputs": [],
   "source": []
  }
 ],
 "metadata": {
  "kernelspec": {
   "display_name": "Python 3 (ipykernel)",
   "language": "python",
   "name": "python3"
  },
  "language_info": {
   "codemirror_mode": {
    "name": "ipython",
    "version": 3
   },
   "file_extension": ".py",
   "mimetype": "text/x-python",
   "name": "python",
   "nbconvert_exporter": "python",
   "pygments_lexer": "ipython3",
   "version": "3.9.16"
  }
 },
 "nbformat": 4,
 "nbformat_minor": 5
}
