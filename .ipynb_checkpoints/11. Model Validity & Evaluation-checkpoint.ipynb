{
 "cells": [
  {
   "cell_type": "markdown",
   "id": "f7199453",
   "metadata": {},
   "source": [
    "### Model Validity & Evaluation\n",
    "\n",
    "The purpose of this sheet is to evaluate the best model that was generated in the previous sheets to determine if/where each model is inefficient and to verify the validity of the models."
   ]
  },
  {
   "cell_type": "markdown",
   "id": "cab43f52",
   "metadata": {},
   "source": [
    "### Library Imports"
   ]
  },
  {
   "cell_type": "code",
   "execution_count": 56,
   "id": "62229654",
   "metadata": {},
   "outputs": [],
   "source": [
    "import numpy as np\n",
    "from numpy.linalg import inv\n",
    "\n",
    "import pandas as pd\n",
    "import matplotlib.pyplot as plt\n",
    "import requests\n",
    "import pickle\n",
    "import time\n",
    "import seaborn as sns\n",
    "from PIL import Image\n",
    "import plotly.express as px\n",
    "\n",
    "import dash\n",
    "from dash import Dash, dcc, html, Input, Output\n",
    "from dash import dcc\n",
    "import dash_html_components as html\n",
    "from dash.dependencies import Input, Output\n",
    "\n",
    "import pycaret\n",
    "from pycaret.regression import *\n",
    "from pycaret.regression import RegressionExperiment\n",
    "from pycaret.regression import get_config\n",
    "from pycaret.regression import save_model, load_model\n",
    "\n",
    "from pandas import json_normalize\n",
    "from sklearn.model_selection import train_test_split, GridSearchCV\n",
    "from sklearn.pipeline import Pipeline\n",
    "from sklearn.naive_bayes import MultinomialNB\n",
    "from sklearn.linear_model import LogisticRegression\n",
    "from sklearn.metrics import confusion_matrix, ConfusionMatrixDisplay\n",
    "from sklearn.feature_extraction.text import CountVectorizer, TfidfVectorizer\n",
    "from sklearn.preprocessing import StandardScaler,OneHotEncoder"
   ]
  },
  {
   "cell_type": "code",
   "execution_count": 2,
   "id": "2f7c8ca4",
   "metadata": {},
   "outputs": [],
   "source": [
    "pd.set_option('display.max_columns', None)"
   ]
  },
  {
   "cell_type": "markdown",
   "id": "97d4df19",
   "metadata": {},
   "source": [
    "### Data Imports"
   ]
  },
  {
   "cell_type": "code",
   "execution_count": 3,
   "id": "8e626f9e",
   "metadata": {},
   "outputs": [],
   "source": [
    "with open('pickles/df_user.pkl', 'rb') as f:\n",
    "    df_user = pickle.load(f)\n",
    "with open('pickles/df_adj.pkl', 'rb') as f:\n",
    "    df_adj = pickle.load(f)\n",
    "with open('pickles/data_user.pkl', 'rb') as f:\n",
    "    data_user = pickle.load(f)\n",
    "with open('pickles/data_user_unseen.pkl', 'rb') as f:\n",
    "    data_user_unseen = pickle.load(f)"
   ]
  },
  {
   "cell_type": "markdown",
   "id": "3fc52ebb",
   "metadata": {},
   "source": [
    "### Model Imports"
   ]
  },
  {
   "cell_type": "code",
   "execution_count": 4,
   "id": "2f8dc2c4",
   "metadata": {},
   "outputs": [
    {
     "name": "stdout",
     "output_type": "stream",
     "text": [
      "Transformation Pipeline and Model Successfully Loaded\n"
     ]
    }
   ],
   "source": [
    "user_model = load_model('blended_user_tuned')"
   ]
  },
  {
   "cell_type": "code",
   "execution_count": 5,
   "id": "ea17b2aa",
   "metadata": {},
   "outputs": [
    {
     "data": {
      "text/html": [
       "<style>#sk-container-id-1 {color: black;background-color: white;}#sk-container-id-1 pre{padding: 0;}#sk-container-id-1 div.sk-toggleable {background-color: white;}#sk-container-id-1 label.sk-toggleable__label {cursor: pointer;display: block;width: 100%;margin-bottom: 0;padding: 0.3em;box-sizing: border-box;text-align: center;}#sk-container-id-1 label.sk-toggleable__label-arrow:before {content: \"▸\";float: left;margin-right: 0.25em;color: #696969;}#sk-container-id-1 label.sk-toggleable__label-arrow:hover:before {color: black;}#sk-container-id-1 div.sk-estimator:hover label.sk-toggleable__label-arrow:before {color: black;}#sk-container-id-1 div.sk-toggleable__content {max-height: 0;max-width: 0;overflow: hidden;text-align: left;background-color: #f0f8ff;}#sk-container-id-1 div.sk-toggleable__content pre {margin: 0.2em;color: black;border-radius: 0.25em;background-color: #f0f8ff;}#sk-container-id-1 input.sk-toggleable__control:checked~div.sk-toggleable__content {max-height: 200px;max-width: 100%;overflow: auto;}#sk-container-id-1 input.sk-toggleable__control:checked~label.sk-toggleable__label-arrow:before {content: \"▾\";}#sk-container-id-1 div.sk-estimator input.sk-toggleable__control:checked~label.sk-toggleable__label {background-color: #d4ebff;}#sk-container-id-1 div.sk-label input.sk-toggleable__control:checked~label.sk-toggleable__label {background-color: #d4ebff;}#sk-container-id-1 input.sk-hidden--visually {border: 0;clip: rect(1px 1px 1px 1px);clip: rect(1px, 1px, 1px, 1px);height: 1px;margin: -1px;overflow: hidden;padding: 0;position: absolute;width: 1px;}#sk-container-id-1 div.sk-estimator {font-family: monospace;background-color: #f0f8ff;border: 1px dotted black;border-radius: 0.25em;box-sizing: border-box;margin-bottom: 0.5em;}#sk-container-id-1 div.sk-estimator:hover {background-color: #d4ebff;}#sk-container-id-1 div.sk-parallel-item::after {content: \"\";width: 100%;border-bottom: 1px solid gray;flex-grow: 1;}#sk-container-id-1 div.sk-label:hover label.sk-toggleable__label {background-color: #d4ebff;}#sk-container-id-1 div.sk-serial::before {content: \"\";position: absolute;border-left: 1px solid gray;box-sizing: border-box;top: 0;bottom: 0;left: 50%;z-index: 0;}#sk-container-id-1 div.sk-serial {display: flex;flex-direction: column;align-items: center;background-color: white;padding-right: 0.2em;padding-left: 0.2em;position: relative;}#sk-container-id-1 div.sk-item {position: relative;z-index: 1;}#sk-container-id-1 div.sk-parallel {display: flex;align-items: stretch;justify-content: center;background-color: white;position: relative;}#sk-container-id-1 div.sk-item::before, #sk-container-id-1 div.sk-parallel-item::before {content: \"\";position: absolute;border-left: 1px solid gray;box-sizing: border-box;top: 0;bottom: 0;left: 50%;z-index: -1;}#sk-container-id-1 div.sk-parallel-item {display: flex;flex-direction: column;z-index: 1;position: relative;background-color: white;}#sk-container-id-1 div.sk-parallel-item:first-child::after {align-self: flex-end;width: 50%;}#sk-container-id-1 div.sk-parallel-item:last-child::after {align-self: flex-start;width: 50%;}#sk-container-id-1 div.sk-parallel-item:only-child::after {width: 0;}#sk-container-id-1 div.sk-dashed-wrapped {border: 1px dashed gray;margin: 0 0.4em 0.5em 0.4em;box-sizing: border-box;padding-bottom: 0.4em;background-color: white;}#sk-container-id-1 div.sk-label label {font-family: monospace;font-weight: bold;display: inline-block;line-height: 1.2em;}#sk-container-id-1 div.sk-label-container {text-align: center;}#sk-container-id-1 div.sk-container {/* jupyter's `normalize.less` sets `[hidden] { display: none; }` but bootstrap.min.css set `[hidden] { display: none !important; }` so we also need the `!important` here to be able to override the default hidden behavior on the sphinx rendered scikit-learn.org. See: https://github.com/scikit-learn/scikit-learn/issues/21755 */display: inline-block !important;position: relative;}#sk-container-id-1 div.sk-text-repr-fallback {display: none;}</style><div id=\"sk-container-id-1\" class=\"sk-top-container\"><div class=\"sk-text-repr-fallback\"><pre>Pipeline(memory=FastMemory(location=/var/folders/fm/_6kg8xkn3jz4slz27zwpqnhc0000gn/T/joblib),\n",
       "         steps=[(&#x27;iterative_imputer&#x27;,\n",
       "                 TransformerWrapper(transformer=IterativeImputer(cat_estimator=LGBMClassifier(n_jobs=-1,\n",
       "                                                                                              random_state=1950),\n",
       "                                                                 cat_estimator_prepare_for_categoricals_type=&#x27;fit_params_categorical_feature&#x27;,\n",
       "                                                                 categorical_indices=[5,\n",
       "                                                                                      7,\n",
       "                                                                                      8,\n",
       "                                                                                      9,\n",
       "                                                                                      10,\n",
       "                                                                                      11,\n",
       "                                                                                      12,\n",
       "                                                                                      13,\n",
       "                                                                                      14,\n",
       "                                                                                      15...\n",
       "                                              BaggingRegressor(estimator=LGBMRegressor(boosting_type=&#x27;dart&#x27;,\n",
       "                                                                                       learning_rate=0.2,\n",
       "                                                                                       max_depth=7,\n",
       "                                                                                       min_child_weight=1,\n",
       "                                                                                       n_estimators=200,\n",
       "                                                                                       n_jobs=-1,\n",
       "                                                                                       num_leaves=127,\n",
       "                                                                                       objective=&#x27;regression&#x27;,\n",
       "                                                                                       random_state=1950,\n",
       "                                                                                       reg_alpha=1,\n",
       "                                                                                       reg_lambda=1,\n",
       "                                                                                       subsample=0.9),\n",
       "                                                               n_estimators=100,\n",
       "                                                               random_state=1950)),\n",
       "                                             (&#x27;Extra Trees Regressor&#x27;,\n",
       "                                              ExtraTreesRegressor(n_jobs=-1,\n",
       "                                                                  random_state=1950))],\n",
       "                                 n_jobs=-1, weights=[0.7, 0.15, 0.15]))])</pre><b>In a Jupyter environment, please rerun this cell to show the HTML representation or trust the notebook. <br />On GitHub, the HTML representation is unable to render, please try loading this page with nbviewer.org.</b></div><div class=\"sk-container\" hidden><div class=\"sk-item sk-dashed-wrapped\"><div class=\"sk-label-container\"><div class=\"sk-label sk-toggleable\"><input class=\"sk-toggleable__control sk-hidden--visually\" id=\"sk-estimator-id-1\" type=\"checkbox\" ><label for=\"sk-estimator-id-1\" class=\"sk-toggleable__label sk-toggleable__label-arrow\">Pipeline</label><div class=\"sk-toggleable__content\"><pre>Pipeline(memory=FastMemory(location=/var/folders/fm/_6kg8xkn3jz4slz27zwpqnhc0000gn/T/joblib),\n",
       "         steps=[(&#x27;iterative_imputer&#x27;,\n",
       "                 TransformerWrapper(transformer=IterativeImputer(cat_estimator=LGBMClassifier(n_jobs=-1,\n",
       "                                                                                              random_state=1950),\n",
       "                                                                 cat_estimator_prepare_for_categoricals_type=&#x27;fit_params_categorical_feature&#x27;,\n",
       "                                                                 categorical_indices=[5,\n",
       "                                                                                      7,\n",
       "                                                                                      8,\n",
       "                                                                                      9,\n",
       "                                                                                      10,\n",
       "                                                                                      11,\n",
       "                                                                                      12,\n",
       "                                                                                      13,\n",
       "                                                                                      14,\n",
       "                                                                                      15...\n",
       "                                              BaggingRegressor(estimator=LGBMRegressor(boosting_type=&#x27;dart&#x27;,\n",
       "                                                                                       learning_rate=0.2,\n",
       "                                                                                       max_depth=7,\n",
       "                                                                                       min_child_weight=1,\n",
       "                                                                                       n_estimators=200,\n",
       "                                                                                       n_jobs=-1,\n",
       "                                                                                       num_leaves=127,\n",
       "                                                                                       objective=&#x27;regression&#x27;,\n",
       "                                                                                       random_state=1950,\n",
       "                                                                                       reg_alpha=1,\n",
       "                                                                                       reg_lambda=1,\n",
       "                                                                                       subsample=0.9),\n",
       "                                                               n_estimators=100,\n",
       "                                                               random_state=1950)),\n",
       "                                             (&#x27;Extra Trees Regressor&#x27;,\n",
       "                                              ExtraTreesRegressor(n_jobs=-1,\n",
       "                                                                  random_state=1950))],\n",
       "                                 n_jobs=-1, weights=[0.7, 0.15, 0.15]))])</pre></div></div></div><div class=\"sk-serial\"><div class=\"sk-item sk-dashed-wrapped\"><div class=\"sk-label-container\"><div class=\"sk-label sk-toggleable\"><input class=\"sk-toggleable__control sk-hidden--visually\" id=\"sk-estimator-id-2\" type=\"checkbox\" ><label for=\"sk-estimator-id-2\" class=\"sk-toggleable__label sk-toggleable__label-arrow\">iterative_imputer: TransformerWrapper</label><div class=\"sk-toggleable__content\"><pre>TransformerWrapper(transformer=IterativeImputer(cat_estimator=LGBMClassifier(n_jobs=-1,\n",
       "                                                                             random_state=1950),\n",
       "                                                cat_estimator_prepare_for_categoricals_type=&#x27;fit_params_categorical_feature&#x27;,\n",
       "                                                categorical_indices=[5, 7, 8, 9,\n",
       "                                                                     10, 11, 12,\n",
       "                                                                     13, 14, 15,\n",
       "                                                                     16, 17, 18,\n",
       "                                                                     19, 20,\n",
       "                                                                     21],\n",
       "                                                max_iter=5,\n",
       "                                                num_estimator=LGBMRegressor(n_jobs=-1,\n",
       "                                                                            random_state=1950),\n",
       "                                                num_estimator_prepare_for_categoricals_type=&#x27;fit_params_categorical_feature&#x27;,\n",
       "                                                random_state=1950,\n",
       "                                                skip_complete=True))</pre></div></div></div><div class=\"sk-parallel\"><div class=\"sk-parallel-item\"><div class=\"sk-item\"><div class=\"sk-label-container\"><div class=\"sk-label sk-toggleable\"><input class=\"sk-toggleable__control sk-hidden--visually\" id=\"sk-estimator-id-3\" type=\"checkbox\" ><label for=\"sk-estimator-id-3\" class=\"sk-toggleable__label sk-toggleable__label-arrow\">transformer: IterativeImputer</label><div class=\"sk-toggleable__content\"><pre>IterativeImputer(cat_estimator=LGBMClassifier(n_jobs=-1, random_state=1950),\n",
       "                 cat_estimator_prepare_for_categoricals_type=&#x27;fit_params_categorical_feature&#x27;,\n",
       "                 categorical_indices=[5, 7, 8, 9, 10, 11, 12, 13, 14, 15, 16,\n",
       "                                      17, 18, 19, 20, 21],\n",
       "                 max_iter=5,\n",
       "                 num_estimator=LGBMRegressor(n_jobs=-1, random_state=1950),\n",
       "                 num_estimator_prepare_for_categoricals_type=&#x27;fit_params_categorical_feature&#x27;,\n",
       "                 random_state=1950, skip_complete=True)</pre></div></div></div><div class=\"sk-serial\"><div class=\"sk-item sk-dashed-wrapped\"><div class=\"sk-parallel\"><div class=\"sk-parallel-item\"><div class=\"sk-item\"><div class=\"sk-label-container\"><div class=\"sk-label sk-toggleable\"><input class=\"sk-toggleable__control sk-hidden--visually\" id=\"sk-estimator-id-4\" type=\"checkbox\" ><label for=\"sk-estimator-id-4\" class=\"sk-toggleable__label sk-toggleable__label-arrow\">cat_estimator: LGBMClassifier</label><div class=\"sk-toggleable__content\"><pre>LGBMClassifier(n_jobs=-1, random_state=1950)</pre></div></div></div><div class=\"sk-serial\"><div class=\"sk-item\"><div class=\"sk-estimator sk-toggleable\"><input class=\"sk-toggleable__control sk-hidden--visually\" id=\"sk-estimator-id-5\" type=\"checkbox\" ><label for=\"sk-estimator-id-5\" class=\"sk-toggleable__label sk-toggleable__label-arrow\">LGBMClassifier</label><div class=\"sk-toggleable__content\"><pre>LGBMClassifier(n_jobs=-1, random_state=1950)</pre></div></div></div></div></div></div><div class=\"sk-parallel-item\"><div class=\"sk-item\"><div class=\"sk-label-container\"><div class=\"sk-label sk-toggleable\"><input class=\"sk-toggleable__control sk-hidden--visually\" id=\"sk-estimator-id-6\" type=\"checkbox\" ><label for=\"sk-estimator-id-6\" class=\"sk-toggleable__label sk-toggleable__label-arrow\">num_estimator: LGBMRegressor</label><div class=\"sk-toggleable__content\"><pre>LGBMRegressor(n_jobs=-1, random_state=1950)</pre></div></div></div><div class=\"sk-serial\"><div class=\"sk-item\"><div class=\"sk-estimator sk-toggleable\"><input class=\"sk-toggleable__control sk-hidden--visually\" id=\"sk-estimator-id-7\" type=\"checkbox\" ><label for=\"sk-estimator-id-7\" class=\"sk-toggleable__label sk-toggleable__label-arrow\">LGBMRegressor</label><div class=\"sk-toggleable__content\"><pre>LGBMRegressor(n_jobs=-1, random_state=1950)</pre></div></div></div></div></div></div></div></div></div></div></div></div></div><div class=\"sk-item sk-dashed-wrapped\"><div class=\"sk-label-container\"><div class=\"sk-label sk-toggleable\"><input class=\"sk-toggleable__control sk-hidden--visually\" id=\"sk-estimator-id-8\" type=\"checkbox\" ><label for=\"sk-estimator-id-8\" class=\"sk-toggleable__label sk-toggleable__label-arrow\">ordinal_encoding: TransformerWrapper</label><div class=\"sk-toggleable__content\"><pre>TransformerWrapper(include=[&#x27;anglo?&#x27;],\n",
       "                   transformer=OrdinalEncoder(cols=[&#x27;anglo?&#x27;],\n",
       "                                              handle_missing=&#x27;return_nan&#x27;,\n",
       "                                              mapping=[{&#x27;col&#x27;: &#x27;anglo?&#x27;,\n",
       "                                                        &#x27;data_type&#x27;: dtype(&#x27;O&#x27;),\n",
       "                                                        &#x27;mapping&#x27;: no     0\n",
       "yes    1\n",
       "NaN   -1\n",
       "dtype: int64}]))</pre></div></div></div><div class=\"sk-parallel\"><div class=\"sk-parallel-item\"><div class=\"sk-item\"><div class=\"sk-label-container\"><div class=\"sk-label sk-toggleable\"><input class=\"sk-toggleable__control sk-hidden--visually\" id=\"sk-estimator-id-9\" type=\"checkbox\" ><label for=\"sk-estimator-id-9\" class=\"sk-toggleable__label sk-toggleable__label-arrow\">transformer: OrdinalEncoder</label><div class=\"sk-toggleable__content\"><pre>OrdinalEncoder(cols=[&#x27;anglo?&#x27;], handle_missing=&#x27;return_nan&#x27;,\n",
       "               mapping=[{&#x27;col&#x27;: &#x27;anglo?&#x27;, &#x27;data_type&#x27;: dtype(&#x27;O&#x27;),\n",
       "                         &#x27;mapping&#x27;: no     0\n",
       "yes    1\n",
       "NaN   -1\n",
       "dtype: int64}])</pre></div></div></div><div class=\"sk-serial\"><div class=\"sk-item\"><div class=\"sk-estimator sk-toggleable\"><input class=\"sk-toggleable__control sk-hidden--visually\" id=\"sk-estimator-id-10\" type=\"checkbox\" ><label for=\"sk-estimator-id-10\" class=\"sk-toggleable__label sk-toggleable__label-arrow\">OrdinalEncoder</label><div class=\"sk-toggleable__content\"><pre>OrdinalEncoder(cols=[&#x27;anglo?&#x27;], handle_missing=&#x27;return_nan&#x27;,\n",
       "               mapping=[{&#x27;col&#x27;: &#x27;anglo?&#x27;, &#x27;data_type&#x27;: dtype(&#x27;O&#x27;),\n",
       "                         &#x27;mapping&#x27;: no     0\n",
       "yes    1\n",
       "NaN   -1\n",
       "dtype: int64}])</pre></div></div></div></div></div></div></div></div><div class=\"sk-item sk-dashed-wrapped\"><div class=\"sk-label-container\"><div class=\"sk-label sk-toggleable\"><input class=\"sk-toggleable__control sk-hidden--visually\" id=\"sk-estimator-id-11\" type=\"checkbox\" ><label for=\"sk-estimator-id-11\" class=\"sk-toggleable__label sk-toggleable__label-arrow\">onehot_encoding: TransformerWrapper</label><div class=\"sk-toggleable__content\"><pre>TransformerWrapper(include=[&#x27;region&#x27;, &#x27;sub_region&#x27;, &#x27;soil_type&#x27;, &#x27;gauge_width&#x27;,\n",
       "                            &#x27;city_size&#x27;, &#x27;train_type&#x27;, &#x27;country_income_class&#x27;,\n",
       "                            &#x27;elevation_class&#x27;, &#x27;preciptation_type&#x27;,\n",
       "                            &#x27;temperature_category&#x27;, &#x27;affordability&#x27;,\n",
       "                            &#x27;union_prevalence&#x27;, &#x27;poverty_rate&#x27;,\n",
       "                            &#x27;city_density_type&#x27;, &#x27;country_density_type&#x27;],\n",
       "                   transformer=OneHotEncoder(cols=[&#x27;region&#x27;, &#x27;sub_region&#x27;,\n",
       "                                                   &#x27;soil_type&#x27;, &#x27;gauge_width&#x27;,\n",
       "                                                   &#x27;city_size&#x27;, &#x27;train_type&#x27;,\n",
       "                                                   &#x27;country_income_class&#x27;,\n",
       "                                                   &#x27;elevation_class&#x27;,\n",
       "                                                   &#x27;preciptation_type&#x27;,\n",
       "                                                   &#x27;temperature_category&#x27;,\n",
       "                                                   &#x27;affordability&#x27;,\n",
       "                                                   &#x27;union_prevalence&#x27;,\n",
       "                                                   &#x27;poverty_rate&#x27;,\n",
       "                                                   &#x27;city_density_type&#x27;,\n",
       "                                                   &#x27;country_density_type&#x27;],\n",
       "                                             handle_missing=&#x27;return_nan&#x27;,\n",
       "                                             use_cat_names=True))</pre></div></div></div><div class=\"sk-parallel\"><div class=\"sk-parallel-item\"><div class=\"sk-item\"><div class=\"sk-label-container\"><div class=\"sk-label sk-toggleable\"><input class=\"sk-toggleable__control sk-hidden--visually\" id=\"sk-estimator-id-12\" type=\"checkbox\" ><label for=\"sk-estimator-id-12\" class=\"sk-toggleable__label sk-toggleable__label-arrow\">transformer: OneHotEncoder</label><div class=\"sk-toggleable__content\"><pre>OneHotEncoder(cols=[&#x27;region&#x27;, &#x27;sub_region&#x27;, &#x27;soil_type&#x27;, &#x27;gauge_width&#x27;,\n",
       "                    &#x27;city_size&#x27;, &#x27;train_type&#x27;, &#x27;country_income_class&#x27;,\n",
       "                    &#x27;elevation_class&#x27;, &#x27;preciptation_type&#x27;,\n",
       "                    &#x27;temperature_category&#x27;, &#x27;affordability&#x27;, &#x27;union_prevalence&#x27;,\n",
       "                    &#x27;poverty_rate&#x27;, &#x27;city_density_type&#x27;,\n",
       "                    &#x27;country_density_type&#x27;],\n",
       "              handle_missing=&#x27;return_nan&#x27;, use_cat_names=True)</pre></div></div></div><div class=\"sk-serial\"><div class=\"sk-item\"><div class=\"sk-estimator sk-toggleable\"><input class=\"sk-toggleable__control sk-hidden--visually\" id=\"sk-estimator-id-13\" type=\"checkbox\" ><label for=\"sk-estimator-id-13\" class=\"sk-toggleable__label sk-toggleable__label-arrow\">OneHotEncoder</label><div class=\"sk-toggleable__content\"><pre>OneHotEncoder(cols=[&#x27;region&#x27;, &#x27;sub_region&#x27;, &#x27;soil_type&#x27;, &#x27;gauge_width&#x27;,\n",
       "                    &#x27;city_size&#x27;, &#x27;train_type&#x27;, &#x27;country_income_class&#x27;,\n",
       "                    &#x27;elevation_class&#x27;, &#x27;preciptation_type&#x27;,\n",
       "                    &#x27;temperature_category&#x27;, &#x27;affordability&#x27;, &#x27;union_prevalence&#x27;,\n",
       "                    &#x27;poverty_rate&#x27;, &#x27;city_density_type&#x27;,\n",
       "                    &#x27;country_density_type&#x27;],\n",
       "              handle_missing=&#x27;return_nan&#x27;, use_cat_names=True)</pre></div></div></div></div></div></div></div></div><div class=\"sk-item sk-dashed-wrapped\"><div class=\"sk-label-container\"><div class=\"sk-label sk-toggleable\"><input class=\"sk-toggleable__control sk-hidden--visually\" id=\"sk-estimator-id-14\" type=\"checkbox\" ><label for=\"sk-estimator-id-14\" class=\"sk-toggleable__label sk-toggleable__label-arrow\">low_variance: TransformerWrapper</label><div class=\"sk-toggleable__content\"><pre>TransformerWrapper(exclude=[], transformer=VarianceThreshold(threshold=0.1))</pre></div></div></div><div class=\"sk-parallel\"><div class=\"sk-parallel-item\"><div class=\"sk-item\"><div class=\"sk-label-container\"><div class=\"sk-label sk-toggleable\"><input class=\"sk-toggleable__control sk-hidden--visually\" id=\"sk-estimator-id-15\" type=\"checkbox\" ><label for=\"sk-estimator-id-15\" class=\"sk-toggleable__label sk-toggleable__label-arrow\">transformer: VarianceThreshold</label><div class=\"sk-toggleable__content\"><pre>VarianceThreshold(threshold=0.1)</pre></div></div></div><div class=\"sk-serial\"><div class=\"sk-item\"><div class=\"sk-estimator sk-toggleable\"><input class=\"sk-toggleable__control sk-hidden--visually\" id=\"sk-estimator-id-16\" type=\"checkbox\" ><label for=\"sk-estimator-id-16\" class=\"sk-toggleable__label sk-toggleable__label-arrow\">VarianceThreshold</label><div class=\"sk-toggleable__content\"><pre>VarianceThreshold(threshold=0.1)</pre></div></div></div></div></div></div></div></div><div class=\"sk-item sk-dashed-wrapped\"><div class=\"sk-label-container\"><div class=\"sk-label sk-toggleable\"><input class=\"sk-toggleable__control sk-hidden--visually\" id=\"sk-estimator-id-17\" type=\"checkbox\" ><label for=\"sk-estimator-id-17\" class=\"sk-toggleable__label sk-toggleable__label-arrow\">normalize: TransformerWrapper</label><div class=\"sk-toggleable__content\"><pre>TransformerWrapper(transformer=StandardScaler())</pre></div></div></div><div class=\"sk-parallel\"><div class=\"sk-parallel-item\"><div class=\"sk-item\"><div class=\"sk-label-container\"><div class=\"sk-label sk-toggleable\"><input class=\"sk-toggleable__control sk-hidden--visually\" id=\"sk-estimator-id-18\" type=\"checkbox\" ><label for=\"sk-estimator-id-18\" class=\"sk-toggleable__label sk-toggleable__label-arrow\">transformer: StandardScaler</label><div class=\"sk-toggleable__content\"><pre>StandardScaler()</pre></div></div></div><div class=\"sk-serial\"><div class=\"sk-item\"><div class=\"sk-estimator sk-toggleable\"><input class=\"sk-toggleable__control sk-hidden--visually\" id=\"sk-estimator-id-19\" type=\"checkbox\" ><label for=\"sk-estimator-id-19\" class=\"sk-toggleable__label sk-toggleable__label-arrow\">StandardScaler</label><div class=\"sk-toggleable__content\"><pre>StandardScaler()</pre></div></div></div></div></div></div></div></div><div class=\"sk-item sk-dashed-wrapped\"><div class=\"sk-label-container\"><div class=\"sk-label sk-toggleable\"><input class=\"sk-toggleable__control sk-hidden--visually\" id=\"sk-estimator-id-20\" type=\"checkbox\" ><label for=\"sk-estimator-id-20\" class=\"sk-toggleable__label sk-toggleable__label-arrow\">clean_column_names: TransformerWrapper</label><div class=\"sk-toggleable__content\"><pre>TransformerWrapper(transformer=CleanColumnNames())</pre></div></div></div><div class=\"sk-parallel\"><div class=\"sk-parallel-item\"><div class=\"sk-item\"><div class=\"sk-label-container\"><div class=\"sk-label sk-toggleable\"><input class=\"sk-toggleable__control sk-hidden--visually\" id=\"sk-estimator-id-21\" type=\"checkbox\" ><label for=\"sk-estimator-id-21\" class=\"sk-toggleable__label sk-toggleable__label-arrow\">transformer: CleanColumnNames</label><div class=\"sk-toggleable__content\"><pre>CleanColumnNames()</pre></div></div></div><div class=\"sk-serial\"><div class=\"sk-item\"><div class=\"sk-estimator sk-toggleable\"><input class=\"sk-toggleable__control sk-hidden--visually\" id=\"sk-estimator-id-22\" type=\"checkbox\" ><label for=\"sk-estimator-id-22\" class=\"sk-toggleable__label sk-toggleable__label-arrow\">CleanColumnNames</label><div class=\"sk-toggleable__content\"><pre>CleanColumnNames()</pre></div></div></div></div></div></div></div></div><div class=\"sk-item sk-dashed-wrapped\"><div class=\"sk-label-container\"><div class=\"sk-label sk-toggleable\"><input class=\"sk-toggleable__control sk-hidden--visually\" id=\"sk-estimator-id-23\" type=\"checkbox\" ><label for=\"sk-estimator-id-23\" class=\"sk-toggleable__label sk-toggleable__label-arrow\">trained_model: VotingRegressor</label><div class=\"sk-toggleable__content\"><pre>VotingRegressor(estimators=[(&#x27;CatBoost Regressor&#x27;,\n",
       "                             &lt;catboost.core.CatBoostRegressor object at 0x2a04a7af0&gt;),\n",
       "                            (&#x27;Bagging Regressor&#x27;,\n",
       "                             BaggingRegressor(estimator=LGBMRegressor(boosting_type=&#x27;dart&#x27;,\n",
       "                                                                      learning_rate=0.2,\n",
       "                                                                      max_depth=7,\n",
       "                                                                      min_child_weight=1,\n",
       "                                                                      n_estimators=200,\n",
       "                                                                      n_jobs=-1,\n",
       "                                                                      num_leaves=127,\n",
       "                                                                      objective=&#x27;regression&#x27;,\n",
       "                                                                      random_state=1950,\n",
       "                                                                      reg_alpha=1,\n",
       "                                                                      reg_lambda=1,\n",
       "                                                                      subsample=0.9),\n",
       "                                              n_estimators=100,\n",
       "                                              random_state=1950)),\n",
       "                            (&#x27;Extra Trees Regressor&#x27;,\n",
       "                             ExtraTreesRegressor(n_jobs=-1,\n",
       "                                                 random_state=1950))],\n",
       "                n_jobs=-1, weights=[0.7, 0.15, 0.15])</pre></div></div></div><div class=\"sk-parallel\"><div class=\"sk-parallel-item\"><div class=\"sk-item\"><div class=\"sk-label-container\"><div class=\"sk-label sk-toggleable\"><label>CatBoost Regressor</label></div></div><div class=\"sk-serial\"><div class=\"sk-item\"><div class=\"sk-estimator sk-toggleable\"><input class=\"sk-toggleable__control sk-hidden--visually\" id=\"sk-estimator-id-24\" type=\"checkbox\" ><label for=\"sk-estimator-id-24\" class=\"sk-toggleable__label sk-toggleable__label-arrow\">CatBoostRegressor</label><div class=\"sk-toggleable__content\"><pre>&lt;catboost.core.CatBoostRegressor object at 0x2a04a7af0&gt;</pre></div></div></div></div></div></div><div class=\"sk-parallel-item\"><div class=\"sk-item\"><div class=\"sk-label-container\"><div class=\"sk-label sk-toggleable\"><label>Bagging Regressor</label></div></div><div class=\"sk-serial\"><div class=\"sk-item sk-dashed-wrapped\"><div class=\"sk-parallel\"><div class=\"sk-parallel-item\"><div class=\"sk-item\"><div class=\"sk-label-container\"><div class=\"sk-label sk-toggleable\"><input class=\"sk-toggleable__control sk-hidden--visually\" id=\"sk-estimator-id-25\" type=\"checkbox\" ><label for=\"sk-estimator-id-25\" class=\"sk-toggleable__label sk-toggleable__label-arrow\">estimator: LGBMRegressor</label><div class=\"sk-toggleable__content\"><pre>LGBMRegressor(boosting_type=&#x27;dart&#x27;, learning_rate=0.2, max_depth=7,\n",
       "              min_child_weight=1, n_estimators=200, n_jobs=-1, num_leaves=127,\n",
       "              objective=&#x27;regression&#x27;, random_state=1950, reg_alpha=1,\n",
       "              reg_lambda=1, subsample=0.9)</pre></div></div></div><div class=\"sk-serial\"><div class=\"sk-item\"><div class=\"sk-estimator sk-toggleable\"><input class=\"sk-toggleable__control sk-hidden--visually\" id=\"sk-estimator-id-26\" type=\"checkbox\" ><label for=\"sk-estimator-id-26\" class=\"sk-toggleable__label sk-toggleable__label-arrow\">LGBMRegressor</label><div class=\"sk-toggleable__content\"><pre>LGBMRegressor(boosting_type=&#x27;dart&#x27;, learning_rate=0.2, max_depth=7,\n",
       "              min_child_weight=1, n_estimators=200, n_jobs=-1, num_leaves=127,\n",
       "              objective=&#x27;regression&#x27;, random_state=1950, reg_alpha=1,\n",
       "              reg_lambda=1, subsample=0.9)</pre></div></div></div></div></div></div></div></div></div></div></div><div class=\"sk-parallel-item\"><div class=\"sk-item\"><div class=\"sk-label-container\"><div class=\"sk-label sk-toggleable\"><label>Extra Trees Regressor</label></div></div><div class=\"sk-serial\"><div class=\"sk-item\"><div class=\"sk-estimator sk-toggleable\"><input class=\"sk-toggleable__control sk-hidden--visually\" id=\"sk-estimator-id-27\" type=\"checkbox\" ><label for=\"sk-estimator-id-27\" class=\"sk-toggleable__label sk-toggleable__label-arrow\">ExtraTreesRegressor</label><div class=\"sk-toggleable__content\"><pre>ExtraTreesRegressor(n_jobs=-1, random_state=1950)</pre></div></div></div></div></div></div></div></div></div></div></div></div>"
      ],
      "text/plain": [
       "Pipeline(memory=FastMemory(location=/var/folders/fm/_6kg8xkn3jz4slz27zwpqnhc0000gn/T/joblib),\n",
       "         steps=[('iterative_imputer',\n",
       "                 TransformerWrapper(transformer=IterativeImputer(cat_estimator=LGBMClassifier(n_jobs=-1,\n",
       "                                                                                              random_state=1950),\n",
       "                                                                 cat_estimator_prepare_for_categoricals_type='fit_params_categorical_feature',\n",
       "                                                                 categorical_indices=[5,\n",
       "                                                                                      7,\n",
       "                                                                                      8,\n",
       "                                                                                      9,\n",
       "                                                                                      10,\n",
       "                                                                                      11,\n",
       "                                                                                      12,\n",
       "                                                                                      13,\n",
       "                                                                                      14,\n",
       "                                                                                      15...\n",
       "                                              BaggingRegressor(estimator=LGBMRegressor(boosting_type='dart',\n",
       "                                                                                       learning_rate=0.2,\n",
       "                                                                                       max_depth=7,\n",
       "                                                                                       min_child_weight=1,\n",
       "                                                                                       n_estimators=200,\n",
       "                                                                                       n_jobs=-1,\n",
       "                                                                                       num_leaves=127,\n",
       "                                                                                       objective='regression',\n",
       "                                                                                       random_state=1950,\n",
       "                                                                                       reg_alpha=1,\n",
       "                                                                                       reg_lambda=1,\n",
       "                                                                                       subsample=0.9),\n",
       "                                                               n_estimators=100,\n",
       "                                                               random_state=1950)),\n",
       "                                             ('Extra Trees Regressor',\n",
       "                                              ExtraTreesRegressor(n_jobs=-1,\n",
       "                                                                  random_state=1950))],\n",
       "                                 n_jobs=-1, weights=[0.7, 0.15, 0.15]))])"
      ]
     },
     "execution_count": 5,
     "metadata": {},
     "output_type": "execute_result"
    }
   ],
   "source": [
    "user_model"
   ]
  },
  {
   "cell_type": "markdown",
   "id": "b25704f1",
   "metadata": {},
   "source": [
    "### User Friendly Model Evaluation\n",
    "\n",
    "Within this subsection, I'll evaluate the model created in the previous sheet that used categorical features in place of the original continuous features. This model is intended to be more interpretable for the end user."
   ]
  },
  {
   "cell_type": "markdown",
   "id": "e98e3c7e",
   "metadata": {},
   "source": [
    "#### Data Setup"
   ]
  },
  {
   "cell_type": "code",
   "execution_count": 6,
   "id": "5c9c6960",
   "metadata": {},
   "outputs": [],
   "source": [
    "data = data_user\n",
    "data_unseen = data_user_unseen"
   ]
  },
  {
   "cell_type": "code",
   "execution_count": 7,
   "id": "691b2711",
   "metadata": {},
   "outputs": [],
   "source": [
    "data.reset_index(drop=True, inplace=True)\n",
    "data_unseen.reset_index(drop=True, inplace=True)"
   ]
  },
  {
   "cell_type": "code",
   "execution_count": 8,
   "id": "8afa43bb",
   "metadata": {},
   "outputs": [
    {
     "data": {
      "text/plain": [
       "(614, 23)"
      ]
     },
     "execution_count": 8,
     "metadata": {},
     "output_type": "execute_result"
    }
   ],
   "source": [
    "data.shape"
   ]
  },
  {
   "cell_type": "code",
   "execution_count": 9,
   "id": "1f99e788",
   "metadata": {},
   "outputs": [
    {
     "data": {
      "text/html": [
       "<div>\n",
       "<style scoped>\n",
       "    .dataframe tbody tr th:only-of-type {\n",
       "        vertical-align: middle;\n",
       "    }\n",
       "\n",
       "    .dataframe tbody tr th {\n",
       "        vertical-align: top;\n",
       "    }\n",
       "\n",
       "    .dataframe thead th {\n",
       "        text-align: right;\n",
       "    }\n",
       "</style>\n",
       "<table border=\"1\" class=\"dataframe\">\n",
       "  <thead>\n",
       "    <tr style=\"text-align: right;\">\n",
       "      <th></th>\n",
       "      <th>length</th>\n",
       "      <th>tunnel</th>\n",
       "      <th>elevated</th>\n",
       "      <th>at_grade</th>\n",
       "      <th>stations</th>\n",
       "      <th>anglo?</th>\n",
       "      <th>cost_real_2021</th>\n",
       "      <th>duration</th>\n",
       "      <th>region</th>\n",
       "      <th>sub_region</th>\n",
       "      <th>soil_type</th>\n",
       "      <th>gauge_width</th>\n",
       "      <th>city_size</th>\n",
       "      <th>train_type</th>\n",
       "      <th>country_income_class</th>\n",
       "      <th>elevation_class</th>\n",
       "      <th>preciptation_type</th>\n",
       "      <th>temperature_category</th>\n",
       "      <th>affordability</th>\n",
       "      <th>union_prevalence</th>\n",
       "      <th>poverty_rate</th>\n",
       "      <th>city_density_type</th>\n",
       "      <th>country_density_type</th>\n",
       "    </tr>\n",
       "  </thead>\n",
       "  <tbody>\n",
       "    <tr>\n",
       "      <th>0</th>\n",
       "      <td>17.80</td>\n",
       "      <td>17.8000</td>\n",
       "      <td>0.0000</td>\n",
       "      <td>0.00</td>\n",
       "      <td>13.0</td>\n",
       "      <td>no</td>\n",
       "      <td>2802.101059</td>\n",
       "      <td>11.0</td>\n",
       "      <td>Asia</td>\n",
       "      <td>Western Asia</td>\n",
       "      <td>Fertile/Agricultural (Grasslands, Food Bearing...</td>\n",
       "      <td>standard</td>\n",
       "      <td>&gt;15M (Metropolis)</td>\n",
       "      <td>subway</td>\n",
       "      <td>low-income</td>\n",
       "      <td>Coastal</td>\n",
       "      <td>Low-Moderate-Rainfall</td>\n",
       "      <td>Cold/Cool</td>\n",
       "      <td>Very Unaffordable</td>\n",
       "      <td>Very Few/No Labor Unions</td>\n",
       "      <td>Little Poverty</td>\n",
       "      <td>Very Dense</td>\n",
       "      <td>Not Dense</td>\n",
       "    </tr>\n",
       "    <tr>\n",
       "      <th>1</th>\n",
       "      <td>13.99</td>\n",
       "      <td>13.7102</td>\n",
       "      <td>0.2798</td>\n",
       "      <td>0.00</td>\n",
       "      <td>11.0</td>\n",
       "      <td>no</td>\n",
       "      <td>2947.454495</td>\n",
       "      <td>4.0</td>\n",
       "      <td>Asia</td>\n",
       "      <td>Eastern Asia</td>\n",
       "      <td>Clay Dominant</td>\n",
       "      <td>standard</td>\n",
       "      <td>2M-5M (large)</td>\n",
       "      <td>subway</td>\n",
       "      <td>lower-middle income</td>\n",
       "      <td>Coastal</td>\n",
       "      <td>High-Moderate-Rainfall</td>\n",
       "      <td>Mild/Moderate</td>\n",
       "      <td>Very Unaffordable</td>\n",
       "      <td>Many Labor Unions</td>\n",
       "      <td>Very Impoverished</td>\n",
       "      <td>Somewhat Dense</td>\n",
       "      <td>Dense</td>\n",
       "    </tr>\n",
       "    <tr>\n",
       "      <th>2</th>\n",
       "      <td>19.50</td>\n",
       "      <td>0.0000</td>\n",
       "      <td>2.3000</td>\n",
       "      <td>17.10</td>\n",
       "      <td>12.0</td>\n",
       "      <td>yes</td>\n",
       "      <td>925.035647</td>\n",
       "      <td>5.0</td>\n",
       "      <td>Americas</td>\n",
       "      <td>Northern America</td>\n",
       "      <td>Fertile/Agricultural (Grasslands, Food Bearing...</td>\n",
       "      <td>standard</td>\n",
       "      <td>500k-1M (medium)</td>\n",
       "      <td>light rail</td>\n",
       "      <td>high-income</td>\n",
       "      <td>High-land</td>\n",
       "      <td>Semi-Arid</td>\n",
       "      <td>Cold/Cool</td>\n",
       "      <td>Moderately Affordable</td>\n",
       "      <td>Very Few/No Labor Unions</td>\n",
       "      <td>Very Little Poverty</td>\n",
       "      <td>Not Dense</td>\n",
       "      <td>Not Dense</td>\n",
       "    </tr>\n",
       "    <tr>\n",
       "      <th>3</th>\n",
       "      <td>19.00</td>\n",
       "      <td>10.0700</td>\n",
       "      <td>0.6200</td>\n",
       "      <td>8.31</td>\n",
       "      <td>25.0</td>\n",
       "      <td>yes</td>\n",
       "      <td>4961.703996</td>\n",
       "      <td>11.0</td>\n",
       "      <td>Americas</td>\n",
       "      <td>Northern America</td>\n",
       "      <td>Clay Dominant</td>\n",
       "      <td>standard</td>\n",
       "      <td>5M-10M (very large)</td>\n",
       "      <td>light rail</td>\n",
       "      <td>upper-middle income</td>\n",
       "      <td>Coastal</td>\n",
       "      <td>Moderate-Rainfall</td>\n",
       "      <td>Cold/Cool</td>\n",
       "      <td>Moderately Affordable</td>\n",
       "      <td>Many Labor Unions</td>\n",
       "      <td>Very Little Poverty</td>\n",
       "      <td>Dense</td>\n",
       "      <td>Not Dense</td>\n",
       "    </tr>\n",
       "    <tr>\n",
       "      <th>4</th>\n",
       "      <td>51.60</td>\n",
       "      <td>51.6000</td>\n",
       "      <td>0.0000</td>\n",
       "      <td>0.00</td>\n",
       "      <td>36.0</td>\n",
       "      <td>no</td>\n",
       "      <td>9568.080394</td>\n",
       "      <td>6.0</td>\n",
       "      <td>Asia</td>\n",
       "      <td>Eastern Asia</td>\n",
       "      <td>River Valleys/Deltas (River Sediments)</td>\n",
       "      <td>standard</td>\n",
       "      <td>5M-10M (very large)</td>\n",
       "      <td>subway</td>\n",
       "      <td>low-income</td>\n",
       "      <td>Coastal</td>\n",
       "      <td>High-Moderate-Rainfall</td>\n",
       "      <td>Mild/Moderate</td>\n",
       "      <td>Very Unaffordable</td>\n",
       "      <td>Many Labor Unions</td>\n",
       "      <td>Very Impoverished</td>\n",
       "      <td>Not Dense</td>\n",
       "      <td>Dense</td>\n",
       "    </tr>\n",
       "  </tbody>\n",
       "</table>\n",
       "</div>"
      ],
      "text/plain": [
       "   length   tunnel  elevated  at_grade  stations anglo?  cost_real_2021  \\\n",
       "0   17.80  17.8000    0.0000      0.00      13.0     no     2802.101059   \n",
       "1   13.99  13.7102    0.2798      0.00      11.0     no     2947.454495   \n",
       "2   19.50   0.0000    2.3000     17.10      12.0    yes      925.035647   \n",
       "3   19.00  10.0700    0.6200      8.31      25.0    yes     4961.703996   \n",
       "4   51.60  51.6000    0.0000      0.00      36.0     no     9568.080394   \n",
       "\n",
       "   duration    region        sub_region  \\\n",
       "0      11.0      Asia      Western Asia   \n",
       "1       4.0      Asia      Eastern Asia   \n",
       "2       5.0  Americas  Northern America   \n",
       "3      11.0  Americas  Northern America   \n",
       "4       6.0      Asia      Eastern Asia   \n",
       "\n",
       "                                           soil_type gauge_width  \\\n",
       "0  Fertile/Agricultural (Grasslands, Food Bearing...    standard   \n",
       "1                                      Clay Dominant    standard   \n",
       "2  Fertile/Agricultural (Grasslands, Food Bearing...    standard   \n",
       "3                                      Clay Dominant    standard   \n",
       "4             River Valleys/Deltas (River Sediments)    standard   \n",
       "\n",
       "             city_size  train_type country_income_class elevation_class  \\\n",
       "0    >15M (Metropolis)      subway           low-income         Coastal   \n",
       "1        2M-5M (large)      subway  lower-middle income         Coastal   \n",
       "2     500k-1M (medium)  light rail          high-income       High-land   \n",
       "3  5M-10M (very large)  light rail  upper-middle income         Coastal   \n",
       "4  5M-10M (very large)      subway           low-income         Coastal   \n",
       "\n",
       "        preciptation_type temperature_category          affordability  \\\n",
       "0   Low-Moderate-Rainfall            Cold/Cool      Very Unaffordable   \n",
       "1  High-Moderate-Rainfall        Mild/Moderate      Very Unaffordable   \n",
       "2               Semi-Arid            Cold/Cool  Moderately Affordable   \n",
       "3       Moderate-Rainfall            Cold/Cool  Moderately Affordable   \n",
       "4  High-Moderate-Rainfall        Mild/Moderate      Very Unaffordable   \n",
       "\n",
       "           union_prevalence         poverty_rate city_density_type  \\\n",
       "0  Very Few/No Labor Unions       Little Poverty        Very Dense   \n",
       "1         Many Labor Unions    Very Impoverished    Somewhat Dense   \n",
       "2  Very Few/No Labor Unions  Very Little Poverty         Not Dense   \n",
       "3         Many Labor Unions  Very Little Poverty             Dense   \n",
       "4         Many Labor Unions    Very Impoverished         Not Dense   \n",
       "\n",
       "  country_density_type  \n",
       "0            Not Dense  \n",
       "1                Dense  \n",
       "2            Not Dense  \n",
       "3            Not Dense  \n",
       "4                Dense  "
      ]
     },
     "execution_count": 9,
     "metadata": {},
     "output_type": "execute_result"
    }
   ],
   "source": [
    "data.head(5)"
   ]
  },
  {
   "cell_type": "markdown",
   "id": "626f0de9",
   "metadata": {},
   "source": [
    "#### Model Setup"
   ]
  },
  {
   "cell_type": "code",
   "execution_count": 10,
   "id": "4521d3d5",
   "metadata": {},
   "outputs": [],
   "source": [
    "cont_feats = ['length','tunnel','elevated','at_grade','duration',]\n",
    "cat_feats =  [\"region\", \"sub_region\", \"soil_type\", \"gauge_width\", \n",
    "    \"city_size\", \"train_type\", \n",
    "    \"country_income_class\", \"elevation_class\", \"preciptation_type\", \n",
    "    \"temperature_category\", \"affordability\", \"union_prevalence\",\n",
    "    \"poverty_rate\", \"city_density_type\", \"country_density_type\",'anglo?'\n",
    "]"
   ]
  },
  {
   "cell_type": "code",
   "execution_count": 11,
   "id": "4afb4ee3",
   "metadata": {},
   "outputs": [],
   "source": [
    "s = setup(data,\n",
    "          target = 'cost_real_2021',\n",
    "          categorical_features= cat_feats,\n",
    "          numeric_features= cont_feats,\n",
    "          normalize = True,\n",
    "          normalize_method = 'zscore',\n",
    "          verbose = False,\n",
    "          feature_selection = False,\n",
    "          low_variance_threshold = 0.1,\n",
    "          pca = False, \n",
    "          pca_components = 30,\n",
    "          remove_multicollinearity = False,\n",
    "          multicollinearity_threshold = 0.3\n",
    "         )"
   ]
  },
  {
   "cell_type": "markdown",
   "id": "0ba5df71",
   "metadata": {},
   "source": [
    "#### Model Predictions"
   ]
  },
  {
   "cell_type": "code",
   "execution_count": 12,
   "id": "16cb0a40",
   "metadata": {},
   "outputs": [
    {
     "data": {
      "text/html": [
       "<style type=\"text/css\">\n",
       "</style>\n",
       "<table id=\"T_81d54\">\n",
       "  <thead>\n",
       "    <tr>\n",
       "      <th class=\"blank level0\" >&nbsp;</th>\n",
       "      <th id=\"T_81d54_level0_col0\" class=\"col_heading level0 col0\" >Model</th>\n",
       "      <th id=\"T_81d54_level0_col1\" class=\"col_heading level0 col1\" >MAE</th>\n",
       "      <th id=\"T_81d54_level0_col2\" class=\"col_heading level0 col2\" >MSE</th>\n",
       "      <th id=\"T_81d54_level0_col3\" class=\"col_heading level0 col3\" >RMSE</th>\n",
       "      <th id=\"T_81d54_level0_col4\" class=\"col_heading level0 col4\" >R2</th>\n",
       "      <th id=\"T_81d54_level0_col5\" class=\"col_heading level0 col5\" >RMSLE</th>\n",
       "      <th id=\"T_81d54_level0_col6\" class=\"col_heading level0 col6\" >MAPE</th>\n",
       "    </tr>\n",
       "  </thead>\n",
       "  <tbody>\n",
       "    <tr>\n",
       "      <th id=\"T_81d54_level0_row0\" class=\"row_heading level0 row0\" >0</th>\n",
       "      <td id=\"T_81d54_row0_col0\" class=\"data row0 col0\" >Voting Regressor</td>\n",
       "      <td id=\"T_81d54_row0_col1\" class=\"data row0 col1\" >561.8417</td>\n",
       "      <td id=\"T_81d54_row0_col2\" class=\"data row0 col2\" >663014.8800</td>\n",
       "      <td id=\"T_81d54_row0_col3\" class=\"data row0 col3\" >814.2573</td>\n",
       "      <td id=\"T_81d54_row0_col4\" class=\"data row0 col4\" >0.8882</td>\n",
       "      <td id=\"T_81d54_row0_col5\" class=\"data row0 col5\" >0.3366</td>\n",
       "      <td id=\"T_81d54_row0_col6\" class=\"data row0 col6\" >0.2686</td>\n",
       "    </tr>\n",
       "  </tbody>\n",
       "</table>\n"
      ],
      "text/plain": [
       "<pandas.io.formats.style.Styler at 0x2a9500d60>"
      ]
     },
     "metadata": {},
     "output_type": "display_data"
    }
   ],
   "source": [
    "finalized_best = finalize_model(user_model)\n",
    "predictions = predict_model(user_model, data=data_unseen)"
   ]
  },
  {
   "cell_type": "markdown",
   "id": "c67f3874",
   "metadata": {},
   "source": [
    "### Residuals"
   ]
  },
  {
   "cell_type": "code",
   "execution_count": 13,
   "id": "8b9c63ca",
   "metadata": {},
   "outputs": [],
   "source": [
    "predictions['Residuals'] = predictions['cost_real_2021'] - predictions['prediction_label']"
   ]
  },
  {
   "cell_type": "code",
   "execution_count": 14,
   "id": "76575570",
   "metadata": {},
   "outputs": [],
   "source": [
    "mean_res = np.mean(predictions['Residuals'])\n",
    "std_res = np.std(predictions['Residuals'])\n",
    "predictions['standardized_residuals'] = (predictions['Residuals'] - mean_res) / std_res"
   ]
  },
  {
   "cell_type": "code",
   "execution_count": 15,
   "id": "fbe8f03d",
   "metadata": {},
   "outputs": [
    {
     "data": {
      "text/html": [
       "<div>\n",
       "<style scoped>\n",
       "    .dataframe tbody tr th:only-of-type {\n",
       "        vertical-align: middle;\n",
       "    }\n",
       "\n",
       "    .dataframe tbody tr th {\n",
       "        vertical-align: top;\n",
       "    }\n",
       "\n",
       "    .dataframe thead th {\n",
       "        text-align: right;\n",
       "    }\n",
       "</style>\n",
       "<table border=\"1\" class=\"dataframe\">\n",
       "  <thead>\n",
       "    <tr style=\"text-align: right;\">\n",
       "      <th></th>\n",
       "      <th>length</th>\n",
       "      <th>tunnel</th>\n",
       "      <th>elevated</th>\n",
       "      <th>at_grade</th>\n",
       "      <th>stations</th>\n",
       "      <th>anglo?</th>\n",
       "      <th>duration</th>\n",
       "      <th>region</th>\n",
       "      <th>sub_region</th>\n",
       "      <th>soil_type</th>\n",
       "      <th>gauge_width</th>\n",
       "      <th>city_size</th>\n",
       "      <th>train_type</th>\n",
       "      <th>country_income_class</th>\n",
       "      <th>elevation_class</th>\n",
       "      <th>preciptation_type</th>\n",
       "      <th>temperature_category</th>\n",
       "      <th>affordability</th>\n",
       "      <th>union_prevalence</th>\n",
       "      <th>poverty_rate</th>\n",
       "      <th>city_density_type</th>\n",
       "      <th>country_density_type</th>\n",
       "      <th>cost_real_2021</th>\n",
       "      <th>prediction_label</th>\n",
       "      <th>Residuals</th>\n",
       "      <th>standardized_residuals</th>\n",
       "    </tr>\n",
       "  </thead>\n",
       "  <tbody>\n",
       "    <tr>\n",
       "      <th>0</th>\n",
       "      <td>10.9</td>\n",
       "      <td>10.900</td>\n",
       "      <td>0.000</td>\n",
       "      <td>0.0</td>\n",
       "      <td>9.0</td>\n",
       "      <td>no</td>\n",
       "      <td>5.0</td>\n",
       "      <td>Asia</td>\n",
       "      <td>Eastern Asia</td>\n",
       "      <td>Fertile/Agricultural (Grasslands, Food Bearing...</td>\n",
       "      <td>standard</td>\n",
       "      <td>10M-15M (small Metropolis)</td>\n",
       "      <td>subway</td>\n",
       "      <td>low-income</td>\n",
       "      <td>Mid-land</td>\n",
       "      <td>Moderate-Rainfall</td>\n",
       "      <td>Mild/Moderate</td>\n",
       "      <td>Very Unaffordable</td>\n",
       "      <td>Many Labor Unions</td>\n",
       "      <td>Very Impoverished</td>\n",
       "      <td>Somewhat Dense</td>\n",
       "      <td>Dense</td>\n",
       "      <td>2532.155273</td>\n",
       "      <td>2482.283062</td>\n",
       "      <td>49.872211</td>\n",
       "      <td>0.014028</td>\n",
       "    </tr>\n",
       "    <tr>\n",
       "      <th>1</th>\n",
       "      <td>15.2</td>\n",
       "      <td>0.000</td>\n",
       "      <td>0.000</td>\n",
       "      <td>15.2</td>\n",
       "      <td>29.0</td>\n",
       "      <td>no</td>\n",
       "      <td>3.0</td>\n",
       "      <td>Europe</td>\n",
       "      <td>Western Europe</td>\n",
       "      <td>Fertile/Agricultural (Grasslands, Food Bearing...</td>\n",
       "      <td>standard</td>\n",
       "      <td>&lt;250k (small)</td>\n",
       "      <td>tram</td>\n",
       "      <td>high-income</td>\n",
       "      <td>Coastal</td>\n",
       "      <td>Low-Moderate-Rainfall</td>\n",
       "      <td>Cold/Cool</td>\n",
       "      <td>Very Unaffordable</td>\n",
       "      <td>Very Few/No Labor Unions</td>\n",
       "      <td>Very Little Poverty</td>\n",
       "      <td>Dense</td>\n",
       "      <td>Not Dense</td>\n",
       "      <td>653.216736</td>\n",
       "      <td>676.659076</td>\n",
       "      <td>-23.442340</td>\n",
       "      <td>-0.076111</td>\n",
       "    </tr>\n",
       "    <tr>\n",
       "      <th>2</th>\n",
       "      <td>18.4</td>\n",
       "      <td>9.016</td>\n",
       "      <td>9.384</td>\n",
       "      <td>0.0</td>\n",
       "      <td>16.0</td>\n",
       "      <td>yes</td>\n",
       "      <td>4.0</td>\n",
       "      <td>Americas</td>\n",
       "      <td>Northern America</td>\n",
       "      <td>Fertile/Agricultural (Grasslands, Food Bearing...</td>\n",
       "      <td>standard</td>\n",
       "      <td>1M-2M (medium-large)</td>\n",
       "      <td>light rail</td>\n",
       "      <td>high-income</td>\n",
       "      <td>Coastal</td>\n",
       "      <td>High-Moderate-Rainfall</td>\n",
       "      <td>Cold/Cool</td>\n",
       "      <td>Moderately Affordable</td>\n",
       "      <td>Many Labor Unions</td>\n",
       "      <td>Very Little Poverty</td>\n",
       "      <td>Somewhat Dense</td>\n",
       "      <td>Not Dense</td>\n",
       "      <td>2215.578125</td>\n",
       "      <td>2875.621578</td>\n",
       "      <td>-660.043453</td>\n",
       "      <td>-0.858803</td>\n",
       "    </tr>\n",
       "  </tbody>\n",
       "</table>\n",
       "</div>"
      ],
      "text/plain": [
       "   length  tunnel  elevated  at_grade  stations anglo?  duration    region  \\\n",
       "0    10.9  10.900     0.000       0.0       9.0     no       5.0      Asia   \n",
       "1    15.2   0.000     0.000      15.2      29.0     no       3.0    Europe   \n",
       "2    18.4   9.016     9.384       0.0      16.0    yes       4.0  Americas   \n",
       "\n",
       "         sub_region                                          soil_type  \\\n",
       "0      Eastern Asia  Fertile/Agricultural (Grasslands, Food Bearing...   \n",
       "1    Western Europe  Fertile/Agricultural (Grasslands, Food Bearing...   \n",
       "2  Northern America  Fertile/Agricultural (Grasslands, Food Bearing...   \n",
       "\n",
       "  gauge_width                   city_size  train_type country_income_class  \\\n",
       "0    standard  10M-15M (small Metropolis)      subway           low-income   \n",
       "1    standard               <250k (small)        tram          high-income   \n",
       "2    standard        1M-2M (medium-large)  light rail          high-income   \n",
       "\n",
       "  elevation_class       preciptation_type temperature_category  \\\n",
       "0        Mid-land       Moderate-Rainfall        Mild/Moderate   \n",
       "1         Coastal   Low-Moderate-Rainfall            Cold/Cool   \n",
       "2         Coastal  High-Moderate-Rainfall            Cold/Cool   \n",
       "\n",
       "           affordability          union_prevalence         poverty_rate  \\\n",
       "0      Very Unaffordable         Many Labor Unions    Very Impoverished   \n",
       "1      Very Unaffordable  Very Few/No Labor Unions  Very Little Poverty   \n",
       "2  Moderately Affordable         Many Labor Unions  Very Little Poverty   \n",
       "\n",
       "  city_density_type country_density_type  cost_real_2021  prediction_label  \\\n",
       "0    Somewhat Dense                Dense     2532.155273       2482.283062   \n",
       "1             Dense            Not Dense      653.216736        676.659076   \n",
       "2    Somewhat Dense            Not Dense     2215.578125       2875.621578   \n",
       "\n",
       "    Residuals  standardized_residuals  \n",
       "0   49.872211                0.014028  \n",
       "1  -23.442340               -0.076111  \n",
       "2 -660.043453               -0.858803  "
      ]
     },
     "execution_count": 15,
     "metadata": {},
     "output_type": "execute_result"
    }
   ],
   "source": [
    "predictions.head(3)"
   ]
  },
  {
   "cell_type": "code",
   "execution_count": 16,
   "id": "e1f4fea4",
   "metadata": {},
   "outputs": [],
   "source": [
    "fig = px.scatter(predictions,color = 'length', x='prediction_label', y='cost_real_2021', \n",
    "                 trendline=\"ols\", title=\"Predicted Vs. Actual\")\n",
    "fig.show()"
   ]
  },
  {
   "cell_type": "markdown",
   "id": "c581c638",
   "metadata": {},
   "source": [
    "In the above workflow I've generated predictions from the finalized model and then I plotted the predictions against the actual cost. I then color coded each point as a function of the length of that line.\n",
    "\n",
    "This plot tells me that projects that are more expensive are more difficult to model accurately. Additionally projects that are more expensive are more likely to include a longer line length."
   ]
  },
  {
   "cell_type": "code",
   "execution_count": 46,
   "id": "bae2cf92",
   "metadata": {},
   "outputs": [
    {
     "data": {
      "application/vnd.plotly.v1+json": {
       "config": {
        "plotlyServerURL": "https://plot.ly"
       },
       "data": [
        {
         "hovertemplate": "prediction_label=%{x}<br>standardized_residuals=%{y}<br>length=%{marker.color}<extra></extra>",
         "legendgroup": "",
         "marker": {
          "color": [
           10.9,
           15.2,
           18.4,
           32.16,
           2,
           31.3,
           8.366,
           4.4,
           33.5,
           10.7,
           17,
           6.305,
           8.95,
           12.8,
           26.53,
           13,
           29.7,
           24.58,
           19.87,
           19.628,
           3.3,
           15.94,
           16.6,
           2.9,
           30.32,
           19,
           12.5,
           31.4,
           53.75,
           2.3,
           18,
           8.53,
           29.6,
           9,
           28.2,
           25.7,
           4.2,
           7.594,
           24.98,
           28.5,
           4.19,
           24.8,
           4.447,
           3.3,
           3.8,
           1.6,
           2.3,
           40.85,
           26.3,
           27,
           9.7,
           1.5,
           30,
           33.1,
           4.3,
           3,
           3.2,
           6.6,
           25.36,
           6.5,
           15.4,
           21,
           4.2,
           26.7,
           66.3,
           35.2,
           25.487,
           33.7,
           13.828,
           59.1316,
           28.5,
           12.6,
           24.86,
           1.5,
           27,
           41.1,
           12.7,
           22.8,
           4,
           15.5,
           6.5,
           30.4,
           13.8,
           17.5,
           51.2,
           27.4,
           27.49,
           22.6,
           3.4,
           32.3,
           18.5,
           44.5,
           45.2,
           5.2,
           34.3,
           11.3,
           14,
           0.9,
           2.7,
           7.83,
           3.4,
           7.5,
           28.737,
           38.2,
           32.6,
           22.1,
           15.8,
           14.5,
           4.924,
           26.5,
           24.3,
           10.9,
           15.77,
           23.3,
           31.27,
           20.3,
           48,
           3.5,
           1.8,
           3.6,
           8.777,
           2.5,
           4.4,
           9.15,
           22.032,
           17.3,
           13,
           4.1,
           17.3,
           1.8,
           18.6,
           3.9,
           21.2,
           14.4,
           3.3,
           7.6,
           15.15,
           17.6,
           6.3,
           10.6,
           35.4,
           30.523,
           29.2,
           13,
           69.6,
           55.91,
           23.8,
           27.615,
           6.3,
           6.4,
           17.7,
           9.7,
           12.3
          ],
          "coloraxis": "coloraxis",
          "symbol": "circle"
         },
         "mode": "markers",
         "name": "",
         "orientation": "v",
         "showlegend": false,
         "type": "scatter",
         "x": [
          2482.2830619851647,
          676.6590762651746,
          2875.62157796489,
          7388.191081478686,
          171.20393611151448,
          6015.905058725337,
          1979.8741327477676,
          792.7002029344275,
          7018.001880013335,
          2028.3479499258067,
          2853.4256194126706,
          1175.4621444715053,
          2065.5264444368977,
          2514.367235917442,
          6096.061341346256,
          1777.680275181996,
          5200.160311920525,
          5390.231244962277,
          3269.2239719739205,
          2883.045672049242,
          878.0823793757291,
          2617.6308900204303,
          3827.3346397808227,
          700.5326938027852,
          4497.431076919598,
          4621.785794159872,
          2833.842569478166,
          6249.355140865052,
          6575.606697532389,
          394.76053349607633,
          3783.286190978206,
          2059.0657472790886,
          3592.456336520528,
          445.19341896513436,
          3591.557919963636,
          4756.547567218728,
          1259.63620965284,
          1497.44530293582,
          5033.4700447392715,
          4063.496632012134,
          800.8266785965299,
          4878.815738993745,
          1206.005974067906,
          640.3527219336985,
          581.7343128001517,
          403.8518513271085,
          230.93785487866887,
          4727.133691387877,
          5239.506680858225,
          4123.73976408086,
          1734.0926190959135,
          406.4617395659054,
          2937.147807883118,
          4977.762368403965,
          984.2640975464672,
          729.2844225315079,
          612.4712222781559,
          529.6190442228699,
          5157.891228822714,
          1116.1876820912864,
          4096.513169856095,
          4130.109054034413,
          458.3884109781797,
          4332.188771502049,
          5508.517268110251,
          6266.66267195388,
          4735.160796029647,
          5075.590377240866,
          3245.441846585387,
          8225.311173120004,
          3300.1968564263498,
          508.0758668716307,
          4772.229942085345,
          335.1372092400104,
          6559.918489890212,
          8080.041705695493,
          2206.9142333347086,
          2851.5994560018294,
          891.3924149678916,
          3466.6999640313206,
          1155.9696154675917,
          4119.2780843216315,
          1150.4456794333178,
          1001.9028521501931,
          5051.826809094985,
          3936.7386646811683,
          3613.4996287091535,
          3995.6082745332874,
          582.8897020782424,
          4746.447002246328,
          1871.9740795071232,
          8121.26859364456,
          5165.424775506104,
          804.8699390289312,
          6543.022487160274,
          1862.087586936944,
          1506.0835948690806,
          117.11687950893491,
          912.0220179828044,
          1821.769329785138,
          762.6010185194134,
          1320.1042750533047,
          4982.733554160343,
          5412.035957789047,
          4760.94273679638,
          5322.078200315827,
          2646.132976796051,
          2460.514404812042,
          1033.8314999332886,
          3782.420935586888,
          6134.28040109483,
          2438.451423316484,
          2728.4460264774402,
          4560.776430121206,
          4831.237128382562,
          4192.7491018395085,
          9407.88658883917,
          664.9404845450789,
          402.3848364241312,
          1096.213204361878,
          2349.647985331764,
          479.30626009987,
          976.6851882542585,
          1094.8046973180349,
          4838.85554786599,
          3942.64078079325,
          1803.9236968987036,
          855.5148044528878,
          2441.015934363943,
          633.4760371881277,
          3778.8627855899967,
          826.9656578744535,
          5247.724785682591,
          1647.0906439737853,
          715.2032772261257,
          1554.6057241736344,
          3368.115991814009,
          3464.497649052262,
          1729.4684590426607,
          1126.2962765072896,
          3443.4004123294235,
          5246.711508076494,
          5288.02999221273,
          2253.7202673768816,
          7656.605519056892,
          9928.47262034947,
          3483.034575782369,
          4843.502588466406,
          503.8906630204192,
          566.4610231941356,
          846.1677060307894,
          634.6742707984018,
          532.1473843670333
         ],
         "xaxis": "x",
         "y": [
          0.014028087298280766,
          -0.07611109239204475,
          -0.8588029401170943,
          -1.9950746900231588,
          0.2100506872764481,
          -0.05067649923082095,
          -0.5580479893627763,
          0.5062924732987178,
          0.2620562952540037,
          -0.6822342076502275,
          0.6253090408592545,
          -0.4434000396230318,
          0.026390211614531558,
          -0.6195810231294583,
          0.7850884529625389,
          -0.33447927336436195,
          -3.624475875497612,
          0.04622291072391367,
          -1.1213501486932056,
          0.10666344217149838,
          -0.3558899918390542,
          -1.469772037018853,
          0.39986703833253023,
          0.42626849004393585,
          -0.5111586185456134,
          -0.22318733272767227,
          0.6335687979602838,
          1.860757586277299,
          -0.24763008718674223,
          -0.3212738569186042,
          0.16825323274891632,
          -1.4339249025539826,
          2.821048060256218,
          -0.22888147193424005,
          -0.49446767701343464,
          -0.08883789107793623,
          0.16960528365615987,
          0.8735577682483987,
          -0.8819174238887308,
          0.34806249794258975,
          -0.4170763395137472,
          1.030357001996143,
          0.3309321671722339,
          -0.0021914792895672323,
          0.9053497589900966,
          0.20450543722886894,
          -0.16038107269227414,
          -1.0429488982103725,
          0.6352850948414683,
          -0.36189120722514095,
          -0.8002356004307543,
          -0.16452984164931203,
          0.956055327821501,
          -0.11932583774958516,
          0.5169902242780707,
          0.43616273245342163,
          1.5918457599386329,
          -0.21797901393509553,
          -1.1373830132538019,
          0.037509932738721,
          -0.4639222570610397,
          0.0900372882466522,
          -0.04028798772121911,
          1.2616215643968538,
          2.223551244927288,
          -0.32351277799688494,
          0.5128626598014283,
          -0.45516734807517173,
          0.5791059397330451,
          2.525936893741019,
          -1.8707439139395778,
          -0.06616183484346809,
          -0.7779516181784696,
          0.07023878970404392,
          1.2911709621157927,
          1.2141309998405798,
          -0.12835878582128354,
          -1.072204041376626,
          0.8430986240673864,
          -1.622592922556234,
          0.12915529113968346,
          -0.8828793792790322,
          0.12470082008681709,
          -0.10029190154325678,
          2.6441079681676043,
          -0.6311333759680077,
          -1.7153408634061753,
          0.3183323351502226,
          -0.086283732286841,
          0.3123957965374435,
          0.3484255128647243,
          2.6682013369031785,
          -2.1761483133405273,
          -0.2973926541433428,
          0.7792757560369203,
          -0.5121593960522319,
          2.2544184530437175,
          -0.13006727034178475,
          0.34654680856831116,
          0.020635445449354983,
          -0.08597600135012319,
          -0.4392574048988114,
          0.42082593826674836,
          -0.0845126137927295,
          -0.22797645408008585,
          -1.5133569933034403,
          -0.4677685203660196,
          -0.3098079460148733,
          -0.4131923609065068,
          -0.3821005987967942,
          -0.9589569442257169,
          -1.2447456917901651,
          0.025783390861831512,
          -1.2515903264722923,
          -0.4673730813530482,
          -3.588780778256201,
          0.21616317670750504,
          0.42896359947524604,
          0.07995883746690838,
          -0.5078756412774245,
          1.0123208814081543,
          0.0794395024917813,
          -0.3597341167338534,
          0.3874767732676011,
          1.5813853182927673,
          0.28180402459454507,
          0.14971062678807173,
          -0.17668991529924005,
          -0.2291074298422446,
          -0.4244788112013045,
          -0.6304545172337244,
          -0.4469979629643646,
          0.8535429803280707,
          -0.7998456559817766,
          0.6096543264361073,
          0.4193823108400307,
          -0.6942662361459122,
          -0.5463954691743691,
          1.5443187060379011,
          0.47558294557158204,
          -1.565511606950026,
          1.1314434430869147,
          -0.28951598575047827,
          0.957078360001268,
          3.167050663279737,
          0.8415233393727912,
          -0.1496556369741054,
          1.0741210025863626,
          -0.04565688603403787,
          -0.27510067416460504,
          0.0786827858140454,
          -0.28603193269471067,
          -0.1120540658882922
         ],
         "yaxis": "y"
        }
       ],
       "layout": {
        "coloraxis": {
         "colorbar": {
          "title": {
           "text": "length"
          }
         },
         "colorscale": [
          [
           0,
           "#0d0887"
          ],
          [
           0.1111111111111111,
           "#46039f"
          ],
          [
           0.2222222222222222,
           "#7201a8"
          ],
          [
           0.3333333333333333,
           "#9c179e"
          ],
          [
           0.4444444444444444,
           "#bd3786"
          ],
          [
           0.5555555555555556,
           "#d8576b"
          ],
          [
           0.6666666666666666,
           "#ed7953"
          ],
          [
           0.7777777777777778,
           "#fb9f3a"
          ],
          [
           0.8888888888888888,
           "#fdca26"
          ],
          [
           1,
           "#f0f921"
          ]
         ]
        },
        "legend": {
         "tracegroupgap": 0
        },
        "template": {
         "data": {
          "bar": [
           {
            "error_x": {
             "color": "#2a3f5f"
            },
            "error_y": {
             "color": "#2a3f5f"
            },
            "marker": {
             "line": {
              "color": "#E5ECF6",
              "width": 0.5
             },
             "pattern": {
              "fillmode": "overlay",
              "size": 10,
              "solidity": 0.2
             }
            },
            "type": "bar"
           }
          ],
          "barpolar": [
           {
            "marker": {
             "line": {
              "color": "#E5ECF6",
              "width": 0.5
             },
             "pattern": {
              "fillmode": "overlay",
              "size": 10,
              "solidity": 0.2
             }
            },
            "type": "barpolar"
           }
          ],
          "carpet": [
           {
            "aaxis": {
             "endlinecolor": "#2a3f5f",
             "gridcolor": "white",
             "linecolor": "white",
             "minorgridcolor": "white",
             "startlinecolor": "#2a3f5f"
            },
            "baxis": {
             "endlinecolor": "#2a3f5f",
             "gridcolor": "white",
             "linecolor": "white",
             "minorgridcolor": "white",
             "startlinecolor": "#2a3f5f"
            },
            "type": "carpet"
           }
          ],
          "choropleth": [
           {
            "colorbar": {
             "outlinewidth": 0,
             "ticks": ""
            },
            "type": "choropleth"
           }
          ],
          "contour": [
           {
            "colorbar": {
             "outlinewidth": 0,
             "ticks": ""
            },
            "colorscale": [
             [
              0,
              "#0d0887"
             ],
             [
              0.1111111111111111,
              "#46039f"
             ],
             [
              0.2222222222222222,
              "#7201a8"
             ],
             [
              0.3333333333333333,
              "#9c179e"
             ],
             [
              0.4444444444444444,
              "#bd3786"
             ],
             [
              0.5555555555555556,
              "#d8576b"
             ],
             [
              0.6666666666666666,
              "#ed7953"
             ],
             [
              0.7777777777777778,
              "#fb9f3a"
             ],
             [
              0.8888888888888888,
              "#fdca26"
             ],
             [
              1,
              "#f0f921"
             ]
            ],
            "type": "contour"
           }
          ],
          "contourcarpet": [
           {
            "colorbar": {
             "outlinewidth": 0,
             "ticks": ""
            },
            "type": "contourcarpet"
           }
          ],
          "heatmap": [
           {
            "colorbar": {
             "outlinewidth": 0,
             "ticks": ""
            },
            "colorscale": [
             [
              0,
              "#0d0887"
             ],
             [
              0.1111111111111111,
              "#46039f"
             ],
             [
              0.2222222222222222,
              "#7201a8"
             ],
             [
              0.3333333333333333,
              "#9c179e"
             ],
             [
              0.4444444444444444,
              "#bd3786"
             ],
             [
              0.5555555555555556,
              "#d8576b"
             ],
             [
              0.6666666666666666,
              "#ed7953"
             ],
             [
              0.7777777777777778,
              "#fb9f3a"
             ],
             [
              0.8888888888888888,
              "#fdca26"
             ],
             [
              1,
              "#f0f921"
             ]
            ],
            "type": "heatmap"
           }
          ],
          "heatmapgl": [
           {
            "colorbar": {
             "outlinewidth": 0,
             "ticks": ""
            },
            "colorscale": [
             [
              0,
              "#0d0887"
             ],
             [
              0.1111111111111111,
              "#46039f"
             ],
             [
              0.2222222222222222,
              "#7201a8"
             ],
             [
              0.3333333333333333,
              "#9c179e"
             ],
             [
              0.4444444444444444,
              "#bd3786"
             ],
             [
              0.5555555555555556,
              "#d8576b"
             ],
             [
              0.6666666666666666,
              "#ed7953"
             ],
             [
              0.7777777777777778,
              "#fb9f3a"
             ],
             [
              0.8888888888888888,
              "#fdca26"
             ],
             [
              1,
              "#f0f921"
             ]
            ],
            "type": "heatmapgl"
           }
          ],
          "histogram": [
           {
            "marker": {
             "pattern": {
              "fillmode": "overlay",
              "size": 10,
              "solidity": 0.2
             }
            },
            "type": "histogram"
           }
          ],
          "histogram2d": [
           {
            "colorbar": {
             "outlinewidth": 0,
             "ticks": ""
            },
            "colorscale": [
             [
              0,
              "#0d0887"
             ],
             [
              0.1111111111111111,
              "#46039f"
             ],
             [
              0.2222222222222222,
              "#7201a8"
             ],
             [
              0.3333333333333333,
              "#9c179e"
             ],
             [
              0.4444444444444444,
              "#bd3786"
             ],
             [
              0.5555555555555556,
              "#d8576b"
             ],
             [
              0.6666666666666666,
              "#ed7953"
             ],
             [
              0.7777777777777778,
              "#fb9f3a"
             ],
             [
              0.8888888888888888,
              "#fdca26"
             ],
             [
              1,
              "#f0f921"
             ]
            ],
            "type": "histogram2d"
           }
          ],
          "histogram2dcontour": [
           {
            "colorbar": {
             "outlinewidth": 0,
             "ticks": ""
            },
            "colorscale": [
             [
              0,
              "#0d0887"
             ],
             [
              0.1111111111111111,
              "#46039f"
             ],
             [
              0.2222222222222222,
              "#7201a8"
             ],
             [
              0.3333333333333333,
              "#9c179e"
             ],
             [
              0.4444444444444444,
              "#bd3786"
             ],
             [
              0.5555555555555556,
              "#d8576b"
             ],
             [
              0.6666666666666666,
              "#ed7953"
             ],
             [
              0.7777777777777778,
              "#fb9f3a"
             ],
             [
              0.8888888888888888,
              "#fdca26"
             ],
             [
              1,
              "#f0f921"
             ]
            ],
            "type": "histogram2dcontour"
           }
          ],
          "mesh3d": [
           {
            "colorbar": {
             "outlinewidth": 0,
             "ticks": ""
            },
            "type": "mesh3d"
           }
          ],
          "parcoords": [
           {
            "line": {
             "colorbar": {
              "outlinewidth": 0,
              "ticks": ""
             }
            },
            "type": "parcoords"
           }
          ],
          "pie": [
           {
            "automargin": true,
            "type": "pie"
           }
          ],
          "scatter": [
           {
            "fillpattern": {
             "fillmode": "overlay",
             "size": 10,
             "solidity": 0.2
            },
            "type": "scatter"
           }
          ],
          "scatter3d": [
           {
            "line": {
             "colorbar": {
              "outlinewidth": 0,
              "ticks": ""
             }
            },
            "marker": {
             "colorbar": {
              "outlinewidth": 0,
              "ticks": ""
             }
            },
            "type": "scatter3d"
           }
          ],
          "scattercarpet": [
           {
            "marker": {
             "colorbar": {
              "outlinewidth": 0,
              "ticks": ""
             }
            },
            "type": "scattercarpet"
           }
          ],
          "scattergeo": [
           {
            "marker": {
             "colorbar": {
              "outlinewidth": 0,
              "ticks": ""
             }
            },
            "type": "scattergeo"
           }
          ],
          "scattergl": [
           {
            "marker": {
             "colorbar": {
              "outlinewidth": 0,
              "ticks": ""
             }
            },
            "type": "scattergl"
           }
          ],
          "scattermapbox": [
           {
            "marker": {
             "colorbar": {
              "outlinewidth": 0,
              "ticks": ""
             }
            },
            "type": "scattermapbox"
           }
          ],
          "scatterpolar": [
           {
            "marker": {
             "colorbar": {
              "outlinewidth": 0,
              "ticks": ""
             }
            },
            "type": "scatterpolar"
           }
          ],
          "scatterpolargl": [
           {
            "marker": {
             "colorbar": {
              "outlinewidth": 0,
              "ticks": ""
             }
            },
            "type": "scatterpolargl"
           }
          ],
          "scatterternary": [
           {
            "marker": {
             "colorbar": {
              "outlinewidth": 0,
              "ticks": ""
             }
            },
            "type": "scatterternary"
           }
          ],
          "surface": [
           {
            "colorbar": {
             "outlinewidth": 0,
             "ticks": ""
            },
            "colorscale": [
             [
              0,
              "#0d0887"
             ],
             [
              0.1111111111111111,
              "#46039f"
             ],
             [
              0.2222222222222222,
              "#7201a8"
             ],
             [
              0.3333333333333333,
              "#9c179e"
             ],
             [
              0.4444444444444444,
              "#bd3786"
             ],
             [
              0.5555555555555556,
              "#d8576b"
             ],
             [
              0.6666666666666666,
              "#ed7953"
             ],
             [
              0.7777777777777778,
              "#fb9f3a"
             ],
             [
              0.8888888888888888,
              "#fdca26"
             ],
             [
              1,
              "#f0f921"
             ]
            ],
            "type": "surface"
           }
          ],
          "table": [
           {
            "cells": {
             "fill": {
              "color": "#EBF0F8"
             },
             "line": {
              "color": "white"
             }
            },
            "header": {
             "fill": {
              "color": "#C8D4E3"
             },
             "line": {
              "color": "white"
             }
            },
            "type": "table"
           }
          ]
         },
         "layout": {
          "annotationdefaults": {
           "arrowcolor": "#2a3f5f",
           "arrowhead": 0,
           "arrowwidth": 1
          },
          "autotypenumbers": "strict",
          "coloraxis": {
           "colorbar": {
            "outlinewidth": 0,
            "ticks": ""
           }
          },
          "colorscale": {
           "diverging": [
            [
             0,
             "#8e0152"
            ],
            [
             0.1,
             "#c51b7d"
            ],
            [
             0.2,
             "#de77ae"
            ],
            [
             0.3,
             "#f1b6da"
            ],
            [
             0.4,
             "#fde0ef"
            ],
            [
             0.5,
             "#f7f7f7"
            ],
            [
             0.6,
             "#e6f5d0"
            ],
            [
             0.7,
             "#b8e186"
            ],
            [
             0.8,
             "#7fbc41"
            ],
            [
             0.9,
             "#4d9221"
            ],
            [
             1,
             "#276419"
            ]
           ],
           "sequential": [
            [
             0,
             "#0d0887"
            ],
            [
             0.1111111111111111,
             "#46039f"
            ],
            [
             0.2222222222222222,
             "#7201a8"
            ],
            [
             0.3333333333333333,
             "#9c179e"
            ],
            [
             0.4444444444444444,
             "#bd3786"
            ],
            [
             0.5555555555555556,
             "#d8576b"
            ],
            [
             0.6666666666666666,
             "#ed7953"
            ],
            [
             0.7777777777777778,
             "#fb9f3a"
            ],
            [
             0.8888888888888888,
             "#fdca26"
            ],
            [
             1,
             "#f0f921"
            ]
           ],
           "sequentialminus": [
            [
             0,
             "#0d0887"
            ],
            [
             0.1111111111111111,
             "#46039f"
            ],
            [
             0.2222222222222222,
             "#7201a8"
            ],
            [
             0.3333333333333333,
             "#9c179e"
            ],
            [
             0.4444444444444444,
             "#bd3786"
            ],
            [
             0.5555555555555556,
             "#d8576b"
            ],
            [
             0.6666666666666666,
             "#ed7953"
            ],
            [
             0.7777777777777778,
             "#fb9f3a"
            ],
            [
             0.8888888888888888,
             "#fdca26"
            ],
            [
             1,
             "#f0f921"
            ]
           ]
          },
          "colorway": [
           "#636efa",
           "#EF553B",
           "#00cc96",
           "#ab63fa",
           "#FFA15A",
           "#19d3f3",
           "#FF6692",
           "#B6E880",
           "#FF97FF",
           "#FECB52"
          ],
          "font": {
           "color": "#2a3f5f"
          },
          "geo": {
           "bgcolor": "white",
           "lakecolor": "white",
           "landcolor": "#E5ECF6",
           "showlakes": true,
           "showland": true,
           "subunitcolor": "white"
          },
          "hoverlabel": {
           "align": "left"
          },
          "hovermode": "closest",
          "mapbox": {
           "style": "light"
          },
          "paper_bgcolor": "white",
          "plot_bgcolor": "#E5ECF6",
          "polar": {
           "angularaxis": {
            "gridcolor": "white",
            "linecolor": "white",
            "ticks": ""
           },
           "bgcolor": "#E5ECF6",
           "radialaxis": {
            "gridcolor": "white",
            "linecolor": "white",
            "ticks": ""
           }
          },
          "scene": {
           "xaxis": {
            "backgroundcolor": "#E5ECF6",
            "gridcolor": "white",
            "gridwidth": 2,
            "linecolor": "white",
            "showbackground": true,
            "ticks": "",
            "zerolinecolor": "white"
           },
           "yaxis": {
            "backgroundcolor": "#E5ECF6",
            "gridcolor": "white",
            "gridwidth": 2,
            "linecolor": "white",
            "showbackground": true,
            "ticks": "",
            "zerolinecolor": "white"
           },
           "zaxis": {
            "backgroundcolor": "#E5ECF6",
            "gridcolor": "white",
            "gridwidth": 2,
            "linecolor": "white",
            "showbackground": true,
            "ticks": "",
            "zerolinecolor": "white"
           }
          },
          "shapedefaults": {
           "line": {
            "color": "#2a3f5f"
           }
          },
          "ternary": {
           "aaxis": {
            "gridcolor": "white",
            "linecolor": "white",
            "ticks": ""
           },
           "baxis": {
            "gridcolor": "white",
            "linecolor": "white",
            "ticks": ""
           },
           "bgcolor": "#E5ECF6",
           "caxis": {
            "gridcolor": "white",
            "linecolor": "white",
            "ticks": ""
           }
          },
          "title": {
           "x": 0.05
          },
          "xaxis": {
           "automargin": true,
           "gridcolor": "white",
           "linecolor": "white",
           "ticks": "",
           "title": {
            "standoff": 15
           },
           "zerolinecolor": "white",
           "zerolinewidth": 2
          },
          "yaxis": {
           "automargin": true,
           "gridcolor": "white",
           "linecolor": "white",
           "ticks": "",
           "title": {
            "standoff": 15
           },
           "zerolinecolor": "white",
           "zerolinewidth": 2
          }
         }
        },
        "title": {
         "text": "Residuals vs. Predictions"
        },
        "xaxis": {
         "anchor": "y",
         "domain": [
          0,
          1
         ],
         "title": {
          "text": "prediction_label"
         }
        },
        "yaxis": {
         "anchor": "x",
         "domain": [
          0,
          1
         ],
         "title": {
          "text": "standardized_residuals"
         }
        }
       }
      },
      "text/html": [
       "<div>                            <div id=\"16a230cd-8ae9-4c68-97a0-43bd7ed87cd1\" class=\"plotly-graph-div\" style=\"height:525px; width:100%;\"></div>            <script type=\"text/javascript\">                require([\"plotly\"], function(Plotly) {                    window.PLOTLYENV=window.PLOTLYENV || {};                                    if (document.getElementById(\"16a230cd-8ae9-4c68-97a0-43bd7ed87cd1\")) {                    Plotly.newPlot(                        \"16a230cd-8ae9-4c68-97a0-43bd7ed87cd1\",                        [{\"hovertemplate\":\"prediction_label=%{x}\\u003cbr\\u003estandardized_residuals=%{y}\\u003cbr\\u003elength=%{marker.color}\\u003cextra\\u003e\\u003c\\u002fextra\\u003e\",\"legendgroup\":\"\",\"marker\":{\"color\":[10.9,15.2,18.4,32.16,2.0,31.3,8.366,4.4,33.5,10.7,17.0,6.305,8.95,12.8,26.53,13.0,29.7,24.58,19.87,19.628,3.3,15.94,16.6,2.9,30.32,19.0,12.5,31.4,53.75,2.3,18.0,8.53,29.6,9.0,28.2,25.7,4.2,7.594,24.98,28.5,4.19,24.8,4.447,3.3,3.8,1.6,2.3,40.85,26.3,27.0,9.7,1.5,30.0,33.1,4.3,3.0,3.2,6.6,25.36,6.5,15.4,21.0,4.2,26.7,66.3,35.2,25.487,33.7,13.828,59.1316,28.5,12.6,24.86,1.5,27.0,41.1,12.7,22.8,4.0,15.5,6.5,30.4,13.8,17.5,51.2,27.4,27.49,22.6,3.4,32.3,18.5,44.5,45.2,5.2,34.3,11.3,14.0,0.9,2.7,7.83,3.4,7.5,28.737,38.2,32.6,22.1,15.8,14.5,4.924,26.5,24.3,10.9,15.77,23.3,31.27,20.3,48.0,3.5,1.8,3.6,8.777,2.5,4.4,9.15,22.032,17.3,13.0,4.1,17.3,1.8,18.6,3.9,21.2,14.4,3.3,7.6,15.15,17.6,6.3,10.6,35.4,30.523,29.2,13.0,69.6,55.91,23.8,27.615,6.3,6.4,17.7,9.7,12.3],\"coloraxis\":\"coloraxis\",\"symbol\":\"circle\"},\"mode\":\"markers\",\"name\":\"\",\"orientation\":\"v\",\"showlegend\":false,\"x\":[2482.2830619851647,676.6590762651746,2875.62157796489,7388.191081478686,171.20393611151448,6015.905058725337,1979.8741327477676,792.7002029344275,7018.001880013335,2028.3479499258067,2853.4256194126706,1175.4621444715053,2065.5264444368977,2514.367235917442,6096.061341346256,1777.680275181996,5200.160311920525,5390.231244962277,3269.2239719739205,2883.045672049242,878.0823793757291,2617.6308900204303,3827.3346397808227,700.5326938027852,4497.431076919598,4621.785794159872,2833.842569478166,6249.355140865052,6575.606697532389,394.76053349607633,3783.286190978206,2059.0657472790886,3592.456336520528,445.19341896513436,3591.557919963636,4756.547567218728,1259.63620965284,1497.44530293582,5033.4700447392715,4063.496632012134,800.8266785965299,4878.815738993745,1206.005974067906,640.3527219336985,581.7343128001517,403.8518513271085,230.93785487866887,4727.133691387877,5239.506680858225,4123.73976408086,1734.0926190959135,406.4617395659054,2937.147807883118,4977.762368403965,984.2640975464672,729.2844225315079,612.4712222781559,529.6190442228699,5157.891228822714,1116.1876820912864,4096.513169856095,4130.109054034413,458.3884109781797,4332.188771502049,5508.517268110251,6266.66267195388,4735.160796029647,5075.590377240866,3245.441846585387,8225.311173120004,3300.1968564263498,508.0758668716307,4772.229942085345,335.1372092400104,6559.918489890212,8080.041705695493,2206.9142333347086,2851.5994560018294,891.3924149678916,3466.6999640313206,1155.9696154675917,4119.2780843216315,1150.4456794333178,1001.9028521501931,5051.826809094985,3936.7386646811683,3613.4996287091535,3995.6082745332874,582.8897020782424,4746.447002246328,1871.9740795071232,8121.26859364456,5165.424775506104,804.8699390289312,6543.022487160274,1862.087586936944,1506.0835948690806,117.11687950893491,912.0220179828044,1821.769329785138,762.6010185194134,1320.1042750533047,4982.733554160343,5412.035957789047,4760.94273679638,5322.078200315827,2646.132976796051,2460.514404812042,1033.8314999332886,3782.420935586888,6134.28040109483,2438.451423316484,2728.4460264774402,4560.776430121206,4831.237128382562,4192.7491018395085,9407.88658883917,664.9404845450789,402.3848364241312,1096.213204361878,2349.647985331764,479.30626009987,976.6851882542585,1094.8046973180349,4838.85554786599,3942.64078079325,1803.9236968987036,855.5148044528878,2441.015934363943,633.4760371881277,3778.8627855899967,826.9656578744535,5247.724785682591,1647.0906439737853,715.2032772261257,1554.6057241736344,3368.115991814009,3464.497649052262,1729.4684590426607,1126.2962765072896,3443.4004123294235,5246.711508076494,5288.02999221273,2253.7202673768816,7656.605519056892,9928.47262034947,3483.034575782369,4843.502588466406,503.8906630204192,566.4610231941356,846.1677060307894,634.6742707984018,532.1473843670333],\"xaxis\":\"x\",\"y\":[0.014028087298280766,-0.07611109239204475,-0.8588029401170943,-1.9950746900231588,0.2100506872764481,-0.05067649923082095,-0.5580479893627763,0.5062924732987178,0.2620562952540037,-0.6822342076502275,0.6253090408592545,-0.4434000396230318,0.026390211614531558,-0.6195810231294583,0.7850884529625389,-0.33447927336436195,-3.624475875497612,0.04622291072391367,-1.1213501486932056,0.10666344217149838,-0.3558899918390542,-1.469772037018853,0.39986703833253023,0.42626849004393585,-0.5111586185456134,-0.22318733272767227,0.6335687979602838,1.860757586277299,-0.24763008718674223,-0.3212738569186042,0.16825323274891632,-1.4339249025539826,2.821048060256218,-0.22888147193424005,-0.49446767701343464,-0.08883789107793623,0.16960528365615987,0.8735577682483987,-0.8819174238887308,0.34806249794258975,-0.4170763395137472,1.030357001996143,0.3309321671722339,-0.0021914792895672323,0.9053497589900966,0.20450543722886894,-0.16038107269227414,-1.0429488982103725,0.6352850948414683,-0.36189120722514095,-0.8002356004307543,-0.16452984164931203,0.956055327821501,-0.11932583774958516,0.5169902242780707,0.43616273245342163,1.5918457599386329,-0.21797901393509553,-1.1373830132538019,0.037509932738721,-0.4639222570610397,0.0900372882466522,-0.04028798772121911,1.2616215643968538,2.223551244927288,-0.32351277799688494,0.5128626598014283,-0.45516734807517173,0.5791059397330451,2.525936893741019,-1.8707439139395778,-0.06616183484346809,-0.7779516181784696,0.07023878970404392,1.2911709621157927,1.2141309998405798,-0.12835878582128354,-1.072204041376626,0.8430986240673864,-1.622592922556234,0.12915529113968346,-0.8828793792790322,0.12470082008681709,-0.10029190154325678,2.6441079681676043,-0.6311333759680077,-1.7153408634061753,0.3183323351502226,-0.086283732286841,0.3123957965374435,0.3484255128647243,2.6682013369031785,-2.1761483133405273,-0.2973926541433428,0.7792757560369203,-0.5121593960522319,2.2544184530437175,-0.13006727034178475,0.34654680856831116,0.020635445449354983,-0.08597600135012319,-0.4392574048988114,0.42082593826674836,-0.0845126137927295,-0.22797645408008585,-1.5133569933034403,-0.4677685203660196,-0.3098079460148733,-0.4131923609065068,-0.3821005987967942,-0.9589569442257169,-1.2447456917901651,0.025783390861831512,-1.2515903264722923,-0.4673730813530482,-3.588780778256201,0.21616317670750504,0.42896359947524604,0.07995883746690838,-0.5078756412774245,1.0123208814081543,0.0794395024917813,-0.3597341167338534,0.3874767732676011,1.5813853182927673,0.28180402459454507,0.14971062678807173,-0.17668991529924005,-0.2291074298422446,-0.4244788112013045,-0.6304545172337244,-0.4469979629643646,0.8535429803280707,-0.7998456559817766,0.6096543264361073,0.4193823108400307,-0.6942662361459122,-0.5463954691743691,1.5443187060379011,0.47558294557158204,-1.565511606950026,1.1314434430869147,-0.28951598575047827,0.957078360001268,3.167050663279737,0.8415233393727912,-0.1496556369741054,1.0741210025863626,-0.04565688603403787,-0.27510067416460504,0.0786827858140454,-0.28603193269471067,-0.1120540658882922],\"yaxis\":\"y\",\"type\":\"scatter\"}],                        {\"template\":{\"data\":{\"histogram2dcontour\":[{\"type\":\"histogram2dcontour\",\"colorbar\":{\"outlinewidth\":0,\"ticks\":\"\"},\"colorscale\":[[0.0,\"#0d0887\"],[0.1111111111111111,\"#46039f\"],[0.2222222222222222,\"#7201a8\"],[0.3333333333333333,\"#9c179e\"],[0.4444444444444444,\"#bd3786\"],[0.5555555555555556,\"#d8576b\"],[0.6666666666666666,\"#ed7953\"],[0.7777777777777778,\"#fb9f3a\"],[0.8888888888888888,\"#fdca26\"],[1.0,\"#f0f921\"]]}],\"choropleth\":[{\"type\":\"choropleth\",\"colorbar\":{\"outlinewidth\":0,\"ticks\":\"\"}}],\"histogram2d\":[{\"type\":\"histogram2d\",\"colorbar\":{\"outlinewidth\":0,\"ticks\":\"\"},\"colorscale\":[[0.0,\"#0d0887\"],[0.1111111111111111,\"#46039f\"],[0.2222222222222222,\"#7201a8\"],[0.3333333333333333,\"#9c179e\"],[0.4444444444444444,\"#bd3786\"],[0.5555555555555556,\"#d8576b\"],[0.6666666666666666,\"#ed7953\"],[0.7777777777777778,\"#fb9f3a\"],[0.8888888888888888,\"#fdca26\"],[1.0,\"#f0f921\"]]}],\"heatmap\":[{\"type\":\"heatmap\",\"colorbar\":{\"outlinewidth\":0,\"ticks\":\"\"},\"colorscale\":[[0.0,\"#0d0887\"],[0.1111111111111111,\"#46039f\"],[0.2222222222222222,\"#7201a8\"],[0.3333333333333333,\"#9c179e\"],[0.4444444444444444,\"#bd3786\"],[0.5555555555555556,\"#d8576b\"],[0.6666666666666666,\"#ed7953\"],[0.7777777777777778,\"#fb9f3a\"],[0.8888888888888888,\"#fdca26\"],[1.0,\"#f0f921\"]]}],\"heatmapgl\":[{\"type\":\"heatmapgl\",\"colorbar\":{\"outlinewidth\":0,\"ticks\":\"\"},\"colorscale\":[[0.0,\"#0d0887\"],[0.1111111111111111,\"#46039f\"],[0.2222222222222222,\"#7201a8\"],[0.3333333333333333,\"#9c179e\"],[0.4444444444444444,\"#bd3786\"],[0.5555555555555556,\"#d8576b\"],[0.6666666666666666,\"#ed7953\"],[0.7777777777777778,\"#fb9f3a\"],[0.8888888888888888,\"#fdca26\"],[1.0,\"#f0f921\"]]}],\"contourcarpet\":[{\"type\":\"contourcarpet\",\"colorbar\":{\"outlinewidth\":0,\"ticks\":\"\"}}],\"contour\":[{\"type\":\"contour\",\"colorbar\":{\"outlinewidth\":0,\"ticks\":\"\"},\"colorscale\":[[0.0,\"#0d0887\"],[0.1111111111111111,\"#46039f\"],[0.2222222222222222,\"#7201a8\"],[0.3333333333333333,\"#9c179e\"],[0.4444444444444444,\"#bd3786\"],[0.5555555555555556,\"#d8576b\"],[0.6666666666666666,\"#ed7953\"],[0.7777777777777778,\"#fb9f3a\"],[0.8888888888888888,\"#fdca26\"],[1.0,\"#f0f921\"]]}],\"surface\":[{\"type\":\"surface\",\"colorbar\":{\"outlinewidth\":0,\"ticks\":\"\"},\"colorscale\":[[0.0,\"#0d0887\"],[0.1111111111111111,\"#46039f\"],[0.2222222222222222,\"#7201a8\"],[0.3333333333333333,\"#9c179e\"],[0.4444444444444444,\"#bd3786\"],[0.5555555555555556,\"#d8576b\"],[0.6666666666666666,\"#ed7953\"],[0.7777777777777778,\"#fb9f3a\"],[0.8888888888888888,\"#fdca26\"],[1.0,\"#f0f921\"]]}],\"mesh3d\":[{\"type\":\"mesh3d\",\"colorbar\":{\"outlinewidth\":0,\"ticks\":\"\"}}],\"scatter\":[{\"fillpattern\":{\"fillmode\":\"overlay\",\"size\":10,\"solidity\":0.2},\"type\":\"scatter\"}],\"parcoords\":[{\"type\":\"parcoords\",\"line\":{\"colorbar\":{\"outlinewidth\":0,\"ticks\":\"\"}}}],\"scatterpolargl\":[{\"type\":\"scatterpolargl\",\"marker\":{\"colorbar\":{\"outlinewidth\":0,\"ticks\":\"\"}}}],\"bar\":[{\"error_x\":{\"color\":\"#2a3f5f\"},\"error_y\":{\"color\":\"#2a3f5f\"},\"marker\":{\"line\":{\"color\":\"#E5ECF6\",\"width\":0.5},\"pattern\":{\"fillmode\":\"overlay\",\"size\":10,\"solidity\":0.2}},\"type\":\"bar\"}],\"scattergeo\":[{\"type\":\"scattergeo\",\"marker\":{\"colorbar\":{\"outlinewidth\":0,\"ticks\":\"\"}}}],\"scatterpolar\":[{\"type\":\"scatterpolar\",\"marker\":{\"colorbar\":{\"outlinewidth\":0,\"ticks\":\"\"}}}],\"histogram\":[{\"marker\":{\"pattern\":{\"fillmode\":\"overlay\",\"size\":10,\"solidity\":0.2}},\"type\":\"histogram\"}],\"scattergl\":[{\"type\":\"scattergl\",\"marker\":{\"colorbar\":{\"outlinewidth\":0,\"ticks\":\"\"}}}],\"scatter3d\":[{\"type\":\"scatter3d\",\"line\":{\"colorbar\":{\"outlinewidth\":0,\"ticks\":\"\"}},\"marker\":{\"colorbar\":{\"outlinewidth\":0,\"ticks\":\"\"}}}],\"scattermapbox\":[{\"type\":\"scattermapbox\",\"marker\":{\"colorbar\":{\"outlinewidth\":0,\"ticks\":\"\"}}}],\"scatterternary\":[{\"type\":\"scatterternary\",\"marker\":{\"colorbar\":{\"outlinewidth\":0,\"ticks\":\"\"}}}],\"scattercarpet\":[{\"type\":\"scattercarpet\",\"marker\":{\"colorbar\":{\"outlinewidth\":0,\"ticks\":\"\"}}}],\"carpet\":[{\"aaxis\":{\"endlinecolor\":\"#2a3f5f\",\"gridcolor\":\"white\",\"linecolor\":\"white\",\"minorgridcolor\":\"white\",\"startlinecolor\":\"#2a3f5f\"},\"baxis\":{\"endlinecolor\":\"#2a3f5f\",\"gridcolor\":\"white\",\"linecolor\":\"white\",\"minorgridcolor\":\"white\",\"startlinecolor\":\"#2a3f5f\"},\"type\":\"carpet\"}],\"table\":[{\"cells\":{\"fill\":{\"color\":\"#EBF0F8\"},\"line\":{\"color\":\"white\"}},\"header\":{\"fill\":{\"color\":\"#C8D4E3\"},\"line\":{\"color\":\"white\"}},\"type\":\"table\"}],\"barpolar\":[{\"marker\":{\"line\":{\"color\":\"#E5ECF6\",\"width\":0.5},\"pattern\":{\"fillmode\":\"overlay\",\"size\":10,\"solidity\":0.2}},\"type\":\"barpolar\"}],\"pie\":[{\"automargin\":true,\"type\":\"pie\"}]},\"layout\":{\"autotypenumbers\":\"strict\",\"colorway\":[\"#636efa\",\"#EF553B\",\"#00cc96\",\"#ab63fa\",\"#FFA15A\",\"#19d3f3\",\"#FF6692\",\"#B6E880\",\"#FF97FF\",\"#FECB52\"],\"font\":{\"color\":\"#2a3f5f\"},\"hovermode\":\"closest\",\"hoverlabel\":{\"align\":\"left\"},\"paper_bgcolor\":\"white\",\"plot_bgcolor\":\"#E5ECF6\",\"polar\":{\"bgcolor\":\"#E5ECF6\",\"angularaxis\":{\"gridcolor\":\"white\",\"linecolor\":\"white\",\"ticks\":\"\"},\"radialaxis\":{\"gridcolor\":\"white\",\"linecolor\":\"white\",\"ticks\":\"\"}},\"ternary\":{\"bgcolor\":\"#E5ECF6\",\"aaxis\":{\"gridcolor\":\"white\",\"linecolor\":\"white\",\"ticks\":\"\"},\"baxis\":{\"gridcolor\":\"white\",\"linecolor\":\"white\",\"ticks\":\"\"},\"caxis\":{\"gridcolor\":\"white\",\"linecolor\":\"white\",\"ticks\":\"\"}},\"coloraxis\":{\"colorbar\":{\"outlinewidth\":0,\"ticks\":\"\"}},\"colorscale\":{\"sequential\":[[0.0,\"#0d0887\"],[0.1111111111111111,\"#46039f\"],[0.2222222222222222,\"#7201a8\"],[0.3333333333333333,\"#9c179e\"],[0.4444444444444444,\"#bd3786\"],[0.5555555555555556,\"#d8576b\"],[0.6666666666666666,\"#ed7953\"],[0.7777777777777778,\"#fb9f3a\"],[0.8888888888888888,\"#fdca26\"],[1.0,\"#f0f921\"]],\"sequentialminus\":[[0.0,\"#0d0887\"],[0.1111111111111111,\"#46039f\"],[0.2222222222222222,\"#7201a8\"],[0.3333333333333333,\"#9c179e\"],[0.4444444444444444,\"#bd3786\"],[0.5555555555555556,\"#d8576b\"],[0.6666666666666666,\"#ed7953\"],[0.7777777777777778,\"#fb9f3a\"],[0.8888888888888888,\"#fdca26\"],[1.0,\"#f0f921\"]],\"diverging\":[[0,\"#8e0152\"],[0.1,\"#c51b7d\"],[0.2,\"#de77ae\"],[0.3,\"#f1b6da\"],[0.4,\"#fde0ef\"],[0.5,\"#f7f7f7\"],[0.6,\"#e6f5d0\"],[0.7,\"#b8e186\"],[0.8,\"#7fbc41\"],[0.9,\"#4d9221\"],[1,\"#276419\"]]},\"xaxis\":{\"gridcolor\":\"white\",\"linecolor\":\"white\",\"ticks\":\"\",\"title\":{\"standoff\":15},\"zerolinecolor\":\"white\",\"automargin\":true,\"zerolinewidth\":2},\"yaxis\":{\"gridcolor\":\"white\",\"linecolor\":\"white\",\"ticks\":\"\",\"title\":{\"standoff\":15},\"zerolinecolor\":\"white\",\"automargin\":true,\"zerolinewidth\":2},\"scene\":{\"xaxis\":{\"backgroundcolor\":\"#E5ECF6\",\"gridcolor\":\"white\",\"linecolor\":\"white\",\"showbackground\":true,\"ticks\":\"\",\"zerolinecolor\":\"white\",\"gridwidth\":2},\"yaxis\":{\"backgroundcolor\":\"#E5ECF6\",\"gridcolor\":\"white\",\"linecolor\":\"white\",\"showbackground\":true,\"ticks\":\"\",\"zerolinecolor\":\"white\",\"gridwidth\":2},\"zaxis\":{\"backgroundcolor\":\"#E5ECF6\",\"gridcolor\":\"white\",\"linecolor\":\"white\",\"showbackground\":true,\"ticks\":\"\",\"zerolinecolor\":\"white\",\"gridwidth\":2}},\"shapedefaults\":{\"line\":{\"color\":\"#2a3f5f\"}},\"annotationdefaults\":{\"arrowcolor\":\"#2a3f5f\",\"arrowhead\":0,\"arrowwidth\":1},\"geo\":{\"bgcolor\":\"white\",\"landcolor\":\"#E5ECF6\",\"subunitcolor\":\"white\",\"showland\":true,\"showlakes\":true,\"lakecolor\":\"white\"},\"title\":{\"x\":0.05},\"mapbox\":{\"style\":\"light\"}}},\"xaxis\":{\"anchor\":\"y\",\"domain\":[0.0,1.0],\"title\":{\"text\":\"prediction_label\"}},\"yaxis\":{\"anchor\":\"x\",\"domain\":[0.0,1.0],\"title\":{\"text\":\"standardized_residuals\"}},\"coloraxis\":{\"colorbar\":{\"title\":{\"text\":\"length\"}},\"colorscale\":[[0.0,\"#0d0887\"],[0.1111111111111111,\"#46039f\"],[0.2222222222222222,\"#7201a8\"],[0.3333333333333333,\"#9c179e\"],[0.4444444444444444,\"#bd3786\"],[0.5555555555555556,\"#d8576b\"],[0.6666666666666666,\"#ed7953\"],[0.7777777777777778,\"#fb9f3a\"],[0.8888888888888888,\"#fdca26\"],[1.0,\"#f0f921\"]]},\"legend\":{\"tracegroupgap\":0},\"title\":{\"text\":\"Residuals vs. Predictions\"}},                        {\"responsive\": true}                    ).then(function(){\n",
       "                            \n",
       "var gd = document.getElementById('16a230cd-8ae9-4c68-97a0-43bd7ed87cd1');\n",
       "var x = new MutationObserver(function (mutations, observer) {{\n",
       "        var display = window.getComputedStyle(gd).display;\n",
       "        if (!display || display === 'none') {{\n",
       "            console.log([gd, 'removed!']);\n",
       "            Plotly.purge(gd);\n",
       "            observer.disconnect();\n",
       "        }}\n",
       "}});\n",
       "\n",
       "// Listen for the removal of the full notebook cells\n",
       "var notebookContainer = gd.closest('#notebook-container');\n",
       "if (notebookContainer) {{\n",
       "    x.observe(notebookContainer, {childList: true});\n",
       "}}\n",
       "\n",
       "// Listen for the clearing of the current output cell\n",
       "var outputEl = gd.closest('.output');\n",
       "if (outputEl) {{\n",
       "    x.observe(outputEl, {childList: true});\n",
       "}}\n",
       "\n",
       "                        })                };                });            </script>        </div>"
      ]
     },
     "metadata": {},
     "output_type": "display_data"
    }
   ],
   "source": [
    "fig = px.scatter(predictions,color = 'length', x='prediction_label', y='standardized_residuals', \n",
    "                title=\"Residuals vs. Predictions\")\n",
    "fig.show()"
   ]
  },
  {
   "cell_type": "markdown",
   "id": "cf2227d7",
   "metadata": {},
   "source": [
    "Importantly, the residuals are randomly scattered around 0, which tells me that the model's predictions are generally accurate (with a resdiual of 0 being a perfect prediction). This also tells us that the model is likely unbaised and any error is largely random."
   ]
  },
  {
   "cell_type": "markdown",
   "id": "758555d0",
   "metadata": {},
   "source": [
    "### Feature Specific Residuals Analysis\n",
    "\n",
    "Similar to above, let's look at individual features to observe how the residuals vary from feature to feature. It's important that the distributions of the residuals continue to be distributed around zero for each individual feature. If the residuals distribution for a specific feature, especially if it's an important feature for the model, shows a trend, it may indicate that there's some error within the model that needs to be addressed."
   ]
  },
  {
   "cell_type": "markdown",
   "id": "c1aebca4",
   "metadata": {},
   "source": [
    "##### Length"
   ]
  },
  {
   "cell_type": "code",
   "execution_count": 18,
   "id": "abc67bc8",
   "metadata": {},
   "outputs": [
    {
     "data": {
      "text/html": [
       "\n",
       "        <iframe\n",
       "            width=\"100%\"\n",
       "            height=\"650\"\n",
       "            src=\"http://127.0.0.1:8050/\"\n",
       "            frameborder=\"0\"\n",
       "            allowfullscreen\n",
       "            \n",
       "        ></iframe>\n",
       "        "
      ],
      "text/plain": [
       "<IPython.lib.display.IFrame at 0x2b674fc10>"
      ]
     },
     "metadata": {},
     "output_type": "display_data"
    }
   ],
   "source": [
    "app = dash.Dash(__name__)\n",
    "\n",
    "app.layout = html.Div([\n",
    "    dcc.Graph(id='scatter-plot'),\n",
    "    dcc.RangeSlider(\n",
    "        id='length-slider',\n",
    "        min=predictions['length'].min(),\n",
    "        max=predictions['length'].max(),\n",
    "        value=[predictions['length'].min(), predictions['length'].max()],\n",
    "        marks={\n",
    "            str(predictions['length'].min()): str(predictions['length'].min()),\n",
    "            str(predictions['length'].max()): str(predictions['length'].max())\n",
    "        }\n",
    "    )\n",
    "])\n",
    "\n",
    "@app.callback(\n",
    "    Output('scatter-plot', 'figure'),\n",
    "    [Input('length-slider', 'value')]\n",
    ")\n",
    "def update_figure(selected_range):\n",
    "    filtered_df = predictions[(predictions['length'] >= selected_range[0]) & (predictions['length'] <= selected_range[1])]\n",
    "    fig = px.scatter(filtered_df, x='prediction_label', y='Residuals',color='length', title=\"Residuals Vs. Length\")\n",
    "    return fig\n",
    "\n",
    "if __name__ == '__main__':\n",
    "    app.run_server(debug=True)"
   ]
  },
  {
   "cell_type": "markdown",
   "id": "49c0b088",
   "metadata": {},
   "source": [
    "In the above plot we can once again see that the residuals are scattered around zero. Additionally, by adjusting the slider at the bottom of the plot, I'm able to look at how the distribution changes for a specific range of 'length' values."
   ]
  },
  {
   "cell_type": "markdown",
   "id": "f6057ee4",
   "metadata": {},
   "source": [
    "##### Sub-Region"
   ]
  },
  {
   "cell_type": "code",
   "execution_count": 19,
   "id": "f952723f",
   "metadata": {},
   "outputs": [
    {
     "data": {
      "application/vnd.plotly.v1+json": {
       "config": {
        "plotlyServerURL": "https://plot.ly"
       },
       "data": [
        {
         "alignmentgroup": "True",
         "hovertemplate": "sub_region=%{x}<br>Residuals=%{y}<extra></extra>",
         "legendgroup": "",
         "marker": {
          "color": "#636efa"
         },
         "name": "",
         "notched": false,
         "offsetgroup": "",
         "orientation": "v",
         "showlegend": false,
         "type": "box",
         "x": [
          "Eastern Asia",
          "Western Europe",
          "Northern America",
          "Eastern Asia",
          "Southern Europe",
          "Eastern Asia",
          "Eastern Asia",
          "Western Europe",
          "Eastern Asia",
          "Northern America",
          "Eastern Europe",
          "Eastern Asia",
          "Eastern Asia",
          "Western Europe",
          "Eastern Asia",
          "Eastern Asia",
          "Southern Asia",
          "Eastern Asia",
          "Eastern Asia",
          "Eastern Asia",
          "Southern Europe",
          "Eastern Asia",
          "Eastern Asia",
          "Northern America",
          "Eastern Asia",
          "Eastern Asia",
          "Eastern Asia",
          "Eastern Asia",
          "Eastern Asia",
          "Southern Europe",
          "Eastern Asia",
          "Eastern Asia",
          "Western Asia",
          "Western Europe",
          "Eastern Asia",
          "Eastern Asia",
          "Eastern Asia",
          "Eastern Asia",
          "Eastern Asia",
          "Eastern Asia",
          "Eastern Asia",
          "Latin America and the Caribbean",
          "Eastern Asia",
          "Northern Europe",
          "Western Europe",
          "Eastern Asia",
          "Western Europe",
          "Eastern Asia",
          "Eastern Asia",
          "Western Europe",
          "Western Europe",
          "Western Europe",
          "Eastern Asia",
          "Southern Asia",
          "Southern Europe",
          "Eastern Asia",
          "Western Europe",
          "Western Europe",
          "Eastern Asia",
          "Southern Europe",
          "Eastern Asia",
          "Eastern Asia",
          "Western Europe",
          "Latin America and the Caribbean",
          "Eastern Asia",
          "Eastern Asia",
          "Eastern Asia",
          "Eastern Asia",
          "Eastern Asia",
          "Eastern Asia",
          "Northern America",
          "Western Europe",
          "Eastern Asia",
          "Western Europe",
          "Western Europe",
          "Southern Asia",
          "Eastern Asia",
          "Eastern Asia",
          "Eastern Asia",
          "Western Europe",
          "Eastern Asia",
          "Eastern Asia",
          "Eastern Asia",
          "Northern America",
          "Western Europe",
          "Eastern Asia",
          "Northern America",
          "Eastern Asia",
          "Eastern Asia",
          "Southern Europe",
          "Eastern Asia",
          "Eastern Asia",
          "Eastern Asia",
          "Eastern Asia",
          "Northern America",
          "Eastern Asia",
          "Southern Europe",
          "Eastern Asia",
          "Western Europe",
          "Eastern Asia",
          "Eastern Asia",
          "Eastern Europe",
          "Southern Europe",
          "Eastern Asia",
          "Southern Asia",
          "Eastern Asia",
          "South-eastern Asia",
          "South-eastern Asia",
          "Caribbean",
          "Eastern Asia",
          "Eastern Asia",
          "Eastern Asia",
          "Eastern Asia",
          "Eastern Asia",
          "Southern Asia",
          "Eastern Asia",
          "Eastern Asia",
          "Eastern Asia",
          "Southern Europe",
          "Western Europe",
          "Eastern Asia",
          "Eastern Asia",
          "Western Europe",
          "Southern Europe",
          "Eastern Asia",
          "Eastern Asia",
          "Eastern Asia",
          "Western Asia",
          "Eastern Asia",
          "Eastern Asia",
          "Eastern Asia",
          "Southern Asia",
          "Eastern Asia",
          "Eastern Asia",
          "Northern America",
          "Southern Europe",
          "Southern Europe",
          "Eastern Asia",
          "Eastern Asia",
          "Northern America",
          "Northern America",
          "Northern America",
          "Eastern Asia",
          "Eastern Asia",
          "Southern Asia",
          "Eastern Asia",
          "Eastern Asia",
          "Eastern Asia",
          "Eastern Asia",
          "Northern America",
          "Western Europe",
          "Western Europe",
          "Northern America",
          "Southern Europe"
         ],
         "x0": " ",
         "xaxis": "x",
         "y": [
          49.87221145233525,
          -23.442340425330826,
          -660.0434529648901,
          -1584.228190853686,
          209.30686711114177,
          -2.7551563815868576,
          -415.4249139977676,
          450.25463104994753,
          251.6055418616652,
          -516.4315680898692,
          547.0565583217044,
          -322.1761947644741,
          59.92692470372731,
          -465.47270466744203,
          677.0128774037439,
          -233.58567068980847,
          -2909.4989349673997,
          76.05781753772317,
          -873.5857883801705,
          125.21702326325794,
          -251.0000429499479,
          -1156.9741517391803,
          363.6936805316773,
          385.16725736908984,
          -377.2875222320981,
          -143.06655587862224,
          553.7746180218342,
          1551.906577884948,
          -162.94702956363926,
          -222.84506718748258,
          175.31097699054408,
          -1127.8179445447136,
          2332.957237698222,
          -147.6978745315406,
          -363.71197269801087,
          -33.793660968727636,
          176.41066534715992,
          748.9692478454299,
          -678.8435798955215,
          321.5585437691161,
          -300.76585706332673,
          876.5016438187549,
          307.625617728969,
          36.68005394520776,
          774.8272106373483,
          204.79664720804777,
          -91.98318874097356,
          -809.8182617003768,
          555.1705652355249,
          -255.88112150273537,
          -612.4078046427885,
          -95.3575830717648,
          816.0685007106322,
          -58.59098168521541,
          458.95562901603284,
          393.21472297630464,
          1333.1875911984066,
          -138.8303784513855,
          -886.6260921039639,
          68.97113138527607,
          -338.8679061842204,
          111.69416862183698,
          5.6943221761171685,
          1064.6002909979507,
          1846.9841967334987,
          -224.6660899226299,
          455.5984813141031,
          -331.74711552211556,
          509.4773428677381,
          2092.9290612549958,
          -1483.1039609185373,
          -15.35012834624007,
          -594.2831647415951,
          95.59109276194272,
          95.59109276194272,
          1088.6342444847878,
          1025.973919304507,
          -65.93791497533357,
          -833.6128837362044,
          724.1953535867959,
          -1281.2707648125706,
          143.51073121209583,
          -679.6259847122565,
          139.88769459011974,
          -43.1097613298806,
          2189.043308092515,
          -474.8687916342933,
          -1356.7071482404035,
          297.3775653104626,
          -31.716240164179908,
          292.54909150367166,
          321.8538013522518,
          2208.6396094804404,
          -1731.5041212092292,
          -203.42133063049369,
          672.2851300272259,
          -378.10150295256904,
          1872.0899891152944,
          -67.3275080184564,
          320.3257603375081,
          55.2462952148619,
          -31.46594771863215,
          -318.8067897017422,
          380.7405669334066,
          -30.275703882796734,
          -146.9617797651299,
          -1192.4239034408274,
          -341.996258046051,
          -213.5192876245419,
          -297.6068295231323,
          -272.31839652438794,
          -741.5035456260803,
          -973.9493481211716,
          59.43336805380977,
          -979.5164203555814,
          -341.67462838256233,
          -2880.4663869957585,
          214.27845022332986,
          387.3593201424211,
          103.49687744305629,
          -374.6173181314093,
          861.8319951369858,
          103.07447720481753,
          -254.12665553941474,
          353.61607904915263,
          1324.67960838401,
          267.6673246754999,
          160.2293792731714,
          -105.2479587497628,
          -147.88165702019296,
          -306.786645098284,
          -474.31664301187175,
          -325.1025597299223,
          732.6902533799093,
          -612.0906439737853,
          534.3238223832493,
          379.56639496699063,
          -526.2177984546338,
          -405.9473560835122,
          1294.5315409573393,
          425.2770877505229,
          -1234.8437717044235,
          958.7201325485057,
          -197.01485549397967,
          816.9005822324934,
          2614.3778793806077,
          722.9140984005298,
          -83.25967343861885,
          912.0970209085935,
          1.327537663174553,
          -185.29018579179183,
          102.45900295358558,
          -194.18110673590184,
          -52.67649813656453
         ],
         "y0": " ",
         "yaxis": "y"
        }
       ],
       "layout": {
        "boxmode": "group",
        "legend": {
         "tracegroupgap": 0
        },
        "template": {
         "data": {
          "bar": [
           {
            "error_x": {
             "color": "#2a3f5f"
            },
            "error_y": {
             "color": "#2a3f5f"
            },
            "marker": {
             "line": {
              "color": "#E5ECF6",
              "width": 0.5
             },
             "pattern": {
              "fillmode": "overlay",
              "size": 10,
              "solidity": 0.2
             }
            },
            "type": "bar"
           }
          ],
          "barpolar": [
           {
            "marker": {
             "line": {
              "color": "#E5ECF6",
              "width": 0.5
             },
             "pattern": {
              "fillmode": "overlay",
              "size": 10,
              "solidity": 0.2
             }
            },
            "type": "barpolar"
           }
          ],
          "carpet": [
           {
            "aaxis": {
             "endlinecolor": "#2a3f5f",
             "gridcolor": "white",
             "linecolor": "white",
             "minorgridcolor": "white",
             "startlinecolor": "#2a3f5f"
            },
            "baxis": {
             "endlinecolor": "#2a3f5f",
             "gridcolor": "white",
             "linecolor": "white",
             "minorgridcolor": "white",
             "startlinecolor": "#2a3f5f"
            },
            "type": "carpet"
           }
          ],
          "choropleth": [
           {
            "colorbar": {
             "outlinewidth": 0,
             "ticks": ""
            },
            "type": "choropleth"
           }
          ],
          "contour": [
           {
            "colorbar": {
             "outlinewidth": 0,
             "ticks": ""
            },
            "colorscale": [
             [
              0,
              "#0d0887"
             ],
             [
              0.1111111111111111,
              "#46039f"
             ],
             [
              0.2222222222222222,
              "#7201a8"
             ],
             [
              0.3333333333333333,
              "#9c179e"
             ],
             [
              0.4444444444444444,
              "#bd3786"
             ],
             [
              0.5555555555555556,
              "#d8576b"
             ],
             [
              0.6666666666666666,
              "#ed7953"
             ],
             [
              0.7777777777777778,
              "#fb9f3a"
             ],
             [
              0.8888888888888888,
              "#fdca26"
             ],
             [
              1,
              "#f0f921"
             ]
            ],
            "type": "contour"
           }
          ],
          "contourcarpet": [
           {
            "colorbar": {
             "outlinewidth": 0,
             "ticks": ""
            },
            "type": "contourcarpet"
           }
          ],
          "heatmap": [
           {
            "colorbar": {
             "outlinewidth": 0,
             "ticks": ""
            },
            "colorscale": [
             [
              0,
              "#0d0887"
             ],
             [
              0.1111111111111111,
              "#46039f"
             ],
             [
              0.2222222222222222,
              "#7201a8"
             ],
             [
              0.3333333333333333,
              "#9c179e"
             ],
             [
              0.4444444444444444,
              "#bd3786"
             ],
             [
              0.5555555555555556,
              "#d8576b"
             ],
             [
              0.6666666666666666,
              "#ed7953"
             ],
             [
              0.7777777777777778,
              "#fb9f3a"
             ],
             [
              0.8888888888888888,
              "#fdca26"
             ],
             [
              1,
              "#f0f921"
             ]
            ],
            "type": "heatmap"
           }
          ],
          "heatmapgl": [
           {
            "colorbar": {
             "outlinewidth": 0,
             "ticks": ""
            },
            "colorscale": [
             [
              0,
              "#0d0887"
             ],
             [
              0.1111111111111111,
              "#46039f"
             ],
             [
              0.2222222222222222,
              "#7201a8"
             ],
             [
              0.3333333333333333,
              "#9c179e"
             ],
             [
              0.4444444444444444,
              "#bd3786"
             ],
             [
              0.5555555555555556,
              "#d8576b"
             ],
             [
              0.6666666666666666,
              "#ed7953"
             ],
             [
              0.7777777777777778,
              "#fb9f3a"
             ],
             [
              0.8888888888888888,
              "#fdca26"
             ],
             [
              1,
              "#f0f921"
             ]
            ],
            "type": "heatmapgl"
           }
          ],
          "histogram": [
           {
            "marker": {
             "pattern": {
              "fillmode": "overlay",
              "size": 10,
              "solidity": 0.2
             }
            },
            "type": "histogram"
           }
          ],
          "histogram2d": [
           {
            "colorbar": {
             "outlinewidth": 0,
             "ticks": ""
            },
            "colorscale": [
             [
              0,
              "#0d0887"
             ],
             [
              0.1111111111111111,
              "#46039f"
             ],
             [
              0.2222222222222222,
              "#7201a8"
             ],
             [
              0.3333333333333333,
              "#9c179e"
             ],
             [
              0.4444444444444444,
              "#bd3786"
             ],
             [
              0.5555555555555556,
              "#d8576b"
             ],
             [
              0.6666666666666666,
              "#ed7953"
             ],
             [
              0.7777777777777778,
              "#fb9f3a"
             ],
             [
              0.8888888888888888,
              "#fdca26"
             ],
             [
              1,
              "#f0f921"
             ]
            ],
            "type": "histogram2d"
           }
          ],
          "histogram2dcontour": [
           {
            "colorbar": {
             "outlinewidth": 0,
             "ticks": ""
            },
            "colorscale": [
             [
              0,
              "#0d0887"
             ],
             [
              0.1111111111111111,
              "#46039f"
             ],
             [
              0.2222222222222222,
              "#7201a8"
             ],
             [
              0.3333333333333333,
              "#9c179e"
             ],
             [
              0.4444444444444444,
              "#bd3786"
             ],
             [
              0.5555555555555556,
              "#d8576b"
             ],
             [
              0.6666666666666666,
              "#ed7953"
             ],
             [
              0.7777777777777778,
              "#fb9f3a"
             ],
             [
              0.8888888888888888,
              "#fdca26"
             ],
             [
              1,
              "#f0f921"
             ]
            ],
            "type": "histogram2dcontour"
           }
          ],
          "mesh3d": [
           {
            "colorbar": {
             "outlinewidth": 0,
             "ticks": ""
            },
            "type": "mesh3d"
           }
          ],
          "parcoords": [
           {
            "line": {
             "colorbar": {
              "outlinewidth": 0,
              "ticks": ""
             }
            },
            "type": "parcoords"
           }
          ],
          "pie": [
           {
            "automargin": true,
            "type": "pie"
           }
          ],
          "scatter": [
           {
            "fillpattern": {
             "fillmode": "overlay",
             "size": 10,
             "solidity": 0.2
            },
            "type": "scatter"
           }
          ],
          "scatter3d": [
           {
            "line": {
             "colorbar": {
              "outlinewidth": 0,
              "ticks": ""
             }
            },
            "marker": {
             "colorbar": {
              "outlinewidth": 0,
              "ticks": ""
             }
            },
            "type": "scatter3d"
           }
          ],
          "scattercarpet": [
           {
            "marker": {
             "colorbar": {
              "outlinewidth": 0,
              "ticks": ""
             }
            },
            "type": "scattercarpet"
           }
          ],
          "scattergeo": [
           {
            "marker": {
             "colorbar": {
              "outlinewidth": 0,
              "ticks": ""
             }
            },
            "type": "scattergeo"
           }
          ],
          "scattergl": [
           {
            "marker": {
             "colorbar": {
              "outlinewidth": 0,
              "ticks": ""
             }
            },
            "type": "scattergl"
           }
          ],
          "scattermapbox": [
           {
            "marker": {
             "colorbar": {
              "outlinewidth": 0,
              "ticks": ""
             }
            },
            "type": "scattermapbox"
           }
          ],
          "scatterpolar": [
           {
            "marker": {
             "colorbar": {
              "outlinewidth": 0,
              "ticks": ""
             }
            },
            "type": "scatterpolar"
           }
          ],
          "scatterpolargl": [
           {
            "marker": {
             "colorbar": {
              "outlinewidth": 0,
              "ticks": ""
             }
            },
            "type": "scatterpolargl"
           }
          ],
          "scatterternary": [
           {
            "marker": {
             "colorbar": {
              "outlinewidth": 0,
              "ticks": ""
             }
            },
            "type": "scatterternary"
           }
          ],
          "surface": [
           {
            "colorbar": {
             "outlinewidth": 0,
             "ticks": ""
            },
            "colorscale": [
             [
              0,
              "#0d0887"
             ],
             [
              0.1111111111111111,
              "#46039f"
             ],
             [
              0.2222222222222222,
              "#7201a8"
             ],
             [
              0.3333333333333333,
              "#9c179e"
             ],
             [
              0.4444444444444444,
              "#bd3786"
             ],
             [
              0.5555555555555556,
              "#d8576b"
             ],
             [
              0.6666666666666666,
              "#ed7953"
             ],
             [
              0.7777777777777778,
              "#fb9f3a"
             ],
             [
              0.8888888888888888,
              "#fdca26"
             ],
             [
              1,
              "#f0f921"
             ]
            ],
            "type": "surface"
           }
          ],
          "table": [
           {
            "cells": {
             "fill": {
              "color": "#EBF0F8"
             },
             "line": {
              "color": "white"
             }
            },
            "header": {
             "fill": {
              "color": "#C8D4E3"
             },
             "line": {
              "color": "white"
             }
            },
            "type": "table"
           }
          ]
         },
         "layout": {
          "annotationdefaults": {
           "arrowcolor": "#2a3f5f",
           "arrowhead": 0,
           "arrowwidth": 1
          },
          "autotypenumbers": "strict",
          "coloraxis": {
           "colorbar": {
            "outlinewidth": 0,
            "ticks": ""
           }
          },
          "colorscale": {
           "diverging": [
            [
             0,
             "#8e0152"
            ],
            [
             0.1,
             "#c51b7d"
            ],
            [
             0.2,
             "#de77ae"
            ],
            [
             0.3,
             "#f1b6da"
            ],
            [
             0.4,
             "#fde0ef"
            ],
            [
             0.5,
             "#f7f7f7"
            ],
            [
             0.6,
             "#e6f5d0"
            ],
            [
             0.7,
             "#b8e186"
            ],
            [
             0.8,
             "#7fbc41"
            ],
            [
             0.9,
             "#4d9221"
            ],
            [
             1,
             "#276419"
            ]
           ],
           "sequential": [
            [
             0,
             "#0d0887"
            ],
            [
             0.1111111111111111,
             "#46039f"
            ],
            [
             0.2222222222222222,
             "#7201a8"
            ],
            [
             0.3333333333333333,
             "#9c179e"
            ],
            [
             0.4444444444444444,
             "#bd3786"
            ],
            [
             0.5555555555555556,
             "#d8576b"
            ],
            [
             0.6666666666666666,
             "#ed7953"
            ],
            [
             0.7777777777777778,
             "#fb9f3a"
            ],
            [
             0.8888888888888888,
             "#fdca26"
            ],
            [
             1,
             "#f0f921"
            ]
           ],
           "sequentialminus": [
            [
             0,
             "#0d0887"
            ],
            [
             0.1111111111111111,
             "#46039f"
            ],
            [
             0.2222222222222222,
             "#7201a8"
            ],
            [
             0.3333333333333333,
             "#9c179e"
            ],
            [
             0.4444444444444444,
             "#bd3786"
            ],
            [
             0.5555555555555556,
             "#d8576b"
            ],
            [
             0.6666666666666666,
             "#ed7953"
            ],
            [
             0.7777777777777778,
             "#fb9f3a"
            ],
            [
             0.8888888888888888,
             "#fdca26"
            ],
            [
             1,
             "#f0f921"
            ]
           ]
          },
          "colorway": [
           "#636efa",
           "#EF553B",
           "#00cc96",
           "#ab63fa",
           "#FFA15A",
           "#19d3f3",
           "#FF6692",
           "#B6E880",
           "#FF97FF",
           "#FECB52"
          ],
          "font": {
           "color": "#2a3f5f"
          },
          "geo": {
           "bgcolor": "white",
           "lakecolor": "white",
           "landcolor": "#E5ECF6",
           "showlakes": true,
           "showland": true,
           "subunitcolor": "white"
          },
          "hoverlabel": {
           "align": "left"
          },
          "hovermode": "closest",
          "mapbox": {
           "style": "light"
          },
          "paper_bgcolor": "white",
          "plot_bgcolor": "#E5ECF6",
          "polar": {
           "angularaxis": {
            "gridcolor": "white",
            "linecolor": "white",
            "ticks": ""
           },
           "bgcolor": "#E5ECF6",
           "radialaxis": {
            "gridcolor": "white",
            "linecolor": "white",
            "ticks": ""
           }
          },
          "scene": {
           "xaxis": {
            "backgroundcolor": "#E5ECF6",
            "gridcolor": "white",
            "gridwidth": 2,
            "linecolor": "white",
            "showbackground": true,
            "ticks": "",
            "zerolinecolor": "white"
           },
           "yaxis": {
            "backgroundcolor": "#E5ECF6",
            "gridcolor": "white",
            "gridwidth": 2,
            "linecolor": "white",
            "showbackground": true,
            "ticks": "",
            "zerolinecolor": "white"
           },
           "zaxis": {
            "backgroundcolor": "#E5ECF6",
            "gridcolor": "white",
            "gridwidth": 2,
            "linecolor": "white",
            "showbackground": true,
            "ticks": "",
            "zerolinecolor": "white"
           }
          },
          "shapedefaults": {
           "line": {
            "color": "#2a3f5f"
           }
          },
          "ternary": {
           "aaxis": {
            "gridcolor": "white",
            "linecolor": "white",
            "ticks": ""
           },
           "baxis": {
            "gridcolor": "white",
            "linecolor": "white",
            "ticks": ""
           },
           "bgcolor": "#E5ECF6",
           "caxis": {
            "gridcolor": "white",
            "linecolor": "white",
            "ticks": ""
           }
          },
          "title": {
           "x": 0.05
          },
          "xaxis": {
           "automargin": true,
           "gridcolor": "white",
           "linecolor": "white",
           "ticks": "",
           "title": {
            "standoff": 15
           },
           "zerolinecolor": "white",
           "zerolinewidth": 2
          },
          "yaxis": {
           "automargin": true,
           "gridcolor": "white",
           "linecolor": "white",
           "ticks": "",
           "title": {
            "standoff": 15
           },
           "zerolinecolor": "white",
           "zerolinewidth": 2
          }
         }
        },
        "title": {
         "text": "Residuals Distribution Across Sub-Regions"
        },
        "xaxis": {
         "anchor": "y",
         "domain": [
          0,
          1
         ],
         "title": {
          "text": "sub_region"
         }
        },
        "yaxis": {
         "anchor": "x",
         "domain": [
          0,
          1
         ],
         "title": {
          "text": "Residuals"
         }
        }
       }
      },
      "text/html": [
       "<div>                            <div id=\"5f708676-7642-4246-ab5d-d17202993938\" class=\"plotly-graph-div\" style=\"height:525px; width:100%;\"></div>            <script type=\"text/javascript\">                require([\"plotly\"], function(Plotly) {                    window.PLOTLYENV=window.PLOTLYENV || {};                                    if (document.getElementById(\"5f708676-7642-4246-ab5d-d17202993938\")) {                    Plotly.newPlot(                        \"5f708676-7642-4246-ab5d-d17202993938\",                        [{\"alignmentgroup\":\"True\",\"hovertemplate\":\"sub_region=%{x}\\u003cbr\\u003eResiduals=%{y}\\u003cextra\\u003e\\u003c\\u002fextra\\u003e\",\"legendgroup\":\"\",\"marker\":{\"color\":\"#636efa\"},\"name\":\"\",\"notched\":false,\"offsetgroup\":\"\",\"orientation\":\"v\",\"showlegend\":false,\"x\":[\"Eastern Asia\",\"Western Europe\",\"Northern America\",\"Eastern Asia\",\"Southern Europe\",\"Eastern Asia\",\"Eastern Asia\",\"Western Europe\",\"Eastern Asia\",\"Northern America\",\"Eastern Europe\",\"Eastern Asia\",\"Eastern Asia\",\"Western Europe\",\"Eastern Asia\",\"Eastern Asia\",\"Southern Asia\",\"Eastern Asia\",\"Eastern Asia\",\"Eastern Asia\",\"Southern Europe\",\"Eastern Asia\",\"Eastern Asia\",\"Northern America\",\"Eastern Asia\",\"Eastern Asia\",\"Eastern Asia\",\"Eastern Asia\",\"Eastern Asia\",\"Southern Europe\",\"Eastern Asia\",\"Eastern Asia\",\"Western Asia\",\"Western Europe\",\"Eastern Asia\",\"Eastern Asia\",\"Eastern Asia\",\"Eastern Asia\",\"Eastern Asia\",\"Eastern Asia\",\"Eastern Asia\",\"Latin America and the Caribbean\",\"Eastern Asia\",\"Northern Europe\",\"Western Europe\",\"Eastern Asia\",\"Western Europe\",\"Eastern Asia\",\"Eastern Asia\",\"Western Europe\",\"Western Europe\",\"Western Europe\",\"Eastern Asia\",\"Southern Asia\",\"Southern Europe\",\"Eastern Asia\",\"Western Europe\",\"Western Europe\",\"Eastern Asia\",\"Southern Europe\",\"Eastern Asia\",\"Eastern Asia\",\"Western Europe\",\"Latin America and the Caribbean\",\"Eastern Asia\",\"Eastern Asia\",\"Eastern Asia\",\"Eastern Asia\",\"Eastern Asia\",\"Eastern Asia\",\"Northern America\",\"Western Europe\",\"Eastern Asia\",\"Western Europe\",\"Western Europe\",\"Southern Asia\",\"Eastern Asia\",\"Eastern Asia\",\"Eastern Asia\",\"Western Europe\",\"Eastern Asia\",\"Eastern Asia\",\"Eastern Asia\",\"Northern America\",\"Western Europe\",\"Eastern Asia\",\"Northern America\",\"Eastern Asia\",\"Eastern Asia\",\"Southern Europe\",\"Eastern Asia\",\"Eastern Asia\",\"Eastern Asia\",\"Eastern Asia\",\"Northern America\",\"Eastern Asia\",\"Southern Europe\",\"Eastern Asia\",\"Western Europe\",\"Eastern Asia\",\"Eastern Asia\",\"Eastern Europe\",\"Southern Europe\",\"Eastern Asia\",\"Southern Asia\",\"Eastern Asia\",\"South-eastern Asia\",\"South-eastern Asia\",\"Caribbean\",\"Eastern Asia\",\"Eastern Asia\",\"Eastern Asia\",\"Eastern Asia\",\"Eastern Asia\",\"Southern Asia\",\"Eastern Asia\",\"Eastern Asia\",\"Eastern Asia\",\"Southern Europe\",\"Western Europe\",\"Eastern Asia\",\"Eastern Asia\",\"Western Europe\",\"Southern Europe\",\"Eastern Asia\",\"Eastern Asia\",\"Eastern Asia\",\"Western Asia\",\"Eastern Asia\",\"Eastern Asia\",\"Eastern Asia\",\"Southern Asia\",\"Eastern Asia\",\"Eastern Asia\",\"Northern America\",\"Southern Europe\",\"Southern Europe\",\"Eastern Asia\",\"Eastern Asia\",\"Northern America\",\"Northern America\",\"Northern America\",\"Eastern Asia\",\"Eastern Asia\",\"Southern Asia\",\"Eastern Asia\",\"Eastern Asia\",\"Eastern Asia\",\"Eastern Asia\",\"Northern America\",\"Western Europe\",\"Western Europe\",\"Northern America\",\"Southern Europe\"],\"x0\":\" \",\"xaxis\":\"x\",\"y\":[49.87221145233525,-23.442340425330826,-660.0434529648901,-1584.228190853686,209.30686711114177,-2.7551563815868576,-415.4249139977676,450.25463104994753,251.6055418616652,-516.4315680898692,547.0565583217044,-322.1761947644741,59.92692470372731,-465.47270466744203,677.0128774037439,-233.58567068980847,-2909.4989349673997,76.05781753772317,-873.5857883801705,125.21702326325794,-251.0000429499479,-1156.9741517391803,363.6936805316773,385.16725736908984,-377.2875222320981,-143.06655587862224,553.7746180218342,1551.906577884948,-162.94702956363926,-222.84506718748258,175.31097699054408,-1127.8179445447136,2332.957237698222,-147.6978745315406,-363.71197269801087,-33.793660968727636,176.41066534715992,748.9692478454299,-678.8435798955215,321.5585437691161,-300.76585706332673,876.5016438187549,307.625617728969,36.68005394520776,774.8272106373483,204.79664720804777,-91.98318874097356,-809.8182617003768,555.1705652355249,-255.88112150273537,-612.4078046427885,-95.3575830717648,816.0685007106322,-58.59098168521541,458.95562901603284,393.21472297630464,1333.1875911984066,-138.8303784513855,-886.6260921039639,68.97113138527607,-338.8679061842204,111.69416862183698,5.6943221761171685,1064.6002909979507,1846.9841967334987,-224.6660899226299,455.5984813141031,-331.74711552211556,509.4773428677381,2092.9290612549958,-1483.1039609185373,-15.35012834624007,-594.2831647415951,95.59109276194272,95.59109276194272,1088.6342444847878,1025.973919304507,-65.93791497533357,-833.6128837362044,724.1953535867959,-1281.2707648125706,143.51073121209583,-679.6259847122565,139.88769459011974,-43.1097613298806,2189.043308092515,-474.8687916342933,-1356.7071482404035,297.3775653104626,-31.716240164179908,292.54909150367166,321.8538013522518,2208.6396094804404,-1731.5041212092292,-203.42133063049369,672.2851300272259,-378.10150295256904,1872.0899891152944,-67.3275080184564,320.3257603375081,55.2462952148619,-31.46594771863215,-318.8067897017422,380.7405669334066,-30.275703882796734,-146.9617797651299,-1192.4239034408274,-341.996258046051,-213.5192876245419,-297.6068295231323,-272.31839652438794,-741.5035456260803,-973.9493481211716,59.43336805380977,-979.5164203555814,-341.67462838256233,-2880.4663869957585,214.27845022332986,387.3593201424211,103.49687744305629,-374.6173181314093,861.8319951369858,103.07447720481753,-254.12665553941474,353.61607904915263,1324.67960838401,267.6673246754999,160.2293792731714,-105.2479587497628,-147.88165702019296,-306.786645098284,-474.31664301187175,-325.1025597299223,732.6902533799093,-612.0906439737853,534.3238223832493,379.56639496699063,-526.2177984546338,-405.9473560835122,1294.5315409573393,425.2770877505229,-1234.8437717044235,958.7201325485057,-197.01485549397967,816.9005822324934,2614.3778793806077,722.9140984005298,-83.25967343861885,912.0970209085935,1.327537663174553,-185.29018579179183,102.45900295358558,-194.18110673590184,-52.67649813656453],\"y0\":\" \",\"yaxis\":\"y\",\"type\":\"box\"}],                        {\"template\":{\"data\":{\"histogram2dcontour\":[{\"type\":\"histogram2dcontour\",\"colorbar\":{\"outlinewidth\":0,\"ticks\":\"\"},\"colorscale\":[[0.0,\"#0d0887\"],[0.1111111111111111,\"#46039f\"],[0.2222222222222222,\"#7201a8\"],[0.3333333333333333,\"#9c179e\"],[0.4444444444444444,\"#bd3786\"],[0.5555555555555556,\"#d8576b\"],[0.6666666666666666,\"#ed7953\"],[0.7777777777777778,\"#fb9f3a\"],[0.8888888888888888,\"#fdca26\"],[1.0,\"#f0f921\"]]}],\"choropleth\":[{\"type\":\"choropleth\",\"colorbar\":{\"outlinewidth\":0,\"ticks\":\"\"}}],\"histogram2d\":[{\"type\":\"histogram2d\",\"colorbar\":{\"outlinewidth\":0,\"ticks\":\"\"},\"colorscale\":[[0.0,\"#0d0887\"],[0.1111111111111111,\"#46039f\"],[0.2222222222222222,\"#7201a8\"],[0.3333333333333333,\"#9c179e\"],[0.4444444444444444,\"#bd3786\"],[0.5555555555555556,\"#d8576b\"],[0.6666666666666666,\"#ed7953\"],[0.7777777777777778,\"#fb9f3a\"],[0.8888888888888888,\"#fdca26\"],[1.0,\"#f0f921\"]]}],\"heatmap\":[{\"type\":\"heatmap\",\"colorbar\":{\"outlinewidth\":0,\"ticks\":\"\"},\"colorscale\":[[0.0,\"#0d0887\"],[0.1111111111111111,\"#46039f\"],[0.2222222222222222,\"#7201a8\"],[0.3333333333333333,\"#9c179e\"],[0.4444444444444444,\"#bd3786\"],[0.5555555555555556,\"#d8576b\"],[0.6666666666666666,\"#ed7953\"],[0.7777777777777778,\"#fb9f3a\"],[0.8888888888888888,\"#fdca26\"],[1.0,\"#f0f921\"]]}],\"heatmapgl\":[{\"type\":\"heatmapgl\",\"colorbar\":{\"outlinewidth\":0,\"ticks\":\"\"},\"colorscale\":[[0.0,\"#0d0887\"],[0.1111111111111111,\"#46039f\"],[0.2222222222222222,\"#7201a8\"],[0.3333333333333333,\"#9c179e\"],[0.4444444444444444,\"#bd3786\"],[0.5555555555555556,\"#d8576b\"],[0.6666666666666666,\"#ed7953\"],[0.7777777777777778,\"#fb9f3a\"],[0.8888888888888888,\"#fdca26\"],[1.0,\"#f0f921\"]]}],\"contourcarpet\":[{\"type\":\"contourcarpet\",\"colorbar\":{\"outlinewidth\":0,\"ticks\":\"\"}}],\"contour\":[{\"type\":\"contour\",\"colorbar\":{\"outlinewidth\":0,\"ticks\":\"\"},\"colorscale\":[[0.0,\"#0d0887\"],[0.1111111111111111,\"#46039f\"],[0.2222222222222222,\"#7201a8\"],[0.3333333333333333,\"#9c179e\"],[0.4444444444444444,\"#bd3786\"],[0.5555555555555556,\"#d8576b\"],[0.6666666666666666,\"#ed7953\"],[0.7777777777777778,\"#fb9f3a\"],[0.8888888888888888,\"#fdca26\"],[1.0,\"#f0f921\"]]}],\"surface\":[{\"type\":\"surface\",\"colorbar\":{\"outlinewidth\":0,\"ticks\":\"\"},\"colorscale\":[[0.0,\"#0d0887\"],[0.1111111111111111,\"#46039f\"],[0.2222222222222222,\"#7201a8\"],[0.3333333333333333,\"#9c179e\"],[0.4444444444444444,\"#bd3786\"],[0.5555555555555556,\"#d8576b\"],[0.6666666666666666,\"#ed7953\"],[0.7777777777777778,\"#fb9f3a\"],[0.8888888888888888,\"#fdca26\"],[1.0,\"#f0f921\"]]}],\"mesh3d\":[{\"type\":\"mesh3d\",\"colorbar\":{\"outlinewidth\":0,\"ticks\":\"\"}}],\"scatter\":[{\"fillpattern\":{\"fillmode\":\"overlay\",\"size\":10,\"solidity\":0.2},\"type\":\"scatter\"}],\"parcoords\":[{\"type\":\"parcoords\",\"line\":{\"colorbar\":{\"outlinewidth\":0,\"ticks\":\"\"}}}],\"scatterpolargl\":[{\"type\":\"scatterpolargl\",\"marker\":{\"colorbar\":{\"outlinewidth\":0,\"ticks\":\"\"}}}],\"bar\":[{\"error_x\":{\"color\":\"#2a3f5f\"},\"error_y\":{\"color\":\"#2a3f5f\"},\"marker\":{\"line\":{\"color\":\"#E5ECF6\",\"width\":0.5},\"pattern\":{\"fillmode\":\"overlay\",\"size\":10,\"solidity\":0.2}},\"type\":\"bar\"}],\"scattergeo\":[{\"type\":\"scattergeo\",\"marker\":{\"colorbar\":{\"outlinewidth\":0,\"ticks\":\"\"}}}],\"scatterpolar\":[{\"type\":\"scatterpolar\",\"marker\":{\"colorbar\":{\"outlinewidth\":0,\"ticks\":\"\"}}}],\"histogram\":[{\"marker\":{\"pattern\":{\"fillmode\":\"overlay\",\"size\":10,\"solidity\":0.2}},\"type\":\"histogram\"}],\"scattergl\":[{\"type\":\"scattergl\",\"marker\":{\"colorbar\":{\"outlinewidth\":0,\"ticks\":\"\"}}}],\"scatter3d\":[{\"type\":\"scatter3d\",\"line\":{\"colorbar\":{\"outlinewidth\":0,\"ticks\":\"\"}},\"marker\":{\"colorbar\":{\"outlinewidth\":0,\"ticks\":\"\"}}}],\"scattermapbox\":[{\"type\":\"scattermapbox\",\"marker\":{\"colorbar\":{\"outlinewidth\":0,\"ticks\":\"\"}}}],\"scatterternary\":[{\"type\":\"scatterternary\",\"marker\":{\"colorbar\":{\"outlinewidth\":0,\"ticks\":\"\"}}}],\"scattercarpet\":[{\"type\":\"scattercarpet\",\"marker\":{\"colorbar\":{\"outlinewidth\":0,\"ticks\":\"\"}}}],\"carpet\":[{\"aaxis\":{\"endlinecolor\":\"#2a3f5f\",\"gridcolor\":\"white\",\"linecolor\":\"white\",\"minorgridcolor\":\"white\",\"startlinecolor\":\"#2a3f5f\"},\"baxis\":{\"endlinecolor\":\"#2a3f5f\",\"gridcolor\":\"white\",\"linecolor\":\"white\",\"minorgridcolor\":\"white\",\"startlinecolor\":\"#2a3f5f\"},\"type\":\"carpet\"}],\"table\":[{\"cells\":{\"fill\":{\"color\":\"#EBF0F8\"},\"line\":{\"color\":\"white\"}},\"header\":{\"fill\":{\"color\":\"#C8D4E3\"},\"line\":{\"color\":\"white\"}},\"type\":\"table\"}],\"barpolar\":[{\"marker\":{\"line\":{\"color\":\"#E5ECF6\",\"width\":0.5},\"pattern\":{\"fillmode\":\"overlay\",\"size\":10,\"solidity\":0.2}},\"type\":\"barpolar\"}],\"pie\":[{\"automargin\":true,\"type\":\"pie\"}]},\"layout\":{\"autotypenumbers\":\"strict\",\"colorway\":[\"#636efa\",\"#EF553B\",\"#00cc96\",\"#ab63fa\",\"#FFA15A\",\"#19d3f3\",\"#FF6692\",\"#B6E880\",\"#FF97FF\",\"#FECB52\"],\"font\":{\"color\":\"#2a3f5f\"},\"hovermode\":\"closest\",\"hoverlabel\":{\"align\":\"left\"},\"paper_bgcolor\":\"white\",\"plot_bgcolor\":\"#E5ECF6\",\"polar\":{\"bgcolor\":\"#E5ECF6\",\"angularaxis\":{\"gridcolor\":\"white\",\"linecolor\":\"white\",\"ticks\":\"\"},\"radialaxis\":{\"gridcolor\":\"white\",\"linecolor\":\"white\",\"ticks\":\"\"}},\"ternary\":{\"bgcolor\":\"#E5ECF6\",\"aaxis\":{\"gridcolor\":\"white\",\"linecolor\":\"white\",\"ticks\":\"\"},\"baxis\":{\"gridcolor\":\"white\",\"linecolor\":\"white\",\"ticks\":\"\"},\"caxis\":{\"gridcolor\":\"white\",\"linecolor\":\"white\",\"ticks\":\"\"}},\"coloraxis\":{\"colorbar\":{\"outlinewidth\":0,\"ticks\":\"\"}},\"colorscale\":{\"sequential\":[[0.0,\"#0d0887\"],[0.1111111111111111,\"#46039f\"],[0.2222222222222222,\"#7201a8\"],[0.3333333333333333,\"#9c179e\"],[0.4444444444444444,\"#bd3786\"],[0.5555555555555556,\"#d8576b\"],[0.6666666666666666,\"#ed7953\"],[0.7777777777777778,\"#fb9f3a\"],[0.8888888888888888,\"#fdca26\"],[1.0,\"#f0f921\"]],\"sequentialminus\":[[0.0,\"#0d0887\"],[0.1111111111111111,\"#46039f\"],[0.2222222222222222,\"#7201a8\"],[0.3333333333333333,\"#9c179e\"],[0.4444444444444444,\"#bd3786\"],[0.5555555555555556,\"#d8576b\"],[0.6666666666666666,\"#ed7953\"],[0.7777777777777778,\"#fb9f3a\"],[0.8888888888888888,\"#fdca26\"],[1.0,\"#f0f921\"]],\"diverging\":[[0,\"#8e0152\"],[0.1,\"#c51b7d\"],[0.2,\"#de77ae\"],[0.3,\"#f1b6da\"],[0.4,\"#fde0ef\"],[0.5,\"#f7f7f7\"],[0.6,\"#e6f5d0\"],[0.7,\"#b8e186\"],[0.8,\"#7fbc41\"],[0.9,\"#4d9221\"],[1,\"#276419\"]]},\"xaxis\":{\"gridcolor\":\"white\",\"linecolor\":\"white\",\"ticks\":\"\",\"title\":{\"standoff\":15},\"zerolinecolor\":\"white\",\"automargin\":true,\"zerolinewidth\":2},\"yaxis\":{\"gridcolor\":\"white\",\"linecolor\":\"white\",\"ticks\":\"\",\"title\":{\"standoff\":15},\"zerolinecolor\":\"white\",\"automargin\":true,\"zerolinewidth\":2},\"scene\":{\"xaxis\":{\"backgroundcolor\":\"#E5ECF6\",\"gridcolor\":\"white\",\"linecolor\":\"white\",\"showbackground\":true,\"ticks\":\"\",\"zerolinecolor\":\"white\",\"gridwidth\":2},\"yaxis\":{\"backgroundcolor\":\"#E5ECF6\",\"gridcolor\":\"white\",\"linecolor\":\"white\",\"showbackground\":true,\"ticks\":\"\",\"zerolinecolor\":\"white\",\"gridwidth\":2},\"zaxis\":{\"backgroundcolor\":\"#E5ECF6\",\"gridcolor\":\"white\",\"linecolor\":\"white\",\"showbackground\":true,\"ticks\":\"\",\"zerolinecolor\":\"white\",\"gridwidth\":2}},\"shapedefaults\":{\"line\":{\"color\":\"#2a3f5f\"}},\"annotationdefaults\":{\"arrowcolor\":\"#2a3f5f\",\"arrowhead\":0,\"arrowwidth\":1},\"geo\":{\"bgcolor\":\"white\",\"landcolor\":\"#E5ECF6\",\"subunitcolor\":\"white\",\"showland\":true,\"showlakes\":true,\"lakecolor\":\"white\"},\"title\":{\"x\":0.05},\"mapbox\":{\"style\":\"light\"}}},\"xaxis\":{\"anchor\":\"y\",\"domain\":[0.0,1.0],\"title\":{\"text\":\"sub_region\"}},\"yaxis\":{\"anchor\":\"x\",\"domain\":[0.0,1.0],\"title\":{\"text\":\"Residuals\"}},\"legend\":{\"tracegroupgap\":0},\"title\":{\"text\":\"Residuals Distribution Across Sub-Regions\"},\"boxmode\":\"group\"},                        {\"responsive\": true}                    ).then(function(){\n",
       "                            \n",
       "var gd = document.getElementById('5f708676-7642-4246-ab5d-d17202993938');\n",
       "var x = new MutationObserver(function (mutations, observer) {{\n",
       "        var display = window.getComputedStyle(gd).display;\n",
       "        if (!display || display === 'none') {{\n",
       "            console.log([gd, 'removed!']);\n",
       "            Plotly.purge(gd);\n",
       "            observer.disconnect();\n",
       "        }}\n",
       "}});\n",
       "\n",
       "// Listen for the removal of the full notebook cells\n",
       "var notebookContainer = gd.closest('#notebook-container');\n",
       "if (notebookContainer) {{\n",
       "    x.observe(notebookContainer, {childList: true});\n",
       "}}\n",
       "\n",
       "// Listen for the clearing of the current output cell\n",
       "var outputEl = gd.closest('.output');\n",
       "if (outputEl) {{\n",
       "    x.observe(outputEl, {childList: true});\n",
       "}}\n",
       "\n",
       "                        })                };                });            </script>        </div>"
      ]
     },
     "metadata": {},
     "output_type": "display_data"
    }
   ],
   "source": [
    "fig = px.box(predictions, x='sub_region', y='Residuals', title=\"Residuals Distribution Across Sub-Regions\")\n",
    "fig.show()"
   ]
  },
  {
   "cell_type": "code",
   "execution_count": 44,
   "id": "62bd5144",
   "metadata": {},
   "outputs": [
    {
     "data": {
      "application/vnd.plotly.v1+json": {
       "config": {
        "plotlyServerURL": "https://plot.ly"
       },
       "data": [
        {
         "hovertemplate": "sub_region=Eastern Asia<br>prediction_label=%{x}<br>standardized_residuals=%{y}<extra></extra>",
         "legendgroup": "Eastern Asia",
         "marker": {
          "color": "#636efa",
          "symbol": "circle"
         },
         "mode": "markers",
         "name": "Eastern Asia",
         "orientation": "v",
         "showlegend": true,
         "type": "scatter",
         "x": [
          2482.2830619851647,
          7388.191081478686,
          6015.905058725337,
          1979.8741327477676,
          7018.001880013335,
          1175.4621444715053,
          2065.5264444368977,
          6096.061341346256,
          1777.680275181996,
          5390.231244962277,
          3269.2239719739205,
          2883.045672049242,
          2617.6308900204303,
          3827.3346397808227,
          4497.431076919598,
          4621.785794159872,
          2833.842569478166,
          6249.355140865052,
          6575.606697532389,
          3783.286190978206,
          2059.0657472790886,
          3591.557919963636,
          4756.547567218728,
          1259.63620965284,
          1497.44530293582,
          5033.4700447392715,
          4063.496632012134,
          800.8266785965299,
          1206.005974067906,
          403.8518513271085,
          4727.133691387877,
          5239.506680858225,
          2937.147807883118,
          729.2844225315079,
          5157.891228822714,
          4096.513169856095,
          4130.109054034413,
          5508.517268110251,
          6266.66267195388,
          4735.160796029647,
          5075.590377240866,
          3245.441846585387,
          8225.311173120004,
          4772.229942085345,
          8080.041705695493,
          2206.9142333347086,
          2851.5994560018294,
          3466.6999640313206,
          1155.9696154675917,
          4119.2780843216315,
          5051.826809094985,
          3613.4996287091535,
          3995.6082745332874,
          4746.447002246328,
          1871.9740795071232,
          8121.26859364456,
          5165.424775506104,
          6543.022487160274,
          1506.0835948690806,
          912.0220179828044,
          1821.769329785138,
          4982.733554160343,
          4760.94273679638,
          1033.8314999332886,
          3782.420935586888,
          6134.28040109483,
          2438.451423316484,
          2728.4460264774402,
          4831.237128382562,
          4192.7491018395085,
          9407.88658883917,
          1096.213204361878,
          2349.647985331764,
          1094.8046973180349,
          4838.85554786599,
          3942.64078079325,
          855.5148044528878,
          2441.015934363943,
          633.4760371881277,
          826.9656578744535,
          5247.724785682591,
          3368.115991814009,
          3464.497649052262,
          5246.711508076494,
          5288.02999221273,
          7656.605519056892,
          9928.47262034947,
          3483.034575782369,
          4843.502588466406
         ],
         "xaxis": "x",
         "y": [
          0.014028087298280766,
          -1.9950746900231588,
          -0.05067649923082095,
          -0.5580479893627763,
          0.2620562952540037,
          -0.4434000396230318,
          0.026390211614531558,
          0.7850884529625389,
          -0.33447927336436195,
          0.04622291072391367,
          -1.1213501486932056,
          0.10666344217149838,
          -1.469772037018853,
          0.39986703833253023,
          -0.5111586185456134,
          -0.22318733272767227,
          0.6335687979602838,
          1.860757586277299,
          -0.24763008718674223,
          0.16825323274891632,
          -1.4339249025539826,
          -0.49446767701343464,
          -0.08883789107793623,
          0.16960528365615987,
          0.8735577682483987,
          -0.8819174238887308,
          0.34806249794258975,
          -0.4170763395137472,
          0.3309321671722339,
          0.20450543722886894,
          -1.0429488982103725,
          0.6352850948414683,
          0.956055327821501,
          0.43616273245342163,
          -1.1373830132538019,
          -0.4639222570610397,
          0.0900372882466522,
          2.223551244927288,
          -0.32351277799688494,
          0.5128626598014283,
          -0.45516734807517173,
          0.5791059397330451,
          2.525936893741019,
          -0.7779516181784696,
          1.2141309998405798,
          -0.12835878582128354,
          -1.072204041376626,
          -1.622592922556234,
          0.12915529113968346,
          -0.8828793792790322,
          2.6441079681676043,
          -1.7153408634061753,
          0.3183323351502226,
          0.3123957965374435,
          0.3484255128647243,
          2.6682013369031785,
          -2.1761483133405273,
          0.7792757560369203,
          2.2544184530437175,
          0.34654680856831116,
          0.020635445449354983,
          0.42082593826674836,
          -0.22797645408008585,
          -0.4131923609065068,
          -0.3821005987967942,
          -0.9589569442257169,
          -1.2447456917901651,
          0.025783390861831512,
          -0.4673730813530482,
          -3.588780778256201,
          0.21616317670750504,
          -0.5078756412774245,
          1.0123208814081543,
          0.3874767732676011,
          1.5813853182927673,
          0.28180402459454507,
          -0.17668991529924005,
          -0.2291074298422446,
          -0.4244788112013045,
          -0.4469979629643646,
          0.8535429803280707,
          -0.6942662361459122,
          -0.5463954691743691,
          1.1314434430869147,
          -0.28951598575047827,
          3.167050663279737,
          0.8415233393727912,
          -0.1496556369741054,
          1.0741210025863626
         ],
         "yaxis": "y"
        },
        {
         "alignmentgroup": "True",
         "bingroup": "y",
         "hovertemplate": "sub_region=Eastern Asia<br>standardized_residuals=%{y}<br>count=%{x}<extra></extra>",
         "legendgroup": "Eastern Asia",
         "marker": {
          "color": "#636efa"
         },
         "name": "Eastern Asia",
         "offsetgroup": "Eastern Asia",
         "opacity": 0.5,
         "showlegend": false,
         "type": "histogram",
         "xaxis": "x2",
         "y": [
          0.014028087298280766,
          -1.9950746900231588,
          -0.05067649923082095,
          -0.5580479893627763,
          0.2620562952540037,
          -0.4434000396230318,
          0.026390211614531558,
          0.7850884529625389,
          -0.33447927336436195,
          0.04622291072391367,
          -1.1213501486932056,
          0.10666344217149838,
          -1.469772037018853,
          0.39986703833253023,
          -0.5111586185456134,
          -0.22318733272767227,
          0.6335687979602838,
          1.860757586277299,
          -0.24763008718674223,
          0.16825323274891632,
          -1.4339249025539826,
          -0.49446767701343464,
          -0.08883789107793623,
          0.16960528365615987,
          0.8735577682483987,
          -0.8819174238887308,
          0.34806249794258975,
          -0.4170763395137472,
          0.3309321671722339,
          0.20450543722886894,
          -1.0429488982103725,
          0.6352850948414683,
          0.956055327821501,
          0.43616273245342163,
          -1.1373830132538019,
          -0.4639222570610397,
          0.0900372882466522,
          2.223551244927288,
          -0.32351277799688494,
          0.5128626598014283,
          -0.45516734807517173,
          0.5791059397330451,
          2.525936893741019,
          -0.7779516181784696,
          1.2141309998405798,
          -0.12835878582128354,
          -1.072204041376626,
          -1.622592922556234,
          0.12915529113968346,
          -0.8828793792790322,
          2.6441079681676043,
          -1.7153408634061753,
          0.3183323351502226,
          0.3123957965374435,
          0.3484255128647243,
          2.6682013369031785,
          -2.1761483133405273,
          0.7792757560369203,
          2.2544184530437175,
          0.34654680856831116,
          0.020635445449354983,
          0.42082593826674836,
          -0.22797645408008585,
          -0.4131923609065068,
          -0.3821005987967942,
          -0.9589569442257169,
          -1.2447456917901651,
          0.025783390861831512,
          -0.4673730813530482,
          -3.588780778256201,
          0.21616317670750504,
          -0.5078756412774245,
          1.0123208814081543,
          0.3874767732676011,
          1.5813853182927673,
          0.28180402459454507,
          -0.17668991529924005,
          -0.2291074298422446,
          -0.4244788112013045,
          -0.4469979629643646,
          0.8535429803280707,
          -0.6942662361459122,
          -0.5463954691743691,
          1.1314434430869147,
          -0.28951598575047827,
          3.167050663279737,
          0.8415233393727912,
          -0.1496556369741054,
          1.0741210025863626
         ],
         "yaxis": "y2"
        },
        {
         "hovertemplate": "sub_region=Western Europe<br>prediction_label=%{x}<br>standardized_residuals=%{y}<extra></extra>",
         "legendgroup": "Western Europe",
         "marker": {
          "color": "#EF553B",
          "symbol": "circle"
         },
         "mode": "markers",
         "name": "Western Europe",
         "orientation": "v",
         "showlegend": true,
         "type": "scatter",
         "x": [
          676.6590762651746,
          792.7002029344275,
          2514.367235917442,
          445.19341896513436,
          581.7343128001517,
          230.93785487866887,
          4123.73976408086,
          1734.0926190959135,
          406.4617395659054,
          612.4712222781559,
          529.6190442228699,
          458.3884109781797,
          508.0758668716307,
          335.1372092400104,
          891.3924149678916,
          1001.9028521501931,
          117.11687950893491,
          402.3848364241312,
          479.30626009987,
          566.4610231941356,
          846.1677060307894
         ],
         "xaxis": "x",
         "y": [
          -0.07611109239204475,
          0.5062924732987178,
          -0.6195810231294583,
          -0.22888147193424005,
          0.9053497589900966,
          -0.16038107269227414,
          -0.36189120722514095,
          -0.8002356004307543,
          -0.16452984164931203,
          1.5918457599386329,
          -0.21797901393509553,
          -0.04028798772121911,
          -0.06616183484346809,
          0.07023878970404392,
          0.8430986240673864,
          -0.10029190154325678,
          -0.13006727034178475,
          0.07995883746690838,
          0.0794395024917813,
          -0.27510067416460504,
          0.0786827858140454
         ],
         "yaxis": "y"
        },
        {
         "alignmentgroup": "True",
         "bingroup": "y",
         "hovertemplate": "sub_region=Western Europe<br>standardized_residuals=%{y}<br>count=%{x}<extra></extra>",
         "legendgroup": "Western Europe",
         "marker": {
          "color": "#EF553B"
         },
         "name": "Western Europe",
         "offsetgroup": "Western Europe",
         "opacity": 0.5,
         "showlegend": false,
         "type": "histogram",
         "xaxis": "x2",
         "y": [
          -0.07611109239204475,
          0.5062924732987178,
          -0.6195810231294583,
          -0.22888147193424005,
          0.9053497589900966,
          -0.16038107269227414,
          -0.36189120722514095,
          -0.8002356004307543,
          -0.16452984164931203,
          1.5918457599386329,
          -0.21797901393509553,
          -0.04028798772121911,
          -0.06616183484346809,
          0.07023878970404392,
          0.8430986240673864,
          -0.10029190154325678,
          -0.13006727034178475,
          0.07995883746690838,
          0.0794395024917813,
          -0.27510067416460504,
          0.0786827858140454
         ],
         "yaxis": "y2"
        },
        {
         "hovertemplate": "sub_region=Northern America<br>prediction_label=%{x}<br>standardized_residuals=%{y}<extra></extra>",
         "legendgroup": "Northern America",
         "marker": {
          "color": "#00cc96",
          "symbol": "circle"
         },
         "mode": "markers",
         "name": "Northern America",
         "orientation": "v",
         "showlegend": true,
         "type": "scatter",
         "x": [
          2875.62157796489,
          2028.3479499258067,
          700.5326938027852,
          3300.1968564263498,
          1150.4456794333178,
          3936.7386646811683,
          804.8699390289312,
          1647.0906439737853,
          1729.4684590426607,
          1126.2962765072896,
          3443.4004123294235,
          503.8906630204192,
          634.6742707984018
         ],
         "xaxis": "x",
         "y": [
          -0.8588029401170943,
          -0.6822342076502275,
          0.42626849004393585,
          -1.8707439139395778,
          0.12470082008681709,
          -0.6311333759680077,
          -0.2973926541433428,
          -0.7998456559817766,
          1.5443187060379011,
          0.47558294557158204,
          -1.565511606950026,
          -0.04565688603403787,
          -0.28603193269471067
         ],
         "yaxis": "y"
        },
        {
         "alignmentgroup": "True",
         "bingroup": "y",
         "hovertemplate": "sub_region=Northern America<br>standardized_residuals=%{y}<br>count=%{x}<extra></extra>",
         "legendgroup": "Northern America",
         "marker": {
          "color": "#00cc96"
         },
         "name": "Northern America",
         "offsetgroup": "Northern America",
         "opacity": 0.5,
         "showlegend": false,
         "type": "histogram",
         "xaxis": "x2",
         "y": [
          -0.8588029401170943,
          -0.6822342076502275,
          0.42626849004393585,
          -1.8707439139395778,
          0.12470082008681709,
          -0.6311333759680077,
          -0.2973926541433428,
          -0.7998456559817766,
          1.5443187060379011,
          0.47558294557158204,
          -1.565511606950026,
          -0.04565688603403787,
          -0.28603193269471067
         ],
         "yaxis": "y2"
        },
        {
         "hovertemplate": "sub_region=Southern Europe<br>prediction_label=%{x}<br>standardized_residuals=%{y}<extra></extra>",
         "legendgroup": "Southern Europe",
         "marker": {
          "color": "#ab63fa",
          "symbol": "circle"
         },
         "mode": "markers",
         "name": "Southern Europe",
         "orientation": "v",
         "showlegend": true,
         "type": "scatter",
         "x": [
          171.20393611151448,
          878.0823793757291,
          394.76053349607633,
          984.2640975464672,
          1116.1876820912864,
          582.8897020782424,
          1862.087586936944,
          1320.1042750533047,
          664.9404845450789,
          976.6851882542585,
          715.2032772261257,
          1554.6057241736344,
          532.1473843670333
         ],
         "xaxis": "x",
         "y": [
          0.2100506872764481,
          -0.3558899918390542,
          -0.3212738569186042,
          0.5169902242780707,
          0.037509932738721,
          -0.086283732286841,
          -0.5121593960522319,
          -0.4392574048988114,
          0.42896359947524604,
          -0.3597341167338534,
          0.6096543264361073,
          0.4193823108400307,
          -0.1120540658882922
         ],
         "yaxis": "y"
        },
        {
         "alignmentgroup": "True",
         "bingroup": "y",
         "hovertemplate": "sub_region=Southern Europe<br>standardized_residuals=%{y}<br>count=%{x}<extra></extra>",
         "legendgroup": "Southern Europe",
         "marker": {
          "color": "#ab63fa"
         },
         "name": "Southern Europe",
         "offsetgroup": "Southern Europe",
         "opacity": 0.5,
         "showlegend": false,
         "type": "histogram",
         "xaxis": "x2",
         "y": [
          0.2100506872764481,
          -0.3558899918390542,
          -0.3212738569186042,
          0.5169902242780707,
          0.037509932738721,
          -0.086283732286841,
          -0.5121593960522319,
          -0.4392574048988114,
          0.42896359947524604,
          -0.3597341167338534,
          0.6096543264361073,
          0.4193823108400307,
          -0.1120540658882922
         ],
         "yaxis": "y2"
        },
        {
         "hovertemplate": "sub_region=Eastern Europe<br>prediction_label=%{x}<br>standardized_residuals=%{y}<extra></extra>",
         "legendgroup": "Eastern Europe",
         "marker": {
          "color": "#FFA15A",
          "symbol": "circle"
         },
         "mode": "markers",
         "name": "Eastern Europe",
         "orientation": "v",
         "showlegend": true,
         "type": "scatter",
         "x": [
          2853.4256194126706,
          762.6010185194134
         ],
         "xaxis": "x",
         "y": [
          0.6253090408592545,
          -0.08597600135012319
         ],
         "yaxis": "y"
        },
        {
         "alignmentgroup": "True",
         "bingroup": "y",
         "hovertemplate": "sub_region=Eastern Europe<br>standardized_residuals=%{y}<br>count=%{x}<extra></extra>",
         "legendgroup": "Eastern Europe",
         "marker": {
          "color": "#FFA15A"
         },
         "name": "Eastern Europe",
         "offsetgroup": "Eastern Europe",
         "opacity": 0.5,
         "showlegend": false,
         "type": "histogram",
         "xaxis": "x2",
         "y": [
          0.6253090408592545,
          -0.08597600135012319
         ],
         "yaxis": "y2"
        },
        {
         "hovertemplate": "sub_region=Southern Asia<br>prediction_label=%{x}<br>standardized_residuals=%{y}<extra></extra>",
         "legendgroup": "Southern Asia",
         "marker": {
          "color": "#19d3f3",
          "symbol": "circle"
         },
         "mode": "markers",
         "name": "Southern Asia",
         "orientation": "v",
         "showlegend": true,
         "type": "scatter",
         "x": [
          5200.160311920525,
          4977.762368403965,
          6559.918489890212,
          5412.035957789047,
          4560.776430121206,
          3778.8627855899967,
          2253.7202673768816
         ],
         "xaxis": "x",
         "y": [
          -3.624475875497612,
          -0.11932583774958516,
          1.2911709621157927,
          -0.0845126137927295,
          -1.2515903264722923,
          -0.6304545172337244,
          0.957078360001268
         ],
         "yaxis": "y"
        },
        {
         "alignmentgroup": "True",
         "bingroup": "y",
         "hovertemplate": "sub_region=Southern Asia<br>standardized_residuals=%{y}<br>count=%{x}<extra></extra>",
         "legendgroup": "Southern Asia",
         "marker": {
          "color": "#19d3f3"
         },
         "name": "Southern Asia",
         "offsetgroup": "Southern Asia",
         "opacity": 0.5,
         "showlegend": false,
         "type": "histogram",
         "xaxis": "x2",
         "y": [
          -3.624475875497612,
          -0.11932583774958516,
          1.2911709621157927,
          -0.0845126137927295,
          -1.2515903264722923,
          -0.6304545172337244,
          0.957078360001268
         ],
         "yaxis": "y2"
        },
        {
         "hovertemplate": "sub_region=Western Asia<br>prediction_label=%{x}<br>standardized_residuals=%{y}<extra></extra>",
         "legendgroup": "Western Asia",
         "marker": {
          "color": "#FF6692",
          "symbol": "circle"
         },
         "mode": "markers",
         "name": "Western Asia",
         "orientation": "v",
         "showlegend": true,
         "type": "scatter",
         "x": [
          3592.456336520528,
          1803.9236968987036
         ],
         "xaxis": "x",
         "y": [
          2.821048060256218,
          0.14971062678807173
         ],
         "yaxis": "y"
        },
        {
         "alignmentgroup": "True",
         "bingroup": "y",
         "hovertemplate": "sub_region=Western Asia<br>standardized_residuals=%{y}<br>count=%{x}<extra></extra>",
         "legendgroup": "Western Asia",
         "marker": {
          "color": "#FF6692"
         },
         "name": "Western Asia",
         "offsetgroup": "Western Asia",
         "opacity": 0.5,
         "showlegend": false,
         "type": "histogram",
         "xaxis": "x2",
         "y": [
          2.821048060256218,
          0.14971062678807173
         ],
         "yaxis": "y2"
        },
        {
         "hovertemplate": "sub_region=Latin America and the Caribbean<br>prediction_label=%{x}<br>standardized_residuals=%{y}<extra></extra>",
         "legendgroup": "Latin America and the Caribbean",
         "marker": {
          "color": "#B6E880",
          "symbol": "circle"
         },
         "mode": "markers",
         "name": "Latin America and the Caribbean",
         "orientation": "v",
         "showlegend": true,
         "type": "scatter",
         "x": [
          4878.815738993745,
          4332.188771502049
         ],
         "xaxis": "x",
         "y": [
          1.030357001996143,
          1.2616215643968538
         ],
         "yaxis": "y"
        },
        {
         "alignmentgroup": "True",
         "bingroup": "y",
         "hovertemplate": "sub_region=Latin America and the Caribbean<br>standardized_residuals=%{y}<br>count=%{x}<extra></extra>",
         "legendgroup": "Latin America and the Caribbean",
         "marker": {
          "color": "#B6E880"
         },
         "name": "Latin America and the Caribbean",
         "offsetgroup": "Latin America and the Caribbean",
         "opacity": 0.5,
         "showlegend": false,
         "type": "histogram",
         "xaxis": "x2",
         "y": [
          1.030357001996143,
          1.2616215643968538
         ],
         "yaxis": "y2"
        },
        {
         "hovertemplate": "sub_region=Northern Europe<br>prediction_label=%{x}<br>standardized_residuals=%{y}<extra></extra>",
         "legendgroup": "Northern Europe",
         "marker": {
          "color": "#FF97FF",
          "symbol": "circle"
         },
         "mode": "markers",
         "name": "Northern Europe",
         "orientation": "v",
         "showlegend": true,
         "type": "scatter",
         "x": [
          640.3527219336985
         ],
         "xaxis": "x",
         "y": [
          -0.0021914792895672323
         ],
         "yaxis": "y"
        },
        {
         "alignmentgroup": "True",
         "bingroup": "y",
         "hovertemplate": "sub_region=Northern Europe<br>standardized_residuals=%{y}<br>count=%{x}<extra></extra>",
         "legendgroup": "Northern Europe",
         "marker": {
          "color": "#FF97FF"
         },
         "name": "Northern Europe",
         "offsetgroup": "Northern Europe",
         "opacity": 0.5,
         "showlegend": false,
         "type": "histogram",
         "xaxis": "x2",
         "y": [
          -0.0021914792895672323
         ],
         "yaxis": "y2"
        },
        {
         "hovertemplate": "sub_region=South-eastern Asia<br>prediction_label=%{x}<br>standardized_residuals=%{y}<extra></extra>",
         "legendgroup": "South-eastern Asia",
         "marker": {
          "color": "#FECB52",
          "symbol": "circle"
         },
         "mode": "markers",
         "name": "South-eastern Asia",
         "orientation": "v",
         "showlegend": true,
         "type": "scatter",
         "x": [
          5322.078200315827,
          2646.132976796051
         ],
         "xaxis": "x",
         "y": [
          -1.5133569933034403,
          -0.4677685203660196
         ],
         "yaxis": "y"
        },
        {
         "alignmentgroup": "True",
         "bingroup": "y",
         "hovertemplate": "sub_region=South-eastern Asia<br>standardized_residuals=%{y}<br>count=%{x}<extra></extra>",
         "legendgroup": "South-eastern Asia",
         "marker": {
          "color": "#FECB52"
         },
         "name": "South-eastern Asia",
         "offsetgroup": "South-eastern Asia",
         "opacity": 0.5,
         "showlegend": false,
         "type": "histogram",
         "xaxis": "x2",
         "y": [
          -1.5133569933034403,
          -0.4677685203660196
         ],
         "yaxis": "y2"
        },
        {
         "hovertemplate": "sub_region=Caribbean<br>prediction_label=%{x}<br>standardized_residuals=%{y}<extra></extra>",
         "legendgroup": "Caribbean",
         "marker": {
          "color": "#636efa",
          "symbol": "circle"
         },
         "mode": "markers",
         "name": "Caribbean",
         "orientation": "v",
         "showlegend": true,
         "type": "scatter",
         "x": [
          2460.514404812042
         ],
         "xaxis": "x",
         "y": [
          -0.3098079460148733
         ],
         "yaxis": "y"
        },
        {
         "alignmentgroup": "True",
         "bingroup": "y",
         "hovertemplate": "sub_region=Caribbean<br>standardized_residuals=%{y}<br>count=%{x}<extra></extra>",
         "legendgroup": "Caribbean",
         "marker": {
          "color": "#636efa"
         },
         "name": "Caribbean",
         "offsetgroup": "Caribbean",
         "opacity": 0.5,
         "showlegend": false,
         "type": "histogram",
         "xaxis": "x2",
         "y": [
          -0.3098079460148733
         ],
         "yaxis": "y2"
        }
       ],
       "layout": {
        "barmode": "overlay",
        "legend": {
         "title": {
          "text": "sub_region"
         },
         "tracegroupgap": 0
        },
        "template": {
         "data": {
          "bar": [
           {
            "error_x": {
             "color": "#2a3f5f"
            },
            "error_y": {
             "color": "#2a3f5f"
            },
            "marker": {
             "line": {
              "color": "#E5ECF6",
              "width": 0.5
             },
             "pattern": {
              "fillmode": "overlay",
              "size": 10,
              "solidity": 0.2
             }
            },
            "type": "bar"
           }
          ],
          "barpolar": [
           {
            "marker": {
             "line": {
              "color": "#E5ECF6",
              "width": 0.5
             },
             "pattern": {
              "fillmode": "overlay",
              "size": 10,
              "solidity": 0.2
             }
            },
            "type": "barpolar"
           }
          ],
          "carpet": [
           {
            "aaxis": {
             "endlinecolor": "#2a3f5f",
             "gridcolor": "white",
             "linecolor": "white",
             "minorgridcolor": "white",
             "startlinecolor": "#2a3f5f"
            },
            "baxis": {
             "endlinecolor": "#2a3f5f",
             "gridcolor": "white",
             "linecolor": "white",
             "minorgridcolor": "white",
             "startlinecolor": "#2a3f5f"
            },
            "type": "carpet"
           }
          ],
          "choropleth": [
           {
            "colorbar": {
             "outlinewidth": 0,
             "ticks": ""
            },
            "type": "choropleth"
           }
          ],
          "contour": [
           {
            "colorbar": {
             "outlinewidth": 0,
             "ticks": ""
            },
            "colorscale": [
             [
              0,
              "#0d0887"
             ],
             [
              0.1111111111111111,
              "#46039f"
             ],
             [
              0.2222222222222222,
              "#7201a8"
             ],
             [
              0.3333333333333333,
              "#9c179e"
             ],
             [
              0.4444444444444444,
              "#bd3786"
             ],
             [
              0.5555555555555556,
              "#d8576b"
             ],
             [
              0.6666666666666666,
              "#ed7953"
             ],
             [
              0.7777777777777778,
              "#fb9f3a"
             ],
             [
              0.8888888888888888,
              "#fdca26"
             ],
             [
              1,
              "#f0f921"
             ]
            ],
            "type": "contour"
           }
          ],
          "contourcarpet": [
           {
            "colorbar": {
             "outlinewidth": 0,
             "ticks": ""
            },
            "type": "contourcarpet"
           }
          ],
          "heatmap": [
           {
            "colorbar": {
             "outlinewidth": 0,
             "ticks": ""
            },
            "colorscale": [
             [
              0,
              "#0d0887"
             ],
             [
              0.1111111111111111,
              "#46039f"
             ],
             [
              0.2222222222222222,
              "#7201a8"
             ],
             [
              0.3333333333333333,
              "#9c179e"
             ],
             [
              0.4444444444444444,
              "#bd3786"
             ],
             [
              0.5555555555555556,
              "#d8576b"
             ],
             [
              0.6666666666666666,
              "#ed7953"
             ],
             [
              0.7777777777777778,
              "#fb9f3a"
             ],
             [
              0.8888888888888888,
              "#fdca26"
             ],
             [
              1,
              "#f0f921"
             ]
            ],
            "type": "heatmap"
           }
          ],
          "heatmapgl": [
           {
            "colorbar": {
             "outlinewidth": 0,
             "ticks": ""
            },
            "colorscale": [
             [
              0,
              "#0d0887"
             ],
             [
              0.1111111111111111,
              "#46039f"
             ],
             [
              0.2222222222222222,
              "#7201a8"
             ],
             [
              0.3333333333333333,
              "#9c179e"
             ],
             [
              0.4444444444444444,
              "#bd3786"
             ],
             [
              0.5555555555555556,
              "#d8576b"
             ],
             [
              0.6666666666666666,
              "#ed7953"
             ],
             [
              0.7777777777777778,
              "#fb9f3a"
             ],
             [
              0.8888888888888888,
              "#fdca26"
             ],
             [
              1,
              "#f0f921"
             ]
            ],
            "type": "heatmapgl"
           }
          ],
          "histogram": [
           {
            "marker": {
             "pattern": {
              "fillmode": "overlay",
              "size": 10,
              "solidity": 0.2
             }
            },
            "type": "histogram"
           }
          ],
          "histogram2d": [
           {
            "colorbar": {
             "outlinewidth": 0,
             "ticks": ""
            },
            "colorscale": [
             [
              0,
              "#0d0887"
             ],
             [
              0.1111111111111111,
              "#46039f"
             ],
             [
              0.2222222222222222,
              "#7201a8"
             ],
             [
              0.3333333333333333,
              "#9c179e"
             ],
             [
              0.4444444444444444,
              "#bd3786"
             ],
             [
              0.5555555555555556,
              "#d8576b"
             ],
             [
              0.6666666666666666,
              "#ed7953"
             ],
             [
              0.7777777777777778,
              "#fb9f3a"
             ],
             [
              0.8888888888888888,
              "#fdca26"
             ],
             [
              1,
              "#f0f921"
             ]
            ],
            "type": "histogram2d"
           }
          ],
          "histogram2dcontour": [
           {
            "colorbar": {
             "outlinewidth": 0,
             "ticks": ""
            },
            "colorscale": [
             [
              0,
              "#0d0887"
             ],
             [
              0.1111111111111111,
              "#46039f"
             ],
             [
              0.2222222222222222,
              "#7201a8"
             ],
             [
              0.3333333333333333,
              "#9c179e"
             ],
             [
              0.4444444444444444,
              "#bd3786"
             ],
             [
              0.5555555555555556,
              "#d8576b"
             ],
             [
              0.6666666666666666,
              "#ed7953"
             ],
             [
              0.7777777777777778,
              "#fb9f3a"
             ],
             [
              0.8888888888888888,
              "#fdca26"
             ],
             [
              1,
              "#f0f921"
             ]
            ],
            "type": "histogram2dcontour"
           }
          ],
          "mesh3d": [
           {
            "colorbar": {
             "outlinewidth": 0,
             "ticks": ""
            },
            "type": "mesh3d"
           }
          ],
          "parcoords": [
           {
            "line": {
             "colorbar": {
              "outlinewidth": 0,
              "ticks": ""
             }
            },
            "type": "parcoords"
           }
          ],
          "pie": [
           {
            "automargin": true,
            "type": "pie"
           }
          ],
          "scatter": [
           {
            "fillpattern": {
             "fillmode": "overlay",
             "size": 10,
             "solidity": 0.2
            },
            "type": "scatter"
           }
          ],
          "scatter3d": [
           {
            "line": {
             "colorbar": {
              "outlinewidth": 0,
              "ticks": ""
             }
            },
            "marker": {
             "colorbar": {
              "outlinewidth": 0,
              "ticks": ""
             }
            },
            "type": "scatter3d"
           }
          ],
          "scattercarpet": [
           {
            "marker": {
             "colorbar": {
              "outlinewidth": 0,
              "ticks": ""
             }
            },
            "type": "scattercarpet"
           }
          ],
          "scattergeo": [
           {
            "marker": {
             "colorbar": {
              "outlinewidth": 0,
              "ticks": ""
             }
            },
            "type": "scattergeo"
           }
          ],
          "scattergl": [
           {
            "marker": {
             "colorbar": {
              "outlinewidth": 0,
              "ticks": ""
             }
            },
            "type": "scattergl"
           }
          ],
          "scattermapbox": [
           {
            "marker": {
             "colorbar": {
              "outlinewidth": 0,
              "ticks": ""
             }
            },
            "type": "scattermapbox"
           }
          ],
          "scatterpolar": [
           {
            "marker": {
             "colorbar": {
              "outlinewidth": 0,
              "ticks": ""
             }
            },
            "type": "scatterpolar"
           }
          ],
          "scatterpolargl": [
           {
            "marker": {
             "colorbar": {
              "outlinewidth": 0,
              "ticks": ""
             }
            },
            "type": "scatterpolargl"
           }
          ],
          "scatterternary": [
           {
            "marker": {
             "colorbar": {
              "outlinewidth": 0,
              "ticks": ""
             }
            },
            "type": "scatterternary"
           }
          ],
          "surface": [
           {
            "colorbar": {
             "outlinewidth": 0,
             "ticks": ""
            },
            "colorscale": [
             [
              0,
              "#0d0887"
             ],
             [
              0.1111111111111111,
              "#46039f"
             ],
             [
              0.2222222222222222,
              "#7201a8"
             ],
             [
              0.3333333333333333,
              "#9c179e"
             ],
             [
              0.4444444444444444,
              "#bd3786"
             ],
             [
              0.5555555555555556,
              "#d8576b"
             ],
             [
              0.6666666666666666,
              "#ed7953"
             ],
             [
              0.7777777777777778,
              "#fb9f3a"
             ],
             [
              0.8888888888888888,
              "#fdca26"
             ],
             [
              1,
              "#f0f921"
             ]
            ],
            "type": "surface"
           }
          ],
          "table": [
           {
            "cells": {
             "fill": {
              "color": "#EBF0F8"
             },
             "line": {
              "color": "white"
             }
            },
            "header": {
             "fill": {
              "color": "#C8D4E3"
             },
             "line": {
              "color": "white"
             }
            },
            "type": "table"
           }
          ]
         },
         "layout": {
          "annotationdefaults": {
           "arrowcolor": "#2a3f5f",
           "arrowhead": 0,
           "arrowwidth": 1
          },
          "autotypenumbers": "strict",
          "coloraxis": {
           "colorbar": {
            "outlinewidth": 0,
            "ticks": ""
           }
          },
          "colorscale": {
           "diverging": [
            [
             0,
             "#8e0152"
            ],
            [
             0.1,
             "#c51b7d"
            ],
            [
             0.2,
             "#de77ae"
            ],
            [
             0.3,
             "#f1b6da"
            ],
            [
             0.4,
             "#fde0ef"
            ],
            [
             0.5,
             "#f7f7f7"
            ],
            [
             0.6,
             "#e6f5d0"
            ],
            [
             0.7,
             "#b8e186"
            ],
            [
             0.8,
             "#7fbc41"
            ],
            [
             0.9,
             "#4d9221"
            ],
            [
             1,
             "#276419"
            ]
           ],
           "sequential": [
            [
             0,
             "#0d0887"
            ],
            [
             0.1111111111111111,
             "#46039f"
            ],
            [
             0.2222222222222222,
             "#7201a8"
            ],
            [
             0.3333333333333333,
             "#9c179e"
            ],
            [
             0.4444444444444444,
             "#bd3786"
            ],
            [
             0.5555555555555556,
             "#d8576b"
            ],
            [
             0.6666666666666666,
             "#ed7953"
            ],
            [
             0.7777777777777778,
             "#fb9f3a"
            ],
            [
             0.8888888888888888,
             "#fdca26"
            ],
            [
             1,
             "#f0f921"
            ]
           ],
           "sequentialminus": [
            [
             0,
             "#0d0887"
            ],
            [
             0.1111111111111111,
             "#46039f"
            ],
            [
             0.2222222222222222,
             "#7201a8"
            ],
            [
             0.3333333333333333,
             "#9c179e"
            ],
            [
             0.4444444444444444,
             "#bd3786"
            ],
            [
             0.5555555555555556,
             "#d8576b"
            ],
            [
             0.6666666666666666,
             "#ed7953"
            ],
            [
             0.7777777777777778,
             "#fb9f3a"
            ],
            [
             0.8888888888888888,
             "#fdca26"
            ],
            [
             1,
             "#f0f921"
            ]
           ]
          },
          "colorway": [
           "#636efa",
           "#EF553B",
           "#00cc96",
           "#ab63fa",
           "#FFA15A",
           "#19d3f3",
           "#FF6692",
           "#B6E880",
           "#FF97FF",
           "#FECB52"
          ],
          "font": {
           "color": "#2a3f5f"
          },
          "geo": {
           "bgcolor": "white",
           "lakecolor": "white",
           "landcolor": "#E5ECF6",
           "showlakes": true,
           "showland": true,
           "subunitcolor": "white"
          },
          "hoverlabel": {
           "align": "left"
          },
          "hovermode": "closest",
          "mapbox": {
           "style": "light"
          },
          "paper_bgcolor": "white",
          "plot_bgcolor": "#E5ECF6",
          "polar": {
           "angularaxis": {
            "gridcolor": "white",
            "linecolor": "white",
            "ticks": ""
           },
           "bgcolor": "#E5ECF6",
           "radialaxis": {
            "gridcolor": "white",
            "linecolor": "white",
            "ticks": ""
           }
          },
          "scene": {
           "xaxis": {
            "backgroundcolor": "#E5ECF6",
            "gridcolor": "white",
            "gridwidth": 2,
            "linecolor": "white",
            "showbackground": true,
            "ticks": "",
            "zerolinecolor": "white"
           },
           "yaxis": {
            "backgroundcolor": "#E5ECF6",
            "gridcolor": "white",
            "gridwidth": 2,
            "linecolor": "white",
            "showbackground": true,
            "ticks": "",
            "zerolinecolor": "white"
           },
           "zaxis": {
            "backgroundcolor": "#E5ECF6",
            "gridcolor": "white",
            "gridwidth": 2,
            "linecolor": "white",
            "showbackground": true,
            "ticks": "",
            "zerolinecolor": "white"
           }
          },
          "shapedefaults": {
           "line": {
            "color": "#2a3f5f"
           }
          },
          "ternary": {
           "aaxis": {
            "gridcolor": "white",
            "linecolor": "white",
            "ticks": ""
           },
           "baxis": {
            "gridcolor": "white",
            "linecolor": "white",
            "ticks": ""
           },
           "bgcolor": "#E5ECF6",
           "caxis": {
            "gridcolor": "white",
            "linecolor": "white",
            "ticks": ""
           }
          },
          "title": {
           "x": 0.05
          },
          "xaxis": {
           "automargin": true,
           "gridcolor": "white",
           "linecolor": "white",
           "ticks": "",
           "title": {
            "standoff": 15
           },
           "zerolinecolor": "white",
           "zerolinewidth": 2
          },
          "yaxis": {
           "automargin": true,
           "gridcolor": "white",
           "linecolor": "white",
           "ticks": "",
           "title": {
            "standoff": 15
           },
           "zerolinecolor": "white",
           "zerolinewidth": 2
          }
         }
        },
        "title": {
         "text": "Residuals vs. Predictions"
        },
        "xaxis": {
         "anchor": "y",
         "domain": [
          0,
          0.7363
         ],
         "title": {
          "text": "prediction_label"
         }
        },
        "xaxis2": {
         "anchor": "y2",
         "domain": [
          0.7413,
          1
         ],
         "matches": "x2",
         "showgrid": true,
         "showline": false,
         "showticklabels": false,
         "ticks": ""
        },
        "yaxis": {
         "anchor": "x",
         "domain": [
          0,
          1
         ],
         "title": {
          "text": "standardized_residuals"
         }
        },
        "yaxis2": {
         "anchor": "x2",
         "domain": [
          0,
          1
         ],
         "matches": "y",
         "showgrid": true,
         "showticklabels": false
        }
       }
      },
      "text/html": [
       "<div>                            <div id=\"f35e70cf-9abc-4e4a-aa48-1d035be48e9e\" class=\"plotly-graph-div\" style=\"height:525px; width:100%;\"></div>            <script type=\"text/javascript\">                require([\"plotly\"], function(Plotly) {                    window.PLOTLYENV=window.PLOTLYENV || {};                                    if (document.getElementById(\"f35e70cf-9abc-4e4a-aa48-1d035be48e9e\")) {                    Plotly.newPlot(                        \"f35e70cf-9abc-4e4a-aa48-1d035be48e9e\",                        [{\"hovertemplate\":\"sub_region=Eastern Asia\\u003cbr\\u003eprediction_label=%{x}\\u003cbr\\u003estandardized_residuals=%{y}\\u003cextra\\u003e\\u003c\\u002fextra\\u003e\",\"legendgroup\":\"Eastern Asia\",\"marker\":{\"color\":\"#636efa\",\"symbol\":\"circle\"},\"mode\":\"markers\",\"name\":\"Eastern Asia\",\"orientation\":\"v\",\"showlegend\":true,\"x\":[2482.2830619851647,7388.191081478686,6015.905058725337,1979.8741327477676,7018.001880013335,1175.4621444715053,2065.5264444368977,6096.061341346256,1777.680275181996,5390.231244962277,3269.2239719739205,2883.045672049242,2617.6308900204303,3827.3346397808227,4497.431076919598,4621.785794159872,2833.842569478166,6249.355140865052,6575.606697532389,3783.286190978206,2059.0657472790886,3591.557919963636,4756.547567218728,1259.63620965284,1497.44530293582,5033.4700447392715,4063.496632012134,800.8266785965299,1206.005974067906,403.8518513271085,4727.133691387877,5239.506680858225,2937.147807883118,729.2844225315079,5157.891228822714,4096.513169856095,4130.109054034413,5508.517268110251,6266.66267195388,4735.160796029647,5075.590377240866,3245.441846585387,8225.311173120004,4772.229942085345,8080.041705695493,2206.9142333347086,2851.5994560018294,3466.6999640313206,1155.9696154675917,4119.2780843216315,5051.826809094985,3613.4996287091535,3995.6082745332874,4746.447002246328,1871.9740795071232,8121.26859364456,5165.424775506104,6543.022487160274,1506.0835948690806,912.0220179828044,1821.769329785138,4982.733554160343,4760.94273679638,1033.8314999332886,3782.420935586888,6134.28040109483,2438.451423316484,2728.4460264774402,4831.237128382562,4192.7491018395085,9407.88658883917,1096.213204361878,2349.647985331764,1094.8046973180349,4838.85554786599,3942.64078079325,855.5148044528878,2441.015934363943,633.4760371881277,826.9656578744535,5247.724785682591,3368.115991814009,3464.497649052262,5246.711508076494,5288.02999221273,7656.605519056892,9928.47262034947,3483.034575782369,4843.502588466406],\"xaxis\":\"x\",\"y\":[0.014028087298280766,-1.9950746900231588,-0.05067649923082095,-0.5580479893627763,0.2620562952540037,-0.4434000396230318,0.026390211614531558,0.7850884529625389,-0.33447927336436195,0.04622291072391367,-1.1213501486932056,0.10666344217149838,-1.469772037018853,0.39986703833253023,-0.5111586185456134,-0.22318733272767227,0.6335687979602838,1.860757586277299,-0.24763008718674223,0.16825323274891632,-1.4339249025539826,-0.49446767701343464,-0.08883789107793623,0.16960528365615987,0.8735577682483987,-0.8819174238887308,0.34806249794258975,-0.4170763395137472,0.3309321671722339,0.20450543722886894,-1.0429488982103725,0.6352850948414683,0.956055327821501,0.43616273245342163,-1.1373830132538019,-0.4639222570610397,0.0900372882466522,2.223551244927288,-0.32351277799688494,0.5128626598014283,-0.45516734807517173,0.5791059397330451,2.525936893741019,-0.7779516181784696,1.2141309998405798,-0.12835878582128354,-1.072204041376626,-1.622592922556234,0.12915529113968346,-0.8828793792790322,2.6441079681676043,-1.7153408634061753,0.3183323351502226,0.3123957965374435,0.3484255128647243,2.6682013369031785,-2.1761483133405273,0.7792757560369203,2.2544184530437175,0.34654680856831116,0.020635445449354983,0.42082593826674836,-0.22797645408008585,-0.4131923609065068,-0.3821005987967942,-0.9589569442257169,-1.2447456917901651,0.025783390861831512,-0.4673730813530482,-3.588780778256201,0.21616317670750504,-0.5078756412774245,1.0123208814081543,0.3874767732676011,1.5813853182927673,0.28180402459454507,-0.17668991529924005,-0.2291074298422446,-0.4244788112013045,-0.4469979629643646,0.8535429803280707,-0.6942662361459122,-0.5463954691743691,1.1314434430869147,-0.28951598575047827,3.167050663279737,0.8415233393727912,-0.1496556369741054,1.0741210025863626],\"yaxis\":\"y\",\"type\":\"scatter\"},{\"alignmentgroup\":\"True\",\"bingroup\":\"y\",\"hovertemplate\":\"sub_region=Eastern Asia\\u003cbr\\u003estandardized_residuals=%{y}\\u003cbr\\u003ecount=%{x}\\u003cextra\\u003e\\u003c\\u002fextra\\u003e\",\"legendgroup\":\"Eastern Asia\",\"marker\":{\"color\":\"#636efa\"},\"name\":\"Eastern Asia\",\"offsetgroup\":\"Eastern Asia\",\"opacity\":0.5,\"showlegend\":false,\"xaxis\":\"x2\",\"y\":[0.014028087298280766,-1.9950746900231588,-0.05067649923082095,-0.5580479893627763,0.2620562952540037,-0.4434000396230318,0.026390211614531558,0.7850884529625389,-0.33447927336436195,0.04622291072391367,-1.1213501486932056,0.10666344217149838,-1.469772037018853,0.39986703833253023,-0.5111586185456134,-0.22318733272767227,0.6335687979602838,1.860757586277299,-0.24763008718674223,0.16825323274891632,-1.4339249025539826,-0.49446767701343464,-0.08883789107793623,0.16960528365615987,0.8735577682483987,-0.8819174238887308,0.34806249794258975,-0.4170763395137472,0.3309321671722339,0.20450543722886894,-1.0429488982103725,0.6352850948414683,0.956055327821501,0.43616273245342163,-1.1373830132538019,-0.4639222570610397,0.0900372882466522,2.223551244927288,-0.32351277799688494,0.5128626598014283,-0.45516734807517173,0.5791059397330451,2.525936893741019,-0.7779516181784696,1.2141309998405798,-0.12835878582128354,-1.072204041376626,-1.622592922556234,0.12915529113968346,-0.8828793792790322,2.6441079681676043,-1.7153408634061753,0.3183323351502226,0.3123957965374435,0.3484255128647243,2.6682013369031785,-2.1761483133405273,0.7792757560369203,2.2544184530437175,0.34654680856831116,0.020635445449354983,0.42082593826674836,-0.22797645408008585,-0.4131923609065068,-0.3821005987967942,-0.9589569442257169,-1.2447456917901651,0.025783390861831512,-0.4673730813530482,-3.588780778256201,0.21616317670750504,-0.5078756412774245,1.0123208814081543,0.3874767732676011,1.5813853182927673,0.28180402459454507,-0.17668991529924005,-0.2291074298422446,-0.4244788112013045,-0.4469979629643646,0.8535429803280707,-0.6942662361459122,-0.5463954691743691,1.1314434430869147,-0.28951598575047827,3.167050663279737,0.8415233393727912,-0.1496556369741054,1.0741210025863626],\"yaxis\":\"y2\",\"type\":\"histogram\"},{\"hovertemplate\":\"sub_region=Western Europe\\u003cbr\\u003eprediction_label=%{x}\\u003cbr\\u003estandardized_residuals=%{y}\\u003cextra\\u003e\\u003c\\u002fextra\\u003e\",\"legendgroup\":\"Western Europe\",\"marker\":{\"color\":\"#EF553B\",\"symbol\":\"circle\"},\"mode\":\"markers\",\"name\":\"Western Europe\",\"orientation\":\"v\",\"showlegend\":true,\"x\":[676.6590762651746,792.7002029344275,2514.367235917442,445.19341896513436,581.7343128001517,230.93785487866887,4123.73976408086,1734.0926190959135,406.4617395659054,612.4712222781559,529.6190442228699,458.3884109781797,508.0758668716307,335.1372092400104,891.3924149678916,1001.9028521501931,117.11687950893491,402.3848364241312,479.30626009987,566.4610231941356,846.1677060307894],\"xaxis\":\"x\",\"y\":[-0.07611109239204475,0.5062924732987178,-0.6195810231294583,-0.22888147193424005,0.9053497589900966,-0.16038107269227414,-0.36189120722514095,-0.8002356004307543,-0.16452984164931203,1.5918457599386329,-0.21797901393509553,-0.04028798772121911,-0.06616183484346809,0.07023878970404392,0.8430986240673864,-0.10029190154325678,-0.13006727034178475,0.07995883746690838,0.0794395024917813,-0.27510067416460504,0.0786827858140454],\"yaxis\":\"y\",\"type\":\"scatter\"},{\"alignmentgroup\":\"True\",\"bingroup\":\"y\",\"hovertemplate\":\"sub_region=Western Europe\\u003cbr\\u003estandardized_residuals=%{y}\\u003cbr\\u003ecount=%{x}\\u003cextra\\u003e\\u003c\\u002fextra\\u003e\",\"legendgroup\":\"Western Europe\",\"marker\":{\"color\":\"#EF553B\"},\"name\":\"Western Europe\",\"offsetgroup\":\"Western Europe\",\"opacity\":0.5,\"showlegend\":false,\"xaxis\":\"x2\",\"y\":[-0.07611109239204475,0.5062924732987178,-0.6195810231294583,-0.22888147193424005,0.9053497589900966,-0.16038107269227414,-0.36189120722514095,-0.8002356004307543,-0.16452984164931203,1.5918457599386329,-0.21797901393509553,-0.04028798772121911,-0.06616183484346809,0.07023878970404392,0.8430986240673864,-0.10029190154325678,-0.13006727034178475,0.07995883746690838,0.0794395024917813,-0.27510067416460504,0.0786827858140454],\"yaxis\":\"y2\",\"type\":\"histogram\"},{\"hovertemplate\":\"sub_region=Northern America\\u003cbr\\u003eprediction_label=%{x}\\u003cbr\\u003estandardized_residuals=%{y}\\u003cextra\\u003e\\u003c\\u002fextra\\u003e\",\"legendgroup\":\"Northern America\",\"marker\":{\"color\":\"#00cc96\",\"symbol\":\"circle\"},\"mode\":\"markers\",\"name\":\"Northern America\",\"orientation\":\"v\",\"showlegend\":true,\"x\":[2875.62157796489,2028.3479499258067,700.5326938027852,3300.1968564263498,1150.4456794333178,3936.7386646811683,804.8699390289312,1647.0906439737853,1729.4684590426607,1126.2962765072896,3443.4004123294235,503.8906630204192,634.6742707984018],\"xaxis\":\"x\",\"y\":[-0.8588029401170943,-0.6822342076502275,0.42626849004393585,-1.8707439139395778,0.12470082008681709,-0.6311333759680077,-0.2973926541433428,-0.7998456559817766,1.5443187060379011,0.47558294557158204,-1.565511606950026,-0.04565688603403787,-0.28603193269471067],\"yaxis\":\"y\",\"type\":\"scatter\"},{\"alignmentgroup\":\"True\",\"bingroup\":\"y\",\"hovertemplate\":\"sub_region=Northern America\\u003cbr\\u003estandardized_residuals=%{y}\\u003cbr\\u003ecount=%{x}\\u003cextra\\u003e\\u003c\\u002fextra\\u003e\",\"legendgroup\":\"Northern America\",\"marker\":{\"color\":\"#00cc96\"},\"name\":\"Northern America\",\"offsetgroup\":\"Northern America\",\"opacity\":0.5,\"showlegend\":false,\"xaxis\":\"x2\",\"y\":[-0.8588029401170943,-0.6822342076502275,0.42626849004393585,-1.8707439139395778,0.12470082008681709,-0.6311333759680077,-0.2973926541433428,-0.7998456559817766,1.5443187060379011,0.47558294557158204,-1.565511606950026,-0.04565688603403787,-0.28603193269471067],\"yaxis\":\"y2\",\"type\":\"histogram\"},{\"hovertemplate\":\"sub_region=Southern Europe\\u003cbr\\u003eprediction_label=%{x}\\u003cbr\\u003estandardized_residuals=%{y}\\u003cextra\\u003e\\u003c\\u002fextra\\u003e\",\"legendgroup\":\"Southern Europe\",\"marker\":{\"color\":\"#ab63fa\",\"symbol\":\"circle\"},\"mode\":\"markers\",\"name\":\"Southern Europe\",\"orientation\":\"v\",\"showlegend\":true,\"x\":[171.20393611151448,878.0823793757291,394.76053349607633,984.2640975464672,1116.1876820912864,582.8897020782424,1862.087586936944,1320.1042750533047,664.9404845450789,976.6851882542585,715.2032772261257,1554.6057241736344,532.1473843670333],\"xaxis\":\"x\",\"y\":[0.2100506872764481,-0.3558899918390542,-0.3212738569186042,0.5169902242780707,0.037509932738721,-0.086283732286841,-0.5121593960522319,-0.4392574048988114,0.42896359947524604,-0.3597341167338534,0.6096543264361073,0.4193823108400307,-0.1120540658882922],\"yaxis\":\"y\",\"type\":\"scatter\"},{\"alignmentgroup\":\"True\",\"bingroup\":\"y\",\"hovertemplate\":\"sub_region=Southern Europe\\u003cbr\\u003estandardized_residuals=%{y}\\u003cbr\\u003ecount=%{x}\\u003cextra\\u003e\\u003c\\u002fextra\\u003e\",\"legendgroup\":\"Southern Europe\",\"marker\":{\"color\":\"#ab63fa\"},\"name\":\"Southern Europe\",\"offsetgroup\":\"Southern Europe\",\"opacity\":0.5,\"showlegend\":false,\"xaxis\":\"x2\",\"y\":[0.2100506872764481,-0.3558899918390542,-0.3212738569186042,0.5169902242780707,0.037509932738721,-0.086283732286841,-0.5121593960522319,-0.4392574048988114,0.42896359947524604,-0.3597341167338534,0.6096543264361073,0.4193823108400307,-0.1120540658882922],\"yaxis\":\"y2\",\"type\":\"histogram\"},{\"hovertemplate\":\"sub_region=Eastern Europe\\u003cbr\\u003eprediction_label=%{x}\\u003cbr\\u003estandardized_residuals=%{y}\\u003cextra\\u003e\\u003c\\u002fextra\\u003e\",\"legendgroup\":\"Eastern Europe\",\"marker\":{\"color\":\"#FFA15A\",\"symbol\":\"circle\"},\"mode\":\"markers\",\"name\":\"Eastern Europe\",\"orientation\":\"v\",\"showlegend\":true,\"x\":[2853.4256194126706,762.6010185194134],\"xaxis\":\"x\",\"y\":[0.6253090408592545,-0.08597600135012319],\"yaxis\":\"y\",\"type\":\"scatter\"},{\"alignmentgroup\":\"True\",\"bingroup\":\"y\",\"hovertemplate\":\"sub_region=Eastern Europe\\u003cbr\\u003estandardized_residuals=%{y}\\u003cbr\\u003ecount=%{x}\\u003cextra\\u003e\\u003c\\u002fextra\\u003e\",\"legendgroup\":\"Eastern Europe\",\"marker\":{\"color\":\"#FFA15A\"},\"name\":\"Eastern Europe\",\"offsetgroup\":\"Eastern Europe\",\"opacity\":0.5,\"showlegend\":false,\"xaxis\":\"x2\",\"y\":[0.6253090408592545,-0.08597600135012319],\"yaxis\":\"y2\",\"type\":\"histogram\"},{\"hovertemplate\":\"sub_region=Southern Asia\\u003cbr\\u003eprediction_label=%{x}\\u003cbr\\u003estandardized_residuals=%{y}\\u003cextra\\u003e\\u003c\\u002fextra\\u003e\",\"legendgroup\":\"Southern Asia\",\"marker\":{\"color\":\"#19d3f3\",\"symbol\":\"circle\"},\"mode\":\"markers\",\"name\":\"Southern Asia\",\"orientation\":\"v\",\"showlegend\":true,\"x\":[5200.160311920525,4977.762368403965,6559.918489890212,5412.035957789047,4560.776430121206,3778.8627855899967,2253.7202673768816],\"xaxis\":\"x\",\"y\":[-3.624475875497612,-0.11932583774958516,1.2911709621157927,-0.0845126137927295,-1.2515903264722923,-0.6304545172337244,0.957078360001268],\"yaxis\":\"y\",\"type\":\"scatter\"},{\"alignmentgroup\":\"True\",\"bingroup\":\"y\",\"hovertemplate\":\"sub_region=Southern Asia\\u003cbr\\u003estandardized_residuals=%{y}\\u003cbr\\u003ecount=%{x}\\u003cextra\\u003e\\u003c\\u002fextra\\u003e\",\"legendgroup\":\"Southern Asia\",\"marker\":{\"color\":\"#19d3f3\"},\"name\":\"Southern Asia\",\"offsetgroup\":\"Southern Asia\",\"opacity\":0.5,\"showlegend\":false,\"xaxis\":\"x2\",\"y\":[-3.624475875497612,-0.11932583774958516,1.2911709621157927,-0.0845126137927295,-1.2515903264722923,-0.6304545172337244,0.957078360001268],\"yaxis\":\"y2\",\"type\":\"histogram\"},{\"hovertemplate\":\"sub_region=Western Asia\\u003cbr\\u003eprediction_label=%{x}\\u003cbr\\u003estandardized_residuals=%{y}\\u003cextra\\u003e\\u003c\\u002fextra\\u003e\",\"legendgroup\":\"Western Asia\",\"marker\":{\"color\":\"#FF6692\",\"symbol\":\"circle\"},\"mode\":\"markers\",\"name\":\"Western Asia\",\"orientation\":\"v\",\"showlegend\":true,\"x\":[3592.456336520528,1803.9236968987036],\"xaxis\":\"x\",\"y\":[2.821048060256218,0.14971062678807173],\"yaxis\":\"y\",\"type\":\"scatter\"},{\"alignmentgroup\":\"True\",\"bingroup\":\"y\",\"hovertemplate\":\"sub_region=Western Asia\\u003cbr\\u003estandardized_residuals=%{y}\\u003cbr\\u003ecount=%{x}\\u003cextra\\u003e\\u003c\\u002fextra\\u003e\",\"legendgroup\":\"Western Asia\",\"marker\":{\"color\":\"#FF6692\"},\"name\":\"Western Asia\",\"offsetgroup\":\"Western Asia\",\"opacity\":0.5,\"showlegend\":false,\"xaxis\":\"x2\",\"y\":[2.821048060256218,0.14971062678807173],\"yaxis\":\"y2\",\"type\":\"histogram\"},{\"hovertemplate\":\"sub_region=Latin America and the Caribbean\\u003cbr\\u003eprediction_label=%{x}\\u003cbr\\u003estandardized_residuals=%{y}\\u003cextra\\u003e\\u003c\\u002fextra\\u003e\",\"legendgroup\":\"Latin America and the Caribbean\",\"marker\":{\"color\":\"#B6E880\",\"symbol\":\"circle\"},\"mode\":\"markers\",\"name\":\"Latin America and the Caribbean\",\"orientation\":\"v\",\"showlegend\":true,\"x\":[4878.815738993745,4332.188771502049],\"xaxis\":\"x\",\"y\":[1.030357001996143,1.2616215643968538],\"yaxis\":\"y\",\"type\":\"scatter\"},{\"alignmentgroup\":\"True\",\"bingroup\":\"y\",\"hovertemplate\":\"sub_region=Latin America and the Caribbean\\u003cbr\\u003estandardized_residuals=%{y}\\u003cbr\\u003ecount=%{x}\\u003cextra\\u003e\\u003c\\u002fextra\\u003e\",\"legendgroup\":\"Latin America and the Caribbean\",\"marker\":{\"color\":\"#B6E880\"},\"name\":\"Latin America and the Caribbean\",\"offsetgroup\":\"Latin America and the Caribbean\",\"opacity\":0.5,\"showlegend\":false,\"xaxis\":\"x2\",\"y\":[1.030357001996143,1.2616215643968538],\"yaxis\":\"y2\",\"type\":\"histogram\"},{\"hovertemplate\":\"sub_region=Northern Europe\\u003cbr\\u003eprediction_label=%{x}\\u003cbr\\u003estandardized_residuals=%{y}\\u003cextra\\u003e\\u003c\\u002fextra\\u003e\",\"legendgroup\":\"Northern Europe\",\"marker\":{\"color\":\"#FF97FF\",\"symbol\":\"circle\"},\"mode\":\"markers\",\"name\":\"Northern Europe\",\"orientation\":\"v\",\"showlegend\":true,\"x\":[640.3527219336985],\"xaxis\":\"x\",\"y\":[-0.0021914792895672323],\"yaxis\":\"y\",\"type\":\"scatter\"},{\"alignmentgroup\":\"True\",\"bingroup\":\"y\",\"hovertemplate\":\"sub_region=Northern Europe\\u003cbr\\u003estandardized_residuals=%{y}\\u003cbr\\u003ecount=%{x}\\u003cextra\\u003e\\u003c\\u002fextra\\u003e\",\"legendgroup\":\"Northern Europe\",\"marker\":{\"color\":\"#FF97FF\"},\"name\":\"Northern Europe\",\"offsetgroup\":\"Northern Europe\",\"opacity\":0.5,\"showlegend\":false,\"xaxis\":\"x2\",\"y\":[-0.0021914792895672323],\"yaxis\":\"y2\",\"type\":\"histogram\"},{\"hovertemplate\":\"sub_region=South-eastern Asia\\u003cbr\\u003eprediction_label=%{x}\\u003cbr\\u003estandardized_residuals=%{y}\\u003cextra\\u003e\\u003c\\u002fextra\\u003e\",\"legendgroup\":\"South-eastern Asia\",\"marker\":{\"color\":\"#FECB52\",\"symbol\":\"circle\"},\"mode\":\"markers\",\"name\":\"South-eastern Asia\",\"orientation\":\"v\",\"showlegend\":true,\"x\":[5322.078200315827,2646.132976796051],\"xaxis\":\"x\",\"y\":[-1.5133569933034403,-0.4677685203660196],\"yaxis\":\"y\",\"type\":\"scatter\"},{\"alignmentgroup\":\"True\",\"bingroup\":\"y\",\"hovertemplate\":\"sub_region=South-eastern Asia\\u003cbr\\u003estandardized_residuals=%{y}\\u003cbr\\u003ecount=%{x}\\u003cextra\\u003e\\u003c\\u002fextra\\u003e\",\"legendgroup\":\"South-eastern Asia\",\"marker\":{\"color\":\"#FECB52\"},\"name\":\"South-eastern Asia\",\"offsetgroup\":\"South-eastern Asia\",\"opacity\":0.5,\"showlegend\":false,\"xaxis\":\"x2\",\"y\":[-1.5133569933034403,-0.4677685203660196],\"yaxis\":\"y2\",\"type\":\"histogram\"},{\"hovertemplate\":\"sub_region=Caribbean\\u003cbr\\u003eprediction_label=%{x}\\u003cbr\\u003estandardized_residuals=%{y}\\u003cextra\\u003e\\u003c\\u002fextra\\u003e\",\"legendgroup\":\"Caribbean\",\"marker\":{\"color\":\"#636efa\",\"symbol\":\"circle\"},\"mode\":\"markers\",\"name\":\"Caribbean\",\"orientation\":\"v\",\"showlegend\":true,\"x\":[2460.514404812042],\"xaxis\":\"x\",\"y\":[-0.3098079460148733],\"yaxis\":\"y\",\"type\":\"scatter\"},{\"alignmentgroup\":\"True\",\"bingroup\":\"y\",\"hovertemplate\":\"sub_region=Caribbean\\u003cbr\\u003estandardized_residuals=%{y}\\u003cbr\\u003ecount=%{x}\\u003cextra\\u003e\\u003c\\u002fextra\\u003e\",\"legendgroup\":\"Caribbean\",\"marker\":{\"color\":\"#636efa\"},\"name\":\"Caribbean\",\"offsetgroup\":\"Caribbean\",\"opacity\":0.5,\"showlegend\":false,\"xaxis\":\"x2\",\"y\":[-0.3098079460148733],\"yaxis\":\"y2\",\"type\":\"histogram\"}],                        {\"template\":{\"data\":{\"histogram2dcontour\":[{\"type\":\"histogram2dcontour\",\"colorbar\":{\"outlinewidth\":0,\"ticks\":\"\"},\"colorscale\":[[0.0,\"#0d0887\"],[0.1111111111111111,\"#46039f\"],[0.2222222222222222,\"#7201a8\"],[0.3333333333333333,\"#9c179e\"],[0.4444444444444444,\"#bd3786\"],[0.5555555555555556,\"#d8576b\"],[0.6666666666666666,\"#ed7953\"],[0.7777777777777778,\"#fb9f3a\"],[0.8888888888888888,\"#fdca26\"],[1.0,\"#f0f921\"]]}],\"choropleth\":[{\"type\":\"choropleth\",\"colorbar\":{\"outlinewidth\":0,\"ticks\":\"\"}}],\"histogram2d\":[{\"type\":\"histogram2d\",\"colorbar\":{\"outlinewidth\":0,\"ticks\":\"\"},\"colorscale\":[[0.0,\"#0d0887\"],[0.1111111111111111,\"#46039f\"],[0.2222222222222222,\"#7201a8\"],[0.3333333333333333,\"#9c179e\"],[0.4444444444444444,\"#bd3786\"],[0.5555555555555556,\"#d8576b\"],[0.6666666666666666,\"#ed7953\"],[0.7777777777777778,\"#fb9f3a\"],[0.8888888888888888,\"#fdca26\"],[1.0,\"#f0f921\"]]}],\"heatmap\":[{\"type\":\"heatmap\",\"colorbar\":{\"outlinewidth\":0,\"ticks\":\"\"},\"colorscale\":[[0.0,\"#0d0887\"],[0.1111111111111111,\"#46039f\"],[0.2222222222222222,\"#7201a8\"],[0.3333333333333333,\"#9c179e\"],[0.4444444444444444,\"#bd3786\"],[0.5555555555555556,\"#d8576b\"],[0.6666666666666666,\"#ed7953\"],[0.7777777777777778,\"#fb9f3a\"],[0.8888888888888888,\"#fdca26\"],[1.0,\"#f0f921\"]]}],\"heatmapgl\":[{\"type\":\"heatmapgl\",\"colorbar\":{\"outlinewidth\":0,\"ticks\":\"\"},\"colorscale\":[[0.0,\"#0d0887\"],[0.1111111111111111,\"#46039f\"],[0.2222222222222222,\"#7201a8\"],[0.3333333333333333,\"#9c179e\"],[0.4444444444444444,\"#bd3786\"],[0.5555555555555556,\"#d8576b\"],[0.6666666666666666,\"#ed7953\"],[0.7777777777777778,\"#fb9f3a\"],[0.8888888888888888,\"#fdca26\"],[1.0,\"#f0f921\"]]}],\"contourcarpet\":[{\"type\":\"contourcarpet\",\"colorbar\":{\"outlinewidth\":0,\"ticks\":\"\"}}],\"contour\":[{\"type\":\"contour\",\"colorbar\":{\"outlinewidth\":0,\"ticks\":\"\"},\"colorscale\":[[0.0,\"#0d0887\"],[0.1111111111111111,\"#46039f\"],[0.2222222222222222,\"#7201a8\"],[0.3333333333333333,\"#9c179e\"],[0.4444444444444444,\"#bd3786\"],[0.5555555555555556,\"#d8576b\"],[0.6666666666666666,\"#ed7953\"],[0.7777777777777778,\"#fb9f3a\"],[0.8888888888888888,\"#fdca26\"],[1.0,\"#f0f921\"]]}],\"surface\":[{\"type\":\"surface\",\"colorbar\":{\"outlinewidth\":0,\"ticks\":\"\"},\"colorscale\":[[0.0,\"#0d0887\"],[0.1111111111111111,\"#46039f\"],[0.2222222222222222,\"#7201a8\"],[0.3333333333333333,\"#9c179e\"],[0.4444444444444444,\"#bd3786\"],[0.5555555555555556,\"#d8576b\"],[0.6666666666666666,\"#ed7953\"],[0.7777777777777778,\"#fb9f3a\"],[0.8888888888888888,\"#fdca26\"],[1.0,\"#f0f921\"]]}],\"mesh3d\":[{\"type\":\"mesh3d\",\"colorbar\":{\"outlinewidth\":0,\"ticks\":\"\"}}],\"scatter\":[{\"fillpattern\":{\"fillmode\":\"overlay\",\"size\":10,\"solidity\":0.2},\"type\":\"scatter\"}],\"parcoords\":[{\"type\":\"parcoords\",\"line\":{\"colorbar\":{\"outlinewidth\":0,\"ticks\":\"\"}}}],\"scatterpolargl\":[{\"type\":\"scatterpolargl\",\"marker\":{\"colorbar\":{\"outlinewidth\":0,\"ticks\":\"\"}}}],\"bar\":[{\"error_x\":{\"color\":\"#2a3f5f\"},\"error_y\":{\"color\":\"#2a3f5f\"},\"marker\":{\"line\":{\"color\":\"#E5ECF6\",\"width\":0.5},\"pattern\":{\"fillmode\":\"overlay\",\"size\":10,\"solidity\":0.2}},\"type\":\"bar\"}],\"scattergeo\":[{\"type\":\"scattergeo\",\"marker\":{\"colorbar\":{\"outlinewidth\":0,\"ticks\":\"\"}}}],\"scatterpolar\":[{\"type\":\"scatterpolar\",\"marker\":{\"colorbar\":{\"outlinewidth\":0,\"ticks\":\"\"}}}],\"histogram\":[{\"marker\":{\"pattern\":{\"fillmode\":\"overlay\",\"size\":10,\"solidity\":0.2}},\"type\":\"histogram\"}],\"scattergl\":[{\"type\":\"scattergl\",\"marker\":{\"colorbar\":{\"outlinewidth\":0,\"ticks\":\"\"}}}],\"scatter3d\":[{\"type\":\"scatter3d\",\"line\":{\"colorbar\":{\"outlinewidth\":0,\"ticks\":\"\"}},\"marker\":{\"colorbar\":{\"outlinewidth\":0,\"ticks\":\"\"}}}],\"scattermapbox\":[{\"type\":\"scattermapbox\",\"marker\":{\"colorbar\":{\"outlinewidth\":0,\"ticks\":\"\"}}}],\"scatterternary\":[{\"type\":\"scatterternary\",\"marker\":{\"colorbar\":{\"outlinewidth\":0,\"ticks\":\"\"}}}],\"scattercarpet\":[{\"type\":\"scattercarpet\",\"marker\":{\"colorbar\":{\"outlinewidth\":0,\"ticks\":\"\"}}}],\"carpet\":[{\"aaxis\":{\"endlinecolor\":\"#2a3f5f\",\"gridcolor\":\"white\",\"linecolor\":\"white\",\"minorgridcolor\":\"white\",\"startlinecolor\":\"#2a3f5f\"},\"baxis\":{\"endlinecolor\":\"#2a3f5f\",\"gridcolor\":\"white\",\"linecolor\":\"white\",\"minorgridcolor\":\"white\",\"startlinecolor\":\"#2a3f5f\"},\"type\":\"carpet\"}],\"table\":[{\"cells\":{\"fill\":{\"color\":\"#EBF0F8\"},\"line\":{\"color\":\"white\"}},\"header\":{\"fill\":{\"color\":\"#C8D4E3\"},\"line\":{\"color\":\"white\"}},\"type\":\"table\"}],\"barpolar\":[{\"marker\":{\"line\":{\"color\":\"#E5ECF6\",\"width\":0.5},\"pattern\":{\"fillmode\":\"overlay\",\"size\":10,\"solidity\":0.2}},\"type\":\"barpolar\"}],\"pie\":[{\"automargin\":true,\"type\":\"pie\"}]},\"layout\":{\"autotypenumbers\":\"strict\",\"colorway\":[\"#636efa\",\"#EF553B\",\"#00cc96\",\"#ab63fa\",\"#FFA15A\",\"#19d3f3\",\"#FF6692\",\"#B6E880\",\"#FF97FF\",\"#FECB52\"],\"font\":{\"color\":\"#2a3f5f\"},\"hovermode\":\"closest\",\"hoverlabel\":{\"align\":\"left\"},\"paper_bgcolor\":\"white\",\"plot_bgcolor\":\"#E5ECF6\",\"polar\":{\"bgcolor\":\"#E5ECF6\",\"angularaxis\":{\"gridcolor\":\"white\",\"linecolor\":\"white\",\"ticks\":\"\"},\"radialaxis\":{\"gridcolor\":\"white\",\"linecolor\":\"white\",\"ticks\":\"\"}},\"ternary\":{\"bgcolor\":\"#E5ECF6\",\"aaxis\":{\"gridcolor\":\"white\",\"linecolor\":\"white\",\"ticks\":\"\"},\"baxis\":{\"gridcolor\":\"white\",\"linecolor\":\"white\",\"ticks\":\"\"},\"caxis\":{\"gridcolor\":\"white\",\"linecolor\":\"white\",\"ticks\":\"\"}},\"coloraxis\":{\"colorbar\":{\"outlinewidth\":0,\"ticks\":\"\"}},\"colorscale\":{\"sequential\":[[0.0,\"#0d0887\"],[0.1111111111111111,\"#46039f\"],[0.2222222222222222,\"#7201a8\"],[0.3333333333333333,\"#9c179e\"],[0.4444444444444444,\"#bd3786\"],[0.5555555555555556,\"#d8576b\"],[0.6666666666666666,\"#ed7953\"],[0.7777777777777778,\"#fb9f3a\"],[0.8888888888888888,\"#fdca26\"],[1.0,\"#f0f921\"]],\"sequentialminus\":[[0.0,\"#0d0887\"],[0.1111111111111111,\"#46039f\"],[0.2222222222222222,\"#7201a8\"],[0.3333333333333333,\"#9c179e\"],[0.4444444444444444,\"#bd3786\"],[0.5555555555555556,\"#d8576b\"],[0.6666666666666666,\"#ed7953\"],[0.7777777777777778,\"#fb9f3a\"],[0.8888888888888888,\"#fdca26\"],[1.0,\"#f0f921\"]],\"diverging\":[[0,\"#8e0152\"],[0.1,\"#c51b7d\"],[0.2,\"#de77ae\"],[0.3,\"#f1b6da\"],[0.4,\"#fde0ef\"],[0.5,\"#f7f7f7\"],[0.6,\"#e6f5d0\"],[0.7,\"#b8e186\"],[0.8,\"#7fbc41\"],[0.9,\"#4d9221\"],[1,\"#276419\"]]},\"xaxis\":{\"gridcolor\":\"white\",\"linecolor\":\"white\",\"ticks\":\"\",\"title\":{\"standoff\":15},\"zerolinecolor\":\"white\",\"automargin\":true,\"zerolinewidth\":2},\"yaxis\":{\"gridcolor\":\"white\",\"linecolor\":\"white\",\"ticks\":\"\",\"title\":{\"standoff\":15},\"zerolinecolor\":\"white\",\"automargin\":true,\"zerolinewidth\":2},\"scene\":{\"xaxis\":{\"backgroundcolor\":\"#E5ECF6\",\"gridcolor\":\"white\",\"linecolor\":\"white\",\"showbackground\":true,\"ticks\":\"\",\"zerolinecolor\":\"white\",\"gridwidth\":2},\"yaxis\":{\"backgroundcolor\":\"#E5ECF6\",\"gridcolor\":\"white\",\"linecolor\":\"white\",\"showbackground\":true,\"ticks\":\"\",\"zerolinecolor\":\"white\",\"gridwidth\":2},\"zaxis\":{\"backgroundcolor\":\"#E5ECF6\",\"gridcolor\":\"white\",\"linecolor\":\"white\",\"showbackground\":true,\"ticks\":\"\",\"zerolinecolor\":\"white\",\"gridwidth\":2}},\"shapedefaults\":{\"line\":{\"color\":\"#2a3f5f\"}},\"annotationdefaults\":{\"arrowcolor\":\"#2a3f5f\",\"arrowhead\":0,\"arrowwidth\":1},\"geo\":{\"bgcolor\":\"white\",\"landcolor\":\"#E5ECF6\",\"subunitcolor\":\"white\",\"showland\":true,\"showlakes\":true,\"lakecolor\":\"white\"},\"title\":{\"x\":0.05},\"mapbox\":{\"style\":\"light\"}}},\"xaxis\":{\"anchor\":\"y\",\"domain\":[0.0,0.7363],\"title\":{\"text\":\"prediction_label\"}},\"yaxis\":{\"anchor\":\"x\",\"domain\":[0.0,1.0],\"title\":{\"text\":\"standardized_residuals\"}},\"xaxis2\":{\"anchor\":\"y2\",\"domain\":[0.7413,1.0],\"matches\":\"x2\",\"showticklabels\":false,\"showline\":false,\"ticks\":\"\",\"showgrid\":true},\"yaxis2\":{\"anchor\":\"x2\",\"domain\":[0.0,1.0],\"matches\":\"y\",\"showticklabels\":false,\"showgrid\":true},\"legend\":{\"title\":{\"text\":\"sub_region\"},\"tracegroupgap\":0},\"title\":{\"text\":\"Residuals vs. Predictions\"},\"barmode\":\"overlay\"},                        {\"responsive\": true}                    ).then(function(){\n",
       "                            \n",
       "var gd = document.getElementById('f35e70cf-9abc-4e4a-aa48-1d035be48e9e');\n",
       "var x = new MutationObserver(function (mutations, observer) {{\n",
       "        var display = window.getComputedStyle(gd).display;\n",
       "        if (!display || display === 'none') {{\n",
       "            console.log([gd, 'removed!']);\n",
       "            Plotly.purge(gd);\n",
       "            observer.disconnect();\n",
       "        }}\n",
       "}});\n",
       "\n",
       "// Listen for the removal of the full notebook cells\n",
       "var notebookContainer = gd.closest('#notebook-container');\n",
       "if (notebookContainer) {{\n",
       "    x.observe(notebookContainer, {childList: true});\n",
       "}}\n",
       "\n",
       "// Listen for the clearing of the current output cell\n",
       "var outputEl = gd.closest('.output');\n",
       "if (outputEl) {{\n",
       "    x.observe(outputEl, {childList: true});\n",
       "}}\n",
       "\n",
       "                        })                };                });            </script>        </div>"
      ]
     },
     "metadata": {},
     "output_type": "display_data"
    }
   ],
   "source": [
    "fig = px.scatter(predictions,color = 'sub_region', x='prediction_label', y='standardized_residuals', \n",
    "                title=\"Residuals vs. Predictions\",marginal_y=\"histogram\")\n",
    "fig.show()"
   ]
  },
  {
   "cell_type": "markdown",
   "id": "86d304cb",
   "metadata": {},
   "source": [
    "Interestingly, the region appears to have a significant influence on the quality of the prediction. The median value for each sub-region residual is generally around 0, but some sub-regions have a larger IQR than others. Let's look at the data on a per-country basis. I had previously ommitted country data to improve generalization to unseen data, but it may provide some insight. Let's do that below."
   ]
  },
  {
   "cell_type": "code",
   "execution_count": 21,
   "id": "e00e2541",
   "metadata": {},
   "outputs": [
    {
     "data": {
      "text/plain": [
       "(154, 26)"
      ]
     },
     "execution_count": 21,
     "metadata": {},
     "output_type": "execute_result"
    }
   ],
   "source": [
    "predictions.shape"
   ]
  },
  {
   "cell_type": "code",
   "execution_count": 22,
   "id": "ea2f9dc6",
   "metadata": {},
   "outputs": [],
   "source": [
    "df_location = df_adj[['country','city','start_year','end_year','stations','lat','lng','duration','sub_region']]\n",
    "predictions = pd.merge(predictions,df_location,how='left',on = ['duration','stations','sub_region']).drop_duplicates()"
   ]
  },
  {
   "cell_type": "code",
   "execution_count": 29,
   "id": "1cb01f2a",
   "metadata": {},
   "outputs": [],
   "source": [
    "predictions.drop_duplicates(subset=['length','tunnel','stations','duration'],inplace=True)"
   ]
  },
  {
   "cell_type": "code",
   "execution_count": 31,
   "id": "714fd80b",
   "metadata": {},
   "outputs": [
    {
     "data": {
      "application/vnd.plotly.v1+json": {
       "config": {
        "plotlyServerURL": "https://plot.ly"
       },
       "data": [
        {
         "alignmentgroup": "True",
         "hovertemplate": "country=%{x}<br>Residuals=%{y}<extra></extra>",
         "legendgroup": "",
         "marker": {
          "color": "#636efa"
         },
         "name": "",
         "notched": false,
         "offsetgroup": "",
         "orientation": "v",
         "showlegend": false,
         "type": "box",
         "x": [
          "CN",
          "FR",
          "CA",
          "CN",
          "IT",
          "CN",
          "HK",
          "BE",
          "CN",
          "US",
          "BG",
          "CN",
          "CN",
          "AT",
          "CN",
          "CN",
          "IN",
          "CN",
          "CN",
          "HK",
          "IT",
          "HK",
          "CN",
          "US",
          "CN",
          "HK",
          "HK",
          "CN",
          "CN",
          "ES",
          "KR",
          "CN",
          "SA",
          "FR",
          "CN",
          "CN",
          "CN",
          "CN",
          "CN",
          "CN",
          "KR",
          "CL",
          "CN",
          "SE",
          "DE",
          "JP",
          "FR",
          "CN",
          "CN",
          "FR",
          "FR",
          "DE",
          "CN",
          "IN",
          "IT",
          "JP",
          "DE",
          "FR",
          "CN",
          "IT",
          "CN",
          "CN",
          "AT",
          "PA",
          "CN",
          "CN",
          "CN",
          "CN",
          "HK",
          "CN",
          "US",
          "FR",
          "CN",
          "FR",
          "IR",
          "CN",
          "CN",
          "HK",
          "DE",
          "CN",
          "HK",
          "HK",
          "US",
          "UK",
          "KR",
          "US",
          "CN",
          "CN",
          "IT",
          "CN",
          "CN",
          "CN",
          "CN",
          "US",
          "CN",
          "ES",
          "TW",
          "DE",
          "JP",
          "CN",
          "PL",
          "IT",
          "CN",
          "IN",
          "CN",
          "TH",
          "TH",
          "DR",
          "CN",
          "CN",
          "CN",
          "CN",
          "CN",
          "IN",
          "HK",
          "JP",
          "CN",
          "IT",
          "DE",
          "CN",
          "HK",
          "DE",
          "ES",
          "CN",
          "CN",
          "CN",
          "TR",
          "KR",
          "CN",
          "CN",
          "IN",
          "CN",
          "CN",
          "US",
          "IT",
          "IT",
          "CN",
          "CN",
          "US",
          "US",
          "US",
          "CN",
          "CN",
          "IN",
          "CN",
          "CN",
          "CN",
          "CN",
          "US",
          "FR",
          "FR",
          "CA",
          "ES"
         ],
         "x0": " ",
         "xaxis": "x",
         "y": [
          49.87221145233525,
          -23.442340425330826,
          -660.0434529648901,
          -1584.228190853686,
          209.30686711114177,
          -2.7551563815868576,
          -415.4249139977676,
          450.25463104994753,
          251.6055418616652,
          -516.4315680898692,
          547.0565583217044,
          -322.1761947644741,
          59.92692470372731,
          -465.47270466744203,
          677.0128774037439,
          -233.58567068980847,
          -2909.4989349673997,
          76.05781753772317,
          -873.5857883801705,
          125.21702326325794,
          -251.0000429499479,
          -1156.9741517391803,
          363.6936805316773,
          385.16725736908984,
          -377.2875222320981,
          -143.06655587862224,
          553.7746180218342,
          1551.906577884948,
          -162.94702956363926,
          -222.84506718748258,
          175.31097699054408,
          -1127.8179445447136,
          2332.957237698222,
          -147.6978745315406,
          -363.71197269801087,
          -33.793660968727636,
          176.41066534715992,
          748.9692478454299,
          -678.8435798955215,
          321.5585437691161,
          -300.76585706332673,
          876.5016438187549,
          307.625617728969,
          36.68005394520776,
          774.8272106373483,
          204.79664720804777,
          -91.98318874097356,
          -809.8182617003768,
          555.1705652355249,
          -255.88112150273537,
          -612.4078046427885,
          -95.3575830717648,
          816.0685007106322,
          -58.59098168521541,
          458.95562901603284,
          393.21472297630464,
          1333.1875911984066,
          -138.8303784513855,
          -886.6260921039639,
          68.97113138527607,
          -338.8679061842204,
          111.69416862183698,
          5.6943221761171685,
          1064.6002909979507,
          1846.9841967334987,
          -224.6660899226299,
          455.5984813141031,
          -331.74711552211556,
          509.4773428677381,
          2092.9290612549958,
          -1483.1039609185373,
          -15.35012834624007,
          -594.2831647415951,
          95.59109276194272,
          1088.6342444847878,
          1025.973919304507,
          -65.93791497533357,
          -833.6128837362044,
          724.1953535867959,
          -1281.2707648125706,
          143.51073121209583,
          -679.6259847122565,
          139.88769459011974,
          -43.1097613298806,
          2189.043308092515,
          -474.8687916342933,
          -1356.7071482404035,
          297.3775653104626,
          -31.716240164179908,
          292.54909150367166,
          321.8538013522518,
          2208.6396094804404,
          -1731.5041212092292,
          -203.42133063049369,
          672.2851300272259,
          -378.10150295256904,
          1872.0899891152944,
          -67.3275080184564,
          320.3257603375081,
          55.2462952148619,
          -31.46594771863215,
          -318.8067897017422,
          380.7405669334066,
          -30.275703882796734,
          -146.9617797651299,
          -1192.4239034408274,
          -341.996258046051,
          -213.5192876245419,
          -297.6068295231323,
          -272.31839652438794,
          -741.5035456260803,
          -973.9493481211716,
          59.43336805380977,
          -979.5164203555814,
          -341.67462838256233,
          -2880.4663869957585,
          214.27845022332986,
          387.3593201424211,
          103.49687744305629,
          -374.6173181314093,
          861.8319951369858,
          103.07447720481753,
          -254.12665553941474,
          353.61607904915263,
          1324.67960838401,
          267.6673246754999,
          160.2293792731714,
          -105.2479587497628,
          -147.88165702019296,
          -306.786645098284,
          -474.31664301187175,
          -325.1025597299223,
          732.6902533799093,
          -612.0906439737853,
          534.3238223832493,
          379.56639496699063,
          -526.2177984546338,
          -405.9473560835122,
          1294.5315409573393,
          425.2770877505229,
          -1234.8437717044235,
          958.7201325485057,
          -197.01485549397967,
          816.9005822324934,
          2614.3778793806077,
          722.9140984005298,
          -83.25967343861885,
          912.0970209085935,
          1.327537663174553,
          -185.29018579179183,
          102.45900295358558,
          -194.18110673590184,
          -52.67649813656453
         ],
         "y0": " ",
         "yaxis": "y"
        }
       ],
       "layout": {
        "boxmode": "group",
        "legend": {
         "tracegroupgap": 0
        },
        "template": {
         "data": {
          "bar": [
           {
            "error_x": {
             "color": "#2a3f5f"
            },
            "error_y": {
             "color": "#2a3f5f"
            },
            "marker": {
             "line": {
              "color": "#E5ECF6",
              "width": 0.5
             },
             "pattern": {
              "fillmode": "overlay",
              "size": 10,
              "solidity": 0.2
             }
            },
            "type": "bar"
           }
          ],
          "barpolar": [
           {
            "marker": {
             "line": {
              "color": "#E5ECF6",
              "width": 0.5
             },
             "pattern": {
              "fillmode": "overlay",
              "size": 10,
              "solidity": 0.2
             }
            },
            "type": "barpolar"
           }
          ],
          "carpet": [
           {
            "aaxis": {
             "endlinecolor": "#2a3f5f",
             "gridcolor": "white",
             "linecolor": "white",
             "minorgridcolor": "white",
             "startlinecolor": "#2a3f5f"
            },
            "baxis": {
             "endlinecolor": "#2a3f5f",
             "gridcolor": "white",
             "linecolor": "white",
             "minorgridcolor": "white",
             "startlinecolor": "#2a3f5f"
            },
            "type": "carpet"
           }
          ],
          "choropleth": [
           {
            "colorbar": {
             "outlinewidth": 0,
             "ticks": ""
            },
            "type": "choropleth"
           }
          ],
          "contour": [
           {
            "colorbar": {
             "outlinewidth": 0,
             "ticks": ""
            },
            "colorscale": [
             [
              0,
              "#0d0887"
             ],
             [
              0.1111111111111111,
              "#46039f"
             ],
             [
              0.2222222222222222,
              "#7201a8"
             ],
             [
              0.3333333333333333,
              "#9c179e"
             ],
             [
              0.4444444444444444,
              "#bd3786"
             ],
             [
              0.5555555555555556,
              "#d8576b"
             ],
             [
              0.6666666666666666,
              "#ed7953"
             ],
             [
              0.7777777777777778,
              "#fb9f3a"
             ],
             [
              0.8888888888888888,
              "#fdca26"
             ],
             [
              1,
              "#f0f921"
             ]
            ],
            "type": "contour"
           }
          ],
          "contourcarpet": [
           {
            "colorbar": {
             "outlinewidth": 0,
             "ticks": ""
            },
            "type": "contourcarpet"
           }
          ],
          "heatmap": [
           {
            "colorbar": {
             "outlinewidth": 0,
             "ticks": ""
            },
            "colorscale": [
             [
              0,
              "#0d0887"
             ],
             [
              0.1111111111111111,
              "#46039f"
             ],
             [
              0.2222222222222222,
              "#7201a8"
             ],
             [
              0.3333333333333333,
              "#9c179e"
             ],
             [
              0.4444444444444444,
              "#bd3786"
             ],
             [
              0.5555555555555556,
              "#d8576b"
             ],
             [
              0.6666666666666666,
              "#ed7953"
             ],
             [
              0.7777777777777778,
              "#fb9f3a"
             ],
             [
              0.8888888888888888,
              "#fdca26"
             ],
             [
              1,
              "#f0f921"
             ]
            ],
            "type": "heatmap"
           }
          ],
          "heatmapgl": [
           {
            "colorbar": {
             "outlinewidth": 0,
             "ticks": ""
            },
            "colorscale": [
             [
              0,
              "#0d0887"
             ],
             [
              0.1111111111111111,
              "#46039f"
             ],
             [
              0.2222222222222222,
              "#7201a8"
             ],
             [
              0.3333333333333333,
              "#9c179e"
             ],
             [
              0.4444444444444444,
              "#bd3786"
             ],
             [
              0.5555555555555556,
              "#d8576b"
             ],
             [
              0.6666666666666666,
              "#ed7953"
             ],
             [
              0.7777777777777778,
              "#fb9f3a"
             ],
             [
              0.8888888888888888,
              "#fdca26"
             ],
             [
              1,
              "#f0f921"
             ]
            ],
            "type": "heatmapgl"
           }
          ],
          "histogram": [
           {
            "marker": {
             "pattern": {
              "fillmode": "overlay",
              "size": 10,
              "solidity": 0.2
             }
            },
            "type": "histogram"
           }
          ],
          "histogram2d": [
           {
            "colorbar": {
             "outlinewidth": 0,
             "ticks": ""
            },
            "colorscale": [
             [
              0,
              "#0d0887"
             ],
             [
              0.1111111111111111,
              "#46039f"
             ],
             [
              0.2222222222222222,
              "#7201a8"
             ],
             [
              0.3333333333333333,
              "#9c179e"
             ],
             [
              0.4444444444444444,
              "#bd3786"
             ],
             [
              0.5555555555555556,
              "#d8576b"
             ],
             [
              0.6666666666666666,
              "#ed7953"
             ],
             [
              0.7777777777777778,
              "#fb9f3a"
             ],
             [
              0.8888888888888888,
              "#fdca26"
             ],
             [
              1,
              "#f0f921"
             ]
            ],
            "type": "histogram2d"
           }
          ],
          "histogram2dcontour": [
           {
            "colorbar": {
             "outlinewidth": 0,
             "ticks": ""
            },
            "colorscale": [
             [
              0,
              "#0d0887"
             ],
             [
              0.1111111111111111,
              "#46039f"
             ],
             [
              0.2222222222222222,
              "#7201a8"
             ],
             [
              0.3333333333333333,
              "#9c179e"
             ],
             [
              0.4444444444444444,
              "#bd3786"
             ],
             [
              0.5555555555555556,
              "#d8576b"
             ],
             [
              0.6666666666666666,
              "#ed7953"
             ],
             [
              0.7777777777777778,
              "#fb9f3a"
             ],
             [
              0.8888888888888888,
              "#fdca26"
             ],
             [
              1,
              "#f0f921"
             ]
            ],
            "type": "histogram2dcontour"
           }
          ],
          "mesh3d": [
           {
            "colorbar": {
             "outlinewidth": 0,
             "ticks": ""
            },
            "type": "mesh3d"
           }
          ],
          "parcoords": [
           {
            "line": {
             "colorbar": {
              "outlinewidth": 0,
              "ticks": ""
             }
            },
            "type": "parcoords"
           }
          ],
          "pie": [
           {
            "automargin": true,
            "type": "pie"
           }
          ],
          "scatter": [
           {
            "fillpattern": {
             "fillmode": "overlay",
             "size": 10,
             "solidity": 0.2
            },
            "type": "scatter"
           }
          ],
          "scatter3d": [
           {
            "line": {
             "colorbar": {
              "outlinewidth": 0,
              "ticks": ""
             }
            },
            "marker": {
             "colorbar": {
              "outlinewidth": 0,
              "ticks": ""
             }
            },
            "type": "scatter3d"
           }
          ],
          "scattercarpet": [
           {
            "marker": {
             "colorbar": {
              "outlinewidth": 0,
              "ticks": ""
             }
            },
            "type": "scattercarpet"
           }
          ],
          "scattergeo": [
           {
            "marker": {
             "colorbar": {
              "outlinewidth": 0,
              "ticks": ""
             }
            },
            "type": "scattergeo"
           }
          ],
          "scattergl": [
           {
            "marker": {
             "colorbar": {
              "outlinewidth": 0,
              "ticks": ""
             }
            },
            "type": "scattergl"
           }
          ],
          "scattermapbox": [
           {
            "marker": {
             "colorbar": {
              "outlinewidth": 0,
              "ticks": ""
             }
            },
            "type": "scattermapbox"
           }
          ],
          "scatterpolar": [
           {
            "marker": {
             "colorbar": {
              "outlinewidth": 0,
              "ticks": ""
             }
            },
            "type": "scatterpolar"
           }
          ],
          "scatterpolargl": [
           {
            "marker": {
             "colorbar": {
              "outlinewidth": 0,
              "ticks": ""
             }
            },
            "type": "scatterpolargl"
           }
          ],
          "scatterternary": [
           {
            "marker": {
             "colorbar": {
              "outlinewidth": 0,
              "ticks": ""
             }
            },
            "type": "scatterternary"
           }
          ],
          "surface": [
           {
            "colorbar": {
             "outlinewidth": 0,
             "ticks": ""
            },
            "colorscale": [
             [
              0,
              "#0d0887"
             ],
             [
              0.1111111111111111,
              "#46039f"
             ],
             [
              0.2222222222222222,
              "#7201a8"
             ],
             [
              0.3333333333333333,
              "#9c179e"
             ],
             [
              0.4444444444444444,
              "#bd3786"
             ],
             [
              0.5555555555555556,
              "#d8576b"
             ],
             [
              0.6666666666666666,
              "#ed7953"
             ],
             [
              0.7777777777777778,
              "#fb9f3a"
             ],
             [
              0.8888888888888888,
              "#fdca26"
             ],
             [
              1,
              "#f0f921"
             ]
            ],
            "type": "surface"
           }
          ],
          "table": [
           {
            "cells": {
             "fill": {
              "color": "#EBF0F8"
             },
             "line": {
              "color": "white"
             }
            },
            "header": {
             "fill": {
              "color": "#C8D4E3"
             },
             "line": {
              "color": "white"
             }
            },
            "type": "table"
           }
          ]
         },
         "layout": {
          "annotationdefaults": {
           "arrowcolor": "#2a3f5f",
           "arrowhead": 0,
           "arrowwidth": 1
          },
          "autotypenumbers": "strict",
          "coloraxis": {
           "colorbar": {
            "outlinewidth": 0,
            "ticks": ""
           }
          },
          "colorscale": {
           "diverging": [
            [
             0,
             "#8e0152"
            ],
            [
             0.1,
             "#c51b7d"
            ],
            [
             0.2,
             "#de77ae"
            ],
            [
             0.3,
             "#f1b6da"
            ],
            [
             0.4,
             "#fde0ef"
            ],
            [
             0.5,
             "#f7f7f7"
            ],
            [
             0.6,
             "#e6f5d0"
            ],
            [
             0.7,
             "#b8e186"
            ],
            [
             0.8,
             "#7fbc41"
            ],
            [
             0.9,
             "#4d9221"
            ],
            [
             1,
             "#276419"
            ]
           ],
           "sequential": [
            [
             0,
             "#0d0887"
            ],
            [
             0.1111111111111111,
             "#46039f"
            ],
            [
             0.2222222222222222,
             "#7201a8"
            ],
            [
             0.3333333333333333,
             "#9c179e"
            ],
            [
             0.4444444444444444,
             "#bd3786"
            ],
            [
             0.5555555555555556,
             "#d8576b"
            ],
            [
             0.6666666666666666,
             "#ed7953"
            ],
            [
             0.7777777777777778,
             "#fb9f3a"
            ],
            [
             0.8888888888888888,
             "#fdca26"
            ],
            [
             1,
             "#f0f921"
            ]
           ],
           "sequentialminus": [
            [
             0,
             "#0d0887"
            ],
            [
             0.1111111111111111,
             "#46039f"
            ],
            [
             0.2222222222222222,
             "#7201a8"
            ],
            [
             0.3333333333333333,
             "#9c179e"
            ],
            [
             0.4444444444444444,
             "#bd3786"
            ],
            [
             0.5555555555555556,
             "#d8576b"
            ],
            [
             0.6666666666666666,
             "#ed7953"
            ],
            [
             0.7777777777777778,
             "#fb9f3a"
            ],
            [
             0.8888888888888888,
             "#fdca26"
            ],
            [
             1,
             "#f0f921"
            ]
           ]
          },
          "colorway": [
           "#636efa",
           "#EF553B",
           "#00cc96",
           "#ab63fa",
           "#FFA15A",
           "#19d3f3",
           "#FF6692",
           "#B6E880",
           "#FF97FF",
           "#FECB52"
          ],
          "font": {
           "color": "#2a3f5f"
          },
          "geo": {
           "bgcolor": "white",
           "lakecolor": "white",
           "landcolor": "#E5ECF6",
           "showlakes": true,
           "showland": true,
           "subunitcolor": "white"
          },
          "hoverlabel": {
           "align": "left"
          },
          "hovermode": "closest",
          "mapbox": {
           "style": "light"
          },
          "paper_bgcolor": "white",
          "plot_bgcolor": "#E5ECF6",
          "polar": {
           "angularaxis": {
            "gridcolor": "white",
            "linecolor": "white",
            "ticks": ""
           },
           "bgcolor": "#E5ECF6",
           "radialaxis": {
            "gridcolor": "white",
            "linecolor": "white",
            "ticks": ""
           }
          },
          "scene": {
           "xaxis": {
            "backgroundcolor": "#E5ECF6",
            "gridcolor": "white",
            "gridwidth": 2,
            "linecolor": "white",
            "showbackground": true,
            "ticks": "",
            "zerolinecolor": "white"
           },
           "yaxis": {
            "backgroundcolor": "#E5ECF6",
            "gridcolor": "white",
            "gridwidth": 2,
            "linecolor": "white",
            "showbackground": true,
            "ticks": "",
            "zerolinecolor": "white"
           },
           "zaxis": {
            "backgroundcolor": "#E5ECF6",
            "gridcolor": "white",
            "gridwidth": 2,
            "linecolor": "white",
            "showbackground": true,
            "ticks": "",
            "zerolinecolor": "white"
           }
          },
          "shapedefaults": {
           "line": {
            "color": "#2a3f5f"
           }
          },
          "ternary": {
           "aaxis": {
            "gridcolor": "white",
            "linecolor": "white",
            "ticks": ""
           },
           "baxis": {
            "gridcolor": "white",
            "linecolor": "white",
            "ticks": ""
           },
           "bgcolor": "#E5ECF6",
           "caxis": {
            "gridcolor": "white",
            "linecolor": "white",
            "ticks": ""
           }
          },
          "title": {
           "x": 0.05
          },
          "xaxis": {
           "automargin": true,
           "gridcolor": "white",
           "linecolor": "white",
           "ticks": "",
           "title": {
            "standoff": 15
           },
           "zerolinecolor": "white",
           "zerolinewidth": 2
          },
          "yaxis": {
           "automargin": true,
           "gridcolor": "white",
           "linecolor": "white",
           "ticks": "",
           "title": {
            "standoff": 15
           },
           "zerolinecolor": "white",
           "zerolinewidth": 2
          }
         }
        },
        "title": {
         "text": "Residuals Distribution Across Countries"
        },
        "xaxis": {
         "anchor": "y",
         "domain": [
          0,
          1
         ],
         "title": {
          "text": "country"
         }
        },
        "yaxis": {
         "anchor": "x",
         "domain": [
          0,
          1
         ],
         "title": {
          "text": "Residuals"
         }
        }
       }
      },
      "text/html": [
       "<div>                            <div id=\"4d0f38c9-744d-4d76-9a22-f3b80024d7f3\" class=\"plotly-graph-div\" style=\"height:525px; width:100%;\"></div>            <script type=\"text/javascript\">                require([\"plotly\"], function(Plotly) {                    window.PLOTLYENV=window.PLOTLYENV || {};                                    if (document.getElementById(\"4d0f38c9-744d-4d76-9a22-f3b80024d7f3\")) {                    Plotly.newPlot(                        \"4d0f38c9-744d-4d76-9a22-f3b80024d7f3\",                        [{\"alignmentgroup\":\"True\",\"hovertemplate\":\"country=%{x}\\u003cbr\\u003eResiduals=%{y}\\u003cextra\\u003e\\u003c\\u002fextra\\u003e\",\"legendgroup\":\"\",\"marker\":{\"color\":\"#636efa\"},\"name\":\"\",\"notched\":false,\"offsetgroup\":\"\",\"orientation\":\"v\",\"showlegend\":false,\"x\":[\"CN\",\"FR\",\"CA\",\"CN\",\"IT\",\"CN\",\"HK\",\"BE\",\"CN\",\"US\",\"BG\",\"CN\",\"CN\",\"AT\",\"CN\",\"CN\",\"IN\",\"CN\",\"CN\",\"HK\",\"IT\",\"HK\",\"CN\",\"US\",\"CN\",\"HK\",\"HK\",\"CN\",\"CN\",\"ES\",\"KR\",\"CN\",\"SA\",\"FR\",\"CN\",\"CN\",\"CN\",\"CN\",\"CN\",\"CN\",\"KR\",\"CL\",\"CN\",\"SE\",\"DE\",\"JP\",\"FR\",\"CN\",\"CN\",\"FR\",\"FR\",\"DE\",\"CN\",\"IN\",\"IT\",\"JP\",\"DE\",\"FR\",\"CN\",\"IT\",\"CN\",\"CN\",\"AT\",\"PA\",\"CN\",\"CN\",\"CN\",\"CN\",\"HK\",\"CN\",\"US\",\"FR\",\"CN\",\"FR\",\"IR\",\"CN\",\"CN\",\"HK\",\"DE\",\"CN\",\"HK\",\"HK\",\"US\",\"UK\",\"KR\",\"US\",\"CN\",\"CN\",\"IT\",\"CN\",\"CN\",\"CN\",\"CN\",\"US\",\"CN\",\"ES\",\"TW\",\"DE\",\"JP\",\"CN\",\"PL\",\"IT\",\"CN\",\"IN\",\"CN\",\"TH\",\"TH\",\"DR\",\"CN\",\"CN\",\"CN\",\"CN\",\"CN\",\"IN\",\"HK\",\"JP\",\"CN\",\"IT\",\"DE\",\"CN\",\"HK\",\"DE\",\"ES\",\"CN\",\"CN\",\"CN\",\"TR\",\"KR\",\"CN\",\"CN\",\"IN\",\"CN\",\"CN\",\"US\",\"IT\",\"IT\",\"CN\",\"CN\",\"US\",\"US\",\"US\",\"CN\",\"CN\",\"IN\",\"CN\",\"CN\",\"CN\",\"CN\",\"US\",\"FR\",\"FR\",\"CA\",\"ES\"],\"x0\":\" \",\"xaxis\":\"x\",\"y\":[49.87221145233525,-23.442340425330826,-660.0434529648901,-1584.228190853686,209.30686711114177,-2.7551563815868576,-415.4249139977676,450.25463104994753,251.6055418616652,-516.4315680898692,547.0565583217044,-322.1761947644741,59.92692470372731,-465.47270466744203,677.0128774037439,-233.58567068980847,-2909.4989349673997,76.05781753772317,-873.5857883801705,125.21702326325794,-251.0000429499479,-1156.9741517391803,363.6936805316773,385.16725736908984,-377.2875222320981,-143.06655587862224,553.7746180218342,1551.906577884948,-162.94702956363926,-222.84506718748258,175.31097699054408,-1127.8179445447136,2332.957237698222,-147.6978745315406,-363.71197269801087,-33.793660968727636,176.41066534715992,748.9692478454299,-678.8435798955215,321.5585437691161,-300.76585706332673,876.5016438187549,307.625617728969,36.68005394520776,774.8272106373483,204.79664720804777,-91.98318874097356,-809.8182617003768,555.1705652355249,-255.88112150273537,-612.4078046427885,-95.3575830717648,816.0685007106322,-58.59098168521541,458.95562901603284,393.21472297630464,1333.1875911984066,-138.8303784513855,-886.6260921039639,68.97113138527607,-338.8679061842204,111.69416862183698,5.6943221761171685,1064.6002909979507,1846.9841967334987,-224.6660899226299,455.5984813141031,-331.74711552211556,509.4773428677381,2092.9290612549958,-1483.1039609185373,-15.35012834624007,-594.2831647415951,95.59109276194272,1088.6342444847878,1025.973919304507,-65.93791497533357,-833.6128837362044,724.1953535867959,-1281.2707648125706,143.51073121209583,-679.6259847122565,139.88769459011974,-43.1097613298806,2189.043308092515,-474.8687916342933,-1356.7071482404035,297.3775653104626,-31.716240164179908,292.54909150367166,321.8538013522518,2208.6396094804404,-1731.5041212092292,-203.42133063049369,672.2851300272259,-378.10150295256904,1872.0899891152944,-67.3275080184564,320.3257603375081,55.2462952148619,-31.46594771863215,-318.8067897017422,380.7405669334066,-30.275703882796734,-146.9617797651299,-1192.4239034408274,-341.996258046051,-213.5192876245419,-297.6068295231323,-272.31839652438794,-741.5035456260803,-973.9493481211716,59.43336805380977,-979.5164203555814,-341.67462838256233,-2880.4663869957585,214.27845022332986,387.3593201424211,103.49687744305629,-374.6173181314093,861.8319951369858,103.07447720481753,-254.12665553941474,353.61607904915263,1324.67960838401,267.6673246754999,160.2293792731714,-105.2479587497628,-147.88165702019296,-306.786645098284,-474.31664301187175,-325.1025597299223,732.6902533799093,-612.0906439737853,534.3238223832493,379.56639496699063,-526.2177984546338,-405.9473560835122,1294.5315409573393,425.2770877505229,-1234.8437717044235,958.7201325485057,-197.01485549397967,816.9005822324934,2614.3778793806077,722.9140984005298,-83.25967343861885,912.0970209085935,1.327537663174553,-185.29018579179183,102.45900295358558,-194.18110673590184,-52.67649813656453],\"y0\":\" \",\"yaxis\":\"y\",\"type\":\"box\"}],                        {\"template\":{\"data\":{\"histogram2dcontour\":[{\"type\":\"histogram2dcontour\",\"colorbar\":{\"outlinewidth\":0,\"ticks\":\"\"},\"colorscale\":[[0.0,\"#0d0887\"],[0.1111111111111111,\"#46039f\"],[0.2222222222222222,\"#7201a8\"],[0.3333333333333333,\"#9c179e\"],[0.4444444444444444,\"#bd3786\"],[0.5555555555555556,\"#d8576b\"],[0.6666666666666666,\"#ed7953\"],[0.7777777777777778,\"#fb9f3a\"],[0.8888888888888888,\"#fdca26\"],[1.0,\"#f0f921\"]]}],\"choropleth\":[{\"type\":\"choropleth\",\"colorbar\":{\"outlinewidth\":0,\"ticks\":\"\"}}],\"histogram2d\":[{\"type\":\"histogram2d\",\"colorbar\":{\"outlinewidth\":0,\"ticks\":\"\"},\"colorscale\":[[0.0,\"#0d0887\"],[0.1111111111111111,\"#46039f\"],[0.2222222222222222,\"#7201a8\"],[0.3333333333333333,\"#9c179e\"],[0.4444444444444444,\"#bd3786\"],[0.5555555555555556,\"#d8576b\"],[0.6666666666666666,\"#ed7953\"],[0.7777777777777778,\"#fb9f3a\"],[0.8888888888888888,\"#fdca26\"],[1.0,\"#f0f921\"]]}],\"heatmap\":[{\"type\":\"heatmap\",\"colorbar\":{\"outlinewidth\":0,\"ticks\":\"\"},\"colorscale\":[[0.0,\"#0d0887\"],[0.1111111111111111,\"#46039f\"],[0.2222222222222222,\"#7201a8\"],[0.3333333333333333,\"#9c179e\"],[0.4444444444444444,\"#bd3786\"],[0.5555555555555556,\"#d8576b\"],[0.6666666666666666,\"#ed7953\"],[0.7777777777777778,\"#fb9f3a\"],[0.8888888888888888,\"#fdca26\"],[1.0,\"#f0f921\"]]}],\"heatmapgl\":[{\"type\":\"heatmapgl\",\"colorbar\":{\"outlinewidth\":0,\"ticks\":\"\"},\"colorscale\":[[0.0,\"#0d0887\"],[0.1111111111111111,\"#46039f\"],[0.2222222222222222,\"#7201a8\"],[0.3333333333333333,\"#9c179e\"],[0.4444444444444444,\"#bd3786\"],[0.5555555555555556,\"#d8576b\"],[0.6666666666666666,\"#ed7953\"],[0.7777777777777778,\"#fb9f3a\"],[0.8888888888888888,\"#fdca26\"],[1.0,\"#f0f921\"]]}],\"contourcarpet\":[{\"type\":\"contourcarpet\",\"colorbar\":{\"outlinewidth\":0,\"ticks\":\"\"}}],\"contour\":[{\"type\":\"contour\",\"colorbar\":{\"outlinewidth\":0,\"ticks\":\"\"},\"colorscale\":[[0.0,\"#0d0887\"],[0.1111111111111111,\"#46039f\"],[0.2222222222222222,\"#7201a8\"],[0.3333333333333333,\"#9c179e\"],[0.4444444444444444,\"#bd3786\"],[0.5555555555555556,\"#d8576b\"],[0.6666666666666666,\"#ed7953\"],[0.7777777777777778,\"#fb9f3a\"],[0.8888888888888888,\"#fdca26\"],[1.0,\"#f0f921\"]]}],\"surface\":[{\"type\":\"surface\",\"colorbar\":{\"outlinewidth\":0,\"ticks\":\"\"},\"colorscale\":[[0.0,\"#0d0887\"],[0.1111111111111111,\"#46039f\"],[0.2222222222222222,\"#7201a8\"],[0.3333333333333333,\"#9c179e\"],[0.4444444444444444,\"#bd3786\"],[0.5555555555555556,\"#d8576b\"],[0.6666666666666666,\"#ed7953\"],[0.7777777777777778,\"#fb9f3a\"],[0.8888888888888888,\"#fdca26\"],[1.0,\"#f0f921\"]]}],\"mesh3d\":[{\"type\":\"mesh3d\",\"colorbar\":{\"outlinewidth\":0,\"ticks\":\"\"}}],\"scatter\":[{\"fillpattern\":{\"fillmode\":\"overlay\",\"size\":10,\"solidity\":0.2},\"type\":\"scatter\"}],\"parcoords\":[{\"type\":\"parcoords\",\"line\":{\"colorbar\":{\"outlinewidth\":0,\"ticks\":\"\"}}}],\"scatterpolargl\":[{\"type\":\"scatterpolargl\",\"marker\":{\"colorbar\":{\"outlinewidth\":0,\"ticks\":\"\"}}}],\"bar\":[{\"error_x\":{\"color\":\"#2a3f5f\"},\"error_y\":{\"color\":\"#2a3f5f\"},\"marker\":{\"line\":{\"color\":\"#E5ECF6\",\"width\":0.5},\"pattern\":{\"fillmode\":\"overlay\",\"size\":10,\"solidity\":0.2}},\"type\":\"bar\"}],\"scattergeo\":[{\"type\":\"scattergeo\",\"marker\":{\"colorbar\":{\"outlinewidth\":0,\"ticks\":\"\"}}}],\"scatterpolar\":[{\"type\":\"scatterpolar\",\"marker\":{\"colorbar\":{\"outlinewidth\":0,\"ticks\":\"\"}}}],\"histogram\":[{\"marker\":{\"pattern\":{\"fillmode\":\"overlay\",\"size\":10,\"solidity\":0.2}},\"type\":\"histogram\"}],\"scattergl\":[{\"type\":\"scattergl\",\"marker\":{\"colorbar\":{\"outlinewidth\":0,\"ticks\":\"\"}}}],\"scatter3d\":[{\"type\":\"scatter3d\",\"line\":{\"colorbar\":{\"outlinewidth\":0,\"ticks\":\"\"}},\"marker\":{\"colorbar\":{\"outlinewidth\":0,\"ticks\":\"\"}}}],\"scattermapbox\":[{\"type\":\"scattermapbox\",\"marker\":{\"colorbar\":{\"outlinewidth\":0,\"ticks\":\"\"}}}],\"scatterternary\":[{\"type\":\"scatterternary\",\"marker\":{\"colorbar\":{\"outlinewidth\":0,\"ticks\":\"\"}}}],\"scattercarpet\":[{\"type\":\"scattercarpet\",\"marker\":{\"colorbar\":{\"outlinewidth\":0,\"ticks\":\"\"}}}],\"carpet\":[{\"aaxis\":{\"endlinecolor\":\"#2a3f5f\",\"gridcolor\":\"white\",\"linecolor\":\"white\",\"minorgridcolor\":\"white\",\"startlinecolor\":\"#2a3f5f\"},\"baxis\":{\"endlinecolor\":\"#2a3f5f\",\"gridcolor\":\"white\",\"linecolor\":\"white\",\"minorgridcolor\":\"white\",\"startlinecolor\":\"#2a3f5f\"},\"type\":\"carpet\"}],\"table\":[{\"cells\":{\"fill\":{\"color\":\"#EBF0F8\"},\"line\":{\"color\":\"white\"}},\"header\":{\"fill\":{\"color\":\"#C8D4E3\"},\"line\":{\"color\":\"white\"}},\"type\":\"table\"}],\"barpolar\":[{\"marker\":{\"line\":{\"color\":\"#E5ECF6\",\"width\":0.5},\"pattern\":{\"fillmode\":\"overlay\",\"size\":10,\"solidity\":0.2}},\"type\":\"barpolar\"}],\"pie\":[{\"automargin\":true,\"type\":\"pie\"}]},\"layout\":{\"autotypenumbers\":\"strict\",\"colorway\":[\"#636efa\",\"#EF553B\",\"#00cc96\",\"#ab63fa\",\"#FFA15A\",\"#19d3f3\",\"#FF6692\",\"#B6E880\",\"#FF97FF\",\"#FECB52\"],\"font\":{\"color\":\"#2a3f5f\"},\"hovermode\":\"closest\",\"hoverlabel\":{\"align\":\"left\"},\"paper_bgcolor\":\"white\",\"plot_bgcolor\":\"#E5ECF6\",\"polar\":{\"bgcolor\":\"#E5ECF6\",\"angularaxis\":{\"gridcolor\":\"white\",\"linecolor\":\"white\",\"ticks\":\"\"},\"radialaxis\":{\"gridcolor\":\"white\",\"linecolor\":\"white\",\"ticks\":\"\"}},\"ternary\":{\"bgcolor\":\"#E5ECF6\",\"aaxis\":{\"gridcolor\":\"white\",\"linecolor\":\"white\",\"ticks\":\"\"},\"baxis\":{\"gridcolor\":\"white\",\"linecolor\":\"white\",\"ticks\":\"\"},\"caxis\":{\"gridcolor\":\"white\",\"linecolor\":\"white\",\"ticks\":\"\"}},\"coloraxis\":{\"colorbar\":{\"outlinewidth\":0,\"ticks\":\"\"}},\"colorscale\":{\"sequential\":[[0.0,\"#0d0887\"],[0.1111111111111111,\"#46039f\"],[0.2222222222222222,\"#7201a8\"],[0.3333333333333333,\"#9c179e\"],[0.4444444444444444,\"#bd3786\"],[0.5555555555555556,\"#d8576b\"],[0.6666666666666666,\"#ed7953\"],[0.7777777777777778,\"#fb9f3a\"],[0.8888888888888888,\"#fdca26\"],[1.0,\"#f0f921\"]],\"sequentialminus\":[[0.0,\"#0d0887\"],[0.1111111111111111,\"#46039f\"],[0.2222222222222222,\"#7201a8\"],[0.3333333333333333,\"#9c179e\"],[0.4444444444444444,\"#bd3786\"],[0.5555555555555556,\"#d8576b\"],[0.6666666666666666,\"#ed7953\"],[0.7777777777777778,\"#fb9f3a\"],[0.8888888888888888,\"#fdca26\"],[1.0,\"#f0f921\"]],\"diverging\":[[0,\"#8e0152\"],[0.1,\"#c51b7d\"],[0.2,\"#de77ae\"],[0.3,\"#f1b6da\"],[0.4,\"#fde0ef\"],[0.5,\"#f7f7f7\"],[0.6,\"#e6f5d0\"],[0.7,\"#b8e186\"],[0.8,\"#7fbc41\"],[0.9,\"#4d9221\"],[1,\"#276419\"]]},\"xaxis\":{\"gridcolor\":\"white\",\"linecolor\":\"white\",\"ticks\":\"\",\"title\":{\"standoff\":15},\"zerolinecolor\":\"white\",\"automargin\":true,\"zerolinewidth\":2},\"yaxis\":{\"gridcolor\":\"white\",\"linecolor\":\"white\",\"ticks\":\"\",\"title\":{\"standoff\":15},\"zerolinecolor\":\"white\",\"automargin\":true,\"zerolinewidth\":2},\"scene\":{\"xaxis\":{\"backgroundcolor\":\"#E5ECF6\",\"gridcolor\":\"white\",\"linecolor\":\"white\",\"showbackground\":true,\"ticks\":\"\",\"zerolinecolor\":\"white\",\"gridwidth\":2},\"yaxis\":{\"backgroundcolor\":\"#E5ECF6\",\"gridcolor\":\"white\",\"linecolor\":\"white\",\"showbackground\":true,\"ticks\":\"\",\"zerolinecolor\":\"white\",\"gridwidth\":2},\"zaxis\":{\"backgroundcolor\":\"#E5ECF6\",\"gridcolor\":\"white\",\"linecolor\":\"white\",\"showbackground\":true,\"ticks\":\"\",\"zerolinecolor\":\"white\",\"gridwidth\":2}},\"shapedefaults\":{\"line\":{\"color\":\"#2a3f5f\"}},\"annotationdefaults\":{\"arrowcolor\":\"#2a3f5f\",\"arrowhead\":0,\"arrowwidth\":1},\"geo\":{\"bgcolor\":\"white\",\"landcolor\":\"#E5ECF6\",\"subunitcolor\":\"white\",\"showland\":true,\"showlakes\":true,\"lakecolor\":\"white\"},\"title\":{\"x\":0.05},\"mapbox\":{\"style\":\"light\"}}},\"xaxis\":{\"anchor\":\"y\",\"domain\":[0.0,1.0],\"title\":{\"text\":\"country\"}},\"yaxis\":{\"anchor\":\"x\",\"domain\":[0.0,1.0],\"title\":{\"text\":\"Residuals\"}},\"legend\":{\"tracegroupgap\":0},\"title\":{\"text\":\"Residuals Distribution Across Countries\"},\"boxmode\":\"group\"},                        {\"responsive\": true}                    ).then(function(){\n",
       "                            \n",
       "var gd = document.getElementById('4d0f38c9-744d-4d76-9a22-f3b80024d7f3');\n",
       "var x = new MutationObserver(function (mutations, observer) {{\n",
       "        var display = window.getComputedStyle(gd).display;\n",
       "        if (!display || display === 'none') {{\n",
       "            console.log([gd, 'removed!']);\n",
       "            Plotly.purge(gd);\n",
       "            observer.disconnect();\n",
       "        }}\n",
       "}});\n",
       "\n",
       "// Listen for the removal of the full notebook cells\n",
       "var notebookContainer = gd.closest('#notebook-container');\n",
       "if (notebookContainer) {{\n",
       "    x.observe(notebookContainer, {childList: true});\n",
       "}}\n",
       "\n",
       "// Listen for the clearing of the current output cell\n",
       "var outputEl = gd.closest('.output');\n",
       "if (outputEl) {{\n",
       "    x.observe(outputEl, {childList: true});\n",
       "}}\n",
       "\n",
       "                        })                };                });            </script>        </div>"
      ]
     },
     "metadata": {},
     "output_type": "display_data"
    }
   ],
   "source": [
    "fig = px.box(predictions, x='country', y='Residuals', title=\"Residuals Distribution Across Countries\")\n",
    "fig.show()"
   ]
  },
  {
   "cell_type": "code",
   "execution_count": 43,
   "id": "4e4b374e",
   "metadata": {},
   "outputs": [
    {
     "data": {
      "application/vnd.plotly.v1+json": {
       "config": {
        "plotlyServerURL": "https://plot.ly"
       },
       "data": [
        {
         "hovertemplate": "country=CN<br>prediction_label=%{x}<br>standardized_residuals=%{y}<extra></extra>",
         "legendgroup": "CN",
         "marker": {
          "color": "#636efa",
          "symbol": "circle"
         },
         "mode": "markers",
         "name": "CN",
         "orientation": "v",
         "showlegend": true,
         "type": "scatter",
         "x": [
          2482.2830619851647,
          7388.191081478686,
          6015.905058725337,
          7018.001880013335,
          1175.4621444715053,
          2065.5264444368977,
          6096.061341346256,
          1777.680275181996,
          5390.231244962277,
          3269.2239719739205,
          3827.3346397808227,
          4497.431076919598,
          6249.355140865052,
          6575.606697532389,
          2059.0657472790886,
          3591.557919963636,
          4756.547567218728,
          1259.63620965284,
          1497.44530293582,
          5033.4700447392715,
          4063.496632012134,
          1206.005974067906,
          4727.133691387877,
          5239.506680858225,
          2937.147807883118,
          5157.891228822714,
          4096.513169856095,
          4130.109054034413,
          5508.517268110251,
          6266.66267195388,
          4735.160796029647,
          5075.590377240866,
          8225.311173120004,
          4772.229942085345,
          8080.041705695493,
          2206.9142333347086,
          3466.6999640313206,
          3613.4996287091535,
          3995.6082745332874,
          4746.447002246328,
          1871.9740795071232,
          8121.26859364456,
          5165.424775506104,
          6543.022487160274,
          1821.769329785138,
          4982.733554160343,
          4760.94273679638,
          1033.8314999332886,
          3782.420935586888,
          6134.28040109483,
          2438.451423316484,
          2728.4460264774402,
          9407.88658883917,
          1096.213204361878,
          1094.8046973180349,
          4838.85554786599,
          3942.64078079325,
          2441.015934363943,
          633.4760371881277,
          826.9656578744535,
          5247.724785682591,
          3368.115991814009,
          3464.497649052262,
          5246.711508076494,
          5288.02999221273,
          7656.605519056892,
          9928.47262034947,
          3483.034575782369,
          4843.502588466406
         ],
         "xaxis": "x",
         "y": [
          0.014028087298280766,
          -1.9950746900231588,
          -0.05067649923082095,
          0.2620562952540037,
          -0.4434000396230318,
          0.026390211614531558,
          0.7850884529625389,
          -0.33447927336436195,
          0.04622291072391367,
          -1.1213501486932056,
          0.39986703833253023,
          -0.5111586185456134,
          1.860757586277299,
          -0.24763008718674223,
          -1.4339249025539826,
          -0.49446767701343464,
          -0.08883789107793623,
          0.16960528365615987,
          0.8735577682483987,
          -0.8819174238887308,
          0.34806249794258975,
          0.3309321671722339,
          -1.0429488982103725,
          0.6352850948414683,
          0.956055327821501,
          -1.1373830132538019,
          -0.4639222570610397,
          0.0900372882466522,
          2.223551244927288,
          -0.32351277799688494,
          0.5128626598014283,
          -0.45516734807517173,
          2.525936893741019,
          -0.7779516181784696,
          1.2141309998405798,
          -0.12835878582128354,
          -1.622592922556234,
          -1.7153408634061753,
          0.3183323351502226,
          0.3123957965374435,
          0.3484255128647243,
          2.6682013369031785,
          -2.1761483133405273,
          0.7792757560369203,
          0.020635445449354983,
          0.42082593826674836,
          -0.22797645408008585,
          -0.4131923609065068,
          -0.3821005987967942,
          -0.9589569442257169,
          -1.2447456917901651,
          0.025783390861831512,
          0.21616317670750504,
          -0.5078756412774245,
          0.3874767732676011,
          1.5813853182927673,
          0.28180402459454507,
          -0.2291074298422446,
          -0.4244788112013045,
          -0.4469979629643646,
          0.8535429803280707,
          -0.6942662361459122,
          -0.5463954691743691,
          1.1314434430869147,
          -0.28951598575047827,
          3.167050663279737,
          0.8415233393727912,
          -0.1496556369741054,
          1.0741210025863626
         ],
         "yaxis": "y"
        },
        {
         "alignmentgroup": "True",
         "bingroup": "y",
         "hovertemplate": "country=CN<br>standardized_residuals=%{y}<br>count=%{x}<extra></extra>",
         "legendgroup": "CN",
         "marker": {
          "color": "#636efa"
         },
         "name": "CN",
         "offsetgroup": "CN",
         "opacity": 0.5,
         "showlegend": false,
         "type": "histogram",
         "xaxis": "x2",
         "y": [
          0.014028087298280766,
          -1.9950746900231588,
          -0.05067649923082095,
          0.2620562952540037,
          -0.4434000396230318,
          0.026390211614531558,
          0.7850884529625389,
          -0.33447927336436195,
          0.04622291072391367,
          -1.1213501486932056,
          0.39986703833253023,
          -0.5111586185456134,
          1.860757586277299,
          -0.24763008718674223,
          -1.4339249025539826,
          -0.49446767701343464,
          -0.08883789107793623,
          0.16960528365615987,
          0.8735577682483987,
          -0.8819174238887308,
          0.34806249794258975,
          0.3309321671722339,
          -1.0429488982103725,
          0.6352850948414683,
          0.956055327821501,
          -1.1373830132538019,
          -0.4639222570610397,
          0.0900372882466522,
          2.223551244927288,
          -0.32351277799688494,
          0.5128626598014283,
          -0.45516734807517173,
          2.525936893741019,
          -0.7779516181784696,
          1.2141309998405798,
          -0.12835878582128354,
          -1.622592922556234,
          -1.7153408634061753,
          0.3183323351502226,
          0.3123957965374435,
          0.3484255128647243,
          2.6682013369031785,
          -2.1761483133405273,
          0.7792757560369203,
          0.020635445449354983,
          0.42082593826674836,
          -0.22797645408008585,
          -0.4131923609065068,
          -0.3821005987967942,
          -0.9589569442257169,
          -1.2447456917901651,
          0.025783390861831512,
          0.21616317670750504,
          -0.5078756412774245,
          0.3874767732676011,
          1.5813853182927673,
          0.28180402459454507,
          -0.2291074298422446,
          -0.4244788112013045,
          -0.4469979629643646,
          0.8535429803280707,
          -0.6942662361459122,
          -0.5463954691743691,
          1.1314434430869147,
          -0.28951598575047827,
          3.167050663279737,
          0.8415233393727912,
          -0.1496556369741054,
          1.0741210025863626
         ],
         "yaxis": "y2"
        },
        {
         "hovertemplate": "country=FR<br>prediction_label=%{x}<br>standardized_residuals=%{y}<extra></extra>",
         "legendgroup": "FR",
         "marker": {
          "color": "#EF553B",
          "symbol": "circle"
         },
         "mode": "markers",
         "name": "FR",
         "orientation": "v",
         "showlegend": true,
         "type": "scatter",
         "x": [
          676.6590762651746,
          445.19341896513436,
          230.93785487866887,
          4123.73976408086,
          1734.0926190959135,
          529.6190442228699,
          508.0758668716307,
          335.1372092400104,
          566.4610231941356,
          846.1677060307894
         ],
         "xaxis": "x",
         "y": [
          -0.07611109239204475,
          -0.22888147193424005,
          -0.16038107269227414,
          -0.36189120722514095,
          -0.8002356004307543,
          -0.21797901393509553,
          -0.06616183484346809,
          0.07023878970404392,
          -0.27510067416460504,
          0.0786827858140454
         ],
         "yaxis": "y"
        },
        {
         "alignmentgroup": "True",
         "bingroup": "y",
         "hovertemplate": "country=FR<br>standardized_residuals=%{y}<br>count=%{x}<extra></extra>",
         "legendgroup": "FR",
         "marker": {
          "color": "#EF553B"
         },
         "name": "FR",
         "offsetgroup": "FR",
         "opacity": 0.5,
         "showlegend": false,
         "type": "histogram",
         "xaxis": "x2",
         "y": [
          -0.07611109239204475,
          -0.22888147193424005,
          -0.16038107269227414,
          -0.36189120722514095,
          -0.8002356004307543,
          -0.21797901393509553,
          -0.06616183484346809,
          0.07023878970404392,
          -0.27510067416460504,
          0.0786827858140454
         ],
         "yaxis": "y2"
        },
        {
         "hovertemplate": "country=CA<br>prediction_label=%{x}<br>standardized_residuals=%{y}<extra></extra>",
         "legendgroup": "CA",
         "marker": {
          "color": "#00cc96",
          "symbol": "circle"
         },
         "mode": "markers",
         "name": "CA",
         "orientation": "v",
         "showlegend": true,
         "type": "scatter",
         "x": [
          2875.62157796489,
          634.6742707984018
         ],
         "xaxis": "x",
         "y": [
          -0.8588029401170943,
          -0.28603193269471067
         ],
         "yaxis": "y"
        },
        {
         "alignmentgroup": "True",
         "bingroup": "y",
         "hovertemplate": "country=CA<br>standardized_residuals=%{y}<br>count=%{x}<extra></extra>",
         "legendgroup": "CA",
         "marker": {
          "color": "#00cc96"
         },
         "name": "CA",
         "offsetgroup": "CA",
         "opacity": 0.5,
         "showlegend": false,
         "type": "histogram",
         "xaxis": "x2",
         "y": [
          -0.8588029401170943,
          -0.28603193269471067
         ],
         "yaxis": "y2"
        },
        {
         "hovertemplate": "country=IT<br>prediction_label=%{x}<br>standardized_residuals=%{y}<extra></extra>",
         "legendgroup": "IT",
         "marker": {
          "color": "#ab63fa",
          "symbol": "circle"
         },
         "mode": "markers",
         "name": "IT",
         "orientation": "v",
         "showlegend": true,
         "type": "scatter",
         "x": [
          171.20393611151448,
          878.0823793757291,
          984.2640975464672,
          1116.1876820912864,
          582.8897020782424,
          1320.1042750533047,
          664.9404845450789,
          715.2032772261257,
          1554.6057241736344
         ],
         "xaxis": "x",
         "y": [
          0.2100506872764481,
          -0.3558899918390542,
          0.5169902242780707,
          0.037509932738721,
          -0.086283732286841,
          -0.4392574048988114,
          0.42896359947524604,
          0.6096543264361073,
          0.4193823108400307
         ],
         "yaxis": "y"
        },
        {
         "alignmentgroup": "True",
         "bingroup": "y",
         "hovertemplate": "country=IT<br>standardized_residuals=%{y}<br>count=%{x}<extra></extra>",
         "legendgroup": "IT",
         "marker": {
          "color": "#ab63fa"
         },
         "name": "IT",
         "offsetgroup": "IT",
         "opacity": 0.5,
         "showlegend": false,
         "type": "histogram",
         "xaxis": "x2",
         "y": [
          0.2100506872764481,
          -0.3558899918390542,
          0.5169902242780707,
          0.037509932738721,
          -0.086283732286841,
          -0.4392574048988114,
          0.42896359947524604,
          0.6096543264361073,
          0.4193823108400307
         ],
         "yaxis": "y2"
        },
        {
         "hovertemplate": "country=HK<br>prediction_label=%{x}<br>standardized_residuals=%{y}<extra></extra>",
         "legendgroup": "HK",
         "marker": {
          "color": "#FFA15A",
          "symbol": "circle"
         },
         "mode": "markers",
         "name": "HK",
         "orientation": "v",
         "showlegend": true,
         "type": "scatter",
         "x": [
          1979.8741327477676,
          2883.045672049242,
          2617.6308900204303,
          4621.785794159872,
          2833.842569478166,
          3245.441846585387,
          2851.5994560018294,
          1155.9696154675917,
          4119.2780843216315,
          4831.237128382562,
          2349.647985331764
         ],
         "xaxis": "x",
         "y": [
          -0.5580479893627763,
          0.10666344217149838,
          -1.469772037018853,
          -0.22318733272767227,
          0.6335687979602838,
          0.5791059397330451,
          -1.072204041376626,
          0.12915529113968346,
          -0.8828793792790322,
          -0.4673730813530482,
          1.0123208814081543
         ],
         "yaxis": "y"
        },
        {
         "alignmentgroup": "True",
         "bingroup": "y",
         "hovertemplate": "country=HK<br>standardized_residuals=%{y}<br>count=%{x}<extra></extra>",
         "legendgroup": "HK",
         "marker": {
          "color": "#FFA15A"
         },
         "name": "HK",
         "offsetgroup": "HK",
         "opacity": 0.5,
         "showlegend": false,
         "type": "histogram",
         "xaxis": "x2",
         "y": [
          -0.5580479893627763,
          0.10666344217149838,
          -1.469772037018853,
          -0.22318733272767227,
          0.6335687979602838,
          0.5791059397330451,
          -1.072204041376626,
          0.12915529113968346,
          -0.8828793792790322,
          -0.4673730813530482,
          1.0123208814081543
         ],
         "yaxis": "y2"
        },
        {
         "hovertemplate": "country=BE<br>prediction_label=%{x}<br>standardized_residuals=%{y}<extra></extra>",
         "legendgroup": "BE",
         "marker": {
          "color": "#19d3f3",
          "symbol": "circle"
         },
         "mode": "markers",
         "name": "BE",
         "orientation": "v",
         "showlegend": true,
         "type": "scatter",
         "x": [
          792.7002029344275
         ],
         "xaxis": "x",
         "y": [
          0.5062924732987178
         ],
         "yaxis": "y"
        },
        {
         "alignmentgroup": "True",
         "bingroup": "y",
         "hovertemplate": "country=BE<br>standardized_residuals=%{y}<br>count=%{x}<extra></extra>",
         "legendgroup": "BE",
         "marker": {
          "color": "#19d3f3"
         },
         "name": "BE",
         "offsetgroup": "BE",
         "opacity": 0.5,
         "showlegend": false,
         "type": "histogram",
         "xaxis": "x2",
         "y": [
          0.5062924732987178
         ],
         "yaxis": "y2"
        },
        {
         "hovertemplate": "country=US<br>prediction_label=%{x}<br>standardized_residuals=%{y}<extra></extra>",
         "legendgroup": "US",
         "marker": {
          "color": "#FF6692",
          "symbol": "circle"
         },
         "mode": "markers",
         "name": "US",
         "orientation": "v",
         "showlegend": true,
         "type": "scatter",
         "x": [
          2028.3479499258067,
          700.5326938027852,
          3300.1968564263498,
          1150.4456794333178,
          3936.7386646811683,
          804.8699390289312,
          1647.0906439737853,
          1729.4684590426607,
          1126.2962765072896,
          3443.4004123294235,
          503.8906630204192
         ],
         "xaxis": "x",
         "y": [
          -0.6822342076502275,
          0.42626849004393585,
          -1.8707439139395778,
          0.12470082008681709,
          -0.6311333759680077,
          -0.2973926541433428,
          -0.7998456559817766,
          1.5443187060379011,
          0.47558294557158204,
          -1.565511606950026,
          -0.04565688603403787
         ],
         "yaxis": "y"
        },
        {
         "alignmentgroup": "True",
         "bingroup": "y",
         "hovertemplate": "country=US<br>standardized_residuals=%{y}<br>count=%{x}<extra></extra>",
         "legendgroup": "US",
         "marker": {
          "color": "#FF6692"
         },
         "name": "US",
         "offsetgroup": "US",
         "opacity": 0.5,
         "showlegend": false,
         "type": "histogram",
         "xaxis": "x2",
         "y": [
          -0.6822342076502275,
          0.42626849004393585,
          -1.8707439139395778,
          0.12470082008681709,
          -0.6311333759680077,
          -0.2973926541433428,
          -0.7998456559817766,
          1.5443187060379011,
          0.47558294557158204,
          -1.565511606950026,
          -0.04565688603403787
         ],
         "yaxis": "y2"
        },
        {
         "hovertemplate": "country=BG<br>prediction_label=%{x}<br>standardized_residuals=%{y}<extra></extra>",
         "legendgroup": "BG",
         "marker": {
          "color": "#B6E880",
          "symbol": "circle"
         },
         "mode": "markers",
         "name": "BG",
         "orientation": "v",
         "showlegend": true,
         "type": "scatter",
         "x": [
          2853.4256194126706
         ],
         "xaxis": "x",
         "y": [
          0.6253090408592545
         ],
         "yaxis": "y"
        },
        {
         "alignmentgroup": "True",
         "bingroup": "y",
         "hovertemplate": "country=BG<br>standardized_residuals=%{y}<br>count=%{x}<extra></extra>",
         "legendgroup": "BG",
         "marker": {
          "color": "#B6E880"
         },
         "name": "BG",
         "offsetgroup": "BG",
         "opacity": 0.5,
         "showlegend": false,
         "type": "histogram",
         "xaxis": "x2",
         "y": [
          0.6253090408592545
         ],
         "yaxis": "y2"
        },
        {
         "hovertemplate": "country=AT<br>prediction_label=%{x}<br>standardized_residuals=%{y}<extra></extra>",
         "legendgroup": "AT",
         "marker": {
          "color": "#FF97FF",
          "symbol": "circle"
         },
         "mode": "markers",
         "name": "AT",
         "orientation": "v",
         "showlegend": true,
         "type": "scatter",
         "x": [
          2514.367235917442,
          458.3884109781797
         ],
         "xaxis": "x",
         "y": [
          -0.6195810231294583,
          -0.04028798772121911
         ],
         "yaxis": "y"
        },
        {
         "alignmentgroup": "True",
         "bingroup": "y",
         "hovertemplate": "country=AT<br>standardized_residuals=%{y}<br>count=%{x}<extra></extra>",
         "legendgroup": "AT",
         "marker": {
          "color": "#FF97FF"
         },
         "name": "AT",
         "offsetgroup": "AT",
         "opacity": 0.5,
         "showlegend": false,
         "type": "histogram",
         "xaxis": "x2",
         "y": [
          -0.6195810231294583,
          -0.04028798772121911
         ],
         "yaxis": "y2"
        },
        {
         "hovertemplate": "country=IN<br>prediction_label=%{x}<br>standardized_residuals=%{y}<extra></extra>",
         "legendgroup": "IN",
         "marker": {
          "color": "#FECB52",
          "symbol": "circle"
         },
         "mode": "markers",
         "name": "IN",
         "orientation": "v",
         "showlegend": true,
         "type": "scatter",
         "x": [
          5200.160311920525,
          4977.762368403965,
          5412.035957789047,
          4560.776430121206,
          3778.8627855899967,
          2253.7202673768816
         ],
         "xaxis": "x",
         "y": [
          -3.624475875497612,
          -0.11932583774958516,
          -0.0845126137927295,
          -1.2515903264722923,
          -0.6304545172337244,
          0.957078360001268
         ],
         "yaxis": "y"
        },
        {
         "alignmentgroup": "True",
         "bingroup": "y",
         "hovertemplate": "country=IN<br>standardized_residuals=%{y}<br>count=%{x}<extra></extra>",
         "legendgroup": "IN",
         "marker": {
          "color": "#FECB52"
         },
         "name": "IN",
         "offsetgroup": "IN",
         "opacity": 0.5,
         "showlegend": false,
         "type": "histogram",
         "xaxis": "x2",
         "y": [
          -3.624475875497612,
          -0.11932583774958516,
          -0.0845126137927295,
          -1.2515903264722923,
          -0.6304545172337244,
          0.957078360001268
         ],
         "yaxis": "y2"
        },
        {
         "hovertemplate": "country=ES<br>prediction_label=%{x}<br>standardized_residuals=%{y}<extra></extra>",
         "legendgroup": "ES",
         "marker": {
          "color": "#636efa",
          "symbol": "circle"
         },
         "mode": "markers",
         "name": "ES",
         "orientation": "v",
         "showlegend": true,
         "type": "scatter",
         "x": [
          394.76053349607633,
          1862.087586936944,
          976.6851882542585,
          532.1473843670333
         ],
         "xaxis": "x",
         "y": [
          -0.3212738569186042,
          -0.5121593960522319,
          -0.3597341167338534,
          -0.1120540658882922
         ],
         "yaxis": "y"
        },
        {
         "alignmentgroup": "True",
         "bingroup": "y",
         "hovertemplate": "country=ES<br>standardized_residuals=%{y}<br>count=%{x}<extra></extra>",
         "legendgroup": "ES",
         "marker": {
          "color": "#636efa"
         },
         "name": "ES",
         "offsetgroup": "ES",
         "opacity": 0.5,
         "showlegend": false,
         "type": "histogram",
         "xaxis": "x2",
         "y": [
          -0.3212738569186042,
          -0.5121593960522319,
          -0.3597341167338534,
          -0.1120540658882922
         ],
         "yaxis": "y2"
        },
        {
         "hovertemplate": "country=KR<br>prediction_label=%{x}<br>standardized_residuals=%{y}<extra></extra>",
         "legendgroup": "KR",
         "marker": {
          "color": "#EF553B",
          "symbol": "circle"
         },
         "mode": "markers",
         "name": "KR",
         "orientation": "v",
         "showlegend": true,
         "type": "scatter",
         "x": [
          3783.286190978206,
          800.8266785965299,
          5051.826809094985,
          855.5148044528878
         ],
         "xaxis": "x",
         "y": [
          0.16825323274891632,
          -0.4170763395137472,
          2.6441079681676043,
          -0.17668991529924005
         ],
         "yaxis": "y"
        },
        {
         "alignmentgroup": "True",
         "bingroup": "y",
         "hovertemplate": "country=KR<br>standardized_residuals=%{y}<br>count=%{x}<extra></extra>",
         "legendgroup": "KR",
         "marker": {
          "color": "#EF553B"
         },
         "name": "KR",
         "offsetgroup": "KR",
         "opacity": 0.5,
         "showlegend": false,
         "type": "histogram",
         "xaxis": "x2",
         "y": [
          0.16825323274891632,
          -0.4170763395137472,
          2.6441079681676043,
          -0.17668991529924005
         ],
         "yaxis": "y2"
        },
        {
         "hovertemplate": "country=SA<br>prediction_label=%{x}<br>standardized_residuals=%{y}<extra></extra>",
         "legendgroup": "SA",
         "marker": {
          "color": "#00cc96",
          "symbol": "circle"
         },
         "mode": "markers",
         "name": "SA",
         "orientation": "v",
         "showlegend": true,
         "type": "scatter",
         "x": [
          3592.456336520528
         ],
         "xaxis": "x",
         "y": [
          2.821048060256218
         ],
         "yaxis": "y"
        },
        {
         "alignmentgroup": "True",
         "bingroup": "y",
         "hovertemplate": "country=SA<br>standardized_residuals=%{y}<br>count=%{x}<extra></extra>",
         "legendgroup": "SA",
         "marker": {
          "color": "#00cc96"
         },
         "name": "SA",
         "offsetgroup": "SA",
         "opacity": 0.5,
         "showlegend": false,
         "type": "histogram",
         "xaxis": "x2",
         "y": [
          2.821048060256218
         ],
         "yaxis": "y2"
        },
        {
         "hovertemplate": "country=CL<br>prediction_label=%{x}<br>standardized_residuals=%{y}<extra></extra>",
         "legendgroup": "CL",
         "marker": {
          "color": "#ab63fa",
          "symbol": "circle"
         },
         "mode": "markers",
         "name": "CL",
         "orientation": "v",
         "showlegend": true,
         "type": "scatter",
         "x": [
          4878.815738993745
         ],
         "xaxis": "x",
         "y": [
          1.030357001996143
         ],
         "yaxis": "y"
        },
        {
         "alignmentgroup": "True",
         "bingroup": "y",
         "hovertemplate": "country=CL<br>standardized_residuals=%{y}<br>count=%{x}<extra></extra>",
         "legendgroup": "CL",
         "marker": {
          "color": "#ab63fa"
         },
         "name": "CL",
         "offsetgroup": "CL",
         "opacity": 0.5,
         "showlegend": false,
         "type": "histogram",
         "xaxis": "x2",
         "y": [
          1.030357001996143
         ],
         "yaxis": "y2"
        },
        {
         "hovertemplate": "country=SE<br>prediction_label=%{x}<br>standardized_residuals=%{y}<extra></extra>",
         "legendgroup": "SE",
         "marker": {
          "color": "#FFA15A",
          "symbol": "circle"
         },
         "mode": "markers",
         "name": "SE",
         "orientation": "v",
         "showlegend": true,
         "type": "scatter",
         "x": [
          640.3527219336985
         ],
         "xaxis": "x",
         "y": [
          -0.0021914792895672323
         ],
         "yaxis": "y"
        },
        {
         "alignmentgroup": "True",
         "bingroup": "y",
         "hovertemplate": "country=SE<br>standardized_residuals=%{y}<br>count=%{x}<extra></extra>",
         "legendgroup": "SE",
         "marker": {
          "color": "#FFA15A"
         },
         "name": "SE",
         "offsetgroup": "SE",
         "opacity": 0.5,
         "showlegend": false,
         "type": "histogram",
         "xaxis": "x2",
         "y": [
          -0.0021914792895672323
         ],
         "yaxis": "y2"
        },
        {
         "hovertemplate": "country=DE<br>prediction_label=%{x}<br>standardized_residuals=%{y}<extra></extra>",
         "legendgroup": "DE",
         "marker": {
          "color": "#19d3f3",
          "symbol": "circle"
         },
         "mode": "markers",
         "name": "DE",
         "orientation": "v",
         "showlegend": true,
         "type": "scatter",
         "x": [
          581.7343128001517,
          406.4617395659054,
          612.4712222781559,
          891.3924149678916,
          117.11687950893491,
          402.3848364241312,
          479.30626009987
         ],
         "xaxis": "x",
         "y": [
          0.9053497589900966,
          -0.16452984164931203,
          1.5918457599386329,
          0.8430986240673864,
          -0.13006727034178475,
          0.07995883746690838,
          0.0794395024917813
         ],
         "yaxis": "y"
        },
        {
         "alignmentgroup": "True",
         "bingroup": "y",
         "hovertemplate": "country=DE<br>standardized_residuals=%{y}<br>count=%{x}<extra></extra>",
         "legendgroup": "DE",
         "marker": {
          "color": "#19d3f3"
         },
         "name": "DE",
         "offsetgroup": "DE",
         "opacity": 0.5,
         "showlegend": false,
         "type": "histogram",
         "xaxis": "x2",
         "y": [
          0.9053497589900966,
          -0.16452984164931203,
          1.5918457599386329,
          0.8430986240673864,
          -0.13006727034178475,
          0.07995883746690838,
          0.0794395024917813
         ],
         "yaxis": "y2"
        },
        {
         "hovertemplate": "country=JP<br>prediction_label=%{x}<br>standardized_residuals=%{y}<extra></extra>",
         "legendgroup": "JP",
         "marker": {
          "color": "#FF6692",
          "symbol": "circle"
         },
         "mode": "markers",
         "name": "JP",
         "orientation": "v",
         "showlegend": true,
         "type": "scatter",
         "x": [
          403.8518513271085,
          729.2844225315079,
          912.0220179828044,
          4192.7491018395085
         ],
         "xaxis": "x",
         "y": [
          0.20450543722886894,
          0.43616273245342163,
          0.34654680856831116,
          -3.588780778256201
         ],
         "yaxis": "y"
        },
        {
         "alignmentgroup": "True",
         "bingroup": "y",
         "hovertemplate": "country=JP<br>standardized_residuals=%{y}<br>count=%{x}<extra></extra>",
         "legendgroup": "JP",
         "marker": {
          "color": "#FF6692"
         },
         "name": "JP",
         "offsetgroup": "JP",
         "opacity": 0.5,
         "showlegend": false,
         "type": "histogram",
         "xaxis": "x2",
         "y": [
          0.20450543722886894,
          0.43616273245342163,
          0.34654680856831116,
          -3.588780778256201
         ],
         "yaxis": "y2"
        },
        {
         "hovertemplate": "country=PA<br>prediction_label=%{x}<br>standardized_residuals=%{y}<extra></extra>",
         "legendgroup": "PA",
         "marker": {
          "color": "#B6E880",
          "symbol": "circle"
         },
         "mode": "markers",
         "name": "PA",
         "orientation": "v",
         "showlegend": true,
         "type": "scatter",
         "x": [
          4332.188771502049
         ],
         "xaxis": "x",
         "y": [
          1.2616215643968538
         ],
         "yaxis": "y"
        },
        {
         "alignmentgroup": "True",
         "bingroup": "y",
         "hovertemplate": "country=PA<br>standardized_residuals=%{y}<br>count=%{x}<extra></extra>",
         "legendgroup": "PA",
         "marker": {
          "color": "#B6E880"
         },
         "name": "PA",
         "offsetgroup": "PA",
         "opacity": 0.5,
         "showlegend": false,
         "type": "histogram",
         "xaxis": "x2",
         "y": [
          1.2616215643968538
         ],
         "yaxis": "y2"
        },
        {
         "hovertemplate": "country=IR<br>prediction_label=%{x}<br>standardized_residuals=%{y}<extra></extra>",
         "legendgroup": "IR",
         "marker": {
          "color": "#FF97FF",
          "symbol": "circle"
         },
         "mode": "markers",
         "name": "IR",
         "orientation": "v",
         "showlegend": true,
         "type": "scatter",
         "x": [
          6559.918489890212
         ],
         "xaxis": "x",
         "y": [
          1.2911709621157927
         ],
         "yaxis": "y"
        },
        {
         "alignmentgroup": "True",
         "bingroup": "y",
         "hovertemplate": "country=IR<br>standardized_residuals=%{y}<br>count=%{x}<extra></extra>",
         "legendgroup": "IR",
         "marker": {
          "color": "#FF97FF"
         },
         "name": "IR",
         "offsetgroup": "IR",
         "opacity": 0.5,
         "showlegend": false,
         "type": "histogram",
         "xaxis": "x2",
         "y": [
          1.2911709621157927
         ],
         "yaxis": "y2"
        },
        {
         "hovertemplate": "country=UK<br>prediction_label=%{x}<br>standardized_residuals=%{y}<extra></extra>",
         "legendgroup": "UK",
         "marker": {
          "color": "#FECB52",
          "symbol": "circle"
         },
         "mode": "markers",
         "name": "UK",
         "orientation": "v",
         "showlegend": true,
         "type": "scatter",
         "x": [
          1001.9028521501931
         ],
         "xaxis": "x",
         "y": [
          -0.10029190154325678
         ],
         "yaxis": "y"
        },
        {
         "alignmentgroup": "True",
         "bingroup": "y",
         "hovertemplate": "country=UK<br>standardized_residuals=%{y}<br>count=%{x}<extra></extra>",
         "legendgroup": "UK",
         "marker": {
          "color": "#FECB52"
         },
         "name": "UK",
         "offsetgroup": "UK",
         "opacity": 0.5,
         "showlegend": false,
         "type": "histogram",
         "xaxis": "x2",
         "y": [
          -0.10029190154325678
         ],
         "yaxis": "y2"
        },
        {
         "hovertemplate": "country=TW<br>prediction_label=%{x}<br>standardized_residuals=%{y}<extra></extra>",
         "legendgroup": "TW",
         "marker": {
          "color": "#636efa",
          "symbol": "circle"
         },
         "mode": "markers",
         "name": "TW",
         "orientation": "v",
         "showlegend": true,
         "type": "scatter",
         "x": [
          1506.0835948690806
         ],
         "xaxis": "x",
         "y": [
          2.2544184530437175
         ],
         "yaxis": "y"
        },
        {
         "alignmentgroup": "True",
         "bingroup": "y",
         "hovertemplate": "country=TW<br>standardized_residuals=%{y}<br>count=%{x}<extra></extra>",
         "legendgroup": "TW",
         "marker": {
          "color": "#636efa"
         },
         "name": "TW",
         "offsetgroup": "TW",
         "opacity": 0.5,
         "showlegend": false,
         "type": "histogram",
         "xaxis": "x2",
         "y": [
          2.2544184530437175
         ],
         "yaxis": "y2"
        },
        {
         "hovertemplate": "country=PL<br>prediction_label=%{x}<br>standardized_residuals=%{y}<extra></extra>",
         "legendgroup": "PL",
         "marker": {
          "color": "#EF553B",
          "symbol": "circle"
         },
         "mode": "markers",
         "name": "PL",
         "orientation": "v",
         "showlegend": true,
         "type": "scatter",
         "x": [
          762.6010185194134
         ],
         "xaxis": "x",
         "y": [
          -0.08597600135012319
         ],
         "yaxis": "y"
        },
        {
         "alignmentgroup": "True",
         "bingroup": "y",
         "hovertemplate": "country=PL<br>standardized_residuals=%{y}<br>count=%{x}<extra></extra>",
         "legendgroup": "PL",
         "marker": {
          "color": "#EF553B"
         },
         "name": "PL",
         "offsetgroup": "PL",
         "opacity": 0.5,
         "showlegend": false,
         "type": "histogram",
         "xaxis": "x2",
         "y": [
          -0.08597600135012319
         ],
         "yaxis": "y2"
        },
        {
         "hovertemplate": "country=TH<br>prediction_label=%{x}<br>standardized_residuals=%{y}<extra></extra>",
         "legendgroup": "TH",
         "marker": {
          "color": "#00cc96",
          "symbol": "circle"
         },
         "mode": "markers",
         "name": "TH",
         "orientation": "v",
         "showlegend": true,
         "type": "scatter",
         "x": [
          5322.078200315827,
          2646.132976796051
         ],
         "xaxis": "x",
         "y": [
          -1.5133569933034403,
          -0.4677685203660196
         ],
         "yaxis": "y"
        },
        {
         "alignmentgroup": "True",
         "bingroup": "y",
         "hovertemplate": "country=TH<br>standardized_residuals=%{y}<br>count=%{x}<extra></extra>",
         "legendgroup": "TH",
         "marker": {
          "color": "#00cc96"
         },
         "name": "TH",
         "offsetgroup": "TH",
         "opacity": 0.5,
         "showlegend": false,
         "type": "histogram",
         "xaxis": "x2",
         "y": [
          -1.5133569933034403,
          -0.4677685203660196
         ],
         "yaxis": "y2"
        },
        {
         "hovertemplate": "country=DR<br>prediction_label=%{x}<br>standardized_residuals=%{y}<extra></extra>",
         "legendgroup": "DR",
         "marker": {
          "color": "#ab63fa",
          "symbol": "circle"
         },
         "mode": "markers",
         "name": "DR",
         "orientation": "v",
         "showlegend": true,
         "type": "scatter",
         "x": [
          2460.514404812042
         ],
         "xaxis": "x",
         "y": [
          -0.3098079460148733
         ],
         "yaxis": "y"
        },
        {
         "alignmentgroup": "True",
         "bingroup": "y",
         "hovertemplate": "country=DR<br>standardized_residuals=%{y}<br>count=%{x}<extra></extra>",
         "legendgroup": "DR",
         "marker": {
          "color": "#ab63fa"
         },
         "name": "DR",
         "offsetgroup": "DR",
         "opacity": 0.5,
         "showlegend": false,
         "type": "histogram",
         "xaxis": "x2",
         "y": [
          -0.3098079460148733
         ],
         "yaxis": "y2"
        },
        {
         "hovertemplate": "country=TR<br>prediction_label=%{x}<br>standardized_residuals=%{y}<extra></extra>",
         "legendgroup": "TR",
         "marker": {
          "color": "#FFA15A",
          "symbol": "circle"
         },
         "mode": "markers",
         "name": "TR",
         "orientation": "v",
         "showlegend": true,
         "type": "scatter",
         "x": [
          1803.9236968987036
         ],
         "xaxis": "x",
         "y": [
          0.14971062678807173
         ],
         "yaxis": "y"
        },
        {
         "alignmentgroup": "True",
         "bingroup": "y",
         "hovertemplate": "country=TR<br>standardized_residuals=%{y}<br>count=%{x}<extra></extra>",
         "legendgroup": "TR",
         "marker": {
          "color": "#FFA15A"
         },
         "name": "TR",
         "offsetgroup": "TR",
         "opacity": 0.5,
         "showlegend": false,
         "type": "histogram",
         "xaxis": "x2",
         "y": [
          0.14971062678807173
         ],
         "yaxis": "y2"
        }
       ],
       "layout": {
        "barmode": "overlay",
        "legend": {
         "title": {
          "text": "country"
         },
         "tracegroupgap": 0
        },
        "template": {
         "data": {
          "bar": [
           {
            "error_x": {
             "color": "#2a3f5f"
            },
            "error_y": {
             "color": "#2a3f5f"
            },
            "marker": {
             "line": {
              "color": "#E5ECF6",
              "width": 0.5
             },
             "pattern": {
              "fillmode": "overlay",
              "size": 10,
              "solidity": 0.2
             }
            },
            "type": "bar"
           }
          ],
          "barpolar": [
           {
            "marker": {
             "line": {
              "color": "#E5ECF6",
              "width": 0.5
             },
             "pattern": {
              "fillmode": "overlay",
              "size": 10,
              "solidity": 0.2
             }
            },
            "type": "barpolar"
           }
          ],
          "carpet": [
           {
            "aaxis": {
             "endlinecolor": "#2a3f5f",
             "gridcolor": "white",
             "linecolor": "white",
             "minorgridcolor": "white",
             "startlinecolor": "#2a3f5f"
            },
            "baxis": {
             "endlinecolor": "#2a3f5f",
             "gridcolor": "white",
             "linecolor": "white",
             "minorgridcolor": "white",
             "startlinecolor": "#2a3f5f"
            },
            "type": "carpet"
           }
          ],
          "choropleth": [
           {
            "colorbar": {
             "outlinewidth": 0,
             "ticks": ""
            },
            "type": "choropleth"
           }
          ],
          "contour": [
           {
            "colorbar": {
             "outlinewidth": 0,
             "ticks": ""
            },
            "colorscale": [
             [
              0,
              "#0d0887"
             ],
             [
              0.1111111111111111,
              "#46039f"
             ],
             [
              0.2222222222222222,
              "#7201a8"
             ],
             [
              0.3333333333333333,
              "#9c179e"
             ],
             [
              0.4444444444444444,
              "#bd3786"
             ],
             [
              0.5555555555555556,
              "#d8576b"
             ],
             [
              0.6666666666666666,
              "#ed7953"
             ],
             [
              0.7777777777777778,
              "#fb9f3a"
             ],
             [
              0.8888888888888888,
              "#fdca26"
             ],
             [
              1,
              "#f0f921"
             ]
            ],
            "type": "contour"
           }
          ],
          "contourcarpet": [
           {
            "colorbar": {
             "outlinewidth": 0,
             "ticks": ""
            },
            "type": "contourcarpet"
           }
          ],
          "heatmap": [
           {
            "colorbar": {
             "outlinewidth": 0,
             "ticks": ""
            },
            "colorscale": [
             [
              0,
              "#0d0887"
             ],
             [
              0.1111111111111111,
              "#46039f"
             ],
             [
              0.2222222222222222,
              "#7201a8"
             ],
             [
              0.3333333333333333,
              "#9c179e"
             ],
             [
              0.4444444444444444,
              "#bd3786"
             ],
             [
              0.5555555555555556,
              "#d8576b"
             ],
             [
              0.6666666666666666,
              "#ed7953"
             ],
             [
              0.7777777777777778,
              "#fb9f3a"
             ],
             [
              0.8888888888888888,
              "#fdca26"
             ],
             [
              1,
              "#f0f921"
             ]
            ],
            "type": "heatmap"
           }
          ],
          "heatmapgl": [
           {
            "colorbar": {
             "outlinewidth": 0,
             "ticks": ""
            },
            "colorscale": [
             [
              0,
              "#0d0887"
             ],
             [
              0.1111111111111111,
              "#46039f"
             ],
             [
              0.2222222222222222,
              "#7201a8"
             ],
             [
              0.3333333333333333,
              "#9c179e"
             ],
             [
              0.4444444444444444,
              "#bd3786"
             ],
             [
              0.5555555555555556,
              "#d8576b"
             ],
             [
              0.6666666666666666,
              "#ed7953"
             ],
             [
              0.7777777777777778,
              "#fb9f3a"
             ],
             [
              0.8888888888888888,
              "#fdca26"
             ],
             [
              1,
              "#f0f921"
             ]
            ],
            "type": "heatmapgl"
           }
          ],
          "histogram": [
           {
            "marker": {
             "pattern": {
              "fillmode": "overlay",
              "size": 10,
              "solidity": 0.2
             }
            },
            "type": "histogram"
           }
          ],
          "histogram2d": [
           {
            "colorbar": {
             "outlinewidth": 0,
             "ticks": ""
            },
            "colorscale": [
             [
              0,
              "#0d0887"
             ],
             [
              0.1111111111111111,
              "#46039f"
             ],
             [
              0.2222222222222222,
              "#7201a8"
             ],
             [
              0.3333333333333333,
              "#9c179e"
             ],
             [
              0.4444444444444444,
              "#bd3786"
             ],
             [
              0.5555555555555556,
              "#d8576b"
             ],
             [
              0.6666666666666666,
              "#ed7953"
             ],
             [
              0.7777777777777778,
              "#fb9f3a"
             ],
             [
              0.8888888888888888,
              "#fdca26"
             ],
             [
              1,
              "#f0f921"
             ]
            ],
            "type": "histogram2d"
           }
          ],
          "histogram2dcontour": [
           {
            "colorbar": {
             "outlinewidth": 0,
             "ticks": ""
            },
            "colorscale": [
             [
              0,
              "#0d0887"
             ],
             [
              0.1111111111111111,
              "#46039f"
             ],
             [
              0.2222222222222222,
              "#7201a8"
             ],
             [
              0.3333333333333333,
              "#9c179e"
             ],
             [
              0.4444444444444444,
              "#bd3786"
             ],
             [
              0.5555555555555556,
              "#d8576b"
             ],
             [
              0.6666666666666666,
              "#ed7953"
             ],
             [
              0.7777777777777778,
              "#fb9f3a"
             ],
             [
              0.8888888888888888,
              "#fdca26"
             ],
             [
              1,
              "#f0f921"
             ]
            ],
            "type": "histogram2dcontour"
           }
          ],
          "mesh3d": [
           {
            "colorbar": {
             "outlinewidth": 0,
             "ticks": ""
            },
            "type": "mesh3d"
           }
          ],
          "parcoords": [
           {
            "line": {
             "colorbar": {
              "outlinewidth": 0,
              "ticks": ""
             }
            },
            "type": "parcoords"
           }
          ],
          "pie": [
           {
            "automargin": true,
            "type": "pie"
           }
          ],
          "scatter": [
           {
            "fillpattern": {
             "fillmode": "overlay",
             "size": 10,
             "solidity": 0.2
            },
            "type": "scatter"
           }
          ],
          "scatter3d": [
           {
            "line": {
             "colorbar": {
              "outlinewidth": 0,
              "ticks": ""
             }
            },
            "marker": {
             "colorbar": {
              "outlinewidth": 0,
              "ticks": ""
             }
            },
            "type": "scatter3d"
           }
          ],
          "scattercarpet": [
           {
            "marker": {
             "colorbar": {
              "outlinewidth": 0,
              "ticks": ""
             }
            },
            "type": "scattercarpet"
           }
          ],
          "scattergeo": [
           {
            "marker": {
             "colorbar": {
              "outlinewidth": 0,
              "ticks": ""
             }
            },
            "type": "scattergeo"
           }
          ],
          "scattergl": [
           {
            "marker": {
             "colorbar": {
              "outlinewidth": 0,
              "ticks": ""
             }
            },
            "type": "scattergl"
           }
          ],
          "scattermapbox": [
           {
            "marker": {
             "colorbar": {
              "outlinewidth": 0,
              "ticks": ""
             }
            },
            "type": "scattermapbox"
           }
          ],
          "scatterpolar": [
           {
            "marker": {
             "colorbar": {
              "outlinewidth": 0,
              "ticks": ""
             }
            },
            "type": "scatterpolar"
           }
          ],
          "scatterpolargl": [
           {
            "marker": {
             "colorbar": {
              "outlinewidth": 0,
              "ticks": ""
             }
            },
            "type": "scatterpolargl"
           }
          ],
          "scatterternary": [
           {
            "marker": {
             "colorbar": {
              "outlinewidth": 0,
              "ticks": ""
             }
            },
            "type": "scatterternary"
           }
          ],
          "surface": [
           {
            "colorbar": {
             "outlinewidth": 0,
             "ticks": ""
            },
            "colorscale": [
             [
              0,
              "#0d0887"
             ],
             [
              0.1111111111111111,
              "#46039f"
             ],
             [
              0.2222222222222222,
              "#7201a8"
             ],
             [
              0.3333333333333333,
              "#9c179e"
             ],
             [
              0.4444444444444444,
              "#bd3786"
             ],
             [
              0.5555555555555556,
              "#d8576b"
             ],
             [
              0.6666666666666666,
              "#ed7953"
             ],
             [
              0.7777777777777778,
              "#fb9f3a"
             ],
             [
              0.8888888888888888,
              "#fdca26"
             ],
             [
              1,
              "#f0f921"
             ]
            ],
            "type": "surface"
           }
          ],
          "table": [
           {
            "cells": {
             "fill": {
              "color": "#EBF0F8"
             },
             "line": {
              "color": "white"
             }
            },
            "header": {
             "fill": {
              "color": "#C8D4E3"
             },
             "line": {
              "color": "white"
             }
            },
            "type": "table"
           }
          ]
         },
         "layout": {
          "annotationdefaults": {
           "arrowcolor": "#2a3f5f",
           "arrowhead": 0,
           "arrowwidth": 1
          },
          "autotypenumbers": "strict",
          "coloraxis": {
           "colorbar": {
            "outlinewidth": 0,
            "ticks": ""
           }
          },
          "colorscale": {
           "diverging": [
            [
             0,
             "#8e0152"
            ],
            [
             0.1,
             "#c51b7d"
            ],
            [
             0.2,
             "#de77ae"
            ],
            [
             0.3,
             "#f1b6da"
            ],
            [
             0.4,
             "#fde0ef"
            ],
            [
             0.5,
             "#f7f7f7"
            ],
            [
             0.6,
             "#e6f5d0"
            ],
            [
             0.7,
             "#b8e186"
            ],
            [
             0.8,
             "#7fbc41"
            ],
            [
             0.9,
             "#4d9221"
            ],
            [
             1,
             "#276419"
            ]
           ],
           "sequential": [
            [
             0,
             "#0d0887"
            ],
            [
             0.1111111111111111,
             "#46039f"
            ],
            [
             0.2222222222222222,
             "#7201a8"
            ],
            [
             0.3333333333333333,
             "#9c179e"
            ],
            [
             0.4444444444444444,
             "#bd3786"
            ],
            [
             0.5555555555555556,
             "#d8576b"
            ],
            [
             0.6666666666666666,
             "#ed7953"
            ],
            [
             0.7777777777777778,
             "#fb9f3a"
            ],
            [
             0.8888888888888888,
             "#fdca26"
            ],
            [
             1,
             "#f0f921"
            ]
           ],
           "sequentialminus": [
            [
             0,
             "#0d0887"
            ],
            [
             0.1111111111111111,
             "#46039f"
            ],
            [
             0.2222222222222222,
             "#7201a8"
            ],
            [
             0.3333333333333333,
             "#9c179e"
            ],
            [
             0.4444444444444444,
             "#bd3786"
            ],
            [
             0.5555555555555556,
             "#d8576b"
            ],
            [
             0.6666666666666666,
             "#ed7953"
            ],
            [
             0.7777777777777778,
             "#fb9f3a"
            ],
            [
             0.8888888888888888,
             "#fdca26"
            ],
            [
             1,
             "#f0f921"
            ]
           ]
          },
          "colorway": [
           "#636efa",
           "#EF553B",
           "#00cc96",
           "#ab63fa",
           "#FFA15A",
           "#19d3f3",
           "#FF6692",
           "#B6E880",
           "#FF97FF",
           "#FECB52"
          ],
          "font": {
           "color": "#2a3f5f"
          },
          "geo": {
           "bgcolor": "white",
           "lakecolor": "white",
           "landcolor": "#E5ECF6",
           "showlakes": true,
           "showland": true,
           "subunitcolor": "white"
          },
          "hoverlabel": {
           "align": "left"
          },
          "hovermode": "closest",
          "mapbox": {
           "style": "light"
          },
          "paper_bgcolor": "white",
          "plot_bgcolor": "#E5ECF6",
          "polar": {
           "angularaxis": {
            "gridcolor": "white",
            "linecolor": "white",
            "ticks": ""
           },
           "bgcolor": "#E5ECF6",
           "radialaxis": {
            "gridcolor": "white",
            "linecolor": "white",
            "ticks": ""
           }
          },
          "scene": {
           "xaxis": {
            "backgroundcolor": "#E5ECF6",
            "gridcolor": "white",
            "gridwidth": 2,
            "linecolor": "white",
            "showbackground": true,
            "ticks": "",
            "zerolinecolor": "white"
           },
           "yaxis": {
            "backgroundcolor": "#E5ECF6",
            "gridcolor": "white",
            "gridwidth": 2,
            "linecolor": "white",
            "showbackground": true,
            "ticks": "",
            "zerolinecolor": "white"
           },
           "zaxis": {
            "backgroundcolor": "#E5ECF6",
            "gridcolor": "white",
            "gridwidth": 2,
            "linecolor": "white",
            "showbackground": true,
            "ticks": "",
            "zerolinecolor": "white"
           }
          },
          "shapedefaults": {
           "line": {
            "color": "#2a3f5f"
           }
          },
          "ternary": {
           "aaxis": {
            "gridcolor": "white",
            "linecolor": "white",
            "ticks": ""
           },
           "baxis": {
            "gridcolor": "white",
            "linecolor": "white",
            "ticks": ""
           },
           "bgcolor": "#E5ECF6",
           "caxis": {
            "gridcolor": "white",
            "linecolor": "white",
            "ticks": ""
           }
          },
          "title": {
           "x": 0.05
          },
          "xaxis": {
           "automargin": true,
           "gridcolor": "white",
           "linecolor": "white",
           "ticks": "",
           "title": {
            "standoff": 15
           },
           "zerolinecolor": "white",
           "zerolinewidth": 2
          },
          "yaxis": {
           "automargin": true,
           "gridcolor": "white",
           "linecolor": "white",
           "ticks": "",
           "title": {
            "standoff": 15
           },
           "zerolinecolor": "white",
           "zerolinewidth": 2
          }
         }
        },
        "title": {
         "text": "Residuals vs. Predictions"
        },
        "xaxis": {
         "anchor": "y",
         "domain": [
          0,
          0.7363
         ],
         "title": {
          "text": "prediction_label"
         }
        },
        "xaxis2": {
         "anchor": "y2",
         "domain": [
          0.7413,
          1
         ],
         "matches": "x2",
         "showgrid": true,
         "showline": false,
         "showticklabels": false,
         "ticks": ""
        },
        "yaxis": {
         "anchor": "x",
         "domain": [
          0,
          1
         ],
         "title": {
          "text": "standardized_residuals"
         }
        },
        "yaxis2": {
         "anchor": "x2",
         "domain": [
          0,
          1
         ],
         "matches": "y",
         "showgrid": true,
         "showticklabels": false
        }
       }
      },
      "text/html": [
       "<div>                            <div id=\"b7b88026-9eeb-420f-8f09-7f4cd598c8ad\" class=\"plotly-graph-div\" style=\"height:525px; width:100%;\"></div>            <script type=\"text/javascript\">                require([\"plotly\"], function(Plotly) {                    window.PLOTLYENV=window.PLOTLYENV || {};                                    if (document.getElementById(\"b7b88026-9eeb-420f-8f09-7f4cd598c8ad\")) {                    Plotly.newPlot(                        \"b7b88026-9eeb-420f-8f09-7f4cd598c8ad\",                        [{\"hovertemplate\":\"country=CN\\u003cbr\\u003eprediction_label=%{x}\\u003cbr\\u003estandardized_residuals=%{y}\\u003cextra\\u003e\\u003c\\u002fextra\\u003e\",\"legendgroup\":\"CN\",\"marker\":{\"color\":\"#636efa\",\"symbol\":\"circle\"},\"mode\":\"markers\",\"name\":\"CN\",\"orientation\":\"v\",\"showlegend\":true,\"x\":[2482.2830619851647,7388.191081478686,6015.905058725337,7018.001880013335,1175.4621444715053,2065.5264444368977,6096.061341346256,1777.680275181996,5390.231244962277,3269.2239719739205,3827.3346397808227,4497.431076919598,6249.355140865052,6575.606697532389,2059.0657472790886,3591.557919963636,4756.547567218728,1259.63620965284,1497.44530293582,5033.4700447392715,4063.496632012134,1206.005974067906,4727.133691387877,5239.506680858225,2937.147807883118,5157.891228822714,4096.513169856095,4130.109054034413,5508.517268110251,6266.66267195388,4735.160796029647,5075.590377240866,8225.311173120004,4772.229942085345,8080.041705695493,2206.9142333347086,3466.6999640313206,3613.4996287091535,3995.6082745332874,4746.447002246328,1871.9740795071232,8121.26859364456,5165.424775506104,6543.022487160274,1821.769329785138,4982.733554160343,4760.94273679638,1033.8314999332886,3782.420935586888,6134.28040109483,2438.451423316484,2728.4460264774402,9407.88658883917,1096.213204361878,1094.8046973180349,4838.85554786599,3942.64078079325,2441.015934363943,633.4760371881277,826.9656578744535,5247.724785682591,3368.115991814009,3464.497649052262,5246.711508076494,5288.02999221273,7656.605519056892,9928.47262034947,3483.034575782369,4843.502588466406],\"xaxis\":\"x\",\"y\":[0.014028087298280766,-1.9950746900231588,-0.05067649923082095,0.2620562952540037,-0.4434000396230318,0.026390211614531558,0.7850884529625389,-0.33447927336436195,0.04622291072391367,-1.1213501486932056,0.39986703833253023,-0.5111586185456134,1.860757586277299,-0.24763008718674223,-1.4339249025539826,-0.49446767701343464,-0.08883789107793623,0.16960528365615987,0.8735577682483987,-0.8819174238887308,0.34806249794258975,0.3309321671722339,-1.0429488982103725,0.6352850948414683,0.956055327821501,-1.1373830132538019,-0.4639222570610397,0.0900372882466522,2.223551244927288,-0.32351277799688494,0.5128626598014283,-0.45516734807517173,2.525936893741019,-0.7779516181784696,1.2141309998405798,-0.12835878582128354,-1.622592922556234,-1.7153408634061753,0.3183323351502226,0.3123957965374435,0.3484255128647243,2.6682013369031785,-2.1761483133405273,0.7792757560369203,0.020635445449354983,0.42082593826674836,-0.22797645408008585,-0.4131923609065068,-0.3821005987967942,-0.9589569442257169,-1.2447456917901651,0.025783390861831512,0.21616317670750504,-0.5078756412774245,0.3874767732676011,1.5813853182927673,0.28180402459454507,-0.2291074298422446,-0.4244788112013045,-0.4469979629643646,0.8535429803280707,-0.6942662361459122,-0.5463954691743691,1.1314434430869147,-0.28951598575047827,3.167050663279737,0.8415233393727912,-0.1496556369741054,1.0741210025863626],\"yaxis\":\"y\",\"type\":\"scatter\"},{\"alignmentgroup\":\"True\",\"bingroup\":\"y\",\"hovertemplate\":\"country=CN\\u003cbr\\u003estandardized_residuals=%{y}\\u003cbr\\u003ecount=%{x}\\u003cextra\\u003e\\u003c\\u002fextra\\u003e\",\"legendgroup\":\"CN\",\"marker\":{\"color\":\"#636efa\"},\"name\":\"CN\",\"offsetgroup\":\"CN\",\"opacity\":0.5,\"showlegend\":false,\"xaxis\":\"x2\",\"y\":[0.014028087298280766,-1.9950746900231588,-0.05067649923082095,0.2620562952540037,-0.4434000396230318,0.026390211614531558,0.7850884529625389,-0.33447927336436195,0.04622291072391367,-1.1213501486932056,0.39986703833253023,-0.5111586185456134,1.860757586277299,-0.24763008718674223,-1.4339249025539826,-0.49446767701343464,-0.08883789107793623,0.16960528365615987,0.8735577682483987,-0.8819174238887308,0.34806249794258975,0.3309321671722339,-1.0429488982103725,0.6352850948414683,0.956055327821501,-1.1373830132538019,-0.4639222570610397,0.0900372882466522,2.223551244927288,-0.32351277799688494,0.5128626598014283,-0.45516734807517173,2.525936893741019,-0.7779516181784696,1.2141309998405798,-0.12835878582128354,-1.622592922556234,-1.7153408634061753,0.3183323351502226,0.3123957965374435,0.3484255128647243,2.6682013369031785,-2.1761483133405273,0.7792757560369203,0.020635445449354983,0.42082593826674836,-0.22797645408008585,-0.4131923609065068,-0.3821005987967942,-0.9589569442257169,-1.2447456917901651,0.025783390861831512,0.21616317670750504,-0.5078756412774245,0.3874767732676011,1.5813853182927673,0.28180402459454507,-0.2291074298422446,-0.4244788112013045,-0.4469979629643646,0.8535429803280707,-0.6942662361459122,-0.5463954691743691,1.1314434430869147,-0.28951598575047827,3.167050663279737,0.8415233393727912,-0.1496556369741054,1.0741210025863626],\"yaxis\":\"y2\",\"type\":\"histogram\"},{\"hovertemplate\":\"country=FR\\u003cbr\\u003eprediction_label=%{x}\\u003cbr\\u003estandardized_residuals=%{y}\\u003cextra\\u003e\\u003c\\u002fextra\\u003e\",\"legendgroup\":\"FR\",\"marker\":{\"color\":\"#EF553B\",\"symbol\":\"circle\"},\"mode\":\"markers\",\"name\":\"FR\",\"orientation\":\"v\",\"showlegend\":true,\"x\":[676.6590762651746,445.19341896513436,230.93785487866887,4123.73976408086,1734.0926190959135,529.6190442228699,508.0758668716307,335.1372092400104,566.4610231941356,846.1677060307894],\"xaxis\":\"x\",\"y\":[-0.07611109239204475,-0.22888147193424005,-0.16038107269227414,-0.36189120722514095,-0.8002356004307543,-0.21797901393509553,-0.06616183484346809,0.07023878970404392,-0.27510067416460504,0.0786827858140454],\"yaxis\":\"y\",\"type\":\"scatter\"},{\"alignmentgroup\":\"True\",\"bingroup\":\"y\",\"hovertemplate\":\"country=FR\\u003cbr\\u003estandardized_residuals=%{y}\\u003cbr\\u003ecount=%{x}\\u003cextra\\u003e\\u003c\\u002fextra\\u003e\",\"legendgroup\":\"FR\",\"marker\":{\"color\":\"#EF553B\"},\"name\":\"FR\",\"offsetgroup\":\"FR\",\"opacity\":0.5,\"showlegend\":false,\"xaxis\":\"x2\",\"y\":[-0.07611109239204475,-0.22888147193424005,-0.16038107269227414,-0.36189120722514095,-0.8002356004307543,-0.21797901393509553,-0.06616183484346809,0.07023878970404392,-0.27510067416460504,0.0786827858140454],\"yaxis\":\"y2\",\"type\":\"histogram\"},{\"hovertemplate\":\"country=CA\\u003cbr\\u003eprediction_label=%{x}\\u003cbr\\u003estandardized_residuals=%{y}\\u003cextra\\u003e\\u003c\\u002fextra\\u003e\",\"legendgroup\":\"CA\",\"marker\":{\"color\":\"#00cc96\",\"symbol\":\"circle\"},\"mode\":\"markers\",\"name\":\"CA\",\"orientation\":\"v\",\"showlegend\":true,\"x\":[2875.62157796489,634.6742707984018],\"xaxis\":\"x\",\"y\":[-0.8588029401170943,-0.28603193269471067],\"yaxis\":\"y\",\"type\":\"scatter\"},{\"alignmentgroup\":\"True\",\"bingroup\":\"y\",\"hovertemplate\":\"country=CA\\u003cbr\\u003estandardized_residuals=%{y}\\u003cbr\\u003ecount=%{x}\\u003cextra\\u003e\\u003c\\u002fextra\\u003e\",\"legendgroup\":\"CA\",\"marker\":{\"color\":\"#00cc96\"},\"name\":\"CA\",\"offsetgroup\":\"CA\",\"opacity\":0.5,\"showlegend\":false,\"xaxis\":\"x2\",\"y\":[-0.8588029401170943,-0.28603193269471067],\"yaxis\":\"y2\",\"type\":\"histogram\"},{\"hovertemplate\":\"country=IT\\u003cbr\\u003eprediction_label=%{x}\\u003cbr\\u003estandardized_residuals=%{y}\\u003cextra\\u003e\\u003c\\u002fextra\\u003e\",\"legendgroup\":\"IT\",\"marker\":{\"color\":\"#ab63fa\",\"symbol\":\"circle\"},\"mode\":\"markers\",\"name\":\"IT\",\"orientation\":\"v\",\"showlegend\":true,\"x\":[171.20393611151448,878.0823793757291,984.2640975464672,1116.1876820912864,582.8897020782424,1320.1042750533047,664.9404845450789,715.2032772261257,1554.6057241736344],\"xaxis\":\"x\",\"y\":[0.2100506872764481,-0.3558899918390542,0.5169902242780707,0.037509932738721,-0.086283732286841,-0.4392574048988114,0.42896359947524604,0.6096543264361073,0.4193823108400307],\"yaxis\":\"y\",\"type\":\"scatter\"},{\"alignmentgroup\":\"True\",\"bingroup\":\"y\",\"hovertemplate\":\"country=IT\\u003cbr\\u003estandardized_residuals=%{y}\\u003cbr\\u003ecount=%{x}\\u003cextra\\u003e\\u003c\\u002fextra\\u003e\",\"legendgroup\":\"IT\",\"marker\":{\"color\":\"#ab63fa\"},\"name\":\"IT\",\"offsetgroup\":\"IT\",\"opacity\":0.5,\"showlegend\":false,\"xaxis\":\"x2\",\"y\":[0.2100506872764481,-0.3558899918390542,0.5169902242780707,0.037509932738721,-0.086283732286841,-0.4392574048988114,0.42896359947524604,0.6096543264361073,0.4193823108400307],\"yaxis\":\"y2\",\"type\":\"histogram\"},{\"hovertemplate\":\"country=HK\\u003cbr\\u003eprediction_label=%{x}\\u003cbr\\u003estandardized_residuals=%{y}\\u003cextra\\u003e\\u003c\\u002fextra\\u003e\",\"legendgroup\":\"HK\",\"marker\":{\"color\":\"#FFA15A\",\"symbol\":\"circle\"},\"mode\":\"markers\",\"name\":\"HK\",\"orientation\":\"v\",\"showlegend\":true,\"x\":[1979.8741327477676,2883.045672049242,2617.6308900204303,4621.785794159872,2833.842569478166,3245.441846585387,2851.5994560018294,1155.9696154675917,4119.2780843216315,4831.237128382562,2349.647985331764],\"xaxis\":\"x\",\"y\":[-0.5580479893627763,0.10666344217149838,-1.469772037018853,-0.22318733272767227,0.6335687979602838,0.5791059397330451,-1.072204041376626,0.12915529113968346,-0.8828793792790322,-0.4673730813530482,1.0123208814081543],\"yaxis\":\"y\",\"type\":\"scatter\"},{\"alignmentgroup\":\"True\",\"bingroup\":\"y\",\"hovertemplate\":\"country=HK\\u003cbr\\u003estandardized_residuals=%{y}\\u003cbr\\u003ecount=%{x}\\u003cextra\\u003e\\u003c\\u002fextra\\u003e\",\"legendgroup\":\"HK\",\"marker\":{\"color\":\"#FFA15A\"},\"name\":\"HK\",\"offsetgroup\":\"HK\",\"opacity\":0.5,\"showlegend\":false,\"xaxis\":\"x2\",\"y\":[-0.5580479893627763,0.10666344217149838,-1.469772037018853,-0.22318733272767227,0.6335687979602838,0.5791059397330451,-1.072204041376626,0.12915529113968346,-0.8828793792790322,-0.4673730813530482,1.0123208814081543],\"yaxis\":\"y2\",\"type\":\"histogram\"},{\"hovertemplate\":\"country=BE\\u003cbr\\u003eprediction_label=%{x}\\u003cbr\\u003estandardized_residuals=%{y}\\u003cextra\\u003e\\u003c\\u002fextra\\u003e\",\"legendgroup\":\"BE\",\"marker\":{\"color\":\"#19d3f3\",\"symbol\":\"circle\"},\"mode\":\"markers\",\"name\":\"BE\",\"orientation\":\"v\",\"showlegend\":true,\"x\":[792.7002029344275],\"xaxis\":\"x\",\"y\":[0.5062924732987178],\"yaxis\":\"y\",\"type\":\"scatter\"},{\"alignmentgroup\":\"True\",\"bingroup\":\"y\",\"hovertemplate\":\"country=BE\\u003cbr\\u003estandardized_residuals=%{y}\\u003cbr\\u003ecount=%{x}\\u003cextra\\u003e\\u003c\\u002fextra\\u003e\",\"legendgroup\":\"BE\",\"marker\":{\"color\":\"#19d3f3\"},\"name\":\"BE\",\"offsetgroup\":\"BE\",\"opacity\":0.5,\"showlegend\":false,\"xaxis\":\"x2\",\"y\":[0.5062924732987178],\"yaxis\":\"y2\",\"type\":\"histogram\"},{\"hovertemplate\":\"country=US\\u003cbr\\u003eprediction_label=%{x}\\u003cbr\\u003estandardized_residuals=%{y}\\u003cextra\\u003e\\u003c\\u002fextra\\u003e\",\"legendgroup\":\"US\",\"marker\":{\"color\":\"#FF6692\",\"symbol\":\"circle\"},\"mode\":\"markers\",\"name\":\"US\",\"orientation\":\"v\",\"showlegend\":true,\"x\":[2028.3479499258067,700.5326938027852,3300.1968564263498,1150.4456794333178,3936.7386646811683,804.8699390289312,1647.0906439737853,1729.4684590426607,1126.2962765072896,3443.4004123294235,503.8906630204192],\"xaxis\":\"x\",\"y\":[-0.6822342076502275,0.42626849004393585,-1.8707439139395778,0.12470082008681709,-0.6311333759680077,-0.2973926541433428,-0.7998456559817766,1.5443187060379011,0.47558294557158204,-1.565511606950026,-0.04565688603403787],\"yaxis\":\"y\",\"type\":\"scatter\"},{\"alignmentgroup\":\"True\",\"bingroup\":\"y\",\"hovertemplate\":\"country=US\\u003cbr\\u003estandardized_residuals=%{y}\\u003cbr\\u003ecount=%{x}\\u003cextra\\u003e\\u003c\\u002fextra\\u003e\",\"legendgroup\":\"US\",\"marker\":{\"color\":\"#FF6692\"},\"name\":\"US\",\"offsetgroup\":\"US\",\"opacity\":0.5,\"showlegend\":false,\"xaxis\":\"x2\",\"y\":[-0.6822342076502275,0.42626849004393585,-1.8707439139395778,0.12470082008681709,-0.6311333759680077,-0.2973926541433428,-0.7998456559817766,1.5443187060379011,0.47558294557158204,-1.565511606950026,-0.04565688603403787],\"yaxis\":\"y2\",\"type\":\"histogram\"},{\"hovertemplate\":\"country=BG\\u003cbr\\u003eprediction_label=%{x}\\u003cbr\\u003estandardized_residuals=%{y}\\u003cextra\\u003e\\u003c\\u002fextra\\u003e\",\"legendgroup\":\"BG\",\"marker\":{\"color\":\"#B6E880\",\"symbol\":\"circle\"},\"mode\":\"markers\",\"name\":\"BG\",\"orientation\":\"v\",\"showlegend\":true,\"x\":[2853.4256194126706],\"xaxis\":\"x\",\"y\":[0.6253090408592545],\"yaxis\":\"y\",\"type\":\"scatter\"},{\"alignmentgroup\":\"True\",\"bingroup\":\"y\",\"hovertemplate\":\"country=BG\\u003cbr\\u003estandardized_residuals=%{y}\\u003cbr\\u003ecount=%{x}\\u003cextra\\u003e\\u003c\\u002fextra\\u003e\",\"legendgroup\":\"BG\",\"marker\":{\"color\":\"#B6E880\"},\"name\":\"BG\",\"offsetgroup\":\"BG\",\"opacity\":0.5,\"showlegend\":false,\"xaxis\":\"x2\",\"y\":[0.6253090408592545],\"yaxis\":\"y2\",\"type\":\"histogram\"},{\"hovertemplate\":\"country=AT\\u003cbr\\u003eprediction_label=%{x}\\u003cbr\\u003estandardized_residuals=%{y}\\u003cextra\\u003e\\u003c\\u002fextra\\u003e\",\"legendgroup\":\"AT\",\"marker\":{\"color\":\"#FF97FF\",\"symbol\":\"circle\"},\"mode\":\"markers\",\"name\":\"AT\",\"orientation\":\"v\",\"showlegend\":true,\"x\":[2514.367235917442,458.3884109781797],\"xaxis\":\"x\",\"y\":[-0.6195810231294583,-0.04028798772121911],\"yaxis\":\"y\",\"type\":\"scatter\"},{\"alignmentgroup\":\"True\",\"bingroup\":\"y\",\"hovertemplate\":\"country=AT\\u003cbr\\u003estandardized_residuals=%{y}\\u003cbr\\u003ecount=%{x}\\u003cextra\\u003e\\u003c\\u002fextra\\u003e\",\"legendgroup\":\"AT\",\"marker\":{\"color\":\"#FF97FF\"},\"name\":\"AT\",\"offsetgroup\":\"AT\",\"opacity\":0.5,\"showlegend\":false,\"xaxis\":\"x2\",\"y\":[-0.6195810231294583,-0.04028798772121911],\"yaxis\":\"y2\",\"type\":\"histogram\"},{\"hovertemplate\":\"country=IN\\u003cbr\\u003eprediction_label=%{x}\\u003cbr\\u003estandardized_residuals=%{y}\\u003cextra\\u003e\\u003c\\u002fextra\\u003e\",\"legendgroup\":\"IN\",\"marker\":{\"color\":\"#FECB52\",\"symbol\":\"circle\"},\"mode\":\"markers\",\"name\":\"IN\",\"orientation\":\"v\",\"showlegend\":true,\"x\":[5200.160311920525,4977.762368403965,5412.035957789047,4560.776430121206,3778.8627855899967,2253.7202673768816],\"xaxis\":\"x\",\"y\":[-3.624475875497612,-0.11932583774958516,-0.0845126137927295,-1.2515903264722923,-0.6304545172337244,0.957078360001268],\"yaxis\":\"y\",\"type\":\"scatter\"},{\"alignmentgroup\":\"True\",\"bingroup\":\"y\",\"hovertemplate\":\"country=IN\\u003cbr\\u003estandardized_residuals=%{y}\\u003cbr\\u003ecount=%{x}\\u003cextra\\u003e\\u003c\\u002fextra\\u003e\",\"legendgroup\":\"IN\",\"marker\":{\"color\":\"#FECB52\"},\"name\":\"IN\",\"offsetgroup\":\"IN\",\"opacity\":0.5,\"showlegend\":false,\"xaxis\":\"x2\",\"y\":[-3.624475875497612,-0.11932583774958516,-0.0845126137927295,-1.2515903264722923,-0.6304545172337244,0.957078360001268],\"yaxis\":\"y2\",\"type\":\"histogram\"},{\"hovertemplate\":\"country=ES\\u003cbr\\u003eprediction_label=%{x}\\u003cbr\\u003estandardized_residuals=%{y}\\u003cextra\\u003e\\u003c\\u002fextra\\u003e\",\"legendgroup\":\"ES\",\"marker\":{\"color\":\"#636efa\",\"symbol\":\"circle\"},\"mode\":\"markers\",\"name\":\"ES\",\"orientation\":\"v\",\"showlegend\":true,\"x\":[394.76053349607633,1862.087586936944,976.6851882542585,532.1473843670333],\"xaxis\":\"x\",\"y\":[-0.3212738569186042,-0.5121593960522319,-0.3597341167338534,-0.1120540658882922],\"yaxis\":\"y\",\"type\":\"scatter\"},{\"alignmentgroup\":\"True\",\"bingroup\":\"y\",\"hovertemplate\":\"country=ES\\u003cbr\\u003estandardized_residuals=%{y}\\u003cbr\\u003ecount=%{x}\\u003cextra\\u003e\\u003c\\u002fextra\\u003e\",\"legendgroup\":\"ES\",\"marker\":{\"color\":\"#636efa\"},\"name\":\"ES\",\"offsetgroup\":\"ES\",\"opacity\":0.5,\"showlegend\":false,\"xaxis\":\"x2\",\"y\":[-0.3212738569186042,-0.5121593960522319,-0.3597341167338534,-0.1120540658882922],\"yaxis\":\"y2\",\"type\":\"histogram\"},{\"hovertemplate\":\"country=KR\\u003cbr\\u003eprediction_label=%{x}\\u003cbr\\u003estandardized_residuals=%{y}\\u003cextra\\u003e\\u003c\\u002fextra\\u003e\",\"legendgroup\":\"KR\",\"marker\":{\"color\":\"#EF553B\",\"symbol\":\"circle\"},\"mode\":\"markers\",\"name\":\"KR\",\"orientation\":\"v\",\"showlegend\":true,\"x\":[3783.286190978206,800.8266785965299,5051.826809094985,855.5148044528878],\"xaxis\":\"x\",\"y\":[0.16825323274891632,-0.4170763395137472,2.6441079681676043,-0.17668991529924005],\"yaxis\":\"y\",\"type\":\"scatter\"},{\"alignmentgroup\":\"True\",\"bingroup\":\"y\",\"hovertemplate\":\"country=KR\\u003cbr\\u003estandardized_residuals=%{y}\\u003cbr\\u003ecount=%{x}\\u003cextra\\u003e\\u003c\\u002fextra\\u003e\",\"legendgroup\":\"KR\",\"marker\":{\"color\":\"#EF553B\"},\"name\":\"KR\",\"offsetgroup\":\"KR\",\"opacity\":0.5,\"showlegend\":false,\"xaxis\":\"x2\",\"y\":[0.16825323274891632,-0.4170763395137472,2.6441079681676043,-0.17668991529924005],\"yaxis\":\"y2\",\"type\":\"histogram\"},{\"hovertemplate\":\"country=SA\\u003cbr\\u003eprediction_label=%{x}\\u003cbr\\u003estandardized_residuals=%{y}\\u003cextra\\u003e\\u003c\\u002fextra\\u003e\",\"legendgroup\":\"SA\",\"marker\":{\"color\":\"#00cc96\",\"symbol\":\"circle\"},\"mode\":\"markers\",\"name\":\"SA\",\"orientation\":\"v\",\"showlegend\":true,\"x\":[3592.456336520528],\"xaxis\":\"x\",\"y\":[2.821048060256218],\"yaxis\":\"y\",\"type\":\"scatter\"},{\"alignmentgroup\":\"True\",\"bingroup\":\"y\",\"hovertemplate\":\"country=SA\\u003cbr\\u003estandardized_residuals=%{y}\\u003cbr\\u003ecount=%{x}\\u003cextra\\u003e\\u003c\\u002fextra\\u003e\",\"legendgroup\":\"SA\",\"marker\":{\"color\":\"#00cc96\"},\"name\":\"SA\",\"offsetgroup\":\"SA\",\"opacity\":0.5,\"showlegend\":false,\"xaxis\":\"x2\",\"y\":[2.821048060256218],\"yaxis\":\"y2\",\"type\":\"histogram\"},{\"hovertemplate\":\"country=CL\\u003cbr\\u003eprediction_label=%{x}\\u003cbr\\u003estandardized_residuals=%{y}\\u003cextra\\u003e\\u003c\\u002fextra\\u003e\",\"legendgroup\":\"CL\",\"marker\":{\"color\":\"#ab63fa\",\"symbol\":\"circle\"},\"mode\":\"markers\",\"name\":\"CL\",\"orientation\":\"v\",\"showlegend\":true,\"x\":[4878.815738993745],\"xaxis\":\"x\",\"y\":[1.030357001996143],\"yaxis\":\"y\",\"type\":\"scatter\"},{\"alignmentgroup\":\"True\",\"bingroup\":\"y\",\"hovertemplate\":\"country=CL\\u003cbr\\u003estandardized_residuals=%{y}\\u003cbr\\u003ecount=%{x}\\u003cextra\\u003e\\u003c\\u002fextra\\u003e\",\"legendgroup\":\"CL\",\"marker\":{\"color\":\"#ab63fa\"},\"name\":\"CL\",\"offsetgroup\":\"CL\",\"opacity\":0.5,\"showlegend\":false,\"xaxis\":\"x2\",\"y\":[1.030357001996143],\"yaxis\":\"y2\",\"type\":\"histogram\"},{\"hovertemplate\":\"country=SE\\u003cbr\\u003eprediction_label=%{x}\\u003cbr\\u003estandardized_residuals=%{y}\\u003cextra\\u003e\\u003c\\u002fextra\\u003e\",\"legendgroup\":\"SE\",\"marker\":{\"color\":\"#FFA15A\",\"symbol\":\"circle\"},\"mode\":\"markers\",\"name\":\"SE\",\"orientation\":\"v\",\"showlegend\":true,\"x\":[640.3527219336985],\"xaxis\":\"x\",\"y\":[-0.0021914792895672323],\"yaxis\":\"y\",\"type\":\"scatter\"},{\"alignmentgroup\":\"True\",\"bingroup\":\"y\",\"hovertemplate\":\"country=SE\\u003cbr\\u003estandardized_residuals=%{y}\\u003cbr\\u003ecount=%{x}\\u003cextra\\u003e\\u003c\\u002fextra\\u003e\",\"legendgroup\":\"SE\",\"marker\":{\"color\":\"#FFA15A\"},\"name\":\"SE\",\"offsetgroup\":\"SE\",\"opacity\":0.5,\"showlegend\":false,\"xaxis\":\"x2\",\"y\":[-0.0021914792895672323],\"yaxis\":\"y2\",\"type\":\"histogram\"},{\"hovertemplate\":\"country=DE\\u003cbr\\u003eprediction_label=%{x}\\u003cbr\\u003estandardized_residuals=%{y}\\u003cextra\\u003e\\u003c\\u002fextra\\u003e\",\"legendgroup\":\"DE\",\"marker\":{\"color\":\"#19d3f3\",\"symbol\":\"circle\"},\"mode\":\"markers\",\"name\":\"DE\",\"orientation\":\"v\",\"showlegend\":true,\"x\":[581.7343128001517,406.4617395659054,612.4712222781559,891.3924149678916,117.11687950893491,402.3848364241312,479.30626009987],\"xaxis\":\"x\",\"y\":[0.9053497589900966,-0.16452984164931203,1.5918457599386329,0.8430986240673864,-0.13006727034178475,0.07995883746690838,0.0794395024917813],\"yaxis\":\"y\",\"type\":\"scatter\"},{\"alignmentgroup\":\"True\",\"bingroup\":\"y\",\"hovertemplate\":\"country=DE\\u003cbr\\u003estandardized_residuals=%{y}\\u003cbr\\u003ecount=%{x}\\u003cextra\\u003e\\u003c\\u002fextra\\u003e\",\"legendgroup\":\"DE\",\"marker\":{\"color\":\"#19d3f3\"},\"name\":\"DE\",\"offsetgroup\":\"DE\",\"opacity\":0.5,\"showlegend\":false,\"xaxis\":\"x2\",\"y\":[0.9053497589900966,-0.16452984164931203,1.5918457599386329,0.8430986240673864,-0.13006727034178475,0.07995883746690838,0.0794395024917813],\"yaxis\":\"y2\",\"type\":\"histogram\"},{\"hovertemplate\":\"country=JP\\u003cbr\\u003eprediction_label=%{x}\\u003cbr\\u003estandardized_residuals=%{y}\\u003cextra\\u003e\\u003c\\u002fextra\\u003e\",\"legendgroup\":\"JP\",\"marker\":{\"color\":\"#FF6692\",\"symbol\":\"circle\"},\"mode\":\"markers\",\"name\":\"JP\",\"orientation\":\"v\",\"showlegend\":true,\"x\":[403.8518513271085,729.2844225315079,912.0220179828044,4192.7491018395085],\"xaxis\":\"x\",\"y\":[0.20450543722886894,0.43616273245342163,0.34654680856831116,-3.588780778256201],\"yaxis\":\"y\",\"type\":\"scatter\"},{\"alignmentgroup\":\"True\",\"bingroup\":\"y\",\"hovertemplate\":\"country=JP\\u003cbr\\u003estandardized_residuals=%{y}\\u003cbr\\u003ecount=%{x}\\u003cextra\\u003e\\u003c\\u002fextra\\u003e\",\"legendgroup\":\"JP\",\"marker\":{\"color\":\"#FF6692\"},\"name\":\"JP\",\"offsetgroup\":\"JP\",\"opacity\":0.5,\"showlegend\":false,\"xaxis\":\"x2\",\"y\":[0.20450543722886894,0.43616273245342163,0.34654680856831116,-3.588780778256201],\"yaxis\":\"y2\",\"type\":\"histogram\"},{\"hovertemplate\":\"country=PA\\u003cbr\\u003eprediction_label=%{x}\\u003cbr\\u003estandardized_residuals=%{y}\\u003cextra\\u003e\\u003c\\u002fextra\\u003e\",\"legendgroup\":\"PA\",\"marker\":{\"color\":\"#B6E880\",\"symbol\":\"circle\"},\"mode\":\"markers\",\"name\":\"PA\",\"orientation\":\"v\",\"showlegend\":true,\"x\":[4332.188771502049],\"xaxis\":\"x\",\"y\":[1.2616215643968538],\"yaxis\":\"y\",\"type\":\"scatter\"},{\"alignmentgroup\":\"True\",\"bingroup\":\"y\",\"hovertemplate\":\"country=PA\\u003cbr\\u003estandardized_residuals=%{y}\\u003cbr\\u003ecount=%{x}\\u003cextra\\u003e\\u003c\\u002fextra\\u003e\",\"legendgroup\":\"PA\",\"marker\":{\"color\":\"#B6E880\"},\"name\":\"PA\",\"offsetgroup\":\"PA\",\"opacity\":0.5,\"showlegend\":false,\"xaxis\":\"x2\",\"y\":[1.2616215643968538],\"yaxis\":\"y2\",\"type\":\"histogram\"},{\"hovertemplate\":\"country=IR\\u003cbr\\u003eprediction_label=%{x}\\u003cbr\\u003estandardized_residuals=%{y}\\u003cextra\\u003e\\u003c\\u002fextra\\u003e\",\"legendgroup\":\"IR\",\"marker\":{\"color\":\"#FF97FF\",\"symbol\":\"circle\"},\"mode\":\"markers\",\"name\":\"IR\",\"orientation\":\"v\",\"showlegend\":true,\"x\":[6559.918489890212],\"xaxis\":\"x\",\"y\":[1.2911709621157927],\"yaxis\":\"y\",\"type\":\"scatter\"},{\"alignmentgroup\":\"True\",\"bingroup\":\"y\",\"hovertemplate\":\"country=IR\\u003cbr\\u003estandardized_residuals=%{y}\\u003cbr\\u003ecount=%{x}\\u003cextra\\u003e\\u003c\\u002fextra\\u003e\",\"legendgroup\":\"IR\",\"marker\":{\"color\":\"#FF97FF\"},\"name\":\"IR\",\"offsetgroup\":\"IR\",\"opacity\":0.5,\"showlegend\":false,\"xaxis\":\"x2\",\"y\":[1.2911709621157927],\"yaxis\":\"y2\",\"type\":\"histogram\"},{\"hovertemplate\":\"country=UK\\u003cbr\\u003eprediction_label=%{x}\\u003cbr\\u003estandardized_residuals=%{y}\\u003cextra\\u003e\\u003c\\u002fextra\\u003e\",\"legendgroup\":\"UK\",\"marker\":{\"color\":\"#FECB52\",\"symbol\":\"circle\"},\"mode\":\"markers\",\"name\":\"UK\",\"orientation\":\"v\",\"showlegend\":true,\"x\":[1001.9028521501931],\"xaxis\":\"x\",\"y\":[-0.10029190154325678],\"yaxis\":\"y\",\"type\":\"scatter\"},{\"alignmentgroup\":\"True\",\"bingroup\":\"y\",\"hovertemplate\":\"country=UK\\u003cbr\\u003estandardized_residuals=%{y}\\u003cbr\\u003ecount=%{x}\\u003cextra\\u003e\\u003c\\u002fextra\\u003e\",\"legendgroup\":\"UK\",\"marker\":{\"color\":\"#FECB52\"},\"name\":\"UK\",\"offsetgroup\":\"UK\",\"opacity\":0.5,\"showlegend\":false,\"xaxis\":\"x2\",\"y\":[-0.10029190154325678],\"yaxis\":\"y2\",\"type\":\"histogram\"},{\"hovertemplate\":\"country=TW\\u003cbr\\u003eprediction_label=%{x}\\u003cbr\\u003estandardized_residuals=%{y}\\u003cextra\\u003e\\u003c\\u002fextra\\u003e\",\"legendgroup\":\"TW\",\"marker\":{\"color\":\"#636efa\",\"symbol\":\"circle\"},\"mode\":\"markers\",\"name\":\"TW\",\"orientation\":\"v\",\"showlegend\":true,\"x\":[1506.0835948690806],\"xaxis\":\"x\",\"y\":[2.2544184530437175],\"yaxis\":\"y\",\"type\":\"scatter\"},{\"alignmentgroup\":\"True\",\"bingroup\":\"y\",\"hovertemplate\":\"country=TW\\u003cbr\\u003estandardized_residuals=%{y}\\u003cbr\\u003ecount=%{x}\\u003cextra\\u003e\\u003c\\u002fextra\\u003e\",\"legendgroup\":\"TW\",\"marker\":{\"color\":\"#636efa\"},\"name\":\"TW\",\"offsetgroup\":\"TW\",\"opacity\":0.5,\"showlegend\":false,\"xaxis\":\"x2\",\"y\":[2.2544184530437175],\"yaxis\":\"y2\",\"type\":\"histogram\"},{\"hovertemplate\":\"country=PL\\u003cbr\\u003eprediction_label=%{x}\\u003cbr\\u003estandardized_residuals=%{y}\\u003cextra\\u003e\\u003c\\u002fextra\\u003e\",\"legendgroup\":\"PL\",\"marker\":{\"color\":\"#EF553B\",\"symbol\":\"circle\"},\"mode\":\"markers\",\"name\":\"PL\",\"orientation\":\"v\",\"showlegend\":true,\"x\":[762.6010185194134],\"xaxis\":\"x\",\"y\":[-0.08597600135012319],\"yaxis\":\"y\",\"type\":\"scatter\"},{\"alignmentgroup\":\"True\",\"bingroup\":\"y\",\"hovertemplate\":\"country=PL\\u003cbr\\u003estandardized_residuals=%{y}\\u003cbr\\u003ecount=%{x}\\u003cextra\\u003e\\u003c\\u002fextra\\u003e\",\"legendgroup\":\"PL\",\"marker\":{\"color\":\"#EF553B\"},\"name\":\"PL\",\"offsetgroup\":\"PL\",\"opacity\":0.5,\"showlegend\":false,\"xaxis\":\"x2\",\"y\":[-0.08597600135012319],\"yaxis\":\"y2\",\"type\":\"histogram\"},{\"hovertemplate\":\"country=TH\\u003cbr\\u003eprediction_label=%{x}\\u003cbr\\u003estandardized_residuals=%{y}\\u003cextra\\u003e\\u003c\\u002fextra\\u003e\",\"legendgroup\":\"TH\",\"marker\":{\"color\":\"#00cc96\",\"symbol\":\"circle\"},\"mode\":\"markers\",\"name\":\"TH\",\"orientation\":\"v\",\"showlegend\":true,\"x\":[5322.078200315827,2646.132976796051],\"xaxis\":\"x\",\"y\":[-1.5133569933034403,-0.4677685203660196],\"yaxis\":\"y\",\"type\":\"scatter\"},{\"alignmentgroup\":\"True\",\"bingroup\":\"y\",\"hovertemplate\":\"country=TH\\u003cbr\\u003estandardized_residuals=%{y}\\u003cbr\\u003ecount=%{x}\\u003cextra\\u003e\\u003c\\u002fextra\\u003e\",\"legendgroup\":\"TH\",\"marker\":{\"color\":\"#00cc96\"},\"name\":\"TH\",\"offsetgroup\":\"TH\",\"opacity\":0.5,\"showlegend\":false,\"xaxis\":\"x2\",\"y\":[-1.5133569933034403,-0.4677685203660196],\"yaxis\":\"y2\",\"type\":\"histogram\"},{\"hovertemplate\":\"country=DR\\u003cbr\\u003eprediction_label=%{x}\\u003cbr\\u003estandardized_residuals=%{y}\\u003cextra\\u003e\\u003c\\u002fextra\\u003e\",\"legendgroup\":\"DR\",\"marker\":{\"color\":\"#ab63fa\",\"symbol\":\"circle\"},\"mode\":\"markers\",\"name\":\"DR\",\"orientation\":\"v\",\"showlegend\":true,\"x\":[2460.514404812042],\"xaxis\":\"x\",\"y\":[-0.3098079460148733],\"yaxis\":\"y\",\"type\":\"scatter\"},{\"alignmentgroup\":\"True\",\"bingroup\":\"y\",\"hovertemplate\":\"country=DR\\u003cbr\\u003estandardized_residuals=%{y}\\u003cbr\\u003ecount=%{x}\\u003cextra\\u003e\\u003c\\u002fextra\\u003e\",\"legendgroup\":\"DR\",\"marker\":{\"color\":\"#ab63fa\"},\"name\":\"DR\",\"offsetgroup\":\"DR\",\"opacity\":0.5,\"showlegend\":false,\"xaxis\":\"x2\",\"y\":[-0.3098079460148733],\"yaxis\":\"y2\",\"type\":\"histogram\"},{\"hovertemplate\":\"country=TR\\u003cbr\\u003eprediction_label=%{x}\\u003cbr\\u003estandardized_residuals=%{y}\\u003cextra\\u003e\\u003c\\u002fextra\\u003e\",\"legendgroup\":\"TR\",\"marker\":{\"color\":\"#FFA15A\",\"symbol\":\"circle\"},\"mode\":\"markers\",\"name\":\"TR\",\"orientation\":\"v\",\"showlegend\":true,\"x\":[1803.9236968987036],\"xaxis\":\"x\",\"y\":[0.14971062678807173],\"yaxis\":\"y\",\"type\":\"scatter\"},{\"alignmentgroup\":\"True\",\"bingroup\":\"y\",\"hovertemplate\":\"country=TR\\u003cbr\\u003estandardized_residuals=%{y}\\u003cbr\\u003ecount=%{x}\\u003cextra\\u003e\\u003c\\u002fextra\\u003e\",\"legendgroup\":\"TR\",\"marker\":{\"color\":\"#FFA15A\"},\"name\":\"TR\",\"offsetgroup\":\"TR\",\"opacity\":0.5,\"showlegend\":false,\"xaxis\":\"x2\",\"y\":[0.14971062678807173],\"yaxis\":\"y2\",\"type\":\"histogram\"}],                        {\"template\":{\"data\":{\"histogram2dcontour\":[{\"type\":\"histogram2dcontour\",\"colorbar\":{\"outlinewidth\":0,\"ticks\":\"\"},\"colorscale\":[[0.0,\"#0d0887\"],[0.1111111111111111,\"#46039f\"],[0.2222222222222222,\"#7201a8\"],[0.3333333333333333,\"#9c179e\"],[0.4444444444444444,\"#bd3786\"],[0.5555555555555556,\"#d8576b\"],[0.6666666666666666,\"#ed7953\"],[0.7777777777777778,\"#fb9f3a\"],[0.8888888888888888,\"#fdca26\"],[1.0,\"#f0f921\"]]}],\"choropleth\":[{\"type\":\"choropleth\",\"colorbar\":{\"outlinewidth\":0,\"ticks\":\"\"}}],\"histogram2d\":[{\"type\":\"histogram2d\",\"colorbar\":{\"outlinewidth\":0,\"ticks\":\"\"},\"colorscale\":[[0.0,\"#0d0887\"],[0.1111111111111111,\"#46039f\"],[0.2222222222222222,\"#7201a8\"],[0.3333333333333333,\"#9c179e\"],[0.4444444444444444,\"#bd3786\"],[0.5555555555555556,\"#d8576b\"],[0.6666666666666666,\"#ed7953\"],[0.7777777777777778,\"#fb9f3a\"],[0.8888888888888888,\"#fdca26\"],[1.0,\"#f0f921\"]]}],\"heatmap\":[{\"type\":\"heatmap\",\"colorbar\":{\"outlinewidth\":0,\"ticks\":\"\"},\"colorscale\":[[0.0,\"#0d0887\"],[0.1111111111111111,\"#46039f\"],[0.2222222222222222,\"#7201a8\"],[0.3333333333333333,\"#9c179e\"],[0.4444444444444444,\"#bd3786\"],[0.5555555555555556,\"#d8576b\"],[0.6666666666666666,\"#ed7953\"],[0.7777777777777778,\"#fb9f3a\"],[0.8888888888888888,\"#fdca26\"],[1.0,\"#f0f921\"]]}],\"heatmapgl\":[{\"type\":\"heatmapgl\",\"colorbar\":{\"outlinewidth\":0,\"ticks\":\"\"},\"colorscale\":[[0.0,\"#0d0887\"],[0.1111111111111111,\"#46039f\"],[0.2222222222222222,\"#7201a8\"],[0.3333333333333333,\"#9c179e\"],[0.4444444444444444,\"#bd3786\"],[0.5555555555555556,\"#d8576b\"],[0.6666666666666666,\"#ed7953\"],[0.7777777777777778,\"#fb9f3a\"],[0.8888888888888888,\"#fdca26\"],[1.0,\"#f0f921\"]]}],\"contourcarpet\":[{\"type\":\"contourcarpet\",\"colorbar\":{\"outlinewidth\":0,\"ticks\":\"\"}}],\"contour\":[{\"type\":\"contour\",\"colorbar\":{\"outlinewidth\":0,\"ticks\":\"\"},\"colorscale\":[[0.0,\"#0d0887\"],[0.1111111111111111,\"#46039f\"],[0.2222222222222222,\"#7201a8\"],[0.3333333333333333,\"#9c179e\"],[0.4444444444444444,\"#bd3786\"],[0.5555555555555556,\"#d8576b\"],[0.6666666666666666,\"#ed7953\"],[0.7777777777777778,\"#fb9f3a\"],[0.8888888888888888,\"#fdca26\"],[1.0,\"#f0f921\"]]}],\"surface\":[{\"type\":\"surface\",\"colorbar\":{\"outlinewidth\":0,\"ticks\":\"\"},\"colorscale\":[[0.0,\"#0d0887\"],[0.1111111111111111,\"#46039f\"],[0.2222222222222222,\"#7201a8\"],[0.3333333333333333,\"#9c179e\"],[0.4444444444444444,\"#bd3786\"],[0.5555555555555556,\"#d8576b\"],[0.6666666666666666,\"#ed7953\"],[0.7777777777777778,\"#fb9f3a\"],[0.8888888888888888,\"#fdca26\"],[1.0,\"#f0f921\"]]}],\"mesh3d\":[{\"type\":\"mesh3d\",\"colorbar\":{\"outlinewidth\":0,\"ticks\":\"\"}}],\"scatter\":[{\"fillpattern\":{\"fillmode\":\"overlay\",\"size\":10,\"solidity\":0.2},\"type\":\"scatter\"}],\"parcoords\":[{\"type\":\"parcoords\",\"line\":{\"colorbar\":{\"outlinewidth\":0,\"ticks\":\"\"}}}],\"scatterpolargl\":[{\"type\":\"scatterpolargl\",\"marker\":{\"colorbar\":{\"outlinewidth\":0,\"ticks\":\"\"}}}],\"bar\":[{\"error_x\":{\"color\":\"#2a3f5f\"},\"error_y\":{\"color\":\"#2a3f5f\"},\"marker\":{\"line\":{\"color\":\"#E5ECF6\",\"width\":0.5},\"pattern\":{\"fillmode\":\"overlay\",\"size\":10,\"solidity\":0.2}},\"type\":\"bar\"}],\"scattergeo\":[{\"type\":\"scattergeo\",\"marker\":{\"colorbar\":{\"outlinewidth\":0,\"ticks\":\"\"}}}],\"scatterpolar\":[{\"type\":\"scatterpolar\",\"marker\":{\"colorbar\":{\"outlinewidth\":0,\"ticks\":\"\"}}}],\"histogram\":[{\"marker\":{\"pattern\":{\"fillmode\":\"overlay\",\"size\":10,\"solidity\":0.2}},\"type\":\"histogram\"}],\"scattergl\":[{\"type\":\"scattergl\",\"marker\":{\"colorbar\":{\"outlinewidth\":0,\"ticks\":\"\"}}}],\"scatter3d\":[{\"type\":\"scatter3d\",\"line\":{\"colorbar\":{\"outlinewidth\":0,\"ticks\":\"\"}},\"marker\":{\"colorbar\":{\"outlinewidth\":0,\"ticks\":\"\"}}}],\"scattermapbox\":[{\"type\":\"scattermapbox\",\"marker\":{\"colorbar\":{\"outlinewidth\":0,\"ticks\":\"\"}}}],\"scatterternary\":[{\"type\":\"scatterternary\",\"marker\":{\"colorbar\":{\"outlinewidth\":0,\"ticks\":\"\"}}}],\"scattercarpet\":[{\"type\":\"scattercarpet\",\"marker\":{\"colorbar\":{\"outlinewidth\":0,\"ticks\":\"\"}}}],\"carpet\":[{\"aaxis\":{\"endlinecolor\":\"#2a3f5f\",\"gridcolor\":\"white\",\"linecolor\":\"white\",\"minorgridcolor\":\"white\",\"startlinecolor\":\"#2a3f5f\"},\"baxis\":{\"endlinecolor\":\"#2a3f5f\",\"gridcolor\":\"white\",\"linecolor\":\"white\",\"minorgridcolor\":\"white\",\"startlinecolor\":\"#2a3f5f\"},\"type\":\"carpet\"}],\"table\":[{\"cells\":{\"fill\":{\"color\":\"#EBF0F8\"},\"line\":{\"color\":\"white\"}},\"header\":{\"fill\":{\"color\":\"#C8D4E3\"},\"line\":{\"color\":\"white\"}},\"type\":\"table\"}],\"barpolar\":[{\"marker\":{\"line\":{\"color\":\"#E5ECF6\",\"width\":0.5},\"pattern\":{\"fillmode\":\"overlay\",\"size\":10,\"solidity\":0.2}},\"type\":\"barpolar\"}],\"pie\":[{\"automargin\":true,\"type\":\"pie\"}]},\"layout\":{\"autotypenumbers\":\"strict\",\"colorway\":[\"#636efa\",\"#EF553B\",\"#00cc96\",\"#ab63fa\",\"#FFA15A\",\"#19d3f3\",\"#FF6692\",\"#B6E880\",\"#FF97FF\",\"#FECB52\"],\"font\":{\"color\":\"#2a3f5f\"},\"hovermode\":\"closest\",\"hoverlabel\":{\"align\":\"left\"},\"paper_bgcolor\":\"white\",\"plot_bgcolor\":\"#E5ECF6\",\"polar\":{\"bgcolor\":\"#E5ECF6\",\"angularaxis\":{\"gridcolor\":\"white\",\"linecolor\":\"white\",\"ticks\":\"\"},\"radialaxis\":{\"gridcolor\":\"white\",\"linecolor\":\"white\",\"ticks\":\"\"}},\"ternary\":{\"bgcolor\":\"#E5ECF6\",\"aaxis\":{\"gridcolor\":\"white\",\"linecolor\":\"white\",\"ticks\":\"\"},\"baxis\":{\"gridcolor\":\"white\",\"linecolor\":\"white\",\"ticks\":\"\"},\"caxis\":{\"gridcolor\":\"white\",\"linecolor\":\"white\",\"ticks\":\"\"}},\"coloraxis\":{\"colorbar\":{\"outlinewidth\":0,\"ticks\":\"\"}},\"colorscale\":{\"sequential\":[[0.0,\"#0d0887\"],[0.1111111111111111,\"#46039f\"],[0.2222222222222222,\"#7201a8\"],[0.3333333333333333,\"#9c179e\"],[0.4444444444444444,\"#bd3786\"],[0.5555555555555556,\"#d8576b\"],[0.6666666666666666,\"#ed7953\"],[0.7777777777777778,\"#fb9f3a\"],[0.8888888888888888,\"#fdca26\"],[1.0,\"#f0f921\"]],\"sequentialminus\":[[0.0,\"#0d0887\"],[0.1111111111111111,\"#46039f\"],[0.2222222222222222,\"#7201a8\"],[0.3333333333333333,\"#9c179e\"],[0.4444444444444444,\"#bd3786\"],[0.5555555555555556,\"#d8576b\"],[0.6666666666666666,\"#ed7953\"],[0.7777777777777778,\"#fb9f3a\"],[0.8888888888888888,\"#fdca26\"],[1.0,\"#f0f921\"]],\"diverging\":[[0,\"#8e0152\"],[0.1,\"#c51b7d\"],[0.2,\"#de77ae\"],[0.3,\"#f1b6da\"],[0.4,\"#fde0ef\"],[0.5,\"#f7f7f7\"],[0.6,\"#e6f5d0\"],[0.7,\"#b8e186\"],[0.8,\"#7fbc41\"],[0.9,\"#4d9221\"],[1,\"#276419\"]]},\"xaxis\":{\"gridcolor\":\"white\",\"linecolor\":\"white\",\"ticks\":\"\",\"title\":{\"standoff\":15},\"zerolinecolor\":\"white\",\"automargin\":true,\"zerolinewidth\":2},\"yaxis\":{\"gridcolor\":\"white\",\"linecolor\":\"white\",\"ticks\":\"\",\"title\":{\"standoff\":15},\"zerolinecolor\":\"white\",\"automargin\":true,\"zerolinewidth\":2},\"scene\":{\"xaxis\":{\"backgroundcolor\":\"#E5ECF6\",\"gridcolor\":\"white\",\"linecolor\":\"white\",\"showbackground\":true,\"ticks\":\"\",\"zerolinecolor\":\"white\",\"gridwidth\":2},\"yaxis\":{\"backgroundcolor\":\"#E5ECF6\",\"gridcolor\":\"white\",\"linecolor\":\"white\",\"showbackground\":true,\"ticks\":\"\",\"zerolinecolor\":\"white\",\"gridwidth\":2},\"zaxis\":{\"backgroundcolor\":\"#E5ECF6\",\"gridcolor\":\"white\",\"linecolor\":\"white\",\"showbackground\":true,\"ticks\":\"\",\"zerolinecolor\":\"white\",\"gridwidth\":2}},\"shapedefaults\":{\"line\":{\"color\":\"#2a3f5f\"}},\"annotationdefaults\":{\"arrowcolor\":\"#2a3f5f\",\"arrowhead\":0,\"arrowwidth\":1},\"geo\":{\"bgcolor\":\"white\",\"landcolor\":\"#E5ECF6\",\"subunitcolor\":\"white\",\"showland\":true,\"showlakes\":true,\"lakecolor\":\"white\"},\"title\":{\"x\":0.05},\"mapbox\":{\"style\":\"light\"}}},\"xaxis\":{\"anchor\":\"y\",\"domain\":[0.0,0.7363],\"title\":{\"text\":\"prediction_label\"}},\"yaxis\":{\"anchor\":\"x\",\"domain\":[0.0,1.0],\"title\":{\"text\":\"standardized_residuals\"}},\"xaxis2\":{\"anchor\":\"y2\",\"domain\":[0.7413,1.0],\"matches\":\"x2\",\"showticklabels\":false,\"showline\":false,\"ticks\":\"\",\"showgrid\":true},\"yaxis2\":{\"anchor\":\"x2\",\"domain\":[0.0,1.0],\"matches\":\"y\",\"showticklabels\":false,\"showgrid\":true},\"legend\":{\"title\":{\"text\":\"country\"},\"tracegroupgap\":0},\"title\":{\"text\":\"Residuals vs. Predictions\"},\"barmode\":\"overlay\"},                        {\"responsive\": true}                    ).then(function(){\n",
       "                            \n",
       "var gd = document.getElementById('b7b88026-9eeb-420f-8f09-7f4cd598c8ad');\n",
       "var x = new MutationObserver(function (mutations, observer) {{\n",
       "        var display = window.getComputedStyle(gd).display;\n",
       "        if (!display || display === 'none') {{\n",
       "            console.log([gd, 'removed!']);\n",
       "            Plotly.purge(gd);\n",
       "            observer.disconnect();\n",
       "        }}\n",
       "}});\n",
       "\n",
       "// Listen for the removal of the full notebook cells\n",
       "var notebookContainer = gd.closest('#notebook-container');\n",
       "if (notebookContainer) {{\n",
       "    x.observe(notebookContainer, {childList: true});\n",
       "}}\n",
       "\n",
       "// Listen for the clearing of the current output cell\n",
       "var outputEl = gd.closest('.output');\n",
       "if (outputEl) {{\n",
       "    x.observe(outputEl, {childList: true});\n",
       "}}\n",
       "\n",
       "                        })                };                });            </script>        </div>"
      ]
     },
     "metadata": {},
     "output_type": "display_data"
    }
   ],
   "source": [
    "fig = px.scatter(predictions,color = 'country', x='prediction_label', y='standardized_residuals', \n",
    "                title=\"Residuals vs. Predictions\",marginal_y=\"histogram\")\n",
    "fig.show()"
   ]
  },
  {
   "cell_type": "markdown",
   "id": "97a48ba1",
   "metadata": {},
   "source": [
    "##### Soil Types"
   ]
  },
  {
   "cell_type": "code",
   "execution_count": 24,
   "id": "a1abc2b0",
   "metadata": {},
   "outputs": [
    {
     "data": {
      "application/vnd.plotly.v1+json": {
       "config": {
        "plotlyServerURL": "https://plot.ly"
       },
       "data": [
        {
         "alignmentgroup": "True",
         "hovertemplate": "soil_type=%{x}<br>Residuals=%{y}<extra></extra>",
         "legendgroup": "",
         "marker": {
          "color": "#636efa"
         },
         "name": "",
         "notched": false,
         "offsetgroup": "",
         "orientation": "v",
         "showlegend": false,
         "type": "box",
         "x": [
          "Fertile/Agricultural (Grasslands, Food Bearing, Pasture)",
          "Fertile/Agricultural (Grasslands, Food Bearing, Pasture)",
          "Fertile/Agricultural (Grasslands, Food Bearing, Pasture)",
          "Fertile/Agricultural (Grasslands, Food Bearing, Pasture)",
          "Fertile/Agricultural (Grasslands, Food Bearing, Pasture)",
          "Fertile/Agricultural (Grasslands, Food Bearing, Pasture)",
          "Fertile/Agricultural (Grasslands, Food Bearing, Pasture)",
          "Fertile/Agricultural (Grasslands, Food Bearing, Pasture)",
          "Fertile/Agricultural (Grasslands, Food Bearing, Pasture)",
          "Fertile/Agricultural (Grasslands, Food Bearing, Pasture)",
          "Fertile/Agricultural (Grasslands, Food Bearing, Pasture)",
          "Fertile/Agricultural (Grasslands, Food Bearing, Pasture)",
          "Fertile/Agricultural (Grasslands, Food Bearing, Pasture)",
          "River Valleys/Deltas (River Sediments)",
          "River Valleys/Deltas (River Sediments)",
          "River Valleys/Deltas (River Sediments)",
          "Clay Dominant",
          "Clay Dominant",
          "River Valleys/Deltas (River Sediments)",
          "River Valleys/Deltas (River Sediments)",
          "River Valleys/Deltas (River Sediments)",
          "River Valleys/Deltas (River Sediments)",
          "River Valleys/Deltas (River Sediments)",
          "River Valleys/Deltas (River Sediments)",
          "River Valleys/Deltas (River Sediments)",
          "River Valleys/Deltas (River Sediments)",
          "River Valleys/Deltas (River Sediments)",
          "River Valleys/Deltas (River Sediments)",
          "Fertile/Agricultural (Grasslands, Food Bearing, Pasture)",
          "Clay Dominant",
          "Clay Dominant",
          "Clay Dominant",
          "Clay Dominant",
          "Clay Dominant",
          "Clay Dominant",
          "Fertile/Agricultural (Grasslands, Food Bearing, Pasture)",
          "Fertile/Agricultural (Grasslands, Food Bearing, Pasture)",
          "Fertile/Agricultural (Grasslands, Food Bearing, Pasture)",
          "Fertile/Agricultural (Grasslands, Food Bearing, Pasture)",
          "Fertile/Agricultural (Grasslands, Food Bearing, Pasture)",
          "Fertile/Agricultural (Grasslands, Food Bearing, Pasture)",
          "Fertile/Agricultural (Grasslands, Food Bearing, Pasture)",
          "Fertile/Agricultural (Grasslands, Food Bearing, Pasture)",
          "Fertile/Agricultural (Grasslands, Food Bearing, Pasture)",
          "Fertile/Agricultural (Grasslands, Food Bearing, Pasture)",
          "Fertile/Agricultural (Grasslands, Food Bearing, Pasture)",
          "Fertile/Agricultural (Grasslands, Food Bearing, Pasture)",
          "Fertile/Agricultural (Grasslands, Food Bearing, Pasture)",
          "Clay Dominant",
          "Clay Dominant",
          "Clay Dominant",
          "Clay Dominant",
          "Clay Dominant",
          "River Valleys/Deltas (River Sediments)",
          "River Valleys/Deltas (River Sediments)",
          "Clay Dominant",
          "River Valleys/Deltas (River Sediments)",
          "River Valleys/Deltas (River Sediments)",
          "River Valleys/Deltas (River Sediments)",
          "River Valleys/Deltas (River Sediments)",
          "River Valleys/Deltas (River Sediments)",
          "River Valleys/Deltas (River Sediments)",
          "River Valleys/Deltas (River Sediments)",
          "River Valleys/Deltas (River Sediments)",
          "River Valleys/Deltas (River Sediments)",
          "River Valleys/Deltas (River Sediments)",
          "River Valleys/Deltas (River Sediments)",
          "River Valleys/Deltas (River Sediments)",
          "River Valleys/Deltas (River Sediments)",
          "River Valleys/Deltas (River Sediments)",
          "River Valleys/Deltas (River Sediments)",
          "River Valleys/Deltas (River Sediments)",
          "River Valleys/Deltas (River Sediments)",
          "River Valleys/Deltas (River Sediments)",
          "River Valleys/Deltas (River Sediments)",
          "River Valleys/Deltas (River Sediments)",
          "Fertile/Agricultural (Grasslands, Food Bearing, Pasture)",
          "River Valleys/Deltas (River Sediments)",
          "River Valleys/Deltas (River Sediments)",
          "River Valleys/Deltas (River Sediments)",
          "River Valleys/Deltas (River Sediments)",
          "River Valleys/Deltas (River Sediments)",
          "Clay Dominant",
          "Clay Dominant",
          "Clay Dominant",
          "Clay Dominant",
          "Clay Dominant",
          "Clay Dominant",
          "Clay Dominant",
          "Clay Dominant",
          "Clay Dominant",
          "Clay Dominant",
          "Clay Dominant",
          "Clay Dominant",
          "Clay Dominant",
          "Clay Dominant",
          "Clay Dominant",
          "Clay Dominant",
          "Clay Dominant",
          "Clay Dominant",
          "Clay Dominant",
          "Clay Dominant",
          "Clay Dominant",
          "Clay Dominant",
          "Clay Dominant",
          "Clay Dominant",
          "Clay Dominant",
          "Clay Dominant",
          "Clay Dominant",
          "Clay Dominant",
          "River Valleys/Deltas (River Sediments)",
          "River Valleys/Deltas (River Sediments)",
          "River Valleys/Deltas (River Sediments)",
          "River Valleys/Deltas (River Sediments)",
          "River Valleys/Deltas (River Sediments)",
          "River Valleys/Deltas (River Sediments)",
          "Cold Climates (Permafrost, Rock Outcrops)",
          "Cold Climates (Permafrost, Rock Outcrops)",
          "River Valleys/Deltas (River Sediments)",
          "River Valleys/Deltas (River Sediments)",
          "River Valleys/Deltas (River Sediments)",
          "River Valleys/Deltas (River Sediments)",
          "River Valleys/Deltas (River Sediments)",
          "River Valleys/Deltas (River Sediments)",
          "River Valleys/Deltas (River Sediments)",
          "River Valleys/Deltas (River Sediments)",
          "High Altitude/Wet (Mountain, Swampy)",
          "Clay Dominant",
          "Fertile/Agricultural (Grasslands, Food Bearing, Pasture)",
          "Fertile/Agricultural (Grasslands, Food Bearing, Pasture)",
          "River Valleys/Deltas (River Sediments)",
          "Clay Dominant",
          "Clay Dominant",
          "Clay Dominant",
          "Fertile/Agricultural (Grasslands, Food Bearing, Pasture)",
          "Fertile/Agricultural (Grasslands, Food Bearing, Pasture)",
          "Fertile/Agricultural (Grasslands, Food Bearing, Pasture)",
          "Fertile/Agricultural (Grasslands, Food Bearing, Pasture)",
          "Fertile/Agricultural (Grasslands, Food Bearing, Pasture)",
          "Fertile/Agricultural (Grasslands, Food Bearing, Pasture)",
          "Fertile/Agricultural (Grasslands, Food Bearing, Pasture)",
          "Fertile/Agricultural (Grasslands, Food Bearing, Pasture)",
          "Fertile/Agricultural (Grasslands, Food Bearing, Pasture)",
          "Clay Dominant",
          "Clay Dominant",
          "Clay Dominant",
          "Cold Climates (Permafrost, Rock Outcrops)",
          "Clay Dominant",
          "Clay Dominant",
          "Clay Dominant",
          "River Valleys/Deltas (River Sediments)",
          "Fertile/Agricultural (Grasslands, Food Bearing, Pasture)",
          "River Valleys/Deltas (River Sediments)",
          "Clay Dominant",
          "Clay Dominant",
          "River Valleys/Deltas (River Sediments)",
          "River Valleys/Deltas (River Sediments)",
          "River Valleys/Deltas (River Sediments)",
          "River Valleys/Deltas (River Sediments)",
          "River Valleys/Deltas (River Sediments)",
          "Fertile/Agricultural (Grasslands, Food Bearing, Pasture)",
          "Fertile/Agricultural (Grasslands, Food Bearing, Pasture)",
          "Fertile/Agricultural (Grasslands, Food Bearing, Pasture)",
          "Fertile/Agricultural (Grasslands, Food Bearing, Pasture)",
          "Fertile/Agricultural (Grasslands, Food Bearing, Pasture)",
          "Fertile/Agricultural (Grasslands, Food Bearing, Pasture)",
          "Fertile/Agricultural (Grasslands, Food Bearing, Pasture)",
          "River Valleys/Deltas (River Sediments)",
          "Clay Dominant",
          "Fertile/Agricultural (Grasslands, Food Bearing, Pasture)",
          "Fertile/Agricultural (Grasslands, Food Bearing, Pasture)",
          "Fertile/Agricultural (Grasslands, Food Bearing, Pasture)",
          "Fertile/Agricultural (Grasslands, Food Bearing, Pasture)",
          "Fertile/Agricultural (Grasslands, Food Bearing, Pasture)",
          "Fertile/Agricultural (Grasslands, Food Bearing, Pasture)",
          "Fertile/Agricultural (Grasslands, Food Bearing, Pasture)",
          "Clay Dominant",
          "Clay Dominant",
          "River Valleys/Deltas (River Sediments)",
          "River Valleys/Deltas (River Sediments)",
          "River Valleys/Deltas (River Sediments)",
          "River Valleys/Deltas (River Sediments)",
          "Fertile/Agricultural (Grasslands, Food Bearing, Pasture)",
          "River Valleys/Deltas (River Sediments)",
          "River Valleys/Deltas (River Sediments)",
          "River Valleys/Deltas (River Sediments)",
          "River Valleys/Deltas (River Sediments)",
          "River Valleys/Deltas (River Sediments)",
          "River Valleys/Deltas (River Sediments)",
          "Fertile/Agricultural (Grasslands, Food Bearing, Pasture)",
          "Fertile/Agricultural (Grasslands, Food Bearing, Pasture)",
          "River Valleys/Deltas (River Sediments)",
          "River Valleys/Deltas (River Sediments)",
          "River Valleys/Deltas (River Sediments)",
          "River Valleys/Deltas (River Sediments)",
          "River Valleys/Deltas (River Sediments)",
          "River Valleys/Deltas (River Sediments)",
          "River Valleys/Deltas (River Sediments)",
          "River Valleys/Deltas (River Sediments)",
          "River Valleys/Deltas (River Sediments)",
          "River Valleys/Deltas (River Sediments)",
          "River Valleys/Deltas (River Sediments)",
          "River Valleys/Deltas (River Sediments)",
          "River Valleys/Deltas (River Sediments)",
          "River Valleys/Deltas (River Sediments)",
          "Fertile/Agricultural (Grasslands, Food Bearing, Pasture)",
          "River Valleys/Deltas (River Sediments)",
          "River Valleys/Deltas (River Sediments)",
          "River Valleys/Deltas (River Sediments)",
          "River Valleys/Deltas (River Sediments)",
          "River Valleys/Deltas (River Sediments)",
          "River Valleys/Deltas (River Sediments)",
          "River Valleys/Deltas (River Sediments)",
          "River Valleys/Deltas (River Sediments)",
          "River Valleys/Deltas (River Sediments)",
          "River Valleys/Deltas (River Sediments)",
          "River Valleys/Deltas (River Sediments)",
          "River Valleys/Deltas (River Sediments)",
          "River Valleys/Deltas (River Sediments)",
          "River Valleys/Deltas (River Sediments)",
          "River Valleys/Deltas (River Sediments)",
          "River Valleys/Deltas (River Sediments)",
          "River Valleys/Deltas (River Sediments)",
          "River Valleys/Deltas (River Sediments)",
          "Fertile/Agricultural (Grasslands, Food Bearing, Pasture)",
          "Fertile/Agricultural (Grasslands, Food Bearing, Pasture)",
          "Fertile/Agricultural (Grasslands, Food Bearing, Pasture)",
          "River Valleys/Deltas (River Sediments)",
          "River Valleys/Deltas (River Sediments)",
          "River Valleys/Deltas (River Sediments)",
          "River Valleys/Deltas (River Sediments)",
          "River Valleys/Deltas (River Sediments)",
          "River Valleys/Deltas (River Sediments)",
          "River Valleys/Deltas (River Sediments)",
          "Clay Dominant",
          "Clay Dominant",
          "Clay Dominant",
          "High Altitude/Wet (Mountain, Swampy)",
          "River Valleys/Deltas (River Sediments)",
          "River Valleys/Deltas (River Sediments)",
          "River Valleys/Deltas (River Sediments)",
          "River Valleys/Deltas (River Sediments)",
          "River Valleys/Deltas (River Sediments)",
          "River Valleys/Deltas (River Sediments)",
          "River Valleys/Deltas (River Sediments)",
          "River Valleys/Deltas (River Sediments)",
          "River Valleys/Deltas (River Sediments)",
          "River Valleys/Deltas (River Sediments)",
          "River Valleys/Deltas (River Sediments)",
          "River Valleys/Deltas (River Sediments)",
          "River Valleys/Deltas (River Sediments)",
          "River Valleys/Deltas (River Sediments)",
          "River Valleys/Deltas (River Sediments)",
          "River Valleys/Deltas (River Sediments)",
          "River Valleys/Deltas (River Sediments)",
          "River Valleys/Deltas (River Sediments)",
          "River Valleys/Deltas (River Sediments)",
          "River Valleys/Deltas (River Sediments)",
          "Fertile/Agricultural (Grasslands, Food Bearing, Pasture)",
          "Fertile/Agricultural (Grasslands, Food Bearing, Pasture)",
          "Fertile/Agricultural (Grasslands, Food Bearing, Pasture)",
          "Fertile/Agricultural (Grasslands, Food Bearing, Pasture)",
          "Fertile/Agricultural (Grasslands, Food Bearing, Pasture)",
          "Fertile/Agricultural (Grasslands, Food Bearing, Pasture)",
          "Clay Dominant",
          "Fertile/Agricultural (Grasslands, Food Bearing, Pasture)",
          "Fertile/Agricultural (Grasslands, Food Bearing, Pasture)",
          "Fertile/Agricultural (Grasslands, Food Bearing, Pasture)",
          "Fertile/Agricultural (Grasslands, Food Bearing, Pasture)",
          "Fertile/Agricultural (Grasslands, Food Bearing, Pasture)",
          "River Valleys/Deltas (River Sediments)",
          "River Valleys/Deltas (River Sediments)",
          "River Valleys/Deltas (River Sediments)",
          "River Valleys/Deltas (River Sediments)",
          "River Valleys/Deltas (River Sediments)",
          "River Valleys/Deltas (River Sediments)",
          "River Valleys/Deltas (River Sediments)",
          "River Valleys/Deltas (River Sediments)",
          "River Valleys/Deltas (River Sediments)",
          "River Valleys/Deltas (River Sediments)",
          "River Valleys/Deltas (River Sediments)",
          "River Valleys/Deltas (River Sediments)",
          "Fertile/Agricultural (Grasslands, Food Bearing, Pasture)",
          "Clay Dominant",
          "Clay Dominant",
          "Clay Dominant",
          "Clay Dominant",
          "Clay Dominant",
          "River Valleys/Deltas (River Sediments)",
          "River Valleys/Deltas (River Sediments)",
          "River Valleys/Deltas (River Sediments)",
          "River Valleys/Deltas (River Sediments)",
          "River Valleys/Deltas (River Sediments)",
          "River Valleys/Deltas (River Sediments)",
          "River Valleys/Deltas (River Sediments)",
          "River Valleys/Deltas (River Sediments)",
          "River Valleys/Deltas (River Sediments)",
          "Clay Dominant",
          "Clay Dominant",
          "Clay Dominant",
          "Clay Dominant",
          "Fertile/Agricultural (Grasslands, Food Bearing, Pasture)",
          "Fertile/Agricultural (Grasslands, Food Bearing, Pasture)",
          "Fertile/Agricultural (Grasslands, Food Bearing, Pasture)",
          "Fertile/Agricultural (Grasslands, Food Bearing, Pasture)",
          "Fertile/Agricultural (Grasslands, Food Bearing, Pasture)",
          "Fertile/Agricultural (Grasslands, Food Bearing, Pasture)",
          "Fertile/Agricultural (Grasslands, Food Bearing, Pasture)",
          "Fertile/Agricultural (Grasslands, Food Bearing, Pasture)",
          "Fertile/Agricultural (Grasslands, Food Bearing, Pasture)",
          "Fertile/Agricultural (Grasslands, Food Bearing, Pasture)",
          "Clay Dominant",
          "Clay Dominant",
          "Clay Dominant",
          "Clay Dominant",
          "Clay Dominant",
          "Clay Dominant",
          "River Valleys/Deltas (River Sediments)",
          "Fertile/Agricultural (Grasslands, Food Bearing, Pasture)",
          "Clay Dominant",
          "Clay Dominant",
          "Clay Dominant",
          "Fertile/Agricultural (Grasslands, Food Bearing, Pasture)",
          "Fertile/Agricultural (Grasslands, Food Bearing, Pasture)",
          "Clay Dominant",
          "Clay Dominant",
          "Fertile/Agricultural (Grasslands, Food Bearing, Pasture)",
          "River Valleys/Deltas (River Sediments)",
          "River Valleys/Deltas (River Sediments)",
          "River Valleys/Deltas (River Sediments)",
          "River Valleys/Deltas (River Sediments)",
          "River Valleys/Deltas (River Sediments)",
          "Fertile/Agricultural (Grasslands, Food Bearing, Pasture)",
          "Fertile/Agricultural (Grasslands, Food Bearing, Pasture)",
          "Fertile/Agricultural (Grasslands, Food Bearing, Pasture)",
          "Fertile/Agricultural (Grasslands, Food Bearing, Pasture)",
          "Fertile/Agricultural (Grasslands, Food Bearing, Pasture)",
          "Fertile/Agricultural (Grasslands, Food Bearing, Pasture)",
          "Fertile/Agricultural (Grasslands, Food Bearing, Pasture)",
          "Fertile/Agricultural (Grasslands, Food Bearing, Pasture)",
          "Fertile/Agricultural (Grasslands, Food Bearing, Pasture)",
          "Fertile/Agricultural (Grasslands, Food Bearing, Pasture)",
          "Fertile/Agricultural (Grasslands, Food Bearing, Pasture)",
          "Clay Dominant",
          "Fertile/Agricultural (Grasslands, Food Bearing, Pasture)",
          "Fertile/Agricultural (Grasslands, Food Bearing, Pasture)",
          "River Valleys/Deltas (River Sediments)",
          "Environment Dependent (Wetlands, Volcanic Ash, Mineral Rich)",
          "Fertile/Agricultural (Grasslands, Food Bearing, Pasture)",
          "Clay Dominant",
          "Clay Dominant",
          "Clay Dominant",
          "Clay Dominant",
          "Clay Dominant",
          "Clay Dominant",
          "Clay Dominant",
          "River Valleys/Deltas (River Sediments)",
          "River Valleys/Deltas (River Sediments)",
          "River Valleys/Deltas (River Sediments)",
          "River Valleys/Deltas (River Sediments)",
          "River Valleys/Deltas (River Sediments)",
          "River Valleys/Deltas (River Sediments)",
          "River Valleys/Deltas (River Sediments)",
          "River Valleys/Deltas (River Sediments)",
          "River Valleys/Deltas (River Sediments)",
          "River Valleys/Deltas (River Sediments)",
          "River Valleys/Deltas (River Sediments)",
          "River Valleys/Deltas (River Sediments)",
          "Fertile/Agricultural (Grasslands, Food Bearing, Pasture)",
          "Fertile/Agricultural (Grasslands, Food Bearing, Pasture)",
          "Fertile/Agricultural (Grasslands, Food Bearing, Pasture)",
          "Fertile/Agricultural (Grasslands, Food Bearing, Pasture)",
          "Fertile/Agricultural (Grasslands, Food Bearing, Pasture)",
          "Fertile/Agricultural (Grasslands, Food Bearing, Pasture)",
          "Fertile/Agricultural (Grasslands, Food Bearing, Pasture)",
          "Fertile/Agricultural (Grasslands, Food Bearing, Pasture)",
          "Fertile/Agricultural (Grasslands, Food Bearing, Pasture)",
          "Fertile/Agricultural (Grasslands, Food Bearing, Pasture)",
          "Fertile/Agricultural (Grasslands, Food Bearing, Pasture)",
          "Clay Dominant",
          "Fertile/Agricultural (Grasslands, Food Bearing, Pasture)",
          "Fertile/Agricultural (Grasslands, Food Bearing, Pasture)",
          "Fertile/Agricultural (Grasslands, Food Bearing, Pasture)",
          "Fertile/Agricultural (Grasslands, Food Bearing, Pasture)",
          "Fertile/Agricultural (Grasslands, Food Bearing, Pasture)",
          "Fertile/Agricultural (Grasslands, Food Bearing, Pasture)",
          "Fertile/Agricultural (Grasslands, Food Bearing, Pasture)",
          "Fertile/Agricultural (Grasslands, Food Bearing, Pasture)",
          "River Valleys/Deltas (River Sediments)",
          "River Valleys/Deltas (River Sediments)",
          "River Valleys/Deltas (River Sediments)",
          "River Valleys/Deltas (River Sediments)",
          "Fertile/Agricultural (Grasslands, Food Bearing, Pasture)",
          "Fertile/Agricultural (Grasslands, Food Bearing, Pasture)",
          "Fertile/Agricultural (Grasslands, Food Bearing, Pasture)",
          "Fertile/Agricultural (Grasslands, Food Bearing, Pasture)",
          "Clay Dominant",
          "Clay Dominant",
          "Clay Dominant",
          "Clay Dominant",
          "Clay Dominant",
          "Clay Dominant",
          "Clay Dominant",
          "Clay Dominant",
          "Clay Dominant",
          "Clay Dominant",
          "Clay Dominant",
          "Clay Dominant",
          "Clay Dominant",
          "Clay Dominant",
          "Clay Dominant",
          "Clay Dominant",
          "River Valleys/Deltas (River Sediments)",
          "River Valleys/Deltas (River Sediments)",
          "River Valleys/Deltas (River Sediments)",
          "River Valleys/Deltas (River Sediments)",
          "River Valleys/Deltas (River Sediments)",
          "Cold Climates (Permafrost, Rock Outcrops)",
          "River Valleys/Deltas (River Sediments)",
          "River Valleys/Deltas (River Sediments)",
          "River Valleys/Deltas (River Sediments)",
          "River Valleys/Deltas (River Sediments)",
          "River Valleys/Deltas (River Sediments)",
          "River Valleys/Deltas (River Sediments)",
          "River Valleys/Deltas (River Sediments)",
          "River Valleys/Deltas (River Sediments)",
          "River Valleys/Deltas (River Sediments)",
          "River Valleys/Deltas (River Sediments)",
          "River Valleys/Deltas (River Sediments)",
          "River Valleys/Deltas (River Sediments)",
          "River Valleys/Deltas (River Sediments)",
          "River Valleys/Deltas (River Sediments)",
          "River Valleys/Deltas (River Sediments)",
          "River Valleys/Deltas (River Sediments)",
          "River Valleys/Deltas (River Sediments)",
          "River Valleys/Deltas (River Sediments)",
          "River Valleys/Deltas (River Sediments)",
          "Fertile/Agricultural (Grasslands, Food Bearing, Pasture)",
          "Fertile/Agricultural (Grasslands, Food Bearing, Pasture)",
          "Clay Dominant",
          "Clay Dominant",
          "Clay Dominant",
          "Clay Dominant",
          "Clay Dominant",
          "Clay Dominant",
          "River Valleys/Deltas (River Sediments)",
          "River Valleys/Deltas (River Sediments)",
          "Clay Dominant",
          "Clay Dominant",
          "Clay Dominant",
          "Clay Dominant",
          "Clay Dominant",
          "Clay Dominant",
          "Clay Dominant",
          "Clay Dominant",
          "Clay Dominant",
          "Clay Dominant",
          "Clay Dominant",
          "Clay Dominant",
          "Clay Dominant",
          "Clay Dominant",
          "Clay Dominant",
          "Fertile/Agricultural (Grasslands, Food Bearing, Pasture)",
          "Clay Dominant",
          "Clay Dominant",
          "River Valleys/Deltas (River Sediments)",
          "River Valleys/Deltas (River Sediments)",
          "River Valleys/Deltas (River Sediments)",
          "River Valleys/Deltas (River Sediments)",
          "River Valleys/Deltas (River Sediments)",
          "River Valleys/Deltas (River Sediments)",
          "River Valleys/Deltas (River Sediments)",
          "River Valleys/Deltas (River Sediments)",
          "River Valleys/Deltas (River Sediments)",
          "River Valleys/Deltas (River Sediments)",
          "River Valleys/Deltas (River Sediments)",
          "Fertile/Agricultural (Grasslands, Food Bearing, Pasture)",
          "Fertile/Agricultural (Grasslands, Food Bearing, Pasture)",
          "Fertile/Agricultural (Grasslands, Food Bearing, Pasture)",
          "Fertile/Agricultural (Grasslands, Food Bearing, Pasture)",
          "Fertile/Agricultural (Grasslands, Food Bearing, Pasture)",
          "Fertile/Agricultural (Grasslands, Food Bearing, Pasture)",
          "Fertile/Agricultural (Grasslands, Food Bearing, Pasture)",
          "Fertile/Agricultural (Grasslands, Food Bearing, Pasture)",
          "Fertile/Agricultural (Grasslands, Food Bearing, Pasture)",
          "Fertile/Agricultural (Grasslands, Food Bearing, Pasture)",
          "Fertile/Agricultural (Grasslands, Food Bearing, Pasture)",
          "River Valleys/Deltas (River Sediments)",
          "Clay Dominant",
          "Clay Dominant",
          "Clay Dominant",
          "Clay Dominant",
          "Clay Dominant",
          "Clay Dominant",
          "Clay Dominant",
          "Clay Dominant",
          "River Valleys/Deltas (River Sediments)",
          "River Valleys/Deltas (River Sediments)",
          "River Valleys/Deltas (River Sediments)",
          "Clay Dominant",
          "Clay Dominant",
          "Clay Dominant",
          "Clay Dominant",
          "Clay Dominant",
          "Clay Dominant",
          "Clay Dominant",
          "Clay Dominant",
          "Clay Dominant",
          "Clay Dominant",
          "Clay Dominant",
          "Fertile/Agricultural (Grasslands, Food Bearing, Pasture)",
          "Fertile/Agricultural (Grasslands, Food Bearing, Pasture)",
          "Fertile/Agricultural (Grasslands, Food Bearing, Pasture)",
          "Fertile/Agricultural (Grasslands, Food Bearing, Pasture)",
          "Fertile/Agricultural (Grasslands, Food Bearing, Pasture)",
          "Clay Dominant",
          "Clay Dominant",
          "Clay Dominant",
          "Fertile/Agricultural (Grasslands, Food Bearing, Pasture)",
          "Fertile/Agricultural (Grasslands, Food Bearing, Pasture)",
          "Clay Dominant",
          "Clay Dominant",
          "Fertile/Agricultural (Grasslands, Food Bearing, Pasture)",
          "Fertile/Agricultural (Grasslands, Food Bearing, Pasture)",
          "Fertile/Agricultural (Grasslands, Food Bearing, Pasture)"
         ],
         "x0": " ",
         "xaxis": "x",
         "y": [
          49.87221145233525,
          49.87221145233525,
          49.87221145233525,
          49.87221145233525,
          49.87221145233525,
          49.87221145233525,
          49.87221145233525,
          49.87221145233525,
          49.87221145233525,
          49.87221145233525,
          49.87221145233525,
          -23.442340425330826,
          -660.0434529648901,
          -1584.228190853686,
          -1584.228190853686,
          -1584.228190853686,
          209.30686711114177,
          209.30686711114177,
          -2.7551563815868576,
          -2.7551563815868576,
          -2.7551563815868576,
          -2.7551563815868576,
          -415.4249139977676,
          -415.4249139977676,
          -415.4249139977676,
          -415.4249139977676,
          -415.4249139977676,
          -415.4249139977676,
          450.25463104994753,
          251.6055418616652,
          251.6055418616652,
          251.6055418616652,
          251.6055418616652,
          -516.4315680898692,
          547.0565583217044,
          -322.1761947644741,
          -322.1761947644741,
          -322.1761947644741,
          -322.1761947644741,
          -322.1761947644741,
          -322.1761947644741,
          -322.1761947644741,
          59.92692470372731,
          59.92692470372731,
          59.92692470372731,
          59.92692470372731,
          59.92692470372731,
          -465.47270466744203,
          677.0128774037439,
          677.0128774037439,
          677.0128774037439,
          677.0128774037439,
          677.0128774037439,
          -233.58567068980847,
          -233.58567068980847,
          -2909.4989349673997,
          76.05781753772317,
          76.05781753772317,
          -873.5857883801705,
          -873.5857883801705,
          -873.5857883801705,
          -873.5857883801705,
          -873.5857883801705,
          -873.5857883801705,
          125.21702326325794,
          125.21702326325794,
          125.21702326325794,
          125.21702326325794,
          125.21702326325794,
          125.21702326325794,
          125.21702326325794,
          125.21702326325794,
          125.21702326325794,
          125.21702326325794,
          125.21702326325794,
          125.21702326325794,
          -251.0000429499479,
          -1156.9741517391803,
          -1156.9741517391803,
          -1156.9741517391803,
          -1156.9741517391803,
          -1156.9741517391803,
          363.6936805316773,
          363.6936805316773,
          385.16725736908984,
          385.16725736908984,
          -377.2875222320981,
          -377.2875222320981,
          -377.2875222320981,
          -377.2875222320981,
          -143.06655587862224,
          -143.06655587862224,
          -143.06655587862224,
          -143.06655587862224,
          553.7746180218342,
          553.7746180218342,
          553.7746180218342,
          553.7746180218342,
          1551.906577884948,
          1551.906577884948,
          1551.906577884948,
          1551.906577884948,
          1551.906577884948,
          1551.906577884948,
          1551.906577884948,
          1551.906577884948,
          1551.906577884948,
          1551.906577884948,
          1551.906577884948,
          1551.906577884948,
          -162.94702956363926,
          -162.94702956363926,
          -162.94702956363926,
          -162.94702956363926,
          -162.94702956363926,
          -162.94702956363926,
          -222.84506718748258,
          -222.84506718748258,
          175.31097699054408,
          175.31097699054408,
          175.31097699054408,
          -1127.8179445447136,
          -1127.8179445447136,
          -1127.8179445447136,
          -1127.8179445447136,
          -1127.8179445447136,
          2332.957237698222,
          -147.6978745315406,
          -363.71197269801087,
          -363.71197269801087,
          -33.793660968727636,
          176.41066534715992,
          176.41066534715992,
          176.41066534715992,
          748.9692478454299,
          748.9692478454299,
          748.9692478454299,
          748.9692478454299,
          748.9692478454299,
          -678.8435798955215,
          -678.8435798955215,
          -678.8435798955215,
          -678.8435798955215,
          321.5585437691161,
          321.5585437691161,
          -300.76585706332673,
          876.5016438187549,
          307.625617728969,
          307.625617728969,
          307.625617728969,
          36.68005394520776,
          774.8272106373483,
          204.79664720804777,
          -91.98318874097356,
          -809.8182617003768,
          555.1705652355249,
          555.1705652355249,
          555.1705652355249,
          555.1705652355249,
          555.1705652355249,
          -255.88112150273537,
          -612.4078046427885,
          -95.3575830717648,
          -95.3575830717648,
          -95.3575830717648,
          -95.3575830717648,
          -95.3575830717648,
          816.0685007106322,
          -58.59098168521541,
          458.95562901603284,
          393.21472297630464,
          1333.1875911984066,
          1333.1875911984066,
          1333.1875911984066,
          1333.1875911984066,
          1333.1875911984066,
          -138.8303784513855,
          -138.8303784513855,
          -886.6260921039639,
          -886.6260921039639,
          -886.6260921039639,
          -886.6260921039639,
          68.97113138527607,
          -338.8679061842204,
          -338.8679061842204,
          -338.8679061842204,
          111.69416862183698,
          111.69416862183698,
          111.69416862183698,
          5.6943221761171685,
          1064.6002909979507,
          1846.9841967334987,
          1846.9841967334987,
          1846.9841967334987,
          1846.9841967334987,
          1846.9841967334987,
          1846.9841967334987,
          1846.9841967334987,
          1846.9841967334987,
          1846.9841967334987,
          1846.9841967334987,
          1846.9841967334987,
          1846.9841967334987,
          -224.6660899226299,
          -224.6660899226299,
          455.5984813141031,
          -331.74711552211556,
          -331.74711552211556,
          -331.74711552211556,
          509.4773428677381,
          509.4773428677381,
          509.4773428677381,
          509.4773428677381,
          509.4773428677381,
          509.4773428677381,
          509.4773428677381,
          509.4773428677381,
          509.4773428677381,
          509.4773428677381,
          509.4773428677381,
          509.4773428677381,
          2092.9290612549958,
          2092.9290612549958,
          2092.9290612549958,
          -1483.1039609185373,
          -15.35012834624007,
          -15.35012834624007,
          -594.2831647415951,
          -594.2831647415951,
          -594.2831647415951,
          -594.2831647415951,
          -594.2831647415951,
          -594.2831647415951,
          -594.2831647415951,
          95.59109276194272,
          95.59109276194272,
          95.59109276194272,
          1088.6342444847878,
          1025.973919304507,
          1025.973919304507,
          1025.973919304507,
          1025.973919304507,
          1025.973919304507,
          1025.973919304507,
          1025.973919304507,
          1025.973919304507,
          1025.973919304507,
          1025.973919304507,
          1025.973919304507,
          -65.93791497533357,
          -65.93791497533357,
          -65.93791497533357,
          -65.93791497533357,
          -65.93791497533357,
          -65.93791497533357,
          -65.93791497533357,
          -65.93791497533357,
          -65.93791497533357,
          -833.6128837362044,
          -833.6128837362044,
          -833.6128837362044,
          -833.6128837362044,
          -833.6128837362044,
          -833.6128837362044,
          724.1953535867959,
          -1281.2707648125706,
          -1281.2707648125706,
          143.51073121209583,
          143.51073121209583,
          143.51073121209583,
          -679.6259847122565,
          -679.6259847122565,
          -679.6259847122565,
          -679.6259847122565,
          -679.6259847122565,
          -679.6259847122565,
          -679.6259847122565,
          -679.6259847122565,
          -679.6259847122565,
          -679.6259847122565,
          -679.6259847122565,
          -679.6259847122565,
          139.88769459011974,
          -43.1097613298806,
          2189.043308092515,
          2189.043308092515,
          2189.043308092515,
          -474.8687916342933,
          -1356.7071482404035,
          -1356.7071482404035,
          -1356.7071482404035,
          -1356.7071482404035,
          -1356.7071482404035,
          -1356.7071482404035,
          -1356.7071482404035,
          -1356.7071482404035,
          -1356.7071482404035,
          297.3775653104626,
          297.3775653104626,
          297.3775653104626,
          297.3775653104626,
          -31.716240164179908,
          -31.716240164179908,
          -31.716240164179908,
          292.54909150367166,
          321.8538013522518,
          321.8538013522518,
          321.8538013522518,
          321.8538013522518,
          321.8538013522518,
          321.8538013522518,
          2208.6396094804404,
          2208.6396094804404,
          2208.6396094804404,
          2208.6396094804404,
          2208.6396094804404,
          2208.6396094804404,
          -1731.5041212092292,
          -203.42133063049369,
          672.2851300272259,
          672.2851300272259,
          672.2851300272259,
          -378.10150295256904,
          1872.0899891152944,
          -67.3275080184564,
          -67.3275080184564,
          320.3257603375081,
          55.2462952148619,
          55.2462952148619,
          55.2462952148619,
          55.2462952148619,
          55.2462952148619,
          -31.46594771863215,
          -318.8067897017422,
          -318.8067897017422,
          380.7405669334066,
          380.7405669334066,
          380.7405669334066,
          380.7405669334066,
          380.7405669334066,
          380.7405669334066,
          380.7405669334066,
          380.7405669334066,
          -30.275703882796734,
          -146.9617797651299,
          -146.9617797651299,
          -1192.4239034408274,
          -341.996258046051,
          -213.5192876245419,
          -297.6068295231323,
          -297.6068295231323,
          -297.6068295231323,
          -297.6068295231323,
          -297.6068295231323,
          -297.6068295231323,
          -297.6068295231323,
          -272.31839652438794,
          -272.31839652438794,
          -272.31839652438794,
          -272.31839652438794,
          -272.31839652438794,
          -272.31839652438794,
          -272.31839652438794,
          -272.31839652438794,
          -272.31839652438794,
          -741.5035456260803,
          -973.9493481211716,
          -973.9493481211716,
          59.43336805380977,
          59.43336805380977,
          59.43336805380977,
          59.43336805380977,
          59.43336805380977,
          59.43336805380977,
          59.43336805380977,
          59.43336805380977,
          59.43336805380977,
          59.43336805380977,
          59.43336805380977,
          -979.5164203555814,
          -341.67462838256233,
          -341.67462838256233,
          -341.67462838256233,
          -341.67462838256233,
          -341.67462838256233,
          -341.67462838256233,
          -341.67462838256233,
          -2880.4663869957585,
          214.27845022332986,
          214.27845022332986,
          214.27845022332986,
          214.27845022332986,
          387.3593201424211,
          387.3593201424211,
          103.49687744305629,
          103.49687744305629,
          -374.6173181314093,
          -374.6173181314093,
          -374.6173181314093,
          -374.6173181314093,
          861.8319951369858,
          861.8319951369858,
          861.8319951369858,
          861.8319951369858,
          861.8319951369858,
          861.8319951369858,
          861.8319951369858,
          861.8319951369858,
          861.8319951369858,
          861.8319951369858,
          861.8319951369858,
          861.8319951369858,
          103.07447720481753,
          103.07447720481753,
          103.07447720481753,
          103.07447720481753,
          103.07447720481753,
          -254.12665553941474,
          353.61607904915263,
          353.61607904915263,
          353.61607904915263,
          1324.67960838401,
          1324.67960838401,
          1324.67960838401,
          1324.67960838401,
          1324.67960838401,
          1324.67960838401,
          1324.67960838401,
          1324.67960838401,
          1324.67960838401,
          1324.67960838401,
          1324.67960838401,
          267.6673246754999,
          267.6673246754999,
          267.6673246754999,
          267.6673246754999,
          267.6673246754999,
          160.2293792731714,
          160.2293792731714,
          -105.2479587497628,
          -105.2479587497628,
          -105.2479587497628,
          -147.88165702019296,
          -147.88165702019296,
          -147.88165702019296,
          -306.786645098284,
          -306.786645098284,
          -474.31664301187175,
          -325.1025597299223,
          -325.1025597299223,
          -325.1025597299223,
          -325.1025597299223,
          -325.1025597299223,
          732.6902533799093,
          732.6902533799093,
          732.6902533799093,
          732.6902533799093,
          732.6902533799093,
          732.6902533799093,
          732.6902533799093,
          -612.0906439737853,
          -612.0906439737853,
          534.3238223832493,
          379.56639496699063,
          379.56639496699063,
          -526.2177984546338,
          -526.2177984546338,
          -526.2177984546338,
          -526.2177984546338,
          -526.2177984546338,
          -526.2177984546338,
          -526.2177984546338,
          -405.9473560835122,
          -405.9473560835122,
          -405.9473560835122,
          -405.9473560835122,
          1294.5315409573393,
          425.2770877505229,
          -1234.8437717044235,
          958.7201325485057,
          958.7201325485057,
          958.7201325485057,
          958.7201325485057,
          958.7201325485057,
          958.7201325485057,
          958.7201325485057,
          -197.01485549397967,
          816.9005822324934,
          2614.3778793806077,
          2614.3778793806077,
          2614.3778793806077,
          2614.3778793806077,
          2614.3778793806077,
          2614.3778793806077,
          2614.3778793806077,
          2614.3778793806077,
          722.9140984005298,
          722.9140984005298,
          722.9140984005298,
          -83.25967343861885,
          -83.25967343861885,
          -83.25967343861885,
          -83.25967343861885,
          -83.25967343861885,
          -83.25967343861885,
          -83.25967343861885,
          -83.25967343861885,
          -83.25967343861885,
          -83.25967343861885,
          -83.25967343861885,
          912.0970209085935,
          912.0970209085935,
          912.0970209085935,
          912.0970209085935,
          912.0970209085935,
          1.327537663174553,
          1.327537663174553,
          1.327537663174553,
          -185.29018579179183,
          -185.29018579179183,
          102.45900295358558,
          102.45900295358558,
          -194.18110673590184,
          -194.18110673590184,
          -52.67649813656453
         ],
         "y0": " ",
         "yaxis": "y"
        }
       ],
       "layout": {
        "boxmode": "group",
        "legend": {
         "tracegroupgap": 0
        },
        "template": {
         "data": {
          "bar": [
           {
            "error_x": {
             "color": "#2a3f5f"
            },
            "error_y": {
             "color": "#2a3f5f"
            },
            "marker": {
             "line": {
              "color": "#E5ECF6",
              "width": 0.5
             },
             "pattern": {
              "fillmode": "overlay",
              "size": 10,
              "solidity": 0.2
             }
            },
            "type": "bar"
           }
          ],
          "barpolar": [
           {
            "marker": {
             "line": {
              "color": "#E5ECF6",
              "width": 0.5
             },
             "pattern": {
              "fillmode": "overlay",
              "size": 10,
              "solidity": 0.2
             }
            },
            "type": "barpolar"
           }
          ],
          "carpet": [
           {
            "aaxis": {
             "endlinecolor": "#2a3f5f",
             "gridcolor": "white",
             "linecolor": "white",
             "minorgridcolor": "white",
             "startlinecolor": "#2a3f5f"
            },
            "baxis": {
             "endlinecolor": "#2a3f5f",
             "gridcolor": "white",
             "linecolor": "white",
             "minorgridcolor": "white",
             "startlinecolor": "#2a3f5f"
            },
            "type": "carpet"
           }
          ],
          "choropleth": [
           {
            "colorbar": {
             "outlinewidth": 0,
             "ticks": ""
            },
            "type": "choropleth"
           }
          ],
          "contour": [
           {
            "colorbar": {
             "outlinewidth": 0,
             "ticks": ""
            },
            "colorscale": [
             [
              0,
              "#0d0887"
             ],
             [
              0.1111111111111111,
              "#46039f"
             ],
             [
              0.2222222222222222,
              "#7201a8"
             ],
             [
              0.3333333333333333,
              "#9c179e"
             ],
             [
              0.4444444444444444,
              "#bd3786"
             ],
             [
              0.5555555555555556,
              "#d8576b"
             ],
             [
              0.6666666666666666,
              "#ed7953"
             ],
             [
              0.7777777777777778,
              "#fb9f3a"
             ],
             [
              0.8888888888888888,
              "#fdca26"
             ],
             [
              1,
              "#f0f921"
             ]
            ],
            "type": "contour"
           }
          ],
          "contourcarpet": [
           {
            "colorbar": {
             "outlinewidth": 0,
             "ticks": ""
            },
            "type": "contourcarpet"
           }
          ],
          "heatmap": [
           {
            "colorbar": {
             "outlinewidth": 0,
             "ticks": ""
            },
            "colorscale": [
             [
              0,
              "#0d0887"
             ],
             [
              0.1111111111111111,
              "#46039f"
             ],
             [
              0.2222222222222222,
              "#7201a8"
             ],
             [
              0.3333333333333333,
              "#9c179e"
             ],
             [
              0.4444444444444444,
              "#bd3786"
             ],
             [
              0.5555555555555556,
              "#d8576b"
             ],
             [
              0.6666666666666666,
              "#ed7953"
             ],
             [
              0.7777777777777778,
              "#fb9f3a"
             ],
             [
              0.8888888888888888,
              "#fdca26"
             ],
             [
              1,
              "#f0f921"
             ]
            ],
            "type": "heatmap"
           }
          ],
          "heatmapgl": [
           {
            "colorbar": {
             "outlinewidth": 0,
             "ticks": ""
            },
            "colorscale": [
             [
              0,
              "#0d0887"
             ],
             [
              0.1111111111111111,
              "#46039f"
             ],
             [
              0.2222222222222222,
              "#7201a8"
             ],
             [
              0.3333333333333333,
              "#9c179e"
             ],
             [
              0.4444444444444444,
              "#bd3786"
             ],
             [
              0.5555555555555556,
              "#d8576b"
             ],
             [
              0.6666666666666666,
              "#ed7953"
             ],
             [
              0.7777777777777778,
              "#fb9f3a"
             ],
             [
              0.8888888888888888,
              "#fdca26"
             ],
             [
              1,
              "#f0f921"
             ]
            ],
            "type": "heatmapgl"
           }
          ],
          "histogram": [
           {
            "marker": {
             "pattern": {
              "fillmode": "overlay",
              "size": 10,
              "solidity": 0.2
             }
            },
            "type": "histogram"
           }
          ],
          "histogram2d": [
           {
            "colorbar": {
             "outlinewidth": 0,
             "ticks": ""
            },
            "colorscale": [
             [
              0,
              "#0d0887"
             ],
             [
              0.1111111111111111,
              "#46039f"
             ],
             [
              0.2222222222222222,
              "#7201a8"
             ],
             [
              0.3333333333333333,
              "#9c179e"
             ],
             [
              0.4444444444444444,
              "#bd3786"
             ],
             [
              0.5555555555555556,
              "#d8576b"
             ],
             [
              0.6666666666666666,
              "#ed7953"
             ],
             [
              0.7777777777777778,
              "#fb9f3a"
             ],
             [
              0.8888888888888888,
              "#fdca26"
             ],
             [
              1,
              "#f0f921"
             ]
            ],
            "type": "histogram2d"
           }
          ],
          "histogram2dcontour": [
           {
            "colorbar": {
             "outlinewidth": 0,
             "ticks": ""
            },
            "colorscale": [
             [
              0,
              "#0d0887"
             ],
             [
              0.1111111111111111,
              "#46039f"
             ],
             [
              0.2222222222222222,
              "#7201a8"
             ],
             [
              0.3333333333333333,
              "#9c179e"
             ],
             [
              0.4444444444444444,
              "#bd3786"
             ],
             [
              0.5555555555555556,
              "#d8576b"
             ],
             [
              0.6666666666666666,
              "#ed7953"
             ],
             [
              0.7777777777777778,
              "#fb9f3a"
             ],
             [
              0.8888888888888888,
              "#fdca26"
             ],
             [
              1,
              "#f0f921"
             ]
            ],
            "type": "histogram2dcontour"
           }
          ],
          "mesh3d": [
           {
            "colorbar": {
             "outlinewidth": 0,
             "ticks": ""
            },
            "type": "mesh3d"
           }
          ],
          "parcoords": [
           {
            "line": {
             "colorbar": {
              "outlinewidth": 0,
              "ticks": ""
             }
            },
            "type": "parcoords"
           }
          ],
          "pie": [
           {
            "automargin": true,
            "type": "pie"
           }
          ],
          "scatter": [
           {
            "fillpattern": {
             "fillmode": "overlay",
             "size": 10,
             "solidity": 0.2
            },
            "type": "scatter"
           }
          ],
          "scatter3d": [
           {
            "line": {
             "colorbar": {
              "outlinewidth": 0,
              "ticks": ""
             }
            },
            "marker": {
             "colorbar": {
              "outlinewidth": 0,
              "ticks": ""
             }
            },
            "type": "scatter3d"
           }
          ],
          "scattercarpet": [
           {
            "marker": {
             "colorbar": {
              "outlinewidth": 0,
              "ticks": ""
             }
            },
            "type": "scattercarpet"
           }
          ],
          "scattergeo": [
           {
            "marker": {
             "colorbar": {
              "outlinewidth": 0,
              "ticks": ""
             }
            },
            "type": "scattergeo"
           }
          ],
          "scattergl": [
           {
            "marker": {
             "colorbar": {
              "outlinewidth": 0,
              "ticks": ""
             }
            },
            "type": "scattergl"
           }
          ],
          "scattermapbox": [
           {
            "marker": {
             "colorbar": {
              "outlinewidth": 0,
              "ticks": ""
             }
            },
            "type": "scattermapbox"
           }
          ],
          "scatterpolar": [
           {
            "marker": {
             "colorbar": {
              "outlinewidth": 0,
              "ticks": ""
             }
            },
            "type": "scatterpolar"
           }
          ],
          "scatterpolargl": [
           {
            "marker": {
             "colorbar": {
              "outlinewidth": 0,
              "ticks": ""
             }
            },
            "type": "scatterpolargl"
           }
          ],
          "scatterternary": [
           {
            "marker": {
             "colorbar": {
              "outlinewidth": 0,
              "ticks": ""
             }
            },
            "type": "scatterternary"
           }
          ],
          "surface": [
           {
            "colorbar": {
             "outlinewidth": 0,
             "ticks": ""
            },
            "colorscale": [
             [
              0,
              "#0d0887"
             ],
             [
              0.1111111111111111,
              "#46039f"
             ],
             [
              0.2222222222222222,
              "#7201a8"
             ],
             [
              0.3333333333333333,
              "#9c179e"
             ],
             [
              0.4444444444444444,
              "#bd3786"
             ],
             [
              0.5555555555555556,
              "#d8576b"
             ],
             [
              0.6666666666666666,
              "#ed7953"
             ],
             [
              0.7777777777777778,
              "#fb9f3a"
             ],
             [
              0.8888888888888888,
              "#fdca26"
             ],
             [
              1,
              "#f0f921"
             ]
            ],
            "type": "surface"
           }
          ],
          "table": [
           {
            "cells": {
             "fill": {
              "color": "#EBF0F8"
             },
             "line": {
              "color": "white"
             }
            },
            "header": {
             "fill": {
              "color": "#C8D4E3"
             },
             "line": {
              "color": "white"
             }
            },
            "type": "table"
           }
          ]
         },
         "layout": {
          "annotationdefaults": {
           "arrowcolor": "#2a3f5f",
           "arrowhead": 0,
           "arrowwidth": 1
          },
          "autotypenumbers": "strict",
          "coloraxis": {
           "colorbar": {
            "outlinewidth": 0,
            "ticks": ""
           }
          },
          "colorscale": {
           "diverging": [
            [
             0,
             "#8e0152"
            ],
            [
             0.1,
             "#c51b7d"
            ],
            [
             0.2,
             "#de77ae"
            ],
            [
             0.3,
             "#f1b6da"
            ],
            [
             0.4,
             "#fde0ef"
            ],
            [
             0.5,
             "#f7f7f7"
            ],
            [
             0.6,
             "#e6f5d0"
            ],
            [
             0.7,
             "#b8e186"
            ],
            [
             0.8,
             "#7fbc41"
            ],
            [
             0.9,
             "#4d9221"
            ],
            [
             1,
             "#276419"
            ]
           ],
           "sequential": [
            [
             0,
             "#0d0887"
            ],
            [
             0.1111111111111111,
             "#46039f"
            ],
            [
             0.2222222222222222,
             "#7201a8"
            ],
            [
             0.3333333333333333,
             "#9c179e"
            ],
            [
             0.4444444444444444,
             "#bd3786"
            ],
            [
             0.5555555555555556,
             "#d8576b"
            ],
            [
             0.6666666666666666,
             "#ed7953"
            ],
            [
             0.7777777777777778,
             "#fb9f3a"
            ],
            [
             0.8888888888888888,
             "#fdca26"
            ],
            [
             1,
             "#f0f921"
            ]
           ],
           "sequentialminus": [
            [
             0,
             "#0d0887"
            ],
            [
             0.1111111111111111,
             "#46039f"
            ],
            [
             0.2222222222222222,
             "#7201a8"
            ],
            [
             0.3333333333333333,
             "#9c179e"
            ],
            [
             0.4444444444444444,
             "#bd3786"
            ],
            [
             0.5555555555555556,
             "#d8576b"
            ],
            [
             0.6666666666666666,
             "#ed7953"
            ],
            [
             0.7777777777777778,
             "#fb9f3a"
            ],
            [
             0.8888888888888888,
             "#fdca26"
            ],
            [
             1,
             "#f0f921"
            ]
           ]
          },
          "colorway": [
           "#636efa",
           "#EF553B",
           "#00cc96",
           "#ab63fa",
           "#FFA15A",
           "#19d3f3",
           "#FF6692",
           "#B6E880",
           "#FF97FF",
           "#FECB52"
          ],
          "font": {
           "color": "#2a3f5f"
          },
          "geo": {
           "bgcolor": "white",
           "lakecolor": "white",
           "landcolor": "#E5ECF6",
           "showlakes": true,
           "showland": true,
           "subunitcolor": "white"
          },
          "hoverlabel": {
           "align": "left"
          },
          "hovermode": "closest",
          "mapbox": {
           "style": "light"
          },
          "paper_bgcolor": "white",
          "plot_bgcolor": "#E5ECF6",
          "polar": {
           "angularaxis": {
            "gridcolor": "white",
            "linecolor": "white",
            "ticks": ""
           },
           "bgcolor": "#E5ECF6",
           "radialaxis": {
            "gridcolor": "white",
            "linecolor": "white",
            "ticks": ""
           }
          },
          "scene": {
           "xaxis": {
            "backgroundcolor": "#E5ECF6",
            "gridcolor": "white",
            "gridwidth": 2,
            "linecolor": "white",
            "showbackground": true,
            "ticks": "",
            "zerolinecolor": "white"
           },
           "yaxis": {
            "backgroundcolor": "#E5ECF6",
            "gridcolor": "white",
            "gridwidth": 2,
            "linecolor": "white",
            "showbackground": true,
            "ticks": "",
            "zerolinecolor": "white"
           },
           "zaxis": {
            "backgroundcolor": "#E5ECF6",
            "gridcolor": "white",
            "gridwidth": 2,
            "linecolor": "white",
            "showbackground": true,
            "ticks": "",
            "zerolinecolor": "white"
           }
          },
          "shapedefaults": {
           "line": {
            "color": "#2a3f5f"
           }
          },
          "ternary": {
           "aaxis": {
            "gridcolor": "white",
            "linecolor": "white",
            "ticks": ""
           },
           "baxis": {
            "gridcolor": "white",
            "linecolor": "white",
            "ticks": ""
           },
           "bgcolor": "#E5ECF6",
           "caxis": {
            "gridcolor": "white",
            "linecolor": "white",
            "ticks": ""
           }
          },
          "title": {
           "x": 0.05
          },
          "xaxis": {
           "automargin": true,
           "gridcolor": "white",
           "linecolor": "white",
           "ticks": "",
           "title": {
            "standoff": 15
           },
           "zerolinecolor": "white",
           "zerolinewidth": 2
          },
          "yaxis": {
           "automargin": true,
           "gridcolor": "white",
           "linecolor": "white",
           "ticks": "",
           "title": {
            "standoff": 15
           },
           "zerolinecolor": "white",
           "zerolinewidth": 2
          }
         }
        },
        "title": {
         "text": "Residuals Distribution Across Soil Types"
        },
        "xaxis": {
         "anchor": "y",
         "domain": [
          0,
          1
         ],
         "title": {
          "text": "soil_type"
         }
        },
        "yaxis": {
         "anchor": "x",
         "domain": [
          0,
          1
         ],
         "title": {
          "text": "Residuals"
         }
        }
       }
      },
      "text/html": [
       "<div>                            <div id=\"a6f107b1-3389-4651-a5cb-41040fbae98b\" class=\"plotly-graph-div\" style=\"height:525px; width:100%;\"></div>            <script type=\"text/javascript\">                require([\"plotly\"], function(Plotly) {                    window.PLOTLYENV=window.PLOTLYENV || {};                                    if (document.getElementById(\"a6f107b1-3389-4651-a5cb-41040fbae98b\")) {                    Plotly.newPlot(                        \"a6f107b1-3389-4651-a5cb-41040fbae98b\",                        [{\"alignmentgroup\":\"True\",\"hovertemplate\":\"soil_type=%{x}\\u003cbr\\u003eResiduals=%{y}\\u003cextra\\u003e\\u003c\\u002fextra\\u003e\",\"legendgroup\":\"\",\"marker\":{\"color\":\"#636efa\"},\"name\":\"\",\"notched\":false,\"offsetgroup\":\"\",\"orientation\":\"v\",\"showlegend\":false,\"x\":[\"Fertile\\u002fAgricultural (Grasslands, Food Bearing, Pasture)\",\"Fertile\\u002fAgricultural (Grasslands, Food Bearing, Pasture)\",\"Fertile\\u002fAgricultural (Grasslands, Food Bearing, Pasture)\",\"Fertile\\u002fAgricultural (Grasslands, Food Bearing, Pasture)\",\"Fertile\\u002fAgricultural (Grasslands, Food Bearing, Pasture)\",\"Fertile\\u002fAgricultural (Grasslands, Food Bearing, Pasture)\",\"Fertile\\u002fAgricultural (Grasslands, Food Bearing, Pasture)\",\"Fertile\\u002fAgricultural (Grasslands, Food Bearing, Pasture)\",\"Fertile\\u002fAgricultural (Grasslands, Food Bearing, Pasture)\",\"Fertile\\u002fAgricultural (Grasslands, Food Bearing, Pasture)\",\"Fertile\\u002fAgricultural (Grasslands, Food Bearing, Pasture)\",\"Fertile\\u002fAgricultural (Grasslands, Food Bearing, Pasture)\",\"Fertile\\u002fAgricultural (Grasslands, Food Bearing, Pasture)\",\"River Valleys\\u002fDeltas (River Sediments)\",\"River Valleys\\u002fDeltas (River Sediments)\",\"River Valleys\\u002fDeltas (River Sediments)\",\"Clay Dominant\",\"Clay Dominant\",\"River Valleys\\u002fDeltas (River Sediments)\",\"River Valleys\\u002fDeltas (River Sediments)\",\"River Valleys\\u002fDeltas (River Sediments)\",\"River Valleys\\u002fDeltas (River Sediments)\",\"River Valleys\\u002fDeltas (River Sediments)\",\"River Valleys\\u002fDeltas (River Sediments)\",\"River Valleys\\u002fDeltas (River Sediments)\",\"River Valleys\\u002fDeltas (River Sediments)\",\"River Valleys\\u002fDeltas (River Sediments)\",\"River Valleys\\u002fDeltas (River Sediments)\",\"Fertile\\u002fAgricultural (Grasslands, Food Bearing, Pasture)\",\"Clay Dominant\",\"Clay Dominant\",\"Clay Dominant\",\"Clay Dominant\",\"Clay Dominant\",\"Clay Dominant\",\"Fertile\\u002fAgricultural (Grasslands, Food Bearing, Pasture)\",\"Fertile\\u002fAgricultural (Grasslands, Food Bearing, Pasture)\",\"Fertile\\u002fAgricultural (Grasslands, Food Bearing, Pasture)\",\"Fertile\\u002fAgricultural (Grasslands, Food Bearing, Pasture)\",\"Fertile\\u002fAgricultural (Grasslands, Food Bearing, Pasture)\",\"Fertile\\u002fAgricultural (Grasslands, Food Bearing, Pasture)\",\"Fertile\\u002fAgricultural (Grasslands, Food Bearing, Pasture)\",\"Fertile\\u002fAgricultural (Grasslands, Food Bearing, Pasture)\",\"Fertile\\u002fAgricultural (Grasslands, Food Bearing, Pasture)\",\"Fertile\\u002fAgricultural (Grasslands, Food Bearing, Pasture)\",\"Fertile\\u002fAgricultural (Grasslands, Food Bearing, Pasture)\",\"Fertile\\u002fAgricultural (Grasslands, Food Bearing, Pasture)\",\"Fertile\\u002fAgricultural (Grasslands, Food Bearing, Pasture)\",\"Clay Dominant\",\"Clay Dominant\",\"Clay Dominant\",\"Clay Dominant\",\"Clay Dominant\",\"River Valleys\\u002fDeltas (River Sediments)\",\"River Valleys\\u002fDeltas (River Sediments)\",\"Clay Dominant\",\"River Valleys\\u002fDeltas (River Sediments)\",\"River Valleys\\u002fDeltas (River Sediments)\",\"River Valleys\\u002fDeltas (River Sediments)\",\"River Valleys\\u002fDeltas (River Sediments)\",\"River Valleys\\u002fDeltas (River Sediments)\",\"River Valleys\\u002fDeltas (River Sediments)\",\"River Valleys\\u002fDeltas (River Sediments)\",\"River Valleys\\u002fDeltas (River Sediments)\",\"River Valleys\\u002fDeltas (River Sediments)\",\"River Valleys\\u002fDeltas (River Sediments)\",\"River Valleys\\u002fDeltas (River Sediments)\",\"River Valleys\\u002fDeltas (River Sediments)\",\"River Valleys\\u002fDeltas (River Sediments)\",\"River Valleys\\u002fDeltas (River Sediments)\",\"River Valleys\\u002fDeltas (River Sediments)\",\"River Valleys\\u002fDeltas (River Sediments)\",\"River Valleys\\u002fDeltas (River Sediments)\",\"River Valleys\\u002fDeltas (River Sediments)\",\"River Valleys\\u002fDeltas (River Sediments)\",\"River Valleys\\u002fDeltas (River Sediments)\",\"Fertile\\u002fAgricultural (Grasslands, Food Bearing, Pasture)\",\"River Valleys\\u002fDeltas (River Sediments)\",\"River Valleys\\u002fDeltas (River Sediments)\",\"River Valleys\\u002fDeltas (River Sediments)\",\"River Valleys\\u002fDeltas (River Sediments)\",\"River Valleys\\u002fDeltas (River Sediments)\",\"Clay Dominant\",\"Clay Dominant\",\"Clay Dominant\",\"Clay Dominant\",\"Clay Dominant\",\"Clay Dominant\",\"Clay Dominant\",\"Clay Dominant\",\"Clay Dominant\",\"Clay Dominant\",\"Clay Dominant\",\"Clay Dominant\",\"Clay Dominant\",\"Clay Dominant\",\"Clay Dominant\",\"Clay Dominant\",\"Clay Dominant\",\"Clay Dominant\",\"Clay Dominant\",\"Clay Dominant\",\"Clay Dominant\",\"Clay Dominant\",\"Clay Dominant\",\"Clay Dominant\",\"Clay Dominant\",\"Clay Dominant\",\"Clay Dominant\",\"Clay Dominant\",\"River Valleys\\u002fDeltas (River Sediments)\",\"River Valleys\\u002fDeltas (River Sediments)\",\"River Valleys\\u002fDeltas (River Sediments)\",\"River Valleys\\u002fDeltas (River Sediments)\",\"River Valleys\\u002fDeltas (River Sediments)\",\"River Valleys\\u002fDeltas (River Sediments)\",\"Cold Climates (Permafrost, Rock Outcrops)\",\"Cold Climates (Permafrost, Rock Outcrops)\",\"River Valleys\\u002fDeltas (River Sediments)\",\"River Valleys\\u002fDeltas (River Sediments)\",\"River Valleys\\u002fDeltas (River Sediments)\",\"River Valleys\\u002fDeltas (River Sediments)\",\"River Valleys\\u002fDeltas (River Sediments)\",\"River Valleys\\u002fDeltas (River Sediments)\",\"River Valleys\\u002fDeltas (River Sediments)\",\"River Valleys\\u002fDeltas (River Sediments)\",\"High Altitude\\u002fWet (Mountain, Swampy)\",\"Clay Dominant\",\"Fertile\\u002fAgricultural (Grasslands, Food Bearing, Pasture)\",\"Fertile\\u002fAgricultural (Grasslands, Food Bearing, Pasture)\",\"River Valleys\\u002fDeltas (River Sediments)\",\"Clay Dominant\",\"Clay Dominant\",\"Clay Dominant\",\"Fertile\\u002fAgricultural (Grasslands, Food Bearing, Pasture)\",\"Fertile\\u002fAgricultural (Grasslands, Food Bearing, Pasture)\",\"Fertile\\u002fAgricultural (Grasslands, Food Bearing, Pasture)\",\"Fertile\\u002fAgricultural (Grasslands, Food Bearing, Pasture)\",\"Fertile\\u002fAgricultural (Grasslands, Food Bearing, Pasture)\",\"Fertile\\u002fAgricultural (Grasslands, Food Bearing, Pasture)\",\"Fertile\\u002fAgricultural (Grasslands, Food Bearing, Pasture)\",\"Fertile\\u002fAgricultural (Grasslands, Food Bearing, Pasture)\",\"Fertile\\u002fAgricultural (Grasslands, Food Bearing, Pasture)\",\"Clay Dominant\",\"Clay Dominant\",\"Clay Dominant\",\"Cold Climates (Permafrost, Rock Outcrops)\",\"Clay Dominant\",\"Clay Dominant\",\"Clay Dominant\",\"River Valleys\\u002fDeltas (River Sediments)\",\"Fertile\\u002fAgricultural (Grasslands, Food Bearing, Pasture)\",\"River Valleys\\u002fDeltas (River Sediments)\",\"Clay Dominant\",\"Clay Dominant\",\"River Valleys\\u002fDeltas (River Sediments)\",\"River Valleys\\u002fDeltas (River Sediments)\",\"River Valleys\\u002fDeltas (River Sediments)\",\"River Valleys\\u002fDeltas (River Sediments)\",\"River Valleys\\u002fDeltas (River Sediments)\",\"Fertile\\u002fAgricultural (Grasslands, Food Bearing, Pasture)\",\"Fertile\\u002fAgricultural (Grasslands, Food Bearing, Pasture)\",\"Fertile\\u002fAgricultural (Grasslands, Food Bearing, Pasture)\",\"Fertile\\u002fAgricultural (Grasslands, Food Bearing, Pasture)\",\"Fertile\\u002fAgricultural (Grasslands, Food Bearing, Pasture)\",\"Fertile\\u002fAgricultural (Grasslands, Food Bearing, Pasture)\",\"Fertile\\u002fAgricultural (Grasslands, Food Bearing, Pasture)\",\"River Valleys\\u002fDeltas (River Sediments)\",\"Clay Dominant\",\"Fertile\\u002fAgricultural (Grasslands, Food Bearing, Pasture)\",\"Fertile\\u002fAgricultural (Grasslands, Food Bearing, Pasture)\",\"Fertile\\u002fAgricultural (Grasslands, Food Bearing, Pasture)\",\"Fertile\\u002fAgricultural (Grasslands, Food Bearing, Pasture)\",\"Fertile\\u002fAgricultural (Grasslands, Food Bearing, Pasture)\",\"Fertile\\u002fAgricultural (Grasslands, Food Bearing, Pasture)\",\"Fertile\\u002fAgricultural (Grasslands, Food Bearing, Pasture)\",\"Clay Dominant\",\"Clay Dominant\",\"River Valleys\\u002fDeltas (River Sediments)\",\"River Valleys\\u002fDeltas (River Sediments)\",\"River Valleys\\u002fDeltas (River Sediments)\",\"River Valleys\\u002fDeltas (River Sediments)\",\"Fertile\\u002fAgricultural (Grasslands, Food Bearing, Pasture)\",\"River Valleys\\u002fDeltas (River Sediments)\",\"River Valleys\\u002fDeltas (River Sediments)\",\"River Valleys\\u002fDeltas (River Sediments)\",\"River Valleys\\u002fDeltas (River Sediments)\",\"River Valleys\\u002fDeltas (River Sediments)\",\"River Valleys\\u002fDeltas (River Sediments)\",\"Fertile\\u002fAgricultural (Grasslands, Food Bearing, Pasture)\",\"Fertile\\u002fAgricultural (Grasslands, Food Bearing, Pasture)\",\"River Valleys\\u002fDeltas (River Sediments)\",\"River Valleys\\u002fDeltas (River Sediments)\",\"River Valleys\\u002fDeltas (River Sediments)\",\"River Valleys\\u002fDeltas (River Sediments)\",\"River Valleys\\u002fDeltas (River Sediments)\",\"River Valleys\\u002fDeltas (River Sediments)\",\"River Valleys\\u002fDeltas (River Sediments)\",\"River Valleys\\u002fDeltas (River Sediments)\",\"River Valleys\\u002fDeltas (River Sediments)\",\"River Valleys\\u002fDeltas (River Sediments)\",\"River Valleys\\u002fDeltas (River Sediments)\",\"River Valleys\\u002fDeltas (River Sediments)\",\"River Valleys\\u002fDeltas (River Sediments)\",\"River Valleys\\u002fDeltas (River Sediments)\",\"Fertile\\u002fAgricultural (Grasslands, Food Bearing, Pasture)\",\"River Valleys\\u002fDeltas (River Sediments)\",\"River Valleys\\u002fDeltas (River Sediments)\",\"River Valleys\\u002fDeltas (River Sediments)\",\"River Valleys\\u002fDeltas (River Sediments)\",\"River Valleys\\u002fDeltas (River Sediments)\",\"River Valleys\\u002fDeltas (River Sediments)\",\"River Valleys\\u002fDeltas (River Sediments)\",\"River Valleys\\u002fDeltas (River Sediments)\",\"River Valleys\\u002fDeltas (River Sediments)\",\"River Valleys\\u002fDeltas (River Sediments)\",\"River Valleys\\u002fDeltas (River Sediments)\",\"River Valleys\\u002fDeltas (River Sediments)\",\"River Valleys\\u002fDeltas (River Sediments)\",\"River Valleys\\u002fDeltas (River Sediments)\",\"River Valleys\\u002fDeltas (River Sediments)\",\"River Valleys\\u002fDeltas (River Sediments)\",\"River Valleys\\u002fDeltas (River Sediments)\",\"River Valleys\\u002fDeltas (River Sediments)\",\"Fertile\\u002fAgricultural (Grasslands, Food Bearing, Pasture)\",\"Fertile\\u002fAgricultural (Grasslands, Food Bearing, Pasture)\",\"Fertile\\u002fAgricultural (Grasslands, Food Bearing, Pasture)\",\"River Valleys\\u002fDeltas (River Sediments)\",\"River Valleys\\u002fDeltas (River Sediments)\",\"River Valleys\\u002fDeltas (River Sediments)\",\"River Valleys\\u002fDeltas (River Sediments)\",\"River Valleys\\u002fDeltas (River Sediments)\",\"River Valleys\\u002fDeltas (River Sediments)\",\"River Valleys\\u002fDeltas (River Sediments)\",\"Clay Dominant\",\"Clay Dominant\",\"Clay Dominant\",\"High Altitude\\u002fWet (Mountain, Swampy)\",\"River Valleys\\u002fDeltas (River Sediments)\",\"River Valleys\\u002fDeltas (River Sediments)\",\"River Valleys\\u002fDeltas (River Sediments)\",\"River Valleys\\u002fDeltas (River Sediments)\",\"River Valleys\\u002fDeltas (River Sediments)\",\"River Valleys\\u002fDeltas (River Sediments)\",\"River Valleys\\u002fDeltas (River Sediments)\",\"River Valleys\\u002fDeltas (River Sediments)\",\"River Valleys\\u002fDeltas (River Sediments)\",\"River Valleys\\u002fDeltas (River Sediments)\",\"River Valleys\\u002fDeltas (River Sediments)\",\"River Valleys\\u002fDeltas (River Sediments)\",\"River Valleys\\u002fDeltas (River Sediments)\",\"River Valleys\\u002fDeltas (River Sediments)\",\"River Valleys\\u002fDeltas (River Sediments)\",\"River Valleys\\u002fDeltas (River Sediments)\",\"River Valleys\\u002fDeltas (River Sediments)\",\"River Valleys\\u002fDeltas (River Sediments)\",\"River Valleys\\u002fDeltas (River Sediments)\",\"River Valleys\\u002fDeltas (River Sediments)\",\"Fertile\\u002fAgricultural (Grasslands, Food Bearing, Pasture)\",\"Fertile\\u002fAgricultural (Grasslands, Food Bearing, Pasture)\",\"Fertile\\u002fAgricultural (Grasslands, Food Bearing, Pasture)\",\"Fertile\\u002fAgricultural (Grasslands, Food Bearing, Pasture)\",\"Fertile\\u002fAgricultural (Grasslands, Food Bearing, Pasture)\",\"Fertile\\u002fAgricultural (Grasslands, Food Bearing, Pasture)\",\"Clay Dominant\",\"Fertile\\u002fAgricultural (Grasslands, Food Bearing, Pasture)\",\"Fertile\\u002fAgricultural (Grasslands, Food Bearing, Pasture)\",\"Fertile\\u002fAgricultural (Grasslands, Food Bearing, Pasture)\",\"Fertile\\u002fAgricultural (Grasslands, Food Bearing, Pasture)\",\"Fertile\\u002fAgricultural (Grasslands, Food Bearing, Pasture)\",\"River Valleys\\u002fDeltas (River Sediments)\",\"River Valleys\\u002fDeltas (River Sediments)\",\"River Valleys\\u002fDeltas (River Sediments)\",\"River Valleys\\u002fDeltas (River Sediments)\",\"River Valleys\\u002fDeltas (River Sediments)\",\"River Valleys\\u002fDeltas (River Sediments)\",\"River Valleys\\u002fDeltas (River Sediments)\",\"River Valleys\\u002fDeltas (River Sediments)\",\"River Valleys\\u002fDeltas (River Sediments)\",\"River Valleys\\u002fDeltas (River Sediments)\",\"River Valleys\\u002fDeltas (River Sediments)\",\"River Valleys\\u002fDeltas (River Sediments)\",\"Fertile\\u002fAgricultural (Grasslands, Food Bearing, Pasture)\",\"Clay Dominant\",\"Clay Dominant\",\"Clay Dominant\",\"Clay Dominant\",\"Clay Dominant\",\"River Valleys\\u002fDeltas (River Sediments)\",\"River Valleys\\u002fDeltas (River Sediments)\",\"River Valleys\\u002fDeltas (River Sediments)\",\"River Valleys\\u002fDeltas (River Sediments)\",\"River Valleys\\u002fDeltas (River Sediments)\",\"River Valleys\\u002fDeltas (River Sediments)\",\"River Valleys\\u002fDeltas (River Sediments)\",\"River Valleys\\u002fDeltas (River Sediments)\",\"River Valleys\\u002fDeltas (River Sediments)\",\"Clay Dominant\",\"Clay Dominant\",\"Clay Dominant\",\"Clay Dominant\",\"Fertile\\u002fAgricultural (Grasslands, Food Bearing, Pasture)\",\"Fertile\\u002fAgricultural (Grasslands, Food Bearing, Pasture)\",\"Fertile\\u002fAgricultural (Grasslands, Food Bearing, Pasture)\",\"Fertile\\u002fAgricultural (Grasslands, Food Bearing, Pasture)\",\"Fertile\\u002fAgricultural (Grasslands, Food Bearing, Pasture)\",\"Fertile\\u002fAgricultural (Grasslands, Food Bearing, Pasture)\",\"Fertile\\u002fAgricultural (Grasslands, Food Bearing, Pasture)\",\"Fertile\\u002fAgricultural (Grasslands, Food Bearing, Pasture)\",\"Fertile\\u002fAgricultural (Grasslands, Food Bearing, Pasture)\",\"Fertile\\u002fAgricultural (Grasslands, Food Bearing, Pasture)\",\"Clay Dominant\",\"Clay Dominant\",\"Clay Dominant\",\"Clay Dominant\",\"Clay Dominant\",\"Clay Dominant\",\"River Valleys\\u002fDeltas (River Sediments)\",\"Fertile\\u002fAgricultural (Grasslands, Food Bearing, Pasture)\",\"Clay Dominant\",\"Clay Dominant\",\"Clay Dominant\",\"Fertile\\u002fAgricultural (Grasslands, Food Bearing, Pasture)\",\"Fertile\\u002fAgricultural (Grasslands, Food Bearing, Pasture)\",\"Clay Dominant\",\"Clay Dominant\",\"Fertile\\u002fAgricultural (Grasslands, Food Bearing, Pasture)\",\"River Valleys\\u002fDeltas (River Sediments)\",\"River Valleys\\u002fDeltas (River Sediments)\",\"River Valleys\\u002fDeltas (River Sediments)\",\"River Valleys\\u002fDeltas (River Sediments)\",\"River Valleys\\u002fDeltas (River Sediments)\",\"Fertile\\u002fAgricultural (Grasslands, Food Bearing, Pasture)\",\"Fertile\\u002fAgricultural (Grasslands, Food Bearing, Pasture)\",\"Fertile\\u002fAgricultural (Grasslands, Food Bearing, Pasture)\",\"Fertile\\u002fAgricultural (Grasslands, Food Bearing, Pasture)\",\"Fertile\\u002fAgricultural (Grasslands, Food Bearing, Pasture)\",\"Fertile\\u002fAgricultural (Grasslands, Food Bearing, Pasture)\",\"Fertile\\u002fAgricultural (Grasslands, Food Bearing, Pasture)\",\"Fertile\\u002fAgricultural (Grasslands, Food Bearing, Pasture)\",\"Fertile\\u002fAgricultural (Grasslands, Food Bearing, Pasture)\",\"Fertile\\u002fAgricultural (Grasslands, Food Bearing, Pasture)\",\"Fertile\\u002fAgricultural (Grasslands, Food Bearing, Pasture)\",\"Clay Dominant\",\"Fertile\\u002fAgricultural (Grasslands, Food Bearing, Pasture)\",\"Fertile\\u002fAgricultural (Grasslands, Food Bearing, Pasture)\",\"River Valleys\\u002fDeltas (River Sediments)\",\"Environment Dependent (Wetlands, Volcanic Ash, Mineral Rich)\",\"Fertile\\u002fAgricultural (Grasslands, Food Bearing, Pasture)\",\"Clay Dominant\",\"Clay Dominant\",\"Clay Dominant\",\"Clay Dominant\",\"Clay Dominant\",\"Clay Dominant\",\"Clay Dominant\",\"River Valleys\\u002fDeltas (River Sediments)\",\"River Valleys\\u002fDeltas (River Sediments)\",\"River Valleys\\u002fDeltas (River Sediments)\",\"River Valleys\\u002fDeltas (River Sediments)\",\"River Valleys\\u002fDeltas (River Sediments)\",\"River Valleys\\u002fDeltas (River Sediments)\",\"River Valleys\\u002fDeltas (River Sediments)\",\"River Valleys\\u002fDeltas (River Sediments)\",\"River Valleys\\u002fDeltas (River Sediments)\",\"River Valleys\\u002fDeltas (River Sediments)\",\"River Valleys\\u002fDeltas (River Sediments)\",\"River Valleys\\u002fDeltas (River Sediments)\",\"Fertile\\u002fAgricultural (Grasslands, Food Bearing, Pasture)\",\"Fertile\\u002fAgricultural (Grasslands, Food Bearing, Pasture)\",\"Fertile\\u002fAgricultural (Grasslands, Food Bearing, Pasture)\",\"Fertile\\u002fAgricultural (Grasslands, Food Bearing, Pasture)\",\"Fertile\\u002fAgricultural (Grasslands, Food Bearing, Pasture)\",\"Fertile\\u002fAgricultural (Grasslands, Food Bearing, Pasture)\",\"Fertile\\u002fAgricultural (Grasslands, Food Bearing, Pasture)\",\"Fertile\\u002fAgricultural (Grasslands, Food Bearing, Pasture)\",\"Fertile\\u002fAgricultural (Grasslands, Food Bearing, Pasture)\",\"Fertile\\u002fAgricultural (Grasslands, Food Bearing, Pasture)\",\"Fertile\\u002fAgricultural (Grasslands, Food Bearing, Pasture)\",\"Clay Dominant\",\"Fertile\\u002fAgricultural (Grasslands, Food Bearing, Pasture)\",\"Fertile\\u002fAgricultural (Grasslands, Food Bearing, Pasture)\",\"Fertile\\u002fAgricultural (Grasslands, Food Bearing, Pasture)\",\"Fertile\\u002fAgricultural (Grasslands, Food Bearing, Pasture)\",\"Fertile\\u002fAgricultural (Grasslands, Food Bearing, Pasture)\",\"Fertile\\u002fAgricultural (Grasslands, Food Bearing, Pasture)\",\"Fertile\\u002fAgricultural (Grasslands, Food Bearing, Pasture)\",\"Fertile\\u002fAgricultural (Grasslands, Food Bearing, Pasture)\",\"River Valleys\\u002fDeltas (River Sediments)\",\"River Valleys\\u002fDeltas (River Sediments)\",\"River Valleys\\u002fDeltas (River Sediments)\",\"River Valleys\\u002fDeltas (River Sediments)\",\"Fertile\\u002fAgricultural (Grasslands, Food Bearing, Pasture)\",\"Fertile\\u002fAgricultural (Grasslands, Food Bearing, Pasture)\",\"Fertile\\u002fAgricultural (Grasslands, Food Bearing, Pasture)\",\"Fertile\\u002fAgricultural (Grasslands, Food Bearing, Pasture)\",\"Clay Dominant\",\"Clay Dominant\",\"Clay Dominant\",\"Clay Dominant\",\"Clay Dominant\",\"Clay Dominant\",\"Clay Dominant\",\"Clay Dominant\",\"Clay Dominant\",\"Clay Dominant\",\"Clay Dominant\",\"Clay Dominant\",\"Clay Dominant\",\"Clay Dominant\",\"Clay Dominant\",\"Clay Dominant\",\"River Valleys\\u002fDeltas (River Sediments)\",\"River Valleys\\u002fDeltas (River Sediments)\",\"River Valleys\\u002fDeltas (River Sediments)\",\"River Valleys\\u002fDeltas (River Sediments)\",\"River Valleys\\u002fDeltas (River Sediments)\",\"Cold Climates (Permafrost, Rock Outcrops)\",\"River Valleys\\u002fDeltas (River Sediments)\",\"River Valleys\\u002fDeltas (River Sediments)\",\"River Valleys\\u002fDeltas (River Sediments)\",\"River Valleys\\u002fDeltas (River Sediments)\",\"River Valleys\\u002fDeltas (River Sediments)\",\"River Valleys\\u002fDeltas (River Sediments)\",\"River Valleys\\u002fDeltas (River Sediments)\",\"River Valleys\\u002fDeltas (River Sediments)\",\"River Valleys\\u002fDeltas (River Sediments)\",\"River Valleys\\u002fDeltas (River Sediments)\",\"River Valleys\\u002fDeltas (River Sediments)\",\"River Valleys\\u002fDeltas (River Sediments)\",\"River Valleys\\u002fDeltas (River Sediments)\",\"River Valleys\\u002fDeltas (River Sediments)\",\"River Valleys\\u002fDeltas (River Sediments)\",\"River Valleys\\u002fDeltas (River Sediments)\",\"River Valleys\\u002fDeltas (River Sediments)\",\"River Valleys\\u002fDeltas (River Sediments)\",\"River Valleys\\u002fDeltas (River Sediments)\",\"Fertile\\u002fAgricultural (Grasslands, Food Bearing, Pasture)\",\"Fertile\\u002fAgricultural (Grasslands, Food Bearing, Pasture)\",\"Clay Dominant\",\"Clay Dominant\",\"Clay Dominant\",\"Clay Dominant\",\"Clay Dominant\",\"Clay Dominant\",\"River Valleys\\u002fDeltas (River Sediments)\",\"River Valleys\\u002fDeltas (River Sediments)\",\"Clay Dominant\",\"Clay Dominant\",\"Clay Dominant\",\"Clay Dominant\",\"Clay Dominant\",\"Clay Dominant\",\"Clay Dominant\",\"Clay Dominant\",\"Clay Dominant\",\"Clay Dominant\",\"Clay Dominant\",\"Clay Dominant\",\"Clay Dominant\",\"Clay Dominant\",\"Clay Dominant\",\"Fertile\\u002fAgricultural (Grasslands, Food Bearing, Pasture)\",\"Clay Dominant\",\"Clay Dominant\",\"River Valleys\\u002fDeltas (River Sediments)\",\"River Valleys\\u002fDeltas (River Sediments)\",\"River Valleys\\u002fDeltas (River Sediments)\",\"River Valleys\\u002fDeltas (River Sediments)\",\"River Valleys\\u002fDeltas (River Sediments)\",\"River Valleys\\u002fDeltas (River Sediments)\",\"River Valleys\\u002fDeltas (River Sediments)\",\"River Valleys\\u002fDeltas (River Sediments)\",\"River Valleys\\u002fDeltas (River Sediments)\",\"River Valleys\\u002fDeltas (River Sediments)\",\"River Valleys\\u002fDeltas (River Sediments)\",\"Fertile\\u002fAgricultural (Grasslands, Food Bearing, Pasture)\",\"Fertile\\u002fAgricultural (Grasslands, Food Bearing, Pasture)\",\"Fertile\\u002fAgricultural (Grasslands, Food Bearing, Pasture)\",\"Fertile\\u002fAgricultural (Grasslands, Food Bearing, Pasture)\",\"Fertile\\u002fAgricultural (Grasslands, Food Bearing, Pasture)\",\"Fertile\\u002fAgricultural (Grasslands, Food Bearing, Pasture)\",\"Fertile\\u002fAgricultural (Grasslands, Food Bearing, Pasture)\",\"Fertile\\u002fAgricultural (Grasslands, Food Bearing, Pasture)\",\"Fertile\\u002fAgricultural (Grasslands, Food Bearing, Pasture)\",\"Fertile\\u002fAgricultural (Grasslands, Food Bearing, Pasture)\",\"Fertile\\u002fAgricultural (Grasslands, Food Bearing, Pasture)\",\"River Valleys\\u002fDeltas (River Sediments)\",\"Clay Dominant\",\"Clay Dominant\",\"Clay Dominant\",\"Clay Dominant\",\"Clay Dominant\",\"Clay Dominant\",\"Clay Dominant\",\"Clay Dominant\",\"River Valleys\\u002fDeltas (River Sediments)\",\"River Valleys\\u002fDeltas (River Sediments)\",\"River Valleys\\u002fDeltas (River Sediments)\",\"Clay Dominant\",\"Clay Dominant\",\"Clay Dominant\",\"Clay Dominant\",\"Clay Dominant\",\"Clay Dominant\",\"Clay Dominant\",\"Clay Dominant\",\"Clay Dominant\",\"Clay Dominant\",\"Clay Dominant\",\"Fertile\\u002fAgricultural (Grasslands, Food Bearing, Pasture)\",\"Fertile\\u002fAgricultural (Grasslands, Food Bearing, Pasture)\",\"Fertile\\u002fAgricultural (Grasslands, Food Bearing, Pasture)\",\"Fertile\\u002fAgricultural (Grasslands, Food Bearing, Pasture)\",\"Fertile\\u002fAgricultural (Grasslands, Food Bearing, Pasture)\",\"Clay Dominant\",\"Clay Dominant\",\"Clay Dominant\",\"Fertile\\u002fAgricultural (Grasslands, Food Bearing, Pasture)\",\"Fertile\\u002fAgricultural (Grasslands, Food Bearing, Pasture)\",\"Clay Dominant\",\"Clay Dominant\",\"Fertile\\u002fAgricultural (Grasslands, Food Bearing, Pasture)\",\"Fertile\\u002fAgricultural (Grasslands, Food Bearing, Pasture)\",\"Fertile\\u002fAgricultural (Grasslands, Food Bearing, Pasture)\"],\"x0\":\" \",\"xaxis\":\"x\",\"y\":[49.87221145233525,49.87221145233525,49.87221145233525,49.87221145233525,49.87221145233525,49.87221145233525,49.87221145233525,49.87221145233525,49.87221145233525,49.87221145233525,49.87221145233525,-23.442340425330826,-660.0434529648901,-1584.228190853686,-1584.228190853686,-1584.228190853686,209.30686711114177,209.30686711114177,-2.7551563815868576,-2.7551563815868576,-2.7551563815868576,-2.7551563815868576,-415.4249139977676,-415.4249139977676,-415.4249139977676,-415.4249139977676,-415.4249139977676,-415.4249139977676,450.25463104994753,251.6055418616652,251.6055418616652,251.6055418616652,251.6055418616652,-516.4315680898692,547.0565583217044,-322.1761947644741,-322.1761947644741,-322.1761947644741,-322.1761947644741,-322.1761947644741,-322.1761947644741,-322.1761947644741,59.92692470372731,59.92692470372731,59.92692470372731,59.92692470372731,59.92692470372731,-465.47270466744203,677.0128774037439,677.0128774037439,677.0128774037439,677.0128774037439,677.0128774037439,-233.58567068980847,-233.58567068980847,-2909.4989349673997,76.05781753772317,76.05781753772317,-873.5857883801705,-873.5857883801705,-873.5857883801705,-873.5857883801705,-873.5857883801705,-873.5857883801705,125.21702326325794,125.21702326325794,125.21702326325794,125.21702326325794,125.21702326325794,125.21702326325794,125.21702326325794,125.21702326325794,125.21702326325794,125.21702326325794,125.21702326325794,125.21702326325794,-251.0000429499479,-1156.9741517391803,-1156.9741517391803,-1156.9741517391803,-1156.9741517391803,-1156.9741517391803,363.6936805316773,363.6936805316773,385.16725736908984,385.16725736908984,-377.2875222320981,-377.2875222320981,-377.2875222320981,-377.2875222320981,-143.06655587862224,-143.06655587862224,-143.06655587862224,-143.06655587862224,553.7746180218342,553.7746180218342,553.7746180218342,553.7746180218342,1551.906577884948,1551.906577884948,1551.906577884948,1551.906577884948,1551.906577884948,1551.906577884948,1551.906577884948,1551.906577884948,1551.906577884948,1551.906577884948,1551.906577884948,1551.906577884948,-162.94702956363926,-162.94702956363926,-162.94702956363926,-162.94702956363926,-162.94702956363926,-162.94702956363926,-222.84506718748258,-222.84506718748258,175.31097699054408,175.31097699054408,175.31097699054408,-1127.8179445447136,-1127.8179445447136,-1127.8179445447136,-1127.8179445447136,-1127.8179445447136,2332.957237698222,-147.6978745315406,-363.71197269801087,-363.71197269801087,-33.793660968727636,176.41066534715992,176.41066534715992,176.41066534715992,748.9692478454299,748.9692478454299,748.9692478454299,748.9692478454299,748.9692478454299,-678.8435798955215,-678.8435798955215,-678.8435798955215,-678.8435798955215,321.5585437691161,321.5585437691161,-300.76585706332673,876.5016438187549,307.625617728969,307.625617728969,307.625617728969,36.68005394520776,774.8272106373483,204.79664720804777,-91.98318874097356,-809.8182617003768,555.1705652355249,555.1705652355249,555.1705652355249,555.1705652355249,555.1705652355249,-255.88112150273537,-612.4078046427885,-95.3575830717648,-95.3575830717648,-95.3575830717648,-95.3575830717648,-95.3575830717648,816.0685007106322,-58.59098168521541,458.95562901603284,393.21472297630464,1333.1875911984066,1333.1875911984066,1333.1875911984066,1333.1875911984066,1333.1875911984066,-138.8303784513855,-138.8303784513855,-886.6260921039639,-886.6260921039639,-886.6260921039639,-886.6260921039639,68.97113138527607,-338.8679061842204,-338.8679061842204,-338.8679061842204,111.69416862183698,111.69416862183698,111.69416862183698,5.6943221761171685,1064.6002909979507,1846.9841967334987,1846.9841967334987,1846.9841967334987,1846.9841967334987,1846.9841967334987,1846.9841967334987,1846.9841967334987,1846.9841967334987,1846.9841967334987,1846.9841967334987,1846.9841967334987,1846.9841967334987,-224.6660899226299,-224.6660899226299,455.5984813141031,-331.74711552211556,-331.74711552211556,-331.74711552211556,509.4773428677381,509.4773428677381,509.4773428677381,509.4773428677381,509.4773428677381,509.4773428677381,509.4773428677381,509.4773428677381,509.4773428677381,509.4773428677381,509.4773428677381,509.4773428677381,2092.9290612549958,2092.9290612549958,2092.9290612549958,-1483.1039609185373,-15.35012834624007,-15.35012834624007,-594.2831647415951,-594.2831647415951,-594.2831647415951,-594.2831647415951,-594.2831647415951,-594.2831647415951,-594.2831647415951,95.59109276194272,95.59109276194272,95.59109276194272,1088.6342444847878,1025.973919304507,1025.973919304507,1025.973919304507,1025.973919304507,1025.973919304507,1025.973919304507,1025.973919304507,1025.973919304507,1025.973919304507,1025.973919304507,1025.973919304507,-65.93791497533357,-65.93791497533357,-65.93791497533357,-65.93791497533357,-65.93791497533357,-65.93791497533357,-65.93791497533357,-65.93791497533357,-65.93791497533357,-833.6128837362044,-833.6128837362044,-833.6128837362044,-833.6128837362044,-833.6128837362044,-833.6128837362044,724.1953535867959,-1281.2707648125706,-1281.2707648125706,143.51073121209583,143.51073121209583,143.51073121209583,-679.6259847122565,-679.6259847122565,-679.6259847122565,-679.6259847122565,-679.6259847122565,-679.6259847122565,-679.6259847122565,-679.6259847122565,-679.6259847122565,-679.6259847122565,-679.6259847122565,-679.6259847122565,139.88769459011974,-43.1097613298806,2189.043308092515,2189.043308092515,2189.043308092515,-474.8687916342933,-1356.7071482404035,-1356.7071482404035,-1356.7071482404035,-1356.7071482404035,-1356.7071482404035,-1356.7071482404035,-1356.7071482404035,-1356.7071482404035,-1356.7071482404035,297.3775653104626,297.3775653104626,297.3775653104626,297.3775653104626,-31.716240164179908,-31.716240164179908,-31.716240164179908,292.54909150367166,321.8538013522518,321.8538013522518,321.8538013522518,321.8538013522518,321.8538013522518,321.8538013522518,2208.6396094804404,2208.6396094804404,2208.6396094804404,2208.6396094804404,2208.6396094804404,2208.6396094804404,-1731.5041212092292,-203.42133063049369,672.2851300272259,672.2851300272259,672.2851300272259,-378.10150295256904,1872.0899891152944,-67.3275080184564,-67.3275080184564,320.3257603375081,55.2462952148619,55.2462952148619,55.2462952148619,55.2462952148619,55.2462952148619,-31.46594771863215,-318.8067897017422,-318.8067897017422,380.7405669334066,380.7405669334066,380.7405669334066,380.7405669334066,380.7405669334066,380.7405669334066,380.7405669334066,380.7405669334066,-30.275703882796734,-146.9617797651299,-146.9617797651299,-1192.4239034408274,-341.996258046051,-213.5192876245419,-297.6068295231323,-297.6068295231323,-297.6068295231323,-297.6068295231323,-297.6068295231323,-297.6068295231323,-297.6068295231323,-272.31839652438794,-272.31839652438794,-272.31839652438794,-272.31839652438794,-272.31839652438794,-272.31839652438794,-272.31839652438794,-272.31839652438794,-272.31839652438794,-741.5035456260803,-973.9493481211716,-973.9493481211716,59.43336805380977,59.43336805380977,59.43336805380977,59.43336805380977,59.43336805380977,59.43336805380977,59.43336805380977,59.43336805380977,59.43336805380977,59.43336805380977,59.43336805380977,-979.5164203555814,-341.67462838256233,-341.67462838256233,-341.67462838256233,-341.67462838256233,-341.67462838256233,-341.67462838256233,-341.67462838256233,-2880.4663869957585,214.27845022332986,214.27845022332986,214.27845022332986,214.27845022332986,387.3593201424211,387.3593201424211,103.49687744305629,103.49687744305629,-374.6173181314093,-374.6173181314093,-374.6173181314093,-374.6173181314093,861.8319951369858,861.8319951369858,861.8319951369858,861.8319951369858,861.8319951369858,861.8319951369858,861.8319951369858,861.8319951369858,861.8319951369858,861.8319951369858,861.8319951369858,861.8319951369858,103.07447720481753,103.07447720481753,103.07447720481753,103.07447720481753,103.07447720481753,-254.12665553941474,353.61607904915263,353.61607904915263,353.61607904915263,1324.67960838401,1324.67960838401,1324.67960838401,1324.67960838401,1324.67960838401,1324.67960838401,1324.67960838401,1324.67960838401,1324.67960838401,1324.67960838401,1324.67960838401,267.6673246754999,267.6673246754999,267.6673246754999,267.6673246754999,267.6673246754999,160.2293792731714,160.2293792731714,-105.2479587497628,-105.2479587497628,-105.2479587497628,-147.88165702019296,-147.88165702019296,-147.88165702019296,-306.786645098284,-306.786645098284,-474.31664301187175,-325.1025597299223,-325.1025597299223,-325.1025597299223,-325.1025597299223,-325.1025597299223,732.6902533799093,732.6902533799093,732.6902533799093,732.6902533799093,732.6902533799093,732.6902533799093,732.6902533799093,-612.0906439737853,-612.0906439737853,534.3238223832493,379.56639496699063,379.56639496699063,-526.2177984546338,-526.2177984546338,-526.2177984546338,-526.2177984546338,-526.2177984546338,-526.2177984546338,-526.2177984546338,-405.9473560835122,-405.9473560835122,-405.9473560835122,-405.9473560835122,1294.5315409573393,425.2770877505229,-1234.8437717044235,958.7201325485057,958.7201325485057,958.7201325485057,958.7201325485057,958.7201325485057,958.7201325485057,958.7201325485057,-197.01485549397967,816.9005822324934,2614.3778793806077,2614.3778793806077,2614.3778793806077,2614.3778793806077,2614.3778793806077,2614.3778793806077,2614.3778793806077,2614.3778793806077,722.9140984005298,722.9140984005298,722.9140984005298,-83.25967343861885,-83.25967343861885,-83.25967343861885,-83.25967343861885,-83.25967343861885,-83.25967343861885,-83.25967343861885,-83.25967343861885,-83.25967343861885,-83.25967343861885,-83.25967343861885,912.0970209085935,912.0970209085935,912.0970209085935,912.0970209085935,912.0970209085935,1.327537663174553,1.327537663174553,1.327537663174553,-185.29018579179183,-185.29018579179183,102.45900295358558,102.45900295358558,-194.18110673590184,-194.18110673590184,-52.67649813656453],\"y0\":\" \",\"yaxis\":\"y\",\"type\":\"box\"}],                        {\"template\":{\"data\":{\"histogram2dcontour\":[{\"type\":\"histogram2dcontour\",\"colorbar\":{\"outlinewidth\":0,\"ticks\":\"\"},\"colorscale\":[[0.0,\"#0d0887\"],[0.1111111111111111,\"#46039f\"],[0.2222222222222222,\"#7201a8\"],[0.3333333333333333,\"#9c179e\"],[0.4444444444444444,\"#bd3786\"],[0.5555555555555556,\"#d8576b\"],[0.6666666666666666,\"#ed7953\"],[0.7777777777777778,\"#fb9f3a\"],[0.8888888888888888,\"#fdca26\"],[1.0,\"#f0f921\"]]}],\"choropleth\":[{\"type\":\"choropleth\",\"colorbar\":{\"outlinewidth\":0,\"ticks\":\"\"}}],\"histogram2d\":[{\"type\":\"histogram2d\",\"colorbar\":{\"outlinewidth\":0,\"ticks\":\"\"},\"colorscale\":[[0.0,\"#0d0887\"],[0.1111111111111111,\"#46039f\"],[0.2222222222222222,\"#7201a8\"],[0.3333333333333333,\"#9c179e\"],[0.4444444444444444,\"#bd3786\"],[0.5555555555555556,\"#d8576b\"],[0.6666666666666666,\"#ed7953\"],[0.7777777777777778,\"#fb9f3a\"],[0.8888888888888888,\"#fdca26\"],[1.0,\"#f0f921\"]]}],\"heatmap\":[{\"type\":\"heatmap\",\"colorbar\":{\"outlinewidth\":0,\"ticks\":\"\"},\"colorscale\":[[0.0,\"#0d0887\"],[0.1111111111111111,\"#46039f\"],[0.2222222222222222,\"#7201a8\"],[0.3333333333333333,\"#9c179e\"],[0.4444444444444444,\"#bd3786\"],[0.5555555555555556,\"#d8576b\"],[0.6666666666666666,\"#ed7953\"],[0.7777777777777778,\"#fb9f3a\"],[0.8888888888888888,\"#fdca26\"],[1.0,\"#f0f921\"]]}],\"heatmapgl\":[{\"type\":\"heatmapgl\",\"colorbar\":{\"outlinewidth\":0,\"ticks\":\"\"},\"colorscale\":[[0.0,\"#0d0887\"],[0.1111111111111111,\"#46039f\"],[0.2222222222222222,\"#7201a8\"],[0.3333333333333333,\"#9c179e\"],[0.4444444444444444,\"#bd3786\"],[0.5555555555555556,\"#d8576b\"],[0.6666666666666666,\"#ed7953\"],[0.7777777777777778,\"#fb9f3a\"],[0.8888888888888888,\"#fdca26\"],[1.0,\"#f0f921\"]]}],\"contourcarpet\":[{\"type\":\"contourcarpet\",\"colorbar\":{\"outlinewidth\":0,\"ticks\":\"\"}}],\"contour\":[{\"type\":\"contour\",\"colorbar\":{\"outlinewidth\":0,\"ticks\":\"\"},\"colorscale\":[[0.0,\"#0d0887\"],[0.1111111111111111,\"#46039f\"],[0.2222222222222222,\"#7201a8\"],[0.3333333333333333,\"#9c179e\"],[0.4444444444444444,\"#bd3786\"],[0.5555555555555556,\"#d8576b\"],[0.6666666666666666,\"#ed7953\"],[0.7777777777777778,\"#fb9f3a\"],[0.8888888888888888,\"#fdca26\"],[1.0,\"#f0f921\"]]}],\"surface\":[{\"type\":\"surface\",\"colorbar\":{\"outlinewidth\":0,\"ticks\":\"\"},\"colorscale\":[[0.0,\"#0d0887\"],[0.1111111111111111,\"#46039f\"],[0.2222222222222222,\"#7201a8\"],[0.3333333333333333,\"#9c179e\"],[0.4444444444444444,\"#bd3786\"],[0.5555555555555556,\"#d8576b\"],[0.6666666666666666,\"#ed7953\"],[0.7777777777777778,\"#fb9f3a\"],[0.8888888888888888,\"#fdca26\"],[1.0,\"#f0f921\"]]}],\"mesh3d\":[{\"type\":\"mesh3d\",\"colorbar\":{\"outlinewidth\":0,\"ticks\":\"\"}}],\"scatter\":[{\"fillpattern\":{\"fillmode\":\"overlay\",\"size\":10,\"solidity\":0.2},\"type\":\"scatter\"}],\"parcoords\":[{\"type\":\"parcoords\",\"line\":{\"colorbar\":{\"outlinewidth\":0,\"ticks\":\"\"}}}],\"scatterpolargl\":[{\"type\":\"scatterpolargl\",\"marker\":{\"colorbar\":{\"outlinewidth\":0,\"ticks\":\"\"}}}],\"bar\":[{\"error_x\":{\"color\":\"#2a3f5f\"},\"error_y\":{\"color\":\"#2a3f5f\"},\"marker\":{\"line\":{\"color\":\"#E5ECF6\",\"width\":0.5},\"pattern\":{\"fillmode\":\"overlay\",\"size\":10,\"solidity\":0.2}},\"type\":\"bar\"}],\"scattergeo\":[{\"type\":\"scattergeo\",\"marker\":{\"colorbar\":{\"outlinewidth\":0,\"ticks\":\"\"}}}],\"scatterpolar\":[{\"type\":\"scatterpolar\",\"marker\":{\"colorbar\":{\"outlinewidth\":0,\"ticks\":\"\"}}}],\"histogram\":[{\"marker\":{\"pattern\":{\"fillmode\":\"overlay\",\"size\":10,\"solidity\":0.2}},\"type\":\"histogram\"}],\"scattergl\":[{\"type\":\"scattergl\",\"marker\":{\"colorbar\":{\"outlinewidth\":0,\"ticks\":\"\"}}}],\"scatter3d\":[{\"type\":\"scatter3d\",\"line\":{\"colorbar\":{\"outlinewidth\":0,\"ticks\":\"\"}},\"marker\":{\"colorbar\":{\"outlinewidth\":0,\"ticks\":\"\"}}}],\"scattermapbox\":[{\"type\":\"scattermapbox\",\"marker\":{\"colorbar\":{\"outlinewidth\":0,\"ticks\":\"\"}}}],\"scatterternary\":[{\"type\":\"scatterternary\",\"marker\":{\"colorbar\":{\"outlinewidth\":0,\"ticks\":\"\"}}}],\"scattercarpet\":[{\"type\":\"scattercarpet\",\"marker\":{\"colorbar\":{\"outlinewidth\":0,\"ticks\":\"\"}}}],\"carpet\":[{\"aaxis\":{\"endlinecolor\":\"#2a3f5f\",\"gridcolor\":\"white\",\"linecolor\":\"white\",\"minorgridcolor\":\"white\",\"startlinecolor\":\"#2a3f5f\"},\"baxis\":{\"endlinecolor\":\"#2a3f5f\",\"gridcolor\":\"white\",\"linecolor\":\"white\",\"minorgridcolor\":\"white\",\"startlinecolor\":\"#2a3f5f\"},\"type\":\"carpet\"}],\"table\":[{\"cells\":{\"fill\":{\"color\":\"#EBF0F8\"},\"line\":{\"color\":\"white\"}},\"header\":{\"fill\":{\"color\":\"#C8D4E3\"},\"line\":{\"color\":\"white\"}},\"type\":\"table\"}],\"barpolar\":[{\"marker\":{\"line\":{\"color\":\"#E5ECF6\",\"width\":0.5},\"pattern\":{\"fillmode\":\"overlay\",\"size\":10,\"solidity\":0.2}},\"type\":\"barpolar\"}],\"pie\":[{\"automargin\":true,\"type\":\"pie\"}]},\"layout\":{\"autotypenumbers\":\"strict\",\"colorway\":[\"#636efa\",\"#EF553B\",\"#00cc96\",\"#ab63fa\",\"#FFA15A\",\"#19d3f3\",\"#FF6692\",\"#B6E880\",\"#FF97FF\",\"#FECB52\"],\"font\":{\"color\":\"#2a3f5f\"},\"hovermode\":\"closest\",\"hoverlabel\":{\"align\":\"left\"},\"paper_bgcolor\":\"white\",\"plot_bgcolor\":\"#E5ECF6\",\"polar\":{\"bgcolor\":\"#E5ECF6\",\"angularaxis\":{\"gridcolor\":\"white\",\"linecolor\":\"white\",\"ticks\":\"\"},\"radialaxis\":{\"gridcolor\":\"white\",\"linecolor\":\"white\",\"ticks\":\"\"}},\"ternary\":{\"bgcolor\":\"#E5ECF6\",\"aaxis\":{\"gridcolor\":\"white\",\"linecolor\":\"white\",\"ticks\":\"\"},\"baxis\":{\"gridcolor\":\"white\",\"linecolor\":\"white\",\"ticks\":\"\"},\"caxis\":{\"gridcolor\":\"white\",\"linecolor\":\"white\",\"ticks\":\"\"}},\"coloraxis\":{\"colorbar\":{\"outlinewidth\":0,\"ticks\":\"\"}},\"colorscale\":{\"sequential\":[[0.0,\"#0d0887\"],[0.1111111111111111,\"#46039f\"],[0.2222222222222222,\"#7201a8\"],[0.3333333333333333,\"#9c179e\"],[0.4444444444444444,\"#bd3786\"],[0.5555555555555556,\"#d8576b\"],[0.6666666666666666,\"#ed7953\"],[0.7777777777777778,\"#fb9f3a\"],[0.8888888888888888,\"#fdca26\"],[1.0,\"#f0f921\"]],\"sequentialminus\":[[0.0,\"#0d0887\"],[0.1111111111111111,\"#46039f\"],[0.2222222222222222,\"#7201a8\"],[0.3333333333333333,\"#9c179e\"],[0.4444444444444444,\"#bd3786\"],[0.5555555555555556,\"#d8576b\"],[0.6666666666666666,\"#ed7953\"],[0.7777777777777778,\"#fb9f3a\"],[0.8888888888888888,\"#fdca26\"],[1.0,\"#f0f921\"]],\"diverging\":[[0,\"#8e0152\"],[0.1,\"#c51b7d\"],[0.2,\"#de77ae\"],[0.3,\"#f1b6da\"],[0.4,\"#fde0ef\"],[0.5,\"#f7f7f7\"],[0.6,\"#e6f5d0\"],[0.7,\"#b8e186\"],[0.8,\"#7fbc41\"],[0.9,\"#4d9221\"],[1,\"#276419\"]]},\"xaxis\":{\"gridcolor\":\"white\",\"linecolor\":\"white\",\"ticks\":\"\",\"title\":{\"standoff\":15},\"zerolinecolor\":\"white\",\"automargin\":true,\"zerolinewidth\":2},\"yaxis\":{\"gridcolor\":\"white\",\"linecolor\":\"white\",\"ticks\":\"\",\"title\":{\"standoff\":15},\"zerolinecolor\":\"white\",\"automargin\":true,\"zerolinewidth\":2},\"scene\":{\"xaxis\":{\"backgroundcolor\":\"#E5ECF6\",\"gridcolor\":\"white\",\"linecolor\":\"white\",\"showbackground\":true,\"ticks\":\"\",\"zerolinecolor\":\"white\",\"gridwidth\":2},\"yaxis\":{\"backgroundcolor\":\"#E5ECF6\",\"gridcolor\":\"white\",\"linecolor\":\"white\",\"showbackground\":true,\"ticks\":\"\",\"zerolinecolor\":\"white\",\"gridwidth\":2},\"zaxis\":{\"backgroundcolor\":\"#E5ECF6\",\"gridcolor\":\"white\",\"linecolor\":\"white\",\"showbackground\":true,\"ticks\":\"\",\"zerolinecolor\":\"white\",\"gridwidth\":2}},\"shapedefaults\":{\"line\":{\"color\":\"#2a3f5f\"}},\"annotationdefaults\":{\"arrowcolor\":\"#2a3f5f\",\"arrowhead\":0,\"arrowwidth\":1},\"geo\":{\"bgcolor\":\"white\",\"landcolor\":\"#E5ECF6\",\"subunitcolor\":\"white\",\"showland\":true,\"showlakes\":true,\"lakecolor\":\"white\"},\"title\":{\"x\":0.05},\"mapbox\":{\"style\":\"light\"}}},\"xaxis\":{\"anchor\":\"y\",\"domain\":[0.0,1.0],\"title\":{\"text\":\"soil_type\"}},\"yaxis\":{\"anchor\":\"x\",\"domain\":[0.0,1.0],\"title\":{\"text\":\"Residuals\"}},\"legend\":{\"tracegroupgap\":0},\"title\":{\"text\":\"Residuals Distribution Across Soil Types\"},\"boxmode\":\"group\"},                        {\"responsive\": true}                    ).then(function(){\n",
       "                            \n",
       "var gd = document.getElementById('a6f107b1-3389-4651-a5cb-41040fbae98b');\n",
       "var x = new MutationObserver(function (mutations, observer) {{\n",
       "        var display = window.getComputedStyle(gd).display;\n",
       "        if (!display || display === 'none') {{\n",
       "            console.log([gd, 'removed!']);\n",
       "            Plotly.purge(gd);\n",
       "            observer.disconnect();\n",
       "        }}\n",
       "}});\n",
       "\n",
       "// Listen for the removal of the full notebook cells\n",
       "var notebookContainer = gd.closest('#notebook-container');\n",
       "if (notebookContainer) {{\n",
       "    x.observe(notebookContainer, {childList: true});\n",
       "}}\n",
       "\n",
       "// Listen for the clearing of the current output cell\n",
       "var outputEl = gd.closest('.output');\n",
       "if (outputEl) {{\n",
       "    x.observe(outputEl, {childList: true});\n",
       "}}\n",
       "\n",
       "                        })                };                });            </script>        </div>"
      ]
     },
     "metadata": {},
     "output_type": "display_data"
    }
   ],
   "source": [
    "fig = px.box(predictions, x='soil_type', y='Residuals', title=\"Residuals Distribution Across Soil Types\")\n",
    "fig.show()"
   ]
  },
  {
   "cell_type": "code",
   "execution_count": 42,
   "id": "03783122",
   "metadata": {},
   "outputs": [
    {
     "data": {
      "application/vnd.plotly.v1+json": {
       "config": {
        "plotlyServerURL": "https://plot.ly"
       },
       "data": [
        {
         "hovertemplate": "soil_type=Fertile/Agricultural (Grasslands, Food Bearing, Pasture)<br>prediction_label=%{x}<br>standardized_residuals=%{y}<extra></extra>",
         "legendgroup": "Fertile/Agricultural (Grasslands, Food Bearing, Pasture)",
         "marker": {
          "color": "#636efa",
          "symbol": "circle"
         },
         "mode": "markers",
         "name": "Fertile/Agricultural (Grasslands, Food Bearing, Pasture)",
         "orientation": "v",
         "showlegend": true,
         "type": "scatter",
         "x": [
          2482.2830619851647,
          676.6590762651746,
          2875.62157796489,
          792.7002029344275,
          1175.4621444715053,
          2065.5264444368977,
          2514.367235917442,
          878.0823793757291,
          3591.557919963636,
          1497.44530293582,
          5033.4700447392715,
          581.7343128001517,
          4123.73976408086,
          1734.0926190959135,
          406.4617395659054,
          984.2640975464672,
          729.2844225315079,
          612.4712222781559,
          1116.1876820912864,
          458.3884109781797,
          4332.188771502049,
          4735.160796029647,
          3300.1968564263498,
          508.0758668716307,
          2851.5994560018294,
          3466.6999640313206,
          1155.9696154675917,
          1150.4456794333178,
          582.8897020782424,
          4746.447002246328,
          1871.9740795071232,
          804.8699390289312,
          1862.087586936944,
          1506.0835948690806,
          912.0220179828044,
          762.6010185194134,
          1320.1042750533047,
          4982.733554160343,
          4760.94273679638,
          2460.514404812042,
          2728.4460264774402,
          4831.237128382562,
          4192.7491018395085,
          664.9404845450789,
          402.3848364241312,
          1803.9236968987036,
          715.2032772261257,
          1729.4684590426607,
          1126.2962765072896,
          3443.4004123294235,
          5246.711508076494,
          5288.02999221273,
          4843.502588466406,
          566.4610231941356,
          634.6742707984018,
          532.1473843670333
         ],
         "xaxis": "x",
         "y": [
          0.014028087298280766,
          -0.07611109239204475,
          -0.8588029401170943,
          0.5062924732987178,
          -0.4434000396230318,
          0.026390211614531558,
          -0.6195810231294583,
          -0.3558899918390542,
          -0.49446767701343464,
          0.8735577682483987,
          -0.8819174238887308,
          0.9053497589900966,
          -0.36189120722514095,
          -0.8002356004307543,
          -0.16452984164931203,
          0.5169902242780707,
          0.43616273245342163,
          1.5918457599386329,
          0.037509932738721,
          -0.04028798772121911,
          1.2616215643968538,
          0.5128626598014283,
          -1.8707439139395778,
          -0.06616183484346809,
          -1.072204041376626,
          -1.622592922556234,
          0.12915529113968346,
          0.12470082008681709,
          -0.086283732286841,
          0.3123957965374435,
          0.3484255128647243,
          -0.2973926541433428,
          -0.5121593960522319,
          2.2544184530437175,
          0.34654680856831116,
          -0.08597600135012319,
          -0.4392574048988114,
          0.42082593826674836,
          -0.22797645408008585,
          -0.3098079460148733,
          0.025783390861831512,
          -0.4673730813530482,
          -3.588780778256201,
          0.42896359947524604,
          0.07995883746690838,
          0.14971062678807173,
          0.6096543264361073,
          1.5443187060379011,
          0.47558294557158204,
          -1.565511606950026,
          1.1314434430869147,
          -0.28951598575047827,
          1.0741210025863626,
          -0.27510067416460504,
          -0.28603193269471067,
          -0.1120540658882922
         ],
         "yaxis": "y"
        },
        {
         "alignmentgroup": "True",
         "bingroup": "y",
         "hovertemplate": "soil_type=Fertile/Agricultural (Grasslands, Food Bearing, Pasture)<br>standardized_residuals=%{y}<br>count=%{x}<extra></extra>",
         "legendgroup": "Fertile/Agricultural (Grasslands, Food Bearing, Pasture)",
         "marker": {
          "color": "#636efa"
         },
         "name": "Fertile/Agricultural (Grasslands, Food Bearing, Pasture)",
         "offsetgroup": "Fertile/Agricultural (Grasslands, Food Bearing, Pasture)",
         "opacity": 0.5,
         "showlegend": false,
         "type": "histogram",
         "xaxis": "x2",
         "y": [
          0.014028087298280766,
          -0.07611109239204475,
          -0.8588029401170943,
          0.5062924732987178,
          -0.4434000396230318,
          0.026390211614531558,
          -0.6195810231294583,
          -0.3558899918390542,
          -0.49446767701343464,
          0.8735577682483987,
          -0.8819174238887308,
          0.9053497589900966,
          -0.36189120722514095,
          -0.8002356004307543,
          -0.16452984164931203,
          0.5169902242780707,
          0.43616273245342163,
          1.5918457599386329,
          0.037509932738721,
          -0.04028798772121911,
          1.2616215643968538,
          0.5128626598014283,
          -1.8707439139395778,
          -0.06616183484346809,
          -1.072204041376626,
          -1.622592922556234,
          0.12915529113968346,
          0.12470082008681709,
          -0.086283732286841,
          0.3123957965374435,
          0.3484255128647243,
          -0.2973926541433428,
          -0.5121593960522319,
          2.2544184530437175,
          0.34654680856831116,
          -0.08597600135012319,
          -0.4392574048988114,
          0.42082593826674836,
          -0.22797645408008585,
          -0.3098079460148733,
          0.025783390861831512,
          -0.4673730813530482,
          -3.588780778256201,
          0.42896359947524604,
          0.07995883746690838,
          0.14971062678807173,
          0.6096543264361073,
          1.5443187060379011,
          0.47558294557158204,
          -1.565511606950026,
          1.1314434430869147,
          -0.28951598575047827,
          1.0741210025863626,
          -0.27510067416460504,
          -0.28603193269471067,
          -0.1120540658882922
         ],
         "yaxis": "y2"
        },
        {
         "hovertemplate": "soil_type=River Valleys/Deltas (River Sediments)<br>prediction_label=%{x}<br>standardized_residuals=%{y}<extra></extra>",
         "legendgroup": "River Valleys/Deltas (River Sediments)",
         "marker": {
          "color": "#EF553B",
          "symbol": "circle"
         },
         "mode": "markers",
         "name": "River Valleys/Deltas (River Sediments)",
         "orientation": "v",
         "showlegend": true,
         "type": "scatter",
         "x": [
          7388.191081478686,
          6015.905058725337,
          1979.8741327477676,
          1777.680275181996,
          5390.231244962277,
          3269.2239719739205,
          2883.045672049242,
          2617.6308900204303,
          6575.606697532389,
          3783.286190978206,
          2059.0657472790886,
          4756.547567218728,
          640.3527219336985,
          403.8518513271085,
          5239.506680858225,
          2937.147807883118,
          5157.891228822714,
          4096.513169856095,
          4130.109054034413,
          5508.517268110251,
          6266.66267195388,
          5075.590377240866,
          3245.441846585387,
          8225.311173120004,
          4772.229942085345,
          8080.041705695493,
          2206.9142333347086,
          4119.2780843216315,
          3613.4996287091535,
          5165.424775506104,
          1821.769329785138,
          5322.078200315827,
          3782.420935586888,
          6134.28040109483,
          2438.451423316484,
          9407.88658883917,
          479.30626009987,
          1094.8046973180349,
          4838.85554786599,
          3942.64078079325,
          633.4760371881277,
          3368.115991814009,
          3464.497649052262,
          2253.7202673768816,
          9928.47262034947
         ],
         "xaxis": "x",
         "y": [
          -1.9950746900231588,
          -0.05067649923082095,
          -0.5580479893627763,
          -0.33447927336436195,
          0.04622291072391367,
          -1.1213501486932056,
          0.10666344217149838,
          -1.469772037018853,
          -0.24763008718674223,
          0.16825323274891632,
          -1.4339249025539826,
          -0.08883789107793623,
          -0.0021914792895672323,
          0.20450543722886894,
          0.6352850948414683,
          0.956055327821501,
          -1.1373830132538019,
          -0.4639222570610397,
          0.0900372882466522,
          2.223551244927288,
          -0.32351277799688494,
          -0.45516734807517173,
          0.5791059397330451,
          2.525936893741019,
          -0.7779516181784696,
          1.2141309998405798,
          -0.12835878582128354,
          -0.8828793792790322,
          -1.7153408634061753,
          -2.1761483133405273,
          0.020635445449354983,
          -1.5133569933034403,
          -0.3821005987967942,
          -0.9589569442257169,
          -1.2447456917901651,
          0.21616317670750504,
          0.0794395024917813,
          0.3874767732676011,
          1.5813853182927673,
          0.28180402459454507,
          -0.4244788112013045,
          -0.6942662361459122,
          -0.5463954691743691,
          0.957078360001268,
          0.8415233393727912
         ],
         "yaxis": "y"
        },
        {
         "alignmentgroup": "True",
         "bingroup": "y",
         "hovertemplate": "soil_type=River Valleys/Deltas (River Sediments)<br>standardized_residuals=%{y}<br>count=%{x}<extra></extra>",
         "legendgroup": "River Valleys/Deltas (River Sediments)",
         "marker": {
          "color": "#EF553B"
         },
         "name": "River Valleys/Deltas (River Sediments)",
         "offsetgroup": "River Valleys/Deltas (River Sediments)",
         "opacity": 0.5,
         "showlegend": false,
         "type": "histogram",
         "xaxis": "x2",
         "y": [
          -1.9950746900231588,
          -0.05067649923082095,
          -0.5580479893627763,
          -0.33447927336436195,
          0.04622291072391367,
          -1.1213501486932056,
          0.10666344217149838,
          -1.469772037018853,
          -0.24763008718674223,
          0.16825323274891632,
          -1.4339249025539826,
          -0.08883789107793623,
          -0.0021914792895672323,
          0.20450543722886894,
          0.6352850948414683,
          0.956055327821501,
          -1.1373830132538019,
          -0.4639222570610397,
          0.0900372882466522,
          2.223551244927288,
          -0.32351277799688494,
          -0.45516734807517173,
          0.5791059397330451,
          2.525936893741019,
          -0.7779516181784696,
          1.2141309998405798,
          -0.12835878582128354,
          -0.8828793792790322,
          -1.7153408634061753,
          -2.1761483133405273,
          0.020635445449354983,
          -1.5133569933034403,
          -0.3821005987967942,
          -0.9589569442257169,
          -1.2447456917901651,
          0.21616317670750504,
          0.0794395024917813,
          0.3874767732676011,
          1.5813853182927673,
          0.28180402459454507,
          -0.4244788112013045,
          -0.6942662361459122,
          -0.5463954691743691,
          0.957078360001268,
          0.8415233393727912
         ],
         "yaxis": "y2"
        },
        {
         "hovertemplate": "soil_type=Clay Dominant<br>prediction_label=%{x}<br>standardized_residuals=%{y}<extra></extra>",
         "legendgroup": "Clay Dominant",
         "marker": {
          "color": "#00cc96",
          "symbol": "circle"
         },
         "mode": "markers",
         "name": "Clay Dominant",
         "orientation": "v",
         "showlegend": true,
         "type": "scatter",
         "x": [
          171.20393611151448,
          7018.001880013335,
          2028.3479499258067,
          2853.4256194126706,
          6096.061341346256,
          5200.160311920525,
          3827.3346397808227,
          700.5326938027852,
          4497.431076919598,
          4621.785794159872,
          2833.842569478166,
          6249.355140865052,
          445.19341896513436,
          1259.63620965284,
          4063.496632012134,
          800.8266785965299,
          1206.005974067906,
          230.93785487866887,
          4727.133691387877,
          4977.762368403965,
          529.6190442228699,
          335.1372092400104,
          891.3924149678916,
          1001.9028521501931,
          5051.826809094985,
          3936.7386646811683,
          3995.6082745332874,
          8121.26859364456,
          6543.022487160274,
          117.11687950893491,
          5412.035957789047,
          1033.8314999332886,
          4560.776430121206,
          1096.213204361878,
          2349.647985331764,
          855.5148044528878,
          2441.015934363943,
          3778.8627855899967,
          826.9656578744535,
          5247.724785682591,
          1647.0906439737853,
          1554.6057241736344,
          7656.605519056892,
          3483.034575782369,
          503.8906630204192,
          846.1677060307894
         ],
         "xaxis": "x",
         "y": [
          0.2100506872764481,
          0.2620562952540037,
          -0.6822342076502275,
          0.6253090408592545,
          0.7850884529625389,
          -3.624475875497612,
          0.39986703833253023,
          0.42626849004393585,
          -0.5111586185456134,
          -0.22318733272767227,
          0.6335687979602838,
          1.860757586277299,
          -0.22888147193424005,
          0.16960528365615987,
          0.34806249794258975,
          -0.4170763395137472,
          0.3309321671722339,
          -0.16038107269227414,
          -1.0429488982103725,
          -0.11932583774958516,
          -0.21797901393509553,
          0.07023878970404392,
          0.8430986240673864,
          -0.10029190154325678,
          2.6441079681676043,
          -0.6311333759680077,
          0.3183323351502226,
          2.6682013369031785,
          0.7792757560369203,
          -0.13006727034178475,
          -0.0845126137927295,
          -0.4131923609065068,
          -1.2515903264722923,
          -0.5078756412774245,
          1.0123208814081543,
          -0.17668991529924005,
          -0.2291074298422446,
          -0.6304545172337244,
          -0.4469979629643646,
          0.8535429803280707,
          -0.7998456559817766,
          0.4193823108400307,
          3.167050663279737,
          -0.1496556369741054,
          -0.04565688603403787,
          0.0786827858140454
         ],
         "yaxis": "y"
        },
        {
         "alignmentgroup": "True",
         "bingroup": "y",
         "hovertemplate": "soil_type=Clay Dominant<br>standardized_residuals=%{y}<br>count=%{x}<extra></extra>",
         "legendgroup": "Clay Dominant",
         "marker": {
          "color": "#00cc96"
         },
         "name": "Clay Dominant",
         "offsetgroup": "Clay Dominant",
         "opacity": 0.5,
         "showlegend": false,
         "type": "histogram",
         "xaxis": "x2",
         "y": [
          0.2100506872764481,
          0.2620562952540037,
          -0.6822342076502275,
          0.6253090408592545,
          0.7850884529625389,
          -3.624475875497612,
          0.39986703833253023,
          0.42626849004393585,
          -0.5111586185456134,
          -0.22318733272767227,
          0.6335687979602838,
          1.860757586277299,
          -0.22888147193424005,
          0.16960528365615987,
          0.34806249794258975,
          -0.4170763395137472,
          0.3309321671722339,
          -0.16038107269227414,
          -1.0429488982103725,
          -0.11932583774958516,
          -0.21797901393509553,
          0.07023878970404392,
          0.8430986240673864,
          -0.10029190154325678,
          2.6441079681676043,
          -0.6311333759680077,
          0.3183323351502226,
          2.6682013369031785,
          0.7792757560369203,
          -0.13006727034178475,
          -0.0845126137927295,
          -0.4131923609065068,
          -1.2515903264722923,
          -0.5078756412774245,
          1.0123208814081543,
          -0.17668991529924005,
          -0.2291074298422446,
          -0.6304545172337244,
          -0.4469979629643646,
          0.8535429803280707,
          -0.7998456559817766,
          0.4193823108400307,
          3.167050663279737,
          -0.1496556369741054,
          -0.04565688603403787,
          0.0786827858140454
         ],
         "yaxis": "y2"
        },
        {
         "hovertemplate": "soil_type=Cold Climates (Permafrost, Rock Outcrops)<br>prediction_label=%{x}<br>standardized_residuals=%{y}<extra></extra>",
         "legendgroup": "Cold Climates (Permafrost, Rock Outcrops)",
         "marker": {
          "color": "#ab63fa",
          "symbol": "circle"
         },
         "mode": "markers",
         "name": "Cold Climates (Permafrost, Rock Outcrops)",
         "orientation": "v",
         "showlegend": true,
         "type": "scatter",
         "x": [
          394.76053349607633,
          4878.815738993745,
          976.6851882542585
         ],
         "xaxis": "x",
         "y": [
          -0.3212738569186042,
          1.030357001996143,
          -0.3597341167338534
         ],
         "yaxis": "y"
        },
        {
         "alignmentgroup": "True",
         "bingroup": "y",
         "hovertemplate": "soil_type=Cold Climates (Permafrost, Rock Outcrops)<br>standardized_residuals=%{y}<br>count=%{x}<extra></extra>",
         "legendgroup": "Cold Climates (Permafrost, Rock Outcrops)",
         "marker": {
          "color": "#ab63fa"
         },
         "name": "Cold Climates (Permafrost, Rock Outcrops)",
         "offsetgroup": "Cold Climates (Permafrost, Rock Outcrops)",
         "opacity": 0.5,
         "showlegend": false,
         "type": "histogram",
         "xaxis": "x2",
         "y": [
          -0.3212738569186042,
          1.030357001996143,
          -0.3597341167338534
         ],
         "yaxis": "y2"
        },
        {
         "hovertemplate": "soil_type=High Altitude/Wet (Mountain, Swampy)<br>prediction_label=%{x}<br>standardized_residuals=%{y}<extra></extra>",
         "legendgroup": "High Altitude/Wet (Mountain, Swampy)",
         "marker": {
          "color": "#FFA15A",
          "symbol": "circle"
         },
         "mode": "markers",
         "name": "High Altitude/Wet (Mountain, Swampy)",
         "orientation": "v",
         "showlegend": true,
         "type": "scatter",
         "x": [
          3592.456336520528,
          6559.918489890212
         ],
         "xaxis": "x",
         "y": [
          2.821048060256218,
          1.2911709621157927
         ],
         "yaxis": "y"
        },
        {
         "alignmentgroup": "True",
         "bingroup": "y",
         "hovertemplate": "soil_type=High Altitude/Wet (Mountain, Swampy)<br>standardized_residuals=%{y}<br>count=%{x}<extra></extra>",
         "legendgroup": "High Altitude/Wet (Mountain, Swampy)",
         "marker": {
          "color": "#FFA15A"
         },
         "name": "High Altitude/Wet (Mountain, Swampy)",
         "offsetgroup": "High Altitude/Wet (Mountain, Swampy)",
         "opacity": 0.5,
         "showlegend": false,
         "type": "histogram",
         "xaxis": "x2",
         "y": [
          2.821048060256218,
          1.2911709621157927
         ],
         "yaxis": "y2"
        },
        {
         "hovertemplate": "soil_type=Environment Dependent (Wetlands, Volcanic Ash, Mineral Rich)<br>prediction_label=%{x}<br>standardized_residuals=%{y}<extra></extra>",
         "legendgroup": "Environment Dependent (Wetlands, Volcanic Ash, Mineral Rich)",
         "marker": {
          "color": "#19d3f3",
          "symbol": "circle"
         },
         "mode": "markers",
         "name": "Environment Dependent (Wetlands, Volcanic Ash, Mineral Rich)",
         "orientation": "v",
         "showlegend": true,
         "type": "scatter",
         "x": [
          2646.132976796051
         ],
         "xaxis": "x",
         "y": [
          -0.4677685203660196
         ],
         "yaxis": "y"
        },
        {
         "alignmentgroup": "True",
         "bingroup": "y",
         "hovertemplate": "soil_type=Environment Dependent (Wetlands, Volcanic Ash, Mineral Rich)<br>standardized_residuals=%{y}<br>count=%{x}<extra></extra>",
         "legendgroup": "Environment Dependent (Wetlands, Volcanic Ash, Mineral Rich)",
         "marker": {
          "color": "#19d3f3"
         },
         "name": "Environment Dependent (Wetlands, Volcanic Ash, Mineral Rich)",
         "offsetgroup": "Environment Dependent (Wetlands, Volcanic Ash, Mineral Rich)",
         "opacity": 0.5,
         "showlegend": false,
         "type": "histogram",
         "xaxis": "x2",
         "y": [
          -0.4677685203660196
         ],
         "yaxis": "y2"
        }
       ],
       "layout": {
        "barmode": "overlay",
        "legend": {
         "title": {
          "text": "soil_type"
         },
         "tracegroupgap": 0
        },
        "template": {
         "data": {
          "bar": [
           {
            "error_x": {
             "color": "#2a3f5f"
            },
            "error_y": {
             "color": "#2a3f5f"
            },
            "marker": {
             "line": {
              "color": "#E5ECF6",
              "width": 0.5
             },
             "pattern": {
              "fillmode": "overlay",
              "size": 10,
              "solidity": 0.2
             }
            },
            "type": "bar"
           }
          ],
          "barpolar": [
           {
            "marker": {
             "line": {
              "color": "#E5ECF6",
              "width": 0.5
             },
             "pattern": {
              "fillmode": "overlay",
              "size": 10,
              "solidity": 0.2
             }
            },
            "type": "barpolar"
           }
          ],
          "carpet": [
           {
            "aaxis": {
             "endlinecolor": "#2a3f5f",
             "gridcolor": "white",
             "linecolor": "white",
             "minorgridcolor": "white",
             "startlinecolor": "#2a3f5f"
            },
            "baxis": {
             "endlinecolor": "#2a3f5f",
             "gridcolor": "white",
             "linecolor": "white",
             "minorgridcolor": "white",
             "startlinecolor": "#2a3f5f"
            },
            "type": "carpet"
           }
          ],
          "choropleth": [
           {
            "colorbar": {
             "outlinewidth": 0,
             "ticks": ""
            },
            "type": "choropleth"
           }
          ],
          "contour": [
           {
            "colorbar": {
             "outlinewidth": 0,
             "ticks": ""
            },
            "colorscale": [
             [
              0,
              "#0d0887"
             ],
             [
              0.1111111111111111,
              "#46039f"
             ],
             [
              0.2222222222222222,
              "#7201a8"
             ],
             [
              0.3333333333333333,
              "#9c179e"
             ],
             [
              0.4444444444444444,
              "#bd3786"
             ],
             [
              0.5555555555555556,
              "#d8576b"
             ],
             [
              0.6666666666666666,
              "#ed7953"
             ],
             [
              0.7777777777777778,
              "#fb9f3a"
             ],
             [
              0.8888888888888888,
              "#fdca26"
             ],
             [
              1,
              "#f0f921"
             ]
            ],
            "type": "contour"
           }
          ],
          "contourcarpet": [
           {
            "colorbar": {
             "outlinewidth": 0,
             "ticks": ""
            },
            "type": "contourcarpet"
           }
          ],
          "heatmap": [
           {
            "colorbar": {
             "outlinewidth": 0,
             "ticks": ""
            },
            "colorscale": [
             [
              0,
              "#0d0887"
             ],
             [
              0.1111111111111111,
              "#46039f"
             ],
             [
              0.2222222222222222,
              "#7201a8"
             ],
             [
              0.3333333333333333,
              "#9c179e"
             ],
             [
              0.4444444444444444,
              "#bd3786"
             ],
             [
              0.5555555555555556,
              "#d8576b"
             ],
             [
              0.6666666666666666,
              "#ed7953"
             ],
             [
              0.7777777777777778,
              "#fb9f3a"
             ],
             [
              0.8888888888888888,
              "#fdca26"
             ],
             [
              1,
              "#f0f921"
             ]
            ],
            "type": "heatmap"
           }
          ],
          "heatmapgl": [
           {
            "colorbar": {
             "outlinewidth": 0,
             "ticks": ""
            },
            "colorscale": [
             [
              0,
              "#0d0887"
             ],
             [
              0.1111111111111111,
              "#46039f"
             ],
             [
              0.2222222222222222,
              "#7201a8"
             ],
             [
              0.3333333333333333,
              "#9c179e"
             ],
             [
              0.4444444444444444,
              "#bd3786"
             ],
             [
              0.5555555555555556,
              "#d8576b"
             ],
             [
              0.6666666666666666,
              "#ed7953"
             ],
             [
              0.7777777777777778,
              "#fb9f3a"
             ],
             [
              0.8888888888888888,
              "#fdca26"
             ],
             [
              1,
              "#f0f921"
             ]
            ],
            "type": "heatmapgl"
           }
          ],
          "histogram": [
           {
            "marker": {
             "pattern": {
              "fillmode": "overlay",
              "size": 10,
              "solidity": 0.2
             }
            },
            "type": "histogram"
           }
          ],
          "histogram2d": [
           {
            "colorbar": {
             "outlinewidth": 0,
             "ticks": ""
            },
            "colorscale": [
             [
              0,
              "#0d0887"
             ],
             [
              0.1111111111111111,
              "#46039f"
             ],
             [
              0.2222222222222222,
              "#7201a8"
             ],
             [
              0.3333333333333333,
              "#9c179e"
             ],
             [
              0.4444444444444444,
              "#bd3786"
             ],
             [
              0.5555555555555556,
              "#d8576b"
             ],
             [
              0.6666666666666666,
              "#ed7953"
             ],
             [
              0.7777777777777778,
              "#fb9f3a"
             ],
             [
              0.8888888888888888,
              "#fdca26"
             ],
             [
              1,
              "#f0f921"
             ]
            ],
            "type": "histogram2d"
           }
          ],
          "histogram2dcontour": [
           {
            "colorbar": {
             "outlinewidth": 0,
             "ticks": ""
            },
            "colorscale": [
             [
              0,
              "#0d0887"
             ],
             [
              0.1111111111111111,
              "#46039f"
             ],
             [
              0.2222222222222222,
              "#7201a8"
             ],
             [
              0.3333333333333333,
              "#9c179e"
             ],
             [
              0.4444444444444444,
              "#bd3786"
             ],
             [
              0.5555555555555556,
              "#d8576b"
             ],
             [
              0.6666666666666666,
              "#ed7953"
             ],
             [
              0.7777777777777778,
              "#fb9f3a"
             ],
             [
              0.8888888888888888,
              "#fdca26"
             ],
             [
              1,
              "#f0f921"
             ]
            ],
            "type": "histogram2dcontour"
           }
          ],
          "mesh3d": [
           {
            "colorbar": {
             "outlinewidth": 0,
             "ticks": ""
            },
            "type": "mesh3d"
           }
          ],
          "parcoords": [
           {
            "line": {
             "colorbar": {
              "outlinewidth": 0,
              "ticks": ""
             }
            },
            "type": "parcoords"
           }
          ],
          "pie": [
           {
            "automargin": true,
            "type": "pie"
           }
          ],
          "scatter": [
           {
            "fillpattern": {
             "fillmode": "overlay",
             "size": 10,
             "solidity": 0.2
            },
            "type": "scatter"
           }
          ],
          "scatter3d": [
           {
            "line": {
             "colorbar": {
              "outlinewidth": 0,
              "ticks": ""
             }
            },
            "marker": {
             "colorbar": {
              "outlinewidth": 0,
              "ticks": ""
             }
            },
            "type": "scatter3d"
           }
          ],
          "scattercarpet": [
           {
            "marker": {
             "colorbar": {
              "outlinewidth": 0,
              "ticks": ""
             }
            },
            "type": "scattercarpet"
           }
          ],
          "scattergeo": [
           {
            "marker": {
             "colorbar": {
              "outlinewidth": 0,
              "ticks": ""
             }
            },
            "type": "scattergeo"
           }
          ],
          "scattergl": [
           {
            "marker": {
             "colorbar": {
              "outlinewidth": 0,
              "ticks": ""
             }
            },
            "type": "scattergl"
           }
          ],
          "scattermapbox": [
           {
            "marker": {
             "colorbar": {
              "outlinewidth": 0,
              "ticks": ""
             }
            },
            "type": "scattermapbox"
           }
          ],
          "scatterpolar": [
           {
            "marker": {
             "colorbar": {
              "outlinewidth": 0,
              "ticks": ""
             }
            },
            "type": "scatterpolar"
           }
          ],
          "scatterpolargl": [
           {
            "marker": {
             "colorbar": {
              "outlinewidth": 0,
              "ticks": ""
             }
            },
            "type": "scatterpolargl"
           }
          ],
          "scatterternary": [
           {
            "marker": {
             "colorbar": {
              "outlinewidth": 0,
              "ticks": ""
             }
            },
            "type": "scatterternary"
           }
          ],
          "surface": [
           {
            "colorbar": {
             "outlinewidth": 0,
             "ticks": ""
            },
            "colorscale": [
             [
              0,
              "#0d0887"
             ],
             [
              0.1111111111111111,
              "#46039f"
             ],
             [
              0.2222222222222222,
              "#7201a8"
             ],
             [
              0.3333333333333333,
              "#9c179e"
             ],
             [
              0.4444444444444444,
              "#bd3786"
             ],
             [
              0.5555555555555556,
              "#d8576b"
             ],
             [
              0.6666666666666666,
              "#ed7953"
             ],
             [
              0.7777777777777778,
              "#fb9f3a"
             ],
             [
              0.8888888888888888,
              "#fdca26"
             ],
             [
              1,
              "#f0f921"
             ]
            ],
            "type": "surface"
           }
          ],
          "table": [
           {
            "cells": {
             "fill": {
              "color": "#EBF0F8"
             },
             "line": {
              "color": "white"
             }
            },
            "header": {
             "fill": {
              "color": "#C8D4E3"
             },
             "line": {
              "color": "white"
             }
            },
            "type": "table"
           }
          ]
         },
         "layout": {
          "annotationdefaults": {
           "arrowcolor": "#2a3f5f",
           "arrowhead": 0,
           "arrowwidth": 1
          },
          "autotypenumbers": "strict",
          "coloraxis": {
           "colorbar": {
            "outlinewidth": 0,
            "ticks": ""
           }
          },
          "colorscale": {
           "diverging": [
            [
             0,
             "#8e0152"
            ],
            [
             0.1,
             "#c51b7d"
            ],
            [
             0.2,
             "#de77ae"
            ],
            [
             0.3,
             "#f1b6da"
            ],
            [
             0.4,
             "#fde0ef"
            ],
            [
             0.5,
             "#f7f7f7"
            ],
            [
             0.6,
             "#e6f5d0"
            ],
            [
             0.7,
             "#b8e186"
            ],
            [
             0.8,
             "#7fbc41"
            ],
            [
             0.9,
             "#4d9221"
            ],
            [
             1,
             "#276419"
            ]
           ],
           "sequential": [
            [
             0,
             "#0d0887"
            ],
            [
             0.1111111111111111,
             "#46039f"
            ],
            [
             0.2222222222222222,
             "#7201a8"
            ],
            [
             0.3333333333333333,
             "#9c179e"
            ],
            [
             0.4444444444444444,
             "#bd3786"
            ],
            [
             0.5555555555555556,
             "#d8576b"
            ],
            [
             0.6666666666666666,
             "#ed7953"
            ],
            [
             0.7777777777777778,
             "#fb9f3a"
            ],
            [
             0.8888888888888888,
             "#fdca26"
            ],
            [
             1,
             "#f0f921"
            ]
           ],
           "sequentialminus": [
            [
             0,
             "#0d0887"
            ],
            [
             0.1111111111111111,
             "#46039f"
            ],
            [
             0.2222222222222222,
             "#7201a8"
            ],
            [
             0.3333333333333333,
             "#9c179e"
            ],
            [
             0.4444444444444444,
             "#bd3786"
            ],
            [
             0.5555555555555556,
             "#d8576b"
            ],
            [
             0.6666666666666666,
             "#ed7953"
            ],
            [
             0.7777777777777778,
             "#fb9f3a"
            ],
            [
             0.8888888888888888,
             "#fdca26"
            ],
            [
             1,
             "#f0f921"
            ]
           ]
          },
          "colorway": [
           "#636efa",
           "#EF553B",
           "#00cc96",
           "#ab63fa",
           "#FFA15A",
           "#19d3f3",
           "#FF6692",
           "#B6E880",
           "#FF97FF",
           "#FECB52"
          ],
          "font": {
           "color": "#2a3f5f"
          },
          "geo": {
           "bgcolor": "white",
           "lakecolor": "white",
           "landcolor": "#E5ECF6",
           "showlakes": true,
           "showland": true,
           "subunitcolor": "white"
          },
          "hoverlabel": {
           "align": "left"
          },
          "hovermode": "closest",
          "mapbox": {
           "style": "light"
          },
          "paper_bgcolor": "white",
          "plot_bgcolor": "#E5ECF6",
          "polar": {
           "angularaxis": {
            "gridcolor": "white",
            "linecolor": "white",
            "ticks": ""
           },
           "bgcolor": "#E5ECF6",
           "radialaxis": {
            "gridcolor": "white",
            "linecolor": "white",
            "ticks": ""
           }
          },
          "scene": {
           "xaxis": {
            "backgroundcolor": "#E5ECF6",
            "gridcolor": "white",
            "gridwidth": 2,
            "linecolor": "white",
            "showbackground": true,
            "ticks": "",
            "zerolinecolor": "white"
           },
           "yaxis": {
            "backgroundcolor": "#E5ECF6",
            "gridcolor": "white",
            "gridwidth": 2,
            "linecolor": "white",
            "showbackground": true,
            "ticks": "",
            "zerolinecolor": "white"
           },
           "zaxis": {
            "backgroundcolor": "#E5ECF6",
            "gridcolor": "white",
            "gridwidth": 2,
            "linecolor": "white",
            "showbackground": true,
            "ticks": "",
            "zerolinecolor": "white"
           }
          },
          "shapedefaults": {
           "line": {
            "color": "#2a3f5f"
           }
          },
          "ternary": {
           "aaxis": {
            "gridcolor": "white",
            "linecolor": "white",
            "ticks": ""
           },
           "baxis": {
            "gridcolor": "white",
            "linecolor": "white",
            "ticks": ""
           },
           "bgcolor": "#E5ECF6",
           "caxis": {
            "gridcolor": "white",
            "linecolor": "white",
            "ticks": ""
           }
          },
          "title": {
           "x": 0.05
          },
          "xaxis": {
           "automargin": true,
           "gridcolor": "white",
           "linecolor": "white",
           "ticks": "",
           "title": {
            "standoff": 15
           },
           "zerolinecolor": "white",
           "zerolinewidth": 2
          },
          "yaxis": {
           "automargin": true,
           "gridcolor": "white",
           "linecolor": "white",
           "ticks": "",
           "title": {
            "standoff": 15
           },
           "zerolinecolor": "white",
           "zerolinewidth": 2
          }
         }
        },
        "title": {
         "text": "Residuals vs. Predictions"
        },
        "xaxis": {
         "anchor": "y",
         "domain": [
          0,
          0.7363
         ],
         "title": {
          "text": "prediction_label"
         }
        },
        "xaxis2": {
         "anchor": "y2",
         "domain": [
          0.7413,
          1
         ],
         "matches": "x2",
         "showgrid": true,
         "showline": false,
         "showticklabels": false,
         "ticks": ""
        },
        "yaxis": {
         "anchor": "x",
         "domain": [
          0,
          1
         ],
         "title": {
          "text": "standardized_residuals"
         }
        },
        "yaxis2": {
         "anchor": "x2",
         "domain": [
          0,
          1
         ],
         "matches": "y",
         "showgrid": true,
         "showticklabels": false
        }
       }
      },
      "text/html": [
       "<div>                            <div id=\"e9936ed4-b0e2-4031-bd51-c8c0e593c7d6\" class=\"plotly-graph-div\" style=\"height:525px; width:100%;\"></div>            <script type=\"text/javascript\">                require([\"plotly\"], function(Plotly) {                    window.PLOTLYENV=window.PLOTLYENV || {};                                    if (document.getElementById(\"e9936ed4-b0e2-4031-bd51-c8c0e593c7d6\")) {                    Plotly.newPlot(                        \"e9936ed4-b0e2-4031-bd51-c8c0e593c7d6\",                        [{\"hovertemplate\":\"soil_type=Fertile\\u002fAgricultural (Grasslands, Food Bearing, Pasture)\\u003cbr\\u003eprediction_label=%{x}\\u003cbr\\u003estandardized_residuals=%{y}\\u003cextra\\u003e\\u003c\\u002fextra\\u003e\",\"legendgroup\":\"Fertile\\u002fAgricultural (Grasslands, Food Bearing, Pasture)\",\"marker\":{\"color\":\"#636efa\",\"symbol\":\"circle\"},\"mode\":\"markers\",\"name\":\"Fertile\\u002fAgricultural (Grasslands, Food Bearing, Pasture)\",\"orientation\":\"v\",\"showlegend\":true,\"x\":[2482.2830619851647,676.6590762651746,2875.62157796489,792.7002029344275,1175.4621444715053,2065.5264444368977,2514.367235917442,878.0823793757291,3591.557919963636,1497.44530293582,5033.4700447392715,581.7343128001517,4123.73976408086,1734.0926190959135,406.4617395659054,984.2640975464672,729.2844225315079,612.4712222781559,1116.1876820912864,458.3884109781797,4332.188771502049,4735.160796029647,3300.1968564263498,508.0758668716307,2851.5994560018294,3466.6999640313206,1155.9696154675917,1150.4456794333178,582.8897020782424,4746.447002246328,1871.9740795071232,804.8699390289312,1862.087586936944,1506.0835948690806,912.0220179828044,762.6010185194134,1320.1042750533047,4982.733554160343,4760.94273679638,2460.514404812042,2728.4460264774402,4831.237128382562,4192.7491018395085,664.9404845450789,402.3848364241312,1803.9236968987036,715.2032772261257,1729.4684590426607,1126.2962765072896,3443.4004123294235,5246.711508076494,5288.02999221273,4843.502588466406,566.4610231941356,634.6742707984018,532.1473843670333],\"xaxis\":\"x\",\"y\":[0.014028087298280766,-0.07611109239204475,-0.8588029401170943,0.5062924732987178,-0.4434000396230318,0.026390211614531558,-0.6195810231294583,-0.3558899918390542,-0.49446767701343464,0.8735577682483987,-0.8819174238887308,0.9053497589900966,-0.36189120722514095,-0.8002356004307543,-0.16452984164931203,0.5169902242780707,0.43616273245342163,1.5918457599386329,0.037509932738721,-0.04028798772121911,1.2616215643968538,0.5128626598014283,-1.8707439139395778,-0.06616183484346809,-1.072204041376626,-1.622592922556234,0.12915529113968346,0.12470082008681709,-0.086283732286841,0.3123957965374435,0.3484255128647243,-0.2973926541433428,-0.5121593960522319,2.2544184530437175,0.34654680856831116,-0.08597600135012319,-0.4392574048988114,0.42082593826674836,-0.22797645408008585,-0.3098079460148733,0.025783390861831512,-0.4673730813530482,-3.588780778256201,0.42896359947524604,0.07995883746690838,0.14971062678807173,0.6096543264361073,1.5443187060379011,0.47558294557158204,-1.565511606950026,1.1314434430869147,-0.28951598575047827,1.0741210025863626,-0.27510067416460504,-0.28603193269471067,-0.1120540658882922],\"yaxis\":\"y\",\"type\":\"scatter\"},{\"alignmentgroup\":\"True\",\"bingroup\":\"y\",\"hovertemplate\":\"soil_type=Fertile\\u002fAgricultural (Grasslands, Food Bearing, Pasture)\\u003cbr\\u003estandardized_residuals=%{y}\\u003cbr\\u003ecount=%{x}\\u003cextra\\u003e\\u003c\\u002fextra\\u003e\",\"legendgroup\":\"Fertile\\u002fAgricultural (Grasslands, Food Bearing, Pasture)\",\"marker\":{\"color\":\"#636efa\"},\"name\":\"Fertile\\u002fAgricultural (Grasslands, Food Bearing, Pasture)\",\"offsetgroup\":\"Fertile\\u002fAgricultural (Grasslands, Food Bearing, Pasture)\",\"opacity\":0.5,\"showlegend\":false,\"xaxis\":\"x2\",\"y\":[0.014028087298280766,-0.07611109239204475,-0.8588029401170943,0.5062924732987178,-0.4434000396230318,0.026390211614531558,-0.6195810231294583,-0.3558899918390542,-0.49446767701343464,0.8735577682483987,-0.8819174238887308,0.9053497589900966,-0.36189120722514095,-0.8002356004307543,-0.16452984164931203,0.5169902242780707,0.43616273245342163,1.5918457599386329,0.037509932738721,-0.04028798772121911,1.2616215643968538,0.5128626598014283,-1.8707439139395778,-0.06616183484346809,-1.072204041376626,-1.622592922556234,0.12915529113968346,0.12470082008681709,-0.086283732286841,0.3123957965374435,0.3484255128647243,-0.2973926541433428,-0.5121593960522319,2.2544184530437175,0.34654680856831116,-0.08597600135012319,-0.4392574048988114,0.42082593826674836,-0.22797645408008585,-0.3098079460148733,0.025783390861831512,-0.4673730813530482,-3.588780778256201,0.42896359947524604,0.07995883746690838,0.14971062678807173,0.6096543264361073,1.5443187060379011,0.47558294557158204,-1.565511606950026,1.1314434430869147,-0.28951598575047827,1.0741210025863626,-0.27510067416460504,-0.28603193269471067,-0.1120540658882922],\"yaxis\":\"y2\",\"type\":\"histogram\"},{\"hovertemplate\":\"soil_type=River Valleys\\u002fDeltas (River Sediments)\\u003cbr\\u003eprediction_label=%{x}\\u003cbr\\u003estandardized_residuals=%{y}\\u003cextra\\u003e\\u003c\\u002fextra\\u003e\",\"legendgroup\":\"River Valleys\\u002fDeltas (River Sediments)\",\"marker\":{\"color\":\"#EF553B\",\"symbol\":\"circle\"},\"mode\":\"markers\",\"name\":\"River Valleys\\u002fDeltas (River Sediments)\",\"orientation\":\"v\",\"showlegend\":true,\"x\":[7388.191081478686,6015.905058725337,1979.8741327477676,1777.680275181996,5390.231244962277,3269.2239719739205,2883.045672049242,2617.6308900204303,6575.606697532389,3783.286190978206,2059.0657472790886,4756.547567218728,640.3527219336985,403.8518513271085,5239.506680858225,2937.147807883118,5157.891228822714,4096.513169856095,4130.109054034413,5508.517268110251,6266.66267195388,5075.590377240866,3245.441846585387,8225.311173120004,4772.229942085345,8080.041705695493,2206.9142333347086,4119.2780843216315,3613.4996287091535,5165.424775506104,1821.769329785138,5322.078200315827,3782.420935586888,6134.28040109483,2438.451423316484,9407.88658883917,479.30626009987,1094.8046973180349,4838.85554786599,3942.64078079325,633.4760371881277,3368.115991814009,3464.497649052262,2253.7202673768816,9928.47262034947],\"xaxis\":\"x\",\"y\":[-1.9950746900231588,-0.05067649923082095,-0.5580479893627763,-0.33447927336436195,0.04622291072391367,-1.1213501486932056,0.10666344217149838,-1.469772037018853,-0.24763008718674223,0.16825323274891632,-1.4339249025539826,-0.08883789107793623,-0.0021914792895672323,0.20450543722886894,0.6352850948414683,0.956055327821501,-1.1373830132538019,-0.4639222570610397,0.0900372882466522,2.223551244927288,-0.32351277799688494,-0.45516734807517173,0.5791059397330451,2.525936893741019,-0.7779516181784696,1.2141309998405798,-0.12835878582128354,-0.8828793792790322,-1.7153408634061753,-2.1761483133405273,0.020635445449354983,-1.5133569933034403,-0.3821005987967942,-0.9589569442257169,-1.2447456917901651,0.21616317670750504,0.0794395024917813,0.3874767732676011,1.5813853182927673,0.28180402459454507,-0.4244788112013045,-0.6942662361459122,-0.5463954691743691,0.957078360001268,0.8415233393727912],\"yaxis\":\"y\",\"type\":\"scatter\"},{\"alignmentgroup\":\"True\",\"bingroup\":\"y\",\"hovertemplate\":\"soil_type=River Valleys\\u002fDeltas (River Sediments)\\u003cbr\\u003estandardized_residuals=%{y}\\u003cbr\\u003ecount=%{x}\\u003cextra\\u003e\\u003c\\u002fextra\\u003e\",\"legendgroup\":\"River Valleys\\u002fDeltas (River Sediments)\",\"marker\":{\"color\":\"#EF553B\"},\"name\":\"River Valleys\\u002fDeltas (River Sediments)\",\"offsetgroup\":\"River Valleys\\u002fDeltas (River Sediments)\",\"opacity\":0.5,\"showlegend\":false,\"xaxis\":\"x2\",\"y\":[-1.9950746900231588,-0.05067649923082095,-0.5580479893627763,-0.33447927336436195,0.04622291072391367,-1.1213501486932056,0.10666344217149838,-1.469772037018853,-0.24763008718674223,0.16825323274891632,-1.4339249025539826,-0.08883789107793623,-0.0021914792895672323,0.20450543722886894,0.6352850948414683,0.956055327821501,-1.1373830132538019,-0.4639222570610397,0.0900372882466522,2.223551244927288,-0.32351277799688494,-0.45516734807517173,0.5791059397330451,2.525936893741019,-0.7779516181784696,1.2141309998405798,-0.12835878582128354,-0.8828793792790322,-1.7153408634061753,-2.1761483133405273,0.020635445449354983,-1.5133569933034403,-0.3821005987967942,-0.9589569442257169,-1.2447456917901651,0.21616317670750504,0.0794395024917813,0.3874767732676011,1.5813853182927673,0.28180402459454507,-0.4244788112013045,-0.6942662361459122,-0.5463954691743691,0.957078360001268,0.8415233393727912],\"yaxis\":\"y2\",\"type\":\"histogram\"},{\"hovertemplate\":\"soil_type=Clay Dominant\\u003cbr\\u003eprediction_label=%{x}\\u003cbr\\u003estandardized_residuals=%{y}\\u003cextra\\u003e\\u003c\\u002fextra\\u003e\",\"legendgroup\":\"Clay Dominant\",\"marker\":{\"color\":\"#00cc96\",\"symbol\":\"circle\"},\"mode\":\"markers\",\"name\":\"Clay Dominant\",\"orientation\":\"v\",\"showlegend\":true,\"x\":[171.20393611151448,7018.001880013335,2028.3479499258067,2853.4256194126706,6096.061341346256,5200.160311920525,3827.3346397808227,700.5326938027852,4497.431076919598,4621.785794159872,2833.842569478166,6249.355140865052,445.19341896513436,1259.63620965284,4063.496632012134,800.8266785965299,1206.005974067906,230.93785487866887,4727.133691387877,4977.762368403965,529.6190442228699,335.1372092400104,891.3924149678916,1001.9028521501931,5051.826809094985,3936.7386646811683,3995.6082745332874,8121.26859364456,6543.022487160274,117.11687950893491,5412.035957789047,1033.8314999332886,4560.776430121206,1096.213204361878,2349.647985331764,855.5148044528878,2441.015934363943,3778.8627855899967,826.9656578744535,5247.724785682591,1647.0906439737853,1554.6057241736344,7656.605519056892,3483.034575782369,503.8906630204192,846.1677060307894],\"xaxis\":\"x\",\"y\":[0.2100506872764481,0.2620562952540037,-0.6822342076502275,0.6253090408592545,0.7850884529625389,-3.624475875497612,0.39986703833253023,0.42626849004393585,-0.5111586185456134,-0.22318733272767227,0.6335687979602838,1.860757586277299,-0.22888147193424005,0.16960528365615987,0.34806249794258975,-0.4170763395137472,0.3309321671722339,-0.16038107269227414,-1.0429488982103725,-0.11932583774958516,-0.21797901393509553,0.07023878970404392,0.8430986240673864,-0.10029190154325678,2.6441079681676043,-0.6311333759680077,0.3183323351502226,2.6682013369031785,0.7792757560369203,-0.13006727034178475,-0.0845126137927295,-0.4131923609065068,-1.2515903264722923,-0.5078756412774245,1.0123208814081543,-0.17668991529924005,-0.2291074298422446,-0.6304545172337244,-0.4469979629643646,0.8535429803280707,-0.7998456559817766,0.4193823108400307,3.167050663279737,-0.1496556369741054,-0.04565688603403787,0.0786827858140454],\"yaxis\":\"y\",\"type\":\"scatter\"},{\"alignmentgroup\":\"True\",\"bingroup\":\"y\",\"hovertemplate\":\"soil_type=Clay Dominant\\u003cbr\\u003estandardized_residuals=%{y}\\u003cbr\\u003ecount=%{x}\\u003cextra\\u003e\\u003c\\u002fextra\\u003e\",\"legendgroup\":\"Clay Dominant\",\"marker\":{\"color\":\"#00cc96\"},\"name\":\"Clay Dominant\",\"offsetgroup\":\"Clay Dominant\",\"opacity\":0.5,\"showlegend\":false,\"xaxis\":\"x2\",\"y\":[0.2100506872764481,0.2620562952540037,-0.6822342076502275,0.6253090408592545,0.7850884529625389,-3.624475875497612,0.39986703833253023,0.42626849004393585,-0.5111586185456134,-0.22318733272767227,0.6335687979602838,1.860757586277299,-0.22888147193424005,0.16960528365615987,0.34806249794258975,-0.4170763395137472,0.3309321671722339,-0.16038107269227414,-1.0429488982103725,-0.11932583774958516,-0.21797901393509553,0.07023878970404392,0.8430986240673864,-0.10029190154325678,2.6441079681676043,-0.6311333759680077,0.3183323351502226,2.6682013369031785,0.7792757560369203,-0.13006727034178475,-0.0845126137927295,-0.4131923609065068,-1.2515903264722923,-0.5078756412774245,1.0123208814081543,-0.17668991529924005,-0.2291074298422446,-0.6304545172337244,-0.4469979629643646,0.8535429803280707,-0.7998456559817766,0.4193823108400307,3.167050663279737,-0.1496556369741054,-0.04565688603403787,0.0786827858140454],\"yaxis\":\"y2\",\"type\":\"histogram\"},{\"hovertemplate\":\"soil_type=Cold Climates (Permafrost, Rock Outcrops)\\u003cbr\\u003eprediction_label=%{x}\\u003cbr\\u003estandardized_residuals=%{y}\\u003cextra\\u003e\\u003c\\u002fextra\\u003e\",\"legendgroup\":\"Cold Climates (Permafrost, Rock Outcrops)\",\"marker\":{\"color\":\"#ab63fa\",\"symbol\":\"circle\"},\"mode\":\"markers\",\"name\":\"Cold Climates (Permafrost, Rock Outcrops)\",\"orientation\":\"v\",\"showlegend\":true,\"x\":[394.76053349607633,4878.815738993745,976.6851882542585],\"xaxis\":\"x\",\"y\":[-0.3212738569186042,1.030357001996143,-0.3597341167338534],\"yaxis\":\"y\",\"type\":\"scatter\"},{\"alignmentgroup\":\"True\",\"bingroup\":\"y\",\"hovertemplate\":\"soil_type=Cold Climates (Permafrost, Rock Outcrops)\\u003cbr\\u003estandardized_residuals=%{y}\\u003cbr\\u003ecount=%{x}\\u003cextra\\u003e\\u003c\\u002fextra\\u003e\",\"legendgroup\":\"Cold Climates (Permafrost, Rock Outcrops)\",\"marker\":{\"color\":\"#ab63fa\"},\"name\":\"Cold Climates (Permafrost, Rock Outcrops)\",\"offsetgroup\":\"Cold Climates (Permafrost, Rock Outcrops)\",\"opacity\":0.5,\"showlegend\":false,\"xaxis\":\"x2\",\"y\":[-0.3212738569186042,1.030357001996143,-0.3597341167338534],\"yaxis\":\"y2\",\"type\":\"histogram\"},{\"hovertemplate\":\"soil_type=High Altitude\\u002fWet (Mountain, Swampy)\\u003cbr\\u003eprediction_label=%{x}\\u003cbr\\u003estandardized_residuals=%{y}\\u003cextra\\u003e\\u003c\\u002fextra\\u003e\",\"legendgroup\":\"High Altitude\\u002fWet (Mountain, Swampy)\",\"marker\":{\"color\":\"#FFA15A\",\"symbol\":\"circle\"},\"mode\":\"markers\",\"name\":\"High Altitude\\u002fWet (Mountain, Swampy)\",\"orientation\":\"v\",\"showlegend\":true,\"x\":[3592.456336520528,6559.918489890212],\"xaxis\":\"x\",\"y\":[2.821048060256218,1.2911709621157927],\"yaxis\":\"y\",\"type\":\"scatter\"},{\"alignmentgroup\":\"True\",\"bingroup\":\"y\",\"hovertemplate\":\"soil_type=High Altitude\\u002fWet (Mountain, Swampy)\\u003cbr\\u003estandardized_residuals=%{y}\\u003cbr\\u003ecount=%{x}\\u003cextra\\u003e\\u003c\\u002fextra\\u003e\",\"legendgroup\":\"High Altitude\\u002fWet (Mountain, Swampy)\",\"marker\":{\"color\":\"#FFA15A\"},\"name\":\"High Altitude\\u002fWet (Mountain, Swampy)\",\"offsetgroup\":\"High Altitude\\u002fWet (Mountain, Swampy)\",\"opacity\":0.5,\"showlegend\":false,\"xaxis\":\"x2\",\"y\":[2.821048060256218,1.2911709621157927],\"yaxis\":\"y2\",\"type\":\"histogram\"},{\"hovertemplate\":\"soil_type=Environment Dependent (Wetlands, Volcanic Ash, Mineral Rich)\\u003cbr\\u003eprediction_label=%{x}\\u003cbr\\u003estandardized_residuals=%{y}\\u003cextra\\u003e\\u003c\\u002fextra\\u003e\",\"legendgroup\":\"Environment Dependent (Wetlands, Volcanic Ash, Mineral Rich)\",\"marker\":{\"color\":\"#19d3f3\",\"symbol\":\"circle\"},\"mode\":\"markers\",\"name\":\"Environment Dependent (Wetlands, Volcanic Ash, Mineral Rich)\",\"orientation\":\"v\",\"showlegend\":true,\"x\":[2646.132976796051],\"xaxis\":\"x\",\"y\":[-0.4677685203660196],\"yaxis\":\"y\",\"type\":\"scatter\"},{\"alignmentgroup\":\"True\",\"bingroup\":\"y\",\"hovertemplate\":\"soil_type=Environment Dependent (Wetlands, Volcanic Ash, Mineral Rich)\\u003cbr\\u003estandardized_residuals=%{y}\\u003cbr\\u003ecount=%{x}\\u003cextra\\u003e\\u003c\\u002fextra\\u003e\",\"legendgroup\":\"Environment Dependent (Wetlands, Volcanic Ash, Mineral Rich)\",\"marker\":{\"color\":\"#19d3f3\"},\"name\":\"Environment Dependent (Wetlands, Volcanic Ash, Mineral Rich)\",\"offsetgroup\":\"Environment Dependent (Wetlands, Volcanic Ash, Mineral Rich)\",\"opacity\":0.5,\"showlegend\":false,\"xaxis\":\"x2\",\"y\":[-0.4677685203660196],\"yaxis\":\"y2\",\"type\":\"histogram\"}],                        {\"template\":{\"data\":{\"histogram2dcontour\":[{\"type\":\"histogram2dcontour\",\"colorbar\":{\"outlinewidth\":0,\"ticks\":\"\"},\"colorscale\":[[0.0,\"#0d0887\"],[0.1111111111111111,\"#46039f\"],[0.2222222222222222,\"#7201a8\"],[0.3333333333333333,\"#9c179e\"],[0.4444444444444444,\"#bd3786\"],[0.5555555555555556,\"#d8576b\"],[0.6666666666666666,\"#ed7953\"],[0.7777777777777778,\"#fb9f3a\"],[0.8888888888888888,\"#fdca26\"],[1.0,\"#f0f921\"]]}],\"choropleth\":[{\"type\":\"choropleth\",\"colorbar\":{\"outlinewidth\":0,\"ticks\":\"\"}}],\"histogram2d\":[{\"type\":\"histogram2d\",\"colorbar\":{\"outlinewidth\":0,\"ticks\":\"\"},\"colorscale\":[[0.0,\"#0d0887\"],[0.1111111111111111,\"#46039f\"],[0.2222222222222222,\"#7201a8\"],[0.3333333333333333,\"#9c179e\"],[0.4444444444444444,\"#bd3786\"],[0.5555555555555556,\"#d8576b\"],[0.6666666666666666,\"#ed7953\"],[0.7777777777777778,\"#fb9f3a\"],[0.8888888888888888,\"#fdca26\"],[1.0,\"#f0f921\"]]}],\"heatmap\":[{\"type\":\"heatmap\",\"colorbar\":{\"outlinewidth\":0,\"ticks\":\"\"},\"colorscale\":[[0.0,\"#0d0887\"],[0.1111111111111111,\"#46039f\"],[0.2222222222222222,\"#7201a8\"],[0.3333333333333333,\"#9c179e\"],[0.4444444444444444,\"#bd3786\"],[0.5555555555555556,\"#d8576b\"],[0.6666666666666666,\"#ed7953\"],[0.7777777777777778,\"#fb9f3a\"],[0.8888888888888888,\"#fdca26\"],[1.0,\"#f0f921\"]]}],\"heatmapgl\":[{\"type\":\"heatmapgl\",\"colorbar\":{\"outlinewidth\":0,\"ticks\":\"\"},\"colorscale\":[[0.0,\"#0d0887\"],[0.1111111111111111,\"#46039f\"],[0.2222222222222222,\"#7201a8\"],[0.3333333333333333,\"#9c179e\"],[0.4444444444444444,\"#bd3786\"],[0.5555555555555556,\"#d8576b\"],[0.6666666666666666,\"#ed7953\"],[0.7777777777777778,\"#fb9f3a\"],[0.8888888888888888,\"#fdca26\"],[1.0,\"#f0f921\"]]}],\"contourcarpet\":[{\"type\":\"contourcarpet\",\"colorbar\":{\"outlinewidth\":0,\"ticks\":\"\"}}],\"contour\":[{\"type\":\"contour\",\"colorbar\":{\"outlinewidth\":0,\"ticks\":\"\"},\"colorscale\":[[0.0,\"#0d0887\"],[0.1111111111111111,\"#46039f\"],[0.2222222222222222,\"#7201a8\"],[0.3333333333333333,\"#9c179e\"],[0.4444444444444444,\"#bd3786\"],[0.5555555555555556,\"#d8576b\"],[0.6666666666666666,\"#ed7953\"],[0.7777777777777778,\"#fb9f3a\"],[0.8888888888888888,\"#fdca26\"],[1.0,\"#f0f921\"]]}],\"surface\":[{\"type\":\"surface\",\"colorbar\":{\"outlinewidth\":0,\"ticks\":\"\"},\"colorscale\":[[0.0,\"#0d0887\"],[0.1111111111111111,\"#46039f\"],[0.2222222222222222,\"#7201a8\"],[0.3333333333333333,\"#9c179e\"],[0.4444444444444444,\"#bd3786\"],[0.5555555555555556,\"#d8576b\"],[0.6666666666666666,\"#ed7953\"],[0.7777777777777778,\"#fb9f3a\"],[0.8888888888888888,\"#fdca26\"],[1.0,\"#f0f921\"]]}],\"mesh3d\":[{\"type\":\"mesh3d\",\"colorbar\":{\"outlinewidth\":0,\"ticks\":\"\"}}],\"scatter\":[{\"fillpattern\":{\"fillmode\":\"overlay\",\"size\":10,\"solidity\":0.2},\"type\":\"scatter\"}],\"parcoords\":[{\"type\":\"parcoords\",\"line\":{\"colorbar\":{\"outlinewidth\":0,\"ticks\":\"\"}}}],\"scatterpolargl\":[{\"type\":\"scatterpolargl\",\"marker\":{\"colorbar\":{\"outlinewidth\":0,\"ticks\":\"\"}}}],\"bar\":[{\"error_x\":{\"color\":\"#2a3f5f\"},\"error_y\":{\"color\":\"#2a3f5f\"},\"marker\":{\"line\":{\"color\":\"#E5ECF6\",\"width\":0.5},\"pattern\":{\"fillmode\":\"overlay\",\"size\":10,\"solidity\":0.2}},\"type\":\"bar\"}],\"scattergeo\":[{\"type\":\"scattergeo\",\"marker\":{\"colorbar\":{\"outlinewidth\":0,\"ticks\":\"\"}}}],\"scatterpolar\":[{\"type\":\"scatterpolar\",\"marker\":{\"colorbar\":{\"outlinewidth\":0,\"ticks\":\"\"}}}],\"histogram\":[{\"marker\":{\"pattern\":{\"fillmode\":\"overlay\",\"size\":10,\"solidity\":0.2}},\"type\":\"histogram\"}],\"scattergl\":[{\"type\":\"scattergl\",\"marker\":{\"colorbar\":{\"outlinewidth\":0,\"ticks\":\"\"}}}],\"scatter3d\":[{\"type\":\"scatter3d\",\"line\":{\"colorbar\":{\"outlinewidth\":0,\"ticks\":\"\"}},\"marker\":{\"colorbar\":{\"outlinewidth\":0,\"ticks\":\"\"}}}],\"scattermapbox\":[{\"type\":\"scattermapbox\",\"marker\":{\"colorbar\":{\"outlinewidth\":0,\"ticks\":\"\"}}}],\"scatterternary\":[{\"type\":\"scatterternary\",\"marker\":{\"colorbar\":{\"outlinewidth\":0,\"ticks\":\"\"}}}],\"scattercarpet\":[{\"type\":\"scattercarpet\",\"marker\":{\"colorbar\":{\"outlinewidth\":0,\"ticks\":\"\"}}}],\"carpet\":[{\"aaxis\":{\"endlinecolor\":\"#2a3f5f\",\"gridcolor\":\"white\",\"linecolor\":\"white\",\"minorgridcolor\":\"white\",\"startlinecolor\":\"#2a3f5f\"},\"baxis\":{\"endlinecolor\":\"#2a3f5f\",\"gridcolor\":\"white\",\"linecolor\":\"white\",\"minorgridcolor\":\"white\",\"startlinecolor\":\"#2a3f5f\"},\"type\":\"carpet\"}],\"table\":[{\"cells\":{\"fill\":{\"color\":\"#EBF0F8\"},\"line\":{\"color\":\"white\"}},\"header\":{\"fill\":{\"color\":\"#C8D4E3\"},\"line\":{\"color\":\"white\"}},\"type\":\"table\"}],\"barpolar\":[{\"marker\":{\"line\":{\"color\":\"#E5ECF6\",\"width\":0.5},\"pattern\":{\"fillmode\":\"overlay\",\"size\":10,\"solidity\":0.2}},\"type\":\"barpolar\"}],\"pie\":[{\"automargin\":true,\"type\":\"pie\"}]},\"layout\":{\"autotypenumbers\":\"strict\",\"colorway\":[\"#636efa\",\"#EF553B\",\"#00cc96\",\"#ab63fa\",\"#FFA15A\",\"#19d3f3\",\"#FF6692\",\"#B6E880\",\"#FF97FF\",\"#FECB52\"],\"font\":{\"color\":\"#2a3f5f\"},\"hovermode\":\"closest\",\"hoverlabel\":{\"align\":\"left\"},\"paper_bgcolor\":\"white\",\"plot_bgcolor\":\"#E5ECF6\",\"polar\":{\"bgcolor\":\"#E5ECF6\",\"angularaxis\":{\"gridcolor\":\"white\",\"linecolor\":\"white\",\"ticks\":\"\"},\"radialaxis\":{\"gridcolor\":\"white\",\"linecolor\":\"white\",\"ticks\":\"\"}},\"ternary\":{\"bgcolor\":\"#E5ECF6\",\"aaxis\":{\"gridcolor\":\"white\",\"linecolor\":\"white\",\"ticks\":\"\"},\"baxis\":{\"gridcolor\":\"white\",\"linecolor\":\"white\",\"ticks\":\"\"},\"caxis\":{\"gridcolor\":\"white\",\"linecolor\":\"white\",\"ticks\":\"\"}},\"coloraxis\":{\"colorbar\":{\"outlinewidth\":0,\"ticks\":\"\"}},\"colorscale\":{\"sequential\":[[0.0,\"#0d0887\"],[0.1111111111111111,\"#46039f\"],[0.2222222222222222,\"#7201a8\"],[0.3333333333333333,\"#9c179e\"],[0.4444444444444444,\"#bd3786\"],[0.5555555555555556,\"#d8576b\"],[0.6666666666666666,\"#ed7953\"],[0.7777777777777778,\"#fb9f3a\"],[0.8888888888888888,\"#fdca26\"],[1.0,\"#f0f921\"]],\"sequentialminus\":[[0.0,\"#0d0887\"],[0.1111111111111111,\"#46039f\"],[0.2222222222222222,\"#7201a8\"],[0.3333333333333333,\"#9c179e\"],[0.4444444444444444,\"#bd3786\"],[0.5555555555555556,\"#d8576b\"],[0.6666666666666666,\"#ed7953\"],[0.7777777777777778,\"#fb9f3a\"],[0.8888888888888888,\"#fdca26\"],[1.0,\"#f0f921\"]],\"diverging\":[[0,\"#8e0152\"],[0.1,\"#c51b7d\"],[0.2,\"#de77ae\"],[0.3,\"#f1b6da\"],[0.4,\"#fde0ef\"],[0.5,\"#f7f7f7\"],[0.6,\"#e6f5d0\"],[0.7,\"#b8e186\"],[0.8,\"#7fbc41\"],[0.9,\"#4d9221\"],[1,\"#276419\"]]},\"xaxis\":{\"gridcolor\":\"white\",\"linecolor\":\"white\",\"ticks\":\"\",\"title\":{\"standoff\":15},\"zerolinecolor\":\"white\",\"automargin\":true,\"zerolinewidth\":2},\"yaxis\":{\"gridcolor\":\"white\",\"linecolor\":\"white\",\"ticks\":\"\",\"title\":{\"standoff\":15},\"zerolinecolor\":\"white\",\"automargin\":true,\"zerolinewidth\":2},\"scene\":{\"xaxis\":{\"backgroundcolor\":\"#E5ECF6\",\"gridcolor\":\"white\",\"linecolor\":\"white\",\"showbackground\":true,\"ticks\":\"\",\"zerolinecolor\":\"white\",\"gridwidth\":2},\"yaxis\":{\"backgroundcolor\":\"#E5ECF6\",\"gridcolor\":\"white\",\"linecolor\":\"white\",\"showbackground\":true,\"ticks\":\"\",\"zerolinecolor\":\"white\",\"gridwidth\":2},\"zaxis\":{\"backgroundcolor\":\"#E5ECF6\",\"gridcolor\":\"white\",\"linecolor\":\"white\",\"showbackground\":true,\"ticks\":\"\",\"zerolinecolor\":\"white\",\"gridwidth\":2}},\"shapedefaults\":{\"line\":{\"color\":\"#2a3f5f\"}},\"annotationdefaults\":{\"arrowcolor\":\"#2a3f5f\",\"arrowhead\":0,\"arrowwidth\":1},\"geo\":{\"bgcolor\":\"white\",\"landcolor\":\"#E5ECF6\",\"subunitcolor\":\"white\",\"showland\":true,\"showlakes\":true,\"lakecolor\":\"white\"},\"title\":{\"x\":0.05},\"mapbox\":{\"style\":\"light\"}}},\"xaxis\":{\"anchor\":\"y\",\"domain\":[0.0,0.7363],\"title\":{\"text\":\"prediction_label\"}},\"yaxis\":{\"anchor\":\"x\",\"domain\":[0.0,1.0],\"title\":{\"text\":\"standardized_residuals\"}},\"xaxis2\":{\"anchor\":\"y2\",\"domain\":[0.7413,1.0],\"matches\":\"x2\",\"showticklabels\":false,\"showline\":false,\"ticks\":\"\",\"showgrid\":true},\"yaxis2\":{\"anchor\":\"x2\",\"domain\":[0.0,1.0],\"matches\":\"y\",\"showticklabels\":false,\"showgrid\":true},\"legend\":{\"title\":{\"text\":\"soil_type\"},\"tracegroupgap\":0},\"title\":{\"text\":\"Residuals vs. Predictions\"},\"barmode\":\"overlay\"},                        {\"responsive\": true}                    ).then(function(){\n",
       "                            \n",
       "var gd = document.getElementById('e9936ed4-b0e2-4031-bd51-c8c0e593c7d6');\n",
       "var x = new MutationObserver(function (mutations, observer) {{\n",
       "        var display = window.getComputedStyle(gd).display;\n",
       "        if (!display || display === 'none') {{\n",
       "            console.log([gd, 'removed!']);\n",
       "            Plotly.purge(gd);\n",
       "            observer.disconnect();\n",
       "        }}\n",
       "}});\n",
       "\n",
       "// Listen for the removal of the full notebook cells\n",
       "var notebookContainer = gd.closest('#notebook-container');\n",
       "if (notebookContainer) {{\n",
       "    x.observe(notebookContainer, {childList: true});\n",
       "}}\n",
       "\n",
       "// Listen for the clearing of the current output cell\n",
       "var outputEl = gd.closest('.output');\n",
       "if (outputEl) {{\n",
       "    x.observe(outputEl, {childList: true});\n",
       "}}\n",
       "\n",
       "                        })                };                });            </script>        </div>"
      ]
     },
     "metadata": {},
     "output_type": "display_data"
    }
   ],
   "source": [
    "fig = px.scatter(predictions,color = 'soil_type', x='prediction_label', y='standardized_residuals', \n",
    "                title=\"Residuals vs. Predictions\",marginal_y=\"histogram\")\n",
    "fig.show()"
   ]
  },
  {
   "cell_type": "markdown",
   "id": "dba4858b",
   "metadata": {},
   "source": [
    "There doesn't appear to be a specific trend within the different soil types. This is a good thing as we want the residuals to be randomly scattered around zero, however I did expect specific soil types to be more difficult to build in. It's possible this constraint is still valid, however it's not showing in the data."
   ]
  },
  {
   "cell_type": "markdown",
   "id": "ae3d2967",
   "metadata": {},
   "source": [
    "##### Number of Stations"
   ]
  },
  {
   "cell_type": "code",
   "execution_count": 48,
   "id": "e1bfb8b4",
   "metadata": {},
   "outputs": [
    {
     "data": {
      "application/vnd.plotly.v1+json": {
       "config": {
        "plotlyServerURL": "https://plot.ly"
       },
       "data": [
        {
         "alignmentgroup": "True",
         "hovertemplate": "stations=%{x}<br>standardized_residuals=%{y}<extra></extra>",
         "legendgroup": "",
         "marker": {
          "color": "#636efa"
         },
         "name": "",
         "notched": false,
         "offsetgroup": "",
         "orientation": "v",
         "showlegend": false,
         "type": "box",
         "x": [
          9,
          29,
          16,
          21,
          2,
          23,
          5,
          7,
          24,
          5,
          11,
          4,
          7,
          0,
          21,
          10,
          21,
          26,
          13,
          9,
          4,
          10,
          8,
          1,
          13,
          14,
          14,
          22,
          16,
          5,
          7,
          3,
          8,
          21,
          8,
          20,
          4,
          7,
          19,
          12,
          1,
          21,
          6,
          2,
          3,
          2,
          4,
          17,
          20,
          21,
          15,
          2,
          6,
          29,
          5,
          0,
          2,
          11,
          19,
          10,
          15,
          17,
          3,
          14,
          22,
          26,
          21,
          15,
          9,
          15,
          20,
          24,
          17,
          1,
          25,
          10,
          8,
          5,
          6,
          9,
          4,
          9,
          10,
          28,
          4,
          24,
          8,
          13,
          4,
          26,
          27,
          27,
          17,
          2,
          25,
          17,
          20,
          1,
          1,
          7,
          3,
          3,
          24,
          40,
          14,
          18,
          12,
          16,
          4,
          8,
          22,
          5,
          9,
          23,
          15,
          0,
          31,
          4,
          3,
          3,
          9,
          2,
          4,
          3,
          9,
          6,
          11,
          4,
          6,
          1,
          17,
          3,
          17,
          7,
          4,
          9,
          3,
          7,
          3,
          7,
          22,
          25,
          23,
          11,
          18,
          33,
          10,
          21,
          2,
          11,
          24,
          6,
          21
         ],
         "x0": " ",
         "xaxis": "x",
         "y": [
          0.014028087298280766,
          -0.07611109239204475,
          -0.8588029401170943,
          -1.9950746900231588,
          0.2100506872764481,
          -0.05067649923082095,
          -0.5580479893627763,
          0.5062924732987178,
          0.2620562952540037,
          -0.6822342076502275,
          0.6253090408592545,
          -0.4434000396230318,
          0.026390211614531558,
          -0.6195810231294583,
          0.7850884529625389,
          -0.33447927336436195,
          -3.624475875497612,
          0.04622291072391367,
          -1.1213501486932056,
          0.10666344217149838,
          -0.3558899918390542,
          -1.469772037018853,
          0.39986703833253023,
          0.42626849004393585,
          -0.5111586185456134,
          -0.22318733272767227,
          0.6335687979602838,
          1.860757586277299,
          -0.24763008718674223,
          -0.3212738569186042,
          0.16825323274891632,
          -1.4339249025539826,
          2.821048060256218,
          -0.22888147193424005,
          -0.49446767701343464,
          -0.08883789107793623,
          0.16960528365615987,
          0.8735577682483987,
          -0.8819174238887308,
          0.34806249794258975,
          -0.4170763395137472,
          1.030357001996143,
          0.3309321671722339,
          -0.0021914792895672323,
          0.9053497589900966,
          0.20450543722886894,
          -0.16038107269227414,
          -1.0429488982103725,
          0.6352850948414683,
          -0.36189120722514095,
          -0.8002356004307543,
          -0.16452984164931203,
          0.956055327821501,
          -0.11932583774958516,
          0.5169902242780707,
          0.43616273245342163,
          1.5918457599386329,
          -0.21797901393509553,
          -1.1373830132538019,
          0.037509932738721,
          -0.4639222570610397,
          0.0900372882466522,
          -0.04028798772121911,
          1.2616215643968538,
          2.223551244927288,
          -0.32351277799688494,
          0.5128626598014283,
          -0.45516734807517173,
          0.5791059397330451,
          2.525936893741019,
          -1.8707439139395778,
          -0.06616183484346809,
          -0.7779516181784696,
          0.07023878970404392,
          1.2911709621157927,
          1.2141309998405798,
          -0.12835878582128354,
          -1.072204041376626,
          0.8430986240673864,
          -1.622592922556234,
          0.12915529113968346,
          -0.8828793792790322,
          0.12470082008681709,
          -0.10029190154325678,
          2.6441079681676043,
          -0.6311333759680077,
          -1.7153408634061753,
          0.3183323351502226,
          -0.086283732286841,
          0.3123957965374435,
          0.3484255128647243,
          2.6682013369031785,
          -2.1761483133405273,
          -0.2973926541433428,
          0.7792757560369203,
          -0.5121593960522319,
          2.2544184530437175,
          -0.13006727034178475,
          0.34654680856831116,
          0.020635445449354983,
          -0.08597600135012319,
          -0.4392574048988114,
          0.42082593826674836,
          -0.0845126137927295,
          -0.22797645408008585,
          -1.5133569933034403,
          -0.4677685203660196,
          -0.3098079460148733,
          -0.4131923609065068,
          -0.3821005987967942,
          -0.9589569442257169,
          -1.2447456917901651,
          0.025783390861831512,
          -1.2515903264722923,
          -0.4673730813530482,
          -3.588780778256201,
          0.21616317670750504,
          0.42896359947524604,
          0.07995883746690838,
          -0.5078756412774245,
          1.0123208814081543,
          0.0794395024917813,
          -0.3597341167338534,
          0.3874767732676011,
          1.5813853182927673,
          0.28180402459454507,
          0.14971062678807173,
          -0.17668991529924005,
          -0.2291074298422446,
          -0.4244788112013045,
          -0.6304545172337244,
          -0.4469979629643646,
          0.8535429803280707,
          -0.7998456559817766,
          0.6096543264361073,
          0.4193823108400307,
          -0.6942662361459122,
          -0.5463954691743691,
          1.5443187060379011,
          0.47558294557158204,
          -1.565511606950026,
          1.1314434430869147,
          -0.28951598575047827,
          0.957078360001268,
          3.167050663279737,
          0.8415233393727912,
          -0.1496556369741054,
          1.0741210025863626,
          -0.04565688603403787,
          -0.27510067416460504,
          0.0786827858140454,
          -0.28603193269471067,
          -0.1120540658882922
         ],
         "y0": " ",
         "yaxis": "y"
        }
       ],
       "layout": {
        "boxmode": "group",
        "legend": {
         "tracegroupgap": 0
        },
        "template": {
         "data": {
          "bar": [
           {
            "error_x": {
             "color": "#2a3f5f"
            },
            "error_y": {
             "color": "#2a3f5f"
            },
            "marker": {
             "line": {
              "color": "#E5ECF6",
              "width": 0.5
             },
             "pattern": {
              "fillmode": "overlay",
              "size": 10,
              "solidity": 0.2
             }
            },
            "type": "bar"
           }
          ],
          "barpolar": [
           {
            "marker": {
             "line": {
              "color": "#E5ECF6",
              "width": 0.5
             },
             "pattern": {
              "fillmode": "overlay",
              "size": 10,
              "solidity": 0.2
             }
            },
            "type": "barpolar"
           }
          ],
          "carpet": [
           {
            "aaxis": {
             "endlinecolor": "#2a3f5f",
             "gridcolor": "white",
             "linecolor": "white",
             "minorgridcolor": "white",
             "startlinecolor": "#2a3f5f"
            },
            "baxis": {
             "endlinecolor": "#2a3f5f",
             "gridcolor": "white",
             "linecolor": "white",
             "minorgridcolor": "white",
             "startlinecolor": "#2a3f5f"
            },
            "type": "carpet"
           }
          ],
          "choropleth": [
           {
            "colorbar": {
             "outlinewidth": 0,
             "ticks": ""
            },
            "type": "choropleth"
           }
          ],
          "contour": [
           {
            "colorbar": {
             "outlinewidth": 0,
             "ticks": ""
            },
            "colorscale": [
             [
              0,
              "#0d0887"
             ],
             [
              0.1111111111111111,
              "#46039f"
             ],
             [
              0.2222222222222222,
              "#7201a8"
             ],
             [
              0.3333333333333333,
              "#9c179e"
             ],
             [
              0.4444444444444444,
              "#bd3786"
             ],
             [
              0.5555555555555556,
              "#d8576b"
             ],
             [
              0.6666666666666666,
              "#ed7953"
             ],
             [
              0.7777777777777778,
              "#fb9f3a"
             ],
             [
              0.8888888888888888,
              "#fdca26"
             ],
             [
              1,
              "#f0f921"
             ]
            ],
            "type": "contour"
           }
          ],
          "contourcarpet": [
           {
            "colorbar": {
             "outlinewidth": 0,
             "ticks": ""
            },
            "type": "contourcarpet"
           }
          ],
          "heatmap": [
           {
            "colorbar": {
             "outlinewidth": 0,
             "ticks": ""
            },
            "colorscale": [
             [
              0,
              "#0d0887"
             ],
             [
              0.1111111111111111,
              "#46039f"
             ],
             [
              0.2222222222222222,
              "#7201a8"
             ],
             [
              0.3333333333333333,
              "#9c179e"
             ],
             [
              0.4444444444444444,
              "#bd3786"
             ],
             [
              0.5555555555555556,
              "#d8576b"
             ],
             [
              0.6666666666666666,
              "#ed7953"
             ],
             [
              0.7777777777777778,
              "#fb9f3a"
             ],
             [
              0.8888888888888888,
              "#fdca26"
             ],
             [
              1,
              "#f0f921"
             ]
            ],
            "type": "heatmap"
           }
          ],
          "heatmapgl": [
           {
            "colorbar": {
             "outlinewidth": 0,
             "ticks": ""
            },
            "colorscale": [
             [
              0,
              "#0d0887"
             ],
             [
              0.1111111111111111,
              "#46039f"
             ],
             [
              0.2222222222222222,
              "#7201a8"
             ],
             [
              0.3333333333333333,
              "#9c179e"
             ],
             [
              0.4444444444444444,
              "#bd3786"
             ],
             [
              0.5555555555555556,
              "#d8576b"
             ],
             [
              0.6666666666666666,
              "#ed7953"
             ],
             [
              0.7777777777777778,
              "#fb9f3a"
             ],
             [
              0.8888888888888888,
              "#fdca26"
             ],
             [
              1,
              "#f0f921"
             ]
            ],
            "type": "heatmapgl"
           }
          ],
          "histogram": [
           {
            "marker": {
             "pattern": {
              "fillmode": "overlay",
              "size": 10,
              "solidity": 0.2
             }
            },
            "type": "histogram"
           }
          ],
          "histogram2d": [
           {
            "colorbar": {
             "outlinewidth": 0,
             "ticks": ""
            },
            "colorscale": [
             [
              0,
              "#0d0887"
             ],
             [
              0.1111111111111111,
              "#46039f"
             ],
             [
              0.2222222222222222,
              "#7201a8"
             ],
             [
              0.3333333333333333,
              "#9c179e"
             ],
             [
              0.4444444444444444,
              "#bd3786"
             ],
             [
              0.5555555555555556,
              "#d8576b"
             ],
             [
              0.6666666666666666,
              "#ed7953"
             ],
             [
              0.7777777777777778,
              "#fb9f3a"
             ],
             [
              0.8888888888888888,
              "#fdca26"
             ],
             [
              1,
              "#f0f921"
             ]
            ],
            "type": "histogram2d"
           }
          ],
          "histogram2dcontour": [
           {
            "colorbar": {
             "outlinewidth": 0,
             "ticks": ""
            },
            "colorscale": [
             [
              0,
              "#0d0887"
             ],
             [
              0.1111111111111111,
              "#46039f"
             ],
             [
              0.2222222222222222,
              "#7201a8"
             ],
             [
              0.3333333333333333,
              "#9c179e"
             ],
             [
              0.4444444444444444,
              "#bd3786"
             ],
             [
              0.5555555555555556,
              "#d8576b"
             ],
             [
              0.6666666666666666,
              "#ed7953"
             ],
             [
              0.7777777777777778,
              "#fb9f3a"
             ],
             [
              0.8888888888888888,
              "#fdca26"
             ],
             [
              1,
              "#f0f921"
             ]
            ],
            "type": "histogram2dcontour"
           }
          ],
          "mesh3d": [
           {
            "colorbar": {
             "outlinewidth": 0,
             "ticks": ""
            },
            "type": "mesh3d"
           }
          ],
          "parcoords": [
           {
            "line": {
             "colorbar": {
              "outlinewidth": 0,
              "ticks": ""
             }
            },
            "type": "parcoords"
           }
          ],
          "pie": [
           {
            "automargin": true,
            "type": "pie"
           }
          ],
          "scatter": [
           {
            "fillpattern": {
             "fillmode": "overlay",
             "size": 10,
             "solidity": 0.2
            },
            "type": "scatter"
           }
          ],
          "scatter3d": [
           {
            "line": {
             "colorbar": {
              "outlinewidth": 0,
              "ticks": ""
             }
            },
            "marker": {
             "colorbar": {
              "outlinewidth": 0,
              "ticks": ""
             }
            },
            "type": "scatter3d"
           }
          ],
          "scattercarpet": [
           {
            "marker": {
             "colorbar": {
              "outlinewidth": 0,
              "ticks": ""
             }
            },
            "type": "scattercarpet"
           }
          ],
          "scattergeo": [
           {
            "marker": {
             "colorbar": {
              "outlinewidth": 0,
              "ticks": ""
             }
            },
            "type": "scattergeo"
           }
          ],
          "scattergl": [
           {
            "marker": {
             "colorbar": {
              "outlinewidth": 0,
              "ticks": ""
             }
            },
            "type": "scattergl"
           }
          ],
          "scattermapbox": [
           {
            "marker": {
             "colorbar": {
              "outlinewidth": 0,
              "ticks": ""
             }
            },
            "type": "scattermapbox"
           }
          ],
          "scatterpolar": [
           {
            "marker": {
             "colorbar": {
              "outlinewidth": 0,
              "ticks": ""
             }
            },
            "type": "scatterpolar"
           }
          ],
          "scatterpolargl": [
           {
            "marker": {
             "colorbar": {
              "outlinewidth": 0,
              "ticks": ""
             }
            },
            "type": "scatterpolargl"
           }
          ],
          "scatterternary": [
           {
            "marker": {
             "colorbar": {
              "outlinewidth": 0,
              "ticks": ""
             }
            },
            "type": "scatterternary"
           }
          ],
          "surface": [
           {
            "colorbar": {
             "outlinewidth": 0,
             "ticks": ""
            },
            "colorscale": [
             [
              0,
              "#0d0887"
             ],
             [
              0.1111111111111111,
              "#46039f"
             ],
             [
              0.2222222222222222,
              "#7201a8"
             ],
             [
              0.3333333333333333,
              "#9c179e"
             ],
             [
              0.4444444444444444,
              "#bd3786"
             ],
             [
              0.5555555555555556,
              "#d8576b"
             ],
             [
              0.6666666666666666,
              "#ed7953"
             ],
             [
              0.7777777777777778,
              "#fb9f3a"
             ],
             [
              0.8888888888888888,
              "#fdca26"
             ],
             [
              1,
              "#f0f921"
             ]
            ],
            "type": "surface"
           }
          ],
          "table": [
           {
            "cells": {
             "fill": {
              "color": "#EBF0F8"
             },
             "line": {
              "color": "white"
             }
            },
            "header": {
             "fill": {
              "color": "#C8D4E3"
             },
             "line": {
              "color": "white"
             }
            },
            "type": "table"
           }
          ]
         },
         "layout": {
          "annotationdefaults": {
           "arrowcolor": "#2a3f5f",
           "arrowhead": 0,
           "arrowwidth": 1
          },
          "autotypenumbers": "strict",
          "coloraxis": {
           "colorbar": {
            "outlinewidth": 0,
            "ticks": ""
           }
          },
          "colorscale": {
           "diverging": [
            [
             0,
             "#8e0152"
            ],
            [
             0.1,
             "#c51b7d"
            ],
            [
             0.2,
             "#de77ae"
            ],
            [
             0.3,
             "#f1b6da"
            ],
            [
             0.4,
             "#fde0ef"
            ],
            [
             0.5,
             "#f7f7f7"
            ],
            [
             0.6,
             "#e6f5d0"
            ],
            [
             0.7,
             "#b8e186"
            ],
            [
             0.8,
             "#7fbc41"
            ],
            [
             0.9,
             "#4d9221"
            ],
            [
             1,
             "#276419"
            ]
           ],
           "sequential": [
            [
             0,
             "#0d0887"
            ],
            [
             0.1111111111111111,
             "#46039f"
            ],
            [
             0.2222222222222222,
             "#7201a8"
            ],
            [
             0.3333333333333333,
             "#9c179e"
            ],
            [
             0.4444444444444444,
             "#bd3786"
            ],
            [
             0.5555555555555556,
             "#d8576b"
            ],
            [
             0.6666666666666666,
             "#ed7953"
            ],
            [
             0.7777777777777778,
             "#fb9f3a"
            ],
            [
             0.8888888888888888,
             "#fdca26"
            ],
            [
             1,
             "#f0f921"
            ]
           ],
           "sequentialminus": [
            [
             0,
             "#0d0887"
            ],
            [
             0.1111111111111111,
             "#46039f"
            ],
            [
             0.2222222222222222,
             "#7201a8"
            ],
            [
             0.3333333333333333,
             "#9c179e"
            ],
            [
             0.4444444444444444,
             "#bd3786"
            ],
            [
             0.5555555555555556,
             "#d8576b"
            ],
            [
             0.6666666666666666,
             "#ed7953"
            ],
            [
             0.7777777777777778,
             "#fb9f3a"
            ],
            [
             0.8888888888888888,
             "#fdca26"
            ],
            [
             1,
             "#f0f921"
            ]
           ]
          },
          "colorway": [
           "#636efa",
           "#EF553B",
           "#00cc96",
           "#ab63fa",
           "#FFA15A",
           "#19d3f3",
           "#FF6692",
           "#B6E880",
           "#FF97FF",
           "#FECB52"
          ],
          "font": {
           "color": "#2a3f5f"
          },
          "geo": {
           "bgcolor": "white",
           "lakecolor": "white",
           "landcolor": "#E5ECF6",
           "showlakes": true,
           "showland": true,
           "subunitcolor": "white"
          },
          "hoverlabel": {
           "align": "left"
          },
          "hovermode": "closest",
          "mapbox": {
           "style": "light"
          },
          "paper_bgcolor": "white",
          "plot_bgcolor": "#E5ECF6",
          "polar": {
           "angularaxis": {
            "gridcolor": "white",
            "linecolor": "white",
            "ticks": ""
           },
           "bgcolor": "#E5ECF6",
           "radialaxis": {
            "gridcolor": "white",
            "linecolor": "white",
            "ticks": ""
           }
          },
          "scene": {
           "xaxis": {
            "backgroundcolor": "#E5ECF6",
            "gridcolor": "white",
            "gridwidth": 2,
            "linecolor": "white",
            "showbackground": true,
            "ticks": "",
            "zerolinecolor": "white"
           },
           "yaxis": {
            "backgroundcolor": "#E5ECF6",
            "gridcolor": "white",
            "gridwidth": 2,
            "linecolor": "white",
            "showbackground": true,
            "ticks": "",
            "zerolinecolor": "white"
           },
           "zaxis": {
            "backgroundcolor": "#E5ECF6",
            "gridcolor": "white",
            "gridwidth": 2,
            "linecolor": "white",
            "showbackground": true,
            "ticks": "",
            "zerolinecolor": "white"
           }
          },
          "shapedefaults": {
           "line": {
            "color": "#2a3f5f"
           }
          },
          "ternary": {
           "aaxis": {
            "gridcolor": "white",
            "linecolor": "white",
            "ticks": ""
           },
           "baxis": {
            "gridcolor": "white",
            "linecolor": "white",
            "ticks": ""
           },
           "bgcolor": "#E5ECF6",
           "caxis": {
            "gridcolor": "white",
            "linecolor": "white",
            "ticks": ""
           }
          },
          "title": {
           "x": 0.05
          },
          "xaxis": {
           "automargin": true,
           "gridcolor": "white",
           "linecolor": "white",
           "ticks": "",
           "title": {
            "standoff": 15
           },
           "zerolinecolor": "white",
           "zerolinewidth": 2
          },
          "yaxis": {
           "automargin": true,
           "gridcolor": "white",
           "linecolor": "white",
           "ticks": "",
           "title": {
            "standoff": 15
           },
           "zerolinecolor": "white",
           "zerolinewidth": 2
          }
         }
        },
        "title": {
         "text": "Residuals Box Plot  for Number of Stations"
        },
        "xaxis": {
         "anchor": "y",
         "domain": [
          0,
          1
         ],
         "title": {
          "text": "stations"
         }
        },
        "yaxis": {
         "anchor": "x",
         "domain": [
          0,
          1
         ],
         "title": {
          "text": "standardized_residuals"
         }
        }
       }
      },
      "text/html": [
       "<div>                            <div id=\"5fa0a526-82fa-4588-b6cf-d2239083f199\" class=\"plotly-graph-div\" style=\"height:525px; width:100%;\"></div>            <script type=\"text/javascript\">                require([\"plotly\"], function(Plotly) {                    window.PLOTLYENV=window.PLOTLYENV || {};                                    if (document.getElementById(\"5fa0a526-82fa-4588-b6cf-d2239083f199\")) {                    Plotly.newPlot(                        \"5fa0a526-82fa-4588-b6cf-d2239083f199\",                        [{\"alignmentgroup\":\"True\",\"hovertemplate\":\"stations=%{x}\\u003cbr\\u003estandardized_residuals=%{y}\\u003cextra\\u003e\\u003c\\u002fextra\\u003e\",\"legendgroup\":\"\",\"marker\":{\"color\":\"#636efa\"},\"name\":\"\",\"notched\":false,\"offsetgroup\":\"\",\"orientation\":\"v\",\"showlegend\":false,\"x\":[9.0,29.0,16.0,21.0,2.0,23.0,5.0,7.0,24.0,5.0,11.0,4.0,7.0,0.0,21.0,10.0,21.0,26.0,13.0,9.0,4.0,10.0,8.0,1.0,13.0,14.0,14.0,22.0,16.0,5.0,7.0,3.0,8.0,21.0,8.0,20.0,4.0,7.0,19.0,12.0,1.0,21.0,6.0,2.0,3.0,2.0,4.0,17.0,20.0,21.0,15.0,2.0,6.0,29.0,5.0,0.0,2.0,11.0,19.0,10.0,15.0,17.0,3.0,14.0,22.0,26.0,21.0,15.0,9.0,15.0,20.0,24.0,17.0,1.0,25.0,10.0,8.0,5.0,6.0,9.0,4.0,9.0,10.0,28.0,4.0,24.0,8.0,13.0,4.0,26.0,27.0,27.0,17.0,2.0,25.0,17.0,20.0,1.0,1.0,7.0,3.0,3.0,24.0,40.0,14.0,18.0,12.0,16.0,4.0,8.0,22.0,5.0,9.0,23.0,15.0,0.0,31.0,4.0,3.0,3.0,9.0,2.0,4.0,3.0,9.0,6.0,11.0,4.0,6.0,1.0,17.0,3.0,17.0,7.0,4.0,9.0,3.0,7.0,3.0,7.0,22.0,25.0,23.0,11.0,18.0,33.0,10.0,21.0,2.0,11.0,24.0,6.0,21.0],\"x0\":\" \",\"xaxis\":\"x\",\"y\":[0.014028087298280766,-0.07611109239204475,-0.8588029401170943,-1.9950746900231588,0.2100506872764481,-0.05067649923082095,-0.5580479893627763,0.5062924732987178,0.2620562952540037,-0.6822342076502275,0.6253090408592545,-0.4434000396230318,0.026390211614531558,-0.6195810231294583,0.7850884529625389,-0.33447927336436195,-3.624475875497612,0.04622291072391367,-1.1213501486932056,0.10666344217149838,-0.3558899918390542,-1.469772037018853,0.39986703833253023,0.42626849004393585,-0.5111586185456134,-0.22318733272767227,0.6335687979602838,1.860757586277299,-0.24763008718674223,-0.3212738569186042,0.16825323274891632,-1.4339249025539826,2.821048060256218,-0.22888147193424005,-0.49446767701343464,-0.08883789107793623,0.16960528365615987,0.8735577682483987,-0.8819174238887308,0.34806249794258975,-0.4170763395137472,1.030357001996143,0.3309321671722339,-0.0021914792895672323,0.9053497589900966,0.20450543722886894,-0.16038107269227414,-1.0429488982103725,0.6352850948414683,-0.36189120722514095,-0.8002356004307543,-0.16452984164931203,0.956055327821501,-0.11932583774958516,0.5169902242780707,0.43616273245342163,1.5918457599386329,-0.21797901393509553,-1.1373830132538019,0.037509932738721,-0.4639222570610397,0.0900372882466522,-0.04028798772121911,1.2616215643968538,2.223551244927288,-0.32351277799688494,0.5128626598014283,-0.45516734807517173,0.5791059397330451,2.525936893741019,-1.8707439139395778,-0.06616183484346809,-0.7779516181784696,0.07023878970404392,1.2911709621157927,1.2141309998405798,-0.12835878582128354,-1.072204041376626,0.8430986240673864,-1.622592922556234,0.12915529113968346,-0.8828793792790322,0.12470082008681709,-0.10029190154325678,2.6441079681676043,-0.6311333759680077,-1.7153408634061753,0.3183323351502226,-0.086283732286841,0.3123957965374435,0.3484255128647243,2.6682013369031785,-2.1761483133405273,-0.2973926541433428,0.7792757560369203,-0.5121593960522319,2.2544184530437175,-0.13006727034178475,0.34654680856831116,0.020635445449354983,-0.08597600135012319,-0.4392574048988114,0.42082593826674836,-0.0845126137927295,-0.22797645408008585,-1.5133569933034403,-0.4677685203660196,-0.3098079460148733,-0.4131923609065068,-0.3821005987967942,-0.9589569442257169,-1.2447456917901651,0.025783390861831512,-1.2515903264722923,-0.4673730813530482,-3.588780778256201,0.21616317670750504,0.42896359947524604,0.07995883746690838,-0.5078756412774245,1.0123208814081543,0.0794395024917813,-0.3597341167338534,0.3874767732676011,1.5813853182927673,0.28180402459454507,0.14971062678807173,-0.17668991529924005,-0.2291074298422446,-0.4244788112013045,-0.6304545172337244,-0.4469979629643646,0.8535429803280707,-0.7998456559817766,0.6096543264361073,0.4193823108400307,-0.6942662361459122,-0.5463954691743691,1.5443187060379011,0.47558294557158204,-1.565511606950026,1.1314434430869147,-0.28951598575047827,0.957078360001268,3.167050663279737,0.8415233393727912,-0.1496556369741054,1.0741210025863626,-0.04565688603403787,-0.27510067416460504,0.0786827858140454,-0.28603193269471067,-0.1120540658882922],\"y0\":\" \",\"yaxis\":\"y\",\"type\":\"box\"}],                        {\"template\":{\"data\":{\"histogram2dcontour\":[{\"type\":\"histogram2dcontour\",\"colorbar\":{\"outlinewidth\":0,\"ticks\":\"\"},\"colorscale\":[[0.0,\"#0d0887\"],[0.1111111111111111,\"#46039f\"],[0.2222222222222222,\"#7201a8\"],[0.3333333333333333,\"#9c179e\"],[0.4444444444444444,\"#bd3786\"],[0.5555555555555556,\"#d8576b\"],[0.6666666666666666,\"#ed7953\"],[0.7777777777777778,\"#fb9f3a\"],[0.8888888888888888,\"#fdca26\"],[1.0,\"#f0f921\"]]}],\"choropleth\":[{\"type\":\"choropleth\",\"colorbar\":{\"outlinewidth\":0,\"ticks\":\"\"}}],\"histogram2d\":[{\"type\":\"histogram2d\",\"colorbar\":{\"outlinewidth\":0,\"ticks\":\"\"},\"colorscale\":[[0.0,\"#0d0887\"],[0.1111111111111111,\"#46039f\"],[0.2222222222222222,\"#7201a8\"],[0.3333333333333333,\"#9c179e\"],[0.4444444444444444,\"#bd3786\"],[0.5555555555555556,\"#d8576b\"],[0.6666666666666666,\"#ed7953\"],[0.7777777777777778,\"#fb9f3a\"],[0.8888888888888888,\"#fdca26\"],[1.0,\"#f0f921\"]]}],\"heatmap\":[{\"type\":\"heatmap\",\"colorbar\":{\"outlinewidth\":0,\"ticks\":\"\"},\"colorscale\":[[0.0,\"#0d0887\"],[0.1111111111111111,\"#46039f\"],[0.2222222222222222,\"#7201a8\"],[0.3333333333333333,\"#9c179e\"],[0.4444444444444444,\"#bd3786\"],[0.5555555555555556,\"#d8576b\"],[0.6666666666666666,\"#ed7953\"],[0.7777777777777778,\"#fb9f3a\"],[0.8888888888888888,\"#fdca26\"],[1.0,\"#f0f921\"]]}],\"heatmapgl\":[{\"type\":\"heatmapgl\",\"colorbar\":{\"outlinewidth\":0,\"ticks\":\"\"},\"colorscale\":[[0.0,\"#0d0887\"],[0.1111111111111111,\"#46039f\"],[0.2222222222222222,\"#7201a8\"],[0.3333333333333333,\"#9c179e\"],[0.4444444444444444,\"#bd3786\"],[0.5555555555555556,\"#d8576b\"],[0.6666666666666666,\"#ed7953\"],[0.7777777777777778,\"#fb9f3a\"],[0.8888888888888888,\"#fdca26\"],[1.0,\"#f0f921\"]]}],\"contourcarpet\":[{\"type\":\"contourcarpet\",\"colorbar\":{\"outlinewidth\":0,\"ticks\":\"\"}}],\"contour\":[{\"type\":\"contour\",\"colorbar\":{\"outlinewidth\":0,\"ticks\":\"\"},\"colorscale\":[[0.0,\"#0d0887\"],[0.1111111111111111,\"#46039f\"],[0.2222222222222222,\"#7201a8\"],[0.3333333333333333,\"#9c179e\"],[0.4444444444444444,\"#bd3786\"],[0.5555555555555556,\"#d8576b\"],[0.6666666666666666,\"#ed7953\"],[0.7777777777777778,\"#fb9f3a\"],[0.8888888888888888,\"#fdca26\"],[1.0,\"#f0f921\"]]}],\"surface\":[{\"type\":\"surface\",\"colorbar\":{\"outlinewidth\":0,\"ticks\":\"\"},\"colorscale\":[[0.0,\"#0d0887\"],[0.1111111111111111,\"#46039f\"],[0.2222222222222222,\"#7201a8\"],[0.3333333333333333,\"#9c179e\"],[0.4444444444444444,\"#bd3786\"],[0.5555555555555556,\"#d8576b\"],[0.6666666666666666,\"#ed7953\"],[0.7777777777777778,\"#fb9f3a\"],[0.8888888888888888,\"#fdca26\"],[1.0,\"#f0f921\"]]}],\"mesh3d\":[{\"type\":\"mesh3d\",\"colorbar\":{\"outlinewidth\":0,\"ticks\":\"\"}}],\"scatter\":[{\"fillpattern\":{\"fillmode\":\"overlay\",\"size\":10,\"solidity\":0.2},\"type\":\"scatter\"}],\"parcoords\":[{\"type\":\"parcoords\",\"line\":{\"colorbar\":{\"outlinewidth\":0,\"ticks\":\"\"}}}],\"scatterpolargl\":[{\"type\":\"scatterpolargl\",\"marker\":{\"colorbar\":{\"outlinewidth\":0,\"ticks\":\"\"}}}],\"bar\":[{\"error_x\":{\"color\":\"#2a3f5f\"},\"error_y\":{\"color\":\"#2a3f5f\"},\"marker\":{\"line\":{\"color\":\"#E5ECF6\",\"width\":0.5},\"pattern\":{\"fillmode\":\"overlay\",\"size\":10,\"solidity\":0.2}},\"type\":\"bar\"}],\"scattergeo\":[{\"type\":\"scattergeo\",\"marker\":{\"colorbar\":{\"outlinewidth\":0,\"ticks\":\"\"}}}],\"scatterpolar\":[{\"type\":\"scatterpolar\",\"marker\":{\"colorbar\":{\"outlinewidth\":0,\"ticks\":\"\"}}}],\"histogram\":[{\"marker\":{\"pattern\":{\"fillmode\":\"overlay\",\"size\":10,\"solidity\":0.2}},\"type\":\"histogram\"}],\"scattergl\":[{\"type\":\"scattergl\",\"marker\":{\"colorbar\":{\"outlinewidth\":0,\"ticks\":\"\"}}}],\"scatter3d\":[{\"type\":\"scatter3d\",\"line\":{\"colorbar\":{\"outlinewidth\":0,\"ticks\":\"\"}},\"marker\":{\"colorbar\":{\"outlinewidth\":0,\"ticks\":\"\"}}}],\"scattermapbox\":[{\"type\":\"scattermapbox\",\"marker\":{\"colorbar\":{\"outlinewidth\":0,\"ticks\":\"\"}}}],\"scatterternary\":[{\"type\":\"scatterternary\",\"marker\":{\"colorbar\":{\"outlinewidth\":0,\"ticks\":\"\"}}}],\"scattercarpet\":[{\"type\":\"scattercarpet\",\"marker\":{\"colorbar\":{\"outlinewidth\":0,\"ticks\":\"\"}}}],\"carpet\":[{\"aaxis\":{\"endlinecolor\":\"#2a3f5f\",\"gridcolor\":\"white\",\"linecolor\":\"white\",\"minorgridcolor\":\"white\",\"startlinecolor\":\"#2a3f5f\"},\"baxis\":{\"endlinecolor\":\"#2a3f5f\",\"gridcolor\":\"white\",\"linecolor\":\"white\",\"minorgridcolor\":\"white\",\"startlinecolor\":\"#2a3f5f\"},\"type\":\"carpet\"}],\"table\":[{\"cells\":{\"fill\":{\"color\":\"#EBF0F8\"},\"line\":{\"color\":\"white\"}},\"header\":{\"fill\":{\"color\":\"#C8D4E3\"},\"line\":{\"color\":\"white\"}},\"type\":\"table\"}],\"barpolar\":[{\"marker\":{\"line\":{\"color\":\"#E5ECF6\",\"width\":0.5},\"pattern\":{\"fillmode\":\"overlay\",\"size\":10,\"solidity\":0.2}},\"type\":\"barpolar\"}],\"pie\":[{\"automargin\":true,\"type\":\"pie\"}]},\"layout\":{\"autotypenumbers\":\"strict\",\"colorway\":[\"#636efa\",\"#EF553B\",\"#00cc96\",\"#ab63fa\",\"#FFA15A\",\"#19d3f3\",\"#FF6692\",\"#B6E880\",\"#FF97FF\",\"#FECB52\"],\"font\":{\"color\":\"#2a3f5f\"},\"hovermode\":\"closest\",\"hoverlabel\":{\"align\":\"left\"},\"paper_bgcolor\":\"white\",\"plot_bgcolor\":\"#E5ECF6\",\"polar\":{\"bgcolor\":\"#E5ECF6\",\"angularaxis\":{\"gridcolor\":\"white\",\"linecolor\":\"white\",\"ticks\":\"\"},\"radialaxis\":{\"gridcolor\":\"white\",\"linecolor\":\"white\",\"ticks\":\"\"}},\"ternary\":{\"bgcolor\":\"#E5ECF6\",\"aaxis\":{\"gridcolor\":\"white\",\"linecolor\":\"white\",\"ticks\":\"\"},\"baxis\":{\"gridcolor\":\"white\",\"linecolor\":\"white\",\"ticks\":\"\"},\"caxis\":{\"gridcolor\":\"white\",\"linecolor\":\"white\",\"ticks\":\"\"}},\"coloraxis\":{\"colorbar\":{\"outlinewidth\":0,\"ticks\":\"\"}},\"colorscale\":{\"sequential\":[[0.0,\"#0d0887\"],[0.1111111111111111,\"#46039f\"],[0.2222222222222222,\"#7201a8\"],[0.3333333333333333,\"#9c179e\"],[0.4444444444444444,\"#bd3786\"],[0.5555555555555556,\"#d8576b\"],[0.6666666666666666,\"#ed7953\"],[0.7777777777777778,\"#fb9f3a\"],[0.8888888888888888,\"#fdca26\"],[1.0,\"#f0f921\"]],\"sequentialminus\":[[0.0,\"#0d0887\"],[0.1111111111111111,\"#46039f\"],[0.2222222222222222,\"#7201a8\"],[0.3333333333333333,\"#9c179e\"],[0.4444444444444444,\"#bd3786\"],[0.5555555555555556,\"#d8576b\"],[0.6666666666666666,\"#ed7953\"],[0.7777777777777778,\"#fb9f3a\"],[0.8888888888888888,\"#fdca26\"],[1.0,\"#f0f921\"]],\"diverging\":[[0,\"#8e0152\"],[0.1,\"#c51b7d\"],[0.2,\"#de77ae\"],[0.3,\"#f1b6da\"],[0.4,\"#fde0ef\"],[0.5,\"#f7f7f7\"],[0.6,\"#e6f5d0\"],[0.7,\"#b8e186\"],[0.8,\"#7fbc41\"],[0.9,\"#4d9221\"],[1,\"#276419\"]]},\"xaxis\":{\"gridcolor\":\"white\",\"linecolor\":\"white\",\"ticks\":\"\",\"title\":{\"standoff\":15},\"zerolinecolor\":\"white\",\"automargin\":true,\"zerolinewidth\":2},\"yaxis\":{\"gridcolor\":\"white\",\"linecolor\":\"white\",\"ticks\":\"\",\"title\":{\"standoff\":15},\"zerolinecolor\":\"white\",\"automargin\":true,\"zerolinewidth\":2},\"scene\":{\"xaxis\":{\"backgroundcolor\":\"#E5ECF6\",\"gridcolor\":\"white\",\"linecolor\":\"white\",\"showbackground\":true,\"ticks\":\"\",\"zerolinecolor\":\"white\",\"gridwidth\":2},\"yaxis\":{\"backgroundcolor\":\"#E5ECF6\",\"gridcolor\":\"white\",\"linecolor\":\"white\",\"showbackground\":true,\"ticks\":\"\",\"zerolinecolor\":\"white\",\"gridwidth\":2},\"zaxis\":{\"backgroundcolor\":\"#E5ECF6\",\"gridcolor\":\"white\",\"linecolor\":\"white\",\"showbackground\":true,\"ticks\":\"\",\"zerolinecolor\":\"white\",\"gridwidth\":2}},\"shapedefaults\":{\"line\":{\"color\":\"#2a3f5f\"}},\"annotationdefaults\":{\"arrowcolor\":\"#2a3f5f\",\"arrowhead\":0,\"arrowwidth\":1},\"geo\":{\"bgcolor\":\"white\",\"landcolor\":\"#E5ECF6\",\"subunitcolor\":\"white\",\"showland\":true,\"showlakes\":true,\"lakecolor\":\"white\"},\"title\":{\"x\":0.05},\"mapbox\":{\"style\":\"light\"}}},\"xaxis\":{\"anchor\":\"y\",\"domain\":[0.0,1.0],\"title\":{\"text\":\"stations\"}},\"yaxis\":{\"anchor\":\"x\",\"domain\":[0.0,1.0],\"title\":{\"text\":\"standardized_residuals\"}},\"legend\":{\"tracegroupgap\":0},\"title\":{\"text\":\"Residuals Box Plot  for Number of Stations\"},\"boxmode\":\"group\"},                        {\"responsive\": true}                    ).then(function(){\n",
       "                            \n",
       "var gd = document.getElementById('5fa0a526-82fa-4588-b6cf-d2239083f199');\n",
       "var x = new MutationObserver(function (mutations, observer) {{\n",
       "        var display = window.getComputedStyle(gd).display;\n",
       "        if (!display || display === 'none') {{\n",
       "            console.log([gd, 'removed!']);\n",
       "            Plotly.purge(gd);\n",
       "            observer.disconnect();\n",
       "        }}\n",
       "}});\n",
       "\n",
       "// Listen for the removal of the full notebook cells\n",
       "var notebookContainer = gd.closest('#notebook-container');\n",
       "if (notebookContainer) {{\n",
       "    x.observe(notebookContainer, {childList: true});\n",
       "}}\n",
       "\n",
       "// Listen for the clearing of the current output cell\n",
       "var outputEl = gd.closest('.output');\n",
       "if (outputEl) {{\n",
       "    x.observe(outputEl, {childList: true});\n",
       "}}\n",
       "\n",
       "                        })                };                });            </script>        </div>"
      ]
     },
     "metadata": {},
     "output_type": "display_data"
    }
   ],
   "source": [
    "fig = px.box(predictions, x='stations', y='standardized_residuals', title=\"Residuals Box Plot  for Number of Stations\")\n",
    "fig.show()"
   ]
  },
  {
   "cell_type": "markdown",
   "id": "309ffdfa",
   "metadata": {},
   "source": [
    "Given the importance of the line length, it's surprising to see the distribution variance when the number of stations is 0. I was expecting a line with no stations to have less variance in the predicted price, however it appears to have much greater downside variation than lines with more than 1 station. After 1 station, it's easier to predict the cost of a line, up to about 15 when the variance begins to pick up."
   ]
  },
  {
   "cell_type": "code",
   "execution_count": 40,
   "id": "23f0871b",
   "metadata": {},
   "outputs": [
    {
     "data": {
      "application/vnd.plotly.v1+json": {
       "config": {
        "plotlyServerURL": "https://plot.ly"
       },
       "data": [
        {
         "hovertemplate": "prediction_label=%{x}<br>standardized_residuals=%{y}<br>stations=%{marker.color}<extra></extra>",
         "legendgroup": "",
         "marker": {
          "color": [
           9,
           29,
           16,
           21,
           2,
           23,
           5,
           7,
           24,
           5,
           11,
           4,
           7,
           0,
           21,
           10,
           21,
           26,
           13,
           9,
           4,
           10,
           8,
           1,
           13,
           14,
           14,
           22,
           16,
           5,
           7,
           3,
           8,
           21,
           8,
           20,
           4,
           7,
           19,
           12,
           1,
           21,
           6,
           2,
           3,
           2,
           4,
           17,
           20,
           21,
           15,
           2,
           6,
           29,
           5,
           0,
           2,
           11,
           19,
           10,
           15,
           17,
           3,
           14,
           22,
           26,
           21,
           15,
           9,
           15,
           20,
           24,
           17,
           1,
           25,
           10,
           8,
           5,
           6,
           9,
           4,
           9,
           10,
           28,
           4,
           24,
           8,
           13,
           4,
           26,
           27,
           27,
           17,
           2,
           25,
           17,
           20,
           1,
           1,
           7,
           3,
           3,
           24,
           40,
           14,
           18,
           12,
           16,
           4,
           8,
           22,
           5,
           9,
           23,
           15,
           0,
           31,
           4,
           3,
           3,
           9,
           2,
           4,
           3,
           9,
           6,
           11,
           4,
           6,
           1,
           17,
           3,
           17,
           7,
           4,
           9,
           3,
           7,
           3,
           7,
           22,
           25,
           23,
           11,
           18,
           33,
           10,
           21,
           2,
           11,
           24,
           6,
           21
          ],
          "coloraxis": "coloraxis",
          "symbol": "circle"
         },
         "mode": "markers",
         "name": "",
         "orientation": "v",
         "showlegend": false,
         "type": "scatter",
         "x": [
          2482.2830619851647,
          676.6590762651746,
          2875.62157796489,
          7388.191081478686,
          171.20393611151448,
          6015.905058725337,
          1979.8741327477676,
          792.7002029344275,
          7018.001880013335,
          2028.3479499258067,
          2853.4256194126706,
          1175.4621444715053,
          2065.5264444368977,
          2514.367235917442,
          6096.061341346256,
          1777.680275181996,
          5200.160311920525,
          5390.231244962277,
          3269.2239719739205,
          2883.045672049242,
          878.0823793757291,
          2617.6308900204303,
          3827.3346397808227,
          700.5326938027852,
          4497.431076919598,
          4621.785794159872,
          2833.842569478166,
          6249.355140865052,
          6575.606697532389,
          394.76053349607633,
          3783.286190978206,
          2059.0657472790886,
          3592.456336520528,
          445.19341896513436,
          3591.557919963636,
          4756.547567218728,
          1259.63620965284,
          1497.44530293582,
          5033.4700447392715,
          4063.496632012134,
          800.8266785965299,
          4878.815738993745,
          1206.005974067906,
          640.3527219336985,
          581.7343128001517,
          403.8518513271085,
          230.93785487866887,
          4727.133691387877,
          5239.506680858225,
          4123.73976408086,
          1734.0926190959135,
          406.4617395659054,
          2937.147807883118,
          4977.762368403965,
          984.2640975464672,
          729.2844225315079,
          612.4712222781559,
          529.6190442228699,
          5157.891228822714,
          1116.1876820912864,
          4096.513169856095,
          4130.109054034413,
          458.3884109781797,
          4332.188771502049,
          5508.517268110251,
          6266.66267195388,
          4735.160796029647,
          5075.590377240866,
          3245.441846585387,
          8225.311173120004,
          3300.1968564263498,
          508.0758668716307,
          4772.229942085345,
          335.1372092400104,
          6559.918489890212,
          8080.041705695493,
          2206.9142333347086,
          2851.5994560018294,
          891.3924149678916,
          3466.6999640313206,
          1155.9696154675917,
          4119.2780843216315,
          1150.4456794333178,
          1001.9028521501931,
          5051.826809094985,
          3936.7386646811683,
          3613.4996287091535,
          3995.6082745332874,
          582.8897020782424,
          4746.447002246328,
          1871.9740795071232,
          8121.26859364456,
          5165.424775506104,
          804.8699390289312,
          6543.022487160274,
          1862.087586936944,
          1506.0835948690806,
          117.11687950893491,
          912.0220179828044,
          1821.769329785138,
          762.6010185194134,
          1320.1042750533047,
          4982.733554160343,
          5412.035957789047,
          4760.94273679638,
          5322.078200315827,
          2646.132976796051,
          2460.514404812042,
          1033.8314999332886,
          3782.420935586888,
          6134.28040109483,
          2438.451423316484,
          2728.4460264774402,
          4560.776430121206,
          4831.237128382562,
          4192.7491018395085,
          9407.88658883917,
          664.9404845450789,
          402.3848364241312,
          1096.213204361878,
          2349.647985331764,
          479.30626009987,
          976.6851882542585,
          1094.8046973180349,
          4838.85554786599,
          3942.64078079325,
          1803.9236968987036,
          855.5148044528878,
          2441.015934363943,
          633.4760371881277,
          3778.8627855899967,
          826.9656578744535,
          5247.724785682591,
          1647.0906439737853,
          715.2032772261257,
          1554.6057241736344,
          3368.115991814009,
          3464.497649052262,
          1729.4684590426607,
          1126.2962765072896,
          3443.4004123294235,
          5246.711508076494,
          5288.02999221273,
          2253.7202673768816,
          7656.605519056892,
          9928.47262034947,
          3483.034575782369,
          4843.502588466406,
          503.8906630204192,
          566.4610231941356,
          846.1677060307894,
          634.6742707984018,
          532.1473843670333
         ],
         "xaxis": "x",
         "y": [
          0.014028087298280766,
          -0.07611109239204475,
          -0.8588029401170943,
          -1.9950746900231588,
          0.2100506872764481,
          -0.05067649923082095,
          -0.5580479893627763,
          0.5062924732987178,
          0.2620562952540037,
          -0.6822342076502275,
          0.6253090408592545,
          -0.4434000396230318,
          0.026390211614531558,
          -0.6195810231294583,
          0.7850884529625389,
          -0.33447927336436195,
          -3.624475875497612,
          0.04622291072391367,
          -1.1213501486932056,
          0.10666344217149838,
          -0.3558899918390542,
          -1.469772037018853,
          0.39986703833253023,
          0.42626849004393585,
          -0.5111586185456134,
          -0.22318733272767227,
          0.6335687979602838,
          1.860757586277299,
          -0.24763008718674223,
          -0.3212738569186042,
          0.16825323274891632,
          -1.4339249025539826,
          2.821048060256218,
          -0.22888147193424005,
          -0.49446767701343464,
          -0.08883789107793623,
          0.16960528365615987,
          0.8735577682483987,
          -0.8819174238887308,
          0.34806249794258975,
          -0.4170763395137472,
          1.030357001996143,
          0.3309321671722339,
          -0.0021914792895672323,
          0.9053497589900966,
          0.20450543722886894,
          -0.16038107269227414,
          -1.0429488982103725,
          0.6352850948414683,
          -0.36189120722514095,
          -0.8002356004307543,
          -0.16452984164931203,
          0.956055327821501,
          -0.11932583774958516,
          0.5169902242780707,
          0.43616273245342163,
          1.5918457599386329,
          -0.21797901393509553,
          -1.1373830132538019,
          0.037509932738721,
          -0.4639222570610397,
          0.0900372882466522,
          -0.04028798772121911,
          1.2616215643968538,
          2.223551244927288,
          -0.32351277799688494,
          0.5128626598014283,
          -0.45516734807517173,
          0.5791059397330451,
          2.525936893741019,
          -1.8707439139395778,
          -0.06616183484346809,
          -0.7779516181784696,
          0.07023878970404392,
          1.2911709621157927,
          1.2141309998405798,
          -0.12835878582128354,
          -1.072204041376626,
          0.8430986240673864,
          -1.622592922556234,
          0.12915529113968346,
          -0.8828793792790322,
          0.12470082008681709,
          -0.10029190154325678,
          2.6441079681676043,
          -0.6311333759680077,
          -1.7153408634061753,
          0.3183323351502226,
          -0.086283732286841,
          0.3123957965374435,
          0.3484255128647243,
          2.6682013369031785,
          -2.1761483133405273,
          -0.2973926541433428,
          0.7792757560369203,
          -0.5121593960522319,
          2.2544184530437175,
          -0.13006727034178475,
          0.34654680856831116,
          0.020635445449354983,
          -0.08597600135012319,
          -0.4392574048988114,
          0.42082593826674836,
          -0.0845126137927295,
          -0.22797645408008585,
          -1.5133569933034403,
          -0.4677685203660196,
          -0.3098079460148733,
          -0.4131923609065068,
          -0.3821005987967942,
          -0.9589569442257169,
          -1.2447456917901651,
          0.025783390861831512,
          -1.2515903264722923,
          -0.4673730813530482,
          -3.588780778256201,
          0.21616317670750504,
          0.42896359947524604,
          0.07995883746690838,
          -0.5078756412774245,
          1.0123208814081543,
          0.0794395024917813,
          -0.3597341167338534,
          0.3874767732676011,
          1.5813853182927673,
          0.28180402459454507,
          0.14971062678807173,
          -0.17668991529924005,
          -0.2291074298422446,
          -0.4244788112013045,
          -0.6304545172337244,
          -0.4469979629643646,
          0.8535429803280707,
          -0.7998456559817766,
          0.6096543264361073,
          0.4193823108400307,
          -0.6942662361459122,
          -0.5463954691743691,
          1.5443187060379011,
          0.47558294557158204,
          -1.565511606950026,
          1.1314434430869147,
          -0.28951598575047827,
          0.957078360001268,
          3.167050663279737,
          0.8415233393727912,
          -0.1496556369741054,
          1.0741210025863626,
          -0.04565688603403787,
          -0.27510067416460504,
          0.0786827858140454,
          -0.28603193269471067,
          -0.1120540658882922
         ],
         "yaxis": "y"
        },
        {
         "alignmentgroup": "True",
         "bingroup": "y",
         "hovertemplate": "standardized_residuals=%{y}<br>count=%{x}<extra></extra>",
         "legendgroup": "",
         "marker": {
          "color": "#0d0887"
         },
         "name": "",
         "offsetgroup": "",
         "opacity": 0.5,
         "showlegend": false,
         "type": "histogram",
         "xaxis": "x2",
         "y": [
          0.014028087298280766,
          -0.07611109239204475,
          -0.8588029401170943,
          -1.9950746900231588,
          0.2100506872764481,
          -0.05067649923082095,
          -0.5580479893627763,
          0.5062924732987178,
          0.2620562952540037,
          -0.6822342076502275,
          0.6253090408592545,
          -0.4434000396230318,
          0.026390211614531558,
          -0.6195810231294583,
          0.7850884529625389,
          -0.33447927336436195,
          -3.624475875497612,
          0.04622291072391367,
          -1.1213501486932056,
          0.10666344217149838,
          -0.3558899918390542,
          -1.469772037018853,
          0.39986703833253023,
          0.42626849004393585,
          -0.5111586185456134,
          -0.22318733272767227,
          0.6335687979602838,
          1.860757586277299,
          -0.24763008718674223,
          -0.3212738569186042,
          0.16825323274891632,
          -1.4339249025539826,
          2.821048060256218,
          -0.22888147193424005,
          -0.49446767701343464,
          -0.08883789107793623,
          0.16960528365615987,
          0.8735577682483987,
          -0.8819174238887308,
          0.34806249794258975,
          -0.4170763395137472,
          1.030357001996143,
          0.3309321671722339,
          -0.0021914792895672323,
          0.9053497589900966,
          0.20450543722886894,
          -0.16038107269227414,
          -1.0429488982103725,
          0.6352850948414683,
          -0.36189120722514095,
          -0.8002356004307543,
          -0.16452984164931203,
          0.956055327821501,
          -0.11932583774958516,
          0.5169902242780707,
          0.43616273245342163,
          1.5918457599386329,
          -0.21797901393509553,
          -1.1373830132538019,
          0.037509932738721,
          -0.4639222570610397,
          0.0900372882466522,
          -0.04028798772121911,
          1.2616215643968538,
          2.223551244927288,
          -0.32351277799688494,
          0.5128626598014283,
          -0.45516734807517173,
          0.5791059397330451,
          2.525936893741019,
          -1.8707439139395778,
          -0.06616183484346809,
          -0.7779516181784696,
          0.07023878970404392,
          1.2911709621157927,
          1.2141309998405798,
          -0.12835878582128354,
          -1.072204041376626,
          0.8430986240673864,
          -1.622592922556234,
          0.12915529113968346,
          -0.8828793792790322,
          0.12470082008681709,
          -0.10029190154325678,
          2.6441079681676043,
          -0.6311333759680077,
          -1.7153408634061753,
          0.3183323351502226,
          -0.086283732286841,
          0.3123957965374435,
          0.3484255128647243,
          2.6682013369031785,
          -2.1761483133405273,
          -0.2973926541433428,
          0.7792757560369203,
          -0.5121593960522319,
          2.2544184530437175,
          -0.13006727034178475,
          0.34654680856831116,
          0.020635445449354983,
          -0.08597600135012319,
          -0.4392574048988114,
          0.42082593826674836,
          -0.0845126137927295,
          -0.22797645408008585,
          -1.5133569933034403,
          -0.4677685203660196,
          -0.3098079460148733,
          -0.4131923609065068,
          -0.3821005987967942,
          -0.9589569442257169,
          -1.2447456917901651,
          0.025783390861831512,
          -1.2515903264722923,
          -0.4673730813530482,
          -3.588780778256201,
          0.21616317670750504,
          0.42896359947524604,
          0.07995883746690838,
          -0.5078756412774245,
          1.0123208814081543,
          0.0794395024917813,
          -0.3597341167338534,
          0.3874767732676011,
          1.5813853182927673,
          0.28180402459454507,
          0.14971062678807173,
          -0.17668991529924005,
          -0.2291074298422446,
          -0.4244788112013045,
          -0.6304545172337244,
          -0.4469979629643646,
          0.8535429803280707,
          -0.7998456559817766,
          0.6096543264361073,
          0.4193823108400307,
          -0.6942662361459122,
          -0.5463954691743691,
          1.5443187060379011,
          0.47558294557158204,
          -1.565511606950026,
          1.1314434430869147,
          -0.28951598575047827,
          0.957078360001268,
          3.167050663279737,
          0.8415233393727912,
          -0.1496556369741054,
          1.0741210025863626,
          -0.04565688603403787,
          -0.27510067416460504,
          0.0786827858140454,
          -0.28603193269471067,
          -0.1120540658882922
         ],
         "yaxis": "y2"
        }
       ],
       "layout": {
        "barmode": "overlay",
        "coloraxis": {
         "colorbar": {
          "title": {
           "text": "stations"
          }
         },
         "colorscale": [
          [
           0,
           "#0d0887"
          ],
          [
           0.1111111111111111,
           "#46039f"
          ],
          [
           0.2222222222222222,
           "#7201a8"
          ],
          [
           0.3333333333333333,
           "#9c179e"
          ],
          [
           0.4444444444444444,
           "#bd3786"
          ],
          [
           0.5555555555555556,
           "#d8576b"
          ],
          [
           0.6666666666666666,
           "#ed7953"
          ],
          [
           0.7777777777777778,
           "#fb9f3a"
          ],
          [
           0.8888888888888888,
           "#fdca26"
          ],
          [
           1,
           "#f0f921"
          ]
         ]
        },
        "legend": {
         "tracegroupgap": 0
        },
        "template": {
         "data": {
          "bar": [
           {
            "error_x": {
             "color": "#2a3f5f"
            },
            "error_y": {
             "color": "#2a3f5f"
            },
            "marker": {
             "line": {
              "color": "#E5ECF6",
              "width": 0.5
             },
             "pattern": {
              "fillmode": "overlay",
              "size": 10,
              "solidity": 0.2
             }
            },
            "type": "bar"
           }
          ],
          "barpolar": [
           {
            "marker": {
             "line": {
              "color": "#E5ECF6",
              "width": 0.5
             },
             "pattern": {
              "fillmode": "overlay",
              "size": 10,
              "solidity": 0.2
             }
            },
            "type": "barpolar"
           }
          ],
          "carpet": [
           {
            "aaxis": {
             "endlinecolor": "#2a3f5f",
             "gridcolor": "white",
             "linecolor": "white",
             "minorgridcolor": "white",
             "startlinecolor": "#2a3f5f"
            },
            "baxis": {
             "endlinecolor": "#2a3f5f",
             "gridcolor": "white",
             "linecolor": "white",
             "minorgridcolor": "white",
             "startlinecolor": "#2a3f5f"
            },
            "type": "carpet"
           }
          ],
          "choropleth": [
           {
            "colorbar": {
             "outlinewidth": 0,
             "ticks": ""
            },
            "type": "choropleth"
           }
          ],
          "contour": [
           {
            "colorbar": {
             "outlinewidth": 0,
             "ticks": ""
            },
            "colorscale": [
             [
              0,
              "#0d0887"
             ],
             [
              0.1111111111111111,
              "#46039f"
             ],
             [
              0.2222222222222222,
              "#7201a8"
             ],
             [
              0.3333333333333333,
              "#9c179e"
             ],
             [
              0.4444444444444444,
              "#bd3786"
             ],
             [
              0.5555555555555556,
              "#d8576b"
             ],
             [
              0.6666666666666666,
              "#ed7953"
             ],
             [
              0.7777777777777778,
              "#fb9f3a"
             ],
             [
              0.8888888888888888,
              "#fdca26"
             ],
             [
              1,
              "#f0f921"
             ]
            ],
            "type": "contour"
           }
          ],
          "contourcarpet": [
           {
            "colorbar": {
             "outlinewidth": 0,
             "ticks": ""
            },
            "type": "contourcarpet"
           }
          ],
          "heatmap": [
           {
            "colorbar": {
             "outlinewidth": 0,
             "ticks": ""
            },
            "colorscale": [
             [
              0,
              "#0d0887"
             ],
             [
              0.1111111111111111,
              "#46039f"
             ],
             [
              0.2222222222222222,
              "#7201a8"
             ],
             [
              0.3333333333333333,
              "#9c179e"
             ],
             [
              0.4444444444444444,
              "#bd3786"
             ],
             [
              0.5555555555555556,
              "#d8576b"
             ],
             [
              0.6666666666666666,
              "#ed7953"
             ],
             [
              0.7777777777777778,
              "#fb9f3a"
             ],
             [
              0.8888888888888888,
              "#fdca26"
             ],
             [
              1,
              "#f0f921"
             ]
            ],
            "type": "heatmap"
           }
          ],
          "heatmapgl": [
           {
            "colorbar": {
             "outlinewidth": 0,
             "ticks": ""
            },
            "colorscale": [
             [
              0,
              "#0d0887"
             ],
             [
              0.1111111111111111,
              "#46039f"
             ],
             [
              0.2222222222222222,
              "#7201a8"
             ],
             [
              0.3333333333333333,
              "#9c179e"
             ],
             [
              0.4444444444444444,
              "#bd3786"
             ],
             [
              0.5555555555555556,
              "#d8576b"
             ],
             [
              0.6666666666666666,
              "#ed7953"
             ],
             [
              0.7777777777777778,
              "#fb9f3a"
             ],
             [
              0.8888888888888888,
              "#fdca26"
             ],
             [
              1,
              "#f0f921"
             ]
            ],
            "type": "heatmapgl"
           }
          ],
          "histogram": [
           {
            "marker": {
             "pattern": {
              "fillmode": "overlay",
              "size": 10,
              "solidity": 0.2
             }
            },
            "type": "histogram"
           }
          ],
          "histogram2d": [
           {
            "colorbar": {
             "outlinewidth": 0,
             "ticks": ""
            },
            "colorscale": [
             [
              0,
              "#0d0887"
             ],
             [
              0.1111111111111111,
              "#46039f"
             ],
             [
              0.2222222222222222,
              "#7201a8"
             ],
             [
              0.3333333333333333,
              "#9c179e"
             ],
             [
              0.4444444444444444,
              "#bd3786"
             ],
             [
              0.5555555555555556,
              "#d8576b"
             ],
             [
              0.6666666666666666,
              "#ed7953"
             ],
             [
              0.7777777777777778,
              "#fb9f3a"
             ],
             [
              0.8888888888888888,
              "#fdca26"
             ],
             [
              1,
              "#f0f921"
             ]
            ],
            "type": "histogram2d"
           }
          ],
          "histogram2dcontour": [
           {
            "colorbar": {
             "outlinewidth": 0,
             "ticks": ""
            },
            "colorscale": [
             [
              0,
              "#0d0887"
             ],
             [
              0.1111111111111111,
              "#46039f"
             ],
             [
              0.2222222222222222,
              "#7201a8"
             ],
             [
              0.3333333333333333,
              "#9c179e"
             ],
             [
              0.4444444444444444,
              "#bd3786"
             ],
             [
              0.5555555555555556,
              "#d8576b"
             ],
             [
              0.6666666666666666,
              "#ed7953"
             ],
             [
              0.7777777777777778,
              "#fb9f3a"
             ],
             [
              0.8888888888888888,
              "#fdca26"
             ],
             [
              1,
              "#f0f921"
             ]
            ],
            "type": "histogram2dcontour"
           }
          ],
          "mesh3d": [
           {
            "colorbar": {
             "outlinewidth": 0,
             "ticks": ""
            },
            "type": "mesh3d"
           }
          ],
          "parcoords": [
           {
            "line": {
             "colorbar": {
              "outlinewidth": 0,
              "ticks": ""
             }
            },
            "type": "parcoords"
           }
          ],
          "pie": [
           {
            "automargin": true,
            "type": "pie"
           }
          ],
          "scatter": [
           {
            "fillpattern": {
             "fillmode": "overlay",
             "size": 10,
             "solidity": 0.2
            },
            "type": "scatter"
           }
          ],
          "scatter3d": [
           {
            "line": {
             "colorbar": {
              "outlinewidth": 0,
              "ticks": ""
             }
            },
            "marker": {
             "colorbar": {
              "outlinewidth": 0,
              "ticks": ""
             }
            },
            "type": "scatter3d"
           }
          ],
          "scattercarpet": [
           {
            "marker": {
             "colorbar": {
              "outlinewidth": 0,
              "ticks": ""
             }
            },
            "type": "scattercarpet"
           }
          ],
          "scattergeo": [
           {
            "marker": {
             "colorbar": {
              "outlinewidth": 0,
              "ticks": ""
             }
            },
            "type": "scattergeo"
           }
          ],
          "scattergl": [
           {
            "marker": {
             "colorbar": {
              "outlinewidth": 0,
              "ticks": ""
             }
            },
            "type": "scattergl"
           }
          ],
          "scattermapbox": [
           {
            "marker": {
             "colorbar": {
              "outlinewidth": 0,
              "ticks": ""
             }
            },
            "type": "scattermapbox"
           }
          ],
          "scatterpolar": [
           {
            "marker": {
             "colorbar": {
              "outlinewidth": 0,
              "ticks": ""
             }
            },
            "type": "scatterpolar"
           }
          ],
          "scatterpolargl": [
           {
            "marker": {
             "colorbar": {
              "outlinewidth": 0,
              "ticks": ""
             }
            },
            "type": "scatterpolargl"
           }
          ],
          "scatterternary": [
           {
            "marker": {
             "colorbar": {
              "outlinewidth": 0,
              "ticks": ""
             }
            },
            "type": "scatterternary"
           }
          ],
          "surface": [
           {
            "colorbar": {
             "outlinewidth": 0,
             "ticks": ""
            },
            "colorscale": [
             [
              0,
              "#0d0887"
             ],
             [
              0.1111111111111111,
              "#46039f"
             ],
             [
              0.2222222222222222,
              "#7201a8"
             ],
             [
              0.3333333333333333,
              "#9c179e"
             ],
             [
              0.4444444444444444,
              "#bd3786"
             ],
             [
              0.5555555555555556,
              "#d8576b"
             ],
             [
              0.6666666666666666,
              "#ed7953"
             ],
             [
              0.7777777777777778,
              "#fb9f3a"
             ],
             [
              0.8888888888888888,
              "#fdca26"
             ],
             [
              1,
              "#f0f921"
             ]
            ],
            "type": "surface"
           }
          ],
          "table": [
           {
            "cells": {
             "fill": {
              "color": "#EBF0F8"
             },
             "line": {
              "color": "white"
             }
            },
            "header": {
             "fill": {
              "color": "#C8D4E3"
             },
             "line": {
              "color": "white"
             }
            },
            "type": "table"
           }
          ]
         },
         "layout": {
          "annotationdefaults": {
           "arrowcolor": "#2a3f5f",
           "arrowhead": 0,
           "arrowwidth": 1
          },
          "autotypenumbers": "strict",
          "coloraxis": {
           "colorbar": {
            "outlinewidth": 0,
            "ticks": ""
           }
          },
          "colorscale": {
           "diverging": [
            [
             0,
             "#8e0152"
            ],
            [
             0.1,
             "#c51b7d"
            ],
            [
             0.2,
             "#de77ae"
            ],
            [
             0.3,
             "#f1b6da"
            ],
            [
             0.4,
             "#fde0ef"
            ],
            [
             0.5,
             "#f7f7f7"
            ],
            [
             0.6,
             "#e6f5d0"
            ],
            [
             0.7,
             "#b8e186"
            ],
            [
             0.8,
             "#7fbc41"
            ],
            [
             0.9,
             "#4d9221"
            ],
            [
             1,
             "#276419"
            ]
           ],
           "sequential": [
            [
             0,
             "#0d0887"
            ],
            [
             0.1111111111111111,
             "#46039f"
            ],
            [
             0.2222222222222222,
             "#7201a8"
            ],
            [
             0.3333333333333333,
             "#9c179e"
            ],
            [
             0.4444444444444444,
             "#bd3786"
            ],
            [
             0.5555555555555556,
             "#d8576b"
            ],
            [
             0.6666666666666666,
             "#ed7953"
            ],
            [
             0.7777777777777778,
             "#fb9f3a"
            ],
            [
             0.8888888888888888,
             "#fdca26"
            ],
            [
             1,
             "#f0f921"
            ]
           ],
           "sequentialminus": [
            [
             0,
             "#0d0887"
            ],
            [
             0.1111111111111111,
             "#46039f"
            ],
            [
             0.2222222222222222,
             "#7201a8"
            ],
            [
             0.3333333333333333,
             "#9c179e"
            ],
            [
             0.4444444444444444,
             "#bd3786"
            ],
            [
             0.5555555555555556,
             "#d8576b"
            ],
            [
             0.6666666666666666,
             "#ed7953"
            ],
            [
             0.7777777777777778,
             "#fb9f3a"
            ],
            [
             0.8888888888888888,
             "#fdca26"
            ],
            [
             1,
             "#f0f921"
            ]
           ]
          },
          "colorway": [
           "#636efa",
           "#EF553B",
           "#00cc96",
           "#ab63fa",
           "#FFA15A",
           "#19d3f3",
           "#FF6692",
           "#B6E880",
           "#FF97FF",
           "#FECB52"
          ],
          "font": {
           "color": "#2a3f5f"
          },
          "geo": {
           "bgcolor": "white",
           "lakecolor": "white",
           "landcolor": "#E5ECF6",
           "showlakes": true,
           "showland": true,
           "subunitcolor": "white"
          },
          "hoverlabel": {
           "align": "left"
          },
          "hovermode": "closest",
          "mapbox": {
           "style": "light"
          },
          "paper_bgcolor": "white",
          "plot_bgcolor": "#E5ECF6",
          "polar": {
           "angularaxis": {
            "gridcolor": "white",
            "linecolor": "white",
            "ticks": ""
           },
           "bgcolor": "#E5ECF6",
           "radialaxis": {
            "gridcolor": "white",
            "linecolor": "white",
            "ticks": ""
           }
          },
          "scene": {
           "xaxis": {
            "backgroundcolor": "#E5ECF6",
            "gridcolor": "white",
            "gridwidth": 2,
            "linecolor": "white",
            "showbackground": true,
            "ticks": "",
            "zerolinecolor": "white"
           },
           "yaxis": {
            "backgroundcolor": "#E5ECF6",
            "gridcolor": "white",
            "gridwidth": 2,
            "linecolor": "white",
            "showbackground": true,
            "ticks": "",
            "zerolinecolor": "white"
           },
           "zaxis": {
            "backgroundcolor": "#E5ECF6",
            "gridcolor": "white",
            "gridwidth": 2,
            "linecolor": "white",
            "showbackground": true,
            "ticks": "",
            "zerolinecolor": "white"
           }
          },
          "shapedefaults": {
           "line": {
            "color": "#2a3f5f"
           }
          },
          "ternary": {
           "aaxis": {
            "gridcolor": "white",
            "linecolor": "white",
            "ticks": ""
           },
           "baxis": {
            "gridcolor": "white",
            "linecolor": "white",
            "ticks": ""
           },
           "bgcolor": "#E5ECF6",
           "caxis": {
            "gridcolor": "white",
            "linecolor": "white",
            "ticks": ""
           }
          },
          "title": {
           "x": 0.05
          },
          "xaxis": {
           "automargin": true,
           "gridcolor": "white",
           "linecolor": "white",
           "ticks": "",
           "title": {
            "standoff": 15
           },
           "zerolinecolor": "white",
           "zerolinewidth": 2
          },
          "yaxis": {
           "automargin": true,
           "gridcolor": "white",
           "linecolor": "white",
           "ticks": "",
           "title": {
            "standoff": 15
           },
           "zerolinecolor": "white",
           "zerolinewidth": 2
          }
         }
        },
        "title": {
         "text": "Residuals vs. Predictions"
        },
        "xaxis": {
         "anchor": "y",
         "domain": [
          0,
          0.7363
         ],
         "title": {
          "text": "prediction_label"
         }
        },
        "xaxis2": {
         "anchor": "y2",
         "domain": [
          0.7413,
          1
         ],
         "matches": "x2",
         "showgrid": true,
         "showline": false,
         "showticklabels": false,
         "ticks": ""
        },
        "yaxis": {
         "anchor": "x",
         "domain": [
          0,
          1
         ],
         "title": {
          "text": "standardized_residuals"
         }
        },
        "yaxis2": {
         "anchor": "x2",
         "domain": [
          0,
          1
         ],
         "matches": "y",
         "showgrid": true,
         "showticklabels": false
        }
       }
      },
      "text/html": [
       "<div>                            <div id=\"8744f8cf-9f4f-45cc-a3a5-e5e5b9c506b0\" class=\"plotly-graph-div\" style=\"height:525px; width:100%;\"></div>            <script type=\"text/javascript\">                require([\"plotly\"], function(Plotly) {                    window.PLOTLYENV=window.PLOTLYENV || {};                                    if (document.getElementById(\"8744f8cf-9f4f-45cc-a3a5-e5e5b9c506b0\")) {                    Plotly.newPlot(                        \"8744f8cf-9f4f-45cc-a3a5-e5e5b9c506b0\",                        [{\"hovertemplate\":\"prediction_label=%{x}\\u003cbr\\u003estandardized_residuals=%{y}\\u003cbr\\u003estations=%{marker.color}\\u003cextra\\u003e\\u003c\\u002fextra\\u003e\",\"legendgroup\":\"\",\"marker\":{\"color\":[9.0,29.0,16.0,21.0,2.0,23.0,5.0,7.0,24.0,5.0,11.0,4.0,7.0,0.0,21.0,10.0,21.0,26.0,13.0,9.0,4.0,10.0,8.0,1.0,13.0,14.0,14.0,22.0,16.0,5.0,7.0,3.0,8.0,21.0,8.0,20.0,4.0,7.0,19.0,12.0,1.0,21.0,6.0,2.0,3.0,2.0,4.0,17.0,20.0,21.0,15.0,2.0,6.0,29.0,5.0,0.0,2.0,11.0,19.0,10.0,15.0,17.0,3.0,14.0,22.0,26.0,21.0,15.0,9.0,15.0,20.0,24.0,17.0,1.0,25.0,10.0,8.0,5.0,6.0,9.0,4.0,9.0,10.0,28.0,4.0,24.0,8.0,13.0,4.0,26.0,27.0,27.0,17.0,2.0,25.0,17.0,20.0,1.0,1.0,7.0,3.0,3.0,24.0,40.0,14.0,18.0,12.0,16.0,4.0,8.0,22.0,5.0,9.0,23.0,15.0,0.0,31.0,4.0,3.0,3.0,9.0,2.0,4.0,3.0,9.0,6.0,11.0,4.0,6.0,1.0,17.0,3.0,17.0,7.0,4.0,9.0,3.0,7.0,3.0,7.0,22.0,25.0,23.0,11.0,18.0,33.0,10.0,21.0,2.0,11.0,24.0,6.0,21.0],\"coloraxis\":\"coloraxis\",\"symbol\":\"circle\"},\"mode\":\"markers\",\"name\":\"\",\"orientation\":\"v\",\"showlegend\":false,\"x\":[2482.2830619851647,676.6590762651746,2875.62157796489,7388.191081478686,171.20393611151448,6015.905058725337,1979.8741327477676,792.7002029344275,7018.001880013335,2028.3479499258067,2853.4256194126706,1175.4621444715053,2065.5264444368977,2514.367235917442,6096.061341346256,1777.680275181996,5200.160311920525,5390.231244962277,3269.2239719739205,2883.045672049242,878.0823793757291,2617.6308900204303,3827.3346397808227,700.5326938027852,4497.431076919598,4621.785794159872,2833.842569478166,6249.355140865052,6575.606697532389,394.76053349607633,3783.286190978206,2059.0657472790886,3592.456336520528,445.19341896513436,3591.557919963636,4756.547567218728,1259.63620965284,1497.44530293582,5033.4700447392715,4063.496632012134,800.8266785965299,4878.815738993745,1206.005974067906,640.3527219336985,581.7343128001517,403.8518513271085,230.93785487866887,4727.133691387877,5239.506680858225,4123.73976408086,1734.0926190959135,406.4617395659054,2937.147807883118,4977.762368403965,984.2640975464672,729.2844225315079,612.4712222781559,529.6190442228699,5157.891228822714,1116.1876820912864,4096.513169856095,4130.109054034413,458.3884109781797,4332.188771502049,5508.517268110251,6266.66267195388,4735.160796029647,5075.590377240866,3245.441846585387,8225.311173120004,3300.1968564263498,508.0758668716307,4772.229942085345,335.1372092400104,6559.918489890212,8080.041705695493,2206.9142333347086,2851.5994560018294,891.3924149678916,3466.6999640313206,1155.9696154675917,4119.2780843216315,1150.4456794333178,1001.9028521501931,5051.826809094985,3936.7386646811683,3613.4996287091535,3995.6082745332874,582.8897020782424,4746.447002246328,1871.9740795071232,8121.26859364456,5165.424775506104,804.8699390289312,6543.022487160274,1862.087586936944,1506.0835948690806,117.11687950893491,912.0220179828044,1821.769329785138,762.6010185194134,1320.1042750533047,4982.733554160343,5412.035957789047,4760.94273679638,5322.078200315827,2646.132976796051,2460.514404812042,1033.8314999332886,3782.420935586888,6134.28040109483,2438.451423316484,2728.4460264774402,4560.776430121206,4831.237128382562,4192.7491018395085,9407.88658883917,664.9404845450789,402.3848364241312,1096.213204361878,2349.647985331764,479.30626009987,976.6851882542585,1094.8046973180349,4838.85554786599,3942.64078079325,1803.9236968987036,855.5148044528878,2441.015934363943,633.4760371881277,3778.8627855899967,826.9656578744535,5247.724785682591,1647.0906439737853,715.2032772261257,1554.6057241736344,3368.115991814009,3464.497649052262,1729.4684590426607,1126.2962765072896,3443.4004123294235,5246.711508076494,5288.02999221273,2253.7202673768816,7656.605519056892,9928.47262034947,3483.034575782369,4843.502588466406,503.8906630204192,566.4610231941356,846.1677060307894,634.6742707984018,532.1473843670333],\"xaxis\":\"x\",\"y\":[0.014028087298280766,-0.07611109239204475,-0.8588029401170943,-1.9950746900231588,0.2100506872764481,-0.05067649923082095,-0.5580479893627763,0.5062924732987178,0.2620562952540037,-0.6822342076502275,0.6253090408592545,-0.4434000396230318,0.026390211614531558,-0.6195810231294583,0.7850884529625389,-0.33447927336436195,-3.624475875497612,0.04622291072391367,-1.1213501486932056,0.10666344217149838,-0.3558899918390542,-1.469772037018853,0.39986703833253023,0.42626849004393585,-0.5111586185456134,-0.22318733272767227,0.6335687979602838,1.860757586277299,-0.24763008718674223,-0.3212738569186042,0.16825323274891632,-1.4339249025539826,2.821048060256218,-0.22888147193424005,-0.49446767701343464,-0.08883789107793623,0.16960528365615987,0.8735577682483987,-0.8819174238887308,0.34806249794258975,-0.4170763395137472,1.030357001996143,0.3309321671722339,-0.0021914792895672323,0.9053497589900966,0.20450543722886894,-0.16038107269227414,-1.0429488982103725,0.6352850948414683,-0.36189120722514095,-0.8002356004307543,-0.16452984164931203,0.956055327821501,-0.11932583774958516,0.5169902242780707,0.43616273245342163,1.5918457599386329,-0.21797901393509553,-1.1373830132538019,0.037509932738721,-0.4639222570610397,0.0900372882466522,-0.04028798772121911,1.2616215643968538,2.223551244927288,-0.32351277799688494,0.5128626598014283,-0.45516734807517173,0.5791059397330451,2.525936893741019,-1.8707439139395778,-0.06616183484346809,-0.7779516181784696,0.07023878970404392,1.2911709621157927,1.2141309998405798,-0.12835878582128354,-1.072204041376626,0.8430986240673864,-1.622592922556234,0.12915529113968346,-0.8828793792790322,0.12470082008681709,-0.10029190154325678,2.6441079681676043,-0.6311333759680077,-1.7153408634061753,0.3183323351502226,-0.086283732286841,0.3123957965374435,0.3484255128647243,2.6682013369031785,-2.1761483133405273,-0.2973926541433428,0.7792757560369203,-0.5121593960522319,2.2544184530437175,-0.13006727034178475,0.34654680856831116,0.020635445449354983,-0.08597600135012319,-0.4392574048988114,0.42082593826674836,-0.0845126137927295,-0.22797645408008585,-1.5133569933034403,-0.4677685203660196,-0.3098079460148733,-0.4131923609065068,-0.3821005987967942,-0.9589569442257169,-1.2447456917901651,0.025783390861831512,-1.2515903264722923,-0.4673730813530482,-3.588780778256201,0.21616317670750504,0.42896359947524604,0.07995883746690838,-0.5078756412774245,1.0123208814081543,0.0794395024917813,-0.3597341167338534,0.3874767732676011,1.5813853182927673,0.28180402459454507,0.14971062678807173,-0.17668991529924005,-0.2291074298422446,-0.4244788112013045,-0.6304545172337244,-0.4469979629643646,0.8535429803280707,-0.7998456559817766,0.6096543264361073,0.4193823108400307,-0.6942662361459122,-0.5463954691743691,1.5443187060379011,0.47558294557158204,-1.565511606950026,1.1314434430869147,-0.28951598575047827,0.957078360001268,3.167050663279737,0.8415233393727912,-0.1496556369741054,1.0741210025863626,-0.04565688603403787,-0.27510067416460504,0.0786827858140454,-0.28603193269471067,-0.1120540658882922],\"yaxis\":\"y\",\"type\":\"scatter\"},{\"alignmentgroup\":\"True\",\"bingroup\":\"y\",\"hovertemplate\":\"standardized_residuals=%{y}\\u003cbr\\u003ecount=%{x}\\u003cextra\\u003e\\u003c\\u002fextra\\u003e\",\"legendgroup\":\"\",\"marker\":{\"color\":\"#0d0887\"},\"name\":\"\",\"offsetgroup\":\"\",\"opacity\":0.5,\"showlegend\":false,\"xaxis\":\"x2\",\"y\":[0.014028087298280766,-0.07611109239204475,-0.8588029401170943,-1.9950746900231588,0.2100506872764481,-0.05067649923082095,-0.5580479893627763,0.5062924732987178,0.2620562952540037,-0.6822342076502275,0.6253090408592545,-0.4434000396230318,0.026390211614531558,-0.6195810231294583,0.7850884529625389,-0.33447927336436195,-3.624475875497612,0.04622291072391367,-1.1213501486932056,0.10666344217149838,-0.3558899918390542,-1.469772037018853,0.39986703833253023,0.42626849004393585,-0.5111586185456134,-0.22318733272767227,0.6335687979602838,1.860757586277299,-0.24763008718674223,-0.3212738569186042,0.16825323274891632,-1.4339249025539826,2.821048060256218,-0.22888147193424005,-0.49446767701343464,-0.08883789107793623,0.16960528365615987,0.8735577682483987,-0.8819174238887308,0.34806249794258975,-0.4170763395137472,1.030357001996143,0.3309321671722339,-0.0021914792895672323,0.9053497589900966,0.20450543722886894,-0.16038107269227414,-1.0429488982103725,0.6352850948414683,-0.36189120722514095,-0.8002356004307543,-0.16452984164931203,0.956055327821501,-0.11932583774958516,0.5169902242780707,0.43616273245342163,1.5918457599386329,-0.21797901393509553,-1.1373830132538019,0.037509932738721,-0.4639222570610397,0.0900372882466522,-0.04028798772121911,1.2616215643968538,2.223551244927288,-0.32351277799688494,0.5128626598014283,-0.45516734807517173,0.5791059397330451,2.525936893741019,-1.8707439139395778,-0.06616183484346809,-0.7779516181784696,0.07023878970404392,1.2911709621157927,1.2141309998405798,-0.12835878582128354,-1.072204041376626,0.8430986240673864,-1.622592922556234,0.12915529113968346,-0.8828793792790322,0.12470082008681709,-0.10029190154325678,2.6441079681676043,-0.6311333759680077,-1.7153408634061753,0.3183323351502226,-0.086283732286841,0.3123957965374435,0.3484255128647243,2.6682013369031785,-2.1761483133405273,-0.2973926541433428,0.7792757560369203,-0.5121593960522319,2.2544184530437175,-0.13006727034178475,0.34654680856831116,0.020635445449354983,-0.08597600135012319,-0.4392574048988114,0.42082593826674836,-0.0845126137927295,-0.22797645408008585,-1.5133569933034403,-0.4677685203660196,-0.3098079460148733,-0.4131923609065068,-0.3821005987967942,-0.9589569442257169,-1.2447456917901651,0.025783390861831512,-1.2515903264722923,-0.4673730813530482,-3.588780778256201,0.21616317670750504,0.42896359947524604,0.07995883746690838,-0.5078756412774245,1.0123208814081543,0.0794395024917813,-0.3597341167338534,0.3874767732676011,1.5813853182927673,0.28180402459454507,0.14971062678807173,-0.17668991529924005,-0.2291074298422446,-0.4244788112013045,-0.6304545172337244,-0.4469979629643646,0.8535429803280707,-0.7998456559817766,0.6096543264361073,0.4193823108400307,-0.6942662361459122,-0.5463954691743691,1.5443187060379011,0.47558294557158204,-1.565511606950026,1.1314434430869147,-0.28951598575047827,0.957078360001268,3.167050663279737,0.8415233393727912,-0.1496556369741054,1.0741210025863626,-0.04565688603403787,-0.27510067416460504,0.0786827858140454,-0.28603193269471067,-0.1120540658882922],\"yaxis\":\"y2\",\"type\":\"histogram\"}],                        {\"template\":{\"data\":{\"histogram2dcontour\":[{\"type\":\"histogram2dcontour\",\"colorbar\":{\"outlinewidth\":0,\"ticks\":\"\"},\"colorscale\":[[0.0,\"#0d0887\"],[0.1111111111111111,\"#46039f\"],[0.2222222222222222,\"#7201a8\"],[0.3333333333333333,\"#9c179e\"],[0.4444444444444444,\"#bd3786\"],[0.5555555555555556,\"#d8576b\"],[0.6666666666666666,\"#ed7953\"],[0.7777777777777778,\"#fb9f3a\"],[0.8888888888888888,\"#fdca26\"],[1.0,\"#f0f921\"]]}],\"choropleth\":[{\"type\":\"choropleth\",\"colorbar\":{\"outlinewidth\":0,\"ticks\":\"\"}}],\"histogram2d\":[{\"type\":\"histogram2d\",\"colorbar\":{\"outlinewidth\":0,\"ticks\":\"\"},\"colorscale\":[[0.0,\"#0d0887\"],[0.1111111111111111,\"#46039f\"],[0.2222222222222222,\"#7201a8\"],[0.3333333333333333,\"#9c179e\"],[0.4444444444444444,\"#bd3786\"],[0.5555555555555556,\"#d8576b\"],[0.6666666666666666,\"#ed7953\"],[0.7777777777777778,\"#fb9f3a\"],[0.8888888888888888,\"#fdca26\"],[1.0,\"#f0f921\"]]}],\"heatmap\":[{\"type\":\"heatmap\",\"colorbar\":{\"outlinewidth\":0,\"ticks\":\"\"},\"colorscale\":[[0.0,\"#0d0887\"],[0.1111111111111111,\"#46039f\"],[0.2222222222222222,\"#7201a8\"],[0.3333333333333333,\"#9c179e\"],[0.4444444444444444,\"#bd3786\"],[0.5555555555555556,\"#d8576b\"],[0.6666666666666666,\"#ed7953\"],[0.7777777777777778,\"#fb9f3a\"],[0.8888888888888888,\"#fdca26\"],[1.0,\"#f0f921\"]]}],\"heatmapgl\":[{\"type\":\"heatmapgl\",\"colorbar\":{\"outlinewidth\":0,\"ticks\":\"\"},\"colorscale\":[[0.0,\"#0d0887\"],[0.1111111111111111,\"#46039f\"],[0.2222222222222222,\"#7201a8\"],[0.3333333333333333,\"#9c179e\"],[0.4444444444444444,\"#bd3786\"],[0.5555555555555556,\"#d8576b\"],[0.6666666666666666,\"#ed7953\"],[0.7777777777777778,\"#fb9f3a\"],[0.8888888888888888,\"#fdca26\"],[1.0,\"#f0f921\"]]}],\"contourcarpet\":[{\"type\":\"contourcarpet\",\"colorbar\":{\"outlinewidth\":0,\"ticks\":\"\"}}],\"contour\":[{\"type\":\"contour\",\"colorbar\":{\"outlinewidth\":0,\"ticks\":\"\"},\"colorscale\":[[0.0,\"#0d0887\"],[0.1111111111111111,\"#46039f\"],[0.2222222222222222,\"#7201a8\"],[0.3333333333333333,\"#9c179e\"],[0.4444444444444444,\"#bd3786\"],[0.5555555555555556,\"#d8576b\"],[0.6666666666666666,\"#ed7953\"],[0.7777777777777778,\"#fb9f3a\"],[0.8888888888888888,\"#fdca26\"],[1.0,\"#f0f921\"]]}],\"surface\":[{\"type\":\"surface\",\"colorbar\":{\"outlinewidth\":0,\"ticks\":\"\"},\"colorscale\":[[0.0,\"#0d0887\"],[0.1111111111111111,\"#46039f\"],[0.2222222222222222,\"#7201a8\"],[0.3333333333333333,\"#9c179e\"],[0.4444444444444444,\"#bd3786\"],[0.5555555555555556,\"#d8576b\"],[0.6666666666666666,\"#ed7953\"],[0.7777777777777778,\"#fb9f3a\"],[0.8888888888888888,\"#fdca26\"],[1.0,\"#f0f921\"]]}],\"mesh3d\":[{\"type\":\"mesh3d\",\"colorbar\":{\"outlinewidth\":0,\"ticks\":\"\"}}],\"scatter\":[{\"fillpattern\":{\"fillmode\":\"overlay\",\"size\":10,\"solidity\":0.2},\"type\":\"scatter\"}],\"parcoords\":[{\"type\":\"parcoords\",\"line\":{\"colorbar\":{\"outlinewidth\":0,\"ticks\":\"\"}}}],\"scatterpolargl\":[{\"type\":\"scatterpolargl\",\"marker\":{\"colorbar\":{\"outlinewidth\":0,\"ticks\":\"\"}}}],\"bar\":[{\"error_x\":{\"color\":\"#2a3f5f\"},\"error_y\":{\"color\":\"#2a3f5f\"},\"marker\":{\"line\":{\"color\":\"#E5ECF6\",\"width\":0.5},\"pattern\":{\"fillmode\":\"overlay\",\"size\":10,\"solidity\":0.2}},\"type\":\"bar\"}],\"scattergeo\":[{\"type\":\"scattergeo\",\"marker\":{\"colorbar\":{\"outlinewidth\":0,\"ticks\":\"\"}}}],\"scatterpolar\":[{\"type\":\"scatterpolar\",\"marker\":{\"colorbar\":{\"outlinewidth\":0,\"ticks\":\"\"}}}],\"histogram\":[{\"marker\":{\"pattern\":{\"fillmode\":\"overlay\",\"size\":10,\"solidity\":0.2}},\"type\":\"histogram\"}],\"scattergl\":[{\"type\":\"scattergl\",\"marker\":{\"colorbar\":{\"outlinewidth\":0,\"ticks\":\"\"}}}],\"scatter3d\":[{\"type\":\"scatter3d\",\"line\":{\"colorbar\":{\"outlinewidth\":0,\"ticks\":\"\"}},\"marker\":{\"colorbar\":{\"outlinewidth\":0,\"ticks\":\"\"}}}],\"scattermapbox\":[{\"type\":\"scattermapbox\",\"marker\":{\"colorbar\":{\"outlinewidth\":0,\"ticks\":\"\"}}}],\"scatterternary\":[{\"type\":\"scatterternary\",\"marker\":{\"colorbar\":{\"outlinewidth\":0,\"ticks\":\"\"}}}],\"scattercarpet\":[{\"type\":\"scattercarpet\",\"marker\":{\"colorbar\":{\"outlinewidth\":0,\"ticks\":\"\"}}}],\"carpet\":[{\"aaxis\":{\"endlinecolor\":\"#2a3f5f\",\"gridcolor\":\"white\",\"linecolor\":\"white\",\"minorgridcolor\":\"white\",\"startlinecolor\":\"#2a3f5f\"},\"baxis\":{\"endlinecolor\":\"#2a3f5f\",\"gridcolor\":\"white\",\"linecolor\":\"white\",\"minorgridcolor\":\"white\",\"startlinecolor\":\"#2a3f5f\"},\"type\":\"carpet\"}],\"table\":[{\"cells\":{\"fill\":{\"color\":\"#EBF0F8\"},\"line\":{\"color\":\"white\"}},\"header\":{\"fill\":{\"color\":\"#C8D4E3\"},\"line\":{\"color\":\"white\"}},\"type\":\"table\"}],\"barpolar\":[{\"marker\":{\"line\":{\"color\":\"#E5ECF6\",\"width\":0.5},\"pattern\":{\"fillmode\":\"overlay\",\"size\":10,\"solidity\":0.2}},\"type\":\"barpolar\"}],\"pie\":[{\"automargin\":true,\"type\":\"pie\"}]},\"layout\":{\"autotypenumbers\":\"strict\",\"colorway\":[\"#636efa\",\"#EF553B\",\"#00cc96\",\"#ab63fa\",\"#FFA15A\",\"#19d3f3\",\"#FF6692\",\"#B6E880\",\"#FF97FF\",\"#FECB52\"],\"font\":{\"color\":\"#2a3f5f\"},\"hovermode\":\"closest\",\"hoverlabel\":{\"align\":\"left\"},\"paper_bgcolor\":\"white\",\"plot_bgcolor\":\"#E5ECF6\",\"polar\":{\"bgcolor\":\"#E5ECF6\",\"angularaxis\":{\"gridcolor\":\"white\",\"linecolor\":\"white\",\"ticks\":\"\"},\"radialaxis\":{\"gridcolor\":\"white\",\"linecolor\":\"white\",\"ticks\":\"\"}},\"ternary\":{\"bgcolor\":\"#E5ECF6\",\"aaxis\":{\"gridcolor\":\"white\",\"linecolor\":\"white\",\"ticks\":\"\"},\"baxis\":{\"gridcolor\":\"white\",\"linecolor\":\"white\",\"ticks\":\"\"},\"caxis\":{\"gridcolor\":\"white\",\"linecolor\":\"white\",\"ticks\":\"\"}},\"coloraxis\":{\"colorbar\":{\"outlinewidth\":0,\"ticks\":\"\"}},\"colorscale\":{\"sequential\":[[0.0,\"#0d0887\"],[0.1111111111111111,\"#46039f\"],[0.2222222222222222,\"#7201a8\"],[0.3333333333333333,\"#9c179e\"],[0.4444444444444444,\"#bd3786\"],[0.5555555555555556,\"#d8576b\"],[0.6666666666666666,\"#ed7953\"],[0.7777777777777778,\"#fb9f3a\"],[0.8888888888888888,\"#fdca26\"],[1.0,\"#f0f921\"]],\"sequentialminus\":[[0.0,\"#0d0887\"],[0.1111111111111111,\"#46039f\"],[0.2222222222222222,\"#7201a8\"],[0.3333333333333333,\"#9c179e\"],[0.4444444444444444,\"#bd3786\"],[0.5555555555555556,\"#d8576b\"],[0.6666666666666666,\"#ed7953\"],[0.7777777777777778,\"#fb9f3a\"],[0.8888888888888888,\"#fdca26\"],[1.0,\"#f0f921\"]],\"diverging\":[[0,\"#8e0152\"],[0.1,\"#c51b7d\"],[0.2,\"#de77ae\"],[0.3,\"#f1b6da\"],[0.4,\"#fde0ef\"],[0.5,\"#f7f7f7\"],[0.6,\"#e6f5d0\"],[0.7,\"#b8e186\"],[0.8,\"#7fbc41\"],[0.9,\"#4d9221\"],[1,\"#276419\"]]},\"xaxis\":{\"gridcolor\":\"white\",\"linecolor\":\"white\",\"ticks\":\"\",\"title\":{\"standoff\":15},\"zerolinecolor\":\"white\",\"automargin\":true,\"zerolinewidth\":2},\"yaxis\":{\"gridcolor\":\"white\",\"linecolor\":\"white\",\"ticks\":\"\",\"title\":{\"standoff\":15},\"zerolinecolor\":\"white\",\"automargin\":true,\"zerolinewidth\":2},\"scene\":{\"xaxis\":{\"backgroundcolor\":\"#E5ECF6\",\"gridcolor\":\"white\",\"linecolor\":\"white\",\"showbackground\":true,\"ticks\":\"\",\"zerolinecolor\":\"white\",\"gridwidth\":2},\"yaxis\":{\"backgroundcolor\":\"#E5ECF6\",\"gridcolor\":\"white\",\"linecolor\":\"white\",\"showbackground\":true,\"ticks\":\"\",\"zerolinecolor\":\"white\",\"gridwidth\":2},\"zaxis\":{\"backgroundcolor\":\"#E5ECF6\",\"gridcolor\":\"white\",\"linecolor\":\"white\",\"showbackground\":true,\"ticks\":\"\",\"zerolinecolor\":\"white\",\"gridwidth\":2}},\"shapedefaults\":{\"line\":{\"color\":\"#2a3f5f\"}},\"annotationdefaults\":{\"arrowcolor\":\"#2a3f5f\",\"arrowhead\":0,\"arrowwidth\":1},\"geo\":{\"bgcolor\":\"white\",\"landcolor\":\"#E5ECF6\",\"subunitcolor\":\"white\",\"showland\":true,\"showlakes\":true,\"lakecolor\":\"white\"},\"title\":{\"x\":0.05},\"mapbox\":{\"style\":\"light\"}}},\"xaxis\":{\"anchor\":\"y\",\"domain\":[0.0,0.7363],\"title\":{\"text\":\"prediction_label\"}},\"yaxis\":{\"anchor\":\"x\",\"domain\":[0.0,1.0],\"title\":{\"text\":\"standardized_residuals\"}},\"xaxis2\":{\"anchor\":\"y2\",\"domain\":[0.7413,1.0],\"matches\":\"x2\",\"showticklabels\":false,\"showline\":false,\"ticks\":\"\",\"showgrid\":true},\"yaxis2\":{\"anchor\":\"x2\",\"domain\":[0.0,1.0],\"matches\":\"y\",\"showticklabels\":false,\"showgrid\":true},\"coloraxis\":{\"colorbar\":{\"title\":{\"text\":\"stations\"}},\"colorscale\":[[0.0,\"#0d0887\"],[0.1111111111111111,\"#46039f\"],[0.2222222222222222,\"#7201a8\"],[0.3333333333333333,\"#9c179e\"],[0.4444444444444444,\"#bd3786\"],[0.5555555555555556,\"#d8576b\"],[0.6666666666666666,\"#ed7953\"],[0.7777777777777778,\"#fb9f3a\"],[0.8888888888888888,\"#fdca26\"],[1.0,\"#f0f921\"]]},\"legend\":{\"tracegroupgap\":0},\"title\":{\"text\":\"Residuals vs. Predictions\"},\"barmode\":\"overlay\"},                        {\"responsive\": true}                    ).then(function(){\n",
       "                            \n",
       "var gd = document.getElementById('8744f8cf-9f4f-45cc-a3a5-e5e5b9c506b0');\n",
       "var x = new MutationObserver(function (mutations, observer) {{\n",
       "        var display = window.getComputedStyle(gd).display;\n",
       "        if (!display || display === 'none') {{\n",
       "            console.log([gd, 'removed!']);\n",
       "            Plotly.purge(gd);\n",
       "            observer.disconnect();\n",
       "        }}\n",
       "}});\n",
       "\n",
       "// Listen for the removal of the full notebook cells\n",
       "var notebookContainer = gd.closest('#notebook-container');\n",
       "if (notebookContainer) {{\n",
       "    x.observe(notebookContainer, {childList: true});\n",
       "}}\n",
       "\n",
       "// Listen for the clearing of the current output cell\n",
       "var outputEl = gd.closest('.output');\n",
       "if (outputEl) {{\n",
       "    x.observe(outputEl, {childList: true});\n",
       "}}\n",
       "\n",
       "                        })                };                });            </script>        </div>"
      ]
     },
     "metadata": {},
     "output_type": "display_data"
    }
   ],
   "source": [
    "fig = px.scatter(predictions,color = 'stations', x='prediction_label', y='standardized_residuals', \n",
    "                title=\"Residuals vs. Predictions\",marginal_y=\"histogram\")\n",
    "fig.show()"
   ]
  },
  {
   "cell_type": "markdown",
   "id": "44878c29",
   "metadata": {},
   "source": [
    "Notably in both the box plots and the scatterplots, as the number of stations increases beyond 15 stations, the predictions become less predictable. This may be due to the lack of data in this area or it may be simply a constraint of larger transit projects."
   ]
  },
  {
   "cell_type": "markdown",
   "id": "3c5866f7",
   "metadata": {},
   "source": [
    "##### Affordability"
   ]
  },
  {
   "cell_type": "code",
   "execution_count": 39,
   "id": "c23429a2",
   "metadata": {},
   "outputs": [
    {
     "data": {
      "application/vnd.plotly.v1+json": {
       "config": {
        "plotlyServerURL": "https://plot.ly"
       },
       "data": [
        {
         "hovertemplate": "affordability=Very Unaffordable<br>prediction_label=%{x}<br>standardized_residuals=%{y}<extra></extra>",
         "legendgroup": "Very Unaffordable",
         "marker": {
          "color": "#636efa",
          "symbol": "circle"
         },
         "mode": "markers",
         "name": "Very Unaffordable",
         "orientation": "v",
         "showlegend": true,
         "type": "scatter",
         "x": [
          2482.2830619851647,
          676.6590762651746,
          7388.191081478686,
          6015.905058725337,
          1979.8741327477676,
          7018.001880013335,
          2853.4256194126706,
          1175.4621444715053,
          2065.5264444368977,
          6096.061341346256,
          1777.680275181996,
          5200.160311920525,
          5390.231244962277,
          3269.2239719739205,
          2883.045672049242,
          878.0823793757291,
          2617.6308900204303,
          3827.3346397808227,
          4497.431076919598,
          4621.785794159872,
          6249.355140865052,
          6575.606697532389,
          394.76053349607633,
          3783.286190978206,
          2059.0657472790886,
          445.19341896513436,
          3591.557919963636,
          4756.547567218728,
          1259.63620965284,
          1497.44530293582,
          5033.4700447392715,
          4063.496632012134,
          800.8266785965299,
          4878.815738993745,
          1206.005974067906,
          4727.133691387877,
          5239.506680858225,
          1734.0926190959135,
          2937.147807883118,
          4977.762368403965,
          5157.891228822714,
          4096.513169856095,
          4130.109054034413,
          5508.517268110251,
          6266.66267195388,
          4735.160796029647,
          5075.590377240866,
          3245.441846585387,
          8225.311173120004,
          508.0758668716307,
          4772.229942085345,
          6559.918489890212,
          8080.041705695493,
          2206.9142333347086,
          2851.5994560018294,
          3466.6999640313206,
          1155.9696154675917,
          4119.2780843216315,
          5051.826809094985,
          3613.4996287091535,
          3995.6082745332874,
          4746.447002246328,
          1871.9740795071232,
          8121.26859364456,
          5165.424775506104,
          6543.022487160274,
          1862.087586936944,
          1506.0835948690806,
          1821.769329785138,
          1320.1042750533047,
          4982.733554160343,
          5412.035957789047,
          4760.94273679638,
          5322.078200315827,
          2646.132976796051,
          1033.8314999332886,
          3782.420935586888,
          6134.28040109483,
          2438.451423316484,
          2728.4460264774402,
          4560.776430121206,
          4831.237128382562,
          9407.88658883917,
          1096.213204361878,
          2349.647985331764,
          1094.8046973180349,
          4838.85554786599,
          3942.64078079325,
          1803.9236968987036,
          855.5148044528878,
          633.4760371881277,
          3778.8627855899967,
          826.9656578744535,
          5247.724785682591,
          1554.6057241736344,
          3368.115991814009,
          3464.497649052262,
          5246.711508076494,
          5288.02999221273,
          2253.7202673768816,
          7656.605519056892,
          9928.47262034947,
          3483.034575782369,
          4843.502588466406,
          846.1677060307894,
          532.1473843670333
         ],
         "xaxis": "x",
         "y": [
          0.014028087298280766,
          -0.07611109239204475,
          -1.9950746900231588,
          -0.05067649923082095,
          -0.5580479893627763,
          0.2620562952540037,
          0.6253090408592545,
          -0.4434000396230318,
          0.026390211614531558,
          0.7850884529625389,
          -0.33447927336436195,
          -3.624475875497612,
          0.04622291072391367,
          -1.1213501486932056,
          0.10666344217149838,
          -0.3558899918390542,
          -1.469772037018853,
          0.39986703833253023,
          -0.5111586185456134,
          -0.22318733272767227,
          1.860757586277299,
          -0.24763008718674223,
          -0.3212738569186042,
          0.16825323274891632,
          -1.4339249025539826,
          -0.22888147193424005,
          -0.49446767701343464,
          -0.08883789107793623,
          0.16960528365615987,
          0.8735577682483987,
          -0.8819174238887308,
          0.34806249794258975,
          -0.4170763395137472,
          1.030357001996143,
          0.3309321671722339,
          -1.0429488982103725,
          0.6352850948414683,
          -0.8002356004307543,
          0.956055327821501,
          -0.11932583774958516,
          -1.1373830132538019,
          -0.4639222570610397,
          0.0900372882466522,
          2.223551244927288,
          -0.32351277799688494,
          0.5128626598014283,
          -0.45516734807517173,
          0.5791059397330451,
          2.525936893741019,
          -0.06616183484346809,
          -0.7779516181784696,
          1.2911709621157927,
          1.2141309998405798,
          -0.12835878582128354,
          -1.072204041376626,
          -1.622592922556234,
          0.12915529113968346,
          -0.8828793792790322,
          2.6441079681676043,
          -1.7153408634061753,
          0.3183323351502226,
          0.3123957965374435,
          0.3484255128647243,
          2.6682013369031785,
          -2.1761483133405273,
          0.7792757560369203,
          -0.5121593960522319,
          2.2544184530437175,
          0.020635445449354983,
          -0.4392574048988114,
          0.42082593826674836,
          -0.0845126137927295,
          -0.22797645408008585,
          -1.5133569933034403,
          -0.4677685203660196,
          -0.4131923609065068,
          -0.3821005987967942,
          -0.9589569442257169,
          -1.2447456917901651,
          0.025783390861831512,
          -1.2515903264722923,
          -0.4673730813530482,
          0.21616317670750504,
          -0.5078756412774245,
          1.0123208814081543,
          0.3874767732676011,
          1.5813853182927673,
          0.28180402459454507,
          0.14971062678807173,
          -0.17668991529924005,
          -0.4244788112013045,
          -0.6304545172337244,
          -0.4469979629643646,
          0.8535429803280707,
          0.4193823108400307,
          -0.6942662361459122,
          -0.5463954691743691,
          1.1314434430869147,
          -0.28951598575047827,
          0.957078360001268,
          3.167050663279737,
          0.8415233393727912,
          -0.1496556369741054,
          1.0741210025863626,
          0.0786827858140454,
          -0.1120540658882922
         ],
         "yaxis": "y"
        },
        {
         "alignmentgroup": "True",
         "bingroup": "y",
         "hovertemplate": "affordability=Very Unaffordable<br>standardized_residuals=%{y}<br>count=%{x}<extra></extra>",
         "legendgroup": "Very Unaffordable",
         "marker": {
          "color": "#636efa"
         },
         "name": "Very Unaffordable",
         "offsetgroup": "Very Unaffordable",
         "opacity": 0.5,
         "showlegend": false,
         "type": "histogram",
         "xaxis": "x2",
         "y": [
          0.014028087298280766,
          -0.07611109239204475,
          -1.9950746900231588,
          -0.05067649923082095,
          -0.5580479893627763,
          0.2620562952540037,
          0.6253090408592545,
          -0.4434000396230318,
          0.026390211614531558,
          0.7850884529625389,
          -0.33447927336436195,
          -3.624475875497612,
          0.04622291072391367,
          -1.1213501486932056,
          0.10666344217149838,
          -0.3558899918390542,
          -1.469772037018853,
          0.39986703833253023,
          -0.5111586185456134,
          -0.22318733272767227,
          1.860757586277299,
          -0.24763008718674223,
          -0.3212738569186042,
          0.16825323274891632,
          -1.4339249025539826,
          -0.22888147193424005,
          -0.49446767701343464,
          -0.08883789107793623,
          0.16960528365615987,
          0.8735577682483987,
          -0.8819174238887308,
          0.34806249794258975,
          -0.4170763395137472,
          1.030357001996143,
          0.3309321671722339,
          -1.0429488982103725,
          0.6352850948414683,
          -0.8002356004307543,
          0.956055327821501,
          -0.11932583774958516,
          -1.1373830132538019,
          -0.4639222570610397,
          0.0900372882466522,
          2.223551244927288,
          -0.32351277799688494,
          0.5128626598014283,
          -0.45516734807517173,
          0.5791059397330451,
          2.525936893741019,
          -0.06616183484346809,
          -0.7779516181784696,
          1.2911709621157927,
          1.2141309998405798,
          -0.12835878582128354,
          -1.072204041376626,
          -1.622592922556234,
          0.12915529113968346,
          -0.8828793792790322,
          2.6441079681676043,
          -1.7153408634061753,
          0.3183323351502226,
          0.3123957965374435,
          0.3484255128647243,
          2.6682013369031785,
          -2.1761483133405273,
          0.7792757560369203,
          -0.5121593960522319,
          2.2544184530437175,
          0.020635445449354983,
          -0.4392574048988114,
          0.42082593826674836,
          -0.0845126137927295,
          -0.22797645408008585,
          -1.5133569933034403,
          -0.4677685203660196,
          -0.4131923609065068,
          -0.3821005987967942,
          -0.9589569442257169,
          -1.2447456917901651,
          0.025783390861831512,
          -1.2515903264722923,
          -0.4673730813530482,
          0.21616317670750504,
          -0.5078756412774245,
          1.0123208814081543,
          0.3874767732676011,
          1.5813853182927673,
          0.28180402459454507,
          0.14971062678807173,
          -0.17668991529924005,
          -0.4244788112013045,
          -0.6304545172337244,
          -0.4469979629643646,
          0.8535429803280707,
          0.4193823108400307,
          -0.6942662361459122,
          -0.5463954691743691,
          1.1314434430869147,
          -0.28951598575047827,
          0.957078360001268,
          3.167050663279737,
          0.8415233393727912,
          -0.1496556369741054,
          1.0741210025863626,
          0.0786827858140454,
          -0.1120540658882922
         ],
         "yaxis": "y2"
        },
        {
         "hovertemplate": "affordability=Moderately Affordable<br>prediction_label=%{x}<br>standardized_residuals=%{y}<extra></extra>",
         "legendgroup": "Moderately Affordable",
         "marker": {
          "color": "#EF553B",
          "symbol": "circle"
         },
         "mode": "markers",
         "name": "Moderately Affordable",
         "orientation": "v",
         "showlegend": true,
         "type": "scatter",
         "x": [
          2875.62157796489,
          792.7002029344275,
          2514.367235917442,
          3592.456336520528,
          891.3924149678916,
          1150.4456794333178,
          804.8699390289312,
          912.0220179828044,
          402.3848364241312,
          1729.4684590426607,
          1126.2962765072896,
          503.8906630204192,
          634.6742707984018
         ],
         "xaxis": "x",
         "y": [
          -0.8588029401170943,
          0.5062924732987178,
          -0.6195810231294583,
          2.821048060256218,
          0.8430986240673864,
          0.12470082008681709,
          -0.2973926541433428,
          0.34654680856831116,
          0.07995883746690838,
          1.5443187060379011,
          0.47558294557158204,
          -0.04565688603403787,
          -0.28603193269471067
         ],
         "yaxis": "y"
        },
        {
         "alignmentgroup": "True",
         "bingroup": "y",
         "hovertemplate": "affordability=Moderately Affordable<br>standardized_residuals=%{y}<br>count=%{x}<extra></extra>",
         "legendgroup": "Moderately Affordable",
         "marker": {
          "color": "#EF553B"
         },
         "name": "Moderately Affordable",
         "offsetgroup": "Moderately Affordable",
         "opacity": 0.5,
         "showlegend": false,
         "type": "histogram",
         "xaxis": "x2",
         "y": [
          -0.8588029401170943,
          0.5062924732987178,
          -0.6195810231294583,
          2.821048060256218,
          0.8430986240673864,
          0.12470082008681709,
          -0.2973926541433428,
          0.34654680856831116,
          0.07995883746690838,
          1.5443187060379011,
          0.47558294557158204,
          -0.04565688603403787,
          -0.28603193269471067
         ],
         "yaxis": "y2"
        },
        {
         "hovertemplate": "affordability=Unaffordable<br>prediction_label=%{x}<br>standardized_residuals=%{y}<extra></extra>",
         "legendgroup": "Unaffordable",
         "marker": {
          "color": "#00cc96",
          "symbol": "circle"
         },
         "mode": "markers",
         "name": "Unaffordable",
         "orientation": "v",
         "showlegend": true,
         "type": "scatter",
         "x": [
          171.20393611151448,
          2833.842569478166,
          640.3527219336985,
          581.7343128001517,
          403.8518513271085,
          230.93785487866887,
          4123.73976408086,
          984.2640975464672,
          729.2844225315079,
          612.4712222781559,
          529.6190442228699,
          1116.1876820912864,
          458.3884109781797,
          4332.188771502049,
          335.1372092400104,
          1001.9028521501931,
          582.8897020782424,
          117.11687950893491,
          762.6010185194134,
          2460.514404812042,
          4192.7491018395085,
          664.9404845450789,
          479.30626009987,
          976.6851882542585,
          2441.015934363943,
          715.2032772261257,
          566.4610231941356
         ],
         "xaxis": "x",
         "y": [
          0.2100506872764481,
          0.6335687979602838,
          -0.0021914792895672323,
          0.9053497589900966,
          0.20450543722886894,
          -0.16038107269227414,
          -0.36189120722514095,
          0.5169902242780707,
          0.43616273245342163,
          1.5918457599386329,
          -0.21797901393509553,
          0.037509932738721,
          -0.04028798772121911,
          1.2616215643968538,
          0.07023878970404392,
          -0.10029190154325678,
          -0.086283732286841,
          -0.13006727034178475,
          -0.08597600135012319,
          -0.3098079460148733,
          -3.588780778256201,
          0.42896359947524604,
          0.0794395024917813,
          -0.3597341167338534,
          -0.2291074298422446,
          0.6096543264361073,
          -0.27510067416460504
         ],
         "yaxis": "y"
        },
        {
         "alignmentgroup": "True",
         "bingroup": "y",
         "hovertemplate": "affordability=Unaffordable<br>standardized_residuals=%{y}<br>count=%{x}<extra></extra>",
         "legendgroup": "Unaffordable",
         "marker": {
          "color": "#00cc96"
         },
         "name": "Unaffordable",
         "offsetgroup": "Unaffordable",
         "opacity": 0.5,
         "showlegend": false,
         "type": "histogram",
         "xaxis": "x2",
         "y": [
          0.2100506872764481,
          0.6335687979602838,
          -0.0021914792895672323,
          0.9053497589900966,
          0.20450543722886894,
          -0.16038107269227414,
          -0.36189120722514095,
          0.5169902242780707,
          0.43616273245342163,
          1.5918457599386329,
          -0.21797901393509553,
          0.037509932738721,
          -0.04028798772121911,
          1.2616215643968538,
          0.07023878970404392,
          -0.10029190154325678,
          -0.086283732286841,
          -0.13006727034178475,
          -0.08597600135012319,
          -0.3098079460148733,
          -3.588780778256201,
          0.42896359947524604,
          0.0794395024917813,
          -0.3597341167338534,
          -0.2291074298422446,
          0.6096543264361073,
          -0.27510067416460504
         ],
         "yaxis": "y2"
        },
        {
         "hovertemplate": "affordability=Highly Affordable<br>prediction_label=%{x}<br>standardized_residuals=%{y}<extra></extra>",
         "legendgroup": "Highly Affordable",
         "marker": {
          "color": "#ab63fa",
          "symbol": "circle"
         },
         "mode": "markers",
         "name": "Highly Affordable",
         "orientation": "v",
         "showlegend": true,
         "type": "scatter",
         "x": [
          2028.3479499258067,
          700.5326938027852,
          406.4617395659054,
          3300.1968564263498,
          1647.0906439737853,
          3443.4004123294235
         ],
         "xaxis": "x",
         "y": [
          -0.6822342076502275,
          0.42626849004393585,
          -0.16452984164931203,
          -1.8707439139395778,
          -0.7998456559817766,
          -1.565511606950026
         ],
         "yaxis": "y"
        },
        {
         "alignmentgroup": "True",
         "bingroup": "y",
         "hovertemplate": "affordability=Highly Affordable<br>standardized_residuals=%{y}<br>count=%{x}<extra></extra>",
         "legendgroup": "Highly Affordable",
         "marker": {
          "color": "#ab63fa"
         },
         "name": "Highly Affordable",
         "offsetgroup": "Highly Affordable",
         "opacity": 0.5,
         "showlegend": false,
         "type": "histogram",
         "xaxis": "x2",
         "y": [
          -0.6822342076502275,
          0.42626849004393585,
          -0.16452984164931203,
          -1.8707439139395778,
          -0.7998456559817766,
          -1.565511606950026
         ],
         "yaxis": "y2"
        },
        {
         "hovertemplate": "affordability=Affordable<br>prediction_label=%{x}<br>standardized_residuals=%{y}<extra></extra>",
         "legendgroup": "Affordable",
         "marker": {
          "color": "#FFA15A",
          "symbol": "circle"
         },
         "mode": "markers",
         "name": "Affordable",
         "orientation": "v",
         "showlegend": true,
         "type": "scatter",
         "x": [
          3936.7386646811683
         ],
         "xaxis": "x",
         "y": [
          -0.6311333759680077
         ],
         "yaxis": "y"
        },
        {
         "alignmentgroup": "True",
         "bingroup": "y",
         "hovertemplate": "affordability=Affordable<br>standardized_residuals=%{y}<br>count=%{x}<extra></extra>",
         "legendgroup": "Affordable",
         "marker": {
          "color": "#FFA15A"
         },
         "name": "Affordable",
         "offsetgroup": "Affordable",
         "opacity": 0.5,
         "showlegend": false,
         "type": "histogram",
         "xaxis": "x2",
         "y": [
          -0.6311333759680077
         ],
         "yaxis": "y2"
        }
       ],
       "layout": {
        "barmode": "overlay",
        "legend": {
         "title": {
          "text": "affordability"
         },
         "tracegroupgap": 0
        },
        "template": {
         "data": {
          "bar": [
           {
            "error_x": {
             "color": "#2a3f5f"
            },
            "error_y": {
             "color": "#2a3f5f"
            },
            "marker": {
             "line": {
              "color": "#E5ECF6",
              "width": 0.5
             },
             "pattern": {
              "fillmode": "overlay",
              "size": 10,
              "solidity": 0.2
             }
            },
            "type": "bar"
           }
          ],
          "barpolar": [
           {
            "marker": {
             "line": {
              "color": "#E5ECF6",
              "width": 0.5
             },
             "pattern": {
              "fillmode": "overlay",
              "size": 10,
              "solidity": 0.2
             }
            },
            "type": "barpolar"
           }
          ],
          "carpet": [
           {
            "aaxis": {
             "endlinecolor": "#2a3f5f",
             "gridcolor": "white",
             "linecolor": "white",
             "minorgridcolor": "white",
             "startlinecolor": "#2a3f5f"
            },
            "baxis": {
             "endlinecolor": "#2a3f5f",
             "gridcolor": "white",
             "linecolor": "white",
             "minorgridcolor": "white",
             "startlinecolor": "#2a3f5f"
            },
            "type": "carpet"
           }
          ],
          "choropleth": [
           {
            "colorbar": {
             "outlinewidth": 0,
             "ticks": ""
            },
            "type": "choropleth"
           }
          ],
          "contour": [
           {
            "colorbar": {
             "outlinewidth": 0,
             "ticks": ""
            },
            "colorscale": [
             [
              0,
              "#0d0887"
             ],
             [
              0.1111111111111111,
              "#46039f"
             ],
             [
              0.2222222222222222,
              "#7201a8"
             ],
             [
              0.3333333333333333,
              "#9c179e"
             ],
             [
              0.4444444444444444,
              "#bd3786"
             ],
             [
              0.5555555555555556,
              "#d8576b"
             ],
             [
              0.6666666666666666,
              "#ed7953"
             ],
             [
              0.7777777777777778,
              "#fb9f3a"
             ],
             [
              0.8888888888888888,
              "#fdca26"
             ],
             [
              1,
              "#f0f921"
             ]
            ],
            "type": "contour"
           }
          ],
          "contourcarpet": [
           {
            "colorbar": {
             "outlinewidth": 0,
             "ticks": ""
            },
            "type": "contourcarpet"
           }
          ],
          "heatmap": [
           {
            "colorbar": {
             "outlinewidth": 0,
             "ticks": ""
            },
            "colorscale": [
             [
              0,
              "#0d0887"
             ],
             [
              0.1111111111111111,
              "#46039f"
             ],
             [
              0.2222222222222222,
              "#7201a8"
             ],
             [
              0.3333333333333333,
              "#9c179e"
             ],
             [
              0.4444444444444444,
              "#bd3786"
             ],
             [
              0.5555555555555556,
              "#d8576b"
             ],
             [
              0.6666666666666666,
              "#ed7953"
             ],
             [
              0.7777777777777778,
              "#fb9f3a"
             ],
             [
              0.8888888888888888,
              "#fdca26"
             ],
             [
              1,
              "#f0f921"
             ]
            ],
            "type": "heatmap"
           }
          ],
          "heatmapgl": [
           {
            "colorbar": {
             "outlinewidth": 0,
             "ticks": ""
            },
            "colorscale": [
             [
              0,
              "#0d0887"
             ],
             [
              0.1111111111111111,
              "#46039f"
             ],
             [
              0.2222222222222222,
              "#7201a8"
             ],
             [
              0.3333333333333333,
              "#9c179e"
             ],
             [
              0.4444444444444444,
              "#bd3786"
             ],
             [
              0.5555555555555556,
              "#d8576b"
             ],
             [
              0.6666666666666666,
              "#ed7953"
             ],
             [
              0.7777777777777778,
              "#fb9f3a"
             ],
             [
              0.8888888888888888,
              "#fdca26"
             ],
             [
              1,
              "#f0f921"
             ]
            ],
            "type": "heatmapgl"
           }
          ],
          "histogram": [
           {
            "marker": {
             "pattern": {
              "fillmode": "overlay",
              "size": 10,
              "solidity": 0.2
             }
            },
            "type": "histogram"
           }
          ],
          "histogram2d": [
           {
            "colorbar": {
             "outlinewidth": 0,
             "ticks": ""
            },
            "colorscale": [
             [
              0,
              "#0d0887"
             ],
             [
              0.1111111111111111,
              "#46039f"
             ],
             [
              0.2222222222222222,
              "#7201a8"
             ],
             [
              0.3333333333333333,
              "#9c179e"
             ],
             [
              0.4444444444444444,
              "#bd3786"
             ],
             [
              0.5555555555555556,
              "#d8576b"
             ],
             [
              0.6666666666666666,
              "#ed7953"
             ],
             [
              0.7777777777777778,
              "#fb9f3a"
             ],
             [
              0.8888888888888888,
              "#fdca26"
             ],
             [
              1,
              "#f0f921"
             ]
            ],
            "type": "histogram2d"
           }
          ],
          "histogram2dcontour": [
           {
            "colorbar": {
             "outlinewidth": 0,
             "ticks": ""
            },
            "colorscale": [
             [
              0,
              "#0d0887"
             ],
             [
              0.1111111111111111,
              "#46039f"
             ],
             [
              0.2222222222222222,
              "#7201a8"
             ],
             [
              0.3333333333333333,
              "#9c179e"
             ],
             [
              0.4444444444444444,
              "#bd3786"
             ],
             [
              0.5555555555555556,
              "#d8576b"
             ],
             [
              0.6666666666666666,
              "#ed7953"
             ],
             [
              0.7777777777777778,
              "#fb9f3a"
             ],
             [
              0.8888888888888888,
              "#fdca26"
             ],
             [
              1,
              "#f0f921"
             ]
            ],
            "type": "histogram2dcontour"
           }
          ],
          "mesh3d": [
           {
            "colorbar": {
             "outlinewidth": 0,
             "ticks": ""
            },
            "type": "mesh3d"
           }
          ],
          "parcoords": [
           {
            "line": {
             "colorbar": {
              "outlinewidth": 0,
              "ticks": ""
             }
            },
            "type": "parcoords"
           }
          ],
          "pie": [
           {
            "automargin": true,
            "type": "pie"
           }
          ],
          "scatter": [
           {
            "fillpattern": {
             "fillmode": "overlay",
             "size": 10,
             "solidity": 0.2
            },
            "type": "scatter"
           }
          ],
          "scatter3d": [
           {
            "line": {
             "colorbar": {
              "outlinewidth": 0,
              "ticks": ""
             }
            },
            "marker": {
             "colorbar": {
              "outlinewidth": 0,
              "ticks": ""
             }
            },
            "type": "scatter3d"
           }
          ],
          "scattercarpet": [
           {
            "marker": {
             "colorbar": {
              "outlinewidth": 0,
              "ticks": ""
             }
            },
            "type": "scattercarpet"
           }
          ],
          "scattergeo": [
           {
            "marker": {
             "colorbar": {
              "outlinewidth": 0,
              "ticks": ""
             }
            },
            "type": "scattergeo"
           }
          ],
          "scattergl": [
           {
            "marker": {
             "colorbar": {
              "outlinewidth": 0,
              "ticks": ""
             }
            },
            "type": "scattergl"
           }
          ],
          "scattermapbox": [
           {
            "marker": {
             "colorbar": {
              "outlinewidth": 0,
              "ticks": ""
             }
            },
            "type": "scattermapbox"
           }
          ],
          "scatterpolar": [
           {
            "marker": {
             "colorbar": {
              "outlinewidth": 0,
              "ticks": ""
             }
            },
            "type": "scatterpolar"
           }
          ],
          "scatterpolargl": [
           {
            "marker": {
             "colorbar": {
              "outlinewidth": 0,
              "ticks": ""
             }
            },
            "type": "scatterpolargl"
           }
          ],
          "scatterternary": [
           {
            "marker": {
             "colorbar": {
              "outlinewidth": 0,
              "ticks": ""
             }
            },
            "type": "scatterternary"
           }
          ],
          "surface": [
           {
            "colorbar": {
             "outlinewidth": 0,
             "ticks": ""
            },
            "colorscale": [
             [
              0,
              "#0d0887"
             ],
             [
              0.1111111111111111,
              "#46039f"
             ],
             [
              0.2222222222222222,
              "#7201a8"
             ],
             [
              0.3333333333333333,
              "#9c179e"
             ],
             [
              0.4444444444444444,
              "#bd3786"
             ],
             [
              0.5555555555555556,
              "#d8576b"
             ],
             [
              0.6666666666666666,
              "#ed7953"
             ],
             [
              0.7777777777777778,
              "#fb9f3a"
             ],
             [
              0.8888888888888888,
              "#fdca26"
             ],
             [
              1,
              "#f0f921"
             ]
            ],
            "type": "surface"
           }
          ],
          "table": [
           {
            "cells": {
             "fill": {
              "color": "#EBF0F8"
             },
             "line": {
              "color": "white"
             }
            },
            "header": {
             "fill": {
              "color": "#C8D4E3"
             },
             "line": {
              "color": "white"
             }
            },
            "type": "table"
           }
          ]
         },
         "layout": {
          "annotationdefaults": {
           "arrowcolor": "#2a3f5f",
           "arrowhead": 0,
           "arrowwidth": 1
          },
          "autotypenumbers": "strict",
          "coloraxis": {
           "colorbar": {
            "outlinewidth": 0,
            "ticks": ""
           }
          },
          "colorscale": {
           "diverging": [
            [
             0,
             "#8e0152"
            ],
            [
             0.1,
             "#c51b7d"
            ],
            [
             0.2,
             "#de77ae"
            ],
            [
             0.3,
             "#f1b6da"
            ],
            [
             0.4,
             "#fde0ef"
            ],
            [
             0.5,
             "#f7f7f7"
            ],
            [
             0.6,
             "#e6f5d0"
            ],
            [
             0.7,
             "#b8e186"
            ],
            [
             0.8,
             "#7fbc41"
            ],
            [
             0.9,
             "#4d9221"
            ],
            [
             1,
             "#276419"
            ]
           ],
           "sequential": [
            [
             0,
             "#0d0887"
            ],
            [
             0.1111111111111111,
             "#46039f"
            ],
            [
             0.2222222222222222,
             "#7201a8"
            ],
            [
             0.3333333333333333,
             "#9c179e"
            ],
            [
             0.4444444444444444,
             "#bd3786"
            ],
            [
             0.5555555555555556,
             "#d8576b"
            ],
            [
             0.6666666666666666,
             "#ed7953"
            ],
            [
             0.7777777777777778,
             "#fb9f3a"
            ],
            [
             0.8888888888888888,
             "#fdca26"
            ],
            [
             1,
             "#f0f921"
            ]
           ],
           "sequentialminus": [
            [
             0,
             "#0d0887"
            ],
            [
             0.1111111111111111,
             "#46039f"
            ],
            [
             0.2222222222222222,
             "#7201a8"
            ],
            [
             0.3333333333333333,
             "#9c179e"
            ],
            [
             0.4444444444444444,
             "#bd3786"
            ],
            [
             0.5555555555555556,
             "#d8576b"
            ],
            [
             0.6666666666666666,
             "#ed7953"
            ],
            [
             0.7777777777777778,
             "#fb9f3a"
            ],
            [
             0.8888888888888888,
             "#fdca26"
            ],
            [
             1,
             "#f0f921"
            ]
           ]
          },
          "colorway": [
           "#636efa",
           "#EF553B",
           "#00cc96",
           "#ab63fa",
           "#FFA15A",
           "#19d3f3",
           "#FF6692",
           "#B6E880",
           "#FF97FF",
           "#FECB52"
          ],
          "font": {
           "color": "#2a3f5f"
          },
          "geo": {
           "bgcolor": "white",
           "lakecolor": "white",
           "landcolor": "#E5ECF6",
           "showlakes": true,
           "showland": true,
           "subunitcolor": "white"
          },
          "hoverlabel": {
           "align": "left"
          },
          "hovermode": "closest",
          "mapbox": {
           "style": "light"
          },
          "paper_bgcolor": "white",
          "plot_bgcolor": "#E5ECF6",
          "polar": {
           "angularaxis": {
            "gridcolor": "white",
            "linecolor": "white",
            "ticks": ""
           },
           "bgcolor": "#E5ECF6",
           "radialaxis": {
            "gridcolor": "white",
            "linecolor": "white",
            "ticks": ""
           }
          },
          "scene": {
           "xaxis": {
            "backgroundcolor": "#E5ECF6",
            "gridcolor": "white",
            "gridwidth": 2,
            "linecolor": "white",
            "showbackground": true,
            "ticks": "",
            "zerolinecolor": "white"
           },
           "yaxis": {
            "backgroundcolor": "#E5ECF6",
            "gridcolor": "white",
            "gridwidth": 2,
            "linecolor": "white",
            "showbackground": true,
            "ticks": "",
            "zerolinecolor": "white"
           },
           "zaxis": {
            "backgroundcolor": "#E5ECF6",
            "gridcolor": "white",
            "gridwidth": 2,
            "linecolor": "white",
            "showbackground": true,
            "ticks": "",
            "zerolinecolor": "white"
           }
          },
          "shapedefaults": {
           "line": {
            "color": "#2a3f5f"
           }
          },
          "ternary": {
           "aaxis": {
            "gridcolor": "white",
            "linecolor": "white",
            "ticks": ""
           },
           "baxis": {
            "gridcolor": "white",
            "linecolor": "white",
            "ticks": ""
           },
           "bgcolor": "#E5ECF6",
           "caxis": {
            "gridcolor": "white",
            "linecolor": "white",
            "ticks": ""
           }
          },
          "title": {
           "x": 0.05
          },
          "xaxis": {
           "automargin": true,
           "gridcolor": "white",
           "linecolor": "white",
           "ticks": "",
           "title": {
            "standoff": 15
           },
           "zerolinecolor": "white",
           "zerolinewidth": 2
          },
          "yaxis": {
           "automargin": true,
           "gridcolor": "white",
           "linecolor": "white",
           "ticks": "",
           "title": {
            "standoff": 15
           },
           "zerolinecolor": "white",
           "zerolinewidth": 2
          }
         }
        },
        "title": {
         "text": "Residuals vs. Predictions"
        },
        "xaxis": {
         "anchor": "y",
         "domain": [
          0,
          0.7363
         ],
         "title": {
          "text": "prediction_label"
         }
        },
        "xaxis2": {
         "anchor": "y2",
         "domain": [
          0.7413,
          1
         ],
         "matches": "x2",
         "showgrid": true,
         "showline": false,
         "showticklabels": false,
         "ticks": ""
        },
        "yaxis": {
         "anchor": "x",
         "domain": [
          0,
          1
         ],
         "title": {
          "text": "standardized_residuals"
         }
        },
        "yaxis2": {
         "anchor": "x2",
         "domain": [
          0,
          1
         ],
         "matches": "y",
         "showgrid": true,
         "showticklabels": false
        }
       }
      },
      "text/html": [
       "<div>                            <div id=\"727477db-50a1-4c6e-b2ca-1e1426bfa906\" class=\"plotly-graph-div\" style=\"height:525px; width:100%;\"></div>            <script type=\"text/javascript\">                require([\"plotly\"], function(Plotly) {                    window.PLOTLYENV=window.PLOTLYENV || {};                                    if (document.getElementById(\"727477db-50a1-4c6e-b2ca-1e1426bfa906\")) {                    Plotly.newPlot(                        \"727477db-50a1-4c6e-b2ca-1e1426bfa906\",                        [{\"hovertemplate\":\"affordability=Very Unaffordable\\u003cbr\\u003eprediction_label=%{x}\\u003cbr\\u003estandardized_residuals=%{y}\\u003cextra\\u003e\\u003c\\u002fextra\\u003e\",\"legendgroup\":\"Very Unaffordable\",\"marker\":{\"color\":\"#636efa\",\"symbol\":\"circle\"},\"mode\":\"markers\",\"name\":\"Very Unaffordable\",\"orientation\":\"v\",\"showlegend\":true,\"x\":[2482.2830619851647,676.6590762651746,7388.191081478686,6015.905058725337,1979.8741327477676,7018.001880013335,2853.4256194126706,1175.4621444715053,2065.5264444368977,6096.061341346256,1777.680275181996,5200.160311920525,5390.231244962277,3269.2239719739205,2883.045672049242,878.0823793757291,2617.6308900204303,3827.3346397808227,4497.431076919598,4621.785794159872,6249.355140865052,6575.606697532389,394.76053349607633,3783.286190978206,2059.0657472790886,445.19341896513436,3591.557919963636,4756.547567218728,1259.63620965284,1497.44530293582,5033.4700447392715,4063.496632012134,800.8266785965299,4878.815738993745,1206.005974067906,4727.133691387877,5239.506680858225,1734.0926190959135,2937.147807883118,4977.762368403965,5157.891228822714,4096.513169856095,4130.109054034413,5508.517268110251,6266.66267195388,4735.160796029647,5075.590377240866,3245.441846585387,8225.311173120004,508.0758668716307,4772.229942085345,6559.918489890212,8080.041705695493,2206.9142333347086,2851.5994560018294,3466.6999640313206,1155.9696154675917,4119.2780843216315,5051.826809094985,3613.4996287091535,3995.6082745332874,4746.447002246328,1871.9740795071232,8121.26859364456,5165.424775506104,6543.022487160274,1862.087586936944,1506.0835948690806,1821.769329785138,1320.1042750533047,4982.733554160343,5412.035957789047,4760.94273679638,5322.078200315827,2646.132976796051,1033.8314999332886,3782.420935586888,6134.28040109483,2438.451423316484,2728.4460264774402,4560.776430121206,4831.237128382562,9407.88658883917,1096.213204361878,2349.647985331764,1094.8046973180349,4838.85554786599,3942.64078079325,1803.9236968987036,855.5148044528878,633.4760371881277,3778.8627855899967,826.9656578744535,5247.724785682591,1554.6057241736344,3368.115991814009,3464.497649052262,5246.711508076494,5288.02999221273,2253.7202673768816,7656.605519056892,9928.47262034947,3483.034575782369,4843.502588466406,846.1677060307894,532.1473843670333],\"xaxis\":\"x\",\"y\":[0.014028087298280766,-0.07611109239204475,-1.9950746900231588,-0.05067649923082095,-0.5580479893627763,0.2620562952540037,0.6253090408592545,-0.4434000396230318,0.026390211614531558,0.7850884529625389,-0.33447927336436195,-3.624475875497612,0.04622291072391367,-1.1213501486932056,0.10666344217149838,-0.3558899918390542,-1.469772037018853,0.39986703833253023,-0.5111586185456134,-0.22318733272767227,1.860757586277299,-0.24763008718674223,-0.3212738569186042,0.16825323274891632,-1.4339249025539826,-0.22888147193424005,-0.49446767701343464,-0.08883789107793623,0.16960528365615987,0.8735577682483987,-0.8819174238887308,0.34806249794258975,-0.4170763395137472,1.030357001996143,0.3309321671722339,-1.0429488982103725,0.6352850948414683,-0.8002356004307543,0.956055327821501,-0.11932583774958516,-1.1373830132538019,-0.4639222570610397,0.0900372882466522,2.223551244927288,-0.32351277799688494,0.5128626598014283,-0.45516734807517173,0.5791059397330451,2.525936893741019,-0.06616183484346809,-0.7779516181784696,1.2911709621157927,1.2141309998405798,-0.12835878582128354,-1.072204041376626,-1.622592922556234,0.12915529113968346,-0.8828793792790322,2.6441079681676043,-1.7153408634061753,0.3183323351502226,0.3123957965374435,0.3484255128647243,2.6682013369031785,-2.1761483133405273,0.7792757560369203,-0.5121593960522319,2.2544184530437175,0.020635445449354983,-0.4392574048988114,0.42082593826674836,-0.0845126137927295,-0.22797645408008585,-1.5133569933034403,-0.4677685203660196,-0.4131923609065068,-0.3821005987967942,-0.9589569442257169,-1.2447456917901651,0.025783390861831512,-1.2515903264722923,-0.4673730813530482,0.21616317670750504,-0.5078756412774245,1.0123208814081543,0.3874767732676011,1.5813853182927673,0.28180402459454507,0.14971062678807173,-0.17668991529924005,-0.4244788112013045,-0.6304545172337244,-0.4469979629643646,0.8535429803280707,0.4193823108400307,-0.6942662361459122,-0.5463954691743691,1.1314434430869147,-0.28951598575047827,0.957078360001268,3.167050663279737,0.8415233393727912,-0.1496556369741054,1.0741210025863626,0.0786827858140454,-0.1120540658882922],\"yaxis\":\"y\",\"type\":\"scatter\"},{\"alignmentgroup\":\"True\",\"bingroup\":\"y\",\"hovertemplate\":\"affordability=Very Unaffordable\\u003cbr\\u003estandardized_residuals=%{y}\\u003cbr\\u003ecount=%{x}\\u003cextra\\u003e\\u003c\\u002fextra\\u003e\",\"legendgroup\":\"Very Unaffordable\",\"marker\":{\"color\":\"#636efa\"},\"name\":\"Very Unaffordable\",\"offsetgroup\":\"Very Unaffordable\",\"opacity\":0.5,\"showlegend\":false,\"xaxis\":\"x2\",\"y\":[0.014028087298280766,-0.07611109239204475,-1.9950746900231588,-0.05067649923082095,-0.5580479893627763,0.2620562952540037,0.6253090408592545,-0.4434000396230318,0.026390211614531558,0.7850884529625389,-0.33447927336436195,-3.624475875497612,0.04622291072391367,-1.1213501486932056,0.10666344217149838,-0.3558899918390542,-1.469772037018853,0.39986703833253023,-0.5111586185456134,-0.22318733272767227,1.860757586277299,-0.24763008718674223,-0.3212738569186042,0.16825323274891632,-1.4339249025539826,-0.22888147193424005,-0.49446767701343464,-0.08883789107793623,0.16960528365615987,0.8735577682483987,-0.8819174238887308,0.34806249794258975,-0.4170763395137472,1.030357001996143,0.3309321671722339,-1.0429488982103725,0.6352850948414683,-0.8002356004307543,0.956055327821501,-0.11932583774958516,-1.1373830132538019,-0.4639222570610397,0.0900372882466522,2.223551244927288,-0.32351277799688494,0.5128626598014283,-0.45516734807517173,0.5791059397330451,2.525936893741019,-0.06616183484346809,-0.7779516181784696,1.2911709621157927,1.2141309998405798,-0.12835878582128354,-1.072204041376626,-1.622592922556234,0.12915529113968346,-0.8828793792790322,2.6441079681676043,-1.7153408634061753,0.3183323351502226,0.3123957965374435,0.3484255128647243,2.6682013369031785,-2.1761483133405273,0.7792757560369203,-0.5121593960522319,2.2544184530437175,0.020635445449354983,-0.4392574048988114,0.42082593826674836,-0.0845126137927295,-0.22797645408008585,-1.5133569933034403,-0.4677685203660196,-0.4131923609065068,-0.3821005987967942,-0.9589569442257169,-1.2447456917901651,0.025783390861831512,-1.2515903264722923,-0.4673730813530482,0.21616317670750504,-0.5078756412774245,1.0123208814081543,0.3874767732676011,1.5813853182927673,0.28180402459454507,0.14971062678807173,-0.17668991529924005,-0.4244788112013045,-0.6304545172337244,-0.4469979629643646,0.8535429803280707,0.4193823108400307,-0.6942662361459122,-0.5463954691743691,1.1314434430869147,-0.28951598575047827,0.957078360001268,3.167050663279737,0.8415233393727912,-0.1496556369741054,1.0741210025863626,0.0786827858140454,-0.1120540658882922],\"yaxis\":\"y2\",\"type\":\"histogram\"},{\"hovertemplate\":\"affordability=Moderately Affordable\\u003cbr\\u003eprediction_label=%{x}\\u003cbr\\u003estandardized_residuals=%{y}\\u003cextra\\u003e\\u003c\\u002fextra\\u003e\",\"legendgroup\":\"Moderately Affordable\",\"marker\":{\"color\":\"#EF553B\",\"symbol\":\"circle\"},\"mode\":\"markers\",\"name\":\"Moderately Affordable\",\"orientation\":\"v\",\"showlegend\":true,\"x\":[2875.62157796489,792.7002029344275,2514.367235917442,3592.456336520528,891.3924149678916,1150.4456794333178,804.8699390289312,912.0220179828044,402.3848364241312,1729.4684590426607,1126.2962765072896,503.8906630204192,634.6742707984018],\"xaxis\":\"x\",\"y\":[-0.8588029401170943,0.5062924732987178,-0.6195810231294583,2.821048060256218,0.8430986240673864,0.12470082008681709,-0.2973926541433428,0.34654680856831116,0.07995883746690838,1.5443187060379011,0.47558294557158204,-0.04565688603403787,-0.28603193269471067],\"yaxis\":\"y\",\"type\":\"scatter\"},{\"alignmentgroup\":\"True\",\"bingroup\":\"y\",\"hovertemplate\":\"affordability=Moderately Affordable\\u003cbr\\u003estandardized_residuals=%{y}\\u003cbr\\u003ecount=%{x}\\u003cextra\\u003e\\u003c\\u002fextra\\u003e\",\"legendgroup\":\"Moderately Affordable\",\"marker\":{\"color\":\"#EF553B\"},\"name\":\"Moderately Affordable\",\"offsetgroup\":\"Moderately Affordable\",\"opacity\":0.5,\"showlegend\":false,\"xaxis\":\"x2\",\"y\":[-0.8588029401170943,0.5062924732987178,-0.6195810231294583,2.821048060256218,0.8430986240673864,0.12470082008681709,-0.2973926541433428,0.34654680856831116,0.07995883746690838,1.5443187060379011,0.47558294557158204,-0.04565688603403787,-0.28603193269471067],\"yaxis\":\"y2\",\"type\":\"histogram\"},{\"hovertemplate\":\"affordability=Unaffordable\\u003cbr\\u003eprediction_label=%{x}\\u003cbr\\u003estandardized_residuals=%{y}\\u003cextra\\u003e\\u003c\\u002fextra\\u003e\",\"legendgroup\":\"Unaffordable\",\"marker\":{\"color\":\"#00cc96\",\"symbol\":\"circle\"},\"mode\":\"markers\",\"name\":\"Unaffordable\",\"orientation\":\"v\",\"showlegend\":true,\"x\":[171.20393611151448,2833.842569478166,640.3527219336985,581.7343128001517,403.8518513271085,230.93785487866887,4123.73976408086,984.2640975464672,729.2844225315079,612.4712222781559,529.6190442228699,1116.1876820912864,458.3884109781797,4332.188771502049,335.1372092400104,1001.9028521501931,582.8897020782424,117.11687950893491,762.6010185194134,2460.514404812042,4192.7491018395085,664.9404845450789,479.30626009987,976.6851882542585,2441.015934363943,715.2032772261257,566.4610231941356],\"xaxis\":\"x\",\"y\":[0.2100506872764481,0.6335687979602838,-0.0021914792895672323,0.9053497589900966,0.20450543722886894,-0.16038107269227414,-0.36189120722514095,0.5169902242780707,0.43616273245342163,1.5918457599386329,-0.21797901393509553,0.037509932738721,-0.04028798772121911,1.2616215643968538,0.07023878970404392,-0.10029190154325678,-0.086283732286841,-0.13006727034178475,-0.08597600135012319,-0.3098079460148733,-3.588780778256201,0.42896359947524604,0.0794395024917813,-0.3597341167338534,-0.2291074298422446,0.6096543264361073,-0.27510067416460504],\"yaxis\":\"y\",\"type\":\"scatter\"},{\"alignmentgroup\":\"True\",\"bingroup\":\"y\",\"hovertemplate\":\"affordability=Unaffordable\\u003cbr\\u003estandardized_residuals=%{y}\\u003cbr\\u003ecount=%{x}\\u003cextra\\u003e\\u003c\\u002fextra\\u003e\",\"legendgroup\":\"Unaffordable\",\"marker\":{\"color\":\"#00cc96\"},\"name\":\"Unaffordable\",\"offsetgroup\":\"Unaffordable\",\"opacity\":0.5,\"showlegend\":false,\"xaxis\":\"x2\",\"y\":[0.2100506872764481,0.6335687979602838,-0.0021914792895672323,0.9053497589900966,0.20450543722886894,-0.16038107269227414,-0.36189120722514095,0.5169902242780707,0.43616273245342163,1.5918457599386329,-0.21797901393509553,0.037509932738721,-0.04028798772121911,1.2616215643968538,0.07023878970404392,-0.10029190154325678,-0.086283732286841,-0.13006727034178475,-0.08597600135012319,-0.3098079460148733,-3.588780778256201,0.42896359947524604,0.0794395024917813,-0.3597341167338534,-0.2291074298422446,0.6096543264361073,-0.27510067416460504],\"yaxis\":\"y2\",\"type\":\"histogram\"},{\"hovertemplate\":\"affordability=Highly Affordable\\u003cbr\\u003eprediction_label=%{x}\\u003cbr\\u003estandardized_residuals=%{y}\\u003cextra\\u003e\\u003c\\u002fextra\\u003e\",\"legendgroup\":\"Highly Affordable\",\"marker\":{\"color\":\"#ab63fa\",\"symbol\":\"circle\"},\"mode\":\"markers\",\"name\":\"Highly Affordable\",\"orientation\":\"v\",\"showlegend\":true,\"x\":[2028.3479499258067,700.5326938027852,406.4617395659054,3300.1968564263498,1647.0906439737853,3443.4004123294235],\"xaxis\":\"x\",\"y\":[-0.6822342076502275,0.42626849004393585,-0.16452984164931203,-1.8707439139395778,-0.7998456559817766,-1.565511606950026],\"yaxis\":\"y\",\"type\":\"scatter\"},{\"alignmentgroup\":\"True\",\"bingroup\":\"y\",\"hovertemplate\":\"affordability=Highly Affordable\\u003cbr\\u003estandardized_residuals=%{y}\\u003cbr\\u003ecount=%{x}\\u003cextra\\u003e\\u003c\\u002fextra\\u003e\",\"legendgroup\":\"Highly Affordable\",\"marker\":{\"color\":\"#ab63fa\"},\"name\":\"Highly Affordable\",\"offsetgroup\":\"Highly Affordable\",\"opacity\":0.5,\"showlegend\":false,\"xaxis\":\"x2\",\"y\":[-0.6822342076502275,0.42626849004393585,-0.16452984164931203,-1.8707439139395778,-0.7998456559817766,-1.565511606950026],\"yaxis\":\"y2\",\"type\":\"histogram\"},{\"hovertemplate\":\"affordability=Affordable\\u003cbr\\u003eprediction_label=%{x}\\u003cbr\\u003estandardized_residuals=%{y}\\u003cextra\\u003e\\u003c\\u002fextra\\u003e\",\"legendgroup\":\"Affordable\",\"marker\":{\"color\":\"#FFA15A\",\"symbol\":\"circle\"},\"mode\":\"markers\",\"name\":\"Affordable\",\"orientation\":\"v\",\"showlegend\":true,\"x\":[3936.7386646811683],\"xaxis\":\"x\",\"y\":[-0.6311333759680077],\"yaxis\":\"y\",\"type\":\"scatter\"},{\"alignmentgroup\":\"True\",\"bingroup\":\"y\",\"hovertemplate\":\"affordability=Affordable\\u003cbr\\u003estandardized_residuals=%{y}\\u003cbr\\u003ecount=%{x}\\u003cextra\\u003e\\u003c\\u002fextra\\u003e\",\"legendgroup\":\"Affordable\",\"marker\":{\"color\":\"#FFA15A\"},\"name\":\"Affordable\",\"offsetgroup\":\"Affordable\",\"opacity\":0.5,\"showlegend\":false,\"xaxis\":\"x2\",\"y\":[-0.6311333759680077],\"yaxis\":\"y2\",\"type\":\"histogram\"}],                        {\"template\":{\"data\":{\"histogram2dcontour\":[{\"type\":\"histogram2dcontour\",\"colorbar\":{\"outlinewidth\":0,\"ticks\":\"\"},\"colorscale\":[[0.0,\"#0d0887\"],[0.1111111111111111,\"#46039f\"],[0.2222222222222222,\"#7201a8\"],[0.3333333333333333,\"#9c179e\"],[0.4444444444444444,\"#bd3786\"],[0.5555555555555556,\"#d8576b\"],[0.6666666666666666,\"#ed7953\"],[0.7777777777777778,\"#fb9f3a\"],[0.8888888888888888,\"#fdca26\"],[1.0,\"#f0f921\"]]}],\"choropleth\":[{\"type\":\"choropleth\",\"colorbar\":{\"outlinewidth\":0,\"ticks\":\"\"}}],\"histogram2d\":[{\"type\":\"histogram2d\",\"colorbar\":{\"outlinewidth\":0,\"ticks\":\"\"},\"colorscale\":[[0.0,\"#0d0887\"],[0.1111111111111111,\"#46039f\"],[0.2222222222222222,\"#7201a8\"],[0.3333333333333333,\"#9c179e\"],[0.4444444444444444,\"#bd3786\"],[0.5555555555555556,\"#d8576b\"],[0.6666666666666666,\"#ed7953\"],[0.7777777777777778,\"#fb9f3a\"],[0.8888888888888888,\"#fdca26\"],[1.0,\"#f0f921\"]]}],\"heatmap\":[{\"type\":\"heatmap\",\"colorbar\":{\"outlinewidth\":0,\"ticks\":\"\"},\"colorscale\":[[0.0,\"#0d0887\"],[0.1111111111111111,\"#46039f\"],[0.2222222222222222,\"#7201a8\"],[0.3333333333333333,\"#9c179e\"],[0.4444444444444444,\"#bd3786\"],[0.5555555555555556,\"#d8576b\"],[0.6666666666666666,\"#ed7953\"],[0.7777777777777778,\"#fb9f3a\"],[0.8888888888888888,\"#fdca26\"],[1.0,\"#f0f921\"]]}],\"heatmapgl\":[{\"type\":\"heatmapgl\",\"colorbar\":{\"outlinewidth\":0,\"ticks\":\"\"},\"colorscale\":[[0.0,\"#0d0887\"],[0.1111111111111111,\"#46039f\"],[0.2222222222222222,\"#7201a8\"],[0.3333333333333333,\"#9c179e\"],[0.4444444444444444,\"#bd3786\"],[0.5555555555555556,\"#d8576b\"],[0.6666666666666666,\"#ed7953\"],[0.7777777777777778,\"#fb9f3a\"],[0.8888888888888888,\"#fdca26\"],[1.0,\"#f0f921\"]]}],\"contourcarpet\":[{\"type\":\"contourcarpet\",\"colorbar\":{\"outlinewidth\":0,\"ticks\":\"\"}}],\"contour\":[{\"type\":\"contour\",\"colorbar\":{\"outlinewidth\":0,\"ticks\":\"\"},\"colorscale\":[[0.0,\"#0d0887\"],[0.1111111111111111,\"#46039f\"],[0.2222222222222222,\"#7201a8\"],[0.3333333333333333,\"#9c179e\"],[0.4444444444444444,\"#bd3786\"],[0.5555555555555556,\"#d8576b\"],[0.6666666666666666,\"#ed7953\"],[0.7777777777777778,\"#fb9f3a\"],[0.8888888888888888,\"#fdca26\"],[1.0,\"#f0f921\"]]}],\"surface\":[{\"type\":\"surface\",\"colorbar\":{\"outlinewidth\":0,\"ticks\":\"\"},\"colorscale\":[[0.0,\"#0d0887\"],[0.1111111111111111,\"#46039f\"],[0.2222222222222222,\"#7201a8\"],[0.3333333333333333,\"#9c179e\"],[0.4444444444444444,\"#bd3786\"],[0.5555555555555556,\"#d8576b\"],[0.6666666666666666,\"#ed7953\"],[0.7777777777777778,\"#fb9f3a\"],[0.8888888888888888,\"#fdca26\"],[1.0,\"#f0f921\"]]}],\"mesh3d\":[{\"type\":\"mesh3d\",\"colorbar\":{\"outlinewidth\":0,\"ticks\":\"\"}}],\"scatter\":[{\"fillpattern\":{\"fillmode\":\"overlay\",\"size\":10,\"solidity\":0.2},\"type\":\"scatter\"}],\"parcoords\":[{\"type\":\"parcoords\",\"line\":{\"colorbar\":{\"outlinewidth\":0,\"ticks\":\"\"}}}],\"scatterpolargl\":[{\"type\":\"scatterpolargl\",\"marker\":{\"colorbar\":{\"outlinewidth\":0,\"ticks\":\"\"}}}],\"bar\":[{\"error_x\":{\"color\":\"#2a3f5f\"},\"error_y\":{\"color\":\"#2a3f5f\"},\"marker\":{\"line\":{\"color\":\"#E5ECF6\",\"width\":0.5},\"pattern\":{\"fillmode\":\"overlay\",\"size\":10,\"solidity\":0.2}},\"type\":\"bar\"}],\"scattergeo\":[{\"type\":\"scattergeo\",\"marker\":{\"colorbar\":{\"outlinewidth\":0,\"ticks\":\"\"}}}],\"scatterpolar\":[{\"type\":\"scatterpolar\",\"marker\":{\"colorbar\":{\"outlinewidth\":0,\"ticks\":\"\"}}}],\"histogram\":[{\"marker\":{\"pattern\":{\"fillmode\":\"overlay\",\"size\":10,\"solidity\":0.2}},\"type\":\"histogram\"}],\"scattergl\":[{\"type\":\"scattergl\",\"marker\":{\"colorbar\":{\"outlinewidth\":0,\"ticks\":\"\"}}}],\"scatter3d\":[{\"type\":\"scatter3d\",\"line\":{\"colorbar\":{\"outlinewidth\":0,\"ticks\":\"\"}},\"marker\":{\"colorbar\":{\"outlinewidth\":0,\"ticks\":\"\"}}}],\"scattermapbox\":[{\"type\":\"scattermapbox\",\"marker\":{\"colorbar\":{\"outlinewidth\":0,\"ticks\":\"\"}}}],\"scatterternary\":[{\"type\":\"scatterternary\",\"marker\":{\"colorbar\":{\"outlinewidth\":0,\"ticks\":\"\"}}}],\"scattercarpet\":[{\"type\":\"scattercarpet\",\"marker\":{\"colorbar\":{\"outlinewidth\":0,\"ticks\":\"\"}}}],\"carpet\":[{\"aaxis\":{\"endlinecolor\":\"#2a3f5f\",\"gridcolor\":\"white\",\"linecolor\":\"white\",\"minorgridcolor\":\"white\",\"startlinecolor\":\"#2a3f5f\"},\"baxis\":{\"endlinecolor\":\"#2a3f5f\",\"gridcolor\":\"white\",\"linecolor\":\"white\",\"minorgridcolor\":\"white\",\"startlinecolor\":\"#2a3f5f\"},\"type\":\"carpet\"}],\"table\":[{\"cells\":{\"fill\":{\"color\":\"#EBF0F8\"},\"line\":{\"color\":\"white\"}},\"header\":{\"fill\":{\"color\":\"#C8D4E3\"},\"line\":{\"color\":\"white\"}},\"type\":\"table\"}],\"barpolar\":[{\"marker\":{\"line\":{\"color\":\"#E5ECF6\",\"width\":0.5},\"pattern\":{\"fillmode\":\"overlay\",\"size\":10,\"solidity\":0.2}},\"type\":\"barpolar\"}],\"pie\":[{\"automargin\":true,\"type\":\"pie\"}]},\"layout\":{\"autotypenumbers\":\"strict\",\"colorway\":[\"#636efa\",\"#EF553B\",\"#00cc96\",\"#ab63fa\",\"#FFA15A\",\"#19d3f3\",\"#FF6692\",\"#B6E880\",\"#FF97FF\",\"#FECB52\"],\"font\":{\"color\":\"#2a3f5f\"},\"hovermode\":\"closest\",\"hoverlabel\":{\"align\":\"left\"},\"paper_bgcolor\":\"white\",\"plot_bgcolor\":\"#E5ECF6\",\"polar\":{\"bgcolor\":\"#E5ECF6\",\"angularaxis\":{\"gridcolor\":\"white\",\"linecolor\":\"white\",\"ticks\":\"\"},\"radialaxis\":{\"gridcolor\":\"white\",\"linecolor\":\"white\",\"ticks\":\"\"}},\"ternary\":{\"bgcolor\":\"#E5ECF6\",\"aaxis\":{\"gridcolor\":\"white\",\"linecolor\":\"white\",\"ticks\":\"\"},\"baxis\":{\"gridcolor\":\"white\",\"linecolor\":\"white\",\"ticks\":\"\"},\"caxis\":{\"gridcolor\":\"white\",\"linecolor\":\"white\",\"ticks\":\"\"}},\"coloraxis\":{\"colorbar\":{\"outlinewidth\":0,\"ticks\":\"\"}},\"colorscale\":{\"sequential\":[[0.0,\"#0d0887\"],[0.1111111111111111,\"#46039f\"],[0.2222222222222222,\"#7201a8\"],[0.3333333333333333,\"#9c179e\"],[0.4444444444444444,\"#bd3786\"],[0.5555555555555556,\"#d8576b\"],[0.6666666666666666,\"#ed7953\"],[0.7777777777777778,\"#fb9f3a\"],[0.8888888888888888,\"#fdca26\"],[1.0,\"#f0f921\"]],\"sequentialminus\":[[0.0,\"#0d0887\"],[0.1111111111111111,\"#46039f\"],[0.2222222222222222,\"#7201a8\"],[0.3333333333333333,\"#9c179e\"],[0.4444444444444444,\"#bd3786\"],[0.5555555555555556,\"#d8576b\"],[0.6666666666666666,\"#ed7953\"],[0.7777777777777778,\"#fb9f3a\"],[0.8888888888888888,\"#fdca26\"],[1.0,\"#f0f921\"]],\"diverging\":[[0,\"#8e0152\"],[0.1,\"#c51b7d\"],[0.2,\"#de77ae\"],[0.3,\"#f1b6da\"],[0.4,\"#fde0ef\"],[0.5,\"#f7f7f7\"],[0.6,\"#e6f5d0\"],[0.7,\"#b8e186\"],[0.8,\"#7fbc41\"],[0.9,\"#4d9221\"],[1,\"#276419\"]]},\"xaxis\":{\"gridcolor\":\"white\",\"linecolor\":\"white\",\"ticks\":\"\",\"title\":{\"standoff\":15},\"zerolinecolor\":\"white\",\"automargin\":true,\"zerolinewidth\":2},\"yaxis\":{\"gridcolor\":\"white\",\"linecolor\":\"white\",\"ticks\":\"\",\"title\":{\"standoff\":15},\"zerolinecolor\":\"white\",\"automargin\":true,\"zerolinewidth\":2},\"scene\":{\"xaxis\":{\"backgroundcolor\":\"#E5ECF6\",\"gridcolor\":\"white\",\"linecolor\":\"white\",\"showbackground\":true,\"ticks\":\"\",\"zerolinecolor\":\"white\",\"gridwidth\":2},\"yaxis\":{\"backgroundcolor\":\"#E5ECF6\",\"gridcolor\":\"white\",\"linecolor\":\"white\",\"showbackground\":true,\"ticks\":\"\",\"zerolinecolor\":\"white\",\"gridwidth\":2},\"zaxis\":{\"backgroundcolor\":\"#E5ECF6\",\"gridcolor\":\"white\",\"linecolor\":\"white\",\"showbackground\":true,\"ticks\":\"\",\"zerolinecolor\":\"white\",\"gridwidth\":2}},\"shapedefaults\":{\"line\":{\"color\":\"#2a3f5f\"}},\"annotationdefaults\":{\"arrowcolor\":\"#2a3f5f\",\"arrowhead\":0,\"arrowwidth\":1},\"geo\":{\"bgcolor\":\"white\",\"landcolor\":\"#E5ECF6\",\"subunitcolor\":\"white\",\"showland\":true,\"showlakes\":true,\"lakecolor\":\"white\"},\"title\":{\"x\":0.05},\"mapbox\":{\"style\":\"light\"}}},\"xaxis\":{\"anchor\":\"y\",\"domain\":[0.0,0.7363],\"title\":{\"text\":\"prediction_label\"}},\"yaxis\":{\"anchor\":\"x\",\"domain\":[0.0,1.0],\"title\":{\"text\":\"standardized_residuals\"}},\"xaxis2\":{\"anchor\":\"y2\",\"domain\":[0.7413,1.0],\"matches\":\"x2\",\"showticklabels\":false,\"showline\":false,\"ticks\":\"\",\"showgrid\":true},\"yaxis2\":{\"anchor\":\"x2\",\"domain\":[0.0,1.0],\"matches\":\"y\",\"showticklabels\":false,\"showgrid\":true},\"legend\":{\"title\":{\"text\":\"affordability\"},\"tracegroupgap\":0},\"title\":{\"text\":\"Residuals vs. Predictions\"},\"barmode\":\"overlay\"},                        {\"responsive\": true}                    ).then(function(){\n",
       "                            \n",
       "var gd = document.getElementById('727477db-50a1-4c6e-b2ca-1e1426bfa906');\n",
       "var x = new MutationObserver(function (mutations, observer) {{\n",
       "        var display = window.getComputedStyle(gd).display;\n",
       "        if (!display || display === 'none') {{\n",
       "            console.log([gd, 'removed!']);\n",
       "            Plotly.purge(gd);\n",
       "            observer.disconnect();\n",
       "        }}\n",
       "}});\n",
       "\n",
       "// Listen for the removal of the full notebook cells\n",
       "var notebookContainer = gd.closest('#notebook-container');\n",
       "if (notebookContainer) {{\n",
       "    x.observe(notebookContainer, {childList: true});\n",
       "}}\n",
       "\n",
       "// Listen for the clearing of the current output cell\n",
       "var outputEl = gd.closest('.output');\n",
       "if (outputEl) {{\n",
       "    x.observe(outputEl, {childList: true});\n",
       "}}\n",
       "\n",
       "                        })                };                });            </script>        </div>"
      ]
     },
     "metadata": {},
     "output_type": "display_data"
    }
   ],
   "source": [
    "fig = px.scatter(predictions,color = 'affordability', x='prediction_label', y='standardized_residuals', \n",
    "                title=\"Residuals vs. Predictions\",marginal_y=\"histogram\")\n",
    "fig.show()"
   ]
  },
  {
   "cell_type": "markdown",
   "id": "3e690537",
   "metadata": {},
   "source": [
    "##### Country Wealth"
   ]
  },
  {
   "cell_type": "code",
   "execution_count": 37,
   "id": "15966f92",
   "metadata": {},
   "outputs": [
    {
     "data": {
      "application/vnd.plotly.v1+json": {
       "config": {
        "plotlyServerURL": "https://plot.ly"
       },
       "data": [
        {
         "hovertemplate": "country_income_class=low-income<br>prediction_label=%{x}<br>standardized_residuals=%{y}<extra></extra>",
         "legendgroup": "low-income",
         "marker": {
          "color": "#636efa",
          "symbol": "circle"
         },
         "mode": "markers",
         "name": "low-income",
         "orientation": "v",
         "showlegend": true,
         "type": "scatter",
         "x": [
          2482.2830619851647,
          7388.191081478686,
          1979.8741327477676,
          2065.5264444368977,
          6096.061341346256,
          1777.680275181996,
          5200.160311920525,
          3269.2239719739205,
          2883.045672049242,
          2617.6308900204303,
          3827.3346397808227,
          4621.785794159872,
          2833.842569478166,
          6249.355140865052,
          6575.606697532389,
          3783.286190978206,
          2059.0657472790886,
          3592.456336520528,
          4756.547567218728,
          1259.63620965284,
          1206.005974067906,
          4727.133691387877,
          406.4617395659054,
          4977.762368403965,
          729.2844225315079,
          5157.891228822714,
          4096.513169856095,
          5075.590377240866,
          3245.441846585387,
          8225.311173120004,
          4772.229942085345,
          6559.918489890212,
          8080.041705695493,
          3466.6999640313206,
          3613.4996287091535,
          4746.447002246328,
          5165.424775506104,
          912.0220179828044,
          1821.769329785138,
          5412.035957789047,
          4760.94273679638,
          5322.078200315827,
          3782.420935586888,
          6134.28040109483,
          2438.451423316484,
          2728.4460264774402,
          4560.776430121206,
          9407.88658883917,
          1096.213204361878,
          2349.647985331764,
          1094.8046973180349,
          4838.85554786599,
          3942.64078079325,
          1803.9236968987036,
          633.4760371881277,
          3778.8627855899967,
          826.9656578744535,
          5247.724785682591,
          3368.115991814009,
          3464.497649052262,
          9928.47262034947
         ],
         "xaxis": "x",
         "y": [
          0.014028087298280766,
          -1.9950746900231588,
          -0.5580479893627763,
          0.026390211614531558,
          0.7850884529625389,
          -0.33447927336436195,
          -3.624475875497612,
          -1.1213501486932056,
          0.10666344217149838,
          -1.469772037018853,
          0.39986703833253023,
          -0.22318733272767227,
          0.6335687979602838,
          1.860757586277299,
          -0.24763008718674223,
          0.16825323274891632,
          -1.4339249025539826,
          2.821048060256218,
          -0.08883789107793623,
          0.16960528365615987,
          0.3309321671722339,
          -1.0429488982103725,
          -0.16452984164931203,
          -0.11932583774958516,
          0.43616273245342163,
          -1.1373830132538019,
          -0.4639222570610397,
          -0.45516734807517173,
          0.5791059397330451,
          2.525936893741019,
          -0.7779516181784696,
          1.2911709621157927,
          1.2141309998405798,
          -1.622592922556234,
          -1.7153408634061753,
          0.3123957965374435,
          -2.1761483133405273,
          0.34654680856831116,
          0.020635445449354983,
          -0.0845126137927295,
          -0.22797645408008585,
          -1.5133569933034403,
          -0.3821005987967942,
          -0.9589569442257169,
          -1.2447456917901651,
          0.025783390861831512,
          -1.2515903264722923,
          0.21616317670750504,
          -0.5078756412774245,
          1.0123208814081543,
          0.3874767732676011,
          1.5813853182927673,
          0.28180402459454507,
          0.14971062678807173,
          -0.4244788112013045,
          -0.6304545172337244,
          -0.4469979629643646,
          0.8535429803280707,
          -0.6942662361459122,
          -0.5463954691743691,
          0.8415233393727912
         ],
         "yaxis": "y"
        },
        {
         "alignmentgroup": "True",
         "bingroup": "y",
         "hovertemplate": "country_income_class=low-income<br>standardized_residuals=%{y}<br>count=%{x}<extra></extra>",
         "legendgroup": "low-income",
         "marker": {
          "color": "#636efa"
         },
         "name": "low-income",
         "offsetgroup": "low-income",
         "opacity": 0.5,
         "showlegend": false,
         "type": "histogram",
         "xaxis": "x2",
         "y": [
          0.014028087298280766,
          -1.9950746900231588,
          -0.5580479893627763,
          0.026390211614531558,
          0.7850884529625389,
          -0.33447927336436195,
          -3.624475875497612,
          -1.1213501486932056,
          0.10666344217149838,
          -1.469772037018853,
          0.39986703833253023,
          -0.22318733272767227,
          0.6335687979602838,
          1.860757586277299,
          -0.24763008718674223,
          0.16825323274891632,
          -1.4339249025539826,
          2.821048060256218,
          -0.08883789107793623,
          0.16960528365615987,
          0.3309321671722339,
          -1.0429488982103725,
          -0.16452984164931203,
          -0.11932583774958516,
          0.43616273245342163,
          -1.1373830132538019,
          -0.4639222570610397,
          -0.45516734807517173,
          0.5791059397330451,
          2.525936893741019,
          -0.7779516181784696,
          1.2911709621157927,
          1.2141309998405798,
          -1.622592922556234,
          -1.7153408634061753,
          0.3123957965374435,
          -2.1761483133405273,
          0.34654680856831116,
          0.020635445449354983,
          -0.0845126137927295,
          -0.22797645408008585,
          -1.5133569933034403,
          -0.3821005987967942,
          -0.9589569442257169,
          -1.2447456917901651,
          0.025783390861831512,
          -1.2515903264722923,
          0.21616317670750504,
          -0.5078756412774245,
          1.0123208814081543,
          0.3874767732676011,
          1.5813853182927673,
          0.28180402459454507,
          0.14971062678807173,
          -0.4244788112013045,
          -0.6304545172337244,
          -0.4469979629643646,
          0.8535429803280707,
          -0.6942662361459122,
          -0.5463954691743691,
          0.8415233393727912
         ],
         "yaxis": "y2"
        },
        {
         "hovertemplate": "country_income_class=high-income<br>prediction_label=%{x}<br>standardized_residuals=%{y}<extra></extra>",
         "legendgroup": "high-income",
         "marker": {
          "color": "#EF553B",
          "symbol": "circle"
         },
         "mode": "markers",
         "name": "high-income",
         "orientation": "v",
         "showlegend": true,
         "type": "scatter",
         "x": [
          676.6590762651746,
          2875.62157796489,
          792.7002029344275,
          2514.367235917442,
          878.0823793757291,
          640.3527219336985,
          581.7343128001517,
          403.8518513271085,
          4123.73976408086,
          1734.0926190959135,
          984.2640975464672,
          1116.1876820912864,
          458.3884109781797,
          3300.1968564263498,
          508.0758668716307,
          891.3924149678916,
          1001.9028521501931,
          3936.7386646811683,
          582.8897020782424,
          804.8699390289312,
          1862.087586936944,
          664.9404845450789,
          479.30626009987,
          715.2032772261257,
          566.4610231941356,
          846.1677060307894,
          634.6742707984018,
          532.1473843670333
         ],
         "xaxis": "x",
         "y": [
          -0.07611109239204475,
          -0.8588029401170943,
          0.5062924732987178,
          -0.6195810231294583,
          -0.3558899918390542,
          -0.0021914792895672323,
          0.9053497589900966,
          0.20450543722886894,
          -0.36189120722514095,
          -0.8002356004307543,
          0.5169902242780707,
          0.037509932738721,
          -0.04028798772121911,
          -1.8707439139395778,
          -0.06616183484346809,
          0.8430986240673864,
          -0.10029190154325678,
          -0.6311333759680077,
          -0.086283732286841,
          -0.2973926541433428,
          -0.5121593960522319,
          0.42896359947524604,
          0.0794395024917813,
          0.6096543264361073,
          -0.27510067416460504,
          0.0786827858140454,
          -0.28603193269471067,
          -0.1120540658882922
         ],
         "yaxis": "y"
        },
        {
         "alignmentgroup": "True",
         "bingroup": "y",
         "hovertemplate": "country_income_class=high-income<br>standardized_residuals=%{y}<br>count=%{x}<extra></extra>",
         "legendgroup": "high-income",
         "marker": {
          "color": "#EF553B"
         },
         "name": "high-income",
         "offsetgroup": "high-income",
         "opacity": 0.5,
         "showlegend": false,
         "type": "histogram",
         "xaxis": "x2",
         "y": [
          -0.07611109239204475,
          -0.8588029401170943,
          0.5062924732987178,
          -0.6195810231294583,
          -0.3558899918390542,
          -0.0021914792895672323,
          0.9053497589900966,
          0.20450543722886894,
          -0.36189120722514095,
          -0.8002356004307543,
          0.5169902242780707,
          0.037509932738721,
          -0.04028798772121911,
          -1.8707439139395778,
          -0.06616183484346809,
          0.8430986240673864,
          -0.10029190154325678,
          -0.6311333759680077,
          -0.086283732286841,
          -0.2973926541433428,
          -0.5121593960522319,
          0.42896359947524604,
          0.0794395024917813,
          0.6096543264361073,
          -0.27510067416460504,
          0.0786827858140454,
          -0.28603193269471067,
          -0.1120540658882922
         ],
         "yaxis": "y2"
        },
        {
         "hovertemplate": "country_income_class=upper-middle income<br>prediction_label=%{x}<br>standardized_residuals=%{y}<extra></extra>",
         "legendgroup": "upper-middle income",
         "marker": {
          "color": "#00cc96",
          "symbol": "circle"
         },
         "mode": "markers",
         "name": "upper-middle income",
         "orientation": "v",
         "showlegend": true,
         "type": "scatter",
         "x": [
          171.20393611151448,
          2028.3479499258067,
          700.5326938027852,
          394.76053349607633,
          612.4712222781559,
          4332.188771502049,
          1150.4456794333178,
          1871.9740795071232,
          1506.0835948690806,
          762.6010185194134,
          1320.1042750533047,
          2646.132976796051,
          402.3848364241312,
          976.6851882542585,
          1647.0906439737853,
          1554.6057241736344,
          1729.4684590426607,
          1126.2962765072896,
          503.8906630204192
         ],
         "xaxis": "x",
         "y": [
          0.2100506872764481,
          -0.6822342076502275,
          0.42626849004393585,
          -0.3212738569186042,
          1.5918457599386329,
          1.2616215643968538,
          0.12470082008681709,
          0.3484255128647243,
          2.2544184530437175,
          -0.08597600135012319,
          -0.4392574048988114,
          -0.4677685203660196,
          0.07995883746690838,
          -0.3597341167338534,
          -0.7998456559817766,
          0.4193823108400307,
          1.5443187060379011,
          0.47558294557158204,
          -0.04565688603403787
         ],
         "yaxis": "y"
        },
        {
         "alignmentgroup": "True",
         "bingroup": "y",
         "hovertemplate": "country_income_class=upper-middle income<br>standardized_residuals=%{y}<br>count=%{x}<extra></extra>",
         "legendgroup": "upper-middle income",
         "marker": {
          "color": "#00cc96"
         },
         "name": "upper-middle income",
         "offsetgroup": "upper-middle income",
         "opacity": 0.5,
         "showlegend": false,
         "type": "histogram",
         "xaxis": "x2",
         "y": [
          0.2100506872764481,
          -0.6822342076502275,
          0.42626849004393585,
          -0.3212738569186042,
          1.5918457599386329,
          1.2616215643968538,
          0.12470082008681709,
          0.3484255128647243,
          2.2544184530437175,
          -0.08597600135012319,
          -0.4392574048988114,
          -0.4677685203660196,
          0.07995883746690838,
          -0.3597341167338534,
          -0.7998456559817766,
          0.4193823108400307,
          1.5443187060379011,
          0.47558294557158204,
          -0.04565688603403787
         ],
         "yaxis": "y2"
        },
        {
         "hovertemplate": "country_income_class=lower-middle income<br>prediction_label=%{x}<br>standardized_residuals=%{y}<extra></extra>",
         "legendgroup": "lower-middle income",
         "marker": {
          "color": "#ab63fa",
          "symbol": "circle"
         },
         "mode": "markers",
         "name": "lower-middle income",
         "orientation": "v",
         "showlegend": true,
         "type": "scatter",
         "x": [
          6015.905058725337,
          7018.001880013335,
          2853.4256194126706,
          1175.4621444715053,
          5390.231244962277,
          4497.431076919598,
          445.19341896513436,
          3591.557919963636,
          1497.44530293582,
          5033.4700447392715,
          4063.496632012134,
          800.8266785965299,
          4878.815738993745,
          230.93785487866887,
          5239.506680858225,
          2937.147807883118,
          529.6190442228699,
          4130.109054034413,
          5508.517268110251,
          6266.66267195388,
          4735.160796029647,
          335.1372092400104,
          2206.9142333347086,
          2851.5994560018294,
          1155.9696154675917,
          4119.2780843216315,
          5051.826809094985,
          3995.6082745332874,
          8121.26859364456,
          6543.022487160274,
          117.11687950893491,
          4982.733554160343,
          2460.514404812042,
          1033.8314999332886,
          4831.237128382562,
          4192.7491018395085,
          855.5148044528878,
          2441.015934363943,
          3443.4004123294235,
          5246.711508076494,
          5288.02999221273,
          2253.7202673768816,
          7656.605519056892,
          3483.034575782369,
          4843.502588466406
         ],
         "xaxis": "x",
         "y": [
          -0.05067649923082095,
          0.2620562952540037,
          0.6253090408592545,
          -0.4434000396230318,
          0.04622291072391367,
          -0.5111586185456134,
          -0.22888147193424005,
          -0.49446767701343464,
          0.8735577682483987,
          -0.8819174238887308,
          0.34806249794258975,
          -0.4170763395137472,
          1.030357001996143,
          -0.16038107269227414,
          0.6352850948414683,
          0.956055327821501,
          -0.21797901393509553,
          0.0900372882466522,
          2.223551244927288,
          -0.32351277799688494,
          0.5128626598014283,
          0.07023878970404392,
          -0.12835878582128354,
          -1.072204041376626,
          0.12915529113968346,
          -0.8828793792790322,
          2.6441079681676043,
          0.3183323351502226,
          2.6682013369031785,
          0.7792757560369203,
          -0.13006727034178475,
          0.42082593826674836,
          -0.3098079460148733,
          -0.4131923609065068,
          -0.4673730813530482,
          -3.588780778256201,
          -0.17668991529924005,
          -0.2291074298422446,
          -1.565511606950026,
          1.1314434430869147,
          -0.28951598575047827,
          0.957078360001268,
          3.167050663279737,
          -0.1496556369741054,
          1.0741210025863626
         ],
         "yaxis": "y"
        },
        {
         "alignmentgroup": "True",
         "bingroup": "y",
         "hovertemplate": "country_income_class=lower-middle income<br>standardized_residuals=%{y}<br>count=%{x}<extra></extra>",
         "legendgroup": "lower-middle income",
         "marker": {
          "color": "#ab63fa"
         },
         "name": "lower-middle income",
         "offsetgroup": "lower-middle income",
         "opacity": 0.5,
         "showlegend": false,
         "type": "histogram",
         "xaxis": "x2",
         "y": [
          -0.05067649923082095,
          0.2620562952540037,
          0.6253090408592545,
          -0.4434000396230318,
          0.04622291072391367,
          -0.5111586185456134,
          -0.22888147193424005,
          -0.49446767701343464,
          0.8735577682483987,
          -0.8819174238887308,
          0.34806249794258975,
          -0.4170763395137472,
          1.030357001996143,
          -0.16038107269227414,
          0.6352850948414683,
          0.956055327821501,
          -0.21797901393509553,
          0.0900372882466522,
          2.223551244927288,
          -0.32351277799688494,
          0.5128626598014283,
          0.07023878970404392,
          -0.12835878582128354,
          -1.072204041376626,
          0.12915529113968346,
          -0.8828793792790322,
          2.6441079681676043,
          0.3183323351502226,
          2.6682013369031785,
          0.7792757560369203,
          -0.13006727034178475,
          0.42082593826674836,
          -0.3098079460148733,
          -0.4131923609065068,
          -0.4673730813530482,
          -3.588780778256201,
          -0.17668991529924005,
          -0.2291074298422446,
          -1.565511606950026,
          1.1314434430869147,
          -0.28951598575047827,
          0.957078360001268,
          3.167050663279737,
          -0.1496556369741054,
          1.0741210025863626
         ],
         "yaxis": "y2"
        }
       ],
       "layout": {
        "barmode": "overlay",
        "legend": {
         "title": {
          "text": "country_income_class"
         },
         "tracegroupgap": 0
        },
        "template": {
         "data": {
          "bar": [
           {
            "error_x": {
             "color": "#2a3f5f"
            },
            "error_y": {
             "color": "#2a3f5f"
            },
            "marker": {
             "line": {
              "color": "#E5ECF6",
              "width": 0.5
             },
             "pattern": {
              "fillmode": "overlay",
              "size": 10,
              "solidity": 0.2
             }
            },
            "type": "bar"
           }
          ],
          "barpolar": [
           {
            "marker": {
             "line": {
              "color": "#E5ECF6",
              "width": 0.5
             },
             "pattern": {
              "fillmode": "overlay",
              "size": 10,
              "solidity": 0.2
             }
            },
            "type": "barpolar"
           }
          ],
          "carpet": [
           {
            "aaxis": {
             "endlinecolor": "#2a3f5f",
             "gridcolor": "white",
             "linecolor": "white",
             "minorgridcolor": "white",
             "startlinecolor": "#2a3f5f"
            },
            "baxis": {
             "endlinecolor": "#2a3f5f",
             "gridcolor": "white",
             "linecolor": "white",
             "minorgridcolor": "white",
             "startlinecolor": "#2a3f5f"
            },
            "type": "carpet"
           }
          ],
          "choropleth": [
           {
            "colorbar": {
             "outlinewidth": 0,
             "ticks": ""
            },
            "type": "choropleth"
           }
          ],
          "contour": [
           {
            "colorbar": {
             "outlinewidth": 0,
             "ticks": ""
            },
            "colorscale": [
             [
              0,
              "#0d0887"
             ],
             [
              0.1111111111111111,
              "#46039f"
             ],
             [
              0.2222222222222222,
              "#7201a8"
             ],
             [
              0.3333333333333333,
              "#9c179e"
             ],
             [
              0.4444444444444444,
              "#bd3786"
             ],
             [
              0.5555555555555556,
              "#d8576b"
             ],
             [
              0.6666666666666666,
              "#ed7953"
             ],
             [
              0.7777777777777778,
              "#fb9f3a"
             ],
             [
              0.8888888888888888,
              "#fdca26"
             ],
             [
              1,
              "#f0f921"
             ]
            ],
            "type": "contour"
           }
          ],
          "contourcarpet": [
           {
            "colorbar": {
             "outlinewidth": 0,
             "ticks": ""
            },
            "type": "contourcarpet"
           }
          ],
          "heatmap": [
           {
            "colorbar": {
             "outlinewidth": 0,
             "ticks": ""
            },
            "colorscale": [
             [
              0,
              "#0d0887"
             ],
             [
              0.1111111111111111,
              "#46039f"
             ],
             [
              0.2222222222222222,
              "#7201a8"
             ],
             [
              0.3333333333333333,
              "#9c179e"
             ],
             [
              0.4444444444444444,
              "#bd3786"
             ],
             [
              0.5555555555555556,
              "#d8576b"
             ],
             [
              0.6666666666666666,
              "#ed7953"
             ],
             [
              0.7777777777777778,
              "#fb9f3a"
             ],
             [
              0.8888888888888888,
              "#fdca26"
             ],
             [
              1,
              "#f0f921"
             ]
            ],
            "type": "heatmap"
           }
          ],
          "heatmapgl": [
           {
            "colorbar": {
             "outlinewidth": 0,
             "ticks": ""
            },
            "colorscale": [
             [
              0,
              "#0d0887"
             ],
             [
              0.1111111111111111,
              "#46039f"
             ],
             [
              0.2222222222222222,
              "#7201a8"
             ],
             [
              0.3333333333333333,
              "#9c179e"
             ],
             [
              0.4444444444444444,
              "#bd3786"
             ],
             [
              0.5555555555555556,
              "#d8576b"
             ],
             [
              0.6666666666666666,
              "#ed7953"
             ],
             [
              0.7777777777777778,
              "#fb9f3a"
             ],
             [
              0.8888888888888888,
              "#fdca26"
             ],
             [
              1,
              "#f0f921"
             ]
            ],
            "type": "heatmapgl"
           }
          ],
          "histogram": [
           {
            "marker": {
             "pattern": {
              "fillmode": "overlay",
              "size": 10,
              "solidity": 0.2
             }
            },
            "type": "histogram"
           }
          ],
          "histogram2d": [
           {
            "colorbar": {
             "outlinewidth": 0,
             "ticks": ""
            },
            "colorscale": [
             [
              0,
              "#0d0887"
             ],
             [
              0.1111111111111111,
              "#46039f"
             ],
             [
              0.2222222222222222,
              "#7201a8"
             ],
             [
              0.3333333333333333,
              "#9c179e"
             ],
             [
              0.4444444444444444,
              "#bd3786"
             ],
             [
              0.5555555555555556,
              "#d8576b"
             ],
             [
              0.6666666666666666,
              "#ed7953"
             ],
             [
              0.7777777777777778,
              "#fb9f3a"
             ],
             [
              0.8888888888888888,
              "#fdca26"
             ],
             [
              1,
              "#f0f921"
             ]
            ],
            "type": "histogram2d"
           }
          ],
          "histogram2dcontour": [
           {
            "colorbar": {
             "outlinewidth": 0,
             "ticks": ""
            },
            "colorscale": [
             [
              0,
              "#0d0887"
             ],
             [
              0.1111111111111111,
              "#46039f"
             ],
             [
              0.2222222222222222,
              "#7201a8"
             ],
             [
              0.3333333333333333,
              "#9c179e"
             ],
             [
              0.4444444444444444,
              "#bd3786"
             ],
             [
              0.5555555555555556,
              "#d8576b"
             ],
             [
              0.6666666666666666,
              "#ed7953"
             ],
             [
              0.7777777777777778,
              "#fb9f3a"
             ],
             [
              0.8888888888888888,
              "#fdca26"
             ],
             [
              1,
              "#f0f921"
             ]
            ],
            "type": "histogram2dcontour"
           }
          ],
          "mesh3d": [
           {
            "colorbar": {
             "outlinewidth": 0,
             "ticks": ""
            },
            "type": "mesh3d"
           }
          ],
          "parcoords": [
           {
            "line": {
             "colorbar": {
              "outlinewidth": 0,
              "ticks": ""
             }
            },
            "type": "parcoords"
           }
          ],
          "pie": [
           {
            "automargin": true,
            "type": "pie"
           }
          ],
          "scatter": [
           {
            "fillpattern": {
             "fillmode": "overlay",
             "size": 10,
             "solidity": 0.2
            },
            "type": "scatter"
           }
          ],
          "scatter3d": [
           {
            "line": {
             "colorbar": {
              "outlinewidth": 0,
              "ticks": ""
             }
            },
            "marker": {
             "colorbar": {
              "outlinewidth": 0,
              "ticks": ""
             }
            },
            "type": "scatter3d"
           }
          ],
          "scattercarpet": [
           {
            "marker": {
             "colorbar": {
              "outlinewidth": 0,
              "ticks": ""
             }
            },
            "type": "scattercarpet"
           }
          ],
          "scattergeo": [
           {
            "marker": {
             "colorbar": {
              "outlinewidth": 0,
              "ticks": ""
             }
            },
            "type": "scattergeo"
           }
          ],
          "scattergl": [
           {
            "marker": {
             "colorbar": {
              "outlinewidth": 0,
              "ticks": ""
             }
            },
            "type": "scattergl"
           }
          ],
          "scattermapbox": [
           {
            "marker": {
             "colorbar": {
              "outlinewidth": 0,
              "ticks": ""
             }
            },
            "type": "scattermapbox"
           }
          ],
          "scatterpolar": [
           {
            "marker": {
             "colorbar": {
              "outlinewidth": 0,
              "ticks": ""
             }
            },
            "type": "scatterpolar"
           }
          ],
          "scatterpolargl": [
           {
            "marker": {
             "colorbar": {
              "outlinewidth": 0,
              "ticks": ""
             }
            },
            "type": "scatterpolargl"
           }
          ],
          "scatterternary": [
           {
            "marker": {
             "colorbar": {
              "outlinewidth": 0,
              "ticks": ""
             }
            },
            "type": "scatterternary"
           }
          ],
          "surface": [
           {
            "colorbar": {
             "outlinewidth": 0,
             "ticks": ""
            },
            "colorscale": [
             [
              0,
              "#0d0887"
             ],
             [
              0.1111111111111111,
              "#46039f"
             ],
             [
              0.2222222222222222,
              "#7201a8"
             ],
             [
              0.3333333333333333,
              "#9c179e"
             ],
             [
              0.4444444444444444,
              "#bd3786"
             ],
             [
              0.5555555555555556,
              "#d8576b"
             ],
             [
              0.6666666666666666,
              "#ed7953"
             ],
             [
              0.7777777777777778,
              "#fb9f3a"
             ],
             [
              0.8888888888888888,
              "#fdca26"
             ],
             [
              1,
              "#f0f921"
             ]
            ],
            "type": "surface"
           }
          ],
          "table": [
           {
            "cells": {
             "fill": {
              "color": "#EBF0F8"
             },
             "line": {
              "color": "white"
             }
            },
            "header": {
             "fill": {
              "color": "#C8D4E3"
             },
             "line": {
              "color": "white"
             }
            },
            "type": "table"
           }
          ]
         },
         "layout": {
          "annotationdefaults": {
           "arrowcolor": "#2a3f5f",
           "arrowhead": 0,
           "arrowwidth": 1
          },
          "autotypenumbers": "strict",
          "coloraxis": {
           "colorbar": {
            "outlinewidth": 0,
            "ticks": ""
           }
          },
          "colorscale": {
           "diverging": [
            [
             0,
             "#8e0152"
            ],
            [
             0.1,
             "#c51b7d"
            ],
            [
             0.2,
             "#de77ae"
            ],
            [
             0.3,
             "#f1b6da"
            ],
            [
             0.4,
             "#fde0ef"
            ],
            [
             0.5,
             "#f7f7f7"
            ],
            [
             0.6,
             "#e6f5d0"
            ],
            [
             0.7,
             "#b8e186"
            ],
            [
             0.8,
             "#7fbc41"
            ],
            [
             0.9,
             "#4d9221"
            ],
            [
             1,
             "#276419"
            ]
           ],
           "sequential": [
            [
             0,
             "#0d0887"
            ],
            [
             0.1111111111111111,
             "#46039f"
            ],
            [
             0.2222222222222222,
             "#7201a8"
            ],
            [
             0.3333333333333333,
             "#9c179e"
            ],
            [
             0.4444444444444444,
             "#bd3786"
            ],
            [
             0.5555555555555556,
             "#d8576b"
            ],
            [
             0.6666666666666666,
             "#ed7953"
            ],
            [
             0.7777777777777778,
             "#fb9f3a"
            ],
            [
             0.8888888888888888,
             "#fdca26"
            ],
            [
             1,
             "#f0f921"
            ]
           ],
           "sequentialminus": [
            [
             0,
             "#0d0887"
            ],
            [
             0.1111111111111111,
             "#46039f"
            ],
            [
             0.2222222222222222,
             "#7201a8"
            ],
            [
             0.3333333333333333,
             "#9c179e"
            ],
            [
             0.4444444444444444,
             "#bd3786"
            ],
            [
             0.5555555555555556,
             "#d8576b"
            ],
            [
             0.6666666666666666,
             "#ed7953"
            ],
            [
             0.7777777777777778,
             "#fb9f3a"
            ],
            [
             0.8888888888888888,
             "#fdca26"
            ],
            [
             1,
             "#f0f921"
            ]
           ]
          },
          "colorway": [
           "#636efa",
           "#EF553B",
           "#00cc96",
           "#ab63fa",
           "#FFA15A",
           "#19d3f3",
           "#FF6692",
           "#B6E880",
           "#FF97FF",
           "#FECB52"
          ],
          "font": {
           "color": "#2a3f5f"
          },
          "geo": {
           "bgcolor": "white",
           "lakecolor": "white",
           "landcolor": "#E5ECF6",
           "showlakes": true,
           "showland": true,
           "subunitcolor": "white"
          },
          "hoverlabel": {
           "align": "left"
          },
          "hovermode": "closest",
          "mapbox": {
           "style": "light"
          },
          "paper_bgcolor": "white",
          "plot_bgcolor": "#E5ECF6",
          "polar": {
           "angularaxis": {
            "gridcolor": "white",
            "linecolor": "white",
            "ticks": ""
           },
           "bgcolor": "#E5ECF6",
           "radialaxis": {
            "gridcolor": "white",
            "linecolor": "white",
            "ticks": ""
           }
          },
          "scene": {
           "xaxis": {
            "backgroundcolor": "#E5ECF6",
            "gridcolor": "white",
            "gridwidth": 2,
            "linecolor": "white",
            "showbackground": true,
            "ticks": "",
            "zerolinecolor": "white"
           },
           "yaxis": {
            "backgroundcolor": "#E5ECF6",
            "gridcolor": "white",
            "gridwidth": 2,
            "linecolor": "white",
            "showbackground": true,
            "ticks": "",
            "zerolinecolor": "white"
           },
           "zaxis": {
            "backgroundcolor": "#E5ECF6",
            "gridcolor": "white",
            "gridwidth": 2,
            "linecolor": "white",
            "showbackground": true,
            "ticks": "",
            "zerolinecolor": "white"
           }
          },
          "shapedefaults": {
           "line": {
            "color": "#2a3f5f"
           }
          },
          "ternary": {
           "aaxis": {
            "gridcolor": "white",
            "linecolor": "white",
            "ticks": ""
           },
           "baxis": {
            "gridcolor": "white",
            "linecolor": "white",
            "ticks": ""
           },
           "bgcolor": "#E5ECF6",
           "caxis": {
            "gridcolor": "white",
            "linecolor": "white",
            "ticks": ""
           }
          },
          "title": {
           "x": 0.05
          },
          "xaxis": {
           "automargin": true,
           "gridcolor": "white",
           "linecolor": "white",
           "ticks": "",
           "title": {
            "standoff": 15
           },
           "zerolinecolor": "white",
           "zerolinewidth": 2
          },
          "yaxis": {
           "automargin": true,
           "gridcolor": "white",
           "linecolor": "white",
           "ticks": "",
           "title": {
            "standoff": 15
           },
           "zerolinecolor": "white",
           "zerolinewidth": 2
          }
         }
        },
        "title": {
         "text": "Residuals vs. Predictions"
        },
        "xaxis": {
         "anchor": "y",
         "domain": [
          0,
          0.7363
         ],
         "title": {
          "text": "prediction_label"
         }
        },
        "xaxis2": {
         "anchor": "y2",
         "domain": [
          0.7413,
          1
         ],
         "matches": "x2",
         "showgrid": true,
         "showline": false,
         "showticklabels": false,
         "ticks": ""
        },
        "yaxis": {
         "anchor": "x",
         "domain": [
          0,
          1
         ],
         "title": {
          "text": "standardized_residuals"
         }
        },
        "yaxis2": {
         "anchor": "x2",
         "domain": [
          0,
          1
         ],
         "matches": "y",
         "showgrid": true,
         "showticklabels": false
        }
       }
      },
      "text/html": [
       "<div>                            <div id=\"55838a07-9062-461e-8df5-68060a6c5df3\" class=\"plotly-graph-div\" style=\"height:525px; width:100%;\"></div>            <script type=\"text/javascript\">                require([\"plotly\"], function(Plotly) {                    window.PLOTLYENV=window.PLOTLYENV || {};                                    if (document.getElementById(\"55838a07-9062-461e-8df5-68060a6c5df3\")) {                    Plotly.newPlot(                        \"55838a07-9062-461e-8df5-68060a6c5df3\",                        [{\"hovertemplate\":\"country_income_class=low-income\\u003cbr\\u003eprediction_label=%{x}\\u003cbr\\u003estandardized_residuals=%{y}\\u003cextra\\u003e\\u003c\\u002fextra\\u003e\",\"legendgroup\":\"low-income\",\"marker\":{\"color\":\"#636efa\",\"symbol\":\"circle\"},\"mode\":\"markers\",\"name\":\"low-income\",\"orientation\":\"v\",\"showlegend\":true,\"x\":[2482.2830619851647,7388.191081478686,1979.8741327477676,2065.5264444368977,6096.061341346256,1777.680275181996,5200.160311920525,3269.2239719739205,2883.045672049242,2617.6308900204303,3827.3346397808227,4621.785794159872,2833.842569478166,6249.355140865052,6575.606697532389,3783.286190978206,2059.0657472790886,3592.456336520528,4756.547567218728,1259.63620965284,1206.005974067906,4727.133691387877,406.4617395659054,4977.762368403965,729.2844225315079,5157.891228822714,4096.513169856095,5075.590377240866,3245.441846585387,8225.311173120004,4772.229942085345,6559.918489890212,8080.041705695493,3466.6999640313206,3613.4996287091535,4746.447002246328,5165.424775506104,912.0220179828044,1821.769329785138,5412.035957789047,4760.94273679638,5322.078200315827,3782.420935586888,6134.28040109483,2438.451423316484,2728.4460264774402,4560.776430121206,9407.88658883917,1096.213204361878,2349.647985331764,1094.8046973180349,4838.85554786599,3942.64078079325,1803.9236968987036,633.4760371881277,3778.8627855899967,826.9656578744535,5247.724785682591,3368.115991814009,3464.497649052262,9928.47262034947],\"xaxis\":\"x\",\"y\":[0.014028087298280766,-1.9950746900231588,-0.5580479893627763,0.026390211614531558,0.7850884529625389,-0.33447927336436195,-3.624475875497612,-1.1213501486932056,0.10666344217149838,-1.469772037018853,0.39986703833253023,-0.22318733272767227,0.6335687979602838,1.860757586277299,-0.24763008718674223,0.16825323274891632,-1.4339249025539826,2.821048060256218,-0.08883789107793623,0.16960528365615987,0.3309321671722339,-1.0429488982103725,-0.16452984164931203,-0.11932583774958516,0.43616273245342163,-1.1373830132538019,-0.4639222570610397,-0.45516734807517173,0.5791059397330451,2.525936893741019,-0.7779516181784696,1.2911709621157927,1.2141309998405798,-1.622592922556234,-1.7153408634061753,0.3123957965374435,-2.1761483133405273,0.34654680856831116,0.020635445449354983,-0.0845126137927295,-0.22797645408008585,-1.5133569933034403,-0.3821005987967942,-0.9589569442257169,-1.2447456917901651,0.025783390861831512,-1.2515903264722923,0.21616317670750504,-0.5078756412774245,1.0123208814081543,0.3874767732676011,1.5813853182927673,0.28180402459454507,0.14971062678807173,-0.4244788112013045,-0.6304545172337244,-0.4469979629643646,0.8535429803280707,-0.6942662361459122,-0.5463954691743691,0.8415233393727912],\"yaxis\":\"y\",\"type\":\"scatter\"},{\"alignmentgroup\":\"True\",\"bingroup\":\"y\",\"hovertemplate\":\"country_income_class=low-income\\u003cbr\\u003estandardized_residuals=%{y}\\u003cbr\\u003ecount=%{x}\\u003cextra\\u003e\\u003c\\u002fextra\\u003e\",\"legendgroup\":\"low-income\",\"marker\":{\"color\":\"#636efa\"},\"name\":\"low-income\",\"offsetgroup\":\"low-income\",\"opacity\":0.5,\"showlegend\":false,\"xaxis\":\"x2\",\"y\":[0.014028087298280766,-1.9950746900231588,-0.5580479893627763,0.026390211614531558,0.7850884529625389,-0.33447927336436195,-3.624475875497612,-1.1213501486932056,0.10666344217149838,-1.469772037018853,0.39986703833253023,-0.22318733272767227,0.6335687979602838,1.860757586277299,-0.24763008718674223,0.16825323274891632,-1.4339249025539826,2.821048060256218,-0.08883789107793623,0.16960528365615987,0.3309321671722339,-1.0429488982103725,-0.16452984164931203,-0.11932583774958516,0.43616273245342163,-1.1373830132538019,-0.4639222570610397,-0.45516734807517173,0.5791059397330451,2.525936893741019,-0.7779516181784696,1.2911709621157927,1.2141309998405798,-1.622592922556234,-1.7153408634061753,0.3123957965374435,-2.1761483133405273,0.34654680856831116,0.020635445449354983,-0.0845126137927295,-0.22797645408008585,-1.5133569933034403,-0.3821005987967942,-0.9589569442257169,-1.2447456917901651,0.025783390861831512,-1.2515903264722923,0.21616317670750504,-0.5078756412774245,1.0123208814081543,0.3874767732676011,1.5813853182927673,0.28180402459454507,0.14971062678807173,-0.4244788112013045,-0.6304545172337244,-0.4469979629643646,0.8535429803280707,-0.6942662361459122,-0.5463954691743691,0.8415233393727912],\"yaxis\":\"y2\",\"type\":\"histogram\"},{\"hovertemplate\":\"country_income_class=high-income\\u003cbr\\u003eprediction_label=%{x}\\u003cbr\\u003estandardized_residuals=%{y}\\u003cextra\\u003e\\u003c\\u002fextra\\u003e\",\"legendgroup\":\"high-income\",\"marker\":{\"color\":\"#EF553B\",\"symbol\":\"circle\"},\"mode\":\"markers\",\"name\":\"high-income\",\"orientation\":\"v\",\"showlegend\":true,\"x\":[676.6590762651746,2875.62157796489,792.7002029344275,2514.367235917442,878.0823793757291,640.3527219336985,581.7343128001517,403.8518513271085,4123.73976408086,1734.0926190959135,984.2640975464672,1116.1876820912864,458.3884109781797,3300.1968564263498,508.0758668716307,891.3924149678916,1001.9028521501931,3936.7386646811683,582.8897020782424,804.8699390289312,1862.087586936944,664.9404845450789,479.30626009987,715.2032772261257,566.4610231941356,846.1677060307894,634.6742707984018,532.1473843670333],\"xaxis\":\"x\",\"y\":[-0.07611109239204475,-0.8588029401170943,0.5062924732987178,-0.6195810231294583,-0.3558899918390542,-0.0021914792895672323,0.9053497589900966,0.20450543722886894,-0.36189120722514095,-0.8002356004307543,0.5169902242780707,0.037509932738721,-0.04028798772121911,-1.8707439139395778,-0.06616183484346809,0.8430986240673864,-0.10029190154325678,-0.6311333759680077,-0.086283732286841,-0.2973926541433428,-0.5121593960522319,0.42896359947524604,0.0794395024917813,0.6096543264361073,-0.27510067416460504,0.0786827858140454,-0.28603193269471067,-0.1120540658882922],\"yaxis\":\"y\",\"type\":\"scatter\"},{\"alignmentgroup\":\"True\",\"bingroup\":\"y\",\"hovertemplate\":\"country_income_class=high-income\\u003cbr\\u003estandardized_residuals=%{y}\\u003cbr\\u003ecount=%{x}\\u003cextra\\u003e\\u003c\\u002fextra\\u003e\",\"legendgroup\":\"high-income\",\"marker\":{\"color\":\"#EF553B\"},\"name\":\"high-income\",\"offsetgroup\":\"high-income\",\"opacity\":0.5,\"showlegend\":false,\"xaxis\":\"x2\",\"y\":[-0.07611109239204475,-0.8588029401170943,0.5062924732987178,-0.6195810231294583,-0.3558899918390542,-0.0021914792895672323,0.9053497589900966,0.20450543722886894,-0.36189120722514095,-0.8002356004307543,0.5169902242780707,0.037509932738721,-0.04028798772121911,-1.8707439139395778,-0.06616183484346809,0.8430986240673864,-0.10029190154325678,-0.6311333759680077,-0.086283732286841,-0.2973926541433428,-0.5121593960522319,0.42896359947524604,0.0794395024917813,0.6096543264361073,-0.27510067416460504,0.0786827858140454,-0.28603193269471067,-0.1120540658882922],\"yaxis\":\"y2\",\"type\":\"histogram\"},{\"hovertemplate\":\"country_income_class=upper-middle income\\u003cbr\\u003eprediction_label=%{x}\\u003cbr\\u003estandardized_residuals=%{y}\\u003cextra\\u003e\\u003c\\u002fextra\\u003e\",\"legendgroup\":\"upper-middle income\",\"marker\":{\"color\":\"#00cc96\",\"symbol\":\"circle\"},\"mode\":\"markers\",\"name\":\"upper-middle income\",\"orientation\":\"v\",\"showlegend\":true,\"x\":[171.20393611151448,2028.3479499258067,700.5326938027852,394.76053349607633,612.4712222781559,4332.188771502049,1150.4456794333178,1871.9740795071232,1506.0835948690806,762.6010185194134,1320.1042750533047,2646.132976796051,402.3848364241312,976.6851882542585,1647.0906439737853,1554.6057241736344,1729.4684590426607,1126.2962765072896,503.8906630204192],\"xaxis\":\"x\",\"y\":[0.2100506872764481,-0.6822342076502275,0.42626849004393585,-0.3212738569186042,1.5918457599386329,1.2616215643968538,0.12470082008681709,0.3484255128647243,2.2544184530437175,-0.08597600135012319,-0.4392574048988114,-0.4677685203660196,0.07995883746690838,-0.3597341167338534,-0.7998456559817766,0.4193823108400307,1.5443187060379011,0.47558294557158204,-0.04565688603403787],\"yaxis\":\"y\",\"type\":\"scatter\"},{\"alignmentgroup\":\"True\",\"bingroup\":\"y\",\"hovertemplate\":\"country_income_class=upper-middle income\\u003cbr\\u003estandardized_residuals=%{y}\\u003cbr\\u003ecount=%{x}\\u003cextra\\u003e\\u003c\\u002fextra\\u003e\",\"legendgroup\":\"upper-middle income\",\"marker\":{\"color\":\"#00cc96\"},\"name\":\"upper-middle income\",\"offsetgroup\":\"upper-middle income\",\"opacity\":0.5,\"showlegend\":false,\"xaxis\":\"x2\",\"y\":[0.2100506872764481,-0.6822342076502275,0.42626849004393585,-0.3212738569186042,1.5918457599386329,1.2616215643968538,0.12470082008681709,0.3484255128647243,2.2544184530437175,-0.08597600135012319,-0.4392574048988114,-0.4677685203660196,0.07995883746690838,-0.3597341167338534,-0.7998456559817766,0.4193823108400307,1.5443187060379011,0.47558294557158204,-0.04565688603403787],\"yaxis\":\"y2\",\"type\":\"histogram\"},{\"hovertemplate\":\"country_income_class=lower-middle income\\u003cbr\\u003eprediction_label=%{x}\\u003cbr\\u003estandardized_residuals=%{y}\\u003cextra\\u003e\\u003c\\u002fextra\\u003e\",\"legendgroup\":\"lower-middle income\",\"marker\":{\"color\":\"#ab63fa\",\"symbol\":\"circle\"},\"mode\":\"markers\",\"name\":\"lower-middle income\",\"orientation\":\"v\",\"showlegend\":true,\"x\":[6015.905058725337,7018.001880013335,2853.4256194126706,1175.4621444715053,5390.231244962277,4497.431076919598,445.19341896513436,3591.557919963636,1497.44530293582,5033.4700447392715,4063.496632012134,800.8266785965299,4878.815738993745,230.93785487866887,5239.506680858225,2937.147807883118,529.6190442228699,4130.109054034413,5508.517268110251,6266.66267195388,4735.160796029647,335.1372092400104,2206.9142333347086,2851.5994560018294,1155.9696154675917,4119.2780843216315,5051.826809094985,3995.6082745332874,8121.26859364456,6543.022487160274,117.11687950893491,4982.733554160343,2460.514404812042,1033.8314999332886,4831.237128382562,4192.7491018395085,855.5148044528878,2441.015934363943,3443.4004123294235,5246.711508076494,5288.02999221273,2253.7202673768816,7656.605519056892,3483.034575782369,4843.502588466406],\"xaxis\":\"x\",\"y\":[-0.05067649923082095,0.2620562952540037,0.6253090408592545,-0.4434000396230318,0.04622291072391367,-0.5111586185456134,-0.22888147193424005,-0.49446767701343464,0.8735577682483987,-0.8819174238887308,0.34806249794258975,-0.4170763395137472,1.030357001996143,-0.16038107269227414,0.6352850948414683,0.956055327821501,-0.21797901393509553,0.0900372882466522,2.223551244927288,-0.32351277799688494,0.5128626598014283,0.07023878970404392,-0.12835878582128354,-1.072204041376626,0.12915529113968346,-0.8828793792790322,2.6441079681676043,0.3183323351502226,2.6682013369031785,0.7792757560369203,-0.13006727034178475,0.42082593826674836,-0.3098079460148733,-0.4131923609065068,-0.4673730813530482,-3.588780778256201,-0.17668991529924005,-0.2291074298422446,-1.565511606950026,1.1314434430869147,-0.28951598575047827,0.957078360001268,3.167050663279737,-0.1496556369741054,1.0741210025863626],\"yaxis\":\"y\",\"type\":\"scatter\"},{\"alignmentgroup\":\"True\",\"bingroup\":\"y\",\"hovertemplate\":\"country_income_class=lower-middle income\\u003cbr\\u003estandardized_residuals=%{y}\\u003cbr\\u003ecount=%{x}\\u003cextra\\u003e\\u003c\\u002fextra\\u003e\",\"legendgroup\":\"lower-middle income\",\"marker\":{\"color\":\"#ab63fa\"},\"name\":\"lower-middle income\",\"offsetgroup\":\"lower-middle income\",\"opacity\":0.5,\"showlegend\":false,\"xaxis\":\"x2\",\"y\":[-0.05067649923082095,0.2620562952540037,0.6253090408592545,-0.4434000396230318,0.04622291072391367,-0.5111586185456134,-0.22888147193424005,-0.49446767701343464,0.8735577682483987,-0.8819174238887308,0.34806249794258975,-0.4170763395137472,1.030357001996143,-0.16038107269227414,0.6352850948414683,0.956055327821501,-0.21797901393509553,0.0900372882466522,2.223551244927288,-0.32351277799688494,0.5128626598014283,0.07023878970404392,-0.12835878582128354,-1.072204041376626,0.12915529113968346,-0.8828793792790322,2.6441079681676043,0.3183323351502226,2.6682013369031785,0.7792757560369203,-0.13006727034178475,0.42082593826674836,-0.3098079460148733,-0.4131923609065068,-0.4673730813530482,-3.588780778256201,-0.17668991529924005,-0.2291074298422446,-1.565511606950026,1.1314434430869147,-0.28951598575047827,0.957078360001268,3.167050663279737,-0.1496556369741054,1.0741210025863626],\"yaxis\":\"y2\",\"type\":\"histogram\"}],                        {\"template\":{\"data\":{\"histogram2dcontour\":[{\"type\":\"histogram2dcontour\",\"colorbar\":{\"outlinewidth\":0,\"ticks\":\"\"},\"colorscale\":[[0.0,\"#0d0887\"],[0.1111111111111111,\"#46039f\"],[0.2222222222222222,\"#7201a8\"],[0.3333333333333333,\"#9c179e\"],[0.4444444444444444,\"#bd3786\"],[0.5555555555555556,\"#d8576b\"],[0.6666666666666666,\"#ed7953\"],[0.7777777777777778,\"#fb9f3a\"],[0.8888888888888888,\"#fdca26\"],[1.0,\"#f0f921\"]]}],\"choropleth\":[{\"type\":\"choropleth\",\"colorbar\":{\"outlinewidth\":0,\"ticks\":\"\"}}],\"histogram2d\":[{\"type\":\"histogram2d\",\"colorbar\":{\"outlinewidth\":0,\"ticks\":\"\"},\"colorscale\":[[0.0,\"#0d0887\"],[0.1111111111111111,\"#46039f\"],[0.2222222222222222,\"#7201a8\"],[0.3333333333333333,\"#9c179e\"],[0.4444444444444444,\"#bd3786\"],[0.5555555555555556,\"#d8576b\"],[0.6666666666666666,\"#ed7953\"],[0.7777777777777778,\"#fb9f3a\"],[0.8888888888888888,\"#fdca26\"],[1.0,\"#f0f921\"]]}],\"heatmap\":[{\"type\":\"heatmap\",\"colorbar\":{\"outlinewidth\":0,\"ticks\":\"\"},\"colorscale\":[[0.0,\"#0d0887\"],[0.1111111111111111,\"#46039f\"],[0.2222222222222222,\"#7201a8\"],[0.3333333333333333,\"#9c179e\"],[0.4444444444444444,\"#bd3786\"],[0.5555555555555556,\"#d8576b\"],[0.6666666666666666,\"#ed7953\"],[0.7777777777777778,\"#fb9f3a\"],[0.8888888888888888,\"#fdca26\"],[1.0,\"#f0f921\"]]}],\"heatmapgl\":[{\"type\":\"heatmapgl\",\"colorbar\":{\"outlinewidth\":0,\"ticks\":\"\"},\"colorscale\":[[0.0,\"#0d0887\"],[0.1111111111111111,\"#46039f\"],[0.2222222222222222,\"#7201a8\"],[0.3333333333333333,\"#9c179e\"],[0.4444444444444444,\"#bd3786\"],[0.5555555555555556,\"#d8576b\"],[0.6666666666666666,\"#ed7953\"],[0.7777777777777778,\"#fb9f3a\"],[0.8888888888888888,\"#fdca26\"],[1.0,\"#f0f921\"]]}],\"contourcarpet\":[{\"type\":\"contourcarpet\",\"colorbar\":{\"outlinewidth\":0,\"ticks\":\"\"}}],\"contour\":[{\"type\":\"contour\",\"colorbar\":{\"outlinewidth\":0,\"ticks\":\"\"},\"colorscale\":[[0.0,\"#0d0887\"],[0.1111111111111111,\"#46039f\"],[0.2222222222222222,\"#7201a8\"],[0.3333333333333333,\"#9c179e\"],[0.4444444444444444,\"#bd3786\"],[0.5555555555555556,\"#d8576b\"],[0.6666666666666666,\"#ed7953\"],[0.7777777777777778,\"#fb9f3a\"],[0.8888888888888888,\"#fdca26\"],[1.0,\"#f0f921\"]]}],\"surface\":[{\"type\":\"surface\",\"colorbar\":{\"outlinewidth\":0,\"ticks\":\"\"},\"colorscale\":[[0.0,\"#0d0887\"],[0.1111111111111111,\"#46039f\"],[0.2222222222222222,\"#7201a8\"],[0.3333333333333333,\"#9c179e\"],[0.4444444444444444,\"#bd3786\"],[0.5555555555555556,\"#d8576b\"],[0.6666666666666666,\"#ed7953\"],[0.7777777777777778,\"#fb9f3a\"],[0.8888888888888888,\"#fdca26\"],[1.0,\"#f0f921\"]]}],\"mesh3d\":[{\"type\":\"mesh3d\",\"colorbar\":{\"outlinewidth\":0,\"ticks\":\"\"}}],\"scatter\":[{\"fillpattern\":{\"fillmode\":\"overlay\",\"size\":10,\"solidity\":0.2},\"type\":\"scatter\"}],\"parcoords\":[{\"type\":\"parcoords\",\"line\":{\"colorbar\":{\"outlinewidth\":0,\"ticks\":\"\"}}}],\"scatterpolargl\":[{\"type\":\"scatterpolargl\",\"marker\":{\"colorbar\":{\"outlinewidth\":0,\"ticks\":\"\"}}}],\"bar\":[{\"error_x\":{\"color\":\"#2a3f5f\"},\"error_y\":{\"color\":\"#2a3f5f\"},\"marker\":{\"line\":{\"color\":\"#E5ECF6\",\"width\":0.5},\"pattern\":{\"fillmode\":\"overlay\",\"size\":10,\"solidity\":0.2}},\"type\":\"bar\"}],\"scattergeo\":[{\"type\":\"scattergeo\",\"marker\":{\"colorbar\":{\"outlinewidth\":0,\"ticks\":\"\"}}}],\"scatterpolar\":[{\"type\":\"scatterpolar\",\"marker\":{\"colorbar\":{\"outlinewidth\":0,\"ticks\":\"\"}}}],\"histogram\":[{\"marker\":{\"pattern\":{\"fillmode\":\"overlay\",\"size\":10,\"solidity\":0.2}},\"type\":\"histogram\"}],\"scattergl\":[{\"type\":\"scattergl\",\"marker\":{\"colorbar\":{\"outlinewidth\":0,\"ticks\":\"\"}}}],\"scatter3d\":[{\"type\":\"scatter3d\",\"line\":{\"colorbar\":{\"outlinewidth\":0,\"ticks\":\"\"}},\"marker\":{\"colorbar\":{\"outlinewidth\":0,\"ticks\":\"\"}}}],\"scattermapbox\":[{\"type\":\"scattermapbox\",\"marker\":{\"colorbar\":{\"outlinewidth\":0,\"ticks\":\"\"}}}],\"scatterternary\":[{\"type\":\"scatterternary\",\"marker\":{\"colorbar\":{\"outlinewidth\":0,\"ticks\":\"\"}}}],\"scattercarpet\":[{\"type\":\"scattercarpet\",\"marker\":{\"colorbar\":{\"outlinewidth\":0,\"ticks\":\"\"}}}],\"carpet\":[{\"aaxis\":{\"endlinecolor\":\"#2a3f5f\",\"gridcolor\":\"white\",\"linecolor\":\"white\",\"minorgridcolor\":\"white\",\"startlinecolor\":\"#2a3f5f\"},\"baxis\":{\"endlinecolor\":\"#2a3f5f\",\"gridcolor\":\"white\",\"linecolor\":\"white\",\"minorgridcolor\":\"white\",\"startlinecolor\":\"#2a3f5f\"},\"type\":\"carpet\"}],\"table\":[{\"cells\":{\"fill\":{\"color\":\"#EBF0F8\"},\"line\":{\"color\":\"white\"}},\"header\":{\"fill\":{\"color\":\"#C8D4E3\"},\"line\":{\"color\":\"white\"}},\"type\":\"table\"}],\"barpolar\":[{\"marker\":{\"line\":{\"color\":\"#E5ECF6\",\"width\":0.5},\"pattern\":{\"fillmode\":\"overlay\",\"size\":10,\"solidity\":0.2}},\"type\":\"barpolar\"}],\"pie\":[{\"automargin\":true,\"type\":\"pie\"}]},\"layout\":{\"autotypenumbers\":\"strict\",\"colorway\":[\"#636efa\",\"#EF553B\",\"#00cc96\",\"#ab63fa\",\"#FFA15A\",\"#19d3f3\",\"#FF6692\",\"#B6E880\",\"#FF97FF\",\"#FECB52\"],\"font\":{\"color\":\"#2a3f5f\"},\"hovermode\":\"closest\",\"hoverlabel\":{\"align\":\"left\"},\"paper_bgcolor\":\"white\",\"plot_bgcolor\":\"#E5ECF6\",\"polar\":{\"bgcolor\":\"#E5ECF6\",\"angularaxis\":{\"gridcolor\":\"white\",\"linecolor\":\"white\",\"ticks\":\"\"},\"radialaxis\":{\"gridcolor\":\"white\",\"linecolor\":\"white\",\"ticks\":\"\"}},\"ternary\":{\"bgcolor\":\"#E5ECF6\",\"aaxis\":{\"gridcolor\":\"white\",\"linecolor\":\"white\",\"ticks\":\"\"},\"baxis\":{\"gridcolor\":\"white\",\"linecolor\":\"white\",\"ticks\":\"\"},\"caxis\":{\"gridcolor\":\"white\",\"linecolor\":\"white\",\"ticks\":\"\"}},\"coloraxis\":{\"colorbar\":{\"outlinewidth\":0,\"ticks\":\"\"}},\"colorscale\":{\"sequential\":[[0.0,\"#0d0887\"],[0.1111111111111111,\"#46039f\"],[0.2222222222222222,\"#7201a8\"],[0.3333333333333333,\"#9c179e\"],[0.4444444444444444,\"#bd3786\"],[0.5555555555555556,\"#d8576b\"],[0.6666666666666666,\"#ed7953\"],[0.7777777777777778,\"#fb9f3a\"],[0.8888888888888888,\"#fdca26\"],[1.0,\"#f0f921\"]],\"sequentialminus\":[[0.0,\"#0d0887\"],[0.1111111111111111,\"#46039f\"],[0.2222222222222222,\"#7201a8\"],[0.3333333333333333,\"#9c179e\"],[0.4444444444444444,\"#bd3786\"],[0.5555555555555556,\"#d8576b\"],[0.6666666666666666,\"#ed7953\"],[0.7777777777777778,\"#fb9f3a\"],[0.8888888888888888,\"#fdca26\"],[1.0,\"#f0f921\"]],\"diverging\":[[0,\"#8e0152\"],[0.1,\"#c51b7d\"],[0.2,\"#de77ae\"],[0.3,\"#f1b6da\"],[0.4,\"#fde0ef\"],[0.5,\"#f7f7f7\"],[0.6,\"#e6f5d0\"],[0.7,\"#b8e186\"],[0.8,\"#7fbc41\"],[0.9,\"#4d9221\"],[1,\"#276419\"]]},\"xaxis\":{\"gridcolor\":\"white\",\"linecolor\":\"white\",\"ticks\":\"\",\"title\":{\"standoff\":15},\"zerolinecolor\":\"white\",\"automargin\":true,\"zerolinewidth\":2},\"yaxis\":{\"gridcolor\":\"white\",\"linecolor\":\"white\",\"ticks\":\"\",\"title\":{\"standoff\":15},\"zerolinecolor\":\"white\",\"automargin\":true,\"zerolinewidth\":2},\"scene\":{\"xaxis\":{\"backgroundcolor\":\"#E5ECF6\",\"gridcolor\":\"white\",\"linecolor\":\"white\",\"showbackground\":true,\"ticks\":\"\",\"zerolinecolor\":\"white\",\"gridwidth\":2},\"yaxis\":{\"backgroundcolor\":\"#E5ECF6\",\"gridcolor\":\"white\",\"linecolor\":\"white\",\"showbackground\":true,\"ticks\":\"\",\"zerolinecolor\":\"white\",\"gridwidth\":2},\"zaxis\":{\"backgroundcolor\":\"#E5ECF6\",\"gridcolor\":\"white\",\"linecolor\":\"white\",\"showbackground\":true,\"ticks\":\"\",\"zerolinecolor\":\"white\",\"gridwidth\":2}},\"shapedefaults\":{\"line\":{\"color\":\"#2a3f5f\"}},\"annotationdefaults\":{\"arrowcolor\":\"#2a3f5f\",\"arrowhead\":0,\"arrowwidth\":1},\"geo\":{\"bgcolor\":\"white\",\"landcolor\":\"#E5ECF6\",\"subunitcolor\":\"white\",\"showland\":true,\"showlakes\":true,\"lakecolor\":\"white\"},\"title\":{\"x\":0.05},\"mapbox\":{\"style\":\"light\"}}},\"xaxis\":{\"anchor\":\"y\",\"domain\":[0.0,0.7363],\"title\":{\"text\":\"prediction_label\"}},\"yaxis\":{\"anchor\":\"x\",\"domain\":[0.0,1.0],\"title\":{\"text\":\"standardized_residuals\"}},\"xaxis2\":{\"anchor\":\"y2\",\"domain\":[0.7413,1.0],\"matches\":\"x2\",\"showticklabels\":false,\"showline\":false,\"ticks\":\"\",\"showgrid\":true},\"yaxis2\":{\"anchor\":\"x2\",\"domain\":[0.0,1.0],\"matches\":\"y\",\"showticklabels\":false,\"showgrid\":true},\"legend\":{\"title\":{\"text\":\"country_income_class\"},\"tracegroupgap\":0},\"title\":{\"text\":\"Residuals vs. Predictions\"},\"barmode\":\"overlay\"},                        {\"responsive\": true}                    ).then(function(){\n",
       "                            \n",
       "var gd = document.getElementById('55838a07-9062-461e-8df5-68060a6c5df3');\n",
       "var x = new MutationObserver(function (mutations, observer) {{\n",
       "        var display = window.getComputedStyle(gd).display;\n",
       "        if (!display || display === 'none') {{\n",
       "            console.log([gd, 'removed!']);\n",
       "            Plotly.purge(gd);\n",
       "            observer.disconnect();\n",
       "        }}\n",
       "}});\n",
       "\n",
       "// Listen for the removal of the full notebook cells\n",
       "var notebookContainer = gd.closest('#notebook-container');\n",
       "if (notebookContainer) {{\n",
       "    x.observe(notebookContainer, {childList: true});\n",
       "}}\n",
       "\n",
       "// Listen for the clearing of the current output cell\n",
       "var outputEl = gd.closest('.output');\n",
       "if (outputEl) {{\n",
       "    x.observe(outputEl, {childList: true});\n",
       "}}\n",
       "\n",
       "                        })                };                });            </script>        </div>"
      ]
     },
     "metadata": {},
     "output_type": "display_data"
    }
   ],
   "source": [
    "fig = px.scatter(predictions,color = 'country_income_class', x='prediction_label', y='standardized_residuals', \n",
    "                title=\"Residuals vs. Predictions\",marginal_y=\"histogram\")\n",
    "fig.show()"
   ]
  },
  {
   "cell_type": "markdown",
   "id": "d6a71334",
   "metadata": {},
   "source": [
    "#### Residuals Analysis Conclusion\n",
    "\n",
    "For each of the important features plotted above, the residuals were scatter around zero and show no discernable trend that would imply correlated error within my model."
   ]
  },
  {
   "cell_type": "markdown",
   "id": "32276990",
   "metadata": {},
   "source": [
    "### Overfitting Check\n",
    "\n",
    "Due to the size of the dataset used in this analysis, it was likely that overfitting would be an issue. Simply because the lack of data implies that outliers (noise) will have a more pronounced influence on the final model, at least in comparison the the remaining datapoints (signal). Since overfitting is typically associated with high variance and low bias. When you have a small dataset, the model can have high variance as it tries to adjust to every data point, leading to overfitting. As the data size grows, the variance typically reduces since the model can generalize better from larger patterns, and overfitting becomes less of a concern.\n",
    "\n",
    "Within this analysis, I've taken many steps to address overfitting in both the modelling process and the data refinement process. I'll do one final check to illustrate if the model is overfitting or not."
   ]
  },
  {
   "cell_type": "code",
   "execution_count": 50,
   "id": "5d8c162e",
   "metadata": {},
   "outputs": [
    {
     "data": {
      "text/html": [
       "<style type=\"text/css\">\n",
       "</style>\n",
       "<table id=\"T_73a08\">\n",
       "  <thead>\n",
       "    <tr>\n",
       "      <th class=\"blank level0\" >&nbsp;</th>\n",
       "      <th id=\"T_73a08_level0_col0\" class=\"col_heading level0 col0\" >Model</th>\n",
       "      <th id=\"T_73a08_level0_col1\" class=\"col_heading level0 col1\" >MAE</th>\n",
       "      <th id=\"T_73a08_level0_col2\" class=\"col_heading level0 col2\" >MSE</th>\n",
       "      <th id=\"T_73a08_level0_col3\" class=\"col_heading level0 col3\" >RMSE</th>\n",
       "      <th id=\"T_73a08_level0_col4\" class=\"col_heading level0 col4\" >R2</th>\n",
       "      <th id=\"T_73a08_level0_col5\" class=\"col_heading level0 col5\" >RMSLE</th>\n",
       "      <th id=\"T_73a08_level0_col6\" class=\"col_heading level0 col6\" >MAPE</th>\n",
       "    </tr>\n",
       "  </thead>\n",
       "  <tbody>\n",
       "    <tr>\n",
       "      <th id=\"T_73a08_level0_row0\" class=\"row_heading level0 row0\" >0</th>\n",
       "      <td id=\"T_73a08_row0_col0\" class=\"data row0 col0\" >Voting Regressor</td>\n",
       "      <td id=\"T_73a08_row0_col1\" class=\"data row0 col1\" >561.8417</td>\n",
       "      <td id=\"T_73a08_row0_col2\" class=\"data row0 col2\" >663014.8800</td>\n",
       "      <td id=\"T_73a08_row0_col3\" class=\"data row0 col3\" >814.2573</td>\n",
       "      <td id=\"T_73a08_row0_col4\" class=\"data row0 col4\" >0.8882</td>\n",
       "      <td id=\"T_73a08_row0_col5\" class=\"data row0 col5\" >0.3366</td>\n",
       "      <td id=\"T_73a08_row0_col6\" class=\"data row0 col6\" >0.2686</td>\n",
       "    </tr>\n",
       "  </tbody>\n",
       "</table>\n"
      ],
      "text/plain": [
       "<pandas.io.formats.style.Styler at 0x2b67c70a0>"
      ]
     },
     "metadata": {},
     "output_type": "display_data"
    }
   ],
   "source": [
    "predictions_user = predict_model(user_model, data=data_unseen)"
   ]
  },
  {
   "cell_type": "markdown",
   "id": "4308cece",
   "metadata": {},
   "source": [
    "The above prediction represents the performance of the final model (user_model) that has been trained on all of the data, minus a holdout set called (data_unseen). The predictions are being made for a completely unseen subset of my data. Previously in the model development, I had created 3 subsets of my data: 1) Training data, 2) Test data, and 3) unseen data.\n",
    "\n",
    "The purpose of this is to allow me to see how my model performs on data outside of the test/train set. Having a completely seperated dataset is an excellent control from which I can determine if my model is overfitting or not."
   ]
  },
  {
   "cell_type": "code",
   "execution_count": 54,
   "id": "9c5bd19e",
   "metadata": {},
   "outputs": [
    {
     "data": {
      "image/png": "[encoded data removed]",
      "text/plain": [
       "<PIL.PngImagePlugin.PngImageFile image mode=RGBA size=773x445>"
      ]
     },
     "execution_count": 54,
     "metadata": {},
     "output_type": "execute_result"
    }
   ],
   "source": [
    "image = Image.open(\"images/overfittingcheck.png\")\n",
    "image"
   ]
  },
  {
   "cell_type": "markdown",
   "id": "a4204823",
   "metadata": {},
   "source": [
    "The above image shows that mean evaluation metrics for the user model after it was trained on the training set and then evaluated on the test set. In comparison to the finalized model evaluation metrics, we can confirm that the finalized model is not overfit significantly as the performance on the test set nearly matches the performance on the holdout (unseen) set."
   ]
  },
  {
   "cell_type": "code",
   "execution_count": null,
   "id": "81083dfe",
   "metadata": {},
   "outputs": [],
   "source": []
  }
 ],
 "metadata": {
  "kernelspec": {
   "display_name": "Python 3 (ipykernel)",
   "language": "python",
   "name": "python3"
  },
  "language_info": {
   "codemirror_mode": {
    "name": "ipython",
    "version": 3
   },
   "file_extension": ".py",
   "mimetype": "text/x-python",
   "name": "python",
   "nbconvert_exporter": "python",
   "pygments_lexer": "ipython3",
   "version": "3.9.16"
  }
 },
 "nbformat": 4,
 "nbformat_minor": 5
}
