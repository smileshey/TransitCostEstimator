{
 "cells": [
  {
   "cell_type": "markdown",
   "id": "f7199453",
   "metadata": {},
   "source": [
    "### Model Validity & Evaluation\n",
    "\n",
    "The purpose of this sheet is to evaluate the best model that was generated in the previous sheets to determine if/where each model is inefficient and to verify the validity of the models."
   ]
  },
  {
   "cell_type": "markdown",
   "id": "cab43f52",
   "metadata": {},
   "source": [
    "### Library Imports"
   ]
  },
  {
   "cell_type": "code",
   "execution_count": 1,
   "id": "62229654",
   "metadata": {},
   "outputs": [
    {
     "name": "stderr",
     "output_type": "stream",
     "text": [
      "/var/folders/fm/_6kg8xkn3jz4slz27zwpqnhc0000gn/T/ipykernel_27976/609953442.py:18: UserWarning:\n",
      "\n",
      "\n",
      "The dash_html_components package is deprecated. Please replace\n",
      "`import dash_html_components as html` with `from dash import html`\n",
      "\n"
     ]
    }
   ],
   "source": [
    "import numpy as np\n",
    "from numpy.linalg import inv\n",
    "\n",
    "import pandas as pd\n",
    "import matplotlib.pyplot as plt\n",
    "import requests\n",
    "import pickle\n",
    "import time\n",
    "import seaborn as sns\n",
    "from PIL import Image\n",
    "import plotly.express as px\n",
    "import plotly.offline as pyo\n",
    "\n",
    "\n",
    "import dash\n",
    "from dash import Dash, dcc, html, Input, Output\n",
    "from dash import dcc\n",
    "import dash_html_components as html\n",
    "from dash.dependencies import Input, Output\n",
    "\n",
    "import pycaret\n",
    "from pycaret.regression import *\n",
    "from pycaret.regression import RegressionExperiment\n",
    "from pycaret.regression import get_config\n",
    "from pycaret.regression import save_model, load_model\n",
    "\n",
    "from pandas import json_normalize\n",
    "from sklearn.model_selection import train_test_split, GridSearchCV\n",
    "from sklearn.pipeline import Pipeline\n",
    "from sklearn.naive_bayes import MultinomialNB\n",
    "from sklearn.linear_model import LogisticRegression\n",
    "from sklearn.metrics import confusion_matrix, ConfusionMatrixDisplay, mean_squared_error,r2_score,mean_absolute_error\n",
    "from sklearn.feature_extraction.text import CountVectorizer, TfidfVectorizer\n",
    "from sklearn.preprocessing import StandardScaler,OneHotEncoder\n",
    "from sklearn.metrics import mean_squared_error\n"
   ]
  },
  {
   "cell_type": "code",
   "execution_count": 2,
   "id": "2f7c8ca4",
   "metadata": {},
   "outputs": [],
   "source": [
    "pd.set_option('display.max_columns', None)"
   ]
  },
  {
   "cell_type": "markdown",
   "id": "97d4df19",
   "metadata": {},
   "source": [
    "### Data Imports"
   ]
  },
  {
   "cell_type": "code",
   "execution_count": 3,
   "id": "8e626f9e",
   "metadata": {},
   "outputs": [],
   "source": [
    "with open('pickles/df_user.pkl', 'rb') as f:\n",
    "    df_user = pickle.load(f)\n",
    "with open('pickles/df_adj.pkl', 'rb') as f:\n",
    "    df_adj = pickle.load(f)\n",
    "with open('pickles/data_user.pkl', 'rb') as f:\n",
    "    data_user = pickle.load(f)\n",
    "with open('pickles/data_user_unseen.pkl', 'rb') as f:\n",
    "    data_user_unseen = pickle.load(f)\n",
    "with open('pickles/predictions_user.pkl', 'rb') as f:\n",
    "    predictions_user = pickle.load(f)"
   ]
  },
  {
   "cell_type": "markdown",
   "id": "b25704f1",
   "metadata": {},
   "source": [
    "### User Friendly Model Evaluation\n",
    "\n",
    "Within this subsection, I'll evaluate the model created in the previous sheet that used categorical features in place of the original continuous features. This model is intended to be more interpretable for the end user."
   ]
  },
  {
   "cell_type": "markdown",
   "id": "e98e3c7e",
   "metadata": {},
   "source": [
    "#### Data & Model Setup"
   ]
  },
  {
   "cell_type": "code",
   "execution_count": 4,
   "id": "5c9c6960",
   "metadata": {},
   "outputs": [],
   "source": [
    "data = data_user\n",
    "data_unseen = data_user_unseen\n",
    "predictions = predictions_user"
   ]
  },
  {
   "cell_type": "code",
   "execution_count": 5,
   "id": "691b2711",
   "metadata": {},
   "outputs": [],
   "source": [
    "data.reset_index(drop=True, inplace=True)\n",
    "data_unseen.reset_index(drop=True, inplace=True)"
   ]
  },
  {
   "cell_type": "code",
   "execution_count": 6,
   "id": "8afa43bb",
   "metadata": {},
   "outputs": [
    {
     "data": {
      "text/plain": [
       "(614, 23)"
      ]
     },
     "execution_count": 6,
     "metadata": {},
     "output_type": "execute_result"
    }
   ],
   "source": [
    "data.shape"
   ]
  },
  {
   "cell_type": "code",
   "execution_count": 7,
   "id": "2f8dc2c4",
   "metadata": {
    "scrolled": true
   },
   "outputs": [
    {
     "name": "stdout",
     "output_type": "stream",
     "text": [
      "Transformation Pipeline and Model Successfully Loaded\n"
     ]
    }
   ],
   "source": [
    "user_model = load_model('models/blended_user_tuned')"
   ]
  },
  {
   "cell_type": "markdown",
   "id": "c67f3874",
   "metadata": {},
   "source": [
    "### Residuals\n",
    "\n",
    "From the user model predictions generated on the last sheet, we'll use the predictions to prove the validity of the model."
   ]
  },
  {
   "cell_type": "code",
   "execution_count": 8,
   "id": "8b9c63ca",
   "metadata": {},
   "outputs": [],
   "source": [
    "predictions['Residuals'] = predictions['cost_real_2021'] - predictions['prediction_label']"
   ]
  },
  {
   "cell_type": "code",
   "execution_count": 9,
   "id": "76575570",
   "metadata": {},
   "outputs": [],
   "source": [
    "mean_res = np.mean(predictions['Residuals'])\n",
    "std_res = np.std(predictions['Residuals'])\n",
    "predictions['standardized_residuals'] = (predictions['Residuals'] - mean_res) / std_res"
   ]
  },
  {
   "cell_type": "code",
   "execution_count": 10,
   "id": "fbe8f03d",
   "metadata": {},
   "outputs": [
    {
     "data": {
      "text/html": [
       "<div>\n",
       "<style scoped>\n",
       "    .dataframe tbody tr th:only-of-type {\n",
       "        vertical-align: middle;\n",
       "    }\n",
       "\n",
       "    .dataframe tbody tr th {\n",
       "        vertical-align: top;\n",
       "    }\n",
       "\n",
       "    .dataframe thead th {\n",
       "        text-align: right;\n",
       "    }\n",
       "</style>\n",
       "<table border=\"1\" class=\"dataframe\">\n",
       "  <thead>\n",
       "    <tr style=\"text-align: right;\">\n",
       "      <th></th>\n",
       "      <th>length</th>\n",
       "      <th>tunnel</th>\n",
       "      <th>elevated</th>\n",
       "      <th>at_grade</th>\n",
       "      <th>stations</th>\n",
       "      <th>anglo?</th>\n",
       "      <th>duration</th>\n",
       "      <th>region</th>\n",
       "      <th>sub_region</th>\n",
       "      <th>soil_type</th>\n",
       "      <th>gauge_width</th>\n",
       "      <th>city_size</th>\n",
       "      <th>train_type</th>\n",
       "      <th>country_income_class</th>\n",
       "      <th>elevation_class</th>\n",
       "      <th>precipitation_type</th>\n",
       "      <th>temperature_category</th>\n",
       "      <th>affordability</th>\n",
       "      <th>union_prevalence</th>\n",
       "      <th>poverty_rate</th>\n",
       "      <th>city_density_type</th>\n",
       "      <th>country_density_type</th>\n",
       "      <th>cost_real_2021</th>\n",
       "      <th>prediction_label</th>\n",
       "      <th>Residuals</th>\n",
       "      <th>standardized_residuals</th>\n",
       "    </tr>\n",
       "  </thead>\n",
       "  <tbody>\n",
       "    <tr>\n",
       "      <th>0</th>\n",
       "      <td>1.700000</td>\n",
       "      <td>1.70</td>\n",
       "      <td>0.00</td>\n",
       "      <td>0.0</td>\n",
       "      <td>2.0</td>\n",
       "      <td>no</td>\n",
       "      <td>7.0</td>\n",
       "      <td>Europe</td>\n",
       "      <td>Southern Europe</td>\n",
       "      <td>Clay Dominant</td>\n",
       "      <td>standard</td>\n",
       "      <td>250k-500k (medium-small)</td>\n",
       "      <td>subway</td>\n",
       "      <td>high-income</td>\n",
       "      <td>Coastal</td>\n",
       "      <td>Low-Moderate-Rainfall</td>\n",
       "      <td>Mild/Moderate</td>\n",
       "      <td>Unaffordable</td>\n",
       "      <td>Most People are Part of a Labor Union</td>\n",
       "      <td>Little Poverty</td>\n",
       "      <td>Somewhat Dense</td>\n",
       "      <td>Very Dense</td>\n",
       "      <td>147.441574</td>\n",
       "      <td>102.170752</td>\n",
       "      <td>45.270822</td>\n",
       "      <td>0.107188</td>\n",
       "    </tr>\n",
       "    <tr>\n",
       "      <th>1</th>\n",
       "      <td>18.000000</td>\n",
       "      <td>18.00</td>\n",
       "      <td>0.00</td>\n",
       "      <td>0.0</td>\n",
       "      <td>7.0</td>\n",
       "      <td>no</td>\n",
       "      <td>3.0</td>\n",
       "      <td>Asia</td>\n",
       "      <td>Eastern Asia</td>\n",
       "      <td>River Valleys/Deltas (River Sediments)</td>\n",
       "      <td>standard</td>\n",
       "      <td>&gt;15M (Metropolis)</td>\n",
       "      <td>subway</td>\n",
       "      <td>low-income</td>\n",
       "      <td>Coastal</td>\n",
       "      <td>High-Moderate-Rainfall</td>\n",
       "      <td>Mild/Moderate</td>\n",
       "      <td>Very Unaffordable</td>\n",
       "      <td>Many Labor Unions</td>\n",
       "      <td>Very Impoverished</td>\n",
       "      <td>Very Dense</td>\n",
       "      <td>Dense</td>\n",
       "      <td>3958.597168</td>\n",
       "      <td>3909.770487</td>\n",
       "      <td>48.826681</td>\n",
       "      <td>0.110862</td>\n",
       "    </tr>\n",
       "    <tr>\n",
       "      <th>2</th>\n",
       "      <td>58.599998</td>\n",
       "      <td>38.09</td>\n",
       "      <td>20.51</td>\n",
       "      <td>0.0</td>\n",
       "      <td>13.0</td>\n",
       "      <td>no</td>\n",
       "      <td>3.0</td>\n",
       "      <td>Asia</td>\n",
       "      <td>Eastern Asia</td>\n",
       "      <td>River Valleys/Deltas (River Sediments)</td>\n",
       "      <td>standard</td>\n",
       "      <td>10M-15M (small Metropolis)</td>\n",
       "      <td>light rail</td>\n",
       "      <td>low-income</td>\n",
       "      <td>Mid-land</td>\n",
       "      <td>Moderate-Rainfall</td>\n",
       "      <td>Mild/Moderate</td>\n",
       "      <td>Very Unaffordable</td>\n",
       "      <td>Many Labor Unions</td>\n",
       "      <td>Very Impoverished</td>\n",
       "      <td>Dense</td>\n",
       "      <td>Dense</td>\n",
       "      <td>8861.254883</td>\n",
       "      <td>6920.920249</td>\n",
       "      <td>1940.334634</td>\n",
       "      <td>2.065296</td>\n",
       "    </tr>\n",
       "  </tbody>\n",
       "</table>\n",
       "</div>"
      ],
      "text/plain": [
       "      length  tunnel  elevated  at_grade  stations anglo?  duration  region  \\\n",
       "0   1.700000    1.70      0.00       0.0       2.0     no       7.0  Europe   \n",
       "1  18.000000   18.00      0.00       0.0       7.0     no       3.0    Asia   \n",
       "2  58.599998   38.09     20.51       0.0      13.0     no       3.0    Asia   \n",
       "\n",
       "        sub_region                               soil_type gauge_width  \\\n",
       "0  Southern Europe                           Clay Dominant    standard   \n",
       "1     Eastern Asia  River Valleys/Deltas (River Sediments)    standard   \n",
       "2     Eastern Asia  River Valleys/Deltas (River Sediments)    standard   \n",
       "\n",
       "                    city_size  train_type country_income_class  \\\n",
       "0    250k-500k (medium-small)      subway          high-income   \n",
       "1           >15M (Metropolis)      subway           low-income   \n",
       "2  10M-15M (small Metropolis)  light rail           low-income   \n",
       "\n",
       "  elevation_class      precipitation_type temperature_category  \\\n",
       "0         Coastal   Low-Moderate-Rainfall        Mild/Moderate   \n",
       "1         Coastal  High-Moderate-Rainfall        Mild/Moderate   \n",
       "2        Mid-land       Moderate-Rainfall        Mild/Moderate   \n",
       "\n",
       "       affordability                       union_prevalence  \\\n",
       "0       Unaffordable  Most People are Part of a Labor Union   \n",
       "1  Very Unaffordable                      Many Labor Unions   \n",
       "2  Very Unaffordable                      Many Labor Unions   \n",
       "\n",
       "        poverty_rate city_density_type country_density_type  cost_real_2021  \\\n",
       "0     Little Poverty    Somewhat Dense           Very Dense      147.441574   \n",
       "1  Very Impoverished        Very Dense                Dense     3958.597168   \n",
       "2  Very Impoverished             Dense                Dense     8861.254883   \n",
       "\n",
       "   prediction_label    Residuals  standardized_residuals  \n",
       "0        102.170752    45.270822                0.107188  \n",
       "1       3909.770487    48.826681                0.110862  \n",
       "2       6920.920249  1940.334634                2.065296  "
      ]
     },
     "execution_count": 10,
     "metadata": {},
     "output_type": "execute_result"
    }
   ],
   "source": [
    "predictions.head(3)"
   ]
  },
  {
   "cell_type": "code",
   "execution_count": 11,
   "id": "e1f4fea4",
   "metadata": {},
   "outputs": [],
   "source": [
    "fig = px.scatter(predictions,color = 'length', x='prediction_label', y='cost_real_2021', \n",
    "                 trendline=\"ols\", title=\"Predicted Vs. Actual\")\n",
    "fig.show()"
   ]
  },
  {
   "cell_type": "markdown",
   "id": "c581c638",
   "metadata": {},
   "source": [
    "In the above workflow I've generated predictions from the finalized model and then I plotted the predictions against the actual cost. I then color coded each point as a function of the length of that line.\n",
    "\n",
    "This plot tells me that projects that are more expensive are more difficult to model accurately. Additionally projects that are more expensive are more likely to include a longer line length."
   ]
  },
  {
   "cell_type": "code",
   "execution_count": null,
   "id": "bae2cf92",
   "metadata": {},
   "outputs": [
    {
     "data": {
      "application/vnd.plotly.v1+json": {
       "config": {
        "plotlyServerURL": "https://plot.ly"
       },
       "data": [
        {
         "hovertemplate": "prediction_label=%{x}<br>standardized_residuals=%{y}<br>length=%{marker.color}<extra></extra>",
         "legendgroup": "",
         "marker": {
          "color": [
           1.7,
           18,
           58.6,
           27.3,
           37,
           28.5,
           37.8,
           66.3,
           23.508,
           8.2,
           12.4,
           3.4,
           28.22,
           33.59,
           21.22,
           17,
           19.5,
           13.97,
           13.8,
           6.328,
           15.94,
           9.7,
           52.8,
           3.7,
           34.388,
           11.4,
           6.4,
           33.1,
           20,
           2.3,
           24,
           8.777,
           3.4,
           17.1,
           10,
           32.3,
           13.33,
           7.3,
           14.5,
           20,
           19.5,
           12.7,
           9.7,
           2.571,
           29.54,
           12.6,
           25.296,
           9.2,
           29.7,
           11.6,
           21.5,
           26.3,
           27,
           18.3,
           4.6,
           3.3,
           12.1,
           35.6,
           28.2,
           12.5,
           4.8,
           9.7,
           32.7,
           4,
           16.973,
           20.8,
           3.1,
           15.4,
           24.78,
           5.4,
           41.36,
           5.58,
           19.9,
           15,
           29.2,
           14,
           15,
           9.15,
           18.2,
           43.5,
           56,
           9.978,
           21,
           44.78,
           9.3,
           21.6,
           44.09,
           13.7,
           19.35,
           13.33,
           51.2,
           1.9,
           6.1,
           1.5,
           40.22,
           4.1,
           17.6,
           6.2,
           3.9,
           1.6,
           4.8,
           13.7,
           3.9,
           7.6,
           7.6,
           6.9,
           30.523,
           39,
           6.13,
           5.6,
           3.5,
           18.3,
           16.5,
           14.5,
           18.5,
           20.556,
           43.8,
           15.6,
           2.6,
           12,
           2.7,
           3.8,
           27.6,
           13,
           1.5,
           2.3,
           13.828,
           3.8,
           3.9,
           3.3,
           12.8,
           9.2,
           43.7,
           31.17,
           43.9,
           30.4,
           3.7,
           13.1,
           16.3,
           14,
           6.3,
           35.4,
           19.86,
           29.2,
           15.5,
           44.5,
           32.16,
           21,
           35.01,
           16.9,
           12.1,
           4.6,
           9.7
          ],
          "coloraxis": "coloraxis",
          "symbol": "circle"
         },
         "mode": "markers",
         "name": "",
         "orientation": "v",
         "showlegend": false,
         "type": "scatter",
         "x": [
          102.17075168523426,
          3909.7704871114506,
          6920.920249130324,
          5268.208083240094,
          6760.0144776494335,
          3858.3344491629646,
          2349.239536122795,
          5897.937025079799,
          4435.815738083743,
          711.2659472678106,
          2326.711862829154,
          940.3044486118208,
          4709.619327117738,
          5795.85333626691,
          4833.920243871619,
          2256.100621524896,
          1385.8422258624107,
          2043.780415821033,
          1160.8819740647707,
          1606.9072728099468,
          2737.385426378707,
          1984.646631822834,
          4849.963972840398,
          209.79699774698219,
          9016.523576894417,
          2399.9164016263617,
          1402.7258299293155,
          5023.398728304678,
          4121.339356974152,
          391.4180175035354,
          4830.721371054077,
          2432.598041184661,
          712.5899023329719,
          3536.359884333109,
          1552.4975766685916,
          4470.762016782005,
          2565.4349745077,
          1266.8177926573169,
          2967.6183700283163,
          1985.32896604746,
          4220.215656449808,
          1985.8244320984018,
          1177.09158857903,
          393.6873156975606,
          7268.441549259022,
          1956.4130366664212,
          4361.574067220727,
          2037.9995264626702,
          5196.764660166508,
          2735.0654534078085,
          4752.053710921977,
          4950.439051173166,
          5322.941802880912,
          3526.810497421209,
          892.525179472119,
          1072.587774437639,
          2477.568581498402,
          7065.36375651176,
          6869.34082113443,
          1978.6576126423251,
          1548.8883529177147,
          2263.260504176783,
          6016.382738518791,
          925.7097077597173,
          3099.15187940601,
          5077.396011182047,
          559.6767102363265,
          3857.1356519534484,
          5493.089427639241,
          1014.6010386514137,
          7892.356812536884,
          1667.91238774261,
          3654.6368023481477,
          2335.6024216704027,
          6908.393711495163,
          2129.8473303427772,
          2184.3856253609865,
          956.6154533581798,
          3880.605012259879,
          8427.881808975493,
          6623.072219015205,
          2020.4027677777926,
          4896.070492625913,
          8052.29400413316,
          798.6157997011635,
          4180.952361207191,
          7580.593788473695,
          2130.0428711993322,
          4021.556856527583,
          2370.148299614138,
          5554.047695999176,
          534.0442335517316,
          1467.9905068613652,
          242.8594913283437,
          7322.05767228667,
          704.8064894089756,
          3752.622115837646,
          1184.2029729575074,
          907.647891863835,
          293.30295869800506,
          511.25012182155956,
          796.1856004486104,
          393.67144367998924,
          1945.3430808330365,
          570.6932402499672,
          1610.4666637931011,
          5350.305891165746,
          6076.583043730741,
          1647.5365707111987,
          1027.7243429452365,
          874.6259587450197,
          3437.833188695071,
          3322.1522572646472,
          2516.580677316223,
          2991.1267819448067,
          4017.676583449817,
          5210.817013271293,
          3089.845584975268,
          530.0959489040278,
          2276.853202040228,
          529.3405672772227,
          1009.7698706434339,
          6080.43418189986,
          2252.438006613417,
          305.4627479109936,
          189.12254000875805,
          3054.8356663413815,
          953.4646920086276,
          929.8792767142431,
          532.4827107811745,
          2223.060479841364,
          1839.2855960419786,
          4880.219989336049,
          2390.5820074790686,
          7419.856289871027,
          3522.063720092318,
          1070.1224767475255,
          1951.678404739919,
          1114.7082816758182,
          2079.132961976022,
          1618.9009414356337,
          3323.212787077543,
          2121.4795657781824,
          5201.343920562827,
          2771.722335679372,
          8993.950610021906,
          7164.924471631425,
          3659.4499656355856,
          4254.139530042213,
          745.4051572946913,
          912.2279723028626,
          353.2571685693962,
          668.0533491689931
         ],
         "xaxis": "x",
         "y": [
          0.10718757984004063,
          0.11086173350641913,
          2.0652957993390353,
          -0.11140544785525983,
          -0.8457225120386594,
          0.6046542134687367,
          -0.5655264318227493,
          1.5664649530011903,
          -1.2415624129233056,
          -0.1933616346954348,
          2.144803818869288,
          0.12959416135494814,
          -3.0164742701569693,
          0.12695827078031854,
          0.7955879028561514,
          -0.849983062559264,
          -0.4157258535111172,
          -0.13109234426606745,
          0.19416865131480918,
          -0.4698905312918919,
          -1.2587918095111483,
          0.5635569241574094,
          4.171050187053832,
          0.08744701023847673,
          -0.8342342882418152,
          -1.1622533953429792,
          -0.6871435935266124,
          -0.047284043744483396,
          1.9044650926776512,
          -0.16639419407157024,
          0.2584397006690281,
          0.865204248894011,
          -0.10637569217584221,
          -0.08175671352877935,
          0.24437950589482976,
          2.619513276812443,
          0.0025816004918747934,
          -0.46500792249082595,
          0.2606008073520154,
          -1.2697822583585578,
          -0.7208270431355275,
          0.27150232890249143,
          0.158857161404513,
          -0.047074300987293705,
          0.1491570483615328,
          -0.06213943812243383,
          -0.7817328386361185,
          -0.3029452402087591,
          -0.15097933301366367,
          -0.163010758863268,
          -0.7965556945542388,
          0.9327347566248745,
          0.022922047986947438,
          -0.24605553818057577,
          -0.3066265274918681,
          -0.39991567639567277,
          0.011432170425808566,
          -0.762750471765021,
          0.7362560661902658,
          1.0551708669291096,
          0.7208426459222813,
          -0.12289745222728114,
          0.267034550242766,
          -0.026447850460265876,
          -0.5900997015828551,
          -0.4911822211201383,
          0.18624407601428858,
          -0.04238950291399794,
          -0.6413264696616281,
          -0.45188192274730365,
          1.7512096225860998,
          0.0594371846150378,
          -2.130048286657006,
          -0.4257259883128896,
          2.7821143405341573,
          -0.8469166891395016,
          -0.5239803879166212,
          0.5685772547996735,
          -2.256297098148558,
          -0.7803518294959371,
          -2.9729173560587703,
          -0.8121043393671602,
          -0.23511010026048043,
          -2.589717677876966,
          -0.20708040017746085,
          -1.8853385417258366,
          0.433241193754502,
          0.26805321106105906,
          -0.08261965302651933,
          0.20436501326851347,
          1.8033498194331006,
          -0.26337142992880996,
          0.3957061658797999,
          0.14705563369606162,
          0.4494984934670181,
          0.10738341907848155,
          0.053818527577218785,
          -0.3890428681078866,
          -0.4289947432626206,
          0.046552674813028404,
          -0.31920804408682324,
          -0.2087831486189691,
          0.3019562017242479,
          -0.47771081625618084,
          -0.045135919285423105,
          0.6790251313961008,
          0.9439845150264756,
          2.2198498405485276,
          -0.6405752941423192,
          0.3009800903324007,
          0.2439953470089954,
          -0.2906674117027766,
          -0.8560837817898093,
          -0.21814334935976062,
          -1.1753838458508226,
          0.338544548268741,
          0.6507843230068241,
          0.1254756601104307,
          0.024930971110588195,
          -0.4181793492777123,
          0.04335050487779172,
          1.0996286704927467,
          0.06401240395184254,
          -0.2165056908960581,
          0.18984355199605987,
          0.008573857949728194,
          0.7837843909066909,
          0.47691763602095505,
          -0.37664977694650476,
          -0.19744453381502403,
          -0.39789087818926117,
          0.19530780987473803,
          3.7514767424865485,
          0.6106396489707562,
          0.1184812129425209,
          -0.024742563847081497,
          -0.2029518320718047,
          -0.35949386361499547,
          -0.43790689325302995,
          -0.03825693207422545,
          1.512254169409071,
          -1.0913274876964663,
          0.13339953545093663,
          -0.05358846693352071,
          0.7728715609659034,
          1.4408125266407783,
          -1.3458269367592544,
          -1.6484812676918918,
          0.07856111937140106,
          0.07623203932735458,
          -0.3699402867415168,
          -0.1491836808600407,
          -0.1747198869047541
         ],
         "yaxis": "y"
        }
       ],
       "layout": {
        "coloraxis": {
         "colorbar": {
          "title": {
           "text": "length"
          }
         },
         "colorscale": [
          [
           0,
           "#0d0887"
          ],
          [
           0.1111111111111111,
           "#46039f"
          ],
          [
           0.2222222222222222,
           "#7201a8"
          ],
          [
           0.3333333333333333,
           "#9c179e"
          ],
          [
           0.4444444444444444,
           "#bd3786"
          ],
          [
           0.5555555555555556,
           "#d8576b"
          ],
          [
           0.6666666666666666,
           "#ed7953"
          ],
          [
           0.7777777777777778,
           "#fb9f3a"
          ],
          [
           0.8888888888888888,
           "#fdca26"
          ],
          [
           1,
           "#f0f921"
          ]
         ]
        },
        "legend": {
         "tracegroupgap": 0
        },
        "template": {
         "data": {
          "bar": [
           {
            "error_x": {
             "color": "#2a3f5f"
            },
            "error_y": {
             "color": "#2a3f5f"
            },
            "marker": {
             "line": {
              "color": "#E5ECF6",
              "width": 0.5
             },
             "pattern": {
              "fillmode": "overlay",
              "size": 10,
              "solidity": 0.2
             }
            },
            "type": "bar"
           }
          ],
          "barpolar": [
           {
            "marker": {
             "line": {
              "color": "#E5ECF6",
              "width": 0.5
             },
             "pattern": {
              "fillmode": "overlay",
              "size": 10,
              "solidity": 0.2
             }
            },
            "type": "barpolar"
           }
          ],
          "carpet": [
           {
            "aaxis": {
             "endlinecolor": "#2a3f5f",
             "gridcolor": "white",
             "linecolor": "white",
             "minorgridcolor": "white",
             "startlinecolor": "#2a3f5f"
            },
            "baxis": {
             "endlinecolor": "#2a3f5f",
             "gridcolor": "white",
             "linecolor": "white",
             "minorgridcolor": "white",
             "startlinecolor": "#2a3f5f"
            },
            "type": "carpet"
           }
          ],
          "choropleth": [
           {
            "colorbar": {
             "outlinewidth": 0,
             "ticks": ""
            },
            "type": "choropleth"
           }
          ],
          "contour": [
           {
            "colorbar": {
             "outlinewidth": 0,
             "ticks": ""
            },
            "colorscale": [
             [
              0,
              "#0d0887"
             ],
             [
              0.1111111111111111,
              "#46039f"
             ],
             [
              0.2222222222222222,
              "#7201a8"
             ],
             [
              0.3333333333333333,
              "#9c179e"
             ],
             [
              0.4444444444444444,
              "#bd3786"
             ],
             [
              0.5555555555555556,
              "#d8576b"
             ],
             [
              0.6666666666666666,
              "#ed7953"
             ],
             [
              0.7777777777777778,
              "#fb9f3a"
             ],
             [
              0.8888888888888888,
              "#fdca26"
             ],
             [
              1,
              "#f0f921"
             ]
            ],
            "type": "contour"
           }
          ],
          "contourcarpet": [
           {
            "colorbar": {
             "outlinewidth": 0,
             "ticks": ""
            },
            "type": "contourcarpet"
           }
          ],
          "heatmap": [
           {
            "colorbar": {
             "outlinewidth": 0,
             "ticks": ""
            },
            "colorscale": [
             [
              0,
              "#0d0887"
             ],
             [
              0.1111111111111111,
              "#46039f"
             ],
             [
              0.2222222222222222,
              "#7201a8"
             ],
             [
              0.3333333333333333,
              "#9c179e"
             ],
             [
              0.4444444444444444,
              "#bd3786"
             ],
             [
              0.5555555555555556,
              "#d8576b"
             ],
             [
              0.6666666666666666,
              "#ed7953"
             ],
             [
              0.7777777777777778,
              "#fb9f3a"
             ],
             [
              0.8888888888888888,
              "#fdca26"
             ],
             [
              1,
              "#f0f921"
             ]
            ],
            "type": "heatmap"
           }
          ],
          "heatmapgl": [
           {
            "colorbar": {
             "outlinewidth": 0,
             "ticks": ""
            },
            "colorscale": [
             [
              0,
              "#0d0887"
             ],
             [
              0.1111111111111111,
              "#46039f"
             ],
             [
              0.2222222222222222,
              "#7201a8"
             ],
             [
              0.3333333333333333,
              "#9c179e"
             ],
             [
              0.4444444444444444,
              "#bd3786"
             ],
             [
              0.5555555555555556,
              "#d8576b"
             ],
             [
              0.6666666666666666,
              "#ed7953"
             ],
             [
              0.7777777777777778,
              "#fb9f3a"
             ],
             [
              0.8888888888888888,
              "#fdca26"
             ],
             [
              1,
              "#f0f921"
             ]
            ],
            "type": "heatmapgl"
           }
          ],
          "histogram": [
           {
            "marker": {
             "pattern": {
              "fillmode": "overlay",
              "size": 10,
              "solidity": 0.2
             }
            },
            "type": "histogram"
           }
          ],
          "histogram2d": [
           {
            "colorbar": {
             "outlinewidth": 0,
             "ticks": ""
            },
            "colorscale": [
             [
              0,
              "#0d0887"
             ],
             [
              0.1111111111111111,
              "#46039f"
             ],
             [
              0.2222222222222222,
              "#7201a8"
             ],
             [
              0.3333333333333333,
              "#9c179e"
             ],
             [
              0.4444444444444444,
              "#bd3786"
             ],
             [
              0.5555555555555556,
              "#d8576b"
             ],
             [
              0.6666666666666666,
              "#ed7953"
             ],
             [
              0.7777777777777778,
              "#fb9f3a"
             ],
             [
              0.8888888888888888,
              "#fdca26"
             ],
             [
              1,
              "#f0f921"
             ]
            ],
            "type": "histogram2d"
           }
          ],
          "histogram2dcontour": [
           {
            "colorbar": {
             "outlinewidth": 0,
             "ticks": ""
            },
            "colorscale": [
             [
              0,
              "#0d0887"
             ],
             [
              0.1111111111111111,
              "#46039f"
             ],
             [
              0.2222222222222222,
              "#7201a8"
             ],
             [
              0.3333333333333333,
              "#9c179e"
             ],
             [
              0.4444444444444444,
              "#bd3786"
             ],
             [
              0.5555555555555556,
              "#d8576b"
             ],
             [
              0.6666666666666666,
              "#ed7953"
             ],
             [
              0.7777777777777778,
              "#fb9f3a"
             ],
             [
              0.8888888888888888,
              "#fdca26"
             ],
             [
              1,
              "#f0f921"
             ]
            ],
            "type": "histogram2dcontour"
           }
          ],
          "mesh3d": [
           {
            "colorbar": {
             "outlinewidth": 0,
             "ticks": ""
            },
            "type": "mesh3d"
           }
          ],
          "parcoords": [
           {
            "line": {
             "colorbar": {
              "outlinewidth": 0,
              "ticks": ""
             }
            },
            "type": "parcoords"
           }
          ],
          "pie": [
           {
            "automargin": true,
            "type": "pie"
           }
          ],
          "scatter": [
           {
            "fillpattern": {
             "fillmode": "overlay",
             "size": 10,
             "solidity": 0.2
            },
            "type": "scatter"
           }
          ],
          "scatter3d": [
           {
            "line": {
             "colorbar": {
              "outlinewidth": 0,
              "ticks": ""
             }
            },
            "marker": {
             "colorbar": {
              "outlinewidth": 0,
              "ticks": ""
             }
            },
            "type": "scatter3d"
           }
          ],
          "scattercarpet": [
           {
            "marker": {
             "colorbar": {
              "outlinewidth": 0,
              "ticks": ""
             }
            },
            "type": "scattercarpet"
           }
          ],
          "scattergeo": [
           {
            "marker": {
             "colorbar": {
              "outlinewidth": 0,
              "ticks": ""
             }
            },
            "type": "scattergeo"
           }
          ],
          "scattergl": [
           {
            "marker": {
             "colorbar": {
              "outlinewidth": 0,
              "ticks": ""
             }
            },
            "type": "scattergl"
           }
          ],
          "scattermapbox": [
           {
            "marker": {
             "colorbar": {
              "outlinewidth": 0,
              "ticks": ""
             }
            },
            "type": "scattermapbox"
           }
          ],
          "scatterpolar": [
           {
            "marker": {
             "colorbar": {
              "outlinewidth": 0,
              "ticks": ""
             }
            },
            "type": "scatterpolar"
           }
          ],
          "scatterpolargl": [
           {
            "marker": {
             "colorbar": {
              "outlinewidth": 0,
              "ticks": ""
             }
            },
            "type": "scatterpolargl"
           }
          ],
          "scatterternary": [
           {
            "marker": {
             "colorbar": {
              "outlinewidth": 0,
              "ticks": ""
             }
            },
            "type": "scatterternary"
           }
          ],
          "surface": [
           {
            "colorbar": {
             "outlinewidth": 0,
             "ticks": ""
            },
            "colorscale": [
             [
              0,
              "#0d0887"
             ],
             [
              0.1111111111111111,
              "#46039f"
             ],
             [
              0.2222222222222222,
              "#7201a8"
             ],
             [
              0.3333333333333333,
              "#9c179e"
             ],
             [
              0.4444444444444444,
              "#bd3786"
             ],
             [
              0.5555555555555556,
              "#d8576b"
             ],
             [
              0.6666666666666666,
              "#ed7953"
             ],
             [
              0.7777777777777778,
              "#fb9f3a"
             ],
             [
              0.8888888888888888,
              "#fdca26"
             ],
             [
              1,
              "#f0f921"
             ]
            ],
            "type": "surface"
           }
          ],
          "table": [
           {
            "cells": {
             "fill": {
              "color": "#EBF0F8"
             },
             "line": {
              "color": "white"
             }
            },
            "header": {
             "fill": {
              "color": "#C8D4E3"
             },
             "line": {
              "color": "white"
             }
            },
            "type": "table"
           }
          ]
         },
         "layout": {
          "annotationdefaults": {
           "arrowcolor": "#2a3f5f",
           "arrowhead": 0,
           "arrowwidth": 1
          },
          "autotypenumbers": "strict",
          "coloraxis": {
           "colorbar": {
            "outlinewidth": 0,
            "ticks": ""
           }
          },
          "colorscale": {
           "diverging": [
            [
             0,
             "#8e0152"
            ],
            [
             0.1,
             "#c51b7d"
            ],
            [
             0.2,
             "#de77ae"
            ],
            [
             0.3,
             "#f1b6da"
            ],
            [
             0.4,
             "#fde0ef"
            ],
            [
             0.5,
             "#f7f7f7"
            ],
            [
             0.6,
             "#e6f5d0"
            ],
            [
             0.7,
             "#b8e186"
            ],
            [
             0.8,
             "#7fbc41"
            ],
            [
             0.9,
             "#4d9221"
            ],
            [
             1,
             "#276419"
            ]
           ],
           "sequential": [
            [
             0,
             "#0d0887"
            ],
            [
             0.1111111111111111,
             "#46039f"
            ],
            [
             0.2222222222222222,
             "#7201a8"
            ],
            [
             0.3333333333333333,
             "#9c179e"
            ],
            [
             0.4444444444444444,
             "#bd3786"
            ],
            [
             0.5555555555555556,
             "#d8576b"
            ],
            [
             0.6666666666666666,
             "#ed7953"
            ],
            [
             0.7777777777777778,
             "#fb9f3a"
            ],
            [
             0.8888888888888888,
             "#fdca26"
            ],
            [
             1,
             "#f0f921"
            ]
           ],
           "sequentialminus": [
            [
             0,
             "#0d0887"
            ],
            [
             0.1111111111111111,
             "#46039f"
            ],
            [
             0.2222222222222222,
             "#7201a8"
            ],
            [
             0.3333333333333333,
             "#9c179e"
            ],
            [
             0.4444444444444444,
             "#bd3786"
            ],
            [
             0.5555555555555556,
             "#d8576b"
            ],
            [
             0.6666666666666666,
             "#ed7953"
            ],
            [
             0.7777777777777778,
             "#fb9f3a"
            ],
            [
             0.8888888888888888,
             "#fdca26"
            ],
            [
             1,
             "#f0f921"
            ]
           ]
          },
          "colorway": [
           "#636efa",
           "#EF553B",
           "#00cc96",
           "#ab63fa",
           "#FFA15A",
           "#19d3f3",
           "#FF6692",
           "#B6E880",
           "#FF97FF",
           "#FECB52"
          ],
          "font": {
           "color": "#2a3f5f"
          },
          "geo": {
           "bgcolor": "white",
           "lakecolor": "white",
           "landcolor": "#E5ECF6",
           "showlakes": true,
           "showland": true,
           "subunitcolor": "white"
          },
          "hoverlabel": {
           "align": "left"
          },
          "hovermode": "closest",
          "mapbox": {
           "style": "light"
          },
          "paper_bgcolor": "white",
          "plot_bgcolor": "#E5ECF6",
          "polar": {
           "angularaxis": {
            "gridcolor": "white",
            "linecolor": "white",
            "ticks": ""
           },
           "bgcolor": "#E5ECF6",
           "radialaxis": {
            "gridcolor": "white",
            "linecolor": "white",
            "ticks": ""
           }
          },
          "scene": {
           "xaxis": {
            "backgroundcolor": "#E5ECF6",
            "gridcolor": "white",
            "gridwidth": 2,
            "linecolor": "white",
            "showbackground": true,
            "ticks": "",
            "zerolinecolor": "white"
           },
           "yaxis": {
            "backgroundcolor": "#E5ECF6",
            "gridcolor": "white",
            "gridwidth": 2,
            "linecolor": "white",
            "showbackground": true,
            "ticks": "",
            "zerolinecolor": "white"
           },
           "zaxis": {
            "backgroundcolor": "#E5ECF6",
            "gridcolor": "white",
            "gridwidth": 2,
            "linecolor": "white",
            "showbackground": true,
            "ticks": "",
            "zerolinecolor": "white"
           }
          },
          "shapedefaults": {
           "line": {
            "color": "#2a3f5f"
           }
          },
          "ternary": {
           "aaxis": {
            "gridcolor": "white",
            "linecolor": "white",
            "ticks": ""
           },
           "baxis": {
            "gridcolor": "white",
            "linecolor": "white",
            "ticks": ""
           },
           "bgcolor": "#E5ECF6",
           "caxis": {
            "gridcolor": "white",
            "linecolor": "white",
            "ticks": ""
           }
          },
          "title": {
           "x": 0.05
          },
          "xaxis": {
           "automargin": true,
           "gridcolor": "white",
           "linecolor": "white",
           "ticks": "",
           "title": {
            "standoff": 15
           },
           "zerolinecolor": "white",
           "zerolinewidth": 2
          },
          "yaxis": {
           "automargin": true,
           "gridcolor": "white",
           "linecolor": "white",
           "ticks": "",
           "title": {
            "standoff": 15
           },
           "zerolinecolor": "white",
           "zerolinewidth": 2
          }
         }
        },
        "title": {
         "text": "Residuals vs. Predictions"
        },
        "xaxis": {
         "anchor": "y",
         "domain": [
          0,
          1
         ],
         "title": {
          "text": "prediction_label"
         }
        },
        "yaxis": {
         "anchor": "x",
         "domain": [
          0,
          1
         ],
         "title": {
          "text": "standardized_residuals"
         }
        }
       }
      },
      "text/html": [
       "<div>                            <div id=\"907a6abc-7c05-4260-b574-f028d05d8bd8\" class=\"plotly-graph-div\" style=\"height:525px; width:100%;\"></div>            <script type=\"text/javascript\">                require([\"plotly\"], function(Plotly) {                    window.PLOTLYENV=window.PLOTLYENV || {};                                    if (document.getElementById(\"907a6abc-7c05-4260-b574-f028d05d8bd8\")) {                    Plotly.newPlot(                        \"907a6abc-7c05-4260-b574-f028d05d8bd8\",                        [{\"hovertemplate\":\"prediction_label=%{x}\\u003cbr\\u003estandardized_residuals=%{y}\\u003cbr\\u003elength=%{marker.color}\\u003cextra\\u003e\\u003c\\u002fextra\\u003e\",\"legendgroup\":\"\",\"marker\":{\"color\":[1.7,18.0,58.6,27.3,37.0,28.5,37.8,66.3,23.508,8.2,12.4,3.4,28.22,33.59,21.22,17.0,19.5,13.97,13.8,6.328,15.94,9.7,52.8,3.7,34.388,11.4,6.4,33.1,20.0,2.3,24.0,8.777,3.4,17.1,10.0,32.3,13.33,7.3,14.5,20.0,19.5,12.7,9.7,2.571,29.54,12.6,25.296,9.2,29.7,11.6,21.5,26.3,27.0,18.3,4.6,3.3,12.1,35.6,28.2,12.5,4.8,9.7,32.7,4.0,16.973,20.8,3.1,15.4,24.78,5.4,41.36,5.58,19.9,15.0,29.2,14.0,15.0,9.15,18.2,43.5,56.0,9.978,21.0,44.78,9.3,21.6,44.09,13.7,19.35,13.33,51.2,1.9,6.1,1.5,40.22,4.1,17.6,6.2,3.9,1.6,4.8,13.7,3.9,7.6,7.6,6.9,30.523,39.0,6.13,5.6,3.5,18.3,16.5,14.5,18.5,20.556,43.8,15.6,2.6,12.0,2.7,3.8,27.6,13.0,1.5,2.3,13.828,3.8,3.9,3.3,12.8,9.2,43.7,31.17,43.9,30.4,3.7,13.1,16.3,14.0,6.3,35.4,19.86,29.2,15.5,44.5,32.16,21.0,35.01,16.9,12.1,4.6,9.7],\"coloraxis\":\"coloraxis\",\"symbol\":\"circle\"},\"mode\":\"markers\",\"name\":\"\",\"orientation\":\"v\",\"showlegend\":false,\"x\":[102.17075168523426,3909.7704871114506,6920.920249130324,5268.208083240094,6760.0144776494335,3858.3344491629646,2349.239536122795,5897.937025079799,4435.815738083743,711.2659472678106,2326.711862829154,940.3044486118208,4709.619327117738,5795.85333626691,4833.920243871619,2256.100621524896,1385.8422258624107,2043.780415821033,1160.8819740647707,1606.9072728099468,2737.385426378707,1984.646631822834,4849.963972840398,209.79699774698219,9016.523576894417,2399.9164016263617,1402.7258299293155,5023.398728304678,4121.339356974152,391.4180175035354,4830.721371054077,2432.598041184661,712.5899023329719,3536.359884333109,1552.4975766685916,4470.762016782005,2565.4349745077,1266.8177926573169,2967.6183700283163,1985.32896604746,4220.215656449808,1985.8244320984018,1177.09158857903,393.6873156975606,7268.441549259022,1956.4130366664212,4361.574067220727,2037.9995264626702,5196.764660166508,2735.0654534078085,4752.053710921977,4950.439051173166,5322.941802880912,3526.810497421209,892.525179472119,1072.587774437639,2477.568581498402,7065.36375651176,6869.34082113443,1978.6576126423251,1548.8883529177147,2263.260504176783,6016.382738518791,925.7097077597173,3099.15187940601,5077.396011182047,559.6767102363265,3857.1356519534484,5493.089427639241,1014.6010386514137,7892.356812536884,1667.91238774261,3654.6368023481477,2335.6024216704027,6908.393711495163,2129.8473303427772,2184.3856253609865,956.6154533581798,3880.605012259879,8427.881808975493,6623.072219015205,2020.4027677777926,4896.070492625913,8052.29400413316,798.6157997011635,4180.952361207191,7580.593788473695,2130.0428711993322,4021.556856527583,2370.148299614138,5554.047695999176,534.0442335517316,1467.9905068613652,242.8594913283437,7322.05767228667,704.8064894089756,3752.622115837646,1184.2029729575074,907.647891863835,293.30295869800506,511.25012182155956,796.1856004486104,393.67144367998924,1945.3430808330365,570.6932402499672,1610.4666637931011,5350.305891165746,6076.583043730741,1647.5365707111987,1027.7243429452365,874.6259587450197,3437.833188695071,3322.1522572646472,2516.580677316223,2991.1267819448067,4017.676583449817,5210.817013271293,3089.845584975268,530.0959489040278,2276.853202040228,529.3405672772227,1009.7698706434339,6080.43418189986,2252.438006613417,305.4627479109936,189.12254000875805,3054.8356663413815,953.4646920086276,929.8792767142431,532.4827107811745,2223.060479841364,1839.2855960419786,4880.219989336049,2390.5820074790686,7419.856289871027,3522.063720092318,1070.1224767475255,1951.678404739919,1114.7082816758182,2079.132961976022,1618.9009414356337,3323.212787077543,2121.4795657781824,5201.343920562827,2771.722335679372,8993.950610021906,7164.924471631425,3659.4499656355856,4254.139530042213,745.4051572946913,912.2279723028626,353.2571685693962,668.0533491689931],\"xaxis\":\"x\",\"y\":[0.10718757984004063,0.11086173350641913,2.0652957993390353,-0.11140544785525983,-0.8457225120386594,0.6046542134687367,-0.5655264318227493,1.5664649530011903,-1.2415624129233056,-0.1933616346954348,2.144803818869288,0.12959416135494814,-3.0164742701569693,0.12695827078031854,0.7955879028561514,-0.849983062559264,-0.4157258535111172,-0.13109234426606745,0.19416865131480918,-0.4698905312918919,-1.2587918095111483,0.5635569241574094,4.171050187053832,0.08744701023847673,-0.8342342882418152,-1.1622533953429792,-0.6871435935266124,-0.047284043744483396,1.9044650926776512,-0.16639419407157024,0.2584397006690281,0.865204248894011,-0.10637569217584221,-0.08175671352877935,0.24437950589482976,2.619513276812443,0.0025816004918747934,-0.46500792249082595,0.2606008073520154,-1.2697822583585578,-0.7208270431355275,0.27150232890249143,0.158857161404513,-0.047074300987293705,0.1491570483615328,-0.06213943812243383,-0.7817328386361185,-0.3029452402087591,-0.15097933301366367,-0.163010758863268,-0.7965556945542388,0.9327347566248745,0.022922047986947438,-0.24605553818057577,-0.3066265274918681,-0.39991567639567277,0.011432170425808566,-0.762750471765021,0.7362560661902658,1.0551708669291096,0.7208426459222813,-0.12289745222728114,0.267034550242766,-0.026447850460265876,-0.5900997015828551,-0.4911822211201383,0.18624407601428858,-0.04238950291399794,-0.6413264696616281,-0.45188192274730365,1.7512096225860998,0.0594371846150378,-2.130048286657006,-0.4257259883128896,2.7821143405341573,-0.8469166891395016,-0.5239803879166212,0.5685772547996735,-2.256297098148558,-0.7803518294959371,-2.9729173560587703,-0.8121043393671602,-0.23511010026048043,-2.589717677876966,-0.20708040017746085,-1.8853385417258366,0.433241193754502,0.26805321106105906,-0.08261965302651933,0.20436501326851347,1.8033498194331006,-0.26337142992880996,0.3957061658797999,0.14705563369606162,0.4494984934670181,0.10738341907848155,0.053818527577218785,-0.3890428681078866,-0.4289947432626206,0.046552674813028404,-0.31920804408682324,-0.2087831486189691,0.3019562017242479,-0.47771081625618084,-0.045135919285423105,0.6790251313961008,0.9439845150264756,2.2198498405485276,-0.6405752941423192,0.3009800903324007,0.2439953470089954,-0.2906674117027766,-0.8560837817898093,-0.21814334935976062,-1.1753838458508226,0.338544548268741,0.6507843230068241,0.1254756601104307,0.024930971110588195,-0.4181793492777123,0.04335050487779172,1.0996286704927467,0.06401240395184254,-0.2165056908960581,0.18984355199605987,0.008573857949728194,0.7837843909066909,0.47691763602095505,-0.37664977694650476,-0.19744453381502403,-0.39789087818926117,0.19530780987473803,3.7514767424865485,0.6106396489707562,0.1184812129425209,-0.024742563847081497,-0.2029518320718047,-0.35949386361499547,-0.43790689325302995,-0.03825693207422545,1.512254169409071,-1.0913274876964663,0.13339953545093663,-0.05358846693352071,0.7728715609659034,1.4408125266407783,-1.3458269367592544,-1.6484812676918918,0.07856111937140106,0.07623203932735458,-0.3699402867415168,-0.1491836808600407,-0.1747198869047541],\"yaxis\":\"y\",\"type\":\"scatter\"}],                        {\"template\":{\"data\":{\"histogram2dcontour\":[{\"type\":\"histogram2dcontour\",\"colorbar\":{\"outlinewidth\":0,\"ticks\":\"\"},\"colorscale\":[[0.0,\"#0d0887\"],[0.1111111111111111,\"#46039f\"],[0.2222222222222222,\"#7201a8\"],[0.3333333333333333,\"#9c179e\"],[0.4444444444444444,\"#bd3786\"],[0.5555555555555556,\"#d8576b\"],[0.6666666666666666,\"#ed7953\"],[0.7777777777777778,\"#fb9f3a\"],[0.8888888888888888,\"#fdca26\"],[1.0,\"#f0f921\"]]}],\"choropleth\":[{\"type\":\"choropleth\",\"colorbar\":{\"outlinewidth\":0,\"ticks\":\"\"}}],\"histogram2d\":[{\"type\":\"histogram2d\",\"colorbar\":{\"outlinewidth\":0,\"ticks\":\"\"},\"colorscale\":[[0.0,\"#0d0887\"],[0.1111111111111111,\"#46039f\"],[0.2222222222222222,\"#7201a8\"],[0.3333333333333333,\"#9c179e\"],[0.4444444444444444,\"#bd3786\"],[0.5555555555555556,\"#d8576b\"],[0.6666666666666666,\"#ed7953\"],[0.7777777777777778,\"#fb9f3a\"],[0.8888888888888888,\"#fdca26\"],[1.0,\"#f0f921\"]]}],\"heatmap\":[{\"type\":\"heatmap\",\"colorbar\":{\"outlinewidth\":0,\"ticks\":\"\"},\"colorscale\":[[0.0,\"#0d0887\"],[0.1111111111111111,\"#46039f\"],[0.2222222222222222,\"#7201a8\"],[0.3333333333333333,\"#9c179e\"],[0.4444444444444444,\"#bd3786\"],[0.5555555555555556,\"#d8576b\"],[0.6666666666666666,\"#ed7953\"],[0.7777777777777778,\"#fb9f3a\"],[0.8888888888888888,\"#fdca26\"],[1.0,\"#f0f921\"]]}],\"heatmapgl\":[{\"type\":\"heatmapgl\",\"colorbar\":{\"outlinewidth\":0,\"ticks\":\"\"},\"colorscale\":[[0.0,\"#0d0887\"],[0.1111111111111111,\"#46039f\"],[0.2222222222222222,\"#7201a8\"],[0.3333333333333333,\"#9c179e\"],[0.4444444444444444,\"#bd3786\"],[0.5555555555555556,\"#d8576b\"],[0.6666666666666666,\"#ed7953\"],[0.7777777777777778,\"#fb9f3a\"],[0.8888888888888888,\"#fdca26\"],[1.0,\"#f0f921\"]]}],\"contourcarpet\":[{\"type\":\"contourcarpet\",\"colorbar\":{\"outlinewidth\":0,\"ticks\":\"\"}}],\"contour\":[{\"type\":\"contour\",\"colorbar\":{\"outlinewidth\":0,\"ticks\":\"\"},\"colorscale\":[[0.0,\"#0d0887\"],[0.1111111111111111,\"#46039f\"],[0.2222222222222222,\"#7201a8\"],[0.3333333333333333,\"#9c179e\"],[0.4444444444444444,\"#bd3786\"],[0.5555555555555556,\"#d8576b\"],[0.6666666666666666,\"#ed7953\"],[0.7777777777777778,\"#fb9f3a\"],[0.8888888888888888,\"#fdca26\"],[1.0,\"#f0f921\"]]}],\"surface\":[{\"type\":\"surface\",\"colorbar\":{\"outlinewidth\":0,\"ticks\":\"\"},\"colorscale\":[[0.0,\"#0d0887\"],[0.1111111111111111,\"#46039f\"],[0.2222222222222222,\"#7201a8\"],[0.3333333333333333,\"#9c179e\"],[0.4444444444444444,\"#bd3786\"],[0.5555555555555556,\"#d8576b\"],[0.6666666666666666,\"#ed7953\"],[0.7777777777777778,\"#fb9f3a\"],[0.8888888888888888,\"#fdca26\"],[1.0,\"#f0f921\"]]}],\"mesh3d\":[{\"type\":\"mesh3d\",\"colorbar\":{\"outlinewidth\":0,\"ticks\":\"\"}}],\"scatter\":[{\"fillpattern\":{\"fillmode\":\"overlay\",\"size\":10,\"solidity\":0.2},\"type\":\"scatter\"}],\"parcoords\":[{\"type\":\"parcoords\",\"line\":{\"colorbar\":{\"outlinewidth\":0,\"ticks\":\"\"}}}],\"scatterpolargl\":[{\"type\":\"scatterpolargl\",\"marker\":{\"colorbar\":{\"outlinewidth\":0,\"ticks\":\"\"}}}],\"bar\":[{\"error_x\":{\"color\":\"#2a3f5f\"},\"error_y\":{\"color\":\"#2a3f5f\"},\"marker\":{\"line\":{\"color\":\"#E5ECF6\",\"width\":0.5},\"pattern\":{\"fillmode\":\"overlay\",\"size\":10,\"solidity\":0.2}},\"type\":\"bar\"}],\"scattergeo\":[{\"type\":\"scattergeo\",\"marker\":{\"colorbar\":{\"outlinewidth\":0,\"ticks\":\"\"}}}],\"scatterpolar\":[{\"type\":\"scatterpolar\",\"marker\":{\"colorbar\":{\"outlinewidth\":0,\"ticks\":\"\"}}}],\"histogram\":[{\"marker\":{\"pattern\":{\"fillmode\":\"overlay\",\"size\":10,\"solidity\":0.2}},\"type\":\"histogram\"}],\"scattergl\":[{\"type\":\"scattergl\",\"marker\":{\"colorbar\":{\"outlinewidth\":0,\"ticks\":\"\"}}}],\"scatter3d\":[{\"type\":\"scatter3d\",\"line\":{\"colorbar\":{\"outlinewidth\":0,\"ticks\":\"\"}},\"marker\":{\"colorbar\":{\"outlinewidth\":0,\"ticks\":\"\"}}}],\"scattermapbox\":[{\"type\":\"scattermapbox\",\"marker\":{\"colorbar\":{\"outlinewidth\":0,\"ticks\":\"\"}}}],\"scatterternary\":[{\"type\":\"scatterternary\",\"marker\":{\"colorbar\":{\"outlinewidth\":0,\"ticks\":\"\"}}}],\"scattercarpet\":[{\"type\":\"scattercarpet\",\"marker\":{\"colorbar\":{\"outlinewidth\":0,\"ticks\":\"\"}}}],\"carpet\":[{\"aaxis\":{\"endlinecolor\":\"#2a3f5f\",\"gridcolor\":\"white\",\"linecolor\":\"white\",\"minorgridcolor\":\"white\",\"startlinecolor\":\"#2a3f5f\"},\"baxis\":{\"endlinecolor\":\"#2a3f5f\",\"gridcolor\":\"white\",\"linecolor\":\"white\",\"minorgridcolor\":\"white\",\"startlinecolor\":\"#2a3f5f\"},\"type\":\"carpet\"}],\"table\":[{\"cells\":{\"fill\":{\"color\":\"#EBF0F8\"},\"line\":{\"color\":\"white\"}},\"header\":{\"fill\":{\"color\":\"#C8D4E3\"},\"line\":{\"color\":\"white\"}},\"type\":\"table\"}],\"barpolar\":[{\"marker\":{\"line\":{\"color\":\"#E5ECF6\",\"width\":0.5},\"pattern\":{\"fillmode\":\"overlay\",\"size\":10,\"solidity\":0.2}},\"type\":\"barpolar\"}],\"pie\":[{\"automargin\":true,\"type\":\"pie\"}]},\"layout\":{\"autotypenumbers\":\"strict\",\"colorway\":[\"#636efa\",\"#EF553B\",\"#00cc96\",\"#ab63fa\",\"#FFA15A\",\"#19d3f3\",\"#FF6692\",\"#B6E880\",\"#FF97FF\",\"#FECB52\"],\"font\":{\"color\":\"#2a3f5f\"},\"hovermode\":\"closest\",\"hoverlabel\":{\"align\":\"left\"},\"paper_bgcolor\":\"white\",\"plot_bgcolor\":\"#E5ECF6\",\"polar\":{\"bgcolor\":\"#E5ECF6\",\"angularaxis\":{\"gridcolor\":\"white\",\"linecolor\":\"white\",\"ticks\":\"\"},\"radialaxis\":{\"gridcolor\":\"white\",\"linecolor\":\"white\",\"ticks\":\"\"}},\"ternary\":{\"bgcolor\":\"#E5ECF6\",\"aaxis\":{\"gridcolor\":\"white\",\"linecolor\":\"white\",\"ticks\":\"\"},\"baxis\":{\"gridcolor\":\"white\",\"linecolor\":\"white\",\"ticks\":\"\"},\"caxis\":{\"gridcolor\":\"white\",\"linecolor\":\"white\",\"ticks\":\"\"}},\"coloraxis\":{\"colorbar\":{\"outlinewidth\":0,\"ticks\":\"\"}},\"colorscale\":{\"sequential\":[[0.0,\"#0d0887\"],[0.1111111111111111,\"#46039f\"],[0.2222222222222222,\"#7201a8\"],[0.3333333333333333,\"#9c179e\"],[0.4444444444444444,\"#bd3786\"],[0.5555555555555556,\"#d8576b\"],[0.6666666666666666,\"#ed7953\"],[0.7777777777777778,\"#fb9f3a\"],[0.8888888888888888,\"#fdca26\"],[1.0,\"#f0f921\"]],\"sequentialminus\":[[0.0,\"#0d0887\"],[0.1111111111111111,\"#46039f\"],[0.2222222222222222,\"#7201a8\"],[0.3333333333333333,\"#9c179e\"],[0.4444444444444444,\"#bd3786\"],[0.5555555555555556,\"#d8576b\"],[0.6666666666666666,\"#ed7953\"],[0.7777777777777778,\"#fb9f3a\"],[0.8888888888888888,\"#fdca26\"],[1.0,\"#f0f921\"]],\"diverging\":[[0,\"#8e0152\"],[0.1,\"#c51b7d\"],[0.2,\"#de77ae\"],[0.3,\"#f1b6da\"],[0.4,\"#fde0ef\"],[0.5,\"#f7f7f7\"],[0.6,\"#e6f5d0\"],[0.7,\"#b8e186\"],[0.8,\"#7fbc41\"],[0.9,\"#4d9221\"],[1,\"#276419\"]]},\"xaxis\":{\"gridcolor\":\"white\",\"linecolor\":\"white\",\"ticks\":\"\",\"title\":{\"standoff\":15},\"zerolinecolor\":\"white\",\"automargin\":true,\"zerolinewidth\":2},\"yaxis\":{\"gridcolor\":\"white\",\"linecolor\":\"white\",\"ticks\":\"\",\"title\":{\"standoff\":15},\"zerolinecolor\":\"white\",\"automargin\":true,\"zerolinewidth\":2},\"scene\":{\"xaxis\":{\"backgroundcolor\":\"#E5ECF6\",\"gridcolor\":\"white\",\"linecolor\":\"white\",\"showbackground\":true,\"ticks\":\"\",\"zerolinecolor\":\"white\",\"gridwidth\":2},\"yaxis\":{\"backgroundcolor\":\"#E5ECF6\",\"gridcolor\":\"white\",\"linecolor\":\"white\",\"showbackground\":true,\"ticks\":\"\",\"zerolinecolor\":\"white\",\"gridwidth\":2},\"zaxis\":{\"backgroundcolor\":\"#E5ECF6\",\"gridcolor\":\"white\",\"linecolor\":\"white\",\"showbackground\":true,\"ticks\":\"\",\"zerolinecolor\":\"white\",\"gridwidth\":2}},\"shapedefaults\":{\"line\":{\"color\":\"#2a3f5f\"}},\"annotationdefaults\":{\"arrowcolor\":\"#2a3f5f\",\"arrowhead\":0,\"arrowwidth\":1},\"geo\":{\"bgcolor\":\"white\",\"landcolor\":\"#E5ECF6\",\"subunitcolor\":\"white\",\"showland\":true,\"showlakes\":true,\"lakecolor\":\"white\"},\"title\":{\"x\":0.05},\"mapbox\":{\"style\":\"light\"}}},\"xaxis\":{\"anchor\":\"y\",\"domain\":[0.0,1.0],\"title\":{\"text\":\"prediction_label\"}},\"yaxis\":{\"anchor\":\"x\",\"domain\":[0.0,1.0],\"title\":{\"text\":\"standardized_residuals\"}},\"coloraxis\":{\"colorbar\":{\"title\":{\"text\":\"length\"}},\"colorscale\":[[0.0,\"#0d0887\"],[0.1111111111111111,\"#46039f\"],[0.2222222222222222,\"#7201a8\"],[0.3333333333333333,\"#9c179e\"],[0.4444444444444444,\"#bd3786\"],[0.5555555555555556,\"#d8576b\"],[0.6666666666666666,\"#ed7953\"],[0.7777777777777778,\"#fb9f3a\"],[0.8888888888888888,\"#fdca26\"],[1.0,\"#f0f921\"]]},\"legend\":{\"tracegroupgap\":0},\"title\":{\"text\":\"Residuals vs. Predictions\"}},                        {\"responsive\": true}                    ).then(function(){\n",
       "                            \n",
       "var gd = document.getElementById('907a6abc-7c05-4260-b574-f028d05d8bd8');\n",
       "var x = new MutationObserver(function (mutations, observer) {{\n",
       "        var display = window.getComputedStyle(gd).display;\n",
       "        if (!display || display === 'none') {{\n",
       "            console.log([gd, 'removed!']);\n",
       "            Plotly.purge(gd);\n",
       "            observer.disconnect();\n",
       "        }}\n",
       "}});\n",
       "\n",
       "// Listen for the removal of the full notebook cells\n",
       "var notebookContainer = gd.closest('#notebook-container');\n",
       "if (notebookContainer) {{\n",
       "    x.observe(notebookContainer, {childList: true});\n",
       "}}\n",
       "\n",
       "// Listen for the clearing of the current output cell\n",
       "var outputEl = gd.closest('.output');\n",
       "if (outputEl) {{\n",
       "    x.observe(outputEl, {childList: true});\n",
       "}}\n",
       "\n",
       "                        })                };                });            </script>        </div>"
      ]
     },
     "metadata": {},
     "output_type": "display_data"
    }
   ],
   "source": [
    "fig = px.scatter(predictions,color = 'length', x='prediction_label', y='standardized_residuals', \n",
    "                title=\"Residuals vs. Predictions\")\n",
    "fig.show()"
   ]
  },
  {
   "cell_type": "markdown",
   "id": "cf2227d7",
   "metadata": {},
   "source": [
    "Importantly, the residuals are randomly scattered around 0, which tells me that the model's predictions are generally accurate (with a resdiual of 0 being a perfect prediction). This also tells us that the model is likely unbaised and any error is largely random."
   ]
  },
  {
   "cell_type": "markdown",
   "id": "758555d0",
   "metadata": {},
   "source": [
    "### Feature Specific Residuals Analysis\n",
    "\n",
    "Similar to above, let's look at individual features to observe how the residuals vary from feature to feature. It's important that the distributions of the residuals continue to be distributed around zero for each individual feature. If the residuals distribution for a specific feature, especially if it's an important feature for the model, shows a trend, it may indicate that there's some error within the model that needs to be addressed."
   ]
  },
  {
   "cell_type": "markdown",
   "id": "c1aebca4",
   "metadata": {},
   "source": [
    "##### Length"
   ]
  },
  {
   "cell_type": "code",
   "execution_count": null,
   "id": "abc67bc8",
   "metadata": {},
   "outputs": [
    {
     "data": {
      "text/html": [
       "\n",
       "        <iframe\n",
       "            width=\"100%\"\n",
       "            height=\"650\"\n",
       "            src=\"http://127.0.0.1:8050/\"\n",
       "            frameborder=\"0\"\n",
       "            allowfullscreen\n",
       "            \n",
       "        ></iframe>\n",
       "        "
      ],
      "text/plain": [
       "<IPython.lib.display.IFrame at 0x2a7f70cd0>"
      ]
     },
     "metadata": {},
     "output_type": "display_data"
    }
   ],
   "source": [
    "app = dash.Dash(__name__)\n",
    "\n",
    "app.layout = html.Div([\n",
    "    dcc.Graph(id='scatter-plot'),\n",
    "    dcc.RangeSlider(\n",
    "        id='length-slider',\n",
    "        min=predictions['length'].min(),\n",
    "        max=predictions['length'].max(),\n",
    "        value=[predictions['length'].min(), predictions['length'].max()],\n",
    "        marks={\n",
    "            str(predictions['length'].min()): str(predictions['length'].min()),\n",
    "            str(predictions['length'].max()): str(predictions['length'].max())\n",
    "        }\n",
    "    )\n",
    "])\n",
    "\n",
    "@app.callback(\n",
    "    Output('scatter-plot', 'figure'),\n",
    "    [Input('length-slider', 'value')]\n",
    ")\n",
    "def update_figure(selected_range):\n",
    "    filtered_df = predictions[(predictions['length'] >= selected_range[0]) & (predictions['length'] <= selected_range[1])]\n",
    "    fig = px.scatter(filtered_df, x='prediction_label', y='Residuals',color='length', title=\"Residuals Vs. Length\")\n",
    "    return fig\n",
    "\n",
    "if __name__ == '__main__':\n",
    "    app.run_server(debug=True)"
   ]
  },
  {
   "cell_type": "markdown",
   "id": "49c0b088",
   "metadata": {},
   "source": [
    "In the above plot we can once again see that the residuals are scattered around zero. Additionally, by adjusting the slider at the bottom of the plot, I'm able to look at how the distribution changes for a specific range of 'length' values."
   ]
  },
  {
   "cell_type": "markdown",
   "id": "f6057ee4",
   "metadata": {},
   "source": [
    "##### Sub-Region"
   ]
  },
  {
   "cell_type": "code",
   "execution_count": 14,
   "id": "f952723f",
   "metadata": {},
   "outputs": [
    {
     "data": {
      "application/vnd.plotly.v1+json": {
       "config": {
        "plotlyServerURL": "https://plot.ly"
       },
       "data": [
        {
         "alignmentgroup": "True",
         "hovertemplate": "sub_region=%{x}<br>Residuals=%{y}<extra></extra>",
         "legendgroup": "",
         "marker": {
          "color": "#636efa"
         },
         "name": "",
         "notched": false,
         "offsetgroup": "",
         "orientation": "v",
         "showlegend": false,
         "type": "box",
         "x": [
          "Southern Europe",
          "Eastern Asia",
          "Eastern Asia",
          "Eastern Asia",
          "Latin America and the Caribbean",
          "Eastern Asia",
          "Northern America",
          "Eastern Asia",
          "Eastern Asia",
          "Northern America",
          "Eastern Asia",
          "Eastern Asia",
          "Eastern Asia",
          "Eastern Asia",
          "Eastern Asia",
          "Northern Europe",
          "Northern America",
          "Eastern Asia",
          "Northern America",
          "Eastern Asia",
          "Eastern Asia",
          "Western Asia",
          "Eastern Asia",
          "Northern America",
          "Eastern Asia",
          "Eastern Asia",
          "Southern Europe",
          "Southern Asia",
          "Eastern Asia",
          "Southern Europe",
          "Western Asia",
          "Eastern Asia",
          "Southern Europe",
          "Eastern Asia",
          "Eastern Asia",
          "Southern Asia",
          "Eastern Asia",
          "Eastern Asia",
          "Southern Asia",
          "Western Europe",
          "Eastern Asia",
          "Eastern Asia",
          "Northern America",
          "Eastern Asia",
          "Eastern Asia",
          "Eastern Asia",
          "Eastern Asia",
          "Eastern Asia",
          "Eastern Asia",
          "Eastern Asia",
          "Latin America and the Caribbean",
          "Eastern Asia",
          "Eastern Asia",
          "Eastern Asia",
          "Southern Europe",
          "Southern Europe",
          "Southern Asia",
          "Eastern Asia",
          "Eastern Asia",
          "South-eastern Asia",
          "Western Europe",
          "Eastern Asia",
          "Eastern Asia",
          "Eastern Europe",
          "Eastern Asia",
          "Eastern Asia",
          "Eastern Europe",
          "Eastern Asia",
          "Eastern Asia",
          "Southern Europe",
          "Eastern Asia",
          "Eastern Asia",
          "Northern America",
          "Eastern Asia",
          "Eastern Asia",
          "Western Asia",
          "Western Europe",
          "Eastern Asia",
          "Southern Europe",
          "Eastern Asia",
          "Southern Europe",
          "Eastern Asia",
          "Latin America and the Caribbean",
          "Eastern Asia",
          "Northern America",
          "Eastern Asia",
          "Eastern Asia",
          "Northern America",
          "Eastern Asia",
          "Eastern Asia",
          "Eastern Asia",
          "Southern Europe",
          "Eastern Europe",
          "Southern Europe",
          "Eastern Asia",
          "Eastern Asia",
          "Eastern Asia",
          "Western Asia",
          "Southern Europe",
          "Eastern Asia",
          "Southern Europe",
          "Southern Europe",
          "Northern America",
          "Southern Europe",
          "Northern America",
          "Eastern Europe",
          "Eastern Asia",
          "Eastern Asia",
          "Eastern Asia",
          "Eastern Asia",
          "Southern Europe",
          "Eastern Asia",
          "Caribbean",
          "Caribbean",
          "Western Asia",
          "Eastern Asia",
          "Southern Asia",
          "South-eastern Asia",
          "Eastern Asia",
          "Eastern Asia",
          "Western Europe",
          "Eastern Asia",
          "Eastern Asia",
          "Southern Europe",
          "Western Europe",
          "Western Europe",
          "Eastern Asia",
          "Western Europe",
          "Western Europe",
          "Western Asia",
          "Eastern Asia",
          "Southern Asia",
          "Eastern Asia",
          "Eastern Asia",
          "Eastern Asia",
          "Eastern Asia",
          "Eastern Europe",
          "Northern America",
          "Northern America",
          "Western Europe",
          "Northern America",
          "Northern America",
          "Eastern Asia",
          "Eastern Asia",
          "Eastern Asia",
          "Eastern Asia",
          "Eastern Asia",
          "Northern Europe",
          "Eastern Asia",
          "Northern America",
          "Northern America",
          "Western Europe",
          "Northern America"
         ],
         "x0": " ",
         "xaxis": "x",
         "y": [
          45.27082241144542,
          48.82668085729938,
          1940.334633682176,
          -166.2842551150943,
          -876.9588135869335,
          526.7207266182854,
          -605.7840917868575,
          1457.5644397639508,
          -1260.0540193337429,
          -245.60173217991996,
          2017.2827660770959,
          66.95598839989793,
          -2977.819766570863,
          64.40496451433955,
          711.5070022221307,
          -881.0821889077083,
          -460.8065813311607,
          -185.3373005866581,
          129.4513999586668,
          -513.2273411693218,
          -1276.728688097457,
          486.946629895916,
          3978.290909972102,
          26.165831842861564,
          -865.8404714256667,
          -1183.2984817044867,
          -723.4855955543155,
          -104.22734158592812,
          1784.682127400848,
          -219.50255119494165,
          191.65314066467272,
          778.8819392840892,
          -161.41644041890936,
          -137.59010894248422,
          178.0456362220334,
          2476.708198061745,
          -55.96720107020019,
          -508.50193572372314,
          193.74466708105865,
          -1287.3652819654287,
          -756.0845529341832,
          204.29519680784824,
          95.27681962409497,
          -104.02435183037312,
          85.8890171472276,
          -118.60444291642125,
          -815.0293894863516,
          -351.65711923610775,
          -204.5839961040083,
          -216.2280510640585,
          -829.3749999844767,
          844.2381949205837,
          -36.28164663091229,
          -296.5990716399592,
          -355.2198816205565,
          -445.5054380118577,
          -47.40158931090218,
          -796.6581901055097,
          654.0854483968196,
          962.7322799357999,
          639.1682877072853,
          -177.4062561299079,
          199.97126538745943,
          -84.06200268159228,
          -629.5661860466348,
          -533.833511182047,
          121.78196896289228,
          -99.49038828157336,
          -679.143626857991,
          -495.79854841703866,
          1636.3609609006162,
          -0.942172898860008,
          -2119.9336773481477,
          -470.4847458891527,
          2634.074061942337,
          -878.1145422568397,
          -565.575688837549,
          491.8053230090077,
          -2242.117707572379,
          -813.6928441317432,
          -2935.6652365933296,
          -844.4230314496676,
          -286.0060395009132,
          -2564.8032814769103,
          -258.87880018944475,
          -1883.1027518321907,
          360.826621682555,
          200.95712880066776,
          -138.42526473070802,
          139.31947382336193,
          1686.8224211883244,
          -313.35745071481756,
          324.50009372457225,
          83.85526086892193,
          376.5604917758301,
          45.46035629414939,
          -6.379928337646106,
          -434.9826970786012,
          -473.64825807477246,
          -13.411845416755057,
          -367.3963162795674,
          -260.5267259368917,
          233.768558761417,
          -520.795839622099,
          -102.14837941012343,
          598.6971545662739,
          855.1257494592537,
          2089.9125617380087,
          -678.4166366291674,
          232.82387482820104,
          177.67384594248028,
          -339.77459494507093,
          -886.9864857802722,
          -269.58556012872305,
          -1196.0061764760567,
          269.1788853001831,
          571.365603916207,
          62.97008885285686,
          -34.33740398215275,
          -463.1810828996031,
          -16.510916398316454,
          1005.7586938096911,
          3.48573997513995,
          -268.0006286837297,
          125.26555409095954,
          -50.16787387106274,
          700.0835231117435,
          403.0968314288724,
          -422.988621196665,
          -249.55317586906517,
          -443.5458314038642,
          130.55388149708392,
          3572.2262997264506,
          532.5134515053064,
          56.200839035223,
          -82.41162048294291,
          -254.88315789986927,
          -406.38506977898146,
          -482.27346722269317,
          -95.49087213227222,
          1405.0990585643663,
          -1114.656146452543,
          70.6388424249426,
          -110.3287838440774,
          689.522049086253,
          1335.957593103094,
          -1360.9615810064251,
          -1653.871474424648,
          17.566036364037245,
          15.311944756089929,
          -416.49515369934693,
          -202.84615782720869,
          -227.56018510649312
         ],
         "y0": " ",
         "yaxis": "y"
        }
       ],
       "layout": {
        "boxmode": "group",
        "legend": {
         "tracegroupgap": 0
        },
        "template": {
         "data": {
          "bar": [
           {
            "error_x": {
             "color": "#2a3f5f"
            },
            "error_y": {
             "color": "#2a3f5f"
            },
            "marker": {
             "line": {
              "color": "#E5ECF6",
              "width": 0.5
             },
             "pattern": {
              "fillmode": "overlay",
              "size": 10,
              "solidity": 0.2
             }
            },
            "type": "bar"
           }
          ],
          "barpolar": [
           {
            "marker": {
             "line": {
              "color": "#E5ECF6",
              "width": 0.5
             },
             "pattern": {
              "fillmode": "overlay",
              "size": 10,
              "solidity": 0.2
             }
            },
            "type": "barpolar"
           }
          ],
          "carpet": [
           {
            "aaxis": {
             "endlinecolor": "#2a3f5f",
             "gridcolor": "white",
             "linecolor": "white",
             "minorgridcolor": "white",
             "startlinecolor": "#2a3f5f"
            },
            "baxis": {
             "endlinecolor": "#2a3f5f",
             "gridcolor": "white",
             "linecolor": "white",
             "minorgridcolor": "white",
             "startlinecolor": "#2a3f5f"
            },
            "type": "carpet"
           }
          ],
          "choropleth": [
           {
            "colorbar": {
             "outlinewidth": 0,
             "ticks": ""
            },
            "type": "choropleth"
           }
          ],
          "contour": [
           {
            "colorbar": {
             "outlinewidth": 0,
             "ticks": ""
            },
            "colorscale": [
             [
              0,
              "#0d0887"
             ],
             [
              0.1111111111111111,
              "#46039f"
             ],
             [
              0.2222222222222222,
              "#7201a8"
             ],
             [
              0.3333333333333333,
              "#9c179e"
             ],
             [
              0.4444444444444444,
              "#bd3786"
             ],
             [
              0.5555555555555556,
              "#d8576b"
             ],
             [
              0.6666666666666666,
              "#ed7953"
             ],
             [
              0.7777777777777778,
              "#fb9f3a"
             ],
             [
              0.8888888888888888,
              "#fdca26"
             ],
             [
              1,
              "#f0f921"
             ]
            ],
            "type": "contour"
           }
          ],
          "contourcarpet": [
           {
            "colorbar": {
             "outlinewidth": 0,
             "ticks": ""
            },
            "type": "contourcarpet"
           }
          ],
          "heatmap": [
           {
            "colorbar": {
             "outlinewidth": 0,
             "ticks": ""
            },
            "colorscale": [
             [
              0,
              "#0d0887"
             ],
             [
              0.1111111111111111,
              "#46039f"
             ],
             [
              0.2222222222222222,
              "#7201a8"
             ],
             [
              0.3333333333333333,
              "#9c179e"
             ],
             [
              0.4444444444444444,
              "#bd3786"
             ],
             [
              0.5555555555555556,
              "#d8576b"
             ],
             [
              0.6666666666666666,
              "#ed7953"
             ],
             [
              0.7777777777777778,
              "#fb9f3a"
             ],
             [
              0.8888888888888888,
              "#fdca26"
             ],
             [
              1,
              "#f0f921"
             ]
            ],
            "type": "heatmap"
           }
          ],
          "heatmapgl": [
           {
            "colorbar": {
             "outlinewidth": 0,
             "ticks": ""
            },
            "colorscale": [
             [
              0,
              "#0d0887"
             ],
             [
              0.1111111111111111,
              "#46039f"
             ],
             [
              0.2222222222222222,
              "#7201a8"
             ],
             [
              0.3333333333333333,
              "#9c179e"
             ],
             [
              0.4444444444444444,
              "#bd3786"
             ],
             [
              0.5555555555555556,
              "#d8576b"
             ],
             [
              0.6666666666666666,
              "#ed7953"
             ],
             [
              0.7777777777777778,
              "#fb9f3a"
             ],
             [
              0.8888888888888888,
              "#fdca26"
             ],
             [
              1,
              "#f0f921"
             ]
            ],
            "type": "heatmapgl"
           }
          ],
          "histogram": [
           {
            "marker": {
             "pattern": {
              "fillmode": "overlay",
              "size": 10,
              "solidity": 0.2
             }
            },
            "type": "histogram"
           }
          ],
          "histogram2d": [
           {
            "colorbar": {
             "outlinewidth": 0,
             "ticks": ""
            },
            "colorscale": [
             [
              0,
              "#0d0887"
             ],
             [
              0.1111111111111111,
              "#46039f"
             ],
             [
              0.2222222222222222,
              "#7201a8"
             ],
             [
              0.3333333333333333,
              "#9c179e"
             ],
             [
              0.4444444444444444,
              "#bd3786"
             ],
             [
              0.5555555555555556,
              "#d8576b"
             ],
             [
              0.6666666666666666,
              "#ed7953"
             ],
             [
              0.7777777777777778,
              "#fb9f3a"
             ],
             [
              0.8888888888888888,
              "#fdca26"
             ],
             [
              1,
              "#f0f921"
             ]
            ],
            "type": "histogram2d"
           }
          ],
          "histogram2dcontour": [
           {
            "colorbar": {
             "outlinewidth": 0,
             "ticks": ""
            },
            "colorscale": [
             [
              0,
              "#0d0887"
             ],
             [
              0.1111111111111111,
              "#46039f"
             ],
             [
              0.2222222222222222,
              "#7201a8"
             ],
             [
              0.3333333333333333,
              "#9c179e"
             ],
             [
              0.4444444444444444,
              "#bd3786"
             ],
             [
              0.5555555555555556,
              "#d8576b"
             ],
             [
              0.6666666666666666,
              "#ed7953"
             ],
             [
              0.7777777777777778,
              "#fb9f3a"
             ],
             [
              0.8888888888888888,
              "#fdca26"
             ],
             [
              1,
              "#f0f921"
             ]
            ],
            "type": "histogram2dcontour"
           }
          ],
          "mesh3d": [
           {
            "colorbar": {
             "outlinewidth": 0,
             "ticks": ""
            },
            "type": "mesh3d"
           }
          ],
          "parcoords": [
           {
            "line": {
             "colorbar": {
              "outlinewidth": 0,
              "ticks": ""
             }
            },
            "type": "parcoords"
           }
          ],
          "pie": [
           {
            "automargin": true,
            "type": "pie"
           }
          ],
          "scatter": [
           {
            "fillpattern": {
             "fillmode": "overlay",
             "size": 10,
             "solidity": 0.2
            },
            "type": "scatter"
           }
          ],
          "scatter3d": [
           {
            "line": {
             "colorbar": {
              "outlinewidth": 0,
              "ticks": ""
             }
            },
            "marker": {
             "colorbar": {
              "outlinewidth": 0,
              "ticks": ""
             }
            },
            "type": "scatter3d"
           }
          ],
          "scattercarpet": [
           {
            "marker": {
             "colorbar": {
              "outlinewidth": 0,
              "ticks": ""
             }
            },
            "type": "scattercarpet"
           }
          ],
          "scattergeo": [
           {
            "marker": {
             "colorbar": {
              "outlinewidth": 0,
              "ticks": ""
             }
            },
            "type": "scattergeo"
           }
          ],
          "scattergl": [
           {
            "marker": {
             "colorbar": {
              "outlinewidth": 0,
              "ticks": ""
             }
            },
            "type": "scattergl"
           }
          ],
          "scattermapbox": [
           {
            "marker": {
             "colorbar": {
              "outlinewidth": 0,
              "ticks": ""
             }
            },
            "type": "scattermapbox"
           }
          ],
          "scatterpolar": [
           {
            "marker": {
             "colorbar": {
              "outlinewidth": 0,
              "ticks": ""
             }
            },
            "type": "scatterpolar"
           }
          ],
          "scatterpolargl": [
           {
            "marker": {
             "colorbar": {
              "outlinewidth": 0,
              "ticks": ""
             }
            },
            "type": "scatterpolargl"
           }
          ],
          "scatterternary": [
           {
            "marker": {
             "colorbar": {
              "outlinewidth": 0,
              "ticks": ""
             }
            },
            "type": "scatterternary"
           }
          ],
          "surface": [
           {
            "colorbar": {
             "outlinewidth": 0,
             "ticks": ""
            },
            "colorscale": [
             [
              0,
              "#0d0887"
             ],
             [
              0.1111111111111111,
              "#46039f"
             ],
             [
              0.2222222222222222,
              "#7201a8"
             ],
             [
              0.3333333333333333,
              "#9c179e"
             ],
             [
              0.4444444444444444,
              "#bd3786"
             ],
             [
              0.5555555555555556,
              "#d8576b"
             ],
             [
              0.6666666666666666,
              "#ed7953"
             ],
             [
              0.7777777777777778,
              "#fb9f3a"
             ],
             [
              0.8888888888888888,
              "#fdca26"
             ],
             [
              1,
              "#f0f921"
             ]
            ],
            "type": "surface"
           }
          ],
          "table": [
           {
            "cells": {
             "fill": {
              "color": "#EBF0F8"
             },
             "line": {
              "color": "white"
             }
            },
            "header": {
             "fill": {
              "color": "#C8D4E3"
             },
             "line": {
              "color": "white"
             }
            },
            "type": "table"
           }
          ]
         },
         "layout": {
          "annotationdefaults": {
           "arrowcolor": "#2a3f5f",
           "arrowhead": 0,
           "arrowwidth": 1
          },
          "autotypenumbers": "strict",
          "coloraxis": {
           "colorbar": {
            "outlinewidth": 0,
            "ticks": ""
           }
          },
          "colorscale": {
           "diverging": [
            [
             0,
             "#8e0152"
            ],
            [
             0.1,
             "#c51b7d"
            ],
            [
             0.2,
             "#de77ae"
            ],
            [
             0.3,
             "#f1b6da"
            ],
            [
             0.4,
             "#fde0ef"
            ],
            [
             0.5,
             "#f7f7f7"
            ],
            [
             0.6,
             "#e6f5d0"
            ],
            [
             0.7,
             "#b8e186"
            ],
            [
             0.8,
             "#7fbc41"
            ],
            [
             0.9,
             "#4d9221"
            ],
            [
             1,
             "#276419"
            ]
           ],
           "sequential": [
            [
             0,
             "#0d0887"
            ],
            [
             0.1111111111111111,
             "#46039f"
            ],
            [
             0.2222222222222222,
             "#7201a8"
            ],
            [
             0.3333333333333333,
             "#9c179e"
            ],
            [
             0.4444444444444444,
             "#bd3786"
            ],
            [
             0.5555555555555556,
             "#d8576b"
            ],
            [
             0.6666666666666666,
             "#ed7953"
            ],
            [
             0.7777777777777778,
             "#fb9f3a"
            ],
            [
             0.8888888888888888,
             "#fdca26"
            ],
            [
             1,
             "#f0f921"
            ]
           ],
           "sequentialminus": [
            [
             0,
             "#0d0887"
            ],
            [
             0.1111111111111111,
             "#46039f"
            ],
            [
             0.2222222222222222,
             "#7201a8"
            ],
            [
             0.3333333333333333,
             "#9c179e"
            ],
            [
             0.4444444444444444,
             "#bd3786"
            ],
            [
             0.5555555555555556,
             "#d8576b"
            ],
            [
             0.6666666666666666,
             "#ed7953"
            ],
            [
             0.7777777777777778,
             "#fb9f3a"
            ],
            [
             0.8888888888888888,
             "#fdca26"
            ],
            [
             1,
             "#f0f921"
            ]
           ]
          },
          "colorway": [
           "#636efa",
           "#EF553B",
           "#00cc96",
           "#ab63fa",
           "#FFA15A",
           "#19d3f3",
           "#FF6692",
           "#B6E880",
           "#FF97FF",
           "#FECB52"
          ],
          "font": {
           "color": "#2a3f5f"
          },
          "geo": {
           "bgcolor": "white",
           "lakecolor": "white",
           "landcolor": "#E5ECF6",
           "showlakes": true,
           "showland": true,
           "subunitcolor": "white"
          },
          "hoverlabel": {
           "align": "left"
          },
          "hovermode": "closest",
          "mapbox": {
           "style": "light"
          },
          "paper_bgcolor": "white",
          "plot_bgcolor": "#E5ECF6",
          "polar": {
           "angularaxis": {
            "gridcolor": "white",
            "linecolor": "white",
            "ticks": ""
           },
           "bgcolor": "#E5ECF6",
           "radialaxis": {
            "gridcolor": "white",
            "linecolor": "white",
            "ticks": ""
           }
          },
          "scene": {
           "xaxis": {
            "backgroundcolor": "#E5ECF6",
            "gridcolor": "white",
            "gridwidth": 2,
            "linecolor": "white",
            "showbackground": true,
            "ticks": "",
            "zerolinecolor": "white"
           },
           "yaxis": {
            "backgroundcolor": "#E5ECF6",
            "gridcolor": "white",
            "gridwidth": 2,
            "linecolor": "white",
            "showbackground": true,
            "ticks": "",
            "zerolinecolor": "white"
           },
           "zaxis": {
            "backgroundcolor": "#E5ECF6",
            "gridcolor": "white",
            "gridwidth": 2,
            "linecolor": "white",
            "showbackground": true,
            "ticks": "",
            "zerolinecolor": "white"
           }
          },
          "shapedefaults": {
           "line": {
            "color": "#2a3f5f"
           }
          },
          "ternary": {
           "aaxis": {
            "gridcolor": "white",
            "linecolor": "white",
            "ticks": ""
           },
           "baxis": {
            "gridcolor": "white",
            "linecolor": "white",
            "ticks": ""
           },
           "bgcolor": "#E5ECF6",
           "caxis": {
            "gridcolor": "white",
            "linecolor": "white",
            "ticks": ""
           }
          },
          "title": {
           "x": 0.05
          },
          "xaxis": {
           "automargin": true,
           "gridcolor": "white",
           "linecolor": "white",
           "ticks": "",
           "title": {
            "standoff": 15
           },
           "zerolinecolor": "white",
           "zerolinewidth": 2
          },
          "yaxis": {
           "automargin": true,
           "gridcolor": "white",
           "linecolor": "white",
           "ticks": "",
           "title": {
            "standoff": 15
           },
           "zerolinecolor": "white",
           "zerolinewidth": 2
          }
         }
        },
        "title": {
         "text": "Residuals Distribution Across Sub-Regions"
        },
        "xaxis": {
         "anchor": "y",
         "domain": [
          0,
          1
         ],
         "title": {
          "text": "sub_region"
         }
        },
        "yaxis": {
         "anchor": "x",
         "domain": [
          0,
          1
         ],
         "title": {
          "text": "Residuals"
         }
        }
       }
      },
      "text/html": [
       "<div>                            <div id=\"1e98c128-017f-4d76-b1bd-b6cb7c9a3fe5\" class=\"plotly-graph-div\" style=\"height:525px; width:100%;\"></div>            <script type=\"text/javascript\">                require([\"plotly\"], function(Plotly) {                    window.PLOTLYENV=window.PLOTLYENV || {};                                    if (document.getElementById(\"1e98c128-017f-4d76-b1bd-b6cb7c9a3fe5\")) {                    Plotly.newPlot(                        \"1e98c128-017f-4d76-b1bd-b6cb7c9a3fe5\",                        [{\"alignmentgroup\":\"True\",\"hovertemplate\":\"sub_region=%{x}\\u003cbr\\u003eResiduals=%{y}\\u003cextra\\u003e\\u003c\\u002fextra\\u003e\",\"legendgroup\":\"\",\"marker\":{\"color\":\"#636efa\"},\"name\":\"\",\"notched\":false,\"offsetgroup\":\"\",\"orientation\":\"v\",\"showlegend\":false,\"x\":[\"Southern Europe\",\"Eastern Asia\",\"Eastern Asia\",\"Eastern Asia\",\"Latin America and the Caribbean\",\"Eastern Asia\",\"Northern America\",\"Eastern Asia\",\"Eastern Asia\",\"Northern America\",\"Eastern Asia\",\"Eastern Asia\",\"Eastern Asia\",\"Eastern Asia\",\"Eastern Asia\",\"Northern Europe\",\"Northern America\",\"Eastern Asia\",\"Northern America\",\"Eastern Asia\",\"Eastern Asia\",\"Western Asia\",\"Eastern Asia\",\"Northern America\",\"Eastern Asia\",\"Eastern Asia\",\"Southern Europe\",\"Southern Asia\",\"Eastern Asia\",\"Southern Europe\",\"Western Asia\",\"Eastern Asia\",\"Southern Europe\",\"Eastern Asia\",\"Eastern Asia\",\"Southern Asia\",\"Eastern Asia\",\"Eastern Asia\",\"Southern Asia\",\"Western Europe\",\"Eastern Asia\",\"Eastern Asia\",\"Northern America\",\"Eastern Asia\",\"Eastern Asia\",\"Eastern Asia\",\"Eastern Asia\",\"Eastern Asia\",\"Eastern Asia\",\"Eastern Asia\",\"Latin America and the Caribbean\",\"Eastern Asia\",\"Eastern Asia\",\"Eastern Asia\",\"Southern Europe\",\"Southern Europe\",\"Southern Asia\",\"Eastern Asia\",\"Eastern Asia\",\"South-eastern Asia\",\"Western Europe\",\"Eastern Asia\",\"Eastern Asia\",\"Eastern Europe\",\"Eastern Asia\",\"Eastern Asia\",\"Eastern Europe\",\"Eastern Asia\",\"Eastern Asia\",\"Southern Europe\",\"Eastern Asia\",\"Eastern Asia\",\"Northern America\",\"Eastern Asia\",\"Eastern Asia\",\"Western Asia\",\"Western Europe\",\"Eastern Asia\",\"Southern Europe\",\"Eastern Asia\",\"Southern Europe\",\"Eastern Asia\",\"Latin America and the Caribbean\",\"Eastern Asia\",\"Northern America\",\"Eastern Asia\",\"Eastern Asia\",\"Northern America\",\"Eastern Asia\",\"Eastern Asia\",\"Eastern Asia\",\"Southern Europe\",\"Eastern Europe\",\"Southern Europe\",\"Eastern Asia\",\"Eastern Asia\",\"Eastern Asia\",\"Western Asia\",\"Southern Europe\",\"Eastern Asia\",\"Southern Europe\",\"Southern Europe\",\"Northern America\",\"Southern Europe\",\"Northern America\",\"Eastern Europe\",\"Eastern Asia\",\"Eastern Asia\",\"Eastern Asia\",\"Eastern Asia\",\"Southern Europe\",\"Eastern Asia\",\"Caribbean\",\"Caribbean\",\"Western Asia\",\"Eastern Asia\",\"Southern Asia\",\"South-eastern Asia\",\"Eastern Asia\",\"Eastern Asia\",\"Western Europe\",\"Eastern Asia\",\"Eastern Asia\",\"Southern Europe\",\"Western Europe\",\"Western Europe\",\"Eastern Asia\",\"Western Europe\",\"Western Europe\",\"Western Asia\",\"Eastern Asia\",\"Southern Asia\",\"Eastern Asia\",\"Eastern Asia\",\"Eastern Asia\",\"Eastern Asia\",\"Eastern Europe\",\"Northern America\",\"Northern America\",\"Western Europe\",\"Northern America\",\"Northern America\",\"Eastern Asia\",\"Eastern Asia\",\"Eastern Asia\",\"Eastern Asia\",\"Eastern Asia\",\"Northern Europe\",\"Eastern Asia\",\"Northern America\",\"Northern America\",\"Western Europe\",\"Northern America\"],\"x0\":\" \",\"xaxis\":\"x\",\"y\":[45.27082241144542,48.82668085729938,1940.334633682176,-166.2842551150943,-876.9588135869335,526.7207266182854,-605.7840917868575,1457.5644397639508,-1260.0540193337429,-245.60173217991996,2017.2827660770959,66.95598839989793,-2977.819766570863,64.40496451433955,711.5070022221307,-881.0821889077083,-460.8065813311607,-185.3373005866581,129.4513999586668,-513.2273411693218,-1276.728688097457,486.946629895916,3978.290909972102,26.165831842861564,-865.8404714256667,-1183.2984817044867,-723.4855955543155,-104.22734158592812,1784.682127400848,-219.50255119494165,191.65314066467272,778.8819392840892,-161.41644041890936,-137.59010894248422,178.0456362220334,2476.708198061745,-55.96720107020019,-508.50193572372314,193.74466708105865,-1287.3652819654287,-756.0845529341832,204.29519680784824,95.27681962409497,-104.02435183037312,85.8890171472276,-118.60444291642125,-815.0293894863516,-351.65711923610775,-204.5839961040083,-216.2280510640585,-829.3749999844767,844.2381949205837,-36.28164663091229,-296.5990716399592,-355.2198816205565,-445.5054380118577,-47.40158931090218,-796.6581901055097,654.0854483968196,962.7322799357999,639.1682877072853,-177.4062561299079,199.97126538745943,-84.06200268159228,-629.5661860466348,-533.833511182047,121.78196896289228,-99.49038828157336,-679.143626857991,-495.79854841703866,1636.3609609006162,-0.942172898860008,-2119.9336773481477,-470.4847458891527,2634.074061942337,-878.1145422568397,-565.575688837549,491.8053230090077,-2242.117707572379,-813.6928441317432,-2935.6652365933296,-844.4230314496676,-286.0060395009132,-2564.8032814769103,-258.87880018944475,-1883.1027518321907,360.826621682555,200.95712880066776,-138.42526473070802,139.31947382336193,1686.8224211883244,-313.35745071481756,324.50009372457225,83.85526086892193,376.5604917758301,45.46035629414939,-6.379928337646106,-434.9826970786012,-473.64825807477246,-13.411845416755057,-367.3963162795674,-260.5267259368917,233.768558761417,-520.795839622099,-102.14837941012343,598.6971545662739,855.1257494592537,2089.9125617380087,-678.4166366291674,232.82387482820104,177.67384594248028,-339.77459494507093,-886.9864857802722,-269.58556012872305,-1196.0061764760567,269.1788853001831,571.365603916207,62.97008885285686,-34.33740398215275,-463.1810828996031,-16.510916398316454,1005.7586938096911,3.48573997513995,-268.0006286837297,125.26555409095954,-50.16787387106274,700.0835231117435,403.0968314288724,-422.988621196665,-249.55317586906517,-443.5458314038642,130.55388149708392,3572.2262997264506,532.5134515053064,56.200839035223,-82.41162048294291,-254.88315789986927,-406.38506977898146,-482.27346722269317,-95.49087213227222,1405.0990585643663,-1114.656146452543,70.6388424249426,-110.3287838440774,689.522049086253,1335.957593103094,-1360.9615810064251,-1653.871474424648,17.566036364037245,15.311944756089929,-416.49515369934693,-202.84615782720869,-227.56018510649312],\"y0\":\" \",\"yaxis\":\"y\",\"type\":\"box\"}],                        {\"template\":{\"data\":{\"histogram2dcontour\":[{\"type\":\"histogram2dcontour\",\"colorbar\":{\"outlinewidth\":0,\"ticks\":\"\"},\"colorscale\":[[0.0,\"#0d0887\"],[0.1111111111111111,\"#46039f\"],[0.2222222222222222,\"#7201a8\"],[0.3333333333333333,\"#9c179e\"],[0.4444444444444444,\"#bd3786\"],[0.5555555555555556,\"#d8576b\"],[0.6666666666666666,\"#ed7953\"],[0.7777777777777778,\"#fb9f3a\"],[0.8888888888888888,\"#fdca26\"],[1.0,\"#f0f921\"]]}],\"choropleth\":[{\"type\":\"choropleth\",\"colorbar\":{\"outlinewidth\":0,\"ticks\":\"\"}}],\"histogram2d\":[{\"type\":\"histogram2d\",\"colorbar\":{\"outlinewidth\":0,\"ticks\":\"\"},\"colorscale\":[[0.0,\"#0d0887\"],[0.1111111111111111,\"#46039f\"],[0.2222222222222222,\"#7201a8\"],[0.3333333333333333,\"#9c179e\"],[0.4444444444444444,\"#bd3786\"],[0.5555555555555556,\"#d8576b\"],[0.6666666666666666,\"#ed7953\"],[0.7777777777777778,\"#fb9f3a\"],[0.8888888888888888,\"#fdca26\"],[1.0,\"#f0f921\"]]}],\"heatmap\":[{\"type\":\"heatmap\",\"colorbar\":{\"outlinewidth\":0,\"ticks\":\"\"},\"colorscale\":[[0.0,\"#0d0887\"],[0.1111111111111111,\"#46039f\"],[0.2222222222222222,\"#7201a8\"],[0.3333333333333333,\"#9c179e\"],[0.4444444444444444,\"#bd3786\"],[0.5555555555555556,\"#d8576b\"],[0.6666666666666666,\"#ed7953\"],[0.7777777777777778,\"#fb9f3a\"],[0.8888888888888888,\"#fdca26\"],[1.0,\"#f0f921\"]]}],\"heatmapgl\":[{\"type\":\"heatmapgl\",\"colorbar\":{\"outlinewidth\":0,\"ticks\":\"\"},\"colorscale\":[[0.0,\"#0d0887\"],[0.1111111111111111,\"#46039f\"],[0.2222222222222222,\"#7201a8\"],[0.3333333333333333,\"#9c179e\"],[0.4444444444444444,\"#bd3786\"],[0.5555555555555556,\"#d8576b\"],[0.6666666666666666,\"#ed7953\"],[0.7777777777777778,\"#fb9f3a\"],[0.8888888888888888,\"#fdca26\"],[1.0,\"#f0f921\"]]}],\"contourcarpet\":[{\"type\":\"contourcarpet\",\"colorbar\":{\"outlinewidth\":0,\"ticks\":\"\"}}],\"contour\":[{\"type\":\"contour\",\"colorbar\":{\"outlinewidth\":0,\"ticks\":\"\"},\"colorscale\":[[0.0,\"#0d0887\"],[0.1111111111111111,\"#46039f\"],[0.2222222222222222,\"#7201a8\"],[0.3333333333333333,\"#9c179e\"],[0.4444444444444444,\"#bd3786\"],[0.5555555555555556,\"#d8576b\"],[0.6666666666666666,\"#ed7953\"],[0.7777777777777778,\"#fb9f3a\"],[0.8888888888888888,\"#fdca26\"],[1.0,\"#f0f921\"]]}],\"surface\":[{\"type\":\"surface\",\"colorbar\":{\"outlinewidth\":0,\"ticks\":\"\"},\"colorscale\":[[0.0,\"#0d0887\"],[0.1111111111111111,\"#46039f\"],[0.2222222222222222,\"#7201a8\"],[0.3333333333333333,\"#9c179e\"],[0.4444444444444444,\"#bd3786\"],[0.5555555555555556,\"#d8576b\"],[0.6666666666666666,\"#ed7953\"],[0.7777777777777778,\"#fb9f3a\"],[0.8888888888888888,\"#fdca26\"],[1.0,\"#f0f921\"]]}],\"mesh3d\":[{\"type\":\"mesh3d\",\"colorbar\":{\"outlinewidth\":0,\"ticks\":\"\"}}],\"scatter\":[{\"fillpattern\":{\"fillmode\":\"overlay\",\"size\":10,\"solidity\":0.2},\"type\":\"scatter\"}],\"parcoords\":[{\"type\":\"parcoords\",\"line\":{\"colorbar\":{\"outlinewidth\":0,\"ticks\":\"\"}}}],\"scatterpolargl\":[{\"type\":\"scatterpolargl\",\"marker\":{\"colorbar\":{\"outlinewidth\":0,\"ticks\":\"\"}}}],\"bar\":[{\"error_x\":{\"color\":\"#2a3f5f\"},\"error_y\":{\"color\":\"#2a3f5f\"},\"marker\":{\"line\":{\"color\":\"#E5ECF6\",\"width\":0.5},\"pattern\":{\"fillmode\":\"overlay\",\"size\":10,\"solidity\":0.2}},\"type\":\"bar\"}],\"scattergeo\":[{\"type\":\"scattergeo\",\"marker\":{\"colorbar\":{\"outlinewidth\":0,\"ticks\":\"\"}}}],\"scatterpolar\":[{\"type\":\"scatterpolar\",\"marker\":{\"colorbar\":{\"outlinewidth\":0,\"ticks\":\"\"}}}],\"histogram\":[{\"marker\":{\"pattern\":{\"fillmode\":\"overlay\",\"size\":10,\"solidity\":0.2}},\"type\":\"histogram\"}],\"scattergl\":[{\"type\":\"scattergl\",\"marker\":{\"colorbar\":{\"outlinewidth\":0,\"ticks\":\"\"}}}],\"scatter3d\":[{\"type\":\"scatter3d\",\"line\":{\"colorbar\":{\"outlinewidth\":0,\"ticks\":\"\"}},\"marker\":{\"colorbar\":{\"outlinewidth\":0,\"ticks\":\"\"}}}],\"scattermapbox\":[{\"type\":\"scattermapbox\",\"marker\":{\"colorbar\":{\"outlinewidth\":0,\"ticks\":\"\"}}}],\"scatterternary\":[{\"type\":\"scatterternary\",\"marker\":{\"colorbar\":{\"outlinewidth\":0,\"ticks\":\"\"}}}],\"scattercarpet\":[{\"type\":\"scattercarpet\",\"marker\":{\"colorbar\":{\"outlinewidth\":0,\"ticks\":\"\"}}}],\"carpet\":[{\"aaxis\":{\"endlinecolor\":\"#2a3f5f\",\"gridcolor\":\"white\",\"linecolor\":\"white\",\"minorgridcolor\":\"white\",\"startlinecolor\":\"#2a3f5f\"},\"baxis\":{\"endlinecolor\":\"#2a3f5f\",\"gridcolor\":\"white\",\"linecolor\":\"white\",\"minorgridcolor\":\"white\",\"startlinecolor\":\"#2a3f5f\"},\"type\":\"carpet\"}],\"table\":[{\"cells\":{\"fill\":{\"color\":\"#EBF0F8\"},\"line\":{\"color\":\"white\"}},\"header\":{\"fill\":{\"color\":\"#C8D4E3\"},\"line\":{\"color\":\"white\"}},\"type\":\"table\"}],\"barpolar\":[{\"marker\":{\"line\":{\"color\":\"#E5ECF6\",\"width\":0.5},\"pattern\":{\"fillmode\":\"overlay\",\"size\":10,\"solidity\":0.2}},\"type\":\"barpolar\"}],\"pie\":[{\"automargin\":true,\"type\":\"pie\"}]},\"layout\":{\"autotypenumbers\":\"strict\",\"colorway\":[\"#636efa\",\"#EF553B\",\"#00cc96\",\"#ab63fa\",\"#FFA15A\",\"#19d3f3\",\"#FF6692\",\"#B6E880\",\"#FF97FF\",\"#FECB52\"],\"font\":{\"color\":\"#2a3f5f\"},\"hovermode\":\"closest\",\"hoverlabel\":{\"align\":\"left\"},\"paper_bgcolor\":\"white\",\"plot_bgcolor\":\"#E5ECF6\",\"polar\":{\"bgcolor\":\"#E5ECF6\",\"angularaxis\":{\"gridcolor\":\"white\",\"linecolor\":\"white\",\"ticks\":\"\"},\"radialaxis\":{\"gridcolor\":\"white\",\"linecolor\":\"white\",\"ticks\":\"\"}},\"ternary\":{\"bgcolor\":\"#E5ECF6\",\"aaxis\":{\"gridcolor\":\"white\",\"linecolor\":\"white\",\"ticks\":\"\"},\"baxis\":{\"gridcolor\":\"white\",\"linecolor\":\"white\",\"ticks\":\"\"},\"caxis\":{\"gridcolor\":\"white\",\"linecolor\":\"white\",\"ticks\":\"\"}},\"coloraxis\":{\"colorbar\":{\"outlinewidth\":0,\"ticks\":\"\"}},\"colorscale\":{\"sequential\":[[0.0,\"#0d0887\"],[0.1111111111111111,\"#46039f\"],[0.2222222222222222,\"#7201a8\"],[0.3333333333333333,\"#9c179e\"],[0.4444444444444444,\"#bd3786\"],[0.5555555555555556,\"#d8576b\"],[0.6666666666666666,\"#ed7953\"],[0.7777777777777778,\"#fb9f3a\"],[0.8888888888888888,\"#fdca26\"],[1.0,\"#f0f921\"]],\"sequentialminus\":[[0.0,\"#0d0887\"],[0.1111111111111111,\"#46039f\"],[0.2222222222222222,\"#7201a8\"],[0.3333333333333333,\"#9c179e\"],[0.4444444444444444,\"#bd3786\"],[0.5555555555555556,\"#d8576b\"],[0.6666666666666666,\"#ed7953\"],[0.7777777777777778,\"#fb9f3a\"],[0.8888888888888888,\"#fdca26\"],[1.0,\"#f0f921\"]],\"diverging\":[[0,\"#8e0152\"],[0.1,\"#c51b7d\"],[0.2,\"#de77ae\"],[0.3,\"#f1b6da\"],[0.4,\"#fde0ef\"],[0.5,\"#f7f7f7\"],[0.6,\"#e6f5d0\"],[0.7,\"#b8e186\"],[0.8,\"#7fbc41\"],[0.9,\"#4d9221\"],[1,\"#276419\"]]},\"xaxis\":{\"gridcolor\":\"white\",\"linecolor\":\"white\",\"ticks\":\"\",\"title\":{\"standoff\":15},\"zerolinecolor\":\"white\",\"automargin\":true,\"zerolinewidth\":2},\"yaxis\":{\"gridcolor\":\"white\",\"linecolor\":\"white\",\"ticks\":\"\",\"title\":{\"standoff\":15},\"zerolinecolor\":\"white\",\"automargin\":true,\"zerolinewidth\":2},\"scene\":{\"xaxis\":{\"backgroundcolor\":\"#E5ECF6\",\"gridcolor\":\"white\",\"linecolor\":\"white\",\"showbackground\":true,\"ticks\":\"\",\"zerolinecolor\":\"white\",\"gridwidth\":2},\"yaxis\":{\"backgroundcolor\":\"#E5ECF6\",\"gridcolor\":\"white\",\"linecolor\":\"white\",\"showbackground\":true,\"ticks\":\"\",\"zerolinecolor\":\"white\",\"gridwidth\":2},\"zaxis\":{\"backgroundcolor\":\"#E5ECF6\",\"gridcolor\":\"white\",\"linecolor\":\"white\",\"showbackground\":true,\"ticks\":\"\",\"zerolinecolor\":\"white\",\"gridwidth\":2}},\"shapedefaults\":{\"line\":{\"color\":\"#2a3f5f\"}},\"annotationdefaults\":{\"arrowcolor\":\"#2a3f5f\",\"arrowhead\":0,\"arrowwidth\":1},\"geo\":{\"bgcolor\":\"white\",\"landcolor\":\"#E5ECF6\",\"subunitcolor\":\"white\",\"showland\":true,\"showlakes\":true,\"lakecolor\":\"white\"},\"title\":{\"x\":0.05},\"mapbox\":{\"style\":\"light\"}}},\"xaxis\":{\"anchor\":\"y\",\"domain\":[0.0,1.0],\"title\":{\"text\":\"sub_region\"}},\"yaxis\":{\"anchor\":\"x\",\"domain\":[0.0,1.0],\"title\":{\"text\":\"Residuals\"}},\"legend\":{\"tracegroupgap\":0},\"title\":{\"text\":\"Residuals Distribution Across Sub-Regions\"},\"boxmode\":\"group\"},                        {\"responsive\": true}                    ).then(function(){\n",
       "                            \n",
       "var gd = document.getElementById('1e98c128-017f-4d76-b1bd-b6cb7c9a3fe5');\n",
       "var x = new MutationObserver(function (mutations, observer) {{\n",
       "        var display = window.getComputedStyle(gd).display;\n",
       "        if (!display || display === 'none') {{\n",
       "            console.log([gd, 'removed!']);\n",
       "            Plotly.purge(gd);\n",
       "            observer.disconnect();\n",
       "        }}\n",
       "}});\n",
       "\n",
       "// Listen for the removal of the full notebook cells\n",
       "var notebookContainer = gd.closest('#notebook-container');\n",
       "if (notebookContainer) {{\n",
       "    x.observe(notebookContainer, {childList: true});\n",
       "}}\n",
       "\n",
       "// Listen for the clearing of the current output cell\n",
       "var outputEl = gd.closest('.output');\n",
       "if (outputEl) {{\n",
       "    x.observe(outputEl, {childList: true});\n",
       "}}\n",
       "\n",
       "                        })                };                });            </script>        </div>"
      ]
     },
     "metadata": {},
     "output_type": "display_data"
    }
   ],
   "source": [
    "fig = px.box(predictions, x='sub_region', y='Residuals', title=\"Residuals Distribution Across Sub-Regions\")\n",
    "fig.show()"
   ]
  },
  {
   "cell_type": "code",
   "execution_count": 15,
   "id": "62bd5144",
   "metadata": {},
   "outputs": [
    {
     "data": {
      "application/vnd.plotly.v1+json": {
       "config": {
        "plotlyServerURL": "https://plot.ly"
       },
       "data": [
        {
         "hovertemplate": "sub_region=Southern Europe<br>prediction_label=%{x}<br>standardized_residuals=%{y}<extra></extra>",
         "legendgroup": "Southern Europe",
         "marker": {
          "color": "#636efa",
          "symbol": "circle"
         },
         "mode": "markers",
         "name": "Southern Europe",
         "orientation": "v",
         "showlegend": true,
         "type": "scatter",
         "x": [
          102.17075168523426,
          1402.7258299293155,
          391.4180175035354,
          712.5899023329719,
          892.525179472119,
          1072.587774437639,
          1014.6010386514137,
          3880.605012259879,
          6623.072219015205,
          534.0442335517316,
          242.8594913283437,
          907.647891863835,
          511.25012182155956,
          796.1856004486104,
          1945.3430808330365,
          874.6259587450197,
          2252.438006613417
         ],
         "xaxis": "x",
         "y": [
          0.10718757984004063,
          -0.6871435935266124,
          -0.16639419407157024,
          -0.10637569217584221,
          -0.3066265274918681,
          -0.39991567639567277,
          -0.45188192274730365,
          -2.256297098148558,
          -2.9729173560587703,
          -0.26337142992880996,
          0.14705563369606162,
          -0.4289947432626206,
          -0.31920804408682324,
          -0.2087831486189691,
          -0.47771081625618084,
          0.2439953470089954,
          -0.2165056908960581
         ],
         "yaxis": "y"
        },
        {
         "alignmentgroup": "True",
         "bingroup": "y",
         "hovertemplate": "sub_region=Southern Europe<br>standardized_residuals=%{y}<br>count=%{x}<extra></extra>",
         "legendgroup": "Southern Europe",
         "marker": {
          "color": "#636efa"
         },
         "name": "Southern Europe",
         "offsetgroup": "Southern Europe",
         "opacity": 0.5,
         "showlegend": false,
         "type": "histogram",
         "xaxis": "x2",
         "y": [
          0.10718757984004063,
          -0.6871435935266124,
          -0.16639419407157024,
          -0.10637569217584221,
          -0.3066265274918681,
          -0.39991567639567277,
          -0.45188192274730365,
          -2.256297098148558,
          -2.9729173560587703,
          -0.26337142992880996,
          0.14705563369606162,
          -0.4289947432626206,
          -0.31920804408682324,
          -0.2087831486189691,
          -0.47771081625618084,
          0.2439953470089954,
          -0.2165056908960581
         ],
         "yaxis": "y2"
        },
        {
         "hovertemplate": "sub_region=Eastern Asia<br>prediction_label=%{x}<br>standardized_residuals=%{y}<extra></extra>",
         "legendgroup": "Eastern Asia",
         "marker": {
          "color": "#EF553B",
          "symbol": "circle"
         },
         "mode": "markers",
         "name": "Eastern Asia",
         "orientation": "v",
         "showlegend": true,
         "type": "scatter",
         "x": [
          3909.7704871114506,
          6920.920249130324,
          5268.208083240094,
          3858.3344491629646,
          5897.937025079799,
          4435.815738083743,
          2326.711862829154,
          940.3044486118208,
          4709.619327117738,
          5795.85333626691,
          4833.920243871619,
          2043.780415821033,
          1606.9072728099468,
          2737.385426378707,
          4849.963972840398,
          9016.523576894417,
          2399.9164016263617,
          4121.339356974152,
          2432.598041184661,
          3536.359884333109,
          1552.4975766685916,
          2565.4349745077,
          1266.8177926573169,
          4220.215656449808,
          1985.8244320984018,
          393.6873156975606,
          7268.441549259022,
          1956.4130366664212,
          4361.574067220727,
          2037.9995264626702,
          5196.764660166508,
          2735.0654534078085,
          4950.439051173166,
          5322.941802880912,
          3526.810497421209,
          7065.36375651176,
          6869.34082113443,
          2263.260504176783,
          6016.382738518791,
          3099.15187940601,
          5077.396011182047,
          3857.1356519534484,
          5493.089427639241,
          7892.356812536884,
          1667.91238774261,
          2335.6024216704027,
          6908.393711495163,
          956.6154533581798,
          8427.881808975493,
          2020.4027677777926,
          8052.29400413316,
          4180.952361207191,
          7580.593788473695,
          4021.556856527583,
          2370.148299614138,
          5554.047695999176,
          7322.05767228667,
          704.8064894089756,
          3752.622115837646,
          293.30295869800506,
          5350.305891165746,
          6076.583043730741,
          1647.5365707111987,
          1027.7243429452365,
          3437.833188695071,
          4017.676583449817,
          530.0959489040278,
          2276.853202040228,
          1009.7698706434339,
          6080.43418189986,
          3054.8356663413815,
          2223.060479841364,
          4880.219989336049,
          2390.5820074790686,
          7419.856289871027,
          3522.063720092318,
          2121.4795657781824,
          5201.343920562827,
          2771.722335679372,
          8993.950610021906,
          7164.924471631425,
          4254.139530042213
         ],
         "xaxis": "x",
         "y": [
          0.11086173350641913,
          2.0652957993390353,
          -0.11140544785525983,
          0.6046542134687367,
          1.5664649530011903,
          -1.2415624129233056,
          2.144803818869288,
          0.12959416135494814,
          -3.0164742701569693,
          0.12695827078031854,
          0.7955879028561514,
          -0.13109234426606745,
          -0.4698905312918919,
          -1.2587918095111483,
          4.171050187053832,
          -0.8342342882418152,
          -1.1622533953429792,
          1.9044650926776512,
          0.865204248894011,
          -0.08175671352877935,
          0.24437950589482976,
          0.0025816004918747934,
          -0.46500792249082595,
          -0.7208270431355275,
          0.27150232890249143,
          -0.047074300987293705,
          0.1491570483615328,
          -0.06213943812243383,
          -0.7817328386361185,
          -0.3029452402087591,
          -0.15097933301366367,
          -0.163010758863268,
          0.9327347566248745,
          0.022922047986947438,
          -0.24605553818057577,
          -0.762750471765021,
          0.7362560661902658,
          -0.12289745222728114,
          0.267034550242766,
          -0.5900997015828551,
          -0.4911822211201383,
          -0.04238950291399794,
          -0.6413264696616281,
          1.7512096225860998,
          0.0594371846150378,
          -0.4257259883128896,
          2.7821143405341573,
          0.5685772547996735,
          -0.7803518294959371,
          -0.8121043393671602,
          -2.589717677876966,
          -1.8853385417258366,
          0.433241193754502,
          -0.08261965302651933,
          0.20436501326851347,
          1.8033498194331006,
          0.4494984934670181,
          0.10738341907848155,
          0.053818527577218785,
          0.046552674813028404,
          0.9439845150264756,
          2.2198498405485276,
          -0.6405752941423192,
          0.3009800903324007,
          -0.2906674117027766,
          0.338544548268741,
          0.024930971110588195,
          -0.4181793492777123,
          1.0996286704927467,
          0.06401240395184254,
          0.7837843909066909,
          -0.39789087818926117,
          3.7514767424865485,
          0.6106396489707562,
          0.1184812129425209,
          -0.024742563847081497,
          0.13339953545093663,
          -0.05358846693352071,
          0.7728715609659034,
          1.4408125266407783,
          -1.3458269367592544,
          0.07856111937140106
         ],
         "yaxis": "y"
        },
        {
         "alignmentgroup": "True",
         "bingroup": "y",
         "hovertemplate": "sub_region=Eastern Asia<br>standardized_residuals=%{y}<br>count=%{x}<extra></extra>",
         "legendgroup": "Eastern Asia",
         "marker": {
          "color": "#EF553B"
         },
         "name": "Eastern Asia",
         "offsetgroup": "Eastern Asia",
         "opacity": 0.5,
         "showlegend": false,
         "type": "histogram",
         "xaxis": "x2",
         "y": [
          0.11086173350641913,
          2.0652957993390353,
          -0.11140544785525983,
          0.6046542134687367,
          1.5664649530011903,
          -1.2415624129233056,
          2.144803818869288,
          0.12959416135494814,
          -3.0164742701569693,
          0.12695827078031854,
          0.7955879028561514,
          -0.13109234426606745,
          -0.4698905312918919,
          -1.2587918095111483,
          4.171050187053832,
          -0.8342342882418152,
          -1.1622533953429792,
          1.9044650926776512,
          0.865204248894011,
          -0.08175671352877935,
          0.24437950589482976,
          0.0025816004918747934,
          -0.46500792249082595,
          -0.7208270431355275,
          0.27150232890249143,
          -0.047074300987293705,
          0.1491570483615328,
          -0.06213943812243383,
          -0.7817328386361185,
          -0.3029452402087591,
          -0.15097933301366367,
          -0.163010758863268,
          0.9327347566248745,
          0.022922047986947438,
          -0.24605553818057577,
          -0.762750471765021,
          0.7362560661902658,
          -0.12289745222728114,
          0.267034550242766,
          -0.5900997015828551,
          -0.4911822211201383,
          -0.04238950291399794,
          -0.6413264696616281,
          1.7512096225860998,
          0.0594371846150378,
          -0.4257259883128896,
          2.7821143405341573,
          0.5685772547996735,
          -0.7803518294959371,
          -0.8121043393671602,
          -2.589717677876966,
          -1.8853385417258366,
          0.433241193754502,
          -0.08261965302651933,
          0.20436501326851347,
          1.8033498194331006,
          0.4494984934670181,
          0.10738341907848155,
          0.053818527577218785,
          0.046552674813028404,
          0.9439845150264756,
          2.2198498405485276,
          -0.6405752941423192,
          0.3009800903324007,
          -0.2906674117027766,
          0.338544548268741,
          0.024930971110588195,
          -0.4181793492777123,
          1.0996286704927467,
          0.06401240395184254,
          0.7837843909066909,
          -0.39789087818926117,
          3.7514767424865485,
          0.6106396489707562,
          0.1184812129425209,
          -0.024742563847081497,
          0.13339953545093663,
          -0.05358846693352071,
          0.7728715609659034,
          1.4408125266407783,
          -1.3458269367592544,
          0.07856111937140106
         ],
         "yaxis": "y2"
        },
        {
         "hovertemplate": "sub_region=Latin America and the Caribbean<br>prediction_label=%{x}<br>standardized_residuals=%{y}<extra></extra>",
         "legendgroup": "Latin America and the Caribbean",
         "marker": {
          "color": "#00cc96",
          "symbol": "circle"
         },
         "mode": "markers",
         "name": "Latin America and the Caribbean",
         "orientation": "v",
         "showlegend": true,
         "type": "scatter",
         "x": [
          6760.0144776494335,
          4752.053710921977,
          4896.070492625913
         ],
         "xaxis": "x",
         "y": [
          -0.8457225120386594,
          -0.7965556945542388,
          -0.23511010026048043
         ],
         "yaxis": "y"
        },
        {
         "alignmentgroup": "True",
         "bingroup": "y",
         "hovertemplate": "sub_region=Latin America and the Caribbean<br>standardized_residuals=%{y}<br>count=%{x}<extra></extra>",
         "legendgroup": "Latin America and the Caribbean",
         "marker": {
          "color": "#00cc96"
         },
         "name": "Latin America and the Caribbean",
         "offsetgroup": "Latin America and the Caribbean",
         "opacity": 0.5,
         "showlegend": false,
         "type": "histogram",
         "xaxis": "x2",
         "y": [
          -0.8457225120386594,
          -0.7965556945542388,
          -0.23511010026048043
         ],
         "yaxis": "y2"
        },
        {
         "hovertemplate": "sub_region=Northern America<br>prediction_label=%{x}<br>standardized_residuals=%{y}<extra></extra>",
         "legendgroup": "Northern America",
         "marker": {
          "color": "#ab63fa",
          "symbol": "circle"
         },
         "mode": "markers",
         "name": "Northern America",
         "orientation": "v",
         "showlegend": true,
         "type": "scatter",
         "x": [
          2349.239536122795,
          711.2659472678106,
          1385.8422258624107,
          1160.8819740647707,
          209.79699774698219,
          1177.09158857903,
          3654.6368023481477,
          798.6157997011635,
          2130.0428711993322,
          393.67144367998924,
          570.6932402499672,
          1951.678404739919,
          1114.7082816758182,
          1618.9009414356337,
          3323.212787077543,
          745.4051572946913,
          912.2279723028626,
          668.0533491689931
         ],
         "xaxis": "x",
         "y": [
          -0.5655264318227493,
          -0.1933616346954348,
          -0.4157258535111172,
          0.19416865131480918,
          0.08744701023847673,
          0.158857161404513,
          -2.130048286657006,
          -0.20708040017746085,
          0.26805321106105906,
          0.3019562017242479,
          -0.045135919285423105,
          -0.35949386361499547,
          -0.43790689325302995,
          1.512254169409071,
          -1.0913274876964663,
          0.07623203932735458,
          -0.3699402867415168,
          -0.1747198869047541
         ],
         "yaxis": "y"
        },
        {
         "alignmentgroup": "True",
         "bingroup": "y",
         "hovertemplate": "sub_region=Northern America<br>standardized_residuals=%{y}<br>count=%{x}<extra></extra>",
         "legendgroup": "Northern America",
         "marker": {
          "color": "#ab63fa"
         },
         "name": "Northern America",
         "offsetgroup": "Northern America",
         "opacity": 0.5,
         "showlegend": false,
         "type": "histogram",
         "xaxis": "x2",
         "y": [
          -0.5655264318227493,
          -0.1933616346954348,
          -0.4157258535111172,
          0.19416865131480918,
          0.08744701023847673,
          0.158857161404513,
          -2.130048286657006,
          -0.20708040017746085,
          0.26805321106105906,
          0.3019562017242479,
          -0.045135919285423105,
          -0.35949386361499547,
          -0.43790689325302995,
          1.512254169409071,
          -1.0913274876964663,
          0.07623203932735458,
          -0.3699402867415168,
          -0.1747198869047541
         ],
         "yaxis": "y2"
        },
        {
         "hovertemplate": "sub_region=Northern Europe<br>prediction_label=%{x}<br>standardized_residuals=%{y}<extra></extra>",
         "legendgroup": "Northern Europe",
         "marker": {
          "color": "#FFA15A",
          "symbol": "circle"
         },
         "mode": "markers",
         "name": "Northern Europe",
         "orientation": "v",
         "showlegend": true,
         "type": "scatter",
         "x": [
          2256.100621524896,
          3659.4499656355856
         ],
         "xaxis": "x",
         "y": [
          -0.849983062559264,
          -1.6484812676918918
         ],
         "yaxis": "y"
        },
        {
         "alignmentgroup": "True",
         "bingroup": "y",
         "hovertemplate": "sub_region=Northern Europe<br>standardized_residuals=%{y}<br>count=%{x}<extra></extra>",
         "legendgroup": "Northern Europe",
         "marker": {
          "color": "#FFA15A"
         },
         "name": "Northern Europe",
         "offsetgroup": "Northern Europe",
         "opacity": 0.5,
         "showlegend": false,
         "type": "histogram",
         "xaxis": "x2",
         "y": [
          -0.849983062559264,
          -1.6484812676918918
         ],
         "yaxis": "y2"
        },
        {
         "hovertemplate": "sub_region=Western Asia<br>prediction_label=%{x}<br>standardized_residuals=%{y}<extra></extra>",
         "legendgroup": "Western Asia",
         "marker": {
          "color": "#19d3f3",
          "symbol": "circle"
         },
         "mode": "markers",
         "name": "Western Asia",
         "orientation": "v",
         "showlegend": true,
         "type": "scatter",
         "x": [
          1984.646631822834,
          4830.721371054077,
          2129.8473303427772,
          1184.2029729575074,
          2991.1267819448067,
          532.4827107811745
         ],
         "xaxis": "x",
         "y": [
          0.5635569241574094,
          0.2584397006690281,
          -0.8469166891395016,
          -0.3890428681078866,
          -1.1753838458508226,
          -0.19744453381502403
         ],
         "yaxis": "y"
        },
        {
         "alignmentgroup": "True",
         "bingroup": "y",
         "hovertemplate": "sub_region=Western Asia<br>standardized_residuals=%{y}<br>count=%{x}<extra></extra>",
         "legendgroup": "Western Asia",
         "marker": {
          "color": "#19d3f3"
         },
         "name": "Western Asia",
         "offsetgroup": "Western Asia",
         "opacity": 0.5,
         "showlegend": false,
         "type": "histogram",
         "xaxis": "x2",
         "y": [
          0.5635569241574094,
          0.2584397006690281,
          -0.8469166891395016,
          -0.3890428681078866,
          -1.1753838458508226,
          -0.19744453381502403
         ],
         "yaxis": "y2"
        },
        {
         "hovertemplate": "sub_region=Southern Asia<br>prediction_label=%{x}<br>standardized_residuals=%{y}<extra></extra>",
         "legendgroup": "Southern Asia",
         "marker": {
          "color": "#FF6692",
          "symbol": "circle"
         },
         "mode": "markers",
         "name": "Southern Asia",
         "orientation": "v",
         "showlegend": true,
         "type": "scatter",
         "x": [
          5023.398728304678,
          4470.762016782005,
          2967.6183700283163,
          2477.568581498402,
          5210.817013271293,
          1839.2855960419786
         ],
         "xaxis": "x",
         "y": [
          -0.047284043744483396,
          2.619513276812443,
          0.2606008073520154,
          0.011432170425808566,
          0.6507843230068241,
          0.19530780987473803
         ],
         "yaxis": "y"
        },
        {
         "alignmentgroup": "True",
         "bingroup": "y",
         "hovertemplate": "sub_region=Southern Asia<br>standardized_residuals=%{y}<br>count=%{x}<extra></extra>",
         "legendgroup": "Southern Asia",
         "marker": {
          "color": "#FF6692"
         },
         "name": "Southern Asia",
         "offsetgroup": "Southern Asia",
         "opacity": 0.5,
         "showlegend": false,
         "type": "histogram",
         "xaxis": "x2",
         "y": [
          -0.047284043744483396,
          2.619513276812443,
          0.2606008073520154,
          0.011432170425808566,
          0.6507843230068241,
          0.19530780987473803
         ],
         "yaxis": "y2"
        },
        {
         "hovertemplate": "sub_region=Western Europe<br>prediction_label=%{x}<br>standardized_residuals=%{y}<extra></extra>",
         "legendgroup": "Western Europe",
         "marker": {
          "color": "#B6E880",
          "symbol": "circle"
         },
         "mode": "markers",
         "name": "Western Europe",
         "orientation": "v",
         "showlegend": true,
         "type": "scatter",
         "x": [
          1985.32896604746,
          1548.8883529177147,
          2184.3856253609865,
          529.3405672772227,
          305.4627479109936,
          189.12254000875805,
          953.4646920086276,
          929.8792767142431,
          2079.132961976022,
          353.2571685693962
         ],
         "xaxis": "x",
         "y": [
          -1.2697822583585578,
          0.7208426459222813,
          -0.5239803879166212,
          0.04335050487779172,
          0.18984355199605987,
          0.008573857949728194,
          0.47691763602095505,
          -0.37664977694650476,
          -0.03825693207422545,
          -0.1491836808600407
         ],
         "yaxis": "y"
        },
        {
         "alignmentgroup": "True",
         "bingroup": "y",
         "hovertemplate": "sub_region=Western Europe<br>standardized_residuals=%{y}<br>count=%{x}<extra></extra>",
         "legendgroup": "Western Europe",
         "marker": {
          "color": "#B6E880"
         },
         "name": "Western Europe",
         "offsetgroup": "Western Europe",
         "opacity": 0.5,
         "showlegend": false,
         "type": "histogram",
         "xaxis": "x2",
         "y": [
          -1.2697822583585578,
          0.7208426459222813,
          -0.5239803879166212,
          0.04335050487779172,
          0.18984355199605987,
          0.008573857949728194,
          0.47691763602095505,
          -0.37664977694650476,
          -0.03825693207422545,
          -0.1491836808600407
         ],
         "yaxis": "y2"
        },
        {
         "hovertemplate": "sub_region=South-eastern Asia<br>prediction_label=%{x}<br>standardized_residuals=%{y}<extra></extra>",
         "legendgroup": "South-eastern Asia",
         "marker": {
          "color": "#FF97FF",
          "symbol": "circle"
         },
         "mode": "markers",
         "name": "South-eastern Asia",
         "orientation": "v",
         "showlegend": true,
         "type": "scatter",
         "x": [
          1978.6576126423251,
          3089.845584975268
         ],
         "xaxis": "x",
         "y": [
          1.0551708669291096,
          0.1254756601104307
         ],
         "yaxis": "y"
        },
        {
         "alignmentgroup": "True",
         "bingroup": "y",
         "hovertemplate": "sub_region=South-eastern Asia<br>standardized_residuals=%{y}<br>count=%{x}<extra></extra>",
         "legendgroup": "South-eastern Asia",
         "marker": {
          "color": "#FF97FF"
         },
         "name": "South-eastern Asia",
         "offsetgroup": "South-eastern Asia",
         "opacity": 0.5,
         "showlegend": false,
         "type": "histogram",
         "xaxis": "x2",
         "y": [
          1.0551708669291096,
          0.1254756601104307
         ],
         "yaxis": "y2"
        },
        {
         "hovertemplate": "sub_region=Eastern Europe<br>prediction_label=%{x}<br>standardized_residuals=%{y}<extra></extra>",
         "legendgroup": "Eastern Europe",
         "marker": {
          "color": "#FECB52",
          "symbol": "circle"
         },
         "mode": "markers",
         "name": "Eastern Europe",
         "orientation": "v",
         "showlegend": true,
         "type": "scatter",
         "x": [
          925.7097077597173,
          559.6767102363265,
          1467.9905068613652,
          1610.4666637931011,
          1070.1224767475255
         ],
         "xaxis": "x",
         "y": [
          -0.026447850460265876,
          0.18624407601428858,
          0.3957061658797999,
          0.6790251313961008,
          -0.2029518320718047
         ],
         "yaxis": "y"
        },
        {
         "alignmentgroup": "True",
         "bingroup": "y",
         "hovertemplate": "sub_region=Eastern Europe<br>standardized_residuals=%{y}<br>count=%{x}<extra></extra>",
         "legendgroup": "Eastern Europe",
         "marker": {
          "color": "#FECB52"
         },
         "name": "Eastern Europe",
         "offsetgroup": "Eastern Europe",
         "opacity": 0.5,
         "showlegend": false,
         "type": "histogram",
         "xaxis": "x2",
         "y": [
          -0.026447850460265876,
          0.18624407601428858,
          0.3957061658797999,
          0.6790251313961008,
          -0.2029518320718047
         ],
         "yaxis": "y2"
        },
        {
         "hovertemplate": "sub_region=Caribbean<br>prediction_label=%{x}<br>standardized_residuals=%{y}<extra></extra>",
         "legendgroup": "Caribbean",
         "marker": {
          "color": "#636efa",
          "symbol": "circle"
         },
         "mode": "markers",
         "name": "Caribbean",
         "orientation": "v",
         "showlegend": true,
         "type": "scatter",
         "x": [
          3322.1522572646472,
          2516.580677316223
         ],
         "xaxis": "x",
         "y": [
          -0.8560837817898093,
          -0.21814334935976062
         ],
         "yaxis": "y"
        },
        {
         "alignmentgroup": "True",
         "bingroup": "y",
         "hovertemplate": "sub_region=Caribbean<br>standardized_residuals=%{y}<br>count=%{x}<extra></extra>",
         "legendgroup": "Caribbean",
         "marker": {
          "color": "#636efa"
         },
         "name": "Caribbean",
         "offsetgroup": "Caribbean",
         "opacity": 0.5,
         "showlegend": false,
         "type": "histogram",
         "xaxis": "x2",
         "y": [
          -0.8560837817898093,
          -0.21814334935976062
         ],
         "yaxis": "y2"
        }
       ],
       "layout": {
        "barmode": "overlay",
        "legend": {
         "title": {
          "text": "sub_region"
         },
         "tracegroupgap": 0
        },
        "template": {
         "data": {
          "bar": [
           {
            "error_x": {
             "color": "#2a3f5f"
            },
            "error_y": {
             "color": "#2a3f5f"
            },
            "marker": {
             "line": {
              "color": "#E5ECF6",
              "width": 0.5
             },
             "pattern": {
              "fillmode": "overlay",
              "size": 10,
              "solidity": 0.2
             }
            },
            "type": "bar"
           }
          ],
          "barpolar": [
           {
            "marker": {
             "line": {
              "color": "#E5ECF6",
              "width": 0.5
             },
             "pattern": {
              "fillmode": "overlay",
              "size": 10,
              "solidity": 0.2
             }
            },
            "type": "barpolar"
           }
          ],
          "carpet": [
           {
            "aaxis": {
             "endlinecolor": "#2a3f5f",
             "gridcolor": "white",
             "linecolor": "white",
             "minorgridcolor": "white",
             "startlinecolor": "#2a3f5f"
            },
            "baxis": {
             "endlinecolor": "#2a3f5f",
             "gridcolor": "white",
             "linecolor": "white",
             "minorgridcolor": "white",
             "startlinecolor": "#2a3f5f"
            },
            "type": "carpet"
           }
          ],
          "choropleth": [
           {
            "colorbar": {
             "outlinewidth": 0,
             "ticks": ""
            },
            "type": "choropleth"
           }
          ],
          "contour": [
           {
            "colorbar": {
             "outlinewidth": 0,
             "ticks": ""
            },
            "colorscale": [
             [
              0,
              "#0d0887"
             ],
             [
              0.1111111111111111,
              "#46039f"
             ],
             [
              0.2222222222222222,
              "#7201a8"
             ],
             [
              0.3333333333333333,
              "#9c179e"
             ],
             [
              0.4444444444444444,
              "#bd3786"
             ],
             [
              0.5555555555555556,
              "#d8576b"
             ],
             [
              0.6666666666666666,
              "#ed7953"
             ],
             [
              0.7777777777777778,
              "#fb9f3a"
             ],
             [
              0.8888888888888888,
              "#fdca26"
             ],
             [
              1,
              "#f0f921"
             ]
            ],
            "type": "contour"
           }
          ],
          "contourcarpet": [
           {
            "colorbar": {
             "outlinewidth": 0,
             "ticks": ""
            },
            "type": "contourcarpet"
           }
          ],
          "heatmap": [
           {
            "colorbar": {
             "outlinewidth": 0,
             "ticks": ""
            },
            "colorscale": [
             [
              0,
              "#0d0887"
             ],
             [
              0.1111111111111111,
              "#46039f"
             ],
             [
              0.2222222222222222,
              "#7201a8"
             ],
             [
              0.3333333333333333,
              "#9c179e"
             ],
             [
              0.4444444444444444,
              "#bd3786"
             ],
             [
              0.5555555555555556,
              "#d8576b"
             ],
             [
              0.6666666666666666,
              "#ed7953"
             ],
             [
              0.7777777777777778,
              "#fb9f3a"
             ],
             [
              0.8888888888888888,
              "#fdca26"
             ],
             [
              1,
              "#f0f921"
             ]
            ],
            "type": "heatmap"
           }
          ],
          "heatmapgl": [
           {
            "colorbar": {
             "outlinewidth": 0,
             "ticks": ""
            },
            "colorscale": [
             [
              0,
              "#0d0887"
             ],
             [
              0.1111111111111111,
              "#46039f"
             ],
             [
              0.2222222222222222,
              "#7201a8"
             ],
             [
              0.3333333333333333,
              "#9c179e"
             ],
             [
              0.4444444444444444,
              "#bd3786"
             ],
             [
              0.5555555555555556,
              "#d8576b"
             ],
             [
              0.6666666666666666,
              "#ed7953"
             ],
             [
              0.7777777777777778,
              "#fb9f3a"
             ],
             [
              0.8888888888888888,
              "#fdca26"
             ],
             [
              1,
              "#f0f921"
             ]
            ],
            "type": "heatmapgl"
           }
          ],
          "histogram": [
           {
            "marker": {
             "pattern": {
              "fillmode": "overlay",
              "size": 10,
              "solidity": 0.2
             }
            },
            "type": "histogram"
           }
          ],
          "histogram2d": [
           {
            "colorbar": {
             "outlinewidth": 0,
             "ticks": ""
            },
            "colorscale": [
             [
              0,
              "#0d0887"
             ],
             [
              0.1111111111111111,
              "#46039f"
             ],
             [
              0.2222222222222222,
              "#7201a8"
             ],
             [
              0.3333333333333333,
              "#9c179e"
             ],
             [
              0.4444444444444444,
              "#bd3786"
             ],
             [
              0.5555555555555556,
              "#d8576b"
             ],
             [
              0.6666666666666666,
              "#ed7953"
             ],
             [
              0.7777777777777778,
              "#fb9f3a"
             ],
             [
              0.8888888888888888,
              "#fdca26"
             ],
             [
              1,
              "#f0f921"
             ]
            ],
            "type": "histogram2d"
           }
          ],
          "histogram2dcontour": [
           {
            "colorbar": {
             "outlinewidth": 0,
             "ticks": ""
            },
            "colorscale": [
             [
              0,
              "#0d0887"
             ],
             [
              0.1111111111111111,
              "#46039f"
             ],
             [
              0.2222222222222222,
              "#7201a8"
             ],
             [
              0.3333333333333333,
              "#9c179e"
             ],
             [
              0.4444444444444444,
              "#bd3786"
             ],
             [
              0.5555555555555556,
              "#d8576b"
             ],
             [
              0.6666666666666666,
              "#ed7953"
             ],
             [
              0.7777777777777778,
              "#fb9f3a"
             ],
             [
              0.8888888888888888,
              "#fdca26"
             ],
             [
              1,
              "#f0f921"
             ]
            ],
            "type": "histogram2dcontour"
           }
          ],
          "mesh3d": [
           {
            "colorbar": {
             "outlinewidth": 0,
             "ticks": ""
            },
            "type": "mesh3d"
           }
          ],
          "parcoords": [
           {
            "line": {
             "colorbar": {
              "outlinewidth": 0,
              "ticks": ""
             }
            },
            "type": "parcoords"
           }
          ],
          "pie": [
           {
            "automargin": true,
            "type": "pie"
           }
          ],
          "scatter": [
           {
            "fillpattern": {
             "fillmode": "overlay",
             "size": 10,
             "solidity": 0.2
            },
            "type": "scatter"
           }
          ],
          "scatter3d": [
           {
            "line": {
             "colorbar": {
              "outlinewidth": 0,
              "ticks": ""
             }
            },
            "marker": {
             "colorbar": {
              "outlinewidth": 0,
              "ticks": ""
             }
            },
            "type": "scatter3d"
           }
          ],
          "scattercarpet": [
           {
            "marker": {
             "colorbar": {
              "outlinewidth": 0,
              "ticks": ""
             }
            },
            "type": "scattercarpet"
           }
          ],
          "scattergeo": [
           {
            "marker": {
             "colorbar": {
              "outlinewidth": 0,
              "ticks": ""
             }
            },
            "type": "scattergeo"
           }
          ],
          "scattergl": [
           {
            "marker": {
             "colorbar": {
              "outlinewidth": 0,
              "ticks": ""
             }
            },
            "type": "scattergl"
           }
          ],
          "scattermapbox": [
           {
            "marker": {
             "colorbar": {
              "outlinewidth": 0,
              "ticks": ""
             }
            },
            "type": "scattermapbox"
           }
          ],
          "scatterpolar": [
           {
            "marker": {
             "colorbar": {
              "outlinewidth": 0,
              "ticks": ""
             }
            },
            "type": "scatterpolar"
           }
          ],
          "scatterpolargl": [
           {
            "marker": {
             "colorbar": {
              "outlinewidth": 0,
              "ticks": ""
             }
            },
            "type": "scatterpolargl"
           }
          ],
          "scatterternary": [
           {
            "marker": {
             "colorbar": {
              "outlinewidth": 0,
              "ticks": ""
             }
            },
            "type": "scatterternary"
           }
          ],
          "surface": [
           {
            "colorbar": {
             "outlinewidth": 0,
             "ticks": ""
            },
            "colorscale": [
             [
              0,
              "#0d0887"
             ],
             [
              0.1111111111111111,
              "#46039f"
             ],
             [
              0.2222222222222222,
              "#7201a8"
             ],
             [
              0.3333333333333333,
              "#9c179e"
             ],
             [
              0.4444444444444444,
              "#bd3786"
             ],
             [
              0.5555555555555556,
              "#d8576b"
             ],
             [
              0.6666666666666666,
              "#ed7953"
             ],
             [
              0.7777777777777778,
              "#fb9f3a"
             ],
             [
              0.8888888888888888,
              "#fdca26"
             ],
             [
              1,
              "#f0f921"
             ]
            ],
            "type": "surface"
           }
          ],
          "table": [
           {
            "cells": {
             "fill": {
              "color": "#EBF0F8"
             },
             "line": {
              "color": "white"
             }
            },
            "header": {
             "fill": {
              "color": "#C8D4E3"
             },
             "line": {
              "color": "white"
             }
            },
            "type": "table"
           }
          ]
         },
         "layout": {
          "annotationdefaults": {
           "arrowcolor": "#2a3f5f",
           "arrowhead": 0,
           "arrowwidth": 1
          },
          "autotypenumbers": "strict",
          "coloraxis": {
           "colorbar": {
            "outlinewidth": 0,
            "ticks": ""
           }
          },
          "colorscale": {
           "diverging": [
            [
             0,
             "#8e0152"
            ],
            [
             0.1,
             "#c51b7d"
            ],
            [
             0.2,
             "#de77ae"
            ],
            [
             0.3,
             "#f1b6da"
            ],
            [
             0.4,
             "#fde0ef"
            ],
            [
             0.5,
             "#f7f7f7"
            ],
            [
             0.6,
             "#e6f5d0"
            ],
            [
             0.7,
             "#b8e186"
            ],
            [
             0.8,
             "#7fbc41"
            ],
            [
             0.9,
             "#4d9221"
            ],
            [
             1,
             "#276419"
            ]
           ],
           "sequential": [
            [
             0,
             "#0d0887"
            ],
            [
             0.1111111111111111,
             "#46039f"
            ],
            [
             0.2222222222222222,
             "#7201a8"
            ],
            [
             0.3333333333333333,
             "#9c179e"
            ],
            [
             0.4444444444444444,
             "#bd3786"
            ],
            [
             0.5555555555555556,
             "#d8576b"
            ],
            [
             0.6666666666666666,
             "#ed7953"
            ],
            [
             0.7777777777777778,
             "#fb9f3a"
            ],
            [
             0.8888888888888888,
             "#fdca26"
            ],
            [
             1,
             "#f0f921"
            ]
           ],
           "sequentialminus": [
            [
             0,
             "#0d0887"
            ],
            [
             0.1111111111111111,
             "#46039f"
            ],
            [
             0.2222222222222222,
             "#7201a8"
            ],
            [
             0.3333333333333333,
             "#9c179e"
            ],
            [
             0.4444444444444444,
             "#bd3786"
            ],
            [
             0.5555555555555556,
             "#d8576b"
            ],
            [
             0.6666666666666666,
             "#ed7953"
            ],
            [
             0.7777777777777778,
             "#fb9f3a"
            ],
            [
             0.8888888888888888,
             "#fdca26"
            ],
            [
             1,
             "#f0f921"
            ]
           ]
          },
          "colorway": [
           "#636efa",
           "#EF553B",
           "#00cc96",
           "#ab63fa",
           "#FFA15A",
           "#19d3f3",
           "#FF6692",
           "#B6E880",
           "#FF97FF",
           "#FECB52"
          ],
          "font": {
           "color": "#2a3f5f"
          },
          "geo": {
           "bgcolor": "white",
           "lakecolor": "white",
           "landcolor": "#E5ECF6",
           "showlakes": true,
           "showland": true,
           "subunitcolor": "white"
          },
          "hoverlabel": {
           "align": "left"
          },
          "hovermode": "closest",
          "mapbox": {
           "style": "light"
          },
          "paper_bgcolor": "white",
          "plot_bgcolor": "#E5ECF6",
          "polar": {
           "angularaxis": {
            "gridcolor": "white",
            "linecolor": "white",
            "ticks": ""
           },
           "bgcolor": "#E5ECF6",
           "radialaxis": {
            "gridcolor": "white",
            "linecolor": "white",
            "ticks": ""
           }
          },
          "scene": {
           "xaxis": {
            "backgroundcolor": "#E5ECF6",
            "gridcolor": "white",
            "gridwidth": 2,
            "linecolor": "white",
            "showbackground": true,
            "ticks": "",
            "zerolinecolor": "white"
           },
           "yaxis": {
            "backgroundcolor": "#E5ECF6",
            "gridcolor": "white",
            "gridwidth": 2,
            "linecolor": "white",
            "showbackground": true,
            "ticks": "",
            "zerolinecolor": "white"
           },
           "zaxis": {
            "backgroundcolor": "#E5ECF6",
            "gridcolor": "white",
            "gridwidth": 2,
            "linecolor": "white",
            "showbackground": true,
            "ticks": "",
            "zerolinecolor": "white"
           }
          },
          "shapedefaults": {
           "line": {
            "color": "#2a3f5f"
           }
          },
          "ternary": {
           "aaxis": {
            "gridcolor": "white",
            "linecolor": "white",
            "ticks": ""
           },
           "baxis": {
            "gridcolor": "white",
            "linecolor": "white",
            "ticks": ""
           },
           "bgcolor": "#E5ECF6",
           "caxis": {
            "gridcolor": "white",
            "linecolor": "white",
            "ticks": ""
           }
          },
          "title": {
           "x": 0.05
          },
          "xaxis": {
           "automargin": true,
           "gridcolor": "white",
           "linecolor": "white",
           "ticks": "",
           "title": {
            "standoff": 15
           },
           "zerolinecolor": "white",
           "zerolinewidth": 2
          },
          "yaxis": {
           "automargin": true,
           "gridcolor": "white",
           "linecolor": "white",
           "ticks": "",
           "title": {
            "standoff": 15
           },
           "zerolinecolor": "white",
           "zerolinewidth": 2
          }
         }
        },
        "title": {
         "text": "Residuals vs. Predictions"
        },
        "xaxis": {
         "anchor": "y",
         "domain": [
          0,
          0.7363
         ],
         "title": {
          "text": "prediction_label"
         }
        },
        "xaxis2": {
         "anchor": "y2",
         "domain": [
          0.7413,
          1
         ],
         "matches": "x2",
         "showgrid": true,
         "showline": false,
         "showticklabels": false,
         "ticks": ""
        },
        "yaxis": {
         "anchor": "x",
         "domain": [
          0,
          1
         ],
         "title": {
          "text": "standardized_residuals"
         }
        },
        "yaxis2": {
         "anchor": "x2",
         "domain": [
          0,
          1
         ],
         "matches": "y",
         "showgrid": true,
         "showticklabels": false
        }
       }
      },
      "text/html": [
       "<div>                            <div id=\"cc9683e9-9cc3-4116-baec-835bb60c1f87\" class=\"plotly-graph-div\" style=\"height:525px; width:100%;\"></div>            <script type=\"text/javascript\">                require([\"plotly\"], function(Plotly) {                    window.PLOTLYENV=window.PLOTLYENV || {};                                    if (document.getElementById(\"cc9683e9-9cc3-4116-baec-835bb60c1f87\")) {                    Plotly.newPlot(                        \"cc9683e9-9cc3-4116-baec-835bb60c1f87\",                        [{\"hovertemplate\":\"sub_region=Southern Europe\\u003cbr\\u003eprediction_label=%{x}\\u003cbr\\u003estandardized_residuals=%{y}\\u003cextra\\u003e\\u003c\\u002fextra\\u003e\",\"legendgroup\":\"Southern Europe\",\"marker\":{\"color\":\"#636efa\",\"symbol\":\"circle\"},\"mode\":\"markers\",\"name\":\"Southern Europe\",\"orientation\":\"v\",\"showlegend\":true,\"x\":[102.17075168523426,1402.7258299293155,391.4180175035354,712.5899023329719,892.525179472119,1072.587774437639,1014.6010386514137,3880.605012259879,6623.072219015205,534.0442335517316,242.8594913283437,907.647891863835,511.25012182155956,796.1856004486104,1945.3430808330365,874.6259587450197,2252.438006613417],\"xaxis\":\"x\",\"y\":[0.10718757984004063,-0.6871435935266124,-0.16639419407157024,-0.10637569217584221,-0.3066265274918681,-0.39991567639567277,-0.45188192274730365,-2.256297098148558,-2.9729173560587703,-0.26337142992880996,0.14705563369606162,-0.4289947432626206,-0.31920804408682324,-0.2087831486189691,-0.47771081625618084,0.2439953470089954,-0.2165056908960581],\"yaxis\":\"y\",\"type\":\"scatter\"},{\"alignmentgroup\":\"True\",\"bingroup\":\"y\",\"hovertemplate\":\"sub_region=Southern Europe\\u003cbr\\u003estandardized_residuals=%{y}\\u003cbr\\u003ecount=%{x}\\u003cextra\\u003e\\u003c\\u002fextra\\u003e\",\"legendgroup\":\"Southern Europe\",\"marker\":{\"color\":\"#636efa\"},\"name\":\"Southern Europe\",\"offsetgroup\":\"Southern Europe\",\"opacity\":0.5,\"showlegend\":false,\"xaxis\":\"x2\",\"y\":[0.10718757984004063,-0.6871435935266124,-0.16639419407157024,-0.10637569217584221,-0.3066265274918681,-0.39991567639567277,-0.45188192274730365,-2.256297098148558,-2.9729173560587703,-0.26337142992880996,0.14705563369606162,-0.4289947432626206,-0.31920804408682324,-0.2087831486189691,-0.47771081625618084,0.2439953470089954,-0.2165056908960581],\"yaxis\":\"y2\",\"type\":\"histogram\"},{\"hovertemplate\":\"sub_region=Eastern Asia\\u003cbr\\u003eprediction_label=%{x}\\u003cbr\\u003estandardized_residuals=%{y}\\u003cextra\\u003e\\u003c\\u002fextra\\u003e\",\"legendgroup\":\"Eastern Asia\",\"marker\":{\"color\":\"#EF553B\",\"symbol\":\"circle\"},\"mode\":\"markers\",\"name\":\"Eastern Asia\",\"orientation\":\"v\",\"showlegend\":true,\"x\":[3909.7704871114506,6920.920249130324,5268.208083240094,3858.3344491629646,5897.937025079799,4435.815738083743,2326.711862829154,940.3044486118208,4709.619327117738,5795.85333626691,4833.920243871619,2043.780415821033,1606.9072728099468,2737.385426378707,4849.963972840398,9016.523576894417,2399.9164016263617,4121.339356974152,2432.598041184661,3536.359884333109,1552.4975766685916,2565.4349745077,1266.8177926573169,4220.215656449808,1985.8244320984018,393.6873156975606,7268.441549259022,1956.4130366664212,4361.574067220727,2037.9995264626702,5196.764660166508,2735.0654534078085,4950.439051173166,5322.941802880912,3526.810497421209,7065.36375651176,6869.34082113443,2263.260504176783,6016.382738518791,3099.15187940601,5077.396011182047,3857.1356519534484,5493.089427639241,7892.356812536884,1667.91238774261,2335.6024216704027,6908.393711495163,956.6154533581798,8427.881808975493,2020.4027677777926,8052.29400413316,4180.952361207191,7580.593788473695,4021.556856527583,2370.148299614138,5554.047695999176,7322.05767228667,704.8064894089756,3752.622115837646,293.30295869800506,5350.305891165746,6076.583043730741,1647.5365707111987,1027.7243429452365,3437.833188695071,4017.676583449817,530.0959489040278,2276.853202040228,1009.7698706434339,6080.43418189986,3054.8356663413815,2223.060479841364,4880.219989336049,2390.5820074790686,7419.856289871027,3522.063720092318,2121.4795657781824,5201.343920562827,2771.722335679372,8993.950610021906,7164.924471631425,4254.139530042213],\"xaxis\":\"x\",\"y\":[0.11086173350641913,2.0652957993390353,-0.11140544785525983,0.6046542134687367,1.5664649530011903,-1.2415624129233056,2.144803818869288,0.12959416135494814,-3.0164742701569693,0.12695827078031854,0.7955879028561514,-0.13109234426606745,-0.4698905312918919,-1.2587918095111483,4.171050187053832,-0.8342342882418152,-1.1622533953429792,1.9044650926776512,0.865204248894011,-0.08175671352877935,0.24437950589482976,0.0025816004918747934,-0.46500792249082595,-0.7208270431355275,0.27150232890249143,-0.047074300987293705,0.1491570483615328,-0.06213943812243383,-0.7817328386361185,-0.3029452402087591,-0.15097933301366367,-0.163010758863268,0.9327347566248745,0.022922047986947438,-0.24605553818057577,-0.762750471765021,0.7362560661902658,-0.12289745222728114,0.267034550242766,-0.5900997015828551,-0.4911822211201383,-0.04238950291399794,-0.6413264696616281,1.7512096225860998,0.0594371846150378,-0.4257259883128896,2.7821143405341573,0.5685772547996735,-0.7803518294959371,-0.8121043393671602,-2.589717677876966,-1.8853385417258366,0.433241193754502,-0.08261965302651933,0.20436501326851347,1.8033498194331006,0.4494984934670181,0.10738341907848155,0.053818527577218785,0.046552674813028404,0.9439845150264756,2.2198498405485276,-0.6405752941423192,0.3009800903324007,-0.2906674117027766,0.338544548268741,0.024930971110588195,-0.4181793492777123,1.0996286704927467,0.06401240395184254,0.7837843909066909,-0.39789087818926117,3.7514767424865485,0.6106396489707562,0.1184812129425209,-0.024742563847081497,0.13339953545093663,-0.05358846693352071,0.7728715609659034,1.4408125266407783,-1.3458269367592544,0.07856111937140106],\"yaxis\":\"y\",\"type\":\"scatter\"},{\"alignmentgroup\":\"True\",\"bingroup\":\"y\",\"hovertemplate\":\"sub_region=Eastern Asia\\u003cbr\\u003estandardized_residuals=%{y}\\u003cbr\\u003ecount=%{x}\\u003cextra\\u003e\\u003c\\u002fextra\\u003e\",\"legendgroup\":\"Eastern Asia\",\"marker\":{\"color\":\"#EF553B\"},\"name\":\"Eastern Asia\",\"offsetgroup\":\"Eastern Asia\",\"opacity\":0.5,\"showlegend\":false,\"xaxis\":\"x2\",\"y\":[0.11086173350641913,2.0652957993390353,-0.11140544785525983,0.6046542134687367,1.5664649530011903,-1.2415624129233056,2.144803818869288,0.12959416135494814,-3.0164742701569693,0.12695827078031854,0.7955879028561514,-0.13109234426606745,-0.4698905312918919,-1.2587918095111483,4.171050187053832,-0.8342342882418152,-1.1622533953429792,1.9044650926776512,0.865204248894011,-0.08175671352877935,0.24437950589482976,0.0025816004918747934,-0.46500792249082595,-0.7208270431355275,0.27150232890249143,-0.047074300987293705,0.1491570483615328,-0.06213943812243383,-0.7817328386361185,-0.3029452402087591,-0.15097933301366367,-0.163010758863268,0.9327347566248745,0.022922047986947438,-0.24605553818057577,-0.762750471765021,0.7362560661902658,-0.12289745222728114,0.267034550242766,-0.5900997015828551,-0.4911822211201383,-0.04238950291399794,-0.6413264696616281,1.7512096225860998,0.0594371846150378,-0.4257259883128896,2.7821143405341573,0.5685772547996735,-0.7803518294959371,-0.8121043393671602,-2.589717677876966,-1.8853385417258366,0.433241193754502,-0.08261965302651933,0.20436501326851347,1.8033498194331006,0.4494984934670181,0.10738341907848155,0.053818527577218785,0.046552674813028404,0.9439845150264756,2.2198498405485276,-0.6405752941423192,0.3009800903324007,-0.2906674117027766,0.338544548268741,0.024930971110588195,-0.4181793492777123,1.0996286704927467,0.06401240395184254,0.7837843909066909,-0.39789087818926117,3.7514767424865485,0.6106396489707562,0.1184812129425209,-0.024742563847081497,0.13339953545093663,-0.05358846693352071,0.7728715609659034,1.4408125266407783,-1.3458269367592544,0.07856111937140106],\"yaxis\":\"y2\",\"type\":\"histogram\"},{\"hovertemplate\":\"sub_region=Latin America and the Caribbean\\u003cbr\\u003eprediction_label=%{x}\\u003cbr\\u003estandardized_residuals=%{y}\\u003cextra\\u003e\\u003c\\u002fextra\\u003e\",\"legendgroup\":\"Latin America and the Caribbean\",\"marker\":{\"color\":\"#00cc96\",\"symbol\":\"circle\"},\"mode\":\"markers\",\"name\":\"Latin America and the Caribbean\",\"orientation\":\"v\",\"showlegend\":true,\"x\":[6760.0144776494335,4752.053710921977,4896.070492625913],\"xaxis\":\"x\",\"y\":[-0.8457225120386594,-0.7965556945542388,-0.23511010026048043],\"yaxis\":\"y\",\"type\":\"scatter\"},{\"alignmentgroup\":\"True\",\"bingroup\":\"y\",\"hovertemplate\":\"sub_region=Latin America and the Caribbean\\u003cbr\\u003estandardized_residuals=%{y}\\u003cbr\\u003ecount=%{x}\\u003cextra\\u003e\\u003c\\u002fextra\\u003e\",\"legendgroup\":\"Latin America and the Caribbean\",\"marker\":{\"color\":\"#00cc96\"},\"name\":\"Latin America and the Caribbean\",\"offsetgroup\":\"Latin America and the Caribbean\",\"opacity\":0.5,\"showlegend\":false,\"xaxis\":\"x2\",\"y\":[-0.8457225120386594,-0.7965556945542388,-0.23511010026048043],\"yaxis\":\"y2\",\"type\":\"histogram\"},{\"hovertemplate\":\"sub_region=Northern America\\u003cbr\\u003eprediction_label=%{x}\\u003cbr\\u003estandardized_residuals=%{y}\\u003cextra\\u003e\\u003c\\u002fextra\\u003e\",\"legendgroup\":\"Northern America\",\"marker\":{\"color\":\"#ab63fa\",\"symbol\":\"circle\"},\"mode\":\"markers\",\"name\":\"Northern America\",\"orientation\":\"v\",\"showlegend\":true,\"x\":[2349.239536122795,711.2659472678106,1385.8422258624107,1160.8819740647707,209.79699774698219,1177.09158857903,3654.6368023481477,798.6157997011635,2130.0428711993322,393.67144367998924,570.6932402499672,1951.678404739919,1114.7082816758182,1618.9009414356337,3323.212787077543,745.4051572946913,912.2279723028626,668.0533491689931],\"xaxis\":\"x\",\"y\":[-0.5655264318227493,-0.1933616346954348,-0.4157258535111172,0.19416865131480918,0.08744701023847673,0.158857161404513,-2.130048286657006,-0.20708040017746085,0.26805321106105906,0.3019562017242479,-0.045135919285423105,-0.35949386361499547,-0.43790689325302995,1.512254169409071,-1.0913274876964663,0.07623203932735458,-0.3699402867415168,-0.1747198869047541],\"yaxis\":\"y\",\"type\":\"scatter\"},{\"alignmentgroup\":\"True\",\"bingroup\":\"y\",\"hovertemplate\":\"sub_region=Northern America\\u003cbr\\u003estandardized_residuals=%{y}\\u003cbr\\u003ecount=%{x}\\u003cextra\\u003e\\u003c\\u002fextra\\u003e\",\"legendgroup\":\"Northern America\",\"marker\":{\"color\":\"#ab63fa\"},\"name\":\"Northern America\",\"offsetgroup\":\"Northern America\",\"opacity\":0.5,\"showlegend\":false,\"xaxis\":\"x2\",\"y\":[-0.5655264318227493,-0.1933616346954348,-0.4157258535111172,0.19416865131480918,0.08744701023847673,0.158857161404513,-2.130048286657006,-0.20708040017746085,0.26805321106105906,0.3019562017242479,-0.045135919285423105,-0.35949386361499547,-0.43790689325302995,1.512254169409071,-1.0913274876964663,0.07623203932735458,-0.3699402867415168,-0.1747198869047541],\"yaxis\":\"y2\",\"type\":\"histogram\"},{\"hovertemplate\":\"sub_region=Northern Europe\\u003cbr\\u003eprediction_label=%{x}\\u003cbr\\u003estandardized_residuals=%{y}\\u003cextra\\u003e\\u003c\\u002fextra\\u003e\",\"legendgroup\":\"Northern Europe\",\"marker\":{\"color\":\"#FFA15A\",\"symbol\":\"circle\"},\"mode\":\"markers\",\"name\":\"Northern Europe\",\"orientation\":\"v\",\"showlegend\":true,\"x\":[2256.100621524896,3659.4499656355856],\"xaxis\":\"x\",\"y\":[-0.849983062559264,-1.6484812676918918],\"yaxis\":\"y\",\"type\":\"scatter\"},{\"alignmentgroup\":\"True\",\"bingroup\":\"y\",\"hovertemplate\":\"sub_region=Northern Europe\\u003cbr\\u003estandardized_residuals=%{y}\\u003cbr\\u003ecount=%{x}\\u003cextra\\u003e\\u003c\\u002fextra\\u003e\",\"legendgroup\":\"Northern Europe\",\"marker\":{\"color\":\"#FFA15A\"},\"name\":\"Northern Europe\",\"offsetgroup\":\"Northern Europe\",\"opacity\":0.5,\"showlegend\":false,\"xaxis\":\"x2\",\"y\":[-0.849983062559264,-1.6484812676918918],\"yaxis\":\"y2\",\"type\":\"histogram\"},{\"hovertemplate\":\"sub_region=Western Asia\\u003cbr\\u003eprediction_label=%{x}\\u003cbr\\u003estandardized_residuals=%{y}\\u003cextra\\u003e\\u003c\\u002fextra\\u003e\",\"legendgroup\":\"Western Asia\",\"marker\":{\"color\":\"#19d3f3\",\"symbol\":\"circle\"},\"mode\":\"markers\",\"name\":\"Western Asia\",\"orientation\":\"v\",\"showlegend\":true,\"x\":[1984.646631822834,4830.721371054077,2129.8473303427772,1184.2029729575074,2991.1267819448067,532.4827107811745],\"xaxis\":\"x\",\"y\":[0.5635569241574094,0.2584397006690281,-0.8469166891395016,-0.3890428681078866,-1.1753838458508226,-0.19744453381502403],\"yaxis\":\"y\",\"type\":\"scatter\"},{\"alignmentgroup\":\"True\",\"bingroup\":\"y\",\"hovertemplate\":\"sub_region=Western Asia\\u003cbr\\u003estandardized_residuals=%{y}\\u003cbr\\u003ecount=%{x}\\u003cextra\\u003e\\u003c\\u002fextra\\u003e\",\"legendgroup\":\"Western Asia\",\"marker\":{\"color\":\"#19d3f3\"},\"name\":\"Western Asia\",\"offsetgroup\":\"Western Asia\",\"opacity\":0.5,\"showlegend\":false,\"xaxis\":\"x2\",\"y\":[0.5635569241574094,0.2584397006690281,-0.8469166891395016,-0.3890428681078866,-1.1753838458508226,-0.19744453381502403],\"yaxis\":\"y2\",\"type\":\"histogram\"},{\"hovertemplate\":\"sub_region=Southern Asia\\u003cbr\\u003eprediction_label=%{x}\\u003cbr\\u003estandardized_residuals=%{y}\\u003cextra\\u003e\\u003c\\u002fextra\\u003e\",\"legendgroup\":\"Southern Asia\",\"marker\":{\"color\":\"#FF6692\",\"symbol\":\"circle\"},\"mode\":\"markers\",\"name\":\"Southern Asia\",\"orientation\":\"v\",\"showlegend\":true,\"x\":[5023.398728304678,4470.762016782005,2967.6183700283163,2477.568581498402,5210.817013271293,1839.2855960419786],\"xaxis\":\"x\",\"y\":[-0.047284043744483396,2.619513276812443,0.2606008073520154,0.011432170425808566,0.6507843230068241,0.19530780987473803],\"yaxis\":\"y\",\"type\":\"scatter\"},{\"alignmentgroup\":\"True\",\"bingroup\":\"y\",\"hovertemplate\":\"sub_region=Southern Asia\\u003cbr\\u003estandardized_residuals=%{y}\\u003cbr\\u003ecount=%{x}\\u003cextra\\u003e\\u003c\\u002fextra\\u003e\",\"legendgroup\":\"Southern Asia\",\"marker\":{\"color\":\"#FF6692\"},\"name\":\"Southern Asia\",\"offsetgroup\":\"Southern Asia\",\"opacity\":0.5,\"showlegend\":false,\"xaxis\":\"x2\",\"y\":[-0.047284043744483396,2.619513276812443,0.2606008073520154,0.011432170425808566,0.6507843230068241,0.19530780987473803],\"yaxis\":\"y2\",\"type\":\"histogram\"},{\"hovertemplate\":\"sub_region=Western Europe\\u003cbr\\u003eprediction_label=%{x}\\u003cbr\\u003estandardized_residuals=%{y}\\u003cextra\\u003e\\u003c\\u002fextra\\u003e\",\"legendgroup\":\"Western Europe\",\"marker\":{\"color\":\"#B6E880\",\"symbol\":\"circle\"},\"mode\":\"markers\",\"name\":\"Western Europe\",\"orientation\":\"v\",\"showlegend\":true,\"x\":[1985.32896604746,1548.8883529177147,2184.3856253609865,529.3405672772227,305.4627479109936,189.12254000875805,953.4646920086276,929.8792767142431,2079.132961976022,353.2571685693962],\"xaxis\":\"x\",\"y\":[-1.2697822583585578,0.7208426459222813,-0.5239803879166212,0.04335050487779172,0.18984355199605987,0.008573857949728194,0.47691763602095505,-0.37664977694650476,-0.03825693207422545,-0.1491836808600407],\"yaxis\":\"y\",\"type\":\"scatter\"},{\"alignmentgroup\":\"True\",\"bingroup\":\"y\",\"hovertemplate\":\"sub_region=Western Europe\\u003cbr\\u003estandardized_residuals=%{y}\\u003cbr\\u003ecount=%{x}\\u003cextra\\u003e\\u003c\\u002fextra\\u003e\",\"legendgroup\":\"Western Europe\",\"marker\":{\"color\":\"#B6E880\"},\"name\":\"Western Europe\",\"offsetgroup\":\"Western Europe\",\"opacity\":0.5,\"showlegend\":false,\"xaxis\":\"x2\",\"y\":[-1.2697822583585578,0.7208426459222813,-0.5239803879166212,0.04335050487779172,0.18984355199605987,0.008573857949728194,0.47691763602095505,-0.37664977694650476,-0.03825693207422545,-0.1491836808600407],\"yaxis\":\"y2\",\"type\":\"histogram\"},{\"hovertemplate\":\"sub_region=South-eastern Asia\\u003cbr\\u003eprediction_label=%{x}\\u003cbr\\u003estandardized_residuals=%{y}\\u003cextra\\u003e\\u003c\\u002fextra\\u003e\",\"legendgroup\":\"South-eastern Asia\",\"marker\":{\"color\":\"#FF97FF\",\"symbol\":\"circle\"},\"mode\":\"markers\",\"name\":\"South-eastern Asia\",\"orientation\":\"v\",\"showlegend\":true,\"x\":[1978.6576126423251,3089.845584975268],\"xaxis\":\"x\",\"y\":[1.0551708669291096,0.1254756601104307],\"yaxis\":\"y\",\"type\":\"scatter\"},{\"alignmentgroup\":\"True\",\"bingroup\":\"y\",\"hovertemplate\":\"sub_region=South-eastern Asia\\u003cbr\\u003estandardized_residuals=%{y}\\u003cbr\\u003ecount=%{x}\\u003cextra\\u003e\\u003c\\u002fextra\\u003e\",\"legendgroup\":\"South-eastern Asia\",\"marker\":{\"color\":\"#FF97FF\"},\"name\":\"South-eastern Asia\",\"offsetgroup\":\"South-eastern Asia\",\"opacity\":0.5,\"showlegend\":false,\"xaxis\":\"x2\",\"y\":[1.0551708669291096,0.1254756601104307],\"yaxis\":\"y2\",\"type\":\"histogram\"},{\"hovertemplate\":\"sub_region=Eastern Europe\\u003cbr\\u003eprediction_label=%{x}\\u003cbr\\u003estandardized_residuals=%{y}\\u003cextra\\u003e\\u003c\\u002fextra\\u003e\",\"legendgroup\":\"Eastern Europe\",\"marker\":{\"color\":\"#FECB52\",\"symbol\":\"circle\"},\"mode\":\"markers\",\"name\":\"Eastern Europe\",\"orientation\":\"v\",\"showlegend\":true,\"x\":[925.7097077597173,559.6767102363265,1467.9905068613652,1610.4666637931011,1070.1224767475255],\"xaxis\":\"x\",\"y\":[-0.026447850460265876,0.18624407601428858,0.3957061658797999,0.6790251313961008,-0.2029518320718047],\"yaxis\":\"y\",\"type\":\"scatter\"},{\"alignmentgroup\":\"True\",\"bingroup\":\"y\",\"hovertemplate\":\"sub_region=Eastern Europe\\u003cbr\\u003estandardized_residuals=%{y}\\u003cbr\\u003ecount=%{x}\\u003cextra\\u003e\\u003c\\u002fextra\\u003e\",\"legendgroup\":\"Eastern Europe\",\"marker\":{\"color\":\"#FECB52\"},\"name\":\"Eastern Europe\",\"offsetgroup\":\"Eastern Europe\",\"opacity\":0.5,\"showlegend\":false,\"xaxis\":\"x2\",\"y\":[-0.026447850460265876,0.18624407601428858,0.3957061658797999,0.6790251313961008,-0.2029518320718047],\"yaxis\":\"y2\",\"type\":\"histogram\"},{\"hovertemplate\":\"sub_region=Caribbean\\u003cbr\\u003eprediction_label=%{x}\\u003cbr\\u003estandardized_residuals=%{y}\\u003cextra\\u003e\\u003c\\u002fextra\\u003e\",\"legendgroup\":\"Caribbean\",\"marker\":{\"color\":\"#636efa\",\"symbol\":\"circle\"},\"mode\":\"markers\",\"name\":\"Caribbean\",\"orientation\":\"v\",\"showlegend\":true,\"x\":[3322.1522572646472,2516.580677316223],\"xaxis\":\"x\",\"y\":[-0.8560837817898093,-0.21814334935976062],\"yaxis\":\"y\",\"type\":\"scatter\"},{\"alignmentgroup\":\"True\",\"bingroup\":\"y\",\"hovertemplate\":\"sub_region=Caribbean\\u003cbr\\u003estandardized_residuals=%{y}\\u003cbr\\u003ecount=%{x}\\u003cextra\\u003e\\u003c\\u002fextra\\u003e\",\"legendgroup\":\"Caribbean\",\"marker\":{\"color\":\"#636efa\"},\"name\":\"Caribbean\",\"offsetgroup\":\"Caribbean\",\"opacity\":0.5,\"showlegend\":false,\"xaxis\":\"x2\",\"y\":[-0.8560837817898093,-0.21814334935976062],\"yaxis\":\"y2\",\"type\":\"histogram\"}],                        {\"template\":{\"data\":{\"histogram2dcontour\":[{\"type\":\"histogram2dcontour\",\"colorbar\":{\"outlinewidth\":0,\"ticks\":\"\"},\"colorscale\":[[0.0,\"#0d0887\"],[0.1111111111111111,\"#46039f\"],[0.2222222222222222,\"#7201a8\"],[0.3333333333333333,\"#9c179e\"],[0.4444444444444444,\"#bd3786\"],[0.5555555555555556,\"#d8576b\"],[0.6666666666666666,\"#ed7953\"],[0.7777777777777778,\"#fb9f3a\"],[0.8888888888888888,\"#fdca26\"],[1.0,\"#f0f921\"]]}],\"choropleth\":[{\"type\":\"choropleth\",\"colorbar\":{\"outlinewidth\":0,\"ticks\":\"\"}}],\"histogram2d\":[{\"type\":\"histogram2d\",\"colorbar\":{\"outlinewidth\":0,\"ticks\":\"\"},\"colorscale\":[[0.0,\"#0d0887\"],[0.1111111111111111,\"#46039f\"],[0.2222222222222222,\"#7201a8\"],[0.3333333333333333,\"#9c179e\"],[0.4444444444444444,\"#bd3786\"],[0.5555555555555556,\"#d8576b\"],[0.6666666666666666,\"#ed7953\"],[0.7777777777777778,\"#fb9f3a\"],[0.8888888888888888,\"#fdca26\"],[1.0,\"#f0f921\"]]}],\"heatmap\":[{\"type\":\"heatmap\",\"colorbar\":{\"outlinewidth\":0,\"ticks\":\"\"},\"colorscale\":[[0.0,\"#0d0887\"],[0.1111111111111111,\"#46039f\"],[0.2222222222222222,\"#7201a8\"],[0.3333333333333333,\"#9c179e\"],[0.4444444444444444,\"#bd3786\"],[0.5555555555555556,\"#d8576b\"],[0.6666666666666666,\"#ed7953\"],[0.7777777777777778,\"#fb9f3a\"],[0.8888888888888888,\"#fdca26\"],[1.0,\"#f0f921\"]]}],\"heatmapgl\":[{\"type\":\"heatmapgl\",\"colorbar\":{\"outlinewidth\":0,\"ticks\":\"\"},\"colorscale\":[[0.0,\"#0d0887\"],[0.1111111111111111,\"#46039f\"],[0.2222222222222222,\"#7201a8\"],[0.3333333333333333,\"#9c179e\"],[0.4444444444444444,\"#bd3786\"],[0.5555555555555556,\"#d8576b\"],[0.6666666666666666,\"#ed7953\"],[0.7777777777777778,\"#fb9f3a\"],[0.8888888888888888,\"#fdca26\"],[1.0,\"#f0f921\"]]}],\"contourcarpet\":[{\"type\":\"contourcarpet\",\"colorbar\":{\"outlinewidth\":0,\"ticks\":\"\"}}],\"contour\":[{\"type\":\"contour\",\"colorbar\":{\"outlinewidth\":0,\"ticks\":\"\"},\"colorscale\":[[0.0,\"#0d0887\"],[0.1111111111111111,\"#46039f\"],[0.2222222222222222,\"#7201a8\"],[0.3333333333333333,\"#9c179e\"],[0.4444444444444444,\"#bd3786\"],[0.5555555555555556,\"#d8576b\"],[0.6666666666666666,\"#ed7953\"],[0.7777777777777778,\"#fb9f3a\"],[0.8888888888888888,\"#fdca26\"],[1.0,\"#f0f921\"]]}],\"surface\":[{\"type\":\"surface\",\"colorbar\":{\"outlinewidth\":0,\"ticks\":\"\"},\"colorscale\":[[0.0,\"#0d0887\"],[0.1111111111111111,\"#46039f\"],[0.2222222222222222,\"#7201a8\"],[0.3333333333333333,\"#9c179e\"],[0.4444444444444444,\"#bd3786\"],[0.5555555555555556,\"#d8576b\"],[0.6666666666666666,\"#ed7953\"],[0.7777777777777778,\"#fb9f3a\"],[0.8888888888888888,\"#fdca26\"],[1.0,\"#f0f921\"]]}],\"mesh3d\":[{\"type\":\"mesh3d\",\"colorbar\":{\"outlinewidth\":0,\"ticks\":\"\"}}],\"scatter\":[{\"fillpattern\":{\"fillmode\":\"overlay\",\"size\":10,\"solidity\":0.2},\"type\":\"scatter\"}],\"parcoords\":[{\"type\":\"parcoords\",\"line\":{\"colorbar\":{\"outlinewidth\":0,\"ticks\":\"\"}}}],\"scatterpolargl\":[{\"type\":\"scatterpolargl\",\"marker\":{\"colorbar\":{\"outlinewidth\":0,\"ticks\":\"\"}}}],\"bar\":[{\"error_x\":{\"color\":\"#2a3f5f\"},\"error_y\":{\"color\":\"#2a3f5f\"},\"marker\":{\"line\":{\"color\":\"#E5ECF6\",\"width\":0.5},\"pattern\":{\"fillmode\":\"overlay\",\"size\":10,\"solidity\":0.2}},\"type\":\"bar\"}],\"scattergeo\":[{\"type\":\"scattergeo\",\"marker\":{\"colorbar\":{\"outlinewidth\":0,\"ticks\":\"\"}}}],\"scatterpolar\":[{\"type\":\"scatterpolar\",\"marker\":{\"colorbar\":{\"outlinewidth\":0,\"ticks\":\"\"}}}],\"histogram\":[{\"marker\":{\"pattern\":{\"fillmode\":\"overlay\",\"size\":10,\"solidity\":0.2}},\"type\":\"histogram\"}],\"scattergl\":[{\"type\":\"scattergl\",\"marker\":{\"colorbar\":{\"outlinewidth\":0,\"ticks\":\"\"}}}],\"scatter3d\":[{\"type\":\"scatter3d\",\"line\":{\"colorbar\":{\"outlinewidth\":0,\"ticks\":\"\"}},\"marker\":{\"colorbar\":{\"outlinewidth\":0,\"ticks\":\"\"}}}],\"scattermapbox\":[{\"type\":\"scattermapbox\",\"marker\":{\"colorbar\":{\"outlinewidth\":0,\"ticks\":\"\"}}}],\"scatterternary\":[{\"type\":\"scatterternary\",\"marker\":{\"colorbar\":{\"outlinewidth\":0,\"ticks\":\"\"}}}],\"scattercarpet\":[{\"type\":\"scattercarpet\",\"marker\":{\"colorbar\":{\"outlinewidth\":0,\"ticks\":\"\"}}}],\"carpet\":[{\"aaxis\":{\"endlinecolor\":\"#2a3f5f\",\"gridcolor\":\"white\",\"linecolor\":\"white\",\"minorgridcolor\":\"white\",\"startlinecolor\":\"#2a3f5f\"},\"baxis\":{\"endlinecolor\":\"#2a3f5f\",\"gridcolor\":\"white\",\"linecolor\":\"white\",\"minorgridcolor\":\"white\",\"startlinecolor\":\"#2a3f5f\"},\"type\":\"carpet\"}],\"table\":[{\"cells\":{\"fill\":{\"color\":\"#EBF0F8\"},\"line\":{\"color\":\"white\"}},\"header\":{\"fill\":{\"color\":\"#C8D4E3\"},\"line\":{\"color\":\"white\"}},\"type\":\"table\"}],\"barpolar\":[{\"marker\":{\"line\":{\"color\":\"#E5ECF6\",\"width\":0.5},\"pattern\":{\"fillmode\":\"overlay\",\"size\":10,\"solidity\":0.2}},\"type\":\"barpolar\"}],\"pie\":[{\"automargin\":true,\"type\":\"pie\"}]},\"layout\":{\"autotypenumbers\":\"strict\",\"colorway\":[\"#636efa\",\"#EF553B\",\"#00cc96\",\"#ab63fa\",\"#FFA15A\",\"#19d3f3\",\"#FF6692\",\"#B6E880\",\"#FF97FF\",\"#FECB52\"],\"font\":{\"color\":\"#2a3f5f\"},\"hovermode\":\"closest\",\"hoverlabel\":{\"align\":\"left\"},\"paper_bgcolor\":\"white\",\"plot_bgcolor\":\"#E5ECF6\",\"polar\":{\"bgcolor\":\"#E5ECF6\",\"angularaxis\":{\"gridcolor\":\"white\",\"linecolor\":\"white\",\"ticks\":\"\"},\"radialaxis\":{\"gridcolor\":\"white\",\"linecolor\":\"white\",\"ticks\":\"\"}},\"ternary\":{\"bgcolor\":\"#E5ECF6\",\"aaxis\":{\"gridcolor\":\"white\",\"linecolor\":\"white\",\"ticks\":\"\"},\"baxis\":{\"gridcolor\":\"white\",\"linecolor\":\"white\",\"ticks\":\"\"},\"caxis\":{\"gridcolor\":\"white\",\"linecolor\":\"white\",\"ticks\":\"\"}},\"coloraxis\":{\"colorbar\":{\"outlinewidth\":0,\"ticks\":\"\"}},\"colorscale\":{\"sequential\":[[0.0,\"#0d0887\"],[0.1111111111111111,\"#46039f\"],[0.2222222222222222,\"#7201a8\"],[0.3333333333333333,\"#9c179e\"],[0.4444444444444444,\"#bd3786\"],[0.5555555555555556,\"#d8576b\"],[0.6666666666666666,\"#ed7953\"],[0.7777777777777778,\"#fb9f3a\"],[0.8888888888888888,\"#fdca26\"],[1.0,\"#f0f921\"]],\"sequentialminus\":[[0.0,\"#0d0887\"],[0.1111111111111111,\"#46039f\"],[0.2222222222222222,\"#7201a8\"],[0.3333333333333333,\"#9c179e\"],[0.4444444444444444,\"#bd3786\"],[0.5555555555555556,\"#d8576b\"],[0.6666666666666666,\"#ed7953\"],[0.7777777777777778,\"#fb9f3a\"],[0.8888888888888888,\"#fdca26\"],[1.0,\"#f0f921\"]],\"diverging\":[[0,\"#8e0152\"],[0.1,\"#c51b7d\"],[0.2,\"#de77ae\"],[0.3,\"#f1b6da\"],[0.4,\"#fde0ef\"],[0.5,\"#f7f7f7\"],[0.6,\"#e6f5d0\"],[0.7,\"#b8e186\"],[0.8,\"#7fbc41\"],[0.9,\"#4d9221\"],[1,\"#276419\"]]},\"xaxis\":{\"gridcolor\":\"white\",\"linecolor\":\"white\",\"ticks\":\"\",\"title\":{\"standoff\":15},\"zerolinecolor\":\"white\",\"automargin\":true,\"zerolinewidth\":2},\"yaxis\":{\"gridcolor\":\"white\",\"linecolor\":\"white\",\"ticks\":\"\",\"title\":{\"standoff\":15},\"zerolinecolor\":\"white\",\"automargin\":true,\"zerolinewidth\":2},\"scene\":{\"xaxis\":{\"backgroundcolor\":\"#E5ECF6\",\"gridcolor\":\"white\",\"linecolor\":\"white\",\"showbackground\":true,\"ticks\":\"\",\"zerolinecolor\":\"white\",\"gridwidth\":2},\"yaxis\":{\"backgroundcolor\":\"#E5ECF6\",\"gridcolor\":\"white\",\"linecolor\":\"white\",\"showbackground\":true,\"ticks\":\"\",\"zerolinecolor\":\"white\",\"gridwidth\":2},\"zaxis\":{\"backgroundcolor\":\"#E5ECF6\",\"gridcolor\":\"white\",\"linecolor\":\"white\",\"showbackground\":true,\"ticks\":\"\",\"zerolinecolor\":\"white\",\"gridwidth\":2}},\"shapedefaults\":{\"line\":{\"color\":\"#2a3f5f\"}},\"annotationdefaults\":{\"arrowcolor\":\"#2a3f5f\",\"arrowhead\":0,\"arrowwidth\":1},\"geo\":{\"bgcolor\":\"white\",\"landcolor\":\"#E5ECF6\",\"subunitcolor\":\"white\",\"showland\":true,\"showlakes\":true,\"lakecolor\":\"white\"},\"title\":{\"x\":0.05},\"mapbox\":{\"style\":\"light\"}}},\"xaxis\":{\"anchor\":\"y\",\"domain\":[0.0,0.7363],\"title\":{\"text\":\"prediction_label\"}},\"yaxis\":{\"anchor\":\"x\",\"domain\":[0.0,1.0],\"title\":{\"text\":\"standardized_residuals\"}},\"xaxis2\":{\"anchor\":\"y2\",\"domain\":[0.7413,1.0],\"matches\":\"x2\",\"showticklabels\":false,\"showline\":false,\"ticks\":\"\",\"showgrid\":true},\"yaxis2\":{\"anchor\":\"x2\",\"domain\":[0.0,1.0],\"matches\":\"y\",\"showticklabels\":false,\"showgrid\":true},\"legend\":{\"title\":{\"text\":\"sub_region\"},\"tracegroupgap\":0},\"title\":{\"text\":\"Residuals vs. Predictions\"},\"barmode\":\"overlay\"},                        {\"responsive\": true}                    ).then(function(){\n",
       "                            \n",
       "var gd = document.getElementById('cc9683e9-9cc3-4116-baec-835bb60c1f87');\n",
       "var x = new MutationObserver(function (mutations, observer) {{\n",
       "        var display = window.getComputedStyle(gd).display;\n",
       "        if (!display || display === 'none') {{\n",
       "            console.log([gd, 'removed!']);\n",
       "            Plotly.purge(gd);\n",
       "            observer.disconnect();\n",
       "        }}\n",
       "}});\n",
       "\n",
       "// Listen for the removal of the full notebook cells\n",
       "var notebookContainer = gd.closest('#notebook-container');\n",
       "if (notebookContainer) {{\n",
       "    x.observe(notebookContainer, {childList: true});\n",
       "}}\n",
       "\n",
       "// Listen for the clearing of the current output cell\n",
       "var outputEl = gd.closest('.output');\n",
       "if (outputEl) {{\n",
       "    x.observe(outputEl, {childList: true});\n",
       "}}\n",
       "\n",
       "                        })                };                });            </script>        </div>"
      ]
     },
     "metadata": {},
     "output_type": "display_data"
    }
   ],
   "source": [
    "fig = px.scatter(predictions,color = 'sub_region', x='prediction_label', y='standardized_residuals', \n",
    "                title=\"Residuals vs. Predictions\",marginal_y=\"histogram\")\n",
    "fig.show()"
   ]
  },
  {
   "cell_type": "markdown",
   "id": "86d304cb",
   "metadata": {},
   "source": [
    "Interestingly, the region appears to have a significant influence on the quality of the prediction. The median value for each sub-region residual is generally around 0, but some sub-regions have a larger IQR than others. Let's look at the data on a per-country basis. I had previously ommitted country data to improve generalization to unseen data, but it may provide some insight. Let's do that below."
   ]
  },
  {
   "cell_type": "code",
   "execution_count": 16,
   "id": "e00e2541",
   "metadata": {},
   "outputs": [
    {
     "data": {
      "text/plain": [
       "(153, 26)"
      ]
     },
     "execution_count": 16,
     "metadata": {},
     "output_type": "execute_result"
    }
   ],
   "source": [
    "predictions.shape"
   ]
  },
  {
   "cell_type": "code",
   "execution_count": 17,
   "id": "ea2f9dc6",
   "metadata": {},
   "outputs": [],
   "source": [
    "df_location = df_adj[['country','city','start_year','end_year','stations','lat','lng','duration','sub_region']]\n",
    "predictions = pd.merge(predictions,df_location,how='left',on = ['duration','stations','sub_region']).drop_duplicates()"
   ]
  },
  {
   "cell_type": "code",
   "execution_count": 18,
   "id": "1cb01f2a",
   "metadata": {},
   "outputs": [],
   "source": [
    "predictions.drop_duplicates(subset=['length','tunnel','stations','duration'],inplace=True)"
   ]
  },
  {
   "cell_type": "code",
   "execution_count": 19,
   "id": "714fd80b",
   "metadata": {},
   "outputs": [
    {
     "data": {
      "application/vnd.plotly.v1+json": {
       "config": {
        "plotlyServerURL": "https://plot.ly"
       },
       "data": [
        {
         "alignmentgroup": "True",
         "hovertemplate": "country=%{x}<br>Residuals=%{y}<extra></extra>",
         "legendgroup": "",
         "marker": {
          "color": "#636efa"
         },
         "name": "",
         "notched": false,
         "offsetgroup": "",
         "orientation": "v",
         "showlegend": false,
         "type": "box",
         "x": [
          "ES",
          "KR",
          "CN",
          "CN",
          "CL",
          "CN",
          "US",
          "CN",
          "CN",
          "US",
          "CN",
          "CN",
          "CN",
          "CN",
          "CN",
          "SE",
          "US",
          "CN",
          "US",
          "CN",
          "HK",
          "TR",
          "HK",
          "US",
          "CN",
          "KR",
          "IT",
          "IN",
          "CN",
          "ES",
          "IL",
          "HK",
          "IT",
          "HK",
          "CN",
          "IN",
          "CN",
          "CN",
          "IN",
          "FR",
          "CN",
          "CN",
          "US",
          "KR",
          "CN",
          "CN",
          "CN",
          "CN",
          "CN",
          "CN",
          "MX",
          "CN",
          "CN",
          "CN",
          "ES",
          "IT",
          "IN",
          "CN",
          "CN",
          "VN",
          "DE",
          "CN",
          "CN",
          "PL",
          "CN",
          "CN",
          "PL",
          "CN",
          "CN",
          "ES",
          "CN",
          "CN",
          "CA",
          "CN",
          "CN",
          "TR",
          "FR",
          "CN",
          "ES",
          "CN",
          "ES",
          "CN",
          "PA",
          "CN",
          "US",
          "CN",
          "CN",
          "US",
          "CN",
          "CN",
          "KR",
          "IT",
          "BG",
          "IT",
          "CN",
          "KR",
          "CN",
          "TR",
          "IT",
          "HK",
          "IT",
          "ES",
          "US",
          "GR",
          "US",
          "RO",
          "CN",
          "CN",
          "HK",
          "CN",
          "IT",
          "CN",
          "DR",
          "DR",
          "TR",
          "CN",
          "IN",
          "PH",
          "KR",
          "JP",
          "DE",
          "HK",
          "CN",
          "IT",
          "FR",
          "FR",
          "HK",
          "DE",
          "DE",
          "TR",
          "CN",
          "IN",
          "CN",
          "CN",
          "CN",
          "HK",
          "UA",
          "CA",
          "US",
          "FR",
          "US",
          "US",
          "CN",
          "CN",
          "HK",
          "CN",
          "CN",
          "DK",
          "CN",
          "US",
          "US",
          "FR",
          "CA"
         ],
         "x0": " ",
         "xaxis": "x",
         "y": [
          45.27082241144542,
          48.82668085729938,
          1940.334633682176,
          -166.2842551150943,
          -876.9588135869335,
          526.7207266182854,
          -605.7840917868575,
          1457.5644397639508,
          -1260.0540193337429,
          -245.60173217991996,
          2017.2827660770959,
          66.95598839989793,
          -2977.819766570863,
          64.40496451433955,
          711.5070022221307,
          -881.0821889077083,
          -460.8065813311607,
          -185.3373005866581,
          129.4513999586668,
          -513.2273411693218,
          -1276.728688097457,
          486.946629895916,
          3978.290909972102,
          26.165831842861564,
          -865.8404714256667,
          -1183.2984817044867,
          -723.4855955543155,
          -104.22734158592812,
          1784.682127400848,
          -219.50255119494165,
          191.65314066467272,
          778.8819392840892,
          -161.41644041890936,
          -137.59010894248422,
          178.0456362220334,
          2476.708198061745,
          -55.96720107020019,
          -508.50193572372314,
          193.74466708105865,
          -1287.3652819654287,
          -756.0845529341832,
          204.29519680784824,
          95.27681962409497,
          -104.02435183037312,
          85.8890171472276,
          -118.60444291642125,
          -815.0293894863516,
          -351.65711923610775,
          -204.5839961040083,
          -216.2280510640585,
          -829.3749999844767,
          844.2381949205837,
          -36.28164663091229,
          -296.5990716399592,
          -355.2198816205565,
          -445.5054380118577,
          -47.40158931090218,
          -796.6581901055097,
          654.0854483968196,
          962.7322799357999,
          639.1682877072853,
          -177.4062561299079,
          199.97126538745943,
          -84.06200268159228,
          -629.5661860466348,
          -533.833511182047,
          121.78196896289228,
          -99.49038828157336,
          -679.143626857991,
          -495.79854841703866,
          1636.3609609006162,
          -0.942172898860008,
          -2119.9336773481477,
          -470.4847458891527,
          2634.074061942337,
          -878.1145422568397,
          -565.575688837549,
          491.8053230090077,
          -2242.117707572379,
          -813.6928441317432,
          -2935.6652365933296,
          -844.4230314496676,
          -286.0060395009132,
          -2564.8032814769103,
          -258.87880018944475,
          -1883.1027518321907,
          360.826621682555,
          200.95712880066776,
          -138.42526473070802,
          139.31947382336193,
          1686.8224211883244,
          -313.35745071481756,
          324.50009372457225,
          83.85526086892193,
          376.5604917758301,
          45.46035629414939,
          -6.379928337646106,
          -434.9826970786012,
          -473.64825807477246,
          -13.411845416755057,
          -367.3963162795674,
          -260.5267259368917,
          233.768558761417,
          -520.795839622099,
          -102.14837941012343,
          598.6971545662739,
          855.1257494592537,
          2089.9125617380087,
          -678.4166366291674,
          232.82387482820104,
          177.67384594248028,
          -339.77459494507093,
          -886.9864857802722,
          -269.58556012872305,
          -1196.0061764760567,
          269.1788853001831,
          571.365603916207,
          62.97008885285686,
          -34.33740398215275,
          -463.1810828996031,
          -16.510916398316454,
          1005.7586938096911,
          3.48573997513995,
          -268.0006286837297,
          125.26555409095954,
          -50.16787387106274,
          700.0835231117435,
          403.0968314288724,
          -422.988621196665,
          -249.55317586906517,
          -443.5458314038642,
          130.55388149708392,
          3572.2262997264506,
          532.5134515053064,
          56.200839035223,
          -82.41162048294291,
          -254.88315789986927,
          -406.38506977898146,
          -482.27346722269317,
          -95.49087213227222,
          1405.0990585643663,
          -1114.656146452543,
          70.6388424249426,
          -110.3287838440774,
          689.522049086253,
          1335.957593103094,
          -1360.9615810064251,
          -1653.871474424648,
          17.566036364037245,
          15.311944756089929,
          -416.49515369934693,
          -202.84615782720869,
          -227.56018510649312
         ],
         "y0": " ",
         "yaxis": "y"
        }
       ],
       "layout": {
        "boxmode": "group",
        "legend": {
         "tracegroupgap": 0
        },
        "template": {
         "data": {
          "bar": [
           {
            "error_x": {
             "color": "#2a3f5f"
            },
            "error_y": {
             "color": "#2a3f5f"
            },
            "marker": {
             "line": {
              "color": "#E5ECF6",
              "width": 0.5
             },
             "pattern": {
              "fillmode": "overlay",
              "size": 10,
              "solidity": 0.2
             }
            },
            "type": "bar"
           }
          ],
          "barpolar": [
           {
            "marker": {
             "line": {
              "color": "#E5ECF6",
              "width": 0.5
             },
             "pattern": {
              "fillmode": "overlay",
              "size": 10,
              "solidity": 0.2
             }
            },
            "type": "barpolar"
           }
          ],
          "carpet": [
           {
            "aaxis": {
             "endlinecolor": "#2a3f5f",
             "gridcolor": "white",
             "linecolor": "white",
             "minorgridcolor": "white",
             "startlinecolor": "#2a3f5f"
            },
            "baxis": {
             "endlinecolor": "#2a3f5f",
             "gridcolor": "white",
             "linecolor": "white",
             "minorgridcolor": "white",
             "startlinecolor": "#2a3f5f"
            },
            "type": "carpet"
           }
          ],
          "choropleth": [
           {
            "colorbar": {
             "outlinewidth": 0,
             "ticks": ""
            },
            "type": "choropleth"
           }
          ],
          "contour": [
           {
            "colorbar": {
             "outlinewidth": 0,
             "ticks": ""
            },
            "colorscale": [
             [
              0,
              "#0d0887"
             ],
             [
              0.1111111111111111,
              "#46039f"
             ],
             [
              0.2222222222222222,
              "#7201a8"
             ],
             [
              0.3333333333333333,
              "#9c179e"
             ],
             [
              0.4444444444444444,
              "#bd3786"
             ],
             [
              0.5555555555555556,
              "#d8576b"
             ],
             [
              0.6666666666666666,
              "#ed7953"
             ],
             [
              0.7777777777777778,
              "#fb9f3a"
             ],
             [
              0.8888888888888888,
              "#fdca26"
             ],
             [
              1,
              "#f0f921"
             ]
            ],
            "type": "contour"
           }
          ],
          "contourcarpet": [
           {
            "colorbar": {
             "outlinewidth": 0,
             "ticks": ""
            },
            "type": "contourcarpet"
           }
          ],
          "heatmap": [
           {
            "colorbar": {
             "outlinewidth": 0,
             "ticks": ""
            },
            "colorscale": [
             [
              0,
              "#0d0887"
             ],
             [
              0.1111111111111111,
              "#46039f"
             ],
             [
              0.2222222222222222,
              "#7201a8"
             ],
             [
              0.3333333333333333,
              "#9c179e"
             ],
             [
              0.4444444444444444,
              "#bd3786"
             ],
             [
              0.5555555555555556,
              "#d8576b"
             ],
             [
              0.6666666666666666,
              "#ed7953"
             ],
             [
              0.7777777777777778,
              "#fb9f3a"
             ],
             [
              0.8888888888888888,
              "#fdca26"
             ],
             [
              1,
              "#f0f921"
             ]
            ],
            "type": "heatmap"
           }
          ],
          "heatmapgl": [
           {
            "colorbar": {
             "outlinewidth": 0,
             "ticks": ""
            },
            "colorscale": [
             [
              0,
              "#0d0887"
             ],
             [
              0.1111111111111111,
              "#46039f"
             ],
             [
              0.2222222222222222,
              "#7201a8"
             ],
             [
              0.3333333333333333,
              "#9c179e"
             ],
             [
              0.4444444444444444,
              "#bd3786"
             ],
             [
              0.5555555555555556,
              "#d8576b"
             ],
             [
              0.6666666666666666,
              "#ed7953"
             ],
             [
              0.7777777777777778,
              "#fb9f3a"
             ],
             [
              0.8888888888888888,
              "#fdca26"
             ],
             [
              1,
              "#f0f921"
             ]
            ],
            "type": "heatmapgl"
           }
          ],
          "histogram": [
           {
            "marker": {
             "pattern": {
              "fillmode": "overlay",
              "size": 10,
              "solidity": 0.2
             }
            },
            "type": "histogram"
           }
          ],
          "histogram2d": [
           {
            "colorbar": {
             "outlinewidth": 0,
             "ticks": ""
            },
            "colorscale": [
             [
              0,
              "#0d0887"
             ],
             [
              0.1111111111111111,
              "#46039f"
             ],
             [
              0.2222222222222222,
              "#7201a8"
             ],
             [
              0.3333333333333333,
              "#9c179e"
             ],
             [
              0.4444444444444444,
              "#bd3786"
             ],
             [
              0.5555555555555556,
              "#d8576b"
             ],
             [
              0.6666666666666666,
              "#ed7953"
             ],
             [
              0.7777777777777778,
              "#fb9f3a"
             ],
             [
              0.8888888888888888,
              "#fdca26"
             ],
             [
              1,
              "#f0f921"
             ]
            ],
            "type": "histogram2d"
           }
          ],
          "histogram2dcontour": [
           {
            "colorbar": {
             "outlinewidth": 0,
             "ticks": ""
            },
            "colorscale": [
             [
              0,
              "#0d0887"
             ],
             [
              0.1111111111111111,
              "#46039f"
             ],
             [
              0.2222222222222222,
              "#7201a8"
             ],
             [
              0.3333333333333333,
              "#9c179e"
             ],
             [
              0.4444444444444444,
              "#bd3786"
             ],
             [
              0.5555555555555556,
              "#d8576b"
             ],
             [
              0.6666666666666666,
              "#ed7953"
             ],
             [
              0.7777777777777778,
              "#fb9f3a"
             ],
             [
              0.8888888888888888,
              "#fdca26"
             ],
             [
              1,
              "#f0f921"
             ]
            ],
            "type": "histogram2dcontour"
           }
          ],
          "mesh3d": [
           {
            "colorbar": {
             "outlinewidth": 0,
             "ticks": ""
            },
            "type": "mesh3d"
           }
          ],
          "parcoords": [
           {
            "line": {
             "colorbar": {
              "outlinewidth": 0,
              "ticks": ""
             }
            },
            "type": "parcoords"
           }
          ],
          "pie": [
           {
            "automargin": true,
            "type": "pie"
           }
          ],
          "scatter": [
           {
            "fillpattern": {
             "fillmode": "overlay",
             "size": 10,
             "solidity": 0.2
            },
            "type": "scatter"
           }
          ],
          "scatter3d": [
           {
            "line": {
             "colorbar": {
              "outlinewidth": 0,
              "ticks": ""
             }
            },
            "marker": {
             "colorbar": {
              "outlinewidth": 0,
              "ticks": ""
             }
            },
            "type": "scatter3d"
           }
          ],
          "scattercarpet": [
           {
            "marker": {
             "colorbar": {
              "outlinewidth": 0,
              "ticks": ""
             }
            },
            "type": "scattercarpet"
           }
          ],
          "scattergeo": [
           {
            "marker": {
             "colorbar": {
              "outlinewidth": 0,
              "ticks": ""
             }
            },
            "type": "scattergeo"
           }
          ],
          "scattergl": [
           {
            "marker": {
             "colorbar": {
              "outlinewidth": 0,
              "ticks": ""
             }
            },
            "type": "scattergl"
           }
          ],
          "scattermapbox": [
           {
            "marker": {
             "colorbar": {
              "outlinewidth": 0,
              "ticks": ""
             }
            },
            "type": "scattermapbox"
           }
          ],
          "scatterpolar": [
           {
            "marker": {
             "colorbar": {
              "outlinewidth": 0,
              "ticks": ""
             }
            },
            "type": "scatterpolar"
           }
          ],
          "scatterpolargl": [
           {
            "marker": {
             "colorbar": {
              "outlinewidth": 0,
              "ticks": ""
             }
            },
            "type": "scatterpolargl"
           }
          ],
          "scatterternary": [
           {
            "marker": {
             "colorbar": {
              "outlinewidth": 0,
              "ticks": ""
             }
            },
            "type": "scatterternary"
           }
          ],
          "surface": [
           {
            "colorbar": {
             "outlinewidth": 0,
             "ticks": ""
            },
            "colorscale": [
             [
              0,
              "#0d0887"
             ],
             [
              0.1111111111111111,
              "#46039f"
             ],
             [
              0.2222222222222222,
              "#7201a8"
             ],
             [
              0.3333333333333333,
              "#9c179e"
             ],
             [
              0.4444444444444444,
              "#bd3786"
             ],
             [
              0.5555555555555556,
              "#d8576b"
             ],
             [
              0.6666666666666666,
              "#ed7953"
             ],
             [
              0.7777777777777778,
              "#fb9f3a"
             ],
             [
              0.8888888888888888,
              "#fdca26"
             ],
             [
              1,
              "#f0f921"
             ]
            ],
            "type": "surface"
           }
          ],
          "table": [
           {
            "cells": {
             "fill": {
              "color": "#EBF0F8"
             },
             "line": {
              "color": "white"
             }
            },
            "header": {
             "fill": {
              "color": "#C8D4E3"
             },
             "line": {
              "color": "white"
             }
            },
            "type": "table"
           }
          ]
         },
         "layout": {
          "annotationdefaults": {
           "arrowcolor": "#2a3f5f",
           "arrowhead": 0,
           "arrowwidth": 1
          },
          "autotypenumbers": "strict",
          "coloraxis": {
           "colorbar": {
            "outlinewidth": 0,
            "ticks": ""
           }
          },
          "colorscale": {
           "diverging": [
            [
             0,
             "#8e0152"
            ],
            [
             0.1,
             "#c51b7d"
            ],
            [
             0.2,
             "#de77ae"
            ],
            [
             0.3,
             "#f1b6da"
            ],
            [
             0.4,
             "#fde0ef"
            ],
            [
             0.5,
             "#f7f7f7"
            ],
            [
             0.6,
             "#e6f5d0"
            ],
            [
             0.7,
             "#b8e186"
            ],
            [
             0.8,
             "#7fbc41"
            ],
            [
             0.9,
             "#4d9221"
            ],
            [
             1,
             "#276419"
            ]
           ],
           "sequential": [
            [
             0,
             "#0d0887"
            ],
            [
             0.1111111111111111,
             "#46039f"
            ],
            [
             0.2222222222222222,
             "#7201a8"
            ],
            [
             0.3333333333333333,
             "#9c179e"
            ],
            [
             0.4444444444444444,
             "#bd3786"
            ],
            [
             0.5555555555555556,
             "#d8576b"
            ],
            [
             0.6666666666666666,
             "#ed7953"
            ],
            [
             0.7777777777777778,
             "#fb9f3a"
            ],
            [
             0.8888888888888888,
             "#fdca26"
            ],
            [
             1,
             "#f0f921"
            ]
           ],
           "sequentialminus": [
            [
             0,
             "#0d0887"
            ],
            [
             0.1111111111111111,
             "#46039f"
            ],
            [
             0.2222222222222222,
             "#7201a8"
            ],
            [
             0.3333333333333333,
             "#9c179e"
            ],
            [
             0.4444444444444444,
             "#bd3786"
            ],
            [
             0.5555555555555556,
             "#d8576b"
            ],
            [
             0.6666666666666666,
             "#ed7953"
            ],
            [
             0.7777777777777778,
             "#fb9f3a"
            ],
            [
             0.8888888888888888,
             "#fdca26"
            ],
            [
             1,
             "#f0f921"
            ]
           ]
          },
          "colorway": [
           "#636efa",
           "#EF553B",
           "#00cc96",
           "#ab63fa",
           "#FFA15A",
           "#19d3f3",
           "#FF6692",
           "#B6E880",
           "#FF97FF",
           "#FECB52"
          ],
          "font": {
           "color": "#2a3f5f"
          },
          "geo": {
           "bgcolor": "white",
           "lakecolor": "white",
           "landcolor": "#E5ECF6",
           "showlakes": true,
           "showland": true,
           "subunitcolor": "white"
          },
          "hoverlabel": {
           "align": "left"
          },
          "hovermode": "closest",
          "mapbox": {
           "style": "light"
          },
          "paper_bgcolor": "white",
          "plot_bgcolor": "#E5ECF6",
          "polar": {
           "angularaxis": {
            "gridcolor": "white",
            "linecolor": "white",
            "ticks": ""
           },
           "bgcolor": "#E5ECF6",
           "radialaxis": {
            "gridcolor": "white",
            "linecolor": "white",
            "ticks": ""
           }
          },
          "scene": {
           "xaxis": {
            "backgroundcolor": "#E5ECF6",
            "gridcolor": "white",
            "gridwidth": 2,
            "linecolor": "white",
            "showbackground": true,
            "ticks": "",
            "zerolinecolor": "white"
           },
           "yaxis": {
            "backgroundcolor": "#E5ECF6",
            "gridcolor": "white",
            "gridwidth": 2,
            "linecolor": "white",
            "showbackground": true,
            "ticks": "",
            "zerolinecolor": "white"
           },
           "zaxis": {
            "backgroundcolor": "#E5ECF6",
            "gridcolor": "white",
            "gridwidth": 2,
            "linecolor": "white",
            "showbackground": true,
            "ticks": "",
            "zerolinecolor": "white"
           }
          },
          "shapedefaults": {
           "line": {
            "color": "#2a3f5f"
           }
          },
          "ternary": {
           "aaxis": {
            "gridcolor": "white",
            "linecolor": "white",
            "ticks": ""
           },
           "baxis": {
            "gridcolor": "white",
            "linecolor": "white",
            "ticks": ""
           },
           "bgcolor": "#E5ECF6",
           "caxis": {
            "gridcolor": "white",
            "linecolor": "white",
            "ticks": ""
           }
          },
          "title": {
           "x": 0.05
          },
          "xaxis": {
           "automargin": true,
           "gridcolor": "white",
           "linecolor": "white",
           "ticks": "",
           "title": {
            "standoff": 15
           },
           "zerolinecolor": "white",
           "zerolinewidth": 2
          },
          "yaxis": {
           "automargin": true,
           "gridcolor": "white",
           "linecolor": "white",
           "ticks": "",
           "title": {
            "standoff": 15
           },
           "zerolinecolor": "white",
           "zerolinewidth": 2
          }
         }
        },
        "title": {
         "text": "Residuals Distribution Across Countries"
        },
        "xaxis": {
         "anchor": "y",
         "domain": [
          0,
          1
         ],
         "title": {
          "text": "country"
         }
        },
        "yaxis": {
         "anchor": "x",
         "domain": [
          0,
          1
         ],
         "title": {
          "text": "Residuals"
         }
        }
       }
      },
      "text/html": [
       "<div>                            <div id=\"748732b3-3759-4958-8d8e-8db8f67fb184\" class=\"plotly-graph-div\" style=\"height:525px; width:100%;\"></div>            <script type=\"text/javascript\">                require([\"plotly\"], function(Plotly) {                    window.PLOTLYENV=window.PLOTLYENV || {};                                    if (document.getElementById(\"748732b3-3759-4958-8d8e-8db8f67fb184\")) {                    Plotly.newPlot(                        \"748732b3-3759-4958-8d8e-8db8f67fb184\",                        [{\"alignmentgroup\":\"True\",\"hovertemplate\":\"country=%{x}\\u003cbr\\u003eResiduals=%{y}\\u003cextra\\u003e\\u003c\\u002fextra\\u003e\",\"legendgroup\":\"\",\"marker\":{\"color\":\"#636efa\"},\"name\":\"\",\"notched\":false,\"offsetgroup\":\"\",\"orientation\":\"v\",\"showlegend\":false,\"x\":[\"ES\",\"KR\",\"CN\",\"CN\",\"CL\",\"CN\",\"US\",\"CN\",\"CN\",\"US\",\"CN\",\"CN\",\"CN\",\"CN\",\"CN\",\"SE\",\"US\",\"CN\",\"US\",\"CN\",\"HK\",\"TR\",\"HK\",\"US\",\"CN\",\"KR\",\"IT\",\"IN\",\"CN\",\"ES\",\"IL\",\"HK\",\"IT\",\"HK\",\"CN\",\"IN\",\"CN\",\"CN\",\"IN\",\"FR\",\"CN\",\"CN\",\"US\",\"KR\",\"CN\",\"CN\",\"CN\",\"CN\",\"CN\",\"CN\",\"MX\",\"CN\",\"CN\",\"CN\",\"ES\",\"IT\",\"IN\",\"CN\",\"CN\",\"VN\",\"DE\",\"CN\",\"CN\",\"PL\",\"CN\",\"CN\",\"PL\",\"CN\",\"CN\",\"ES\",\"CN\",\"CN\",\"CA\",\"CN\",\"CN\",\"TR\",\"FR\",\"CN\",\"ES\",\"CN\",\"ES\",\"CN\",\"PA\",\"CN\",\"US\",\"CN\",\"CN\",\"US\",\"CN\",\"CN\",\"KR\",\"IT\",\"BG\",\"IT\",\"CN\",\"KR\",\"CN\",\"TR\",\"IT\",\"HK\",\"IT\",\"ES\",\"US\",\"GR\",\"US\",\"RO\",\"CN\",\"CN\",\"HK\",\"CN\",\"IT\",\"CN\",\"DR\",\"DR\",\"TR\",\"CN\",\"IN\",\"PH\",\"KR\",\"JP\",\"DE\",\"HK\",\"CN\",\"IT\",\"FR\",\"FR\",\"HK\",\"DE\",\"DE\",\"TR\",\"CN\",\"IN\",\"CN\",\"CN\",\"CN\",\"HK\",\"UA\",\"CA\",\"US\",\"FR\",\"US\",\"US\",\"CN\",\"CN\",\"HK\",\"CN\",\"CN\",\"DK\",\"CN\",\"US\",\"US\",\"FR\",\"CA\"],\"x0\":\" \",\"xaxis\":\"x\",\"y\":[45.27082241144542,48.82668085729938,1940.334633682176,-166.2842551150943,-876.9588135869335,526.7207266182854,-605.7840917868575,1457.5644397639508,-1260.0540193337429,-245.60173217991996,2017.2827660770959,66.95598839989793,-2977.819766570863,64.40496451433955,711.5070022221307,-881.0821889077083,-460.8065813311607,-185.3373005866581,129.4513999586668,-513.2273411693218,-1276.728688097457,486.946629895916,3978.290909972102,26.165831842861564,-865.8404714256667,-1183.2984817044867,-723.4855955543155,-104.22734158592812,1784.682127400848,-219.50255119494165,191.65314066467272,778.8819392840892,-161.41644041890936,-137.59010894248422,178.0456362220334,2476.708198061745,-55.96720107020019,-508.50193572372314,193.74466708105865,-1287.3652819654287,-756.0845529341832,204.29519680784824,95.27681962409497,-104.02435183037312,85.8890171472276,-118.60444291642125,-815.0293894863516,-351.65711923610775,-204.5839961040083,-216.2280510640585,-829.3749999844767,844.2381949205837,-36.28164663091229,-296.5990716399592,-355.2198816205565,-445.5054380118577,-47.40158931090218,-796.6581901055097,654.0854483968196,962.7322799357999,639.1682877072853,-177.4062561299079,199.97126538745943,-84.06200268159228,-629.5661860466348,-533.833511182047,121.78196896289228,-99.49038828157336,-679.143626857991,-495.79854841703866,1636.3609609006162,-0.942172898860008,-2119.9336773481477,-470.4847458891527,2634.074061942337,-878.1145422568397,-565.575688837549,491.8053230090077,-2242.117707572379,-813.6928441317432,-2935.6652365933296,-844.4230314496676,-286.0060395009132,-2564.8032814769103,-258.87880018944475,-1883.1027518321907,360.826621682555,200.95712880066776,-138.42526473070802,139.31947382336193,1686.8224211883244,-313.35745071481756,324.50009372457225,83.85526086892193,376.5604917758301,45.46035629414939,-6.379928337646106,-434.9826970786012,-473.64825807477246,-13.411845416755057,-367.3963162795674,-260.5267259368917,233.768558761417,-520.795839622099,-102.14837941012343,598.6971545662739,855.1257494592537,2089.9125617380087,-678.4166366291674,232.82387482820104,177.67384594248028,-339.77459494507093,-886.9864857802722,-269.58556012872305,-1196.0061764760567,269.1788853001831,571.365603916207,62.97008885285686,-34.33740398215275,-463.1810828996031,-16.510916398316454,1005.7586938096911,3.48573997513995,-268.0006286837297,125.26555409095954,-50.16787387106274,700.0835231117435,403.0968314288724,-422.988621196665,-249.55317586906517,-443.5458314038642,130.55388149708392,3572.2262997264506,532.5134515053064,56.200839035223,-82.41162048294291,-254.88315789986927,-406.38506977898146,-482.27346722269317,-95.49087213227222,1405.0990585643663,-1114.656146452543,70.6388424249426,-110.3287838440774,689.522049086253,1335.957593103094,-1360.9615810064251,-1653.871474424648,17.566036364037245,15.311944756089929,-416.49515369934693,-202.84615782720869,-227.56018510649312],\"y0\":\" \",\"yaxis\":\"y\",\"type\":\"box\"}],                        {\"template\":{\"data\":{\"histogram2dcontour\":[{\"type\":\"histogram2dcontour\",\"colorbar\":{\"outlinewidth\":0,\"ticks\":\"\"},\"colorscale\":[[0.0,\"#0d0887\"],[0.1111111111111111,\"#46039f\"],[0.2222222222222222,\"#7201a8\"],[0.3333333333333333,\"#9c179e\"],[0.4444444444444444,\"#bd3786\"],[0.5555555555555556,\"#d8576b\"],[0.6666666666666666,\"#ed7953\"],[0.7777777777777778,\"#fb9f3a\"],[0.8888888888888888,\"#fdca26\"],[1.0,\"#f0f921\"]]}],\"choropleth\":[{\"type\":\"choropleth\",\"colorbar\":{\"outlinewidth\":0,\"ticks\":\"\"}}],\"histogram2d\":[{\"type\":\"histogram2d\",\"colorbar\":{\"outlinewidth\":0,\"ticks\":\"\"},\"colorscale\":[[0.0,\"#0d0887\"],[0.1111111111111111,\"#46039f\"],[0.2222222222222222,\"#7201a8\"],[0.3333333333333333,\"#9c179e\"],[0.4444444444444444,\"#bd3786\"],[0.5555555555555556,\"#d8576b\"],[0.6666666666666666,\"#ed7953\"],[0.7777777777777778,\"#fb9f3a\"],[0.8888888888888888,\"#fdca26\"],[1.0,\"#f0f921\"]]}],\"heatmap\":[{\"type\":\"heatmap\",\"colorbar\":{\"outlinewidth\":0,\"ticks\":\"\"},\"colorscale\":[[0.0,\"#0d0887\"],[0.1111111111111111,\"#46039f\"],[0.2222222222222222,\"#7201a8\"],[0.3333333333333333,\"#9c179e\"],[0.4444444444444444,\"#bd3786\"],[0.5555555555555556,\"#d8576b\"],[0.6666666666666666,\"#ed7953\"],[0.7777777777777778,\"#fb9f3a\"],[0.8888888888888888,\"#fdca26\"],[1.0,\"#f0f921\"]]}],\"heatmapgl\":[{\"type\":\"heatmapgl\",\"colorbar\":{\"outlinewidth\":0,\"ticks\":\"\"},\"colorscale\":[[0.0,\"#0d0887\"],[0.1111111111111111,\"#46039f\"],[0.2222222222222222,\"#7201a8\"],[0.3333333333333333,\"#9c179e\"],[0.4444444444444444,\"#bd3786\"],[0.5555555555555556,\"#d8576b\"],[0.6666666666666666,\"#ed7953\"],[0.7777777777777778,\"#fb9f3a\"],[0.8888888888888888,\"#fdca26\"],[1.0,\"#f0f921\"]]}],\"contourcarpet\":[{\"type\":\"contourcarpet\",\"colorbar\":{\"outlinewidth\":0,\"ticks\":\"\"}}],\"contour\":[{\"type\":\"contour\",\"colorbar\":{\"outlinewidth\":0,\"ticks\":\"\"},\"colorscale\":[[0.0,\"#0d0887\"],[0.1111111111111111,\"#46039f\"],[0.2222222222222222,\"#7201a8\"],[0.3333333333333333,\"#9c179e\"],[0.4444444444444444,\"#bd3786\"],[0.5555555555555556,\"#d8576b\"],[0.6666666666666666,\"#ed7953\"],[0.7777777777777778,\"#fb9f3a\"],[0.8888888888888888,\"#fdca26\"],[1.0,\"#f0f921\"]]}],\"surface\":[{\"type\":\"surface\",\"colorbar\":{\"outlinewidth\":0,\"ticks\":\"\"},\"colorscale\":[[0.0,\"#0d0887\"],[0.1111111111111111,\"#46039f\"],[0.2222222222222222,\"#7201a8\"],[0.3333333333333333,\"#9c179e\"],[0.4444444444444444,\"#bd3786\"],[0.5555555555555556,\"#d8576b\"],[0.6666666666666666,\"#ed7953\"],[0.7777777777777778,\"#fb9f3a\"],[0.8888888888888888,\"#fdca26\"],[1.0,\"#f0f921\"]]}],\"mesh3d\":[{\"type\":\"mesh3d\",\"colorbar\":{\"outlinewidth\":0,\"ticks\":\"\"}}],\"scatter\":[{\"fillpattern\":{\"fillmode\":\"overlay\",\"size\":10,\"solidity\":0.2},\"type\":\"scatter\"}],\"parcoords\":[{\"type\":\"parcoords\",\"line\":{\"colorbar\":{\"outlinewidth\":0,\"ticks\":\"\"}}}],\"scatterpolargl\":[{\"type\":\"scatterpolargl\",\"marker\":{\"colorbar\":{\"outlinewidth\":0,\"ticks\":\"\"}}}],\"bar\":[{\"error_x\":{\"color\":\"#2a3f5f\"},\"error_y\":{\"color\":\"#2a3f5f\"},\"marker\":{\"line\":{\"color\":\"#E5ECF6\",\"width\":0.5},\"pattern\":{\"fillmode\":\"overlay\",\"size\":10,\"solidity\":0.2}},\"type\":\"bar\"}],\"scattergeo\":[{\"type\":\"scattergeo\",\"marker\":{\"colorbar\":{\"outlinewidth\":0,\"ticks\":\"\"}}}],\"scatterpolar\":[{\"type\":\"scatterpolar\",\"marker\":{\"colorbar\":{\"outlinewidth\":0,\"ticks\":\"\"}}}],\"histogram\":[{\"marker\":{\"pattern\":{\"fillmode\":\"overlay\",\"size\":10,\"solidity\":0.2}},\"type\":\"histogram\"}],\"scattergl\":[{\"type\":\"scattergl\",\"marker\":{\"colorbar\":{\"outlinewidth\":0,\"ticks\":\"\"}}}],\"scatter3d\":[{\"type\":\"scatter3d\",\"line\":{\"colorbar\":{\"outlinewidth\":0,\"ticks\":\"\"}},\"marker\":{\"colorbar\":{\"outlinewidth\":0,\"ticks\":\"\"}}}],\"scattermapbox\":[{\"type\":\"scattermapbox\",\"marker\":{\"colorbar\":{\"outlinewidth\":0,\"ticks\":\"\"}}}],\"scatterternary\":[{\"type\":\"scatterternary\",\"marker\":{\"colorbar\":{\"outlinewidth\":0,\"ticks\":\"\"}}}],\"scattercarpet\":[{\"type\":\"scattercarpet\",\"marker\":{\"colorbar\":{\"outlinewidth\":0,\"ticks\":\"\"}}}],\"carpet\":[{\"aaxis\":{\"endlinecolor\":\"#2a3f5f\",\"gridcolor\":\"white\",\"linecolor\":\"white\",\"minorgridcolor\":\"white\",\"startlinecolor\":\"#2a3f5f\"},\"baxis\":{\"endlinecolor\":\"#2a3f5f\",\"gridcolor\":\"white\",\"linecolor\":\"white\",\"minorgridcolor\":\"white\",\"startlinecolor\":\"#2a3f5f\"},\"type\":\"carpet\"}],\"table\":[{\"cells\":{\"fill\":{\"color\":\"#EBF0F8\"},\"line\":{\"color\":\"white\"}},\"header\":{\"fill\":{\"color\":\"#C8D4E3\"},\"line\":{\"color\":\"white\"}},\"type\":\"table\"}],\"barpolar\":[{\"marker\":{\"line\":{\"color\":\"#E5ECF6\",\"width\":0.5},\"pattern\":{\"fillmode\":\"overlay\",\"size\":10,\"solidity\":0.2}},\"type\":\"barpolar\"}],\"pie\":[{\"automargin\":true,\"type\":\"pie\"}]},\"layout\":{\"autotypenumbers\":\"strict\",\"colorway\":[\"#636efa\",\"#EF553B\",\"#00cc96\",\"#ab63fa\",\"#FFA15A\",\"#19d3f3\",\"#FF6692\",\"#B6E880\",\"#FF97FF\",\"#FECB52\"],\"font\":{\"color\":\"#2a3f5f\"},\"hovermode\":\"closest\",\"hoverlabel\":{\"align\":\"left\"},\"paper_bgcolor\":\"white\",\"plot_bgcolor\":\"#E5ECF6\",\"polar\":{\"bgcolor\":\"#E5ECF6\",\"angularaxis\":{\"gridcolor\":\"white\",\"linecolor\":\"white\",\"ticks\":\"\"},\"radialaxis\":{\"gridcolor\":\"white\",\"linecolor\":\"white\",\"ticks\":\"\"}},\"ternary\":{\"bgcolor\":\"#E5ECF6\",\"aaxis\":{\"gridcolor\":\"white\",\"linecolor\":\"white\",\"ticks\":\"\"},\"baxis\":{\"gridcolor\":\"white\",\"linecolor\":\"white\",\"ticks\":\"\"},\"caxis\":{\"gridcolor\":\"white\",\"linecolor\":\"white\",\"ticks\":\"\"}},\"coloraxis\":{\"colorbar\":{\"outlinewidth\":0,\"ticks\":\"\"}},\"colorscale\":{\"sequential\":[[0.0,\"#0d0887\"],[0.1111111111111111,\"#46039f\"],[0.2222222222222222,\"#7201a8\"],[0.3333333333333333,\"#9c179e\"],[0.4444444444444444,\"#bd3786\"],[0.5555555555555556,\"#d8576b\"],[0.6666666666666666,\"#ed7953\"],[0.7777777777777778,\"#fb9f3a\"],[0.8888888888888888,\"#fdca26\"],[1.0,\"#f0f921\"]],\"sequentialminus\":[[0.0,\"#0d0887\"],[0.1111111111111111,\"#46039f\"],[0.2222222222222222,\"#7201a8\"],[0.3333333333333333,\"#9c179e\"],[0.4444444444444444,\"#bd3786\"],[0.5555555555555556,\"#d8576b\"],[0.6666666666666666,\"#ed7953\"],[0.7777777777777778,\"#fb9f3a\"],[0.8888888888888888,\"#fdca26\"],[1.0,\"#f0f921\"]],\"diverging\":[[0,\"#8e0152\"],[0.1,\"#c51b7d\"],[0.2,\"#de77ae\"],[0.3,\"#f1b6da\"],[0.4,\"#fde0ef\"],[0.5,\"#f7f7f7\"],[0.6,\"#e6f5d0\"],[0.7,\"#b8e186\"],[0.8,\"#7fbc41\"],[0.9,\"#4d9221\"],[1,\"#276419\"]]},\"xaxis\":{\"gridcolor\":\"white\",\"linecolor\":\"white\",\"ticks\":\"\",\"title\":{\"standoff\":15},\"zerolinecolor\":\"white\",\"automargin\":true,\"zerolinewidth\":2},\"yaxis\":{\"gridcolor\":\"white\",\"linecolor\":\"white\",\"ticks\":\"\",\"title\":{\"standoff\":15},\"zerolinecolor\":\"white\",\"automargin\":true,\"zerolinewidth\":2},\"scene\":{\"xaxis\":{\"backgroundcolor\":\"#E5ECF6\",\"gridcolor\":\"white\",\"linecolor\":\"white\",\"showbackground\":true,\"ticks\":\"\",\"zerolinecolor\":\"white\",\"gridwidth\":2},\"yaxis\":{\"backgroundcolor\":\"#E5ECF6\",\"gridcolor\":\"white\",\"linecolor\":\"white\",\"showbackground\":true,\"ticks\":\"\",\"zerolinecolor\":\"white\",\"gridwidth\":2},\"zaxis\":{\"backgroundcolor\":\"#E5ECF6\",\"gridcolor\":\"white\",\"linecolor\":\"white\",\"showbackground\":true,\"ticks\":\"\",\"zerolinecolor\":\"white\",\"gridwidth\":2}},\"shapedefaults\":{\"line\":{\"color\":\"#2a3f5f\"}},\"annotationdefaults\":{\"arrowcolor\":\"#2a3f5f\",\"arrowhead\":0,\"arrowwidth\":1},\"geo\":{\"bgcolor\":\"white\",\"landcolor\":\"#E5ECF6\",\"subunitcolor\":\"white\",\"showland\":true,\"showlakes\":true,\"lakecolor\":\"white\"},\"title\":{\"x\":0.05},\"mapbox\":{\"style\":\"light\"}}},\"xaxis\":{\"anchor\":\"y\",\"domain\":[0.0,1.0],\"title\":{\"text\":\"country\"}},\"yaxis\":{\"anchor\":\"x\",\"domain\":[0.0,1.0],\"title\":{\"text\":\"Residuals\"}},\"legend\":{\"tracegroupgap\":0},\"title\":{\"text\":\"Residuals Distribution Across Countries\"},\"boxmode\":\"group\"},                        {\"responsive\": true}                    ).then(function(){\n",
       "                            \n",
       "var gd = document.getElementById('748732b3-3759-4958-8d8e-8db8f67fb184');\n",
       "var x = new MutationObserver(function (mutations, observer) {{\n",
       "        var display = window.getComputedStyle(gd).display;\n",
       "        if (!display || display === 'none') {{\n",
       "            console.log([gd, 'removed!']);\n",
       "            Plotly.purge(gd);\n",
       "            observer.disconnect();\n",
       "        }}\n",
       "}});\n",
       "\n",
       "// Listen for the removal of the full notebook cells\n",
       "var notebookContainer = gd.closest('#notebook-container');\n",
       "if (notebookContainer) {{\n",
       "    x.observe(notebookContainer, {childList: true});\n",
       "}}\n",
       "\n",
       "// Listen for the clearing of the current output cell\n",
       "var outputEl = gd.closest('.output');\n",
       "if (outputEl) {{\n",
       "    x.observe(outputEl, {childList: true});\n",
       "}}\n",
       "\n",
       "                        })                };                });            </script>        </div>"
      ]
     },
     "metadata": {},
     "output_type": "display_data"
    }
   ],
   "source": [
    "fig = px.box(predictions, x='country', y='Residuals', title=\"Residuals Distribution Across Countries\")\n",
    "fig.show()"
   ]
  },
  {
   "cell_type": "code",
   "execution_count": 20,
   "id": "4e4b374e",
   "metadata": {},
   "outputs": [
    {
     "data": {
      "application/vnd.plotly.v1+json": {
       "config": {
        "plotlyServerURL": "https://plot.ly"
       },
       "data": [
        {
         "hovertemplate": "country=ES<br>prediction_label=%{x}<br>standardized_residuals=%{y}<extra></extra>",
         "legendgroup": "ES",
         "marker": {
          "color": "#636efa",
          "symbol": "circle"
         },
         "mode": "markers",
         "name": "ES",
         "orientation": "v",
         "showlegend": true,
         "type": "scatter",
         "x": [
          102.17075168523426,
          391.4180175035354,
          892.525179472119,
          1014.6010386514137,
          3880.605012259879,
          6623.072219015205,
          796.1856004486104
         ],
         "xaxis": "x",
         "y": [
          0.10718757984004063,
          -0.16639419407157024,
          -0.3066265274918681,
          -0.45188192274730365,
          -2.256297098148558,
          -2.9729173560587703,
          -0.2087831486189691
         ],
         "yaxis": "y"
        },
        {
         "alignmentgroup": "True",
         "bingroup": "y",
         "hovertemplate": "country=ES<br>standardized_residuals=%{y}<br>count=%{x}<extra></extra>",
         "legendgroup": "ES",
         "marker": {
          "color": "#636efa"
         },
         "name": "ES",
         "offsetgroup": "ES",
         "opacity": 0.5,
         "showlegend": false,
         "type": "histogram",
         "xaxis": "x2",
         "y": [
          0.10718757984004063,
          -0.16639419407157024,
          -0.3066265274918681,
          -0.45188192274730365,
          -2.256297098148558,
          -2.9729173560587703,
          -0.2087831486189691
         ],
         "yaxis": "y2"
        },
        {
         "hovertemplate": "country=KR<br>prediction_label=%{x}<br>standardized_residuals=%{y}<extra></extra>",
         "legendgroup": "KR",
         "marker": {
          "color": "#EF553B",
          "symbol": "circle"
         },
         "mode": "markers",
         "name": "KR",
         "orientation": "v",
         "showlegend": true,
         "type": "scatter",
         "x": [
          3909.7704871114506,
          2399.9164016263617,
          393.6873156975606,
          5554.047695999176,
          704.8064894089756,
          530.0959489040278
         ],
         "xaxis": "x",
         "y": [
          0.11086173350641913,
          -1.1622533953429792,
          -0.047074300987293705,
          1.8033498194331006,
          0.10738341907848155,
          0.024930971110588195
         ],
         "yaxis": "y"
        },
        {
         "alignmentgroup": "True",
         "bingroup": "y",
         "hovertemplate": "country=KR<br>standardized_residuals=%{y}<br>count=%{x}<extra></extra>",
         "legendgroup": "KR",
         "marker": {
          "color": "#EF553B"
         },
         "name": "KR",
         "offsetgroup": "KR",
         "opacity": 0.5,
         "showlegend": false,
         "type": "histogram",
         "xaxis": "x2",
         "y": [
          0.11086173350641913,
          -1.1622533953429792,
          -0.047074300987293705,
          1.8033498194331006,
          0.10738341907848155,
          0.024930971110588195
         ],
         "yaxis": "y2"
        },
        {
         "hovertemplate": "country=CN<br>prediction_label=%{x}<br>standardized_residuals=%{y}<extra></extra>",
         "legendgroup": "CN",
         "marker": {
          "color": "#00cc96",
          "symbol": "circle"
         },
         "mode": "markers",
         "name": "CN",
         "orientation": "v",
         "showlegend": true,
         "type": "scatter",
         "x": [
          6920.920249130324,
          5268.208083240094,
          3858.3344491629646,
          5897.937025079799,
          4435.815738083743,
          2326.711862829154,
          940.3044486118208,
          4709.619327117738,
          5795.85333626691,
          4833.920243871619,
          2043.780415821033,
          1606.9072728099468,
          9016.523576894417,
          4121.339356974152,
          1552.4975766685916,
          2565.4349745077,
          1266.8177926573169,
          4220.215656449808,
          1985.8244320984018,
          7268.441549259022,
          1956.4130366664212,
          4361.574067220727,
          2037.9995264626702,
          5196.764660166508,
          2735.0654534078085,
          4950.439051173166,
          5322.941802880912,
          3526.810497421209,
          7065.36375651176,
          6869.34082113443,
          2263.260504176783,
          6016.382738518791,
          3099.15187940601,
          5077.396011182047,
          3857.1356519534484,
          5493.089427639241,
          7892.356812536884,
          1667.91238774261,
          2335.6024216704027,
          6908.393711495163,
          956.6154533581798,
          8427.881808975493,
          2020.4027677777926,
          8052.29400413316,
          4180.952361207191,
          7580.593788473695,
          4021.556856527583,
          2370.148299614138,
          7322.05767228667,
          3752.622115837646,
          5350.305891165746,
          6076.583043730741,
          1027.7243429452365,
          3437.833188695071,
          4017.676583449817,
          6080.43418189986,
          2223.060479841364,
          4880.219989336049,
          2390.5820074790686,
          7419.856289871027,
          2121.4795657781824,
          5201.343920562827,
          8993.950610021906,
          7164.924471631425,
          4254.139530042213
         ],
         "xaxis": "x",
         "y": [
          2.0652957993390353,
          -0.11140544785525983,
          0.6046542134687367,
          1.5664649530011903,
          -1.2415624129233056,
          2.144803818869288,
          0.12959416135494814,
          -3.0164742701569693,
          0.12695827078031854,
          0.7955879028561514,
          -0.13109234426606745,
          -0.4698905312918919,
          -0.8342342882418152,
          1.9044650926776512,
          0.24437950589482976,
          0.0025816004918747934,
          -0.46500792249082595,
          -0.7208270431355275,
          0.27150232890249143,
          0.1491570483615328,
          -0.06213943812243383,
          -0.7817328386361185,
          -0.3029452402087591,
          -0.15097933301366367,
          -0.163010758863268,
          0.9327347566248745,
          0.022922047986947438,
          -0.24605553818057577,
          -0.762750471765021,
          0.7362560661902658,
          -0.12289745222728114,
          0.267034550242766,
          -0.5900997015828551,
          -0.4911822211201383,
          -0.04238950291399794,
          -0.6413264696616281,
          1.7512096225860998,
          0.0594371846150378,
          -0.4257259883128896,
          2.7821143405341573,
          0.5685772547996735,
          -0.7803518294959371,
          -0.8121043393671602,
          -2.589717677876966,
          -1.8853385417258366,
          0.433241193754502,
          -0.08261965302651933,
          0.20436501326851347,
          0.4494984934670181,
          0.053818527577218785,
          0.9439845150264756,
          2.2198498405485276,
          0.3009800903324007,
          -0.2906674117027766,
          0.338544548268741,
          0.06401240395184254,
          -0.39789087818926117,
          3.7514767424865485,
          0.6106396489707562,
          0.1184812129425209,
          0.13339953545093663,
          -0.05358846693352071,
          1.4408125266407783,
          -1.3458269367592544,
          0.07856111937140106
         ],
         "yaxis": "y"
        },
        {
         "alignmentgroup": "True",
         "bingroup": "y",
         "hovertemplate": "country=CN<br>standardized_residuals=%{y}<br>count=%{x}<extra></extra>",
         "legendgroup": "CN",
         "marker": {
          "color": "#00cc96"
         },
         "name": "CN",
         "offsetgroup": "CN",
         "opacity": 0.5,
         "showlegend": false,
         "type": "histogram",
         "xaxis": "x2",
         "y": [
          2.0652957993390353,
          -0.11140544785525983,
          0.6046542134687367,
          1.5664649530011903,
          -1.2415624129233056,
          2.144803818869288,
          0.12959416135494814,
          -3.0164742701569693,
          0.12695827078031854,
          0.7955879028561514,
          -0.13109234426606745,
          -0.4698905312918919,
          -0.8342342882418152,
          1.9044650926776512,
          0.24437950589482976,
          0.0025816004918747934,
          -0.46500792249082595,
          -0.7208270431355275,
          0.27150232890249143,
          0.1491570483615328,
          -0.06213943812243383,
          -0.7817328386361185,
          -0.3029452402087591,
          -0.15097933301366367,
          -0.163010758863268,
          0.9327347566248745,
          0.022922047986947438,
          -0.24605553818057577,
          -0.762750471765021,
          0.7362560661902658,
          -0.12289745222728114,
          0.267034550242766,
          -0.5900997015828551,
          -0.4911822211201383,
          -0.04238950291399794,
          -0.6413264696616281,
          1.7512096225860998,
          0.0594371846150378,
          -0.4257259883128896,
          2.7821143405341573,
          0.5685772547996735,
          -0.7803518294959371,
          -0.8121043393671602,
          -2.589717677876966,
          -1.8853385417258366,
          0.433241193754502,
          -0.08261965302651933,
          0.20436501326851347,
          0.4494984934670181,
          0.053818527577218785,
          0.9439845150264756,
          2.2198498405485276,
          0.3009800903324007,
          -0.2906674117027766,
          0.338544548268741,
          0.06401240395184254,
          -0.39789087818926117,
          3.7514767424865485,
          0.6106396489707562,
          0.1184812129425209,
          0.13339953545093663,
          -0.05358846693352071,
          1.4408125266407783,
          -1.3458269367592544,
          0.07856111937140106
         ],
         "yaxis": "y2"
        },
        {
         "hovertemplate": "country=CL<br>prediction_label=%{x}<br>standardized_residuals=%{y}<extra></extra>",
         "legendgroup": "CL",
         "marker": {
          "color": "#ab63fa",
          "symbol": "circle"
         },
         "mode": "markers",
         "name": "CL",
         "orientation": "v",
         "showlegend": true,
         "type": "scatter",
         "x": [
          6760.0144776494335
         ],
         "xaxis": "x",
         "y": [
          -0.8457225120386594
         ],
         "yaxis": "y"
        },
        {
         "alignmentgroup": "True",
         "bingroup": "y",
         "hovertemplate": "country=CL<br>standardized_residuals=%{y}<br>count=%{x}<extra></extra>",
         "legendgroup": "CL",
         "marker": {
          "color": "#ab63fa"
         },
         "name": "CL",
         "offsetgroup": "CL",
         "opacity": 0.5,
         "showlegend": false,
         "type": "histogram",
         "xaxis": "x2",
         "y": [
          -0.8457225120386594
         ],
         "yaxis": "y2"
        },
        {
         "hovertemplate": "country=US<br>prediction_label=%{x}<br>standardized_residuals=%{y}<extra></extra>",
         "legendgroup": "US",
         "marker": {
          "color": "#FFA15A",
          "symbol": "circle"
         },
         "mode": "markers",
         "name": "US",
         "orientation": "v",
         "showlegend": true,
         "type": "scatter",
         "x": [
          2349.239536122795,
          711.2659472678106,
          1385.8422258624107,
          1160.8819740647707,
          209.79699774698219,
          1177.09158857903,
          798.6157997011635,
          2130.0428711993322,
          393.67144367998924,
          570.6932402499672,
          1114.7082816758182,
          1618.9009414356337,
          3323.212787077543,
          745.4051572946913,
          912.2279723028626
         ],
         "xaxis": "x",
         "y": [
          -0.5655264318227493,
          -0.1933616346954348,
          -0.4157258535111172,
          0.19416865131480918,
          0.08744701023847673,
          0.158857161404513,
          -0.20708040017746085,
          0.26805321106105906,
          0.3019562017242479,
          -0.045135919285423105,
          -0.43790689325302995,
          1.512254169409071,
          -1.0913274876964663,
          0.07623203932735458,
          -0.3699402867415168
         ],
         "yaxis": "y"
        },
        {
         "alignmentgroup": "True",
         "bingroup": "y",
         "hovertemplate": "country=US<br>standardized_residuals=%{y}<br>count=%{x}<extra></extra>",
         "legendgroup": "US",
         "marker": {
          "color": "#FFA15A"
         },
         "name": "US",
         "offsetgroup": "US",
         "opacity": 0.5,
         "showlegend": false,
         "type": "histogram",
         "xaxis": "x2",
         "y": [
          -0.5655264318227493,
          -0.1933616346954348,
          -0.4157258535111172,
          0.19416865131480918,
          0.08744701023847673,
          0.158857161404513,
          -0.20708040017746085,
          0.26805321106105906,
          0.3019562017242479,
          -0.045135919285423105,
          -0.43790689325302995,
          1.512254169409071,
          -1.0913274876964663,
          0.07623203932735458,
          -0.3699402867415168
         ],
         "yaxis": "y2"
        },
        {
         "hovertemplate": "country=SE<br>prediction_label=%{x}<br>standardized_residuals=%{y}<extra></extra>",
         "legendgroup": "SE",
         "marker": {
          "color": "#19d3f3",
          "symbol": "circle"
         },
         "mode": "markers",
         "name": "SE",
         "orientation": "v",
         "showlegend": true,
         "type": "scatter",
         "x": [
          2256.100621524896
         ],
         "xaxis": "x",
         "y": [
          -0.849983062559264
         ],
         "yaxis": "y"
        },
        {
         "alignmentgroup": "True",
         "bingroup": "y",
         "hovertemplate": "country=SE<br>standardized_residuals=%{y}<br>count=%{x}<extra></extra>",
         "legendgroup": "SE",
         "marker": {
          "color": "#19d3f3"
         },
         "name": "SE",
         "offsetgroup": "SE",
         "opacity": 0.5,
         "showlegend": false,
         "type": "histogram",
         "xaxis": "x2",
         "y": [
          -0.849983062559264
         ],
         "yaxis": "y2"
        },
        {
         "hovertemplate": "country=HK<br>prediction_label=%{x}<br>standardized_residuals=%{y}<extra></extra>",
         "legendgroup": "HK",
         "marker": {
          "color": "#FF6692",
          "symbol": "circle"
         },
         "mode": "markers",
         "name": "HK",
         "orientation": "v",
         "showlegend": true,
         "type": "scatter",
         "x": [
          2737.385426378707,
          4849.963972840398,
          2432.598041184661,
          3536.359884333109,
          293.30295869800506,
          1647.5365707111987,
          1009.7698706434339,
          3054.8356663413815,
          3522.063720092318,
          2771.722335679372
         ],
         "xaxis": "x",
         "y": [
          -1.2587918095111483,
          4.171050187053832,
          0.865204248894011,
          -0.08175671352877935,
          0.046552674813028404,
          -0.6405752941423192,
          1.0996286704927467,
          0.7837843909066909,
          -0.024742563847081497,
          0.7728715609659034
         ],
         "yaxis": "y"
        },
        {
         "alignmentgroup": "True",
         "bingroup": "y",
         "hovertemplate": "country=HK<br>standardized_residuals=%{y}<br>count=%{x}<extra></extra>",
         "legendgroup": "HK",
         "marker": {
          "color": "#FF6692"
         },
         "name": "HK",
         "offsetgroup": "HK",
         "opacity": 0.5,
         "showlegend": false,
         "type": "histogram",
         "xaxis": "x2",
         "y": [
          -1.2587918095111483,
          4.171050187053832,
          0.865204248894011,
          -0.08175671352877935,
          0.046552674813028404,
          -0.6405752941423192,
          1.0996286704927467,
          0.7837843909066909,
          -0.024742563847081497,
          0.7728715609659034
         ],
         "yaxis": "y2"
        },
        {
         "hovertemplate": "country=TR<br>prediction_label=%{x}<br>standardized_residuals=%{y}<extra></extra>",
         "legendgroup": "TR",
         "marker": {
          "color": "#B6E880",
          "symbol": "circle"
         },
         "mode": "markers",
         "name": "TR",
         "orientation": "v",
         "showlegend": true,
         "type": "scatter",
         "x": [
          1984.646631822834,
          2129.8473303427772,
          1184.2029729575074,
          2991.1267819448067,
          532.4827107811745
         ],
         "xaxis": "x",
         "y": [
          0.5635569241574094,
          -0.8469166891395016,
          -0.3890428681078866,
          -1.1753838458508226,
          -0.19744453381502403
         ],
         "yaxis": "y"
        },
        {
         "alignmentgroup": "True",
         "bingroup": "y",
         "hovertemplate": "country=TR<br>standardized_residuals=%{y}<br>count=%{x}<extra></extra>",
         "legendgroup": "TR",
         "marker": {
          "color": "#B6E880"
         },
         "name": "TR",
         "offsetgroup": "TR",
         "opacity": 0.5,
         "showlegend": false,
         "type": "histogram",
         "xaxis": "x2",
         "y": [
          0.5635569241574094,
          -0.8469166891395016,
          -0.3890428681078866,
          -1.1753838458508226,
          -0.19744453381502403
         ],
         "yaxis": "y2"
        },
        {
         "hovertemplate": "country=IT<br>prediction_label=%{x}<br>standardized_residuals=%{y}<extra></extra>",
         "legendgroup": "IT",
         "marker": {
          "color": "#FF97FF",
          "symbol": "circle"
         },
         "mode": "markers",
         "name": "IT",
         "orientation": "v",
         "showlegend": true,
         "type": "scatter",
         "x": [
          1402.7258299293155,
          712.5899023329719,
          1072.587774437639,
          534.0442335517316,
          242.8594913283437,
          907.647891863835,
          511.25012182155956,
          874.6259587450197,
          2252.438006613417
         ],
         "xaxis": "x",
         "y": [
          -0.6871435935266124,
          -0.10637569217584221,
          -0.39991567639567277,
          -0.26337142992880996,
          0.14705563369606162,
          -0.4289947432626206,
          -0.31920804408682324,
          0.2439953470089954,
          -0.2165056908960581
         ],
         "yaxis": "y"
        },
        {
         "alignmentgroup": "True",
         "bingroup": "y",
         "hovertemplate": "country=IT<br>standardized_residuals=%{y}<br>count=%{x}<extra></extra>",
         "legendgroup": "IT",
         "marker": {
          "color": "#FF97FF"
         },
         "name": "IT",
         "offsetgroup": "IT",
         "opacity": 0.5,
         "showlegend": false,
         "type": "histogram",
         "xaxis": "x2",
         "y": [
          -0.6871435935266124,
          -0.10637569217584221,
          -0.39991567639567277,
          -0.26337142992880996,
          0.14705563369606162,
          -0.4289947432626206,
          -0.31920804408682324,
          0.2439953470089954,
          -0.2165056908960581
         ],
         "yaxis": "y2"
        },
        {
         "hovertemplate": "country=IN<br>prediction_label=%{x}<br>standardized_residuals=%{y}<extra></extra>",
         "legendgroup": "IN",
         "marker": {
          "color": "#FECB52",
          "symbol": "circle"
         },
         "mode": "markers",
         "name": "IN",
         "orientation": "v",
         "showlegend": true,
         "type": "scatter",
         "x": [
          5023.398728304678,
          4470.762016782005,
          2967.6183700283163,
          2477.568581498402,
          5210.817013271293,
          1839.2855960419786
         ],
         "xaxis": "x",
         "y": [
          -0.047284043744483396,
          2.619513276812443,
          0.2606008073520154,
          0.011432170425808566,
          0.6507843230068241,
          0.19530780987473803
         ],
         "yaxis": "y"
        },
        {
         "alignmentgroup": "True",
         "bingroup": "y",
         "hovertemplate": "country=IN<br>standardized_residuals=%{y}<br>count=%{x}<extra></extra>",
         "legendgroup": "IN",
         "marker": {
          "color": "#FECB52"
         },
         "name": "IN",
         "offsetgroup": "IN",
         "opacity": 0.5,
         "showlegend": false,
         "type": "histogram",
         "xaxis": "x2",
         "y": [
          -0.047284043744483396,
          2.619513276812443,
          0.2606008073520154,
          0.011432170425808566,
          0.6507843230068241,
          0.19530780987473803
         ],
         "yaxis": "y2"
        },
        {
         "hovertemplate": "country=IL<br>prediction_label=%{x}<br>standardized_residuals=%{y}<extra></extra>",
         "legendgroup": "IL",
         "marker": {
          "color": "#636efa",
          "symbol": "circle"
         },
         "mode": "markers",
         "name": "IL",
         "orientation": "v",
         "showlegend": true,
         "type": "scatter",
         "x": [
          4830.721371054077
         ],
         "xaxis": "x",
         "y": [
          0.2584397006690281
         ],
         "yaxis": "y"
        },
        {
         "alignmentgroup": "True",
         "bingroup": "y",
         "hovertemplate": "country=IL<br>standardized_residuals=%{y}<br>count=%{x}<extra></extra>",
         "legendgroup": "IL",
         "marker": {
          "color": "#636efa"
         },
         "name": "IL",
         "offsetgroup": "IL",
         "opacity": 0.5,
         "showlegend": false,
         "type": "histogram",
         "xaxis": "x2",
         "y": [
          0.2584397006690281
         ],
         "yaxis": "y2"
        },
        {
         "hovertemplate": "country=FR<br>prediction_label=%{x}<br>standardized_residuals=%{y}<extra></extra>",
         "legendgroup": "FR",
         "marker": {
          "color": "#EF553B",
          "symbol": "circle"
         },
         "mode": "markers",
         "name": "FR",
         "orientation": "v",
         "showlegend": true,
         "type": "scatter",
         "x": [
          1985.32896604746,
          2184.3856253609865,
          305.4627479109936,
          189.12254000875805,
          2079.132961976022,
          353.2571685693962
         ],
         "xaxis": "x",
         "y": [
          -1.2697822583585578,
          -0.5239803879166212,
          0.18984355199605987,
          0.008573857949728194,
          -0.03825693207422545,
          -0.1491836808600407
         ],
         "yaxis": "y"
        },
        {
         "alignmentgroup": "True",
         "bingroup": "y",
         "hovertemplate": "country=FR<br>standardized_residuals=%{y}<br>count=%{x}<extra></extra>",
         "legendgroup": "FR",
         "marker": {
          "color": "#EF553B"
         },
         "name": "FR",
         "offsetgroup": "FR",
         "opacity": 0.5,
         "showlegend": false,
         "type": "histogram",
         "xaxis": "x2",
         "y": [
          -1.2697822583585578,
          -0.5239803879166212,
          0.18984355199605987,
          0.008573857949728194,
          -0.03825693207422545,
          -0.1491836808600407
         ],
         "yaxis": "y2"
        },
        {
         "hovertemplate": "country=MX<br>prediction_label=%{x}<br>standardized_residuals=%{y}<extra></extra>",
         "legendgroup": "MX",
         "marker": {
          "color": "#00cc96",
          "symbol": "circle"
         },
         "mode": "markers",
         "name": "MX",
         "orientation": "v",
         "showlegend": true,
         "type": "scatter",
         "x": [
          4752.053710921977
         ],
         "xaxis": "x",
         "y": [
          -0.7965556945542388
         ],
         "yaxis": "y"
        },
        {
         "alignmentgroup": "True",
         "bingroup": "y",
         "hovertemplate": "country=MX<br>standardized_residuals=%{y}<br>count=%{x}<extra></extra>",
         "legendgroup": "MX",
         "marker": {
          "color": "#00cc96"
         },
         "name": "MX",
         "offsetgroup": "MX",
         "opacity": 0.5,
         "showlegend": false,
         "type": "histogram",
         "xaxis": "x2",
         "y": [
          -0.7965556945542388
         ],
         "yaxis": "y2"
        },
        {
         "hovertemplate": "country=VN<br>prediction_label=%{x}<br>standardized_residuals=%{y}<extra></extra>",
         "legendgroup": "VN",
         "marker": {
          "color": "#ab63fa",
          "symbol": "circle"
         },
         "mode": "markers",
         "name": "VN",
         "orientation": "v",
         "showlegend": true,
         "type": "scatter",
         "x": [
          1978.6576126423251
         ],
         "xaxis": "x",
         "y": [
          1.0551708669291096
         ],
         "yaxis": "y"
        },
        {
         "alignmentgroup": "True",
         "bingroup": "y",
         "hovertemplate": "country=VN<br>standardized_residuals=%{y}<br>count=%{x}<extra></extra>",
         "legendgroup": "VN",
         "marker": {
          "color": "#ab63fa"
         },
         "name": "VN",
         "offsetgroup": "VN",
         "opacity": 0.5,
         "showlegend": false,
         "type": "histogram",
         "xaxis": "x2",
         "y": [
          1.0551708669291096
         ],
         "yaxis": "y2"
        },
        {
         "hovertemplate": "country=DE<br>prediction_label=%{x}<br>standardized_residuals=%{y}<extra></extra>",
         "legendgroup": "DE",
         "marker": {
          "color": "#FFA15A",
          "symbol": "circle"
         },
         "mode": "markers",
         "name": "DE",
         "orientation": "v",
         "showlegend": true,
         "type": "scatter",
         "x": [
          1548.8883529177147,
          529.3405672772227,
          953.4646920086276,
          929.8792767142431
         ],
         "xaxis": "x",
         "y": [
          0.7208426459222813,
          0.04335050487779172,
          0.47691763602095505,
          -0.37664977694650476
         ],
         "yaxis": "y"
        },
        {
         "alignmentgroup": "True",
         "bingroup": "y",
         "hovertemplate": "country=DE<br>standardized_residuals=%{y}<br>count=%{x}<extra></extra>",
         "legendgroup": "DE",
         "marker": {
          "color": "#FFA15A"
         },
         "name": "DE",
         "offsetgroup": "DE",
         "opacity": 0.5,
         "showlegend": false,
         "type": "histogram",
         "xaxis": "x2",
         "y": [
          0.7208426459222813,
          0.04335050487779172,
          0.47691763602095505,
          -0.37664977694650476
         ],
         "yaxis": "y2"
        },
        {
         "hovertemplate": "country=PL<br>prediction_label=%{x}<br>standardized_residuals=%{y}<extra></extra>",
         "legendgroup": "PL",
         "marker": {
          "color": "#19d3f3",
          "symbol": "circle"
         },
         "mode": "markers",
         "name": "PL",
         "orientation": "v",
         "showlegend": true,
         "type": "scatter",
         "x": [
          925.7097077597173,
          559.6767102363265
         ],
         "xaxis": "x",
         "y": [
          -0.026447850460265876,
          0.18624407601428858
         ],
         "yaxis": "y"
        },
        {
         "alignmentgroup": "True",
         "bingroup": "y",
         "hovertemplate": "country=PL<br>standardized_residuals=%{y}<br>count=%{x}<extra></extra>",
         "legendgroup": "PL",
         "marker": {
          "color": "#19d3f3"
         },
         "name": "PL",
         "offsetgroup": "PL",
         "opacity": 0.5,
         "showlegend": false,
         "type": "histogram",
         "xaxis": "x2",
         "y": [
          -0.026447850460265876,
          0.18624407601428858
         ],
         "yaxis": "y2"
        },
        {
         "hovertemplate": "country=CA<br>prediction_label=%{x}<br>standardized_residuals=%{y}<extra></extra>",
         "legendgroup": "CA",
         "marker": {
          "color": "#FF6692",
          "symbol": "circle"
         },
         "mode": "markers",
         "name": "CA",
         "orientation": "v",
         "showlegend": true,
         "type": "scatter",
         "x": [
          3654.6368023481477,
          1951.678404739919,
          668.0533491689931
         ],
         "xaxis": "x",
         "y": [
          -2.130048286657006,
          -0.35949386361499547,
          -0.1747198869047541
         ],
         "yaxis": "y"
        },
        {
         "alignmentgroup": "True",
         "bingroup": "y",
         "hovertemplate": "country=CA<br>standardized_residuals=%{y}<br>count=%{x}<extra></extra>",
         "legendgroup": "CA",
         "marker": {
          "color": "#FF6692"
         },
         "name": "CA",
         "offsetgroup": "CA",
         "opacity": 0.5,
         "showlegend": false,
         "type": "histogram",
         "xaxis": "x2",
         "y": [
          -2.130048286657006,
          -0.35949386361499547,
          -0.1747198869047541
         ],
         "yaxis": "y2"
        },
        {
         "hovertemplate": "country=PA<br>prediction_label=%{x}<br>standardized_residuals=%{y}<extra></extra>",
         "legendgroup": "PA",
         "marker": {
          "color": "#B6E880",
          "symbol": "circle"
         },
         "mode": "markers",
         "name": "PA",
         "orientation": "v",
         "showlegend": true,
         "type": "scatter",
         "x": [
          4896.070492625913
         ],
         "xaxis": "x",
         "y": [
          -0.23511010026048043
         ],
         "yaxis": "y"
        },
        {
         "alignmentgroup": "True",
         "bingroup": "y",
         "hovertemplate": "country=PA<br>standardized_residuals=%{y}<br>count=%{x}<extra></extra>",
         "legendgroup": "PA",
         "marker": {
          "color": "#B6E880"
         },
         "name": "PA",
         "offsetgroup": "PA",
         "opacity": 0.5,
         "showlegend": false,
         "type": "histogram",
         "xaxis": "x2",
         "y": [
          -0.23511010026048043
         ],
         "yaxis": "y2"
        },
        {
         "hovertemplate": "country=BG<br>prediction_label=%{x}<br>standardized_residuals=%{y}<extra></extra>",
         "legendgroup": "BG",
         "marker": {
          "color": "#FF97FF",
          "symbol": "circle"
         },
         "mode": "markers",
         "name": "BG",
         "orientation": "v",
         "showlegend": true,
         "type": "scatter",
         "x": [
          1467.9905068613652
         ],
         "xaxis": "x",
         "y": [
          0.3957061658797999
         ],
         "yaxis": "y"
        },
        {
         "alignmentgroup": "True",
         "bingroup": "y",
         "hovertemplate": "country=BG<br>standardized_residuals=%{y}<br>count=%{x}<extra></extra>",
         "legendgroup": "BG",
         "marker": {
          "color": "#FF97FF"
         },
         "name": "BG",
         "offsetgroup": "BG",
         "opacity": 0.5,
         "showlegend": false,
         "type": "histogram",
         "xaxis": "x2",
         "y": [
          0.3957061658797999
         ],
         "yaxis": "y2"
        },
        {
         "hovertemplate": "country=GR<br>prediction_label=%{x}<br>standardized_residuals=%{y}<extra></extra>",
         "legendgroup": "GR",
         "marker": {
          "color": "#FECB52",
          "symbol": "circle"
         },
         "mode": "markers",
         "name": "GR",
         "orientation": "v",
         "showlegend": true,
         "type": "scatter",
         "x": [
          1945.3430808330365
         ],
         "xaxis": "x",
         "y": [
          -0.47771081625618084
         ],
         "yaxis": "y"
        },
        {
         "alignmentgroup": "True",
         "bingroup": "y",
         "hovertemplate": "country=GR<br>standardized_residuals=%{y}<br>count=%{x}<extra></extra>",
         "legendgroup": "GR",
         "marker": {
          "color": "#FECB52"
         },
         "name": "GR",
         "offsetgroup": "GR",
         "opacity": 0.5,
         "showlegend": false,
         "type": "histogram",
         "xaxis": "x2",
         "y": [
          -0.47771081625618084
         ],
         "yaxis": "y2"
        },
        {
         "hovertemplate": "country=RO<br>prediction_label=%{x}<br>standardized_residuals=%{y}<extra></extra>",
         "legendgroup": "RO",
         "marker": {
          "color": "#636efa",
          "symbol": "circle"
         },
         "mode": "markers",
         "name": "RO",
         "orientation": "v",
         "showlegend": true,
         "type": "scatter",
         "x": [
          1610.4666637931011
         ],
         "xaxis": "x",
         "y": [
          0.6790251313961008
         ],
         "yaxis": "y"
        },
        {
         "alignmentgroup": "True",
         "bingroup": "y",
         "hovertemplate": "country=RO<br>standardized_residuals=%{y}<br>count=%{x}<extra></extra>",
         "legendgroup": "RO",
         "marker": {
          "color": "#636efa"
         },
         "name": "RO",
         "offsetgroup": "RO",
         "opacity": 0.5,
         "showlegend": false,
         "type": "histogram",
         "xaxis": "x2",
         "y": [
          0.6790251313961008
         ],
         "yaxis": "y2"
        },
        {
         "hovertemplate": "country=DR<br>prediction_label=%{x}<br>standardized_residuals=%{y}<extra></extra>",
         "legendgroup": "DR",
         "marker": {
          "color": "#EF553B",
          "symbol": "circle"
         },
         "mode": "markers",
         "name": "DR",
         "orientation": "v",
         "showlegend": true,
         "type": "scatter",
         "x": [
          3322.1522572646472,
          2516.580677316223
         ],
         "xaxis": "x",
         "y": [
          -0.8560837817898093,
          -0.21814334935976062
         ],
         "yaxis": "y"
        },
        {
         "alignmentgroup": "True",
         "bingroup": "y",
         "hovertemplate": "country=DR<br>standardized_residuals=%{y}<br>count=%{x}<extra></extra>",
         "legendgroup": "DR",
         "marker": {
          "color": "#EF553B"
         },
         "name": "DR",
         "offsetgroup": "DR",
         "opacity": 0.5,
         "showlegend": false,
         "type": "histogram",
         "xaxis": "x2",
         "y": [
          -0.8560837817898093,
          -0.21814334935976062
         ],
         "yaxis": "y2"
        },
        {
         "hovertemplate": "country=PH<br>prediction_label=%{x}<br>standardized_residuals=%{y}<extra></extra>",
         "legendgroup": "PH",
         "marker": {
          "color": "#00cc96",
          "symbol": "circle"
         },
         "mode": "markers",
         "name": "PH",
         "orientation": "v",
         "showlegend": true,
         "type": "scatter",
         "x": [
          3089.845584975268
         ],
         "xaxis": "x",
         "y": [
          0.1254756601104307
         ],
         "yaxis": "y"
        },
        {
         "alignmentgroup": "True",
         "bingroup": "y",
         "hovertemplate": "country=PH<br>standardized_residuals=%{y}<br>count=%{x}<extra></extra>",
         "legendgroup": "PH",
         "marker": {
          "color": "#00cc96"
         },
         "name": "PH",
         "offsetgroup": "PH",
         "opacity": 0.5,
         "showlegend": false,
         "type": "histogram",
         "xaxis": "x2",
         "y": [
          0.1254756601104307
         ],
         "yaxis": "y2"
        },
        {
         "hovertemplate": "country=JP<br>prediction_label=%{x}<br>standardized_residuals=%{y}<extra></extra>",
         "legendgroup": "JP",
         "marker": {
          "color": "#ab63fa",
          "symbol": "circle"
         },
         "mode": "markers",
         "name": "JP",
         "orientation": "v",
         "showlegend": true,
         "type": "scatter",
         "x": [
          2276.853202040228
         ],
         "xaxis": "x",
         "y": [
          -0.4181793492777123
         ],
         "yaxis": "y"
        },
        {
         "alignmentgroup": "True",
         "bingroup": "y",
         "hovertemplate": "country=JP<br>standardized_residuals=%{y}<br>count=%{x}<extra></extra>",
         "legendgroup": "JP",
         "marker": {
          "color": "#ab63fa"
         },
         "name": "JP",
         "offsetgroup": "JP",
         "opacity": 0.5,
         "showlegend": false,
         "type": "histogram",
         "xaxis": "x2",
         "y": [
          -0.4181793492777123
         ],
         "yaxis": "y2"
        },
        {
         "hovertemplate": "country=UA<br>prediction_label=%{x}<br>standardized_residuals=%{y}<extra></extra>",
         "legendgroup": "UA",
         "marker": {
          "color": "#FFA15A",
          "symbol": "circle"
         },
         "mode": "markers",
         "name": "UA",
         "orientation": "v",
         "showlegend": true,
         "type": "scatter",
         "x": [
          1070.1224767475255
         ],
         "xaxis": "x",
         "y": [
          -0.2029518320718047
         ],
         "yaxis": "y"
        },
        {
         "alignmentgroup": "True",
         "bingroup": "y",
         "hovertemplate": "country=UA<br>standardized_residuals=%{y}<br>count=%{x}<extra></extra>",
         "legendgroup": "UA",
         "marker": {
          "color": "#FFA15A"
         },
         "name": "UA",
         "offsetgroup": "UA",
         "opacity": 0.5,
         "showlegend": false,
         "type": "histogram",
         "xaxis": "x2",
         "y": [
          -0.2029518320718047
         ],
         "yaxis": "y2"
        },
        {
         "hovertemplate": "country=DK<br>prediction_label=%{x}<br>standardized_residuals=%{y}<extra></extra>",
         "legendgroup": "DK",
         "marker": {
          "color": "#19d3f3",
          "symbol": "circle"
         },
         "mode": "markers",
         "name": "DK",
         "orientation": "v",
         "showlegend": true,
         "type": "scatter",
         "x": [
          3659.4499656355856
         ],
         "xaxis": "x",
         "y": [
          -1.6484812676918918
         ],
         "yaxis": "y"
        },
        {
         "alignmentgroup": "True",
         "bingroup": "y",
         "hovertemplate": "country=DK<br>standardized_residuals=%{y}<br>count=%{x}<extra></extra>",
         "legendgroup": "DK",
         "marker": {
          "color": "#19d3f3"
         },
         "name": "DK",
         "offsetgroup": "DK",
         "opacity": 0.5,
         "showlegend": false,
         "type": "histogram",
         "xaxis": "x2",
         "y": [
          -1.6484812676918918
         ],
         "yaxis": "y2"
        }
       ],
       "layout": {
        "barmode": "overlay",
        "legend": {
         "title": {
          "text": "country"
         },
         "tracegroupgap": 0
        },
        "template": {
         "data": {
          "bar": [
           {
            "error_x": {
             "color": "#2a3f5f"
            },
            "error_y": {
             "color": "#2a3f5f"
            },
            "marker": {
             "line": {
              "color": "#E5ECF6",
              "width": 0.5
             },
             "pattern": {
              "fillmode": "overlay",
              "size": 10,
              "solidity": 0.2
             }
            },
            "type": "bar"
           }
          ],
          "barpolar": [
           {
            "marker": {
             "line": {
              "color": "#E5ECF6",
              "width": 0.5
             },
             "pattern": {
              "fillmode": "overlay",
              "size": 10,
              "solidity": 0.2
             }
            },
            "type": "barpolar"
           }
          ],
          "carpet": [
           {
            "aaxis": {
             "endlinecolor": "#2a3f5f",
             "gridcolor": "white",
             "linecolor": "white",
             "minorgridcolor": "white",
             "startlinecolor": "#2a3f5f"
            },
            "baxis": {
             "endlinecolor": "#2a3f5f",
             "gridcolor": "white",
             "linecolor": "white",
             "minorgridcolor": "white",
             "startlinecolor": "#2a3f5f"
            },
            "type": "carpet"
           }
          ],
          "choropleth": [
           {
            "colorbar": {
             "outlinewidth": 0,
             "ticks": ""
            },
            "type": "choropleth"
           }
          ],
          "contour": [
           {
            "colorbar": {
             "outlinewidth": 0,
             "ticks": ""
            },
            "colorscale": [
             [
              0,
              "#0d0887"
             ],
             [
              0.1111111111111111,
              "#46039f"
             ],
             [
              0.2222222222222222,
              "#7201a8"
             ],
             [
              0.3333333333333333,
              "#9c179e"
             ],
             [
              0.4444444444444444,
              "#bd3786"
             ],
             [
              0.5555555555555556,
              "#d8576b"
             ],
             [
              0.6666666666666666,
              "#ed7953"
             ],
             [
              0.7777777777777778,
              "#fb9f3a"
             ],
             [
              0.8888888888888888,
              "#fdca26"
             ],
             [
              1,
              "#f0f921"
             ]
            ],
            "type": "contour"
           }
          ],
          "contourcarpet": [
           {
            "colorbar": {
             "outlinewidth": 0,
             "ticks": ""
            },
            "type": "contourcarpet"
           }
          ],
          "heatmap": [
           {
            "colorbar": {
             "outlinewidth": 0,
             "ticks": ""
            },
            "colorscale": [
             [
              0,
              "#0d0887"
             ],
             [
              0.1111111111111111,
              "#46039f"
             ],
             [
              0.2222222222222222,
              "#7201a8"
             ],
             [
              0.3333333333333333,
              "#9c179e"
             ],
             [
              0.4444444444444444,
              "#bd3786"
             ],
             [
              0.5555555555555556,
              "#d8576b"
             ],
             [
              0.6666666666666666,
              "#ed7953"
             ],
             [
              0.7777777777777778,
              "#fb9f3a"
             ],
             [
              0.8888888888888888,
              "#fdca26"
             ],
             [
              1,
              "#f0f921"
             ]
            ],
            "type": "heatmap"
           }
          ],
          "heatmapgl": [
           {
            "colorbar": {
             "outlinewidth": 0,
             "ticks": ""
            },
            "colorscale": [
             [
              0,
              "#0d0887"
             ],
             [
              0.1111111111111111,
              "#46039f"
             ],
             [
              0.2222222222222222,
              "#7201a8"
             ],
             [
              0.3333333333333333,
              "#9c179e"
             ],
             [
              0.4444444444444444,
              "#bd3786"
             ],
             [
              0.5555555555555556,
              "#d8576b"
             ],
             [
              0.6666666666666666,
              "#ed7953"
             ],
             [
              0.7777777777777778,
              "#fb9f3a"
             ],
             [
              0.8888888888888888,
              "#fdca26"
             ],
             [
              1,
              "#f0f921"
             ]
            ],
            "type": "heatmapgl"
           }
          ],
          "histogram": [
           {
            "marker": {
             "pattern": {
              "fillmode": "overlay",
              "size": 10,
              "solidity": 0.2
             }
            },
            "type": "histogram"
           }
          ],
          "histogram2d": [
           {
            "colorbar": {
             "outlinewidth": 0,
             "ticks": ""
            },
            "colorscale": [
             [
              0,
              "#0d0887"
             ],
             [
              0.1111111111111111,
              "#46039f"
             ],
             [
              0.2222222222222222,
              "#7201a8"
             ],
             [
              0.3333333333333333,
              "#9c179e"
             ],
             [
              0.4444444444444444,
              "#bd3786"
             ],
             [
              0.5555555555555556,
              "#d8576b"
             ],
             [
              0.6666666666666666,
              "#ed7953"
             ],
             [
              0.7777777777777778,
              "#fb9f3a"
             ],
             [
              0.8888888888888888,
              "#fdca26"
             ],
             [
              1,
              "#f0f921"
             ]
            ],
            "type": "histogram2d"
           }
          ],
          "histogram2dcontour": [
           {
            "colorbar": {
             "outlinewidth": 0,
             "ticks": ""
            },
            "colorscale": [
             [
              0,
              "#0d0887"
             ],
             [
              0.1111111111111111,
              "#46039f"
             ],
             [
              0.2222222222222222,
              "#7201a8"
             ],
             [
              0.3333333333333333,
              "#9c179e"
             ],
             [
              0.4444444444444444,
              "#bd3786"
             ],
             [
              0.5555555555555556,
              "#d8576b"
             ],
             [
              0.6666666666666666,
              "#ed7953"
             ],
             [
              0.7777777777777778,
              "#fb9f3a"
             ],
             [
              0.8888888888888888,
              "#fdca26"
             ],
             [
              1,
              "#f0f921"
             ]
            ],
            "type": "histogram2dcontour"
           }
          ],
          "mesh3d": [
           {
            "colorbar": {
             "outlinewidth": 0,
             "ticks": ""
            },
            "type": "mesh3d"
           }
          ],
          "parcoords": [
           {
            "line": {
             "colorbar": {
              "outlinewidth": 0,
              "ticks": ""
             }
            },
            "type": "parcoords"
           }
          ],
          "pie": [
           {
            "automargin": true,
            "type": "pie"
           }
          ],
          "scatter": [
           {
            "fillpattern": {
             "fillmode": "overlay",
             "size": 10,
             "solidity": 0.2
            },
            "type": "scatter"
           }
          ],
          "scatter3d": [
           {
            "line": {
             "colorbar": {
              "outlinewidth": 0,
              "ticks": ""
             }
            },
            "marker": {
             "colorbar": {
              "outlinewidth": 0,
              "ticks": ""
             }
            },
            "type": "scatter3d"
           }
          ],
          "scattercarpet": [
           {
            "marker": {
             "colorbar": {
              "outlinewidth": 0,
              "ticks": ""
             }
            },
            "type": "scattercarpet"
           }
          ],
          "scattergeo": [
           {
            "marker": {
             "colorbar": {
              "outlinewidth": 0,
              "ticks": ""
             }
            },
            "type": "scattergeo"
           }
          ],
          "scattergl": [
           {
            "marker": {
             "colorbar": {
              "outlinewidth": 0,
              "ticks": ""
             }
            },
            "type": "scattergl"
           }
          ],
          "scattermapbox": [
           {
            "marker": {
             "colorbar": {
              "outlinewidth": 0,
              "ticks": ""
             }
            },
            "type": "scattermapbox"
           }
          ],
          "scatterpolar": [
           {
            "marker": {
             "colorbar": {
              "outlinewidth": 0,
              "ticks": ""
             }
            },
            "type": "scatterpolar"
           }
          ],
          "scatterpolargl": [
           {
            "marker": {
             "colorbar": {
              "outlinewidth": 0,
              "ticks": ""
             }
            },
            "type": "scatterpolargl"
           }
          ],
          "scatterternary": [
           {
            "marker": {
             "colorbar": {
              "outlinewidth": 0,
              "ticks": ""
             }
            },
            "type": "scatterternary"
           }
          ],
          "surface": [
           {
            "colorbar": {
             "outlinewidth": 0,
             "ticks": ""
            },
            "colorscale": [
             [
              0,
              "#0d0887"
             ],
             [
              0.1111111111111111,
              "#46039f"
             ],
             [
              0.2222222222222222,
              "#7201a8"
             ],
             [
              0.3333333333333333,
              "#9c179e"
             ],
             [
              0.4444444444444444,
              "#bd3786"
             ],
             [
              0.5555555555555556,
              "#d8576b"
             ],
             [
              0.6666666666666666,
              "#ed7953"
             ],
             [
              0.7777777777777778,
              "#fb9f3a"
             ],
             [
              0.8888888888888888,
              "#fdca26"
             ],
             [
              1,
              "#f0f921"
             ]
            ],
            "type": "surface"
           }
          ],
          "table": [
           {
            "cells": {
             "fill": {
              "color": "#EBF0F8"
             },
             "line": {
              "color": "white"
             }
            },
            "header": {
             "fill": {
              "color": "#C8D4E3"
             },
             "line": {
              "color": "white"
             }
            },
            "type": "table"
           }
          ]
         },
         "layout": {
          "annotationdefaults": {
           "arrowcolor": "#2a3f5f",
           "arrowhead": 0,
           "arrowwidth": 1
          },
          "autotypenumbers": "strict",
          "coloraxis": {
           "colorbar": {
            "outlinewidth": 0,
            "ticks": ""
           }
          },
          "colorscale": {
           "diverging": [
            [
             0,
             "#8e0152"
            ],
            [
             0.1,
             "#c51b7d"
            ],
            [
             0.2,
             "#de77ae"
            ],
            [
             0.3,
             "#f1b6da"
            ],
            [
             0.4,
             "#fde0ef"
            ],
            [
             0.5,
             "#f7f7f7"
            ],
            [
             0.6,
             "#e6f5d0"
            ],
            [
             0.7,
             "#b8e186"
            ],
            [
             0.8,
             "#7fbc41"
            ],
            [
             0.9,
             "#4d9221"
            ],
            [
             1,
             "#276419"
            ]
           ],
           "sequential": [
            [
             0,
             "#0d0887"
            ],
            [
             0.1111111111111111,
             "#46039f"
            ],
            [
             0.2222222222222222,
             "#7201a8"
            ],
            [
             0.3333333333333333,
             "#9c179e"
            ],
            [
             0.4444444444444444,
             "#bd3786"
            ],
            [
             0.5555555555555556,
             "#d8576b"
            ],
            [
             0.6666666666666666,
             "#ed7953"
            ],
            [
             0.7777777777777778,
             "#fb9f3a"
            ],
            [
             0.8888888888888888,
             "#fdca26"
            ],
            [
             1,
             "#f0f921"
            ]
           ],
           "sequentialminus": [
            [
             0,
             "#0d0887"
            ],
            [
             0.1111111111111111,
             "#46039f"
            ],
            [
             0.2222222222222222,
             "#7201a8"
            ],
            [
             0.3333333333333333,
             "#9c179e"
            ],
            [
             0.4444444444444444,
             "#bd3786"
            ],
            [
             0.5555555555555556,
             "#d8576b"
            ],
            [
             0.6666666666666666,
             "#ed7953"
            ],
            [
             0.7777777777777778,
             "#fb9f3a"
            ],
            [
             0.8888888888888888,
             "#fdca26"
            ],
            [
             1,
             "#f0f921"
            ]
           ]
          },
          "colorway": [
           "#636efa",
           "#EF553B",
           "#00cc96",
           "#ab63fa",
           "#FFA15A",
           "#19d3f3",
           "#FF6692",
           "#B6E880",
           "#FF97FF",
           "#FECB52"
          ],
          "font": {
           "color": "#2a3f5f"
          },
          "geo": {
           "bgcolor": "white",
           "lakecolor": "white",
           "landcolor": "#E5ECF6",
           "showlakes": true,
           "showland": true,
           "subunitcolor": "white"
          },
          "hoverlabel": {
           "align": "left"
          },
          "hovermode": "closest",
          "mapbox": {
           "style": "light"
          },
          "paper_bgcolor": "white",
          "plot_bgcolor": "#E5ECF6",
          "polar": {
           "angularaxis": {
            "gridcolor": "white",
            "linecolor": "white",
            "ticks": ""
           },
           "bgcolor": "#E5ECF6",
           "radialaxis": {
            "gridcolor": "white",
            "linecolor": "white",
            "ticks": ""
           }
          },
          "scene": {
           "xaxis": {
            "backgroundcolor": "#E5ECF6",
            "gridcolor": "white",
            "gridwidth": 2,
            "linecolor": "white",
            "showbackground": true,
            "ticks": "",
            "zerolinecolor": "white"
           },
           "yaxis": {
            "backgroundcolor": "#E5ECF6",
            "gridcolor": "white",
            "gridwidth": 2,
            "linecolor": "white",
            "showbackground": true,
            "ticks": "",
            "zerolinecolor": "white"
           },
           "zaxis": {
            "backgroundcolor": "#E5ECF6",
            "gridcolor": "white",
            "gridwidth": 2,
            "linecolor": "white",
            "showbackground": true,
            "ticks": "",
            "zerolinecolor": "white"
           }
          },
          "shapedefaults": {
           "line": {
            "color": "#2a3f5f"
           }
          },
          "ternary": {
           "aaxis": {
            "gridcolor": "white",
            "linecolor": "white",
            "ticks": ""
           },
           "baxis": {
            "gridcolor": "white",
            "linecolor": "white",
            "ticks": ""
           },
           "bgcolor": "#E5ECF6",
           "caxis": {
            "gridcolor": "white",
            "linecolor": "white",
            "ticks": ""
           }
          },
          "title": {
           "x": 0.05
          },
          "xaxis": {
           "automargin": true,
           "gridcolor": "white",
           "linecolor": "white",
           "ticks": "",
           "title": {
            "standoff": 15
           },
           "zerolinecolor": "white",
           "zerolinewidth": 2
          },
          "yaxis": {
           "automargin": true,
           "gridcolor": "white",
           "linecolor": "white",
           "ticks": "",
           "title": {
            "standoff": 15
           },
           "zerolinecolor": "white",
           "zerolinewidth": 2
          }
         }
        },
        "title": {
         "text": "Residuals vs. Predictions"
        },
        "xaxis": {
         "anchor": "y",
         "domain": [
          0,
          0.7363
         ],
         "title": {
          "text": "prediction_label"
         }
        },
        "xaxis2": {
         "anchor": "y2",
         "domain": [
          0.7413,
          1
         ],
         "matches": "x2",
         "showgrid": true,
         "showline": false,
         "showticklabels": false,
         "ticks": ""
        },
        "yaxis": {
         "anchor": "x",
         "domain": [
          0,
          1
         ],
         "title": {
          "text": "standardized_residuals"
         }
        },
        "yaxis2": {
         "anchor": "x2",
         "domain": [
          0,
          1
         ],
         "matches": "y",
         "showgrid": true,
         "showticklabels": false
        }
       }
      },
      "text/html": [
       "<div>                            <div id=\"4b87ca82-360a-42c4-816b-64ea2f18e2e7\" class=\"plotly-graph-div\" style=\"height:525px; width:100%;\"></div>            <script type=\"text/javascript\">                require([\"plotly\"], function(Plotly) {                    window.PLOTLYENV=window.PLOTLYENV || {};                                    if (document.getElementById(\"4b87ca82-360a-42c4-816b-64ea2f18e2e7\")) {                    Plotly.newPlot(                        \"4b87ca82-360a-42c4-816b-64ea2f18e2e7\",                        [{\"hovertemplate\":\"country=ES\\u003cbr\\u003eprediction_label=%{x}\\u003cbr\\u003estandardized_residuals=%{y}\\u003cextra\\u003e\\u003c\\u002fextra\\u003e\",\"legendgroup\":\"ES\",\"marker\":{\"color\":\"#636efa\",\"symbol\":\"circle\"},\"mode\":\"markers\",\"name\":\"ES\",\"orientation\":\"v\",\"showlegend\":true,\"x\":[102.17075168523426,391.4180175035354,892.525179472119,1014.6010386514137,3880.605012259879,6623.072219015205,796.1856004486104],\"xaxis\":\"x\",\"y\":[0.10718757984004063,-0.16639419407157024,-0.3066265274918681,-0.45188192274730365,-2.256297098148558,-2.9729173560587703,-0.2087831486189691],\"yaxis\":\"y\",\"type\":\"scatter\"},{\"alignmentgroup\":\"True\",\"bingroup\":\"y\",\"hovertemplate\":\"country=ES\\u003cbr\\u003estandardized_residuals=%{y}\\u003cbr\\u003ecount=%{x}\\u003cextra\\u003e\\u003c\\u002fextra\\u003e\",\"legendgroup\":\"ES\",\"marker\":{\"color\":\"#636efa\"},\"name\":\"ES\",\"offsetgroup\":\"ES\",\"opacity\":0.5,\"showlegend\":false,\"xaxis\":\"x2\",\"y\":[0.10718757984004063,-0.16639419407157024,-0.3066265274918681,-0.45188192274730365,-2.256297098148558,-2.9729173560587703,-0.2087831486189691],\"yaxis\":\"y2\",\"type\":\"histogram\"},{\"hovertemplate\":\"country=KR\\u003cbr\\u003eprediction_label=%{x}\\u003cbr\\u003estandardized_residuals=%{y}\\u003cextra\\u003e\\u003c\\u002fextra\\u003e\",\"legendgroup\":\"KR\",\"marker\":{\"color\":\"#EF553B\",\"symbol\":\"circle\"},\"mode\":\"markers\",\"name\":\"KR\",\"orientation\":\"v\",\"showlegend\":true,\"x\":[3909.7704871114506,2399.9164016263617,393.6873156975606,5554.047695999176,704.8064894089756,530.0959489040278],\"xaxis\":\"x\",\"y\":[0.11086173350641913,-1.1622533953429792,-0.047074300987293705,1.8033498194331006,0.10738341907848155,0.024930971110588195],\"yaxis\":\"y\",\"type\":\"scatter\"},{\"alignmentgroup\":\"True\",\"bingroup\":\"y\",\"hovertemplate\":\"country=KR\\u003cbr\\u003estandardized_residuals=%{y}\\u003cbr\\u003ecount=%{x}\\u003cextra\\u003e\\u003c\\u002fextra\\u003e\",\"legendgroup\":\"KR\",\"marker\":{\"color\":\"#EF553B\"},\"name\":\"KR\",\"offsetgroup\":\"KR\",\"opacity\":0.5,\"showlegend\":false,\"xaxis\":\"x2\",\"y\":[0.11086173350641913,-1.1622533953429792,-0.047074300987293705,1.8033498194331006,0.10738341907848155,0.024930971110588195],\"yaxis\":\"y2\",\"type\":\"histogram\"},{\"hovertemplate\":\"country=CN\\u003cbr\\u003eprediction_label=%{x}\\u003cbr\\u003estandardized_residuals=%{y}\\u003cextra\\u003e\\u003c\\u002fextra\\u003e\",\"legendgroup\":\"CN\",\"marker\":{\"color\":\"#00cc96\",\"symbol\":\"circle\"},\"mode\":\"markers\",\"name\":\"CN\",\"orientation\":\"v\",\"showlegend\":true,\"x\":[6920.920249130324,5268.208083240094,3858.3344491629646,5897.937025079799,4435.815738083743,2326.711862829154,940.3044486118208,4709.619327117738,5795.85333626691,4833.920243871619,2043.780415821033,1606.9072728099468,9016.523576894417,4121.339356974152,1552.4975766685916,2565.4349745077,1266.8177926573169,4220.215656449808,1985.8244320984018,7268.441549259022,1956.4130366664212,4361.574067220727,2037.9995264626702,5196.764660166508,2735.0654534078085,4950.439051173166,5322.941802880912,3526.810497421209,7065.36375651176,6869.34082113443,2263.260504176783,6016.382738518791,3099.15187940601,5077.396011182047,3857.1356519534484,5493.089427639241,7892.356812536884,1667.91238774261,2335.6024216704027,6908.393711495163,956.6154533581798,8427.881808975493,2020.4027677777926,8052.29400413316,4180.952361207191,7580.593788473695,4021.556856527583,2370.148299614138,7322.05767228667,3752.622115837646,5350.305891165746,6076.583043730741,1027.7243429452365,3437.833188695071,4017.676583449817,6080.43418189986,2223.060479841364,4880.219989336049,2390.5820074790686,7419.856289871027,2121.4795657781824,5201.343920562827,8993.950610021906,7164.924471631425,4254.139530042213],\"xaxis\":\"x\",\"y\":[2.0652957993390353,-0.11140544785525983,0.6046542134687367,1.5664649530011903,-1.2415624129233056,2.144803818869288,0.12959416135494814,-3.0164742701569693,0.12695827078031854,0.7955879028561514,-0.13109234426606745,-0.4698905312918919,-0.8342342882418152,1.9044650926776512,0.24437950589482976,0.0025816004918747934,-0.46500792249082595,-0.7208270431355275,0.27150232890249143,0.1491570483615328,-0.06213943812243383,-0.7817328386361185,-0.3029452402087591,-0.15097933301366367,-0.163010758863268,0.9327347566248745,0.022922047986947438,-0.24605553818057577,-0.762750471765021,0.7362560661902658,-0.12289745222728114,0.267034550242766,-0.5900997015828551,-0.4911822211201383,-0.04238950291399794,-0.6413264696616281,1.7512096225860998,0.0594371846150378,-0.4257259883128896,2.7821143405341573,0.5685772547996735,-0.7803518294959371,-0.8121043393671602,-2.589717677876966,-1.8853385417258366,0.433241193754502,-0.08261965302651933,0.20436501326851347,0.4494984934670181,0.053818527577218785,0.9439845150264756,2.2198498405485276,0.3009800903324007,-0.2906674117027766,0.338544548268741,0.06401240395184254,-0.39789087818926117,3.7514767424865485,0.6106396489707562,0.1184812129425209,0.13339953545093663,-0.05358846693352071,1.4408125266407783,-1.3458269367592544,0.07856111937140106],\"yaxis\":\"y\",\"type\":\"scatter\"},{\"alignmentgroup\":\"True\",\"bingroup\":\"y\",\"hovertemplate\":\"country=CN\\u003cbr\\u003estandardized_residuals=%{y}\\u003cbr\\u003ecount=%{x}\\u003cextra\\u003e\\u003c\\u002fextra\\u003e\",\"legendgroup\":\"CN\",\"marker\":{\"color\":\"#00cc96\"},\"name\":\"CN\",\"offsetgroup\":\"CN\",\"opacity\":0.5,\"showlegend\":false,\"xaxis\":\"x2\",\"y\":[2.0652957993390353,-0.11140544785525983,0.6046542134687367,1.5664649530011903,-1.2415624129233056,2.144803818869288,0.12959416135494814,-3.0164742701569693,0.12695827078031854,0.7955879028561514,-0.13109234426606745,-0.4698905312918919,-0.8342342882418152,1.9044650926776512,0.24437950589482976,0.0025816004918747934,-0.46500792249082595,-0.7208270431355275,0.27150232890249143,0.1491570483615328,-0.06213943812243383,-0.7817328386361185,-0.3029452402087591,-0.15097933301366367,-0.163010758863268,0.9327347566248745,0.022922047986947438,-0.24605553818057577,-0.762750471765021,0.7362560661902658,-0.12289745222728114,0.267034550242766,-0.5900997015828551,-0.4911822211201383,-0.04238950291399794,-0.6413264696616281,1.7512096225860998,0.0594371846150378,-0.4257259883128896,2.7821143405341573,0.5685772547996735,-0.7803518294959371,-0.8121043393671602,-2.589717677876966,-1.8853385417258366,0.433241193754502,-0.08261965302651933,0.20436501326851347,0.4494984934670181,0.053818527577218785,0.9439845150264756,2.2198498405485276,0.3009800903324007,-0.2906674117027766,0.338544548268741,0.06401240395184254,-0.39789087818926117,3.7514767424865485,0.6106396489707562,0.1184812129425209,0.13339953545093663,-0.05358846693352071,1.4408125266407783,-1.3458269367592544,0.07856111937140106],\"yaxis\":\"y2\",\"type\":\"histogram\"},{\"hovertemplate\":\"country=CL\\u003cbr\\u003eprediction_label=%{x}\\u003cbr\\u003estandardized_residuals=%{y}\\u003cextra\\u003e\\u003c\\u002fextra\\u003e\",\"legendgroup\":\"CL\",\"marker\":{\"color\":\"#ab63fa\",\"symbol\":\"circle\"},\"mode\":\"markers\",\"name\":\"CL\",\"orientation\":\"v\",\"showlegend\":true,\"x\":[6760.0144776494335],\"xaxis\":\"x\",\"y\":[-0.8457225120386594],\"yaxis\":\"y\",\"type\":\"scatter\"},{\"alignmentgroup\":\"True\",\"bingroup\":\"y\",\"hovertemplate\":\"country=CL\\u003cbr\\u003estandardized_residuals=%{y}\\u003cbr\\u003ecount=%{x}\\u003cextra\\u003e\\u003c\\u002fextra\\u003e\",\"legendgroup\":\"CL\",\"marker\":{\"color\":\"#ab63fa\"},\"name\":\"CL\",\"offsetgroup\":\"CL\",\"opacity\":0.5,\"showlegend\":false,\"xaxis\":\"x2\",\"y\":[-0.8457225120386594],\"yaxis\":\"y2\",\"type\":\"histogram\"},{\"hovertemplate\":\"country=US\\u003cbr\\u003eprediction_label=%{x}\\u003cbr\\u003estandardized_residuals=%{y}\\u003cextra\\u003e\\u003c\\u002fextra\\u003e\",\"legendgroup\":\"US\",\"marker\":{\"color\":\"#FFA15A\",\"symbol\":\"circle\"},\"mode\":\"markers\",\"name\":\"US\",\"orientation\":\"v\",\"showlegend\":true,\"x\":[2349.239536122795,711.2659472678106,1385.8422258624107,1160.8819740647707,209.79699774698219,1177.09158857903,798.6157997011635,2130.0428711993322,393.67144367998924,570.6932402499672,1114.7082816758182,1618.9009414356337,3323.212787077543,745.4051572946913,912.2279723028626],\"xaxis\":\"x\",\"y\":[-0.5655264318227493,-0.1933616346954348,-0.4157258535111172,0.19416865131480918,0.08744701023847673,0.158857161404513,-0.20708040017746085,0.26805321106105906,0.3019562017242479,-0.045135919285423105,-0.43790689325302995,1.512254169409071,-1.0913274876964663,0.07623203932735458,-0.3699402867415168],\"yaxis\":\"y\",\"type\":\"scatter\"},{\"alignmentgroup\":\"True\",\"bingroup\":\"y\",\"hovertemplate\":\"country=US\\u003cbr\\u003estandardized_residuals=%{y}\\u003cbr\\u003ecount=%{x}\\u003cextra\\u003e\\u003c\\u002fextra\\u003e\",\"legendgroup\":\"US\",\"marker\":{\"color\":\"#FFA15A\"},\"name\":\"US\",\"offsetgroup\":\"US\",\"opacity\":0.5,\"showlegend\":false,\"xaxis\":\"x2\",\"y\":[-0.5655264318227493,-0.1933616346954348,-0.4157258535111172,0.19416865131480918,0.08744701023847673,0.158857161404513,-0.20708040017746085,0.26805321106105906,0.3019562017242479,-0.045135919285423105,-0.43790689325302995,1.512254169409071,-1.0913274876964663,0.07623203932735458,-0.3699402867415168],\"yaxis\":\"y2\",\"type\":\"histogram\"},{\"hovertemplate\":\"country=SE\\u003cbr\\u003eprediction_label=%{x}\\u003cbr\\u003estandardized_residuals=%{y}\\u003cextra\\u003e\\u003c\\u002fextra\\u003e\",\"legendgroup\":\"SE\",\"marker\":{\"color\":\"#19d3f3\",\"symbol\":\"circle\"},\"mode\":\"markers\",\"name\":\"SE\",\"orientation\":\"v\",\"showlegend\":true,\"x\":[2256.100621524896],\"xaxis\":\"x\",\"y\":[-0.849983062559264],\"yaxis\":\"y\",\"type\":\"scatter\"},{\"alignmentgroup\":\"True\",\"bingroup\":\"y\",\"hovertemplate\":\"country=SE\\u003cbr\\u003estandardized_residuals=%{y}\\u003cbr\\u003ecount=%{x}\\u003cextra\\u003e\\u003c\\u002fextra\\u003e\",\"legendgroup\":\"SE\",\"marker\":{\"color\":\"#19d3f3\"},\"name\":\"SE\",\"offsetgroup\":\"SE\",\"opacity\":0.5,\"showlegend\":false,\"xaxis\":\"x2\",\"y\":[-0.849983062559264],\"yaxis\":\"y2\",\"type\":\"histogram\"},{\"hovertemplate\":\"country=HK\\u003cbr\\u003eprediction_label=%{x}\\u003cbr\\u003estandardized_residuals=%{y}\\u003cextra\\u003e\\u003c\\u002fextra\\u003e\",\"legendgroup\":\"HK\",\"marker\":{\"color\":\"#FF6692\",\"symbol\":\"circle\"},\"mode\":\"markers\",\"name\":\"HK\",\"orientation\":\"v\",\"showlegend\":true,\"x\":[2737.385426378707,4849.963972840398,2432.598041184661,3536.359884333109,293.30295869800506,1647.5365707111987,1009.7698706434339,3054.8356663413815,3522.063720092318,2771.722335679372],\"xaxis\":\"x\",\"y\":[-1.2587918095111483,4.171050187053832,0.865204248894011,-0.08175671352877935,0.046552674813028404,-0.6405752941423192,1.0996286704927467,0.7837843909066909,-0.024742563847081497,0.7728715609659034],\"yaxis\":\"y\",\"type\":\"scatter\"},{\"alignmentgroup\":\"True\",\"bingroup\":\"y\",\"hovertemplate\":\"country=HK\\u003cbr\\u003estandardized_residuals=%{y}\\u003cbr\\u003ecount=%{x}\\u003cextra\\u003e\\u003c\\u002fextra\\u003e\",\"legendgroup\":\"HK\",\"marker\":{\"color\":\"#FF6692\"},\"name\":\"HK\",\"offsetgroup\":\"HK\",\"opacity\":0.5,\"showlegend\":false,\"xaxis\":\"x2\",\"y\":[-1.2587918095111483,4.171050187053832,0.865204248894011,-0.08175671352877935,0.046552674813028404,-0.6405752941423192,1.0996286704927467,0.7837843909066909,-0.024742563847081497,0.7728715609659034],\"yaxis\":\"y2\",\"type\":\"histogram\"},{\"hovertemplate\":\"country=TR\\u003cbr\\u003eprediction_label=%{x}\\u003cbr\\u003estandardized_residuals=%{y}\\u003cextra\\u003e\\u003c\\u002fextra\\u003e\",\"legendgroup\":\"TR\",\"marker\":{\"color\":\"#B6E880\",\"symbol\":\"circle\"},\"mode\":\"markers\",\"name\":\"TR\",\"orientation\":\"v\",\"showlegend\":true,\"x\":[1984.646631822834,2129.8473303427772,1184.2029729575074,2991.1267819448067,532.4827107811745],\"xaxis\":\"x\",\"y\":[0.5635569241574094,-0.8469166891395016,-0.3890428681078866,-1.1753838458508226,-0.19744453381502403],\"yaxis\":\"y\",\"type\":\"scatter\"},{\"alignmentgroup\":\"True\",\"bingroup\":\"y\",\"hovertemplate\":\"country=TR\\u003cbr\\u003estandardized_residuals=%{y}\\u003cbr\\u003ecount=%{x}\\u003cextra\\u003e\\u003c\\u002fextra\\u003e\",\"legendgroup\":\"TR\",\"marker\":{\"color\":\"#B6E880\"},\"name\":\"TR\",\"offsetgroup\":\"TR\",\"opacity\":0.5,\"showlegend\":false,\"xaxis\":\"x2\",\"y\":[0.5635569241574094,-0.8469166891395016,-0.3890428681078866,-1.1753838458508226,-0.19744453381502403],\"yaxis\":\"y2\",\"type\":\"histogram\"},{\"hovertemplate\":\"country=IT\\u003cbr\\u003eprediction_label=%{x}\\u003cbr\\u003estandardized_residuals=%{y}\\u003cextra\\u003e\\u003c\\u002fextra\\u003e\",\"legendgroup\":\"IT\",\"marker\":{\"color\":\"#FF97FF\",\"symbol\":\"circle\"},\"mode\":\"markers\",\"name\":\"IT\",\"orientation\":\"v\",\"showlegend\":true,\"x\":[1402.7258299293155,712.5899023329719,1072.587774437639,534.0442335517316,242.8594913283437,907.647891863835,511.25012182155956,874.6259587450197,2252.438006613417],\"xaxis\":\"x\",\"y\":[-0.6871435935266124,-0.10637569217584221,-0.39991567639567277,-0.26337142992880996,0.14705563369606162,-0.4289947432626206,-0.31920804408682324,0.2439953470089954,-0.2165056908960581],\"yaxis\":\"y\",\"type\":\"scatter\"},{\"alignmentgroup\":\"True\",\"bingroup\":\"y\",\"hovertemplate\":\"country=IT\\u003cbr\\u003estandardized_residuals=%{y}\\u003cbr\\u003ecount=%{x}\\u003cextra\\u003e\\u003c\\u002fextra\\u003e\",\"legendgroup\":\"IT\",\"marker\":{\"color\":\"#FF97FF\"},\"name\":\"IT\",\"offsetgroup\":\"IT\",\"opacity\":0.5,\"showlegend\":false,\"xaxis\":\"x2\",\"y\":[-0.6871435935266124,-0.10637569217584221,-0.39991567639567277,-0.26337142992880996,0.14705563369606162,-0.4289947432626206,-0.31920804408682324,0.2439953470089954,-0.2165056908960581],\"yaxis\":\"y2\",\"type\":\"histogram\"},{\"hovertemplate\":\"country=IN\\u003cbr\\u003eprediction_label=%{x}\\u003cbr\\u003estandardized_residuals=%{y}\\u003cextra\\u003e\\u003c\\u002fextra\\u003e\",\"legendgroup\":\"IN\",\"marker\":{\"color\":\"#FECB52\",\"symbol\":\"circle\"},\"mode\":\"markers\",\"name\":\"IN\",\"orientation\":\"v\",\"showlegend\":true,\"x\":[5023.398728304678,4470.762016782005,2967.6183700283163,2477.568581498402,5210.817013271293,1839.2855960419786],\"xaxis\":\"x\",\"y\":[-0.047284043744483396,2.619513276812443,0.2606008073520154,0.011432170425808566,0.6507843230068241,0.19530780987473803],\"yaxis\":\"y\",\"type\":\"scatter\"},{\"alignmentgroup\":\"True\",\"bingroup\":\"y\",\"hovertemplate\":\"country=IN\\u003cbr\\u003estandardized_residuals=%{y}\\u003cbr\\u003ecount=%{x}\\u003cextra\\u003e\\u003c\\u002fextra\\u003e\",\"legendgroup\":\"IN\",\"marker\":{\"color\":\"#FECB52\"},\"name\":\"IN\",\"offsetgroup\":\"IN\",\"opacity\":0.5,\"showlegend\":false,\"xaxis\":\"x2\",\"y\":[-0.047284043744483396,2.619513276812443,0.2606008073520154,0.011432170425808566,0.6507843230068241,0.19530780987473803],\"yaxis\":\"y2\",\"type\":\"histogram\"},{\"hovertemplate\":\"country=IL\\u003cbr\\u003eprediction_label=%{x}\\u003cbr\\u003estandardized_residuals=%{y}\\u003cextra\\u003e\\u003c\\u002fextra\\u003e\",\"legendgroup\":\"IL\",\"marker\":{\"color\":\"#636efa\",\"symbol\":\"circle\"},\"mode\":\"markers\",\"name\":\"IL\",\"orientation\":\"v\",\"showlegend\":true,\"x\":[4830.721371054077],\"xaxis\":\"x\",\"y\":[0.2584397006690281],\"yaxis\":\"y\",\"type\":\"scatter\"},{\"alignmentgroup\":\"True\",\"bingroup\":\"y\",\"hovertemplate\":\"country=IL\\u003cbr\\u003estandardized_residuals=%{y}\\u003cbr\\u003ecount=%{x}\\u003cextra\\u003e\\u003c\\u002fextra\\u003e\",\"legendgroup\":\"IL\",\"marker\":{\"color\":\"#636efa\"},\"name\":\"IL\",\"offsetgroup\":\"IL\",\"opacity\":0.5,\"showlegend\":false,\"xaxis\":\"x2\",\"y\":[0.2584397006690281],\"yaxis\":\"y2\",\"type\":\"histogram\"},{\"hovertemplate\":\"country=FR\\u003cbr\\u003eprediction_label=%{x}\\u003cbr\\u003estandardized_residuals=%{y}\\u003cextra\\u003e\\u003c\\u002fextra\\u003e\",\"legendgroup\":\"FR\",\"marker\":{\"color\":\"#EF553B\",\"symbol\":\"circle\"},\"mode\":\"markers\",\"name\":\"FR\",\"orientation\":\"v\",\"showlegend\":true,\"x\":[1985.32896604746,2184.3856253609865,305.4627479109936,189.12254000875805,2079.132961976022,353.2571685693962],\"xaxis\":\"x\",\"y\":[-1.2697822583585578,-0.5239803879166212,0.18984355199605987,0.008573857949728194,-0.03825693207422545,-0.1491836808600407],\"yaxis\":\"y\",\"type\":\"scatter\"},{\"alignmentgroup\":\"True\",\"bingroup\":\"y\",\"hovertemplate\":\"country=FR\\u003cbr\\u003estandardized_residuals=%{y}\\u003cbr\\u003ecount=%{x}\\u003cextra\\u003e\\u003c\\u002fextra\\u003e\",\"legendgroup\":\"FR\",\"marker\":{\"color\":\"#EF553B\"},\"name\":\"FR\",\"offsetgroup\":\"FR\",\"opacity\":0.5,\"showlegend\":false,\"xaxis\":\"x2\",\"y\":[-1.2697822583585578,-0.5239803879166212,0.18984355199605987,0.008573857949728194,-0.03825693207422545,-0.1491836808600407],\"yaxis\":\"y2\",\"type\":\"histogram\"},{\"hovertemplate\":\"country=MX\\u003cbr\\u003eprediction_label=%{x}\\u003cbr\\u003estandardized_residuals=%{y}\\u003cextra\\u003e\\u003c\\u002fextra\\u003e\",\"legendgroup\":\"MX\",\"marker\":{\"color\":\"#00cc96\",\"symbol\":\"circle\"},\"mode\":\"markers\",\"name\":\"MX\",\"orientation\":\"v\",\"showlegend\":true,\"x\":[4752.053710921977],\"xaxis\":\"x\",\"y\":[-0.7965556945542388],\"yaxis\":\"y\",\"type\":\"scatter\"},{\"alignmentgroup\":\"True\",\"bingroup\":\"y\",\"hovertemplate\":\"country=MX\\u003cbr\\u003estandardized_residuals=%{y}\\u003cbr\\u003ecount=%{x}\\u003cextra\\u003e\\u003c\\u002fextra\\u003e\",\"legendgroup\":\"MX\",\"marker\":{\"color\":\"#00cc96\"},\"name\":\"MX\",\"offsetgroup\":\"MX\",\"opacity\":0.5,\"showlegend\":false,\"xaxis\":\"x2\",\"y\":[-0.7965556945542388],\"yaxis\":\"y2\",\"type\":\"histogram\"},{\"hovertemplate\":\"country=VN\\u003cbr\\u003eprediction_label=%{x}\\u003cbr\\u003estandardized_residuals=%{y}\\u003cextra\\u003e\\u003c\\u002fextra\\u003e\",\"legendgroup\":\"VN\",\"marker\":{\"color\":\"#ab63fa\",\"symbol\":\"circle\"},\"mode\":\"markers\",\"name\":\"VN\",\"orientation\":\"v\",\"showlegend\":true,\"x\":[1978.6576126423251],\"xaxis\":\"x\",\"y\":[1.0551708669291096],\"yaxis\":\"y\",\"type\":\"scatter\"},{\"alignmentgroup\":\"True\",\"bingroup\":\"y\",\"hovertemplate\":\"country=VN\\u003cbr\\u003estandardized_residuals=%{y}\\u003cbr\\u003ecount=%{x}\\u003cextra\\u003e\\u003c\\u002fextra\\u003e\",\"legendgroup\":\"VN\",\"marker\":{\"color\":\"#ab63fa\"},\"name\":\"VN\",\"offsetgroup\":\"VN\",\"opacity\":0.5,\"showlegend\":false,\"xaxis\":\"x2\",\"y\":[1.0551708669291096],\"yaxis\":\"y2\",\"type\":\"histogram\"},{\"hovertemplate\":\"country=DE\\u003cbr\\u003eprediction_label=%{x}\\u003cbr\\u003estandardized_residuals=%{y}\\u003cextra\\u003e\\u003c\\u002fextra\\u003e\",\"legendgroup\":\"DE\",\"marker\":{\"color\":\"#FFA15A\",\"symbol\":\"circle\"},\"mode\":\"markers\",\"name\":\"DE\",\"orientation\":\"v\",\"showlegend\":true,\"x\":[1548.8883529177147,529.3405672772227,953.4646920086276,929.8792767142431],\"xaxis\":\"x\",\"y\":[0.7208426459222813,0.04335050487779172,0.47691763602095505,-0.37664977694650476],\"yaxis\":\"y\",\"type\":\"scatter\"},{\"alignmentgroup\":\"True\",\"bingroup\":\"y\",\"hovertemplate\":\"country=DE\\u003cbr\\u003estandardized_residuals=%{y}\\u003cbr\\u003ecount=%{x}\\u003cextra\\u003e\\u003c\\u002fextra\\u003e\",\"legendgroup\":\"DE\",\"marker\":{\"color\":\"#FFA15A\"},\"name\":\"DE\",\"offsetgroup\":\"DE\",\"opacity\":0.5,\"showlegend\":false,\"xaxis\":\"x2\",\"y\":[0.7208426459222813,0.04335050487779172,0.47691763602095505,-0.37664977694650476],\"yaxis\":\"y2\",\"type\":\"histogram\"},{\"hovertemplate\":\"country=PL\\u003cbr\\u003eprediction_label=%{x}\\u003cbr\\u003estandardized_residuals=%{y}\\u003cextra\\u003e\\u003c\\u002fextra\\u003e\",\"legendgroup\":\"PL\",\"marker\":{\"color\":\"#19d3f3\",\"symbol\":\"circle\"},\"mode\":\"markers\",\"name\":\"PL\",\"orientation\":\"v\",\"showlegend\":true,\"x\":[925.7097077597173,559.6767102363265],\"xaxis\":\"x\",\"y\":[-0.026447850460265876,0.18624407601428858],\"yaxis\":\"y\",\"type\":\"scatter\"},{\"alignmentgroup\":\"True\",\"bingroup\":\"y\",\"hovertemplate\":\"country=PL\\u003cbr\\u003estandardized_residuals=%{y}\\u003cbr\\u003ecount=%{x}\\u003cextra\\u003e\\u003c\\u002fextra\\u003e\",\"legendgroup\":\"PL\",\"marker\":{\"color\":\"#19d3f3\"},\"name\":\"PL\",\"offsetgroup\":\"PL\",\"opacity\":0.5,\"showlegend\":false,\"xaxis\":\"x2\",\"y\":[-0.026447850460265876,0.18624407601428858],\"yaxis\":\"y2\",\"type\":\"histogram\"},{\"hovertemplate\":\"country=CA\\u003cbr\\u003eprediction_label=%{x}\\u003cbr\\u003estandardized_residuals=%{y}\\u003cextra\\u003e\\u003c\\u002fextra\\u003e\",\"legendgroup\":\"CA\",\"marker\":{\"color\":\"#FF6692\",\"symbol\":\"circle\"},\"mode\":\"markers\",\"name\":\"CA\",\"orientation\":\"v\",\"showlegend\":true,\"x\":[3654.6368023481477,1951.678404739919,668.0533491689931],\"xaxis\":\"x\",\"y\":[-2.130048286657006,-0.35949386361499547,-0.1747198869047541],\"yaxis\":\"y\",\"type\":\"scatter\"},{\"alignmentgroup\":\"True\",\"bingroup\":\"y\",\"hovertemplate\":\"country=CA\\u003cbr\\u003estandardized_residuals=%{y}\\u003cbr\\u003ecount=%{x}\\u003cextra\\u003e\\u003c\\u002fextra\\u003e\",\"legendgroup\":\"CA\",\"marker\":{\"color\":\"#FF6692\"},\"name\":\"CA\",\"offsetgroup\":\"CA\",\"opacity\":0.5,\"showlegend\":false,\"xaxis\":\"x2\",\"y\":[-2.130048286657006,-0.35949386361499547,-0.1747198869047541],\"yaxis\":\"y2\",\"type\":\"histogram\"},{\"hovertemplate\":\"country=PA\\u003cbr\\u003eprediction_label=%{x}\\u003cbr\\u003estandardized_residuals=%{y}\\u003cextra\\u003e\\u003c\\u002fextra\\u003e\",\"legendgroup\":\"PA\",\"marker\":{\"color\":\"#B6E880\",\"symbol\":\"circle\"},\"mode\":\"markers\",\"name\":\"PA\",\"orientation\":\"v\",\"showlegend\":true,\"x\":[4896.070492625913],\"xaxis\":\"x\",\"y\":[-0.23511010026048043],\"yaxis\":\"y\",\"type\":\"scatter\"},{\"alignmentgroup\":\"True\",\"bingroup\":\"y\",\"hovertemplate\":\"country=PA\\u003cbr\\u003estandardized_residuals=%{y}\\u003cbr\\u003ecount=%{x}\\u003cextra\\u003e\\u003c\\u002fextra\\u003e\",\"legendgroup\":\"PA\",\"marker\":{\"color\":\"#B6E880\"},\"name\":\"PA\",\"offsetgroup\":\"PA\",\"opacity\":0.5,\"showlegend\":false,\"xaxis\":\"x2\",\"y\":[-0.23511010026048043],\"yaxis\":\"y2\",\"type\":\"histogram\"},{\"hovertemplate\":\"country=BG\\u003cbr\\u003eprediction_label=%{x}\\u003cbr\\u003estandardized_residuals=%{y}\\u003cextra\\u003e\\u003c\\u002fextra\\u003e\",\"legendgroup\":\"BG\",\"marker\":{\"color\":\"#FF97FF\",\"symbol\":\"circle\"},\"mode\":\"markers\",\"name\":\"BG\",\"orientation\":\"v\",\"showlegend\":true,\"x\":[1467.9905068613652],\"xaxis\":\"x\",\"y\":[0.3957061658797999],\"yaxis\":\"y\",\"type\":\"scatter\"},{\"alignmentgroup\":\"True\",\"bingroup\":\"y\",\"hovertemplate\":\"country=BG\\u003cbr\\u003estandardized_residuals=%{y}\\u003cbr\\u003ecount=%{x}\\u003cextra\\u003e\\u003c\\u002fextra\\u003e\",\"legendgroup\":\"BG\",\"marker\":{\"color\":\"#FF97FF\"},\"name\":\"BG\",\"offsetgroup\":\"BG\",\"opacity\":0.5,\"showlegend\":false,\"xaxis\":\"x2\",\"y\":[0.3957061658797999],\"yaxis\":\"y2\",\"type\":\"histogram\"},{\"hovertemplate\":\"country=GR\\u003cbr\\u003eprediction_label=%{x}\\u003cbr\\u003estandardized_residuals=%{y}\\u003cextra\\u003e\\u003c\\u002fextra\\u003e\",\"legendgroup\":\"GR\",\"marker\":{\"color\":\"#FECB52\",\"symbol\":\"circle\"},\"mode\":\"markers\",\"name\":\"GR\",\"orientation\":\"v\",\"showlegend\":true,\"x\":[1945.3430808330365],\"xaxis\":\"x\",\"y\":[-0.47771081625618084],\"yaxis\":\"y\",\"type\":\"scatter\"},{\"alignmentgroup\":\"True\",\"bingroup\":\"y\",\"hovertemplate\":\"country=GR\\u003cbr\\u003estandardized_residuals=%{y}\\u003cbr\\u003ecount=%{x}\\u003cextra\\u003e\\u003c\\u002fextra\\u003e\",\"legendgroup\":\"GR\",\"marker\":{\"color\":\"#FECB52\"},\"name\":\"GR\",\"offsetgroup\":\"GR\",\"opacity\":0.5,\"showlegend\":false,\"xaxis\":\"x2\",\"y\":[-0.47771081625618084],\"yaxis\":\"y2\",\"type\":\"histogram\"},{\"hovertemplate\":\"country=RO\\u003cbr\\u003eprediction_label=%{x}\\u003cbr\\u003estandardized_residuals=%{y}\\u003cextra\\u003e\\u003c\\u002fextra\\u003e\",\"legendgroup\":\"RO\",\"marker\":{\"color\":\"#636efa\",\"symbol\":\"circle\"},\"mode\":\"markers\",\"name\":\"RO\",\"orientation\":\"v\",\"showlegend\":true,\"x\":[1610.4666637931011],\"xaxis\":\"x\",\"y\":[0.6790251313961008],\"yaxis\":\"y\",\"type\":\"scatter\"},{\"alignmentgroup\":\"True\",\"bingroup\":\"y\",\"hovertemplate\":\"country=RO\\u003cbr\\u003estandardized_residuals=%{y}\\u003cbr\\u003ecount=%{x}\\u003cextra\\u003e\\u003c\\u002fextra\\u003e\",\"legendgroup\":\"RO\",\"marker\":{\"color\":\"#636efa\"},\"name\":\"RO\",\"offsetgroup\":\"RO\",\"opacity\":0.5,\"showlegend\":false,\"xaxis\":\"x2\",\"y\":[0.6790251313961008],\"yaxis\":\"y2\",\"type\":\"histogram\"},{\"hovertemplate\":\"country=DR\\u003cbr\\u003eprediction_label=%{x}\\u003cbr\\u003estandardized_residuals=%{y}\\u003cextra\\u003e\\u003c\\u002fextra\\u003e\",\"legendgroup\":\"DR\",\"marker\":{\"color\":\"#EF553B\",\"symbol\":\"circle\"},\"mode\":\"markers\",\"name\":\"DR\",\"orientation\":\"v\",\"showlegend\":true,\"x\":[3322.1522572646472,2516.580677316223],\"xaxis\":\"x\",\"y\":[-0.8560837817898093,-0.21814334935976062],\"yaxis\":\"y\",\"type\":\"scatter\"},{\"alignmentgroup\":\"True\",\"bingroup\":\"y\",\"hovertemplate\":\"country=DR\\u003cbr\\u003estandardized_residuals=%{y}\\u003cbr\\u003ecount=%{x}\\u003cextra\\u003e\\u003c\\u002fextra\\u003e\",\"legendgroup\":\"DR\",\"marker\":{\"color\":\"#EF553B\"},\"name\":\"DR\",\"offsetgroup\":\"DR\",\"opacity\":0.5,\"showlegend\":false,\"xaxis\":\"x2\",\"y\":[-0.8560837817898093,-0.21814334935976062],\"yaxis\":\"y2\",\"type\":\"histogram\"},{\"hovertemplate\":\"country=PH\\u003cbr\\u003eprediction_label=%{x}\\u003cbr\\u003estandardized_residuals=%{y}\\u003cextra\\u003e\\u003c\\u002fextra\\u003e\",\"legendgroup\":\"PH\",\"marker\":{\"color\":\"#00cc96\",\"symbol\":\"circle\"},\"mode\":\"markers\",\"name\":\"PH\",\"orientation\":\"v\",\"showlegend\":true,\"x\":[3089.845584975268],\"xaxis\":\"x\",\"y\":[0.1254756601104307],\"yaxis\":\"y\",\"type\":\"scatter\"},{\"alignmentgroup\":\"True\",\"bingroup\":\"y\",\"hovertemplate\":\"country=PH\\u003cbr\\u003estandardized_residuals=%{y}\\u003cbr\\u003ecount=%{x}\\u003cextra\\u003e\\u003c\\u002fextra\\u003e\",\"legendgroup\":\"PH\",\"marker\":{\"color\":\"#00cc96\"},\"name\":\"PH\",\"offsetgroup\":\"PH\",\"opacity\":0.5,\"showlegend\":false,\"xaxis\":\"x2\",\"y\":[0.1254756601104307],\"yaxis\":\"y2\",\"type\":\"histogram\"},{\"hovertemplate\":\"country=JP\\u003cbr\\u003eprediction_label=%{x}\\u003cbr\\u003estandardized_residuals=%{y}\\u003cextra\\u003e\\u003c\\u002fextra\\u003e\",\"legendgroup\":\"JP\",\"marker\":{\"color\":\"#ab63fa\",\"symbol\":\"circle\"},\"mode\":\"markers\",\"name\":\"JP\",\"orientation\":\"v\",\"showlegend\":true,\"x\":[2276.853202040228],\"xaxis\":\"x\",\"y\":[-0.4181793492777123],\"yaxis\":\"y\",\"type\":\"scatter\"},{\"alignmentgroup\":\"True\",\"bingroup\":\"y\",\"hovertemplate\":\"country=JP\\u003cbr\\u003estandardized_residuals=%{y}\\u003cbr\\u003ecount=%{x}\\u003cextra\\u003e\\u003c\\u002fextra\\u003e\",\"legendgroup\":\"JP\",\"marker\":{\"color\":\"#ab63fa\"},\"name\":\"JP\",\"offsetgroup\":\"JP\",\"opacity\":0.5,\"showlegend\":false,\"xaxis\":\"x2\",\"y\":[-0.4181793492777123],\"yaxis\":\"y2\",\"type\":\"histogram\"},{\"hovertemplate\":\"country=UA\\u003cbr\\u003eprediction_label=%{x}\\u003cbr\\u003estandardized_residuals=%{y}\\u003cextra\\u003e\\u003c\\u002fextra\\u003e\",\"legendgroup\":\"UA\",\"marker\":{\"color\":\"#FFA15A\",\"symbol\":\"circle\"},\"mode\":\"markers\",\"name\":\"UA\",\"orientation\":\"v\",\"showlegend\":true,\"x\":[1070.1224767475255],\"xaxis\":\"x\",\"y\":[-0.2029518320718047],\"yaxis\":\"y\",\"type\":\"scatter\"},{\"alignmentgroup\":\"True\",\"bingroup\":\"y\",\"hovertemplate\":\"country=UA\\u003cbr\\u003estandardized_residuals=%{y}\\u003cbr\\u003ecount=%{x}\\u003cextra\\u003e\\u003c\\u002fextra\\u003e\",\"legendgroup\":\"UA\",\"marker\":{\"color\":\"#FFA15A\"},\"name\":\"UA\",\"offsetgroup\":\"UA\",\"opacity\":0.5,\"showlegend\":false,\"xaxis\":\"x2\",\"y\":[-0.2029518320718047],\"yaxis\":\"y2\",\"type\":\"histogram\"},{\"hovertemplate\":\"country=DK\\u003cbr\\u003eprediction_label=%{x}\\u003cbr\\u003estandardized_residuals=%{y}\\u003cextra\\u003e\\u003c\\u002fextra\\u003e\",\"legendgroup\":\"DK\",\"marker\":{\"color\":\"#19d3f3\",\"symbol\":\"circle\"},\"mode\":\"markers\",\"name\":\"DK\",\"orientation\":\"v\",\"showlegend\":true,\"x\":[3659.4499656355856],\"xaxis\":\"x\",\"y\":[-1.6484812676918918],\"yaxis\":\"y\",\"type\":\"scatter\"},{\"alignmentgroup\":\"True\",\"bingroup\":\"y\",\"hovertemplate\":\"country=DK\\u003cbr\\u003estandardized_residuals=%{y}\\u003cbr\\u003ecount=%{x}\\u003cextra\\u003e\\u003c\\u002fextra\\u003e\",\"legendgroup\":\"DK\",\"marker\":{\"color\":\"#19d3f3\"},\"name\":\"DK\",\"offsetgroup\":\"DK\",\"opacity\":0.5,\"showlegend\":false,\"xaxis\":\"x2\",\"y\":[-1.6484812676918918],\"yaxis\":\"y2\",\"type\":\"histogram\"}],                        {\"template\":{\"data\":{\"histogram2dcontour\":[{\"type\":\"histogram2dcontour\",\"colorbar\":{\"outlinewidth\":0,\"ticks\":\"\"},\"colorscale\":[[0.0,\"#0d0887\"],[0.1111111111111111,\"#46039f\"],[0.2222222222222222,\"#7201a8\"],[0.3333333333333333,\"#9c179e\"],[0.4444444444444444,\"#bd3786\"],[0.5555555555555556,\"#d8576b\"],[0.6666666666666666,\"#ed7953\"],[0.7777777777777778,\"#fb9f3a\"],[0.8888888888888888,\"#fdca26\"],[1.0,\"#f0f921\"]]}],\"choropleth\":[{\"type\":\"choropleth\",\"colorbar\":{\"outlinewidth\":0,\"ticks\":\"\"}}],\"histogram2d\":[{\"type\":\"histogram2d\",\"colorbar\":{\"outlinewidth\":0,\"ticks\":\"\"},\"colorscale\":[[0.0,\"#0d0887\"],[0.1111111111111111,\"#46039f\"],[0.2222222222222222,\"#7201a8\"],[0.3333333333333333,\"#9c179e\"],[0.4444444444444444,\"#bd3786\"],[0.5555555555555556,\"#d8576b\"],[0.6666666666666666,\"#ed7953\"],[0.7777777777777778,\"#fb9f3a\"],[0.8888888888888888,\"#fdca26\"],[1.0,\"#f0f921\"]]}],\"heatmap\":[{\"type\":\"heatmap\",\"colorbar\":{\"outlinewidth\":0,\"ticks\":\"\"},\"colorscale\":[[0.0,\"#0d0887\"],[0.1111111111111111,\"#46039f\"],[0.2222222222222222,\"#7201a8\"],[0.3333333333333333,\"#9c179e\"],[0.4444444444444444,\"#bd3786\"],[0.5555555555555556,\"#d8576b\"],[0.6666666666666666,\"#ed7953\"],[0.7777777777777778,\"#fb9f3a\"],[0.8888888888888888,\"#fdca26\"],[1.0,\"#f0f921\"]]}],\"heatmapgl\":[{\"type\":\"heatmapgl\",\"colorbar\":{\"outlinewidth\":0,\"ticks\":\"\"},\"colorscale\":[[0.0,\"#0d0887\"],[0.1111111111111111,\"#46039f\"],[0.2222222222222222,\"#7201a8\"],[0.3333333333333333,\"#9c179e\"],[0.4444444444444444,\"#bd3786\"],[0.5555555555555556,\"#d8576b\"],[0.6666666666666666,\"#ed7953\"],[0.7777777777777778,\"#fb9f3a\"],[0.8888888888888888,\"#fdca26\"],[1.0,\"#f0f921\"]]}],\"contourcarpet\":[{\"type\":\"contourcarpet\",\"colorbar\":{\"outlinewidth\":0,\"ticks\":\"\"}}],\"contour\":[{\"type\":\"contour\",\"colorbar\":{\"outlinewidth\":0,\"ticks\":\"\"},\"colorscale\":[[0.0,\"#0d0887\"],[0.1111111111111111,\"#46039f\"],[0.2222222222222222,\"#7201a8\"],[0.3333333333333333,\"#9c179e\"],[0.4444444444444444,\"#bd3786\"],[0.5555555555555556,\"#d8576b\"],[0.6666666666666666,\"#ed7953\"],[0.7777777777777778,\"#fb9f3a\"],[0.8888888888888888,\"#fdca26\"],[1.0,\"#f0f921\"]]}],\"surface\":[{\"type\":\"surface\",\"colorbar\":{\"outlinewidth\":0,\"ticks\":\"\"},\"colorscale\":[[0.0,\"#0d0887\"],[0.1111111111111111,\"#46039f\"],[0.2222222222222222,\"#7201a8\"],[0.3333333333333333,\"#9c179e\"],[0.4444444444444444,\"#bd3786\"],[0.5555555555555556,\"#d8576b\"],[0.6666666666666666,\"#ed7953\"],[0.7777777777777778,\"#fb9f3a\"],[0.8888888888888888,\"#fdca26\"],[1.0,\"#f0f921\"]]}],\"mesh3d\":[{\"type\":\"mesh3d\",\"colorbar\":{\"outlinewidth\":0,\"ticks\":\"\"}}],\"scatter\":[{\"fillpattern\":{\"fillmode\":\"overlay\",\"size\":10,\"solidity\":0.2},\"type\":\"scatter\"}],\"parcoords\":[{\"type\":\"parcoords\",\"line\":{\"colorbar\":{\"outlinewidth\":0,\"ticks\":\"\"}}}],\"scatterpolargl\":[{\"type\":\"scatterpolargl\",\"marker\":{\"colorbar\":{\"outlinewidth\":0,\"ticks\":\"\"}}}],\"bar\":[{\"error_x\":{\"color\":\"#2a3f5f\"},\"error_y\":{\"color\":\"#2a3f5f\"},\"marker\":{\"line\":{\"color\":\"#E5ECF6\",\"width\":0.5},\"pattern\":{\"fillmode\":\"overlay\",\"size\":10,\"solidity\":0.2}},\"type\":\"bar\"}],\"scattergeo\":[{\"type\":\"scattergeo\",\"marker\":{\"colorbar\":{\"outlinewidth\":0,\"ticks\":\"\"}}}],\"scatterpolar\":[{\"type\":\"scatterpolar\",\"marker\":{\"colorbar\":{\"outlinewidth\":0,\"ticks\":\"\"}}}],\"histogram\":[{\"marker\":{\"pattern\":{\"fillmode\":\"overlay\",\"size\":10,\"solidity\":0.2}},\"type\":\"histogram\"}],\"scattergl\":[{\"type\":\"scattergl\",\"marker\":{\"colorbar\":{\"outlinewidth\":0,\"ticks\":\"\"}}}],\"scatter3d\":[{\"type\":\"scatter3d\",\"line\":{\"colorbar\":{\"outlinewidth\":0,\"ticks\":\"\"}},\"marker\":{\"colorbar\":{\"outlinewidth\":0,\"ticks\":\"\"}}}],\"scattermapbox\":[{\"type\":\"scattermapbox\",\"marker\":{\"colorbar\":{\"outlinewidth\":0,\"ticks\":\"\"}}}],\"scatterternary\":[{\"type\":\"scatterternary\",\"marker\":{\"colorbar\":{\"outlinewidth\":0,\"ticks\":\"\"}}}],\"scattercarpet\":[{\"type\":\"scattercarpet\",\"marker\":{\"colorbar\":{\"outlinewidth\":0,\"ticks\":\"\"}}}],\"carpet\":[{\"aaxis\":{\"endlinecolor\":\"#2a3f5f\",\"gridcolor\":\"white\",\"linecolor\":\"white\",\"minorgridcolor\":\"white\",\"startlinecolor\":\"#2a3f5f\"},\"baxis\":{\"endlinecolor\":\"#2a3f5f\",\"gridcolor\":\"white\",\"linecolor\":\"white\",\"minorgridcolor\":\"white\",\"startlinecolor\":\"#2a3f5f\"},\"type\":\"carpet\"}],\"table\":[{\"cells\":{\"fill\":{\"color\":\"#EBF0F8\"},\"line\":{\"color\":\"white\"}},\"header\":{\"fill\":{\"color\":\"#C8D4E3\"},\"line\":{\"color\":\"white\"}},\"type\":\"table\"}],\"barpolar\":[{\"marker\":{\"line\":{\"color\":\"#E5ECF6\",\"width\":0.5},\"pattern\":{\"fillmode\":\"overlay\",\"size\":10,\"solidity\":0.2}},\"type\":\"barpolar\"}],\"pie\":[{\"automargin\":true,\"type\":\"pie\"}]},\"layout\":{\"autotypenumbers\":\"strict\",\"colorway\":[\"#636efa\",\"#EF553B\",\"#00cc96\",\"#ab63fa\",\"#FFA15A\",\"#19d3f3\",\"#FF6692\",\"#B6E880\",\"#FF97FF\",\"#FECB52\"],\"font\":{\"color\":\"#2a3f5f\"},\"hovermode\":\"closest\",\"hoverlabel\":{\"align\":\"left\"},\"paper_bgcolor\":\"white\",\"plot_bgcolor\":\"#E5ECF6\",\"polar\":{\"bgcolor\":\"#E5ECF6\",\"angularaxis\":{\"gridcolor\":\"white\",\"linecolor\":\"white\",\"ticks\":\"\"},\"radialaxis\":{\"gridcolor\":\"white\",\"linecolor\":\"white\",\"ticks\":\"\"}},\"ternary\":{\"bgcolor\":\"#E5ECF6\",\"aaxis\":{\"gridcolor\":\"white\",\"linecolor\":\"white\",\"ticks\":\"\"},\"baxis\":{\"gridcolor\":\"white\",\"linecolor\":\"white\",\"ticks\":\"\"},\"caxis\":{\"gridcolor\":\"white\",\"linecolor\":\"white\",\"ticks\":\"\"}},\"coloraxis\":{\"colorbar\":{\"outlinewidth\":0,\"ticks\":\"\"}},\"colorscale\":{\"sequential\":[[0.0,\"#0d0887\"],[0.1111111111111111,\"#46039f\"],[0.2222222222222222,\"#7201a8\"],[0.3333333333333333,\"#9c179e\"],[0.4444444444444444,\"#bd3786\"],[0.5555555555555556,\"#d8576b\"],[0.6666666666666666,\"#ed7953\"],[0.7777777777777778,\"#fb9f3a\"],[0.8888888888888888,\"#fdca26\"],[1.0,\"#f0f921\"]],\"sequentialminus\":[[0.0,\"#0d0887\"],[0.1111111111111111,\"#46039f\"],[0.2222222222222222,\"#7201a8\"],[0.3333333333333333,\"#9c179e\"],[0.4444444444444444,\"#bd3786\"],[0.5555555555555556,\"#d8576b\"],[0.6666666666666666,\"#ed7953\"],[0.7777777777777778,\"#fb9f3a\"],[0.8888888888888888,\"#fdca26\"],[1.0,\"#f0f921\"]],\"diverging\":[[0,\"#8e0152\"],[0.1,\"#c51b7d\"],[0.2,\"#de77ae\"],[0.3,\"#f1b6da\"],[0.4,\"#fde0ef\"],[0.5,\"#f7f7f7\"],[0.6,\"#e6f5d0\"],[0.7,\"#b8e186\"],[0.8,\"#7fbc41\"],[0.9,\"#4d9221\"],[1,\"#276419\"]]},\"xaxis\":{\"gridcolor\":\"white\",\"linecolor\":\"white\",\"ticks\":\"\",\"title\":{\"standoff\":15},\"zerolinecolor\":\"white\",\"automargin\":true,\"zerolinewidth\":2},\"yaxis\":{\"gridcolor\":\"white\",\"linecolor\":\"white\",\"ticks\":\"\",\"title\":{\"standoff\":15},\"zerolinecolor\":\"white\",\"automargin\":true,\"zerolinewidth\":2},\"scene\":{\"xaxis\":{\"backgroundcolor\":\"#E5ECF6\",\"gridcolor\":\"white\",\"linecolor\":\"white\",\"showbackground\":true,\"ticks\":\"\",\"zerolinecolor\":\"white\",\"gridwidth\":2},\"yaxis\":{\"backgroundcolor\":\"#E5ECF6\",\"gridcolor\":\"white\",\"linecolor\":\"white\",\"showbackground\":true,\"ticks\":\"\",\"zerolinecolor\":\"white\",\"gridwidth\":2},\"zaxis\":{\"backgroundcolor\":\"#E5ECF6\",\"gridcolor\":\"white\",\"linecolor\":\"white\",\"showbackground\":true,\"ticks\":\"\",\"zerolinecolor\":\"white\",\"gridwidth\":2}},\"shapedefaults\":{\"line\":{\"color\":\"#2a3f5f\"}},\"annotationdefaults\":{\"arrowcolor\":\"#2a3f5f\",\"arrowhead\":0,\"arrowwidth\":1},\"geo\":{\"bgcolor\":\"white\",\"landcolor\":\"#E5ECF6\",\"subunitcolor\":\"white\",\"showland\":true,\"showlakes\":true,\"lakecolor\":\"white\"},\"title\":{\"x\":0.05},\"mapbox\":{\"style\":\"light\"}}},\"xaxis\":{\"anchor\":\"y\",\"domain\":[0.0,0.7363],\"title\":{\"text\":\"prediction_label\"}},\"yaxis\":{\"anchor\":\"x\",\"domain\":[0.0,1.0],\"title\":{\"text\":\"standardized_residuals\"}},\"xaxis2\":{\"anchor\":\"y2\",\"domain\":[0.7413,1.0],\"matches\":\"x2\",\"showticklabels\":false,\"showline\":false,\"ticks\":\"\",\"showgrid\":true},\"yaxis2\":{\"anchor\":\"x2\",\"domain\":[0.0,1.0],\"matches\":\"y\",\"showticklabels\":false,\"showgrid\":true},\"legend\":{\"title\":{\"text\":\"country\"},\"tracegroupgap\":0},\"title\":{\"text\":\"Residuals vs. Predictions\"},\"barmode\":\"overlay\"},                        {\"responsive\": true}                    ).then(function(){\n",
       "                            \n",
       "var gd = document.getElementById('4b87ca82-360a-42c4-816b-64ea2f18e2e7');\n",
       "var x = new MutationObserver(function (mutations, observer) {{\n",
       "        var display = window.getComputedStyle(gd).display;\n",
       "        if (!display || display === 'none') {{\n",
       "            console.log([gd, 'removed!']);\n",
       "            Plotly.purge(gd);\n",
       "            observer.disconnect();\n",
       "        }}\n",
       "}});\n",
       "\n",
       "// Listen for the removal of the full notebook cells\n",
       "var notebookContainer = gd.closest('#notebook-container');\n",
       "if (notebookContainer) {{\n",
       "    x.observe(notebookContainer, {childList: true});\n",
       "}}\n",
       "\n",
       "// Listen for the clearing of the current output cell\n",
       "var outputEl = gd.closest('.output');\n",
       "if (outputEl) {{\n",
       "    x.observe(outputEl, {childList: true});\n",
       "}}\n",
       "\n",
       "                        })                };                });            </script>        </div>"
      ]
     },
     "metadata": {},
     "output_type": "display_data"
    }
   ],
   "source": [
    "fig = px.scatter(predictions,color = 'country', x='prediction_label', y='standardized_residuals', \n",
    "                title=\"Residuals vs. Predictions\",marginal_y=\"histogram\")\n",
    "fig.show()"
   ]
  },
  {
   "cell_type": "markdown",
   "id": "97a48ba1",
   "metadata": {},
   "source": [
    "##### Soil Types"
   ]
  },
  {
   "cell_type": "code",
   "execution_count": 21,
   "id": "a1abc2b0",
   "metadata": {},
   "outputs": [
    {
     "data": {
      "application/vnd.plotly.v1+json": {
       "config": {
        "plotlyServerURL": "https://plot.ly"
       },
       "data": [
        {
         "alignmentgroup": "True",
         "hovertemplate": "soil_type=%{x}<br>Residuals=%{y}<extra></extra>",
         "legendgroup": "",
         "marker": {
          "color": "#636efa"
         },
         "name": "",
         "notched": false,
         "offsetgroup": "",
         "orientation": "v",
         "showlegend": false,
         "type": "box",
         "x": [
          "Clay Dominant",
          "River Valleys/Deltas (River Sediments)",
          "River Valleys/Deltas (River Sediments)",
          "River Valleys/Deltas (River Sediments)",
          "Cold Climates (Permafrost, Rock Outcrops)",
          "Clay Dominant",
          "Fertile/Agricultural (Grasslands, Food Bearing, Pasture)",
          "River Valleys/Deltas (River Sediments)",
          "River Valleys/Deltas (River Sediments)",
          "Fertile/Agricultural (Grasslands, Food Bearing, Pasture)",
          "Clay Dominant",
          "Clay Dominant",
          "Fertile/Agricultural (Grasslands, Food Bearing, Pasture)",
          "River Valleys/Deltas (River Sediments)",
          "Clay Dominant",
          "River Valleys/Deltas (River Sediments)",
          "Fertile/Agricultural (Grasslands, Food Bearing, Pasture)",
          "River Valleys/Deltas (River Sediments)",
          "Fertile/Agricultural (Grasslands, Food Bearing, Pasture)",
          "Clay Dominant",
          "River Valleys/Deltas (River Sediments)",
          "Fertile/Agricultural (Grasslands, Food Bearing, Pasture)",
          "Clay Dominant",
          "Fertile/Agricultural (Grasslands, Food Bearing, Pasture)",
          "River Valleys/Deltas (River Sediments)",
          "Clay Dominant",
          "Clay Dominant",
          "Clay Dominant",
          "Clay Dominant",
          "Cold Climates (Permafrost, Rock Outcrops)",
          "Saline/Arid (Desert Soils, High Salt Content)",
          "Clay Dominant",
          "Fertile/Agricultural (Grasslands, Food Bearing, Pasture)",
          "River Valleys/Deltas (River Sediments)",
          "River Valleys/Deltas (River Sediments)",
          "Clay Dominant",
          "River Valleys/Deltas (River Sediments)",
          "Fertile/Agricultural (Grasslands, Food Bearing, Pasture)",
          "Clay Dominant",
          "Fertile/Agricultural (Grasslands, Food Bearing, Pasture)",
          "Fertile/Agricultural (Grasslands, Food Bearing, Pasture)",
          "Clay Dominant",
          "Fertile/Agricultural (Grasslands, Food Bearing, Pasture)",
          "Clay Dominant",
          "River Valleys/Deltas (River Sediments)",
          "River Valleys/Deltas (River Sediments)",
          "River Valleys/Deltas (River Sediments)",
          "Fertile/Agricultural (Grasslands, Food Bearing, Pasture)",
          "Fertile/Agricultural (Grasslands, Food Bearing, Pasture)",
          "River Valleys/Deltas (River Sediments)",
          "Clay Dominant",
          "River Valleys/Deltas (River Sediments)",
          "River Valleys/Deltas (River Sediments)",
          "River Valleys/Deltas (River Sediments)",
          "Fertile/Agricultural (Grasslands, Food Bearing, Pasture)",
          "Fertile/Agricultural (Grasslands, Food Bearing, Pasture)",
          "Fertile/Agricultural (Grasslands, Food Bearing, Pasture)",
          "Clay Dominant",
          "Clay Dominant",
          "River Valleys/Deltas (River Sediments)",
          "Fertile/Agricultural (Grasslands, Food Bearing, Pasture)",
          "River Valleys/Deltas (River Sediments)",
          "Clay Dominant",
          "Fertile/Agricultural (Grasslands, Food Bearing, Pasture)",
          "Clay Dominant",
          "River Valleys/Deltas (River Sediments)",
          "Fertile/Agricultural (Grasslands, Food Bearing, Pasture)",
          "River Valleys/Deltas (River Sediments)",
          "River Valleys/Deltas (River Sediments)",
          "Fertile/Agricultural (Grasslands, Food Bearing, Pasture)",
          "River Valleys/Deltas (River Sediments)",
          "River Valleys/Deltas (River Sediments)",
          "Fertile/Agricultural (Grasslands, Food Bearing, Pasture)",
          "River Valleys/Deltas (River Sediments)",
          "Clay Dominant",
          "Fertile/Agricultural (Grasslands, Food Bearing, Pasture)",
          "Fertile/Agricultural (Grasslands, Food Bearing, Pasture)",
          "River Valleys/Deltas (River Sediments)",
          "Clay Dominant",
          "Fertile/Agricultural (Grasslands, Food Bearing, Pasture)",
          "Fertile/Agricultural (Grasslands, Food Bearing, Pasture)",
          "River Valleys/Deltas (River Sediments)",
          "Fertile/Agricultural (Grasslands, Food Bearing, Pasture)",
          "Clay Dominant",
          "Fertile/Agricultural (Grasslands, Food Bearing, Pasture)",
          "River Valleys/Deltas (River Sediments)",
          "Fertile/Agricultural (Grasslands, Food Bearing, Pasture)",
          "Fertile/Agricultural (Grasslands, Food Bearing, Pasture)",
          "Fertile/Agricultural (Grasslands, Food Bearing, Pasture)",
          "River Valleys/Deltas (River Sediments)",
          "Clay Dominant",
          "Fertile/Agricultural (Grasslands, Food Bearing, Pasture)",
          "Clay Dominant",
          "Fertile/Agricultural (Grasslands, Food Bearing, Pasture)",
          "River Valleys/Deltas (River Sediments)",
          "Clay Dominant",
          "River Valleys/Deltas (River Sediments)",
          "Fertile/Agricultural (Grasslands, Food Bearing, Pasture)",
          "Fertile/Agricultural (Grasslands, Food Bearing, Pasture)",
          "River Valleys/Deltas (River Sediments)",
          "Fertile/Agricultural (Grasslands, Food Bearing, Pasture)",
          "Fertile/Agricultural (Grasslands, Food Bearing, Pasture)",
          "Clay Dominant",
          "Fertile/Agricultural (Grasslands, Food Bearing, Pasture)",
          "Clay Dominant",
          "Clay Dominant",
          "Fertile/Agricultural (Grasslands, Food Bearing, Pasture)",
          "River Valleys/Deltas (River Sediments)",
          "River Valleys/Deltas (River Sediments)",
          "River Valleys/Deltas (River Sediments)",
          "Fertile/Agricultural (Grasslands, Food Bearing, Pasture)",
          "River Valleys/Deltas (River Sediments)",
          "Fertile/Agricultural (Grasslands, Food Bearing, Pasture)",
          "Fertile/Agricultural (Grasslands, Food Bearing, Pasture)",
          "Fertile/Agricultural (Grasslands, Food Bearing, Pasture)",
          "Fertile/Agricultural (Grasslands, Food Bearing, Pasture)",
          "Clay Dominant",
          "Fertile/Agricultural (Grasslands, Food Bearing, Pasture)",
          "Fertile/Agricultural (Grasslands, Food Bearing, Pasture)",
          "Fertile/Agricultural (Grasslands, Food Bearing, Pasture)",
          "Fertile/Agricultural (Grasslands, Food Bearing, Pasture)",
          "Clay Dominant",
          "Clay Dominant",
          "Fertile/Agricultural (Grasslands, Food Bearing, Pasture)",
          "Clay Dominant",
          "Clay Dominant",
          "River Valleys/Deltas (River Sediments)",
          "Fertile/Agricultural (Grasslands, Food Bearing, Pasture)",
          "Fertile/Agricultural (Grasslands, Food Bearing, Pasture)",
          "Fertile/Agricultural (Grasslands, Food Bearing, Pasture)",
          "Clay Dominant",
          "Clay Dominant",
          "Clay Dominant",
          "Fertile/Agricultural (Grasslands, Food Bearing, Pasture)",
          "River Valleys/Deltas (River Sediments)",
          "River Valleys/Deltas (River Sediments)",
          "Fertile/Agricultural (Grasslands, Food Bearing, Pasture)",
          "Fertile/Agricultural (Grasslands, Food Bearing, Pasture)",
          "Fertile/Agricultural (Grasslands, Food Bearing, Pasture)",
          "Fertile/Agricultural (Grasslands, Food Bearing, Pasture)",
          "Fertile/Agricultural (Grasslands, Food Bearing, Pasture)",
          "Fertile/Agricultural (Grasslands, Food Bearing, Pasture)",
          "Fertile/Agricultural (Grasslands, Food Bearing, Pasture)",
          "Fertile/Agricultural (Grasslands, Food Bearing, Pasture)",
          "Clay Dominant",
          "Clay Dominant",
          "River Valleys/Deltas (River Sediments)",
          "Fertile/Agricultural (Grasslands, Food Bearing, Pasture)",
          "Clay Dominant",
          "Fertile/Agricultural (Grasslands, Food Bearing, Pasture)",
          "Clay Dominant",
          "Fertile/Agricultural (Grasslands, Food Bearing, Pasture)",
          "Fertile/Agricultural (Grasslands, Food Bearing, Pasture)"
         ],
         "x0": " ",
         "xaxis": "x",
         "y": [
          45.27082241144542,
          48.82668085729938,
          1940.334633682176,
          -166.2842551150943,
          -876.9588135869335,
          526.7207266182854,
          -605.7840917868575,
          1457.5644397639508,
          -1260.0540193337429,
          -245.60173217991996,
          2017.2827660770959,
          66.95598839989793,
          -2977.819766570863,
          64.40496451433955,
          711.5070022221307,
          -881.0821889077083,
          -460.8065813311607,
          -185.3373005866581,
          129.4513999586668,
          -513.2273411693218,
          -1276.728688097457,
          486.946629895916,
          3978.290909972102,
          26.165831842861564,
          -865.8404714256667,
          -1183.2984817044867,
          -723.4855955543155,
          -104.22734158592812,
          1784.682127400848,
          -219.50255119494165,
          191.65314066467272,
          778.8819392840892,
          -161.41644041890936,
          -137.59010894248422,
          178.0456362220334,
          2476.708198061745,
          -55.96720107020019,
          -508.50193572372314,
          193.74466708105865,
          -1287.3652819654287,
          -756.0845529341832,
          204.29519680784824,
          95.27681962409497,
          -104.02435183037312,
          85.8890171472276,
          -118.60444291642125,
          -815.0293894863516,
          -351.65711923610775,
          -204.5839961040083,
          -216.2280510640585,
          -829.3749999844767,
          844.2381949205837,
          -36.28164663091229,
          -296.5990716399592,
          -355.2198816205565,
          -445.5054380118577,
          -47.40158931090218,
          -796.6581901055097,
          654.0854483968196,
          962.7322799357999,
          639.1682877072853,
          -177.4062561299079,
          199.97126538745943,
          -84.06200268159228,
          -629.5661860466348,
          -533.833511182047,
          121.78196896289228,
          -99.49038828157336,
          -679.143626857991,
          -495.79854841703866,
          1636.3609609006162,
          -0.942172898860008,
          -2119.9336773481477,
          -470.4847458891527,
          2634.074061942337,
          -878.1145422568397,
          -565.575688837549,
          491.8053230090077,
          -2242.117707572379,
          -813.6928441317432,
          -2935.6652365933296,
          -844.4230314496676,
          -286.0060395009132,
          -2564.8032814769103,
          -258.87880018944475,
          -1883.1027518321907,
          360.826621682555,
          200.95712880066776,
          -138.42526473070802,
          139.31947382336193,
          1686.8224211883244,
          -313.35745071481756,
          324.50009372457225,
          83.85526086892193,
          376.5604917758301,
          45.46035629414939,
          -6.379928337646106,
          -434.9826970786012,
          -473.64825807477246,
          -13.411845416755057,
          -367.3963162795674,
          -260.5267259368917,
          233.768558761417,
          -520.795839622099,
          -102.14837941012343,
          598.6971545662739,
          855.1257494592537,
          2089.9125617380087,
          -678.4166366291674,
          232.82387482820104,
          177.67384594248028,
          -339.77459494507093,
          -886.9864857802722,
          -269.58556012872305,
          -1196.0061764760567,
          269.1788853001831,
          571.365603916207,
          62.97008885285686,
          -34.33740398215275,
          -463.1810828996031,
          -16.510916398316454,
          1005.7586938096911,
          3.48573997513995,
          -268.0006286837297,
          125.26555409095954,
          -50.16787387106274,
          700.0835231117435,
          403.0968314288724,
          -422.988621196665,
          -249.55317586906517,
          -443.5458314038642,
          130.55388149708392,
          3572.2262997264506,
          532.5134515053064,
          56.200839035223,
          -82.41162048294291,
          -254.88315789986927,
          -406.38506977898146,
          -482.27346722269317,
          -95.49087213227222,
          1405.0990585643663,
          -1114.656146452543,
          70.6388424249426,
          -110.3287838440774,
          689.522049086253,
          1335.957593103094,
          -1360.9615810064251,
          -1653.871474424648,
          17.566036364037245,
          15.311944756089929,
          -416.49515369934693,
          -202.84615782720869,
          -227.56018510649312
         ],
         "y0": " ",
         "yaxis": "y"
        }
       ],
       "layout": {
        "boxmode": "group",
        "legend": {
         "tracegroupgap": 0
        },
        "template": {
         "data": {
          "bar": [
           {
            "error_x": {
             "color": "#2a3f5f"
            },
            "error_y": {
             "color": "#2a3f5f"
            },
            "marker": {
             "line": {
              "color": "#E5ECF6",
              "width": 0.5
             },
             "pattern": {
              "fillmode": "overlay",
              "size": 10,
              "solidity": 0.2
             }
            },
            "type": "bar"
           }
          ],
          "barpolar": [
           {
            "marker": {
             "line": {
              "color": "#E5ECF6",
              "width": 0.5
             },
             "pattern": {
              "fillmode": "overlay",
              "size": 10,
              "solidity": 0.2
             }
            },
            "type": "barpolar"
           }
          ],
          "carpet": [
           {
            "aaxis": {
             "endlinecolor": "#2a3f5f",
             "gridcolor": "white",
             "linecolor": "white",
             "minorgridcolor": "white",
             "startlinecolor": "#2a3f5f"
            },
            "baxis": {
             "endlinecolor": "#2a3f5f",
             "gridcolor": "white",
             "linecolor": "white",
             "minorgridcolor": "white",
             "startlinecolor": "#2a3f5f"
            },
            "type": "carpet"
           }
          ],
          "choropleth": [
           {
            "colorbar": {
             "outlinewidth": 0,
             "ticks": ""
            },
            "type": "choropleth"
           }
          ],
          "contour": [
           {
            "colorbar": {
             "outlinewidth": 0,
             "ticks": ""
            },
            "colorscale": [
             [
              0,
              "#0d0887"
             ],
             [
              0.1111111111111111,
              "#46039f"
             ],
             [
              0.2222222222222222,
              "#7201a8"
             ],
             [
              0.3333333333333333,
              "#9c179e"
             ],
             [
              0.4444444444444444,
              "#bd3786"
             ],
             [
              0.5555555555555556,
              "#d8576b"
             ],
             [
              0.6666666666666666,
              "#ed7953"
             ],
             [
              0.7777777777777778,
              "#fb9f3a"
             ],
             [
              0.8888888888888888,
              "#fdca26"
             ],
             [
              1,
              "#f0f921"
             ]
            ],
            "type": "contour"
           }
          ],
          "contourcarpet": [
           {
            "colorbar": {
             "outlinewidth": 0,
             "ticks": ""
            },
            "type": "contourcarpet"
           }
          ],
          "heatmap": [
           {
            "colorbar": {
             "outlinewidth": 0,
             "ticks": ""
            },
            "colorscale": [
             [
              0,
              "#0d0887"
             ],
             [
              0.1111111111111111,
              "#46039f"
             ],
             [
              0.2222222222222222,
              "#7201a8"
             ],
             [
              0.3333333333333333,
              "#9c179e"
             ],
             [
              0.4444444444444444,
              "#bd3786"
             ],
             [
              0.5555555555555556,
              "#d8576b"
             ],
             [
              0.6666666666666666,
              "#ed7953"
             ],
             [
              0.7777777777777778,
              "#fb9f3a"
             ],
             [
              0.8888888888888888,
              "#fdca26"
             ],
             [
              1,
              "#f0f921"
             ]
            ],
            "type": "heatmap"
           }
          ],
          "heatmapgl": [
           {
            "colorbar": {
             "outlinewidth": 0,
             "ticks": ""
            },
            "colorscale": [
             [
              0,
              "#0d0887"
             ],
             [
              0.1111111111111111,
              "#46039f"
             ],
             [
              0.2222222222222222,
              "#7201a8"
             ],
             [
              0.3333333333333333,
              "#9c179e"
             ],
             [
              0.4444444444444444,
              "#bd3786"
             ],
             [
              0.5555555555555556,
              "#d8576b"
             ],
             [
              0.6666666666666666,
              "#ed7953"
             ],
             [
              0.7777777777777778,
              "#fb9f3a"
             ],
             [
              0.8888888888888888,
              "#fdca26"
             ],
             [
              1,
              "#f0f921"
             ]
            ],
            "type": "heatmapgl"
           }
          ],
          "histogram": [
           {
            "marker": {
             "pattern": {
              "fillmode": "overlay",
              "size": 10,
              "solidity": 0.2
             }
            },
            "type": "histogram"
           }
          ],
          "histogram2d": [
           {
            "colorbar": {
             "outlinewidth": 0,
             "ticks": ""
            },
            "colorscale": [
             [
              0,
              "#0d0887"
             ],
             [
              0.1111111111111111,
              "#46039f"
             ],
             [
              0.2222222222222222,
              "#7201a8"
             ],
             [
              0.3333333333333333,
              "#9c179e"
             ],
             [
              0.4444444444444444,
              "#bd3786"
             ],
             [
              0.5555555555555556,
              "#d8576b"
             ],
             [
              0.6666666666666666,
              "#ed7953"
             ],
             [
              0.7777777777777778,
              "#fb9f3a"
             ],
             [
              0.8888888888888888,
              "#fdca26"
             ],
             [
              1,
              "#f0f921"
             ]
            ],
            "type": "histogram2d"
           }
          ],
          "histogram2dcontour": [
           {
            "colorbar": {
             "outlinewidth": 0,
             "ticks": ""
            },
            "colorscale": [
             [
              0,
              "#0d0887"
             ],
             [
              0.1111111111111111,
              "#46039f"
             ],
             [
              0.2222222222222222,
              "#7201a8"
             ],
             [
              0.3333333333333333,
              "#9c179e"
             ],
             [
              0.4444444444444444,
              "#bd3786"
             ],
             [
              0.5555555555555556,
              "#d8576b"
             ],
             [
              0.6666666666666666,
              "#ed7953"
             ],
             [
              0.7777777777777778,
              "#fb9f3a"
             ],
             [
              0.8888888888888888,
              "#fdca26"
             ],
             [
              1,
              "#f0f921"
             ]
            ],
            "type": "histogram2dcontour"
           }
          ],
          "mesh3d": [
           {
            "colorbar": {
             "outlinewidth": 0,
             "ticks": ""
            },
            "type": "mesh3d"
           }
          ],
          "parcoords": [
           {
            "line": {
             "colorbar": {
              "outlinewidth": 0,
              "ticks": ""
             }
            },
            "type": "parcoords"
           }
          ],
          "pie": [
           {
            "automargin": true,
            "type": "pie"
           }
          ],
          "scatter": [
           {
            "fillpattern": {
             "fillmode": "overlay",
             "size": 10,
             "solidity": 0.2
            },
            "type": "scatter"
           }
          ],
          "scatter3d": [
           {
            "line": {
             "colorbar": {
              "outlinewidth": 0,
              "ticks": ""
             }
            },
            "marker": {
             "colorbar": {
              "outlinewidth": 0,
              "ticks": ""
             }
            },
            "type": "scatter3d"
           }
          ],
          "scattercarpet": [
           {
            "marker": {
             "colorbar": {
              "outlinewidth": 0,
              "ticks": ""
             }
            },
            "type": "scattercarpet"
           }
          ],
          "scattergeo": [
           {
            "marker": {
             "colorbar": {
              "outlinewidth": 0,
              "ticks": ""
             }
            },
            "type": "scattergeo"
           }
          ],
          "scattergl": [
           {
            "marker": {
             "colorbar": {
              "outlinewidth": 0,
              "ticks": ""
             }
            },
            "type": "scattergl"
           }
          ],
          "scattermapbox": [
           {
            "marker": {
             "colorbar": {
              "outlinewidth": 0,
              "ticks": ""
             }
            },
            "type": "scattermapbox"
           }
          ],
          "scatterpolar": [
           {
            "marker": {
             "colorbar": {
              "outlinewidth": 0,
              "ticks": ""
             }
            },
            "type": "scatterpolar"
           }
          ],
          "scatterpolargl": [
           {
            "marker": {
             "colorbar": {
              "outlinewidth": 0,
              "ticks": ""
             }
            },
            "type": "scatterpolargl"
           }
          ],
          "scatterternary": [
           {
            "marker": {
             "colorbar": {
              "outlinewidth": 0,
              "ticks": ""
             }
            },
            "type": "scatterternary"
           }
          ],
          "surface": [
           {
            "colorbar": {
             "outlinewidth": 0,
             "ticks": ""
            },
            "colorscale": [
             [
              0,
              "#0d0887"
             ],
             [
              0.1111111111111111,
              "#46039f"
             ],
             [
              0.2222222222222222,
              "#7201a8"
             ],
             [
              0.3333333333333333,
              "#9c179e"
             ],
             [
              0.4444444444444444,
              "#bd3786"
             ],
             [
              0.5555555555555556,
              "#d8576b"
             ],
             [
              0.6666666666666666,
              "#ed7953"
             ],
             [
              0.7777777777777778,
              "#fb9f3a"
             ],
             [
              0.8888888888888888,
              "#fdca26"
             ],
             [
              1,
              "#f0f921"
             ]
            ],
            "type": "surface"
           }
          ],
          "table": [
           {
            "cells": {
             "fill": {
              "color": "#EBF0F8"
             },
             "line": {
              "color": "white"
             }
            },
            "header": {
             "fill": {
              "color": "#C8D4E3"
             },
             "line": {
              "color": "white"
             }
            },
            "type": "table"
           }
          ]
         },
         "layout": {
          "annotationdefaults": {
           "arrowcolor": "#2a3f5f",
           "arrowhead": 0,
           "arrowwidth": 1
          },
          "autotypenumbers": "strict",
          "coloraxis": {
           "colorbar": {
            "outlinewidth": 0,
            "ticks": ""
           }
          },
          "colorscale": {
           "diverging": [
            [
             0,
             "#8e0152"
            ],
            [
             0.1,
             "#c51b7d"
            ],
            [
             0.2,
             "#de77ae"
            ],
            [
             0.3,
             "#f1b6da"
            ],
            [
             0.4,
             "#fde0ef"
            ],
            [
             0.5,
             "#f7f7f7"
            ],
            [
             0.6,
             "#e6f5d0"
            ],
            [
             0.7,
             "#b8e186"
            ],
            [
             0.8,
             "#7fbc41"
            ],
            [
             0.9,
             "#4d9221"
            ],
            [
             1,
             "#276419"
            ]
           ],
           "sequential": [
            [
             0,
             "#0d0887"
            ],
            [
             0.1111111111111111,
             "#46039f"
            ],
            [
             0.2222222222222222,
             "#7201a8"
            ],
            [
             0.3333333333333333,
             "#9c179e"
            ],
            [
             0.4444444444444444,
             "#bd3786"
            ],
            [
             0.5555555555555556,
             "#d8576b"
            ],
            [
             0.6666666666666666,
             "#ed7953"
            ],
            [
             0.7777777777777778,
             "#fb9f3a"
            ],
            [
             0.8888888888888888,
             "#fdca26"
            ],
            [
             1,
             "#f0f921"
            ]
           ],
           "sequentialminus": [
            [
             0,
             "#0d0887"
            ],
            [
             0.1111111111111111,
             "#46039f"
            ],
            [
             0.2222222222222222,
             "#7201a8"
            ],
            [
             0.3333333333333333,
             "#9c179e"
            ],
            [
             0.4444444444444444,
             "#bd3786"
            ],
            [
             0.5555555555555556,
             "#d8576b"
            ],
            [
             0.6666666666666666,
             "#ed7953"
            ],
            [
             0.7777777777777778,
             "#fb9f3a"
            ],
            [
             0.8888888888888888,
             "#fdca26"
            ],
            [
             1,
             "#f0f921"
            ]
           ]
          },
          "colorway": [
           "#636efa",
           "#EF553B",
           "#00cc96",
           "#ab63fa",
           "#FFA15A",
           "#19d3f3",
           "#FF6692",
           "#B6E880",
           "#FF97FF",
           "#FECB52"
          ],
          "font": {
           "color": "#2a3f5f"
          },
          "geo": {
           "bgcolor": "white",
           "lakecolor": "white",
           "landcolor": "#E5ECF6",
           "showlakes": true,
           "showland": true,
           "subunitcolor": "white"
          },
          "hoverlabel": {
           "align": "left"
          },
          "hovermode": "closest",
          "mapbox": {
           "style": "light"
          },
          "paper_bgcolor": "white",
          "plot_bgcolor": "#E5ECF6",
          "polar": {
           "angularaxis": {
            "gridcolor": "white",
            "linecolor": "white",
            "ticks": ""
           },
           "bgcolor": "#E5ECF6",
           "radialaxis": {
            "gridcolor": "white",
            "linecolor": "white",
            "ticks": ""
           }
          },
          "scene": {
           "xaxis": {
            "backgroundcolor": "#E5ECF6",
            "gridcolor": "white",
            "gridwidth": 2,
            "linecolor": "white",
            "showbackground": true,
            "ticks": "",
            "zerolinecolor": "white"
           },
           "yaxis": {
            "backgroundcolor": "#E5ECF6",
            "gridcolor": "white",
            "gridwidth": 2,
            "linecolor": "white",
            "showbackground": true,
            "ticks": "",
            "zerolinecolor": "white"
           },
           "zaxis": {
            "backgroundcolor": "#E5ECF6",
            "gridcolor": "white",
            "gridwidth": 2,
            "linecolor": "white",
            "showbackground": true,
            "ticks": "",
            "zerolinecolor": "white"
           }
          },
          "shapedefaults": {
           "line": {
            "color": "#2a3f5f"
           }
          },
          "ternary": {
           "aaxis": {
            "gridcolor": "white",
            "linecolor": "white",
            "ticks": ""
           },
           "baxis": {
            "gridcolor": "white",
            "linecolor": "white",
            "ticks": ""
           },
           "bgcolor": "#E5ECF6",
           "caxis": {
            "gridcolor": "white",
            "linecolor": "white",
            "ticks": ""
           }
          },
          "title": {
           "x": 0.05
          },
          "xaxis": {
           "automargin": true,
           "gridcolor": "white",
           "linecolor": "white",
           "ticks": "",
           "title": {
            "standoff": 15
           },
           "zerolinecolor": "white",
           "zerolinewidth": 2
          },
          "yaxis": {
           "automargin": true,
           "gridcolor": "white",
           "linecolor": "white",
           "ticks": "",
           "title": {
            "standoff": 15
           },
           "zerolinecolor": "white",
           "zerolinewidth": 2
          }
         }
        },
        "title": {
         "text": "Residuals Distribution Across Soil Types"
        },
        "xaxis": {
         "anchor": "y",
         "domain": [
          0,
          1
         ],
         "title": {
          "text": "soil_type"
         }
        },
        "yaxis": {
         "anchor": "x",
         "domain": [
          0,
          1
         ],
         "title": {
          "text": "Residuals"
         }
        }
       }
      },
      "text/html": [
       "<div>                            <div id=\"68597a11-4d00-45a9-95ae-ba91ca592eaf\" class=\"plotly-graph-div\" style=\"height:525px; width:100%;\"></div>            <script type=\"text/javascript\">                require([\"plotly\"], function(Plotly) {                    window.PLOTLYENV=window.PLOTLYENV || {};                                    if (document.getElementById(\"68597a11-4d00-45a9-95ae-ba91ca592eaf\")) {                    Plotly.newPlot(                        \"68597a11-4d00-45a9-95ae-ba91ca592eaf\",                        [{\"alignmentgroup\":\"True\",\"hovertemplate\":\"soil_type=%{x}\\u003cbr\\u003eResiduals=%{y}\\u003cextra\\u003e\\u003c\\u002fextra\\u003e\",\"legendgroup\":\"\",\"marker\":{\"color\":\"#636efa\"},\"name\":\"\",\"notched\":false,\"offsetgroup\":\"\",\"orientation\":\"v\",\"showlegend\":false,\"x\":[\"Clay Dominant\",\"River Valleys\\u002fDeltas (River Sediments)\",\"River Valleys\\u002fDeltas (River Sediments)\",\"River Valleys\\u002fDeltas (River Sediments)\",\"Cold Climates (Permafrost, Rock Outcrops)\",\"Clay Dominant\",\"Fertile\\u002fAgricultural (Grasslands, Food Bearing, Pasture)\",\"River Valleys\\u002fDeltas (River Sediments)\",\"River Valleys\\u002fDeltas (River Sediments)\",\"Fertile\\u002fAgricultural (Grasslands, Food Bearing, Pasture)\",\"Clay Dominant\",\"Clay Dominant\",\"Fertile\\u002fAgricultural (Grasslands, Food Bearing, Pasture)\",\"River Valleys\\u002fDeltas (River Sediments)\",\"Clay Dominant\",\"River Valleys\\u002fDeltas (River Sediments)\",\"Fertile\\u002fAgricultural (Grasslands, Food Bearing, Pasture)\",\"River Valleys\\u002fDeltas (River Sediments)\",\"Fertile\\u002fAgricultural (Grasslands, Food Bearing, Pasture)\",\"Clay Dominant\",\"River Valleys\\u002fDeltas (River Sediments)\",\"Fertile\\u002fAgricultural (Grasslands, Food Bearing, Pasture)\",\"Clay Dominant\",\"Fertile\\u002fAgricultural (Grasslands, Food Bearing, Pasture)\",\"River Valleys\\u002fDeltas (River Sediments)\",\"Clay Dominant\",\"Clay Dominant\",\"Clay Dominant\",\"Clay Dominant\",\"Cold Climates (Permafrost, Rock Outcrops)\",\"Saline\\u002fArid (Desert Soils, High Salt Content)\",\"Clay Dominant\",\"Fertile\\u002fAgricultural (Grasslands, Food Bearing, Pasture)\",\"River Valleys\\u002fDeltas (River Sediments)\",\"River Valleys\\u002fDeltas (River Sediments)\",\"Clay Dominant\",\"River Valleys\\u002fDeltas (River Sediments)\",\"Fertile\\u002fAgricultural (Grasslands, Food Bearing, Pasture)\",\"Clay Dominant\",\"Fertile\\u002fAgricultural (Grasslands, Food Bearing, Pasture)\",\"Fertile\\u002fAgricultural (Grasslands, Food Bearing, Pasture)\",\"Clay Dominant\",\"Fertile\\u002fAgricultural (Grasslands, Food Bearing, Pasture)\",\"Clay Dominant\",\"River Valleys\\u002fDeltas (River Sediments)\",\"River Valleys\\u002fDeltas (River Sediments)\",\"River Valleys\\u002fDeltas (River Sediments)\",\"Fertile\\u002fAgricultural (Grasslands, Food Bearing, Pasture)\",\"Fertile\\u002fAgricultural (Grasslands, Food Bearing, Pasture)\",\"River Valleys\\u002fDeltas (River Sediments)\",\"Clay Dominant\",\"River Valleys\\u002fDeltas (River Sediments)\",\"River Valleys\\u002fDeltas (River Sediments)\",\"River Valleys\\u002fDeltas (River Sediments)\",\"Fertile\\u002fAgricultural (Grasslands, Food Bearing, Pasture)\",\"Fertile\\u002fAgricultural (Grasslands, Food Bearing, Pasture)\",\"Fertile\\u002fAgricultural (Grasslands, Food Bearing, Pasture)\",\"Clay Dominant\",\"Clay Dominant\",\"River Valleys\\u002fDeltas (River Sediments)\",\"Fertile\\u002fAgricultural (Grasslands, Food Bearing, Pasture)\",\"River Valleys\\u002fDeltas (River Sediments)\",\"Clay Dominant\",\"Fertile\\u002fAgricultural (Grasslands, Food Bearing, Pasture)\",\"Clay Dominant\",\"River Valleys\\u002fDeltas (River Sediments)\",\"Fertile\\u002fAgricultural (Grasslands, Food Bearing, Pasture)\",\"River Valleys\\u002fDeltas (River Sediments)\",\"River Valleys\\u002fDeltas (River Sediments)\",\"Fertile\\u002fAgricultural (Grasslands, Food Bearing, Pasture)\",\"River Valleys\\u002fDeltas (River Sediments)\",\"River Valleys\\u002fDeltas (River Sediments)\",\"Fertile\\u002fAgricultural (Grasslands, Food Bearing, Pasture)\",\"River Valleys\\u002fDeltas (River Sediments)\",\"Clay Dominant\",\"Fertile\\u002fAgricultural (Grasslands, Food Bearing, Pasture)\",\"Fertile\\u002fAgricultural (Grasslands, Food Bearing, Pasture)\",\"River Valleys\\u002fDeltas (River Sediments)\",\"Clay Dominant\",\"Fertile\\u002fAgricultural (Grasslands, Food Bearing, Pasture)\",\"Fertile\\u002fAgricultural (Grasslands, Food Bearing, Pasture)\",\"River Valleys\\u002fDeltas (River Sediments)\",\"Fertile\\u002fAgricultural (Grasslands, Food Bearing, Pasture)\",\"Clay Dominant\",\"Fertile\\u002fAgricultural (Grasslands, Food Bearing, Pasture)\",\"River Valleys\\u002fDeltas (River Sediments)\",\"Fertile\\u002fAgricultural (Grasslands, Food Bearing, Pasture)\",\"Fertile\\u002fAgricultural (Grasslands, Food Bearing, Pasture)\",\"Fertile\\u002fAgricultural (Grasslands, Food Bearing, Pasture)\",\"River Valleys\\u002fDeltas (River Sediments)\",\"Clay Dominant\",\"Fertile\\u002fAgricultural (Grasslands, Food Bearing, Pasture)\",\"Clay Dominant\",\"Fertile\\u002fAgricultural (Grasslands, Food Bearing, Pasture)\",\"River Valleys\\u002fDeltas (River Sediments)\",\"Clay Dominant\",\"River Valleys\\u002fDeltas (River Sediments)\",\"Fertile\\u002fAgricultural (Grasslands, Food Bearing, Pasture)\",\"Fertile\\u002fAgricultural (Grasslands, Food Bearing, Pasture)\",\"River Valleys\\u002fDeltas (River Sediments)\",\"Fertile\\u002fAgricultural (Grasslands, Food Bearing, Pasture)\",\"Fertile\\u002fAgricultural (Grasslands, Food Bearing, Pasture)\",\"Clay Dominant\",\"Fertile\\u002fAgricultural (Grasslands, Food Bearing, Pasture)\",\"Clay Dominant\",\"Clay Dominant\",\"Fertile\\u002fAgricultural (Grasslands, Food Bearing, Pasture)\",\"River Valleys\\u002fDeltas (River Sediments)\",\"River Valleys\\u002fDeltas (River Sediments)\",\"River Valleys\\u002fDeltas (River Sediments)\",\"Fertile\\u002fAgricultural (Grasslands, Food Bearing, Pasture)\",\"River Valleys\\u002fDeltas (River Sediments)\",\"Fertile\\u002fAgricultural (Grasslands, Food Bearing, Pasture)\",\"Fertile\\u002fAgricultural (Grasslands, Food Bearing, Pasture)\",\"Fertile\\u002fAgricultural (Grasslands, Food Bearing, Pasture)\",\"Fertile\\u002fAgricultural (Grasslands, Food Bearing, Pasture)\",\"Clay Dominant\",\"Fertile\\u002fAgricultural (Grasslands, Food Bearing, Pasture)\",\"Fertile\\u002fAgricultural (Grasslands, Food Bearing, Pasture)\",\"Fertile\\u002fAgricultural (Grasslands, Food Bearing, Pasture)\",\"Fertile\\u002fAgricultural (Grasslands, Food Bearing, Pasture)\",\"Clay Dominant\",\"Clay Dominant\",\"Fertile\\u002fAgricultural (Grasslands, Food Bearing, Pasture)\",\"Clay Dominant\",\"Clay Dominant\",\"River Valleys\\u002fDeltas (River Sediments)\",\"Fertile\\u002fAgricultural (Grasslands, Food Bearing, Pasture)\",\"Fertile\\u002fAgricultural (Grasslands, Food Bearing, Pasture)\",\"Fertile\\u002fAgricultural (Grasslands, Food Bearing, Pasture)\",\"Clay Dominant\",\"Clay Dominant\",\"Clay Dominant\",\"Fertile\\u002fAgricultural (Grasslands, Food Bearing, Pasture)\",\"River Valleys\\u002fDeltas (River Sediments)\",\"River Valleys\\u002fDeltas (River Sediments)\",\"Fertile\\u002fAgricultural (Grasslands, Food Bearing, Pasture)\",\"Fertile\\u002fAgricultural (Grasslands, Food Bearing, Pasture)\",\"Fertile\\u002fAgricultural (Grasslands, Food Bearing, Pasture)\",\"Fertile\\u002fAgricultural (Grasslands, Food Bearing, Pasture)\",\"Fertile\\u002fAgricultural (Grasslands, Food Bearing, Pasture)\",\"Fertile\\u002fAgricultural (Grasslands, Food Bearing, Pasture)\",\"Fertile\\u002fAgricultural (Grasslands, Food Bearing, Pasture)\",\"Fertile\\u002fAgricultural (Grasslands, Food Bearing, Pasture)\",\"Clay Dominant\",\"Clay Dominant\",\"River Valleys\\u002fDeltas (River Sediments)\",\"Fertile\\u002fAgricultural (Grasslands, Food Bearing, Pasture)\",\"Clay Dominant\",\"Fertile\\u002fAgricultural (Grasslands, Food Bearing, Pasture)\",\"Clay Dominant\",\"Fertile\\u002fAgricultural (Grasslands, Food Bearing, Pasture)\",\"Fertile\\u002fAgricultural (Grasslands, Food Bearing, Pasture)\"],\"x0\":\" \",\"xaxis\":\"x\",\"y\":[45.27082241144542,48.82668085729938,1940.334633682176,-166.2842551150943,-876.9588135869335,526.7207266182854,-605.7840917868575,1457.5644397639508,-1260.0540193337429,-245.60173217991996,2017.2827660770959,66.95598839989793,-2977.819766570863,64.40496451433955,711.5070022221307,-881.0821889077083,-460.8065813311607,-185.3373005866581,129.4513999586668,-513.2273411693218,-1276.728688097457,486.946629895916,3978.290909972102,26.165831842861564,-865.8404714256667,-1183.2984817044867,-723.4855955543155,-104.22734158592812,1784.682127400848,-219.50255119494165,191.65314066467272,778.8819392840892,-161.41644041890936,-137.59010894248422,178.0456362220334,2476.708198061745,-55.96720107020019,-508.50193572372314,193.74466708105865,-1287.3652819654287,-756.0845529341832,204.29519680784824,95.27681962409497,-104.02435183037312,85.8890171472276,-118.60444291642125,-815.0293894863516,-351.65711923610775,-204.5839961040083,-216.2280510640585,-829.3749999844767,844.2381949205837,-36.28164663091229,-296.5990716399592,-355.2198816205565,-445.5054380118577,-47.40158931090218,-796.6581901055097,654.0854483968196,962.7322799357999,639.1682877072853,-177.4062561299079,199.97126538745943,-84.06200268159228,-629.5661860466348,-533.833511182047,121.78196896289228,-99.49038828157336,-679.143626857991,-495.79854841703866,1636.3609609006162,-0.942172898860008,-2119.9336773481477,-470.4847458891527,2634.074061942337,-878.1145422568397,-565.575688837549,491.8053230090077,-2242.117707572379,-813.6928441317432,-2935.6652365933296,-844.4230314496676,-286.0060395009132,-2564.8032814769103,-258.87880018944475,-1883.1027518321907,360.826621682555,200.95712880066776,-138.42526473070802,139.31947382336193,1686.8224211883244,-313.35745071481756,324.50009372457225,83.85526086892193,376.5604917758301,45.46035629414939,-6.379928337646106,-434.9826970786012,-473.64825807477246,-13.411845416755057,-367.3963162795674,-260.5267259368917,233.768558761417,-520.795839622099,-102.14837941012343,598.6971545662739,855.1257494592537,2089.9125617380087,-678.4166366291674,232.82387482820104,177.67384594248028,-339.77459494507093,-886.9864857802722,-269.58556012872305,-1196.0061764760567,269.1788853001831,571.365603916207,62.97008885285686,-34.33740398215275,-463.1810828996031,-16.510916398316454,1005.7586938096911,3.48573997513995,-268.0006286837297,125.26555409095954,-50.16787387106274,700.0835231117435,403.0968314288724,-422.988621196665,-249.55317586906517,-443.5458314038642,130.55388149708392,3572.2262997264506,532.5134515053064,56.200839035223,-82.41162048294291,-254.88315789986927,-406.38506977898146,-482.27346722269317,-95.49087213227222,1405.0990585643663,-1114.656146452543,70.6388424249426,-110.3287838440774,689.522049086253,1335.957593103094,-1360.9615810064251,-1653.871474424648,17.566036364037245,15.311944756089929,-416.49515369934693,-202.84615782720869,-227.56018510649312],\"y0\":\" \",\"yaxis\":\"y\",\"type\":\"box\"}],                        {\"template\":{\"data\":{\"histogram2dcontour\":[{\"type\":\"histogram2dcontour\",\"colorbar\":{\"outlinewidth\":0,\"ticks\":\"\"},\"colorscale\":[[0.0,\"#0d0887\"],[0.1111111111111111,\"#46039f\"],[0.2222222222222222,\"#7201a8\"],[0.3333333333333333,\"#9c179e\"],[0.4444444444444444,\"#bd3786\"],[0.5555555555555556,\"#d8576b\"],[0.6666666666666666,\"#ed7953\"],[0.7777777777777778,\"#fb9f3a\"],[0.8888888888888888,\"#fdca26\"],[1.0,\"#f0f921\"]]}],\"choropleth\":[{\"type\":\"choropleth\",\"colorbar\":{\"outlinewidth\":0,\"ticks\":\"\"}}],\"histogram2d\":[{\"type\":\"histogram2d\",\"colorbar\":{\"outlinewidth\":0,\"ticks\":\"\"},\"colorscale\":[[0.0,\"#0d0887\"],[0.1111111111111111,\"#46039f\"],[0.2222222222222222,\"#7201a8\"],[0.3333333333333333,\"#9c179e\"],[0.4444444444444444,\"#bd3786\"],[0.5555555555555556,\"#d8576b\"],[0.6666666666666666,\"#ed7953\"],[0.7777777777777778,\"#fb9f3a\"],[0.8888888888888888,\"#fdca26\"],[1.0,\"#f0f921\"]]}],\"heatmap\":[{\"type\":\"heatmap\",\"colorbar\":{\"outlinewidth\":0,\"ticks\":\"\"},\"colorscale\":[[0.0,\"#0d0887\"],[0.1111111111111111,\"#46039f\"],[0.2222222222222222,\"#7201a8\"],[0.3333333333333333,\"#9c179e\"],[0.4444444444444444,\"#bd3786\"],[0.5555555555555556,\"#d8576b\"],[0.6666666666666666,\"#ed7953\"],[0.7777777777777778,\"#fb9f3a\"],[0.8888888888888888,\"#fdca26\"],[1.0,\"#f0f921\"]]}],\"heatmapgl\":[{\"type\":\"heatmapgl\",\"colorbar\":{\"outlinewidth\":0,\"ticks\":\"\"},\"colorscale\":[[0.0,\"#0d0887\"],[0.1111111111111111,\"#46039f\"],[0.2222222222222222,\"#7201a8\"],[0.3333333333333333,\"#9c179e\"],[0.4444444444444444,\"#bd3786\"],[0.5555555555555556,\"#d8576b\"],[0.6666666666666666,\"#ed7953\"],[0.7777777777777778,\"#fb9f3a\"],[0.8888888888888888,\"#fdca26\"],[1.0,\"#f0f921\"]]}],\"contourcarpet\":[{\"type\":\"contourcarpet\",\"colorbar\":{\"outlinewidth\":0,\"ticks\":\"\"}}],\"contour\":[{\"type\":\"contour\",\"colorbar\":{\"outlinewidth\":0,\"ticks\":\"\"},\"colorscale\":[[0.0,\"#0d0887\"],[0.1111111111111111,\"#46039f\"],[0.2222222222222222,\"#7201a8\"],[0.3333333333333333,\"#9c179e\"],[0.4444444444444444,\"#bd3786\"],[0.5555555555555556,\"#d8576b\"],[0.6666666666666666,\"#ed7953\"],[0.7777777777777778,\"#fb9f3a\"],[0.8888888888888888,\"#fdca26\"],[1.0,\"#f0f921\"]]}],\"surface\":[{\"type\":\"surface\",\"colorbar\":{\"outlinewidth\":0,\"ticks\":\"\"},\"colorscale\":[[0.0,\"#0d0887\"],[0.1111111111111111,\"#46039f\"],[0.2222222222222222,\"#7201a8\"],[0.3333333333333333,\"#9c179e\"],[0.4444444444444444,\"#bd3786\"],[0.5555555555555556,\"#d8576b\"],[0.6666666666666666,\"#ed7953\"],[0.7777777777777778,\"#fb9f3a\"],[0.8888888888888888,\"#fdca26\"],[1.0,\"#f0f921\"]]}],\"mesh3d\":[{\"type\":\"mesh3d\",\"colorbar\":{\"outlinewidth\":0,\"ticks\":\"\"}}],\"scatter\":[{\"fillpattern\":{\"fillmode\":\"overlay\",\"size\":10,\"solidity\":0.2},\"type\":\"scatter\"}],\"parcoords\":[{\"type\":\"parcoords\",\"line\":{\"colorbar\":{\"outlinewidth\":0,\"ticks\":\"\"}}}],\"scatterpolargl\":[{\"type\":\"scatterpolargl\",\"marker\":{\"colorbar\":{\"outlinewidth\":0,\"ticks\":\"\"}}}],\"bar\":[{\"error_x\":{\"color\":\"#2a3f5f\"},\"error_y\":{\"color\":\"#2a3f5f\"},\"marker\":{\"line\":{\"color\":\"#E5ECF6\",\"width\":0.5},\"pattern\":{\"fillmode\":\"overlay\",\"size\":10,\"solidity\":0.2}},\"type\":\"bar\"}],\"scattergeo\":[{\"type\":\"scattergeo\",\"marker\":{\"colorbar\":{\"outlinewidth\":0,\"ticks\":\"\"}}}],\"scatterpolar\":[{\"type\":\"scatterpolar\",\"marker\":{\"colorbar\":{\"outlinewidth\":0,\"ticks\":\"\"}}}],\"histogram\":[{\"marker\":{\"pattern\":{\"fillmode\":\"overlay\",\"size\":10,\"solidity\":0.2}},\"type\":\"histogram\"}],\"scattergl\":[{\"type\":\"scattergl\",\"marker\":{\"colorbar\":{\"outlinewidth\":0,\"ticks\":\"\"}}}],\"scatter3d\":[{\"type\":\"scatter3d\",\"line\":{\"colorbar\":{\"outlinewidth\":0,\"ticks\":\"\"}},\"marker\":{\"colorbar\":{\"outlinewidth\":0,\"ticks\":\"\"}}}],\"scattermapbox\":[{\"type\":\"scattermapbox\",\"marker\":{\"colorbar\":{\"outlinewidth\":0,\"ticks\":\"\"}}}],\"scatterternary\":[{\"type\":\"scatterternary\",\"marker\":{\"colorbar\":{\"outlinewidth\":0,\"ticks\":\"\"}}}],\"scattercarpet\":[{\"type\":\"scattercarpet\",\"marker\":{\"colorbar\":{\"outlinewidth\":0,\"ticks\":\"\"}}}],\"carpet\":[{\"aaxis\":{\"endlinecolor\":\"#2a3f5f\",\"gridcolor\":\"white\",\"linecolor\":\"white\",\"minorgridcolor\":\"white\",\"startlinecolor\":\"#2a3f5f\"},\"baxis\":{\"endlinecolor\":\"#2a3f5f\",\"gridcolor\":\"white\",\"linecolor\":\"white\",\"minorgridcolor\":\"white\",\"startlinecolor\":\"#2a3f5f\"},\"type\":\"carpet\"}],\"table\":[{\"cells\":{\"fill\":{\"color\":\"#EBF0F8\"},\"line\":{\"color\":\"white\"}},\"header\":{\"fill\":{\"color\":\"#C8D4E3\"},\"line\":{\"color\":\"white\"}},\"type\":\"table\"}],\"barpolar\":[{\"marker\":{\"line\":{\"color\":\"#E5ECF6\",\"width\":0.5},\"pattern\":{\"fillmode\":\"overlay\",\"size\":10,\"solidity\":0.2}},\"type\":\"barpolar\"}],\"pie\":[{\"automargin\":true,\"type\":\"pie\"}]},\"layout\":{\"autotypenumbers\":\"strict\",\"colorway\":[\"#636efa\",\"#EF553B\",\"#00cc96\",\"#ab63fa\",\"#FFA15A\",\"#19d3f3\",\"#FF6692\",\"#B6E880\",\"#FF97FF\",\"#FECB52\"],\"font\":{\"color\":\"#2a3f5f\"},\"hovermode\":\"closest\",\"hoverlabel\":{\"align\":\"left\"},\"paper_bgcolor\":\"white\",\"plot_bgcolor\":\"#E5ECF6\",\"polar\":{\"bgcolor\":\"#E5ECF6\",\"angularaxis\":{\"gridcolor\":\"white\",\"linecolor\":\"white\",\"ticks\":\"\"},\"radialaxis\":{\"gridcolor\":\"white\",\"linecolor\":\"white\",\"ticks\":\"\"}},\"ternary\":{\"bgcolor\":\"#E5ECF6\",\"aaxis\":{\"gridcolor\":\"white\",\"linecolor\":\"white\",\"ticks\":\"\"},\"baxis\":{\"gridcolor\":\"white\",\"linecolor\":\"white\",\"ticks\":\"\"},\"caxis\":{\"gridcolor\":\"white\",\"linecolor\":\"white\",\"ticks\":\"\"}},\"coloraxis\":{\"colorbar\":{\"outlinewidth\":0,\"ticks\":\"\"}},\"colorscale\":{\"sequential\":[[0.0,\"#0d0887\"],[0.1111111111111111,\"#46039f\"],[0.2222222222222222,\"#7201a8\"],[0.3333333333333333,\"#9c179e\"],[0.4444444444444444,\"#bd3786\"],[0.5555555555555556,\"#d8576b\"],[0.6666666666666666,\"#ed7953\"],[0.7777777777777778,\"#fb9f3a\"],[0.8888888888888888,\"#fdca26\"],[1.0,\"#f0f921\"]],\"sequentialminus\":[[0.0,\"#0d0887\"],[0.1111111111111111,\"#46039f\"],[0.2222222222222222,\"#7201a8\"],[0.3333333333333333,\"#9c179e\"],[0.4444444444444444,\"#bd3786\"],[0.5555555555555556,\"#d8576b\"],[0.6666666666666666,\"#ed7953\"],[0.7777777777777778,\"#fb9f3a\"],[0.8888888888888888,\"#fdca26\"],[1.0,\"#f0f921\"]],\"diverging\":[[0,\"#8e0152\"],[0.1,\"#c51b7d\"],[0.2,\"#de77ae\"],[0.3,\"#f1b6da\"],[0.4,\"#fde0ef\"],[0.5,\"#f7f7f7\"],[0.6,\"#e6f5d0\"],[0.7,\"#b8e186\"],[0.8,\"#7fbc41\"],[0.9,\"#4d9221\"],[1,\"#276419\"]]},\"xaxis\":{\"gridcolor\":\"white\",\"linecolor\":\"white\",\"ticks\":\"\",\"title\":{\"standoff\":15},\"zerolinecolor\":\"white\",\"automargin\":true,\"zerolinewidth\":2},\"yaxis\":{\"gridcolor\":\"white\",\"linecolor\":\"white\",\"ticks\":\"\",\"title\":{\"standoff\":15},\"zerolinecolor\":\"white\",\"automargin\":true,\"zerolinewidth\":2},\"scene\":{\"xaxis\":{\"backgroundcolor\":\"#E5ECF6\",\"gridcolor\":\"white\",\"linecolor\":\"white\",\"showbackground\":true,\"ticks\":\"\",\"zerolinecolor\":\"white\",\"gridwidth\":2},\"yaxis\":{\"backgroundcolor\":\"#E5ECF6\",\"gridcolor\":\"white\",\"linecolor\":\"white\",\"showbackground\":true,\"ticks\":\"\",\"zerolinecolor\":\"white\",\"gridwidth\":2},\"zaxis\":{\"backgroundcolor\":\"#E5ECF6\",\"gridcolor\":\"white\",\"linecolor\":\"white\",\"showbackground\":true,\"ticks\":\"\",\"zerolinecolor\":\"white\",\"gridwidth\":2}},\"shapedefaults\":{\"line\":{\"color\":\"#2a3f5f\"}},\"annotationdefaults\":{\"arrowcolor\":\"#2a3f5f\",\"arrowhead\":0,\"arrowwidth\":1},\"geo\":{\"bgcolor\":\"white\",\"landcolor\":\"#E5ECF6\",\"subunitcolor\":\"white\",\"showland\":true,\"showlakes\":true,\"lakecolor\":\"white\"},\"title\":{\"x\":0.05},\"mapbox\":{\"style\":\"light\"}}},\"xaxis\":{\"anchor\":\"y\",\"domain\":[0.0,1.0],\"title\":{\"text\":\"soil_type\"}},\"yaxis\":{\"anchor\":\"x\",\"domain\":[0.0,1.0],\"title\":{\"text\":\"Residuals\"}},\"legend\":{\"tracegroupgap\":0},\"title\":{\"text\":\"Residuals Distribution Across Soil Types\"},\"boxmode\":\"group\"},                        {\"responsive\": true}                    ).then(function(){\n",
       "                            \n",
       "var gd = document.getElementById('68597a11-4d00-45a9-95ae-ba91ca592eaf');\n",
       "var x = new MutationObserver(function (mutations, observer) {{\n",
       "        var display = window.getComputedStyle(gd).display;\n",
       "        if (!display || display === 'none') {{\n",
       "            console.log([gd, 'removed!']);\n",
       "            Plotly.purge(gd);\n",
       "            observer.disconnect();\n",
       "        }}\n",
       "}});\n",
       "\n",
       "// Listen for the removal of the full notebook cells\n",
       "var notebookContainer = gd.closest('#notebook-container');\n",
       "if (notebookContainer) {{\n",
       "    x.observe(notebookContainer, {childList: true});\n",
       "}}\n",
       "\n",
       "// Listen for the clearing of the current output cell\n",
       "var outputEl = gd.closest('.output');\n",
       "if (outputEl) {{\n",
       "    x.observe(outputEl, {childList: true});\n",
       "}}\n",
       "\n",
       "                        })                };                });            </script>        </div>"
      ]
     },
     "metadata": {},
     "output_type": "display_data"
    }
   ],
   "source": [
    "fig = px.box(predictions, x='soil_type', y='Residuals', title=\"Residuals Distribution Across Soil Types\")\n",
    "fig.show()"
   ]
  },
  {
   "cell_type": "code",
   "execution_count": 22,
   "id": "03783122",
   "metadata": {},
   "outputs": [
    {
     "data": {
      "application/vnd.plotly.v1+json": {
       "config": {
        "plotlyServerURL": "https://plot.ly"
       },
       "data": [
        {
         "hovertemplate": "soil_type=Clay Dominant<br>prediction_label=%{x}<br>standardized_residuals=%{y}<extra></extra>",
         "legendgroup": "Clay Dominant",
         "marker": {
          "color": "#636efa",
          "symbol": "circle"
         },
         "mode": "markers",
         "name": "Clay Dominant",
         "orientation": "v",
         "showlegend": true,
         "type": "scatter",
         "x": [
          102.17075168523426,
          3858.3344491629646,
          2326.711862829154,
          940.3044486118208,
          4833.920243871619,
          1606.9072728099468,
          4849.963972840398,
          2399.9164016263617,
          1402.7258299293155,
          5023.398728304678,
          4121.339356974152,
          2432.598041184661,
          4470.762016782005,
          2967.6183700283163,
          1985.8244320984018,
          393.6873156975606,
          4752.053710921977,
          7065.36375651176,
          6869.34082113443,
          6016.382738518791,
          3099.15187940601,
          6908.393711495163,
          3880.605012259879,
          8052.29400413316,
          5554.047695999176,
          1467.9905068613652,
          704.8064894089756,
          393.67144367998924,
          570.6932402499672,
          1610.4666637931011,
          5210.817013271293,
          1009.7698706434339,
          6080.43418189986,
          305.4627479109936,
          189.12254000875805,
          2223.060479841364,
          1839.2855960419786,
          4880.219989336049,
          2771.722335679372,
          8993.950610021906,
          4254.139530042213,
          912.2279723028626
         ],
         "xaxis": "x",
         "y": [
          0.10718757984004063,
          0.6046542134687367,
          2.144803818869288,
          0.12959416135494814,
          0.7955879028561514,
          -0.4698905312918919,
          4.171050187053832,
          -1.1622533953429792,
          -0.6871435935266124,
          -0.047284043744483396,
          1.9044650926776512,
          0.865204248894011,
          2.619513276812443,
          0.2606008073520154,
          0.27150232890249143,
          -0.047074300987293705,
          -0.7965556945542388,
          -0.762750471765021,
          0.7362560661902658,
          0.267034550242766,
          -0.5900997015828551,
          2.7821143405341573,
          -2.256297098148558,
          -2.589717677876966,
          1.8033498194331006,
          0.3957061658797999,
          0.10738341907848155,
          0.3019562017242479,
          -0.045135919285423105,
          0.6790251313961008,
          0.6507843230068241,
          1.0996286704927467,
          0.06401240395184254,
          0.18984355199605987,
          0.008573857949728194,
          -0.39789087818926117,
          0.19530780987473803,
          3.7514767424865485,
          0.7728715609659034,
          1.4408125266407783,
          0.07856111937140106,
          -0.3699402867415168
         ],
         "yaxis": "y"
        },
        {
         "alignmentgroup": "True",
         "bingroup": "y",
         "hovertemplate": "soil_type=Clay Dominant<br>standardized_residuals=%{y}<br>count=%{x}<extra></extra>",
         "legendgroup": "Clay Dominant",
         "marker": {
          "color": "#636efa"
         },
         "name": "Clay Dominant",
         "offsetgroup": "Clay Dominant",
         "opacity": 0.5,
         "showlegend": false,
         "type": "histogram",
         "xaxis": "x2",
         "y": [
          0.10718757984004063,
          0.6046542134687367,
          2.144803818869288,
          0.12959416135494814,
          0.7955879028561514,
          -0.4698905312918919,
          4.171050187053832,
          -1.1622533953429792,
          -0.6871435935266124,
          -0.047284043744483396,
          1.9044650926776512,
          0.865204248894011,
          2.619513276812443,
          0.2606008073520154,
          0.27150232890249143,
          -0.047074300987293705,
          -0.7965556945542388,
          -0.762750471765021,
          0.7362560661902658,
          0.267034550242766,
          -0.5900997015828551,
          2.7821143405341573,
          -2.256297098148558,
          -2.589717677876966,
          1.8033498194331006,
          0.3957061658797999,
          0.10738341907848155,
          0.3019562017242479,
          -0.045135919285423105,
          0.6790251313961008,
          0.6507843230068241,
          1.0996286704927467,
          0.06401240395184254,
          0.18984355199605987,
          0.008573857949728194,
          -0.39789087818926117,
          0.19530780987473803,
          3.7514767424865485,
          0.7728715609659034,
          1.4408125266407783,
          0.07856111937140106,
          -0.3699402867415168
         ],
         "yaxis": "y2"
        },
        {
         "hovertemplate": "soil_type=River Valleys/Deltas (River Sediments)<br>prediction_label=%{x}<br>standardized_residuals=%{y}<extra></extra>",
         "legendgroup": "River Valleys/Deltas (River Sediments)",
         "marker": {
          "color": "#EF553B",
          "symbol": "circle"
         },
         "mode": "markers",
         "name": "River Valleys/Deltas (River Sediments)",
         "orientation": "v",
         "showlegend": true,
         "type": "scatter",
         "x": [
          3909.7704871114506,
          6920.920249130324,
          5268.208083240094,
          5897.937025079799,
          4435.815738083743,
          5795.85333626691,
          2256.100621524896,
          2043.780415821033,
          2737.385426378707,
          9016.523576894417,
          3536.359884333109,
          1552.4975766685916,
          2565.4349745077,
          7268.441549259022,
          1956.4130366664212,
          4361.574067220727,
          2735.0654534078085,
          4950.439051173166,
          5322.941802880912,
          3526.810497421209,
          1978.6576126423251,
          2263.260504176783,
          5077.396011182047,
          3857.1356519534484,
          5493.089427639241,
          7892.356812536884,
          1667.91238774261,
          2335.6024216704027,
          956.6154533581798,
          2020.4027677777926,
          4180.952361207191,
          2370.148299614138,
          7322.05767228667,
          3752.622115837646,
          293.30295869800506,
          6076.583043730741,
          1647.5365707111987,
          1027.7243429452365,
          3437.833188695071,
          3054.8356663413815,
          7419.856289871027,
          3522.063720092318,
          7164.924471631425
         ],
         "xaxis": "x",
         "y": [
          0.11086173350641913,
          2.0652957993390353,
          -0.11140544785525983,
          1.5664649530011903,
          -1.2415624129233056,
          0.12695827078031854,
          -0.849983062559264,
          -0.13109234426606745,
          -1.2587918095111483,
          -0.8342342882418152,
          -0.08175671352877935,
          0.24437950589482976,
          0.0025816004918747934,
          0.1491570483615328,
          -0.06213943812243383,
          -0.7817328386361185,
          -0.163010758863268,
          0.9327347566248745,
          0.022922047986947438,
          -0.24605553818057577,
          1.0551708669291096,
          -0.12289745222728114,
          -0.4911822211201383,
          -0.04238950291399794,
          -0.6413264696616281,
          1.7512096225860998,
          0.0594371846150378,
          -0.4257259883128896,
          0.5685772547996735,
          -0.8121043393671602,
          -1.8853385417258366,
          0.20436501326851347,
          0.4494984934670181,
          0.053818527577218785,
          0.046552674813028404,
          2.2198498405485276,
          -0.6405752941423192,
          0.3009800903324007,
          -0.2906674117027766,
          0.7837843909066909,
          0.1184812129425209,
          -0.024742563847081497,
          -1.3458269367592544
         ],
         "yaxis": "y"
        },
        {
         "alignmentgroup": "True",
         "bingroup": "y",
         "hovertemplate": "soil_type=River Valleys/Deltas (River Sediments)<br>standardized_residuals=%{y}<br>count=%{x}<extra></extra>",
         "legendgroup": "River Valleys/Deltas (River Sediments)",
         "marker": {
          "color": "#EF553B"
         },
         "name": "River Valleys/Deltas (River Sediments)",
         "offsetgroup": "River Valleys/Deltas (River Sediments)",
         "opacity": 0.5,
         "showlegend": false,
         "type": "histogram",
         "xaxis": "x2",
         "y": [
          0.11086173350641913,
          2.0652957993390353,
          -0.11140544785525983,
          1.5664649530011903,
          -1.2415624129233056,
          0.12695827078031854,
          -0.849983062559264,
          -0.13109234426606745,
          -1.2587918095111483,
          -0.8342342882418152,
          -0.08175671352877935,
          0.24437950589482976,
          0.0025816004918747934,
          0.1491570483615328,
          -0.06213943812243383,
          -0.7817328386361185,
          -0.163010758863268,
          0.9327347566248745,
          0.022922047986947438,
          -0.24605553818057577,
          1.0551708669291096,
          -0.12289745222728114,
          -0.4911822211201383,
          -0.04238950291399794,
          -0.6413264696616281,
          1.7512096225860998,
          0.0594371846150378,
          -0.4257259883128896,
          0.5685772547996735,
          -0.8121043393671602,
          -1.8853385417258366,
          0.20436501326851347,
          0.4494984934670181,
          0.053818527577218785,
          0.046552674813028404,
          2.2198498405485276,
          -0.6405752941423192,
          0.3009800903324007,
          -0.2906674117027766,
          0.7837843909066909,
          0.1184812129425209,
          -0.024742563847081497,
          -1.3458269367592544
         ],
         "yaxis": "y2"
        },
        {
         "hovertemplate": "soil_type=Cold Climates (Permafrost, Rock Outcrops)<br>prediction_label=%{x}<br>standardized_residuals=%{y}<extra></extra>",
         "legendgroup": "Cold Climates (Permafrost, Rock Outcrops)",
         "marker": {
          "color": "#00cc96",
          "symbol": "circle"
         },
         "mode": "markers",
         "name": "Cold Climates (Permafrost, Rock Outcrops)",
         "orientation": "v",
         "showlegend": true,
         "type": "scatter",
         "x": [
          6760.0144776494335,
          391.4180175035354
         ],
         "xaxis": "x",
         "y": [
          -0.8457225120386594,
          -0.16639419407157024
         ],
         "yaxis": "y"
        },
        {
         "alignmentgroup": "True",
         "bingroup": "y",
         "hovertemplate": "soil_type=Cold Climates (Permafrost, Rock Outcrops)<br>standardized_residuals=%{y}<br>count=%{x}<extra></extra>",
         "legendgroup": "Cold Climates (Permafrost, Rock Outcrops)",
         "marker": {
          "color": "#00cc96"
         },
         "name": "Cold Climates (Permafrost, Rock Outcrops)",
         "offsetgroup": "Cold Climates (Permafrost, Rock Outcrops)",
         "opacity": 0.5,
         "showlegend": false,
         "type": "histogram",
         "xaxis": "x2",
         "y": [
          -0.8457225120386594,
          -0.16639419407157024
         ],
         "yaxis": "y2"
        },
        {
         "hovertemplate": "soil_type=Fertile/Agricultural (Grasslands, Food Bearing, Pasture)<br>prediction_label=%{x}<br>standardized_residuals=%{y}<extra></extra>",
         "legendgroup": "Fertile/Agricultural (Grasslands, Food Bearing, Pasture)",
         "marker": {
          "color": "#ab63fa",
          "symbol": "circle"
         },
         "mode": "markers",
         "name": "Fertile/Agricultural (Grasslands, Food Bearing, Pasture)",
         "orientation": "v",
         "showlegend": true,
         "type": "scatter",
         "x": [
          2349.239536122795,
          711.2659472678106,
          4709.619327117738,
          1385.8422258624107,
          1160.8819740647707,
          1984.646631822834,
          209.79699774698219,
          712.5899023329719,
          1266.8177926573169,
          1985.32896604746,
          4220.215656449808,
          1177.09158857903,
          2037.9995264626702,
          5196.764660166508,
          892.525179472119,
          1072.587774437639,
          2477.568581498402,
          1548.8883529177147,
          925.7097077597173,
          559.6767102363265,
          1014.6010386514137,
          3654.6368023481477,
          2129.8473303427772,
          2184.3856253609865,
          8427.881808975493,
          6623.072219015205,
          4896.070492625913,
          798.6157997011635,
          7580.593788473695,
          2130.0428711993322,
          4021.556856527583,
          534.0442335517316,
          242.8594913283437,
          1184.2029729575074,
          907.647891863835,
          511.25012182155956,
          796.1856004486104,
          1945.3430808330365,
          5350.305891165746,
          874.6259587450197,
          3322.1522572646472,
          2516.580677316223,
          2991.1267819448067,
          4017.676583449817,
          3089.845584975268,
          530.0959489040278,
          2276.853202040228,
          529.3405672772227,
          2252.438006613417,
          953.4646920086276,
          929.8792767142431,
          532.4827107811745,
          2390.5820074790686,
          1070.1224767475255,
          1951.678404739919,
          1114.7082816758182,
          2079.132961976022,
          1618.9009414356337,
          3323.212787077543,
          2121.4795657781824,
          5201.343920562827,
          3659.4499656355856,
          745.4051572946913,
          353.2571685693962,
          668.0533491689931
         ],
         "xaxis": "x",
         "y": [
          -0.5655264318227493,
          -0.1933616346954348,
          -3.0164742701569693,
          -0.4157258535111172,
          0.19416865131480918,
          0.5635569241574094,
          0.08744701023847673,
          -0.10637569217584221,
          -0.46500792249082595,
          -1.2697822583585578,
          -0.7208270431355275,
          0.158857161404513,
          -0.3029452402087591,
          -0.15097933301366367,
          -0.3066265274918681,
          -0.39991567639567277,
          0.011432170425808566,
          0.7208426459222813,
          -0.026447850460265876,
          0.18624407601428858,
          -0.45188192274730365,
          -2.130048286657006,
          -0.8469166891395016,
          -0.5239803879166212,
          -0.7803518294959371,
          -2.9729173560587703,
          -0.23511010026048043,
          -0.20708040017746085,
          0.433241193754502,
          0.26805321106105906,
          -0.08261965302651933,
          -0.26337142992880996,
          0.14705563369606162,
          -0.3890428681078866,
          -0.4289947432626206,
          -0.31920804408682324,
          -0.2087831486189691,
          -0.47771081625618084,
          0.9439845150264756,
          0.2439953470089954,
          -0.8560837817898093,
          -0.21814334935976062,
          -1.1753838458508226,
          0.338544548268741,
          0.1254756601104307,
          0.024930971110588195,
          -0.4181793492777123,
          0.04335050487779172,
          -0.2165056908960581,
          0.47691763602095505,
          -0.37664977694650476,
          -0.19744453381502403,
          0.6106396489707562,
          -0.2029518320718047,
          -0.35949386361499547,
          -0.43790689325302995,
          -0.03825693207422545,
          1.512254169409071,
          -1.0913274876964663,
          0.13339953545093663,
          -0.05358846693352071,
          -1.6484812676918918,
          0.07623203932735458,
          -0.1491836808600407,
          -0.1747198869047541
         ],
         "yaxis": "y"
        },
        {
         "alignmentgroup": "True",
         "bingroup": "y",
         "hovertemplate": "soil_type=Fertile/Agricultural (Grasslands, Food Bearing, Pasture)<br>standardized_residuals=%{y}<br>count=%{x}<extra></extra>",
         "legendgroup": "Fertile/Agricultural (Grasslands, Food Bearing, Pasture)",
         "marker": {
          "color": "#ab63fa"
         },
         "name": "Fertile/Agricultural (Grasslands, Food Bearing, Pasture)",
         "offsetgroup": "Fertile/Agricultural (Grasslands, Food Bearing, Pasture)",
         "opacity": 0.5,
         "showlegend": false,
         "type": "histogram",
         "xaxis": "x2",
         "y": [
          -0.5655264318227493,
          -0.1933616346954348,
          -3.0164742701569693,
          -0.4157258535111172,
          0.19416865131480918,
          0.5635569241574094,
          0.08744701023847673,
          -0.10637569217584221,
          -0.46500792249082595,
          -1.2697822583585578,
          -0.7208270431355275,
          0.158857161404513,
          -0.3029452402087591,
          -0.15097933301366367,
          -0.3066265274918681,
          -0.39991567639567277,
          0.011432170425808566,
          0.7208426459222813,
          -0.026447850460265876,
          0.18624407601428858,
          -0.45188192274730365,
          -2.130048286657006,
          -0.8469166891395016,
          -0.5239803879166212,
          -0.7803518294959371,
          -2.9729173560587703,
          -0.23511010026048043,
          -0.20708040017746085,
          0.433241193754502,
          0.26805321106105906,
          -0.08261965302651933,
          -0.26337142992880996,
          0.14705563369606162,
          -0.3890428681078866,
          -0.4289947432626206,
          -0.31920804408682324,
          -0.2087831486189691,
          -0.47771081625618084,
          0.9439845150264756,
          0.2439953470089954,
          -0.8560837817898093,
          -0.21814334935976062,
          -1.1753838458508226,
          0.338544548268741,
          0.1254756601104307,
          0.024930971110588195,
          -0.4181793492777123,
          0.04335050487779172,
          -0.2165056908960581,
          0.47691763602095505,
          -0.37664977694650476,
          -0.19744453381502403,
          0.6106396489707562,
          -0.2029518320718047,
          -0.35949386361499547,
          -0.43790689325302995,
          -0.03825693207422545,
          1.512254169409071,
          -1.0913274876964663,
          0.13339953545093663,
          -0.05358846693352071,
          -1.6484812676918918,
          0.07623203932735458,
          -0.1491836808600407,
          -0.1747198869047541
         ],
         "yaxis": "y2"
        },
        {
         "hovertemplate": "soil_type=Saline/Arid (Desert Soils, High Salt Content)<br>prediction_label=%{x}<br>standardized_residuals=%{y}<extra></extra>",
         "legendgroup": "Saline/Arid (Desert Soils, High Salt Content)",
         "marker": {
          "color": "#FFA15A",
          "symbol": "circle"
         },
         "mode": "markers",
         "name": "Saline/Arid (Desert Soils, High Salt Content)",
         "orientation": "v",
         "showlegend": true,
         "type": "scatter",
         "x": [
          4830.721371054077
         ],
         "xaxis": "x",
         "y": [
          0.2584397006690281
         ],
         "yaxis": "y"
        },
        {
         "alignmentgroup": "True",
         "bingroup": "y",
         "hovertemplate": "soil_type=Saline/Arid (Desert Soils, High Salt Content)<br>standardized_residuals=%{y}<br>count=%{x}<extra></extra>",
         "legendgroup": "Saline/Arid (Desert Soils, High Salt Content)",
         "marker": {
          "color": "#FFA15A"
         },
         "name": "Saline/Arid (Desert Soils, High Salt Content)",
         "offsetgroup": "Saline/Arid (Desert Soils, High Salt Content)",
         "opacity": 0.5,
         "showlegend": false,
         "type": "histogram",
         "xaxis": "x2",
         "y": [
          0.2584397006690281
         ],
         "yaxis": "y2"
        }
       ],
       "layout": {
        "barmode": "overlay",
        "legend": {
         "title": {
          "text": "soil_type"
         },
         "tracegroupgap": 0
        },
        "template": {
         "data": {
          "bar": [
           {
            "error_x": {
             "color": "#2a3f5f"
            },
            "error_y": {
             "color": "#2a3f5f"
            },
            "marker": {
             "line": {
              "color": "#E5ECF6",
              "width": 0.5
             },
             "pattern": {
              "fillmode": "overlay",
              "size": 10,
              "solidity": 0.2
             }
            },
            "type": "bar"
           }
          ],
          "barpolar": [
           {
            "marker": {
             "line": {
              "color": "#E5ECF6",
              "width": 0.5
             },
             "pattern": {
              "fillmode": "overlay",
              "size": 10,
              "solidity": 0.2
             }
            },
            "type": "barpolar"
           }
          ],
          "carpet": [
           {
            "aaxis": {
             "endlinecolor": "#2a3f5f",
             "gridcolor": "white",
             "linecolor": "white",
             "minorgridcolor": "white",
             "startlinecolor": "#2a3f5f"
            },
            "baxis": {
             "endlinecolor": "#2a3f5f",
             "gridcolor": "white",
             "linecolor": "white",
             "minorgridcolor": "white",
             "startlinecolor": "#2a3f5f"
            },
            "type": "carpet"
           }
          ],
          "choropleth": [
           {
            "colorbar": {
             "outlinewidth": 0,
             "ticks": ""
            },
            "type": "choropleth"
           }
          ],
          "contour": [
           {
            "colorbar": {
             "outlinewidth": 0,
             "ticks": ""
            },
            "colorscale": [
             [
              0,
              "#0d0887"
             ],
             [
              0.1111111111111111,
              "#46039f"
             ],
             [
              0.2222222222222222,
              "#7201a8"
             ],
             [
              0.3333333333333333,
              "#9c179e"
             ],
             [
              0.4444444444444444,
              "#bd3786"
             ],
             [
              0.5555555555555556,
              "#d8576b"
             ],
             [
              0.6666666666666666,
              "#ed7953"
             ],
             [
              0.7777777777777778,
              "#fb9f3a"
             ],
             [
              0.8888888888888888,
              "#fdca26"
             ],
             [
              1,
              "#f0f921"
             ]
            ],
            "type": "contour"
           }
          ],
          "contourcarpet": [
           {
            "colorbar": {
             "outlinewidth": 0,
             "ticks": ""
            },
            "type": "contourcarpet"
           }
          ],
          "heatmap": [
           {
            "colorbar": {
             "outlinewidth": 0,
             "ticks": ""
            },
            "colorscale": [
             [
              0,
              "#0d0887"
             ],
             [
              0.1111111111111111,
              "#46039f"
             ],
             [
              0.2222222222222222,
              "#7201a8"
             ],
             [
              0.3333333333333333,
              "#9c179e"
             ],
             [
              0.4444444444444444,
              "#bd3786"
             ],
             [
              0.5555555555555556,
              "#d8576b"
             ],
             [
              0.6666666666666666,
              "#ed7953"
             ],
             [
              0.7777777777777778,
              "#fb9f3a"
             ],
             [
              0.8888888888888888,
              "#fdca26"
             ],
             [
              1,
              "#f0f921"
             ]
            ],
            "type": "heatmap"
           }
          ],
          "heatmapgl": [
           {
            "colorbar": {
             "outlinewidth": 0,
             "ticks": ""
            },
            "colorscale": [
             [
              0,
              "#0d0887"
             ],
             [
              0.1111111111111111,
              "#46039f"
             ],
             [
              0.2222222222222222,
              "#7201a8"
             ],
             [
              0.3333333333333333,
              "#9c179e"
             ],
             [
              0.4444444444444444,
              "#bd3786"
             ],
             [
              0.5555555555555556,
              "#d8576b"
             ],
             [
              0.6666666666666666,
              "#ed7953"
             ],
             [
              0.7777777777777778,
              "#fb9f3a"
             ],
             [
              0.8888888888888888,
              "#fdca26"
             ],
             [
              1,
              "#f0f921"
             ]
            ],
            "type": "heatmapgl"
           }
          ],
          "histogram": [
           {
            "marker": {
             "pattern": {
              "fillmode": "overlay",
              "size": 10,
              "solidity": 0.2
             }
            },
            "type": "histogram"
           }
          ],
          "histogram2d": [
           {
            "colorbar": {
             "outlinewidth": 0,
             "ticks": ""
            },
            "colorscale": [
             [
              0,
              "#0d0887"
             ],
             [
              0.1111111111111111,
              "#46039f"
             ],
             [
              0.2222222222222222,
              "#7201a8"
             ],
             [
              0.3333333333333333,
              "#9c179e"
             ],
             [
              0.4444444444444444,
              "#bd3786"
             ],
             [
              0.5555555555555556,
              "#d8576b"
             ],
             [
              0.6666666666666666,
              "#ed7953"
             ],
             [
              0.7777777777777778,
              "#fb9f3a"
             ],
             [
              0.8888888888888888,
              "#fdca26"
             ],
             [
              1,
              "#f0f921"
             ]
            ],
            "type": "histogram2d"
           }
          ],
          "histogram2dcontour": [
           {
            "colorbar": {
             "outlinewidth": 0,
             "ticks": ""
            },
            "colorscale": [
             [
              0,
              "#0d0887"
             ],
             [
              0.1111111111111111,
              "#46039f"
             ],
             [
              0.2222222222222222,
              "#7201a8"
             ],
             [
              0.3333333333333333,
              "#9c179e"
             ],
             [
              0.4444444444444444,
              "#bd3786"
             ],
             [
              0.5555555555555556,
              "#d8576b"
             ],
             [
              0.6666666666666666,
              "#ed7953"
             ],
             [
              0.7777777777777778,
              "#fb9f3a"
             ],
             [
              0.8888888888888888,
              "#fdca26"
             ],
             [
              1,
              "#f0f921"
             ]
            ],
            "type": "histogram2dcontour"
           }
          ],
          "mesh3d": [
           {
            "colorbar": {
             "outlinewidth": 0,
             "ticks": ""
            },
            "type": "mesh3d"
           }
          ],
          "parcoords": [
           {
            "line": {
             "colorbar": {
              "outlinewidth": 0,
              "ticks": ""
             }
            },
            "type": "parcoords"
           }
          ],
          "pie": [
           {
            "automargin": true,
            "type": "pie"
           }
          ],
          "scatter": [
           {
            "fillpattern": {
             "fillmode": "overlay",
             "size": 10,
             "solidity": 0.2
            },
            "type": "scatter"
           }
          ],
          "scatter3d": [
           {
            "line": {
             "colorbar": {
              "outlinewidth": 0,
              "ticks": ""
             }
            },
            "marker": {
             "colorbar": {
              "outlinewidth": 0,
              "ticks": ""
             }
            },
            "type": "scatter3d"
           }
          ],
          "scattercarpet": [
           {
            "marker": {
             "colorbar": {
              "outlinewidth": 0,
              "ticks": ""
             }
            },
            "type": "scattercarpet"
           }
          ],
          "scattergeo": [
           {
            "marker": {
             "colorbar": {
              "outlinewidth": 0,
              "ticks": ""
             }
            },
            "type": "scattergeo"
           }
          ],
          "scattergl": [
           {
            "marker": {
             "colorbar": {
              "outlinewidth": 0,
              "ticks": ""
             }
            },
            "type": "scattergl"
           }
          ],
          "scattermapbox": [
           {
            "marker": {
             "colorbar": {
              "outlinewidth": 0,
              "ticks": ""
             }
            },
            "type": "scattermapbox"
           }
          ],
          "scatterpolar": [
           {
            "marker": {
             "colorbar": {
              "outlinewidth": 0,
              "ticks": ""
             }
            },
            "type": "scatterpolar"
           }
          ],
          "scatterpolargl": [
           {
            "marker": {
             "colorbar": {
              "outlinewidth": 0,
              "ticks": ""
             }
            },
            "type": "scatterpolargl"
           }
          ],
          "scatterternary": [
           {
            "marker": {
             "colorbar": {
              "outlinewidth": 0,
              "ticks": ""
             }
            },
            "type": "scatterternary"
           }
          ],
          "surface": [
           {
            "colorbar": {
             "outlinewidth": 0,
             "ticks": ""
            },
            "colorscale": [
             [
              0,
              "#0d0887"
             ],
             [
              0.1111111111111111,
              "#46039f"
             ],
             [
              0.2222222222222222,
              "#7201a8"
             ],
             [
              0.3333333333333333,
              "#9c179e"
             ],
             [
              0.4444444444444444,
              "#bd3786"
             ],
             [
              0.5555555555555556,
              "#d8576b"
             ],
             [
              0.6666666666666666,
              "#ed7953"
             ],
             [
              0.7777777777777778,
              "#fb9f3a"
             ],
             [
              0.8888888888888888,
              "#fdca26"
             ],
             [
              1,
              "#f0f921"
             ]
            ],
            "type": "surface"
           }
          ],
          "table": [
           {
            "cells": {
             "fill": {
              "color": "#EBF0F8"
             },
             "line": {
              "color": "white"
             }
            },
            "header": {
             "fill": {
              "color": "#C8D4E3"
             },
             "line": {
              "color": "white"
             }
            },
            "type": "table"
           }
          ]
         },
         "layout": {
          "annotationdefaults": {
           "arrowcolor": "#2a3f5f",
           "arrowhead": 0,
           "arrowwidth": 1
          },
          "autotypenumbers": "strict",
          "coloraxis": {
           "colorbar": {
            "outlinewidth": 0,
            "ticks": ""
           }
          },
          "colorscale": {
           "diverging": [
            [
             0,
             "#8e0152"
            ],
            [
             0.1,
             "#c51b7d"
            ],
            [
             0.2,
             "#de77ae"
            ],
            [
             0.3,
             "#f1b6da"
            ],
            [
             0.4,
             "#fde0ef"
            ],
            [
             0.5,
             "#f7f7f7"
            ],
            [
             0.6,
             "#e6f5d0"
            ],
            [
             0.7,
             "#b8e186"
            ],
            [
             0.8,
             "#7fbc41"
            ],
            [
             0.9,
             "#4d9221"
            ],
            [
             1,
             "#276419"
            ]
           ],
           "sequential": [
            [
             0,
             "#0d0887"
            ],
            [
             0.1111111111111111,
             "#46039f"
            ],
            [
             0.2222222222222222,
             "#7201a8"
            ],
            [
             0.3333333333333333,
             "#9c179e"
            ],
            [
             0.4444444444444444,
             "#bd3786"
            ],
            [
             0.5555555555555556,
             "#d8576b"
            ],
            [
             0.6666666666666666,
             "#ed7953"
            ],
            [
             0.7777777777777778,
             "#fb9f3a"
            ],
            [
             0.8888888888888888,
             "#fdca26"
            ],
            [
             1,
             "#f0f921"
            ]
           ],
           "sequentialminus": [
            [
             0,
             "#0d0887"
            ],
            [
             0.1111111111111111,
             "#46039f"
            ],
            [
             0.2222222222222222,
             "#7201a8"
            ],
            [
             0.3333333333333333,
             "#9c179e"
            ],
            [
             0.4444444444444444,
             "#bd3786"
            ],
            [
             0.5555555555555556,
             "#d8576b"
            ],
            [
             0.6666666666666666,
             "#ed7953"
            ],
            [
             0.7777777777777778,
             "#fb9f3a"
            ],
            [
             0.8888888888888888,
             "#fdca26"
            ],
            [
             1,
             "#f0f921"
            ]
           ]
          },
          "colorway": [
           "#636efa",
           "#EF553B",
           "#00cc96",
           "#ab63fa",
           "#FFA15A",
           "#19d3f3",
           "#FF6692",
           "#B6E880",
           "#FF97FF",
           "#FECB52"
          ],
          "font": {
           "color": "#2a3f5f"
          },
          "geo": {
           "bgcolor": "white",
           "lakecolor": "white",
           "landcolor": "#E5ECF6",
           "showlakes": true,
           "showland": true,
           "subunitcolor": "white"
          },
          "hoverlabel": {
           "align": "left"
          },
          "hovermode": "closest",
          "mapbox": {
           "style": "light"
          },
          "paper_bgcolor": "white",
          "plot_bgcolor": "#E5ECF6",
          "polar": {
           "angularaxis": {
            "gridcolor": "white",
            "linecolor": "white",
            "ticks": ""
           },
           "bgcolor": "#E5ECF6",
           "radialaxis": {
            "gridcolor": "white",
            "linecolor": "white",
            "ticks": ""
           }
          },
          "scene": {
           "xaxis": {
            "backgroundcolor": "#E5ECF6",
            "gridcolor": "white",
            "gridwidth": 2,
            "linecolor": "white",
            "showbackground": true,
            "ticks": "",
            "zerolinecolor": "white"
           },
           "yaxis": {
            "backgroundcolor": "#E5ECF6",
            "gridcolor": "white",
            "gridwidth": 2,
            "linecolor": "white",
            "showbackground": true,
            "ticks": "",
            "zerolinecolor": "white"
           },
           "zaxis": {
            "backgroundcolor": "#E5ECF6",
            "gridcolor": "white",
            "gridwidth": 2,
            "linecolor": "white",
            "showbackground": true,
            "ticks": "",
            "zerolinecolor": "white"
           }
          },
          "shapedefaults": {
           "line": {
            "color": "#2a3f5f"
           }
          },
          "ternary": {
           "aaxis": {
            "gridcolor": "white",
            "linecolor": "white",
            "ticks": ""
           },
           "baxis": {
            "gridcolor": "white",
            "linecolor": "white",
            "ticks": ""
           },
           "bgcolor": "#E5ECF6",
           "caxis": {
            "gridcolor": "white",
            "linecolor": "white",
            "ticks": ""
           }
          },
          "title": {
           "x": 0.05
          },
          "xaxis": {
           "automargin": true,
           "gridcolor": "white",
           "linecolor": "white",
           "ticks": "",
           "title": {
            "standoff": 15
           },
           "zerolinecolor": "white",
           "zerolinewidth": 2
          },
          "yaxis": {
           "automargin": true,
           "gridcolor": "white",
           "linecolor": "white",
           "ticks": "",
           "title": {
            "standoff": 15
           },
           "zerolinecolor": "white",
           "zerolinewidth": 2
          }
         }
        },
        "title": {
         "text": "Residuals vs. Predictions"
        },
        "xaxis": {
         "anchor": "y",
         "domain": [
          0,
          0.7363
         ],
         "title": {
          "text": "prediction_label"
         }
        },
        "xaxis2": {
         "anchor": "y2",
         "domain": [
          0.7413,
          1
         ],
         "matches": "x2",
         "showgrid": true,
         "showline": false,
         "showticklabels": false,
         "ticks": ""
        },
        "yaxis": {
         "anchor": "x",
         "domain": [
          0,
          1
         ],
         "title": {
          "text": "standardized_residuals"
         }
        },
        "yaxis2": {
         "anchor": "x2",
         "domain": [
          0,
          1
         ],
         "matches": "y",
         "showgrid": true,
         "showticklabels": false
        }
       }
      },
      "text/html": [
       "<div>                            <div id=\"d2a9399e-1f6e-4e30-8d72-3e4833e7dc1e\" class=\"plotly-graph-div\" style=\"height:525px; width:100%;\"></div>            <script type=\"text/javascript\">                require([\"plotly\"], function(Plotly) {                    window.PLOTLYENV=window.PLOTLYENV || {};                                    if (document.getElementById(\"d2a9399e-1f6e-4e30-8d72-3e4833e7dc1e\")) {                    Plotly.newPlot(                        \"d2a9399e-1f6e-4e30-8d72-3e4833e7dc1e\",                        [{\"hovertemplate\":\"soil_type=Clay Dominant\\u003cbr\\u003eprediction_label=%{x}\\u003cbr\\u003estandardized_residuals=%{y}\\u003cextra\\u003e\\u003c\\u002fextra\\u003e\",\"legendgroup\":\"Clay Dominant\",\"marker\":{\"color\":\"#636efa\",\"symbol\":\"circle\"},\"mode\":\"markers\",\"name\":\"Clay Dominant\",\"orientation\":\"v\",\"showlegend\":true,\"x\":[102.17075168523426,3858.3344491629646,2326.711862829154,940.3044486118208,4833.920243871619,1606.9072728099468,4849.963972840398,2399.9164016263617,1402.7258299293155,5023.398728304678,4121.339356974152,2432.598041184661,4470.762016782005,2967.6183700283163,1985.8244320984018,393.6873156975606,4752.053710921977,7065.36375651176,6869.34082113443,6016.382738518791,3099.15187940601,6908.393711495163,3880.605012259879,8052.29400413316,5554.047695999176,1467.9905068613652,704.8064894089756,393.67144367998924,570.6932402499672,1610.4666637931011,5210.817013271293,1009.7698706434339,6080.43418189986,305.4627479109936,189.12254000875805,2223.060479841364,1839.2855960419786,4880.219989336049,2771.722335679372,8993.950610021906,4254.139530042213,912.2279723028626],\"xaxis\":\"x\",\"y\":[0.10718757984004063,0.6046542134687367,2.144803818869288,0.12959416135494814,0.7955879028561514,-0.4698905312918919,4.171050187053832,-1.1622533953429792,-0.6871435935266124,-0.047284043744483396,1.9044650926776512,0.865204248894011,2.619513276812443,0.2606008073520154,0.27150232890249143,-0.047074300987293705,-0.7965556945542388,-0.762750471765021,0.7362560661902658,0.267034550242766,-0.5900997015828551,2.7821143405341573,-2.256297098148558,-2.589717677876966,1.8033498194331006,0.3957061658797999,0.10738341907848155,0.3019562017242479,-0.045135919285423105,0.6790251313961008,0.6507843230068241,1.0996286704927467,0.06401240395184254,0.18984355199605987,0.008573857949728194,-0.39789087818926117,0.19530780987473803,3.7514767424865485,0.7728715609659034,1.4408125266407783,0.07856111937140106,-0.3699402867415168],\"yaxis\":\"y\",\"type\":\"scatter\"},{\"alignmentgroup\":\"True\",\"bingroup\":\"y\",\"hovertemplate\":\"soil_type=Clay Dominant\\u003cbr\\u003estandardized_residuals=%{y}\\u003cbr\\u003ecount=%{x}\\u003cextra\\u003e\\u003c\\u002fextra\\u003e\",\"legendgroup\":\"Clay Dominant\",\"marker\":{\"color\":\"#636efa\"},\"name\":\"Clay Dominant\",\"offsetgroup\":\"Clay Dominant\",\"opacity\":0.5,\"showlegend\":false,\"xaxis\":\"x2\",\"y\":[0.10718757984004063,0.6046542134687367,2.144803818869288,0.12959416135494814,0.7955879028561514,-0.4698905312918919,4.171050187053832,-1.1622533953429792,-0.6871435935266124,-0.047284043744483396,1.9044650926776512,0.865204248894011,2.619513276812443,0.2606008073520154,0.27150232890249143,-0.047074300987293705,-0.7965556945542388,-0.762750471765021,0.7362560661902658,0.267034550242766,-0.5900997015828551,2.7821143405341573,-2.256297098148558,-2.589717677876966,1.8033498194331006,0.3957061658797999,0.10738341907848155,0.3019562017242479,-0.045135919285423105,0.6790251313961008,0.6507843230068241,1.0996286704927467,0.06401240395184254,0.18984355199605987,0.008573857949728194,-0.39789087818926117,0.19530780987473803,3.7514767424865485,0.7728715609659034,1.4408125266407783,0.07856111937140106,-0.3699402867415168],\"yaxis\":\"y2\",\"type\":\"histogram\"},{\"hovertemplate\":\"soil_type=River Valleys\\u002fDeltas (River Sediments)\\u003cbr\\u003eprediction_label=%{x}\\u003cbr\\u003estandardized_residuals=%{y}\\u003cextra\\u003e\\u003c\\u002fextra\\u003e\",\"legendgroup\":\"River Valleys\\u002fDeltas (River Sediments)\",\"marker\":{\"color\":\"#EF553B\",\"symbol\":\"circle\"},\"mode\":\"markers\",\"name\":\"River Valleys\\u002fDeltas (River Sediments)\",\"orientation\":\"v\",\"showlegend\":true,\"x\":[3909.7704871114506,6920.920249130324,5268.208083240094,5897.937025079799,4435.815738083743,5795.85333626691,2256.100621524896,2043.780415821033,2737.385426378707,9016.523576894417,3536.359884333109,1552.4975766685916,2565.4349745077,7268.441549259022,1956.4130366664212,4361.574067220727,2735.0654534078085,4950.439051173166,5322.941802880912,3526.810497421209,1978.6576126423251,2263.260504176783,5077.396011182047,3857.1356519534484,5493.089427639241,7892.356812536884,1667.91238774261,2335.6024216704027,956.6154533581798,2020.4027677777926,4180.952361207191,2370.148299614138,7322.05767228667,3752.622115837646,293.30295869800506,6076.583043730741,1647.5365707111987,1027.7243429452365,3437.833188695071,3054.8356663413815,7419.856289871027,3522.063720092318,7164.924471631425],\"xaxis\":\"x\",\"y\":[0.11086173350641913,2.0652957993390353,-0.11140544785525983,1.5664649530011903,-1.2415624129233056,0.12695827078031854,-0.849983062559264,-0.13109234426606745,-1.2587918095111483,-0.8342342882418152,-0.08175671352877935,0.24437950589482976,0.0025816004918747934,0.1491570483615328,-0.06213943812243383,-0.7817328386361185,-0.163010758863268,0.9327347566248745,0.022922047986947438,-0.24605553818057577,1.0551708669291096,-0.12289745222728114,-0.4911822211201383,-0.04238950291399794,-0.6413264696616281,1.7512096225860998,0.0594371846150378,-0.4257259883128896,0.5685772547996735,-0.8121043393671602,-1.8853385417258366,0.20436501326851347,0.4494984934670181,0.053818527577218785,0.046552674813028404,2.2198498405485276,-0.6405752941423192,0.3009800903324007,-0.2906674117027766,0.7837843909066909,0.1184812129425209,-0.024742563847081497,-1.3458269367592544],\"yaxis\":\"y\",\"type\":\"scatter\"},{\"alignmentgroup\":\"True\",\"bingroup\":\"y\",\"hovertemplate\":\"soil_type=River Valleys\\u002fDeltas (River Sediments)\\u003cbr\\u003estandardized_residuals=%{y}\\u003cbr\\u003ecount=%{x}\\u003cextra\\u003e\\u003c\\u002fextra\\u003e\",\"legendgroup\":\"River Valleys\\u002fDeltas (River Sediments)\",\"marker\":{\"color\":\"#EF553B\"},\"name\":\"River Valleys\\u002fDeltas (River Sediments)\",\"offsetgroup\":\"River Valleys\\u002fDeltas (River Sediments)\",\"opacity\":0.5,\"showlegend\":false,\"xaxis\":\"x2\",\"y\":[0.11086173350641913,2.0652957993390353,-0.11140544785525983,1.5664649530011903,-1.2415624129233056,0.12695827078031854,-0.849983062559264,-0.13109234426606745,-1.2587918095111483,-0.8342342882418152,-0.08175671352877935,0.24437950589482976,0.0025816004918747934,0.1491570483615328,-0.06213943812243383,-0.7817328386361185,-0.163010758863268,0.9327347566248745,0.022922047986947438,-0.24605553818057577,1.0551708669291096,-0.12289745222728114,-0.4911822211201383,-0.04238950291399794,-0.6413264696616281,1.7512096225860998,0.0594371846150378,-0.4257259883128896,0.5685772547996735,-0.8121043393671602,-1.8853385417258366,0.20436501326851347,0.4494984934670181,0.053818527577218785,0.046552674813028404,2.2198498405485276,-0.6405752941423192,0.3009800903324007,-0.2906674117027766,0.7837843909066909,0.1184812129425209,-0.024742563847081497,-1.3458269367592544],\"yaxis\":\"y2\",\"type\":\"histogram\"},{\"hovertemplate\":\"soil_type=Cold Climates (Permafrost, Rock Outcrops)\\u003cbr\\u003eprediction_label=%{x}\\u003cbr\\u003estandardized_residuals=%{y}\\u003cextra\\u003e\\u003c\\u002fextra\\u003e\",\"legendgroup\":\"Cold Climates (Permafrost, Rock Outcrops)\",\"marker\":{\"color\":\"#00cc96\",\"symbol\":\"circle\"},\"mode\":\"markers\",\"name\":\"Cold Climates (Permafrost, Rock Outcrops)\",\"orientation\":\"v\",\"showlegend\":true,\"x\":[6760.0144776494335,391.4180175035354],\"xaxis\":\"x\",\"y\":[-0.8457225120386594,-0.16639419407157024],\"yaxis\":\"y\",\"type\":\"scatter\"},{\"alignmentgroup\":\"True\",\"bingroup\":\"y\",\"hovertemplate\":\"soil_type=Cold Climates (Permafrost, Rock Outcrops)\\u003cbr\\u003estandardized_residuals=%{y}\\u003cbr\\u003ecount=%{x}\\u003cextra\\u003e\\u003c\\u002fextra\\u003e\",\"legendgroup\":\"Cold Climates (Permafrost, Rock Outcrops)\",\"marker\":{\"color\":\"#00cc96\"},\"name\":\"Cold Climates (Permafrost, Rock Outcrops)\",\"offsetgroup\":\"Cold Climates (Permafrost, Rock Outcrops)\",\"opacity\":0.5,\"showlegend\":false,\"xaxis\":\"x2\",\"y\":[-0.8457225120386594,-0.16639419407157024],\"yaxis\":\"y2\",\"type\":\"histogram\"},{\"hovertemplate\":\"soil_type=Fertile\\u002fAgricultural (Grasslands, Food Bearing, Pasture)\\u003cbr\\u003eprediction_label=%{x}\\u003cbr\\u003estandardized_residuals=%{y}\\u003cextra\\u003e\\u003c\\u002fextra\\u003e\",\"legendgroup\":\"Fertile\\u002fAgricultural (Grasslands, Food Bearing, Pasture)\",\"marker\":{\"color\":\"#ab63fa\",\"symbol\":\"circle\"},\"mode\":\"markers\",\"name\":\"Fertile\\u002fAgricultural (Grasslands, Food Bearing, Pasture)\",\"orientation\":\"v\",\"showlegend\":true,\"x\":[2349.239536122795,711.2659472678106,4709.619327117738,1385.8422258624107,1160.8819740647707,1984.646631822834,209.79699774698219,712.5899023329719,1266.8177926573169,1985.32896604746,4220.215656449808,1177.09158857903,2037.9995264626702,5196.764660166508,892.525179472119,1072.587774437639,2477.568581498402,1548.8883529177147,925.7097077597173,559.6767102363265,1014.6010386514137,3654.6368023481477,2129.8473303427772,2184.3856253609865,8427.881808975493,6623.072219015205,4896.070492625913,798.6157997011635,7580.593788473695,2130.0428711993322,4021.556856527583,534.0442335517316,242.8594913283437,1184.2029729575074,907.647891863835,511.25012182155956,796.1856004486104,1945.3430808330365,5350.305891165746,874.6259587450197,3322.1522572646472,2516.580677316223,2991.1267819448067,4017.676583449817,3089.845584975268,530.0959489040278,2276.853202040228,529.3405672772227,2252.438006613417,953.4646920086276,929.8792767142431,532.4827107811745,2390.5820074790686,1070.1224767475255,1951.678404739919,1114.7082816758182,2079.132961976022,1618.9009414356337,3323.212787077543,2121.4795657781824,5201.343920562827,3659.4499656355856,745.4051572946913,353.2571685693962,668.0533491689931],\"xaxis\":\"x\",\"y\":[-0.5655264318227493,-0.1933616346954348,-3.0164742701569693,-0.4157258535111172,0.19416865131480918,0.5635569241574094,0.08744701023847673,-0.10637569217584221,-0.46500792249082595,-1.2697822583585578,-0.7208270431355275,0.158857161404513,-0.3029452402087591,-0.15097933301366367,-0.3066265274918681,-0.39991567639567277,0.011432170425808566,0.7208426459222813,-0.026447850460265876,0.18624407601428858,-0.45188192274730365,-2.130048286657006,-0.8469166891395016,-0.5239803879166212,-0.7803518294959371,-2.9729173560587703,-0.23511010026048043,-0.20708040017746085,0.433241193754502,0.26805321106105906,-0.08261965302651933,-0.26337142992880996,0.14705563369606162,-0.3890428681078866,-0.4289947432626206,-0.31920804408682324,-0.2087831486189691,-0.47771081625618084,0.9439845150264756,0.2439953470089954,-0.8560837817898093,-0.21814334935976062,-1.1753838458508226,0.338544548268741,0.1254756601104307,0.024930971110588195,-0.4181793492777123,0.04335050487779172,-0.2165056908960581,0.47691763602095505,-0.37664977694650476,-0.19744453381502403,0.6106396489707562,-0.2029518320718047,-0.35949386361499547,-0.43790689325302995,-0.03825693207422545,1.512254169409071,-1.0913274876964663,0.13339953545093663,-0.05358846693352071,-1.6484812676918918,0.07623203932735458,-0.1491836808600407,-0.1747198869047541],\"yaxis\":\"y\",\"type\":\"scatter\"},{\"alignmentgroup\":\"True\",\"bingroup\":\"y\",\"hovertemplate\":\"soil_type=Fertile\\u002fAgricultural (Grasslands, Food Bearing, Pasture)\\u003cbr\\u003estandardized_residuals=%{y}\\u003cbr\\u003ecount=%{x}\\u003cextra\\u003e\\u003c\\u002fextra\\u003e\",\"legendgroup\":\"Fertile\\u002fAgricultural (Grasslands, Food Bearing, Pasture)\",\"marker\":{\"color\":\"#ab63fa\"},\"name\":\"Fertile\\u002fAgricultural (Grasslands, Food Bearing, Pasture)\",\"offsetgroup\":\"Fertile\\u002fAgricultural (Grasslands, Food Bearing, Pasture)\",\"opacity\":0.5,\"showlegend\":false,\"xaxis\":\"x2\",\"y\":[-0.5655264318227493,-0.1933616346954348,-3.0164742701569693,-0.4157258535111172,0.19416865131480918,0.5635569241574094,0.08744701023847673,-0.10637569217584221,-0.46500792249082595,-1.2697822583585578,-0.7208270431355275,0.158857161404513,-0.3029452402087591,-0.15097933301366367,-0.3066265274918681,-0.39991567639567277,0.011432170425808566,0.7208426459222813,-0.026447850460265876,0.18624407601428858,-0.45188192274730365,-2.130048286657006,-0.8469166891395016,-0.5239803879166212,-0.7803518294959371,-2.9729173560587703,-0.23511010026048043,-0.20708040017746085,0.433241193754502,0.26805321106105906,-0.08261965302651933,-0.26337142992880996,0.14705563369606162,-0.3890428681078866,-0.4289947432626206,-0.31920804408682324,-0.2087831486189691,-0.47771081625618084,0.9439845150264756,0.2439953470089954,-0.8560837817898093,-0.21814334935976062,-1.1753838458508226,0.338544548268741,0.1254756601104307,0.024930971110588195,-0.4181793492777123,0.04335050487779172,-0.2165056908960581,0.47691763602095505,-0.37664977694650476,-0.19744453381502403,0.6106396489707562,-0.2029518320718047,-0.35949386361499547,-0.43790689325302995,-0.03825693207422545,1.512254169409071,-1.0913274876964663,0.13339953545093663,-0.05358846693352071,-1.6484812676918918,0.07623203932735458,-0.1491836808600407,-0.1747198869047541],\"yaxis\":\"y2\",\"type\":\"histogram\"},{\"hovertemplate\":\"soil_type=Saline\\u002fArid (Desert Soils, High Salt Content)\\u003cbr\\u003eprediction_label=%{x}\\u003cbr\\u003estandardized_residuals=%{y}\\u003cextra\\u003e\\u003c\\u002fextra\\u003e\",\"legendgroup\":\"Saline\\u002fArid (Desert Soils, High Salt Content)\",\"marker\":{\"color\":\"#FFA15A\",\"symbol\":\"circle\"},\"mode\":\"markers\",\"name\":\"Saline\\u002fArid (Desert Soils, High Salt Content)\",\"orientation\":\"v\",\"showlegend\":true,\"x\":[4830.721371054077],\"xaxis\":\"x\",\"y\":[0.2584397006690281],\"yaxis\":\"y\",\"type\":\"scatter\"},{\"alignmentgroup\":\"True\",\"bingroup\":\"y\",\"hovertemplate\":\"soil_type=Saline\\u002fArid (Desert Soils, High Salt Content)\\u003cbr\\u003estandardized_residuals=%{y}\\u003cbr\\u003ecount=%{x}\\u003cextra\\u003e\\u003c\\u002fextra\\u003e\",\"legendgroup\":\"Saline\\u002fArid (Desert Soils, High Salt Content)\",\"marker\":{\"color\":\"#FFA15A\"},\"name\":\"Saline\\u002fArid (Desert Soils, High Salt Content)\",\"offsetgroup\":\"Saline\\u002fArid (Desert Soils, High Salt Content)\",\"opacity\":0.5,\"showlegend\":false,\"xaxis\":\"x2\",\"y\":[0.2584397006690281],\"yaxis\":\"y2\",\"type\":\"histogram\"}],                        {\"template\":{\"data\":{\"histogram2dcontour\":[{\"type\":\"histogram2dcontour\",\"colorbar\":{\"outlinewidth\":0,\"ticks\":\"\"},\"colorscale\":[[0.0,\"#0d0887\"],[0.1111111111111111,\"#46039f\"],[0.2222222222222222,\"#7201a8\"],[0.3333333333333333,\"#9c179e\"],[0.4444444444444444,\"#bd3786\"],[0.5555555555555556,\"#d8576b\"],[0.6666666666666666,\"#ed7953\"],[0.7777777777777778,\"#fb9f3a\"],[0.8888888888888888,\"#fdca26\"],[1.0,\"#f0f921\"]]}],\"choropleth\":[{\"type\":\"choropleth\",\"colorbar\":{\"outlinewidth\":0,\"ticks\":\"\"}}],\"histogram2d\":[{\"type\":\"histogram2d\",\"colorbar\":{\"outlinewidth\":0,\"ticks\":\"\"},\"colorscale\":[[0.0,\"#0d0887\"],[0.1111111111111111,\"#46039f\"],[0.2222222222222222,\"#7201a8\"],[0.3333333333333333,\"#9c179e\"],[0.4444444444444444,\"#bd3786\"],[0.5555555555555556,\"#d8576b\"],[0.6666666666666666,\"#ed7953\"],[0.7777777777777778,\"#fb9f3a\"],[0.8888888888888888,\"#fdca26\"],[1.0,\"#f0f921\"]]}],\"heatmap\":[{\"type\":\"heatmap\",\"colorbar\":{\"outlinewidth\":0,\"ticks\":\"\"},\"colorscale\":[[0.0,\"#0d0887\"],[0.1111111111111111,\"#46039f\"],[0.2222222222222222,\"#7201a8\"],[0.3333333333333333,\"#9c179e\"],[0.4444444444444444,\"#bd3786\"],[0.5555555555555556,\"#d8576b\"],[0.6666666666666666,\"#ed7953\"],[0.7777777777777778,\"#fb9f3a\"],[0.8888888888888888,\"#fdca26\"],[1.0,\"#f0f921\"]]}],\"heatmapgl\":[{\"type\":\"heatmapgl\",\"colorbar\":{\"outlinewidth\":0,\"ticks\":\"\"},\"colorscale\":[[0.0,\"#0d0887\"],[0.1111111111111111,\"#46039f\"],[0.2222222222222222,\"#7201a8\"],[0.3333333333333333,\"#9c179e\"],[0.4444444444444444,\"#bd3786\"],[0.5555555555555556,\"#d8576b\"],[0.6666666666666666,\"#ed7953\"],[0.7777777777777778,\"#fb9f3a\"],[0.8888888888888888,\"#fdca26\"],[1.0,\"#f0f921\"]]}],\"contourcarpet\":[{\"type\":\"contourcarpet\",\"colorbar\":{\"outlinewidth\":0,\"ticks\":\"\"}}],\"contour\":[{\"type\":\"contour\",\"colorbar\":{\"outlinewidth\":0,\"ticks\":\"\"},\"colorscale\":[[0.0,\"#0d0887\"],[0.1111111111111111,\"#46039f\"],[0.2222222222222222,\"#7201a8\"],[0.3333333333333333,\"#9c179e\"],[0.4444444444444444,\"#bd3786\"],[0.5555555555555556,\"#d8576b\"],[0.6666666666666666,\"#ed7953\"],[0.7777777777777778,\"#fb9f3a\"],[0.8888888888888888,\"#fdca26\"],[1.0,\"#f0f921\"]]}],\"surface\":[{\"type\":\"surface\",\"colorbar\":{\"outlinewidth\":0,\"ticks\":\"\"},\"colorscale\":[[0.0,\"#0d0887\"],[0.1111111111111111,\"#46039f\"],[0.2222222222222222,\"#7201a8\"],[0.3333333333333333,\"#9c179e\"],[0.4444444444444444,\"#bd3786\"],[0.5555555555555556,\"#d8576b\"],[0.6666666666666666,\"#ed7953\"],[0.7777777777777778,\"#fb9f3a\"],[0.8888888888888888,\"#fdca26\"],[1.0,\"#f0f921\"]]}],\"mesh3d\":[{\"type\":\"mesh3d\",\"colorbar\":{\"outlinewidth\":0,\"ticks\":\"\"}}],\"scatter\":[{\"fillpattern\":{\"fillmode\":\"overlay\",\"size\":10,\"solidity\":0.2},\"type\":\"scatter\"}],\"parcoords\":[{\"type\":\"parcoords\",\"line\":{\"colorbar\":{\"outlinewidth\":0,\"ticks\":\"\"}}}],\"scatterpolargl\":[{\"type\":\"scatterpolargl\",\"marker\":{\"colorbar\":{\"outlinewidth\":0,\"ticks\":\"\"}}}],\"bar\":[{\"error_x\":{\"color\":\"#2a3f5f\"},\"error_y\":{\"color\":\"#2a3f5f\"},\"marker\":{\"line\":{\"color\":\"#E5ECF6\",\"width\":0.5},\"pattern\":{\"fillmode\":\"overlay\",\"size\":10,\"solidity\":0.2}},\"type\":\"bar\"}],\"scattergeo\":[{\"type\":\"scattergeo\",\"marker\":{\"colorbar\":{\"outlinewidth\":0,\"ticks\":\"\"}}}],\"scatterpolar\":[{\"type\":\"scatterpolar\",\"marker\":{\"colorbar\":{\"outlinewidth\":0,\"ticks\":\"\"}}}],\"histogram\":[{\"marker\":{\"pattern\":{\"fillmode\":\"overlay\",\"size\":10,\"solidity\":0.2}},\"type\":\"histogram\"}],\"scattergl\":[{\"type\":\"scattergl\",\"marker\":{\"colorbar\":{\"outlinewidth\":0,\"ticks\":\"\"}}}],\"scatter3d\":[{\"type\":\"scatter3d\",\"line\":{\"colorbar\":{\"outlinewidth\":0,\"ticks\":\"\"}},\"marker\":{\"colorbar\":{\"outlinewidth\":0,\"ticks\":\"\"}}}],\"scattermapbox\":[{\"type\":\"scattermapbox\",\"marker\":{\"colorbar\":{\"outlinewidth\":0,\"ticks\":\"\"}}}],\"scatterternary\":[{\"type\":\"scatterternary\",\"marker\":{\"colorbar\":{\"outlinewidth\":0,\"ticks\":\"\"}}}],\"scattercarpet\":[{\"type\":\"scattercarpet\",\"marker\":{\"colorbar\":{\"outlinewidth\":0,\"ticks\":\"\"}}}],\"carpet\":[{\"aaxis\":{\"endlinecolor\":\"#2a3f5f\",\"gridcolor\":\"white\",\"linecolor\":\"white\",\"minorgridcolor\":\"white\",\"startlinecolor\":\"#2a3f5f\"},\"baxis\":{\"endlinecolor\":\"#2a3f5f\",\"gridcolor\":\"white\",\"linecolor\":\"white\",\"minorgridcolor\":\"white\",\"startlinecolor\":\"#2a3f5f\"},\"type\":\"carpet\"}],\"table\":[{\"cells\":{\"fill\":{\"color\":\"#EBF0F8\"},\"line\":{\"color\":\"white\"}},\"header\":{\"fill\":{\"color\":\"#C8D4E3\"},\"line\":{\"color\":\"white\"}},\"type\":\"table\"}],\"barpolar\":[{\"marker\":{\"line\":{\"color\":\"#E5ECF6\",\"width\":0.5},\"pattern\":{\"fillmode\":\"overlay\",\"size\":10,\"solidity\":0.2}},\"type\":\"barpolar\"}],\"pie\":[{\"automargin\":true,\"type\":\"pie\"}]},\"layout\":{\"autotypenumbers\":\"strict\",\"colorway\":[\"#636efa\",\"#EF553B\",\"#00cc96\",\"#ab63fa\",\"#FFA15A\",\"#19d3f3\",\"#FF6692\",\"#B6E880\",\"#FF97FF\",\"#FECB52\"],\"font\":{\"color\":\"#2a3f5f\"},\"hovermode\":\"closest\",\"hoverlabel\":{\"align\":\"left\"},\"paper_bgcolor\":\"white\",\"plot_bgcolor\":\"#E5ECF6\",\"polar\":{\"bgcolor\":\"#E5ECF6\",\"angularaxis\":{\"gridcolor\":\"white\",\"linecolor\":\"white\",\"ticks\":\"\"},\"radialaxis\":{\"gridcolor\":\"white\",\"linecolor\":\"white\",\"ticks\":\"\"}},\"ternary\":{\"bgcolor\":\"#E5ECF6\",\"aaxis\":{\"gridcolor\":\"white\",\"linecolor\":\"white\",\"ticks\":\"\"},\"baxis\":{\"gridcolor\":\"white\",\"linecolor\":\"white\",\"ticks\":\"\"},\"caxis\":{\"gridcolor\":\"white\",\"linecolor\":\"white\",\"ticks\":\"\"}},\"coloraxis\":{\"colorbar\":{\"outlinewidth\":0,\"ticks\":\"\"}},\"colorscale\":{\"sequential\":[[0.0,\"#0d0887\"],[0.1111111111111111,\"#46039f\"],[0.2222222222222222,\"#7201a8\"],[0.3333333333333333,\"#9c179e\"],[0.4444444444444444,\"#bd3786\"],[0.5555555555555556,\"#d8576b\"],[0.6666666666666666,\"#ed7953\"],[0.7777777777777778,\"#fb9f3a\"],[0.8888888888888888,\"#fdca26\"],[1.0,\"#f0f921\"]],\"sequentialminus\":[[0.0,\"#0d0887\"],[0.1111111111111111,\"#46039f\"],[0.2222222222222222,\"#7201a8\"],[0.3333333333333333,\"#9c179e\"],[0.4444444444444444,\"#bd3786\"],[0.5555555555555556,\"#d8576b\"],[0.6666666666666666,\"#ed7953\"],[0.7777777777777778,\"#fb9f3a\"],[0.8888888888888888,\"#fdca26\"],[1.0,\"#f0f921\"]],\"diverging\":[[0,\"#8e0152\"],[0.1,\"#c51b7d\"],[0.2,\"#de77ae\"],[0.3,\"#f1b6da\"],[0.4,\"#fde0ef\"],[0.5,\"#f7f7f7\"],[0.6,\"#e6f5d0\"],[0.7,\"#b8e186\"],[0.8,\"#7fbc41\"],[0.9,\"#4d9221\"],[1,\"#276419\"]]},\"xaxis\":{\"gridcolor\":\"white\",\"linecolor\":\"white\",\"ticks\":\"\",\"title\":{\"standoff\":15},\"zerolinecolor\":\"white\",\"automargin\":true,\"zerolinewidth\":2},\"yaxis\":{\"gridcolor\":\"white\",\"linecolor\":\"white\",\"ticks\":\"\",\"title\":{\"standoff\":15},\"zerolinecolor\":\"white\",\"automargin\":true,\"zerolinewidth\":2},\"scene\":{\"xaxis\":{\"backgroundcolor\":\"#E5ECF6\",\"gridcolor\":\"white\",\"linecolor\":\"white\",\"showbackground\":true,\"ticks\":\"\",\"zerolinecolor\":\"white\",\"gridwidth\":2},\"yaxis\":{\"backgroundcolor\":\"#E5ECF6\",\"gridcolor\":\"white\",\"linecolor\":\"white\",\"showbackground\":true,\"ticks\":\"\",\"zerolinecolor\":\"white\",\"gridwidth\":2},\"zaxis\":{\"backgroundcolor\":\"#E5ECF6\",\"gridcolor\":\"white\",\"linecolor\":\"white\",\"showbackground\":true,\"ticks\":\"\",\"zerolinecolor\":\"white\",\"gridwidth\":2}},\"shapedefaults\":{\"line\":{\"color\":\"#2a3f5f\"}},\"annotationdefaults\":{\"arrowcolor\":\"#2a3f5f\",\"arrowhead\":0,\"arrowwidth\":1},\"geo\":{\"bgcolor\":\"white\",\"landcolor\":\"#E5ECF6\",\"subunitcolor\":\"white\",\"showland\":true,\"showlakes\":true,\"lakecolor\":\"white\"},\"title\":{\"x\":0.05},\"mapbox\":{\"style\":\"light\"}}},\"xaxis\":{\"anchor\":\"y\",\"domain\":[0.0,0.7363],\"title\":{\"text\":\"prediction_label\"}},\"yaxis\":{\"anchor\":\"x\",\"domain\":[0.0,1.0],\"title\":{\"text\":\"standardized_residuals\"}},\"xaxis2\":{\"anchor\":\"y2\",\"domain\":[0.7413,1.0],\"matches\":\"x2\",\"showticklabels\":false,\"showline\":false,\"ticks\":\"\",\"showgrid\":true},\"yaxis2\":{\"anchor\":\"x2\",\"domain\":[0.0,1.0],\"matches\":\"y\",\"showticklabels\":false,\"showgrid\":true},\"legend\":{\"title\":{\"text\":\"soil_type\"},\"tracegroupgap\":0},\"title\":{\"text\":\"Residuals vs. Predictions\"},\"barmode\":\"overlay\"},                        {\"responsive\": true}                    ).then(function(){\n",
       "                            \n",
       "var gd = document.getElementById('d2a9399e-1f6e-4e30-8d72-3e4833e7dc1e');\n",
       "var x = new MutationObserver(function (mutations, observer) {{\n",
       "        var display = window.getComputedStyle(gd).display;\n",
       "        if (!display || display === 'none') {{\n",
       "            console.log([gd, 'removed!']);\n",
       "            Plotly.purge(gd);\n",
       "            observer.disconnect();\n",
       "        }}\n",
       "}});\n",
       "\n",
       "// Listen for the removal of the full notebook cells\n",
       "var notebookContainer = gd.closest('#notebook-container');\n",
       "if (notebookContainer) {{\n",
       "    x.observe(notebookContainer, {childList: true});\n",
       "}}\n",
       "\n",
       "// Listen for the clearing of the current output cell\n",
       "var outputEl = gd.closest('.output');\n",
       "if (outputEl) {{\n",
       "    x.observe(outputEl, {childList: true});\n",
       "}}\n",
       "\n",
       "                        })                };                });            </script>        </div>"
      ]
     },
     "metadata": {},
     "output_type": "display_data"
    }
   ],
   "source": [
    "fig = px.scatter(predictions,color = 'soil_type', x='prediction_label', y='standardized_residuals', \n",
    "                title=\"Residuals vs. Predictions\",marginal_y=\"histogram\")\n",
    "fig.show()"
   ]
  },
  {
   "cell_type": "markdown",
   "id": "dba4858b",
   "metadata": {},
   "source": [
    "There doesn't appear to be a specific trend within the different soil types. This is a good thing as we want the residuals to be randomly scattered around zero, however I did expect specific soil types to be more difficult to build in. It's possible this constraint is still valid, however it's not showing in the data."
   ]
  },
  {
   "cell_type": "markdown",
   "id": "ae3d2967",
   "metadata": {},
   "source": [
    "##### Number of Stations"
   ]
  },
  {
   "cell_type": "code",
   "execution_count": 23,
   "id": "e1bfb8b4",
   "metadata": {},
   "outputs": [
    {
     "data": {
      "application/vnd.plotly.v1+json": {
       "config": {
        "plotlyServerURL": "https://plot.ly"
       },
       "data": [
        {
         "alignmentgroup": "True",
         "hovertemplate": "stations=%{x}<br>standardized_residuals=%{y}<extra></extra>",
         "legendgroup": "",
         "marker": {
          "color": "#636efa"
         },
         "name": "",
         "notched": false,
         "offsetgroup": "",
         "orientation": "v",
         "showlegend": false,
         "type": "box",
         "x": [
          2,
          7,
          13,
          24,
          28,
          12,
          7,
          22,
          11,
          4,
          7,
          2,
          7,
          26,
          21,
          3,
          12,
          8,
          10,
          3,
          10,
          10,
          5,
          3,
          28,
          13,
          8,
          29,
          18,
          5,
          34,
          9,
          4,
          9,
          4,
          32,
          10,
          3,
          13,
          33,
          17,
          7,
          8,
          1,
          24,
          9,
          15,
          8,
          22,
          7,
          18,
          20,
          20,
          16,
          4,
          4,
          11,
          25,
          24,
          12,
          6,
          6,
          29,
          3,
          8,
          18,
          3,
          15,
          24,
          9,
          17,
          3,
          13,
          9,
          21,
          8,
          20,
          3,
          22,
          26,
          37,
          5,
          16,
          10,
          10,
          5,
          27,
          9,
          16,
          10,
          4,
          2,
          4,
          1,
          33,
          4,
          12,
          4,
          4,
          1,
          2,
          14,
          1,
          6,
          1,
          10,
          25,
          8,
          4,
          4,
          4,
          10,
          18,
          16,
          11,
          16,
          32,
          11,
          2,
          12,
          4,
          4,
          23,
          10,
          1,
          4,
          9,
          3,
          2,
          4,
          7,
          4,
          20,
          12,
          18,
          9,
          2,
          12,
          1,
          15,
          3,
          22,
          12,
          23,
          9,
          27,
          21,
          23,
          8,
          8,
          16,
          12,
          6
         ],
         "x0": " ",
         "xaxis": "x",
         "y": [
          0.10718757984004063,
          0.11086173350641913,
          2.0652957993390353,
          -0.11140544785525983,
          -0.8457225120386594,
          0.6046542134687367,
          -0.5655264318227493,
          1.5664649530011903,
          -1.2415624129233056,
          -0.1933616346954348,
          2.144803818869288,
          0.12959416135494814,
          -3.0164742701569693,
          0.12695827078031854,
          0.7955879028561514,
          -0.849983062559264,
          -0.4157258535111172,
          -0.13109234426606745,
          0.19416865131480918,
          -0.4698905312918919,
          -1.2587918095111483,
          0.5635569241574094,
          4.171050187053832,
          0.08744701023847673,
          -0.8342342882418152,
          -1.1622533953429792,
          -0.6871435935266124,
          -0.047284043744483396,
          1.9044650926776512,
          -0.16639419407157024,
          0.2584397006690281,
          0.865204248894011,
          -0.10637569217584221,
          -0.08175671352877935,
          0.24437950589482976,
          2.619513276812443,
          0.0025816004918747934,
          -0.46500792249082595,
          0.2606008073520154,
          -1.2697822583585578,
          -0.7208270431355275,
          0.27150232890249143,
          0.158857161404513,
          -0.047074300987293705,
          0.1491570483615328,
          -0.06213943812243383,
          -0.7817328386361185,
          -0.3029452402087591,
          -0.15097933301366367,
          -0.163010758863268,
          -0.7965556945542388,
          0.9327347566248745,
          0.022922047986947438,
          -0.24605553818057577,
          -0.3066265274918681,
          -0.39991567639567277,
          0.011432170425808566,
          -0.762750471765021,
          0.7362560661902658,
          1.0551708669291096,
          0.7208426459222813,
          -0.12289745222728114,
          0.267034550242766,
          -0.026447850460265876,
          -0.5900997015828551,
          -0.4911822211201383,
          0.18624407601428858,
          -0.04238950291399794,
          -0.6413264696616281,
          -0.45188192274730365,
          1.7512096225860998,
          0.0594371846150378,
          -2.130048286657006,
          -0.4257259883128896,
          2.7821143405341573,
          -0.8469166891395016,
          -0.5239803879166212,
          0.5685772547996735,
          -2.256297098148558,
          -0.7803518294959371,
          -2.9729173560587703,
          -0.8121043393671602,
          -0.23511010026048043,
          -2.589717677876966,
          -0.20708040017746085,
          -1.8853385417258366,
          0.433241193754502,
          0.26805321106105906,
          -0.08261965302651933,
          0.20436501326851347,
          1.8033498194331006,
          -0.26337142992880996,
          0.3957061658797999,
          0.14705563369606162,
          0.4494984934670181,
          0.10738341907848155,
          0.053818527577218785,
          -0.3890428681078866,
          -0.4289947432626206,
          0.046552674813028404,
          -0.31920804408682324,
          -0.2087831486189691,
          0.3019562017242479,
          -0.47771081625618084,
          -0.045135919285423105,
          0.6790251313961008,
          0.9439845150264756,
          2.2198498405485276,
          -0.6405752941423192,
          0.3009800903324007,
          0.2439953470089954,
          -0.2906674117027766,
          -0.8560837817898093,
          -0.21814334935976062,
          -1.1753838458508226,
          0.338544548268741,
          0.6507843230068241,
          0.1254756601104307,
          0.024930971110588195,
          -0.4181793492777123,
          0.04335050487779172,
          1.0996286704927467,
          0.06401240395184254,
          -0.2165056908960581,
          0.18984355199605987,
          0.008573857949728194,
          0.7837843909066909,
          0.47691763602095505,
          -0.37664977694650476,
          -0.19744453381502403,
          -0.39789087818926117,
          0.19530780987473803,
          3.7514767424865485,
          0.6106396489707562,
          0.1184812129425209,
          -0.024742563847081497,
          -0.2029518320718047,
          -0.35949386361499547,
          -0.43790689325302995,
          -0.03825693207422545,
          1.512254169409071,
          -1.0913274876964663,
          0.13339953545093663,
          -0.05358846693352071,
          0.7728715609659034,
          1.4408125266407783,
          -1.3458269367592544,
          -1.6484812676918918,
          0.07856111937140106,
          0.07623203932735458,
          -0.3699402867415168,
          -0.1491836808600407,
          -0.1747198869047541
         ],
         "y0": " ",
         "yaxis": "y"
        }
       ],
       "layout": {
        "boxmode": "group",
        "legend": {
         "tracegroupgap": 0
        },
        "template": {
         "data": {
          "bar": [
           {
            "error_x": {
             "color": "#2a3f5f"
            },
            "error_y": {
             "color": "#2a3f5f"
            },
            "marker": {
             "line": {
              "color": "#E5ECF6",
              "width": 0.5
             },
             "pattern": {
              "fillmode": "overlay",
              "size": 10,
              "solidity": 0.2
             }
            },
            "type": "bar"
           }
          ],
          "barpolar": [
           {
            "marker": {
             "line": {
              "color": "#E5ECF6",
              "width": 0.5
             },
             "pattern": {
              "fillmode": "overlay",
              "size": 10,
              "solidity": 0.2
             }
            },
            "type": "barpolar"
           }
          ],
          "carpet": [
           {
            "aaxis": {
             "endlinecolor": "#2a3f5f",
             "gridcolor": "white",
             "linecolor": "white",
             "minorgridcolor": "white",
             "startlinecolor": "#2a3f5f"
            },
            "baxis": {
             "endlinecolor": "#2a3f5f",
             "gridcolor": "white",
             "linecolor": "white",
             "minorgridcolor": "white",
             "startlinecolor": "#2a3f5f"
            },
            "type": "carpet"
           }
          ],
          "choropleth": [
           {
            "colorbar": {
             "outlinewidth": 0,
             "ticks": ""
            },
            "type": "choropleth"
           }
          ],
          "contour": [
           {
            "colorbar": {
             "outlinewidth": 0,
             "ticks": ""
            },
            "colorscale": [
             [
              0,
              "#0d0887"
             ],
             [
              0.1111111111111111,
              "#46039f"
             ],
             [
              0.2222222222222222,
              "#7201a8"
             ],
             [
              0.3333333333333333,
              "#9c179e"
             ],
             [
              0.4444444444444444,
              "#bd3786"
             ],
             [
              0.5555555555555556,
              "#d8576b"
             ],
             [
              0.6666666666666666,
              "#ed7953"
             ],
             [
              0.7777777777777778,
              "#fb9f3a"
             ],
             [
              0.8888888888888888,
              "#fdca26"
             ],
             [
              1,
              "#f0f921"
             ]
            ],
            "type": "contour"
           }
          ],
          "contourcarpet": [
           {
            "colorbar": {
             "outlinewidth": 0,
             "ticks": ""
            },
            "type": "contourcarpet"
           }
          ],
          "heatmap": [
           {
            "colorbar": {
             "outlinewidth": 0,
             "ticks": ""
            },
            "colorscale": [
             [
              0,
              "#0d0887"
             ],
             [
              0.1111111111111111,
              "#46039f"
             ],
             [
              0.2222222222222222,
              "#7201a8"
             ],
             [
              0.3333333333333333,
              "#9c179e"
             ],
             [
              0.4444444444444444,
              "#bd3786"
             ],
             [
              0.5555555555555556,
              "#d8576b"
             ],
             [
              0.6666666666666666,
              "#ed7953"
             ],
             [
              0.7777777777777778,
              "#fb9f3a"
             ],
             [
              0.8888888888888888,
              "#fdca26"
             ],
             [
              1,
              "#f0f921"
             ]
            ],
            "type": "heatmap"
           }
          ],
          "heatmapgl": [
           {
            "colorbar": {
             "outlinewidth": 0,
             "ticks": ""
            },
            "colorscale": [
             [
              0,
              "#0d0887"
             ],
             [
              0.1111111111111111,
              "#46039f"
             ],
             [
              0.2222222222222222,
              "#7201a8"
             ],
             [
              0.3333333333333333,
              "#9c179e"
             ],
             [
              0.4444444444444444,
              "#bd3786"
             ],
             [
              0.5555555555555556,
              "#d8576b"
             ],
             [
              0.6666666666666666,
              "#ed7953"
             ],
             [
              0.7777777777777778,
              "#fb9f3a"
             ],
             [
              0.8888888888888888,
              "#fdca26"
             ],
             [
              1,
              "#f0f921"
             ]
            ],
            "type": "heatmapgl"
           }
          ],
          "histogram": [
           {
            "marker": {
             "pattern": {
              "fillmode": "overlay",
              "size": 10,
              "solidity": 0.2
             }
            },
            "type": "histogram"
           }
          ],
          "histogram2d": [
           {
            "colorbar": {
             "outlinewidth": 0,
             "ticks": ""
            },
            "colorscale": [
             [
              0,
              "#0d0887"
             ],
             [
              0.1111111111111111,
              "#46039f"
             ],
             [
              0.2222222222222222,
              "#7201a8"
             ],
             [
              0.3333333333333333,
              "#9c179e"
             ],
             [
              0.4444444444444444,
              "#bd3786"
             ],
             [
              0.5555555555555556,
              "#d8576b"
             ],
             [
              0.6666666666666666,
              "#ed7953"
             ],
             [
              0.7777777777777778,
              "#fb9f3a"
             ],
             [
              0.8888888888888888,
              "#fdca26"
             ],
             [
              1,
              "#f0f921"
             ]
            ],
            "type": "histogram2d"
           }
          ],
          "histogram2dcontour": [
           {
            "colorbar": {
             "outlinewidth": 0,
             "ticks": ""
            },
            "colorscale": [
             [
              0,
              "#0d0887"
             ],
             [
              0.1111111111111111,
              "#46039f"
             ],
             [
              0.2222222222222222,
              "#7201a8"
             ],
             [
              0.3333333333333333,
              "#9c179e"
             ],
             [
              0.4444444444444444,
              "#bd3786"
             ],
             [
              0.5555555555555556,
              "#d8576b"
             ],
             [
              0.6666666666666666,
              "#ed7953"
             ],
             [
              0.7777777777777778,
              "#fb9f3a"
             ],
             [
              0.8888888888888888,
              "#fdca26"
             ],
             [
              1,
              "#f0f921"
             ]
            ],
            "type": "histogram2dcontour"
           }
          ],
          "mesh3d": [
           {
            "colorbar": {
             "outlinewidth": 0,
             "ticks": ""
            },
            "type": "mesh3d"
           }
          ],
          "parcoords": [
           {
            "line": {
             "colorbar": {
              "outlinewidth": 0,
              "ticks": ""
             }
            },
            "type": "parcoords"
           }
          ],
          "pie": [
           {
            "automargin": true,
            "type": "pie"
           }
          ],
          "scatter": [
           {
            "fillpattern": {
             "fillmode": "overlay",
             "size": 10,
             "solidity": 0.2
            },
            "type": "scatter"
           }
          ],
          "scatter3d": [
           {
            "line": {
             "colorbar": {
              "outlinewidth": 0,
              "ticks": ""
             }
            },
            "marker": {
             "colorbar": {
              "outlinewidth": 0,
              "ticks": ""
             }
            },
            "type": "scatter3d"
           }
          ],
          "scattercarpet": [
           {
            "marker": {
             "colorbar": {
              "outlinewidth": 0,
              "ticks": ""
             }
            },
            "type": "scattercarpet"
           }
          ],
          "scattergeo": [
           {
            "marker": {
             "colorbar": {
              "outlinewidth": 0,
              "ticks": ""
             }
            },
            "type": "scattergeo"
           }
          ],
          "scattergl": [
           {
            "marker": {
             "colorbar": {
              "outlinewidth": 0,
              "ticks": ""
             }
            },
            "type": "scattergl"
           }
          ],
          "scattermapbox": [
           {
            "marker": {
             "colorbar": {
              "outlinewidth": 0,
              "ticks": ""
             }
            },
            "type": "scattermapbox"
           }
          ],
          "scatterpolar": [
           {
            "marker": {
             "colorbar": {
              "outlinewidth": 0,
              "ticks": ""
             }
            },
            "type": "scatterpolar"
           }
          ],
          "scatterpolargl": [
           {
            "marker": {
             "colorbar": {
              "outlinewidth": 0,
              "ticks": ""
             }
            },
            "type": "scatterpolargl"
           }
          ],
          "scatterternary": [
           {
            "marker": {
             "colorbar": {
              "outlinewidth": 0,
              "ticks": ""
             }
            },
            "type": "scatterternary"
           }
          ],
          "surface": [
           {
            "colorbar": {
             "outlinewidth": 0,
             "ticks": ""
            },
            "colorscale": [
             [
              0,
              "#0d0887"
             ],
             [
              0.1111111111111111,
              "#46039f"
             ],
             [
              0.2222222222222222,
              "#7201a8"
             ],
             [
              0.3333333333333333,
              "#9c179e"
             ],
             [
              0.4444444444444444,
              "#bd3786"
             ],
             [
              0.5555555555555556,
              "#d8576b"
             ],
             [
              0.6666666666666666,
              "#ed7953"
             ],
             [
              0.7777777777777778,
              "#fb9f3a"
             ],
             [
              0.8888888888888888,
              "#fdca26"
             ],
             [
              1,
              "#f0f921"
             ]
            ],
            "type": "surface"
           }
          ],
          "table": [
           {
            "cells": {
             "fill": {
              "color": "#EBF0F8"
             },
             "line": {
              "color": "white"
             }
            },
            "header": {
             "fill": {
              "color": "#C8D4E3"
             },
             "line": {
              "color": "white"
             }
            },
            "type": "table"
           }
          ]
         },
         "layout": {
          "annotationdefaults": {
           "arrowcolor": "#2a3f5f",
           "arrowhead": 0,
           "arrowwidth": 1
          },
          "autotypenumbers": "strict",
          "coloraxis": {
           "colorbar": {
            "outlinewidth": 0,
            "ticks": ""
           }
          },
          "colorscale": {
           "diverging": [
            [
             0,
             "#8e0152"
            ],
            [
             0.1,
             "#c51b7d"
            ],
            [
             0.2,
             "#de77ae"
            ],
            [
             0.3,
             "#f1b6da"
            ],
            [
             0.4,
             "#fde0ef"
            ],
            [
             0.5,
             "#f7f7f7"
            ],
            [
             0.6,
             "#e6f5d0"
            ],
            [
             0.7,
             "#b8e186"
            ],
            [
             0.8,
             "#7fbc41"
            ],
            [
             0.9,
             "#4d9221"
            ],
            [
             1,
             "#276419"
            ]
           ],
           "sequential": [
            [
             0,
             "#0d0887"
            ],
            [
             0.1111111111111111,
             "#46039f"
            ],
            [
             0.2222222222222222,
             "#7201a8"
            ],
            [
             0.3333333333333333,
             "#9c179e"
            ],
            [
             0.4444444444444444,
             "#bd3786"
            ],
            [
             0.5555555555555556,
             "#d8576b"
            ],
            [
             0.6666666666666666,
             "#ed7953"
            ],
            [
             0.7777777777777778,
             "#fb9f3a"
            ],
            [
             0.8888888888888888,
             "#fdca26"
            ],
            [
             1,
             "#f0f921"
            ]
           ],
           "sequentialminus": [
            [
             0,
             "#0d0887"
            ],
            [
             0.1111111111111111,
             "#46039f"
            ],
            [
             0.2222222222222222,
             "#7201a8"
            ],
            [
             0.3333333333333333,
             "#9c179e"
            ],
            [
             0.4444444444444444,
             "#bd3786"
            ],
            [
             0.5555555555555556,
             "#d8576b"
            ],
            [
             0.6666666666666666,
             "#ed7953"
            ],
            [
             0.7777777777777778,
             "#fb9f3a"
            ],
            [
             0.8888888888888888,
             "#fdca26"
            ],
            [
             1,
             "#f0f921"
            ]
           ]
          },
          "colorway": [
           "#636efa",
           "#EF553B",
           "#00cc96",
           "#ab63fa",
           "#FFA15A",
           "#19d3f3",
           "#FF6692",
           "#B6E880",
           "#FF97FF",
           "#FECB52"
          ],
          "font": {
           "color": "#2a3f5f"
          },
          "geo": {
           "bgcolor": "white",
           "lakecolor": "white",
           "landcolor": "#E5ECF6",
           "showlakes": true,
           "showland": true,
           "subunitcolor": "white"
          },
          "hoverlabel": {
           "align": "left"
          },
          "hovermode": "closest",
          "mapbox": {
           "style": "light"
          },
          "paper_bgcolor": "white",
          "plot_bgcolor": "#E5ECF6",
          "polar": {
           "angularaxis": {
            "gridcolor": "white",
            "linecolor": "white",
            "ticks": ""
           },
           "bgcolor": "#E5ECF6",
           "radialaxis": {
            "gridcolor": "white",
            "linecolor": "white",
            "ticks": ""
           }
          },
          "scene": {
           "xaxis": {
            "backgroundcolor": "#E5ECF6",
            "gridcolor": "white",
            "gridwidth": 2,
            "linecolor": "white",
            "showbackground": true,
            "ticks": "",
            "zerolinecolor": "white"
           },
           "yaxis": {
            "backgroundcolor": "#E5ECF6",
            "gridcolor": "white",
            "gridwidth": 2,
            "linecolor": "white",
            "showbackground": true,
            "ticks": "",
            "zerolinecolor": "white"
           },
           "zaxis": {
            "backgroundcolor": "#E5ECF6",
            "gridcolor": "white",
            "gridwidth": 2,
            "linecolor": "white",
            "showbackground": true,
            "ticks": "",
            "zerolinecolor": "white"
           }
          },
          "shapedefaults": {
           "line": {
            "color": "#2a3f5f"
           }
          },
          "ternary": {
           "aaxis": {
            "gridcolor": "white",
            "linecolor": "white",
            "ticks": ""
           },
           "baxis": {
            "gridcolor": "white",
            "linecolor": "white",
            "ticks": ""
           },
           "bgcolor": "#E5ECF6",
           "caxis": {
            "gridcolor": "white",
            "linecolor": "white",
            "ticks": ""
           }
          },
          "title": {
           "x": 0.05
          },
          "xaxis": {
           "automargin": true,
           "gridcolor": "white",
           "linecolor": "white",
           "ticks": "",
           "title": {
            "standoff": 15
           },
           "zerolinecolor": "white",
           "zerolinewidth": 2
          },
          "yaxis": {
           "automargin": true,
           "gridcolor": "white",
           "linecolor": "white",
           "ticks": "",
           "title": {
            "standoff": 15
           },
           "zerolinecolor": "white",
           "zerolinewidth": 2
          }
         }
        },
        "title": {
         "text": "Residuals Box Plot  for Number of Stations"
        },
        "xaxis": {
         "anchor": "y",
         "domain": [
          0,
          1
         ],
         "title": {
          "text": "stations"
         }
        },
        "yaxis": {
         "anchor": "x",
         "domain": [
          0,
          1
         ],
         "title": {
          "text": "standardized_residuals"
         }
        }
       }
      },
      "text/html": [
       "<div>                            <div id=\"3b7f11ca-8a73-488a-b012-664de75a94fa\" class=\"plotly-graph-div\" style=\"height:525px; width:100%;\"></div>            <script type=\"text/javascript\">                require([\"plotly\"], function(Plotly) {                    window.PLOTLYENV=window.PLOTLYENV || {};                                    if (document.getElementById(\"3b7f11ca-8a73-488a-b012-664de75a94fa\")) {                    Plotly.newPlot(                        \"3b7f11ca-8a73-488a-b012-664de75a94fa\",                        [{\"alignmentgroup\":\"True\",\"hovertemplate\":\"stations=%{x}\\u003cbr\\u003estandardized_residuals=%{y}\\u003cextra\\u003e\\u003c\\u002fextra\\u003e\",\"legendgroup\":\"\",\"marker\":{\"color\":\"#636efa\"},\"name\":\"\",\"notched\":false,\"offsetgroup\":\"\",\"orientation\":\"v\",\"showlegend\":false,\"x\":[2.0,7.0,13.0,24.0,28.0,12.0,7.0,22.0,11.0,4.0,7.0,2.0,7.0,26.0,21.0,3.0,12.0,8.0,10.0,3.0,10.0,10.0,5.0,3.0,28.0,13.0,8.0,29.0,18.0,5.0,34.0,9.0,4.0,9.0,4.0,32.0,10.0,3.0,13.0,33.0,17.0,7.0,8.0,1.0,24.0,9.0,15.0,8.0,22.0,7.0,18.0,20.0,20.0,16.0,4.0,4.0,11.0,25.0,24.0,12.0,6.0,6.0,29.0,3.0,8.0,18.0,3.0,15.0,24.0,9.0,17.0,3.0,13.0,9.0,21.0,8.0,20.0,3.0,22.0,26.0,37.0,5.0,16.0,10.0,10.0,5.0,27.0,9.0,16.0,10.0,4.0,2.0,4.0,1.0,33.0,4.0,12.0,4.0,4.0,1.0,2.0,14.0,1.0,6.0,1.0,10.0,25.0,8.0,4.0,4.0,4.0,10.0,18.0,16.0,11.0,16.0,32.0,11.0,2.0,12.0,4.0,4.0,23.0,10.0,1.0,4.0,9.0,3.0,2.0,4.0,7.0,4.0,20.0,12.0,18.0,9.0,2.0,12.0,1.0,15.0,3.0,22.0,12.0,23.0,9.0,27.0,21.0,23.0,8.0,8.0,16.0,12.0,6.0],\"x0\":\" \",\"xaxis\":\"x\",\"y\":[0.10718757984004063,0.11086173350641913,2.0652957993390353,-0.11140544785525983,-0.8457225120386594,0.6046542134687367,-0.5655264318227493,1.5664649530011903,-1.2415624129233056,-0.1933616346954348,2.144803818869288,0.12959416135494814,-3.0164742701569693,0.12695827078031854,0.7955879028561514,-0.849983062559264,-0.4157258535111172,-0.13109234426606745,0.19416865131480918,-0.4698905312918919,-1.2587918095111483,0.5635569241574094,4.171050187053832,0.08744701023847673,-0.8342342882418152,-1.1622533953429792,-0.6871435935266124,-0.047284043744483396,1.9044650926776512,-0.16639419407157024,0.2584397006690281,0.865204248894011,-0.10637569217584221,-0.08175671352877935,0.24437950589482976,2.619513276812443,0.0025816004918747934,-0.46500792249082595,0.2606008073520154,-1.2697822583585578,-0.7208270431355275,0.27150232890249143,0.158857161404513,-0.047074300987293705,0.1491570483615328,-0.06213943812243383,-0.7817328386361185,-0.3029452402087591,-0.15097933301366367,-0.163010758863268,-0.7965556945542388,0.9327347566248745,0.022922047986947438,-0.24605553818057577,-0.3066265274918681,-0.39991567639567277,0.011432170425808566,-0.762750471765021,0.7362560661902658,1.0551708669291096,0.7208426459222813,-0.12289745222728114,0.267034550242766,-0.026447850460265876,-0.5900997015828551,-0.4911822211201383,0.18624407601428858,-0.04238950291399794,-0.6413264696616281,-0.45188192274730365,1.7512096225860998,0.0594371846150378,-2.130048286657006,-0.4257259883128896,2.7821143405341573,-0.8469166891395016,-0.5239803879166212,0.5685772547996735,-2.256297098148558,-0.7803518294959371,-2.9729173560587703,-0.8121043393671602,-0.23511010026048043,-2.589717677876966,-0.20708040017746085,-1.8853385417258366,0.433241193754502,0.26805321106105906,-0.08261965302651933,0.20436501326851347,1.8033498194331006,-0.26337142992880996,0.3957061658797999,0.14705563369606162,0.4494984934670181,0.10738341907848155,0.053818527577218785,-0.3890428681078866,-0.4289947432626206,0.046552674813028404,-0.31920804408682324,-0.2087831486189691,0.3019562017242479,-0.47771081625618084,-0.045135919285423105,0.6790251313961008,0.9439845150264756,2.2198498405485276,-0.6405752941423192,0.3009800903324007,0.2439953470089954,-0.2906674117027766,-0.8560837817898093,-0.21814334935976062,-1.1753838458508226,0.338544548268741,0.6507843230068241,0.1254756601104307,0.024930971110588195,-0.4181793492777123,0.04335050487779172,1.0996286704927467,0.06401240395184254,-0.2165056908960581,0.18984355199605987,0.008573857949728194,0.7837843909066909,0.47691763602095505,-0.37664977694650476,-0.19744453381502403,-0.39789087818926117,0.19530780987473803,3.7514767424865485,0.6106396489707562,0.1184812129425209,-0.024742563847081497,-0.2029518320718047,-0.35949386361499547,-0.43790689325302995,-0.03825693207422545,1.512254169409071,-1.0913274876964663,0.13339953545093663,-0.05358846693352071,0.7728715609659034,1.4408125266407783,-1.3458269367592544,-1.6484812676918918,0.07856111937140106,0.07623203932735458,-0.3699402867415168,-0.1491836808600407,-0.1747198869047541],\"y0\":\" \",\"yaxis\":\"y\",\"type\":\"box\"}],                        {\"template\":{\"data\":{\"histogram2dcontour\":[{\"type\":\"histogram2dcontour\",\"colorbar\":{\"outlinewidth\":0,\"ticks\":\"\"},\"colorscale\":[[0.0,\"#0d0887\"],[0.1111111111111111,\"#46039f\"],[0.2222222222222222,\"#7201a8\"],[0.3333333333333333,\"#9c179e\"],[0.4444444444444444,\"#bd3786\"],[0.5555555555555556,\"#d8576b\"],[0.6666666666666666,\"#ed7953\"],[0.7777777777777778,\"#fb9f3a\"],[0.8888888888888888,\"#fdca26\"],[1.0,\"#f0f921\"]]}],\"choropleth\":[{\"type\":\"choropleth\",\"colorbar\":{\"outlinewidth\":0,\"ticks\":\"\"}}],\"histogram2d\":[{\"type\":\"histogram2d\",\"colorbar\":{\"outlinewidth\":0,\"ticks\":\"\"},\"colorscale\":[[0.0,\"#0d0887\"],[0.1111111111111111,\"#46039f\"],[0.2222222222222222,\"#7201a8\"],[0.3333333333333333,\"#9c179e\"],[0.4444444444444444,\"#bd3786\"],[0.5555555555555556,\"#d8576b\"],[0.6666666666666666,\"#ed7953\"],[0.7777777777777778,\"#fb9f3a\"],[0.8888888888888888,\"#fdca26\"],[1.0,\"#f0f921\"]]}],\"heatmap\":[{\"type\":\"heatmap\",\"colorbar\":{\"outlinewidth\":0,\"ticks\":\"\"},\"colorscale\":[[0.0,\"#0d0887\"],[0.1111111111111111,\"#46039f\"],[0.2222222222222222,\"#7201a8\"],[0.3333333333333333,\"#9c179e\"],[0.4444444444444444,\"#bd3786\"],[0.5555555555555556,\"#d8576b\"],[0.6666666666666666,\"#ed7953\"],[0.7777777777777778,\"#fb9f3a\"],[0.8888888888888888,\"#fdca26\"],[1.0,\"#f0f921\"]]}],\"heatmapgl\":[{\"type\":\"heatmapgl\",\"colorbar\":{\"outlinewidth\":0,\"ticks\":\"\"},\"colorscale\":[[0.0,\"#0d0887\"],[0.1111111111111111,\"#46039f\"],[0.2222222222222222,\"#7201a8\"],[0.3333333333333333,\"#9c179e\"],[0.4444444444444444,\"#bd3786\"],[0.5555555555555556,\"#d8576b\"],[0.6666666666666666,\"#ed7953\"],[0.7777777777777778,\"#fb9f3a\"],[0.8888888888888888,\"#fdca26\"],[1.0,\"#f0f921\"]]}],\"contourcarpet\":[{\"type\":\"contourcarpet\",\"colorbar\":{\"outlinewidth\":0,\"ticks\":\"\"}}],\"contour\":[{\"type\":\"contour\",\"colorbar\":{\"outlinewidth\":0,\"ticks\":\"\"},\"colorscale\":[[0.0,\"#0d0887\"],[0.1111111111111111,\"#46039f\"],[0.2222222222222222,\"#7201a8\"],[0.3333333333333333,\"#9c179e\"],[0.4444444444444444,\"#bd3786\"],[0.5555555555555556,\"#d8576b\"],[0.6666666666666666,\"#ed7953\"],[0.7777777777777778,\"#fb9f3a\"],[0.8888888888888888,\"#fdca26\"],[1.0,\"#f0f921\"]]}],\"surface\":[{\"type\":\"surface\",\"colorbar\":{\"outlinewidth\":0,\"ticks\":\"\"},\"colorscale\":[[0.0,\"#0d0887\"],[0.1111111111111111,\"#46039f\"],[0.2222222222222222,\"#7201a8\"],[0.3333333333333333,\"#9c179e\"],[0.4444444444444444,\"#bd3786\"],[0.5555555555555556,\"#d8576b\"],[0.6666666666666666,\"#ed7953\"],[0.7777777777777778,\"#fb9f3a\"],[0.8888888888888888,\"#fdca26\"],[1.0,\"#f0f921\"]]}],\"mesh3d\":[{\"type\":\"mesh3d\",\"colorbar\":{\"outlinewidth\":0,\"ticks\":\"\"}}],\"scatter\":[{\"fillpattern\":{\"fillmode\":\"overlay\",\"size\":10,\"solidity\":0.2},\"type\":\"scatter\"}],\"parcoords\":[{\"type\":\"parcoords\",\"line\":{\"colorbar\":{\"outlinewidth\":0,\"ticks\":\"\"}}}],\"scatterpolargl\":[{\"type\":\"scatterpolargl\",\"marker\":{\"colorbar\":{\"outlinewidth\":0,\"ticks\":\"\"}}}],\"bar\":[{\"error_x\":{\"color\":\"#2a3f5f\"},\"error_y\":{\"color\":\"#2a3f5f\"},\"marker\":{\"line\":{\"color\":\"#E5ECF6\",\"width\":0.5},\"pattern\":{\"fillmode\":\"overlay\",\"size\":10,\"solidity\":0.2}},\"type\":\"bar\"}],\"scattergeo\":[{\"type\":\"scattergeo\",\"marker\":{\"colorbar\":{\"outlinewidth\":0,\"ticks\":\"\"}}}],\"scatterpolar\":[{\"type\":\"scatterpolar\",\"marker\":{\"colorbar\":{\"outlinewidth\":0,\"ticks\":\"\"}}}],\"histogram\":[{\"marker\":{\"pattern\":{\"fillmode\":\"overlay\",\"size\":10,\"solidity\":0.2}},\"type\":\"histogram\"}],\"scattergl\":[{\"type\":\"scattergl\",\"marker\":{\"colorbar\":{\"outlinewidth\":0,\"ticks\":\"\"}}}],\"scatter3d\":[{\"type\":\"scatter3d\",\"line\":{\"colorbar\":{\"outlinewidth\":0,\"ticks\":\"\"}},\"marker\":{\"colorbar\":{\"outlinewidth\":0,\"ticks\":\"\"}}}],\"scattermapbox\":[{\"type\":\"scattermapbox\",\"marker\":{\"colorbar\":{\"outlinewidth\":0,\"ticks\":\"\"}}}],\"scatterternary\":[{\"type\":\"scatterternary\",\"marker\":{\"colorbar\":{\"outlinewidth\":0,\"ticks\":\"\"}}}],\"scattercarpet\":[{\"type\":\"scattercarpet\",\"marker\":{\"colorbar\":{\"outlinewidth\":0,\"ticks\":\"\"}}}],\"carpet\":[{\"aaxis\":{\"endlinecolor\":\"#2a3f5f\",\"gridcolor\":\"white\",\"linecolor\":\"white\",\"minorgridcolor\":\"white\",\"startlinecolor\":\"#2a3f5f\"},\"baxis\":{\"endlinecolor\":\"#2a3f5f\",\"gridcolor\":\"white\",\"linecolor\":\"white\",\"minorgridcolor\":\"white\",\"startlinecolor\":\"#2a3f5f\"},\"type\":\"carpet\"}],\"table\":[{\"cells\":{\"fill\":{\"color\":\"#EBF0F8\"},\"line\":{\"color\":\"white\"}},\"header\":{\"fill\":{\"color\":\"#C8D4E3\"},\"line\":{\"color\":\"white\"}},\"type\":\"table\"}],\"barpolar\":[{\"marker\":{\"line\":{\"color\":\"#E5ECF6\",\"width\":0.5},\"pattern\":{\"fillmode\":\"overlay\",\"size\":10,\"solidity\":0.2}},\"type\":\"barpolar\"}],\"pie\":[{\"automargin\":true,\"type\":\"pie\"}]},\"layout\":{\"autotypenumbers\":\"strict\",\"colorway\":[\"#636efa\",\"#EF553B\",\"#00cc96\",\"#ab63fa\",\"#FFA15A\",\"#19d3f3\",\"#FF6692\",\"#B6E880\",\"#FF97FF\",\"#FECB52\"],\"font\":{\"color\":\"#2a3f5f\"},\"hovermode\":\"closest\",\"hoverlabel\":{\"align\":\"left\"},\"paper_bgcolor\":\"white\",\"plot_bgcolor\":\"#E5ECF6\",\"polar\":{\"bgcolor\":\"#E5ECF6\",\"angularaxis\":{\"gridcolor\":\"white\",\"linecolor\":\"white\",\"ticks\":\"\"},\"radialaxis\":{\"gridcolor\":\"white\",\"linecolor\":\"white\",\"ticks\":\"\"}},\"ternary\":{\"bgcolor\":\"#E5ECF6\",\"aaxis\":{\"gridcolor\":\"white\",\"linecolor\":\"white\",\"ticks\":\"\"},\"baxis\":{\"gridcolor\":\"white\",\"linecolor\":\"white\",\"ticks\":\"\"},\"caxis\":{\"gridcolor\":\"white\",\"linecolor\":\"white\",\"ticks\":\"\"}},\"coloraxis\":{\"colorbar\":{\"outlinewidth\":0,\"ticks\":\"\"}},\"colorscale\":{\"sequential\":[[0.0,\"#0d0887\"],[0.1111111111111111,\"#46039f\"],[0.2222222222222222,\"#7201a8\"],[0.3333333333333333,\"#9c179e\"],[0.4444444444444444,\"#bd3786\"],[0.5555555555555556,\"#d8576b\"],[0.6666666666666666,\"#ed7953\"],[0.7777777777777778,\"#fb9f3a\"],[0.8888888888888888,\"#fdca26\"],[1.0,\"#f0f921\"]],\"sequentialminus\":[[0.0,\"#0d0887\"],[0.1111111111111111,\"#46039f\"],[0.2222222222222222,\"#7201a8\"],[0.3333333333333333,\"#9c179e\"],[0.4444444444444444,\"#bd3786\"],[0.5555555555555556,\"#d8576b\"],[0.6666666666666666,\"#ed7953\"],[0.7777777777777778,\"#fb9f3a\"],[0.8888888888888888,\"#fdca26\"],[1.0,\"#f0f921\"]],\"diverging\":[[0,\"#8e0152\"],[0.1,\"#c51b7d\"],[0.2,\"#de77ae\"],[0.3,\"#f1b6da\"],[0.4,\"#fde0ef\"],[0.5,\"#f7f7f7\"],[0.6,\"#e6f5d0\"],[0.7,\"#b8e186\"],[0.8,\"#7fbc41\"],[0.9,\"#4d9221\"],[1,\"#276419\"]]},\"xaxis\":{\"gridcolor\":\"white\",\"linecolor\":\"white\",\"ticks\":\"\",\"title\":{\"standoff\":15},\"zerolinecolor\":\"white\",\"automargin\":true,\"zerolinewidth\":2},\"yaxis\":{\"gridcolor\":\"white\",\"linecolor\":\"white\",\"ticks\":\"\",\"title\":{\"standoff\":15},\"zerolinecolor\":\"white\",\"automargin\":true,\"zerolinewidth\":2},\"scene\":{\"xaxis\":{\"backgroundcolor\":\"#E5ECF6\",\"gridcolor\":\"white\",\"linecolor\":\"white\",\"showbackground\":true,\"ticks\":\"\",\"zerolinecolor\":\"white\",\"gridwidth\":2},\"yaxis\":{\"backgroundcolor\":\"#E5ECF6\",\"gridcolor\":\"white\",\"linecolor\":\"white\",\"showbackground\":true,\"ticks\":\"\",\"zerolinecolor\":\"white\",\"gridwidth\":2},\"zaxis\":{\"backgroundcolor\":\"#E5ECF6\",\"gridcolor\":\"white\",\"linecolor\":\"white\",\"showbackground\":true,\"ticks\":\"\",\"zerolinecolor\":\"white\",\"gridwidth\":2}},\"shapedefaults\":{\"line\":{\"color\":\"#2a3f5f\"}},\"annotationdefaults\":{\"arrowcolor\":\"#2a3f5f\",\"arrowhead\":0,\"arrowwidth\":1},\"geo\":{\"bgcolor\":\"white\",\"landcolor\":\"#E5ECF6\",\"subunitcolor\":\"white\",\"showland\":true,\"showlakes\":true,\"lakecolor\":\"white\"},\"title\":{\"x\":0.05},\"mapbox\":{\"style\":\"light\"}}},\"xaxis\":{\"anchor\":\"y\",\"domain\":[0.0,1.0],\"title\":{\"text\":\"stations\"}},\"yaxis\":{\"anchor\":\"x\",\"domain\":[0.0,1.0],\"title\":{\"text\":\"standardized_residuals\"}},\"legend\":{\"tracegroupgap\":0},\"title\":{\"text\":\"Residuals Box Plot  for Number of Stations\"},\"boxmode\":\"group\"},                        {\"responsive\": true}                    ).then(function(){\n",
       "                            \n",
       "var gd = document.getElementById('3b7f11ca-8a73-488a-b012-664de75a94fa');\n",
       "var x = new MutationObserver(function (mutations, observer) {{\n",
       "        var display = window.getComputedStyle(gd).display;\n",
       "        if (!display || display === 'none') {{\n",
       "            console.log([gd, 'removed!']);\n",
       "            Plotly.purge(gd);\n",
       "            observer.disconnect();\n",
       "        }}\n",
       "}});\n",
       "\n",
       "// Listen for the removal of the full notebook cells\n",
       "var notebookContainer = gd.closest('#notebook-container');\n",
       "if (notebookContainer) {{\n",
       "    x.observe(notebookContainer, {childList: true});\n",
       "}}\n",
       "\n",
       "// Listen for the clearing of the current output cell\n",
       "var outputEl = gd.closest('.output');\n",
       "if (outputEl) {{\n",
       "    x.observe(outputEl, {childList: true});\n",
       "}}\n",
       "\n",
       "                        })                };                });            </script>        </div>"
      ]
     },
     "metadata": {},
     "output_type": "display_data"
    }
   ],
   "source": [
    "fig = px.box(predictions, x='stations', y='standardized_residuals', title=\"Residuals Box Plot  for Number of Stations\")\n",
    "fig.show()"
   ]
  },
  {
   "cell_type": "markdown",
   "id": "309ffdfa",
   "metadata": {},
   "source": [
    "Given the importance of the line length, it's surprising to see the distribution variance when the number of stations is 0. I was expecting a line with no stations to have less variance in the predicted price, however it appears to have much greater downside variation than lines with more than 1 station. After 1 station, it's easier to predict the cost of a line, up to about 15 when the variance begins to pick up."
   ]
  },
  {
   "cell_type": "code",
   "execution_count": 24,
   "id": "23f0871b",
   "metadata": {},
   "outputs": [
    {
     "data": {
      "application/vnd.plotly.v1+json": {
       "config": {
        "plotlyServerURL": "https://plot.ly"
       },
       "data": [
        {
         "hovertemplate": "prediction_label=%{x}<br>standardized_residuals=%{y}<br>stations=%{marker.color}<extra></extra>",
         "legendgroup": "",
         "marker": {
          "color": [
           2,
           7,
           13,
           24,
           28,
           12,
           7,
           22,
           11,
           4,
           7,
           2,
           7,
           26,
           21,
           3,
           12,
           8,
           10,
           3,
           10,
           10,
           5,
           3,
           28,
           13,
           8,
           29,
           18,
           5,
           34,
           9,
           4,
           9,
           4,
           32,
           10,
           3,
           13,
           33,
           17,
           7,
           8,
           1,
           24,
           9,
           15,
           8,
           22,
           7,
           18,
           20,
           20,
           16,
           4,
           4,
           11,
           25,
           24,
           12,
           6,
           6,
           29,
           3,
           8,
           18,
           3,
           15,
           24,
           9,
           17,
           3,
           13,
           9,
           21,
           8,
           20,
           3,
           22,
           26,
           37,
           5,
           16,
           10,
           10,
           5,
           27,
           9,
           16,
           10,
           4,
           2,
           4,
           1,
           33,
           4,
           12,
           4,
           4,
           1,
           2,
           14,
           1,
           6,
           1,
           10,
           25,
           8,
           4,
           4,
           4,
           10,
           18,
           16,
           11,
           16,
           32,
           11,
           2,
           12,
           4,
           4,
           23,
           10,
           1,
           4,
           9,
           3,
           2,
           4,
           7,
           4,
           20,
           12,
           18,
           9,
           2,
           12,
           1,
           15,
           3,
           22,
           12,
           23,
           9,
           27,
           21,
           23,
           8,
           8,
           16,
           12,
           6
          ],
          "coloraxis": "coloraxis",
          "symbol": "circle"
         },
         "mode": "markers",
         "name": "",
         "orientation": "v",
         "showlegend": false,
         "type": "scatter",
         "x": [
          102.17075168523426,
          3909.7704871114506,
          6920.920249130324,
          5268.208083240094,
          6760.0144776494335,
          3858.3344491629646,
          2349.239536122795,
          5897.937025079799,
          4435.815738083743,
          711.2659472678106,
          2326.711862829154,
          940.3044486118208,
          4709.619327117738,
          5795.85333626691,
          4833.920243871619,
          2256.100621524896,
          1385.8422258624107,
          2043.780415821033,
          1160.8819740647707,
          1606.9072728099468,
          2737.385426378707,
          1984.646631822834,
          4849.963972840398,
          209.79699774698219,
          9016.523576894417,
          2399.9164016263617,
          1402.7258299293155,
          5023.398728304678,
          4121.339356974152,
          391.4180175035354,
          4830.721371054077,
          2432.598041184661,
          712.5899023329719,
          3536.359884333109,
          1552.4975766685916,
          4470.762016782005,
          2565.4349745077,
          1266.8177926573169,
          2967.6183700283163,
          1985.32896604746,
          4220.215656449808,
          1985.8244320984018,
          1177.09158857903,
          393.6873156975606,
          7268.441549259022,
          1956.4130366664212,
          4361.574067220727,
          2037.9995264626702,
          5196.764660166508,
          2735.0654534078085,
          4752.053710921977,
          4950.439051173166,
          5322.941802880912,
          3526.810497421209,
          892.525179472119,
          1072.587774437639,
          2477.568581498402,
          7065.36375651176,
          6869.34082113443,
          1978.6576126423251,
          1548.8883529177147,
          2263.260504176783,
          6016.382738518791,
          925.7097077597173,
          3099.15187940601,
          5077.396011182047,
          559.6767102363265,
          3857.1356519534484,
          5493.089427639241,
          1014.6010386514137,
          7892.356812536884,
          1667.91238774261,
          3654.6368023481477,
          2335.6024216704027,
          6908.393711495163,
          2129.8473303427772,
          2184.3856253609865,
          956.6154533581798,
          3880.605012259879,
          8427.881808975493,
          6623.072219015205,
          2020.4027677777926,
          4896.070492625913,
          8052.29400413316,
          798.6157997011635,
          4180.952361207191,
          7580.593788473695,
          2130.0428711993322,
          4021.556856527583,
          2370.148299614138,
          5554.047695999176,
          534.0442335517316,
          1467.9905068613652,
          242.8594913283437,
          7322.05767228667,
          704.8064894089756,
          3752.622115837646,
          1184.2029729575074,
          907.647891863835,
          293.30295869800506,
          511.25012182155956,
          796.1856004486104,
          393.67144367998924,
          1945.3430808330365,
          570.6932402499672,
          1610.4666637931011,
          5350.305891165746,
          6076.583043730741,
          1647.5365707111987,
          1027.7243429452365,
          874.6259587450197,
          3437.833188695071,
          3322.1522572646472,
          2516.580677316223,
          2991.1267819448067,
          4017.676583449817,
          5210.817013271293,
          3089.845584975268,
          530.0959489040278,
          2276.853202040228,
          529.3405672772227,
          1009.7698706434339,
          6080.43418189986,
          2252.438006613417,
          305.4627479109936,
          189.12254000875805,
          3054.8356663413815,
          953.4646920086276,
          929.8792767142431,
          532.4827107811745,
          2223.060479841364,
          1839.2855960419786,
          4880.219989336049,
          2390.5820074790686,
          7419.856289871027,
          3522.063720092318,
          1070.1224767475255,
          1951.678404739919,
          1114.7082816758182,
          2079.132961976022,
          1618.9009414356337,
          3323.212787077543,
          2121.4795657781824,
          5201.343920562827,
          2771.722335679372,
          8993.950610021906,
          7164.924471631425,
          3659.4499656355856,
          4254.139530042213,
          745.4051572946913,
          912.2279723028626,
          353.2571685693962,
          668.0533491689931
         ],
         "xaxis": "x",
         "y": [
          0.10718757984004063,
          0.11086173350641913,
          2.0652957993390353,
          -0.11140544785525983,
          -0.8457225120386594,
          0.6046542134687367,
          -0.5655264318227493,
          1.5664649530011903,
          -1.2415624129233056,
          -0.1933616346954348,
          2.144803818869288,
          0.12959416135494814,
          -3.0164742701569693,
          0.12695827078031854,
          0.7955879028561514,
          -0.849983062559264,
          -0.4157258535111172,
          -0.13109234426606745,
          0.19416865131480918,
          -0.4698905312918919,
          -1.2587918095111483,
          0.5635569241574094,
          4.171050187053832,
          0.08744701023847673,
          -0.8342342882418152,
          -1.1622533953429792,
          -0.6871435935266124,
          -0.047284043744483396,
          1.9044650926776512,
          -0.16639419407157024,
          0.2584397006690281,
          0.865204248894011,
          -0.10637569217584221,
          -0.08175671352877935,
          0.24437950589482976,
          2.619513276812443,
          0.0025816004918747934,
          -0.46500792249082595,
          0.2606008073520154,
          -1.2697822583585578,
          -0.7208270431355275,
          0.27150232890249143,
          0.158857161404513,
          -0.047074300987293705,
          0.1491570483615328,
          -0.06213943812243383,
          -0.7817328386361185,
          -0.3029452402087591,
          -0.15097933301366367,
          -0.163010758863268,
          -0.7965556945542388,
          0.9327347566248745,
          0.022922047986947438,
          -0.24605553818057577,
          -0.3066265274918681,
          -0.39991567639567277,
          0.011432170425808566,
          -0.762750471765021,
          0.7362560661902658,
          1.0551708669291096,
          0.7208426459222813,
          -0.12289745222728114,
          0.267034550242766,
          -0.026447850460265876,
          -0.5900997015828551,
          -0.4911822211201383,
          0.18624407601428858,
          -0.04238950291399794,
          -0.6413264696616281,
          -0.45188192274730365,
          1.7512096225860998,
          0.0594371846150378,
          -2.130048286657006,
          -0.4257259883128896,
          2.7821143405341573,
          -0.8469166891395016,
          -0.5239803879166212,
          0.5685772547996735,
          -2.256297098148558,
          -0.7803518294959371,
          -2.9729173560587703,
          -0.8121043393671602,
          -0.23511010026048043,
          -2.589717677876966,
          -0.20708040017746085,
          -1.8853385417258366,
          0.433241193754502,
          0.26805321106105906,
          -0.08261965302651933,
          0.20436501326851347,
          1.8033498194331006,
          -0.26337142992880996,
          0.3957061658797999,
          0.14705563369606162,
          0.4494984934670181,
          0.10738341907848155,
          0.053818527577218785,
          -0.3890428681078866,
          -0.4289947432626206,
          0.046552674813028404,
          -0.31920804408682324,
          -0.2087831486189691,
          0.3019562017242479,
          -0.47771081625618084,
          -0.045135919285423105,
          0.6790251313961008,
          0.9439845150264756,
          2.2198498405485276,
          -0.6405752941423192,
          0.3009800903324007,
          0.2439953470089954,
          -0.2906674117027766,
          -0.8560837817898093,
          -0.21814334935976062,
          -1.1753838458508226,
          0.338544548268741,
          0.6507843230068241,
          0.1254756601104307,
          0.024930971110588195,
          -0.4181793492777123,
          0.04335050487779172,
          1.0996286704927467,
          0.06401240395184254,
          -0.2165056908960581,
          0.18984355199605987,
          0.008573857949728194,
          0.7837843909066909,
          0.47691763602095505,
          -0.37664977694650476,
          -0.19744453381502403,
          -0.39789087818926117,
          0.19530780987473803,
          3.7514767424865485,
          0.6106396489707562,
          0.1184812129425209,
          -0.024742563847081497,
          -0.2029518320718047,
          -0.35949386361499547,
          -0.43790689325302995,
          -0.03825693207422545,
          1.512254169409071,
          -1.0913274876964663,
          0.13339953545093663,
          -0.05358846693352071,
          0.7728715609659034,
          1.4408125266407783,
          -1.3458269367592544,
          -1.6484812676918918,
          0.07856111937140106,
          0.07623203932735458,
          -0.3699402867415168,
          -0.1491836808600407,
          -0.1747198869047541
         ],
         "yaxis": "y"
        },
        {
         "alignmentgroup": "True",
         "bingroup": "y",
         "hovertemplate": "standardized_residuals=%{y}<br>count=%{x}<extra></extra>",
         "legendgroup": "",
         "marker": {
          "color": "#0d0887"
         },
         "name": "",
         "offsetgroup": "",
         "opacity": 0.5,
         "showlegend": false,
         "type": "histogram",
         "xaxis": "x2",
         "y": [
          0.10718757984004063,
          0.11086173350641913,
          2.0652957993390353,
          -0.11140544785525983,
          -0.8457225120386594,
          0.6046542134687367,
          -0.5655264318227493,
          1.5664649530011903,
          -1.2415624129233056,
          -0.1933616346954348,
          2.144803818869288,
          0.12959416135494814,
          -3.0164742701569693,
          0.12695827078031854,
          0.7955879028561514,
          -0.849983062559264,
          -0.4157258535111172,
          -0.13109234426606745,
          0.19416865131480918,
          -0.4698905312918919,
          -1.2587918095111483,
          0.5635569241574094,
          4.171050187053832,
          0.08744701023847673,
          -0.8342342882418152,
          -1.1622533953429792,
          -0.6871435935266124,
          -0.047284043744483396,
          1.9044650926776512,
          -0.16639419407157024,
          0.2584397006690281,
          0.865204248894011,
          -0.10637569217584221,
          -0.08175671352877935,
          0.24437950589482976,
          2.619513276812443,
          0.0025816004918747934,
          -0.46500792249082595,
          0.2606008073520154,
          -1.2697822583585578,
          -0.7208270431355275,
          0.27150232890249143,
          0.158857161404513,
          -0.047074300987293705,
          0.1491570483615328,
          -0.06213943812243383,
          -0.7817328386361185,
          -0.3029452402087591,
          -0.15097933301366367,
          -0.163010758863268,
          -0.7965556945542388,
          0.9327347566248745,
          0.022922047986947438,
          -0.24605553818057577,
          -0.3066265274918681,
          -0.39991567639567277,
          0.011432170425808566,
          -0.762750471765021,
          0.7362560661902658,
          1.0551708669291096,
          0.7208426459222813,
          -0.12289745222728114,
          0.267034550242766,
          -0.026447850460265876,
          -0.5900997015828551,
          -0.4911822211201383,
          0.18624407601428858,
          -0.04238950291399794,
          -0.6413264696616281,
          -0.45188192274730365,
          1.7512096225860998,
          0.0594371846150378,
          -2.130048286657006,
          -0.4257259883128896,
          2.7821143405341573,
          -0.8469166891395016,
          -0.5239803879166212,
          0.5685772547996735,
          -2.256297098148558,
          -0.7803518294959371,
          -2.9729173560587703,
          -0.8121043393671602,
          -0.23511010026048043,
          -2.589717677876966,
          -0.20708040017746085,
          -1.8853385417258366,
          0.433241193754502,
          0.26805321106105906,
          -0.08261965302651933,
          0.20436501326851347,
          1.8033498194331006,
          -0.26337142992880996,
          0.3957061658797999,
          0.14705563369606162,
          0.4494984934670181,
          0.10738341907848155,
          0.053818527577218785,
          -0.3890428681078866,
          -0.4289947432626206,
          0.046552674813028404,
          -0.31920804408682324,
          -0.2087831486189691,
          0.3019562017242479,
          -0.47771081625618084,
          -0.045135919285423105,
          0.6790251313961008,
          0.9439845150264756,
          2.2198498405485276,
          -0.6405752941423192,
          0.3009800903324007,
          0.2439953470089954,
          -0.2906674117027766,
          -0.8560837817898093,
          -0.21814334935976062,
          -1.1753838458508226,
          0.338544548268741,
          0.6507843230068241,
          0.1254756601104307,
          0.024930971110588195,
          -0.4181793492777123,
          0.04335050487779172,
          1.0996286704927467,
          0.06401240395184254,
          -0.2165056908960581,
          0.18984355199605987,
          0.008573857949728194,
          0.7837843909066909,
          0.47691763602095505,
          -0.37664977694650476,
          -0.19744453381502403,
          -0.39789087818926117,
          0.19530780987473803,
          3.7514767424865485,
          0.6106396489707562,
          0.1184812129425209,
          -0.024742563847081497,
          -0.2029518320718047,
          -0.35949386361499547,
          -0.43790689325302995,
          -0.03825693207422545,
          1.512254169409071,
          -1.0913274876964663,
          0.13339953545093663,
          -0.05358846693352071,
          0.7728715609659034,
          1.4408125266407783,
          -1.3458269367592544,
          -1.6484812676918918,
          0.07856111937140106,
          0.07623203932735458,
          -0.3699402867415168,
          -0.1491836808600407,
          -0.1747198869047541
         ],
         "yaxis": "y2"
        }
       ],
       "layout": {
        "barmode": "overlay",
        "coloraxis": {
         "colorbar": {
          "title": {
           "text": "stations"
          }
         },
         "colorscale": [
          [
           0,
           "#0d0887"
          ],
          [
           0.1111111111111111,
           "#46039f"
          ],
          [
           0.2222222222222222,
           "#7201a8"
          ],
          [
           0.3333333333333333,
           "#9c179e"
          ],
          [
           0.4444444444444444,
           "#bd3786"
          ],
          [
           0.5555555555555556,
           "#d8576b"
          ],
          [
           0.6666666666666666,
           "#ed7953"
          ],
          [
           0.7777777777777778,
           "#fb9f3a"
          ],
          [
           0.8888888888888888,
           "#fdca26"
          ],
          [
           1,
           "#f0f921"
          ]
         ]
        },
        "legend": {
         "tracegroupgap": 0
        },
        "template": {
         "data": {
          "bar": [
           {
            "error_x": {
             "color": "#2a3f5f"
            },
            "error_y": {
             "color": "#2a3f5f"
            },
            "marker": {
             "line": {
              "color": "#E5ECF6",
              "width": 0.5
             },
             "pattern": {
              "fillmode": "overlay",
              "size": 10,
              "solidity": 0.2
             }
            },
            "type": "bar"
           }
          ],
          "barpolar": [
           {
            "marker": {
             "line": {
              "color": "#E5ECF6",
              "width": 0.5
             },
             "pattern": {
              "fillmode": "overlay",
              "size": 10,
              "solidity": 0.2
             }
            },
            "type": "barpolar"
           }
          ],
          "carpet": [
           {
            "aaxis": {
             "endlinecolor": "#2a3f5f",
             "gridcolor": "white",
             "linecolor": "white",
             "minorgridcolor": "white",
             "startlinecolor": "#2a3f5f"
            },
            "baxis": {
             "endlinecolor": "#2a3f5f",
             "gridcolor": "white",
             "linecolor": "white",
             "minorgridcolor": "white",
             "startlinecolor": "#2a3f5f"
            },
            "type": "carpet"
           }
          ],
          "choropleth": [
           {
            "colorbar": {
             "outlinewidth": 0,
             "ticks": ""
            },
            "type": "choropleth"
           }
          ],
          "contour": [
           {
            "colorbar": {
             "outlinewidth": 0,
             "ticks": ""
            },
            "colorscale": [
             [
              0,
              "#0d0887"
             ],
             [
              0.1111111111111111,
              "#46039f"
             ],
             [
              0.2222222222222222,
              "#7201a8"
             ],
             [
              0.3333333333333333,
              "#9c179e"
             ],
             [
              0.4444444444444444,
              "#bd3786"
             ],
             [
              0.5555555555555556,
              "#d8576b"
             ],
             [
              0.6666666666666666,
              "#ed7953"
             ],
             [
              0.7777777777777778,
              "#fb9f3a"
             ],
             [
              0.8888888888888888,
              "#fdca26"
             ],
             [
              1,
              "#f0f921"
             ]
            ],
            "type": "contour"
           }
          ],
          "contourcarpet": [
           {
            "colorbar": {
             "outlinewidth": 0,
             "ticks": ""
            },
            "type": "contourcarpet"
           }
          ],
          "heatmap": [
           {
            "colorbar": {
             "outlinewidth": 0,
             "ticks": ""
            },
            "colorscale": [
             [
              0,
              "#0d0887"
             ],
             [
              0.1111111111111111,
              "#46039f"
             ],
             [
              0.2222222222222222,
              "#7201a8"
             ],
             [
              0.3333333333333333,
              "#9c179e"
             ],
             [
              0.4444444444444444,
              "#bd3786"
             ],
             [
              0.5555555555555556,
              "#d8576b"
             ],
             [
              0.6666666666666666,
              "#ed7953"
             ],
             [
              0.7777777777777778,
              "#fb9f3a"
             ],
             [
              0.8888888888888888,
              "#fdca26"
             ],
             [
              1,
              "#f0f921"
             ]
            ],
            "type": "heatmap"
           }
          ],
          "heatmapgl": [
           {
            "colorbar": {
             "outlinewidth": 0,
             "ticks": ""
            },
            "colorscale": [
             [
              0,
              "#0d0887"
             ],
             [
              0.1111111111111111,
              "#46039f"
             ],
             [
              0.2222222222222222,
              "#7201a8"
             ],
             [
              0.3333333333333333,
              "#9c179e"
             ],
             [
              0.4444444444444444,
              "#bd3786"
             ],
             [
              0.5555555555555556,
              "#d8576b"
             ],
             [
              0.6666666666666666,
              "#ed7953"
             ],
             [
              0.7777777777777778,
              "#fb9f3a"
             ],
             [
              0.8888888888888888,
              "#fdca26"
             ],
             [
              1,
              "#f0f921"
             ]
            ],
            "type": "heatmapgl"
           }
          ],
          "histogram": [
           {
            "marker": {
             "pattern": {
              "fillmode": "overlay",
              "size": 10,
              "solidity": 0.2
             }
            },
            "type": "histogram"
           }
          ],
          "histogram2d": [
           {
            "colorbar": {
             "outlinewidth": 0,
             "ticks": ""
            },
            "colorscale": [
             [
              0,
              "#0d0887"
             ],
             [
              0.1111111111111111,
              "#46039f"
             ],
             [
              0.2222222222222222,
              "#7201a8"
             ],
             [
              0.3333333333333333,
              "#9c179e"
             ],
             [
              0.4444444444444444,
              "#bd3786"
             ],
             [
              0.5555555555555556,
              "#d8576b"
             ],
             [
              0.6666666666666666,
              "#ed7953"
             ],
             [
              0.7777777777777778,
              "#fb9f3a"
             ],
             [
              0.8888888888888888,
              "#fdca26"
             ],
             [
              1,
              "#f0f921"
             ]
            ],
            "type": "histogram2d"
           }
          ],
          "histogram2dcontour": [
           {
            "colorbar": {
             "outlinewidth": 0,
             "ticks": ""
            },
            "colorscale": [
             [
              0,
              "#0d0887"
             ],
             [
              0.1111111111111111,
              "#46039f"
             ],
             [
              0.2222222222222222,
              "#7201a8"
             ],
             [
              0.3333333333333333,
              "#9c179e"
             ],
             [
              0.4444444444444444,
              "#bd3786"
             ],
             [
              0.5555555555555556,
              "#d8576b"
             ],
             [
              0.6666666666666666,
              "#ed7953"
             ],
             [
              0.7777777777777778,
              "#fb9f3a"
             ],
             [
              0.8888888888888888,
              "#fdca26"
             ],
             [
              1,
              "#f0f921"
             ]
            ],
            "type": "histogram2dcontour"
           }
          ],
          "mesh3d": [
           {
            "colorbar": {
             "outlinewidth": 0,
             "ticks": ""
            },
            "type": "mesh3d"
           }
          ],
          "parcoords": [
           {
            "line": {
             "colorbar": {
              "outlinewidth": 0,
              "ticks": ""
             }
            },
            "type": "parcoords"
           }
          ],
          "pie": [
           {
            "automargin": true,
            "type": "pie"
           }
          ],
          "scatter": [
           {
            "fillpattern": {
             "fillmode": "overlay",
             "size": 10,
             "solidity": 0.2
            },
            "type": "scatter"
           }
          ],
          "scatter3d": [
           {
            "line": {
             "colorbar": {
              "outlinewidth": 0,
              "ticks": ""
             }
            },
            "marker": {
             "colorbar": {
              "outlinewidth": 0,
              "ticks": ""
             }
            },
            "type": "scatter3d"
           }
          ],
          "scattercarpet": [
           {
            "marker": {
             "colorbar": {
              "outlinewidth": 0,
              "ticks": ""
             }
            },
            "type": "scattercarpet"
           }
          ],
          "scattergeo": [
           {
            "marker": {
             "colorbar": {
              "outlinewidth": 0,
              "ticks": ""
             }
            },
            "type": "scattergeo"
           }
          ],
          "scattergl": [
           {
            "marker": {
             "colorbar": {
              "outlinewidth": 0,
              "ticks": ""
             }
            },
            "type": "scattergl"
           }
          ],
          "scattermapbox": [
           {
            "marker": {
             "colorbar": {
              "outlinewidth": 0,
              "ticks": ""
             }
            },
            "type": "scattermapbox"
           }
          ],
          "scatterpolar": [
           {
            "marker": {
             "colorbar": {
              "outlinewidth": 0,
              "ticks": ""
             }
            },
            "type": "scatterpolar"
           }
          ],
          "scatterpolargl": [
           {
            "marker": {
             "colorbar": {
              "outlinewidth": 0,
              "ticks": ""
             }
            },
            "type": "scatterpolargl"
           }
          ],
          "scatterternary": [
           {
            "marker": {
             "colorbar": {
              "outlinewidth": 0,
              "ticks": ""
             }
            },
            "type": "scatterternary"
           }
          ],
          "surface": [
           {
            "colorbar": {
             "outlinewidth": 0,
             "ticks": ""
            },
            "colorscale": [
             [
              0,
              "#0d0887"
             ],
             [
              0.1111111111111111,
              "#46039f"
             ],
             [
              0.2222222222222222,
              "#7201a8"
             ],
             [
              0.3333333333333333,
              "#9c179e"
             ],
             [
              0.4444444444444444,
              "#bd3786"
             ],
             [
              0.5555555555555556,
              "#d8576b"
             ],
             [
              0.6666666666666666,
              "#ed7953"
             ],
             [
              0.7777777777777778,
              "#fb9f3a"
             ],
             [
              0.8888888888888888,
              "#fdca26"
             ],
             [
              1,
              "#f0f921"
             ]
            ],
            "type": "surface"
           }
          ],
          "table": [
           {
            "cells": {
             "fill": {
              "color": "#EBF0F8"
             },
             "line": {
              "color": "white"
             }
            },
            "header": {
             "fill": {
              "color": "#C8D4E3"
             },
             "line": {
              "color": "white"
             }
            },
            "type": "table"
           }
          ]
         },
         "layout": {
          "annotationdefaults": {
           "arrowcolor": "#2a3f5f",
           "arrowhead": 0,
           "arrowwidth": 1
          },
          "autotypenumbers": "strict",
          "coloraxis": {
           "colorbar": {
            "outlinewidth": 0,
            "ticks": ""
           }
          },
          "colorscale": {
           "diverging": [
            [
             0,
             "#8e0152"
            ],
            [
             0.1,
             "#c51b7d"
            ],
            [
             0.2,
             "#de77ae"
            ],
            [
             0.3,
             "#f1b6da"
            ],
            [
             0.4,
             "#fde0ef"
            ],
            [
             0.5,
             "#f7f7f7"
            ],
            [
             0.6,
             "#e6f5d0"
            ],
            [
             0.7,
             "#b8e186"
            ],
            [
             0.8,
             "#7fbc41"
            ],
            [
             0.9,
             "#4d9221"
            ],
            [
             1,
             "#276419"
            ]
           ],
           "sequential": [
            [
             0,
             "#0d0887"
            ],
            [
             0.1111111111111111,
             "#46039f"
            ],
            [
             0.2222222222222222,
             "#7201a8"
            ],
            [
             0.3333333333333333,
             "#9c179e"
            ],
            [
             0.4444444444444444,
             "#bd3786"
            ],
            [
             0.5555555555555556,
             "#d8576b"
            ],
            [
             0.6666666666666666,
             "#ed7953"
            ],
            [
             0.7777777777777778,
             "#fb9f3a"
            ],
            [
             0.8888888888888888,
             "#fdca26"
            ],
            [
             1,
             "#f0f921"
            ]
           ],
           "sequentialminus": [
            [
             0,
             "#0d0887"
            ],
            [
             0.1111111111111111,
             "#46039f"
            ],
            [
             0.2222222222222222,
             "#7201a8"
            ],
            [
             0.3333333333333333,
             "#9c179e"
            ],
            [
             0.4444444444444444,
             "#bd3786"
            ],
            [
             0.5555555555555556,
             "#d8576b"
            ],
            [
             0.6666666666666666,
             "#ed7953"
            ],
            [
             0.7777777777777778,
             "#fb9f3a"
            ],
            [
             0.8888888888888888,
             "#fdca26"
            ],
            [
             1,
             "#f0f921"
            ]
           ]
          },
          "colorway": [
           "#636efa",
           "#EF553B",
           "#00cc96",
           "#ab63fa",
           "#FFA15A",
           "#19d3f3",
           "#FF6692",
           "#B6E880",
           "#FF97FF",
           "#FECB52"
          ],
          "font": {
           "color": "#2a3f5f"
          },
          "geo": {
           "bgcolor": "white",
           "lakecolor": "white",
           "landcolor": "#E5ECF6",
           "showlakes": true,
           "showland": true,
           "subunitcolor": "white"
          },
          "hoverlabel": {
           "align": "left"
          },
          "hovermode": "closest",
          "mapbox": {
           "style": "light"
          },
          "paper_bgcolor": "white",
          "plot_bgcolor": "#E5ECF6",
          "polar": {
           "angularaxis": {
            "gridcolor": "white",
            "linecolor": "white",
            "ticks": ""
           },
           "bgcolor": "#E5ECF6",
           "radialaxis": {
            "gridcolor": "white",
            "linecolor": "white",
            "ticks": ""
           }
          },
          "scene": {
           "xaxis": {
            "backgroundcolor": "#E5ECF6",
            "gridcolor": "white",
            "gridwidth": 2,
            "linecolor": "white",
            "showbackground": true,
            "ticks": "",
            "zerolinecolor": "white"
           },
           "yaxis": {
            "backgroundcolor": "#E5ECF6",
            "gridcolor": "white",
            "gridwidth": 2,
            "linecolor": "white",
            "showbackground": true,
            "ticks": "",
            "zerolinecolor": "white"
           },
           "zaxis": {
            "backgroundcolor": "#E5ECF6",
            "gridcolor": "white",
            "gridwidth": 2,
            "linecolor": "white",
            "showbackground": true,
            "ticks": "",
            "zerolinecolor": "white"
           }
          },
          "shapedefaults": {
           "line": {
            "color": "#2a3f5f"
           }
          },
          "ternary": {
           "aaxis": {
            "gridcolor": "white",
            "linecolor": "white",
            "ticks": ""
           },
           "baxis": {
            "gridcolor": "white",
            "linecolor": "white",
            "ticks": ""
           },
           "bgcolor": "#E5ECF6",
           "caxis": {
            "gridcolor": "white",
            "linecolor": "white",
            "ticks": ""
           }
          },
          "title": {
           "x": 0.05
          },
          "xaxis": {
           "automargin": true,
           "gridcolor": "white",
           "linecolor": "white",
           "ticks": "",
           "title": {
            "standoff": 15
           },
           "zerolinecolor": "white",
           "zerolinewidth": 2
          },
          "yaxis": {
           "automargin": true,
           "gridcolor": "white",
           "linecolor": "white",
           "ticks": "",
           "title": {
            "standoff": 15
           },
           "zerolinecolor": "white",
           "zerolinewidth": 2
          }
         }
        },
        "title": {
         "text": "Residuals vs. Predictions"
        },
        "xaxis": {
         "anchor": "y",
         "domain": [
          0,
          0.7363
         ],
         "title": {
          "text": "prediction_label"
         }
        },
        "xaxis2": {
         "anchor": "y2",
         "domain": [
          0.7413,
          1
         ],
         "matches": "x2",
         "showgrid": true,
         "showline": false,
         "showticklabels": false,
         "ticks": ""
        },
        "yaxis": {
         "anchor": "x",
         "domain": [
          0,
          1
         ],
         "title": {
          "text": "standardized_residuals"
         }
        },
        "yaxis2": {
         "anchor": "x2",
         "domain": [
          0,
          1
         ],
         "matches": "y",
         "showgrid": true,
         "showticklabels": false
        }
       }
      },
      "text/html": [
       "<div>                            <div id=\"5d8883c5-b030-4bb3-8b76-a0b34dc5df8f\" class=\"plotly-graph-div\" style=\"height:525px; width:100%;\"></div>            <script type=\"text/javascript\">                require([\"plotly\"], function(Plotly) {                    window.PLOTLYENV=window.PLOTLYENV || {};                                    if (document.getElementById(\"5d8883c5-b030-4bb3-8b76-a0b34dc5df8f\")) {                    Plotly.newPlot(                        \"5d8883c5-b030-4bb3-8b76-a0b34dc5df8f\",                        [{\"hovertemplate\":\"prediction_label=%{x}\\u003cbr\\u003estandardized_residuals=%{y}\\u003cbr\\u003estations=%{marker.color}\\u003cextra\\u003e\\u003c\\u002fextra\\u003e\",\"legendgroup\":\"\",\"marker\":{\"color\":[2.0,7.0,13.0,24.0,28.0,12.0,7.0,22.0,11.0,4.0,7.0,2.0,7.0,26.0,21.0,3.0,12.0,8.0,10.0,3.0,10.0,10.0,5.0,3.0,28.0,13.0,8.0,29.0,18.0,5.0,34.0,9.0,4.0,9.0,4.0,32.0,10.0,3.0,13.0,33.0,17.0,7.0,8.0,1.0,24.0,9.0,15.0,8.0,22.0,7.0,18.0,20.0,20.0,16.0,4.0,4.0,11.0,25.0,24.0,12.0,6.0,6.0,29.0,3.0,8.0,18.0,3.0,15.0,24.0,9.0,17.0,3.0,13.0,9.0,21.0,8.0,20.0,3.0,22.0,26.0,37.0,5.0,16.0,10.0,10.0,5.0,27.0,9.0,16.0,10.0,4.0,2.0,4.0,1.0,33.0,4.0,12.0,4.0,4.0,1.0,2.0,14.0,1.0,6.0,1.0,10.0,25.0,8.0,4.0,4.0,4.0,10.0,18.0,16.0,11.0,16.0,32.0,11.0,2.0,12.0,4.0,4.0,23.0,10.0,1.0,4.0,9.0,3.0,2.0,4.0,7.0,4.0,20.0,12.0,18.0,9.0,2.0,12.0,1.0,15.0,3.0,22.0,12.0,23.0,9.0,27.0,21.0,23.0,8.0,8.0,16.0,12.0,6.0],\"coloraxis\":\"coloraxis\",\"symbol\":\"circle\"},\"mode\":\"markers\",\"name\":\"\",\"orientation\":\"v\",\"showlegend\":false,\"x\":[102.17075168523426,3909.7704871114506,6920.920249130324,5268.208083240094,6760.0144776494335,3858.3344491629646,2349.239536122795,5897.937025079799,4435.815738083743,711.2659472678106,2326.711862829154,940.3044486118208,4709.619327117738,5795.85333626691,4833.920243871619,2256.100621524896,1385.8422258624107,2043.780415821033,1160.8819740647707,1606.9072728099468,2737.385426378707,1984.646631822834,4849.963972840398,209.79699774698219,9016.523576894417,2399.9164016263617,1402.7258299293155,5023.398728304678,4121.339356974152,391.4180175035354,4830.721371054077,2432.598041184661,712.5899023329719,3536.359884333109,1552.4975766685916,4470.762016782005,2565.4349745077,1266.8177926573169,2967.6183700283163,1985.32896604746,4220.215656449808,1985.8244320984018,1177.09158857903,393.6873156975606,7268.441549259022,1956.4130366664212,4361.574067220727,2037.9995264626702,5196.764660166508,2735.0654534078085,4752.053710921977,4950.439051173166,5322.941802880912,3526.810497421209,892.525179472119,1072.587774437639,2477.568581498402,7065.36375651176,6869.34082113443,1978.6576126423251,1548.8883529177147,2263.260504176783,6016.382738518791,925.7097077597173,3099.15187940601,5077.396011182047,559.6767102363265,3857.1356519534484,5493.089427639241,1014.6010386514137,7892.356812536884,1667.91238774261,3654.6368023481477,2335.6024216704027,6908.393711495163,2129.8473303427772,2184.3856253609865,956.6154533581798,3880.605012259879,8427.881808975493,6623.072219015205,2020.4027677777926,4896.070492625913,8052.29400413316,798.6157997011635,4180.952361207191,7580.593788473695,2130.0428711993322,4021.556856527583,2370.148299614138,5554.047695999176,534.0442335517316,1467.9905068613652,242.8594913283437,7322.05767228667,704.8064894089756,3752.622115837646,1184.2029729575074,907.647891863835,293.30295869800506,511.25012182155956,796.1856004486104,393.67144367998924,1945.3430808330365,570.6932402499672,1610.4666637931011,5350.305891165746,6076.583043730741,1647.5365707111987,1027.7243429452365,874.6259587450197,3437.833188695071,3322.1522572646472,2516.580677316223,2991.1267819448067,4017.676583449817,5210.817013271293,3089.845584975268,530.0959489040278,2276.853202040228,529.3405672772227,1009.7698706434339,6080.43418189986,2252.438006613417,305.4627479109936,189.12254000875805,3054.8356663413815,953.4646920086276,929.8792767142431,532.4827107811745,2223.060479841364,1839.2855960419786,4880.219989336049,2390.5820074790686,7419.856289871027,3522.063720092318,1070.1224767475255,1951.678404739919,1114.7082816758182,2079.132961976022,1618.9009414356337,3323.212787077543,2121.4795657781824,5201.343920562827,2771.722335679372,8993.950610021906,7164.924471631425,3659.4499656355856,4254.139530042213,745.4051572946913,912.2279723028626,353.2571685693962,668.0533491689931],\"xaxis\":\"x\",\"y\":[0.10718757984004063,0.11086173350641913,2.0652957993390353,-0.11140544785525983,-0.8457225120386594,0.6046542134687367,-0.5655264318227493,1.5664649530011903,-1.2415624129233056,-0.1933616346954348,2.144803818869288,0.12959416135494814,-3.0164742701569693,0.12695827078031854,0.7955879028561514,-0.849983062559264,-0.4157258535111172,-0.13109234426606745,0.19416865131480918,-0.4698905312918919,-1.2587918095111483,0.5635569241574094,4.171050187053832,0.08744701023847673,-0.8342342882418152,-1.1622533953429792,-0.6871435935266124,-0.047284043744483396,1.9044650926776512,-0.16639419407157024,0.2584397006690281,0.865204248894011,-0.10637569217584221,-0.08175671352877935,0.24437950589482976,2.619513276812443,0.0025816004918747934,-0.46500792249082595,0.2606008073520154,-1.2697822583585578,-0.7208270431355275,0.27150232890249143,0.158857161404513,-0.047074300987293705,0.1491570483615328,-0.06213943812243383,-0.7817328386361185,-0.3029452402087591,-0.15097933301366367,-0.163010758863268,-0.7965556945542388,0.9327347566248745,0.022922047986947438,-0.24605553818057577,-0.3066265274918681,-0.39991567639567277,0.011432170425808566,-0.762750471765021,0.7362560661902658,1.0551708669291096,0.7208426459222813,-0.12289745222728114,0.267034550242766,-0.026447850460265876,-0.5900997015828551,-0.4911822211201383,0.18624407601428858,-0.04238950291399794,-0.6413264696616281,-0.45188192274730365,1.7512096225860998,0.0594371846150378,-2.130048286657006,-0.4257259883128896,2.7821143405341573,-0.8469166891395016,-0.5239803879166212,0.5685772547996735,-2.256297098148558,-0.7803518294959371,-2.9729173560587703,-0.8121043393671602,-0.23511010026048043,-2.589717677876966,-0.20708040017746085,-1.8853385417258366,0.433241193754502,0.26805321106105906,-0.08261965302651933,0.20436501326851347,1.8033498194331006,-0.26337142992880996,0.3957061658797999,0.14705563369606162,0.4494984934670181,0.10738341907848155,0.053818527577218785,-0.3890428681078866,-0.4289947432626206,0.046552674813028404,-0.31920804408682324,-0.2087831486189691,0.3019562017242479,-0.47771081625618084,-0.045135919285423105,0.6790251313961008,0.9439845150264756,2.2198498405485276,-0.6405752941423192,0.3009800903324007,0.2439953470089954,-0.2906674117027766,-0.8560837817898093,-0.21814334935976062,-1.1753838458508226,0.338544548268741,0.6507843230068241,0.1254756601104307,0.024930971110588195,-0.4181793492777123,0.04335050487779172,1.0996286704927467,0.06401240395184254,-0.2165056908960581,0.18984355199605987,0.008573857949728194,0.7837843909066909,0.47691763602095505,-0.37664977694650476,-0.19744453381502403,-0.39789087818926117,0.19530780987473803,3.7514767424865485,0.6106396489707562,0.1184812129425209,-0.024742563847081497,-0.2029518320718047,-0.35949386361499547,-0.43790689325302995,-0.03825693207422545,1.512254169409071,-1.0913274876964663,0.13339953545093663,-0.05358846693352071,0.7728715609659034,1.4408125266407783,-1.3458269367592544,-1.6484812676918918,0.07856111937140106,0.07623203932735458,-0.3699402867415168,-0.1491836808600407,-0.1747198869047541],\"yaxis\":\"y\",\"type\":\"scatter\"},{\"alignmentgroup\":\"True\",\"bingroup\":\"y\",\"hovertemplate\":\"standardized_residuals=%{y}\\u003cbr\\u003ecount=%{x}\\u003cextra\\u003e\\u003c\\u002fextra\\u003e\",\"legendgroup\":\"\",\"marker\":{\"color\":\"#0d0887\"},\"name\":\"\",\"offsetgroup\":\"\",\"opacity\":0.5,\"showlegend\":false,\"xaxis\":\"x2\",\"y\":[0.10718757984004063,0.11086173350641913,2.0652957993390353,-0.11140544785525983,-0.8457225120386594,0.6046542134687367,-0.5655264318227493,1.5664649530011903,-1.2415624129233056,-0.1933616346954348,2.144803818869288,0.12959416135494814,-3.0164742701569693,0.12695827078031854,0.7955879028561514,-0.849983062559264,-0.4157258535111172,-0.13109234426606745,0.19416865131480918,-0.4698905312918919,-1.2587918095111483,0.5635569241574094,4.171050187053832,0.08744701023847673,-0.8342342882418152,-1.1622533953429792,-0.6871435935266124,-0.047284043744483396,1.9044650926776512,-0.16639419407157024,0.2584397006690281,0.865204248894011,-0.10637569217584221,-0.08175671352877935,0.24437950589482976,2.619513276812443,0.0025816004918747934,-0.46500792249082595,0.2606008073520154,-1.2697822583585578,-0.7208270431355275,0.27150232890249143,0.158857161404513,-0.047074300987293705,0.1491570483615328,-0.06213943812243383,-0.7817328386361185,-0.3029452402087591,-0.15097933301366367,-0.163010758863268,-0.7965556945542388,0.9327347566248745,0.022922047986947438,-0.24605553818057577,-0.3066265274918681,-0.39991567639567277,0.011432170425808566,-0.762750471765021,0.7362560661902658,1.0551708669291096,0.7208426459222813,-0.12289745222728114,0.267034550242766,-0.026447850460265876,-0.5900997015828551,-0.4911822211201383,0.18624407601428858,-0.04238950291399794,-0.6413264696616281,-0.45188192274730365,1.7512096225860998,0.0594371846150378,-2.130048286657006,-0.4257259883128896,2.7821143405341573,-0.8469166891395016,-0.5239803879166212,0.5685772547996735,-2.256297098148558,-0.7803518294959371,-2.9729173560587703,-0.8121043393671602,-0.23511010026048043,-2.589717677876966,-0.20708040017746085,-1.8853385417258366,0.433241193754502,0.26805321106105906,-0.08261965302651933,0.20436501326851347,1.8033498194331006,-0.26337142992880996,0.3957061658797999,0.14705563369606162,0.4494984934670181,0.10738341907848155,0.053818527577218785,-0.3890428681078866,-0.4289947432626206,0.046552674813028404,-0.31920804408682324,-0.2087831486189691,0.3019562017242479,-0.47771081625618084,-0.045135919285423105,0.6790251313961008,0.9439845150264756,2.2198498405485276,-0.6405752941423192,0.3009800903324007,0.2439953470089954,-0.2906674117027766,-0.8560837817898093,-0.21814334935976062,-1.1753838458508226,0.338544548268741,0.6507843230068241,0.1254756601104307,0.024930971110588195,-0.4181793492777123,0.04335050487779172,1.0996286704927467,0.06401240395184254,-0.2165056908960581,0.18984355199605987,0.008573857949728194,0.7837843909066909,0.47691763602095505,-0.37664977694650476,-0.19744453381502403,-0.39789087818926117,0.19530780987473803,3.7514767424865485,0.6106396489707562,0.1184812129425209,-0.024742563847081497,-0.2029518320718047,-0.35949386361499547,-0.43790689325302995,-0.03825693207422545,1.512254169409071,-1.0913274876964663,0.13339953545093663,-0.05358846693352071,0.7728715609659034,1.4408125266407783,-1.3458269367592544,-1.6484812676918918,0.07856111937140106,0.07623203932735458,-0.3699402867415168,-0.1491836808600407,-0.1747198869047541],\"yaxis\":\"y2\",\"type\":\"histogram\"}],                        {\"template\":{\"data\":{\"histogram2dcontour\":[{\"type\":\"histogram2dcontour\",\"colorbar\":{\"outlinewidth\":0,\"ticks\":\"\"},\"colorscale\":[[0.0,\"#0d0887\"],[0.1111111111111111,\"#46039f\"],[0.2222222222222222,\"#7201a8\"],[0.3333333333333333,\"#9c179e\"],[0.4444444444444444,\"#bd3786\"],[0.5555555555555556,\"#d8576b\"],[0.6666666666666666,\"#ed7953\"],[0.7777777777777778,\"#fb9f3a\"],[0.8888888888888888,\"#fdca26\"],[1.0,\"#f0f921\"]]}],\"choropleth\":[{\"type\":\"choropleth\",\"colorbar\":{\"outlinewidth\":0,\"ticks\":\"\"}}],\"histogram2d\":[{\"type\":\"histogram2d\",\"colorbar\":{\"outlinewidth\":0,\"ticks\":\"\"},\"colorscale\":[[0.0,\"#0d0887\"],[0.1111111111111111,\"#46039f\"],[0.2222222222222222,\"#7201a8\"],[0.3333333333333333,\"#9c179e\"],[0.4444444444444444,\"#bd3786\"],[0.5555555555555556,\"#d8576b\"],[0.6666666666666666,\"#ed7953\"],[0.7777777777777778,\"#fb9f3a\"],[0.8888888888888888,\"#fdca26\"],[1.0,\"#f0f921\"]]}],\"heatmap\":[{\"type\":\"heatmap\",\"colorbar\":{\"outlinewidth\":0,\"ticks\":\"\"},\"colorscale\":[[0.0,\"#0d0887\"],[0.1111111111111111,\"#46039f\"],[0.2222222222222222,\"#7201a8\"],[0.3333333333333333,\"#9c179e\"],[0.4444444444444444,\"#bd3786\"],[0.5555555555555556,\"#d8576b\"],[0.6666666666666666,\"#ed7953\"],[0.7777777777777778,\"#fb9f3a\"],[0.8888888888888888,\"#fdca26\"],[1.0,\"#f0f921\"]]}],\"heatmapgl\":[{\"type\":\"heatmapgl\",\"colorbar\":{\"outlinewidth\":0,\"ticks\":\"\"},\"colorscale\":[[0.0,\"#0d0887\"],[0.1111111111111111,\"#46039f\"],[0.2222222222222222,\"#7201a8\"],[0.3333333333333333,\"#9c179e\"],[0.4444444444444444,\"#bd3786\"],[0.5555555555555556,\"#d8576b\"],[0.6666666666666666,\"#ed7953\"],[0.7777777777777778,\"#fb9f3a\"],[0.8888888888888888,\"#fdca26\"],[1.0,\"#f0f921\"]]}],\"contourcarpet\":[{\"type\":\"contourcarpet\",\"colorbar\":{\"outlinewidth\":0,\"ticks\":\"\"}}],\"contour\":[{\"type\":\"contour\",\"colorbar\":{\"outlinewidth\":0,\"ticks\":\"\"},\"colorscale\":[[0.0,\"#0d0887\"],[0.1111111111111111,\"#46039f\"],[0.2222222222222222,\"#7201a8\"],[0.3333333333333333,\"#9c179e\"],[0.4444444444444444,\"#bd3786\"],[0.5555555555555556,\"#d8576b\"],[0.6666666666666666,\"#ed7953\"],[0.7777777777777778,\"#fb9f3a\"],[0.8888888888888888,\"#fdca26\"],[1.0,\"#f0f921\"]]}],\"surface\":[{\"type\":\"surface\",\"colorbar\":{\"outlinewidth\":0,\"ticks\":\"\"},\"colorscale\":[[0.0,\"#0d0887\"],[0.1111111111111111,\"#46039f\"],[0.2222222222222222,\"#7201a8\"],[0.3333333333333333,\"#9c179e\"],[0.4444444444444444,\"#bd3786\"],[0.5555555555555556,\"#d8576b\"],[0.6666666666666666,\"#ed7953\"],[0.7777777777777778,\"#fb9f3a\"],[0.8888888888888888,\"#fdca26\"],[1.0,\"#f0f921\"]]}],\"mesh3d\":[{\"type\":\"mesh3d\",\"colorbar\":{\"outlinewidth\":0,\"ticks\":\"\"}}],\"scatter\":[{\"fillpattern\":{\"fillmode\":\"overlay\",\"size\":10,\"solidity\":0.2},\"type\":\"scatter\"}],\"parcoords\":[{\"type\":\"parcoords\",\"line\":{\"colorbar\":{\"outlinewidth\":0,\"ticks\":\"\"}}}],\"scatterpolargl\":[{\"type\":\"scatterpolargl\",\"marker\":{\"colorbar\":{\"outlinewidth\":0,\"ticks\":\"\"}}}],\"bar\":[{\"error_x\":{\"color\":\"#2a3f5f\"},\"error_y\":{\"color\":\"#2a3f5f\"},\"marker\":{\"line\":{\"color\":\"#E5ECF6\",\"width\":0.5},\"pattern\":{\"fillmode\":\"overlay\",\"size\":10,\"solidity\":0.2}},\"type\":\"bar\"}],\"scattergeo\":[{\"type\":\"scattergeo\",\"marker\":{\"colorbar\":{\"outlinewidth\":0,\"ticks\":\"\"}}}],\"scatterpolar\":[{\"type\":\"scatterpolar\",\"marker\":{\"colorbar\":{\"outlinewidth\":0,\"ticks\":\"\"}}}],\"histogram\":[{\"marker\":{\"pattern\":{\"fillmode\":\"overlay\",\"size\":10,\"solidity\":0.2}},\"type\":\"histogram\"}],\"scattergl\":[{\"type\":\"scattergl\",\"marker\":{\"colorbar\":{\"outlinewidth\":0,\"ticks\":\"\"}}}],\"scatter3d\":[{\"type\":\"scatter3d\",\"line\":{\"colorbar\":{\"outlinewidth\":0,\"ticks\":\"\"}},\"marker\":{\"colorbar\":{\"outlinewidth\":0,\"ticks\":\"\"}}}],\"scattermapbox\":[{\"type\":\"scattermapbox\",\"marker\":{\"colorbar\":{\"outlinewidth\":0,\"ticks\":\"\"}}}],\"scatterternary\":[{\"type\":\"scatterternary\",\"marker\":{\"colorbar\":{\"outlinewidth\":0,\"ticks\":\"\"}}}],\"scattercarpet\":[{\"type\":\"scattercarpet\",\"marker\":{\"colorbar\":{\"outlinewidth\":0,\"ticks\":\"\"}}}],\"carpet\":[{\"aaxis\":{\"endlinecolor\":\"#2a3f5f\",\"gridcolor\":\"white\",\"linecolor\":\"white\",\"minorgridcolor\":\"white\",\"startlinecolor\":\"#2a3f5f\"},\"baxis\":{\"endlinecolor\":\"#2a3f5f\",\"gridcolor\":\"white\",\"linecolor\":\"white\",\"minorgridcolor\":\"white\",\"startlinecolor\":\"#2a3f5f\"},\"type\":\"carpet\"}],\"table\":[{\"cells\":{\"fill\":{\"color\":\"#EBF0F8\"},\"line\":{\"color\":\"white\"}},\"header\":{\"fill\":{\"color\":\"#C8D4E3\"},\"line\":{\"color\":\"white\"}},\"type\":\"table\"}],\"barpolar\":[{\"marker\":{\"line\":{\"color\":\"#E5ECF6\",\"width\":0.5},\"pattern\":{\"fillmode\":\"overlay\",\"size\":10,\"solidity\":0.2}},\"type\":\"barpolar\"}],\"pie\":[{\"automargin\":true,\"type\":\"pie\"}]},\"layout\":{\"autotypenumbers\":\"strict\",\"colorway\":[\"#636efa\",\"#EF553B\",\"#00cc96\",\"#ab63fa\",\"#FFA15A\",\"#19d3f3\",\"#FF6692\",\"#B6E880\",\"#FF97FF\",\"#FECB52\"],\"font\":{\"color\":\"#2a3f5f\"},\"hovermode\":\"closest\",\"hoverlabel\":{\"align\":\"left\"},\"paper_bgcolor\":\"white\",\"plot_bgcolor\":\"#E5ECF6\",\"polar\":{\"bgcolor\":\"#E5ECF6\",\"angularaxis\":{\"gridcolor\":\"white\",\"linecolor\":\"white\",\"ticks\":\"\"},\"radialaxis\":{\"gridcolor\":\"white\",\"linecolor\":\"white\",\"ticks\":\"\"}},\"ternary\":{\"bgcolor\":\"#E5ECF6\",\"aaxis\":{\"gridcolor\":\"white\",\"linecolor\":\"white\",\"ticks\":\"\"},\"baxis\":{\"gridcolor\":\"white\",\"linecolor\":\"white\",\"ticks\":\"\"},\"caxis\":{\"gridcolor\":\"white\",\"linecolor\":\"white\",\"ticks\":\"\"}},\"coloraxis\":{\"colorbar\":{\"outlinewidth\":0,\"ticks\":\"\"}},\"colorscale\":{\"sequential\":[[0.0,\"#0d0887\"],[0.1111111111111111,\"#46039f\"],[0.2222222222222222,\"#7201a8\"],[0.3333333333333333,\"#9c179e\"],[0.4444444444444444,\"#bd3786\"],[0.5555555555555556,\"#d8576b\"],[0.6666666666666666,\"#ed7953\"],[0.7777777777777778,\"#fb9f3a\"],[0.8888888888888888,\"#fdca26\"],[1.0,\"#f0f921\"]],\"sequentialminus\":[[0.0,\"#0d0887\"],[0.1111111111111111,\"#46039f\"],[0.2222222222222222,\"#7201a8\"],[0.3333333333333333,\"#9c179e\"],[0.4444444444444444,\"#bd3786\"],[0.5555555555555556,\"#d8576b\"],[0.6666666666666666,\"#ed7953\"],[0.7777777777777778,\"#fb9f3a\"],[0.8888888888888888,\"#fdca26\"],[1.0,\"#f0f921\"]],\"diverging\":[[0,\"#8e0152\"],[0.1,\"#c51b7d\"],[0.2,\"#de77ae\"],[0.3,\"#f1b6da\"],[0.4,\"#fde0ef\"],[0.5,\"#f7f7f7\"],[0.6,\"#e6f5d0\"],[0.7,\"#b8e186\"],[0.8,\"#7fbc41\"],[0.9,\"#4d9221\"],[1,\"#276419\"]]},\"xaxis\":{\"gridcolor\":\"white\",\"linecolor\":\"white\",\"ticks\":\"\",\"title\":{\"standoff\":15},\"zerolinecolor\":\"white\",\"automargin\":true,\"zerolinewidth\":2},\"yaxis\":{\"gridcolor\":\"white\",\"linecolor\":\"white\",\"ticks\":\"\",\"title\":{\"standoff\":15},\"zerolinecolor\":\"white\",\"automargin\":true,\"zerolinewidth\":2},\"scene\":{\"xaxis\":{\"backgroundcolor\":\"#E5ECF6\",\"gridcolor\":\"white\",\"linecolor\":\"white\",\"showbackground\":true,\"ticks\":\"\",\"zerolinecolor\":\"white\",\"gridwidth\":2},\"yaxis\":{\"backgroundcolor\":\"#E5ECF6\",\"gridcolor\":\"white\",\"linecolor\":\"white\",\"showbackground\":true,\"ticks\":\"\",\"zerolinecolor\":\"white\",\"gridwidth\":2},\"zaxis\":{\"backgroundcolor\":\"#E5ECF6\",\"gridcolor\":\"white\",\"linecolor\":\"white\",\"showbackground\":true,\"ticks\":\"\",\"zerolinecolor\":\"white\",\"gridwidth\":2}},\"shapedefaults\":{\"line\":{\"color\":\"#2a3f5f\"}},\"annotationdefaults\":{\"arrowcolor\":\"#2a3f5f\",\"arrowhead\":0,\"arrowwidth\":1},\"geo\":{\"bgcolor\":\"white\",\"landcolor\":\"#E5ECF6\",\"subunitcolor\":\"white\",\"showland\":true,\"showlakes\":true,\"lakecolor\":\"white\"},\"title\":{\"x\":0.05},\"mapbox\":{\"style\":\"light\"}}},\"xaxis\":{\"anchor\":\"y\",\"domain\":[0.0,0.7363],\"title\":{\"text\":\"prediction_label\"}},\"yaxis\":{\"anchor\":\"x\",\"domain\":[0.0,1.0],\"title\":{\"text\":\"standardized_residuals\"}},\"xaxis2\":{\"anchor\":\"y2\",\"domain\":[0.7413,1.0],\"matches\":\"x2\",\"showticklabels\":false,\"showline\":false,\"ticks\":\"\",\"showgrid\":true},\"yaxis2\":{\"anchor\":\"x2\",\"domain\":[0.0,1.0],\"matches\":\"y\",\"showticklabels\":false,\"showgrid\":true},\"coloraxis\":{\"colorbar\":{\"title\":{\"text\":\"stations\"}},\"colorscale\":[[0.0,\"#0d0887\"],[0.1111111111111111,\"#46039f\"],[0.2222222222222222,\"#7201a8\"],[0.3333333333333333,\"#9c179e\"],[0.4444444444444444,\"#bd3786\"],[0.5555555555555556,\"#d8576b\"],[0.6666666666666666,\"#ed7953\"],[0.7777777777777778,\"#fb9f3a\"],[0.8888888888888888,\"#fdca26\"],[1.0,\"#f0f921\"]]},\"legend\":{\"tracegroupgap\":0},\"title\":{\"text\":\"Residuals vs. Predictions\"},\"barmode\":\"overlay\"},                        {\"responsive\": true}                    ).then(function(){\n",
       "                            \n",
       "var gd = document.getElementById('5d8883c5-b030-4bb3-8b76-a0b34dc5df8f');\n",
       "var x = new MutationObserver(function (mutations, observer) {{\n",
       "        var display = window.getComputedStyle(gd).display;\n",
       "        if (!display || display === 'none') {{\n",
       "            console.log([gd, 'removed!']);\n",
       "            Plotly.purge(gd);\n",
       "            observer.disconnect();\n",
       "        }}\n",
       "}});\n",
       "\n",
       "// Listen for the removal of the full notebook cells\n",
       "var notebookContainer = gd.closest('#notebook-container');\n",
       "if (notebookContainer) {{\n",
       "    x.observe(notebookContainer, {childList: true});\n",
       "}}\n",
       "\n",
       "// Listen for the clearing of the current output cell\n",
       "var outputEl = gd.closest('.output');\n",
       "if (outputEl) {{\n",
       "    x.observe(outputEl, {childList: true});\n",
       "}}\n",
       "\n",
       "                        })                };                });            </script>        </div>"
      ]
     },
     "metadata": {},
     "output_type": "display_data"
    }
   ],
   "source": [
    "fig = px.scatter(predictions,color = 'stations', x='prediction_label', y='standardized_residuals', \n",
    "                title=\"Residuals vs. Predictions\",marginal_y=\"histogram\")\n",
    "fig.show()"
   ]
  },
  {
   "cell_type": "markdown",
   "id": "44878c29",
   "metadata": {},
   "source": [
    "Notably in both the box plots and the scatterplots, as the number of stations increases beyond 15 stations, the predictions become less predictable. This may be due to the lack of data in this area or it may be simply a constraint of larger transit projects."
   ]
  },
  {
   "cell_type": "markdown",
   "id": "3c5866f7",
   "metadata": {},
   "source": [
    "##### Affordability"
   ]
  },
  {
   "cell_type": "code",
   "execution_count": 25,
   "id": "c23429a2",
   "metadata": {},
   "outputs": [
    {
     "data": {
      "application/vnd.plotly.v1+json": {
       "config": {
        "plotlyServerURL": "https://plot.ly"
       },
       "data": [
        {
         "hovertemplate": "affordability=Unaffordable<br>prediction_label=%{x}<br>standardized_residuals=%{y}<extra></extra>",
         "legendgroup": "Unaffordable",
         "marker": {
          "color": "#636efa",
          "symbol": "circle"
         },
         "mode": "markers",
         "name": "Unaffordable",
         "orientation": "v",
         "showlegend": true,
         "type": "scatter",
         "x": [
          102.17075168523426,
          6760.0144776494335,
          2256.100621524896,
          2399.9164016263617,
          1402.7258299293155,
          4830.721371054077,
          712.5899023329719,
          1985.32896604746,
          4752.053710921977,
          925.7097077597173,
          559.6767102363265,
          2184.3856253609865,
          4896.070492625913,
          534.0442335517316,
          1467.9905068613652,
          1945.3430808330365,
          1610.4666637931011,
          874.6259587450197,
          3322.1522572646472,
          2516.580677316223,
          2276.853202040228,
          529.3405672772227,
          305.4627479109936,
          189.12254000875805,
          953.4646920086276,
          532.4827107811745,
          2223.060479841364,
          1951.678404739919,
          2079.132961976022,
          3659.4499656355856
         ],
         "xaxis": "x",
         "y": [
          0.10718757984004063,
          -0.8457225120386594,
          -0.849983062559264,
          -1.1622533953429792,
          -0.6871435935266124,
          0.2584397006690281,
          -0.10637569217584221,
          -1.2697822583585578,
          -0.7965556945542388,
          -0.026447850460265876,
          0.18624407601428858,
          -0.5239803879166212,
          -0.23511010026048043,
          -0.26337142992880996,
          0.3957061658797999,
          -0.47771081625618084,
          0.6790251313961008,
          0.2439953470089954,
          -0.8560837817898093,
          -0.21814334935976062,
          -0.4181793492777123,
          0.04335050487779172,
          0.18984355199605987,
          0.008573857949728194,
          0.47691763602095505,
          -0.19744453381502403,
          -0.39789087818926117,
          -0.35949386361499547,
          -0.03825693207422545,
          -1.6484812676918918
         ],
         "yaxis": "y"
        },
        {
         "alignmentgroup": "True",
         "bingroup": "y",
         "hovertemplate": "affordability=Unaffordable<br>standardized_residuals=%{y}<br>count=%{x}<extra></extra>",
         "legendgroup": "Unaffordable",
         "marker": {
          "color": "#636efa"
         },
         "name": "Unaffordable",
         "offsetgroup": "Unaffordable",
         "opacity": 0.5,
         "showlegend": false,
         "type": "histogram",
         "xaxis": "x2",
         "y": [
          0.10718757984004063,
          -0.8457225120386594,
          -0.849983062559264,
          -1.1622533953429792,
          -0.6871435935266124,
          0.2584397006690281,
          -0.10637569217584221,
          -1.2697822583585578,
          -0.7965556945542388,
          -0.026447850460265876,
          0.18624407601428858,
          -0.5239803879166212,
          -0.23511010026048043,
          -0.26337142992880996,
          0.3957061658797999,
          -0.47771081625618084,
          0.6790251313961008,
          0.2439953470089954,
          -0.8560837817898093,
          -0.21814334935976062,
          -0.4181793492777123,
          0.04335050487779172,
          0.18984355199605987,
          0.008573857949728194,
          0.47691763602095505,
          -0.19744453381502403,
          -0.39789087818926117,
          -0.35949386361499547,
          -0.03825693207422545,
          -1.6484812676918918
         ],
         "yaxis": "y2"
        },
        {
         "hovertemplate": "affordability=Very Unaffordable<br>prediction_label=%{x}<br>standardized_residuals=%{y}<extra></extra>",
         "legendgroup": "Very Unaffordable",
         "marker": {
          "color": "#EF553B",
          "symbol": "circle"
         },
         "mode": "markers",
         "name": "Very Unaffordable",
         "orientation": "v",
         "showlegend": true,
         "type": "scatter",
         "x": [
          3909.7704871114506,
          6920.920249130324,
          5268.208083240094,
          3858.3344491629646,
          5897.937025079799,
          4435.815738083743,
          2326.711862829154,
          940.3044486118208,
          4709.619327117738,
          5795.85333626691,
          4833.920243871619,
          2043.780415821033,
          1606.9072728099468,
          2737.385426378707,
          1984.646631822834,
          4849.963972840398,
          9016.523576894417,
          5023.398728304678,
          4121.339356974152,
          391.4180175035354,
          2432.598041184661,
          3536.359884333109,
          1552.4975766685916,
          4470.762016782005,
          2565.4349745077,
          1266.8177926573169,
          2967.6183700283163,
          4220.215656449808,
          1985.8244320984018,
          393.6873156975606,
          7268.441549259022,
          1956.4130366664212,
          4361.574067220727,
          2037.9995264626702,
          5196.764660166508,
          2735.0654534078085,
          4950.439051173166,
          5322.941802880912,
          3526.810497421209,
          892.525179472119,
          1072.587774437639,
          2477.568581498402,
          7065.36375651176,
          6869.34082113443,
          1978.6576126423251,
          2263.260504176783,
          6016.382738518791,
          3099.15187940601,
          5077.396011182047,
          3857.1356519534484,
          5493.089427639241,
          1014.6010386514137,
          7892.356812536884,
          1667.91238774261,
          2335.6024216704027,
          6908.393711495163,
          2129.8473303427772,
          956.6154533581798,
          3880.605012259879,
          8427.881808975493,
          6623.072219015205,
          2020.4027677777926,
          8052.29400413316,
          4180.952361207191,
          7580.593788473695,
          4021.556856527583,
          2370.148299614138,
          5554.047695999176,
          242.8594913283437,
          7322.05767228667,
          704.8064894089756,
          3752.622115837646,
          1184.2029729575074,
          907.647891863835,
          293.30295869800506,
          511.25012182155956,
          796.1856004486104,
          5350.305891165746,
          6076.583043730741,
          1647.5365707111987,
          1027.7243429452365,
          3437.833188695071,
          2991.1267819448067,
          4017.676583449817,
          5210.817013271293,
          3089.845584975268,
          530.0959489040278,
          1009.7698706434339,
          6080.43418189986,
          2252.438006613417,
          3054.8356663413815,
          1839.2855960419786,
          4880.219989336049,
          2390.5820074790686,
          7419.856289871027,
          3522.063720092318,
          1070.1224767475255,
          2121.4795657781824,
          5201.343920562827,
          2771.722335679372,
          8993.950610021906,
          7164.924471631425,
          4254.139530042213,
          353.2571685693962
         ],
         "xaxis": "x",
         "y": [
          0.11086173350641913,
          2.0652957993390353,
          -0.11140544785525983,
          0.6046542134687367,
          1.5664649530011903,
          -1.2415624129233056,
          2.144803818869288,
          0.12959416135494814,
          -3.0164742701569693,
          0.12695827078031854,
          0.7955879028561514,
          -0.13109234426606745,
          -0.4698905312918919,
          -1.2587918095111483,
          0.5635569241574094,
          4.171050187053832,
          -0.8342342882418152,
          -0.047284043744483396,
          1.9044650926776512,
          -0.16639419407157024,
          0.865204248894011,
          -0.08175671352877935,
          0.24437950589482976,
          2.619513276812443,
          0.0025816004918747934,
          -0.46500792249082595,
          0.2606008073520154,
          -0.7208270431355275,
          0.27150232890249143,
          -0.047074300987293705,
          0.1491570483615328,
          -0.06213943812243383,
          -0.7817328386361185,
          -0.3029452402087591,
          -0.15097933301366367,
          -0.163010758863268,
          0.9327347566248745,
          0.022922047986947438,
          -0.24605553818057577,
          -0.3066265274918681,
          -0.39991567639567277,
          0.011432170425808566,
          -0.762750471765021,
          0.7362560661902658,
          1.0551708669291096,
          -0.12289745222728114,
          0.267034550242766,
          -0.5900997015828551,
          -0.4911822211201383,
          -0.04238950291399794,
          -0.6413264696616281,
          -0.45188192274730365,
          1.7512096225860998,
          0.0594371846150378,
          -0.4257259883128896,
          2.7821143405341573,
          -0.8469166891395016,
          0.5685772547996735,
          -2.256297098148558,
          -0.7803518294959371,
          -2.9729173560587703,
          -0.8121043393671602,
          -2.589717677876966,
          -1.8853385417258366,
          0.433241193754502,
          -0.08261965302651933,
          0.20436501326851347,
          1.8033498194331006,
          0.14705563369606162,
          0.4494984934670181,
          0.10738341907848155,
          0.053818527577218785,
          -0.3890428681078866,
          -0.4289947432626206,
          0.046552674813028404,
          -0.31920804408682324,
          -0.2087831486189691,
          0.9439845150264756,
          2.2198498405485276,
          -0.6405752941423192,
          0.3009800903324007,
          -0.2906674117027766,
          -1.1753838458508226,
          0.338544548268741,
          0.6507843230068241,
          0.1254756601104307,
          0.024930971110588195,
          1.0996286704927467,
          0.06401240395184254,
          -0.2165056908960581,
          0.7837843909066909,
          0.19530780987473803,
          3.7514767424865485,
          0.6106396489707562,
          0.1184812129425209,
          -0.024742563847081497,
          -0.2029518320718047,
          0.13339953545093663,
          -0.05358846693352071,
          0.7728715609659034,
          1.4408125266407783,
          -1.3458269367592544,
          0.07856111937140106,
          -0.1491836808600407
         ],
         "yaxis": "y"
        },
        {
         "alignmentgroup": "True",
         "bingroup": "y",
         "hovertemplate": "affordability=Very Unaffordable<br>standardized_residuals=%{y}<br>count=%{x}<extra></extra>",
         "legendgroup": "Very Unaffordable",
         "marker": {
          "color": "#EF553B"
         },
         "name": "Very Unaffordable",
         "offsetgroup": "Very Unaffordable",
         "opacity": 0.5,
         "showlegend": false,
         "type": "histogram",
         "xaxis": "x2",
         "y": [
          0.11086173350641913,
          2.0652957993390353,
          -0.11140544785525983,
          0.6046542134687367,
          1.5664649530011903,
          -1.2415624129233056,
          2.144803818869288,
          0.12959416135494814,
          -3.0164742701569693,
          0.12695827078031854,
          0.7955879028561514,
          -0.13109234426606745,
          -0.4698905312918919,
          -1.2587918095111483,
          0.5635569241574094,
          4.171050187053832,
          -0.8342342882418152,
          -0.047284043744483396,
          1.9044650926776512,
          -0.16639419407157024,
          0.865204248894011,
          -0.08175671352877935,
          0.24437950589482976,
          2.619513276812443,
          0.0025816004918747934,
          -0.46500792249082595,
          0.2606008073520154,
          -0.7208270431355275,
          0.27150232890249143,
          -0.047074300987293705,
          0.1491570483615328,
          -0.06213943812243383,
          -0.7817328386361185,
          -0.3029452402087591,
          -0.15097933301366367,
          -0.163010758863268,
          0.9327347566248745,
          0.022922047986947438,
          -0.24605553818057577,
          -0.3066265274918681,
          -0.39991567639567277,
          0.011432170425808566,
          -0.762750471765021,
          0.7362560661902658,
          1.0551708669291096,
          -0.12289745222728114,
          0.267034550242766,
          -0.5900997015828551,
          -0.4911822211201383,
          -0.04238950291399794,
          -0.6413264696616281,
          -0.45188192274730365,
          1.7512096225860998,
          0.0594371846150378,
          -0.4257259883128896,
          2.7821143405341573,
          -0.8469166891395016,
          0.5685772547996735,
          -2.256297098148558,
          -0.7803518294959371,
          -2.9729173560587703,
          -0.8121043393671602,
          -2.589717677876966,
          -1.8853385417258366,
          0.433241193754502,
          -0.08261965302651933,
          0.20436501326851347,
          1.8033498194331006,
          0.14705563369606162,
          0.4494984934670181,
          0.10738341907848155,
          0.053818527577218785,
          -0.3890428681078866,
          -0.4289947432626206,
          0.046552674813028404,
          -0.31920804408682324,
          -0.2087831486189691,
          0.9439845150264756,
          2.2198498405485276,
          -0.6405752941423192,
          0.3009800903324007,
          -0.2906674117027766,
          -1.1753838458508226,
          0.338544548268741,
          0.6507843230068241,
          0.1254756601104307,
          0.024930971110588195,
          1.0996286704927467,
          0.06401240395184254,
          -0.2165056908960581,
          0.7837843909066909,
          0.19530780987473803,
          3.7514767424865485,
          0.6106396489707562,
          0.1184812129425209,
          -0.024742563847081497,
          -0.2029518320718047,
          0.13339953545093663,
          -0.05358846693352071,
          0.7728715609659034,
          1.4408125266407783,
          -1.3458269367592544,
          0.07856111937140106,
          -0.1491836808600407
         ],
         "yaxis": "y2"
        },
        {
         "hovertemplate": "affordability=Moderately Affordable<br>prediction_label=%{x}<br>standardized_residuals=%{y}<extra></extra>",
         "legendgroup": "Moderately Affordable",
         "marker": {
          "color": "#00cc96",
          "symbol": "circle"
         },
         "mode": "markers",
         "name": "Moderately Affordable",
         "orientation": "v",
         "showlegend": true,
         "type": "scatter",
         "x": [
          2349.239536122795,
          711.2659472678106,
          1385.8422258624107,
          1160.8819740647707,
          209.79699774698219,
          1548.8883529177147,
          3654.6368023481477,
          2130.0428711993322,
          393.67144367998924,
          570.6932402499672,
          929.8792767142431,
          1114.7082816758182,
          1618.9009414356337,
          668.0533491689931
         ],
         "xaxis": "x",
         "y": [
          -0.5655264318227493,
          -0.1933616346954348,
          -0.4157258535111172,
          0.19416865131480918,
          0.08744701023847673,
          0.7208426459222813,
          -2.130048286657006,
          0.26805321106105906,
          0.3019562017242479,
          -0.045135919285423105,
          -0.37664977694650476,
          -0.43790689325302995,
          1.512254169409071,
          -0.1747198869047541
         ],
         "yaxis": "y"
        },
        {
         "alignmentgroup": "True",
         "bingroup": "y",
         "hovertemplate": "affordability=Moderately Affordable<br>standardized_residuals=%{y}<br>count=%{x}<extra></extra>",
         "legendgroup": "Moderately Affordable",
         "marker": {
          "color": "#00cc96"
         },
         "name": "Moderately Affordable",
         "offsetgroup": "Moderately Affordable",
         "opacity": 0.5,
         "showlegend": false,
         "type": "histogram",
         "xaxis": "x2",
         "y": [
          -0.5655264318227493,
          -0.1933616346954348,
          -0.4157258535111172,
          0.19416865131480918,
          0.08744701023847673,
          0.7208426459222813,
          -2.130048286657006,
          0.26805321106105906,
          0.3019562017242479,
          -0.045135919285423105,
          -0.37664977694650476,
          -0.43790689325302995,
          1.512254169409071,
          -0.1747198869047541
         ],
         "yaxis": "y2"
        },
        {
         "hovertemplate": "affordability=Affordable<br>prediction_label=%{x}<br>standardized_residuals=%{y}<extra></extra>",
         "legendgroup": "Affordable",
         "marker": {
          "color": "#ab63fa",
          "symbol": "circle"
         },
         "mode": "markers",
         "name": "Affordable",
         "orientation": "v",
         "showlegend": true,
         "type": "scatter",
         "x": [
          1177.09158857903,
          798.6157997011635,
          745.4051572946913,
          912.2279723028626
         ],
         "xaxis": "x",
         "y": [
          0.158857161404513,
          -0.20708040017746085,
          0.07623203932735458,
          -0.3699402867415168
         ],
         "yaxis": "y"
        },
        {
         "alignmentgroup": "True",
         "bingroup": "y",
         "hovertemplate": "affordability=Affordable<br>standardized_residuals=%{y}<br>count=%{x}<extra></extra>",
         "legendgroup": "Affordable",
         "marker": {
          "color": "#ab63fa"
         },
         "name": "Affordable",
         "offsetgroup": "Affordable",
         "opacity": 0.5,
         "showlegend": false,
         "type": "histogram",
         "xaxis": "x2",
         "y": [
          0.158857161404513,
          -0.20708040017746085,
          0.07623203932735458,
          -0.3699402867415168
         ],
         "yaxis": "y2"
        },
        {
         "hovertemplate": "affordability=Highly Affordable<br>prediction_label=%{x}<br>standardized_residuals=%{y}<extra></extra>",
         "legendgroup": "Highly Affordable",
         "marker": {
          "color": "#FFA15A",
          "symbol": "circle"
         },
         "mode": "markers",
         "name": "Highly Affordable",
         "orientation": "v",
         "showlegend": true,
         "type": "scatter",
         "x": [
          3323.212787077543
         ],
         "xaxis": "x",
         "y": [
          -1.0913274876964663
         ],
         "yaxis": "y"
        },
        {
         "alignmentgroup": "True",
         "bingroup": "y",
         "hovertemplate": "affordability=Highly Affordable<br>standardized_residuals=%{y}<br>count=%{x}<extra></extra>",
         "legendgroup": "Highly Affordable",
         "marker": {
          "color": "#FFA15A"
         },
         "name": "Highly Affordable",
         "offsetgroup": "Highly Affordable",
         "opacity": 0.5,
         "showlegend": false,
         "type": "histogram",
         "xaxis": "x2",
         "y": [
          -1.0913274876964663
         ],
         "yaxis": "y2"
        }
       ],
       "layout": {
        "barmode": "overlay",
        "legend": {
         "title": {
          "text": "affordability"
         },
         "tracegroupgap": 0
        },
        "template": {
         "data": {
          "bar": [
           {
            "error_x": {
             "color": "#2a3f5f"
            },
            "error_y": {
             "color": "#2a3f5f"
            },
            "marker": {
             "line": {
              "color": "#E5ECF6",
              "width": 0.5
             },
             "pattern": {
              "fillmode": "overlay",
              "size": 10,
              "solidity": 0.2
             }
            },
            "type": "bar"
           }
          ],
          "barpolar": [
           {
            "marker": {
             "line": {
              "color": "#E5ECF6",
              "width": 0.5
             },
             "pattern": {
              "fillmode": "overlay",
              "size": 10,
              "solidity": 0.2
             }
            },
            "type": "barpolar"
           }
          ],
          "carpet": [
           {
            "aaxis": {
             "endlinecolor": "#2a3f5f",
             "gridcolor": "white",
             "linecolor": "white",
             "minorgridcolor": "white",
             "startlinecolor": "#2a3f5f"
            },
            "baxis": {
             "endlinecolor": "#2a3f5f",
             "gridcolor": "white",
             "linecolor": "white",
             "minorgridcolor": "white",
             "startlinecolor": "#2a3f5f"
            },
            "type": "carpet"
           }
          ],
          "choropleth": [
           {
            "colorbar": {
             "outlinewidth": 0,
             "ticks": ""
            },
            "type": "choropleth"
           }
          ],
          "contour": [
           {
            "colorbar": {
             "outlinewidth": 0,
             "ticks": ""
            },
            "colorscale": [
             [
              0,
              "#0d0887"
             ],
             [
              0.1111111111111111,
              "#46039f"
             ],
             [
              0.2222222222222222,
              "#7201a8"
             ],
             [
              0.3333333333333333,
              "#9c179e"
             ],
             [
              0.4444444444444444,
              "#bd3786"
             ],
             [
              0.5555555555555556,
              "#d8576b"
             ],
             [
              0.6666666666666666,
              "#ed7953"
             ],
             [
              0.7777777777777778,
              "#fb9f3a"
             ],
             [
              0.8888888888888888,
              "#fdca26"
             ],
             [
              1,
              "#f0f921"
             ]
            ],
            "type": "contour"
           }
          ],
          "contourcarpet": [
           {
            "colorbar": {
             "outlinewidth": 0,
             "ticks": ""
            },
            "type": "contourcarpet"
           }
          ],
          "heatmap": [
           {
            "colorbar": {
             "outlinewidth": 0,
             "ticks": ""
            },
            "colorscale": [
             [
              0,
              "#0d0887"
             ],
             [
              0.1111111111111111,
              "#46039f"
             ],
             [
              0.2222222222222222,
              "#7201a8"
             ],
             [
              0.3333333333333333,
              "#9c179e"
             ],
             [
              0.4444444444444444,
              "#bd3786"
             ],
             [
              0.5555555555555556,
              "#d8576b"
             ],
             [
              0.6666666666666666,
              "#ed7953"
             ],
             [
              0.7777777777777778,
              "#fb9f3a"
             ],
             [
              0.8888888888888888,
              "#fdca26"
             ],
             [
              1,
              "#f0f921"
             ]
            ],
            "type": "heatmap"
           }
          ],
          "heatmapgl": [
           {
            "colorbar": {
             "outlinewidth": 0,
             "ticks": ""
            },
            "colorscale": [
             [
              0,
              "#0d0887"
             ],
             [
              0.1111111111111111,
              "#46039f"
             ],
             [
              0.2222222222222222,
              "#7201a8"
             ],
             [
              0.3333333333333333,
              "#9c179e"
             ],
             [
              0.4444444444444444,
              "#bd3786"
             ],
             [
              0.5555555555555556,
              "#d8576b"
             ],
             [
              0.6666666666666666,
              "#ed7953"
             ],
             [
              0.7777777777777778,
              "#fb9f3a"
             ],
             [
              0.8888888888888888,
              "#fdca26"
             ],
             [
              1,
              "#f0f921"
             ]
            ],
            "type": "heatmapgl"
           }
          ],
          "histogram": [
           {
            "marker": {
             "pattern": {
              "fillmode": "overlay",
              "size": 10,
              "solidity": 0.2
             }
            },
            "type": "histogram"
           }
          ],
          "histogram2d": [
           {
            "colorbar": {
             "outlinewidth": 0,
             "ticks": ""
            },
            "colorscale": [
             [
              0,
              "#0d0887"
             ],
             [
              0.1111111111111111,
              "#46039f"
             ],
             [
              0.2222222222222222,
              "#7201a8"
             ],
             [
              0.3333333333333333,
              "#9c179e"
             ],
             [
              0.4444444444444444,
              "#bd3786"
             ],
             [
              0.5555555555555556,
              "#d8576b"
             ],
             [
              0.6666666666666666,
              "#ed7953"
             ],
             [
              0.7777777777777778,
              "#fb9f3a"
             ],
             [
              0.8888888888888888,
              "#fdca26"
             ],
             [
              1,
              "#f0f921"
             ]
            ],
            "type": "histogram2d"
           }
          ],
          "histogram2dcontour": [
           {
            "colorbar": {
             "outlinewidth": 0,
             "ticks": ""
            },
            "colorscale": [
             [
              0,
              "#0d0887"
             ],
             [
              0.1111111111111111,
              "#46039f"
             ],
             [
              0.2222222222222222,
              "#7201a8"
             ],
             [
              0.3333333333333333,
              "#9c179e"
             ],
             [
              0.4444444444444444,
              "#bd3786"
             ],
             [
              0.5555555555555556,
              "#d8576b"
             ],
             [
              0.6666666666666666,
              "#ed7953"
             ],
             [
              0.7777777777777778,
              "#fb9f3a"
             ],
             [
              0.8888888888888888,
              "#fdca26"
             ],
             [
              1,
              "#f0f921"
             ]
            ],
            "type": "histogram2dcontour"
           }
          ],
          "mesh3d": [
           {
            "colorbar": {
             "outlinewidth": 0,
             "ticks": ""
            },
            "type": "mesh3d"
           }
          ],
          "parcoords": [
           {
            "line": {
             "colorbar": {
              "outlinewidth": 0,
              "ticks": ""
             }
            },
            "type": "parcoords"
           }
          ],
          "pie": [
           {
            "automargin": true,
            "type": "pie"
           }
          ],
          "scatter": [
           {
            "fillpattern": {
             "fillmode": "overlay",
             "size": 10,
             "solidity": 0.2
            },
            "type": "scatter"
           }
          ],
          "scatter3d": [
           {
            "line": {
             "colorbar": {
              "outlinewidth": 0,
              "ticks": ""
             }
            },
            "marker": {
             "colorbar": {
              "outlinewidth": 0,
              "ticks": ""
             }
            },
            "type": "scatter3d"
           }
          ],
          "scattercarpet": [
           {
            "marker": {
             "colorbar": {
              "outlinewidth": 0,
              "ticks": ""
             }
            },
            "type": "scattercarpet"
           }
          ],
          "scattergeo": [
           {
            "marker": {
             "colorbar": {
              "outlinewidth": 0,
              "ticks": ""
             }
            },
            "type": "scattergeo"
           }
          ],
          "scattergl": [
           {
            "marker": {
             "colorbar": {
              "outlinewidth": 0,
              "ticks": ""
             }
            },
            "type": "scattergl"
           }
          ],
          "scattermapbox": [
           {
            "marker": {
             "colorbar": {
              "outlinewidth": 0,
              "ticks": ""
             }
            },
            "type": "scattermapbox"
           }
          ],
          "scatterpolar": [
           {
            "marker": {
             "colorbar": {
              "outlinewidth": 0,
              "ticks": ""
             }
            },
            "type": "scatterpolar"
           }
          ],
          "scatterpolargl": [
           {
            "marker": {
             "colorbar": {
              "outlinewidth": 0,
              "ticks": ""
             }
            },
            "type": "scatterpolargl"
           }
          ],
          "scatterternary": [
           {
            "marker": {
             "colorbar": {
              "outlinewidth": 0,
              "ticks": ""
             }
            },
            "type": "scatterternary"
           }
          ],
          "surface": [
           {
            "colorbar": {
             "outlinewidth": 0,
             "ticks": ""
            },
            "colorscale": [
             [
              0,
              "#0d0887"
             ],
             [
              0.1111111111111111,
              "#46039f"
             ],
             [
              0.2222222222222222,
              "#7201a8"
             ],
             [
              0.3333333333333333,
              "#9c179e"
             ],
             [
              0.4444444444444444,
              "#bd3786"
             ],
             [
              0.5555555555555556,
              "#d8576b"
             ],
             [
              0.6666666666666666,
              "#ed7953"
             ],
             [
              0.7777777777777778,
              "#fb9f3a"
             ],
             [
              0.8888888888888888,
              "#fdca26"
             ],
             [
              1,
              "#f0f921"
             ]
            ],
            "type": "surface"
           }
          ],
          "table": [
           {
            "cells": {
             "fill": {
              "color": "#EBF0F8"
             },
             "line": {
              "color": "white"
             }
            },
            "header": {
             "fill": {
              "color": "#C8D4E3"
             },
             "line": {
              "color": "white"
             }
            },
            "type": "table"
           }
          ]
         },
         "layout": {
          "annotationdefaults": {
           "arrowcolor": "#2a3f5f",
           "arrowhead": 0,
           "arrowwidth": 1
          },
          "autotypenumbers": "strict",
          "coloraxis": {
           "colorbar": {
            "outlinewidth": 0,
            "ticks": ""
           }
          },
          "colorscale": {
           "diverging": [
            [
             0,
             "#8e0152"
            ],
            [
             0.1,
             "#c51b7d"
            ],
            [
             0.2,
             "#de77ae"
            ],
            [
             0.3,
             "#f1b6da"
            ],
            [
             0.4,
             "#fde0ef"
            ],
            [
             0.5,
             "#f7f7f7"
            ],
            [
             0.6,
             "#e6f5d0"
            ],
            [
             0.7,
             "#b8e186"
            ],
            [
             0.8,
             "#7fbc41"
            ],
            [
             0.9,
             "#4d9221"
            ],
            [
             1,
             "#276419"
            ]
           ],
           "sequential": [
            [
             0,
             "#0d0887"
            ],
            [
             0.1111111111111111,
             "#46039f"
            ],
            [
             0.2222222222222222,
             "#7201a8"
            ],
            [
             0.3333333333333333,
             "#9c179e"
            ],
            [
             0.4444444444444444,
             "#bd3786"
            ],
            [
             0.5555555555555556,
             "#d8576b"
            ],
            [
             0.6666666666666666,
             "#ed7953"
            ],
            [
             0.7777777777777778,
             "#fb9f3a"
            ],
            [
             0.8888888888888888,
             "#fdca26"
            ],
            [
             1,
             "#f0f921"
            ]
           ],
           "sequentialminus": [
            [
             0,
             "#0d0887"
            ],
            [
             0.1111111111111111,
             "#46039f"
            ],
            [
             0.2222222222222222,
             "#7201a8"
            ],
            [
             0.3333333333333333,
             "#9c179e"
            ],
            [
             0.4444444444444444,
             "#bd3786"
            ],
            [
             0.5555555555555556,
             "#d8576b"
            ],
            [
             0.6666666666666666,
             "#ed7953"
            ],
            [
             0.7777777777777778,
             "#fb9f3a"
            ],
            [
             0.8888888888888888,
             "#fdca26"
            ],
            [
             1,
             "#f0f921"
            ]
           ]
          },
          "colorway": [
           "#636efa",
           "#EF553B",
           "#00cc96",
           "#ab63fa",
           "#FFA15A",
           "#19d3f3",
           "#FF6692",
           "#B6E880",
           "#FF97FF",
           "#FECB52"
          ],
          "font": {
           "color": "#2a3f5f"
          },
          "geo": {
           "bgcolor": "white",
           "lakecolor": "white",
           "landcolor": "#E5ECF6",
           "showlakes": true,
           "showland": true,
           "subunitcolor": "white"
          },
          "hoverlabel": {
           "align": "left"
          },
          "hovermode": "closest",
          "mapbox": {
           "style": "light"
          },
          "paper_bgcolor": "white",
          "plot_bgcolor": "#E5ECF6",
          "polar": {
           "angularaxis": {
            "gridcolor": "white",
            "linecolor": "white",
            "ticks": ""
           },
           "bgcolor": "#E5ECF6",
           "radialaxis": {
            "gridcolor": "white",
            "linecolor": "white",
            "ticks": ""
           }
          },
          "scene": {
           "xaxis": {
            "backgroundcolor": "#E5ECF6",
            "gridcolor": "white",
            "gridwidth": 2,
            "linecolor": "white",
            "showbackground": true,
            "ticks": "",
            "zerolinecolor": "white"
           },
           "yaxis": {
            "backgroundcolor": "#E5ECF6",
            "gridcolor": "white",
            "gridwidth": 2,
            "linecolor": "white",
            "showbackground": true,
            "ticks": "",
            "zerolinecolor": "white"
           },
           "zaxis": {
            "backgroundcolor": "#E5ECF6",
            "gridcolor": "white",
            "gridwidth": 2,
            "linecolor": "white",
            "showbackground": true,
            "ticks": "",
            "zerolinecolor": "white"
           }
          },
          "shapedefaults": {
           "line": {
            "color": "#2a3f5f"
           }
          },
          "ternary": {
           "aaxis": {
            "gridcolor": "white",
            "linecolor": "white",
            "ticks": ""
           },
           "baxis": {
            "gridcolor": "white",
            "linecolor": "white",
            "ticks": ""
           },
           "bgcolor": "#E5ECF6",
           "caxis": {
            "gridcolor": "white",
            "linecolor": "white",
            "ticks": ""
           }
          },
          "title": {
           "x": 0.05
          },
          "xaxis": {
           "automargin": true,
           "gridcolor": "white",
           "linecolor": "white",
           "ticks": "",
           "title": {
            "standoff": 15
           },
           "zerolinecolor": "white",
           "zerolinewidth": 2
          },
          "yaxis": {
           "automargin": true,
           "gridcolor": "white",
           "linecolor": "white",
           "ticks": "",
           "title": {
            "standoff": 15
           },
           "zerolinecolor": "white",
           "zerolinewidth": 2
          }
         }
        },
        "title": {
         "text": "Residuals vs. Predictions"
        },
        "xaxis": {
         "anchor": "y",
         "domain": [
          0,
          0.7363
         ],
         "title": {
          "text": "prediction_label"
         }
        },
        "xaxis2": {
         "anchor": "y2",
         "domain": [
          0.7413,
          1
         ],
         "matches": "x2",
         "showgrid": true,
         "showline": false,
         "showticklabels": false,
         "ticks": ""
        },
        "yaxis": {
         "anchor": "x",
         "domain": [
          0,
          1
         ],
         "title": {
          "text": "standardized_residuals"
         }
        },
        "yaxis2": {
         "anchor": "x2",
         "domain": [
          0,
          1
         ],
         "matches": "y",
         "showgrid": true,
         "showticklabels": false
        }
       }
      },
      "text/html": [
       "<div>                            <div id=\"c3258031-910c-4f54-aa38-184c459531ae\" class=\"plotly-graph-div\" style=\"height:525px; width:100%;\"></div>            <script type=\"text/javascript\">                require([\"plotly\"], function(Plotly) {                    window.PLOTLYENV=window.PLOTLYENV || {};                                    if (document.getElementById(\"c3258031-910c-4f54-aa38-184c459531ae\")) {                    Plotly.newPlot(                        \"c3258031-910c-4f54-aa38-184c459531ae\",                        [{\"hovertemplate\":\"affordability=Unaffordable\\u003cbr\\u003eprediction_label=%{x}\\u003cbr\\u003estandardized_residuals=%{y}\\u003cextra\\u003e\\u003c\\u002fextra\\u003e\",\"legendgroup\":\"Unaffordable\",\"marker\":{\"color\":\"#636efa\",\"symbol\":\"circle\"},\"mode\":\"markers\",\"name\":\"Unaffordable\",\"orientation\":\"v\",\"showlegend\":true,\"x\":[102.17075168523426,6760.0144776494335,2256.100621524896,2399.9164016263617,1402.7258299293155,4830.721371054077,712.5899023329719,1985.32896604746,4752.053710921977,925.7097077597173,559.6767102363265,2184.3856253609865,4896.070492625913,534.0442335517316,1467.9905068613652,1945.3430808330365,1610.4666637931011,874.6259587450197,3322.1522572646472,2516.580677316223,2276.853202040228,529.3405672772227,305.4627479109936,189.12254000875805,953.4646920086276,532.4827107811745,2223.060479841364,1951.678404739919,2079.132961976022,3659.4499656355856],\"xaxis\":\"x\",\"y\":[0.10718757984004063,-0.8457225120386594,-0.849983062559264,-1.1622533953429792,-0.6871435935266124,0.2584397006690281,-0.10637569217584221,-1.2697822583585578,-0.7965556945542388,-0.026447850460265876,0.18624407601428858,-0.5239803879166212,-0.23511010026048043,-0.26337142992880996,0.3957061658797999,-0.47771081625618084,0.6790251313961008,0.2439953470089954,-0.8560837817898093,-0.21814334935976062,-0.4181793492777123,0.04335050487779172,0.18984355199605987,0.008573857949728194,0.47691763602095505,-0.19744453381502403,-0.39789087818926117,-0.35949386361499547,-0.03825693207422545,-1.6484812676918918],\"yaxis\":\"y\",\"type\":\"scatter\"},{\"alignmentgroup\":\"True\",\"bingroup\":\"y\",\"hovertemplate\":\"affordability=Unaffordable\\u003cbr\\u003estandardized_residuals=%{y}\\u003cbr\\u003ecount=%{x}\\u003cextra\\u003e\\u003c\\u002fextra\\u003e\",\"legendgroup\":\"Unaffordable\",\"marker\":{\"color\":\"#636efa\"},\"name\":\"Unaffordable\",\"offsetgroup\":\"Unaffordable\",\"opacity\":0.5,\"showlegend\":false,\"xaxis\":\"x2\",\"y\":[0.10718757984004063,-0.8457225120386594,-0.849983062559264,-1.1622533953429792,-0.6871435935266124,0.2584397006690281,-0.10637569217584221,-1.2697822583585578,-0.7965556945542388,-0.026447850460265876,0.18624407601428858,-0.5239803879166212,-0.23511010026048043,-0.26337142992880996,0.3957061658797999,-0.47771081625618084,0.6790251313961008,0.2439953470089954,-0.8560837817898093,-0.21814334935976062,-0.4181793492777123,0.04335050487779172,0.18984355199605987,0.008573857949728194,0.47691763602095505,-0.19744453381502403,-0.39789087818926117,-0.35949386361499547,-0.03825693207422545,-1.6484812676918918],\"yaxis\":\"y2\",\"type\":\"histogram\"},{\"hovertemplate\":\"affordability=Very Unaffordable\\u003cbr\\u003eprediction_label=%{x}\\u003cbr\\u003estandardized_residuals=%{y}\\u003cextra\\u003e\\u003c\\u002fextra\\u003e\",\"legendgroup\":\"Very Unaffordable\",\"marker\":{\"color\":\"#EF553B\",\"symbol\":\"circle\"},\"mode\":\"markers\",\"name\":\"Very Unaffordable\",\"orientation\":\"v\",\"showlegend\":true,\"x\":[3909.7704871114506,6920.920249130324,5268.208083240094,3858.3344491629646,5897.937025079799,4435.815738083743,2326.711862829154,940.3044486118208,4709.619327117738,5795.85333626691,4833.920243871619,2043.780415821033,1606.9072728099468,2737.385426378707,1984.646631822834,4849.963972840398,9016.523576894417,5023.398728304678,4121.339356974152,391.4180175035354,2432.598041184661,3536.359884333109,1552.4975766685916,4470.762016782005,2565.4349745077,1266.8177926573169,2967.6183700283163,4220.215656449808,1985.8244320984018,393.6873156975606,7268.441549259022,1956.4130366664212,4361.574067220727,2037.9995264626702,5196.764660166508,2735.0654534078085,4950.439051173166,5322.941802880912,3526.810497421209,892.525179472119,1072.587774437639,2477.568581498402,7065.36375651176,6869.34082113443,1978.6576126423251,2263.260504176783,6016.382738518791,3099.15187940601,5077.396011182047,3857.1356519534484,5493.089427639241,1014.6010386514137,7892.356812536884,1667.91238774261,2335.6024216704027,6908.393711495163,2129.8473303427772,956.6154533581798,3880.605012259879,8427.881808975493,6623.072219015205,2020.4027677777926,8052.29400413316,4180.952361207191,7580.593788473695,4021.556856527583,2370.148299614138,5554.047695999176,242.8594913283437,7322.05767228667,704.8064894089756,3752.622115837646,1184.2029729575074,907.647891863835,293.30295869800506,511.25012182155956,796.1856004486104,5350.305891165746,6076.583043730741,1647.5365707111987,1027.7243429452365,3437.833188695071,2991.1267819448067,4017.676583449817,5210.817013271293,3089.845584975268,530.0959489040278,1009.7698706434339,6080.43418189986,2252.438006613417,3054.8356663413815,1839.2855960419786,4880.219989336049,2390.5820074790686,7419.856289871027,3522.063720092318,1070.1224767475255,2121.4795657781824,5201.343920562827,2771.722335679372,8993.950610021906,7164.924471631425,4254.139530042213,353.2571685693962],\"xaxis\":\"x\",\"y\":[0.11086173350641913,2.0652957993390353,-0.11140544785525983,0.6046542134687367,1.5664649530011903,-1.2415624129233056,2.144803818869288,0.12959416135494814,-3.0164742701569693,0.12695827078031854,0.7955879028561514,-0.13109234426606745,-0.4698905312918919,-1.2587918095111483,0.5635569241574094,4.171050187053832,-0.8342342882418152,-0.047284043744483396,1.9044650926776512,-0.16639419407157024,0.865204248894011,-0.08175671352877935,0.24437950589482976,2.619513276812443,0.0025816004918747934,-0.46500792249082595,0.2606008073520154,-0.7208270431355275,0.27150232890249143,-0.047074300987293705,0.1491570483615328,-0.06213943812243383,-0.7817328386361185,-0.3029452402087591,-0.15097933301366367,-0.163010758863268,0.9327347566248745,0.022922047986947438,-0.24605553818057577,-0.3066265274918681,-0.39991567639567277,0.011432170425808566,-0.762750471765021,0.7362560661902658,1.0551708669291096,-0.12289745222728114,0.267034550242766,-0.5900997015828551,-0.4911822211201383,-0.04238950291399794,-0.6413264696616281,-0.45188192274730365,1.7512096225860998,0.0594371846150378,-0.4257259883128896,2.7821143405341573,-0.8469166891395016,0.5685772547996735,-2.256297098148558,-0.7803518294959371,-2.9729173560587703,-0.8121043393671602,-2.589717677876966,-1.8853385417258366,0.433241193754502,-0.08261965302651933,0.20436501326851347,1.8033498194331006,0.14705563369606162,0.4494984934670181,0.10738341907848155,0.053818527577218785,-0.3890428681078866,-0.4289947432626206,0.046552674813028404,-0.31920804408682324,-0.2087831486189691,0.9439845150264756,2.2198498405485276,-0.6405752941423192,0.3009800903324007,-0.2906674117027766,-1.1753838458508226,0.338544548268741,0.6507843230068241,0.1254756601104307,0.024930971110588195,1.0996286704927467,0.06401240395184254,-0.2165056908960581,0.7837843909066909,0.19530780987473803,3.7514767424865485,0.6106396489707562,0.1184812129425209,-0.024742563847081497,-0.2029518320718047,0.13339953545093663,-0.05358846693352071,0.7728715609659034,1.4408125266407783,-1.3458269367592544,0.07856111937140106,-0.1491836808600407],\"yaxis\":\"y\",\"type\":\"scatter\"},{\"alignmentgroup\":\"True\",\"bingroup\":\"y\",\"hovertemplate\":\"affordability=Very Unaffordable\\u003cbr\\u003estandardized_residuals=%{y}\\u003cbr\\u003ecount=%{x}\\u003cextra\\u003e\\u003c\\u002fextra\\u003e\",\"legendgroup\":\"Very Unaffordable\",\"marker\":{\"color\":\"#EF553B\"},\"name\":\"Very Unaffordable\",\"offsetgroup\":\"Very Unaffordable\",\"opacity\":0.5,\"showlegend\":false,\"xaxis\":\"x2\",\"y\":[0.11086173350641913,2.0652957993390353,-0.11140544785525983,0.6046542134687367,1.5664649530011903,-1.2415624129233056,2.144803818869288,0.12959416135494814,-3.0164742701569693,0.12695827078031854,0.7955879028561514,-0.13109234426606745,-0.4698905312918919,-1.2587918095111483,0.5635569241574094,4.171050187053832,-0.8342342882418152,-0.047284043744483396,1.9044650926776512,-0.16639419407157024,0.865204248894011,-0.08175671352877935,0.24437950589482976,2.619513276812443,0.0025816004918747934,-0.46500792249082595,0.2606008073520154,-0.7208270431355275,0.27150232890249143,-0.047074300987293705,0.1491570483615328,-0.06213943812243383,-0.7817328386361185,-0.3029452402087591,-0.15097933301366367,-0.163010758863268,0.9327347566248745,0.022922047986947438,-0.24605553818057577,-0.3066265274918681,-0.39991567639567277,0.011432170425808566,-0.762750471765021,0.7362560661902658,1.0551708669291096,-0.12289745222728114,0.267034550242766,-0.5900997015828551,-0.4911822211201383,-0.04238950291399794,-0.6413264696616281,-0.45188192274730365,1.7512096225860998,0.0594371846150378,-0.4257259883128896,2.7821143405341573,-0.8469166891395016,0.5685772547996735,-2.256297098148558,-0.7803518294959371,-2.9729173560587703,-0.8121043393671602,-2.589717677876966,-1.8853385417258366,0.433241193754502,-0.08261965302651933,0.20436501326851347,1.8033498194331006,0.14705563369606162,0.4494984934670181,0.10738341907848155,0.053818527577218785,-0.3890428681078866,-0.4289947432626206,0.046552674813028404,-0.31920804408682324,-0.2087831486189691,0.9439845150264756,2.2198498405485276,-0.6405752941423192,0.3009800903324007,-0.2906674117027766,-1.1753838458508226,0.338544548268741,0.6507843230068241,0.1254756601104307,0.024930971110588195,1.0996286704927467,0.06401240395184254,-0.2165056908960581,0.7837843909066909,0.19530780987473803,3.7514767424865485,0.6106396489707562,0.1184812129425209,-0.024742563847081497,-0.2029518320718047,0.13339953545093663,-0.05358846693352071,0.7728715609659034,1.4408125266407783,-1.3458269367592544,0.07856111937140106,-0.1491836808600407],\"yaxis\":\"y2\",\"type\":\"histogram\"},{\"hovertemplate\":\"affordability=Moderately Affordable\\u003cbr\\u003eprediction_label=%{x}\\u003cbr\\u003estandardized_residuals=%{y}\\u003cextra\\u003e\\u003c\\u002fextra\\u003e\",\"legendgroup\":\"Moderately Affordable\",\"marker\":{\"color\":\"#00cc96\",\"symbol\":\"circle\"},\"mode\":\"markers\",\"name\":\"Moderately Affordable\",\"orientation\":\"v\",\"showlegend\":true,\"x\":[2349.239536122795,711.2659472678106,1385.8422258624107,1160.8819740647707,209.79699774698219,1548.8883529177147,3654.6368023481477,2130.0428711993322,393.67144367998924,570.6932402499672,929.8792767142431,1114.7082816758182,1618.9009414356337,668.0533491689931],\"xaxis\":\"x\",\"y\":[-0.5655264318227493,-0.1933616346954348,-0.4157258535111172,0.19416865131480918,0.08744701023847673,0.7208426459222813,-2.130048286657006,0.26805321106105906,0.3019562017242479,-0.045135919285423105,-0.37664977694650476,-0.43790689325302995,1.512254169409071,-0.1747198869047541],\"yaxis\":\"y\",\"type\":\"scatter\"},{\"alignmentgroup\":\"True\",\"bingroup\":\"y\",\"hovertemplate\":\"affordability=Moderately Affordable\\u003cbr\\u003estandardized_residuals=%{y}\\u003cbr\\u003ecount=%{x}\\u003cextra\\u003e\\u003c\\u002fextra\\u003e\",\"legendgroup\":\"Moderately Affordable\",\"marker\":{\"color\":\"#00cc96\"},\"name\":\"Moderately Affordable\",\"offsetgroup\":\"Moderately Affordable\",\"opacity\":0.5,\"showlegend\":false,\"xaxis\":\"x2\",\"y\":[-0.5655264318227493,-0.1933616346954348,-0.4157258535111172,0.19416865131480918,0.08744701023847673,0.7208426459222813,-2.130048286657006,0.26805321106105906,0.3019562017242479,-0.045135919285423105,-0.37664977694650476,-0.43790689325302995,1.512254169409071,-0.1747198869047541],\"yaxis\":\"y2\",\"type\":\"histogram\"},{\"hovertemplate\":\"affordability=Affordable\\u003cbr\\u003eprediction_label=%{x}\\u003cbr\\u003estandardized_residuals=%{y}\\u003cextra\\u003e\\u003c\\u002fextra\\u003e\",\"legendgroup\":\"Affordable\",\"marker\":{\"color\":\"#ab63fa\",\"symbol\":\"circle\"},\"mode\":\"markers\",\"name\":\"Affordable\",\"orientation\":\"v\",\"showlegend\":true,\"x\":[1177.09158857903,798.6157997011635,745.4051572946913,912.2279723028626],\"xaxis\":\"x\",\"y\":[0.158857161404513,-0.20708040017746085,0.07623203932735458,-0.3699402867415168],\"yaxis\":\"y\",\"type\":\"scatter\"},{\"alignmentgroup\":\"True\",\"bingroup\":\"y\",\"hovertemplate\":\"affordability=Affordable\\u003cbr\\u003estandardized_residuals=%{y}\\u003cbr\\u003ecount=%{x}\\u003cextra\\u003e\\u003c\\u002fextra\\u003e\",\"legendgroup\":\"Affordable\",\"marker\":{\"color\":\"#ab63fa\"},\"name\":\"Affordable\",\"offsetgroup\":\"Affordable\",\"opacity\":0.5,\"showlegend\":false,\"xaxis\":\"x2\",\"y\":[0.158857161404513,-0.20708040017746085,0.07623203932735458,-0.3699402867415168],\"yaxis\":\"y2\",\"type\":\"histogram\"},{\"hovertemplate\":\"affordability=Highly Affordable\\u003cbr\\u003eprediction_label=%{x}\\u003cbr\\u003estandardized_residuals=%{y}\\u003cextra\\u003e\\u003c\\u002fextra\\u003e\",\"legendgroup\":\"Highly Affordable\",\"marker\":{\"color\":\"#FFA15A\",\"symbol\":\"circle\"},\"mode\":\"markers\",\"name\":\"Highly Affordable\",\"orientation\":\"v\",\"showlegend\":true,\"x\":[3323.212787077543],\"xaxis\":\"x\",\"y\":[-1.0913274876964663],\"yaxis\":\"y\",\"type\":\"scatter\"},{\"alignmentgroup\":\"True\",\"bingroup\":\"y\",\"hovertemplate\":\"affordability=Highly Affordable\\u003cbr\\u003estandardized_residuals=%{y}\\u003cbr\\u003ecount=%{x}\\u003cextra\\u003e\\u003c\\u002fextra\\u003e\",\"legendgroup\":\"Highly Affordable\",\"marker\":{\"color\":\"#FFA15A\"},\"name\":\"Highly Affordable\",\"offsetgroup\":\"Highly Affordable\",\"opacity\":0.5,\"showlegend\":false,\"xaxis\":\"x2\",\"y\":[-1.0913274876964663],\"yaxis\":\"y2\",\"type\":\"histogram\"}],                        {\"template\":{\"data\":{\"histogram2dcontour\":[{\"type\":\"histogram2dcontour\",\"colorbar\":{\"outlinewidth\":0,\"ticks\":\"\"},\"colorscale\":[[0.0,\"#0d0887\"],[0.1111111111111111,\"#46039f\"],[0.2222222222222222,\"#7201a8\"],[0.3333333333333333,\"#9c179e\"],[0.4444444444444444,\"#bd3786\"],[0.5555555555555556,\"#d8576b\"],[0.6666666666666666,\"#ed7953\"],[0.7777777777777778,\"#fb9f3a\"],[0.8888888888888888,\"#fdca26\"],[1.0,\"#f0f921\"]]}],\"choropleth\":[{\"type\":\"choropleth\",\"colorbar\":{\"outlinewidth\":0,\"ticks\":\"\"}}],\"histogram2d\":[{\"type\":\"histogram2d\",\"colorbar\":{\"outlinewidth\":0,\"ticks\":\"\"},\"colorscale\":[[0.0,\"#0d0887\"],[0.1111111111111111,\"#46039f\"],[0.2222222222222222,\"#7201a8\"],[0.3333333333333333,\"#9c179e\"],[0.4444444444444444,\"#bd3786\"],[0.5555555555555556,\"#d8576b\"],[0.6666666666666666,\"#ed7953\"],[0.7777777777777778,\"#fb9f3a\"],[0.8888888888888888,\"#fdca26\"],[1.0,\"#f0f921\"]]}],\"heatmap\":[{\"type\":\"heatmap\",\"colorbar\":{\"outlinewidth\":0,\"ticks\":\"\"},\"colorscale\":[[0.0,\"#0d0887\"],[0.1111111111111111,\"#46039f\"],[0.2222222222222222,\"#7201a8\"],[0.3333333333333333,\"#9c179e\"],[0.4444444444444444,\"#bd3786\"],[0.5555555555555556,\"#d8576b\"],[0.6666666666666666,\"#ed7953\"],[0.7777777777777778,\"#fb9f3a\"],[0.8888888888888888,\"#fdca26\"],[1.0,\"#f0f921\"]]}],\"heatmapgl\":[{\"type\":\"heatmapgl\",\"colorbar\":{\"outlinewidth\":0,\"ticks\":\"\"},\"colorscale\":[[0.0,\"#0d0887\"],[0.1111111111111111,\"#46039f\"],[0.2222222222222222,\"#7201a8\"],[0.3333333333333333,\"#9c179e\"],[0.4444444444444444,\"#bd3786\"],[0.5555555555555556,\"#d8576b\"],[0.6666666666666666,\"#ed7953\"],[0.7777777777777778,\"#fb9f3a\"],[0.8888888888888888,\"#fdca26\"],[1.0,\"#f0f921\"]]}],\"contourcarpet\":[{\"type\":\"contourcarpet\",\"colorbar\":{\"outlinewidth\":0,\"ticks\":\"\"}}],\"contour\":[{\"type\":\"contour\",\"colorbar\":{\"outlinewidth\":0,\"ticks\":\"\"},\"colorscale\":[[0.0,\"#0d0887\"],[0.1111111111111111,\"#46039f\"],[0.2222222222222222,\"#7201a8\"],[0.3333333333333333,\"#9c179e\"],[0.4444444444444444,\"#bd3786\"],[0.5555555555555556,\"#d8576b\"],[0.6666666666666666,\"#ed7953\"],[0.7777777777777778,\"#fb9f3a\"],[0.8888888888888888,\"#fdca26\"],[1.0,\"#f0f921\"]]}],\"surface\":[{\"type\":\"surface\",\"colorbar\":{\"outlinewidth\":0,\"ticks\":\"\"},\"colorscale\":[[0.0,\"#0d0887\"],[0.1111111111111111,\"#46039f\"],[0.2222222222222222,\"#7201a8\"],[0.3333333333333333,\"#9c179e\"],[0.4444444444444444,\"#bd3786\"],[0.5555555555555556,\"#d8576b\"],[0.6666666666666666,\"#ed7953\"],[0.7777777777777778,\"#fb9f3a\"],[0.8888888888888888,\"#fdca26\"],[1.0,\"#f0f921\"]]}],\"mesh3d\":[{\"type\":\"mesh3d\",\"colorbar\":{\"outlinewidth\":0,\"ticks\":\"\"}}],\"scatter\":[{\"fillpattern\":{\"fillmode\":\"overlay\",\"size\":10,\"solidity\":0.2},\"type\":\"scatter\"}],\"parcoords\":[{\"type\":\"parcoords\",\"line\":{\"colorbar\":{\"outlinewidth\":0,\"ticks\":\"\"}}}],\"scatterpolargl\":[{\"type\":\"scatterpolargl\",\"marker\":{\"colorbar\":{\"outlinewidth\":0,\"ticks\":\"\"}}}],\"bar\":[{\"error_x\":{\"color\":\"#2a3f5f\"},\"error_y\":{\"color\":\"#2a3f5f\"},\"marker\":{\"line\":{\"color\":\"#E5ECF6\",\"width\":0.5},\"pattern\":{\"fillmode\":\"overlay\",\"size\":10,\"solidity\":0.2}},\"type\":\"bar\"}],\"scattergeo\":[{\"type\":\"scattergeo\",\"marker\":{\"colorbar\":{\"outlinewidth\":0,\"ticks\":\"\"}}}],\"scatterpolar\":[{\"type\":\"scatterpolar\",\"marker\":{\"colorbar\":{\"outlinewidth\":0,\"ticks\":\"\"}}}],\"histogram\":[{\"marker\":{\"pattern\":{\"fillmode\":\"overlay\",\"size\":10,\"solidity\":0.2}},\"type\":\"histogram\"}],\"scattergl\":[{\"type\":\"scattergl\",\"marker\":{\"colorbar\":{\"outlinewidth\":0,\"ticks\":\"\"}}}],\"scatter3d\":[{\"type\":\"scatter3d\",\"line\":{\"colorbar\":{\"outlinewidth\":0,\"ticks\":\"\"}},\"marker\":{\"colorbar\":{\"outlinewidth\":0,\"ticks\":\"\"}}}],\"scattermapbox\":[{\"type\":\"scattermapbox\",\"marker\":{\"colorbar\":{\"outlinewidth\":0,\"ticks\":\"\"}}}],\"scatterternary\":[{\"type\":\"scatterternary\",\"marker\":{\"colorbar\":{\"outlinewidth\":0,\"ticks\":\"\"}}}],\"scattercarpet\":[{\"type\":\"scattercarpet\",\"marker\":{\"colorbar\":{\"outlinewidth\":0,\"ticks\":\"\"}}}],\"carpet\":[{\"aaxis\":{\"endlinecolor\":\"#2a3f5f\",\"gridcolor\":\"white\",\"linecolor\":\"white\",\"minorgridcolor\":\"white\",\"startlinecolor\":\"#2a3f5f\"},\"baxis\":{\"endlinecolor\":\"#2a3f5f\",\"gridcolor\":\"white\",\"linecolor\":\"white\",\"minorgridcolor\":\"white\",\"startlinecolor\":\"#2a3f5f\"},\"type\":\"carpet\"}],\"table\":[{\"cells\":{\"fill\":{\"color\":\"#EBF0F8\"},\"line\":{\"color\":\"white\"}},\"header\":{\"fill\":{\"color\":\"#C8D4E3\"},\"line\":{\"color\":\"white\"}},\"type\":\"table\"}],\"barpolar\":[{\"marker\":{\"line\":{\"color\":\"#E5ECF6\",\"width\":0.5},\"pattern\":{\"fillmode\":\"overlay\",\"size\":10,\"solidity\":0.2}},\"type\":\"barpolar\"}],\"pie\":[{\"automargin\":true,\"type\":\"pie\"}]},\"layout\":{\"autotypenumbers\":\"strict\",\"colorway\":[\"#636efa\",\"#EF553B\",\"#00cc96\",\"#ab63fa\",\"#FFA15A\",\"#19d3f3\",\"#FF6692\",\"#B6E880\",\"#FF97FF\",\"#FECB52\"],\"font\":{\"color\":\"#2a3f5f\"},\"hovermode\":\"closest\",\"hoverlabel\":{\"align\":\"left\"},\"paper_bgcolor\":\"white\",\"plot_bgcolor\":\"#E5ECF6\",\"polar\":{\"bgcolor\":\"#E5ECF6\",\"angularaxis\":{\"gridcolor\":\"white\",\"linecolor\":\"white\",\"ticks\":\"\"},\"radialaxis\":{\"gridcolor\":\"white\",\"linecolor\":\"white\",\"ticks\":\"\"}},\"ternary\":{\"bgcolor\":\"#E5ECF6\",\"aaxis\":{\"gridcolor\":\"white\",\"linecolor\":\"white\",\"ticks\":\"\"},\"baxis\":{\"gridcolor\":\"white\",\"linecolor\":\"white\",\"ticks\":\"\"},\"caxis\":{\"gridcolor\":\"white\",\"linecolor\":\"white\",\"ticks\":\"\"}},\"coloraxis\":{\"colorbar\":{\"outlinewidth\":0,\"ticks\":\"\"}},\"colorscale\":{\"sequential\":[[0.0,\"#0d0887\"],[0.1111111111111111,\"#46039f\"],[0.2222222222222222,\"#7201a8\"],[0.3333333333333333,\"#9c179e\"],[0.4444444444444444,\"#bd3786\"],[0.5555555555555556,\"#d8576b\"],[0.6666666666666666,\"#ed7953\"],[0.7777777777777778,\"#fb9f3a\"],[0.8888888888888888,\"#fdca26\"],[1.0,\"#f0f921\"]],\"sequentialminus\":[[0.0,\"#0d0887\"],[0.1111111111111111,\"#46039f\"],[0.2222222222222222,\"#7201a8\"],[0.3333333333333333,\"#9c179e\"],[0.4444444444444444,\"#bd3786\"],[0.5555555555555556,\"#d8576b\"],[0.6666666666666666,\"#ed7953\"],[0.7777777777777778,\"#fb9f3a\"],[0.8888888888888888,\"#fdca26\"],[1.0,\"#f0f921\"]],\"diverging\":[[0,\"#8e0152\"],[0.1,\"#c51b7d\"],[0.2,\"#de77ae\"],[0.3,\"#f1b6da\"],[0.4,\"#fde0ef\"],[0.5,\"#f7f7f7\"],[0.6,\"#e6f5d0\"],[0.7,\"#b8e186\"],[0.8,\"#7fbc41\"],[0.9,\"#4d9221\"],[1,\"#276419\"]]},\"xaxis\":{\"gridcolor\":\"white\",\"linecolor\":\"white\",\"ticks\":\"\",\"title\":{\"standoff\":15},\"zerolinecolor\":\"white\",\"automargin\":true,\"zerolinewidth\":2},\"yaxis\":{\"gridcolor\":\"white\",\"linecolor\":\"white\",\"ticks\":\"\",\"title\":{\"standoff\":15},\"zerolinecolor\":\"white\",\"automargin\":true,\"zerolinewidth\":2},\"scene\":{\"xaxis\":{\"backgroundcolor\":\"#E5ECF6\",\"gridcolor\":\"white\",\"linecolor\":\"white\",\"showbackground\":true,\"ticks\":\"\",\"zerolinecolor\":\"white\",\"gridwidth\":2},\"yaxis\":{\"backgroundcolor\":\"#E5ECF6\",\"gridcolor\":\"white\",\"linecolor\":\"white\",\"showbackground\":true,\"ticks\":\"\",\"zerolinecolor\":\"white\",\"gridwidth\":2},\"zaxis\":{\"backgroundcolor\":\"#E5ECF6\",\"gridcolor\":\"white\",\"linecolor\":\"white\",\"showbackground\":true,\"ticks\":\"\",\"zerolinecolor\":\"white\",\"gridwidth\":2}},\"shapedefaults\":{\"line\":{\"color\":\"#2a3f5f\"}},\"annotationdefaults\":{\"arrowcolor\":\"#2a3f5f\",\"arrowhead\":0,\"arrowwidth\":1},\"geo\":{\"bgcolor\":\"white\",\"landcolor\":\"#E5ECF6\",\"subunitcolor\":\"white\",\"showland\":true,\"showlakes\":true,\"lakecolor\":\"white\"},\"title\":{\"x\":0.05},\"mapbox\":{\"style\":\"light\"}}},\"xaxis\":{\"anchor\":\"y\",\"domain\":[0.0,0.7363],\"title\":{\"text\":\"prediction_label\"}},\"yaxis\":{\"anchor\":\"x\",\"domain\":[0.0,1.0],\"title\":{\"text\":\"standardized_residuals\"}},\"xaxis2\":{\"anchor\":\"y2\",\"domain\":[0.7413,1.0],\"matches\":\"x2\",\"showticklabels\":false,\"showline\":false,\"ticks\":\"\",\"showgrid\":true},\"yaxis2\":{\"anchor\":\"x2\",\"domain\":[0.0,1.0],\"matches\":\"y\",\"showticklabels\":false,\"showgrid\":true},\"legend\":{\"title\":{\"text\":\"affordability\"},\"tracegroupgap\":0},\"title\":{\"text\":\"Residuals vs. Predictions\"},\"barmode\":\"overlay\"},                        {\"responsive\": true}                    ).then(function(){\n",
       "                            \n",
       "var gd = document.getElementById('c3258031-910c-4f54-aa38-184c459531ae');\n",
       "var x = new MutationObserver(function (mutations, observer) {{\n",
       "        var display = window.getComputedStyle(gd).display;\n",
       "        if (!display || display === 'none') {{\n",
       "            console.log([gd, 'removed!']);\n",
       "            Plotly.purge(gd);\n",
       "            observer.disconnect();\n",
       "        }}\n",
       "}});\n",
       "\n",
       "// Listen for the removal of the full notebook cells\n",
       "var notebookContainer = gd.closest('#notebook-container');\n",
       "if (notebookContainer) {{\n",
       "    x.observe(notebookContainer, {childList: true});\n",
       "}}\n",
       "\n",
       "// Listen for the clearing of the current output cell\n",
       "var outputEl = gd.closest('.output');\n",
       "if (outputEl) {{\n",
       "    x.observe(outputEl, {childList: true});\n",
       "}}\n",
       "\n",
       "                        })                };                });            </script>        </div>"
      ]
     },
     "metadata": {},
     "output_type": "display_data"
    }
   ],
   "source": [
    "fig = px.scatter(predictions,color = 'affordability', x='prediction_label', y='standardized_residuals', \n",
    "                title=\"Residuals vs. Predictions\",marginal_y=\"histogram\")\n",
    "fig.show()"
   ]
  },
  {
   "cell_type": "markdown",
   "id": "3e690537",
   "metadata": {},
   "source": [
    "##### Country Wealth"
   ]
  },
  {
   "cell_type": "code",
   "execution_count": 26,
   "id": "15966f92",
   "metadata": {},
   "outputs": [
    {
     "data": {
      "application/vnd.plotly.v1+json": {
       "config": {
        "plotlyServerURL": "https://plot.ly"
       },
       "data": [
        {
         "hovertemplate": "country_income_class=high-income<br>prediction_label=%{x}<br>standardized_residuals=%{y}<extra></extra>",
         "legendgroup": "high-income",
         "marker": {
          "color": "#636efa",
          "symbol": "circle"
         },
         "mode": "markers",
         "name": "high-income",
         "orientation": "v",
         "showlegend": true,
         "type": "scatter",
         "x": [
          102.17075168523426,
          2349.239536122795,
          711.2659472678106,
          2256.100621524896,
          1385.8422258624107,
          209.79699774698219,
          1402.7258299293155,
          4830.721371054077,
          712.5899023329719,
          1985.32896604746,
          1072.587774437639,
          1548.8883529177147,
          3654.6368023481477,
          2184.3856253609865,
          3880.605012259879,
          798.6157997011635,
          534.0442335517316,
          242.8594913283437,
          907.647891863835,
          511.25012182155956,
          874.6259587450197,
          529.3405672772227,
          2252.438006613417,
          953.4646920086276,
          929.8792767142431,
          1951.678404739919,
          1114.7082816758182,
          2079.132961976022,
          3659.4499656355856,
          745.4051572946913,
          353.2571685693962,
          668.0533491689931
         ],
         "xaxis": "x",
         "y": [
          0.10718757984004063,
          -0.5655264318227493,
          -0.1933616346954348,
          -0.849983062559264,
          -0.4157258535111172,
          0.08744701023847673,
          -0.6871435935266124,
          0.2584397006690281,
          -0.10637569217584221,
          -1.2697822583585578,
          -0.39991567639567277,
          0.7208426459222813,
          -2.130048286657006,
          -0.5239803879166212,
          -2.256297098148558,
          -0.20708040017746085,
          -0.26337142992880996,
          0.14705563369606162,
          -0.4289947432626206,
          -0.31920804408682324,
          0.2439953470089954,
          0.04335050487779172,
          -0.2165056908960581,
          0.47691763602095505,
          -0.37664977694650476,
          -0.35949386361499547,
          -0.43790689325302995,
          -0.03825693207422545,
          -1.6484812676918918,
          0.07623203932735458,
          -0.1491836808600407,
          -0.1747198869047541
         ],
         "yaxis": "y"
        },
        {
         "alignmentgroup": "True",
         "bingroup": "y",
         "hovertemplate": "country_income_class=high-income<br>standardized_residuals=%{y}<br>count=%{x}<extra></extra>",
         "legendgroup": "high-income",
         "marker": {
          "color": "#636efa"
         },
         "name": "high-income",
         "offsetgroup": "high-income",
         "opacity": 0.5,
         "showlegend": false,
         "type": "histogram",
         "xaxis": "x2",
         "y": [
          0.10718757984004063,
          -0.5655264318227493,
          -0.1933616346954348,
          -0.849983062559264,
          -0.4157258535111172,
          0.08744701023847673,
          -0.6871435935266124,
          0.2584397006690281,
          -0.10637569217584221,
          -1.2697822583585578,
          -0.39991567639567277,
          0.7208426459222813,
          -2.130048286657006,
          -0.5239803879166212,
          -2.256297098148558,
          -0.20708040017746085,
          -0.26337142992880996,
          0.14705563369606162,
          -0.4289947432626206,
          -0.31920804408682324,
          0.2439953470089954,
          0.04335050487779172,
          -0.2165056908960581,
          0.47691763602095505,
          -0.37664977694650476,
          -0.35949386361499547,
          -0.43790689325302995,
          -0.03825693207422545,
          -1.6484812676918918,
          0.07623203932735458,
          -0.1491836808600407,
          -0.1747198869047541
         ],
         "yaxis": "y2"
        },
        {
         "hovertemplate": "country_income_class=low-income<br>prediction_label=%{x}<br>standardized_residuals=%{y}<extra></extra>",
         "legendgroup": "low-income",
         "marker": {
          "color": "#EF553B",
          "symbol": "circle"
         },
         "mode": "markers",
         "name": "low-income",
         "orientation": "v",
         "showlegend": true,
         "type": "scatter",
         "x": [
          3909.7704871114506,
          6920.920249130324,
          4435.815738083743,
          2326.711862829154,
          940.3044486118208,
          4709.619327117738,
          5795.85333626691,
          4833.920243871619,
          1606.9072728099468,
          2737.385426378707,
          1984.646631822834,
          4849.963972840398,
          9016.523576894417,
          2399.9164016263617,
          5023.398728304678,
          4121.339356974152,
          2432.598041184661,
          3536.359884333109,
          4470.762016782005,
          2565.4349745077,
          2967.6183700283163,
          7268.441549259022,
          1956.4130366664212,
          4361.574067220727,
          2735.0654534078085,
          5322.941802880912,
          2477.568581498402,
          6869.34082113443,
          1978.6576126423251,
          2263.260504176783,
          5077.396011182047,
          3857.1356519534484,
          5493.089427639241,
          7892.356812536884,
          1667.91238774261,
          2335.6024216704027,
          6908.393711495163,
          2129.8473303427772,
          956.6154533581798,
          2020.4027677777926,
          4180.952361207191,
          7580.593788473695,
          2370.148299614138,
          3752.622115837646,
          1184.2029729575074,
          293.30295869800506,
          6076.583043730741,
          1647.5365707111987,
          3437.833188695071,
          2991.1267819448067,
          5210.817013271293,
          3089.845584975268,
          2276.853202040228,
          1009.7698706434339,
          6080.43418189986,
          3054.8356663413815,
          532.4827107811745,
          2223.060479841364,
          1839.2855960419786,
          4880.219989336049,
          7419.856289871027,
          1070.1224767475255,
          7164.924471631425
         ],
         "xaxis": "x",
         "y": [
          0.11086173350641913,
          2.0652957993390353,
          -1.2415624129233056,
          2.144803818869288,
          0.12959416135494814,
          -3.0164742701569693,
          0.12695827078031854,
          0.7955879028561514,
          -0.4698905312918919,
          -1.2587918095111483,
          0.5635569241574094,
          4.171050187053832,
          -0.8342342882418152,
          -1.1622533953429792,
          -0.047284043744483396,
          1.9044650926776512,
          0.865204248894011,
          -0.08175671352877935,
          2.619513276812443,
          0.0025816004918747934,
          0.2606008073520154,
          0.1491570483615328,
          -0.06213943812243383,
          -0.7817328386361185,
          -0.163010758863268,
          0.022922047986947438,
          0.011432170425808566,
          0.7362560661902658,
          1.0551708669291096,
          -0.12289745222728114,
          -0.4911822211201383,
          -0.04238950291399794,
          -0.6413264696616281,
          1.7512096225860998,
          0.0594371846150378,
          -0.4257259883128896,
          2.7821143405341573,
          -0.8469166891395016,
          0.5685772547996735,
          -0.8121043393671602,
          -1.8853385417258366,
          0.433241193754502,
          0.20436501326851347,
          0.053818527577218785,
          -0.3890428681078866,
          0.046552674813028404,
          2.2198498405485276,
          -0.6405752941423192,
          -0.2906674117027766,
          -1.1753838458508226,
          0.6507843230068241,
          0.1254756601104307,
          -0.4181793492777123,
          1.0996286704927467,
          0.06401240395184254,
          0.7837843909066909,
          -0.19744453381502403,
          -0.39789087818926117,
          0.19530780987473803,
          3.7514767424865485,
          0.1184812129425209,
          -0.2029518320718047,
          -1.3458269367592544
         ],
         "yaxis": "y"
        },
        {
         "alignmentgroup": "True",
         "bingroup": "y",
         "hovertemplate": "country_income_class=low-income<br>standardized_residuals=%{y}<br>count=%{x}<extra></extra>",
         "legendgroup": "low-income",
         "marker": {
          "color": "#EF553B"
         },
         "name": "low-income",
         "offsetgroup": "low-income",
         "opacity": 0.5,
         "showlegend": false,
         "type": "histogram",
         "xaxis": "x2",
         "y": [
          0.11086173350641913,
          2.0652957993390353,
          -1.2415624129233056,
          2.144803818869288,
          0.12959416135494814,
          -3.0164742701569693,
          0.12695827078031854,
          0.7955879028561514,
          -0.4698905312918919,
          -1.2587918095111483,
          0.5635569241574094,
          4.171050187053832,
          -0.8342342882418152,
          -1.1622533953429792,
          -0.047284043744483396,
          1.9044650926776512,
          0.865204248894011,
          -0.08175671352877935,
          2.619513276812443,
          0.0025816004918747934,
          0.2606008073520154,
          0.1491570483615328,
          -0.06213943812243383,
          -0.7817328386361185,
          -0.163010758863268,
          0.022922047986947438,
          0.011432170425808566,
          0.7362560661902658,
          1.0551708669291096,
          -0.12289745222728114,
          -0.4911822211201383,
          -0.04238950291399794,
          -0.6413264696616281,
          1.7512096225860998,
          0.0594371846150378,
          -0.4257259883128896,
          2.7821143405341573,
          -0.8469166891395016,
          0.5685772547996735,
          -0.8121043393671602,
          -1.8853385417258366,
          0.433241193754502,
          0.20436501326851347,
          0.053818527577218785,
          -0.3890428681078866,
          0.046552674813028404,
          2.2198498405485276,
          -0.6405752941423192,
          -0.2906674117027766,
          -1.1753838458508226,
          0.6507843230068241,
          0.1254756601104307,
          -0.4181793492777123,
          1.0996286704927467,
          0.06401240395184254,
          0.7837843909066909,
          -0.19744453381502403,
          -0.39789087818926117,
          0.19530780987473803,
          3.7514767424865485,
          0.1184812129425209,
          -0.2029518320718047,
          -1.3458269367592544
         ],
         "yaxis": "y2"
        },
        {
         "hovertemplate": "country_income_class=lower-middle income<br>prediction_label=%{x}<br>standardized_residuals=%{y}<extra></extra>",
         "legendgroup": "lower-middle income",
         "marker": {
          "color": "#00cc96",
          "symbol": "circle"
         },
         "mode": "markers",
         "name": "lower-middle income",
         "orientation": "v",
         "showlegend": true,
         "type": "scatter",
         "x": [
          5268.208083240094,
          6760.0144776494335,
          3858.3344491629646,
          5897.937025079799,
          2043.780415821033,
          1552.4975766685916,
          1266.8177926573169,
          4220.215656449808,
          1985.8244320984018,
          1177.09158857903,
          393.6873156975606,
          2037.9995264626702,
          5196.764660166508,
          4752.053710921977,
          4950.439051173166,
          3526.810497421209,
          7065.36375651176,
          6016.382738518791,
          3099.15187940601,
          1014.6010386514137,
          8427.881808975493,
          6623.072219015205,
          8052.29400413316,
          4021.556856527583,
          5554.047695999176,
          7322.05767228667,
          704.8064894089756,
          796.1856004486104,
          5350.305891165746,
          1027.7243429452365,
          3322.1522572646472,
          2516.580677316223,
          4017.676583449817,
          530.0959489040278,
          305.4627479109936,
          189.12254000875805,
          2390.5820074790686,
          3522.063720092318,
          3323.212787077543,
          2121.4795657781824,
          5201.343920562827,
          2771.722335679372,
          8993.950610021906
         ],
         "xaxis": "x",
         "y": [
          -0.11140544785525983,
          -0.8457225120386594,
          0.6046542134687367,
          1.5664649530011903,
          -0.13109234426606745,
          0.24437950589482976,
          -0.46500792249082595,
          -0.7208270431355275,
          0.27150232890249143,
          0.158857161404513,
          -0.047074300987293705,
          -0.3029452402087591,
          -0.15097933301366367,
          -0.7965556945542388,
          0.9327347566248745,
          -0.24605553818057577,
          -0.762750471765021,
          0.267034550242766,
          -0.5900997015828551,
          -0.45188192274730365,
          -0.7803518294959371,
          -2.9729173560587703,
          -2.589717677876966,
          -0.08261965302651933,
          1.8033498194331006,
          0.4494984934670181,
          0.10738341907848155,
          -0.2087831486189691,
          0.9439845150264756,
          0.3009800903324007,
          -0.8560837817898093,
          -0.21814334935976062,
          0.338544548268741,
          0.024930971110588195,
          0.18984355199605987,
          0.008573857949728194,
          0.6106396489707562,
          -0.024742563847081497,
          -1.0913274876964663,
          0.13339953545093663,
          -0.05358846693352071,
          0.7728715609659034,
          1.4408125266407783
         ],
         "yaxis": "y"
        },
        {
         "alignmentgroup": "True",
         "bingroup": "y",
         "hovertemplate": "country_income_class=lower-middle income<br>standardized_residuals=%{y}<br>count=%{x}<extra></extra>",
         "legendgroup": "lower-middle income",
         "marker": {
          "color": "#00cc96"
         },
         "name": "lower-middle income",
         "offsetgroup": "lower-middle income",
         "opacity": 0.5,
         "showlegend": false,
         "type": "histogram",
         "xaxis": "x2",
         "y": [
          -0.11140544785525983,
          -0.8457225120386594,
          0.6046542134687367,
          1.5664649530011903,
          -0.13109234426606745,
          0.24437950589482976,
          -0.46500792249082595,
          -0.7208270431355275,
          0.27150232890249143,
          0.158857161404513,
          -0.047074300987293705,
          -0.3029452402087591,
          -0.15097933301366367,
          -0.7965556945542388,
          0.9327347566248745,
          -0.24605553818057577,
          -0.762750471765021,
          0.267034550242766,
          -0.5900997015828551,
          -0.45188192274730365,
          -0.7803518294959371,
          -2.9729173560587703,
          -2.589717677876966,
          -0.08261965302651933,
          1.8033498194331006,
          0.4494984934670181,
          0.10738341907848155,
          -0.2087831486189691,
          0.9439845150264756,
          0.3009800903324007,
          -0.8560837817898093,
          -0.21814334935976062,
          0.338544548268741,
          0.024930971110588195,
          0.18984355199605987,
          0.008573857949728194,
          0.6106396489707562,
          -0.024742563847081497,
          -1.0913274876964663,
          0.13339953545093663,
          -0.05358846693352071,
          0.7728715609659034,
          1.4408125266407783
         ],
         "yaxis": "y2"
        },
        {
         "hovertemplate": "country_income_class=upper-middle income<br>prediction_label=%{x}<br>standardized_residuals=%{y}<extra></extra>",
         "legendgroup": "upper-middle income",
         "marker": {
          "color": "#ab63fa",
          "symbol": "circle"
         },
         "mode": "markers",
         "name": "upper-middle income",
         "orientation": "v",
         "showlegend": true,
         "type": "scatter",
         "x": [
          1160.8819740647707,
          391.4180175035354,
          892.525179472119,
          925.7097077597173,
          559.6767102363265,
          4896.070492625913,
          2130.0428711993322,
          1467.9905068613652,
          393.67144367998924,
          1945.3430808330365,
          570.6932402499672,
          1610.4666637931011,
          1618.9009414356337,
          4254.139530042213,
          912.2279723028626
         ],
         "xaxis": "x",
         "y": [
          0.19416865131480918,
          -0.16639419407157024,
          -0.3066265274918681,
          -0.026447850460265876,
          0.18624407601428858,
          -0.23511010026048043,
          0.26805321106105906,
          0.3957061658797999,
          0.3019562017242479,
          -0.47771081625618084,
          -0.045135919285423105,
          0.6790251313961008,
          1.512254169409071,
          0.07856111937140106,
          -0.3699402867415168
         ],
         "yaxis": "y"
        },
        {
         "alignmentgroup": "True",
         "bingroup": "y",
         "hovertemplate": "country_income_class=upper-middle income<br>standardized_residuals=%{y}<br>count=%{x}<extra></extra>",
         "legendgroup": "upper-middle income",
         "marker": {
          "color": "#ab63fa"
         },
         "name": "upper-middle income",
         "offsetgroup": "upper-middle income",
         "opacity": 0.5,
         "showlegend": false,
         "type": "histogram",
         "xaxis": "x2",
         "y": [
          0.19416865131480918,
          -0.16639419407157024,
          -0.3066265274918681,
          -0.026447850460265876,
          0.18624407601428858,
          -0.23511010026048043,
          0.26805321106105906,
          0.3957061658797999,
          0.3019562017242479,
          -0.47771081625618084,
          -0.045135919285423105,
          0.6790251313961008,
          1.512254169409071,
          0.07856111937140106,
          -0.3699402867415168
         ],
         "yaxis": "y2"
        }
       ],
       "layout": {
        "barmode": "overlay",
        "legend": {
         "title": {
          "text": "country_income_class"
         },
         "tracegroupgap": 0
        },
        "template": {
         "data": {
          "bar": [
           {
            "error_x": {
             "color": "#2a3f5f"
            },
            "error_y": {
             "color": "#2a3f5f"
            },
            "marker": {
             "line": {
              "color": "#E5ECF6",
              "width": 0.5
             },
             "pattern": {
              "fillmode": "overlay",
              "size": 10,
              "solidity": 0.2
             }
            },
            "type": "bar"
           }
          ],
          "barpolar": [
           {
            "marker": {
             "line": {
              "color": "#E5ECF6",
              "width": 0.5
             },
             "pattern": {
              "fillmode": "overlay",
              "size": 10,
              "solidity": 0.2
             }
            },
            "type": "barpolar"
           }
          ],
          "carpet": [
           {
            "aaxis": {
             "endlinecolor": "#2a3f5f",
             "gridcolor": "white",
             "linecolor": "white",
             "minorgridcolor": "white",
             "startlinecolor": "#2a3f5f"
            },
            "baxis": {
             "endlinecolor": "#2a3f5f",
             "gridcolor": "white",
             "linecolor": "white",
             "minorgridcolor": "white",
             "startlinecolor": "#2a3f5f"
            },
            "type": "carpet"
           }
          ],
          "choropleth": [
           {
            "colorbar": {
             "outlinewidth": 0,
             "ticks": ""
            },
            "type": "choropleth"
           }
          ],
          "contour": [
           {
            "colorbar": {
             "outlinewidth": 0,
             "ticks": ""
            },
            "colorscale": [
             [
              0,
              "#0d0887"
             ],
             [
              0.1111111111111111,
              "#46039f"
             ],
             [
              0.2222222222222222,
              "#7201a8"
             ],
             [
              0.3333333333333333,
              "#9c179e"
             ],
             [
              0.4444444444444444,
              "#bd3786"
             ],
             [
              0.5555555555555556,
              "#d8576b"
             ],
             [
              0.6666666666666666,
              "#ed7953"
             ],
             [
              0.7777777777777778,
              "#fb9f3a"
             ],
             [
              0.8888888888888888,
              "#fdca26"
             ],
             [
              1,
              "#f0f921"
             ]
            ],
            "type": "contour"
           }
          ],
          "contourcarpet": [
           {
            "colorbar": {
             "outlinewidth": 0,
             "ticks": ""
            },
            "type": "contourcarpet"
           }
          ],
          "heatmap": [
           {
            "colorbar": {
             "outlinewidth": 0,
             "ticks": ""
            },
            "colorscale": [
             [
              0,
              "#0d0887"
             ],
             [
              0.1111111111111111,
              "#46039f"
             ],
             [
              0.2222222222222222,
              "#7201a8"
             ],
             [
              0.3333333333333333,
              "#9c179e"
             ],
             [
              0.4444444444444444,
              "#bd3786"
             ],
             [
              0.5555555555555556,
              "#d8576b"
             ],
             [
              0.6666666666666666,
              "#ed7953"
             ],
             [
              0.7777777777777778,
              "#fb9f3a"
             ],
             [
              0.8888888888888888,
              "#fdca26"
             ],
             [
              1,
              "#f0f921"
             ]
            ],
            "type": "heatmap"
           }
          ],
          "heatmapgl": [
           {
            "colorbar": {
             "outlinewidth": 0,
             "ticks": ""
            },
            "colorscale": [
             [
              0,
              "#0d0887"
             ],
             [
              0.1111111111111111,
              "#46039f"
             ],
             [
              0.2222222222222222,
              "#7201a8"
             ],
             [
              0.3333333333333333,
              "#9c179e"
             ],
             [
              0.4444444444444444,
              "#bd3786"
             ],
             [
              0.5555555555555556,
              "#d8576b"
             ],
             [
              0.6666666666666666,
              "#ed7953"
             ],
             [
              0.7777777777777778,
              "#fb9f3a"
             ],
             [
              0.8888888888888888,
              "#fdca26"
             ],
             [
              1,
              "#f0f921"
             ]
            ],
            "type": "heatmapgl"
           }
          ],
          "histogram": [
           {
            "marker": {
             "pattern": {
              "fillmode": "overlay",
              "size": 10,
              "solidity": 0.2
             }
            },
            "type": "histogram"
           }
          ],
          "histogram2d": [
           {
            "colorbar": {
             "outlinewidth": 0,
             "ticks": ""
            },
            "colorscale": [
             [
              0,
              "#0d0887"
             ],
             [
              0.1111111111111111,
              "#46039f"
             ],
             [
              0.2222222222222222,
              "#7201a8"
             ],
             [
              0.3333333333333333,
              "#9c179e"
             ],
             [
              0.4444444444444444,
              "#bd3786"
             ],
             [
              0.5555555555555556,
              "#d8576b"
             ],
             [
              0.6666666666666666,
              "#ed7953"
             ],
             [
              0.7777777777777778,
              "#fb9f3a"
             ],
             [
              0.8888888888888888,
              "#fdca26"
             ],
             [
              1,
              "#f0f921"
             ]
            ],
            "type": "histogram2d"
           }
          ],
          "histogram2dcontour": [
           {
            "colorbar": {
             "outlinewidth": 0,
             "ticks": ""
            },
            "colorscale": [
             [
              0,
              "#0d0887"
             ],
             [
              0.1111111111111111,
              "#46039f"
             ],
             [
              0.2222222222222222,
              "#7201a8"
             ],
             [
              0.3333333333333333,
              "#9c179e"
             ],
             [
              0.4444444444444444,
              "#bd3786"
             ],
             [
              0.5555555555555556,
              "#d8576b"
             ],
             [
              0.6666666666666666,
              "#ed7953"
             ],
             [
              0.7777777777777778,
              "#fb9f3a"
             ],
             [
              0.8888888888888888,
              "#fdca26"
             ],
             [
              1,
              "#f0f921"
             ]
            ],
            "type": "histogram2dcontour"
           }
          ],
          "mesh3d": [
           {
            "colorbar": {
             "outlinewidth": 0,
             "ticks": ""
            },
            "type": "mesh3d"
           }
          ],
          "parcoords": [
           {
            "line": {
             "colorbar": {
              "outlinewidth": 0,
              "ticks": ""
             }
            },
            "type": "parcoords"
           }
          ],
          "pie": [
           {
            "automargin": true,
            "type": "pie"
           }
          ],
          "scatter": [
           {
            "fillpattern": {
             "fillmode": "overlay",
             "size": 10,
             "solidity": 0.2
            },
            "type": "scatter"
           }
          ],
          "scatter3d": [
           {
            "line": {
             "colorbar": {
              "outlinewidth": 0,
              "ticks": ""
             }
            },
            "marker": {
             "colorbar": {
              "outlinewidth": 0,
              "ticks": ""
             }
            },
            "type": "scatter3d"
           }
          ],
          "scattercarpet": [
           {
            "marker": {
             "colorbar": {
              "outlinewidth": 0,
              "ticks": ""
             }
            },
            "type": "scattercarpet"
           }
          ],
          "scattergeo": [
           {
            "marker": {
             "colorbar": {
              "outlinewidth": 0,
              "ticks": ""
             }
            },
            "type": "scattergeo"
           }
          ],
          "scattergl": [
           {
            "marker": {
             "colorbar": {
              "outlinewidth": 0,
              "ticks": ""
             }
            },
            "type": "scattergl"
           }
          ],
          "scattermapbox": [
           {
            "marker": {
             "colorbar": {
              "outlinewidth": 0,
              "ticks": ""
             }
            },
            "type": "scattermapbox"
           }
          ],
          "scatterpolar": [
           {
            "marker": {
             "colorbar": {
              "outlinewidth": 0,
              "ticks": ""
             }
            },
            "type": "scatterpolar"
           }
          ],
          "scatterpolargl": [
           {
            "marker": {
             "colorbar": {
              "outlinewidth": 0,
              "ticks": ""
             }
            },
            "type": "scatterpolargl"
           }
          ],
          "scatterternary": [
           {
            "marker": {
             "colorbar": {
              "outlinewidth": 0,
              "ticks": ""
             }
            },
            "type": "scatterternary"
           }
          ],
          "surface": [
           {
            "colorbar": {
             "outlinewidth": 0,
             "ticks": ""
            },
            "colorscale": [
             [
              0,
              "#0d0887"
             ],
             [
              0.1111111111111111,
              "#46039f"
             ],
             [
              0.2222222222222222,
              "#7201a8"
             ],
             [
              0.3333333333333333,
              "#9c179e"
             ],
             [
              0.4444444444444444,
              "#bd3786"
             ],
             [
              0.5555555555555556,
              "#d8576b"
             ],
             [
              0.6666666666666666,
              "#ed7953"
             ],
             [
              0.7777777777777778,
              "#fb9f3a"
             ],
             [
              0.8888888888888888,
              "#fdca26"
             ],
             [
              1,
              "#f0f921"
             ]
            ],
            "type": "surface"
           }
          ],
          "table": [
           {
            "cells": {
             "fill": {
              "color": "#EBF0F8"
             },
             "line": {
              "color": "white"
             }
            },
            "header": {
             "fill": {
              "color": "#C8D4E3"
             },
             "line": {
              "color": "white"
             }
            },
            "type": "table"
           }
          ]
         },
         "layout": {
          "annotationdefaults": {
           "arrowcolor": "#2a3f5f",
           "arrowhead": 0,
           "arrowwidth": 1
          },
          "autotypenumbers": "strict",
          "coloraxis": {
           "colorbar": {
            "outlinewidth": 0,
            "ticks": ""
           }
          },
          "colorscale": {
           "diverging": [
            [
             0,
             "#8e0152"
            ],
            [
             0.1,
             "#c51b7d"
            ],
            [
             0.2,
             "#de77ae"
            ],
            [
             0.3,
             "#f1b6da"
            ],
            [
             0.4,
             "#fde0ef"
            ],
            [
             0.5,
             "#f7f7f7"
            ],
            [
             0.6,
             "#e6f5d0"
            ],
            [
             0.7,
             "#b8e186"
            ],
            [
             0.8,
             "#7fbc41"
            ],
            [
             0.9,
             "#4d9221"
            ],
            [
             1,
             "#276419"
            ]
           ],
           "sequential": [
            [
             0,
             "#0d0887"
            ],
            [
             0.1111111111111111,
             "#46039f"
            ],
            [
             0.2222222222222222,
             "#7201a8"
            ],
            [
             0.3333333333333333,
             "#9c179e"
            ],
            [
             0.4444444444444444,
             "#bd3786"
            ],
            [
             0.5555555555555556,
             "#d8576b"
            ],
            [
             0.6666666666666666,
             "#ed7953"
            ],
            [
             0.7777777777777778,
             "#fb9f3a"
            ],
            [
             0.8888888888888888,
             "#fdca26"
            ],
            [
             1,
             "#f0f921"
            ]
           ],
           "sequentialminus": [
            [
             0,
             "#0d0887"
            ],
            [
             0.1111111111111111,
             "#46039f"
            ],
            [
             0.2222222222222222,
             "#7201a8"
            ],
            [
             0.3333333333333333,
             "#9c179e"
            ],
            [
             0.4444444444444444,
             "#bd3786"
            ],
            [
             0.5555555555555556,
             "#d8576b"
            ],
            [
             0.6666666666666666,
             "#ed7953"
            ],
            [
             0.7777777777777778,
             "#fb9f3a"
            ],
            [
             0.8888888888888888,
             "#fdca26"
            ],
            [
             1,
             "#f0f921"
            ]
           ]
          },
          "colorway": [
           "#636efa",
           "#EF553B",
           "#00cc96",
           "#ab63fa",
           "#FFA15A",
           "#19d3f3",
           "#FF6692",
           "#B6E880",
           "#FF97FF",
           "#FECB52"
          ],
          "font": {
           "color": "#2a3f5f"
          },
          "geo": {
           "bgcolor": "white",
           "lakecolor": "white",
           "landcolor": "#E5ECF6",
           "showlakes": true,
           "showland": true,
           "subunitcolor": "white"
          },
          "hoverlabel": {
           "align": "left"
          },
          "hovermode": "closest",
          "mapbox": {
           "style": "light"
          },
          "paper_bgcolor": "white",
          "plot_bgcolor": "#E5ECF6",
          "polar": {
           "angularaxis": {
            "gridcolor": "white",
            "linecolor": "white",
            "ticks": ""
           },
           "bgcolor": "#E5ECF6",
           "radialaxis": {
            "gridcolor": "white",
            "linecolor": "white",
            "ticks": ""
           }
          },
          "scene": {
           "xaxis": {
            "backgroundcolor": "#E5ECF6",
            "gridcolor": "white",
            "gridwidth": 2,
            "linecolor": "white",
            "showbackground": true,
            "ticks": "",
            "zerolinecolor": "white"
           },
           "yaxis": {
            "backgroundcolor": "#E5ECF6",
            "gridcolor": "white",
            "gridwidth": 2,
            "linecolor": "white",
            "showbackground": true,
            "ticks": "",
            "zerolinecolor": "white"
           },
           "zaxis": {
            "backgroundcolor": "#E5ECF6",
            "gridcolor": "white",
            "gridwidth": 2,
            "linecolor": "white",
            "showbackground": true,
            "ticks": "",
            "zerolinecolor": "white"
           }
          },
          "shapedefaults": {
           "line": {
            "color": "#2a3f5f"
           }
          },
          "ternary": {
           "aaxis": {
            "gridcolor": "white",
            "linecolor": "white",
            "ticks": ""
           },
           "baxis": {
            "gridcolor": "white",
            "linecolor": "white",
            "ticks": ""
           },
           "bgcolor": "#E5ECF6",
           "caxis": {
            "gridcolor": "white",
            "linecolor": "white",
            "ticks": ""
           }
          },
          "title": {
           "x": 0.05
          },
          "xaxis": {
           "automargin": true,
           "gridcolor": "white",
           "linecolor": "white",
           "ticks": "",
           "title": {
            "standoff": 15
           },
           "zerolinecolor": "white",
           "zerolinewidth": 2
          },
          "yaxis": {
           "automargin": true,
           "gridcolor": "white",
           "linecolor": "white",
           "ticks": "",
           "title": {
            "standoff": 15
           },
           "zerolinecolor": "white",
           "zerolinewidth": 2
          }
         }
        },
        "title": {
         "text": "Residuals vs. Predictions"
        },
        "xaxis": {
         "anchor": "y",
         "domain": [
          0,
          0.7363
         ],
         "title": {
          "text": "prediction_label"
         }
        },
        "xaxis2": {
         "anchor": "y2",
         "domain": [
          0.7413,
          1
         ],
         "matches": "x2",
         "showgrid": true,
         "showline": false,
         "showticklabels": false,
         "ticks": ""
        },
        "yaxis": {
         "anchor": "x",
         "domain": [
          0,
          1
         ],
         "title": {
          "text": "standardized_residuals"
         }
        },
        "yaxis2": {
         "anchor": "x2",
         "domain": [
          0,
          1
         ],
         "matches": "y",
         "showgrid": true,
         "showticklabels": false
        }
       }
      },
      "text/html": [
       "<div>                            <div id=\"69867822-63c0-4788-b68c-a68afe7068cb\" class=\"plotly-graph-div\" style=\"height:525px; width:100%;\"></div>            <script type=\"text/javascript\">                require([\"plotly\"], function(Plotly) {                    window.PLOTLYENV=window.PLOTLYENV || {};                                    if (document.getElementById(\"69867822-63c0-4788-b68c-a68afe7068cb\")) {                    Plotly.newPlot(                        \"69867822-63c0-4788-b68c-a68afe7068cb\",                        [{\"hovertemplate\":\"country_income_class=high-income\\u003cbr\\u003eprediction_label=%{x}\\u003cbr\\u003estandardized_residuals=%{y}\\u003cextra\\u003e\\u003c\\u002fextra\\u003e\",\"legendgroup\":\"high-income\",\"marker\":{\"color\":\"#636efa\",\"symbol\":\"circle\"},\"mode\":\"markers\",\"name\":\"high-income\",\"orientation\":\"v\",\"showlegend\":true,\"x\":[102.17075168523426,2349.239536122795,711.2659472678106,2256.100621524896,1385.8422258624107,209.79699774698219,1402.7258299293155,4830.721371054077,712.5899023329719,1985.32896604746,1072.587774437639,1548.8883529177147,3654.6368023481477,2184.3856253609865,3880.605012259879,798.6157997011635,534.0442335517316,242.8594913283437,907.647891863835,511.25012182155956,874.6259587450197,529.3405672772227,2252.438006613417,953.4646920086276,929.8792767142431,1951.678404739919,1114.7082816758182,2079.132961976022,3659.4499656355856,745.4051572946913,353.2571685693962,668.0533491689931],\"xaxis\":\"x\",\"y\":[0.10718757984004063,-0.5655264318227493,-0.1933616346954348,-0.849983062559264,-0.4157258535111172,0.08744701023847673,-0.6871435935266124,0.2584397006690281,-0.10637569217584221,-1.2697822583585578,-0.39991567639567277,0.7208426459222813,-2.130048286657006,-0.5239803879166212,-2.256297098148558,-0.20708040017746085,-0.26337142992880996,0.14705563369606162,-0.4289947432626206,-0.31920804408682324,0.2439953470089954,0.04335050487779172,-0.2165056908960581,0.47691763602095505,-0.37664977694650476,-0.35949386361499547,-0.43790689325302995,-0.03825693207422545,-1.6484812676918918,0.07623203932735458,-0.1491836808600407,-0.1747198869047541],\"yaxis\":\"y\",\"type\":\"scatter\"},{\"alignmentgroup\":\"True\",\"bingroup\":\"y\",\"hovertemplate\":\"country_income_class=high-income\\u003cbr\\u003estandardized_residuals=%{y}\\u003cbr\\u003ecount=%{x}\\u003cextra\\u003e\\u003c\\u002fextra\\u003e\",\"legendgroup\":\"high-income\",\"marker\":{\"color\":\"#636efa\"},\"name\":\"high-income\",\"offsetgroup\":\"high-income\",\"opacity\":0.5,\"showlegend\":false,\"xaxis\":\"x2\",\"y\":[0.10718757984004063,-0.5655264318227493,-0.1933616346954348,-0.849983062559264,-0.4157258535111172,0.08744701023847673,-0.6871435935266124,0.2584397006690281,-0.10637569217584221,-1.2697822583585578,-0.39991567639567277,0.7208426459222813,-2.130048286657006,-0.5239803879166212,-2.256297098148558,-0.20708040017746085,-0.26337142992880996,0.14705563369606162,-0.4289947432626206,-0.31920804408682324,0.2439953470089954,0.04335050487779172,-0.2165056908960581,0.47691763602095505,-0.37664977694650476,-0.35949386361499547,-0.43790689325302995,-0.03825693207422545,-1.6484812676918918,0.07623203932735458,-0.1491836808600407,-0.1747198869047541],\"yaxis\":\"y2\",\"type\":\"histogram\"},{\"hovertemplate\":\"country_income_class=low-income\\u003cbr\\u003eprediction_label=%{x}\\u003cbr\\u003estandardized_residuals=%{y}\\u003cextra\\u003e\\u003c\\u002fextra\\u003e\",\"legendgroup\":\"low-income\",\"marker\":{\"color\":\"#EF553B\",\"symbol\":\"circle\"},\"mode\":\"markers\",\"name\":\"low-income\",\"orientation\":\"v\",\"showlegend\":true,\"x\":[3909.7704871114506,6920.920249130324,4435.815738083743,2326.711862829154,940.3044486118208,4709.619327117738,5795.85333626691,4833.920243871619,1606.9072728099468,2737.385426378707,1984.646631822834,4849.963972840398,9016.523576894417,2399.9164016263617,5023.398728304678,4121.339356974152,2432.598041184661,3536.359884333109,4470.762016782005,2565.4349745077,2967.6183700283163,7268.441549259022,1956.4130366664212,4361.574067220727,2735.0654534078085,5322.941802880912,2477.568581498402,6869.34082113443,1978.6576126423251,2263.260504176783,5077.396011182047,3857.1356519534484,5493.089427639241,7892.356812536884,1667.91238774261,2335.6024216704027,6908.393711495163,2129.8473303427772,956.6154533581798,2020.4027677777926,4180.952361207191,7580.593788473695,2370.148299614138,3752.622115837646,1184.2029729575074,293.30295869800506,6076.583043730741,1647.5365707111987,3437.833188695071,2991.1267819448067,5210.817013271293,3089.845584975268,2276.853202040228,1009.7698706434339,6080.43418189986,3054.8356663413815,532.4827107811745,2223.060479841364,1839.2855960419786,4880.219989336049,7419.856289871027,1070.1224767475255,7164.924471631425],\"xaxis\":\"x\",\"y\":[0.11086173350641913,2.0652957993390353,-1.2415624129233056,2.144803818869288,0.12959416135494814,-3.0164742701569693,0.12695827078031854,0.7955879028561514,-0.4698905312918919,-1.2587918095111483,0.5635569241574094,4.171050187053832,-0.8342342882418152,-1.1622533953429792,-0.047284043744483396,1.9044650926776512,0.865204248894011,-0.08175671352877935,2.619513276812443,0.0025816004918747934,0.2606008073520154,0.1491570483615328,-0.06213943812243383,-0.7817328386361185,-0.163010758863268,0.022922047986947438,0.011432170425808566,0.7362560661902658,1.0551708669291096,-0.12289745222728114,-0.4911822211201383,-0.04238950291399794,-0.6413264696616281,1.7512096225860998,0.0594371846150378,-0.4257259883128896,2.7821143405341573,-0.8469166891395016,0.5685772547996735,-0.8121043393671602,-1.8853385417258366,0.433241193754502,0.20436501326851347,0.053818527577218785,-0.3890428681078866,0.046552674813028404,2.2198498405485276,-0.6405752941423192,-0.2906674117027766,-1.1753838458508226,0.6507843230068241,0.1254756601104307,-0.4181793492777123,1.0996286704927467,0.06401240395184254,0.7837843909066909,-0.19744453381502403,-0.39789087818926117,0.19530780987473803,3.7514767424865485,0.1184812129425209,-0.2029518320718047,-1.3458269367592544],\"yaxis\":\"y\",\"type\":\"scatter\"},{\"alignmentgroup\":\"True\",\"bingroup\":\"y\",\"hovertemplate\":\"country_income_class=low-income\\u003cbr\\u003estandardized_residuals=%{y}\\u003cbr\\u003ecount=%{x}\\u003cextra\\u003e\\u003c\\u002fextra\\u003e\",\"legendgroup\":\"low-income\",\"marker\":{\"color\":\"#EF553B\"},\"name\":\"low-income\",\"offsetgroup\":\"low-income\",\"opacity\":0.5,\"showlegend\":false,\"xaxis\":\"x2\",\"y\":[0.11086173350641913,2.0652957993390353,-1.2415624129233056,2.144803818869288,0.12959416135494814,-3.0164742701569693,0.12695827078031854,0.7955879028561514,-0.4698905312918919,-1.2587918095111483,0.5635569241574094,4.171050187053832,-0.8342342882418152,-1.1622533953429792,-0.047284043744483396,1.9044650926776512,0.865204248894011,-0.08175671352877935,2.619513276812443,0.0025816004918747934,0.2606008073520154,0.1491570483615328,-0.06213943812243383,-0.7817328386361185,-0.163010758863268,0.022922047986947438,0.011432170425808566,0.7362560661902658,1.0551708669291096,-0.12289745222728114,-0.4911822211201383,-0.04238950291399794,-0.6413264696616281,1.7512096225860998,0.0594371846150378,-0.4257259883128896,2.7821143405341573,-0.8469166891395016,0.5685772547996735,-0.8121043393671602,-1.8853385417258366,0.433241193754502,0.20436501326851347,0.053818527577218785,-0.3890428681078866,0.046552674813028404,2.2198498405485276,-0.6405752941423192,-0.2906674117027766,-1.1753838458508226,0.6507843230068241,0.1254756601104307,-0.4181793492777123,1.0996286704927467,0.06401240395184254,0.7837843909066909,-0.19744453381502403,-0.39789087818926117,0.19530780987473803,3.7514767424865485,0.1184812129425209,-0.2029518320718047,-1.3458269367592544],\"yaxis\":\"y2\",\"type\":\"histogram\"},{\"hovertemplate\":\"country_income_class=lower-middle income\\u003cbr\\u003eprediction_label=%{x}\\u003cbr\\u003estandardized_residuals=%{y}\\u003cextra\\u003e\\u003c\\u002fextra\\u003e\",\"legendgroup\":\"lower-middle income\",\"marker\":{\"color\":\"#00cc96\",\"symbol\":\"circle\"},\"mode\":\"markers\",\"name\":\"lower-middle income\",\"orientation\":\"v\",\"showlegend\":true,\"x\":[5268.208083240094,6760.0144776494335,3858.3344491629646,5897.937025079799,2043.780415821033,1552.4975766685916,1266.8177926573169,4220.215656449808,1985.8244320984018,1177.09158857903,393.6873156975606,2037.9995264626702,5196.764660166508,4752.053710921977,4950.439051173166,3526.810497421209,7065.36375651176,6016.382738518791,3099.15187940601,1014.6010386514137,8427.881808975493,6623.072219015205,8052.29400413316,4021.556856527583,5554.047695999176,7322.05767228667,704.8064894089756,796.1856004486104,5350.305891165746,1027.7243429452365,3322.1522572646472,2516.580677316223,4017.676583449817,530.0959489040278,305.4627479109936,189.12254000875805,2390.5820074790686,3522.063720092318,3323.212787077543,2121.4795657781824,5201.343920562827,2771.722335679372,8993.950610021906],\"xaxis\":\"x\",\"y\":[-0.11140544785525983,-0.8457225120386594,0.6046542134687367,1.5664649530011903,-0.13109234426606745,0.24437950589482976,-0.46500792249082595,-0.7208270431355275,0.27150232890249143,0.158857161404513,-0.047074300987293705,-0.3029452402087591,-0.15097933301366367,-0.7965556945542388,0.9327347566248745,-0.24605553818057577,-0.762750471765021,0.267034550242766,-0.5900997015828551,-0.45188192274730365,-0.7803518294959371,-2.9729173560587703,-2.589717677876966,-0.08261965302651933,1.8033498194331006,0.4494984934670181,0.10738341907848155,-0.2087831486189691,0.9439845150264756,0.3009800903324007,-0.8560837817898093,-0.21814334935976062,0.338544548268741,0.024930971110588195,0.18984355199605987,0.008573857949728194,0.6106396489707562,-0.024742563847081497,-1.0913274876964663,0.13339953545093663,-0.05358846693352071,0.7728715609659034,1.4408125266407783],\"yaxis\":\"y\",\"type\":\"scatter\"},{\"alignmentgroup\":\"True\",\"bingroup\":\"y\",\"hovertemplate\":\"country_income_class=lower-middle income\\u003cbr\\u003estandardized_residuals=%{y}\\u003cbr\\u003ecount=%{x}\\u003cextra\\u003e\\u003c\\u002fextra\\u003e\",\"legendgroup\":\"lower-middle income\",\"marker\":{\"color\":\"#00cc96\"},\"name\":\"lower-middle income\",\"offsetgroup\":\"lower-middle income\",\"opacity\":0.5,\"showlegend\":false,\"xaxis\":\"x2\",\"y\":[-0.11140544785525983,-0.8457225120386594,0.6046542134687367,1.5664649530011903,-0.13109234426606745,0.24437950589482976,-0.46500792249082595,-0.7208270431355275,0.27150232890249143,0.158857161404513,-0.047074300987293705,-0.3029452402087591,-0.15097933301366367,-0.7965556945542388,0.9327347566248745,-0.24605553818057577,-0.762750471765021,0.267034550242766,-0.5900997015828551,-0.45188192274730365,-0.7803518294959371,-2.9729173560587703,-2.589717677876966,-0.08261965302651933,1.8033498194331006,0.4494984934670181,0.10738341907848155,-0.2087831486189691,0.9439845150264756,0.3009800903324007,-0.8560837817898093,-0.21814334935976062,0.338544548268741,0.024930971110588195,0.18984355199605987,0.008573857949728194,0.6106396489707562,-0.024742563847081497,-1.0913274876964663,0.13339953545093663,-0.05358846693352071,0.7728715609659034,1.4408125266407783],\"yaxis\":\"y2\",\"type\":\"histogram\"},{\"hovertemplate\":\"country_income_class=upper-middle income\\u003cbr\\u003eprediction_label=%{x}\\u003cbr\\u003estandardized_residuals=%{y}\\u003cextra\\u003e\\u003c\\u002fextra\\u003e\",\"legendgroup\":\"upper-middle income\",\"marker\":{\"color\":\"#ab63fa\",\"symbol\":\"circle\"},\"mode\":\"markers\",\"name\":\"upper-middle income\",\"orientation\":\"v\",\"showlegend\":true,\"x\":[1160.8819740647707,391.4180175035354,892.525179472119,925.7097077597173,559.6767102363265,4896.070492625913,2130.0428711993322,1467.9905068613652,393.67144367998924,1945.3430808330365,570.6932402499672,1610.4666637931011,1618.9009414356337,4254.139530042213,912.2279723028626],\"xaxis\":\"x\",\"y\":[0.19416865131480918,-0.16639419407157024,-0.3066265274918681,-0.026447850460265876,0.18624407601428858,-0.23511010026048043,0.26805321106105906,0.3957061658797999,0.3019562017242479,-0.47771081625618084,-0.045135919285423105,0.6790251313961008,1.512254169409071,0.07856111937140106,-0.3699402867415168],\"yaxis\":\"y\",\"type\":\"scatter\"},{\"alignmentgroup\":\"True\",\"bingroup\":\"y\",\"hovertemplate\":\"country_income_class=upper-middle income\\u003cbr\\u003estandardized_residuals=%{y}\\u003cbr\\u003ecount=%{x}\\u003cextra\\u003e\\u003c\\u002fextra\\u003e\",\"legendgroup\":\"upper-middle income\",\"marker\":{\"color\":\"#ab63fa\"},\"name\":\"upper-middle income\",\"offsetgroup\":\"upper-middle income\",\"opacity\":0.5,\"showlegend\":false,\"xaxis\":\"x2\",\"y\":[0.19416865131480918,-0.16639419407157024,-0.3066265274918681,-0.026447850460265876,0.18624407601428858,-0.23511010026048043,0.26805321106105906,0.3957061658797999,0.3019562017242479,-0.47771081625618084,-0.045135919285423105,0.6790251313961008,1.512254169409071,0.07856111937140106,-0.3699402867415168],\"yaxis\":\"y2\",\"type\":\"histogram\"}],                        {\"template\":{\"data\":{\"histogram2dcontour\":[{\"type\":\"histogram2dcontour\",\"colorbar\":{\"outlinewidth\":0,\"ticks\":\"\"},\"colorscale\":[[0.0,\"#0d0887\"],[0.1111111111111111,\"#46039f\"],[0.2222222222222222,\"#7201a8\"],[0.3333333333333333,\"#9c179e\"],[0.4444444444444444,\"#bd3786\"],[0.5555555555555556,\"#d8576b\"],[0.6666666666666666,\"#ed7953\"],[0.7777777777777778,\"#fb9f3a\"],[0.8888888888888888,\"#fdca26\"],[1.0,\"#f0f921\"]]}],\"choropleth\":[{\"type\":\"choropleth\",\"colorbar\":{\"outlinewidth\":0,\"ticks\":\"\"}}],\"histogram2d\":[{\"type\":\"histogram2d\",\"colorbar\":{\"outlinewidth\":0,\"ticks\":\"\"},\"colorscale\":[[0.0,\"#0d0887\"],[0.1111111111111111,\"#46039f\"],[0.2222222222222222,\"#7201a8\"],[0.3333333333333333,\"#9c179e\"],[0.4444444444444444,\"#bd3786\"],[0.5555555555555556,\"#d8576b\"],[0.6666666666666666,\"#ed7953\"],[0.7777777777777778,\"#fb9f3a\"],[0.8888888888888888,\"#fdca26\"],[1.0,\"#f0f921\"]]}],\"heatmap\":[{\"type\":\"heatmap\",\"colorbar\":{\"outlinewidth\":0,\"ticks\":\"\"},\"colorscale\":[[0.0,\"#0d0887\"],[0.1111111111111111,\"#46039f\"],[0.2222222222222222,\"#7201a8\"],[0.3333333333333333,\"#9c179e\"],[0.4444444444444444,\"#bd3786\"],[0.5555555555555556,\"#d8576b\"],[0.6666666666666666,\"#ed7953\"],[0.7777777777777778,\"#fb9f3a\"],[0.8888888888888888,\"#fdca26\"],[1.0,\"#f0f921\"]]}],\"heatmapgl\":[{\"type\":\"heatmapgl\",\"colorbar\":{\"outlinewidth\":0,\"ticks\":\"\"},\"colorscale\":[[0.0,\"#0d0887\"],[0.1111111111111111,\"#46039f\"],[0.2222222222222222,\"#7201a8\"],[0.3333333333333333,\"#9c179e\"],[0.4444444444444444,\"#bd3786\"],[0.5555555555555556,\"#d8576b\"],[0.6666666666666666,\"#ed7953\"],[0.7777777777777778,\"#fb9f3a\"],[0.8888888888888888,\"#fdca26\"],[1.0,\"#f0f921\"]]}],\"contourcarpet\":[{\"type\":\"contourcarpet\",\"colorbar\":{\"outlinewidth\":0,\"ticks\":\"\"}}],\"contour\":[{\"type\":\"contour\",\"colorbar\":{\"outlinewidth\":0,\"ticks\":\"\"},\"colorscale\":[[0.0,\"#0d0887\"],[0.1111111111111111,\"#46039f\"],[0.2222222222222222,\"#7201a8\"],[0.3333333333333333,\"#9c179e\"],[0.4444444444444444,\"#bd3786\"],[0.5555555555555556,\"#d8576b\"],[0.6666666666666666,\"#ed7953\"],[0.7777777777777778,\"#fb9f3a\"],[0.8888888888888888,\"#fdca26\"],[1.0,\"#f0f921\"]]}],\"surface\":[{\"type\":\"surface\",\"colorbar\":{\"outlinewidth\":0,\"ticks\":\"\"},\"colorscale\":[[0.0,\"#0d0887\"],[0.1111111111111111,\"#46039f\"],[0.2222222222222222,\"#7201a8\"],[0.3333333333333333,\"#9c179e\"],[0.4444444444444444,\"#bd3786\"],[0.5555555555555556,\"#d8576b\"],[0.6666666666666666,\"#ed7953\"],[0.7777777777777778,\"#fb9f3a\"],[0.8888888888888888,\"#fdca26\"],[1.0,\"#f0f921\"]]}],\"mesh3d\":[{\"type\":\"mesh3d\",\"colorbar\":{\"outlinewidth\":0,\"ticks\":\"\"}}],\"scatter\":[{\"fillpattern\":{\"fillmode\":\"overlay\",\"size\":10,\"solidity\":0.2},\"type\":\"scatter\"}],\"parcoords\":[{\"type\":\"parcoords\",\"line\":{\"colorbar\":{\"outlinewidth\":0,\"ticks\":\"\"}}}],\"scatterpolargl\":[{\"type\":\"scatterpolargl\",\"marker\":{\"colorbar\":{\"outlinewidth\":0,\"ticks\":\"\"}}}],\"bar\":[{\"error_x\":{\"color\":\"#2a3f5f\"},\"error_y\":{\"color\":\"#2a3f5f\"},\"marker\":{\"line\":{\"color\":\"#E5ECF6\",\"width\":0.5},\"pattern\":{\"fillmode\":\"overlay\",\"size\":10,\"solidity\":0.2}},\"type\":\"bar\"}],\"scattergeo\":[{\"type\":\"scattergeo\",\"marker\":{\"colorbar\":{\"outlinewidth\":0,\"ticks\":\"\"}}}],\"scatterpolar\":[{\"type\":\"scatterpolar\",\"marker\":{\"colorbar\":{\"outlinewidth\":0,\"ticks\":\"\"}}}],\"histogram\":[{\"marker\":{\"pattern\":{\"fillmode\":\"overlay\",\"size\":10,\"solidity\":0.2}},\"type\":\"histogram\"}],\"scattergl\":[{\"type\":\"scattergl\",\"marker\":{\"colorbar\":{\"outlinewidth\":0,\"ticks\":\"\"}}}],\"scatter3d\":[{\"type\":\"scatter3d\",\"line\":{\"colorbar\":{\"outlinewidth\":0,\"ticks\":\"\"}},\"marker\":{\"colorbar\":{\"outlinewidth\":0,\"ticks\":\"\"}}}],\"scattermapbox\":[{\"type\":\"scattermapbox\",\"marker\":{\"colorbar\":{\"outlinewidth\":0,\"ticks\":\"\"}}}],\"scatterternary\":[{\"type\":\"scatterternary\",\"marker\":{\"colorbar\":{\"outlinewidth\":0,\"ticks\":\"\"}}}],\"scattercarpet\":[{\"type\":\"scattercarpet\",\"marker\":{\"colorbar\":{\"outlinewidth\":0,\"ticks\":\"\"}}}],\"carpet\":[{\"aaxis\":{\"endlinecolor\":\"#2a3f5f\",\"gridcolor\":\"white\",\"linecolor\":\"white\",\"minorgridcolor\":\"white\",\"startlinecolor\":\"#2a3f5f\"},\"baxis\":{\"endlinecolor\":\"#2a3f5f\",\"gridcolor\":\"white\",\"linecolor\":\"white\",\"minorgridcolor\":\"white\",\"startlinecolor\":\"#2a3f5f\"},\"type\":\"carpet\"}],\"table\":[{\"cells\":{\"fill\":{\"color\":\"#EBF0F8\"},\"line\":{\"color\":\"white\"}},\"header\":{\"fill\":{\"color\":\"#C8D4E3\"},\"line\":{\"color\":\"white\"}},\"type\":\"table\"}],\"barpolar\":[{\"marker\":{\"line\":{\"color\":\"#E5ECF6\",\"width\":0.5},\"pattern\":{\"fillmode\":\"overlay\",\"size\":10,\"solidity\":0.2}},\"type\":\"barpolar\"}],\"pie\":[{\"automargin\":true,\"type\":\"pie\"}]},\"layout\":{\"autotypenumbers\":\"strict\",\"colorway\":[\"#636efa\",\"#EF553B\",\"#00cc96\",\"#ab63fa\",\"#FFA15A\",\"#19d3f3\",\"#FF6692\",\"#B6E880\",\"#FF97FF\",\"#FECB52\"],\"font\":{\"color\":\"#2a3f5f\"},\"hovermode\":\"closest\",\"hoverlabel\":{\"align\":\"left\"},\"paper_bgcolor\":\"white\",\"plot_bgcolor\":\"#E5ECF6\",\"polar\":{\"bgcolor\":\"#E5ECF6\",\"angularaxis\":{\"gridcolor\":\"white\",\"linecolor\":\"white\",\"ticks\":\"\"},\"radialaxis\":{\"gridcolor\":\"white\",\"linecolor\":\"white\",\"ticks\":\"\"}},\"ternary\":{\"bgcolor\":\"#E5ECF6\",\"aaxis\":{\"gridcolor\":\"white\",\"linecolor\":\"white\",\"ticks\":\"\"},\"baxis\":{\"gridcolor\":\"white\",\"linecolor\":\"white\",\"ticks\":\"\"},\"caxis\":{\"gridcolor\":\"white\",\"linecolor\":\"white\",\"ticks\":\"\"}},\"coloraxis\":{\"colorbar\":{\"outlinewidth\":0,\"ticks\":\"\"}},\"colorscale\":{\"sequential\":[[0.0,\"#0d0887\"],[0.1111111111111111,\"#46039f\"],[0.2222222222222222,\"#7201a8\"],[0.3333333333333333,\"#9c179e\"],[0.4444444444444444,\"#bd3786\"],[0.5555555555555556,\"#d8576b\"],[0.6666666666666666,\"#ed7953\"],[0.7777777777777778,\"#fb9f3a\"],[0.8888888888888888,\"#fdca26\"],[1.0,\"#f0f921\"]],\"sequentialminus\":[[0.0,\"#0d0887\"],[0.1111111111111111,\"#46039f\"],[0.2222222222222222,\"#7201a8\"],[0.3333333333333333,\"#9c179e\"],[0.4444444444444444,\"#bd3786\"],[0.5555555555555556,\"#d8576b\"],[0.6666666666666666,\"#ed7953\"],[0.7777777777777778,\"#fb9f3a\"],[0.8888888888888888,\"#fdca26\"],[1.0,\"#f0f921\"]],\"diverging\":[[0,\"#8e0152\"],[0.1,\"#c51b7d\"],[0.2,\"#de77ae\"],[0.3,\"#f1b6da\"],[0.4,\"#fde0ef\"],[0.5,\"#f7f7f7\"],[0.6,\"#e6f5d0\"],[0.7,\"#b8e186\"],[0.8,\"#7fbc41\"],[0.9,\"#4d9221\"],[1,\"#276419\"]]},\"xaxis\":{\"gridcolor\":\"white\",\"linecolor\":\"white\",\"ticks\":\"\",\"title\":{\"standoff\":15},\"zerolinecolor\":\"white\",\"automargin\":true,\"zerolinewidth\":2},\"yaxis\":{\"gridcolor\":\"white\",\"linecolor\":\"white\",\"ticks\":\"\",\"title\":{\"standoff\":15},\"zerolinecolor\":\"white\",\"automargin\":true,\"zerolinewidth\":2},\"scene\":{\"xaxis\":{\"backgroundcolor\":\"#E5ECF6\",\"gridcolor\":\"white\",\"linecolor\":\"white\",\"showbackground\":true,\"ticks\":\"\",\"zerolinecolor\":\"white\",\"gridwidth\":2},\"yaxis\":{\"backgroundcolor\":\"#E5ECF6\",\"gridcolor\":\"white\",\"linecolor\":\"white\",\"showbackground\":true,\"ticks\":\"\",\"zerolinecolor\":\"white\",\"gridwidth\":2},\"zaxis\":{\"backgroundcolor\":\"#E5ECF6\",\"gridcolor\":\"white\",\"linecolor\":\"white\",\"showbackground\":true,\"ticks\":\"\",\"zerolinecolor\":\"white\",\"gridwidth\":2}},\"shapedefaults\":{\"line\":{\"color\":\"#2a3f5f\"}},\"annotationdefaults\":{\"arrowcolor\":\"#2a3f5f\",\"arrowhead\":0,\"arrowwidth\":1},\"geo\":{\"bgcolor\":\"white\",\"landcolor\":\"#E5ECF6\",\"subunitcolor\":\"white\",\"showland\":true,\"showlakes\":true,\"lakecolor\":\"white\"},\"title\":{\"x\":0.05},\"mapbox\":{\"style\":\"light\"}}},\"xaxis\":{\"anchor\":\"y\",\"domain\":[0.0,0.7363],\"title\":{\"text\":\"prediction_label\"}},\"yaxis\":{\"anchor\":\"x\",\"domain\":[0.0,1.0],\"title\":{\"text\":\"standardized_residuals\"}},\"xaxis2\":{\"anchor\":\"y2\",\"domain\":[0.7413,1.0],\"matches\":\"x2\",\"showticklabels\":false,\"showline\":false,\"ticks\":\"\",\"showgrid\":true},\"yaxis2\":{\"anchor\":\"x2\",\"domain\":[0.0,1.0],\"matches\":\"y\",\"showticklabels\":false,\"showgrid\":true},\"legend\":{\"title\":{\"text\":\"country_income_class\"},\"tracegroupgap\":0},\"title\":{\"text\":\"Residuals vs. Predictions\"},\"barmode\":\"overlay\"},                        {\"responsive\": true}                    ).then(function(){\n",
       "                            \n",
       "var gd = document.getElementById('69867822-63c0-4788-b68c-a68afe7068cb');\n",
       "var x = new MutationObserver(function (mutations, observer) {{\n",
       "        var display = window.getComputedStyle(gd).display;\n",
       "        if (!display || display === 'none') {{\n",
       "            console.log([gd, 'removed!']);\n",
       "            Plotly.purge(gd);\n",
       "            observer.disconnect();\n",
       "        }}\n",
       "}});\n",
       "\n",
       "// Listen for the removal of the full notebook cells\n",
       "var notebookContainer = gd.closest('#notebook-container');\n",
       "if (notebookContainer) {{\n",
       "    x.observe(notebookContainer, {childList: true});\n",
       "}}\n",
       "\n",
       "// Listen for the clearing of the current output cell\n",
       "var outputEl = gd.closest('.output');\n",
       "if (outputEl) {{\n",
       "    x.observe(outputEl, {childList: true});\n",
       "}}\n",
       "\n",
       "                        })                };                });            </script>        </div>"
      ]
     },
     "metadata": {},
     "output_type": "display_data"
    }
   ],
   "source": [
    "fig = px.scatter(predictions,color = 'country_income_class', x='prediction_label', y='standardized_residuals', \n",
    "                title=\"Residuals vs. Predictions\",marginal_y=\"histogram\")\n",
    "fig.show()"
   ]
  },
  {
   "cell_type": "markdown",
   "id": "d6a71334",
   "metadata": {},
   "source": [
    "#### Residuals Analysis Conclusion\n",
    "\n",
    "For each of the important features plotted above, the residuals were scatter around zero and show no discernable trend that would imply correlated error within my model."
   ]
  },
  {
   "cell_type": "markdown",
   "id": "32276990",
   "metadata": {},
   "source": [
    "### Overfitting Check\n",
    "\n",
    "Due to the size of the dataset used in this analysis, it was likely that overfitting would be an issue. Simply because the lack of data implies that outliers (noise) will have a more pronounced influence on the final model, at least in comparison the the remaining datapoints (signal). Since overfitting is typically associated with high variance and low bias. When you have a small dataset, the model can have high variance as it tries to adjust to every data point, leading to overfitting. As the data size grows, the variance typically reduces since the model can generalize better from larger patterns, and overfitting becomes less of a concern.\n",
    "\n",
    "Within this analysis, I've taken many steps to address overfitting in both the modelling process and the data refinement process. I'll do one final check to illustrate if the model is overfitting or not."
   ]
  },
  {
   "cell_type": "code",
   "execution_count": 27,
   "id": "ad4b19d3",
   "metadata": {},
   "outputs": [
    {
     "name": "stdout",
     "output_type": "stream",
     "text": [
      "MAE: 634.2332101445734\n",
      "RMSE: 969.5677778138903\n",
      "MSE: 940061.6757749654\n",
      "R-squared: 0.8476681273259332\n"
     ]
    }
   ],
   "source": [
    "mae = mean_absolute_error(predictions_user['cost_real_2021'], predictions_user['prediction_label'])\n",
    "rmse = np.sqrt(mean_squared_error(predictions_user['cost_real_2021'], predictions_user['prediction_label']))\n",
    "mse = mean_squared_error(predictions_user['cost_real_2021'], predictions_user['prediction_label'])\n",
    "r2 = r2_score(predictions_user['cost_real_2021'], predictions_user['prediction_label'])\n",
    "\n",
    "print(f\"MAE: {mae}\")\n",
    "print(f\"RMSE: {rmse}\")\n",
    "print(f\"MSE: {mse}\")\n",
    "print(f\"R-squared: {r2}\")"
   ]
  },
  {
   "cell_type": "markdown",
   "id": "4308cece",
   "metadata": {},
   "source": [
    "The above prediction represents the performance of the final model (user_model) that has been trained on all of the data, minus a holdout set called (data_unseen). The predictions are being made for a completely unseen subset of my data. Previously in the model development, I had created 3 subsets of my data: 1) Training data, 2) Test data, and 3) unseen data.\n",
    "\n",
    "The purpose of this is to allow me to see how my model performs on data outside of the test/train set. Having a completely seperated dataset is an excellent control from which I can determine if my model is overfitting or not."
   ]
  },
  {
   "cell_type": "code",
   "execution_count": 28,
   "id": "9c5bd19e",
   "metadata": {},
   "outputs": [
    {
     "data": {
      "image/png": "[encoded data removed]",
      "text/plain": [
       "<PIL.PngImagePlugin.PngImageFile image mode=RGBA size=773x445>"
      ]
     },
     "execution_count": 28,
     "metadata": {},
     "output_type": "execute_result"
    }
   ],
   "source": [
    "image = Image.open(\"images/overfittingcheck.png\")\n",
    "image"
   ]
  },
  {
   "cell_type": "markdown",
   "id": "a4204823",
   "metadata": {},
   "source": [
    "The above image shows that mean evaluation metrics for the user model after it was trained on the training set and then evaluated on the test set. In comparison to the finalized model evaluation metrics, we can confirm that the finalized model is not overfit significantly as the performance on the test set nearly matches the performance on the holdout (unseen) set."
   ]
  }
 ],
 "metadata": {
  "kernelspec": {
   "display_name": "Python 3 (ipykernel)",
   "language": "python",
   "name": "python3"
  },
  "language_info": {
   "codemirror_mode": {
    "name": "ipython",
    "version": 3
   },
   "file_extension": ".py",
   "mimetype": "text/x-python",
   "name": "python",
   "nbconvert_exporter": "python",
   "pygments_lexer": "ipython3",
   "version": "3.9.16"
  }
 },
 "nbformat": 4,
 "nbformat_minor": 5
}
